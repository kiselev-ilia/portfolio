{
 "cells": [
  {
   "cell_type": "markdown",
   "metadata": {},
   "source": [
    "<div style=\"border:solid blue 2px; padding: 20px\">\n",
    "<b>Привет, Илья!👋</b>\n",
    "\n",
    "Меня зовут Арсений, и я буду ревьюером твоего проекта. Если не против, то давай общаться на «ты» :) Но мы легко можем перейти на «вы», если тебе так будет комфортнее. \n",
    "\n",
    "Моя основная цель — помочь тебе стать крутым специалистом, поэтому давай разберем твой проект и попробуем сделать его еще лучше. Ниже ты найдешь мои комментарии - **пожалуйста, не перемещай, не изменяй и не удаляй их**. Я буду использовать цветовую разметку:\n",
    "\n",
    "<div class=\"alert alert-danger\">\n",
    "<b>Комментарий ревьюера ❌:</b> Так выделены самые важные замечания. Без их отработки проект не будет принят. </div>\n",
    "\n",
    "<div class=\"alert alert-warning\">\n",
    "<b>Комментарий ревьюера ⚠️:</b> Так выделены небольшие замечания. Я надеюсь, что их ты тоже учтешь - твой проект от этого станет только лучше. Но исправлять их необязательно. </div>\n",
    "\n",
    "<div class=\"alert alert-success\">\n",
    "<b>Комментарий ревьюера ✔️:</b> Так я выделяю то, что сделано отлично. </div>\n",
    "\n",
    "Давай работать над проектом в диалоге: **если ты что-то меняешь в проекте или отвечаешь на мои комменатри — пиши об этом. Если нужно удалить часть кода или целую ячейку, то лучше просто закомментируй.** Мне будет легче отследить изменения, если ты выделишь свои комментарии:\n",
    "<div class=\"alert alert-info\"> <b>Комментарий студента:</b> Например, вот так. </div>"
   ]
  },
  {
   "cell_type": "markdown",
   "metadata": {},
   "source": [
    "# Рекомендация тарифов"
   ]
  },
  {
   "cell_type": "markdown",
   "metadata": {},
   "source": [
    "В вашем распоряжении данные о поведении клиентов, которые уже перешли на эти тарифы (из проекта курса «Статистический анализ данных»). Нужно построить модель для задачи классификации, которая выберет подходящий тариф. Предобработка данных не понадобится — вы её уже сделали.\n",
    "\n",
    "Постройте модель с максимально большим значением *accuracy*. Чтобы сдать проект успешно, нужно довести долю правильных ответов по крайней мере до 0.75. Проверьте *accuracy* на тестовой выборке самостоятельно."
   ]
  },
  {
   "cell_type": "markdown",
   "metadata": {},
   "source": [
    "<div class=\"alert alert-success\">\n",
    "<b>Комментарий ревьюера ✔️:</b> Хорошее вступление. Сюда еще можно добавить содержание и описание данных. Тогда, например, заказчику или проверяющему будет проще сориентироваться в твоем проекте. </div>"
   ]
  },
  {
   "cell_type": "markdown",
   "metadata": {},
   "source": [
    "## Откройте и изучите файл"
   ]
  },
  {
   "cell_type": "code",
   "execution_count": 80,
   "metadata": {},
   "outputs": [
    {
     "data": {
      "text/html": [
       "<div>\n",
       "<style scoped>\n",
       "    .dataframe tbody tr th:only-of-type {\n",
       "        vertical-align: middle;\n",
       "    }\n",
       "\n",
       "    .dataframe tbody tr th {\n",
       "        vertical-align: top;\n",
       "    }\n",
       "\n",
       "    .dataframe thead th {\n",
       "        text-align: right;\n",
       "    }\n",
       "</style>\n",
       "<table border=\"1\" class=\"dataframe\">\n",
       "  <thead>\n",
       "    <tr style=\"text-align: right;\">\n",
       "      <th></th>\n",
       "      <th>calls</th>\n",
       "      <th>minutes</th>\n",
       "      <th>messages</th>\n",
       "      <th>mb_used</th>\n",
       "      <th>is_ultra</th>\n",
       "    </tr>\n",
       "  </thead>\n",
       "  <tbody>\n",
       "    <tr>\n",
       "      <th>0</th>\n",
       "      <td>40.0</td>\n",
       "      <td>311.90</td>\n",
       "      <td>83.0</td>\n",
       "      <td>19915.42</td>\n",
       "      <td>0</td>\n",
       "    </tr>\n",
       "    <tr>\n",
       "      <th>1</th>\n",
       "      <td>85.0</td>\n",
       "      <td>516.75</td>\n",
       "      <td>56.0</td>\n",
       "      <td>22696.96</td>\n",
       "      <td>0</td>\n",
       "    </tr>\n",
       "    <tr>\n",
       "      <th>2</th>\n",
       "      <td>77.0</td>\n",
       "      <td>467.66</td>\n",
       "      <td>86.0</td>\n",
       "      <td>21060.45</td>\n",
       "      <td>0</td>\n",
       "    </tr>\n",
       "    <tr>\n",
       "      <th>3</th>\n",
       "      <td>106.0</td>\n",
       "      <td>745.53</td>\n",
       "      <td>81.0</td>\n",
       "      <td>8437.39</td>\n",
       "      <td>1</td>\n",
       "    </tr>\n",
       "    <tr>\n",
       "      <th>4</th>\n",
       "      <td>66.0</td>\n",
       "      <td>418.74</td>\n",
       "      <td>1.0</td>\n",
       "      <td>14502.75</td>\n",
       "      <td>0</td>\n",
       "    </tr>\n",
       "  </tbody>\n",
       "</table>\n",
       "</div>"
      ],
      "text/plain": [
       "   calls  minutes  messages   mb_used  is_ultra\n",
       "0   40.0   311.90      83.0  19915.42         0\n",
       "1   85.0   516.75      56.0  22696.96         0\n",
       "2   77.0   467.66      86.0  21060.45         0\n",
       "3  106.0   745.53      81.0   8437.39         1\n",
       "4   66.0   418.74       1.0  14502.75         0"
      ]
     },
     "metadata": {},
     "output_type": "display_data"
    },
    {
     "name": "stdout",
     "output_type": "stream",
     "text": [
      "<class 'pandas.core.frame.DataFrame'>\n",
      "RangeIndex: 3214 entries, 0 to 3213\n",
      "Data columns (total 5 columns):\n",
      " #   Column    Non-Null Count  Dtype  \n",
      "---  ------    --------------  -----  \n",
      " 0   calls     3214 non-null   float64\n",
      " 1   minutes   3214 non-null   float64\n",
      " 2   messages  3214 non-null   float64\n",
      " 3   mb_used   3214 non-null   float64\n",
      " 4   is_ultra  3214 non-null   int64  \n",
      "dtypes: float64(4), int64(1)\n",
      "memory usage: 125.7 KB\n"
     ]
    },
    {
     "data": {
      "text/plain": [
       "calls       0\n",
       "minutes     0\n",
       "messages    0\n",
       "mb_used     0\n",
       "is_ultra    0\n",
       "dtype: int64"
      ]
     },
     "metadata": {},
     "output_type": "display_data"
    }
   ],
   "source": [
    "import pandas as pd\n",
    "from sklearn.ensemble import RandomForestRegressor\n",
    "from sklearn.model_selection import train_test_split\n",
    "from sklearn.metrics import mean_squared_error\n",
    "from sklearn.tree import DecisionTreeClassifier\n",
    "from sklearn.metrics import accuracy_score\n",
    "from sklearn.ensemble import RandomForestClassifier\n",
    "from sklearn.linear_model import LogisticRegression \n",
    "from joblib import dump\n",
    "\n",
    "df = pd.read_csv('/datasets/users_behavior.csv')\n",
    "\n",
    "display(df.head(5))\n",
    "df.info()\n",
    "display(df.isna().sum())"
   ]
  },
  {
   "cell_type": "markdown",
   "metadata": {},
   "source": [
    "<div class=\"alert alert-warning\">\n",
    "<b>Комментарий ревьюера ⚠️:</b> Здорово, что все импорты находятся в одной ячейке, но блок загрузки библиотек лучше размещать в отдельной от остального кода ячейке. Такой подход позволит улучшить читаемость кода, снизит время поиска ошибок (если они есть) и исключит повторное выполнение кода. </div>"
   ]
  },
  {
   "cell_type": "markdown",
   "metadata": {},
   "source": [
    "<div class=\"alert alert-success\">\n",
    "<b>Комментарий ревьюера ✔️:</b> Данные загружены корректно. Есть первичный анализ данных.</div>"
   ]
  },
  {
   "cell_type": "markdown",
   "metadata": {},
   "source": [
    "<div class=\"alert alert-warning\">\n",
    "<b>Комментарий ревьюера ⚠️:</b> Рекомендую после каждого раздела писать промежуточный вывод о полученных результатах. </div>"
   ]
  },
  {
   "cell_type": "markdown",
   "metadata": {},
   "source": [
    "## Разбейте данные на выборки"
   ]
  },
  {
   "cell_type": "code",
   "execution_count": 81,
   "metadata": {},
   "outputs": [],
   "source": [
    "df_train, df_valtest = train_test_split(df, train_size=0.70, random_state=12345) # разделяем данные на обучающую \n",
    "# и валидационную выборки >\n",
    "\n",
    "features = df.drop(['is_ultra'], axis=1)  # создадим признаки\n",
    "target = df['is_ultra']   # целевой показатель\n",
    "\n",
    "features_train = df_train.drop(['is_ultra'], axis=1)  # создадим признаки тренировочные\n",
    "target_train = df_train['is_ultra']  # целевой показатель тренировочный\n",
    "\n",
    "df_test, df_valid = train_test_split(df_valtest, test_size=0.50, random_state=12345)\n",
    "\n",
    "features_valid = df_valid.drop(['is_ultra'], axis=1)  \n",
    "target_valid = df_valid['is_ultra'] \n",
    "\n",
    "features_test = df_test.drop(['is_ultra'], axis=1)  \n",
    "target_test = df_test['is_ultra']"
   ]
  },
  {
   "cell_type": "markdown",
   "metadata": {},
   "source": [
    "<div class=\"alert alert-danger\">\n",
    "<b>Комментарий ревьюера ❌:</b> Данные следует разделять на 3 выборки: обучающую, валидационную и тестовую. Последнюю мы используем как «слепую» для приближения финального тестирования к реальным данным. </div>"
   ]
  },
  {
   "cell_type": "markdown",
   "metadata": {},
   "source": [
    "<div class=\"alert alert-warning\">\n",
    "<b>Комментарий ревьюера v2 ⚠️:</b> Исправлено. Только можно спокойно удалить скрочки\n",
    "\n",
    "    features = df.drop(['is_ultra'], axis=1)  # создадим признаки\n",
    "    target = df['is_ultra']   # целевой показатель\n",
    "\n",
    "</div>"
   ]
  },
  {
   "cell_type": "markdown",
   "metadata": {},
   "source": [
    "## Исследуйте модели"
   ]
  },
  {
   "cell_type": "code",
   "execution_count": 82,
   "metadata": {},
   "outputs": [
    {
     "name": "stdout",
     "output_type": "stream",
     "text": [
      "max_depth = 1 : 0.7412008281573499\n",
      "max_depth = 2 : 0.782608695652174\n",
      "max_depth = 3 : 0.7888198757763976\n",
      "max_depth = 3 : 0.7863070539419087\n"
     ]
    }
   ],
   "source": [
    "for depth in range(1, 4):\n",
    "    model = DecisionTreeClassifier(random_state=12345, max_depth = depth) # обучаем модель с заданной глубиной дерева 4\n",
    "    model.fit(features_train, target_train) # обучаем модель\n",
    "    predictions_valid = model.predict(features_valid) # находим предсказания по выборке\n",
    "    result = accuracy_score(target_valid, predictions_valid) # считаем качество модели\n",
    "    print(\"max_depth =\", depth, \": \", end='')\n",
    "    print(accuracy_score(target_valid, predictions_valid)) \n",
    "    \n",
    "    \n",
    "    model = DecisionTreeClassifier(random_state=12399, max_depth = depth)\n",
    "model.fit(features_train, target_train) # обучаем модель на тренировочной выборке\n",
    "\n",
    "predictions_test = model.predict(features_test) # находим предсказания по выборке\n",
    "result = accuracy_score(target_test, predictions_test) # считаем качество модели\n",
    "print(\"max_depth =\", depth, \": \", end='')\n",
    "print(accuracy_score(target_test, predictions_test))  "
   ]
  },
  {
   "cell_type": "markdown",
   "metadata": {},
   "source": [
    "**Исследуем модель дерево решений.\n",
    "\n",
    "Настраиваем гиперпараметры дерева решений (изначально пробовал считать до 6 но остановился на 4, после 4-х параметр снижается).\n",
    "Наилучшая модель номер три"
   ]
  },
  {
   "cell_type": "markdown",
   "metadata": {},
   "source": [
    "<div class=\"alert alert-warning\">\n",
    "<b>Комментарий ревьюера ⚠️:</b> Чтобы текст отображался жирным шрифтом, нужно перед и после него поставить **, а у тебя практически везде они стоят только в самом начале. </div>"
   ]
  },
  {
   "cell_type": "code",
   "execution_count": 83,
   "metadata": {},
   "outputs": [
    {
     "name": "stdout",
     "output_type": "stream",
     "text": [
      "Accuracy наилучшей модели на валидационной выборке: 0.782608695652174\n"
     ]
    }
   ],
   "source": [
    "best_model = None\n",
    "best_result = 0\n",
    "for est in range(1, 20):\n",
    "    model = RandomForestClassifier(random_state=12345, n_estimators=est) # обучаем модель с заданным количеством деревьев\n",
    "    model.fit(features_train, target_train) # обучаем модель на тренировочной выборке\n",
    "    result = model.score(features_valid, target_valid) # посчитаем качество модели на валидационной выборке\n",
    "    if result > best_result:\n",
    "        best_model = model# сохраняем наилучшую модель\n",
    "        best_result = result#  сохраняем наилучшее значение метрики accuracy на валидационных данных\n",
    "\n",
    "print(\"Accuracy наилучшей модели на валидационной выборке:\", best_result)"
   ]
  },
  {
   "cell_type": "markdown",
   "metadata": {},
   "source": [
    "**Исследуем модель случайный лес.**\n",
    "\n",
    "Используем случайный лес, получаем выборку 0.782\n"
   ]
  },
  {
   "cell_type": "code",
   "execution_count": 84,
   "metadata": {},
   "outputs": [
    {
     "name": "stdout",
     "output_type": "stream",
     "text": [
      "Логистическая регресия 0.7018633540372671\n"
     ]
    }
   ],
   "source": [
    "model = LogisticRegression(random_state=12345, solver='lbfgs', max_iter=1000) \n",
    "model.fit(features_train, target_train) \n",
    "predictions = model.predict(features_valid) \n",
    "model.score(features_valid, target_valid) \n",
    "\n",
    "print('Логистическая регресия', model.score(features_valid, target_valid))"
   ]
  },
  {
   "cell_type": "markdown",
   "metadata": {},
   "source": [
    "<div class=\"alert alert-danger\">\n",
    "<b>Комментарий ревьюера ❌:</b> Обучать модели следует на тренировочной выборке, а предсказывать до финального тестирования - на валидационной. Тут ты обучаешься и делаешь предсказания на всем датасете. Исправь это, пожалуйста.  </div>"
   ]
  },
  {
   "cell_type": "markdown",
   "metadata": {},
   "source": [
    "<div class=\"alert alert-success\">\n",
    "<b>Комментарий ревьюера v2 ✔️:</b> Теперь все так. </div>"
   ]
  },
  {
   "cell_type": "markdown",
   "metadata": {},
   "source": [
    "**Исследуем модель логистическая регрессия.**\n",
    "\n",
    "Логистическая регресия 0.7479775980087119"
   ]
  },
  {
   "cell_type": "markdown",
   "metadata": {},
   "source": [
    "<div class=\"alert alert-warning\">\n",
    "<b>Комментарий ревьюера v2 ⚠️:</b> У нее получится чуть другой скор. </div>"
   ]
  },
  {
   "cell_type": "code",
   "execution_count": 85,
   "metadata": {},
   "outputs": [
    {
     "name": "stdout",
     "output_type": "stream",
     "text": [
      "Дерево решений: 0.7888198757763976\n",
      "Cлучайный лес: 0.782608695652174\n",
      "Логистическая регресия: 0.70130678282514\n"
     ]
    }
   ],
   "source": [
    "print(f\"Дерево решений: {accuracy_score(target_valid, predictions_valid)}\")\n",
    "print(f\"Cлучайный лес: {best_result}\")\n",
    "print(f\"Логистическая регресия: {model.score(features, target)}\") "
   ]
  },
  {
   "cell_type": "markdown",
   "metadata": {},
   "source": [
    "<div class=\"alert alert-warning\">\n",
    "<b>Комментарий ревьюера ⚠️:</b> Намного проще скор для каждой модели сохранить в отдельные перменные, например, tree_accuracy, forest_accuracy, logreg_accuracy. </div>"
   ]
  },
  {
   "cell_type": "markdown",
   "metadata": {},
   "source": [
    "**Вывод**\n",
    "Дерево решений показывает наиболее высокий уровень предсказаний"
   ]
  },
  {
   "cell_type": "markdown",
   "metadata": {},
   "source": [
    "<div class=\"alert alert-success\">\n",
    "<b>Комментарий ревьюера ✔️:</b> Совершенно верно. </div>"
   ]
  },
  {
   "cell_type": "markdown",
   "metadata": {},
   "source": [
    "## Проверьте модель на тестовой выборке"
   ]
  },
  {
   "cell_type": "code",
   "execution_count": 86,
   "metadata": {},
   "outputs": [
    {
     "name": "stdout",
     "output_type": "stream",
     "text": [
      "max_depth = 3 : 0.7863070539419087\n"
     ]
    }
   ],
   "source": [
    "\n",
    "model = DecisionTreeClassifier(random_state=12399, max_depth = depth)\n",
    "model.fit(features_train, target_train) # обучаем модель на тренировочной выборке\n",
    "\n",
    "predictions_test = model.predict(features_test) # находим предсказания по выборке\n",
    "result = accuracy_score(target_test, predictions_test) # считаем качество модели\n",
    "print(\"max_depth =\", depth, \": \", end='')\n",
    "print(accuracy_score(target_test, predictions_test))  "
   ]
  },
  {
   "cell_type": "markdown",
   "metadata": {},
   "source": [
    "**Вывод**\n",
    "\n",
    "На тестовой выборке проверяем модель дерево решений так как у неё был лучший результат, и получаем результат предсказаний  ***0.7863070539419087*** что даже чуть меньше чем на тренировочно валидной выборках.\n",
    "\n",
    "**Меня конечно смущает что пулучились одинаковые значения(**\n",
    "\n",
    "**Исправить тестирование! "
   ]
  },
  {
   "cell_type": "markdown",
   "metadata": {},
   "source": [
    "<div class=\"alert alert-danger\">\n",
    "<b>Комментарий ревьюера ❌:</b> Для тестирования нужно выбрать только ОДНУ модель, которая лучше других показала себя на валидации. И, соответственно, делать предсказания уже на тестовой выборке.</div>"
   ]
  },
  {
   "cell_type": "markdown",
   "metadata": {},
   "source": [
    "<div class=\"alert alert-danger\">\n",
    "<b>Комментарий ревьюера v2 ❌:</b> В тестировании не надо перебирать гиперпараметры, а нужно просто посчитать метрики на тестовой выборке для лучше модели, которые мы отобрали ранее на валидации. В реальности, мы же не можем посмортеть на реальные значения тестовых данных.  </div>"
   ]
  },
  {
   "cell_type": "markdown",
   "metadata": {},
   "source": [
    "<div class=\"alert alert-danger\">\n",
    "<b>Комментарий ревьюера v3 ❌:</b> Процесс обучения никак не должен меняться, то есть обучать лучшую модель стоит на трейне, а не на тесте. Мы ведь не сможем в реальности обучить модель на тестовых данных, о которых не знаем практически ничего.  </div>"
   ]
  },
  {
   "cell_type": "markdown",
   "metadata": {},
   "source": [
    "<div class=\"alert alert-success\">\n",
    "<b>Комментарий ревьюера v4 ✔️:</b> Тестирование выполнено корректно. </div>"
   ]
  },
  {
   "cell_type": "markdown",
   "metadata": {},
   "source": [
    "## (бонус) Проверьте модели на адекватность"
   ]
  },
  {
   "cell_type": "code",
   "execution_count": null,
   "metadata": {},
   "outputs": [],
   "source": []
  },
  {
   "cell_type": "markdown",
   "metadata": {},
   "source": [
    "## Чек-лист готовности проекта"
   ]
  },
  {
   "cell_type": "markdown",
   "metadata": {},
   "source": [
    "Поставьте 'x' в выполненных пунктах. Далее нажмите Shift+Enter."
   ]
  },
  {
   "cell_type": "markdown",
   "metadata": {},
   "source": [
    "- [x] Jupyter Notebook открыт\n",
    "- [ ] Весь код исполняется без ошибок\n",
    "- [ ] Ячейки с кодом расположены в порядке исполнения\n",
    "- [ ] Выполнено задание 1: данные загружены и изучены\n",
    "- [ ] Выполнено задание 2: данные разбиты на три выборки\n",
    "- [ ] Выполнено задание 3: проведено исследование моделей\n",
    "    - [ ] Рассмотрено больше одной модели\n",
    "    - [ ] Рассмотрено хотя бы 3 значения гипепараметров для какой-нибудь модели\n",
    "    - [ ] Написаны выводы по результатам исследования\n",
    "- [ ] Выполнено задание 3: Проведено тестирование\n",
    "- [ ] Удалось достичь accuracy не меньше 0.75\n"
   ]
  },
  {
   "cell_type": "markdown",
   "metadata": {},
   "source": [
    "**Вывод**\n",
    "\n",
    "Доля правильных ответов моделей: \n",
    "    \n",
    "Дерево решений: 0.7888198757763976\n",
    "Cлучайный лес: 0.782608695652174\n",
    "Логистическая регресия: 0.70130678282514\n",
    "    \n",
    "Наиболее адекватные предсказания мы получаеи от модели дерево решений, это видно по точности предсказания на валидационной и на тестовой выборке.   "
   ]
  },
  {
   "cell_type": "markdown",
   "metadata": {},
   "source": [
    "<div class=\"alert alert-danger\">\n",
    "<b>Комментарий ревьюера ❌:</b> Хороший итоговый вывод. Но после всех исправлений результаты могут получиться другими, поэтому не забудь скорректировать все промежуточные и итоговые выводы. Из-за этого и поставил тут красный комментарий) </div>"
   ]
  },
  {
   "cell_type": "markdown",
   "metadata": {},
   "source": [
    "<div class=\"alert alert-success\">\n",
    "<b>Комментарий ревьюера v4 ✔️:</b> Вывод исправлен. </div>"
   ]
  },
  {
   "cell_type": "markdown",
   "metadata": {},
   "source": [
    "<div style=\"border:solid blue 2px; padding: 20px\">\n",
    "<b>Итоговый комментарий ревьюера</b>\n",
    "<div class=\"alert alert-block alert-success\">\n",
    "<b>✔️ Комментарий ревьюера:</b>\n",
    "Мне очень понравилась твоя работа. Спасибо тебе большое, за хорошее оформление проекта.\n",
    "Чувствуется уверенное знание материала и владение питоном в целом. \n",
    "</div>\n",
    "<b>Но нужно кое-что поправить:</b>\n",
    "<div class=\"alert alert-block alert-danger\">\n",
    "<ul>1) Разделить данные на 3 выборки.</ul>\n",
    "<ul>2) Не обучать и не предсказывать на всем датасете.</ul>\n",
    "<ul>3) Исправить тестирование.</ul>\n",
    "<ul>4) Скорректировать выводы после исправлений.</ul>\n",
    "</div>\n",
    "\n",
    "<b>Осталось совсем немного, буду ждать твою работу на повторное ревью 🙂</b></div>"
   ]
  },
  {
   "cell_type": "markdown",
   "metadata": {},
   "source": [
    "<div style=\"border:solid blue 2px; padding: 20px\">\n",
    "<b>Итоговый комментарий ревьюера v2</b>\n",
    "<div class=\"alert alert-block alert-success\">\n",
    "<b>✔️ Комментарий ревьюера:</b>\n",
    "Осталось совсем чуть-чуть. \n",
    "</div>\n",
    "<b>Нужно поправить:</b>\n",
    "<div class=\"alert alert-block alert-danger\">\n",
    "<ul>1) Исправить тестирование.</ul>\n",
    "<ul>2) Скорректировать выводы после исправлений.</ul>\n",
    "</div>"
   ]
  },
  {
   "cell_type": "markdown",
   "metadata": {},
   "source": [
    "<div style=\"border:solid blue 2px; padding: 20px\">\n",
    "<b>Итоговый комментарий ревьюера v3</b>\n",
    "<div class=\"alert alert-block alert-success\">\n",
    "<b>✔️ Комментарий ревьюера:</b>\n",
    "Осталось немного. \n",
    "</div>\n",
    "<b>Нужно поправить:</b>\n",
    "<div class=\"alert alert-block alert-danger\">\n",
    "<ul>1) Модель для тестирования обучать на трейне.</ul>\n",
    "</div>"
   ]
  },
  {
   "cell_type": "markdown",
   "metadata": {},
   "source": [
    "<div style=\"border:solid blue 2px; padding: 20px\">\n",
    "<b>Итоговый комментарий ревьюера v4</b>\n",
    "<div class=\"alert alert-block alert-success\">\n",
    "<b>✔️ Комментарий ревьюера:</b>\n",
    "Все недочеты исправлены. Проект принят, поздравляю🥳\n",
    "</div>\n",
    "\n",
    "<b>Желаю успехов и удачи!</b></div>"
   ]
  },
  {
   "cell_type": "code",
   "execution_count": null,
   "metadata": {},
   "outputs": [],
   "source": []
  },
  {
   "cell_type": "code",
   "execution_count": 87,
   "metadata": {},
   "outputs": [],
   "source": [
    "import pandas as pd\n",
    "import numpy as np\n",
    "import seaborn as sns\n",
    "import matplotlib.pyplot as plt\n",
    "from sklearn.model_selection import train_test_split, cross_val_score\n",
    "from sklearn.tree import DecisionTreeRegressor\n",
    "from sklearn.ensemble import RandomForestRegressor\n",
    "from sklearn.linear_model import LinearRegression\n",
    "from numpy.random import RandomState\n",
    "from sklearn.metrics import make_scorer, mean_absolute_error\n",
    "from sklearn.dummy import DummyRegressor"
   ]
  },
  {
   "cell_type": "code",
   "execution_count": 88,
   "metadata": {},
   "outputs": [],
   "source": [
    "train_df = pd.read_csv('/datasets/gold_recovery_train_new.csv')\n",
    "test_df = pd.read_csv('/datasets/gold_recovery_test_new.csv')\n",
    "full_df = pd.read_csv('/datasets/gold_recovery_full_new.csv')"
   ]
  },
  {
   "cell_type": "code",
   "execution_count": 89,
   "metadata": {},
   "outputs": [
    {
     "data": {
      "text/html": [
       "<div>\n",
       "<style scoped>\n",
       "    .dataframe tbody tr th:only-of-type {\n",
       "        vertical-align: middle;\n",
       "    }\n",
       "\n",
       "    .dataframe tbody tr th {\n",
       "        vertical-align: top;\n",
       "    }\n",
       "\n",
       "    .dataframe thead th {\n",
       "        text-align: right;\n",
       "    }\n",
       "</style>\n",
       "<table border=\"1\" class=\"dataframe\">\n",
       "  <thead>\n",
       "    <tr style=\"text-align: right;\">\n",
       "      <th></th>\n",
       "      <th>date</th>\n",
       "      <th>final.output.concentrate_ag</th>\n",
       "      <th>final.output.concentrate_pb</th>\n",
       "      <th>final.output.concentrate_sol</th>\n",
       "      <th>final.output.concentrate_au</th>\n",
       "      <th>final.output.recovery</th>\n",
       "      <th>final.output.tail_ag</th>\n",
       "      <th>final.output.tail_pb</th>\n",
       "      <th>final.output.tail_sol</th>\n",
       "      <th>final.output.tail_au</th>\n",
       "      <th>...</th>\n",
       "      <th>secondary_cleaner.state.floatbank4_a_air</th>\n",
       "      <th>secondary_cleaner.state.floatbank4_a_level</th>\n",
       "      <th>secondary_cleaner.state.floatbank4_b_air</th>\n",
       "      <th>secondary_cleaner.state.floatbank4_b_level</th>\n",
       "      <th>secondary_cleaner.state.floatbank5_a_air</th>\n",
       "      <th>secondary_cleaner.state.floatbank5_a_level</th>\n",
       "      <th>secondary_cleaner.state.floatbank5_b_air</th>\n",
       "      <th>secondary_cleaner.state.floatbank5_b_level</th>\n",
       "      <th>secondary_cleaner.state.floatbank6_a_air</th>\n",
       "      <th>secondary_cleaner.state.floatbank6_a_level</th>\n",
       "    </tr>\n",
       "  </thead>\n",
       "  <tbody>\n",
       "    <tr>\n",
       "      <th>0</th>\n",
       "      <td>2016-01-15 00:00:00</td>\n",
       "      <td>6.055403</td>\n",
       "      <td>9.889648</td>\n",
       "      <td>5.507324</td>\n",
       "      <td>42.192020</td>\n",
       "      <td>70.541216</td>\n",
       "      <td>10.411962</td>\n",
       "      <td>0.895447</td>\n",
       "      <td>16.904297</td>\n",
       "      <td>2.143149</td>\n",
       "      <td>...</td>\n",
       "      <td>14.016835</td>\n",
       "      <td>-502.488007</td>\n",
       "      <td>12.099931</td>\n",
       "      <td>-504.715942</td>\n",
       "      <td>9.925633</td>\n",
       "      <td>-498.310211</td>\n",
       "      <td>8.079666</td>\n",
       "      <td>-500.470978</td>\n",
       "      <td>14.151341</td>\n",
       "      <td>-605.841980</td>\n",
       "    </tr>\n",
       "    <tr>\n",
       "      <th>1</th>\n",
       "      <td>2016-01-15 01:00:00</td>\n",
       "      <td>6.029369</td>\n",
       "      <td>9.968944</td>\n",
       "      <td>5.257781</td>\n",
       "      <td>42.701629</td>\n",
       "      <td>69.266198</td>\n",
       "      <td>10.462676</td>\n",
       "      <td>0.927452</td>\n",
       "      <td>16.634514</td>\n",
       "      <td>2.224930</td>\n",
       "      <td>...</td>\n",
       "      <td>13.992281</td>\n",
       "      <td>-505.503262</td>\n",
       "      <td>11.950531</td>\n",
       "      <td>-501.331529</td>\n",
       "      <td>10.039245</td>\n",
       "      <td>-500.169983</td>\n",
       "      <td>7.984757</td>\n",
       "      <td>-500.582168</td>\n",
       "      <td>13.998353</td>\n",
       "      <td>-599.787184</td>\n",
       "    </tr>\n",
       "    <tr>\n",
       "      <th>2</th>\n",
       "      <td>2016-01-15 02:00:00</td>\n",
       "      <td>6.055926</td>\n",
       "      <td>10.213995</td>\n",
       "      <td>5.383759</td>\n",
       "      <td>42.657501</td>\n",
       "      <td>68.116445</td>\n",
       "      <td>10.507046</td>\n",
       "      <td>0.953716</td>\n",
       "      <td>16.208849</td>\n",
       "      <td>2.257889</td>\n",
       "      <td>...</td>\n",
       "      <td>14.015015</td>\n",
       "      <td>-502.520901</td>\n",
       "      <td>11.912783</td>\n",
       "      <td>-501.133383</td>\n",
       "      <td>10.070913</td>\n",
       "      <td>-500.129135</td>\n",
       "      <td>8.013877</td>\n",
       "      <td>-500.517572</td>\n",
       "      <td>14.028663</td>\n",
       "      <td>-601.427363</td>\n",
       "    </tr>\n",
       "    <tr>\n",
       "      <th>3</th>\n",
       "      <td>2016-01-15 03:00:00</td>\n",
       "      <td>6.047977</td>\n",
       "      <td>9.977019</td>\n",
       "      <td>4.858634</td>\n",
       "      <td>42.689819</td>\n",
       "      <td>68.347543</td>\n",
       "      <td>10.422762</td>\n",
       "      <td>0.883763</td>\n",
       "      <td>16.532835</td>\n",
       "      <td>2.146849</td>\n",
       "      <td>...</td>\n",
       "      <td>14.036510</td>\n",
       "      <td>-500.857308</td>\n",
       "      <td>11.999550</td>\n",
       "      <td>-501.193686</td>\n",
       "      <td>9.970366</td>\n",
       "      <td>-499.201640</td>\n",
       "      <td>7.977324</td>\n",
       "      <td>-500.255908</td>\n",
       "      <td>14.005551</td>\n",
       "      <td>-599.996129</td>\n",
       "    </tr>\n",
       "    <tr>\n",
       "      <th>4</th>\n",
       "      <td>2016-01-15 04:00:00</td>\n",
       "      <td>6.148599</td>\n",
       "      <td>10.142511</td>\n",
       "      <td>4.939416</td>\n",
       "      <td>42.774141</td>\n",
       "      <td>66.927016</td>\n",
       "      <td>10.360302</td>\n",
       "      <td>0.792826</td>\n",
       "      <td>16.525686</td>\n",
       "      <td>2.055292</td>\n",
       "      <td>...</td>\n",
       "      <td>14.027298</td>\n",
       "      <td>-499.838632</td>\n",
       "      <td>11.953070</td>\n",
       "      <td>-501.053894</td>\n",
       "      <td>9.925709</td>\n",
       "      <td>-501.686727</td>\n",
       "      <td>7.894242</td>\n",
       "      <td>-500.356035</td>\n",
       "      <td>13.996647</td>\n",
       "      <td>-601.496691</td>\n",
       "    </tr>\n",
       "  </tbody>\n",
       "</table>\n",
       "<p>5 rows × 87 columns</p>\n",
       "</div>"
      ],
      "text/plain": [
       "                  date  final.output.concentrate_ag  \\\n",
       "0  2016-01-15 00:00:00                     6.055403   \n",
       "1  2016-01-15 01:00:00                     6.029369   \n",
       "2  2016-01-15 02:00:00                     6.055926   \n",
       "3  2016-01-15 03:00:00                     6.047977   \n",
       "4  2016-01-15 04:00:00                     6.148599   \n",
       "\n",
       "   final.output.concentrate_pb  final.output.concentrate_sol  \\\n",
       "0                     9.889648                      5.507324   \n",
       "1                     9.968944                      5.257781   \n",
       "2                    10.213995                      5.383759   \n",
       "3                     9.977019                      4.858634   \n",
       "4                    10.142511                      4.939416   \n",
       "\n",
       "   final.output.concentrate_au  final.output.recovery  final.output.tail_ag  \\\n",
       "0                    42.192020              70.541216             10.411962   \n",
       "1                    42.701629              69.266198             10.462676   \n",
       "2                    42.657501              68.116445             10.507046   \n",
       "3                    42.689819              68.347543             10.422762   \n",
       "4                    42.774141              66.927016             10.360302   \n",
       "\n",
       "   final.output.tail_pb  final.output.tail_sol  final.output.tail_au  ...  \\\n",
       "0              0.895447              16.904297              2.143149  ...   \n",
       "1              0.927452              16.634514              2.224930  ...   \n",
       "2              0.953716              16.208849              2.257889  ...   \n",
       "3              0.883763              16.532835              2.146849  ...   \n",
       "4              0.792826              16.525686              2.055292  ...   \n",
       "\n",
       "   secondary_cleaner.state.floatbank4_a_air  \\\n",
       "0                                 14.016835   \n",
       "1                                 13.992281   \n",
       "2                                 14.015015   \n",
       "3                                 14.036510   \n",
       "4                                 14.027298   \n",
       "\n",
       "   secondary_cleaner.state.floatbank4_a_level  \\\n",
       "0                                 -502.488007   \n",
       "1                                 -505.503262   \n",
       "2                                 -502.520901   \n",
       "3                                 -500.857308   \n",
       "4                                 -499.838632   \n",
       "\n",
       "   secondary_cleaner.state.floatbank4_b_air  \\\n",
       "0                                 12.099931   \n",
       "1                                 11.950531   \n",
       "2                                 11.912783   \n",
       "3                                 11.999550   \n",
       "4                                 11.953070   \n",
       "\n",
       "   secondary_cleaner.state.floatbank4_b_level  \\\n",
       "0                                 -504.715942   \n",
       "1                                 -501.331529   \n",
       "2                                 -501.133383   \n",
       "3                                 -501.193686   \n",
       "4                                 -501.053894   \n",
       "\n",
       "   secondary_cleaner.state.floatbank5_a_air  \\\n",
       "0                                  9.925633   \n",
       "1                                 10.039245   \n",
       "2                                 10.070913   \n",
       "3                                  9.970366   \n",
       "4                                  9.925709   \n",
       "\n",
       "   secondary_cleaner.state.floatbank5_a_level  \\\n",
       "0                                 -498.310211   \n",
       "1                                 -500.169983   \n",
       "2                                 -500.129135   \n",
       "3                                 -499.201640   \n",
       "4                                 -501.686727   \n",
       "\n",
       "   secondary_cleaner.state.floatbank5_b_air  \\\n",
       "0                                  8.079666   \n",
       "1                                  7.984757   \n",
       "2                                  8.013877   \n",
       "3                                  7.977324   \n",
       "4                                  7.894242   \n",
       "\n",
       "   secondary_cleaner.state.floatbank5_b_level  \\\n",
       "0                                 -500.470978   \n",
       "1                                 -500.582168   \n",
       "2                                 -500.517572   \n",
       "3                                 -500.255908   \n",
       "4                                 -500.356035   \n",
       "\n",
       "   secondary_cleaner.state.floatbank6_a_air  \\\n",
       "0                                 14.151341   \n",
       "1                                 13.998353   \n",
       "2                                 14.028663   \n",
       "3                                 14.005551   \n",
       "4                                 13.996647   \n",
       "\n",
       "   secondary_cleaner.state.floatbank6_a_level  \n",
       "0                                 -605.841980  \n",
       "1                                 -599.787184  \n",
       "2                                 -601.427363  \n",
       "3                                 -599.996129  \n",
       "4                                 -601.496691  \n",
       "\n",
       "[5 rows x 87 columns]"
      ]
     },
     "execution_count": 89,
     "metadata": {},
     "output_type": "execute_result"
    }
   ],
   "source": [
    "train_df.head()"
   ]
  },
  {
   "cell_type": "code",
   "execution_count": 90,
   "metadata": {},
   "outputs": [
    {
     "name": "stdout",
     "output_type": "stream",
     "text": [
      "<class 'pandas.core.frame.DataFrame'>\n",
      "RangeIndex: 14149 entries, 0 to 14148\n",
      "Data columns (total 87 columns):\n",
      " #   Column                                              Non-Null Count  Dtype  \n",
      "---  ------                                              --------------  -----  \n",
      " 0   date                                                14149 non-null  object \n",
      " 1   final.output.concentrate_ag                         14148 non-null  float64\n",
      " 2   final.output.concentrate_pb                         14148 non-null  float64\n",
      " 3   final.output.concentrate_sol                        13938 non-null  float64\n",
      " 4   final.output.concentrate_au                         14149 non-null  float64\n",
      " 5   final.output.recovery                               14149 non-null  float64\n",
      " 6   final.output.tail_ag                                14149 non-null  float64\n",
      " 7   final.output.tail_pb                                14049 non-null  float64\n",
      " 8   final.output.tail_sol                               14144 non-null  float64\n",
      " 9   final.output.tail_au                                14149 non-null  float64\n",
      " 10  primary_cleaner.input.sulfate                       14129 non-null  float64\n",
      " 11  primary_cleaner.input.depressant                    14117 non-null  float64\n",
      " 12  primary_cleaner.input.feed_size                     14149 non-null  float64\n",
      " 13  primary_cleaner.input.xanthate                      14049 non-null  float64\n",
      " 14  primary_cleaner.output.concentrate_ag               14149 non-null  float64\n",
      " 15  primary_cleaner.output.concentrate_pb               14063 non-null  float64\n",
      " 16  primary_cleaner.output.concentrate_sol              13863 non-null  float64\n",
      " 17  primary_cleaner.output.concentrate_au               14149 non-null  float64\n",
      " 18  primary_cleaner.output.tail_ag                      14148 non-null  float64\n",
      " 19  primary_cleaner.output.tail_pb                      14134 non-null  float64\n",
      " 20  primary_cleaner.output.tail_sol                     14103 non-null  float64\n",
      " 21  primary_cleaner.output.tail_au                      14149 non-null  float64\n",
      " 22  primary_cleaner.state.floatbank8_a_air              14145 non-null  float64\n",
      " 23  primary_cleaner.state.floatbank8_a_level            14148 non-null  float64\n",
      " 24  primary_cleaner.state.floatbank8_b_air              14145 non-null  float64\n",
      " 25  primary_cleaner.state.floatbank8_b_level            14148 non-null  float64\n",
      " 26  primary_cleaner.state.floatbank8_c_air              14147 non-null  float64\n",
      " 27  primary_cleaner.state.floatbank8_c_level            14148 non-null  float64\n",
      " 28  primary_cleaner.state.floatbank8_d_air              14146 non-null  float64\n",
      " 29  primary_cleaner.state.floatbank8_d_level            14148 non-null  float64\n",
      " 30  rougher.calculation.sulfate_to_au_concentrate       14148 non-null  float64\n",
      " 31  rougher.calculation.floatbank10_sulfate_to_au_feed  14148 non-null  float64\n",
      " 32  rougher.calculation.floatbank11_sulfate_to_au_feed  14148 non-null  float64\n",
      " 33  rougher.calculation.au_pb_ratio                     14149 non-null  float64\n",
      " 34  rougher.input.feed_ag                               14149 non-null  float64\n",
      " 35  rougher.input.feed_pb                               14049 non-null  float64\n",
      " 36  rougher.input.feed_rate                             14141 non-null  float64\n",
      " 37  rougher.input.feed_size                             14005 non-null  float64\n",
      " 38  rougher.input.feed_sol                              14071 non-null  float64\n",
      " 39  rougher.input.feed_au                               14149 non-null  float64\n",
      " 40  rougher.input.floatbank10_sulfate                   14120 non-null  float64\n",
      " 41  rougher.input.floatbank10_xanthate                  14141 non-null  float64\n",
      " 42  rougher.input.floatbank11_sulfate                   14113 non-null  float64\n",
      " 43  rougher.input.floatbank11_xanthate                  13721 non-null  float64\n",
      " 44  rougher.output.concentrate_ag                       14149 non-null  float64\n",
      " 45  rougher.output.concentrate_pb                       14149 non-null  float64\n",
      " 46  rougher.output.concentrate_sol                      14127 non-null  float64\n",
      " 47  rougher.output.concentrate_au                       14149 non-null  float64\n",
      " 48  rougher.output.recovery                             14149 non-null  float64\n",
      " 49  rougher.output.tail_ag                              14148 non-null  float64\n",
      " 50  rougher.output.tail_pb                              14149 non-null  float64\n",
      " 51  rougher.output.tail_sol                             14149 non-null  float64\n",
      " 52  rougher.output.tail_au                              14149 non-null  float64\n",
      " 53  rougher.state.floatbank10_a_air                     14148 non-null  float64\n",
      " 54  rougher.state.floatbank10_a_level                   14148 non-null  float64\n",
      " 55  rougher.state.floatbank10_b_air                     14148 non-null  float64\n",
      " 56  rougher.state.floatbank10_b_level                   14148 non-null  float64\n",
      " 57  rougher.state.floatbank10_c_air                     14148 non-null  float64\n",
      " 58  rougher.state.floatbank10_c_level                   14148 non-null  float64\n",
      " 59  rougher.state.floatbank10_d_air                     14149 non-null  float64\n",
      " 60  rougher.state.floatbank10_d_level                   14149 non-null  float64\n",
      " 61  rougher.state.floatbank10_e_air                     13713 non-null  float64\n",
      " 62  rougher.state.floatbank10_e_level                   14149 non-null  float64\n",
      " 63  rougher.state.floatbank10_f_air                     14149 non-null  float64\n",
      " 64  rougher.state.floatbank10_f_level                   14149 non-null  float64\n",
      " 65  secondary_cleaner.output.tail_ag                    14147 non-null  float64\n",
      " 66  secondary_cleaner.output.tail_pb                    14139 non-null  float64\n",
      " 67  secondary_cleaner.output.tail_sol                   12544 non-null  float64\n",
      " 68  secondary_cleaner.output.tail_au                    14149 non-null  float64\n",
      " 69  secondary_cleaner.state.floatbank2_a_air            13932 non-null  float64\n",
      " 70  secondary_cleaner.state.floatbank2_a_level          14148 non-null  float64\n",
      " 71  secondary_cleaner.state.floatbank2_b_air            14128 non-null  float64\n",
      " 72  secondary_cleaner.state.floatbank2_b_level          14148 non-null  float64\n",
      " 73  secondary_cleaner.state.floatbank3_a_air            14145 non-null  float64\n",
      " 74  secondary_cleaner.state.floatbank3_a_level          14148 non-null  float64\n",
      " 75  secondary_cleaner.state.floatbank3_b_air            14148 non-null  float64\n",
      " 76  secondary_cleaner.state.floatbank3_b_level          14148 non-null  float64\n",
      " 77  secondary_cleaner.state.floatbank4_a_air            14143 non-null  float64\n",
      " 78  secondary_cleaner.state.floatbank4_a_level          14148 non-null  float64\n",
      " 79  secondary_cleaner.state.floatbank4_b_air            14148 non-null  float64\n",
      " 80  secondary_cleaner.state.floatbank4_b_level          14148 non-null  float64\n",
      " 81  secondary_cleaner.state.floatbank5_a_air            14148 non-null  float64\n",
      " 82  secondary_cleaner.state.floatbank5_a_level          14148 non-null  float64\n",
      " 83  secondary_cleaner.state.floatbank5_b_air            14148 non-null  float64\n",
      " 84  secondary_cleaner.state.floatbank5_b_level          14148 non-null  float64\n",
      " 85  secondary_cleaner.state.floatbank6_a_air            14147 non-null  float64\n",
      " 86  secondary_cleaner.state.floatbank6_a_level          14148 non-null  float64\n",
      "dtypes: float64(86), object(1)\n",
      "memory usage: 9.4+ MB\n"
     ]
    }
   ],
   "source": [
    "train_df.info()"
   ]
  },
  {
   "cell_type": "code",
   "execution_count": 91,
   "metadata": {},
   "outputs": [
    {
     "data": {
      "text/html": [
       "<div>\n",
       "<style scoped>\n",
       "    .dataframe tbody tr th:only-of-type {\n",
       "        vertical-align: middle;\n",
       "    }\n",
       "\n",
       "    .dataframe tbody tr th {\n",
       "        vertical-align: top;\n",
       "    }\n",
       "\n",
       "    .dataframe thead th {\n",
       "        text-align: right;\n",
       "    }\n",
       "</style>\n",
       "<table border=\"1\" class=\"dataframe\">\n",
       "  <thead>\n",
       "    <tr style=\"text-align: right;\">\n",
       "      <th></th>\n",
       "      <th>date</th>\n",
       "      <th>primary_cleaner.input.sulfate</th>\n",
       "      <th>primary_cleaner.input.depressant</th>\n",
       "      <th>primary_cleaner.input.feed_size</th>\n",
       "      <th>primary_cleaner.input.xanthate</th>\n",
       "      <th>primary_cleaner.state.floatbank8_a_air</th>\n",
       "      <th>primary_cleaner.state.floatbank8_a_level</th>\n",
       "      <th>primary_cleaner.state.floatbank8_b_air</th>\n",
       "      <th>primary_cleaner.state.floatbank8_b_level</th>\n",
       "      <th>primary_cleaner.state.floatbank8_c_air</th>\n",
       "      <th>...</th>\n",
       "      <th>secondary_cleaner.state.floatbank4_a_air</th>\n",
       "      <th>secondary_cleaner.state.floatbank4_a_level</th>\n",
       "      <th>secondary_cleaner.state.floatbank4_b_air</th>\n",
       "      <th>secondary_cleaner.state.floatbank4_b_level</th>\n",
       "      <th>secondary_cleaner.state.floatbank5_a_air</th>\n",
       "      <th>secondary_cleaner.state.floatbank5_a_level</th>\n",
       "      <th>secondary_cleaner.state.floatbank5_b_air</th>\n",
       "      <th>secondary_cleaner.state.floatbank5_b_level</th>\n",
       "      <th>secondary_cleaner.state.floatbank6_a_air</th>\n",
       "      <th>secondary_cleaner.state.floatbank6_a_level</th>\n",
       "    </tr>\n",
       "  </thead>\n",
       "  <tbody>\n",
       "    <tr>\n",
       "      <th>0</th>\n",
       "      <td>2016-09-01 00:59:59</td>\n",
       "      <td>210.800909</td>\n",
       "      <td>14.993118</td>\n",
       "      <td>8.080000</td>\n",
       "      <td>1.005021</td>\n",
       "      <td>1398.981301</td>\n",
       "      <td>-500.225577</td>\n",
       "      <td>1399.144926</td>\n",
       "      <td>-499.919735</td>\n",
       "      <td>1400.102998</td>\n",
       "      <td>...</td>\n",
       "      <td>12.023554</td>\n",
       "      <td>-497.795834</td>\n",
       "      <td>8.016656</td>\n",
       "      <td>-501.289139</td>\n",
       "      <td>7.946562</td>\n",
       "      <td>-432.317850</td>\n",
       "      <td>4.872511</td>\n",
       "      <td>-500.037437</td>\n",
       "      <td>26.705889</td>\n",
       "      <td>-499.709414</td>\n",
       "    </tr>\n",
       "    <tr>\n",
       "      <th>1</th>\n",
       "      <td>2016-09-01 01:59:59</td>\n",
       "      <td>215.392455</td>\n",
       "      <td>14.987471</td>\n",
       "      <td>8.080000</td>\n",
       "      <td>0.990469</td>\n",
       "      <td>1398.777912</td>\n",
       "      <td>-500.057435</td>\n",
       "      <td>1398.055362</td>\n",
       "      <td>-499.778182</td>\n",
       "      <td>1396.151033</td>\n",
       "      <td>...</td>\n",
       "      <td>12.058140</td>\n",
       "      <td>-498.695773</td>\n",
       "      <td>8.130979</td>\n",
       "      <td>-499.634209</td>\n",
       "      <td>7.958270</td>\n",
       "      <td>-525.839648</td>\n",
       "      <td>4.878850</td>\n",
       "      <td>-500.162375</td>\n",
       "      <td>25.019940</td>\n",
       "      <td>-499.819438</td>\n",
       "    </tr>\n",
       "    <tr>\n",
       "      <th>2</th>\n",
       "      <td>2016-09-01 02:59:59</td>\n",
       "      <td>215.259946</td>\n",
       "      <td>12.884934</td>\n",
       "      <td>7.786667</td>\n",
       "      <td>0.996043</td>\n",
       "      <td>1398.493666</td>\n",
       "      <td>-500.868360</td>\n",
       "      <td>1398.860436</td>\n",
       "      <td>-499.764529</td>\n",
       "      <td>1398.075709</td>\n",
       "      <td>...</td>\n",
       "      <td>11.962366</td>\n",
       "      <td>-498.767484</td>\n",
       "      <td>8.096893</td>\n",
       "      <td>-500.827423</td>\n",
       "      <td>8.071056</td>\n",
       "      <td>-500.801673</td>\n",
       "      <td>4.905125</td>\n",
       "      <td>-499.828510</td>\n",
       "      <td>24.994862</td>\n",
       "      <td>-500.622559</td>\n",
       "    </tr>\n",
       "    <tr>\n",
       "      <th>3</th>\n",
       "      <td>2016-09-01 03:59:59</td>\n",
       "      <td>215.336236</td>\n",
       "      <td>12.006805</td>\n",
       "      <td>7.640000</td>\n",
       "      <td>0.863514</td>\n",
       "      <td>1399.618111</td>\n",
       "      <td>-498.863574</td>\n",
       "      <td>1397.440120</td>\n",
       "      <td>-499.211024</td>\n",
       "      <td>1400.129303</td>\n",
       "      <td>...</td>\n",
       "      <td>12.033091</td>\n",
       "      <td>-498.350935</td>\n",
       "      <td>8.074946</td>\n",
       "      <td>-499.474407</td>\n",
       "      <td>7.897085</td>\n",
       "      <td>-500.868509</td>\n",
       "      <td>4.931400</td>\n",
       "      <td>-499.963623</td>\n",
       "      <td>24.948919</td>\n",
       "      <td>-498.709987</td>\n",
       "    </tr>\n",
       "    <tr>\n",
       "      <th>4</th>\n",
       "      <td>2016-09-01 04:59:59</td>\n",
       "      <td>199.099327</td>\n",
       "      <td>10.682530</td>\n",
       "      <td>7.530000</td>\n",
       "      <td>0.805575</td>\n",
       "      <td>1401.268123</td>\n",
       "      <td>-500.808305</td>\n",
       "      <td>1398.128818</td>\n",
       "      <td>-499.504543</td>\n",
       "      <td>1402.172226</td>\n",
       "      <td>...</td>\n",
       "      <td>12.025367</td>\n",
       "      <td>-500.786497</td>\n",
       "      <td>8.054678</td>\n",
       "      <td>-500.397500</td>\n",
       "      <td>8.107890</td>\n",
       "      <td>-509.526725</td>\n",
       "      <td>4.957674</td>\n",
       "      <td>-500.360026</td>\n",
       "      <td>25.003331</td>\n",
       "      <td>-500.856333</td>\n",
       "    </tr>\n",
       "  </tbody>\n",
       "</table>\n",
       "<p>5 rows × 53 columns</p>\n",
       "</div>"
      ],
      "text/plain": [
       "                  date  primary_cleaner.input.sulfate  \\\n",
       "0  2016-09-01 00:59:59                     210.800909   \n",
       "1  2016-09-01 01:59:59                     215.392455   \n",
       "2  2016-09-01 02:59:59                     215.259946   \n",
       "3  2016-09-01 03:59:59                     215.336236   \n",
       "4  2016-09-01 04:59:59                     199.099327   \n",
       "\n",
       "   primary_cleaner.input.depressant  primary_cleaner.input.feed_size  \\\n",
       "0                         14.993118                         8.080000   \n",
       "1                         14.987471                         8.080000   \n",
       "2                         12.884934                         7.786667   \n",
       "3                         12.006805                         7.640000   \n",
       "4                         10.682530                         7.530000   \n",
       "\n",
       "   primary_cleaner.input.xanthate  primary_cleaner.state.floatbank8_a_air  \\\n",
       "0                        1.005021                             1398.981301   \n",
       "1                        0.990469                             1398.777912   \n",
       "2                        0.996043                             1398.493666   \n",
       "3                        0.863514                             1399.618111   \n",
       "4                        0.805575                             1401.268123   \n",
       "\n",
       "   primary_cleaner.state.floatbank8_a_level  \\\n",
       "0                               -500.225577   \n",
       "1                               -500.057435   \n",
       "2                               -500.868360   \n",
       "3                               -498.863574   \n",
       "4                               -500.808305   \n",
       "\n",
       "   primary_cleaner.state.floatbank8_b_air  \\\n",
       "0                             1399.144926   \n",
       "1                             1398.055362   \n",
       "2                             1398.860436   \n",
       "3                             1397.440120   \n",
       "4                             1398.128818   \n",
       "\n",
       "   primary_cleaner.state.floatbank8_b_level  \\\n",
       "0                               -499.919735   \n",
       "1                               -499.778182   \n",
       "2                               -499.764529   \n",
       "3                               -499.211024   \n",
       "4                               -499.504543   \n",
       "\n",
       "   primary_cleaner.state.floatbank8_c_air  ...  \\\n",
       "0                             1400.102998  ...   \n",
       "1                             1396.151033  ...   \n",
       "2                             1398.075709  ...   \n",
       "3                             1400.129303  ...   \n",
       "4                             1402.172226  ...   \n",
       "\n",
       "   secondary_cleaner.state.floatbank4_a_air  \\\n",
       "0                                 12.023554   \n",
       "1                                 12.058140   \n",
       "2                                 11.962366   \n",
       "3                                 12.033091   \n",
       "4                                 12.025367   \n",
       "\n",
       "   secondary_cleaner.state.floatbank4_a_level  \\\n",
       "0                                 -497.795834   \n",
       "1                                 -498.695773   \n",
       "2                                 -498.767484   \n",
       "3                                 -498.350935   \n",
       "4                                 -500.786497   \n",
       "\n",
       "   secondary_cleaner.state.floatbank4_b_air  \\\n",
       "0                                  8.016656   \n",
       "1                                  8.130979   \n",
       "2                                  8.096893   \n",
       "3                                  8.074946   \n",
       "4                                  8.054678   \n",
       "\n",
       "   secondary_cleaner.state.floatbank4_b_level  \\\n",
       "0                                 -501.289139   \n",
       "1                                 -499.634209   \n",
       "2                                 -500.827423   \n",
       "3                                 -499.474407   \n",
       "4                                 -500.397500   \n",
       "\n",
       "   secondary_cleaner.state.floatbank5_a_air  \\\n",
       "0                                  7.946562   \n",
       "1                                  7.958270   \n",
       "2                                  8.071056   \n",
       "3                                  7.897085   \n",
       "4                                  8.107890   \n",
       "\n",
       "   secondary_cleaner.state.floatbank5_a_level  \\\n",
       "0                                 -432.317850   \n",
       "1                                 -525.839648   \n",
       "2                                 -500.801673   \n",
       "3                                 -500.868509   \n",
       "4                                 -509.526725   \n",
       "\n",
       "   secondary_cleaner.state.floatbank5_b_air  \\\n",
       "0                                  4.872511   \n",
       "1                                  4.878850   \n",
       "2                                  4.905125   \n",
       "3                                  4.931400   \n",
       "4                                  4.957674   \n",
       "\n",
       "   secondary_cleaner.state.floatbank5_b_level  \\\n",
       "0                                 -500.037437   \n",
       "1                                 -500.162375   \n",
       "2                                 -499.828510   \n",
       "3                                 -499.963623   \n",
       "4                                 -500.360026   \n",
       "\n",
       "   secondary_cleaner.state.floatbank6_a_air  \\\n",
       "0                                 26.705889   \n",
       "1                                 25.019940   \n",
       "2                                 24.994862   \n",
       "3                                 24.948919   \n",
       "4                                 25.003331   \n",
       "\n",
       "   secondary_cleaner.state.floatbank6_a_level  \n",
       "0                                 -499.709414  \n",
       "1                                 -499.819438  \n",
       "2                                 -500.622559  \n",
       "3                                 -498.709987  \n",
       "4                                 -500.856333  \n",
       "\n",
       "[5 rows x 53 columns]"
      ]
     },
     "execution_count": 91,
     "metadata": {},
     "output_type": "execute_result"
    }
   ],
   "source": [
    "test_df.head()"
   ]
  },
  {
   "cell_type": "code",
   "execution_count": 92,
   "metadata": {},
   "outputs": [
    {
     "name": "stdout",
     "output_type": "stream",
     "text": [
      "<class 'pandas.core.frame.DataFrame'>\n",
      "RangeIndex: 5290 entries, 0 to 5289\n",
      "Data columns (total 53 columns):\n",
      " #   Column                                      Non-Null Count  Dtype  \n",
      "---  ------                                      --------------  -----  \n",
      " 0   date                                        5290 non-null   object \n",
      " 1   primary_cleaner.input.sulfate               5286 non-null   float64\n",
      " 2   primary_cleaner.input.depressant            5285 non-null   float64\n",
      " 3   primary_cleaner.input.feed_size             5290 non-null   float64\n",
      " 4   primary_cleaner.input.xanthate              5286 non-null   float64\n",
      " 5   primary_cleaner.state.floatbank8_a_air      5290 non-null   float64\n",
      " 6   primary_cleaner.state.floatbank8_a_level    5290 non-null   float64\n",
      " 7   primary_cleaner.state.floatbank8_b_air      5290 non-null   float64\n",
      " 8   primary_cleaner.state.floatbank8_b_level    5290 non-null   float64\n",
      " 9   primary_cleaner.state.floatbank8_c_air      5290 non-null   float64\n",
      " 10  primary_cleaner.state.floatbank8_c_level    5290 non-null   float64\n",
      " 11  primary_cleaner.state.floatbank8_d_air      5290 non-null   float64\n",
      " 12  primary_cleaner.state.floatbank8_d_level    5290 non-null   float64\n",
      " 13  rougher.input.feed_ag                       5290 non-null   float64\n",
      " 14  rougher.input.feed_pb                       5290 non-null   float64\n",
      " 15  rougher.input.feed_rate                     5287 non-null   float64\n",
      " 16  rougher.input.feed_size                     5289 non-null   float64\n",
      " 17  rougher.input.feed_sol                      5269 non-null   float64\n",
      " 18  rougher.input.feed_au                       5290 non-null   float64\n",
      " 19  rougher.input.floatbank10_sulfate           5285 non-null   float64\n",
      " 20  rougher.input.floatbank10_xanthate          5290 non-null   float64\n",
      " 21  rougher.input.floatbank11_sulfate           5282 non-null   float64\n",
      " 22  rougher.input.floatbank11_xanthate          5265 non-null   float64\n",
      " 23  rougher.state.floatbank10_a_air             5290 non-null   float64\n",
      " 24  rougher.state.floatbank10_a_level           5290 non-null   float64\n",
      " 25  rougher.state.floatbank10_b_air             5290 non-null   float64\n",
      " 26  rougher.state.floatbank10_b_level           5290 non-null   float64\n",
      " 27  rougher.state.floatbank10_c_air             5290 non-null   float64\n",
      " 28  rougher.state.floatbank10_c_level           5290 non-null   float64\n",
      " 29  rougher.state.floatbank10_d_air             5290 non-null   float64\n",
      " 30  rougher.state.floatbank10_d_level           5290 non-null   float64\n",
      " 31  rougher.state.floatbank10_e_air             5290 non-null   float64\n",
      " 32  rougher.state.floatbank10_e_level           5290 non-null   float64\n",
      " 33  rougher.state.floatbank10_f_air             5290 non-null   float64\n",
      " 34  rougher.state.floatbank10_f_level           5290 non-null   float64\n",
      " 35  secondary_cleaner.state.floatbank2_a_air    5287 non-null   float64\n",
      " 36  secondary_cleaner.state.floatbank2_a_level  5290 non-null   float64\n",
      " 37  secondary_cleaner.state.floatbank2_b_air    5288 non-null   float64\n",
      " 38  secondary_cleaner.state.floatbank2_b_level  5290 non-null   float64\n",
      " 39  secondary_cleaner.state.floatbank3_a_air    5281 non-null   float64\n",
      " 40  secondary_cleaner.state.floatbank3_a_level  5290 non-null   float64\n",
      " 41  secondary_cleaner.state.floatbank3_b_air    5290 non-null   float64\n",
      " 42  secondary_cleaner.state.floatbank3_b_level  5290 non-null   float64\n",
      " 43  secondary_cleaner.state.floatbank4_a_air    5290 non-null   float64\n",
      " 44  secondary_cleaner.state.floatbank4_a_level  5290 non-null   float64\n",
      " 45  secondary_cleaner.state.floatbank4_b_air    5290 non-null   float64\n",
      " 46  secondary_cleaner.state.floatbank4_b_level  5290 non-null   float64\n",
      " 47  secondary_cleaner.state.floatbank5_a_air    5290 non-null   float64\n",
      " 48  secondary_cleaner.state.floatbank5_a_level  5290 non-null   float64\n",
      " 49  secondary_cleaner.state.floatbank5_b_air    5290 non-null   float64\n",
      " 50  secondary_cleaner.state.floatbank5_b_level  5290 non-null   float64\n",
      " 51  secondary_cleaner.state.floatbank6_a_air    5290 non-null   float64\n",
      " 52  secondary_cleaner.state.floatbank6_a_level  5290 non-null   float64\n",
      "dtypes: float64(52), object(1)\n",
      "memory usage: 2.1+ MB\n"
     ]
    }
   ],
   "source": [
    "test_df.info()"
   ]
  },
  {
   "cell_type": "code",
   "execution_count": 93,
   "metadata": {},
   "outputs": [
    {
     "data": {
      "text/html": [
       "<div>\n",
       "<style scoped>\n",
       "    .dataframe tbody tr th:only-of-type {\n",
       "        vertical-align: middle;\n",
       "    }\n",
       "\n",
       "    .dataframe tbody tr th {\n",
       "        vertical-align: top;\n",
       "    }\n",
       "\n",
       "    .dataframe thead th {\n",
       "        text-align: right;\n",
       "    }\n",
       "</style>\n",
       "<table border=\"1\" class=\"dataframe\">\n",
       "  <thead>\n",
       "    <tr style=\"text-align: right;\">\n",
       "      <th></th>\n",
       "      <th>date</th>\n",
       "      <th>final.output.concentrate_ag</th>\n",
       "      <th>final.output.concentrate_pb</th>\n",
       "      <th>final.output.concentrate_sol</th>\n",
       "      <th>final.output.concentrate_au</th>\n",
       "      <th>final.output.recovery</th>\n",
       "      <th>final.output.tail_ag</th>\n",
       "      <th>final.output.tail_pb</th>\n",
       "      <th>final.output.tail_sol</th>\n",
       "      <th>final.output.tail_au</th>\n",
       "      <th>...</th>\n",
       "      <th>secondary_cleaner.state.floatbank4_a_air</th>\n",
       "      <th>secondary_cleaner.state.floatbank4_a_level</th>\n",
       "      <th>secondary_cleaner.state.floatbank4_b_air</th>\n",
       "      <th>secondary_cleaner.state.floatbank4_b_level</th>\n",
       "      <th>secondary_cleaner.state.floatbank5_a_air</th>\n",
       "      <th>secondary_cleaner.state.floatbank5_a_level</th>\n",
       "      <th>secondary_cleaner.state.floatbank5_b_air</th>\n",
       "      <th>secondary_cleaner.state.floatbank5_b_level</th>\n",
       "      <th>secondary_cleaner.state.floatbank6_a_air</th>\n",
       "      <th>secondary_cleaner.state.floatbank6_a_level</th>\n",
       "    </tr>\n",
       "  </thead>\n",
       "  <tbody>\n",
       "    <tr>\n",
       "      <th>0</th>\n",
       "      <td>2016-01-15 00:00:00</td>\n",
       "      <td>6.055403</td>\n",
       "      <td>9.889648</td>\n",
       "      <td>5.507324</td>\n",
       "      <td>42.192020</td>\n",
       "      <td>70.541216</td>\n",
       "      <td>10.411962</td>\n",
       "      <td>0.895447</td>\n",
       "      <td>16.904297</td>\n",
       "      <td>2.143149</td>\n",
       "      <td>...</td>\n",
       "      <td>14.016835</td>\n",
       "      <td>-502.488007</td>\n",
       "      <td>12.099931</td>\n",
       "      <td>-504.715942</td>\n",
       "      <td>9.925633</td>\n",
       "      <td>-498.310211</td>\n",
       "      <td>8.079666</td>\n",
       "      <td>-500.470978</td>\n",
       "      <td>14.151341</td>\n",
       "      <td>-605.841980</td>\n",
       "    </tr>\n",
       "    <tr>\n",
       "      <th>1</th>\n",
       "      <td>2016-01-15 01:00:00</td>\n",
       "      <td>6.029369</td>\n",
       "      <td>9.968944</td>\n",
       "      <td>5.257781</td>\n",
       "      <td>42.701629</td>\n",
       "      <td>69.266198</td>\n",
       "      <td>10.462676</td>\n",
       "      <td>0.927452</td>\n",
       "      <td>16.634514</td>\n",
       "      <td>2.224930</td>\n",
       "      <td>...</td>\n",
       "      <td>13.992281</td>\n",
       "      <td>-505.503262</td>\n",
       "      <td>11.950531</td>\n",
       "      <td>-501.331529</td>\n",
       "      <td>10.039245</td>\n",
       "      <td>-500.169983</td>\n",
       "      <td>7.984757</td>\n",
       "      <td>-500.582168</td>\n",
       "      <td>13.998353</td>\n",
       "      <td>-599.787184</td>\n",
       "    </tr>\n",
       "    <tr>\n",
       "      <th>2</th>\n",
       "      <td>2016-01-15 02:00:00</td>\n",
       "      <td>6.055926</td>\n",
       "      <td>10.213995</td>\n",
       "      <td>5.383759</td>\n",
       "      <td>42.657501</td>\n",
       "      <td>68.116445</td>\n",
       "      <td>10.507046</td>\n",
       "      <td>0.953716</td>\n",
       "      <td>16.208849</td>\n",
       "      <td>2.257889</td>\n",
       "      <td>...</td>\n",
       "      <td>14.015015</td>\n",
       "      <td>-502.520901</td>\n",
       "      <td>11.912783</td>\n",
       "      <td>-501.133383</td>\n",
       "      <td>10.070913</td>\n",
       "      <td>-500.129135</td>\n",
       "      <td>8.013877</td>\n",
       "      <td>-500.517572</td>\n",
       "      <td>14.028663</td>\n",
       "      <td>-601.427363</td>\n",
       "    </tr>\n",
       "    <tr>\n",
       "      <th>3</th>\n",
       "      <td>2016-01-15 03:00:00</td>\n",
       "      <td>6.047977</td>\n",
       "      <td>9.977019</td>\n",
       "      <td>4.858634</td>\n",
       "      <td>42.689819</td>\n",
       "      <td>68.347543</td>\n",
       "      <td>10.422762</td>\n",
       "      <td>0.883763</td>\n",
       "      <td>16.532835</td>\n",
       "      <td>2.146849</td>\n",
       "      <td>...</td>\n",
       "      <td>14.036510</td>\n",
       "      <td>-500.857308</td>\n",
       "      <td>11.999550</td>\n",
       "      <td>-501.193686</td>\n",
       "      <td>9.970366</td>\n",
       "      <td>-499.201640</td>\n",
       "      <td>7.977324</td>\n",
       "      <td>-500.255908</td>\n",
       "      <td>14.005551</td>\n",
       "      <td>-599.996129</td>\n",
       "    </tr>\n",
       "    <tr>\n",
       "      <th>4</th>\n",
       "      <td>2016-01-15 04:00:00</td>\n",
       "      <td>6.148599</td>\n",
       "      <td>10.142511</td>\n",
       "      <td>4.939416</td>\n",
       "      <td>42.774141</td>\n",
       "      <td>66.927016</td>\n",
       "      <td>10.360302</td>\n",
       "      <td>0.792826</td>\n",
       "      <td>16.525686</td>\n",
       "      <td>2.055292</td>\n",
       "      <td>...</td>\n",
       "      <td>14.027298</td>\n",
       "      <td>-499.838632</td>\n",
       "      <td>11.953070</td>\n",
       "      <td>-501.053894</td>\n",
       "      <td>9.925709</td>\n",
       "      <td>-501.686727</td>\n",
       "      <td>7.894242</td>\n",
       "      <td>-500.356035</td>\n",
       "      <td>13.996647</td>\n",
       "      <td>-601.496691</td>\n",
       "    </tr>\n",
       "  </tbody>\n",
       "</table>\n",
       "<p>5 rows × 87 columns</p>\n",
       "</div>"
      ],
      "text/plain": [
       "                  date  final.output.concentrate_ag  \\\n",
       "0  2016-01-15 00:00:00                     6.055403   \n",
       "1  2016-01-15 01:00:00                     6.029369   \n",
       "2  2016-01-15 02:00:00                     6.055926   \n",
       "3  2016-01-15 03:00:00                     6.047977   \n",
       "4  2016-01-15 04:00:00                     6.148599   \n",
       "\n",
       "   final.output.concentrate_pb  final.output.concentrate_sol  \\\n",
       "0                     9.889648                      5.507324   \n",
       "1                     9.968944                      5.257781   \n",
       "2                    10.213995                      5.383759   \n",
       "3                     9.977019                      4.858634   \n",
       "4                    10.142511                      4.939416   \n",
       "\n",
       "   final.output.concentrate_au  final.output.recovery  final.output.tail_ag  \\\n",
       "0                    42.192020              70.541216             10.411962   \n",
       "1                    42.701629              69.266198             10.462676   \n",
       "2                    42.657501              68.116445             10.507046   \n",
       "3                    42.689819              68.347543             10.422762   \n",
       "4                    42.774141              66.927016             10.360302   \n",
       "\n",
       "   final.output.tail_pb  final.output.tail_sol  final.output.tail_au  ...  \\\n",
       "0              0.895447              16.904297              2.143149  ...   \n",
       "1              0.927452              16.634514              2.224930  ...   \n",
       "2              0.953716              16.208849              2.257889  ...   \n",
       "3              0.883763              16.532835              2.146849  ...   \n",
       "4              0.792826              16.525686              2.055292  ...   \n",
       "\n",
       "   secondary_cleaner.state.floatbank4_a_air  \\\n",
       "0                                 14.016835   \n",
       "1                                 13.992281   \n",
       "2                                 14.015015   \n",
       "3                                 14.036510   \n",
       "4                                 14.027298   \n",
       "\n",
       "   secondary_cleaner.state.floatbank4_a_level  \\\n",
       "0                                 -502.488007   \n",
       "1                                 -505.503262   \n",
       "2                                 -502.520901   \n",
       "3                                 -500.857308   \n",
       "4                                 -499.838632   \n",
       "\n",
       "   secondary_cleaner.state.floatbank4_b_air  \\\n",
       "0                                 12.099931   \n",
       "1                                 11.950531   \n",
       "2                                 11.912783   \n",
       "3                                 11.999550   \n",
       "4                                 11.953070   \n",
       "\n",
       "   secondary_cleaner.state.floatbank4_b_level  \\\n",
       "0                                 -504.715942   \n",
       "1                                 -501.331529   \n",
       "2                                 -501.133383   \n",
       "3                                 -501.193686   \n",
       "4                                 -501.053894   \n",
       "\n",
       "   secondary_cleaner.state.floatbank5_a_air  \\\n",
       "0                                  9.925633   \n",
       "1                                 10.039245   \n",
       "2                                 10.070913   \n",
       "3                                  9.970366   \n",
       "4                                  9.925709   \n",
       "\n",
       "   secondary_cleaner.state.floatbank5_a_level  \\\n",
       "0                                 -498.310211   \n",
       "1                                 -500.169983   \n",
       "2                                 -500.129135   \n",
       "3                                 -499.201640   \n",
       "4                                 -501.686727   \n",
       "\n",
       "   secondary_cleaner.state.floatbank5_b_air  \\\n",
       "0                                  8.079666   \n",
       "1                                  7.984757   \n",
       "2                                  8.013877   \n",
       "3                                  7.977324   \n",
       "4                                  7.894242   \n",
       "\n",
       "   secondary_cleaner.state.floatbank5_b_level  \\\n",
       "0                                 -500.470978   \n",
       "1                                 -500.582168   \n",
       "2                                 -500.517572   \n",
       "3                                 -500.255908   \n",
       "4                                 -500.356035   \n",
       "\n",
       "   secondary_cleaner.state.floatbank6_a_air  \\\n",
       "0                                 14.151341   \n",
       "1                                 13.998353   \n",
       "2                                 14.028663   \n",
       "3                                 14.005551   \n",
       "4                                 13.996647   \n",
       "\n",
       "   secondary_cleaner.state.floatbank6_a_level  \n",
       "0                                 -605.841980  \n",
       "1                                 -599.787184  \n",
       "2                                 -601.427363  \n",
       "3                                 -599.996129  \n",
       "4                                 -601.496691  \n",
       "\n",
       "[5 rows x 87 columns]"
      ]
     },
     "execution_count": 93,
     "metadata": {},
     "output_type": "execute_result"
    }
   ],
   "source": [
    "full_df.head()"
   ]
  },
  {
   "cell_type": "code",
   "execution_count": 94,
   "metadata": {},
   "outputs": [
    {
     "data": {
      "text/plain": [
       "date                                          datetime64[ns]\n",
       "final.output.concentrate_ag                          float64\n",
       "final.output.concentrate_pb                          float64\n",
       "final.output.concentrate_sol                         float64\n",
       "final.output.concentrate_au                          float64\n",
       "                                                   ...      \n",
       "secondary_cleaner.state.floatbank5_a_level           float64\n",
       "secondary_cleaner.state.floatbank5_b_air             float64\n",
       "secondary_cleaner.state.floatbank5_b_level           float64\n",
       "secondary_cleaner.state.floatbank6_a_air             float64\n",
       "secondary_cleaner.state.floatbank6_a_level           float64\n",
       "Length: 87, dtype: object"
      ]
     },
     "execution_count": 94,
     "metadata": {},
     "output_type": "execute_result"
    }
   ],
   "source": [
    "train_df['date'] = pd.to_datetime(train_df['date'], format='%Y-%m-%d %H:%M:%S')\n",
    "train_df.dtypes"
   ]
  },
  {
   "cell_type": "code",
   "execution_count": 95,
   "metadata": {},
   "outputs": [
    {
     "data": {
      "text/plain": [
       "date                                          datetime64[ns]\n",
       "primary_cleaner.input.sulfate                        float64\n",
       "primary_cleaner.input.depressant                     float64\n",
       "primary_cleaner.input.feed_size                      float64\n",
       "primary_cleaner.input.xanthate                       float64\n",
       "primary_cleaner.state.floatbank8_a_air               float64\n",
       "primary_cleaner.state.floatbank8_a_level             float64\n",
       "primary_cleaner.state.floatbank8_b_air               float64\n",
       "primary_cleaner.state.floatbank8_b_level             float64\n",
       "primary_cleaner.state.floatbank8_c_air               float64\n",
       "primary_cleaner.state.floatbank8_c_level             float64\n",
       "primary_cleaner.state.floatbank8_d_air               float64\n",
       "primary_cleaner.state.floatbank8_d_level             float64\n",
       "rougher.input.feed_ag                                float64\n",
       "rougher.input.feed_pb                                float64\n",
       "rougher.input.feed_rate                              float64\n",
       "rougher.input.feed_size                              float64\n",
       "rougher.input.feed_sol                               float64\n",
       "rougher.input.feed_au                                float64\n",
       "rougher.input.floatbank10_sulfate                    float64\n",
       "rougher.input.floatbank10_xanthate                   float64\n",
       "rougher.input.floatbank11_sulfate                    float64\n",
       "rougher.input.floatbank11_xanthate                   float64\n",
       "rougher.state.floatbank10_a_air                      float64\n",
       "rougher.state.floatbank10_a_level                    float64\n",
       "rougher.state.floatbank10_b_air                      float64\n",
       "rougher.state.floatbank10_b_level                    float64\n",
       "rougher.state.floatbank10_c_air                      float64\n",
       "rougher.state.floatbank10_c_level                    float64\n",
       "rougher.state.floatbank10_d_air                      float64\n",
       "rougher.state.floatbank10_d_level                    float64\n",
       "rougher.state.floatbank10_e_air                      float64\n",
       "rougher.state.floatbank10_e_level                    float64\n",
       "rougher.state.floatbank10_f_air                      float64\n",
       "rougher.state.floatbank10_f_level                    float64\n",
       "secondary_cleaner.state.floatbank2_a_air             float64\n",
       "secondary_cleaner.state.floatbank2_a_level           float64\n",
       "secondary_cleaner.state.floatbank2_b_air             float64\n",
       "secondary_cleaner.state.floatbank2_b_level           float64\n",
       "secondary_cleaner.state.floatbank3_a_air             float64\n",
       "secondary_cleaner.state.floatbank3_a_level           float64\n",
       "secondary_cleaner.state.floatbank3_b_air             float64\n",
       "secondary_cleaner.state.floatbank3_b_level           float64\n",
       "secondary_cleaner.state.floatbank4_a_air             float64\n",
       "secondary_cleaner.state.floatbank4_a_level           float64\n",
       "secondary_cleaner.state.floatbank4_b_air             float64\n",
       "secondary_cleaner.state.floatbank4_b_level           float64\n",
       "secondary_cleaner.state.floatbank5_a_air             float64\n",
       "secondary_cleaner.state.floatbank5_a_level           float64\n",
       "secondary_cleaner.state.floatbank5_b_air             float64\n",
       "secondary_cleaner.state.floatbank5_b_level           float64\n",
       "secondary_cleaner.state.floatbank6_a_air             float64\n",
       "secondary_cleaner.state.floatbank6_a_level           float64\n",
       "dtype: object"
      ]
     },
     "execution_count": 95,
     "metadata": {},
     "output_type": "execute_result"
    }
   ],
   "source": [
    "test_df['date'] = pd.to_datetime(test_df['date'], format='%Y-%m-%d %H:%M:%S')\n",
    "test_df.dtypes"
   ]
  },
  {
   "cell_type": "code",
   "execution_count": 96,
   "metadata": {},
   "outputs": [
    {
     "data": {
      "text/plain": [
       "date                                          datetime64[ns]\n",
       "final.output.concentrate_ag                          float64\n",
       "final.output.concentrate_pb                          float64\n",
       "final.output.concentrate_sol                         float64\n",
       "final.output.concentrate_au                          float64\n",
       "                                                   ...      \n",
       "secondary_cleaner.state.floatbank5_a_level           float64\n",
       "secondary_cleaner.state.floatbank5_b_air             float64\n",
       "secondary_cleaner.state.floatbank5_b_level           float64\n",
       "secondary_cleaner.state.floatbank6_a_air             float64\n",
       "secondary_cleaner.state.floatbank6_a_level           float64\n",
       "Length: 87, dtype: object"
      ]
     },
     "execution_count": 96,
     "metadata": {},
     "output_type": "execute_result"
    }
   ],
   "source": [
    "full_df['date'] = pd.to_datetime(full_df['date'], format='%Y-%m-%d %H:%M:%S')\n",
    "full_df.dtypes"
   ]
  },
  {
   "cell_type": "code",
   "execution_count": 97,
   "metadata": {},
   "outputs": [
    {
     "name": "stdout",
     "output_type": "stream",
     "text": [
      "\n",
      "Количество явных дубликатов в 1-ом датасете -  0\n",
      "\n",
      "Количество явных дубликатов в 2-ом датасете -  0\n",
      "\n",
      "Количество явных дубликатов в 3-ом датасете -  0\n"
     ]
    }
   ],
   "source": [
    "cnt = 0\n",
    "for df in [train_df, test_df, full_df]:\n",
    "    cnt += 1\n",
    "    print(f'\\nКоличество явных дубликатов в {cnt}-ом датасете - ',df.duplicated().sum())"
   ]
  },
  {
   "cell_type": "code",
   "execution_count": 98,
   "metadata": {},
   "outputs": [
    {
     "name": "stdout",
     "output_type": "stream",
     "text": [
      "\n",
      "Размер тренировочной выборки - (14149, 87) и количество строк без пропусков - 14149\n",
      "\n",
      "Размер тестовой выборки - (5290, 53) и количество строк без пропусков - 5290\n",
      "\n",
      "Размер исходной выборки - (19439, 87) и количество строк без пропусков - 19439\n"
     ]
    }
   ],
   "source": [
    "size_of_train_df_before = train_df.shape\n",
    "size_of_test_df_before = test_df.shape\n",
    "size_of_full_df_before = full_df.shape\n",
    "train_df = train_df.ffill(axis=0)\n",
    "test_df = test_df.ffill(axis=0)\n",
    "full_df = full_df.ffill(axis=0)\n",
    "print(f'\\nРазмер тренировочной выборки - {size_of_train_df_before} и количество строк без пропусков - {len(train_df.notna())}')\n",
    "print(f'\\nРазмер тестовой выборки - {size_of_test_df_before} и количество строк без пропусков - {len(test_df.notna())}')\n",
    "print(f'\\nРазмер исходной выборки - {size_of_full_df_before} и количество строк без пропусков - {len(full_df.notna())}')"
   ]
  },
  {
   "cell_type": "code",
   "execution_count": 99,
   "metadata": {},
   "outputs": [],
   "source": [
    "c = train_df['rougher.output.concentrate_au']\n",
    "f = train_df['rougher.input.feed_au']\n",
    "t = train_df['rougher.output.tail_au']\n",
    "recovery = ((c*(f-t))/(f*(c-t))) * 100"
   ]
  },
  {
   "cell_type": "code",
   "execution_count": 100,
   "metadata": {},
   "outputs": [
    {
     "name": "stdout",
     "output_type": "stream",
     "text": [
      "MAE - 9.73512347450521e-15\n"
     ]
    }
   ],
   "source": [
    "\n",
    "print('MAE -', mean_absolute_error(train_df['rougher.output.recovery'], recovery))"
   ]
  },
  {
   "cell_type": "code",
   "execution_count": 101,
   "metadata": {},
   "outputs": [],
   "source": [
    "\n",
    "missed_signs = set(train_df.columns) - set(test_df.columns)"
   ]
  },
  {
   "cell_type": "code",
   "execution_count": 102,
   "metadata": {},
   "outputs": [
    {
     "data": {
      "text/plain": [
       "{'final.output.concentrate_ag',\n",
       " 'final.output.concentrate_au',\n",
       " 'final.output.concentrate_pb',\n",
       " 'final.output.concentrate_sol',\n",
       " 'final.output.recovery',\n",
       " 'final.output.tail_ag',\n",
       " 'final.output.tail_au',\n",
       " 'final.output.tail_pb',\n",
       " 'final.output.tail_sol',\n",
       " 'primary_cleaner.output.concentrate_ag',\n",
       " 'primary_cleaner.output.concentrate_au',\n",
       " 'primary_cleaner.output.concentrate_pb',\n",
       " 'primary_cleaner.output.concentrate_sol',\n",
       " 'primary_cleaner.output.tail_ag',\n",
       " 'primary_cleaner.output.tail_au',\n",
       " 'primary_cleaner.output.tail_pb',\n",
       " 'primary_cleaner.output.tail_sol',\n",
       " 'rougher.calculation.au_pb_ratio',\n",
       " 'rougher.calculation.floatbank10_sulfate_to_au_feed',\n",
       " 'rougher.calculation.floatbank11_sulfate_to_au_feed',\n",
       " 'rougher.calculation.sulfate_to_au_concentrate',\n",
       " 'rougher.output.concentrate_ag',\n",
       " 'rougher.output.concentrate_au',\n",
       " 'rougher.output.concentrate_pb',\n",
       " 'rougher.output.concentrate_sol',\n",
       " 'rougher.output.recovery',\n",
       " 'rougher.output.tail_ag',\n",
       " 'rougher.output.tail_au',\n",
       " 'rougher.output.tail_pb',\n",
       " 'rougher.output.tail_sol',\n",
       " 'secondary_cleaner.output.tail_ag',\n",
       " 'secondary_cleaner.output.tail_au',\n",
       " 'secondary_cleaner.output.tail_pb',\n",
       " 'secondary_cleaner.output.tail_sol'}"
      ]
     },
     "execution_count": 102,
     "metadata": {},
     "output_type": "execute_result"
    }
   ],
   "source": [
    "\n",
    "missed_signs"
   ]
  },
  {
   "cell_type": "code",
   "execution_count": 103,
   "metadata": {},
   "outputs": [
    {
     "name": "stdout",
     "output_type": "stream",
     "text": [
      "\n",
      "Количество отсутствующих признаков - 34\n"
     ]
    }
   ],
   "source": [
    "print('\\nКоличество отсутствующих признаков -', len(missed_signs))"
   ]
  },
  {
   "cell_type": "code",
   "execution_count": 104,
   "metadata": {},
   "outputs": [],
   "source": [
    "dict_with_name_of_values = {'final': 'финальные характеристики',\n",
    "                           'primary_cleaner': 'первичная очистка',\n",
    "                           'secondary_cleaner': 'вторичная очистка',\n",
    "                           'input': 'параметры сырья',\n",
    "                           'output': 'параметры продукта',\n",
    "                           'rougher': 'флотация',\n",
    "                           'state': 'параметры, характеризующие текущее состояние этапа',\n",
    "                           'calculation': 'расчётные характеристики'}"
   ]
  },
  {
   "cell_type": "code",
   "execution_count": 105,
   "metadata": {},
   "outputs": [
    {
     "name": "stdout",
     "output_type": "stream",
     "text": [
      "==========================================================================================\n",
      "ДЛЯ ЭТАПА \"ФИНАЛЬНЫЕ ХАРАКТЕРИСТИКИ\" С ОПЦИЕЙ \"ПАРАМЕТРЫ ПРОДУКТА\" ОТСУТСТВУЮТ ЗНАЧЕНИЯ:\n",
      "==========================================================================================\n",
      " - tail_pb\n",
      " - concentrate_pb\n",
      " - tail_au\n",
      " - concentrate_au\n",
      " - tail_ag\n",
      " - recovery\n",
      " - concentrate_ag\n",
      " - concentrate_sol\n",
      " - tail_sol\n",
      "==========================================================================================\n",
      "ДЛЯ ЭТАПА \"ПЕРВИЧНАЯ ОЧИСТКА\" С ОПЦИЕЙ \"ПАРАМЕТРЫ ПРОДУКТА\" ОТСУТСТВУЮТ ЗНАЧЕНИЯ:\n",
      "==========================================================================================\n",
      " - tail_au\n",
      " - concentrate_pb\n",
      " - concentrate_ag\n",
      " - concentrate_au\n",
      " - tail_ag\n",
      " - concentrate_sol\n",
      " - tail_pb\n",
      " - tail_sol\n",
      "==========================================================================================\n",
      "ДЛЯ ЭТАПА \"ФЛОТАЦИЯ\" С ОПЦИЕЙ \"ПАРАМЕТРЫ ПРОДУКТА\" ОТСУТСТВУЮТ ЗНАЧЕНИЯ:\n",
      "==========================================================================================\n",
      " - concentrate_ag\n",
      " - tail_ag\n",
      " - concentrate_sol\n",
      " - recovery\n",
      " - tail_sol\n",
      " - tail_pb\n",
      " - concentrate_au\n",
      " - concentrate_pb\n",
      " - tail_au\n",
      "==========================================================================================\n",
      "ДЛЯ ЭТАПА \"ВТОРИЧНАЯ ОЧИСТКА\" С ОПЦИЕЙ \"ПАРАМЕТРЫ ПРОДУКТА\" ОТСУТСТВУЮТ ЗНАЧЕНИЯ:\n",
      "==========================================================================================\n",
      " - tail_au\n",
      " - tail_ag\n",
      " - tail_pb\n",
      " - tail_sol\n",
      "==========================================================================================\n",
      "ДЛЯ ЭТАПА \"ФЛОТАЦИЯ\" С ОПЦИЕЙ \"РАСЧЁТНЫЕ ХАРАКТЕРИСТИКИ\" ОТСУТСТВУЮТ ЗНАЧЕНИЯ:\n",
      "==========================================================================================\n",
      " - floatbank10_sulfate_to_au_feed\n",
      " - sulfate_to_au_concentrate\n",
      " - floatbank11_sulfate_to_au_feed\n",
      " - au_pb_ratio\n"
     ]
    }
   ],
   "source": [
    "dict_for_missed_signs = {}\n",
    "for sign in missed_signs:\n",
    "    list_with_words = sign.split('.')\n",
    "    stage = list_with_words[0]+'-'+list_with_words[1]\n",
    "    if stage in dict_for_missed_signs:\n",
    "        dict_for_missed_signs[stage].append(list_with_words[2])\n",
    "    elif stage not in dict_for_missed_signs:\n",
    "        dict_for_missed_signs[stage] = [list_with_words[2]]\n",
    "for key in dict_for_missed_signs.keys():\n",
    "    split_key = key.split('-')\n",
    "    print('='*90)\n",
    "    print(f'ДЛЯ ЭТАПА \"{(dict_with_name_of_values[split_key[0]]).upper()}\" С ОПЦИЕЙ \"{(dict_with_name_of_values[split_key[1]]).upper()}\" ОТСУТСТВУЮТ ЗНАЧЕНИЯ:')\n",
    "    print('='*90)\n",
    "    for elem in dict_for_missed_signs[key]:\n",
    "        print(f' - {elem}')"
   ]
  },
  {
   "cell_type": "code",
   "execution_count": 106,
   "metadata": {},
   "outputs": [],
   "source": [
    "test_df = test_df.merge(full_df.loc[:, ['date','rougher.output.recovery','final.output.recovery']], on='date')"
   ]
  },
  {
   "cell_type": "code",
   "execution_count": 107,
   "metadata": {},
   "outputs": [],
   "source": [
    "\n",
    "train_df = train_df.drop('date', axis=1)\n",
    "test_df = test_df.drop('date', axis=1)"
   ]
  },
  {
   "cell_type": "code",
   "execution_count": 108,
   "metadata": {},
   "outputs": [
    {
     "name": "stdout",
     "output_type": "stream",
     "text": [
      "\n",
      "Размер тестовой выборки - (5290, 54) | Размер тренировочной выборки - (14149, 86)\n"
     ]
    }
   ],
   "source": [
    "\n",
    "print('\\nРазмер тестовой выборки - {} | Размер тренировочной выборки - {}'.format(test_df.shape, train_df.shape))"
   ]
  },
  {
   "cell_type": "code",
   "execution_count": 109,
   "metadata": {},
   "outputs": [
    {
     "data": {
      "image/png": "[encoded data removed]",
      "text/plain": [
       "<Figure size 1080x1224 with 3 Axes>"
      ]
     },
     "metadata": {},
     "output_type": "display_data"
    }
   ],
   "source": [
    "position = 0\n",
    "plt.figure(figsize=[15, 17])\n",
    "plt.subplots_adjust(top=0.94, wspace=0.2, hspace=0.3)\n",
    "plt.suptitle('ГРАФИК КОНЦЕНТРАЦИИ МЕТАЛЛОВ НА РАЗЛИЧНЫХ ЭТАПАХ ОЧИТСКИ.', fontsize=15)\n",
    "for metal in ['au', 'ag', 'pb']:\n",
    "    position += 1\n",
    "    plt.subplot(3, 1, position)\n",
    "    plt.title(f'ГРАФИК РАСПРЕДЕЛЕНИЯ МЕТАЛЛА {str(metal).upper()} НА РАЗЛИЧНЫХ ЭТАПАХ ОЧИТСКИ', fontsize=13)\n",
    "    sns.set_style('darkgrid')\n",
    "    sns.histplot(train_df[f'rougher.input.feed_{metal}'], color='y', label='Сырье', kde=False)\n",
    "    sns.histplot(train_df[f'rougher.output.concentrate_{metal}'], color='b', label='Концентрация после флотации', kde=False)\n",
    "    sns.histplot(train_df[f'primary_cleaner.output.concentrate_{metal}'], color='g', label='Концентрация после первичной очистки', kde=False)\n",
    "    sns.histplot(train_df[f'final.output.concentrate_{metal}'], color='r', label='Финальная концетрация металла',kde=False)\n",
    "    plt.xlabel('Концентрация металла')\n",
    "    plt.ylabel('Количество наблюдений')\n",
    "    plt.legend()\n",
    "plt.show();"
   ]
  },
  {
   "cell_type": "code",
   "execution_count": 110,
   "metadata": {},
   "outputs": [
    {
     "data": {
      "image/png": "[encoded data removed]",
      "text/plain": [
       "<Figure size 1080x1224 with 2 Axes>"
      ]
     },
     "metadata": {},
     "output_type": "display_data"
    }
   ],
   "source": [
    "position = 0\n",
    "plt.figure(figsize=[15, 17])\n",
    "plt.subplots_adjust(top=0.90, wspace=0.2, hspace=0.2)\n",
    "plt.suptitle('ГРАФИК РАСПРЕДЕЛЕНИЯ ГРАНУЛ СЫРЬЯ НА ОБУЧАЮЩЕЙ И ТЕСТОВОЙ ВЫБОРКАХ.', fontsize=15)\n",
    "for stage in ['rougher', 'primary_cleaner']:\n",
    "    position += 1\n",
    "    plt.subplot(2, 1, position)\n",
    "    plt.title(f'ГРАФИК РАСПРЕДЕЛЕНИЯ ГРАНУЛ ДЛЯ ЭТАПА {str(stage).upper()} НА ОБУЧАЮЩЕЙ и ТЕСТОВОЙ ВЫБОРКАХ', fontsize=13)\n",
    "    sns.set_style('darkgrid')\n",
    "    plt.hist(train_df[f'{stage}.input.feed_size'], color='r', label='Обучающая выборка', density=True)\n",
    "    plt.hist(test_df[f'{stage}.input.feed_size'], color='b', label='Тестовая выборка', density=True)\n",
    "    plt.xlabel('Размер гранул')\n",
    "    plt.ylabel('Количество наблюдений')\n",
    "    plt.legend()\n",
    "plt.show();"
   ]
  },
  {
   "cell_type": "code",
   "execution_count": 111,
   "metadata": {},
   "outputs": [],
   "source": [
    "sum_concentrate_of_rougher_input = 0\n",
    "sum_concentrate_of_rougher_output = 0\n",
    "sum_concentrate_of_primary_cleaner_output = 0\n",
    "sum_concentrate_of_final_output = 0\n",
    "for metal in ['au', 'ag', 'pb', 'sol']:\n",
    "    sum_concentrate_of_rougher_input += train_df[f'rougher.input.feed_{metal}']\n",
    "    sum_concentrate_of_rougher_output += train_df[f'rougher.output.concentrate_{metal}']\n",
    "#     sum_concentrate_of_primary_cleaner_output += full_df[f'primary_cleaner.output.concentrate_{metal}']\n",
    "    sum_concentrate_of_final_output += train_df[f'final.output.concentrate_{metal}']"
   ]
  },
  {
   "cell_type": "code",
   "execution_count": 112,
   "metadata": {},
   "outputs": [
    {
     "data": {
      "image/png": "[encoded data removed]",
      "text/plain": [
       "<Figure size 1080x648 with 1 Axes>"
      ]
     },
     "metadata": {},
     "output_type": "display_data"
    }
   ],
   "source": [
    "plt.figure(figsize=[15, 9])\n",
    "plt.suptitle('ГРАФИК СУММАРНОЙ КОНЦЕНТРАЦИИ ВЕЩЕСТВ НА РАЗНЫХ СТАДИЯХ.', fontsize=15)\n",
    "sns.set_style('darkgrid')\n",
    "sns.histplot(sum_concentrate_of_rougher_input, color='y', label='Сырье', kde=False)\n",
    "sns.histplot(sum_concentrate_of_rougher_output, color='b', label='Концентрация после флотации', kde=False)\n",
    "# sns.histplot(sum_concentrate_of_primary_cleaner_output, color='g', label='Концентрация после первичной очистки', kde=False)\n",
    "sns.histplot(sum_concentrate_of_final_output, color='r', label='Финальная концетрация',kde=False)\n",
    "plt.xlabel('Концентрация веществ')\n",
    "plt.ylabel('Количество наблюдений')\n",
    "plt.legend()\n",
    "plt.show();"
   ]
  },
  {
   "cell_type": "code",
   "execution_count": 113,
   "metadata": {},
   "outputs": [],
   "source": [
    "train_df = train_df[(train_df['rougher.output.concentrate_au'] != 0) & (train_df['rougher.output.concentrate_ag'] != 0) & (train_df['rougher.output.concentrate_pb'] != 0) & (train_df['rougher.output.concentrate_sol'] != 0)]\n",
    "train_df = train_df[(train_df['final.output.concentrate_au'] != 0) & (train_df['final.output.concentrate_ag'] != 0) & (train_df['final.output.concentrate_pb'] != 0) & (train_df['final.output.concentrate_sol'] != 0)]\n",
    "\n",
    "full_df = full_df[(full_df['rougher.output.concentrate_au'] != 0) & (full_df['rougher.output.concentrate_ag'] != 0) & (full_df['rougher.output.concentrate_pb'] != 0) & (full_df['rougher.output.concentrate_sol'] != 0)]\n",
    "full_df = full_df[(full_df['final.output.concentrate_au'] != 0) & (full_df['final.output.concentrate_ag'] != 0) & (full_df['final.output.concentrate_pb'] != 0) & (full_df['final.output.concentrate_sol'] != 0)]"
   ]
  },
  {
   "cell_type": "code",
   "execution_count": 114,
   "metadata": {},
   "outputs": [],
   "source": [
    "signs_for_delete_without_target_signs = missed_signs - set(['rougher.output.recovery','final.output.recovery'])"
   ]
  },
  {
   "cell_type": "code",
   "execution_count": 115,
   "metadata": {},
   "outputs": [
    {
     "name": "stdout",
     "output_type": "stream",
     "text": [
      "\n",
      "Количество признаков для удаления из тренировочной выборки - 32\n"
     ]
    }
   ],
   "source": [
    "print('\\nКоличество признаков для удаления из тренировочной выборки -', len(signs_for_delete_without_target_signs))"
   ]
  },
  {
   "cell_type": "code",
   "execution_count": 116,
   "metadata": {},
   "outputs": [],
   "source": [
    "train_df = train_df.drop(columns=signs_for_delete_without_target_signs, axis=1)"
   ]
  },
  {
   "cell_type": "code",
   "execution_count": 117,
   "metadata": {},
   "outputs": [],
   "source": [
    "def get_smape(target, predict):\n",
    "    smape = (1/len(target))*np.sum((np.abs(target - predict))/( (np.abs(target)+np.abs(predict))/2))*100\n",
    "    return smape"
   ]
  },
  {
   "cell_type": "code",
   "execution_count": 118,
   "metadata": {},
   "outputs": [],
   "source": [
    "smape_scorer = make_scorer(get_smape, greater_is_better = False)"
   ]
  },
  {
   "cell_type": "code",
   "execution_count": 119,
   "metadata": {},
   "outputs": [],
   "source": [
    "def get_final_smape(rougher, final):\n",
    "    final = 0.25*rougher+0.75*final\n",
    "    return final"
   ]
  },
  {
   "cell_type": "code",
   "execution_count": 120,
   "metadata": {},
   "outputs": [],
   "source": [
    "features_for_train_df = train_df.drop(['rougher.output.recovery','final.output.recovery'], axis=1)\n",
    "target_for_rougher_on_train_df = train_df['rougher.output.recovery']\n",
    "target_for_final_on_train_df = train_df['final.output.recovery']"
   ]
  },
  {
   "cell_type": "code",
   "execution_count": 121,
   "metadata": {},
   "outputs": [],
   "source": [
    "dct_with_scores = {}"
   ]
  },
  {
   "cell_type": "code",
   "execution_count": 122,
   "metadata": {},
   "outputs": [
    {
     "name": "stdout",
     "output_type": "stream",
     "text": [
      "CPU times: user 1.42 s, sys: 1.7 s, total: 3.12 s\n",
      "Wall time: 3.13 s\n"
     ]
    }
   ],
   "source": [
    "%%time\n",
    "model_lr_rougher = LinearRegression()\n",
    "smape_rougher = cross_val_score(model_lr_rougher,\n",
    "                          features_for_train_df,\n",
    "                          target_for_rougher_on_train_df,\n",
    "                          scoring=smape_scorer,\n",
    "                          cv=5)\n",
    "final_smape_rougher = smape_rougher.mean()\n",
    "model_lr_final = LinearRegression()\n",
    "smape_final = cross_val_score(model_lr_final,\n",
    "                        features_for_train_df,\n",
    "                        target_for_final_on_train_df,\n",
    "                        scoring=smape_scorer,\n",
    "                        cv=5)\n",
    "final_smape_final = smape_final.mean()\n",
    "result_smape = get_final_smape(final_smape_rougher, final_smape_final)*(-1)\n",
    "dct_with_scores['LR'] = [result_smape]"
   ]
  },
  {
   "cell_type": "code",
   "execution_count": 123,
   "metadata": {},
   "outputs": [],
   "source": [
    "state = RandomState(12345)"
   ]
  },
  {
   "cell_type": "code",
   "execution_count": 124,
   "metadata": {},
   "outputs": [
    {
     "name": "stdout",
     "output_type": "stream",
     "text": [
      "CPU times: user 23.1 s, sys: 132 ms, total: 23.2 s\n",
      "Wall time: 23.3 s\n"
     ]
    }
   ],
   "source": [
    "%%time\n",
    "best_result_for_dt = 100\n",
    "best_param_for_dt = 0\n",
    "for n in range(1, 10, 1):\n",
    "    model_dt_rougher = DecisionTreeRegressor(max_depth=n, random_state=state)\n",
    "    smape_rougher = cross_val_score(model_dt_rougher,\n",
    "                              features_for_train_df,\n",
    "                              target_for_rougher_on_train_df,\n",
    "                              scoring=smape_scorer,\n",
    "                              cv=5)\n",
    "    final_smape_rougher = smape_rougher.mean()\n",
    "\n",
    "    model_dt_final = DecisionTreeRegressor(max_depth=n, random_state=state)\n",
    "    smape_final = cross_val_score(model_dt_final, \n",
    "                                  features_for_train_df,\n",
    "                                  target_for_final_on_train_df,\n",
    "                                  scoring=smape_scorer,\n",
    "                                  cv=5)\n",
    "    final_smape_final = smape_final.mean()\n",
    "    result_smape = get_final_smape(final_smape_rougher, final_smape_final)*(-1)\n",
    "    if result_smape < best_result_for_dt:\n",
    "        best_result_for_dt = result_smape\n",
    "        best_param_for_dt = n\n",
    "dct_with_scores['DT'] = [best_result_for_dt, best_param_for_dt]"
   ]
  },
  {
   "cell_type": "code",
   "execution_count": 125,
   "metadata": {},
   "outputs": [
    {
     "name": "stdout",
     "output_type": "stream",
     "text": [
      "CPU times: user 12min 50s, sys: 3.22 s, total: 12min 53s\n",
      "Wall time: 12min 54s\n"
     ]
    }
   ],
   "source": [
    "%%time\n",
    "best_model_for_rf = 100\n",
    "best_param_for_rf = 0\n",
    "for n in range(10, 100, 30):\n",
    "    for d in range(2,10,2):\n",
    "        model_rf_rougher = RandomForestRegressor(n_estimators=n, max_depth=d, random_state=state)\n",
    "        smape_rougher = cross_val_score(model_rf_rougher,\n",
    "                                  features_for_train_df,\n",
    "                                  target_for_rougher_on_train_df,\n",
    "                                  scoring=smape_scorer,\n",
    "                                  cv=5)\n",
    "        final_smape_rougher = smape_rougher.mean()\n",
    "\n",
    "        model_rf_final = RandomForestRegressor(n_estimators=n, max_depth=d, random_state=state)\n",
    "        smape_final = cross_val_score(model_rf_final,\n",
    "                                features_for_train_df,\n",
    "                                target_for_final_on_train_df,\n",
    "                                scoring=smape_scorer,\n",
    "                                cv=5)\n",
    "        final_smape_final = smape_final.mean()\n",
    "        result_smape = get_final_smape(final_smape_rougher, final_smape_final)*(-1)\n",
    "        if result_smape < best_model_for_rf:\n",
    "            best_model_for_rf = result_smape\n",
    "            best_param_for_rf = [n,d]\n",
    "dct_with_scores['RF'] = [best_model_for_rf, best_param_for_rf]"
   ]
  },
  {
   "cell_type": "code",
   "execution_count": 126,
   "metadata": {},
   "outputs": [
    {
     "name": "stdout",
     "output_type": "stream",
     "text": [
      "\n",
      "МОДЕЛЬ LR С РЕЗУЛЬТАТОМ - 10.059261443482796\n",
      "\n",
      "МОДЕЛЬ DT С РЕЗУЛЬТАТОМ - 8.925785452030949\n",
      "\n",
      "МОДЕЛЬ RF С РЕЗУЛЬТАТОМ - 8.529258429567625\n"
     ]
    }
   ],
   "source": [
    "for key in dct_with_scores.keys():\n",
    "    print(f'\\nМОДЕЛЬ {str(key).upper()} С РЕЗУЛЬТАТОМ - {dct_with_scores[key][0]}')"
   ]
  },
  {
   "cell_type": "code",
   "execution_count": 127,
   "metadata": {},
   "outputs": [
    {
     "name": "stdout",
     "output_type": "stream",
     "text": [
      "\n",
      "ЛУЧШИЕ ПАРАМЕТРЫ ДЛЯ МОДЕЛИ RF: N_ESTIMATORS - 10, MAX_DEPTH - 4\n"
     ]
    }
   ],
   "source": [
    "print('\\nЛУЧШИЕ ПАРАМЕТРЫ ДЛЯ МОДЕЛИ RF: N_ESTIMATORS - {}, MAX_DEPTH - {}'.format(dct_with_scores['RF'][1][0], dct_with_scores['RF'][1][1]))"
   ]
  },
  {
   "cell_type": "code",
   "execution_count": 128,
   "metadata": {},
   "outputs": [],
   "source": [
    "features_for_test_df = test_df.drop(['rougher.output.recovery','final.output.recovery'], axis=1)\n",
    "target_for_rougher_on_test_df = test_df['rougher.output.recovery']\n",
    "target_for_final_on_test_df = test_df['final.output.recovery']"
   ]
  },
  {
   "cell_type": "code",
   "execution_count": 129,
   "metadata": {},
   "outputs": [],
   "source": [
    "model_for_test_rougher = RandomForestRegressor(n_estimators=10, max_depth=4, random_state=state)\n",
    "model_for_test_rougher.fit(features_for_train_df, target_for_rougher_on_train_df)\n",
    "predicted_rougher = model_for_test_rougher.predict(features_for_test_df)\n",
    "\n",
    "model_for_test_final = RandomForestRegressor(n_estimators=10, max_depth=4, random_state=state)\n",
    "model_for_test_final.fit(features_for_train_df, target_for_final_on_train_df)\n",
    "predicted_final = model_for_test_final.predict(features_for_test_df)\n",
    "\n",
    "smape_for_test_rougher = get_smape(target_for_rougher_on_test_df, predicted_rougher)\n",
    "smape_for_test_final = get_smape(target_for_final_on_test_df, predicted_final)\n",
    "final_smape_for_test = get_final_smape(smape_for_test_rougher, smape_for_test_final)"
   ]
  },
  {
   "cell_type": "code",
   "execution_count": 130,
   "metadata": {},
   "outputs": [],
   "source": [
    "dummy_regr_for_rougher = DummyRegressor(strategy=\"mean\")\n",
    "dummy_regr_for_final = DummyRegressor(strategy=\"mean\")\n",
    "\n",
    "dummy_regr_for_rougher.fit(features_for_train_df, target_for_rougher_on_train_df)\n",
    "dummy_regr_for_final.fit(features_for_train_df, target_for_final_on_train_df)\n",
    "\n",
    "dummy_predicted_rougher = dummy_regr_for_rougher.predict(features_for_test_df)\n",
    "dummy_predicted_final = dummy_regr_for_final.predict(features_for_test_df)\n",
    "\n",
    "smape_for_const_rougher = get_smape(target_for_rougher_on_test_df, dummy_predicted_rougher)\n",
    "smape_for_const_final = get_smape(target_for_final_on_test_df, dummy_predicted_final)\n",
    "\n",
    "final_smape_for_const = get_final_smape(smape_for_const_rougher, smape_for_const_final)"
   ]
  },
  {
   "cell_type": "code",
   "execution_count": 131,
   "metadata": {},
   "outputs": [
    {
     "name": "stdout",
     "output_type": "stream",
     "text": [
      "\n",
      "ПОКАЗАТЕЛЬ SMAPE ДЛЯ КОНСТАНТНОЙ МОДЕЛИ - 9.82146839182027\n"
     ]
    }
   ],
   "source": [
    "print(f'\\nПОКАЗАТЕЛЬ SMAPE ДЛЯ КОНСТАНТНОЙ МОДЕЛИ - {final_smape_for_const}')"
   ]
  },
  {
   "cell_type": "code",
   "execution_count": null,
   "metadata": {},
   "outputs": [],
   "source": []
  },
  {
   "cell_type": "code",
   "execution_count": null,
   "metadata": {},
   "outputs": [],
   "source": []
  },
  {
   "cell_type": "code",
   "execution_count": null,
   "metadata": {},
   "outputs": [],
   "source": []
  },
  {
   "cell_type": "code",
   "execution_count": null,
   "metadata": {},
   "outputs": [],
   "source": []
  }
 ],
 "metadata": {
  "ExecuteTimeLog": [
   {
    "duration": 1227,
    "start_time": "2023-04-17T06:25:00.064Z"
   },
   {
    "duration": 152,
    "start_time": "2023-04-17T06:29:29.599Z"
   },
   {
    "duration": 46,
    "start_time": "2023-04-17T06:29:42.524Z"
   },
   {
    "duration": 49,
    "start_time": "2023-04-17T07:43:19.154Z"
   },
   {
    "duration": 41,
    "start_time": "2023-04-17T07:43:32.921Z"
   },
   {
    "duration": 22,
    "start_time": "2023-04-17T08:55:01.697Z"
   },
   {
    "duration": 8,
    "start_time": "2023-04-17T09:58:11.034Z"
   },
   {
    "duration": 8,
    "start_time": "2023-04-17T09:58:20.468Z"
   },
   {
    "duration": 12,
    "start_time": "2023-04-17T13:37:39.548Z"
   },
   {
    "duration": 55,
    "start_time": "2023-04-17T13:38:17.923Z"
   },
   {
    "duration": 9,
    "start_time": "2023-04-17T13:38:22.532Z"
   },
   {
    "duration": 18,
    "start_time": "2023-04-17T13:38:25.618Z"
   },
   {
    "duration": 48,
    "start_time": "2023-04-17T13:42:57.124Z"
   },
   {
    "duration": 8,
    "start_time": "2023-04-17T13:43:02.115Z"
   },
   {
    "duration": 41,
    "start_time": "2023-04-17T13:43:05.489Z"
   },
   {
    "duration": 14,
    "start_time": "2023-04-17T14:03:40.517Z"
   },
   {
    "duration": 46,
    "start_time": "2023-04-17T14:03:54.612Z"
   },
   {
    "duration": 8,
    "start_time": "2023-04-17T14:03:58.572Z"
   },
   {
    "duration": 40,
    "start_time": "2023-04-17T14:04:01.963Z"
   },
   {
    "duration": 11,
    "start_time": "2023-04-17T14:04:06.595Z"
   },
   {
    "duration": 16,
    "start_time": "2023-04-17T14:05:20.964Z"
   },
   {
    "duration": 25,
    "start_time": "2023-04-17T14:05:28.955Z"
   },
   {
    "duration": 33,
    "start_time": "2023-04-17T14:05:33.571Z"
   },
   {
    "duration": 23,
    "start_time": "2023-04-17T14:05:43.272Z"
   },
   {
    "duration": 23,
    "start_time": "2023-04-17T14:07:50.611Z"
   },
   {
    "duration": 13,
    "start_time": "2023-04-17T14:09:29.083Z"
   },
   {
    "duration": 48,
    "start_time": "2023-04-17T14:20:59.775Z"
   },
   {
    "duration": 8,
    "start_time": "2023-04-17T14:21:04.118Z"
   },
   {
    "duration": 25,
    "start_time": "2023-04-17T14:21:07.574Z"
   },
   {
    "duration": 314,
    "start_time": "2023-04-17T14:21:11.902Z"
   },
   {
    "duration": 1108,
    "start_time": "2023-04-17T14:23:12.923Z"
   },
   {
    "duration": 2449,
    "start_time": "2023-04-17T14:23:35.178Z"
   },
   {
    "duration": 4168,
    "start_time": "2023-04-17T14:23:47.749Z"
   },
   {
    "duration": 1151,
    "start_time": "2023-04-17T14:23:59.014Z"
   },
   {
    "duration": 281,
    "start_time": "2023-04-17T14:24:10.701Z"
   },
   {
    "duration": 1086,
    "start_time": "2023-04-17T14:24:17.677Z"
   },
   {
    "duration": 1219,
    "start_time": "2023-04-17T14:24:29.479Z"
   },
   {
    "duration": 20,
    "start_time": "2023-04-17T14:31:38.700Z"
   },
   {
    "duration": 10,
    "start_time": "2023-04-17T14:32:10.457Z"
   },
   {
    "duration": 47,
    "start_time": "2023-04-17T14:32:41.648Z"
   },
   {
    "duration": 9,
    "start_time": "2023-04-17T14:32:46.786Z"
   },
   {
    "duration": 25,
    "start_time": "2023-04-17T14:32:50.148Z"
   },
   {
    "duration": 1041,
    "start_time": "2023-04-17T14:32:53.583Z"
   },
   {
    "duration": 1522,
    "start_time": "2023-04-17T14:32:58.266Z"
   },
   {
    "duration": 58,
    "start_time": "2023-04-17T14:33:23.757Z"
   },
   {
    "duration": 9,
    "start_time": "2023-04-17T14:33:27.905Z"
   },
   {
    "duration": 25,
    "start_time": "2023-04-17T14:33:32.882Z"
   },
   {
    "duration": 1076,
    "start_time": "2023-04-17T14:33:38.714Z"
   },
   {
    "duration": 1534,
    "start_time": "2023-04-17T14:33:41.540Z"
   },
   {
    "duration": 4967,
    "start_time": "2023-04-17T14:42:36.467Z"
   },
   {
    "duration": 60,
    "start_time": "2023-04-17T14:43:06.897Z"
   },
   {
    "duration": 12,
    "start_time": "2023-04-17T14:43:06.960Z"
   },
   {
    "duration": 40,
    "start_time": "2023-04-17T14:43:06.974Z"
   },
   {
    "duration": 1288,
    "start_time": "2023-04-17T14:43:07.017Z"
   },
   {
    "duration": 1921,
    "start_time": "2023-04-17T14:43:08.313Z"
   },
   {
    "duration": 0,
    "start_time": "2023-04-17T14:43:10.236Z"
   },
   {
    "duration": 0,
    "start_time": "2023-04-17T14:43:10.239Z"
   },
   {
    "duration": 382,
    "start_time": "2023-04-17T14:57:09.913Z"
   },
   {
    "duration": 409,
    "start_time": "2023-04-17T14:59:10.584Z"
   },
   {
    "duration": 601,
    "start_time": "2023-04-17T15:00:00.392Z"
   },
   {
    "duration": 369,
    "start_time": "2023-04-17T15:00:26.122Z"
   },
   {
    "duration": 11,
    "start_time": "2023-04-17T15:01:47.636Z"
   },
   {
    "duration": 21,
    "start_time": "2023-04-17T15:03:38.897Z"
   },
   {
    "duration": 23,
    "start_time": "2023-04-17T15:04:12.180Z"
   },
   {
    "duration": 19,
    "start_time": "2023-04-17T15:04:24.889Z"
   },
   {
    "duration": 33,
    "start_time": "2023-04-17T15:04:42.684Z"
   },
   {
    "duration": 21,
    "start_time": "2023-04-17T15:04:48.520Z"
   },
   {
    "duration": 22,
    "start_time": "2023-04-17T15:07:15.884Z"
   },
   {
    "duration": 3,
    "start_time": "2023-04-17T15:08:40.789Z"
   },
   {
    "duration": 9,
    "start_time": "2023-04-17T15:09:57.623Z"
   },
   {
    "duration": 81,
    "start_time": "2023-04-17T15:10:26.086Z"
   },
   {
    "duration": 8,
    "start_time": "2023-04-17T15:10:49.987Z"
   },
   {
    "duration": 7,
    "start_time": "2023-04-17T15:11:57.094Z"
   },
   {
    "duration": 548,
    "start_time": "2023-04-17T15:12:32.440Z"
   },
   {
    "duration": 9,
    "start_time": "2023-04-17T15:12:45.392Z"
   },
   {
    "duration": 47,
    "start_time": "2023-04-17T15:13:02.954Z"
   },
   {
    "duration": 8,
    "start_time": "2023-04-17T15:13:03.003Z"
   },
   {
    "duration": 22,
    "start_time": "2023-04-17T15:13:03.013Z"
   },
   {
    "duration": 1019,
    "start_time": "2023-04-17T15:13:03.037Z"
   },
   {
    "duration": 537,
    "start_time": "2023-04-17T15:13:04.058Z"
   },
   {
    "duration": 97,
    "start_time": "2023-04-17T15:13:04.597Z"
   },
   {
    "duration": 501,
    "start_time": "2023-04-17T15:13:04.696Z"
   },
   {
    "duration": 8,
    "start_time": "2023-04-17T16:09:44.664Z"
   },
   {
    "duration": 9,
    "start_time": "2023-04-17T16:09:52.878Z"
   },
   {
    "duration": 9,
    "start_time": "2023-04-17T16:11:18.211Z"
   },
   {
    "duration": 11,
    "start_time": "2023-04-17T16:12:07.908Z"
   },
   {
    "duration": 45,
    "start_time": "2023-04-17T16:12:25.136Z"
   },
   {
    "duration": 7,
    "start_time": "2023-04-17T16:12:25.183Z"
   },
   {
    "duration": 24,
    "start_time": "2023-04-17T16:12:25.192Z"
   },
   {
    "duration": 949,
    "start_time": "2023-04-17T16:12:25.218Z"
   },
   {
    "duration": 617,
    "start_time": "2023-04-17T16:12:26.169Z"
   },
   {
    "duration": 101,
    "start_time": "2023-04-17T16:12:26.789Z"
   },
   {
    "duration": 97,
    "start_time": "2023-04-17T16:12:26.894Z"
   },
   {
    "duration": 37,
    "start_time": "2023-04-17T16:14:25.205Z"
   },
   {
    "duration": 41,
    "start_time": "2023-04-17T16:15:10.867Z"
   },
   {
    "duration": 31,
    "start_time": "2023-04-17T16:15:21.063Z"
   },
   {
    "duration": 221,
    "start_time": "2023-04-17T16:21:26.666Z"
   },
   {
    "duration": 1138,
    "start_time": "2023-04-17T16:28:42.734Z"
   },
   {
    "duration": 1133,
    "start_time": "2023-04-17T16:29:22.111Z"
   },
   {
    "duration": 1146,
    "start_time": "2023-04-17T16:29:59.447Z"
   },
   {
    "duration": 1222,
    "start_time": "2023-04-17T16:30:21.389Z"
   },
   {
    "duration": 251,
    "start_time": "2023-04-17T16:31:23.141Z"
   },
   {
    "duration": 265,
    "start_time": "2023-04-17T16:31:28.884Z"
   },
   {
    "duration": 167,
    "start_time": "2023-04-17T16:34:04.884Z"
   },
   {
    "duration": 296,
    "start_time": "2023-04-17T16:36:30.220Z"
   },
   {
    "duration": 83,
    "start_time": "2023-04-19T06:29:04.863Z"
   },
   {
    "duration": 1508,
    "start_time": "2023-04-19T06:29:09.527Z"
   },
   {
    "duration": 11,
    "start_time": "2023-04-19T06:29:11.038Z"
   },
   {
    "duration": 43,
    "start_time": "2023-04-19T06:29:11.052Z"
   },
   {
    "duration": 1237,
    "start_time": "2023-04-19T06:29:11.098Z"
   },
   {
    "duration": 2983,
    "start_time": "2023-04-19T06:29:12.339Z"
   },
   {
    "duration": 81,
    "start_time": "2023-04-19T06:29:15.337Z"
   },
   {
    "duration": 1290,
    "start_time": "2023-04-19T06:29:15.429Z"
   },
   {
    "duration": 1222,
    "start_time": "2023-04-19T06:42:11.703Z"
   },
   {
    "duration": 7,
    "start_time": "2023-04-19T06:42:12.926Z"
   },
   {
    "duration": 24,
    "start_time": "2023-04-19T06:42:12.935Z"
   },
   {
    "duration": 873,
    "start_time": "2023-04-19T06:42:12.960Z"
   },
   {
    "duration": 670,
    "start_time": "2023-04-19T06:42:13.835Z"
   },
   {
    "duration": 100,
    "start_time": "2023-04-19T06:42:14.595Z"
   },
   {
    "duration": 1037,
    "start_time": "2023-04-19T06:42:14.697Z"
   },
   {
    "duration": 1231,
    "start_time": "2023-04-19T09:13:06.725Z"
   },
   {
    "duration": 11,
    "start_time": "2023-04-19T09:13:07.958Z"
   },
   {
    "duration": 32,
    "start_time": "2023-04-19T09:13:07.970Z"
   },
   {
    "duration": 986,
    "start_time": "2023-04-19T09:13:08.005Z"
   },
   {
    "duration": 260,
    "start_time": "2023-04-19T09:13:08.993Z"
   },
   {
    "duration": 95,
    "start_time": "2023-04-19T09:13:09.256Z"
   },
   {
    "duration": 1133,
    "start_time": "2023-04-19T09:13:09.353Z"
   },
   {
    "duration": 45,
    "start_time": "2023-04-19T09:14:50.793Z"
   },
   {
    "duration": 8,
    "start_time": "2023-04-19T09:14:50.840Z"
   },
   {
    "duration": 127,
    "start_time": "2023-04-19T09:14:50.850Z"
   },
   {
    "duration": 0,
    "start_time": "2023-04-19T09:14:50.979Z"
   },
   {
    "duration": 0,
    "start_time": "2023-04-19T09:14:50.980Z"
   },
   {
    "duration": 0,
    "start_time": "2023-04-19T09:14:50.981Z"
   },
   {
    "duration": 0,
    "start_time": "2023-04-19T09:14:50.982Z"
   },
   {
    "duration": 9,
    "start_time": "2023-04-19T09:21:03.810Z"
   },
   {
    "duration": 46,
    "start_time": "2023-04-19T09:21:06.781Z"
   },
   {
    "duration": 9,
    "start_time": "2023-04-19T09:21:06.829Z"
   },
   {
    "duration": 50,
    "start_time": "2023-04-19T09:21:06.840Z"
   },
   {
    "duration": 1009,
    "start_time": "2023-04-19T09:21:06.892Z"
   },
   {
    "duration": 354,
    "start_time": "2023-04-19T09:21:07.903Z"
   },
   {
    "duration": 90,
    "start_time": "2023-04-19T09:21:08.261Z"
   },
   {
    "duration": 1160,
    "start_time": "2023-04-19T09:21:08.355Z"
   },
   {
    "duration": 10,
    "start_time": "2023-04-19T09:22:57.783Z"
   },
   {
    "duration": 20,
    "start_time": "2023-04-19T09:24:00.827Z"
   },
   {
    "duration": 21,
    "start_time": "2023-04-19T09:24:25.832Z"
   },
   {
    "duration": 10,
    "start_time": "2023-04-19T09:29:11.077Z"
   },
   {
    "duration": 45,
    "start_time": "2023-04-19T09:29:21.706Z"
   },
   {
    "duration": 10,
    "start_time": "2023-04-19T09:29:21.752Z"
   },
   {
    "duration": 31,
    "start_time": "2023-04-19T09:29:21.763Z"
   },
   {
    "duration": 984,
    "start_time": "2023-04-19T09:29:21.796Z"
   },
   {
    "duration": 18,
    "start_time": "2023-04-19T09:29:22.782Z"
   },
   {
    "duration": 50,
    "start_time": "2023-04-19T09:29:22.802Z"
   },
   {
    "duration": 1112,
    "start_time": "2023-04-19T09:29:22.854Z"
   },
   {
    "duration": 21,
    "start_time": "2023-04-19T09:30:10.362Z"
   },
   {
    "duration": 20,
    "start_time": "2023-04-19T09:31:13.432Z"
   },
   {
    "duration": 19,
    "start_time": "2023-04-19T09:33:43.915Z"
   },
   {
    "duration": 9,
    "start_time": "2023-04-19T09:34:55.861Z"
   },
   {
    "duration": 35,
    "start_time": "2023-04-19T09:39:09.433Z"
   },
   {
    "duration": 21,
    "start_time": "2023-04-19T09:40:48.707Z"
   },
   {
    "duration": 15,
    "start_time": "2023-04-19T09:42:01.017Z"
   },
   {
    "duration": 61,
    "start_time": "2023-04-19T09:43:30.964Z"
   },
   {
    "duration": 22,
    "start_time": "2023-04-19T09:43:37.403Z"
   },
   {
    "duration": 18,
    "start_time": "2023-04-19T09:43:52.242Z"
   },
   {
    "duration": 9,
    "start_time": "2023-04-19T10:04:12.241Z"
   },
   {
    "duration": 53,
    "start_time": "2023-04-19T10:04:19.502Z"
   },
   {
    "duration": 11,
    "start_time": "2023-04-19T10:04:19.558Z"
   },
   {
    "duration": 38,
    "start_time": "2023-04-19T10:04:19.570Z"
   },
   {
    "duration": 994,
    "start_time": "2023-04-19T10:04:19.610Z"
   },
   {
    "duration": 26,
    "start_time": "2023-04-19T10:04:20.605Z"
   },
   {
    "duration": 26,
    "start_time": "2023-04-19T10:04:20.633Z"
   },
   {
    "duration": 197,
    "start_time": "2023-04-19T10:04:20.661Z"
   },
   {
    "duration": 9,
    "start_time": "2023-04-19T10:04:41.860Z"
   },
   {
    "duration": 21,
    "start_time": "2023-04-19T10:04:46.155Z"
   },
   {
    "duration": 3888,
    "start_time": "2023-04-19T10:05:02.100Z"
   },
   {
    "duration": 36,
    "start_time": "2023-04-19T10:05:23.796Z"
   },
   {
    "duration": 27,
    "start_time": "2023-04-19T10:05:38.924Z"
   },
   {
    "duration": 1140,
    "start_time": "2023-04-19T10:06:24.139Z"
   },
   {
    "duration": 21,
    "start_time": "2023-04-19T10:07:53.724Z"
   },
   {
    "duration": 20,
    "start_time": "2023-04-19T10:08:07.643Z"
   },
   {
    "duration": 13,
    "start_time": "2023-04-19T10:11:37.195Z"
   },
   {
    "duration": 20,
    "start_time": "2023-04-19T10:12:23.282Z"
   },
   {
    "duration": 13,
    "start_time": "2023-04-19T10:13:25.274Z"
   },
   {
    "duration": 10,
    "start_time": "2023-04-19T10:17:53.769Z"
   },
   {
    "duration": 22,
    "start_time": "2023-04-19T10:18:04.224Z"
   },
   {
    "duration": 215,
    "start_time": "2023-04-19T10:22:27.240Z"
   },
   {
    "duration": 1797,
    "start_time": "2023-04-20T07:13:37.703Z"
   },
   {
    "duration": 26,
    "start_time": "2023-04-20T07:13:39.503Z"
   },
   {
    "duration": 59,
    "start_time": "2023-04-20T07:13:39.536Z"
   },
   {
    "duration": 1315,
    "start_time": "2023-04-20T07:13:39.599Z"
   },
   {
    "duration": 52,
    "start_time": "2023-04-20T07:13:40.916Z"
   },
   {
    "duration": 53,
    "start_time": "2023-04-20T07:13:40.970Z"
   },
   {
    "duration": 355,
    "start_time": "2023-04-20T07:13:41.039Z"
   },
   {
    "duration": 5,
    "start_time": "2023-04-20T07:17:22.847Z"
   },
   {
    "duration": 5,
    "start_time": "2023-04-20T07:17:49.737Z"
   },
   {
    "duration": 52,
    "start_time": "2023-04-24T15:15:03.974Z"
   },
   {
    "duration": 7,
    "start_time": "2023-04-24T15:15:17.105Z"
   },
   {
    "duration": 234,
    "start_time": "2023-04-24T15:16:00.416Z"
   },
   {
    "duration": 114,
    "start_time": "2023-04-24T15:16:22.023Z"
   },
   {
    "duration": 136,
    "start_time": "2023-04-24T15:16:31.405Z"
   },
   {
    "duration": 1359,
    "start_time": "2023-04-24T15:16:41.406Z"
   },
   {
    "duration": 11,
    "start_time": "2023-04-24T15:16:42.768Z"
   },
   {
    "duration": 32,
    "start_time": "2023-04-24T15:16:42.781Z"
   },
   {
    "duration": 994,
    "start_time": "2023-04-24T15:16:42.815Z"
   },
   {
    "duration": 23,
    "start_time": "2023-04-24T15:16:43.811Z"
   },
   {
    "duration": 8,
    "start_time": "2023-04-24T15:16:43.836Z"
   },
   {
    "duration": 168,
    "start_time": "2023-04-24T15:16:43.890Z"
   },
   {
    "duration": 51,
    "start_time": "2023-04-24T15:16:52.243Z"
   },
   {
    "duration": 10,
    "start_time": "2023-04-24T15:16:52.296Z"
   },
   {
    "duration": 37,
    "start_time": "2023-04-24T15:16:52.308Z"
   },
   {
    "duration": 1056,
    "start_time": "2023-04-24T15:16:52.347Z"
   },
   {
    "duration": 25,
    "start_time": "2023-04-24T15:16:53.405Z"
   },
   {
    "duration": 62,
    "start_time": "2023-04-24T15:16:53.432Z"
   },
   {
    "duration": 167,
    "start_time": "2023-04-24T15:16:53.497Z"
   },
   {
    "duration": 7,
    "start_time": "2023-04-24T15:17:08.663Z"
   },
   {
    "duration": 141,
    "start_time": "2023-04-24T15:17:17.869Z"
   },
   {
    "duration": 150,
    "start_time": "2023-04-24T15:17:44.165Z"
   },
   {
    "duration": 206,
    "start_time": "2023-04-24T15:17:52.301Z"
   },
   {
    "duration": 25,
    "start_time": "2023-04-24T15:20:20.452Z"
   },
   {
    "duration": 19,
    "start_time": "2023-04-24T15:20:28.733Z"
   },
   {
    "duration": 128,
    "start_time": "2023-04-24T15:20:42.546Z"
   },
   {
    "duration": 161,
    "start_time": "2023-04-24T15:20:51.949Z"
   },
   {
    "duration": 20,
    "start_time": "2023-04-24T15:21:10.157Z"
   },
   {
    "duration": 11,
    "start_time": "2023-04-24T15:23:20.660Z"
   },
   {
    "duration": 12,
    "start_time": "2023-04-24T15:23:24.676Z"
   },
   {
    "duration": 12,
    "start_time": "2023-04-24T15:24:16.504Z"
   },
   {
    "duration": 11,
    "start_time": "2023-04-24T15:24:53.747Z"
   },
   {
    "duration": 10,
    "start_time": "2023-04-24T15:25:00.818Z"
   },
   {
    "duration": 53,
    "start_time": "2023-04-24T15:25:11.322Z"
   },
   {
    "duration": 12,
    "start_time": "2023-04-24T15:25:11.377Z"
   },
   {
    "duration": 49,
    "start_time": "2023-04-24T15:25:11.391Z"
   },
   {
    "duration": 1028,
    "start_time": "2023-04-24T15:25:11.443Z"
   },
   {
    "duration": 34,
    "start_time": "2023-04-24T15:25:12.473Z"
   },
   {
    "duration": 80,
    "start_time": "2023-04-24T15:25:12.509Z"
   },
   {
    "duration": 14,
    "start_time": "2023-04-24T15:25:12.591Z"
   },
   {
    "duration": 50,
    "start_time": "2023-04-24T15:43:17.602Z"
   },
   {
    "duration": 10,
    "start_time": "2023-04-24T15:43:17.654Z"
   },
   {
    "duration": 27,
    "start_time": "2023-04-24T15:43:17.666Z"
   },
   {
    "duration": 997,
    "start_time": "2023-04-24T15:43:17.695Z"
   },
   {
    "duration": 25,
    "start_time": "2023-04-24T15:43:18.694Z"
   },
   {
    "duration": 74,
    "start_time": "2023-04-24T15:43:18.721Z"
   },
   {
    "duration": 100,
    "start_time": "2023-04-24T15:43:18.796Z"
   },
   {
    "duration": 7,
    "start_time": "2023-04-24T16:38:36.208Z"
   },
   {
    "duration": 13,
    "start_time": "2023-04-24T16:38:46.369Z"
   },
   {
    "duration": 1293,
    "start_time": "2023-04-25T13:19:22.347Z"
   },
   {
    "duration": 10,
    "start_time": "2023-04-25T13:19:23.642Z"
   },
   {
    "duration": 33,
    "start_time": "2023-04-25T13:19:23.653Z"
   },
   {
    "duration": 976,
    "start_time": "2023-04-25T13:19:23.688Z"
   },
   {
    "duration": 18,
    "start_time": "2023-04-25T13:19:24.666Z"
   },
   {
    "duration": 36,
    "start_time": "2023-04-25T13:19:24.685Z"
   },
   {
    "duration": 105,
    "start_time": "2023-04-25T13:19:24.723Z"
   },
   {
    "duration": 47,
    "start_time": "2023-04-26T10:33:31.204Z"
   },
   {
    "duration": 8,
    "start_time": "2023-04-26T10:33:54.754Z"
   },
   {
    "duration": 1255,
    "start_time": "2023-04-26T10:34:01.413Z"
   },
   {
    "duration": 10,
    "start_time": "2023-04-26T10:34:02.670Z"
   },
   {
    "duration": 41,
    "start_time": "2023-04-26T10:34:02.682Z"
   },
   {
    "duration": 941,
    "start_time": "2023-04-26T10:34:02.725Z"
   },
   {
    "duration": 36,
    "start_time": "2023-04-26T10:34:03.668Z"
   },
   {
    "duration": 10,
    "start_time": "2023-04-26T10:34:03.708Z"
   },
   {
    "duration": 95,
    "start_time": "2023-04-26T10:34:03.722Z"
   },
   {
    "duration": 1220,
    "start_time": "2023-04-27T07:52:09.456Z"
   },
   {
    "duration": 9,
    "start_time": "2023-04-27T07:52:10.679Z"
   },
   {
    "duration": 19,
    "start_time": "2023-04-27T07:52:10.689Z"
   },
   {
    "duration": 948,
    "start_time": "2023-04-27T07:52:10.710Z"
   },
   {
    "duration": 21,
    "start_time": "2023-04-27T07:52:11.660Z"
   },
   {
    "duration": 100,
    "start_time": "2023-04-27T07:52:11.694Z"
   },
   {
    "duration": 102,
    "start_time": "2023-04-27T07:52:11.799Z"
   },
   {
    "duration": 1446,
    "start_time": "2023-05-22T13:33:47.907Z"
   },
   {
    "duration": 2947,
    "start_time": "2023-05-22T13:33:58.086Z"
   },
   {
    "duration": 137,
    "start_time": "2023-05-22T13:35:36.229Z"
   },
   {
    "duration": 11,
    "start_time": "2023-05-22T13:35:36.367Z"
   },
   {
    "duration": 61,
    "start_time": "2023-05-22T13:35:36.379Z"
   },
   {
    "duration": 1012,
    "start_time": "2023-05-22T13:35:36.442Z"
   },
   {
    "duration": 24,
    "start_time": "2023-05-22T13:35:37.456Z"
   },
   {
    "duration": 51,
    "start_time": "2023-05-22T13:35:37.482Z"
   },
   {
    "duration": 189,
    "start_time": "2023-05-22T13:35:37.536Z"
   },
   {
    "duration": 11,
    "start_time": "2023-05-22T13:35:37.726Z"
   },
   {
    "duration": 824,
    "start_time": "2023-05-22T13:35:37.738Z"
   },
   {
    "duration": 21,
    "start_time": "2023-05-22T13:35:38.565Z"
   },
   {
    "duration": 42,
    "start_time": "2023-05-22T13:35:38.588Z"
   },
   {
    "duration": 28,
    "start_time": "2023-05-22T13:35:38.632Z"
   },
   {
    "duration": 29,
    "start_time": "2023-05-22T13:35:38.662Z"
   },
   {
    "duration": 35,
    "start_time": "2023-05-22T13:35:38.693Z"
   },
   {
    "duration": 22,
    "start_time": "2023-05-22T13:35:38.730Z"
   },
   {
    "duration": 34,
    "start_time": "2023-05-22T13:35:38.754Z"
   },
   {
    "duration": 38,
    "start_time": "2023-05-22T13:35:38.790Z"
   },
   {
    "duration": 261,
    "start_time": "2023-05-22T13:35:38.830Z"
   },
   {
    "duration": 37,
    "start_time": "2023-05-22T13:35:39.093Z"
   },
   {
    "duration": 7,
    "start_time": "2023-05-22T13:35:39.131Z"
   },
   {
    "duration": 44,
    "start_time": "2023-05-22T13:37:38.200Z"
   },
   {
    "duration": 13,
    "start_time": "2023-05-22T13:37:38.245Z"
   },
   {
    "duration": 43,
    "start_time": "2023-05-22T13:37:38.260Z"
   },
   {
    "duration": 929,
    "start_time": "2023-05-22T13:37:38.324Z"
   },
   {
    "duration": 34,
    "start_time": "2023-05-22T13:37:39.254Z"
   },
   {
    "duration": 39,
    "start_time": "2023-05-22T13:37:39.290Z"
   },
   {
    "duration": 222,
    "start_time": "2023-05-22T13:37:39.330Z"
   },
   {
    "duration": 9,
    "start_time": "2023-05-22T13:37:39.554Z"
   },
   {
    "duration": 772,
    "start_time": "2023-05-22T13:37:39.564Z"
   },
   {
    "duration": 22,
    "start_time": "2023-05-22T13:37:40.339Z"
   },
   {
    "duration": 69,
    "start_time": "2023-05-22T13:37:40.363Z"
   },
   {
    "duration": 45,
    "start_time": "2023-05-22T13:37:40.434Z"
   },
   {
    "duration": 32,
    "start_time": "2023-05-22T13:37:40.481Z"
   },
   {
    "duration": 38,
    "start_time": "2023-05-22T13:37:40.515Z"
   },
   {
    "duration": 10,
    "start_time": "2023-05-22T13:37:40.555Z"
   },
   {
    "duration": 35,
    "start_time": "2023-05-22T13:37:40.568Z"
   },
   {
    "duration": 44,
    "start_time": "2023-05-22T13:37:40.605Z"
   },
   {
    "duration": 287,
    "start_time": "2023-05-22T13:37:40.651Z"
   },
   {
    "duration": 31,
    "start_time": "2023-05-22T13:37:40.941Z"
   },
   {
    "duration": 6,
    "start_time": "2023-05-22T13:37:40.973Z"
   },
   {
    "duration": 10,
    "start_time": "2023-05-22T13:37:40.981Z"
   },
   {
    "duration": 6,
    "start_time": "2023-05-22T13:37:40.993Z"
   },
   {
    "duration": 25,
    "start_time": "2023-05-22T13:37:41.000Z"
   },
   {
    "duration": 57,
    "start_time": "2023-05-22T13:37:41.027Z"
   },
   {
    "duration": 0,
    "start_time": "2023-05-22T13:37:41.087Z"
   },
   {
    "duration": 0,
    "start_time": "2023-05-22T13:37:41.089Z"
   },
   {
    "duration": 0,
    "start_time": "2023-05-22T13:37:41.090Z"
   },
   {
    "duration": 0,
    "start_time": "2023-05-22T13:37:41.091Z"
   },
   {
    "duration": 0,
    "start_time": "2023-05-22T13:37:41.092Z"
   },
   {
    "duration": 0,
    "start_time": "2023-05-22T13:37:41.093Z"
   },
   {
    "duration": 0,
    "start_time": "2023-05-22T13:37:41.094Z"
   },
   {
    "duration": 0,
    "start_time": "2023-05-22T13:37:41.096Z"
   },
   {
    "duration": 48,
    "start_time": "2023-05-22T13:38:28.497Z"
   },
   {
    "duration": 10,
    "start_time": "2023-05-22T13:38:28.546Z"
   },
   {
    "duration": 29,
    "start_time": "2023-05-22T13:38:28.558Z"
   },
   {
    "duration": 894,
    "start_time": "2023-05-22T13:38:28.624Z"
   },
   {
    "duration": 32,
    "start_time": "2023-05-22T13:38:29.520Z"
   },
   {
    "duration": 74,
    "start_time": "2023-05-22T13:38:29.554Z"
   },
   {
    "duration": 107,
    "start_time": "2023-05-22T13:38:29.630Z"
   },
   {
    "duration": 4,
    "start_time": "2023-05-22T13:38:29.739Z"
   },
   {
    "duration": 689,
    "start_time": "2023-05-22T13:38:29.744Z"
   },
   {
    "duration": 22,
    "start_time": "2023-05-22T13:38:30.435Z"
   },
   {
    "duration": 51,
    "start_time": "2023-05-22T13:38:30.458Z"
   },
   {
    "duration": 45,
    "start_time": "2023-05-22T13:38:30.510Z"
   },
   {
    "duration": 61,
    "start_time": "2023-05-22T13:38:30.557Z"
   },
   {
    "duration": 61,
    "start_time": "2023-05-22T13:38:30.621Z"
   },
   {
    "duration": 70,
    "start_time": "2023-05-22T13:38:30.684Z"
   },
   {
    "duration": 52,
    "start_time": "2023-05-22T13:38:30.756Z"
   },
   {
    "duration": 42,
    "start_time": "2023-05-22T13:38:30.810Z"
   },
   {
    "duration": 276,
    "start_time": "2023-05-22T13:38:30.854Z"
   },
   {
    "duration": 23,
    "start_time": "2023-05-22T13:38:31.132Z"
   },
   {
    "duration": 53,
    "start_time": "2023-05-22T13:38:31.157Z"
   },
   {
    "duration": 55,
    "start_time": "2023-05-22T13:38:31.211Z"
   },
   {
    "duration": 40,
    "start_time": "2023-05-22T13:38:31.278Z"
   },
   {
    "duration": 23,
    "start_time": "2023-05-22T13:38:31.321Z"
   },
   {
    "duration": 28,
    "start_time": "2023-05-22T13:38:31.345Z"
   },
   {
    "duration": 24,
    "start_time": "2023-05-22T13:38:31.376Z"
   },
   {
    "duration": 52,
    "start_time": "2023-05-22T13:38:31.405Z"
   },
   {
    "duration": 41,
    "start_time": "2023-05-22T13:38:31.459Z"
   },
   {
    "duration": 29,
    "start_time": "2023-05-22T13:38:31.504Z"
   },
   {
    "duration": 35,
    "start_time": "2023-05-22T13:38:31.535Z"
   },
   {
    "duration": 3313,
    "start_time": "2023-05-22T13:38:31.572Z"
   },
   {
    "duration": 535,
    "start_time": "2023-05-22T13:38:34.887Z"
   },
   {
    "duration": 8,
    "start_time": "2023-05-22T13:38:35.425Z"
   },
   {
    "duration": 1350,
    "start_time": "2023-05-22T13:38:35.434Z"
   },
   {
    "duration": 46,
    "start_time": "2023-05-22T13:41:50.991Z"
   },
   {
    "duration": 10,
    "start_time": "2023-05-22T13:41:51.038Z"
   },
   {
    "duration": 91,
    "start_time": "2023-05-22T13:41:51.050Z"
   },
   {
    "duration": 874,
    "start_time": "2023-05-22T13:41:51.143Z"
   },
   {
    "duration": 23,
    "start_time": "2023-05-22T13:41:52.024Z"
   },
   {
    "duration": 80,
    "start_time": "2023-05-22T13:41:52.048Z"
   },
   {
    "duration": 110,
    "start_time": "2023-05-22T13:41:52.130Z"
   },
   {
    "duration": 8,
    "start_time": "2023-05-22T13:41:52.242Z"
   },
   {
    "duration": 662,
    "start_time": "2023-05-22T13:41:52.252Z"
   },
   {
    "duration": 24,
    "start_time": "2023-05-22T13:41:52.917Z"
   },
   {
    "duration": 24,
    "start_time": "2023-05-22T13:41:52.942Z"
   },
   {
    "duration": 22,
    "start_time": "2023-05-22T13:41:52.968Z"
   },
   {
    "duration": 43,
    "start_time": "2023-05-22T13:41:52.991Z"
   },
   {
    "duration": 31,
    "start_time": "2023-05-22T13:41:53.035Z"
   },
   {
    "duration": 44,
    "start_time": "2023-05-22T13:41:53.068Z"
   },
   {
    "duration": 25,
    "start_time": "2023-05-22T13:41:53.114Z"
   },
   {
    "duration": 62,
    "start_time": "2023-05-22T13:41:53.142Z"
   },
   {
    "duration": 241,
    "start_time": "2023-05-22T13:41:53.206Z"
   },
   {
    "duration": 22,
    "start_time": "2023-05-22T13:41:53.449Z"
   },
   {
    "duration": 10,
    "start_time": "2023-05-22T13:41:53.473Z"
   },
   {
    "duration": 22,
    "start_time": "2023-05-22T13:41:53.485Z"
   },
   {
    "duration": 10,
    "start_time": "2023-05-22T13:41:53.508Z"
   },
   {
    "duration": 7,
    "start_time": "2023-05-22T13:41:53.519Z"
   },
   {
    "duration": 6,
    "start_time": "2023-05-22T13:41:53.527Z"
   },
   {
    "duration": 10,
    "start_time": "2023-05-22T13:41:53.534Z"
   },
   {
    "duration": 16,
    "start_time": "2023-05-22T13:41:53.545Z"
   },
   {
    "duration": 17,
    "start_time": "2023-05-22T13:41:53.562Z"
   },
   {
    "duration": 7,
    "start_time": "2023-05-22T13:41:53.583Z"
   },
   {
    "duration": 7,
    "start_time": "2023-05-22T13:41:53.592Z"
   },
   {
    "duration": 3181,
    "start_time": "2023-05-22T13:41:53.601Z"
   },
   {
    "duration": 493,
    "start_time": "2023-05-22T13:41:56.783Z"
   },
   {
    "duration": 8,
    "start_time": "2023-05-22T13:41:57.278Z"
   },
   {
    "duration": 1060,
    "start_time": "2023-05-22T13:41:57.287Z"
   },
   {
    "duration": 25,
    "start_time": "2023-05-22T13:41:58.349Z"
   },
   {
    "duration": 3,
    "start_time": "2023-05-22T13:41:58.376Z"
   },
   {
    "duration": 13,
    "start_time": "2023-05-22T13:41:58.380Z"
   },
   {
    "duration": 8,
    "start_time": "2023-05-22T13:41:58.395Z"
   },
   {
    "duration": 26,
    "start_time": "2023-05-22T13:41:58.404Z"
   },
   {
    "duration": 7,
    "start_time": "2023-05-22T13:41:58.432Z"
   },
   {
    "duration": 6,
    "start_time": "2023-05-22T13:41:58.441Z"
   },
   {
    "duration": 10,
    "start_time": "2023-05-22T13:41:58.448Z"
   },
   {
    "duration": 22,
    "start_time": "2023-05-22T13:41:58.459Z"
   },
   {
    "duration": 3147,
    "start_time": "2023-05-22T13:41:58.482Z"
   },
   {
    "duration": 5,
    "start_time": "2023-05-22T13:42:01.632Z"
   },
   {
    "duration": 23389,
    "start_time": "2023-05-22T13:42:01.639Z"
   },
   {
    "duration": 774987,
    "start_time": "2023-05-22T13:42:25.030Z"
   },
   {
    "duration": 8,
    "start_time": "2023-05-22T13:55:20.019Z"
   },
   {
    "duration": 19,
    "start_time": "2023-05-22T13:55:20.029Z"
   },
   {
    "duration": 15,
    "start_time": "2023-05-22T13:55:20.050Z"
   },
   {
    "duration": 3458,
    "start_time": "2023-05-22T13:55:20.066Z"
   },
   {
    "duration": 8,
    "start_time": "2023-05-22T13:55:23.526Z"
   },
   {
    "duration": 18,
    "start_time": "2023-05-22T13:55:23.536Z"
   }
  ],
  "kernelspec": {
   "display_name": "Python 3 (ipykernel)",
   "language": "python",
   "name": "python3"
  },
  "language_info": {
   "codemirror_mode": {
    "name": "ipython",
    "version": 3
   },
   "file_extension": ".py",
   "mimetype": "text/x-python",
   "name": "python",
   "nbconvert_exporter": "python",
   "pygments_lexer": "ipython3",
   "version": "3.9.5"
  },
  "toc": {
   "base_numbering": 1,
   "nav_menu": {},
   "number_sections": true,
   "sideBar": true,
   "skip_h1_title": true,
   "title_cell": "Table of Contents",
   "title_sidebar": "Contents",
   "toc_cell": false,
   "toc_position": {},
   "toc_section_display": true,
   "toc_window_display": false
  }
 },
 "nbformat": 4,
 "nbformat_minor": 2
}
