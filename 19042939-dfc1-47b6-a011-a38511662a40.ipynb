{
 "cells": [
  {
   "cell_type": "markdown",
   "metadata": {},
   "source": [
    "\n",
    "Привет еще раз, меня зовут Люман Аблаев. Сегодня я проверю твой проект.\n",
    "<br> Дальнейшее общение будет происходить на \"ты\" если это не вызывает никаких проблем.\n",
    "<br> Желательно реагировать на красные комментарии ('исправил', 'не понятно как исправить ошибку', ...)\n",
    "<br> Пожалуйста, не удаляй комментарии ревьюера, так как они повышают качество повторного ревью.\n",
    "\n",
    "Комментарии будут в <font color='green'>зеленой</font>, <font color='blue'>синей</font> или <font color='red'>красной</font> рамках:\n",
    "\n",
    "\n",
    "<div class=\"alert alert-block alert-success\">\n",
    "<b>Успех:</b> Если все сделано отлично\n",
    "</div>\n",
    "\n",
    "<div class=\"alert alert-block alert-info\">\n",
    "<b>Совет: </b> Если можно немного улучшить\n",
    "</div>\n",
    "\n",
    "<div class=\"alert alert-block alert-danger\">\n",
    "<b>Ошибка:</b> Если требуются исправления. Работа не может быть принята с красными комментариями.\n",
    "</div>\n",
    "\n",
    "-------------------\n",
    "\n",
    "Будет очень хорошо, если ты будешь помечать свои действия следующим образом:\n",
    "<div class=\"alert alert-block alert-warning\">\n",
    "<b>Комментарий студента:</b> ...\n",
    "</div>\n",
    "\n",
    "<div class=\"alert alert-block alert-warning\">\n",
    "<b>Изменения:</b> Были внесены следующие изменения ...\n",
    "</div>\n",
    "\n",
    "\n",
    "\n",
    "\n",
    "\n",
    "\n",
    "\n",
    "<font color='orange' style='font-size:24px; font-weight:bold'>Общее впечатление</font>\n",
    "* Спасибо за очередную качественную работу - видно, что приложено много усилий,\n",
    "- Я оставил некоторые советы, надеюсь они будут полезными и интересными\n",
    "- Есть некоторые недочеты, которые нужно поправить, но у тебя это не должно занять много времени)\n",
    "- Жду обновленную работу"
   ]
  },
  {
   "cell_type": "markdown",
   "metadata": {},
   "source": [
    "<font color='orange' style='font-size:24px; font-weight:bold'>Общее впечатление[4]</font>\n",
    "* Спасибо за усердность!\n",
    "- Было приятно с тобой сотрудничать.\n",
    "- Недочеты исправлены - работа полностью корректна\n",
    "- Не буду больше задерживать, продолжай в том же духе.\n"
   ]
  },
  {
   "cell_type": "markdown",
   "metadata": {},
   "source": [
    "# Определение стоимости автомобилей"
   ]
  },
  {
   "cell_type": "markdown",
   "metadata": {},
   "source": [
    "Сервис по продаже автомобилей с пробегом «Не бит, не крашен» разрабатывает приложение для привлечения новых клиентов. В нём можно быстро узнать рыночную стоимость своего автомобиля. В вашем распоряжении исторические данные: технические характеристики, комплектации и цены автомобилей. Вам нужно построить модель для определения стоимости. \n",
    "\n",
    "Заказчику важны:\n",
    "\n",
    "- качество предсказания;\n",
    "- скорость предсказания;\n",
    "- время обучения."
   ]
  },
  {
   "cell_type": "markdown",
   "metadata": {},
   "source": [
    "## Подготовка данных"
   ]
  },
  {
   "cell_type": "code",
   "execution_count": 1,
   "metadata": {},
   "outputs": [],
   "source": [
    "import pandas as pd\n",
    "from catboost import CatBoostRegressor\n",
    "from sklearn.model_selection import train_test_split\n",
    "from sklearn.metrics import mean_squared_error\n",
    "from lightgbm import LGBMRegressor\n",
    "import timeit\n",
    "from sklearn.dummy import DummyRegressor\n",
    "from sklearn.linear_model import LinearRegression\n",
    "from sklearn.model_selection import GridSearchCV"
   ]
  },
  {
   "cell_type": "markdown",
   "metadata": {},
   "source": [
    "<div class=\"alert alert-block alert-success\">\n",
    "<b>Успех:</b> Импорты  на месте\n",
    "</div>"
   ]
  },
  {
   "cell_type": "code",
   "execution_count": 2,
   "metadata": {},
   "outputs": [
    {
     "name": "stdout",
     "output_type": "stream",
     "text": [
      "<class 'pandas.core.frame.DataFrame'>\n",
      "RangeIndex: 354369 entries, 0 to 354368\n",
      "Data columns (total 16 columns):\n",
      " #   Column             Non-Null Count   Dtype \n",
      "---  ------             --------------   ----- \n",
      " 0   DateCrawled        354369 non-null  object\n",
      " 1   Price              354369 non-null  int64 \n",
      " 2   VehicleType        316879 non-null  object\n",
      " 3   RegistrationYear   354369 non-null  int64 \n",
      " 4   Gearbox            334536 non-null  object\n",
      " 5   Power              354369 non-null  int64 \n",
      " 6   Model              334664 non-null  object\n",
      " 7   Kilometer          354369 non-null  int64 \n",
      " 8   RegistrationMonth  354369 non-null  int64 \n",
      " 9   FuelType           321474 non-null  object\n",
      " 10  Brand              354369 non-null  object\n",
      " 11  Repaired           283215 non-null  object\n",
      " 12  DateCreated        354369 non-null  object\n",
      " 13  NumberOfPictures   354369 non-null  int64 \n",
      " 14  PostalCode         354369 non-null  int64 \n",
      " 15  LastSeen           354369 non-null  object\n",
      "dtypes: int64(7), object(9)\n",
      "memory usage: 43.3+ MB\n"
     ]
    }
   ],
   "source": [
    "data = pd.read_csv('/datasets/autos.csv')\n",
    "data.info()"
   ]
  },
  {
   "cell_type": "code",
   "execution_count": 3,
   "metadata": {},
   "outputs": [],
   "source": [
    "data['time_in_use'] = pd.DatetimeIndex(data['DateCreated']).year - data['RegistrationYear']"
   ]
  },
  {
   "cell_type": "markdown",
   "metadata": {},
   "source": [
    "Создадим столбец сколько лет авто было на учете до выставления на продажу."
   ]
  },
  {
   "cell_type": "code",
   "execution_count": 4,
   "metadata": {},
   "outputs": [],
   "source": [
    "data = data.drop(data[data['time_in_use'] < 0].index)"
   ]
  },
  {
   "cell_type": "markdown",
   "metadata": {},
   "source": [
    "Удалим строки с машинами поставленными на учет после выставления обьявления"
   ]
  },
  {
   "cell_type": "code",
   "execution_count": 5,
   "metadata": {},
   "outputs": [],
   "source": [
    "data = data.drop(data[data['RegistrationYear'] < 1980].index)\n",
    "data = data.drop(data[data['RegistrationYear'] > 2020].index)"
   ]
  },
  {
   "cell_type": "markdown",
   "metadata": {},
   "source": [
    "\n",
    "<div class=\"alert alert-block alert-info\">\n",
    "<b>Совет:</b> Советую посмотреть на дату выгрузки анкет - там тоже можно увидеть полезную информацию по поводу границ года регистраци.\n",
    "</div>"
   ]
  },
  {
   "cell_type": "markdown",
   "metadata": {},
   "source": [
    "Удалим строки с авто старше 1980"
   ]
  },
  {
   "cell_type": "code",
   "execution_count": 6,
   "metadata": {},
   "outputs": [
    {
     "data": {
      "text/plain": [
       "count    336387.000000\n",
       "mean       4447.274794\n",
       "std        4526.680863\n",
       "min           0.000000\n",
       "25%        1099.000000\n",
       "50%        2750.000000\n",
       "75%        6499.000000\n",
       "max       20000.000000\n",
       "Name: Price, dtype: float64"
      ]
     },
     "execution_count": 6,
     "metadata": {},
     "output_type": "execute_result"
    }
   ],
   "source": [
    "data['Price'].describe()"
   ]
  },
  {
   "cell_type": "code",
   "execution_count": 7,
   "metadata": {},
   "outputs": [],
   "source": [
    "data = data.drop(data[data['Price'] < 200].index)"
   ]
  },
  {
   "cell_type": "markdown",
   "metadata": {},
   "source": [
    "<div class=\"alert alert-block alert-success\">\n",
    "<b>Успех:</b>  Самое интересное, что на нескольких сайтов по продажам подержанных автомобилей в Германии (страну можно определить по почтовым индексам, большинство из них из Германии) показало, что цены начинаются действительно с 0 и 1 евро, но это единичные объявления и не понятно, то ли это ошибка при заполнении формы, то ли машины на металлолом. Но я  все-таки склоняюсь к тому, чтобы избавиться от таких данных\n",
    "</div>"
   ]
  },
  {
   "cell_type": "markdown",
   "metadata": {},
   "source": [
    "Удалим строки с низкой ценой, иногда такиецены выставляют для попадания в топ."
   ]
  },
  {
   "cell_type": "code",
   "execution_count": 8,
   "metadata": {},
   "outputs": [
    {
     "name": "stdout",
     "output_type": "stream",
     "text": [
      "<class 'pandas.core.frame.DataFrame'>\n",
      "Int64Index: 320256 entries, 0 to 354368\n",
      "Data columns (total 17 columns):\n",
      " #   Column             Non-Null Count   Dtype \n",
      "---  ------             --------------   ----- \n",
      " 0   DateCrawled        320256 non-null  object\n",
      " 1   Price              320256 non-null  int64 \n",
      " 2   VehicleType        320256 non-null  object\n",
      " 3   RegistrationYear   320256 non-null  int64 \n",
      " 4   Gearbox            320256 non-null  object\n",
      " 5   Power              320256 non-null  int64 \n",
      " 6   Model              320256 non-null  object\n",
      " 7   Kilometer          320256 non-null  int64 \n",
      " 8   RegistrationMonth  320256 non-null  int64 \n",
      " 9   FuelType           320256 non-null  object\n",
      " 10  Brand              320256 non-null  object\n",
      " 11  Repaired           320256 non-null  object\n",
      " 12  DateCreated        320256 non-null  object\n",
      " 13  NumberOfPictures   320256 non-null  int64 \n",
      " 14  PostalCode         320256 non-null  int64 \n",
      " 15  LastSeen           320256 non-null  object\n",
      " 16  time_in_use        320256 non-null  int64 \n",
      "dtypes: int64(8), object(9)\n",
      "memory usage: 44.0+ MB\n"
     ]
    }
   ],
   "source": [
    "data['Repaired'] = data['Repaired'].fillna('no_info' )\n",
    "data['FuelType'] = data['FuelType'].fillna('no_info' )\n",
    "data['VehicleType'] = data['FuelType'].fillna('no_info' )\n",
    "data['Gearbox'] = data['Gearbox'].fillna('no_info' )\n",
    "data['Model'] = data['Model'].fillna('no_info' )\n",
    "features_no_ohe = data[['RegistrationYear','Power','Kilometer','RegistrationMonth','NumberOfPictures','time_in_use','VehicleType','Gearbox','Model','FuelType','Brand','Repaired']]\n",
    "target_no_ohe = data['Price']\n",
    "data.info()"
   ]
  },
  {
   "cell_type": "markdown",
   "metadata": {},
   "source": [
    "Заменим пропуски в данных 'no_info'"
   ]
  },
  {
   "cell_type": "markdown",
   "metadata": {},
   "source": [
    "<div class=\"alert alert-block alert-success\">\n",
    "<b>Успех:</b> Пропуски обработаны хорошим образом, а удалить неинформативные признаки - верное решение.\n",
    "</div>"
   ]
  },
  {
   "cell_type": "markdown",
   "metadata": {},
   "source": [
    "<div class=\"alert alert-block alert-info\">\n",
    "<b>Совет:</b> У fuel_type есть категории, которые означают одно и тоже - их можно объединить, либо подумать может они действительно означают, что-то разное.\n",
    "</div>\n"
   ]
  },
  {
   "cell_type": "markdown",
   "metadata": {},
   "source": [
    "<div class=\"alert alert-block alert-danger\">\n",
    "<b>Ошибка:</b> Также есть аномалии в мощности, которые нужно как минимум проанализировать\n"
   ]
  },
  {
   "cell_type": "code",
   "execution_count": 9,
   "metadata": {},
   "outputs": [
    {
     "data": {
      "text/plain": [
       "array([190, 163,  75,  69, 102, 109, 125, 101, 105, 140, 115, 131,  60,\n",
       "       136, 160, 231,  50, 118, 193,  99, 113, 218, 122, 129,  70, 306,\n",
       "        95,  61, 177, 170,  55, 143, 232, 150, 156,  80,  82,  90, 155,\n",
       "        54, 185,  87, 180,  86,  84, 224, 235, 200, 178, 265,  77, 110,\n",
       "       144, 120, 286, 116, 184, 126, 204,  88, 194,  64, 305, 197, 179,\n",
       "       250,  45, 313,  41, 165,  98, 130, 114, 211,  56, 201, 213,  58,\n",
       "       107,  83, 174, 100, 220,  73, 192,  68,  66, 299,  74,  52, 147,\n",
       "       310,  71,  97,  65, 239, 203, 300, 103,  85, 258, 320,  63,  81,\n",
       "       148, 145, 280, 260, 104, 188, 333, 186, 117, 141, 132, 234, 158,\n",
       "        92,  51, 135,  59, 230, 209,  43, 146,  67, 106, 166, 276, 344,\n",
       "        72, 249, 237, 245, 111, 326, 279, 138, 175,  96, 226, 301, 334,\n",
       "       128, 133, 124, 219, 241, 167,  94, 182, 196, 238, 228, 112,  48,\n",
       "       272, 139,  79, 256, 243, 252, 396, 340, 121, 345,  44, 187, 289,\n",
       "       222, 198, 284, 450, 233, 387, 347, 172,  57, 137, 212, 476, 314,\n",
       "        47, 173, 290, 207, 205, 171,  78,  91,  89, 349,  40, 108, 325,\n",
       "        76, 350,  93, 142, 343, 199, 119, 164, 264, 152, 367, 240, 208,\n",
       "       210,  46,  53, 435, 225, 127, 176, 161, 603, 307, 354, 206, 771,\n",
       "       355, 273, 223, 255, 151, 123, 154, 149, 268, 620, 400, 275, 242,\n",
       "       285, 162, 328, 329, 134, 420, 247, 168, 215, 360, 330, 283, 500,\n",
       "        62, 183, 254, 321, 315, 169, 600, 181, 426, 379, 157,  42, 195,\n",
       "       309, 507, 381, 271, 440, 189, 401, 236, 521, 270, 159, 292, 515,\n",
       "       303, 216, 610, 504,  49, 267, 331, 261, 253, 696, 376, 227, 311,\n",
       "       217, 322, 394, 298, 296, 294, 551, 246, 363, 390, 221, 259, 606,\n",
       "       266, 374, 392, 405, 601, 430, 295, 411, 541, 382, 287, 214, 751,\n",
       "       297, 457, 282, 602, 388, 385, 335, 202, 750, 269, 460, 288, 316,\n",
       "       191, 278, 380, 257, 449, 153, 520, 560, 281, 386, 671, 274, 277,\n",
       "       341, 338, 445, 517, 431, 371, 428, 304, 348, 370, 579, 580, 408,\n",
       "       358, 489, 262, 585, 353, 490, 352, 346, 550, 800, 251, 337, 365,\n",
       "       700, 487, 519, 612, 229, 584, 318, 510, 525, 685, 317, 703, 514,\n",
       "       362, 332, 324, 308, 475, 640, 248, 651, 368, 505, 398, 409, 776,\n",
       "       459, 357, 339, 361, 454, 650, 604, 336, 416, 323, 572, 244, 399,\n",
       "       743, 544, 645, 702, 442, 540, 754, 356, 364, 293, 508, 682, 732,\n",
       "       421, 377])"
      ]
     },
     "execution_count": 9,
     "metadata": {},
     "output_type": "execute_result"
    }
   ],
   "source": [
    "#data.Power.unique() # \n",
    "data = data.drop(data[data['Power'] > 800].index)\n",
    "data = data.drop(data[data['Power'] < 40].index)\n",
    "data.Power.unique()"
   ]
  },
  {
   "cell_type": "markdown",
   "metadata": {},
   "source": [
    "<div class=\"alert alert-block alert-info\">\n",
    "<b>Совет[2]:</b>  Вопрос на подумать: Как думаешь а машины с 0-ой мощностью могут быть просто без двигателя?\n",
    "</div>\n",
    "\n"
   ]
  },
  {
   "cell_type": "code",
   "execution_count": 10,
   "metadata": {
    "scrolled": true
   },
   "outputs": [
    {
     "data": {
      "text/plain": [
       "['RegistrationYear',\n",
       " 'Power',\n",
       " 'Kilometer',\n",
       " 'RegistrationMonth',\n",
       " 'NumberOfPictures',\n",
       " 'time_in_use',\n",
       " 'VehicleType_electric',\n",
       " 'VehicleType_gasoline',\n",
       " 'VehicleType_hybrid',\n",
       " 'VehicleType_lpg',\n",
       " 'VehicleType_no_info',\n",
       " 'VehicleType_other',\n",
       " 'VehicleType_petrol',\n",
       " 'Gearbox_manual',\n",
       " 'Gearbox_no_info',\n",
       " 'Model_145',\n",
       " 'Model_147',\n",
       " 'Model_156',\n",
       " 'Model_159',\n",
       " 'Model_1_reihe',\n",
       " 'Model_1er',\n",
       " 'Model_200',\n",
       " 'Model_2_reihe',\n",
       " 'Model_300c',\n",
       " 'Model_3_reihe',\n",
       " 'Model_3er',\n",
       " 'Model_4_reihe',\n",
       " 'Model_500',\n",
       " 'Model_5_reihe',\n",
       " 'Model_5er',\n",
       " 'Model_601',\n",
       " 'Model_6_reihe',\n",
       " 'Model_6er',\n",
       " 'Model_7er',\n",
       " 'Model_80',\n",
       " 'Model_850',\n",
       " 'Model_90',\n",
       " 'Model_900',\n",
       " 'Model_9000',\n",
       " 'Model_911',\n",
       " 'Model_a1',\n",
       " 'Model_a2',\n",
       " 'Model_a3',\n",
       " 'Model_a4',\n",
       " 'Model_a5',\n",
       " 'Model_a6',\n",
       " 'Model_a8',\n",
       " 'Model_a_klasse',\n",
       " 'Model_accord',\n",
       " 'Model_agila',\n",
       " 'Model_alhambra',\n",
       " 'Model_almera',\n",
       " 'Model_altea',\n",
       " 'Model_amarok',\n",
       " 'Model_antara',\n",
       " 'Model_arosa',\n",
       " 'Model_astra',\n",
       " 'Model_auris',\n",
       " 'Model_avensis',\n",
       " 'Model_aveo',\n",
       " 'Model_aygo',\n",
       " 'Model_b_klasse',\n",
       " 'Model_b_max',\n",
       " 'Model_beetle',\n",
       " 'Model_berlingo',\n",
       " 'Model_bora',\n",
       " 'Model_boxster',\n",
       " 'Model_bravo',\n",
       " 'Model_c1',\n",
       " 'Model_c2',\n",
       " 'Model_c3',\n",
       " 'Model_c4',\n",
       " 'Model_c5',\n",
       " 'Model_c_klasse',\n",
       " 'Model_c_max',\n",
       " 'Model_c_reihe',\n",
       " 'Model_caddy',\n",
       " 'Model_calibra',\n",
       " 'Model_captiva',\n",
       " 'Model_carisma',\n",
       " 'Model_carnival',\n",
       " 'Model_cayenne',\n",
       " 'Model_cc',\n",
       " 'Model_ceed',\n",
       " 'Model_charade',\n",
       " 'Model_cherokee',\n",
       " 'Model_citigo',\n",
       " 'Model_civic',\n",
       " 'Model_cl',\n",
       " 'Model_clio',\n",
       " 'Model_clk',\n",
       " 'Model_clubman',\n",
       " 'Model_colt',\n",
       " 'Model_combo',\n",
       " 'Model_cooper',\n",
       " 'Model_cordoba',\n",
       " 'Model_corolla',\n",
       " 'Model_corsa',\n",
       " 'Model_cr_reihe',\n",
       " 'Model_croma',\n",
       " 'Model_crossfire',\n",
       " 'Model_cuore',\n",
       " 'Model_cx_reihe',\n",
       " 'Model_defender',\n",
       " 'Model_delta',\n",
       " 'Model_discovery',\n",
       " 'Model_doblo',\n",
       " 'Model_ducato',\n",
       " 'Model_duster',\n",
       " 'Model_e_klasse',\n",
       " 'Model_elefantino',\n",
       " 'Model_eos',\n",
       " 'Model_escort',\n",
       " 'Model_espace',\n",
       " 'Model_exeo',\n",
       " 'Model_fabia',\n",
       " 'Model_fiesta',\n",
       " 'Model_focus',\n",
       " 'Model_forester',\n",
       " 'Model_forfour',\n",
       " 'Model_fortwo',\n",
       " 'Model_fox',\n",
       " 'Model_freelander',\n",
       " 'Model_fusion',\n",
       " 'Model_g_klasse',\n",
       " 'Model_galant',\n",
       " 'Model_galaxy',\n",
       " 'Model_getz',\n",
       " 'Model_gl',\n",
       " 'Model_glk',\n",
       " 'Model_golf',\n",
       " 'Model_grand',\n",
       " 'Model_i3',\n",
       " 'Model_i_reihe',\n",
       " 'Model_ibiza',\n",
       " 'Model_impreza',\n",
       " 'Model_insignia',\n",
       " 'Model_jazz',\n",
       " 'Model_jetta',\n",
       " 'Model_jimny',\n",
       " 'Model_juke',\n",
       " 'Model_justy',\n",
       " 'Model_ka',\n",
       " 'Model_kadett',\n",
       " 'Model_kaefer',\n",
       " 'Model_kalina',\n",
       " 'Model_kalos',\n",
       " 'Model_kangoo',\n",
       " 'Model_kappa',\n",
       " 'Model_kuga',\n",
       " 'Model_laguna',\n",
       " 'Model_lancer',\n",
       " 'Model_lanos',\n",
       " 'Model_legacy',\n",
       " 'Model_leon',\n",
       " 'Model_lodgy',\n",
       " 'Model_logan',\n",
       " 'Model_lupo',\n",
       " 'Model_lybra',\n",
       " 'Model_m_klasse',\n",
       " 'Model_m_reihe',\n",
       " 'Model_materia',\n",
       " 'Model_matiz',\n",
       " 'Model_megane',\n",
       " 'Model_meriva',\n",
       " 'Model_micra',\n",
       " 'Model_mii',\n",
       " 'Model_modus',\n",
       " 'Model_mondeo',\n",
       " 'Model_move',\n",
       " 'Model_musa',\n",
       " 'Model_mustang',\n",
       " 'Model_mx_reihe',\n",
       " 'Model_navara',\n",
       " 'Model_niva',\n",
       " 'Model_no_info',\n",
       " 'Model_note',\n",
       " 'Model_nubira',\n",
       " 'Model_octavia',\n",
       " 'Model_omega',\n",
       " 'Model_one',\n",
       " 'Model_other',\n",
       " 'Model_outlander',\n",
       " 'Model_pajero',\n",
       " 'Model_panda',\n",
       " 'Model_passat',\n",
       " 'Model_phaeton',\n",
       " 'Model_picanto',\n",
       " 'Model_polo',\n",
       " 'Model_primera',\n",
       " 'Model_ptcruiser',\n",
       " 'Model_punto',\n",
       " 'Model_q3',\n",
       " 'Model_q5',\n",
       " 'Model_q7',\n",
       " 'Model_qashqai',\n",
       " 'Model_r19',\n",
       " 'Model_range_rover',\n",
       " 'Model_range_rover_evoque',\n",
       " 'Model_range_rover_sport',\n",
       " 'Model_rangerover',\n",
       " 'Model_rav',\n",
       " 'Model_rio',\n",
       " 'Model_roadster',\n",
       " 'Model_roomster',\n",
       " 'Model_rx_reihe',\n",
       " 'Model_s60',\n",
       " 'Model_s_klasse',\n",
       " 'Model_s_max',\n",
       " 'Model_s_type',\n",
       " 'Model_samara',\n",
       " 'Model_sandero',\n",
       " 'Model_santa',\n",
       " 'Model_scenic',\n",
       " 'Model_scirocco',\n",
       " 'Model_seicento',\n",
       " 'Model_serie_2',\n",
       " 'Model_sharan',\n",
       " 'Model_signum',\n",
       " 'Model_sirion',\n",
       " 'Model_sl',\n",
       " 'Model_slk',\n",
       " 'Model_sorento',\n",
       " 'Model_spark',\n",
       " 'Model_spider',\n",
       " 'Model_sportage',\n",
       " 'Model_sprinter',\n",
       " 'Model_stilo',\n",
       " 'Model_superb',\n",
       " 'Model_swift',\n",
       " 'Model_terios',\n",
       " 'Model_tigra',\n",
       " 'Model_tiguan',\n",
       " 'Model_toledo',\n",
       " 'Model_touareg',\n",
       " 'Model_touran',\n",
       " 'Model_transit',\n",
       " 'Model_transporter',\n",
       " 'Model_tt',\n",
       " 'Model_tucson',\n",
       " 'Model_twingo',\n",
       " 'Model_up',\n",
       " 'Model_v40',\n",
       " 'Model_v50',\n",
       " 'Model_v60',\n",
       " 'Model_v70',\n",
       " 'Model_v_klasse',\n",
       " 'Model_vectra',\n",
       " 'Model_verso',\n",
       " 'Model_viano',\n",
       " 'Model_vito',\n",
       " 'Model_vivaro',\n",
       " 'Model_voyager',\n",
       " 'Model_wrangler',\n",
       " 'Model_x_reihe',\n",
       " 'Model_x_trail',\n",
       " 'Model_x_type',\n",
       " 'Model_xc_reihe',\n",
       " 'Model_yaris',\n",
       " 'Model_yeti',\n",
       " 'Model_ypsilon',\n",
       " 'Model_z_reihe',\n",
       " 'Model_zafira',\n",
       " 'FuelType_electric',\n",
       " 'FuelType_gasoline',\n",
       " 'FuelType_hybrid',\n",
       " 'FuelType_lpg',\n",
       " 'FuelType_no_info',\n",
       " 'FuelType_other',\n",
       " 'FuelType_petrol',\n",
       " 'Brand_audi',\n",
       " 'Brand_bmw',\n",
       " 'Brand_chevrolet',\n",
       " 'Brand_chrysler',\n",
       " 'Brand_citroen',\n",
       " 'Brand_dacia',\n",
       " 'Brand_daewoo',\n",
       " 'Brand_daihatsu',\n",
       " 'Brand_fiat',\n",
       " 'Brand_ford',\n",
       " 'Brand_honda',\n",
       " 'Brand_hyundai',\n",
       " 'Brand_jaguar',\n",
       " 'Brand_jeep',\n",
       " 'Brand_kia',\n",
       " 'Brand_lada',\n",
       " 'Brand_lancia',\n",
       " 'Brand_land_rover',\n",
       " 'Brand_mazda',\n",
       " 'Brand_mercedes_benz',\n",
       " 'Brand_mini',\n",
       " 'Brand_mitsubishi',\n",
       " 'Brand_nissan',\n",
       " 'Brand_opel',\n",
       " 'Brand_peugeot',\n",
       " 'Brand_porsche',\n",
       " 'Brand_renault',\n",
       " 'Brand_rover',\n",
       " 'Brand_saab',\n",
       " 'Brand_seat',\n",
       " 'Brand_skoda',\n",
       " 'Brand_smart',\n",
       " 'Brand_sonstige_autos',\n",
       " 'Brand_subaru',\n",
       " 'Brand_suzuki',\n",
       " 'Brand_toyota',\n",
       " 'Brand_trabant',\n",
       " 'Brand_volkswagen',\n",
       " 'Brand_volvo',\n",
       " 'Repaired_no_info',\n",
       " 'Repaired_yes']"
      ]
     },
     "execution_count": 10,
     "metadata": {},
     "output_type": "execute_result"
    }
   ],
   "source": [
    "features_ohe = pd.get_dummies(data[['VehicleType','Gearbox','Model','FuelType','Brand','Repaired']], drop_first = True)\n",
    "data[features_ohe.columns] = features_ohe\n",
    "features_columns = ['RegistrationYear','Power','Kilometer','RegistrationMonth','NumberOfPictures','time_in_use'] + list(features_ohe.columns)\n",
    "features_columns"
   ]
  },
  {
   "cell_type": "markdown",
   "metadata": {},
   "source": [
    "<div class=\"alert alert-block alert-info\">\n",
    "    \n",
    "<b>Совет:</b> Также как аналог pd.get_dummies хочу посоветовать обратить внимание на OneHotEncoder от sklearn (это более сложный и продвинутый инструмент). Здесь можно посмотреть примеры https://colab.research.google.com/drive/1_gAMXcQKoCShB_l8FNtYEejMnosm9mvt?usp=sharing\n",
    "</div>\n",
    "\n",
    "\n",
    "\n",
    "\n"
   ]
  },
  {
   "cell_type": "code",
   "execution_count": 11,
   "metadata": {},
   "outputs": [],
   "source": [
    "target = data['Price']\n",
    "features = data[features_columns]\n",
    "\n",
    "\n",
    "features_train, features_valid, target_train, target_valid = train_test_split(\n",
    "    features, target, test_size=0.25, random_state=12345)\n",
    "\n",
    "\n",
    "features_train_no_ohe, features_valid_no_ohe, target_train_no_ohe, target_valid_no_ohe = train_test_split(\n",
    "    features_no_ohe, target_no_ohe, test_size=0.25, random_state=12345)"
   ]
  },
  {
   "cell_type": "markdown",
   "metadata": {},
   "source": [
    "Создадим признаки и выборки с данными."
   ]
  },
  {
   "cell_type": "markdown",
   "metadata": {},
   "source": [
    "<div class=\"alert alert-block alert-danger\">\n",
    "<b>Ошибка:</b> Нам еще нужна тестовая выборка для независимого тестирования лучшей модели\n",
    "</div>\n"
   ]
  },
  {
   "cell_type": "markdown",
   "metadata": {},
   "source": [
    "Собрали тестовую выборку!"
   ]
  },
  {
   "cell_type": "markdown",
   "metadata": {},
   "source": [
    "<div class=\"alert alert-block alert-danger\">\n",
    "    \n",
    "<b>Ошибка[2]:</b> Нельзя так делать тестовую выборку. Нельзя класть в оба train-test_split одинаковые аргументы `features_no_ohe, target_no_ohe` - иначе получишь песечение выборок\n",
    "</div>\n"
   ]
  },
  {
   "cell_type": "code",
   "execution_count": 12,
   "metadata": {},
   "outputs": [],
   "source": [
    "features_test_no_ohe, features_valid_no_ohe, target_test_no_ohe, target_valid_no_ohe = train_test_split(\n",
    "    features_valid_no_ohe, target_valid_no_ohe, test_size = 0.25, random_state = 564654)\n",
    "\n",
    "features_test, features_valid, target_test, target_valid = train_test_split(\n",
    "    features_valid, target_valid, test_size=0.25, random_state=12345)"
   ]
  },
  {
   "cell_type": "markdown",
   "metadata": {},
   "source": [
    "<div class=\"alert alert-block alert-danger\">\n",
    "    \n",
    "<b>Ошибка[3]:</b> Выборки для разных кодировок - должны иметь одинаковые размеры. Иначе сравнение получается необъективным, особенно для метрик времени.\n",
    "</div>\n"
   ]
  },
  {
   "cell_type": "markdown",
   "metadata": {},
   "source": [
    "<div class=\"alert alert-block alert-warning\">\n",
    "<b>Исправил значения test_size  с 0.40 на 0.25</b> \n",
    "</div>"
   ]
  },
  {
   "cell_type": "markdown",
   "metadata": {},
   "source": [
    "\n",
    "<div class=\"alert alert-block alert-success\">\n",
    "    \n",
    "<b>Успех[4]:</b> 👍 Только старайся в будущем придерживаться  некоторым общепринятым правилам:\n",
    "    \n",
    "- Доля обучающей выборки не меньше 50%\n",
    "- Доля тестовой и валидационной выборки: от 10% до 25%\n",
    "- Валидационная и тестовая выборки не отличаются по размеру в два раза или больше раз\n",
    "</div>"
   ]
  },
  {
   "cell_type": "markdown",
   "metadata": {},
   "source": [
    "## Обучение моделей"
   ]
  },
  {
   "cell_type": "code",
   "execution_count": 67,
   "metadata": {},
   "outputs": [],
   "source": [
    "def score(model, target = target_train, features = features_train):\n",
    "    start_time = timeit.default_timer()\n",
    "    score = mean_squared_error(target, model.predict(features))**(1/2)\n",
    "    predict_time = timeit.default_timer() - start_time\n",
    "    return score, predict_time\n",
    "def fit(model):\n",
    "    start_time = timeit.default_timer()\n",
    "    model.fit(features_train,target_train)\n",
    "    fit_time = timeit.default_timer() - start_time\n",
    "    return fit_time"
   ]
  },
  {
   "cell_type": "markdown",
   "metadata": {},
   "source": [
    "<div class=\"alert alert-block alert-success\">\n",
    "<b>Успех:</b>  Хорошие помощники\n",
    "    \n",
    "</div>"
   ]
  },
  {
   "cell_type": "markdown",
   "metadata": {},
   "source": [
    "### CatBoostRegressor_no_ohe"
   ]
  },
  {
   "cell_type": "code",
   "execution_count": 68,
   "metadata": {},
   "outputs": [
    {
     "data": {
      "text/plain": [
       "{'iterations': 100, 'learning_rate': 0.5}"
      ]
     },
     "execution_count": 68,
     "metadata": {},
     "output_type": "execute_result"
    }
   ],
   "source": [
    "parametrs = { 'learning_rate': [0.1*i for i in range(5,11)],\n",
    "              'iterations': range(60,110,10),}\n",
    "cats = CatBoostRegressor()\n",
    "grid = GridSearchCV(cats, parametrs)\n",
    "grid.fit(features_valid_no_ohe,target_valid_no_ohe, silent= True, cat_features = ['VehicleType','Gearbox','Model','FuelType','Brand','Repaired'])\n",
    "grid.best_params_"
   ]
  },
  {
   "cell_type": "code",
   "execution_count": 69,
   "metadata": {},
   "outputs": [
    {
     "name": "stdout",
     "output_type": "stream",
     "text": [
      "время обучения: 19.19602209702134\n",
      "RMSE score: 1465.8798559020368\n",
      "время предсказания: 0.4732774421572685\n"
     ]
    }
   ],
   "source": [
    "cat_no_ohe = CatBoostRegressor(iterations = 100, learning_rate = 0.6000000000000001, depth = 10)\n",
    "start_time = timeit.default_timer()\n",
    "cat_no_ohe.fit(features_train_no_ohe,target_train_no_ohe, silent= True, cat_features = ['VehicleType','Gearbox','Model','FuelType','Brand','Repaired'])\n",
    "cat_no_ohe_fit_time = timeit.default_timer() - start_time\n",
    "print('время обучения:', cat_no_ohe_fit_time)\n",
    "Score, time  = score(cat_no_ohe,target_train_no_ohe, features_train_no_ohe)\n",
    "print('RMSE score:', Score)\n",
    "print('время предсказания:', time)"
   ]
  },
  {
   "cell_type": "markdown",
   "metadata": {},
   "source": [
    "### CatBoostRegressor"
   ]
  },
  {
   "cell_type": "code",
   "execution_count": 70,
   "metadata": {},
   "outputs": [
    {
     "name": "stdout",
     "output_type": "stream",
     "text": [
      "время обучения: 19.443704338744283\n",
      "RMSE score: 1550.8488009237758\n",
      "время предсказания: 0.33264658600091934\n"
     ]
    }
   ],
   "source": [
    "cat = CatBoostRegressor(iterations = 500)\n",
    "start_time = timeit.default_timer()\n",
    "cat.fit(features_train,target_train, silent= True)\n",
    "cat_fit_time = timeit.default_timer() - start_time\n",
    "print('время обучения:', cat_fit_time)\n",
    "Score, time  = score(cat)\n",
    "print('RMSE score:', Score)\n",
    "print('время предсказания:', time)"
   ]
  },
  {
   "cell_type": "markdown",
   "metadata": {},
   "source": [
    "### LGBMRegressor"
   ]
  },
  {
   "cell_type": "code",
   "execution_count": 71,
   "metadata": {},
   "outputs": [
    {
     "name": "stdout",
     "output_type": "stream",
     "text": [
      "[LightGBM] [Warning] Unknown parameter: iterations\n",
      "время обучения: 322.08420442044735\n",
      "RMSE score: 1543.2406024273616\n",
      "время предсказания: 4.4506369438022375\n"
     ]
    }
   ],
   "source": [
    "LGBM = LGBMRegressor(iterations = 5, num_leaves = 60, n_estimators=150 )\n",
    "LGBM_fit_time = fit(LGBM)\n",
    "print('время обучения:', LGBM_fit_time)\n",
    "Score, time  = score(LGBM)\n",
    "print('RMSE score:', Score)\n",
    "print('время предсказания:', time) "
   ]
  },
  {
   "cell_type": "markdown",
   "metadata": {},
   "source": [
    "\n",
    "<div class=\"alert alert-block alert-info\">\n",
    "<b>Совет:</b>  У LGBM тоже есть внутренний метод кодировки данных, который можно было бы попробовать\n",
    "</div>"
   ]
  },
  {
   "cell_type": "markdown",
   "metadata": {},
   "source": [
    "### DummyRegressor"
   ]
  },
  {
   "cell_type": "code",
   "execution_count": 72,
   "metadata": {},
   "outputs": [
    {
     "name": "stdout",
     "output_type": "stream",
     "text": [
      "время обучения: 0.003980629146099091\n",
      "RMSE score: 4908.756744196365\n",
      "время предсказания: 0.002429317682981491\n"
     ]
    }
   ],
   "source": [
    "dummy_regr = DummyRegressor(strategy=\"median\")\n",
    "dummy_regr_fit_time = fit(dummy_regr)\n",
    "print('время обучения:', dummy_regr_fit_time)\n",
    "Score, time  = score(dummy_regr)\n",
    "print('RMSE score:', Score)\n",
    "print('время предсказания:', time)"
   ]
  },
  {
   "cell_type": "markdown",
   "metadata": {},
   "source": [
    "### LinearRegression"
   ]
  },
  {
   "cell_type": "code",
   "execution_count": 73,
   "metadata": {},
   "outputs": [
    {
     "name": "stdout",
     "output_type": "stream",
     "text": [
      "время обучения: 29.09897469729185\n",
      "RMSE score: 2479.812031318626\n",
      "время предсказания: 1.0050266310572624\n"
     ]
    }
   ],
   "source": [
    "LinearRegr = LinearRegression()\n",
    "LinearRegr_fit_time = fit(LinearRegr)\n",
    "print('время обучения:', LinearRegr_fit_time)\n",
    "Score, time  = score(LinearRegr)\n",
    "print('RMSE score:', Score)\n",
    "print('время предсказания:', time)"
   ]
  },
  {
   "cell_type": "markdown",
   "metadata": {},
   "source": [
    "## Анализ моделей"
   ]
  },
  {
   "cell_type": "markdown",
   "metadata": {},
   "source": [
    "### LinearRegression"
   ]
  },
  {
   "cell_type": "code",
   "execution_count": 74,
   "metadata": {},
   "outputs": [
    {
     "name": "stdout",
     "output_type": "stream",
     "text": [
      "RMSE score: 2487.6588411958887\n",
      "время предсказания: 0.29796372912824154\n"
     ]
    }
   ],
   "source": [
    "LinearRegr_score, LinearRegr_time  = score(LinearRegr, target = target_valid, features = features_valid)\n",
    "print('RMSE score:', LinearRegr_score)\n",
    "print('время предсказания:', LinearRegr_time)"
   ]
  },
  {
   "cell_type": "markdown",
   "metadata": {},
   "source": [
    "### LGBMRegressor"
   ]
  },
  {
   "cell_type": "code",
   "execution_count": 75,
   "metadata": {},
   "outputs": [
    {
     "name": "stdout",
     "output_type": "stream",
     "text": [
      "RMSE score: 1599.53874069862\n",
      "время предсказания: 1.5935634169727564\n"
     ]
    }
   ],
   "source": [
    "LGBM_score, LGBM_time  = score(LGBM, target = target_valid, features = features_valid)\n",
    "print('RMSE score:', LGBM_score)\n",
    "print('время предсказания:', LGBM_time)"
   ]
  },
  {
   "cell_type": "markdown",
   "metadata": {},
   "source": [
    "### CatBoostRegressor"
   ]
  },
  {
   "cell_type": "code",
   "execution_count": 76,
   "metadata": {},
   "outputs": [
    {
     "name": "stdout",
     "output_type": "stream",
     "text": [
      "RMSE score: 1595.9654229957284\n",
      "время предсказания: 0.16142270900309086\n"
     ]
    }
   ],
   "source": [
    "cat_score, cat_time  = score(cat, target = target_valid, features = features_valid)\n",
    "print('RMSE score:', cat_score)\n",
    "print('время предсказания:', cat_time)"
   ]
  },
  {
   "cell_type": "markdown",
   "metadata": {},
   "source": [
    "### CatBoostRegressor_no_ohe"
   ]
  },
  {
   "cell_type": "code",
   "execution_count": 77,
   "metadata": {},
   "outputs": [
    {
     "name": "stdout",
     "output_type": "stream",
     "text": [
      "RMSE score: 1604.0966630086602\n",
      "время предсказания: 0.0700276754796505\n"
     ]
    }
   ],
   "source": [
    "cat_no_ohe_score, cat_no_ohe_time  = score(cat_no_ohe, target = target_valid_no_ohe, features = features_valid_no_ohe)\n",
    "print('RMSE score:', cat_no_ohe_score)\n",
    "print('время предсказания:', cat_no_ohe_time)"
   ]
  },
  {
   "cell_type": "markdown",
   "metadata": {},
   "source": [
    "## Сравнение моделей"
   ]
  },
  {
   "cell_type": "code",
   "execution_count": 78,
   "metadata": {
    "scrolled": true
   },
   "outputs": [
    {
     "data": {
      "text/html": [
       "<div>\n",
       "<style scoped>\n",
       "    .dataframe tbody tr th:only-of-type {\n",
       "        vertical-align: middle;\n",
       "    }\n",
       "\n",
       "    .dataframe tbody tr th {\n",
       "        vertical-align: top;\n",
       "    }\n",
       "\n",
       "    .dataframe thead th {\n",
       "        text-align: right;\n",
       "    }\n",
       "</style>\n",
       "<table border=\"1\" class=\"dataframe\">\n",
       "  <thead>\n",
       "    <tr style=\"text-align: right;\">\n",
       "      <th></th>\n",
       "      <th>RMSE_score</th>\n",
       "      <th>predict_time</th>\n",
       "      <th>fit_time</th>\n",
       "      <th>total_time</th>\n",
       "    </tr>\n",
       "  </thead>\n",
       "  <tbody>\n",
       "    <tr>\n",
       "      <th>LinearRegression</th>\n",
       "      <td>2487.658841</td>\n",
       "      <td>0.297964</td>\n",
       "      <td>29.098975</td>\n",
       "      <td>29.396938</td>\n",
       "    </tr>\n",
       "    <tr>\n",
       "      <th>LGBMRegressor</th>\n",
       "      <td>1599.538741</td>\n",
       "      <td>1.593563</td>\n",
       "      <td>322.084204</td>\n",
       "      <td>323.677768</td>\n",
       "    </tr>\n",
       "    <tr>\n",
       "      <th>CatBoostRegressor</th>\n",
       "      <td>1595.965423</td>\n",
       "      <td>0.161423</td>\n",
       "      <td>19.443704</td>\n",
       "      <td>19.605127</td>\n",
       "    </tr>\n",
       "    <tr>\n",
       "      <th>CatBoostRegressor_no_ohe</th>\n",
       "      <td>1604.096663</td>\n",
       "      <td>0.070028</td>\n",
       "      <td>19.196022</td>\n",
       "      <td>19.266050</td>\n",
       "    </tr>\n",
       "  </tbody>\n",
       "</table>\n",
       "</div>"
      ],
      "text/plain": [
       "                           RMSE_score  predict_time    fit_time  total_time\n",
       "LinearRegression          2487.658841      0.297964   29.098975   29.396938\n",
       "LGBMRegressor             1599.538741      1.593563  322.084204  323.677768\n",
       "CatBoostRegressor         1595.965423      0.161423   19.443704   19.605127\n",
       "CatBoostRegressor_no_ohe  1604.096663      0.070028   19.196022   19.266050"
      ]
     },
     "execution_count": 78,
     "metadata": {},
     "output_type": "execute_result"
    }
   ],
   "source": [
    "columns = ['RMSE_score', 'predict_time', 'fit_time', 'total_time']\n",
    "index = ['LinearRegression', 'LGBMRegressor', 'CatBoostRegressor', 'CatBoostRegressor_no_ohe']\n",
    "final_data = [[LinearRegr_score, LinearRegr_time, LinearRegr_fit_time, LinearRegr_time + LinearRegr_fit_time],\n",
    "              [LGBM_score, LGBM_time, LGBM_fit_time, LGBM_time + LGBM_fit_time],\n",
    "             [cat_score, cat_time, cat_fit_time, cat_time + cat_fit_time],\n",
    "              [cat_no_ohe_score, cat_no_ohe_time, cat_no_ohe_fit_time, cat_no_ohe_time + cat_no_ohe_fit_time]]\n",
    "pd.DataFrame(columns = columns, index = index, data = final_data)"
   ]
  },
  {
   "cell_type": "code",
   "execution_count": null,
   "metadata": {},
   "outputs": [],
   "source": [
    "\n",
    "\n",
    "cat_score_test, cat_time_test  = score(cat, target = target_test, features = features_test)\n",
    "print('RMSE score:', cat_score_test)\n",
    "print('время предсказания:', cat_time_test)"
   ]
  },
  {
   "cell_type": "markdown",
   "metadata": {},
   "source": [
    "\n",
    "<div class=\"alert alert-block alert-success\">\n",
    "    \n",
    "<b>Успех[4]:</b> На тестовой выборке получено хорошее качество!\n",
    "</div>"
   ]
  },
  {
   "cell_type": "markdown",
   "metadata": {},
   "source": [
    "# ВЫВОД: \n",
    "\n",
    "Мы провели анализ моделей LinearRegression, LGBMRegressor, CatBoostRegressor, CatBoostRegressor_no_ohe.\n",
    "Вывели в сводную таблицу время обучения, предсказания, качество модели.\n",
    "\n",
    "Модель CatBoostRegressor  показывает лучший результат по качеству и третий по времени предсказания, обучается довольно быстро. Модель LGBMRegressor предсказывает почти также хорошо, учится по времени дольше всех, но предсказыват по времени хуже всего. \n",
    "\n",
    "LinearRegression худшая модель(\n",
    "\n",
    "<br/>    \n",
    "<div class=\"alert alert-info\">\n",
    "<h2> \n",
    "    \n",
    "Лучшая модель градиентного бустинга CatBoostRegressor на тестовой выборке имеет значение метрики оценки качества RMSE = 1591.48\t, и время предсказывания 0.09.\n",
    "<a class=\"tocSkip\"> </h2>"
   ]
  },
  {
   "cell_type": "markdown",
   "metadata": {},
   "source": [
    "<div class=\"alert alert-block alert-danger\">\n",
    "<b>Ошибка:</b> После анализа и выбора одной наилучшей модели, должно идти  ее тестирование. То есть оценивание на тестовой отложенной выборке\n",
    "</div>\n"
   ]
  },
  {
   "cell_type": "markdown",
   "metadata": {},
   "source": [
    "<br/>    \n",
    "<div class=\"alert alert-info\">\n",
    "<h2> \n",
    "    \n",
    "Проверил на тестовой выборке, и подправил выводы!\n",
    "<a class=\"tocSkip\"> </h2>"
   ]
  },
  {
   "cell_type": "markdown",
   "metadata": {},
   "source": [
    "\n",
    "<div class=\"alert alert-block alert-info\">\n",
    "<b>Совет:</b> \n",
    "\n",
    "Также если говорить, что можно ещё улучшить в подобных проектах, то я бы выделил такие моменты:<br>\n",
    "    \n",
    "1) Для понимания, а какие в итоге факторы важны при моделировании, можно выводить их важность, использую feature_importances_, ну и график заодно. Это будет смотреться очнь здорово: результативная метрика и график важности факторов)))\n",
    "    \n",
    "2) У нас разный возраст машин. Есть гипотеза, что для разных возрастов - своё ценообразование. Поэтому, можно попробовать ввести фактор \"тип возраста\" (ретро, супер-ретро, старая, новая... надо подумать..)..<br>\n",
    "\n",
    "</div>"
   ]
  },
  {
   "cell_type": "markdown",
   "metadata": {},
   "source": [
    "## Чек-лист проверки"
   ]
  },
  {
   "cell_type": "markdown",
   "metadata": {},
   "source": [
    "Поставьте 'x' в выполненных пунктах. Далее нажмите Shift+Enter."
   ]
  },
  {
   "cell_type": "markdown",
   "metadata": {},
   "source": [
    "- [x]  Jupyter Notebook открыт\n",
    "- [ ]  Весь код выполняется без ошибок\n",
    "- [ ]  Ячейки с кодом расположены в порядке исполнения\n",
    "- [ ]  Выполнена загрузка и подготовка данных\n",
    "- [ ]  Выполнено обучение моделей\n",
    "- [ ]  Есть анализ скорости работы и качества моделей"
   ]
  },
  {
   "cell_type": "code",
   "execution_count": null,
   "metadata": {},
   "outputs": [],
   "source": []
  }
 ],
 "metadata": {
  "ExecuteTimeLog": [
   {
    "duration": 2502,
    "start_time": "2023-07-09T11:32:59.894Z"
   },
   {
    "duration": 3024,
    "start_time": "2023-07-09T11:34:28.494Z"
   },
   {
    "duration": 1001,
    "start_time": "2023-07-09T11:35:20.494Z"
   },
   {
    "duration": 265,
    "start_time": "2023-07-09T11:41:42.420Z"
   },
   {
    "duration": 21,
    "start_time": "2023-07-09T11:45:27.257Z"
   },
   {
    "duration": 62,
    "start_time": "2023-07-09T11:47:52.760Z"
   },
   {
    "duration": 127,
    "start_time": "2023-07-09T12:00:58.232Z"
   },
   {
    "duration": 6,
    "start_time": "2023-07-09T12:05:27.956Z"
   },
   {
    "duration": 110,
    "start_time": "2023-07-09T12:05:59.715Z"
   },
   {
    "duration": 149,
    "start_time": "2023-07-09T12:06:38.810Z"
   },
   {
    "duration": 6,
    "start_time": "2023-07-09T12:06:41.362Z"
   },
   {
    "duration": 16,
    "start_time": "2023-07-09T12:06:49.018Z"
   },
   {
    "duration": 31,
    "start_time": "2023-07-09T12:30:04.669Z"
   },
   {
    "duration": 120,
    "start_time": "2023-07-09T12:30:45.105Z"
   },
   {
    "duration": 54,
    "start_time": "2023-07-09T12:31:07.204Z"
   },
   {
    "duration": 38,
    "start_time": "2023-07-09T12:31:29.942Z"
   },
   {
    "duration": 1799,
    "start_time": "2023-07-09T12:32:29.447Z"
   },
   {
    "duration": 1766,
    "start_time": "2023-07-09T12:33:12.891Z"
   },
   {
    "duration": 1780,
    "start_time": "2023-07-09T12:33:33.838Z"
   },
   {
    "duration": 14,
    "start_time": "2023-07-09T12:35:17.690Z"
   },
   {
    "duration": 8,
    "start_time": "2023-07-09T12:39:17.991Z"
   },
   {
    "duration": 185,
    "start_time": "2023-07-09T12:42:31.492Z"
   },
   {
    "duration": 4,
    "start_time": "2023-07-09T12:46:33.514Z"
   },
   {
    "duration": 11,
    "start_time": "2023-07-09T12:47:09.546Z"
   },
   {
    "duration": 11,
    "start_time": "2023-07-09T12:47:17.512Z"
   },
   {
    "duration": 4,
    "start_time": "2023-07-09T12:47:44.329Z"
   },
   {
    "duration": 10,
    "start_time": "2023-07-09T12:48:05.393Z"
   },
   {
    "duration": 8,
    "start_time": "2023-07-09T12:49:01.745Z"
   },
   {
    "duration": 7,
    "start_time": "2023-07-09T12:49:17.297Z"
   },
   {
    "duration": 4,
    "start_time": "2023-07-09T12:49:21.504Z"
   },
   {
    "duration": 6,
    "start_time": "2023-07-09T12:49:24.136Z"
   },
   {
    "duration": 4,
    "start_time": "2023-07-09T12:49:26.568Z"
   },
   {
    "duration": 5,
    "start_time": "2023-07-09T12:49:41.969Z"
   },
   {
    "duration": 5,
    "start_time": "2023-07-09T12:50:08.569Z"
   },
   {
    "duration": 5,
    "start_time": "2023-07-09T12:50:13.593Z"
   },
   {
    "duration": 5,
    "start_time": "2023-07-09T12:50:21.352Z"
   },
   {
    "duration": 5,
    "start_time": "2023-07-09T12:50:39.151Z"
   },
   {
    "duration": 3,
    "start_time": "2023-07-09T12:50:41.352Z"
   },
   {
    "duration": 874,
    "start_time": "2023-07-09T12:50:41.357Z"
   },
   {
    "duration": 237,
    "start_time": "2023-07-09T12:50:42.233Z"
   },
   {
    "duration": 18,
    "start_time": "2023-07-09T12:50:42.472Z"
   },
   {
    "duration": 159,
    "start_time": "2023-07-09T12:50:42.492Z"
   },
   {
    "duration": 13,
    "start_time": "2023-07-09T12:50:42.655Z"
   },
   {
    "duration": 18,
    "start_time": "2023-07-09T12:50:42.669Z"
   },
   {
    "duration": 11,
    "start_time": "2023-07-09T12:50:42.688Z"
   },
   {
    "duration": 115,
    "start_time": "2023-07-09T12:50:42.701Z"
   },
   {
    "duration": 51,
    "start_time": "2023-07-09T12:50:42.818Z"
   },
   {
    "duration": 10,
    "start_time": "2023-07-09T12:50:42.871Z"
   },
   {
    "duration": 4,
    "start_time": "2023-07-09T12:51:18.927Z"
   },
   {
    "duration": 1043,
    "start_time": "2023-07-09T12:51:18.933Z"
   },
   {
    "duration": 268,
    "start_time": "2023-07-09T12:51:19.978Z"
   },
   {
    "duration": 22,
    "start_time": "2023-07-09T12:51:20.249Z"
   },
   {
    "duration": 186,
    "start_time": "2023-07-09T12:51:20.272Z"
   },
   {
    "duration": 9,
    "start_time": "2023-07-09T12:51:20.460Z"
   },
   {
    "duration": 15,
    "start_time": "2023-07-09T12:51:20.470Z"
   },
   {
    "duration": 12,
    "start_time": "2023-07-09T12:51:20.486Z"
   },
   {
    "duration": 135,
    "start_time": "2023-07-09T12:51:20.500Z"
   },
   {
    "duration": 62,
    "start_time": "2023-07-09T12:51:20.637Z"
   },
   {
    "duration": 11,
    "start_time": "2023-07-09T12:51:20.701Z"
   },
   {
    "duration": 18,
    "start_time": "2023-07-09T12:51:49.864Z"
   },
   {
    "duration": 17,
    "start_time": "2023-07-09T12:52:21.520Z"
   },
   {
    "duration": 12,
    "start_time": "2023-07-09T12:55:05.375Z"
   },
   {
    "duration": 11,
    "start_time": "2023-07-09T12:55:39.448Z"
   },
   {
    "duration": 16,
    "start_time": "2023-07-09T12:56:17.736Z"
   },
   {
    "duration": 23,
    "start_time": "2023-07-09T12:57:27.711Z"
   },
   {
    "duration": 15,
    "start_time": "2023-07-09T12:57:43.848Z"
   },
   {
    "duration": 1801,
    "start_time": "2023-07-09T12:58:26.134Z"
   },
   {
    "duration": 17,
    "start_time": "2023-07-09T12:58:36.239Z"
   },
   {
    "duration": 20,
    "start_time": "2023-07-09T13:00:20.356Z"
   },
   {
    "duration": 15,
    "start_time": "2023-07-09T13:00:59.663Z"
   },
   {
    "duration": 4,
    "start_time": "2023-07-09T13:01:14.992Z"
   },
   {
    "duration": 1039,
    "start_time": "2023-07-09T13:01:14.997Z"
   },
   {
    "duration": 254,
    "start_time": "2023-07-09T13:01:16.038Z"
   },
   {
    "duration": 19,
    "start_time": "2023-07-09T13:01:16.294Z"
   },
   {
    "duration": 177,
    "start_time": "2023-07-09T13:01:16.315Z"
   },
   {
    "duration": 5,
    "start_time": "2023-07-09T13:01:16.494Z"
   },
   {
    "duration": 16,
    "start_time": "2023-07-09T13:01:16.501Z"
   },
   {
    "duration": 14,
    "start_time": "2023-07-09T13:01:16.518Z"
   },
   {
    "duration": 113,
    "start_time": "2023-07-09T13:01:16.534Z"
   },
   {
    "duration": 46,
    "start_time": "2023-07-09T13:01:16.648Z"
   },
   {
    "duration": 18,
    "start_time": "2023-07-09T13:01:16.696Z"
   },
   {
    "duration": 19,
    "start_time": "2023-07-09T13:01:16.715Z"
   },
   {
    "duration": 38,
    "start_time": "2023-07-09T13:01:16.736Z"
   },
   {
    "duration": 24,
    "start_time": "2023-07-09T13:01:16.777Z"
   },
   {
    "duration": 66,
    "start_time": "2023-07-09T13:01:16.803Z"
   },
   {
    "duration": 16,
    "start_time": "2023-07-09T13:01:47.691Z"
   },
   {
    "duration": 4,
    "start_time": "2023-07-09T13:01:52.669Z"
   },
   {
    "duration": 921,
    "start_time": "2023-07-09T13:01:52.675Z"
   },
   {
    "duration": 242,
    "start_time": "2023-07-09T13:01:53.598Z"
   },
   {
    "duration": 38,
    "start_time": "2023-07-09T13:01:53.843Z"
   },
   {
    "duration": 184,
    "start_time": "2023-07-09T13:01:53.883Z"
   },
   {
    "duration": 8,
    "start_time": "2023-07-09T13:01:54.069Z"
   },
   {
    "duration": 22,
    "start_time": "2023-07-09T13:01:54.079Z"
   },
   {
    "duration": 9,
    "start_time": "2023-07-09T13:01:54.103Z"
   },
   {
    "duration": 133,
    "start_time": "2023-07-09T13:01:54.115Z"
   },
   {
    "duration": 45,
    "start_time": "2023-07-09T13:01:54.250Z"
   },
   {
    "duration": 18,
    "start_time": "2023-07-09T13:01:54.296Z"
   },
   {
    "duration": 17,
    "start_time": "2023-07-09T13:01:54.316Z"
   },
   {
    "duration": 41,
    "start_time": "2023-07-09T13:01:54.334Z"
   },
   {
    "duration": 19,
    "start_time": "2023-07-09T13:01:54.377Z"
   },
   {
    "duration": 75,
    "start_time": "2023-07-09T13:01:54.398Z"
   },
   {
    "duration": 14,
    "start_time": "2023-07-09T13:03:35.656Z"
   },
   {
    "duration": 3,
    "start_time": "2023-07-09T13:03:41.876Z"
   },
   {
    "duration": 890,
    "start_time": "2023-07-09T13:03:41.881Z"
   },
   {
    "duration": 327,
    "start_time": "2023-07-09T13:03:42.781Z"
   },
   {
    "duration": 18,
    "start_time": "2023-07-09T13:03:43.110Z"
   },
   {
    "duration": 168,
    "start_time": "2023-07-09T13:03:43.130Z"
   },
   {
    "duration": 5,
    "start_time": "2023-07-09T13:03:43.300Z"
   },
   {
    "duration": 16,
    "start_time": "2023-07-09T13:03:43.307Z"
   },
   {
    "duration": 16,
    "start_time": "2023-07-09T13:03:43.324Z"
   },
   {
    "duration": 108,
    "start_time": "2023-07-09T13:03:43.341Z"
   },
   {
    "duration": 46,
    "start_time": "2023-07-09T13:03:43.450Z"
   },
   {
    "duration": 17,
    "start_time": "2023-07-09T13:03:43.498Z"
   },
   {
    "duration": 26,
    "start_time": "2023-07-09T13:03:43.517Z"
   },
   {
    "duration": 28,
    "start_time": "2023-07-09T13:03:43.545Z"
   },
   {
    "duration": 21,
    "start_time": "2023-07-09T13:03:43.575Z"
   },
   {
    "duration": 136,
    "start_time": "2023-07-09T13:03:43.598Z"
   },
   {
    "duration": 10,
    "start_time": "2023-07-09T13:06:15.605Z"
   },
   {
    "duration": 17,
    "start_time": "2023-07-09T13:06:27.701Z"
   },
   {
    "duration": 77,
    "start_time": "2023-07-09T13:06:44.732Z"
   },
   {
    "duration": 25,
    "start_time": "2023-07-09T13:25:14.423Z"
   },
   {
    "duration": 33,
    "start_time": "2023-07-09T13:27:51.463Z"
   },
   {
    "duration": 1204,
    "start_time": "2023-07-09T13:28:06.482Z"
   },
   {
    "duration": 89,
    "start_time": "2023-07-09T13:28:31.006Z"
   },
   {
    "duration": 1225,
    "start_time": "2023-07-09T13:30:13.191Z"
   },
   {
    "duration": 1139,
    "start_time": "2023-07-09T13:30:31.944Z"
   },
   {
    "duration": 989,
    "start_time": "2023-07-09T13:31:56.326Z"
   },
   {
    "duration": 419,
    "start_time": "2023-07-09T13:32:55.358Z"
   },
   {
    "duration": 6,
    "start_time": "2023-07-10T13:39:54.718Z"
   },
   {
    "duration": 163,
    "start_time": "2023-07-10T13:39:57.586Z"
   },
   {
    "duration": 4,
    "start_time": "2023-07-10T13:40:10.247Z"
   },
   {
    "duration": 254,
    "start_time": "2023-07-10T13:47:23.975Z"
   },
   {
    "duration": 71,
    "start_time": "2023-07-10T13:48:22.115Z"
   },
   {
    "duration": 5,
    "start_time": "2023-07-10T13:48:32.315Z"
   },
   {
    "duration": 6049,
    "start_time": "2023-07-10T13:48:32.323Z"
   },
   {
    "duration": 407,
    "start_time": "2023-07-10T13:48:38.374Z"
   },
   {
    "duration": 23,
    "start_time": "2023-07-10T13:48:38.783Z"
   },
   {
    "duration": 208,
    "start_time": "2023-07-10T13:48:38.809Z"
   },
   {
    "duration": 12,
    "start_time": "2023-07-10T13:48:39.028Z"
   },
   {
    "duration": 53,
    "start_time": "2023-07-10T13:48:39.042Z"
   },
   {
    "duration": 21,
    "start_time": "2023-07-10T13:48:39.107Z"
   },
   {
    "duration": 137,
    "start_time": "2023-07-10T13:48:39.133Z"
   },
   {
    "duration": 66,
    "start_time": "2023-07-10T13:48:39.272Z"
   },
   {
    "duration": 49,
    "start_time": "2023-07-10T13:48:39.340Z"
   },
   {
    "duration": 34,
    "start_time": "2023-07-10T13:48:39.397Z"
   },
   {
    "duration": 42,
    "start_time": "2023-07-10T13:48:39.434Z"
   },
   {
    "duration": 38,
    "start_time": "2023-07-10T13:48:39.483Z"
   },
   {
    "duration": 205,
    "start_time": "2023-07-10T13:48:39.523Z"
   },
   {
    "duration": 2655,
    "start_time": "2023-07-10T13:48:39.730Z"
   },
   {
    "duration": 200,
    "start_time": "2023-07-10T13:48:42.387Z"
   },
   {
    "duration": 10,
    "start_time": "2023-07-10T13:48:42.594Z"
   },
   {
    "duration": 1160,
    "start_time": "2023-07-10T13:48:42.621Z"
   },
   {
    "duration": 836,
    "start_time": "2023-07-10T13:57:04.602Z"
   },
   {
    "duration": 1107,
    "start_time": "2023-07-10T14:00:30.302Z"
   },
   {
    "duration": 1026,
    "start_time": "2023-07-10T14:01:09.990Z"
   },
   {
    "duration": 85063,
    "start_time": "2023-07-10T14:01:32.154Z"
   },
   {
    "duration": 9,
    "start_time": "2023-07-10T14:06:26.509Z"
   },
   {
    "duration": 9,
    "start_time": "2023-07-10T14:06:40.828Z"
   },
   {
    "duration": 8,
    "start_time": "2023-07-10T14:18:24.974Z"
   },
   {
    "duration": 3705,
    "start_time": "2023-07-10T14:18:24.985Z"
   },
   {
    "duration": 274,
    "start_time": "2023-07-10T14:18:28.693Z"
   },
   {
    "duration": 18,
    "start_time": "2023-07-10T14:18:28.973Z"
   },
   {
    "duration": 167,
    "start_time": "2023-07-10T14:18:28.993Z"
   },
   {
    "duration": 21,
    "start_time": "2023-07-10T14:18:29.162Z"
   },
   {
    "duration": 23,
    "start_time": "2023-07-10T14:18:29.189Z"
   },
   {
    "duration": 14,
    "start_time": "2023-07-10T14:18:29.214Z"
   },
   {
    "duration": 110,
    "start_time": "2023-07-10T14:18:29.231Z"
   },
   {
    "duration": 54,
    "start_time": "2023-07-10T14:18:29.343Z"
   },
   {
    "duration": 21,
    "start_time": "2023-07-10T14:18:29.400Z"
   },
   {
    "duration": 33,
    "start_time": "2023-07-10T14:18:29.423Z"
   },
   {
    "duration": 32,
    "start_time": "2023-07-10T14:18:29.461Z"
   },
   {
    "duration": 91,
    "start_time": "2023-07-10T14:18:29.495Z"
   },
   {
    "duration": 157,
    "start_time": "2023-07-10T14:18:29.588Z"
   },
   {
    "duration": 1251,
    "start_time": "2023-07-10T14:18:29.747Z"
   },
   {
    "duration": 150,
    "start_time": "2023-07-10T14:18:31.000Z"
   },
   {
    "duration": 11,
    "start_time": "2023-07-10T14:18:31.154Z"
   },
   {
    "duration": 510619,
    "start_time": "2023-07-10T14:18:31.171Z"
   },
   {
    "duration": 17,
    "start_time": "2023-07-10T14:57:34.823Z"
   },
   {
    "duration": 21,
    "start_time": "2023-07-10T14:59:07.602Z"
   },
   {
    "duration": 16,
    "start_time": "2023-07-10T14:59:23.090Z"
   },
   {
    "duration": 24,
    "start_time": "2023-07-10T15:00:07.527Z"
   },
   {
    "duration": 18697,
    "start_time": "2023-07-10T15:01:00.479Z"
   },
   {
    "duration": 19025,
    "start_time": "2023-07-10T15:01:51.696Z"
   },
   {
    "duration": 147,
    "start_time": "2023-07-10T15:35:04.013Z"
   },
   {
    "duration": 170,
    "start_time": "2023-07-10T15:35:11.834Z"
   },
   {
    "duration": 15,
    "start_time": "2023-07-10T15:35:23.107Z"
   },
   {
    "duration": 136,
    "start_time": "2023-07-10T15:38:15.405Z"
   },
   {
    "duration": 32,
    "start_time": "2023-07-10T15:38:23.800Z"
   },
   {
    "duration": 5,
    "start_time": "2023-07-10T15:38:36.408Z"
   },
   {
    "duration": 1279,
    "start_time": "2023-07-10T15:38:36.416Z"
   },
   {
    "duration": 374,
    "start_time": "2023-07-10T15:38:37.697Z"
   },
   {
    "duration": 34,
    "start_time": "2023-07-10T15:38:38.077Z"
   },
   {
    "duration": 203,
    "start_time": "2023-07-10T15:38:38.113Z"
   },
   {
    "duration": 6,
    "start_time": "2023-07-10T15:38:38.319Z"
   },
   {
    "duration": 34,
    "start_time": "2023-07-10T15:38:38.327Z"
   },
   {
    "duration": 14,
    "start_time": "2023-07-10T15:38:38.363Z"
   },
   {
    "duration": 132,
    "start_time": "2023-07-10T15:38:38.379Z"
   },
   {
    "duration": 45,
    "start_time": "2023-07-10T15:38:38.515Z"
   },
   {
    "duration": 44,
    "start_time": "2023-07-10T15:38:38.565Z"
   },
   {
    "duration": 18,
    "start_time": "2023-07-10T15:38:38.610Z"
   },
   {
    "duration": 18,
    "start_time": "2023-07-10T15:38:38.630Z"
   },
   {
    "duration": 100,
    "start_time": "2023-07-10T15:38:38.651Z"
   },
   {
    "duration": 177,
    "start_time": "2023-07-10T15:38:38.753Z"
   },
   {
    "duration": 1170,
    "start_time": "2023-07-10T15:38:38.932Z"
   },
   {
    "duration": 140,
    "start_time": "2023-07-10T15:38:40.104Z"
   },
   {
    "duration": 4,
    "start_time": "2023-07-10T15:38:40.246Z"
   },
   {
    "duration": 587486,
    "start_time": "2023-07-10T15:38:40.251Z"
   },
   {
    "duration": 20183,
    "start_time": "2023-07-10T15:48:27.739Z"
   },
   {
    "duration": 67,
    "start_time": "2023-07-10T15:48:47.924Z"
   },
   {
    "duration": 168,
    "start_time": "2023-07-10T15:59:18.003Z"
   },
   {
    "duration": 10,
    "start_time": "2023-07-10T15:59:48.637Z"
   },
   {
    "duration": 1114,
    "start_time": "2023-07-10T16:02:39.197Z"
   },
   {
    "duration": 952,
    "start_time": "2023-07-10T16:03:49.039Z"
   },
   {
    "duration": 963,
    "start_time": "2023-07-10T16:04:25.206Z"
   },
   {
    "duration": 1063,
    "start_time": "2023-07-10T16:05:21.198Z"
   },
   {
    "duration": 25,
    "start_time": "2023-07-10T16:10:54.303Z"
   },
   {
    "duration": 37,
    "start_time": "2023-07-10T16:13:55.195Z"
   },
   {
    "duration": 945,
    "start_time": "2023-07-10T16:14:50.302Z"
   },
   {
    "duration": 4,
    "start_time": "2023-07-10T16:27:41.639Z"
   },
   {
    "duration": 1300,
    "start_time": "2023-07-10T16:27:41.644Z"
   },
   {
    "duration": 385,
    "start_time": "2023-07-10T16:27:42.946Z"
   },
   {
    "duration": 37,
    "start_time": "2023-07-10T16:27:43.333Z"
   },
   {
    "duration": 188,
    "start_time": "2023-07-10T16:27:43.378Z"
   },
   {
    "duration": 13,
    "start_time": "2023-07-10T16:27:43.571Z"
   },
   {
    "duration": 32,
    "start_time": "2023-07-10T16:27:43.587Z"
   },
   {
    "duration": 43,
    "start_time": "2023-07-10T16:27:43.624Z"
   },
   {
    "duration": 127,
    "start_time": "2023-07-10T16:27:43.670Z"
   },
   {
    "duration": 73,
    "start_time": "2023-07-10T16:27:43.799Z"
   },
   {
    "duration": 41,
    "start_time": "2023-07-10T16:27:43.876Z"
   },
   {
    "duration": 20,
    "start_time": "2023-07-10T16:27:43.919Z"
   },
   {
    "duration": 31,
    "start_time": "2023-07-10T16:27:43.941Z"
   },
   {
    "duration": 93,
    "start_time": "2023-07-10T16:27:43.976Z"
   },
   {
    "duration": 183,
    "start_time": "2023-07-10T16:27:44.080Z"
   },
   {
    "duration": 1560,
    "start_time": "2023-07-10T16:27:44.265Z"
   },
   {
    "duration": 163,
    "start_time": "2023-07-10T16:27:45.827Z"
   },
   {
    "duration": 7,
    "start_time": "2023-07-10T16:27:45.994Z"
   },
   {
    "duration": 678685,
    "start_time": "2023-07-10T16:27:46.005Z"
   },
   {
    "duration": 23199,
    "start_time": "2023-07-10T16:39:04.691Z"
   },
   {
    "duration": 42,
    "start_time": "2023-07-10T16:39:27.898Z"
   },
   {
    "duration": 0,
    "start_time": "2023-07-10T16:39:27.942Z"
   },
   {
    "duration": 0,
    "start_time": "2023-07-10T16:39:27.943Z"
   },
   {
    "duration": 99,
    "start_time": "2023-07-10T16:44:20.820Z"
   },
   {
    "duration": 114,
    "start_time": "2023-07-10T16:45:25.006Z"
   },
   {
    "duration": 22,
    "start_time": "2023-07-10T16:45:27.499Z"
   },
   {
    "duration": 19,
    "start_time": "2023-07-10T16:45:36.623Z"
   },
   {
    "duration": 111,
    "start_time": "2023-07-10T16:45:48.896Z"
   },
   {
    "duration": 15,
    "start_time": "2023-07-10T16:45:56.896Z"
   },
   {
    "duration": 5,
    "start_time": "2023-07-10T16:46:26.524Z"
   },
   {
    "duration": 1224,
    "start_time": "2023-07-10T16:46:26.532Z"
   },
   {
    "duration": 323,
    "start_time": "2023-07-10T16:46:27.757Z"
   },
   {
    "duration": 20,
    "start_time": "2023-07-10T16:46:28.088Z"
   },
   {
    "duration": 195,
    "start_time": "2023-07-10T16:46:28.110Z"
   },
   {
    "duration": 6,
    "start_time": "2023-07-10T16:46:28.307Z"
   },
   {
    "duration": 19,
    "start_time": "2023-07-10T16:46:28.314Z"
   },
   {
    "duration": 75,
    "start_time": "2023-07-10T16:46:28.335Z"
   },
   {
    "duration": 103,
    "start_time": "2023-07-10T16:46:28.412Z"
   },
   {
    "duration": 48,
    "start_time": "2023-07-10T16:46:28.518Z"
   },
   {
    "duration": 38,
    "start_time": "2023-07-10T16:46:28.571Z"
   },
   {
    "duration": 27,
    "start_time": "2023-07-10T16:46:28.612Z"
   },
   {
    "duration": 36,
    "start_time": "2023-07-10T16:46:28.641Z"
   },
   {
    "duration": 105,
    "start_time": "2023-07-10T16:46:28.679Z"
   },
   {
    "duration": 160,
    "start_time": "2023-07-10T16:46:28.786Z"
   },
   {
    "duration": 1250,
    "start_time": "2023-07-10T16:46:28.948Z"
   },
   {
    "duration": 155,
    "start_time": "2023-07-10T16:46:30.200Z"
   },
   {
    "duration": 22,
    "start_time": "2023-07-10T16:46:30.359Z"
   },
   {
    "duration": 602710,
    "start_time": "2023-07-10T16:46:30.384Z"
   },
   {
    "duration": 22099,
    "start_time": "2023-07-10T16:56:33.096Z"
   },
   {
    "duration": 32,
    "start_time": "2023-07-10T16:56:55.197Z"
   },
   {
    "duration": 0,
    "start_time": "2023-07-10T16:56:55.231Z"
   },
   {
    "duration": 0,
    "start_time": "2023-07-10T16:56:55.232Z"
   },
   {
    "duration": 11,
    "start_time": "2023-07-10T16:57:04.208Z"
   },
   {
    "duration": 1040,
    "start_time": "2023-07-10T16:57:06.596Z"
   },
   {
    "duration": 11,
    "start_time": "2023-07-10T17:05:15.849Z"
   },
   {
    "duration": 1333,
    "start_time": "2023-07-10T17:05:15.863Z"
   },
   {
    "duration": 220,
    "start_time": "2023-07-10T17:05:17.201Z"
   },
   {
    "duration": 38,
    "start_time": "2023-07-10T17:05:17.423Z"
   },
   {
    "duration": 201,
    "start_time": "2023-07-10T17:05:17.475Z"
   },
   {
    "duration": 15,
    "start_time": "2023-07-10T17:05:17.685Z"
   },
   {
    "duration": 35,
    "start_time": "2023-07-10T17:05:17.709Z"
   },
   {
    "duration": 84,
    "start_time": "2023-07-10T17:05:17.746Z"
   },
   {
    "duration": 134,
    "start_time": "2023-07-10T17:05:17.832Z"
   },
   {
    "duration": 61,
    "start_time": "2023-07-10T17:05:17.972Z"
   },
   {
    "duration": 49,
    "start_time": "2023-07-10T17:05:18.036Z"
   },
   {
    "duration": 40,
    "start_time": "2023-07-10T17:05:18.090Z"
   },
   {
    "duration": 79,
    "start_time": "2023-07-10T17:05:18.132Z"
   },
   {
    "duration": 135,
    "start_time": "2023-07-10T17:05:18.214Z"
   },
   {
    "duration": 225,
    "start_time": "2023-07-10T17:05:18.352Z"
   },
   {
    "duration": 1288,
    "start_time": "2023-07-10T17:05:18.587Z"
   },
   {
    "duration": 175,
    "start_time": "2023-07-10T17:05:19.877Z"
   },
   {
    "duration": 12,
    "start_time": "2023-07-10T17:05:20.060Z"
   },
   {
    "duration": 620098,
    "start_time": "2023-07-10T17:05:20.074Z"
   },
   {
    "duration": 17016,
    "start_time": "2023-07-10T17:15:40.177Z"
   },
   {
    "duration": 29,
    "start_time": "2023-07-10T17:15:57.195Z"
   },
   {
    "duration": 0,
    "start_time": "2023-07-10T17:15:57.226Z"
   },
   {
    "duration": 0,
    "start_time": "2023-07-10T17:15:57.227Z"
   },
   {
    "duration": 19,
    "start_time": "2023-07-10T17:16:28.146Z"
   },
   {
    "duration": 150,
    "start_time": "2023-07-10T17:16:32.531Z"
   },
   {
    "duration": 1205,
    "start_time": "2023-07-10T17:24:11.520Z"
   },
   {
    "duration": 1292,
    "start_time": "2023-07-11T06:15:58.744Z"
   },
   {
    "duration": 1403,
    "start_time": "2023-07-11T06:16:00.039Z"
   },
   {
    "duration": 229,
    "start_time": "2023-07-11T06:16:01.444Z"
   },
   {
    "duration": 35,
    "start_time": "2023-07-11T06:16:01.676Z"
   },
   {
    "duration": 317,
    "start_time": "2023-07-11T06:16:01.714Z"
   },
   {
    "duration": 6,
    "start_time": "2023-07-11T06:16:02.033Z"
   },
   {
    "duration": 156,
    "start_time": "2023-07-11T06:16:02.040Z"
   },
   {
    "duration": 41,
    "start_time": "2023-07-11T06:16:02.197Z"
   },
   {
    "duration": 98,
    "start_time": "2023-07-11T06:16:02.240Z"
   },
   {
    "duration": 62,
    "start_time": "2023-07-11T06:16:02.340Z"
   },
   {
    "duration": 17,
    "start_time": "2023-07-11T06:16:02.404Z"
   },
   {
    "duration": 28,
    "start_time": "2023-07-11T06:16:02.423Z"
   },
   {
    "duration": 18,
    "start_time": "2023-07-11T06:16:02.452Z"
   },
   {
    "duration": 146,
    "start_time": "2023-07-11T06:16:02.474Z"
   },
   {
    "duration": 179,
    "start_time": "2023-07-11T06:16:02.622Z"
   },
   {
    "duration": 1134,
    "start_time": "2023-07-11T06:16:02.803Z"
   },
   {
    "duration": 168,
    "start_time": "2023-07-11T06:16:03.940Z"
   },
   {
    "duration": 136,
    "start_time": "2023-07-11T06:16:04.110Z"
   },
   {
    "duration": 0,
    "start_time": "2023-07-11T06:16:04.248Z"
   },
   {
    "duration": 0,
    "start_time": "2023-07-11T06:16:04.250Z"
   },
   {
    "duration": 0,
    "start_time": "2023-07-11T06:16:04.251Z"
   },
   {
    "duration": 0,
    "start_time": "2023-07-11T06:16:04.253Z"
   },
   {
    "duration": 0,
    "start_time": "2023-07-11T06:16:04.254Z"
   },
   {
    "duration": 5,
    "start_time": "2023-07-11T06:17:29.402Z"
   },
   {
    "duration": 8,
    "start_time": "2023-07-11T06:25:34.798Z"
   },
   {
    "duration": 1047,
    "start_time": "2023-07-11T06:25:35.036Z"
   },
   {
    "duration": 187,
    "start_time": "2023-07-11T06:25:36.116Z"
   },
   {
    "duration": 24,
    "start_time": "2023-07-11T06:25:36.516Z"
   },
   {
    "duration": 251,
    "start_time": "2023-07-11T06:25:36.565Z"
   },
   {
    "duration": 28,
    "start_time": "2023-07-11T06:25:36.852Z"
   },
   {
    "duration": 36,
    "start_time": "2023-07-11T06:25:36.968Z"
   },
   {
    "duration": 23,
    "start_time": "2023-07-11T06:25:37.133Z"
   },
   {
    "duration": 96,
    "start_time": "2023-07-11T06:25:37.226Z"
   },
   {
    "duration": 111,
    "start_time": "2023-07-11T06:25:37.342Z"
   },
   {
    "duration": 30,
    "start_time": "2023-07-11T06:25:37.629Z"
   },
   {
    "duration": 66,
    "start_time": "2023-07-11T06:25:37.730Z"
   },
   {
    "duration": 17,
    "start_time": "2023-07-11T06:25:37.918Z"
   },
   {
    "duration": 122,
    "start_time": "2023-07-11T06:25:38.102Z"
   },
   {
    "duration": 22,
    "start_time": "2023-07-11T06:25:39.382Z"
   },
   {
    "duration": 0,
    "start_time": "2023-07-11T06:25:39.408Z"
   },
   {
    "duration": 0,
    "start_time": "2023-07-11T06:25:39.410Z"
   },
   {
    "duration": 0,
    "start_time": "2023-07-11T06:25:39.412Z"
   },
   {
    "duration": 0,
    "start_time": "2023-07-11T06:25:39.416Z"
   },
   {
    "duration": 0,
    "start_time": "2023-07-11T06:25:39.419Z"
   },
   {
    "duration": 0,
    "start_time": "2023-07-11T06:25:39.421Z"
   },
   {
    "duration": 0,
    "start_time": "2023-07-11T06:25:39.423Z"
   },
   {
    "duration": 0,
    "start_time": "2023-07-11T06:25:39.425Z"
   },
   {
    "duration": 24,
    "start_time": "2023-07-11T06:29:12.392Z"
   },
   {
    "duration": 14,
    "start_time": "2023-07-11T06:29:36.724Z"
   },
   {
    "duration": 2308,
    "start_time": "2023-07-11T06:33:09.547Z"
   },
   {
    "duration": 19,
    "start_time": "2023-07-11T06:33:20.149Z"
   },
   {
    "duration": 26,
    "start_time": "2023-07-11T06:33:30.096Z"
   },
   {
    "duration": 4,
    "start_time": "2023-07-11T06:34:13.937Z"
   },
   {
    "duration": 998,
    "start_time": "2023-07-11T06:34:13.943Z"
   },
   {
    "duration": 2,
    "start_time": "2023-07-11T06:34:14.943Z"
   },
   {
    "duration": 42,
    "start_time": "2023-07-11T06:34:14.947Z"
   },
   {
    "duration": 245,
    "start_time": "2023-07-11T06:34:14.992Z"
   },
   {
    "duration": 7,
    "start_time": "2023-07-11T06:34:15.239Z"
   },
   {
    "duration": 51,
    "start_time": "2023-07-11T06:34:15.248Z"
   },
   {
    "duration": 46,
    "start_time": "2023-07-11T06:34:15.301Z"
   },
   {
    "duration": 124,
    "start_time": "2023-07-11T06:34:15.348Z"
   },
   {
    "duration": 70,
    "start_time": "2023-07-11T06:34:15.473Z"
   },
   {
    "duration": 18,
    "start_time": "2023-07-11T06:34:15.545Z"
   },
   {
    "duration": 59,
    "start_time": "2023-07-11T06:34:15.564Z"
   },
   {
    "duration": 22,
    "start_time": "2023-07-11T06:34:15.624Z"
   },
   {
    "duration": 97,
    "start_time": "2023-07-11T06:34:15.648Z"
   },
   {
    "duration": 192,
    "start_time": "2023-07-11T06:34:15.747Z"
   },
   {
    "duration": 1157,
    "start_time": "2023-07-11T06:34:15.940Z"
   },
   {
    "duration": 146,
    "start_time": "2023-07-11T06:34:17.099Z"
   },
   {
    "duration": 5,
    "start_time": "2023-07-11T06:34:17.247Z"
   },
   {
    "duration": 464910,
    "start_time": "2023-07-11T06:34:17.255Z"
   },
   {
    "duration": 17681,
    "start_time": "2023-07-11T06:42:02.167Z"
   },
   {
    "duration": 42,
    "start_time": "2023-07-11T06:42:19.850Z"
   },
   {
    "duration": 0,
    "start_time": "2023-07-11T06:42:19.894Z"
   },
   {
    "duration": 0,
    "start_time": "2023-07-11T06:42:19.895Z"
   },
   {
    "duration": 12,
    "start_time": "2023-07-11T06:50:06.899Z"
   },
   {
    "duration": 59,
    "start_time": "2023-07-11T06:50:09.105Z"
   },
   {
    "duration": 20,
    "start_time": "2023-07-11T06:53:19.011Z"
   },
   {
    "duration": 824,
    "start_time": "2023-07-11T07:03:03.202Z"
   },
   {
    "duration": 3,
    "start_time": "2023-07-11T07:03:09.337Z"
   },
   {
    "duration": 833,
    "start_time": "2023-07-11T07:03:09.342Z"
   },
   {
    "duration": 3,
    "start_time": "2023-07-11T07:03:10.177Z"
   },
   {
    "duration": 29,
    "start_time": "2023-07-11T07:03:10.182Z"
   },
   {
    "duration": 195,
    "start_time": "2023-07-11T07:03:10.214Z"
   },
   {
    "duration": 5,
    "start_time": "2023-07-11T07:03:10.411Z"
   },
   {
    "duration": 53,
    "start_time": "2023-07-11T07:03:10.418Z"
   },
   {
    "duration": 45,
    "start_time": "2023-07-11T07:03:10.473Z"
   },
   {
    "duration": 117,
    "start_time": "2023-07-11T07:03:10.520Z"
   },
   {
    "duration": 54,
    "start_time": "2023-07-11T07:03:10.639Z"
   },
   {
    "duration": 18,
    "start_time": "2023-07-11T07:03:10.695Z"
   },
   {
    "duration": 40,
    "start_time": "2023-07-11T07:03:10.715Z"
   },
   {
    "duration": 50,
    "start_time": "2023-07-11T07:03:10.757Z"
   },
   {
    "duration": 84,
    "start_time": "2023-07-11T07:03:10.809Z"
   },
   {
    "duration": 153,
    "start_time": "2023-07-11T07:03:10.895Z"
   },
   {
    "duration": 921,
    "start_time": "2023-07-11T07:03:11.049Z"
   },
   {
    "duration": 118,
    "start_time": "2023-07-11T07:03:11.975Z"
   },
   {
    "duration": 16,
    "start_time": "2023-07-11T07:03:12.094Z"
   },
   {
    "duration": 23,
    "start_time": "2023-07-11T07:03:12.111Z"
   },
   {
    "duration": 415280,
    "start_time": "2023-07-11T07:03:12.136Z"
   },
   {
    "duration": 13898,
    "start_time": "2023-07-11T07:10:07.418Z"
   },
   {
    "duration": 23,
    "start_time": "2023-07-11T07:10:21.318Z"
   },
   {
    "duration": 0,
    "start_time": "2023-07-11T07:10:21.343Z"
   },
   {
    "duration": 0,
    "start_time": "2023-07-11T07:10:21.344Z"
   },
   {
    "duration": 81,
    "start_time": "2023-07-11T07:35:46.301Z"
   },
   {
    "duration": 840,
    "start_time": "2023-07-11T11:33:43.602Z"
   },
   {
    "duration": 812,
    "start_time": "2023-07-11T11:33:52.610Z"
   },
   {
    "duration": 404,
    "start_time": "2023-07-11T11:34:30.303Z"
   },
   {
    "duration": 364,
    "start_time": "2023-07-11T11:35:12.519Z"
   },
   {
    "duration": 359,
    "start_time": "2023-07-11T11:36:51.927Z"
   },
   {
    "duration": 363,
    "start_time": "2023-07-11T11:37:03.178Z"
   },
   {
    "duration": 405,
    "start_time": "2023-07-11T11:37:23.493Z"
   },
   {
    "duration": 366,
    "start_time": "2023-07-11T11:40:20.200Z"
   },
   {
    "duration": 361,
    "start_time": "2023-07-11T11:41:10.160Z"
   },
   {
    "duration": 349,
    "start_time": "2023-07-11T11:41:25.069Z"
   },
   {
    "duration": 350,
    "start_time": "2023-07-11T11:41:31.794Z"
   },
   {
    "duration": 340,
    "start_time": "2023-07-11T11:42:11.815Z"
   },
   {
    "duration": 3,
    "start_time": "2023-07-11T11:49:39.508Z"
   },
   {
    "duration": 57,
    "start_time": "2023-07-11T11:49:55.909Z"
   },
   {
    "duration": 3,
    "start_time": "2023-07-11T11:50:00.945Z"
   },
   {
    "duration": 946,
    "start_time": "2023-07-11T11:50:00.951Z"
   },
   {
    "duration": 2,
    "start_time": "2023-07-11T11:50:01.899Z"
   },
   {
    "duration": 64,
    "start_time": "2023-07-11T11:50:01.903Z"
   },
   {
    "duration": 206,
    "start_time": "2023-07-11T11:50:01.969Z"
   },
   {
    "duration": 5,
    "start_time": "2023-07-11T11:50:02.177Z"
   },
   {
    "duration": 42,
    "start_time": "2023-07-11T11:50:02.184Z"
   },
   {
    "duration": 56,
    "start_time": "2023-07-11T11:50:02.227Z"
   },
   {
    "duration": 385,
    "start_time": "2023-07-11T11:50:02.285Z"
   },
   {
    "duration": 50,
    "start_time": "2023-07-11T11:50:02.675Z"
   },
   {
    "duration": 18,
    "start_time": "2023-07-11T11:50:02.727Z"
   },
   {
    "duration": 72,
    "start_time": "2023-07-11T11:50:02.746Z"
   },
   {
    "duration": 33,
    "start_time": "2023-07-11T11:50:02.821Z"
   },
   {
    "duration": 94,
    "start_time": "2023-07-11T11:50:02.856Z"
   },
   {
    "duration": 160,
    "start_time": "2023-07-11T11:50:02.951Z"
   },
   {
    "duration": 935,
    "start_time": "2023-07-11T11:50:03.113Z"
   },
   {
    "duration": 138,
    "start_time": "2023-07-11T11:50:04.050Z"
   },
   {
    "duration": 17,
    "start_time": "2023-07-11T11:50:04.190Z"
   },
   {
    "duration": 19,
    "start_time": "2023-07-11T11:50:04.209Z"
   },
   {
    "duration": 409301,
    "start_time": "2023-07-11T11:50:04.229Z"
   },
   {
    "duration": 13856,
    "start_time": "2023-07-11T11:56:53.532Z"
   },
   {
    "duration": 27,
    "start_time": "2023-07-11T11:57:07.389Z"
   },
   {
    "duration": 0,
    "start_time": "2023-07-11T11:57:07.418Z"
   },
   {
    "duration": 0,
    "start_time": "2023-07-11T11:57:07.419Z"
   },
   {
    "duration": 26,
    "start_time": "2023-07-11T11:57:41.482Z"
   },
   {
    "duration": 10,
    "start_time": "2023-07-11T11:58:09.353Z"
   },
   {
    "duration": 92,
    "start_time": "2023-07-11T11:58:13.746Z"
   },
   {
    "duration": 147,
    "start_time": "2023-07-11T12:00:14.042Z"
   },
   {
    "duration": 208,
    "start_time": "2023-07-11T12:00:27.994Z"
   },
   {
    "duration": 9,
    "start_time": "2023-07-11T12:02:14.049Z"
   },
   {
    "duration": 181,
    "start_time": "2023-07-11T12:02:22.319Z"
   },
   {
    "duration": 97,
    "start_time": "2023-07-11T12:02:56.200Z"
   },
   {
    "duration": 210,
    "start_time": "2023-07-11T12:07:28.352Z"
   },
   {
    "duration": 4,
    "start_time": "2023-07-11T12:08:29.088Z"
   },
   {
    "duration": 905,
    "start_time": "2023-07-11T12:08:29.094Z"
   },
   {
    "duration": 2,
    "start_time": "2023-07-11T12:08:30.001Z"
   },
   {
    "duration": 65,
    "start_time": "2023-07-11T12:08:30.005Z"
   },
   {
    "duration": 220,
    "start_time": "2023-07-11T12:08:30.072Z"
   },
   {
    "duration": 6,
    "start_time": "2023-07-11T12:08:30.294Z"
   },
   {
    "duration": 48,
    "start_time": "2023-07-11T12:08:30.301Z"
   },
   {
    "duration": 46,
    "start_time": "2023-07-11T12:08:30.351Z"
   },
   {
    "duration": 213,
    "start_time": "2023-07-11T12:08:30.400Z"
   },
   {
    "duration": 60,
    "start_time": "2023-07-11T12:08:30.616Z"
   },
   {
    "duration": 33,
    "start_time": "2023-07-11T12:08:30.678Z"
   },
   {
    "duration": 63,
    "start_time": "2023-07-11T12:08:30.713Z"
   },
   {
    "duration": 86,
    "start_time": "2023-07-11T12:08:30.778Z"
   },
   {
    "duration": 129,
    "start_time": "2023-07-11T12:08:30.866Z"
   },
   {
    "duration": 171,
    "start_time": "2023-07-11T12:08:30.997Z"
   },
   {
    "duration": 975,
    "start_time": "2023-07-11T12:08:31.170Z"
   },
   {
    "duration": 206,
    "start_time": "2023-07-11T12:08:32.147Z"
   },
   {
    "duration": 6,
    "start_time": "2023-07-11T12:08:32.355Z"
   },
   {
    "duration": 450955,
    "start_time": "2023-07-11T12:08:32.375Z"
   },
   {
    "duration": 14205,
    "start_time": "2023-07-11T12:16:03.332Z"
   },
   {
    "duration": 25,
    "start_time": "2023-07-11T12:16:17.538Z"
   },
   {
    "duration": 0,
    "start_time": "2023-07-11T12:16:17.564Z"
   },
   {
    "duration": 0,
    "start_time": "2023-07-11T12:16:17.575Z"
   },
   {
    "duration": 4,
    "start_time": "2023-07-11T12:28:00.316Z"
   },
   {
    "duration": 899,
    "start_time": "2023-07-11T12:28:00.322Z"
   },
   {
    "duration": 2,
    "start_time": "2023-07-11T12:28:01.223Z"
   },
   {
    "duration": 84,
    "start_time": "2023-07-11T12:28:01.227Z"
   },
   {
    "duration": 263,
    "start_time": "2023-07-11T12:28:01.313Z"
   },
   {
    "duration": 6,
    "start_time": "2023-07-11T12:28:01.577Z"
   },
   {
    "duration": 129,
    "start_time": "2023-07-11T12:28:01.585Z"
   },
   {
    "duration": 176,
    "start_time": "2023-07-11T12:28:01.716Z"
   },
   {
    "duration": 131,
    "start_time": "2023-07-11T12:28:01.894Z"
   },
   {
    "duration": 63,
    "start_time": "2023-07-11T12:28:02.027Z"
   },
   {
    "duration": 22,
    "start_time": "2023-07-11T12:28:02.092Z"
   },
   {
    "duration": 68,
    "start_time": "2023-07-11T12:28:02.116Z"
   },
   {
    "duration": 47,
    "start_time": "2023-07-11T12:28:02.185Z"
   },
   {
    "duration": 150,
    "start_time": "2023-07-11T12:28:02.234Z"
   },
   {
    "duration": 162,
    "start_time": "2023-07-11T12:28:02.386Z"
   },
   {
    "duration": 948,
    "start_time": "2023-07-11T12:28:02.550Z"
   },
   {
    "duration": 188,
    "start_time": "2023-07-11T12:28:03.499Z"
   },
   {
    "duration": 3,
    "start_time": "2023-07-11T12:28:03.689Z"
   },
   {
    "duration": 439757,
    "start_time": "2023-07-11T12:28:03.693Z"
   },
   {
    "duration": 14340,
    "start_time": "2023-07-11T12:35:23.451Z"
   },
   {
    "duration": 26,
    "start_time": "2023-07-11T12:35:37.792Z"
   },
   {
    "duration": 0,
    "start_time": "2023-07-11T12:35:37.819Z"
   },
   {
    "duration": 0,
    "start_time": "2023-07-11T12:35:37.821Z"
   },
   {
    "duration": 78,
    "start_time": "2023-07-11T12:42:23.391Z"
   },
   {
    "duration": 3,
    "start_time": "2023-07-11T12:43:44.802Z"
   },
   {
    "duration": 860,
    "start_time": "2023-07-11T12:43:44.807Z"
   },
   {
    "duration": 6,
    "start_time": "2023-07-11T12:43:45.669Z"
   },
   {
    "duration": 22,
    "start_time": "2023-07-11T12:43:45.677Z"
   },
   {
    "duration": 169,
    "start_time": "2023-07-11T12:43:45.700Z"
   },
   {
    "duration": 7,
    "start_time": "2023-07-11T12:43:45.870Z"
   },
   {
    "duration": 28,
    "start_time": "2023-07-11T12:43:45.878Z"
   },
   {
    "duration": 43,
    "start_time": "2023-07-11T12:43:45.907Z"
   },
   {
    "duration": 116,
    "start_time": "2023-07-11T12:43:45.951Z"
   },
   {
    "duration": 61,
    "start_time": "2023-07-11T12:43:46.069Z"
   },
   {
    "duration": 17,
    "start_time": "2023-07-11T12:43:46.132Z"
   },
   {
    "duration": 35,
    "start_time": "2023-07-11T12:43:46.151Z"
   },
   {
    "duration": 91,
    "start_time": "2023-07-11T12:43:46.189Z"
   },
   {
    "duration": 130,
    "start_time": "2023-07-11T12:43:46.282Z"
   },
   {
    "duration": 945,
    "start_time": "2023-07-11T12:43:46.414Z"
   },
   {
    "duration": 298,
    "start_time": "2023-07-11T12:43:47.360Z"
   },
   {
    "duration": 4,
    "start_time": "2023-07-11T12:43:47.659Z"
   },
   {
    "duration": 418165,
    "start_time": "2023-07-11T12:43:47.665Z"
   },
   {
    "duration": 13809,
    "start_time": "2023-07-11T12:50:45.832Z"
   },
   {
    "duration": 60,
    "start_time": "2023-07-11T12:50:59.643Z"
   },
   {
    "duration": 0,
    "start_time": "2023-07-11T12:50:59.705Z"
   },
   {
    "duration": 0,
    "start_time": "2023-07-11T12:50:59.706Z"
   },
   {
    "duration": 0,
    "start_time": "2023-07-11T12:50:59.707Z"
   },
   {
    "duration": 9,
    "start_time": "2023-07-11T12:51:14.556Z"
   },
   {
    "duration": 139,
    "start_time": "2023-07-11T12:51:16.915Z"
   },
   {
    "duration": 3,
    "start_time": "2023-07-11T13:02:18.416Z"
   },
   {
    "duration": 856,
    "start_time": "2023-07-11T13:02:18.421Z"
   },
   {
    "duration": 222,
    "start_time": "2023-07-11T13:02:19.279Z"
   },
   {
    "duration": 15,
    "start_time": "2023-07-11T13:02:19.502Z"
   },
   {
    "duration": 127,
    "start_time": "2023-07-11T13:02:19.519Z"
   },
   {
    "duration": 5,
    "start_time": "2023-07-11T13:02:19.647Z"
   },
   {
    "duration": 30,
    "start_time": "2023-07-11T13:02:19.654Z"
   },
   {
    "duration": 26,
    "start_time": "2023-07-11T13:02:19.686Z"
   },
   {
    "duration": 90,
    "start_time": "2023-07-11T13:02:19.714Z"
   },
   {
    "duration": 36,
    "start_time": "2023-07-11T13:02:19.806Z"
   },
   {
    "duration": 32,
    "start_time": "2023-07-11T13:02:19.844Z"
   },
   {
    "duration": 31,
    "start_time": "2023-07-11T13:02:19.877Z"
   },
   {
    "duration": 83,
    "start_time": "2023-07-11T13:02:19.910Z"
   },
   {
    "duration": 68,
    "start_time": "2023-07-11T13:02:19.995Z"
   },
   {
    "duration": 884,
    "start_time": "2023-07-11T13:02:20.065Z"
   },
   {
    "duration": 182,
    "start_time": "2023-07-11T13:02:20.950Z"
   },
   {
    "duration": 4,
    "start_time": "2023-07-11T13:02:21.134Z"
   },
   {
    "duration": 17,
    "start_time": "2023-07-11T13:02:21.139Z"
   },
   {
    "duration": 196,
    "start_time": "2023-07-11T13:02:21.157Z"
   },
   {
    "duration": 0,
    "start_time": "2023-07-11T13:02:21.355Z"
   },
   {
    "duration": 0,
    "start_time": "2023-07-11T13:02:21.356Z"
   },
   {
    "duration": 0,
    "start_time": "2023-07-11T13:02:21.357Z"
   },
   {
    "duration": 0,
    "start_time": "2023-07-11T13:02:21.358Z"
   },
   {
    "duration": 27,
    "start_time": "2023-07-11T13:05:03.071Z"
   },
   {
    "duration": 9,
    "start_time": "2023-07-11T13:05:37.398Z"
   },
   {
    "duration": 1905,
    "start_time": "2023-07-11T13:05:40.286Z"
   },
   {
    "duration": 1828,
    "start_time": "2023-07-11T13:26:41.301Z"
   },
   {
    "duration": 6876,
    "start_time": "2023-07-11T13:32:33.925Z"
   },
   {
    "duration": 4,
    "start_time": "2023-07-11T13:33:18.936Z"
   },
   {
    "duration": 782,
    "start_time": "2023-07-11T13:33:18.942Z"
   },
   {
    "duration": 211,
    "start_time": "2023-07-11T13:33:19.725Z"
   },
   {
    "duration": 15,
    "start_time": "2023-07-11T13:33:19.938Z"
   },
   {
    "duration": 121,
    "start_time": "2023-07-11T13:33:19.955Z"
   },
   {
    "duration": 6,
    "start_time": "2023-07-11T13:33:20.078Z"
   },
   {
    "duration": 25,
    "start_time": "2023-07-11T13:33:20.085Z"
   },
   {
    "duration": 38,
    "start_time": "2023-07-11T13:33:20.111Z"
   },
   {
    "duration": 77,
    "start_time": "2023-07-11T13:33:20.152Z"
   },
   {
    "duration": 49,
    "start_time": "2023-07-11T13:33:20.231Z"
   },
   {
    "duration": 19,
    "start_time": "2023-07-11T13:33:20.282Z"
   },
   {
    "duration": 44,
    "start_time": "2023-07-11T13:33:20.302Z"
   },
   {
    "duration": 87,
    "start_time": "2023-07-11T13:33:20.348Z"
   },
   {
    "duration": 73,
    "start_time": "2023-07-11T13:33:20.437Z"
   },
   {
    "duration": 901,
    "start_time": "2023-07-11T13:33:20.512Z"
   },
   {
    "duration": 195,
    "start_time": "2023-07-11T13:33:21.414Z"
   },
   {
    "duration": 4,
    "start_time": "2023-07-11T13:33:21.611Z"
   },
   {
    "duration": 508357,
    "start_time": "2023-07-11T13:33:21.616Z"
   },
   {
    "duration": 25327,
    "start_time": "2023-07-11T13:41:49.975Z"
   },
   {
    "duration": 3821,
    "start_time": "2023-07-11T13:42:15.304Z"
   },
   {
    "duration": 0,
    "start_time": "2023-07-11T13:42:19.126Z"
   },
   {
    "duration": 0,
    "start_time": "2023-07-11T13:42:19.128Z"
   },
   {
    "duration": 0,
    "start_time": "2023-07-11T13:42:19.129Z"
   },
   {
    "duration": 0,
    "start_time": "2023-07-11T13:42:19.130Z"
   },
   {
    "duration": 4,
    "start_time": "2023-07-11T13:44:32.918Z"
   },
   {
    "duration": 1722,
    "start_time": "2023-07-11T13:44:32.927Z"
   },
   {
    "duration": 238,
    "start_time": "2023-07-11T13:44:34.675Z"
   },
   {
    "duration": 20,
    "start_time": "2023-07-11T13:44:34.915Z"
   },
   {
    "duration": 156,
    "start_time": "2023-07-11T13:44:34.937Z"
   },
   {
    "duration": 6,
    "start_time": "2023-07-11T13:44:35.095Z"
   },
   {
    "duration": 86,
    "start_time": "2023-07-11T13:44:35.103Z"
   },
   {
    "duration": 93,
    "start_time": "2023-07-11T13:44:35.190Z"
   },
   {
    "duration": 96,
    "start_time": "2023-07-11T13:44:35.285Z"
   },
   {
    "duration": 36,
    "start_time": "2023-07-11T13:44:35.382Z"
   },
   {
    "duration": 18,
    "start_time": "2023-07-11T13:44:35.420Z"
   },
   {
    "duration": 39,
    "start_time": "2023-07-11T13:44:35.440Z"
   },
   {
    "duration": 102,
    "start_time": "2023-07-11T13:44:35.481Z"
   },
   {
    "duration": 91,
    "start_time": "2023-07-11T13:44:35.584Z"
   },
   {
    "duration": 1327,
    "start_time": "2023-07-11T13:44:35.677Z"
   },
   {
    "duration": 397,
    "start_time": "2023-07-11T13:44:37.007Z"
   },
   {
    "duration": 4,
    "start_time": "2023-07-11T13:44:37.405Z"
   },
   {
    "duration": 554752,
    "start_time": "2023-07-11T13:44:37.410Z"
   },
   {
    "duration": 13398,
    "start_time": "2023-07-11T13:53:52.164Z"
   },
   {
    "duration": 3891,
    "start_time": "2023-07-11T13:54:05.564Z"
   },
   {
    "duration": 0,
    "start_time": "2023-07-11T13:54:09.457Z"
   },
   {
    "duration": 0,
    "start_time": "2023-07-11T13:54:09.459Z"
   },
   {
    "duration": 0,
    "start_time": "2023-07-11T13:54:09.460Z"
   },
   {
    "duration": 0,
    "start_time": "2023-07-11T13:54:09.461Z"
   },
   {
    "duration": 28,
    "start_time": "2023-07-11T14:01:51.349Z"
   },
   {
    "duration": 9,
    "start_time": "2023-07-11T14:01:55.772Z"
   },
   {
    "duration": 1975,
    "start_time": "2023-07-11T14:01:58.156Z"
   },
   {
    "duration": 3,
    "start_time": "2023-07-11T14:17:36.859Z"
   },
   {
    "duration": 832,
    "start_time": "2023-07-11T14:17:36.866Z"
   },
   {
    "duration": 79,
    "start_time": "2023-07-11T14:17:37.700Z"
   },
   {
    "duration": 74,
    "start_time": "2023-07-11T14:17:37.780Z"
   },
   {
    "duration": 118,
    "start_time": "2023-07-11T14:17:37.857Z"
   },
   {
    "duration": 15,
    "start_time": "2023-07-11T14:17:37.976Z"
   },
   {
    "duration": 57,
    "start_time": "2023-07-11T14:17:37.992Z"
   },
   {
    "duration": 1443,
    "start_time": "2023-07-11T14:17:38.051Z"
   },
   {
    "duration": 0,
    "start_time": "2023-07-11T14:17:39.496Z"
   },
   {
    "duration": 0,
    "start_time": "2023-07-11T14:17:39.497Z"
   },
   {
    "duration": 0,
    "start_time": "2023-07-11T14:17:39.499Z"
   },
   {
    "duration": 0,
    "start_time": "2023-07-11T14:17:39.500Z"
   },
   {
    "duration": 0,
    "start_time": "2023-07-11T14:17:39.500Z"
   },
   {
    "duration": 0,
    "start_time": "2023-07-11T14:17:39.502Z"
   },
   {
    "duration": 0,
    "start_time": "2023-07-11T14:17:39.503Z"
   },
   {
    "duration": 0,
    "start_time": "2023-07-11T14:17:39.504Z"
   },
   {
    "duration": 0,
    "start_time": "2023-07-11T14:17:39.504Z"
   },
   {
    "duration": 0,
    "start_time": "2023-07-11T14:17:39.505Z"
   },
   {
    "duration": 0,
    "start_time": "2023-07-11T14:17:39.506Z"
   },
   {
    "duration": 0,
    "start_time": "2023-07-11T14:17:39.507Z"
   },
   {
    "duration": 0,
    "start_time": "2023-07-11T14:17:39.508Z"
   },
   {
    "duration": 0,
    "start_time": "2023-07-11T14:17:39.509Z"
   },
   {
    "duration": 3,
    "start_time": "2023-07-11T14:20:15.162Z"
   },
   {
    "duration": 888,
    "start_time": "2023-07-11T14:20:15.167Z"
   },
   {
    "duration": 85,
    "start_time": "2023-07-11T14:20:16.056Z"
   },
   {
    "duration": 92,
    "start_time": "2023-07-11T14:20:16.142Z"
   },
   {
    "duration": 116,
    "start_time": "2023-07-11T14:20:16.236Z"
   },
   {
    "duration": 22,
    "start_time": "2023-07-11T14:20:16.354Z"
   },
   {
    "duration": 64,
    "start_time": "2023-07-11T14:20:16.377Z"
   },
   {
    "duration": 2186,
    "start_time": "2023-07-11T14:20:16.443Z"
   },
   {
    "duration": 0,
    "start_time": "2023-07-11T14:20:18.632Z"
   },
   {
    "duration": 0,
    "start_time": "2023-07-11T14:20:18.633Z"
   },
   {
    "duration": 0,
    "start_time": "2023-07-11T14:20:18.634Z"
   },
   {
    "duration": 0,
    "start_time": "2023-07-11T14:20:18.635Z"
   },
   {
    "duration": 0,
    "start_time": "2023-07-11T14:20:18.635Z"
   },
   {
    "duration": 0,
    "start_time": "2023-07-11T14:20:18.636Z"
   },
   {
    "duration": 0,
    "start_time": "2023-07-11T14:20:18.637Z"
   },
   {
    "duration": 0,
    "start_time": "2023-07-11T14:20:18.638Z"
   },
   {
    "duration": 0,
    "start_time": "2023-07-11T14:20:18.639Z"
   },
   {
    "duration": 0,
    "start_time": "2023-07-11T14:20:18.641Z"
   },
   {
    "duration": 0,
    "start_time": "2023-07-11T14:20:18.642Z"
   },
   {
    "duration": 0,
    "start_time": "2023-07-11T14:20:18.643Z"
   },
   {
    "duration": 0,
    "start_time": "2023-07-11T14:20:18.644Z"
   },
   {
    "duration": 0,
    "start_time": "2023-07-11T14:20:18.645Z"
   },
   {
    "duration": 4,
    "start_time": "2023-07-11T14:21:07.188Z"
   },
   {
    "duration": 963,
    "start_time": "2023-07-11T14:21:07.194Z"
   },
   {
    "duration": 86,
    "start_time": "2023-07-11T14:21:08.159Z"
   },
   {
    "duration": 93,
    "start_time": "2023-07-11T14:21:08.247Z"
   },
   {
    "duration": 165,
    "start_time": "2023-07-11T14:21:08.342Z"
   },
   {
    "duration": 18,
    "start_time": "2023-07-11T14:21:08.509Z"
   },
   {
    "duration": 80,
    "start_time": "2023-07-11T14:21:08.528Z"
   },
   {
    "duration": 237,
    "start_time": "2023-07-11T14:21:08.610Z"
   },
   {
    "duration": 1155,
    "start_time": "2023-07-11T14:21:08.848Z"
   },
   {
    "duration": 596,
    "start_time": "2023-07-11T14:21:10.005Z"
   },
   {
    "duration": 3,
    "start_time": "2023-07-11T14:21:10.603Z"
   },
   {
    "duration": 978,
    "start_time": "2023-07-11T14:21:10.608Z"
   },
   {
    "duration": 0,
    "start_time": "2023-07-11T14:21:11.590Z"
   },
   {
    "duration": 0,
    "start_time": "2023-07-11T14:21:11.591Z"
   },
   {
    "duration": 0,
    "start_time": "2023-07-11T14:21:11.593Z"
   },
   {
    "duration": 0,
    "start_time": "2023-07-11T14:21:11.594Z"
   },
   {
    "duration": 0,
    "start_time": "2023-07-11T14:21:11.595Z"
   },
   {
    "duration": 0,
    "start_time": "2023-07-11T14:21:11.597Z"
   },
   {
    "duration": 0,
    "start_time": "2023-07-11T14:21:11.598Z"
   },
   {
    "duration": 0,
    "start_time": "2023-07-11T14:21:11.600Z"
   },
   {
    "duration": 0,
    "start_time": "2023-07-11T14:21:11.601Z"
   },
   {
    "duration": 0,
    "start_time": "2023-07-11T14:21:11.603Z"
   },
   {
    "duration": 3,
    "start_time": "2023-07-11T14:28:53.438Z"
   },
   {
    "duration": 803,
    "start_time": "2023-07-11T14:28:53.640Z"
   },
   {
    "duration": 0,
    "start_time": "2023-07-11T14:28:56.091Z"
   },
   {
    "duration": 0,
    "start_time": "2023-07-11T14:28:56.094Z"
   },
   {
    "duration": 0,
    "start_time": "2023-07-11T14:28:56.097Z"
   },
   {
    "duration": 0,
    "start_time": "2023-07-11T14:28:56.100Z"
   },
   {
    "duration": 0,
    "start_time": "2023-07-11T14:28:56.103Z"
   },
   {
    "duration": 0,
    "start_time": "2023-07-11T14:28:56.106Z"
   },
   {
    "duration": 0,
    "start_time": "2023-07-11T14:28:56.109Z"
   },
   {
    "duration": 0,
    "start_time": "2023-07-11T14:28:56.112Z"
   },
   {
    "duration": 0,
    "start_time": "2023-07-11T14:28:56.115Z"
   },
   {
    "duration": 0,
    "start_time": "2023-07-11T14:28:56.118Z"
   },
   {
    "duration": 0,
    "start_time": "2023-07-11T14:28:56.121Z"
   },
   {
    "duration": 0,
    "start_time": "2023-07-11T14:28:56.124Z"
   },
   {
    "duration": 0,
    "start_time": "2023-07-11T14:28:56.127Z"
   },
   {
    "duration": 0,
    "start_time": "2023-07-11T14:28:56.178Z"
   },
   {
    "duration": 0,
    "start_time": "2023-07-11T14:28:56.182Z"
   },
   {
    "duration": 0,
    "start_time": "2023-07-11T14:28:56.186Z"
   },
   {
    "duration": 0,
    "start_time": "2023-07-11T14:28:56.190Z"
   },
   {
    "duration": 0,
    "start_time": "2023-07-11T14:28:56.191Z"
   },
   {
    "duration": 0,
    "start_time": "2023-07-11T14:28:56.195Z"
   },
   {
    "duration": 0,
    "start_time": "2023-07-11T14:28:56.197Z"
   },
   {
    "duration": 71,
    "start_time": "2023-07-11T14:38:56.484Z"
   },
   {
    "duration": 59,
    "start_time": "2023-07-11T14:38:59.651Z"
   },
   {
    "duration": 126,
    "start_time": "2023-07-11T14:39:01.684Z"
   },
   {
    "duration": 16,
    "start_time": "2023-07-11T14:39:04.593Z"
   },
   {
    "duration": 70,
    "start_time": "2023-07-11T14:39:06.916Z"
   },
   {
    "duration": 201,
    "start_time": "2023-07-11T14:39:09.803Z"
   },
   {
    "duration": 978,
    "start_time": "2023-07-11T14:39:13.681Z"
   },
   {
    "duration": 539,
    "start_time": "2023-07-11T14:39:17.783Z"
   },
   {
    "duration": 4,
    "start_time": "2023-07-11T14:39:21.883Z"
   },
   {
    "duration": 407613,
    "start_time": "2023-07-11T14:39:24.190Z"
   },
   {
    "duration": 15325,
    "start_time": "2023-07-11T14:51:44.399Z"
   },
   {
    "duration": 16574,
    "start_time": "2023-07-11T14:52:14.207Z"
   },
   {
    "duration": 16003,
    "start_time": "2023-07-11T14:53:23.913Z"
   },
   {
    "duration": 9,
    "start_time": "2023-07-11T14:53:45.624Z"
   },
   {
    "duration": 23374,
    "start_time": "2023-07-11T14:53:49.403Z"
   },
   {
    "duration": 278,
    "start_time": "2023-07-11T14:55:44.999Z"
   },
   {
    "duration": 1418,
    "start_time": "2023-07-11T14:55:47.769Z"
   },
   {
    "duration": 94,
    "start_time": "2023-07-11T14:55:51.371Z"
   },
   {
    "duration": 120,
    "start_time": "2023-07-11T14:55:54.424Z"
   },
   {
    "duration": 10,
    "start_time": "2023-07-11T14:55:57.931Z"
   },
   {
    "duration": 3,
    "start_time": "2023-07-11T15:18:02.600Z"
   },
   {
    "duration": 903,
    "start_time": "2023-07-11T15:18:02.605Z"
   },
   {
    "duration": 95,
    "start_time": "2023-07-11T15:18:03.511Z"
   },
   {
    "duration": 86,
    "start_time": "2023-07-11T15:18:03.608Z"
   },
   {
    "duration": 173,
    "start_time": "2023-07-11T15:18:03.696Z"
   },
   {
    "duration": 0,
    "start_time": "2023-07-11T15:18:03.871Z"
   },
   {
    "duration": 0,
    "start_time": "2023-07-11T15:18:03.873Z"
   },
   {
    "duration": 0,
    "start_time": "2023-07-11T15:18:03.874Z"
   },
   {
    "duration": 0,
    "start_time": "2023-07-11T15:18:03.875Z"
   },
   {
    "duration": 0,
    "start_time": "2023-07-11T15:18:03.876Z"
   },
   {
    "duration": 0,
    "start_time": "2023-07-11T15:18:03.877Z"
   },
   {
    "duration": 0,
    "start_time": "2023-07-11T15:18:03.879Z"
   },
   {
    "duration": 0,
    "start_time": "2023-07-11T15:18:03.881Z"
   },
   {
    "duration": 1,
    "start_time": "2023-07-11T15:18:03.881Z"
   },
   {
    "duration": 0,
    "start_time": "2023-07-11T15:18:03.882Z"
   },
   {
    "duration": 0,
    "start_time": "2023-07-11T15:18:03.883Z"
   },
   {
    "duration": 0,
    "start_time": "2023-07-11T15:18:03.884Z"
   },
   {
    "duration": 0,
    "start_time": "2023-07-11T15:18:03.885Z"
   },
   {
    "duration": 0,
    "start_time": "2023-07-11T15:18:03.889Z"
   },
   {
    "duration": 0,
    "start_time": "2023-07-11T15:18:03.889Z"
   },
   {
    "duration": 0,
    "start_time": "2023-07-11T15:18:03.891Z"
   },
   {
    "duration": 0,
    "start_time": "2023-07-11T15:18:03.892Z"
   },
   {
    "duration": 0,
    "start_time": "2023-07-11T15:18:03.894Z"
   },
   {
    "duration": 4,
    "start_time": "2023-07-11T15:27:59.997Z"
   },
   {
    "duration": 931,
    "start_time": "2023-07-11T15:28:00.003Z"
   },
   {
    "duration": 76,
    "start_time": "2023-07-11T15:28:00.935Z"
   },
   {
    "duration": 105,
    "start_time": "2023-07-11T15:28:01.013Z"
   },
   {
    "duration": 169,
    "start_time": "2023-07-11T15:28:01.120Z"
   },
   {
    "duration": 15,
    "start_time": "2023-07-11T15:28:01.291Z"
   },
   {
    "duration": 75,
    "start_time": "2023-07-11T15:28:01.308Z"
   },
   {
    "duration": 203,
    "start_time": "2023-07-11T15:28:01.385Z"
   },
   {
    "duration": 1082,
    "start_time": "2023-07-11T15:28:01.590Z"
   },
   {
    "duration": 550,
    "start_time": "2023-07-11T15:28:02.674Z"
   },
   {
    "duration": 5,
    "start_time": "2023-07-11T15:28:03.226Z"
   },
   {
    "duration": 411486,
    "start_time": "2023-07-11T15:28:03.233Z"
   },
   {
    "duration": 15291,
    "start_time": "2023-07-11T15:34:54.721Z"
   },
   {
    "duration": 16215,
    "start_time": "2023-07-11T15:35:10.014Z"
   },
   {
    "duration": 16071,
    "start_time": "2023-07-11T15:35:26.231Z"
   },
   {
    "duration": 8,
    "start_time": "2023-07-11T15:35:42.303Z"
   },
   {
    "duration": 22367,
    "start_time": "2023-07-11T15:35:42.312Z"
   },
   {
    "duration": 302,
    "start_time": "2023-07-11T15:36:04.681Z"
   },
   {
    "duration": 1527,
    "start_time": "2023-07-11T15:36:05.075Z"
   },
   {
    "duration": 182,
    "start_time": "2023-07-11T15:36:06.604Z"
   },
   {
    "duration": 141,
    "start_time": "2023-07-11T15:36:06.788Z"
   },
   {
    "duration": 10,
    "start_time": "2023-07-11T15:36:06.931Z"
   },
   {
    "duration": 47,
    "start_time": "2023-07-12T07:07:48.099Z"
   },
   {
    "duration": 1404,
    "start_time": "2023-07-12T07:07:54.210Z"
   },
   {
    "duration": 3108,
    "start_time": "2023-07-12T07:07:55.616Z"
   },
   {
    "duration": 88,
    "start_time": "2023-07-12T07:07:58.725Z"
   },
   {
    "duration": 123,
    "start_time": "2023-07-12T07:07:58.816Z"
   },
   {
    "duration": 196,
    "start_time": "2023-07-12T07:07:58.941Z"
   },
   {
    "duration": 34,
    "start_time": "2023-07-12T07:07:59.139Z"
   },
   {
    "duration": 84,
    "start_time": "2023-07-12T07:07:59.175Z"
   },
   {
    "duration": 266,
    "start_time": "2023-07-12T07:07:59.260Z"
   },
   {
    "duration": 6,
    "start_time": "2023-07-12T07:07:59.528Z"
   },
   {
    "duration": 1424,
    "start_time": "2023-07-12T07:07:59.537Z"
   },
   {
    "duration": 682,
    "start_time": "2023-07-12T07:08:00.962Z"
   },
   {
    "duration": 4,
    "start_time": "2023-07-12T07:08:01.646Z"
   },
   {
    "duration": 7,
    "start_time": "2023-07-12T07:27:58.073Z"
   },
   {
    "duration": 1009,
    "start_time": "2023-07-12T07:27:58.082Z"
   },
   {
    "duration": 92,
    "start_time": "2023-07-12T07:27:59.093Z"
   },
   {
    "duration": 98,
    "start_time": "2023-07-12T07:27:59.187Z"
   },
   {
    "duration": 146,
    "start_time": "2023-07-12T07:27:59.287Z"
   },
   {
    "duration": 38,
    "start_time": "2023-07-12T07:27:59.434Z"
   },
   {
    "duration": 67,
    "start_time": "2023-07-12T07:27:59.474Z"
   },
   {
    "duration": 221,
    "start_time": "2023-07-12T07:27:59.543Z"
   },
   {
    "duration": 148,
    "start_time": "2023-07-12T07:27:59.772Z"
   },
   {
    "duration": 86,
    "start_time": "2023-07-12T07:27:59.923Z"
   },
   {
    "duration": 134,
    "start_time": "2023-07-12T07:28:00.011Z"
   },
   {
    "duration": 15,
    "start_time": "2023-07-12T07:28:00.147Z"
   },
   {
    "duration": 0,
    "start_time": "2023-07-12T07:38:22.680Z"
   },
   {
    "duration": 6,
    "start_time": "2023-07-12T07:48:47.874Z"
   },
   {
    "duration": 1001,
    "start_time": "2023-07-12T07:48:50.899Z"
   },
   {
    "duration": 121,
    "start_time": "2023-07-12T07:48:54.849Z"
   },
   {
    "duration": 104,
    "start_time": "2023-07-12T07:48:59.704Z"
   },
   {
    "duration": 143,
    "start_time": "2023-07-12T07:49:02.794Z"
   },
   {
    "duration": 20,
    "start_time": "2023-07-12T07:49:05.692Z"
   },
   {
    "duration": 82,
    "start_time": "2023-07-12T07:49:07.954Z"
   },
   {
    "duration": 279,
    "start_time": "2023-07-12T07:49:11.257Z"
   },
   {
    "duration": 93,
    "start_time": "2023-07-12T07:49:15.792Z"
   },
   {
    "duration": 4,
    "start_time": "2023-07-12T07:49:34.508Z"
   },
   {
    "duration": 1207,
    "start_time": "2023-07-12T07:49:34.515Z"
   },
   {
    "duration": 114,
    "start_time": "2023-07-12T07:49:35.725Z"
   },
   {
    "duration": 100,
    "start_time": "2023-07-12T07:49:35.841Z"
   },
   {
    "duration": 176,
    "start_time": "2023-07-12T07:49:35.943Z"
   },
   {
    "duration": 18,
    "start_time": "2023-07-12T07:49:36.121Z"
   },
   {
    "duration": 99,
    "start_time": "2023-07-12T07:49:36.141Z"
   },
   {
    "duration": 265,
    "start_time": "2023-07-12T07:49:36.242Z"
   },
   {
    "duration": 91,
    "start_time": "2023-07-12T07:49:36.510Z"
   },
   {
    "duration": 1538,
    "start_time": "2023-07-12T07:49:36.604Z"
   },
   {
    "duration": 699,
    "start_time": "2023-07-12T07:49:38.145Z"
   },
   {
    "duration": 22,
    "start_time": "2023-07-12T07:49:38.845Z"
   },
   {
    "duration": 559076,
    "start_time": "2023-07-12T07:49:38.873Z"
   },
   {
    "duration": 19590,
    "start_time": "2023-07-12T07:58:57.951Z"
   },
   {
    "duration": 21869,
    "start_time": "2023-07-12T07:59:17.543Z"
   },
   {
    "duration": 599849,
    "start_time": "2023-07-12T07:59:39.414Z"
   },
   {
    "duration": 19,
    "start_time": "2023-07-12T08:09:39.265Z"
   },
   {
    "duration": 81385,
    "start_time": "2023-07-12T08:09:39.287Z"
   },
   {
    "duration": 390,
    "start_time": "2023-07-12T08:11:00.675Z"
   },
   {
    "duration": 1703,
    "start_time": "2023-07-12T08:11:01.072Z"
   },
   {
    "duration": 145,
    "start_time": "2023-07-12T08:11:02.785Z"
   },
   {
    "duration": 10,
    "start_time": "2023-07-12T08:11:02.932Z"
   },
   {
    "duration": 0,
    "start_time": "2023-07-12T08:11:02.944Z"
   },
   {
    "duration": 151,
    "start_time": "2023-07-12T08:34:22.137Z"
   },
   {
    "duration": 16,
    "start_time": "2023-07-12T08:34:26.181Z"
   },
   {
    "duration": 347,
    "start_time": "2023-07-12T08:40:44.545Z"
   },
   {
    "duration": 337,
    "start_time": "2023-07-12T08:49:04.801Z"
   },
   {
    "duration": 1280,
    "start_time": "2023-07-12T08:52:23.743Z"
   },
   {
    "duration": 78,
    "start_time": "2023-07-12T08:53:45.894Z"
   },
   {
    "duration": 10,
    "start_time": "2023-07-12T08:54:20.671Z"
   },
   {
    "duration": 471,
    "start_time": "2023-07-12T08:54:32.032Z"
   },
   {
    "duration": 93,
    "start_time": "2023-07-12T08:56:31.636Z"
   },
   {
    "duration": 427,
    "start_time": "2023-07-12T08:56:37.844Z"
   },
   {
    "duration": 422,
    "start_time": "2023-07-12T09:40:53.769Z"
   },
   {
    "duration": 384,
    "start_time": "2023-07-12T09:41:26.947Z"
   },
   {
    "duration": 53,
    "start_time": "2023-07-13T06:33:21.399Z"
   },
   {
    "duration": 1396,
    "start_time": "2023-07-13T06:33:25.121Z"
   },
   {
    "duration": 1364,
    "start_time": "2023-07-13T06:33:26.519Z"
   },
   {
    "duration": 88,
    "start_time": "2023-07-13T06:33:27.885Z"
   },
   {
    "duration": 126,
    "start_time": "2023-07-13T06:33:27.976Z"
   },
   {
    "duration": 191,
    "start_time": "2023-07-13T06:33:28.108Z"
   },
   {
    "duration": 30,
    "start_time": "2023-07-13T06:33:28.301Z"
   },
   {
    "duration": 93,
    "start_time": "2023-07-13T06:33:28.333Z"
   },
   {
    "duration": 284,
    "start_time": "2023-07-13T06:33:28.428Z"
   },
   {
    "duration": 178,
    "start_time": "2023-07-13T06:33:28.715Z"
   },
   {
    "duration": 1485,
    "start_time": "2023-07-13T06:33:28.909Z"
   },
   {
    "duration": 641,
    "start_time": "2023-07-13T06:33:30.396Z"
   },
   {
    "duration": 129,
    "start_time": "2023-07-13T06:33:31.039Z"
   },
   {
    "duration": 112,
    "start_time": "2023-07-13T06:33:31.171Z"
   },
   {
    "duration": 4,
    "start_time": "2023-07-13T06:33:31.286Z"
   },
   {
    "duration": 496775,
    "start_time": "2023-07-13T06:33:31.291Z"
   },
   {
    "duration": 18226,
    "start_time": "2023-07-13T06:41:48.067Z"
   },
   {
    "duration": 19173,
    "start_time": "2023-07-13T06:42:06.295Z"
   },
   {
    "duration": 19585,
    "start_time": "2023-07-13T06:42:25.471Z"
   },
   {
    "duration": 51,
    "start_time": "2023-07-13T06:42:45.058Z"
   },
   {
    "duration": 25499,
    "start_time": "2023-07-13T06:42:45.111Z"
   },
   {
    "duration": 305,
    "start_time": "2023-07-13T06:43:10.612Z"
   },
   {
    "duration": 1509,
    "start_time": "2023-07-13T06:43:11.012Z"
   },
   {
    "duration": 154,
    "start_time": "2023-07-13T06:43:12.523Z"
   },
   {
    "duration": 160,
    "start_time": "2023-07-13T06:43:12.679Z"
   },
   {
    "duration": 15,
    "start_time": "2023-07-13T06:43:12.841Z"
   },
   {
    "duration": 434,
    "start_time": "2023-07-13T06:43:12.858Z"
   },
   {
    "duration": 5,
    "start_time": "2023-07-13T06:51:46.289Z"
   },
   {
    "duration": 1188,
    "start_time": "2023-07-13T06:51:46.297Z"
   },
   {
    "duration": 92,
    "start_time": "2023-07-13T06:51:47.487Z"
   },
   {
    "duration": 114,
    "start_time": "2023-07-13T06:51:47.582Z"
   },
   {
    "duration": 173,
    "start_time": "2023-07-13T06:51:47.698Z"
   },
   {
    "duration": 21,
    "start_time": "2023-07-13T06:51:47.872Z"
   },
   {
    "duration": 93,
    "start_time": "2023-07-13T06:51:47.895Z"
   },
   {
    "duration": 247,
    "start_time": "2023-07-13T06:51:47.990Z"
   },
   {
    "duration": 178,
    "start_time": "2023-07-13T06:51:48.240Z"
   },
   {
    "duration": 1472,
    "start_time": "2023-07-13T06:51:48.420Z"
   },
   {
    "duration": 622,
    "start_time": "2023-07-13T06:51:49.894Z"
   },
   {
    "duration": 105,
    "start_time": "2023-07-13T06:51:50.518Z"
   },
   {
    "duration": 3,
    "start_time": "2023-07-13T06:51:50.625Z"
   },
   {
    "duration": 27,
    "start_time": "2023-07-13T06:51:50.630Z"
   },
   {
    "duration": 722991,
    "start_time": "2023-07-13T06:51:50.659Z"
   },
   {
    "duration": 19324,
    "start_time": "2023-07-13T07:03:53.651Z"
   },
   {
    "duration": 20211,
    "start_time": "2023-07-13T07:04:12.977Z"
   },
   {
    "duration": 96829,
    "start_time": "2023-07-13T07:04:33.190Z"
   },
   {
    "duration": 10,
    "start_time": "2023-07-13T07:06:10.021Z"
   },
   {
    "duration": 23379,
    "start_time": "2023-07-13T07:06:10.033Z"
   },
   {
    "duration": 302,
    "start_time": "2023-07-13T07:06:33.414Z"
   },
   {
    "duration": 1606,
    "start_time": "2023-07-13T07:06:33.718Z"
   },
   {
    "duration": 180,
    "start_time": "2023-07-13T07:06:35.326Z"
   },
   {
    "duration": 258,
    "start_time": "2023-07-13T07:06:35.510Z"
   },
   {
    "duration": 12,
    "start_time": "2023-07-13T07:06:35.770Z"
   },
   {
    "duration": 428,
    "start_time": "2023-07-13T07:06:35.785Z"
   },
   {
    "duration": 4,
    "start_time": "2023-07-13T07:37:53.258Z"
   },
   {
    "duration": 1108,
    "start_time": "2023-07-13T07:37:53.264Z"
   },
   {
    "duration": 90,
    "start_time": "2023-07-13T07:37:54.375Z"
   },
   {
    "duration": 109,
    "start_time": "2023-07-13T07:37:54.467Z"
   },
   {
    "duration": 159,
    "start_time": "2023-07-13T07:37:54.579Z"
   },
   {
    "duration": 20,
    "start_time": "2023-07-13T07:37:54.740Z"
   },
   {
    "duration": 97,
    "start_time": "2023-07-13T07:37:54.762Z"
   },
   {
    "duration": 234,
    "start_time": "2023-07-13T07:37:54.861Z"
   },
   {
    "duration": 183,
    "start_time": "2023-07-13T07:37:55.097Z"
   },
   {
    "duration": 1428,
    "start_time": "2023-07-13T07:37:55.281Z"
   },
   {
    "duration": 602,
    "start_time": "2023-07-13T07:37:56.712Z"
   },
   {
    "duration": 26,
    "start_time": "2023-07-13T07:37:57.317Z"
   },
   {
    "duration": 3,
    "start_time": "2023-07-13T07:37:57.344Z"
   },
   {
    "duration": 28,
    "start_time": "2023-07-13T07:37:57.349Z"
   },
   {
    "duration": 289488,
    "start_time": "2023-07-13T07:37:57.379Z"
   },
   {
    "duration": 19675,
    "start_time": "2023-07-13T07:42:46.869Z"
   },
   {
    "duration": 19782,
    "start_time": "2023-07-13T07:43:06.546Z"
   },
   {
    "duration": 326540,
    "start_time": "2023-07-13T07:43:26.330Z"
   },
   {
    "duration": 37,
    "start_time": "2023-07-13T07:48:52.873Z"
   },
   {
    "duration": 30199,
    "start_time": "2023-07-13T07:48:52.912Z"
   },
   {
    "duration": 302,
    "start_time": "2023-07-13T07:49:23.113Z"
   },
   {
    "duration": 1598,
    "start_time": "2023-07-13T07:49:23.417Z"
   },
   {
    "duration": 166,
    "start_time": "2023-07-13T07:49:25.017Z"
   },
   {
    "duration": 74,
    "start_time": "2023-07-13T07:49:25.186Z"
   },
   {
    "duration": 12,
    "start_time": "2023-07-13T07:49:25.262Z"
   },
   {
    "duration": 110,
    "start_time": "2023-07-13T07:49:25.276Z"
   },
   {
    "duration": 4467,
    "start_time": "2023-07-13T08:09:22.052Z"
   },
   {
    "duration": 3479,
    "start_time": "2023-07-13T08:10:39.285Z"
   },
   {
    "duration": 92,
    "start_time": "2023-07-13T08:11:13.847Z"
   },
   {
    "duration": 4431,
    "start_time": "2023-07-13T08:12:38.402Z"
   },
   {
    "duration": 6707,
    "start_time": "2023-07-13T08:12:47.580Z"
   },
   {
    "duration": 5099,
    "start_time": "2023-07-13T08:13:31.108Z"
   },
   {
    "duration": 70,
    "start_time": "2023-07-13T08:24:11.259Z"
   },
   {
    "duration": 140,
    "start_time": "2023-07-13T08:28:18.995Z"
   },
   {
    "duration": 3635,
    "start_time": "2023-07-13T13:02:55.227Z"
   },
   {
    "duration": 3098,
    "start_time": "2023-07-13T13:02:58.864Z"
   },
   {
    "duration": 95,
    "start_time": "2023-07-13T13:03:01.964Z"
   },
   {
    "duration": 103,
    "start_time": "2023-07-13T13:03:02.061Z"
   },
   {
    "duration": 176,
    "start_time": "2023-07-13T13:03:02.167Z"
   },
   {
    "duration": 33,
    "start_time": "2023-07-13T13:03:02.345Z"
   },
   {
    "duration": 98,
    "start_time": "2023-07-13T13:03:02.381Z"
   },
   {
    "duration": 249,
    "start_time": "2023-07-13T13:03:02.481Z"
   },
   {
    "duration": 155,
    "start_time": "2023-07-13T13:03:02.732Z"
   },
   {
    "duration": 972,
    "start_time": "2023-07-13T13:03:02.889Z"
   },
   {
    "duration": 598,
    "start_time": "2023-07-13T13:03:03.863Z"
   },
   {
    "duration": 83,
    "start_time": "2023-07-13T13:03:04.464Z"
   },
   {
    "duration": 16,
    "start_time": "2023-07-13T13:19:55.244Z"
   },
   {
    "duration": 22,
    "start_time": "2023-07-13T13:19:59.443Z"
   },
   {
    "duration": 16,
    "start_time": "2023-07-13T13:20:08.264Z"
   },
   {
    "duration": 14,
    "start_time": "2023-07-13T13:20:13.907Z"
   },
   {
    "duration": 22,
    "start_time": "2023-07-13T13:20:17.845Z"
   },
   {
    "duration": 18,
    "start_time": "2023-07-13T13:20:21.366Z"
   }
  ],
  "kernelspec": {
   "display_name": "Python 3 (ipykernel)",
   "language": "python",
   "name": "python3"
  },
  "language_info": {
   "codemirror_mode": {
    "name": "ipython",
    "version": 3
   },
   "file_extension": ".py",
   "mimetype": "text/x-python",
   "name": "python",
   "nbconvert_exporter": "python",
   "pygments_lexer": "ipython3",
   "version": "3.9.5"
  },
  "toc": {
   "base_numbering": 1,
   "nav_menu": {},
   "number_sections": true,
   "sideBar": true,
   "skip_h1_title": true,
   "title_cell": "Table of Contents",
   "title_sidebar": "Contents",
   "toc_cell": false,
   "toc_position": {},
   "toc_section_display": true,
   "toc_window_display": false
  }
 },
 "nbformat": 4,
 "nbformat_minor": 2
}
