{
 "cells": [
  {
   "cell_type": "markdown",
   "id": "c1339e33",
   "metadata": {},
   "source": [
    "**Привет, Илья!** 👋\n",
    "\n",
    "Меня зовут Артем Пиляй. Я буду проверять твой проект. В рамках корпоративной этики мы общаемся на «ты». Но если лучше на «Вы», то нужно обозначить это сразу.\n",
    " \n",
    "В тетрадке есть комментарии к проекту, они будут в отдельных ячейках Markdown.\n",
    " \n",
    "<div class=\"alert alert-danger\">\n",
    "\n",
    "**Артём:** ✋ Такой комментарий **нужно исправить** обязательно, он критически влияет на удачное выполнение проекта.\n",
    "\n",
    "</div>\n",
    "\n",
    "<div class=\"alert alert-warning\">\n",
    "\n",
    "**Артём:** 👉 Если таких комментариев в проекте **не больше трех**, то проект будет принят. Но есть два исключения, при которых я приму проект с любым количеством желтых комментариев, красные нужно исправить все:\n",
    "    \n",
    "* если у тебя дедлайн, тогда оставь в начале 👆 проекта комментарий «Дедлайн, специальность (DA/DS/DA+/DS+), и номер когорты»;\n",
    "* если ты считаешь, что для успешного трудоустройства и для успешной работы в команде тебе это не нужно, тогда оставь в начале проекта комментарий «Не нужно».\n",
    "</div>\n",
    "\n",
    "<div class=\"alert alert-success\">\n",
    "\n",
    "**Артём:** 👍 А это **самый главный комментарий**, значит все сделано хорошо. 😉\n",
    "\n",
    "</div>\n",
    "\n",
    "<div class=\"alert alert-info\">\n",
    "\n",
    "**Артём:** ✍️ В таких комментариях я оставляю подсказки как сделать **твой проект ещё лучше**.\n",
    "\n",
    "</div>\n",
    "\n",
    "---\n",
    "\n",
    "**Распространенные ошибки**\n",
    "\n",
    "<div class=\"alert alert-danger\">\n",
    "\n",
    "**Артём:** ✋ Не перемещай и не удаляй мои комментарии. Лучше, чтобы твои ответы на мои комментарии шли по очереди, как сообщения в мессенджере. Это ускорит проверку.\n",
    "    \n",
    "</div>\n",
    "\n",
    "<div class=\"alert alert-danger\">\n",
    "\n",
    "**Артём:** ✋ Проверь проект на работоспособность перед отправкой на проверку. Это важный навык, который тебе пригодится как на собеседовании, при выполнении тестового задания, так и перед совещанием у руководства компании. Помни, ревьеры не вносят изменения в код, даже если это путь к датасету или ячейка в неверном формате (code/mardown).  \n",
    "    \n",
    "</div>\n",
    "\n",
    "<div class=\"alert alert-info\">\n",
    "\n",
    "**Артём:** ✍️ Кстати, смотри как можно сделать, чтобы датасет грузился и локально, и в JupyterHub:\n",
    "\n",
    "```py\n",
    "try:\n",
    "    df = pd.read_csv('C:/Users/Student/Desktop/dataset.csv')\n",
    "except:\n",
    "    df = pd.read_csv('/datasets/dataset.csv')\n",
    "```\n",
    "    \n",
    "Используя эту конструкцию в будущих проектах, ты будешь спокойно отправлять проект на проверку зная, что он будет работать.\n",
    "    \n",
    "</div>\n",
    "\n",
    "<div class=\"alert alert-danger\">\n",
    "\n",
    "**Артём:** ✋ Проект должен быть структурирован. Где названия разделов и подразделов будут записаны в ячейках Markdown.\n",
    "    \n",
    "</div>\n",
    "\n",
    "<div class=\"alert alert-danger\">\n",
    "\n",
    "**Артём:** ✋ Если с твоим проектом будет знакомиться другой человек, например рекрутер или старший дата специалист, в нем должны быть описаны поставленные задачи, содержание датасета, промежуточные и финальные выводы. Как правило, заказчик читает только финальный вывод, поэтому важно добавить информацию о проведенном исследовании, применить форматирование текста, в общем, сделать красиво, чтобы было понятно, что проведено настоящее исследование и выводу можно верить. \n",
    "\n",
    "</div>  \n",
    "\n",
    "<div class=\"alert alert-warning\">\n",
    "    \n",
    "**Артём:** 👉 Длинный код и комментарии нужно переносить на новую строку. Согласись, коллеги не оценят, если им придется тратить время на пролистывание ячеек. Согласно международному стандарту [PEP8](https://www.python.org/dev/peps/pep-0008/) длина строки не должна превышать 79 символов.\n",
    "Вот как можно перенести код на новую строку:\n",
    "\n",
    "```py\n",
    "# Переносить можно код внутри скобки\n",
    "example = (2 *\n",
    "           2)\n",
    "```\n",
    "Конечно, я не считаю сколько символов в строке, главное, чтобы код или комментарий не ушел за пределы ячейки (зависит от разрешения экрана). Если ушел, то это желтый комментарий для каждой нечитаемой ячейки.\n",
    "    \n",
    "</div>\n",
    "\n",
    "<div class=\"alert alert-warning\">\n",
    "    \n",
    "**Артём:** 👉 Тимлид, старший дата специалист или ревьюер ценят твое и своё время, подсвечивай свои комментарии в ячейках Markdown. Шаблон я тебе оставил ниже. Подробнее про синтаксис Markdown, с примерами, можно почитать [здесь](https://paulradzkov.com/2014/markdown_cheatsheet/?).\n",
    "    \n",
    "</div>\n",
    "\n",
    "<div class=\"alert alert-success\">\n",
    "\n",
    "**Артём:** 👍 Буду рад, если воспользуешься моими советами. Они тебе помогут при трудоустройстве и при работе в команде. Если в ходе проведения исследования возникнут вопросы, не стесняйся задавай. 🙂\n",
    "</div>\n",
    "\n",
    "<div class=\"alert alert-info\">\n",
    "\n",
    "**Артём:** 🏁 [Итоги ревью здесь](#results)\n",
    "</div>\n",
    "\n",
    "\n",
    "**Поехали!** 🚀 👨‍🚀\n",
    "<a id=\"start\"></a>"
   ]
  },
  {
   "cell_type": "markdown",
   "id": "976d2151",
   "metadata": {},
   "source": [
    "<div style=\"border:solid green 2px; padding: 20px\">\n",
    "\n",
    "**Имя:** Это шаблон для тебя. Такой комментарий можно быстро найти."
   ]
  },
  {
   "cell_type": "markdown",
   "id": "e9212d49",
   "metadata": {
    "deletable": false,
    "editable": false,
    "id": "c81daeeb"
   },
   "source": [
    "# Исследование надежности заемщиков\n"
   ]
  },
  {
   "cell_type": "markdown",
   "id": "7ede2d16",
   "metadata": {
    "deletable": false,
    "editable": false,
    "id": "827c20bf"
   },
   "source": [
    "Во второй части проекта вы выполните шаги 3 и 4. Их вручную проверит ревьюер.\n",
    "Чтобы вам не пришлось писать код заново для шагов 1 и 2, мы добавили авторские решения в ячейки с кодом. \n",
    "\n"
   ]
  },
  {
   "cell_type": "markdown",
   "id": "484823e8",
   "metadata": {
    "deletable": false,
    "editable": false,
    "id": "744d7639"
   },
   "source": [
    "## Откройте таблицу и изучите общую информацию о данных"
   ]
  },
  {
   "cell_type": "markdown",
   "id": "5b0fb060",
   "metadata": {
    "deletable": false,
    "editable": false,
    "id": "e7a14c31"
   },
   "source": [
    "**Задание 1. Импортируйте библиотеку pandas. Считайте данные из csv-файла в датафрейм и сохраните в переменную `data`. Путь к файлу:**\n",
    "\n",
    "`/datasets/data.csv`"
   ]
  },
  {
   "cell_type": "code",
   "execution_count": 1,
   "id": "2b09df53",
   "metadata": {
    "deletable": false,
    "id": "7bcf75c9"
   },
   "outputs": [],
   "source": [
    "import pandas as pd\n",
    "\n",
    "try:\n",
    "    data = pd.read_csv('/datasets/data.csv')\n",
    "except:\n",
    "    data = pd.read_csv('https://code.s3.yandex.net/datasets/data.csv')"
   ]
  },
  {
   "cell_type": "markdown",
   "id": "b986e946",
   "metadata": {
    "deletable": false,
    "editable": false,
    "id": "b8038fe3"
   },
   "source": [
    "**Задание 2. Выведите первые 20 строчек датафрейма `data` на экран.**"
   ]
  },
  {
   "cell_type": "code",
   "execution_count": 2,
   "id": "04865d63",
   "metadata": {
    "deletable": false,
    "id": "2a7cab99",
    "outputId": "1a8f3ef2-d323-4ec2-ddf7-89670b5944c4"
   },
   "outputs": [
    {
     "data": {
      "text/html": [
       "<div>\n",
       "<style scoped>\n",
       "    .dataframe tbody tr th:only-of-type {\n",
       "        vertical-align: middle;\n",
       "    }\n",
       "\n",
       "    .dataframe tbody tr th {\n",
       "        vertical-align: top;\n",
       "    }\n",
       "\n",
       "    .dataframe thead th {\n",
       "        text-align: right;\n",
       "    }\n",
       "</style>\n",
       "<table border=\"1\" class=\"dataframe\">\n",
       "  <thead>\n",
       "    <tr style=\"text-align: right;\">\n",
       "      <th></th>\n",
       "      <th>children</th>\n",
       "      <th>days_employed</th>\n",
       "      <th>dob_years</th>\n",
       "      <th>education</th>\n",
       "      <th>education_id</th>\n",
       "      <th>family_status</th>\n",
       "      <th>family_status_id</th>\n",
       "      <th>gender</th>\n",
       "      <th>income_type</th>\n",
       "      <th>debt</th>\n",
       "      <th>total_income</th>\n",
       "      <th>purpose</th>\n",
       "    </tr>\n",
       "  </thead>\n",
       "  <tbody>\n",
       "    <tr>\n",
       "      <th>0</th>\n",
       "      <td>1</td>\n",
       "      <td>-8437.673028</td>\n",
       "      <td>42</td>\n",
       "      <td>высшее</td>\n",
       "      <td>0</td>\n",
       "      <td>женат / замужем</td>\n",
       "      <td>0</td>\n",
       "      <td>F</td>\n",
       "      <td>сотрудник</td>\n",
       "      <td>0</td>\n",
       "      <td>253875.639453</td>\n",
       "      <td>покупка жилья</td>\n",
       "    </tr>\n",
       "    <tr>\n",
       "      <th>1</th>\n",
       "      <td>1</td>\n",
       "      <td>-4024.803754</td>\n",
       "      <td>36</td>\n",
       "      <td>среднее</td>\n",
       "      <td>1</td>\n",
       "      <td>женат / замужем</td>\n",
       "      <td>0</td>\n",
       "      <td>F</td>\n",
       "      <td>сотрудник</td>\n",
       "      <td>0</td>\n",
       "      <td>112080.014102</td>\n",
       "      <td>приобретение автомобиля</td>\n",
       "    </tr>\n",
       "    <tr>\n",
       "      <th>2</th>\n",
       "      <td>0</td>\n",
       "      <td>-5623.422610</td>\n",
       "      <td>33</td>\n",
       "      <td>Среднее</td>\n",
       "      <td>1</td>\n",
       "      <td>женат / замужем</td>\n",
       "      <td>0</td>\n",
       "      <td>M</td>\n",
       "      <td>сотрудник</td>\n",
       "      <td>0</td>\n",
       "      <td>145885.952297</td>\n",
       "      <td>покупка жилья</td>\n",
       "    </tr>\n",
       "    <tr>\n",
       "      <th>3</th>\n",
       "      <td>3</td>\n",
       "      <td>-4124.747207</td>\n",
       "      <td>32</td>\n",
       "      <td>среднее</td>\n",
       "      <td>1</td>\n",
       "      <td>женат / замужем</td>\n",
       "      <td>0</td>\n",
       "      <td>M</td>\n",
       "      <td>сотрудник</td>\n",
       "      <td>0</td>\n",
       "      <td>267628.550329</td>\n",
       "      <td>дополнительное образование</td>\n",
       "    </tr>\n",
       "    <tr>\n",
       "      <th>4</th>\n",
       "      <td>0</td>\n",
       "      <td>340266.072047</td>\n",
       "      <td>53</td>\n",
       "      <td>среднее</td>\n",
       "      <td>1</td>\n",
       "      <td>гражданский брак</td>\n",
       "      <td>1</td>\n",
       "      <td>F</td>\n",
       "      <td>пенсионер</td>\n",
       "      <td>0</td>\n",
       "      <td>158616.077870</td>\n",
       "      <td>сыграть свадьбу</td>\n",
       "    </tr>\n",
       "    <tr>\n",
       "      <th>5</th>\n",
       "      <td>0</td>\n",
       "      <td>-926.185831</td>\n",
       "      <td>27</td>\n",
       "      <td>высшее</td>\n",
       "      <td>0</td>\n",
       "      <td>гражданский брак</td>\n",
       "      <td>1</td>\n",
       "      <td>M</td>\n",
       "      <td>компаньон</td>\n",
       "      <td>0</td>\n",
       "      <td>255763.565419</td>\n",
       "      <td>покупка жилья</td>\n",
       "    </tr>\n",
       "    <tr>\n",
       "      <th>6</th>\n",
       "      <td>0</td>\n",
       "      <td>-2879.202052</td>\n",
       "      <td>43</td>\n",
       "      <td>высшее</td>\n",
       "      <td>0</td>\n",
       "      <td>женат / замужем</td>\n",
       "      <td>0</td>\n",
       "      <td>F</td>\n",
       "      <td>компаньон</td>\n",
       "      <td>0</td>\n",
       "      <td>240525.971920</td>\n",
       "      <td>операции с жильем</td>\n",
       "    </tr>\n",
       "    <tr>\n",
       "      <th>7</th>\n",
       "      <td>0</td>\n",
       "      <td>-152.779569</td>\n",
       "      <td>50</td>\n",
       "      <td>СРЕДНЕЕ</td>\n",
       "      <td>1</td>\n",
       "      <td>женат / замужем</td>\n",
       "      <td>0</td>\n",
       "      <td>M</td>\n",
       "      <td>сотрудник</td>\n",
       "      <td>0</td>\n",
       "      <td>135823.934197</td>\n",
       "      <td>образование</td>\n",
       "    </tr>\n",
       "    <tr>\n",
       "      <th>8</th>\n",
       "      <td>2</td>\n",
       "      <td>-6929.865299</td>\n",
       "      <td>35</td>\n",
       "      <td>ВЫСШЕЕ</td>\n",
       "      <td>0</td>\n",
       "      <td>гражданский брак</td>\n",
       "      <td>1</td>\n",
       "      <td>F</td>\n",
       "      <td>сотрудник</td>\n",
       "      <td>0</td>\n",
       "      <td>95856.832424</td>\n",
       "      <td>на проведение свадьбы</td>\n",
       "    </tr>\n",
       "    <tr>\n",
       "      <th>9</th>\n",
       "      <td>0</td>\n",
       "      <td>-2188.756445</td>\n",
       "      <td>41</td>\n",
       "      <td>среднее</td>\n",
       "      <td>1</td>\n",
       "      <td>женат / замужем</td>\n",
       "      <td>0</td>\n",
       "      <td>M</td>\n",
       "      <td>сотрудник</td>\n",
       "      <td>0</td>\n",
       "      <td>144425.938277</td>\n",
       "      <td>покупка жилья для семьи</td>\n",
       "    </tr>\n",
       "    <tr>\n",
       "      <th>10</th>\n",
       "      <td>2</td>\n",
       "      <td>-4171.483647</td>\n",
       "      <td>36</td>\n",
       "      <td>высшее</td>\n",
       "      <td>0</td>\n",
       "      <td>женат / замужем</td>\n",
       "      <td>0</td>\n",
       "      <td>M</td>\n",
       "      <td>компаньон</td>\n",
       "      <td>0</td>\n",
       "      <td>113943.491460</td>\n",
       "      <td>покупка недвижимости</td>\n",
       "    </tr>\n",
       "    <tr>\n",
       "      <th>11</th>\n",
       "      <td>0</td>\n",
       "      <td>-792.701887</td>\n",
       "      <td>40</td>\n",
       "      <td>среднее</td>\n",
       "      <td>1</td>\n",
       "      <td>женат / замужем</td>\n",
       "      <td>0</td>\n",
       "      <td>F</td>\n",
       "      <td>сотрудник</td>\n",
       "      <td>0</td>\n",
       "      <td>77069.234271</td>\n",
       "      <td>покупка коммерческой недвижимости</td>\n",
       "    </tr>\n",
       "    <tr>\n",
       "      <th>12</th>\n",
       "      <td>0</td>\n",
       "      <td>NaN</td>\n",
       "      <td>65</td>\n",
       "      <td>среднее</td>\n",
       "      <td>1</td>\n",
       "      <td>гражданский брак</td>\n",
       "      <td>1</td>\n",
       "      <td>M</td>\n",
       "      <td>пенсионер</td>\n",
       "      <td>0</td>\n",
       "      <td>NaN</td>\n",
       "      <td>сыграть свадьбу</td>\n",
       "    </tr>\n",
       "    <tr>\n",
       "      <th>13</th>\n",
       "      <td>0</td>\n",
       "      <td>-1846.641941</td>\n",
       "      <td>54</td>\n",
       "      <td>неоконченное высшее</td>\n",
       "      <td>2</td>\n",
       "      <td>женат / замужем</td>\n",
       "      <td>0</td>\n",
       "      <td>F</td>\n",
       "      <td>сотрудник</td>\n",
       "      <td>0</td>\n",
       "      <td>130458.228857</td>\n",
       "      <td>приобретение автомобиля</td>\n",
       "    </tr>\n",
       "    <tr>\n",
       "      <th>14</th>\n",
       "      <td>0</td>\n",
       "      <td>-1844.956182</td>\n",
       "      <td>56</td>\n",
       "      <td>высшее</td>\n",
       "      <td>0</td>\n",
       "      <td>гражданский брак</td>\n",
       "      <td>1</td>\n",
       "      <td>F</td>\n",
       "      <td>компаньон</td>\n",
       "      <td>1</td>\n",
       "      <td>165127.911772</td>\n",
       "      <td>покупка жилой недвижимости</td>\n",
       "    </tr>\n",
       "    <tr>\n",
       "      <th>15</th>\n",
       "      <td>1</td>\n",
       "      <td>-972.364419</td>\n",
       "      <td>26</td>\n",
       "      <td>среднее</td>\n",
       "      <td>1</td>\n",
       "      <td>женат / замужем</td>\n",
       "      <td>0</td>\n",
       "      <td>F</td>\n",
       "      <td>сотрудник</td>\n",
       "      <td>0</td>\n",
       "      <td>116820.904450</td>\n",
       "      <td>строительство собственной недвижимости</td>\n",
       "    </tr>\n",
       "    <tr>\n",
       "      <th>16</th>\n",
       "      <td>0</td>\n",
       "      <td>-1719.934226</td>\n",
       "      <td>35</td>\n",
       "      <td>среднее</td>\n",
       "      <td>1</td>\n",
       "      <td>женат / замужем</td>\n",
       "      <td>0</td>\n",
       "      <td>F</td>\n",
       "      <td>сотрудник</td>\n",
       "      <td>0</td>\n",
       "      <td>289202.704229</td>\n",
       "      <td>недвижимость</td>\n",
       "    </tr>\n",
       "    <tr>\n",
       "      <th>17</th>\n",
       "      <td>0</td>\n",
       "      <td>-2369.999720</td>\n",
       "      <td>33</td>\n",
       "      <td>высшее</td>\n",
       "      <td>0</td>\n",
       "      <td>гражданский брак</td>\n",
       "      <td>1</td>\n",
       "      <td>M</td>\n",
       "      <td>сотрудник</td>\n",
       "      <td>0</td>\n",
       "      <td>90410.586745</td>\n",
       "      <td>строительство недвижимости</td>\n",
       "    </tr>\n",
       "    <tr>\n",
       "      <th>18</th>\n",
       "      <td>0</td>\n",
       "      <td>400281.136913</td>\n",
       "      <td>53</td>\n",
       "      <td>среднее</td>\n",
       "      <td>1</td>\n",
       "      <td>вдовец / вдова</td>\n",
       "      <td>2</td>\n",
       "      <td>F</td>\n",
       "      <td>пенсионер</td>\n",
       "      <td>0</td>\n",
       "      <td>56823.777243</td>\n",
       "      <td>на покупку подержанного автомобиля</td>\n",
       "    </tr>\n",
       "    <tr>\n",
       "      <th>19</th>\n",
       "      <td>0</td>\n",
       "      <td>-10038.818549</td>\n",
       "      <td>48</td>\n",
       "      <td>СРЕДНЕЕ</td>\n",
       "      <td>1</td>\n",
       "      <td>в разводе</td>\n",
       "      <td>3</td>\n",
       "      <td>F</td>\n",
       "      <td>сотрудник</td>\n",
       "      <td>0</td>\n",
       "      <td>242831.107982</td>\n",
       "      <td>на покупку своего автомобиля</td>\n",
       "    </tr>\n",
       "  </tbody>\n",
       "</table>\n",
       "</div>"
      ],
      "text/plain": [
       "    children  days_employed  dob_years            education  education_id  \\\n",
       "0          1   -8437.673028         42               высшее             0   \n",
       "1          1   -4024.803754         36              среднее             1   \n",
       "2          0   -5623.422610         33              Среднее             1   \n",
       "3          3   -4124.747207         32              среднее             1   \n",
       "4          0  340266.072047         53              среднее             1   \n",
       "5          0    -926.185831         27               высшее             0   \n",
       "6          0   -2879.202052         43               высшее             0   \n",
       "7          0    -152.779569         50              СРЕДНЕЕ             1   \n",
       "8          2   -6929.865299         35               ВЫСШЕЕ             0   \n",
       "9          0   -2188.756445         41              среднее             1   \n",
       "10         2   -4171.483647         36               высшее             0   \n",
       "11         0    -792.701887         40              среднее             1   \n",
       "12         0            NaN         65              среднее             1   \n",
       "13         0   -1846.641941         54  неоконченное высшее             2   \n",
       "14         0   -1844.956182         56               высшее             0   \n",
       "15         1    -972.364419         26              среднее             1   \n",
       "16         0   -1719.934226         35              среднее             1   \n",
       "17         0   -2369.999720         33               высшее             0   \n",
       "18         0  400281.136913         53              среднее             1   \n",
       "19         0  -10038.818549         48              СРЕДНЕЕ             1   \n",
       "\n",
       "       family_status  family_status_id gender income_type  debt  \\\n",
       "0    женат / замужем                 0      F   сотрудник     0   \n",
       "1    женат / замужем                 0      F   сотрудник     0   \n",
       "2    женат / замужем                 0      M   сотрудник     0   \n",
       "3    женат / замужем                 0      M   сотрудник     0   \n",
       "4   гражданский брак                 1      F   пенсионер     0   \n",
       "5   гражданский брак                 1      M   компаньон     0   \n",
       "6    женат / замужем                 0      F   компаньон     0   \n",
       "7    женат / замужем                 0      M   сотрудник     0   \n",
       "8   гражданский брак                 1      F   сотрудник     0   \n",
       "9    женат / замужем                 0      M   сотрудник     0   \n",
       "10   женат / замужем                 0      M   компаньон     0   \n",
       "11   женат / замужем                 0      F   сотрудник     0   \n",
       "12  гражданский брак                 1      M   пенсионер     0   \n",
       "13   женат / замужем                 0      F   сотрудник     0   \n",
       "14  гражданский брак                 1      F   компаньон     1   \n",
       "15   женат / замужем                 0      F   сотрудник     0   \n",
       "16   женат / замужем                 0      F   сотрудник     0   \n",
       "17  гражданский брак                 1      M   сотрудник     0   \n",
       "18    вдовец / вдова                 2      F   пенсионер     0   \n",
       "19         в разводе                 3      F   сотрудник     0   \n",
       "\n",
       "     total_income                                 purpose  \n",
       "0   253875.639453                           покупка жилья  \n",
       "1   112080.014102                 приобретение автомобиля  \n",
       "2   145885.952297                           покупка жилья  \n",
       "3   267628.550329              дополнительное образование  \n",
       "4   158616.077870                         сыграть свадьбу  \n",
       "5   255763.565419                           покупка жилья  \n",
       "6   240525.971920                       операции с жильем  \n",
       "7   135823.934197                             образование  \n",
       "8    95856.832424                   на проведение свадьбы  \n",
       "9   144425.938277                 покупка жилья для семьи  \n",
       "10  113943.491460                    покупка недвижимости  \n",
       "11   77069.234271       покупка коммерческой недвижимости  \n",
       "12            NaN                         сыграть свадьбу  \n",
       "13  130458.228857                 приобретение автомобиля  \n",
       "14  165127.911772              покупка жилой недвижимости  \n",
       "15  116820.904450  строительство собственной недвижимости  \n",
       "16  289202.704229                            недвижимость  \n",
       "17   90410.586745              строительство недвижимости  \n",
       "18   56823.777243      на покупку подержанного автомобиля  \n",
       "19  242831.107982            на покупку своего автомобиля  "
      ]
     },
     "execution_count": 2,
     "metadata": {},
     "output_type": "execute_result"
    }
   ],
   "source": [
    "data.head(20)"
   ]
  },
  {
   "cell_type": "markdown",
   "id": "eb0d7b4f",
   "metadata": {
    "deletable": false,
    "editable": false,
    "id": "1c12e233"
   },
   "source": [
    "**Задание 3. Выведите основную информацию о датафрейме с помощью метода `info()`.**"
   ]
  },
  {
   "cell_type": "code",
   "execution_count": 3,
   "id": "a1483162",
   "metadata": {
    "deletable": false,
    "id": "2b757bca",
    "outputId": "15376089-8dad-46c9-b520-c05248d43158"
   },
   "outputs": [
    {
     "name": "stdout",
     "output_type": "stream",
     "text": [
      "<class 'pandas.core.frame.DataFrame'>\n",
      "RangeIndex: 21525 entries, 0 to 21524\n",
      "Data columns (total 12 columns):\n",
      " #   Column            Non-Null Count  Dtype  \n",
      "---  ------            --------------  -----  \n",
      " 0   children          21525 non-null  int64  \n",
      " 1   days_employed     19351 non-null  float64\n",
      " 2   dob_years         21525 non-null  int64  \n",
      " 3   education         21525 non-null  object \n",
      " 4   education_id      21525 non-null  int64  \n",
      " 5   family_status     21525 non-null  object \n",
      " 6   family_status_id  21525 non-null  int64  \n",
      " 7   gender            21525 non-null  object \n",
      " 8   income_type       21525 non-null  object \n",
      " 9   debt              21525 non-null  int64  \n",
      " 10  total_income      19351 non-null  float64\n",
      " 11  purpose           21525 non-null  object \n",
      "dtypes: float64(2), int64(5), object(5)\n",
      "memory usage: 2.0+ MB\n"
     ]
    }
   ],
   "source": [
    "data.info()"
   ]
  },
  {
   "cell_type": "markdown",
   "id": "4275426f",
   "metadata": {
    "deletable": false,
    "editable": false,
    "id": "333ec665"
   },
   "source": [
    "## Предобработка данных"
   ]
  },
  {
   "cell_type": "markdown",
   "id": "17638009",
   "metadata": {
    "deletable": false,
    "editable": false,
    "id": "02d92d53"
   },
   "source": [
    "### Удаление пропусков"
   ]
  },
  {
   "cell_type": "markdown",
   "id": "ca3d619c",
   "metadata": {
    "deletable": false,
    "editable": false,
    "id": "cd84967c"
   },
   "source": [
    "**Задание 4. Выведите количество пропущенных значений для каждого столбца. Используйте комбинацию двух методов.**"
   ]
  },
  {
   "cell_type": "code",
   "execution_count": 4,
   "id": "4d588c35",
   "metadata": {
    "deletable": false,
    "id": "7f9b2309",
    "outputId": "81f4d817-781c-465c-ed15-91ce4446810d"
   },
   "outputs": [
    {
     "data": {
      "text/plain": [
       "children               0\n",
       "days_employed       2174\n",
       "dob_years              0\n",
       "education              0\n",
       "education_id           0\n",
       "family_status          0\n",
       "family_status_id       0\n",
       "gender                 0\n",
       "income_type            0\n",
       "debt                   0\n",
       "total_income        2174\n",
       "purpose                0\n",
       "dtype: int64"
      ]
     },
     "execution_count": 4,
     "metadata": {},
     "output_type": "execute_result"
    }
   ],
   "source": [
    "data.isna().sum()"
   ]
  },
  {
   "cell_type": "markdown",
   "id": "5ad44556",
   "metadata": {
    "deletable": false,
    "editable": false,
    "id": "db86e27b"
   },
   "source": [
    "**Задание 5. В двух столбцах есть пропущенные значения. Один из них — `days_employed`. Пропуски в этом столбце вы обработаете на следующем этапе. Другой столбец с пропущенными значениями — `total_income` — хранит данные о доходах. На сумму дохода сильнее всего влияет тип занятости, поэтому заполнить пропуски в этом столбце нужно медианным значением по каждому типу из столбца `income_type`. Например, у человека с типом занятости `сотрудник` пропуск в столбце `total_income` должен быть заполнен медианным доходом среди всех записей с тем же типом.**"
   ]
  },
  {
   "cell_type": "code",
   "execution_count": 5,
   "id": "b51b56a5",
   "metadata": {
    "deletable": false,
    "id": "42006a93"
   },
   "outputs": [],
   "source": [
    "for t in data['income_type'].unique():\n",
    "    data.loc[(data['income_type'] == t) & (data['total_income'].isna()), 'total_income'] = \\\n",
    "    data.loc[(data['income_type'] == t), 'total_income'].median()"
   ]
  },
  {
   "cell_type": "markdown",
   "id": "257c871f",
   "metadata": {
    "deletable": false,
    "editable": false,
    "id": "89da5ece"
   },
   "source": [
    "### Обработка аномальных значений"
   ]
  },
  {
   "cell_type": "markdown",
   "id": "4becb2a8",
   "metadata": {
    "deletable": false,
    "editable": false,
    "id": "57964554"
   },
   "source": [
    "**Задание 6. В данных могут встречаться артефакты (аномалии) — значения, которые не отражают действительность и появились по какой-то ошибке. таким артефактом будет отрицательное количество дней трудового стажа в столбце `days_employed`. Для реальных данных это нормально. Обработайте значения в этом столбце: замените все отрицательные значения положительными с помощью метода `abs()`.**"
   ]
  },
  {
   "cell_type": "code",
   "execution_count": 6,
   "id": "9c8a1523",
   "metadata": {
    "deletable": false,
    "id": "f6f055bf"
   },
   "outputs": [],
   "source": [
    "data['days_employed'] = data['days_employed'].abs()"
   ]
  },
  {
   "cell_type": "markdown",
   "id": "02008235",
   "metadata": {
    "deletable": false,
    "editable": false,
    "id": "6107dd2f"
   },
   "source": [
    "**Задание 7. Для каждого типа занятости выведите медианное значение трудового стажа `days_employed` в днях.**"
   ]
  },
  {
   "cell_type": "code",
   "execution_count": 7,
   "id": "bb1ff72b",
   "metadata": {
    "deletable": false,
    "id": "85a5faf6",
    "outputId": "801ef80e-522b-4668-f34e-565af7432bcf"
   },
   "outputs": [
    {
     "data": {
      "text/plain": [
       "income_type\n",
       "безработный        366413.652744\n",
       "в декрете            3296.759962\n",
       "госслужащий          2689.368353\n",
       "компаньон            1547.382223\n",
       "пенсионер          365213.306266\n",
       "предприниматель       520.848083\n",
       "сотрудник            1574.202821\n",
       "студент               578.751554\n",
       "Name: days_employed, dtype: float64"
      ]
     },
     "execution_count": 7,
     "metadata": {},
     "output_type": "execute_result"
    }
   ],
   "source": [
    "data.groupby('income_type')['days_employed'].agg('median')"
   ]
  },
  {
   "cell_type": "markdown",
   "id": "10571632",
   "metadata": {
    "deletable": false,
    "editable": false,
    "id": "38d1a030"
   },
   "source": [
    "У двух типов (безработные и пенсионеры) получатся аномально большие значения. Исправить такие значения сложно, поэтому оставьте их как есть. Тем более этот столбец не понадобится вам для исследования."
   ]
  },
  {
   "cell_type": "markdown",
   "id": "8a2a2bfc",
   "metadata": {
    "deletable": false,
    "editable": false,
    "id": "d8a9f147"
   },
   "source": [
    "**Задание 8. Выведите перечень уникальных значений столбца `children`.**"
   ]
  },
  {
   "cell_type": "code",
   "execution_count": 8,
   "id": "3b0d1ee0",
   "metadata": {
    "deletable": false,
    "id": "ef5056eb",
    "outputId": "6975b15c-7f95-4697-d16d-a0c79b657b03"
   },
   "outputs": [
    {
     "data": {
      "text/plain": [
       "array([ 1,  0,  3,  2, -1,  4, 20,  5])"
      ]
     },
     "execution_count": 8,
     "metadata": {},
     "output_type": "execute_result"
    }
   ],
   "source": [
    "data['children'].unique()"
   ]
  },
  {
   "cell_type": "markdown",
   "id": "2c19f585",
   "metadata": {
    "deletable": false,
    "editable": false,
    "id": "40b9ebf2"
   },
   "source": [
    "**Задание 9. В столбце `children` есть два аномальных значения. Удалите строки, в которых встречаются такие аномальные значения из датафрейма `data`.**"
   ]
  },
  {
   "cell_type": "code",
   "execution_count": 9,
   "id": "9dd4ac6c",
   "metadata": {
    "deletable": false,
    "id": "3ff9801d"
   },
   "outputs": [],
   "source": [
    "data = data[(data['children'] != -1) & (data['children'] != 20)]"
   ]
  },
  {
   "cell_type": "markdown",
   "id": "494436f3",
   "metadata": {
    "deletable": false,
    "editable": false,
    "id": "bbc4d0ce"
   },
   "source": [
    "**Задание 10. Ещё раз выведите перечень уникальных значений столбца `children`, чтобы убедиться, что артефакты удалены.**"
   ]
  },
  {
   "cell_type": "code",
   "execution_count": 10,
   "id": "0819752f",
   "metadata": {
    "deletable": false,
    "id": "ad4fa8b7",
    "outputId": "b2097101-d49d-44d9-901b-32a65c9463d1"
   },
   "outputs": [
    {
     "data": {
      "text/plain": [
       "array([1, 0, 3, 2, 4, 5])"
      ]
     },
     "execution_count": 10,
     "metadata": {},
     "output_type": "execute_result"
    }
   ],
   "source": [
    "data['children'].unique()"
   ]
  },
  {
   "cell_type": "markdown",
   "id": "412e1cc0",
   "metadata": {
    "deletable": false,
    "editable": false,
    "id": "75440b63"
   },
   "source": [
    "### Удаление пропусков (продолжение)"
   ]
  },
  {
   "cell_type": "markdown",
   "id": "0a40f452",
   "metadata": {
    "deletable": false,
    "editable": false,
    "id": "f4ea573f"
   },
   "source": [
    "**Задание 11. Заполните пропуски в столбце `days_employed` медианными значениями по каждого типа занятости `income_type`.**"
   ]
  },
  {
   "cell_type": "code",
   "execution_count": 11,
   "id": "3e57d8bf",
   "metadata": {
    "deletable": false,
    "id": "af6b1a7e"
   },
   "outputs": [],
   "source": [
    "for t in data['income_type'].unique():\n",
    "    data.loc[(data['income_type'] == t) & (data['days_employed'].isna()), 'days_employed'] = \\\n",
    "    data.loc[(data['income_type'] == t), 'days_employed'].median()"
   ]
  },
  {
   "cell_type": "markdown",
   "id": "141579cf",
   "metadata": {
    "deletable": false,
    "editable": false,
    "id": "2753f40d"
   },
   "source": [
    "**Задание 12. Убедитесь, что все пропуски заполнены. Проверьте себя и ещё раз выведите количество пропущенных значений для каждого столбца с помощью двух методов.**"
   ]
  },
  {
   "cell_type": "code",
   "execution_count": 12,
   "id": "ca989692",
   "metadata": {
    "deletable": false,
    "id": "55f78bc2",
    "outputId": "8da1e4e1-358e-4e87-98c9-f261bce0a7b2"
   },
   "outputs": [
    {
     "data": {
      "text/plain": [
       "children            0\n",
       "days_employed       0\n",
       "dob_years           0\n",
       "education           0\n",
       "education_id        0\n",
       "family_status       0\n",
       "family_status_id    0\n",
       "gender              0\n",
       "income_type         0\n",
       "debt                0\n",
       "total_income        0\n",
       "purpose             0\n",
       "dtype: int64"
      ]
     },
     "execution_count": 12,
     "metadata": {},
     "output_type": "execute_result"
    }
   ],
   "source": [
    "data.isna().sum()"
   ]
  },
  {
   "cell_type": "markdown",
   "id": "4271eba0",
   "metadata": {
    "deletable": false,
    "editable": false,
    "id": "ddc81e43"
   },
   "source": [
    "### Изменение типов данных"
   ]
  },
  {
   "cell_type": "markdown",
   "id": "8c9ee5df",
   "metadata": {
    "deletable": false,
    "editable": false,
    "id": "42d19d24"
   },
   "source": [
    "**Задание 13. Замените вещественный тип данных в столбце `total_income` на целочисленный с помощью метода `astype()`.**"
   ]
  },
  {
   "cell_type": "code",
   "execution_count": 13,
   "id": "5018da1f",
   "metadata": {
    "deletable": false,
    "id": "920b65ad"
   },
   "outputs": [],
   "source": [
    "data['total_income'] = data['total_income'].astype(int)"
   ]
  },
  {
   "cell_type": "markdown",
   "id": "c67da269",
   "metadata": {
    "deletable": false,
    "editable": false,
    "id": "80c420ba"
   },
   "source": [
    "### Обработка дубликатов"
   ]
  },
  {
   "cell_type": "markdown",
   "id": "314b1792",
   "metadata": {
    "deletable": false,
    "editable": false
   },
   "source": [
    "**Задание 14. Обработайте неявные дубликаты в столбце `education`. В этом столбце есть одни и те же значения, но записанные по-разному: с использованием заглавных и строчных букв. Приведите их к нижнему регистру. Проверьте остальные столбцы.**"
   ]
  },
  {
   "cell_type": "code",
   "execution_count": 14,
   "id": "c3746168",
   "metadata": {
    "deletable": false
   },
   "outputs": [],
   "source": [
    "data['education'] = data['education'].str.lower()"
   ]
  },
  {
   "cell_type": "markdown",
   "id": "3e9e06ee",
   "metadata": {
    "deletable": false,
    "editable": false,
    "id": "dc587695"
   },
   "source": [
    "**Задание 15. Выведите на экран количество строк-дубликатов в данных. Если такие строки присутствуют, удалите их.**"
   ]
  },
  {
   "cell_type": "code",
   "execution_count": 15,
   "id": "ec5edbc8",
   "metadata": {
    "deletable": false,
    "id": "3ee445e4",
    "outputId": "9684deba-1934-42d1-99e1-cda61740f822"
   },
   "outputs": [
    {
     "data": {
      "text/plain": [
       "71"
      ]
     },
     "execution_count": 15,
     "metadata": {},
     "output_type": "execute_result"
    }
   ],
   "source": [
    "data.duplicated().sum()"
   ]
  },
  {
   "cell_type": "code",
   "execution_count": 16,
   "id": "3239af67",
   "metadata": {
    "deletable": false,
    "id": "8575fe05"
   },
   "outputs": [],
   "source": [
    "data = data.drop_duplicates()"
   ]
  },
  {
   "cell_type": "markdown",
   "id": "8ef2b847",
   "metadata": {
    "deletable": false,
    "editable": false,
    "id": "9904cf55"
   },
   "source": [
    "### Категоризация данных"
   ]
  },
  {
   "cell_type": "markdown",
   "id": "7b46303a",
   "metadata": {
    "deletable": false,
    "editable": false,
    "id": "72fcc8a2"
   },
   "source": [
    "**Задание 16. На основании диапазонов, указанных ниже, создайте в датафрейме `data` столбец `total_income_category` с категориями:**\n",
    "\n",
    "- 0–30000 — `'E'`;\n",
    "- 30001–50000 — `'D'`;\n",
    "- 50001–200000 — `'C'`;\n",
    "- 200001–1000000 — `'B'`;\n",
    "- 1000001 и выше — `'A'`.\n",
    "\n",
    "\n",
    "**Например, кредитополучателю с доходом 25000 нужно назначить категорию `'E'`, а клиенту, получающему 235000, — `'B'`. Используйте собственную функцию с именем `categorize_income()` и метод `apply()`.**"
   ]
  },
  {
   "cell_type": "code",
   "execution_count": 17,
   "id": "19f516a6",
   "metadata": {
    "deletable": false,
    "id": "e1771346"
   },
   "outputs": [],
   "source": [
    "def categorize_income(income):\n",
    "    try:\n",
    "        if 0 <= income <= 30000:\n",
    "            return 'E'\n",
    "        elif 30001 <= income <= 50000:\n",
    "            return 'D'\n",
    "        elif 50001 <= income <= 200000:\n",
    "            return 'C'\n",
    "        elif 200001 <= income <= 1000000:\n",
    "            return 'B'\n",
    "        elif income >= 1000001:\n",
    "            return 'A'\n",
    "    except:\n",
    "        pass"
   ]
  },
  {
   "cell_type": "code",
   "execution_count": 18,
   "id": "939463bf",
   "metadata": {
    "deletable": false,
    "id": "d5f3586d"
   },
   "outputs": [],
   "source": [
    "data['total_income_category'] = data['total_income'].apply(categorize_income)"
   ]
  },
  {
   "cell_type": "markdown",
   "id": "9f9447ec",
   "metadata": {
    "deletable": false,
    "editable": false,
    "id": "dde49b5c"
   },
   "source": [
    "**Задание 17. Выведите на экран перечень уникальных целей взятия кредита из столбца `purpose`.**"
   ]
  },
  {
   "cell_type": "code",
   "execution_count": 19,
   "id": "5fadc694",
   "metadata": {
    "deletable": false,
    "id": "f67ce9b3",
    "outputId": "673c12d9-7d7e-4ae0-9812-c622c89dd244"
   },
   "outputs": [
    {
     "data": {
      "text/plain": [
       "array(['покупка жилья', 'приобретение автомобиля',\n",
       "       'дополнительное образование', 'сыграть свадьбу',\n",
       "       'операции с жильем', 'образование', 'на проведение свадьбы',\n",
       "       'покупка жилья для семьи', 'покупка недвижимости',\n",
       "       'покупка коммерческой недвижимости', 'покупка жилой недвижимости',\n",
       "       'строительство собственной недвижимости', 'недвижимость',\n",
       "       'строительство недвижимости', 'на покупку подержанного автомобиля',\n",
       "       'на покупку своего автомобиля',\n",
       "       'операции с коммерческой недвижимостью',\n",
       "       'строительство жилой недвижимости', 'жилье',\n",
       "       'операции со своей недвижимостью', 'автомобили',\n",
       "       'заняться образованием', 'сделка с подержанным автомобилем',\n",
       "       'получение образования', 'автомобиль', 'свадьба',\n",
       "       'получение дополнительного образования', 'покупка своего жилья',\n",
       "       'операции с недвижимостью', 'получение высшего образования',\n",
       "       'свой автомобиль', 'сделка с автомобилем',\n",
       "       'профильное образование', 'высшее образование',\n",
       "       'покупка жилья для сдачи', 'на покупку автомобиля', 'ремонт жилью',\n",
       "       'заняться высшим образованием'], dtype=object)"
      ]
     },
     "execution_count": 19,
     "metadata": {},
     "output_type": "execute_result"
    }
   ],
   "source": [
    "data['purpose'].unique()"
   ]
  },
  {
   "cell_type": "markdown",
   "id": "cfe5a681",
   "metadata": {
    "deletable": false,
    "editable": false,
    "id": "85d0aef0"
   },
   "source": [
    "**Задание 18. Создайте функцию, которая на основании данных из столбца `purpose` сформирует новый столбец `purpose_category`, в который войдут следующие категории:**\n",
    "\n",
    "- `'операции с автомобилем'`,\n",
    "- `'операции с недвижимостью'`,\n",
    "- `'проведение свадьбы'`,\n",
    "- `'получение образования'`.\n",
    "\n",
    "**Например, если в столбце `purpose` находится подстрока `'на покупку автомобиля'`, то в столбце `purpose_category` должна появиться строка `'операции с автомобилем'`.**\n",
    "\n",
    "**Используйте собственную функцию с именем `categorize_purpose()` и метод `apply()`. Изучите данные в столбце `purpose` и определите, какие подстроки помогут вам правильно определить категорию.**"
   ]
  },
  {
   "cell_type": "code",
   "execution_count": 20,
   "id": "ec2624c5",
   "metadata": {
    "deletable": false,
    "id": "e149fab4"
   },
   "outputs": [],
   "source": [
    "def categorize_purpose(row):\n",
    "    try:\n",
    "        if 'автом' in row:\n",
    "            return 'операции с автомобилем'\n",
    "        elif 'жил' in row or 'недвиж' in row:\n",
    "            return 'операции с недвижимостью'\n",
    "        elif 'свад' in row:\n",
    "            return 'проведение свадьбы'\n",
    "        elif 'образов' in row:\n",
    "            return 'получение образования'\n",
    "    except:\n",
    "        return 'нет категории'"
   ]
  },
  {
   "cell_type": "code",
   "execution_count": 21,
   "id": "6dc53af1",
   "metadata": {
    "deletable": false,
    "id": "bf36e69b"
   },
   "outputs": [
    {
     "name": "stdout",
     "output_type": "stream",
     "text": [
      "   children  days_employed  dob_years education  education_id  \\\n",
      "0         1    8437.673028         42    высшее             0   \n",
      "1         1    4024.803754         36   среднее             1   \n",
      "2         0    5623.422610         33   среднее             1   \n",
      "3         3    4124.747207         32   среднее             1   \n",
      "4         0  340266.072047         53   среднее             1   \n",
      "\n",
      "      family_status  family_status_id gender income_type  debt  total_income  \\\n",
      "0   женат / замужем                 0      F   сотрудник     0        253875   \n",
      "1   женат / замужем                 0      F   сотрудник     0        112080   \n",
      "2   женат / замужем                 0      M   сотрудник     0        145885   \n",
      "3   женат / замужем                 0      M   сотрудник     0        267628   \n",
      "4  гражданский брак                 1      F   пенсионер     0        158616   \n",
      "\n",
      "                      purpose total_income_category          purpose_category  \n",
      "0               покупка жилья                     B  операции с недвижимостью  \n",
      "1     приобретение автомобиля                     C    операции с автомобилем  \n",
      "2               покупка жилья                     C  операции с недвижимостью  \n",
      "3  дополнительное образование                     B     получение образования  \n",
      "4             сыграть свадьбу                     C        проведение свадьбы  \n"
     ]
    }
   ],
   "source": [
    "data['purpose_category'] = data['purpose'].apply(categorize_purpose)\n",
    "print(data.head())"
   ]
  },
  {
   "cell_type": "markdown",
   "id": "f132cca4",
   "metadata": {
    "deletable": false,
    "editable": false,
    "id": "09b242bf"
   },
   "source": [
    "### Шаг 3. Исследуйте данные и ответьте на вопросы"
   ]
  },
  {
   "cell_type": "markdown",
   "id": "9f61d586",
   "metadata": {
    "deletable": false,
    "editable": false,
    "id": "c5d66278"
   },
   "source": [
    "#### 3.1 Есть ли зависимость между количеством детей и возвратом кредита в срок?"
   ]
  },
  {
   "cell_type": "code",
   "execution_count": 22,
   "id": "5ace5007",
   "metadata": {
    "deletable": false,
    "id": "2cacfc4a"
   },
   "outputs": [
    {
     "data": {
      "text/html": [
       "<div>\n",
       "<style scoped>\n",
       "    .dataframe tbody tr th:only-of-type {\n",
       "        vertical-align: middle;\n",
       "    }\n",
       "\n",
       "    .dataframe tbody tr th {\n",
       "        vertical-align: top;\n",
       "    }\n",
       "\n",
       "    .dataframe thead th {\n",
       "        text-align: right;\n",
       "    }\n",
       "</style>\n",
       "<table border=\"1\" class=\"dataframe\">\n",
       "  <thead>\n",
       "    <tr style=\"text-align: right;\">\n",
       "      <th></th>\n",
       "      <th>Всего кредитополучателей</th>\n",
       "      <th>Доля задолженности</th>\n",
       "    </tr>\n",
       "    <tr>\n",
       "      <th>children</th>\n",
       "      <th></th>\n",
       "      <th></th>\n",
       "    </tr>\n",
       "  </thead>\n",
       "  <tbody>\n",
       "    <tr>\n",
       "      <th>0</th>\n",
       "      <td>14091</td>\n",
       "      <td>7.543822</td>\n",
       "    </tr>\n",
       "    <tr>\n",
       "      <th>1</th>\n",
       "      <td>4808</td>\n",
       "      <td>9.234609</td>\n",
       "    </tr>\n",
       "    <tr>\n",
       "      <th>2</th>\n",
       "      <td>2052</td>\n",
       "      <td>9.454191</td>\n",
       "    </tr>\n",
       "    <tr>\n",
       "      <th>3</th>\n",
       "      <td>330</td>\n",
       "      <td>8.181818</td>\n",
       "    </tr>\n",
       "    <tr>\n",
       "      <th>4</th>\n",
       "      <td>41</td>\n",
       "      <td>9.756098</td>\n",
       "    </tr>\n",
       "    <tr>\n",
       "      <th>5</th>\n",
       "      <td>9</td>\n",
       "      <td>0.000000</td>\n",
       "    </tr>\n",
       "  </tbody>\n",
       "</table>\n",
       "</div>"
      ],
      "text/plain": [
       "          Всего кредитополучателей  Доля задолженности\n",
       "children                                              \n",
       "0                            14091            7.543822\n",
       "1                             4808            9.234609\n",
       "2                             2052            9.454191\n",
       "3                              330            8.181818\n",
       "4                               41            9.756098\n",
       "5                                9            0.000000"
      ]
     },
     "execution_count": 22,
     "metadata": {},
     "output_type": "execute_result"
    }
   ],
   "source": [
    "no_refund = data.groupby('children').agg({'debt':['count','sum']}) #группируем таблицу и считаем сколько\n",
    "result_no_refund = no_refund['debt']['sum'] / no_refund['debt']['count']*100 #Считаем процент \n",
    "\n",
    "result = pd.concat([no_refund, result_no_refund], axis=1).reindex(no_refund.index) \n",
    "result.columns = ['Всего кредитополучателей', 'Всего должников', 'Доля задолженности']\n",
    "result = result.drop(columns =['Всего должников']) \n",
    "\n",
    "result\n",
    "\n",
    "\n"
   ]
  },
  {
   "cell_type": "markdown",
   "id": "483cf8f4",
   "metadata": {},
   "source": [
    "<a id=\"cell_1\"></a>\n",
    "<div class=\"alert alert-danger\">\n",
    "\n",
    "**Артём:** ✋ Сделай сводную таблицу в которой буду следующая информация:\n",
    "        \n",
    "1. Название категории;\n",
    "2. Количество клиентов в категории;\n",
    "3. Доля задолженности.\n",
    "    \n",
    "Это важно сделать в шагах 3.1, 3.2, 3.3 и 3.4. Подробнее можно почитать [здесь](https://dfedorov.spb.ru/pandas/Подробное%20руководство%20по%20группировке%20и%20агрегированию%20с%20помощью%20pandas.html?ysclid=lcmm6rtg2w602526506)    \n",
    "    \n",
    "Высшем пилотажем будет если проценты сразу выведешь в правильном формате, то есть умножишь на сто.\n",
    "    \n",
    "</div>"
   ]
  },
  {
   "cell_type": "markdown",
   "id": "f9e46909",
   "metadata": {},
   "source": [
    "<div class=\"alert alert-success\">\n",
    "\n",
    "**Артём:** 👍👍 Отлично.\n",
    "\n",
    "</div>"
   ]
  },
  {
   "cell_type": "markdown",
   "id": "f0c17a3f",
   "metadata": {
    "deletable": false,
    "id": "3a6b99ec"
   },
   "source": [
    "**Вывод:** Самый хорошие заемщики это люди без детей (это хорошо так-как это самая большая группа) или с 5-ю детьми! Последних настолько мало что можно пренебречь.\n",
    "Процент не возврата кредита у людей с 1,2,4 детьми практически одинаков и равен в среднем 9.5, в нашей выборке можно считать что это группа риска! у семей с 3 детьми процент невозврата чуть ниже 8.2, но таких семей не так уж и много!"
   ]
  },
  {
   "cell_type": "markdown",
   "id": "2708d26b",
   "metadata": {},
   "source": [
    "<div class=\"alert alert-success\">\n",
    "\n",
    "**Артём:** 👍 Правильно.\n",
    "\n",
    "</div>"
   ]
  },
  {
   "cell_type": "markdown",
   "id": "b7c485ae",
   "metadata": {
    "deletable": false,
    "editable": false,
    "id": "97be82ca"
   },
   "source": [
    "#### 3.2 Есть ли зависимость между семейным положением и возвратом кредита в срок?"
   ]
  },
  {
   "cell_type": "code",
   "execution_count": 23,
   "id": "b0726ac0",
   "metadata": {
    "deletable": false,
    "id": "dc3f7ee8"
   },
   "outputs": [
    {
     "data": {
      "text/html": [
       "<div>\n",
       "<style scoped>\n",
       "    .dataframe tbody tr th:only-of-type {\n",
       "        vertical-align: middle;\n",
       "    }\n",
       "\n",
       "    .dataframe tbody tr th {\n",
       "        vertical-align: top;\n",
       "    }\n",
       "\n",
       "    .dataframe thead th {\n",
       "        text-align: right;\n",
       "    }\n",
       "</style>\n",
       "<table border=\"1\" class=\"dataframe\">\n",
       "  <thead>\n",
       "    <tr style=\"text-align: right;\">\n",
       "      <th></th>\n",
       "      <th>Всего кредитополучателей</th>\n",
       "      <th>Доля задолженности</th>\n",
       "    </tr>\n",
       "    <tr>\n",
       "      <th>family_status</th>\n",
       "      <th></th>\n",
       "      <th></th>\n",
       "    </tr>\n",
       "  </thead>\n",
       "  <tbody>\n",
       "    <tr>\n",
       "      <th>Не женат / не замужем</th>\n",
       "      <td>2796</td>\n",
       "      <td>9.763948</td>\n",
       "    </tr>\n",
       "    <tr>\n",
       "      <th>в разводе</th>\n",
       "      <td>1189</td>\n",
       "      <td>7.064760</td>\n",
       "    </tr>\n",
       "    <tr>\n",
       "      <th>вдовец / вдова</th>\n",
       "      <td>951</td>\n",
       "      <td>6.624606</td>\n",
       "    </tr>\n",
       "    <tr>\n",
       "      <th>гражданский брак</th>\n",
       "      <td>4134</td>\n",
       "      <td>9.313014</td>\n",
       "    </tr>\n",
       "    <tr>\n",
       "      <th>женат / замужем</th>\n",
       "      <td>12261</td>\n",
       "      <td>7.560558</td>\n",
       "    </tr>\n",
       "  </tbody>\n",
       "</table>\n",
       "</div>"
      ],
      "text/plain": [
       "                       Всего кредитополучателей  Доля задолженности\n",
       "family_status                                                      \n",
       "Не женат / не замужем                      2796            9.763948\n",
       "в разводе                                  1189            7.064760\n",
       "вдовец / вдова                              951            6.624606\n",
       "гражданский брак                           4134            9.313014\n",
       "женат / замужем                           12261            7.560558"
      ]
     },
     "execution_count": 23,
     "metadata": {},
     "output_type": "execute_result"
    }
   ],
   "source": [
    "no_refund=data.groupby('family_status').agg({'debt':['count','sum']})\n",
    "\n",
    "result_no_refund=no_refund['debt']['sum']/no_refund['debt']['count']*100\n",
    "\n",
    "result = pd.concat([no_refund, result_no_refund], axis=1).reindex(no_refund.index) \n",
    "result.columns = ['Всего кредитополучателей', 'Всего должников', 'Доля задолженности']\n",
    "result = result.drop(columns =['Всего должников']) \n",
    "\n",
    "result"
   ]
  },
  {
   "cell_type": "markdown",
   "id": "68037ac7",
   "metadata": {
    "deletable": false,
    "id": "1cef7837"
   },
   "source": [
    "**Вывод:** Самая большая категория заёмщиков это женатые люди 12261 человек, они же практически самые ответственные платильщики всего 7.5% просрочки! люди живущие в гражданском браке вторая группа кредитующихся 4134 и при этом почти с самым высоким процентом не возврата 9,3%! Вдовцы самые ответственные 6,6% просрочки но их всего 951 заемщик.\n"
   ]
  },
  {
   "cell_type": "markdown",
   "id": "6073a594",
   "metadata": {},
   "source": [
    "<div class=\"alert alert-success\">\n",
    "\n",
    "**Артём:** 👍 Молодец.\n",
    "\n",
    "</div>"
   ]
  },
  {
   "cell_type": "markdown",
   "id": "20410e50",
   "metadata": {
    "deletable": false,
    "editable": false,
    "id": "1e8b2fca"
   },
   "source": [
    "#### 3.3 Есть ли зависимость между уровнем дохода и возвратом кредита в срок?"
   ]
  },
  {
   "cell_type": "code",
   "execution_count": 24,
   "id": "4882cb5a",
   "metadata": {
    "deletable": false,
    "id": "cd7e3720"
   },
   "outputs": [
    {
     "data": {
      "text/html": [
       "<div>\n",
       "<style scoped>\n",
       "    .dataframe tbody tr th:only-of-type {\n",
       "        vertical-align: middle;\n",
       "    }\n",
       "\n",
       "    .dataframe tbody tr th {\n",
       "        vertical-align: top;\n",
       "    }\n",
       "\n",
       "    .dataframe thead th {\n",
       "        text-align: right;\n",
       "    }\n",
       "</style>\n",
       "<table border=\"1\" class=\"dataframe\">\n",
       "  <thead>\n",
       "    <tr style=\"text-align: right;\">\n",
       "      <th></th>\n",
       "      <th>Всего кредитополучателей</th>\n",
       "      <th>Доля задолженности</th>\n",
       "    </tr>\n",
       "    <tr>\n",
       "      <th>total_income_category</th>\n",
       "      <th></th>\n",
       "      <th></th>\n",
       "    </tr>\n",
       "  </thead>\n",
       "  <tbody>\n",
       "    <tr>\n",
       "      <th>A</th>\n",
       "      <td>25</td>\n",
       "      <td>8.000000</td>\n",
       "    </tr>\n",
       "    <tr>\n",
       "      <th>B</th>\n",
       "      <td>5014</td>\n",
       "      <td>7.060231</td>\n",
       "    </tr>\n",
       "    <tr>\n",
       "      <th>C</th>\n",
       "      <td>15921</td>\n",
       "      <td>8.498210</td>\n",
       "    </tr>\n",
       "    <tr>\n",
       "      <th>D</th>\n",
       "      <td>349</td>\n",
       "      <td>6.017192</td>\n",
       "    </tr>\n",
       "    <tr>\n",
       "      <th>E</th>\n",
       "      <td>22</td>\n",
       "      <td>9.090909</td>\n",
       "    </tr>\n",
       "  </tbody>\n",
       "</table>\n",
       "</div>"
      ],
      "text/plain": [
       "                       Всего кредитополучателей  Доля задолженности\n",
       "total_income_category                                              \n",
       "A                                            25            8.000000\n",
       "B                                          5014            7.060231\n",
       "C                                         15921            8.498210\n",
       "D                                           349            6.017192\n",
       "E                                            22            9.090909"
      ]
     },
     "execution_count": 24,
     "metadata": {},
     "output_type": "execute_result"
    }
   ],
   "source": [
    "no_refund = data.groupby('total_income_category').agg({'debt':['count','sum']})\n",
    "result_no_refund = no_refund['debt']['sum']/no_refund['debt']['count']*100\n",
    "\n",
    "result = pd.concat([no_refund, result_no_refund], axis=1).reindex(no_refund.index) \n",
    "result.columns = ['Всего кредитополучателей', 'Всего должников', 'Доля задолженности']\n",
    "result = result.drop(columns =['Всего должников']) \n",
    "\n",
    "result"
   ]
  },
  {
   "cell_type": "markdown",
   "id": "50d972c5",
   "metadata": {
    "deletable": false,
    "id": "e8593def"
   },
   "source": [
    "**Вывод:** \n",
    "Самые благонадёжные платильщики 6% категории D с доходом до 50 т.р. их всего 349 человек. Самые не благонадежные это заемщики с минимальным доходом до 30 т. р. 9% просрочки. Люди с доходом до 200 т.р. имеют процент невозврата 8.4% это плохо так как это основная масса заёмщиков!\n"
   ]
  },
  {
   "cell_type": "markdown",
   "id": "c0baa19f",
   "metadata": {},
   "source": [
    "<div class=\"alert alert-success\">\n",
    "\n",
    "**Артём:** 👍 Если закрыть глаза на то, что выборка не репрезентативна, то все корректно.\n",
    "    \n",
    "</div>\n",
    "\n",
    "<div class=\"alert alert-info\">\n",
    "\n",
    "<b>Артём: ✍️</b> Дам тебе совет на будущее, как лучше проводить категоризацию количественных данных.\n",
    "    \n",
    "Сейчас самая маленькая категория в 728 раз меньше самой большой. Это может отразиться на результатах исследования. Когда мы делим на категории количественные данные, то лучше их делать примерно одинаковыми. Для этого можно воспользоваться методом `qcut()`. Пример:\n",
    "    \n",
    "```py\n",
    "pd.qcut(df['total_income'], 4)\n",
    "```\n",
    "    \n",
    "```\n",
    "Name: total_income, Length: 21453, dtype: category\n",
    "Categories (4, interval[float64]): [(20666.999, 107620.0]  (107620.0, 142594.0]  (142594.0, 195818.0]  (195818.0, 2265604.0]]\n",
    "```\n",
    "                                                                                                               \n",
    "Что внутри: \n",
    "    \n",
    "```py\n",
    "pd.qcut(датафрейм['столбец'], количество_категорий)\n",
    "``` \n",
    "    \n",
    "Итого у нас 4 категории:\n",
    "<ul>\n",
    "  <li>меньше 107_620</li>\n",
    "  <li>от 107_620 до 142_594</li>\n",
    "  <li>от 142_594 до 195_818</li>\n",
    "  <li>от 195_818</li>\n",
    "</ul>\n",
    "    \n",
    "---\n",
    "Дополнительно:<br>\n",
    "<a href=\"https://pandas.pydata.org/pandas-docs/stable/reference/api/pandas.qcut.html\"\n",
    "   target=\"_blank\">\n",
    "  📖 Официальная документация.\n",
    "</a><br>\n",
    "<a href=\"https://dfedorov.spb.ru/pandas/Разделение%20данных%20в%20Pandas%20с%20помощью%20qcut%20и%20cut.html?\"\n",
    "   target=\"_blank\">\n",
    "  📖 Статья на русском.\n",
    "</a>\n",
    "</div>"
   ]
  },
  {
   "cell_type": "markdown",
   "id": "a37d1a6d",
   "metadata": {
    "deletable": false,
    "editable": false,
    "id": "99ecbd1f"
   },
   "source": [
    "#### 3.4 Как разные цели кредита влияют на его возврат в срок?"
   ]
  },
  {
   "cell_type": "code",
   "execution_count": 25,
   "id": "c488f122",
   "metadata": {
    "deletable": false,
    "id": "2b687290"
   },
   "outputs": [
    {
     "data": {
      "text/html": [
       "<div>\n",
       "<style scoped>\n",
       "    .dataframe tbody tr th:only-of-type {\n",
       "        vertical-align: middle;\n",
       "    }\n",
       "\n",
       "    .dataframe tbody tr th {\n",
       "        vertical-align: top;\n",
       "    }\n",
       "\n",
       "    .dataframe thead th {\n",
       "        text-align: right;\n",
       "    }\n",
       "</style>\n",
       "<table border=\"1\" class=\"dataframe\">\n",
       "  <thead>\n",
       "    <tr style=\"text-align: right;\">\n",
       "      <th></th>\n",
       "      <th>Всего кредитополучателей</th>\n",
       "      <th>Доля должников</th>\n",
       "    </tr>\n",
       "    <tr>\n",
       "      <th>purpose_category</th>\n",
       "      <th></th>\n",
       "      <th></th>\n",
       "    </tr>\n",
       "  </thead>\n",
       "  <tbody>\n",
       "    <tr>\n",
       "      <th>операции с автомобилем</th>\n",
       "      <td>4279</td>\n",
       "      <td>9.347978</td>\n",
       "    </tr>\n",
       "    <tr>\n",
       "      <th>операции с недвижимостью</th>\n",
       "      <td>10751</td>\n",
       "      <td>7.255139</td>\n",
       "    </tr>\n",
       "    <tr>\n",
       "      <th>получение образования</th>\n",
       "      <td>3988</td>\n",
       "      <td>9.252758</td>\n",
       "    </tr>\n",
       "    <tr>\n",
       "      <th>проведение свадьбы</th>\n",
       "      <td>2313</td>\n",
       "      <td>7.911803</td>\n",
       "    </tr>\n",
       "  </tbody>\n",
       "</table>\n",
       "</div>"
      ],
      "text/plain": [
       "                          Всего кредитополучателей  Доля должников\n",
       "purpose_category                                                  \n",
       "операции с автомобилем                        4279        9.347978\n",
       "операции с недвижимостью                     10751        7.255139\n",
       "получение образования                         3988        9.252758\n",
       "проведение свадьбы                            2313        7.911803"
      ]
     },
     "execution_count": 25,
     "metadata": {},
     "output_type": "execute_result"
    }
   ],
   "source": [
    "no_refund = data.groupby('purpose_category').agg({'debt':['count','sum']})\n",
    "result_no_refund = no_refund['debt']['sum']/no_refund['debt']['count']*100\n",
    "\n",
    "result = pd.concat([no_refund, result_no_refund], axis=1).reindex(no_refund.index) \n",
    "result.columns = ['Всего кредитополучателей', 'Всего должников', 'Доля должников']\n",
    "result = result.drop(columns =['Всего должников']) \n",
    "\n",
    "result"
   ]
  },
  {
   "cell_type": "markdown",
   "id": "7eb1d279",
   "metadata": {
    "deletable": false,
    "id": "b4bb2ce6"
   },
   "source": [
    "**Вывод:** \n",
    "Операции с недвижимостью самая большая причина заема средств 10751 человек с самым маленьким процентом не отдачи заема средств!\n",
    "На проведение свадьбы самое не популярная категория заема 2313 человек, и всего 8% не возврата займа. \"Операции с автомобилем\" и \"получение образования\" имеют премерно одинаковое количество не возвратов!"
   ]
  },
  {
   "cell_type": "markdown",
   "id": "8a9edd19",
   "metadata": {},
   "source": [
    "<div class=\"alert alert-success\">\n",
    "\n",
    "**Артём:** 👍 Хорошо.\n",
    "    \n",
    "</div>"
   ]
  },
  {
   "cell_type": "markdown",
   "id": "581baf55",
   "metadata": {
    "deletable": false,
    "editable": false,
    "id": "09c3ac4c"
   },
   "source": [
    "#### 3.5 Приведите возможные причины появления пропусков в исходных данных."
   ]
  },
  {
   "cell_type": "markdown",
   "id": "56d8d963",
   "metadata": {
    "deletable": false,
    "id": "9da2ceda"
   },
   "source": [
    "*Ответ:* \n",
    "days_employed       2174\n",
    "total_income        2174\n",
    "Значения пропусков одинаковые! \"Количество отработанных дней\" и \"общий доход\" возможно это люди которые работают \"в черную\" или по иным причинам не хотят разглашать свой доход."
   ]
  },
  {
   "cell_type": "markdown",
   "id": "ba2eed01",
   "metadata": {},
   "source": [
    "<div class=\"alert alert-warning\">\n",
    "    \n",
    "**Артём:** 👉 Хорошо, а какие еще варианты?\n",
    "    \n",
    "</div>"
   ]
  },
  {
   "cell_type": "markdown",
   "id": "746c1d95",
   "metadata": {
    "deletable": false,
    "editable": false,
    "id": "7b0487d6"
   },
   "source": [
    "#### 3.6 Объясните, почему заполнить пропуски медианным значением — лучшее решение для количественных переменных."
   ]
  },
  {
   "cell_type": "markdown",
   "id": "69a8a01a",
   "metadata": {
    "deletable": false,
    "id": "7ecf2b8e"
   },
   "source": [
    "*Ответ:* \n",
    "Медианное значение лучше отражает выборку для количественных переменных так как не учитывает разброс данных."
   ]
  },
  {
   "cell_type": "markdown",
   "id": "b434ce26",
   "metadata": {},
   "source": [
    "<div class=\"alert alert-success\">\n",
    "\n",
    "**Артём:** 👍 Верно.\n",
    "    \n",
    "</div>"
   ]
  },
  {
   "cell_type": "markdown",
   "id": "371feb08",
   "metadata": {
    "deletable": false,
    "editable": false,
    "id": "6db5255a"
   },
   "source": [
    "### Шаг 4: общий вывод."
   ]
  },
  {
   "cell_type": "markdown",
   "id": "94f7a3b7",
   "metadata": {
    "deletable": false,
    "id": "bad65432"
   },
   "source": [
    "Напишите ваш общий вывод.\n",
    "\n",
    "В целом процентный разброс не возврата кредитов не так велик, максимальный это 9.7% минимальный 6%. Думаю самыми надежными заемщиками будут женатые люди без детей которые берут кредит на операции с недвижимостью и скорее всего это самая большая группа людей.\n",
    "\n",
    "Новый вывод.\n",
    "\n",
    "    В целом процентный разброс не возврата кредитов не так велик, максимальный это 9.7% минимальный 6%. Думаю самыми надежными заемщиками будут женатые люди без детей которые берут кредит на операции с недвижимостью, это самая большая группа людей.\n",
    "\n",
    "    На основе предоставленных заказчиком данных мы провели исследование и определели зависимости  по следующим категориям заёмщиков наличее детей, семейное положение, уровень дохода и цели кридита.\n",
    "\n",
    "\t                       Всего кредитополучателей\tДоля должников\n",
    "purpose_category\t\t\n",
    "операции с автомобилем\t          4279\t             9.3\n",
    "операции с недвижимостью\t      10751\t             7.2\n",
    "получение образования\t          3988\t             9.2\n",
    "проведение свадьбы\t              2313\t             7.9\n",
    "\n",
    "    Из преведенных данных мы видим что самые ответственные заемщики это люди без детей 7.5% , это самая большая группа из исследуемых групп  14091 человек! Процент не возврата кредита у людей с 1,2,4 детьми практически одинаков и равен в среднем 9.5%, в нашей выборке можно считать что это группа риска таких заемщиков более 7000 человек! у семей с 3 детьми процент невозврата чуть ниже 8.2%, но таких заёмщиков всего 330 человек!\n",
    "    \n",
    "    \t                   Всего кредитополучателей\tДоля задолженности\n",
    "family_status\t\t\n",
    "Не женат / не замужем\t   2796\t                    9.8\n",
    "в разводе\t               1189\t                    7.1\n",
    "вдовец / вдова\t           951\t                    6.6\n",
    "гражданский брак\t       4134\t                    9.3\n",
    "женат / замужем\t           12261\t                7.6\n",
    "\n",
    "    Из преведенных данных мы видим что самая большая категория заёмщиков это женатые люди 12261 человек, они же практически самые ответственные платильщики всего 7.5% просрочки! люди живущие в гражданском браке вторая группа кредитующихся 4134 и при этом почти с самым высоким процентом не возврата 9,3%! Вдовцы самые ответственные 6,6% просрочки но их всего 951 заемщик.\n",
    "\n",
    "\t                       Всего кредитополучателей\tДоля задолженности\n",
    "total_income_category\t\t\n",
    "A\t                       25\t                    8.0\n",
    "B\t                       5014\t                    7.0\n",
    "C\t                       15921\t                8.5\n",
    "D\t                       349\t                    6.0\n",
    "E\t                       22\t                    9.1\n",
    "\n",
    "    Из преведенных данных мы видим что самые благонадёжные платильщики 6% категории D с доходом до 50 т.р. их всего 349 человек. Самые не благонадежные это заемщики с минимальным доходом до 30 т. р. 9%. Люди с доходом до 200 т.р. имеют процент невозврата 8.4% стоит обратить на это внимание так как это основная масса заёмщиков!\n",
    "    \n",
    "                           Всего кредитополучателей\tДоля должников\n",
    "purpose_category\t\t\n",
    "операции с автомобилем\t   4279\t                    9.3\n",
    "операции с недвижимостью   10751\t                7.2\n",
    "получение образования\t   3988\t                    9.2\n",
    "проведение свадьбы\t       2313\t                    7.9\n",
    "\n",
    "    Операции с недвижимостью самая большая причина заема средств 10751 человек, и это самые ответственные платильщик всего 7.2%! Проведение свадьбы самое не популярная категория заема 2313 человек, и всего 8% не возврата займа. \"Операции с автомобилем\" - 4279 человек и \"получение образования\" - 3988 человек, имеют премерно одинаковое количество не возвратов 9,3% и 9,2% соответственно!\n"
   ]
  },
  {
   "cell_type": "markdown",
   "id": "9a4eef64",
   "metadata": {},
   "source": [
    "<a id=\"cell_1000\"></a>\n",
    "<div class=\"alert alert-danger\">\n",
    "\n",
    "**Артём:** ✋ Проект пишется для заказчика, он будет читать финальный вывод и только его. Добавь информации о полученных результатах, разбей по пунктам, сделай красиво, чтобы было понятно, что проведено настоящее исследование и выводу можно верить. Учитывай для кого проведено исследование, в банковской сфере даже сотые доли процента играют роль, но в нашем можно ограничиться десятыми. Помни, вывод – это дата специалиста. 😉\n",
    "\n",
    "\n",
    "</div>"
   ]
  },
  {
   "cell_type": "markdown",
   "id": "e9f1105d",
   "metadata": {},
   "source": [
    "<div class=\"alert alert-success\">\n",
    "\n",
    "**Артём:** 👍👍 Шикарный вывод.\n",
    "\n",
    "</div>"
   ]
  },
  {
   "cell_type": "markdown",
   "id": "d031b68d",
   "metadata": {},
   "source": [
    "## 🏁 Итоги ревью\n",
    "<a id=\"results\"></a>\n",
    "[В начало](#start)"
   ]
  },
  {
   "cell_type": "markdown",
   "id": "b95e3115",
   "metadata": {},
   "source": [
    "<div class=\"alert alert-danger\">\n",
    "\n",
    "**Артём:** ✋ Илья, у тебя хорошая работа, с удовольствием ее изучал. Осталось дополнить финальный вывод и построить сводные таблицы и можно идти к заказчику. Молодец!\n",
    "    \n",
    "Жду новую версию проекта. 🙂\n",
    "\n",
    "</div>"
   ]
  },
  {
   "cell_type": "markdown",
   "id": "726da4be",
   "metadata": {},
   "source": [
    "<div class=\"alert alert-success\">\n",
    "\n",
    "**Артём:** ✌️ Илья, спасибо за работу и внесенные корректировки! Критических замечаний нет.\n",
    "\n",
    "Поздравляю, **проект принят!** 🥳 🎉 Ты молодец!\n",
    "\n",
    "\n",
    "Желаю тебе успехов в дальнейшем обучении. 😉\n",
    "\n",
    "</div>"
   ]
  },
  {
   "cell_type": "code",
   "execution_count": null,
   "id": "4ee28cfd",
   "metadata": {},
   "outputs": [],
   "source": []
  }
 ],
 "metadata": {
  "ExecuteTimeLog": [
   {
    "duration": 62,
    "start_time": "2023-01-12T05:48:59.745Z"
   },
   {
    "duration": 654,
    "start_time": "2023-01-12T05:49:20.490Z"
   },
   {
    "duration": 20,
    "start_time": "2023-01-12T05:49:21.145Z"
   },
   {
    "duration": 21,
    "start_time": "2023-01-12T05:49:21.167Z"
   },
   {
    "duration": 11,
    "start_time": "2023-01-12T05:49:21.189Z"
   },
   {
    "duration": 36,
    "start_time": "2023-01-12T05:49:21.201Z"
   },
   {
    "duration": 3,
    "start_time": "2023-01-12T05:49:21.238Z"
   },
   {
    "duration": 13,
    "start_time": "2023-01-12T05:49:21.243Z"
   },
   {
    "duration": 4,
    "start_time": "2023-01-12T05:49:21.257Z"
   },
   {
    "duration": 9,
    "start_time": "2023-01-12T05:49:21.262Z"
   },
   {
    "duration": 4,
    "start_time": "2023-01-12T05:49:21.273Z"
   },
   {
    "duration": 48,
    "start_time": "2023-01-12T05:49:21.278Z"
   },
   {
    "duration": 9,
    "start_time": "2023-01-12T05:49:21.327Z"
   },
   {
    "duration": 14,
    "start_time": "2023-01-12T05:49:21.338Z"
   },
   {
    "duration": 16,
    "start_time": "2023-01-12T05:49:21.354Z"
   },
   {
    "duration": 23,
    "start_time": "2023-01-12T05:49:21.372Z"
   },
   {
    "duration": 17,
    "start_time": "2023-01-12T05:49:21.396Z"
   },
   {
    "duration": 9,
    "start_time": "2023-01-12T05:49:21.414Z"
   },
   {
    "duration": 17,
    "start_time": "2023-01-12T05:49:21.424Z"
   },
   {
    "duration": 5,
    "start_time": "2023-01-12T05:49:21.442Z"
   },
   {
    "duration": 4,
    "start_time": "2023-01-12T05:49:21.449Z"
   },
   {
    "duration": 16,
    "start_time": "2023-01-12T05:49:21.454Z"
   },
   {
    "duration": 12,
    "start_time": "2023-01-12T05:49:21.471Z"
   },
   {
    "duration": 10,
    "start_time": "2023-01-12T05:49:21.484Z"
   },
   {
    "duration": 12,
    "start_time": "2023-01-12T05:49:21.496Z"
   },
   {
    "duration": 6,
    "start_time": "2023-01-12T05:49:21.510Z"
   },
   {
    "duration": 8,
    "start_time": "2023-01-12T06:19:49.476Z"
   },
   {
    "duration": 7,
    "start_time": "2023-01-12T06:21:29.735Z"
   },
   {
    "duration": 8,
    "start_time": "2023-01-12T06:24:51.324Z"
   },
   {
    "duration": 47,
    "start_time": "2023-01-13T22:23:31.763Z"
   },
   {
    "duration": 545,
    "start_time": "2023-01-13T22:23:51.056Z"
   },
   {
    "duration": 22,
    "start_time": "2023-01-13T22:23:51.602Z"
   },
   {
    "duration": 16,
    "start_time": "2023-01-13T22:23:51.627Z"
   },
   {
    "duration": 10,
    "start_time": "2023-01-13T22:23:51.646Z"
   },
   {
    "duration": 46,
    "start_time": "2023-01-13T22:23:51.658Z"
   },
   {
    "duration": 4,
    "start_time": "2023-01-13T22:23:51.706Z"
   },
   {
    "duration": 9,
    "start_time": "2023-01-13T22:23:51.712Z"
   },
   {
    "duration": 5,
    "start_time": "2023-01-13T22:23:51.723Z"
   },
   {
    "duration": 10,
    "start_time": "2023-01-13T22:23:51.729Z"
   },
   {
    "duration": 5,
    "start_time": "2023-01-13T22:23:51.741Z"
   },
   {
    "duration": 62,
    "start_time": "2023-01-13T22:23:51.747Z"
   },
   {
    "duration": 10,
    "start_time": "2023-01-13T22:23:51.810Z"
   },
   {
    "duration": 4,
    "start_time": "2023-01-13T22:23:51.821Z"
   },
   {
    "duration": 12,
    "start_time": "2023-01-13T22:23:51.826Z"
   },
   {
    "duration": 42,
    "start_time": "2023-01-13T22:23:51.840Z"
   },
   {
    "duration": 17,
    "start_time": "2023-01-13T22:23:51.884Z"
   },
   {
    "duration": 3,
    "start_time": "2023-01-13T22:23:51.902Z"
   },
   {
    "duration": 13,
    "start_time": "2023-01-13T22:23:51.907Z"
   },
   {
    "duration": 13,
    "start_time": "2023-01-13T22:23:51.922Z"
   },
   {
    "duration": 7,
    "start_time": "2023-01-13T22:23:51.936Z"
   },
   {
    "duration": 16,
    "start_time": "2023-01-13T22:23:51.945Z"
   },
   {
    "duration": 40,
    "start_time": "2023-01-13T22:23:51.963Z"
   },
   {
    "duration": 0,
    "start_time": "2023-01-13T22:23:52.005Z"
   },
   {
    "duration": 0,
    "start_time": "2023-01-13T22:23:52.006Z"
   },
   {
    "duration": 0,
    "start_time": "2023-01-13T22:23:52.008Z"
   },
   {
    "duration": 95,
    "start_time": "2023-01-13T22:24:35.479Z"
   },
   {
    "duration": 21,
    "start_time": "2023-01-13T22:24:35.576Z"
   },
   {
    "duration": 22,
    "start_time": "2023-01-13T22:24:35.599Z"
   },
   {
    "duration": 25,
    "start_time": "2023-01-13T22:24:35.623Z"
   },
   {
    "duration": 71,
    "start_time": "2023-01-13T22:24:35.650Z"
   },
   {
    "duration": 4,
    "start_time": "2023-01-13T22:24:35.723Z"
   },
   {
    "duration": 35,
    "start_time": "2023-01-13T22:24:35.729Z"
   },
   {
    "duration": 14,
    "start_time": "2023-01-13T22:24:35.766Z"
   },
   {
    "duration": 14,
    "start_time": "2023-01-13T22:24:35.782Z"
   },
   {
    "duration": 6,
    "start_time": "2023-01-13T22:24:35.799Z"
   },
   {
    "duration": 43,
    "start_time": "2023-01-13T22:24:35.807Z"
   },
   {
    "duration": 9,
    "start_time": "2023-01-13T22:24:35.852Z"
   },
   {
    "duration": 16,
    "start_time": "2023-01-13T22:24:35.863Z"
   },
   {
    "duration": 14,
    "start_time": "2023-01-13T22:24:35.881Z"
   },
   {
    "duration": 31,
    "start_time": "2023-01-13T22:24:35.896Z"
   },
   {
    "duration": 15,
    "start_time": "2023-01-13T22:24:35.929Z"
   },
   {
    "duration": 4,
    "start_time": "2023-01-13T22:24:35.945Z"
   },
   {
    "duration": 25,
    "start_time": "2023-01-13T22:24:35.950Z"
   },
   {
    "duration": 14,
    "start_time": "2023-01-13T22:24:35.977Z"
   },
   {
    "duration": 8,
    "start_time": "2023-01-13T22:24:35.993Z"
   },
   {
    "duration": 13,
    "start_time": "2023-01-13T22:24:36.002Z"
   },
   {
    "duration": 27,
    "start_time": "2023-01-13T22:24:36.016Z"
   },
   {
    "duration": 0,
    "start_time": "2023-01-13T22:24:36.045Z"
   },
   {
    "duration": 0,
    "start_time": "2023-01-13T22:24:36.047Z"
   },
   {
    "duration": 0,
    "start_time": "2023-01-13T22:24:36.049Z"
   },
   {
    "duration": 10,
    "start_time": "2023-01-13T22:24:58.948Z"
   },
   {
    "duration": 0,
    "start_time": "2023-01-13T22:24:58.959Z"
   },
   {
    "duration": 5,
    "start_time": "2023-01-13T22:24:58.961Z"
   },
   {
    "duration": 5,
    "start_time": "2023-01-13T22:24:58.968Z"
   },
   {
    "duration": 12,
    "start_time": "2023-01-13T22:25:08.376Z"
   },
   {
    "duration": 73,
    "start_time": "2023-01-13T22:25:14.917Z"
   },
   {
    "duration": 15,
    "start_time": "2023-01-13T22:25:14.992Z"
   },
   {
    "duration": 41,
    "start_time": "2023-01-13T22:25:15.009Z"
   },
   {
    "duration": 11,
    "start_time": "2023-01-13T22:25:15.053Z"
   },
   {
    "duration": 45,
    "start_time": "2023-01-13T22:25:15.065Z"
   },
   {
    "duration": 3,
    "start_time": "2023-01-13T22:25:15.112Z"
   },
   {
    "duration": 16,
    "start_time": "2023-01-13T22:25:15.117Z"
   },
   {
    "duration": 9,
    "start_time": "2023-01-13T22:25:15.134Z"
   },
   {
    "duration": 8,
    "start_time": "2023-01-13T22:25:15.144Z"
   },
   {
    "duration": 6,
    "start_time": "2023-01-13T22:25:15.155Z"
   },
   {
    "duration": 46,
    "start_time": "2023-01-13T22:25:15.163Z"
   },
   {
    "duration": 10,
    "start_time": "2023-01-13T22:25:15.211Z"
   },
   {
    "duration": 5,
    "start_time": "2023-01-13T22:25:15.223Z"
   },
   {
    "duration": 15,
    "start_time": "2023-01-13T22:25:15.231Z"
   },
   {
    "duration": 42,
    "start_time": "2023-01-13T22:25:15.248Z"
   },
   {
    "duration": 17,
    "start_time": "2023-01-13T22:25:15.292Z"
   },
   {
    "duration": 4,
    "start_time": "2023-01-13T22:25:15.311Z"
   },
   {
    "duration": 13,
    "start_time": "2023-01-13T22:25:15.316Z"
   },
   {
    "duration": 6,
    "start_time": "2023-01-13T22:25:15.330Z"
   },
   {
    "duration": 3,
    "start_time": "2023-01-13T22:25:15.338Z"
   },
   {
    "duration": 45,
    "start_time": "2023-01-13T22:25:15.343Z"
   },
   {
    "duration": 16,
    "start_time": "2023-01-13T22:25:15.390Z"
   },
   {
    "duration": 10,
    "start_time": "2023-01-13T22:25:17.311Z"
   },
   {
    "duration": 12,
    "start_time": "2023-01-13T22:25:36.827Z"
   },
   {
    "duration": 82,
    "start_time": "2023-01-13T22:28:51.751Z"
   },
   {
    "duration": 18,
    "start_time": "2023-01-13T22:28:51.834Z"
   },
   {
    "duration": 53,
    "start_time": "2023-01-13T22:28:51.854Z"
   },
   {
    "duration": 30,
    "start_time": "2023-01-13T22:28:51.909Z"
   },
   {
    "duration": 82,
    "start_time": "2023-01-13T22:28:51.941Z"
   },
   {
    "duration": 3,
    "start_time": "2023-01-13T22:28:52.025Z"
   },
   {
    "duration": 23,
    "start_time": "2023-01-13T22:28:52.029Z"
   },
   {
    "duration": 7,
    "start_time": "2023-01-13T22:28:52.054Z"
   },
   {
    "duration": 17,
    "start_time": "2023-01-13T22:28:52.062Z"
   },
   {
    "duration": 21,
    "start_time": "2023-01-13T22:28:52.082Z"
   },
   {
    "duration": 42,
    "start_time": "2023-01-13T22:28:52.105Z"
   },
   {
    "duration": 12,
    "start_time": "2023-01-13T22:28:52.148Z"
   },
   {
    "duration": 36,
    "start_time": "2023-01-13T22:28:52.162Z"
   },
   {
    "duration": 16,
    "start_time": "2023-01-13T22:28:52.200Z"
   },
   {
    "duration": 24,
    "start_time": "2023-01-13T22:28:52.218Z"
   },
   {
    "duration": 20,
    "start_time": "2023-01-13T22:28:52.243Z"
   },
   {
    "duration": 5,
    "start_time": "2023-01-13T22:28:52.264Z"
   },
   {
    "duration": 20,
    "start_time": "2023-01-13T22:28:52.271Z"
   },
   {
    "duration": 11,
    "start_time": "2023-01-13T22:28:52.293Z"
   },
   {
    "duration": 6,
    "start_time": "2023-01-13T22:28:52.307Z"
   },
   {
    "duration": 15,
    "start_time": "2023-01-13T22:28:52.315Z"
   },
   {
    "duration": 15,
    "start_time": "2023-01-13T22:28:52.334Z"
   },
   {
    "duration": 0,
    "start_time": "2023-01-13T22:28:52.351Z"
   },
   {
    "duration": 0,
    "start_time": "2023-01-13T22:28:52.352Z"
   },
   {
    "duration": 0,
    "start_time": "2023-01-13T22:28:52.354Z"
   },
   {
    "duration": 11,
    "start_time": "2023-01-13T22:28:58.687Z"
   },
   {
    "duration": 24,
    "start_time": "2023-01-13T22:29:35.710Z"
   },
   {
    "duration": 19,
    "start_time": "2023-01-13T22:31:07.923Z"
   },
   {
    "duration": 24,
    "start_time": "2023-01-13T22:31:23.225Z"
   },
   {
    "duration": 11,
    "start_time": "2023-01-13T22:33:08.534Z"
   },
   {
    "duration": 11,
    "start_time": "2023-01-13T22:33:58.264Z"
   },
   {
    "duration": 10,
    "start_time": "2023-01-13T22:34:39.251Z"
   },
   {
    "duration": 10,
    "start_time": "2023-01-13T22:35:33.598Z"
   },
   {
    "duration": 9,
    "start_time": "2023-01-13T22:35:57.361Z"
   },
   {
    "duration": 8,
    "start_time": "2023-01-13T22:36:34.522Z"
   },
   {
    "duration": 1157,
    "start_time": "2023-01-13T22:39:00.261Z"
   },
   {
    "duration": 9,
    "start_time": "2023-01-13T22:39:24.765Z"
   },
   {
    "duration": 11,
    "start_time": "2023-01-13T22:41:34.472Z"
   },
   {
    "duration": 5,
    "start_time": "2023-01-13T22:41:52.242Z"
   },
   {
    "duration": 9,
    "start_time": "2023-01-13T22:42:41.260Z"
   },
   {
    "duration": 10,
    "start_time": "2023-01-13T22:43:18.757Z"
   },
   {
    "duration": 6,
    "start_time": "2023-01-13T22:58:10.670Z"
   },
   {
    "duration": 5,
    "start_time": "2023-01-13T22:59:37.609Z"
   },
   {
    "duration": 65,
    "start_time": "2023-01-13T22:59:44.831Z"
   },
   {
    "duration": 7,
    "start_time": "2023-01-13T22:59:59.278Z"
   },
   {
    "duration": 8,
    "start_time": "2023-01-13T23:02:10.429Z"
   },
   {
    "duration": 7,
    "start_time": "2023-01-13T23:02:19.671Z"
   },
   {
    "duration": 5,
    "start_time": "2023-01-13T23:02:46.226Z"
   },
   {
    "duration": 10,
    "start_time": "2023-01-13T23:31:16.757Z"
   },
   {
    "duration": 17,
    "start_time": "2023-01-13T23:33:11.606Z"
   },
   {
    "duration": 54,
    "start_time": "2023-01-16T18:31:44.135Z"
   },
   {
    "duration": 540,
    "start_time": "2023-01-16T18:32:04.141Z"
   },
   {
    "duration": 22,
    "start_time": "2023-01-16T18:32:04.683Z"
   },
   {
    "duration": 15,
    "start_time": "2023-01-16T18:32:04.706Z"
   },
   {
    "duration": 35,
    "start_time": "2023-01-16T18:32:04.723Z"
   },
   {
    "duration": 46,
    "start_time": "2023-01-16T18:32:04.759Z"
   },
   {
    "duration": 4,
    "start_time": "2023-01-16T18:32:04.807Z"
   },
   {
    "duration": 63,
    "start_time": "2023-01-16T18:32:04.813Z"
   },
   {
    "duration": 28,
    "start_time": "2023-01-16T18:32:04.878Z"
   },
   {
    "duration": 46,
    "start_time": "2023-01-16T18:32:04.908Z"
   },
   {
    "duration": 63,
    "start_time": "2023-01-16T18:32:04.956Z"
   },
   {
    "duration": 72,
    "start_time": "2023-01-16T18:32:05.021Z"
   },
   {
    "duration": 10,
    "start_time": "2023-01-16T18:32:05.094Z"
   },
   {
    "duration": 29,
    "start_time": "2023-01-16T18:32:05.105Z"
   },
   {
    "duration": 24,
    "start_time": "2023-01-16T18:32:05.136Z"
   },
   {
    "duration": 42,
    "start_time": "2023-01-16T18:32:05.162Z"
   },
   {
    "duration": 20,
    "start_time": "2023-01-16T18:32:05.206Z"
   },
   {
    "duration": 4,
    "start_time": "2023-01-16T18:32:05.228Z"
   },
   {
    "duration": 59,
    "start_time": "2023-01-16T18:32:05.234Z"
   },
   {
    "duration": 25,
    "start_time": "2023-01-16T18:32:05.295Z"
   },
   {
    "duration": 29,
    "start_time": "2023-01-16T18:32:05.321Z"
   },
   {
    "duration": 50,
    "start_time": "2023-01-16T18:32:05.352Z"
   },
   {
    "duration": 51,
    "start_time": "2023-01-16T18:32:05.404Z"
   },
   {
    "duration": 24,
    "start_time": "2023-01-16T18:32:05.457Z"
   },
   {
    "duration": 30,
    "start_time": "2023-01-16T18:32:05.483Z"
   },
   {
    "duration": 19,
    "start_time": "2023-01-16T18:32:05.515Z"
   },
   {
    "duration": 6,
    "start_time": "2023-01-16T18:32:09.529Z"
   },
   {
    "duration": 9,
    "start_time": "2023-01-16T18:41:28.718Z"
   },
   {
    "duration": 8,
    "start_time": "2023-01-16T18:41:49.907Z"
   },
   {
    "duration": 12,
    "start_time": "2023-01-16T18:51:20.580Z"
   },
   {
    "duration": 37,
    "start_time": "2023-01-16T19:04:11.169Z"
   },
   {
    "duration": 9,
    "start_time": "2023-01-16T19:04:32.936Z"
   },
   {
    "duration": 71,
    "start_time": "2023-01-16T19:15:19.832Z"
   },
   {
    "duration": 12,
    "start_time": "2023-01-16T19:16:19.382Z"
   },
   {
    "duration": 11,
    "start_time": "2023-01-16T19:17:19.995Z"
   },
   {
    "duration": 11,
    "start_time": "2023-01-16T19:17:30.884Z"
   },
   {
    "duration": 11,
    "start_time": "2023-01-16T19:18:11.135Z"
   },
   {
    "duration": 53,
    "start_time": "2023-01-28T12:00:42.844Z"
   },
   {
    "duration": 3,
    "start_time": "2023-01-28T12:01:03.623Z"
   },
   {
    "duration": 2,
    "start_time": "2023-01-28T12:01:03.632Z"
   },
   {
    "duration": 7,
    "start_time": "2023-01-28T12:01:28.875Z"
   },
   {
    "duration": 7,
    "start_time": "2023-01-28T12:02:00.080Z"
   },
   {
    "duration": 704,
    "start_time": "2023-01-28T12:02:28.444Z"
   },
   {
    "duration": 22,
    "start_time": "2023-01-28T12:02:29.150Z"
   },
   {
    "duration": 15,
    "start_time": "2023-01-28T12:02:29.174Z"
   },
   {
    "duration": 13,
    "start_time": "2023-01-28T12:02:29.191Z"
   },
   {
    "duration": 53,
    "start_time": "2023-01-28T12:02:29.206Z"
   },
   {
    "duration": 3,
    "start_time": "2023-01-28T12:02:29.261Z"
   },
   {
    "duration": 11,
    "start_time": "2023-01-28T12:02:29.265Z"
   },
   {
    "duration": 4,
    "start_time": "2023-01-28T12:02:29.278Z"
   },
   {
    "duration": 13,
    "start_time": "2023-01-28T12:02:29.284Z"
   },
   {
    "duration": 13,
    "start_time": "2023-01-28T12:02:29.300Z"
   },
   {
    "duration": 51,
    "start_time": "2023-01-28T12:02:29.314Z"
   },
   {
    "duration": 9,
    "start_time": "2023-01-28T12:02:29.367Z"
   },
   {
    "duration": 4,
    "start_time": "2023-01-28T12:02:29.377Z"
   },
   {
    "duration": 25,
    "start_time": "2023-01-28T12:02:29.383Z"
   },
   {
    "duration": 29,
    "start_time": "2023-01-28T12:02:29.410Z"
   },
   {
    "duration": 20,
    "start_time": "2023-01-28T12:02:29.441Z"
   },
   {
    "duration": 3,
    "start_time": "2023-01-28T12:02:29.462Z"
   },
   {
    "duration": 13,
    "start_time": "2023-01-28T12:02:29.467Z"
   },
   {
    "duration": 6,
    "start_time": "2023-01-28T12:02:29.481Z"
   },
   {
    "duration": 6,
    "start_time": "2023-01-28T12:02:29.488Z"
   },
   {
    "duration": 12,
    "start_time": "2023-01-28T12:02:29.495Z"
   },
   {
    "duration": 42,
    "start_time": "2023-01-28T12:02:29.509Z"
   },
   {
    "duration": 11,
    "start_time": "2023-01-28T12:02:29.553Z"
   },
   {
    "duration": 3,
    "start_time": "2023-01-28T12:02:29.565Z"
   },
   {
    "duration": 4,
    "start_time": "2023-01-28T12:02:29.569Z"
   },
   {
    "duration": 49,
    "start_time": "2023-01-28T12:03:49.817Z"
   },
   {
    "duration": 11,
    "start_time": "2023-01-28T12:06:04.787Z"
   },
   {
    "duration": 13,
    "start_time": "2023-01-28T12:27:03.122Z"
   },
   {
    "duration": 15,
    "start_time": "2023-01-28T12:30:04.245Z"
   },
   {
    "duration": 17,
    "start_time": "2023-01-28T12:30:35.893Z"
   },
   {
    "duration": 13,
    "start_time": "2023-01-28T12:31:34.654Z"
   },
   {
    "duration": 11,
    "start_time": "2023-01-28T12:31:54.303Z"
   },
   {
    "duration": 17,
    "start_time": "2023-01-28T12:32:23.156Z"
   },
   {
    "duration": 4,
    "start_time": "2023-01-28T12:40:30.871Z"
   },
   {
    "duration": 8,
    "start_time": "2023-01-28T12:40:38.483Z"
   },
   {
    "duration": 16,
    "start_time": "2023-01-28T13:55:36.395Z"
   },
   {
    "duration": 13,
    "start_time": "2023-01-28T13:59:53.176Z"
   },
   {
    "duration": 16,
    "start_time": "2023-01-28T14:00:36.054Z"
   },
   {
    "duration": 717,
    "start_time": "2023-01-28T14:24:26.558Z"
   },
   {
    "duration": 24,
    "start_time": "2023-01-28T14:24:27.277Z"
   },
   {
    "duration": 16,
    "start_time": "2023-01-28T14:24:27.304Z"
   },
   {
    "duration": 10,
    "start_time": "2023-01-28T14:24:27.322Z"
   },
   {
    "duration": 35,
    "start_time": "2023-01-28T14:24:27.334Z"
   },
   {
    "duration": 4,
    "start_time": "2023-01-28T14:24:27.371Z"
   },
   {
    "duration": 10,
    "start_time": "2023-01-28T14:24:27.376Z"
   },
   {
    "duration": 4,
    "start_time": "2023-01-28T14:24:27.388Z"
   },
   {
    "duration": 32,
    "start_time": "2023-01-28T14:24:27.393Z"
   },
   {
    "duration": 6,
    "start_time": "2023-01-28T14:24:27.428Z"
   },
   {
    "duration": 37,
    "start_time": "2023-01-28T14:24:27.435Z"
   },
   {
    "duration": 11,
    "start_time": "2023-01-28T14:24:27.473Z"
   },
   {
    "duration": 7,
    "start_time": "2023-01-28T14:24:27.486Z"
   },
   {
    "duration": 11,
    "start_time": "2023-01-28T14:24:27.520Z"
   },
   {
    "duration": 22,
    "start_time": "2023-01-28T14:24:27.533Z"
   },
   {
    "duration": 17,
    "start_time": "2023-01-28T14:24:27.556Z"
   },
   {
    "duration": 4,
    "start_time": "2023-01-28T14:24:27.575Z"
   },
   {
    "duration": 13,
    "start_time": "2023-01-28T14:24:27.580Z"
   },
   {
    "duration": 29,
    "start_time": "2023-01-28T14:24:27.595Z"
   },
   {
    "duration": 3,
    "start_time": "2023-01-28T14:24:27.626Z"
   },
   {
    "duration": 19,
    "start_time": "2023-01-28T14:24:27.631Z"
   },
   {
    "duration": 12,
    "start_time": "2023-01-28T14:24:27.652Z"
   },
   {
    "duration": 12,
    "start_time": "2023-01-28T14:24:27.666Z"
   },
   {
    "duration": 100,
    "start_time": "2023-01-28T14:24:27.680Z"
   },
   {
    "duration": 0,
    "start_time": "2023-01-28T14:24:27.782Z"
   },
   {
    "duration": 11,
    "start_time": "2023-01-28T14:24:56.985Z"
   },
   {
    "duration": 16,
    "start_time": "2023-01-28T14:25:54.073Z"
   },
   {
    "duration": 12,
    "start_time": "2023-01-28T14:26:20.422Z"
   },
   {
    "duration": 15,
    "start_time": "2023-01-28T14:35:15.238Z"
   },
   {
    "duration": 615,
    "start_time": "2023-01-28T17:16:34.767Z"
   },
   {
    "duration": 32,
    "start_time": "2023-01-28T17:16:35.384Z"
   },
   {
    "duration": 17,
    "start_time": "2023-01-28T17:16:35.418Z"
   },
   {
    "duration": 30,
    "start_time": "2023-01-28T17:16:35.439Z"
   },
   {
    "duration": 52,
    "start_time": "2023-01-28T17:16:35.470Z"
   },
   {
    "duration": 4,
    "start_time": "2023-01-28T17:16:35.524Z"
   },
   {
    "duration": 26,
    "start_time": "2023-01-28T17:16:35.529Z"
   },
   {
    "duration": 13,
    "start_time": "2023-01-28T17:16:35.558Z"
   },
   {
    "duration": 39,
    "start_time": "2023-01-28T17:16:35.573Z"
   },
   {
    "duration": 14,
    "start_time": "2023-01-28T17:16:35.617Z"
   },
   {
    "duration": 67,
    "start_time": "2023-01-28T17:16:35.633Z"
   },
   {
    "duration": 12,
    "start_time": "2023-01-28T17:16:35.702Z"
   },
   {
    "duration": 15,
    "start_time": "2023-01-28T17:16:35.715Z"
   },
   {
    "duration": 35,
    "start_time": "2023-01-28T17:16:35.732Z"
   },
   {
    "duration": 39,
    "start_time": "2023-01-28T17:16:35.770Z"
   },
   {
    "duration": 30,
    "start_time": "2023-01-28T17:16:35.810Z"
   },
   {
    "duration": 20,
    "start_time": "2023-01-28T17:16:35.842Z"
   },
   {
    "duration": 32,
    "start_time": "2023-01-28T17:16:35.864Z"
   },
   {
    "duration": 17,
    "start_time": "2023-01-28T17:16:35.898Z"
   },
   {
    "duration": 21,
    "start_time": "2023-01-28T17:16:35.916Z"
   },
   {
    "duration": 40,
    "start_time": "2023-01-28T17:16:35.939Z"
   },
   {
    "duration": 30,
    "start_time": "2023-01-28T17:16:35.981Z"
   },
   {
    "duration": 21,
    "start_time": "2023-01-28T17:16:36.013Z"
   },
   {
    "duration": 15,
    "start_time": "2023-01-28T17:16:36.036Z"
   },
   {
    "duration": 31,
    "start_time": "2023-01-28T17:16:36.053Z"
   },
   {
    "duration": 507,
    "start_time": "2023-01-29T12:04:20.239Z"
   },
   {
    "duration": 33,
    "start_time": "2023-01-29T12:04:20.748Z"
   },
   {
    "duration": 19,
    "start_time": "2023-01-29T12:04:20.783Z"
   },
   {
    "duration": 25,
    "start_time": "2023-01-29T12:04:20.805Z"
   },
   {
    "duration": 62,
    "start_time": "2023-01-29T12:04:20.831Z"
   },
   {
    "duration": 4,
    "start_time": "2023-01-29T12:04:20.895Z"
   },
   {
    "duration": 9,
    "start_time": "2023-01-29T12:04:20.921Z"
   },
   {
    "duration": 14,
    "start_time": "2023-01-29T12:04:20.931Z"
   },
   {
    "duration": 11,
    "start_time": "2023-01-29T12:04:20.947Z"
   },
   {
    "duration": 4,
    "start_time": "2023-01-29T12:04:20.961Z"
   },
   {
    "duration": 57,
    "start_time": "2023-01-29T12:04:20.967Z"
   },
   {
    "duration": 11,
    "start_time": "2023-01-29T12:04:21.025Z"
   },
   {
    "duration": 4,
    "start_time": "2023-01-29T12:04:21.037Z"
   },
   {
    "duration": 15,
    "start_time": "2023-01-29T12:04:21.043Z"
   },
   {
    "duration": 23,
    "start_time": "2023-01-29T12:04:21.060Z"
   },
   {
    "duration": 49,
    "start_time": "2023-01-29T12:04:21.084Z"
   },
   {
    "duration": 4,
    "start_time": "2023-01-29T12:04:21.135Z"
   },
   {
    "duration": 14,
    "start_time": "2023-01-29T12:04:21.140Z"
   },
   {
    "duration": 7,
    "start_time": "2023-01-29T12:04:21.155Z"
   },
   {
    "duration": 4,
    "start_time": "2023-01-29T12:04:21.164Z"
   },
   {
    "duration": 20,
    "start_time": "2023-01-29T12:04:21.169Z"
   },
   {
    "duration": 35,
    "start_time": "2023-01-29T12:04:21.191Z"
   },
   {
    "duration": 14,
    "start_time": "2023-01-29T12:04:21.229Z"
   },
   {
    "duration": 12,
    "start_time": "2023-01-29T12:04:21.245Z"
   },
   {
    "duration": 14,
    "start_time": "2023-01-29T12:04:21.259Z"
   },
   {
    "duration": 565,
    "start_time": "2023-01-30T05:48:30.312Z"
   },
   {
    "duration": 31,
    "start_time": "2023-01-30T05:48:30.880Z"
   },
   {
    "duration": 69,
    "start_time": "2023-01-30T05:48:30.913Z"
   },
   {
    "duration": 57,
    "start_time": "2023-01-30T05:48:30.984Z"
   },
   {
    "duration": 87,
    "start_time": "2023-01-30T05:48:31.043Z"
   },
   {
    "duration": 14,
    "start_time": "2023-01-30T05:48:31.132Z"
   },
   {
    "duration": 40,
    "start_time": "2023-01-30T05:48:31.151Z"
   },
   {
    "duration": 27,
    "start_time": "2023-01-30T05:48:31.192Z"
   },
   {
    "duration": 46,
    "start_time": "2023-01-30T05:48:31.220Z"
   },
   {
    "duration": 34,
    "start_time": "2023-01-30T05:48:31.270Z"
   },
   {
    "duration": 108,
    "start_time": "2023-01-30T05:48:31.306Z"
   },
   {
    "duration": 16,
    "start_time": "2023-01-30T05:48:31.416Z"
   },
   {
    "duration": 43,
    "start_time": "2023-01-30T05:48:31.433Z"
   },
   {
    "duration": 31,
    "start_time": "2023-01-30T05:48:31.478Z"
   },
   {
    "duration": 53,
    "start_time": "2023-01-30T05:48:31.511Z"
   },
   {
    "duration": 23,
    "start_time": "2023-01-30T05:48:31.566Z"
   },
   {
    "duration": 20,
    "start_time": "2023-01-30T05:48:31.590Z"
   },
   {
    "duration": 29,
    "start_time": "2023-01-30T05:48:31.611Z"
   },
   {
    "duration": 23,
    "start_time": "2023-01-30T05:48:31.641Z"
   },
   {
    "duration": 36,
    "start_time": "2023-01-30T05:48:31.666Z"
   },
   {
    "duration": 66,
    "start_time": "2023-01-30T05:48:31.704Z"
   },
   {
    "duration": 69,
    "start_time": "2023-01-30T05:48:31.772Z"
   },
   {
    "duration": 31,
    "start_time": "2023-01-30T05:48:31.843Z"
   },
   {
    "duration": 47,
    "start_time": "2023-01-30T05:48:31.876Z"
   },
   {
    "duration": 26,
    "start_time": "2023-01-30T05:48:31.925Z"
   },
   {
    "duration": 9,
    "start_time": "2023-01-30T05:57:10.792Z"
   },
   {
    "duration": 10,
    "start_time": "2023-01-30T05:57:22.829Z"
   },
   {
    "duration": 13,
    "start_time": "2023-01-30T05:57:40.671Z"
   },
   {
    "duration": 3055,
    "start_time": "2023-01-30T06:12:59.038Z"
   },
   {
    "duration": 889,
    "start_time": "2023-01-30T06:43:05.980Z"
   },
   {
    "duration": 28,
    "start_time": "2023-01-30T06:52:36.428Z"
   },
   {
    "duration": 20,
    "start_time": "2023-01-30T06:54:13.425Z"
   },
   {
    "duration": 980,
    "start_time": "2023-01-30T07:02:30.056Z"
   },
   {
    "duration": 21,
    "start_time": "2023-01-30T07:02:56.512Z"
   },
   {
    "duration": 19,
    "start_time": "2023-01-30T07:04:14.515Z"
   },
   {
    "duration": 23,
    "start_time": "2023-01-30T07:04:23.945Z"
   },
   {
    "duration": 16,
    "start_time": "2023-01-30T07:30:45.069Z"
   },
   {
    "duration": 19,
    "start_time": "2023-01-30T07:31:27.379Z"
   },
   {
    "duration": 17,
    "start_time": "2023-01-30T07:36:46.455Z"
   },
   {
    "duration": 13,
    "start_time": "2023-01-30T07:37:17.728Z"
   },
   {
    "duration": 93,
    "start_time": "2023-01-30T07:38:36.505Z"
   },
   {
    "duration": 16,
    "start_time": "2023-01-30T07:49:34.949Z"
   },
   {
    "duration": 12,
    "start_time": "2023-01-30T07:59:34.818Z"
   },
   {
    "duration": 12,
    "start_time": "2023-01-30T08:00:44.635Z"
   },
   {
    "duration": 690,
    "start_time": "2023-01-30T08:02:25.194Z"
   },
   {
    "duration": 1827,
    "start_time": "2023-01-30T08:02:41.640Z"
   },
   {
    "duration": 1844,
    "start_time": "2023-01-30T08:03:08.393Z"
   },
   {
    "duration": 11,
    "start_time": "2023-01-30T08:03:31.009Z"
   },
   {
    "duration": 20,
    "start_time": "2023-01-30T08:03:43.367Z"
   },
   {
    "duration": 10,
    "start_time": "2023-01-30T08:04:01.400Z"
   },
   {
    "duration": 12,
    "start_time": "2023-01-30T08:05:34.515Z"
   },
   {
    "duration": 13,
    "start_time": "2023-01-30T08:05:57.894Z"
   },
   {
    "duration": 13,
    "start_time": "2023-01-30T08:06:43.582Z"
   },
   {
    "duration": 75,
    "start_time": "2023-01-30T08:07:18.310Z"
   },
   {
    "duration": 70,
    "start_time": "2023-01-30T08:07:26.991Z"
   },
   {
    "duration": 17,
    "start_time": "2023-01-30T08:07:45.901Z"
   },
   {
    "duration": 69,
    "start_time": "2023-01-30T08:08:18.853Z"
   },
   {
    "duration": 19,
    "start_time": "2023-01-30T08:08:42.071Z"
   },
   {
    "duration": 13,
    "start_time": "2023-01-30T08:09:03.533Z"
   },
   {
    "duration": 12,
    "start_time": "2023-01-30T08:20:44.047Z"
   },
   {
    "duration": 18,
    "start_time": "2023-01-30T08:21:35.166Z"
   },
   {
    "duration": 18,
    "start_time": "2023-01-30T08:30:20.189Z"
   },
   {
    "duration": 11,
    "start_time": "2023-01-30T08:30:39.326Z"
   },
   {
    "duration": 10,
    "start_time": "2023-01-30T08:40:06.246Z"
   },
   {
    "duration": 89,
    "start_time": "2023-01-30T08:40:50.600Z"
   },
   {
    "duration": 18,
    "start_time": "2023-01-30T08:41:01.626Z"
   },
   {
    "duration": 70,
    "start_time": "2023-01-30T08:41:21.193Z"
   },
   {
    "duration": 68,
    "start_time": "2023-01-30T08:42:37.174Z"
   },
   {
    "duration": 12,
    "start_time": "2023-01-30T08:45:10.789Z"
   },
   {
    "duration": 12,
    "start_time": "2023-01-30T08:45:48.446Z"
   },
   {
    "duration": 12,
    "start_time": "2023-01-30T08:46:28.820Z"
   },
   {
    "duration": 76,
    "start_time": "2023-01-30T08:47:14.794Z"
   },
   {
    "duration": 69,
    "start_time": "2023-01-30T08:47:49.818Z"
   },
   {
    "duration": 11,
    "start_time": "2023-01-30T08:49:54.310Z"
   },
   {
    "duration": 12,
    "start_time": "2023-01-30T08:50:32.729Z"
   },
   {
    "duration": 24,
    "start_time": "2023-01-30T08:51:11.901Z"
   },
   {
    "duration": 12,
    "start_time": "2023-01-30T08:56:49.950Z"
   },
   {
    "duration": 10,
    "start_time": "2023-01-30T08:57:02.936Z"
   },
   {
    "duration": 74,
    "start_time": "2023-01-30T08:57:53.678Z"
   },
   {
    "duration": 11,
    "start_time": "2023-01-30T08:58:08.918Z"
   },
   {
    "duration": 11,
    "start_time": "2023-01-30T08:58:50.354Z"
   },
   {
    "duration": 11,
    "start_time": "2023-01-30T08:59:25.174Z"
   },
   {
    "duration": 10,
    "start_time": "2023-01-30T08:59:43.333Z"
   },
   {
    "duration": 15,
    "start_time": "2023-01-30T09:00:05.281Z"
   },
   {
    "duration": 11,
    "start_time": "2023-01-30T09:00:10.815Z"
   },
   {
    "duration": 12,
    "start_time": "2023-01-30T09:24:33.663Z"
   },
   {
    "duration": 358,
    "start_time": "2023-01-30T09:25:35.119Z"
   },
   {
    "duration": 13,
    "start_time": "2023-01-30T09:25:53.382Z"
   },
   {
    "duration": 12,
    "start_time": "2023-01-30T09:26:29.757Z"
   },
   {
    "duration": 13,
    "start_time": "2023-01-30T09:54:00.390Z"
   },
   {
    "duration": 13,
    "start_time": "2023-01-30T09:54:24.646Z"
   },
   {
    "duration": 21,
    "start_time": "2023-01-30T09:54:43.458Z"
   },
   {
    "duration": 14,
    "start_time": "2023-01-30T09:55:15.029Z"
   },
   {
    "duration": 14,
    "start_time": "2023-01-30T09:55:28.780Z"
   },
   {
    "duration": 1137,
    "start_time": "2023-01-30T09:55:49.440Z"
   },
   {
    "duration": 14,
    "start_time": "2023-01-30T09:56:05.717Z"
   },
   {
    "duration": 73,
    "start_time": "2023-01-30T10:01:37.279Z"
   },
   {
    "duration": 21,
    "start_time": "2023-01-30T10:01:45.254Z"
   },
   {
    "duration": 21,
    "start_time": "2023-01-30T10:03:57.170Z"
   },
   {
    "duration": 21,
    "start_time": "2023-01-30T10:04:19.854Z"
   },
   {
    "duration": 21,
    "start_time": "2023-01-30T10:05:22.848Z"
   },
   {
    "duration": 14,
    "start_time": "2023-01-30T10:08:13.715Z"
   },
   {
    "duration": 22,
    "start_time": "2023-01-30T10:08:35.907Z"
   },
   {
    "duration": 21,
    "start_time": "2023-01-30T10:10:08.282Z"
   },
   {
    "duration": 13,
    "start_time": "2023-01-30T10:47:35.971Z"
   },
   {
    "duration": 13,
    "start_time": "2023-01-30T10:49:03.385Z"
   },
   {
    "duration": 14,
    "start_time": "2023-01-30T10:49:13.080Z"
   },
   {
    "duration": 12,
    "start_time": "2023-01-30T10:49:22.035Z"
   },
   {
    "duration": 12,
    "start_time": "2023-01-30T11:45:11.972Z"
   },
   {
    "duration": 13,
    "start_time": "2023-01-30T11:45:40.483Z"
   },
   {
    "duration": 12,
    "start_time": "2023-01-30T11:46:19.954Z"
   },
   {
    "duration": 12,
    "start_time": "2023-01-30T11:47:02.127Z"
   },
   {
    "duration": 12,
    "start_time": "2023-01-30T11:47:15.647Z"
   },
   {
    "duration": 19,
    "start_time": "2023-01-30T11:48:55.921Z"
   },
   {
    "duration": 17,
    "start_time": "2023-01-30T11:49:16.453Z"
   },
   {
    "duration": 22,
    "start_time": "2023-01-30T11:49:38.320Z"
   },
   {
    "duration": 20,
    "start_time": "2023-01-30T11:50:28.188Z"
   },
   {
    "duration": 65,
    "start_time": "2023-01-30T13:54:04.641Z"
   },
   {
    "duration": 9,
    "start_time": "2023-01-30T13:54:26.860Z"
   },
   {
    "duration": 693,
    "start_time": "2023-01-30T13:54:43.909Z"
   },
   {
    "duration": 21,
    "start_time": "2023-01-30T13:54:44.604Z"
   },
   {
    "duration": 20,
    "start_time": "2023-01-30T13:54:44.627Z"
   },
   {
    "duration": 13,
    "start_time": "2023-01-30T13:54:44.654Z"
   },
   {
    "duration": 43,
    "start_time": "2023-01-30T13:54:44.669Z"
   },
   {
    "duration": 4,
    "start_time": "2023-01-30T13:54:44.714Z"
   },
   {
    "duration": 51,
    "start_time": "2023-01-30T13:54:44.720Z"
   },
   {
    "duration": 8,
    "start_time": "2023-01-30T13:54:44.773Z"
   },
   {
    "duration": 13,
    "start_time": "2023-01-30T13:54:44.783Z"
   },
   {
    "duration": 5,
    "start_time": "2023-01-30T13:54:44.799Z"
   },
   {
    "duration": 57,
    "start_time": "2023-01-30T13:54:44.806Z"
   },
   {
    "duration": 18,
    "start_time": "2023-01-30T13:54:44.865Z"
   },
   {
    "duration": 9,
    "start_time": "2023-01-30T13:54:44.885Z"
   },
   {
    "duration": 21,
    "start_time": "2023-01-30T13:54:44.896Z"
   },
   {
    "duration": 38,
    "start_time": "2023-01-30T13:54:44.919Z"
   },
   {
    "duration": 34,
    "start_time": "2023-01-30T13:54:44.964Z"
   },
   {
    "duration": 4,
    "start_time": "2023-01-30T13:54:45.001Z"
   },
   {
    "duration": 60,
    "start_time": "2023-01-30T13:54:45.007Z"
   },
   {
    "duration": 10,
    "start_time": "2023-01-30T13:54:45.068Z"
   },
   {
    "duration": 14,
    "start_time": "2023-01-30T13:54:45.080Z"
   },
   {
    "duration": 19,
    "start_time": "2023-01-30T13:54:45.095Z"
   },
   {
    "duration": 931,
    "start_time": "2023-01-30T13:54:45.116Z"
   },
   {
    "duration": 16,
    "start_time": "2023-01-30T13:54:46.048Z"
   },
   {
    "duration": 10,
    "start_time": "2023-01-30T13:54:46.066Z"
   },
   {
    "duration": 12,
    "start_time": "2023-01-30T13:54:46.078Z"
   },
   {
    "duration": 681,
    "start_time": "2023-01-30T13:55:59.104Z"
   },
   {
    "duration": 19,
    "start_time": "2023-01-30T13:56:17.569Z"
   },
   {
    "duration": 11,
    "start_time": "2023-01-30T14:01:24.249Z"
   },
   {
    "duration": 10,
    "start_time": "2023-01-30T14:01:49.657Z"
   },
   {
    "duration": 11,
    "start_time": "2023-01-30T14:02:22.722Z"
   },
   {
    "duration": 10,
    "start_time": "2023-01-30T14:02:28.821Z"
   },
   {
    "duration": 21,
    "start_time": "2023-01-30T14:02:34.740Z"
   },
   {
    "duration": 12,
    "start_time": "2023-01-30T14:02:42.965Z"
   },
   {
    "duration": 14,
    "start_time": "2023-01-30T14:04:13.454Z"
   },
   {
    "duration": 11,
    "start_time": "2023-01-30T14:04:35.142Z"
   },
   {
    "duration": 12,
    "start_time": "2023-01-30T14:04:50.197Z"
   },
   {
    "duration": 12,
    "start_time": "2023-01-30T14:05:00.292Z"
   },
   {
    "duration": 11,
    "start_time": "2023-01-30T14:05:10.132Z"
   },
   {
    "duration": 11,
    "start_time": "2023-01-30T14:05:16.668Z"
   },
   {
    "duration": 16,
    "start_time": "2023-01-30T14:05:52.924Z"
   },
   {
    "duration": 1882,
    "start_time": "2023-01-30T14:06:00.954Z"
   },
   {
    "duration": 4,
    "start_time": "2023-01-30T14:07:51.238Z"
   },
   {
    "duration": 18,
    "start_time": "2023-01-30T14:07:59.131Z"
   },
   {
    "duration": 11,
    "start_time": "2023-01-30T14:14:10.941Z"
   },
   {
    "duration": 12,
    "start_time": "2023-01-30T14:14:25.698Z"
   },
   {
    "duration": 13,
    "start_time": "2023-01-30T14:14:48.746Z"
   },
   {
    "duration": 14,
    "start_time": "2023-01-30T14:15:26.890Z"
   },
   {
    "duration": 50,
    "start_time": "2023-02-08T10:12:49.129Z"
   },
   {
    "duration": 520,
    "start_time": "2023-02-08T10:12:56.564Z"
   },
   {
    "duration": 27,
    "start_time": "2023-02-08T10:12:57.086Z"
   },
   {
    "duration": 31,
    "start_time": "2023-02-08T10:12:57.115Z"
   },
   {
    "duration": 10,
    "start_time": "2023-02-08T10:12:57.148Z"
   },
   {
    "duration": 36,
    "start_time": "2023-02-08T10:12:57.159Z"
   },
   {
    "duration": 15,
    "start_time": "2023-02-08T10:12:57.197Z"
   },
   {
    "duration": 36,
    "start_time": "2023-02-08T10:12:57.214Z"
   },
   {
    "duration": 31,
    "start_time": "2023-02-08T10:12:57.252Z"
   },
   {
    "duration": 8,
    "start_time": "2023-02-08T10:12:57.285Z"
   },
   {
    "duration": 4,
    "start_time": "2023-02-08T10:12:57.297Z"
   },
   {
    "duration": 61,
    "start_time": "2023-02-08T10:12:57.305Z"
   },
   {
    "duration": 9,
    "start_time": "2023-02-08T10:12:57.368Z"
   },
   {
    "duration": 5,
    "start_time": "2023-02-08T10:12:57.379Z"
   },
   {
    "duration": 13,
    "start_time": "2023-02-08T10:12:57.386Z"
   },
   {
    "duration": 51,
    "start_time": "2023-02-08T10:12:57.401Z"
   },
   {
    "duration": 19,
    "start_time": "2023-02-08T10:12:57.454Z"
   },
   {
    "duration": 5,
    "start_time": "2023-02-08T10:12:57.474Z"
   },
   {
    "duration": 15,
    "start_time": "2023-02-08T10:12:57.480Z"
   },
   {
    "duration": 14,
    "start_time": "2023-02-08T10:12:57.496Z"
   },
   {
    "duration": 21,
    "start_time": "2023-02-08T10:12:57.516Z"
   },
   {
    "duration": 24,
    "start_time": "2023-02-08T10:12:57.538Z"
   },
   {
    "duration": 855,
    "start_time": "2023-02-08T10:12:57.564Z"
   },
   {
    "duration": 15,
    "start_time": "2023-02-08T10:12:58.425Z"
   },
   {
    "duration": 12,
    "start_time": "2023-02-08T10:12:58.442Z"
   },
   {
    "duration": 807,
    "start_time": "2023-02-08T10:12:58.456Z"
   },
   {
    "duration": 14,
    "start_time": "2023-02-08T10:13:36.750Z"
   },
   {
    "duration": 20,
    "start_time": "2023-02-08T10:14:34.702Z"
   },
   {
    "duration": 31,
    "start_time": "2023-02-08T10:16:19.684Z"
   },
   {
    "duration": 18,
    "start_time": "2023-02-08T10:24:32.255Z"
   },
   {
    "duration": 26,
    "start_time": "2023-02-08T10:24:49.832Z"
   },
   {
    "duration": 17,
    "start_time": "2023-02-08T10:34:01.420Z"
   },
   {
    "duration": 99,
    "start_time": "2023-02-08T10:47:51.551Z"
   },
   {
    "duration": 17,
    "start_time": "2023-02-08T10:49:37.909Z"
   },
   {
    "duration": 20,
    "start_time": "2023-02-08T10:50:05.319Z"
   },
   {
    "duration": 20,
    "start_time": "2023-02-08T10:50:36.956Z"
   },
   {
    "duration": 18,
    "start_time": "2023-02-08T10:50:45.830Z"
   },
   {
    "duration": 88,
    "start_time": "2023-02-08T12:04:57.254Z"
   },
   {
    "duration": 16,
    "start_time": "2023-02-08T12:04:57.344Z"
   },
   {
    "duration": 20,
    "start_time": "2023-02-08T12:04:57.362Z"
   },
   {
    "duration": 29,
    "start_time": "2023-02-08T12:04:57.384Z"
   },
   {
    "duration": 51,
    "start_time": "2023-02-08T12:04:57.415Z"
   },
   {
    "duration": 4,
    "start_time": "2023-02-08T12:04:57.468Z"
   },
   {
    "duration": 37,
    "start_time": "2023-02-08T12:04:57.473Z"
   },
   {
    "duration": 5,
    "start_time": "2023-02-08T12:04:57.511Z"
   },
   {
    "duration": 10,
    "start_time": "2023-02-08T12:04:57.518Z"
   },
   {
    "duration": 5,
    "start_time": "2023-02-08T12:04:57.532Z"
   },
   {
    "duration": 70,
    "start_time": "2023-02-08T12:04:57.539Z"
   },
   {
    "duration": 11,
    "start_time": "2023-02-08T12:04:57.610Z"
   },
   {
    "duration": 20,
    "start_time": "2023-02-08T12:04:57.623Z"
   },
   {
    "duration": 45,
    "start_time": "2023-02-08T12:04:57.645Z"
   },
   {
    "duration": 27,
    "start_time": "2023-02-08T12:04:57.692Z"
   },
   {
    "duration": 25,
    "start_time": "2023-02-08T12:04:57.721Z"
   },
   {
    "duration": 5,
    "start_time": "2023-02-08T12:04:57.748Z"
   },
   {
    "duration": 24,
    "start_time": "2023-02-08T12:04:57.755Z"
   },
   {
    "duration": 23,
    "start_time": "2023-02-08T12:04:57.781Z"
   },
   {
    "duration": 6,
    "start_time": "2023-02-08T12:04:57.806Z"
   },
   {
    "duration": 18,
    "start_time": "2023-02-08T12:04:57.814Z"
   },
   {
    "duration": 17,
    "start_time": "2023-02-08T12:04:57.834Z"
   },
   {
    "duration": 13,
    "start_time": "2023-02-08T12:04:57.853Z"
   },
   {
    "duration": 46,
    "start_time": "2023-02-08T12:04:57.867Z"
   },
   {
    "duration": 81,
    "start_time": "2023-02-08T12:04:57.915Z"
   },
   {
    "duration": 22,
    "start_time": "2023-02-08T12:05:54.709Z"
   },
   {
    "duration": 23,
    "start_time": "2023-02-08T12:06:43.084Z"
   },
   {
    "duration": 42,
    "start_time": "2023-02-08T12:07:12.533Z"
   },
   {
    "duration": 38,
    "start_time": "2023-02-08T12:07:38.877Z"
   },
   {
    "duration": 27,
    "start_time": "2023-02-08T12:07:51.308Z"
   },
   {
    "duration": 25,
    "start_time": "2023-02-08T12:09:00.757Z"
   },
   {
    "duration": 22,
    "start_time": "2023-02-08T12:09:25.691Z"
   },
   {
    "duration": 26,
    "start_time": "2023-02-08T12:10:56.996Z"
   },
   {
    "duration": 1521,
    "start_time": "2023-02-08T12:11:06.801Z"
   },
   {
    "duration": 1231,
    "start_time": "2023-02-08T12:11:45.380Z"
   },
   {
    "duration": 1384,
    "start_time": "2023-02-08T12:14:10.270Z"
   },
   {
    "duration": 26,
    "start_time": "2023-02-08T12:14:35.430Z"
   },
   {
    "duration": 29,
    "start_time": "2023-02-08T12:14:45.870Z"
   },
   {
    "duration": 31,
    "start_time": "2023-02-08T12:14:58.786Z"
   },
   {
    "duration": 20,
    "start_time": "2023-02-08T12:45:36.783Z"
   },
   {
    "duration": 317,
    "start_time": "2023-02-08T12:54:52.978Z"
   },
   {
    "duration": 12,
    "start_time": "2023-02-08T12:55:20.982Z"
   },
   {
    "duration": 20,
    "start_time": "2023-02-08T13:00:39.015Z"
   },
   {
    "duration": 12,
    "start_time": "2023-02-08T13:00:48.624Z"
   },
   {
    "duration": 16,
    "start_time": "2023-02-08T13:02:57.263Z"
   },
   {
    "duration": 16,
    "start_time": "2023-02-08T13:03:26.868Z"
   },
   {
    "duration": 483,
    "start_time": "2023-02-09T05:39:38.544Z"
   },
   {
    "duration": 20,
    "start_time": "2023-02-09T05:39:39.029Z"
   },
   {
    "duration": 12,
    "start_time": "2023-02-09T05:39:39.051Z"
   },
   {
    "duration": 14,
    "start_time": "2023-02-09T05:39:39.065Z"
   },
   {
    "duration": 35,
    "start_time": "2023-02-09T05:39:39.080Z"
   },
   {
    "duration": 3,
    "start_time": "2023-02-09T05:39:39.117Z"
   },
   {
    "duration": 11,
    "start_time": "2023-02-09T05:39:39.121Z"
   },
   {
    "duration": 3,
    "start_time": "2023-02-09T05:39:39.133Z"
   },
   {
    "duration": 7,
    "start_time": "2023-02-09T05:39:39.138Z"
   },
   {
    "duration": 4,
    "start_time": "2023-02-09T05:39:39.148Z"
   },
   {
    "duration": 30,
    "start_time": "2023-02-09T05:39:39.153Z"
   },
   {
    "duration": 32,
    "start_time": "2023-02-09T05:39:39.184Z"
   },
   {
    "duration": 7,
    "start_time": "2023-02-09T05:39:39.218Z"
   },
   {
    "duration": 11,
    "start_time": "2023-02-09T05:39:39.226Z"
   },
   {
    "duration": 18,
    "start_time": "2023-02-09T05:39:39.238Z"
   },
   {
    "duration": 16,
    "start_time": "2023-02-09T05:39:39.257Z"
   },
   {
    "duration": 4,
    "start_time": "2023-02-09T05:39:39.274Z"
   },
   {
    "duration": 38,
    "start_time": "2023-02-09T05:39:39.279Z"
   },
   {
    "duration": 6,
    "start_time": "2023-02-09T05:39:39.321Z"
   },
   {
    "duration": 4,
    "start_time": "2023-02-09T05:39:39.328Z"
   },
   {
    "duration": 17,
    "start_time": "2023-02-09T05:39:39.333Z"
   },
   {
    "duration": 937,
    "start_time": "2023-02-09T05:39:39.351Z"
   },
   {
    "duration": 21,
    "start_time": "2023-02-09T05:39:40.289Z"
   },
   {
    "duration": 11,
    "start_time": "2023-02-09T05:39:40.311Z"
   },
   {
    "duration": 130,
    "start_time": "2023-02-09T05:39:40.323Z"
   },
   {
    "duration": 13,
    "start_time": "2023-02-09T05:41:43.349Z"
   },
   {
    "duration": 16,
    "start_time": "2023-02-09T05:41:59.087Z"
   },
   {
    "duration": 15,
    "start_time": "2023-02-09T05:46:29.590Z"
   },
   {
    "duration": 11,
    "start_time": "2023-02-09T05:46:54.165Z"
   },
   {
    "duration": 11,
    "start_time": "2023-02-09T05:47:01.509Z"
   },
   {
    "duration": 15,
    "start_time": "2023-02-09T05:47:14.181Z"
   },
   {
    "duration": 15,
    "start_time": "2023-02-09T05:47:38.845Z"
   },
   {
    "duration": 16,
    "start_time": "2023-02-09T05:49:54.813Z"
   },
   {
    "duration": 16,
    "start_time": "2023-02-09T05:50:42.365Z"
   },
   {
    "duration": 18,
    "start_time": "2023-02-09T05:50:53.708Z"
   },
   {
    "duration": 77,
    "start_time": "2023-02-09T05:52:20.133Z"
   },
   {
    "duration": 19,
    "start_time": "2023-02-09T05:53:15.189Z"
   },
   {
    "duration": 19,
    "start_time": "2023-02-09T05:53:27.982Z"
   },
   {
    "duration": 17,
    "start_time": "2023-02-09T05:57:08.700Z"
   },
   {
    "duration": 19,
    "start_time": "2023-02-09T05:58:01.717Z"
   },
   {
    "duration": 15,
    "start_time": "2023-02-09T05:59:29.986Z"
   },
   {
    "duration": 12,
    "start_time": "2023-02-09T06:01:55.363Z"
   },
   {
    "duration": 15,
    "start_time": "2023-02-09T06:02:27.842Z"
   },
   {
    "duration": 14,
    "start_time": "2023-02-09T06:03:08.721Z"
   },
   {
    "duration": 19,
    "start_time": "2023-02-09T06:03:55.305Z"
   },
   {
    "duration": 16,
    "start_time": "2023-02-09T06:04:22.033Z"
   },
   {
    "duration": 480,
    "start_time": "2023-02-09T15:40:36.704Z"
   },
   {
    "duration": 21,
    "start_time": "2023-02-09T15:40:37.185Z"
   },
   {
    "duration": 28,
    "start_time": "2023-02-09T15:40:37.208Z"
   },
   {
    "duration": 19,
    "start_time": "2023-02-09T15:40:37.238Z"
   },
   {
    "duration": 33,
    "start_time": "2023-02-09T15:40:37.259Z"
   },
   {
    "duration": 3,
    "start_time": "2023-02-09T15:40:37.293Z"
   },
   {
    "duration": 13,
    "start_time": "2023-02-09T15:40:37.297Z"
   },
   {
    "duration": 6,
    "start_time": "2023-02-09T15:40:37.312Z"
   },
   {
    "duration": 13,
    "start_time": "2023-02-09T15:40:37.320Z"
   },
   {
    "duration": 19,
    "start_time": "2023-02-09T15:40:37.336Z"
   },
   {
    "duration": 35,
    "start_time": "2023-02-09T15:40:37.356Z"
   },
   {
    "duration": 9,
    "start_time": "2023-02-09T15:40:37.392Z"
   },
   {
    "duration": 10,
    "start_time": "2023-02-09T15:40:37.402Z"
   },
   {
    "duration": 18,
    "start_time": "2023-02-09T15:40:37.413Z"
   },
   {
    "duration": 29,
    "start_time": "2023-02-09T15:40:37.432Z"
   },
   {
    "duration": 16,
    "start_time": "2023-02-09T15:40:37.462Z"
   },
   {
    "duration": 3,
    "start_time": "2023-02-09T15:40:37.480Z"
   },
   {
    "duration": 15,
    "start_time": "2023-02-09T15:40:37.484Z"
   },
   {
    "duration": 17,
    "start_time": "2023-02-09T15:40:37.500Z"
   },
   {
    "duration": 4,
    "start_time": "2023-02-09T15:40:37.518Z"
   },
   {
    "duration": 30,
    "start_time": "2023-02-09T15:40:37.523Z"
   },
   {
    "duration": 13,
    "start_time": "2023-02-09T15:40:37.554Z"
   },
   {
    "duration": 19,
    "start_time": "2023-02-09T15:40:37.569Z"
   },
   {
    "duration": 16,
    "start_time": "2023-02-09T15:40:37.590Z"
   },
   {
    "duration": 16,
    "start_time": "2023-02-09T15:40:37.609Z"
   }
  ],
  "colab": {
   "name": "dpp_template_part2.ipynb",
   "provenance": []
  },
  "kernelspec": {
   "display_name": "Python 3 (ipykernel)",
   "language": "python",
   "name": "python3"
  },
  "language_info": {
   "codemirror_mode": {
    "name": "ipython",
    "version": 3
   },
   "file_extension": ".py",
   "mimetype": "text/x-python",
   "name": "python",
   "nbconvert_exporter": "python",
   "pygments_lexer": "ipython3",
   "version": "3.9.5"
  },
  "toc": {
   "base_numbering": 1,
   "nav_menu": {},
   "number_sections": true,
   "sideBar": true,
   "skip_h1_title": true,
   "title_cell": "Table of Contents",
   "title_sidebar": "Contents",
   "toc_cell": false,
   "toc_position": {},
   "toc_section_display": true,
   "toc_window_display": true
  }
 },
 "nbformat": 4,
 "nbformat_minor": 5
}
