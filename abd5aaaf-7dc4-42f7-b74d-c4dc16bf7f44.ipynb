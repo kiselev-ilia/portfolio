{
 "cells": [
  {
   "cell_type": "markdown",
   "metadata": {},
   "source": [
    "<div style=\"border:solid Chocolate 2px; padding: 40px\">\n",
    " \n",
    "<b> Илья, привет!👋</b>  \n",
    "\n",
    "Меня зовут Кирилл Васильев, я буду ревьюером твоего проекта. Я предлагаю общаться на «ты», но если привычнее на «вы», просто скажи об этом! \n",
    "\n",
    "Я буду оставлять комментарии в твоем проекте. Пожалуйста, не удаляй их, они могут быть полезны в случае повторной проверки.\n",
    "\n",
    "Свои комментарии я буду обозначать <font color='green'>зеленым</font>, <font color='gold'>желтым</font> и <font color='red'>красным</font> цветами, например:\n",
    "  \n",
    "<br/>\n",
    "\n",
    "<div class=\"alert alert-success\">\n",
    "<h2> Комментарий ревьюера <a class=\"tocSkip\"> </h2>\n",
    "\n",
    "<b>Все отлично!👍:</b> В случае, если решение на отдельном шаге является полностью правильным. Здесь же я могу давать советы и предложения.\n",
    "</div>\n",
    "\n",
    "<br/>\n",
    "\n",
    "<div class=\"alert alert-warning\">\n",
    "    <h2> Комментарий ревьюера <a class=\"tocSkip\"> </h2>\n",
    "    \n",
    "<b>Некоторые замечания и рекомендации💡:</b> В случае, когда решение на отдельном шаге станет еще лучше, если внести небольшие коррективы.\n",
    "</div>\n",
    "\n",
    "\n",
    "<br/>\n",
    "<div class=\"alert alert-block alert-danger\">\n",
    "<h2> Комментарий ревьюера <a class=\"tocSkip\"></h2>\n",
    "\n",
    "     \n",
    "<b>На доработку🤔:</b>\n",
    " В случае, когда решение на отдельном шаге требует существенной переработки и внесения правок. Напоминаю, что проект не может быть принят с первого раза, если ревью содержит комментарии, рекомендующие доработать шаги.\n",
    "</div>\n",
    "\n",
    "<br/>\n",
    "<div class=\"alert alert-info\">\n",
    "Рекомендую для твоих комментариев использовать синий или любой другой цветной фон. Я постараюсь ничего не пропустить, но если комментарии будут выделены, то это мне очень поможет!\n",
    "</div>\n",
    "    \n",
    "Увидев у тебя неточность, в первый раз я лишь укажу на ее наличие и дам тебе возможность самостоятельно найти и исправить ее. На реальной работе твой руководитель будет поступать также. Но если ты пока не справишься с такой задачей - при следующей проверке я дам более точную подсказку."
   ]
  },
  {
   "cell_type": "markdown",
   "metadata": {
    "toc": true
   },
   "source": [
    "<h1>Содержание<span class=\"tocSkip\"></span></h1>\n",
    "<div class=\"toc\"><ul class=\"toc-item\"><li><span><a href=\"#Подготовка-данных\" data-toc-modified-id=\"Подготовка-данных-1\"><span class=\"toc-item-num\">1&nbsp;&nbsp;</span>Подготовка данных</a></span></li><li><span><a href=\"#Исследование-задачи\" data-toc-modified-id=\"Исследование-задачи-2\"><span class=\"toc-item-num\">2&nbsp;&nbsp;</span>Исследование задачи</a></span></li><li><span><a href=\"#Борьба-с-дисбалансом\" data-toc-modified-id=\"Борьба-с-дисбалансом-3\"><span class=\"toc-item-num\">3&nbsp;&nbsp;</span>Борьба с дисбалансом</a></span></li><li><span><a href=\"#Проверяем-модель-на-тестовой-выборке\" data-toc-modified-id=\"Проверяем-модель-на-тестовой-выборке-4\"><span class=\"toc-item-num\">4&nbsp;&nbsp;</span>Проверяем модель на тестовой выборке</a></span></li><li><span><a href=\"#Чек-лист-готовности-проекта\" data-toc-modified-id=\"Чек-лист-готовности-проекта-5\"><span class=\"toc-item-num\">5&nbsp;&nbsp;</span>Чек-лист готовности проекта</a></span></li></ul></div>"
   ]
  },
  {
   "cell_type": "markdown",
   "metadata": {},
   "source": [
    "# Отток клиентов"
   ]
  },
  {
   "cell_type": "markdown",
   "metadata": {},
   "source": [
    "Из «Бета-Банка» стали уходить клиенты. Каждый месяц. Немного, но заметно. Банковские маркетологи посчитали: сохранять текущих клиентов дешевле, чем привлекать новых.\n",
    "\n",
    "Нужно спрогнозировать, уйдёт клиент из банка в ближайшее время или нет. Вам предоставлены исторические данные о поведении клиентов и расторжении договоров с банком. \n",
    "\n",
    "Постройте модель с предельно большим значением *F1*-меры. Чтобы сдать проект успешно, нужно довести метрику до 0.59. Проверьте *F1*-меру на тестовой выборке самостоятельно.\n",
    "\n",
    "Дополнительно измеряйте *AUC-ROC*, сравнивайте её значение с *F1*-мерой.\n",
    "\n",
    "Источник данных: [https://www.kaggle.com/barelydedicated/bank-customer-churn-modeling](https://www.kaggle.com/barelydedicated/bank-customer-churn-modeling)"
   ]
  },
  {
   "cell_type": "code",
   "execution_count": 1,
   "metadata": {},
   "outputs": [],
   "source": [
    "import pandas as pd\n",
    "from catboost import CatBoostRegressor\n",
    "from sklearn.model_selection import train_test_split\n",
    "from sklearn.metrics import mean_squared_error\n",
    "from lightgbm import LGBMRegressor\n",
    "import timeit\n",
    "from sklearn.dummy import DummyRegressor\n",
    "from sklearn.linear_model import LinearRegression\n",
    "from sklearn.model_selection import GridSearchCV"
   ]
  },
  {
   "cell_type": "code",
   "execution_count": 2,
   "metadata": {},
   "outputs": [
    {
     "name": "stdout",
     "output_type": "stream",
     "text": [
      "<class 'pandas.core.frame.DataFrame'>\n",
      "RangeIndex: 354369 entries, 0 to 354368\n",
      "Data columns (total 16 columns):\n",
      " #   Column             Non-Null Count   Dtype \n",
      "---  ------             --------------   ----- \n",
      " 0   DateCrawled        354369 non-null  object\n",
      " 1   Price              354369 non-null  int64 \n",
      " 2   VehicleType        316879 non-null  object\n",
      " 3   RegistrationYear   354369 non-null  int64 \n",
      " 4   Gearbox            334536 non-null  object\n",
      " 5   Power              354369 non-null  int64 \n",
      " 6   Model              334664 non-null  object\n",
      " 7   Kilometer          354369 non-null  int64 \n",
      " 8   RegistrationMonth  354369 non-null  int64 \n",
      " 9   FuelType           321474 non-null  object\n",
      " 10  Brand              354369 non-null  object\n",
      " 11  Repaired           283215 non-null  object\n",
      " 12  DateCreated        354369 non-null  object\n",
      " 13  NumberOfPictures   354369 non-null  int64 \n",
      " 14  PostalCode         354369 non-null  int64 \n",
      " 15  LastSeen           354369 non-null  object\n",
      "dtypes: int64(7), object(9)\n",
      "memory usage: 43.3+ MB\n"
     ]
    }
   ],
   "source": [
    "data = pd.read_csv('/datasets/autos.csv')\n",
    "data.info()"
   ]
  },
  {
   "cell_type": "code",
   "execution_count": 3,
   "metadata": {},
   "outputs": [],
   "source": [
    "data['time_in_use'] = pd.DatetimeIndex(data['DateCreated']).year - data['RegistrationYear']"
   ]
  },
  {
   "cell_type": "code",
   "execution_count": 4,
   "metadata": {},
   "outputs": [
    {
     "data": {
      "text/html": [
       "<div>\n",
       "<style scoped>\n",
       "    .dataframe tbody tr th:only-of-type {\n",
       "        vertical-align: middle;\n",
       "    }\n",
       "\n",
       "    .dataframe tbody tr th {\n",
       "        vertical-align: top;\n",
       "    }\n",
       "\n",
       "    .dataframe thead th {\n",
       "        text-align: right;\n",
       "    }\n",
       "</style>\n",
       "<table border=\"1\" class=\"dataframe\">\n",
       "  <thead>\n",
       "    <tr style=\"text-align: right;\">\n",
       "      <th></th>\n",
       "      <th>Price</th>\n",
       "      <th>RegistrationYear</th>\n",
       "      <th>Power</th>\n",
       "      <th>Kilometer</th>\n",
       "      <th>RegistrationMonth</th>\n",
       "      <th>NumberOfPictures</th>\n",
       "      <th>PostalCode</th>\n",
       "      <th>time_in_use</th>\n",
       "    </tr>\n",
       "  </thead>\n",
       "  <tbody>\n",
       "    <tr>\n",
       "      <th>count</th>\n",
       "      <td>354369.000000</td>\n",
       "      <td>354369.000000</td>\n",
       "      <td>354369.000000</td>\n",
       "      <td>354369.000000</td>\n",
       "      <td>354369.000000</td>\n",
       "      <td>354369.0</td>\n",
       "      <td>354369.000000</td>\n",
       "      <td>354369.000000</td>\n",
       "    </tr>\n",
       "    <tr>\n",
       "      <th>mean</th>\n",
       "      <td>4416.656776</td>\n",
       "      <td>2004.234448</td>\n",
       "      <td>110.094337</td>\n",
       "      <td>128211.172535</td>\n",
       "      <td>5.714645</td>\n",
       "      <td>0.0</td>\n",
       "      <td>50508.689087</td>\n",
       "      <td>11.765476</td>\n",
       "    </tr>\n",
       "    <tr>\n",
       "      <th>std</th>\n",
       "      <td>4514.158514</td>\n",
       "      <td>90.227958</td>\n",
       "      <td>189.850405</td>\n",
       "      <td>37905.341530</td>\n",
       "      <td>3.726421</td>\n",
       "      <td>0.0</td>\n",
       "      <td>25783.096248</td>\n",
       "      <td>90.227958</td>\n",
       "    </tr>\n",
       "    <tr>\n",
       "      <th>min</th>\n",
       "      <td>0.000000</td>\n",
       "      <td>1000.000000</td>\n",
       "      <td>0.000000</td>\n",
       "      <td>5000.000000</td>\n",
       "      <td>0.000000</td>\n",
       "      <td>0.0</td>\n",
       "      <td>1067.000000</td>\n",
       "      <td>-7983.000000</td>\n",
       "    </tr>\n",
       "    <tr>\n",
       "      <th>25%</th>\n",
       "      <td>1050.000000</td>\n",
       "      <td>1999.000000</td>\n",
       "      <td>69.000000</td>\n",
       "      <td>125000.000000</td>\n",
       "      <td>3.000000</td>\n",
       "      <td>0.0</td>\n",
       "      <td>30165.000000</td>\n",
       "      <td>8.000000</td>\n",
       "    </tr>\n",
       "    <tr>\n",
       "      <th>50%</th>\n",
       "      <td>2700.000000</td>\n",
       "      <td>2003.000000</td>\n",
       "      <td>105.000000</td>\n",
       "      <td>150000.000000</td>\n",
       "      <td>6.000000</td>\n",
       "      <td>0.0</td>\n",
       "      <td>49413.000000</td>\n",
       "      <td>13.000000</td>\n",
       "    </tr>\n",
       "    <tr>\n",
       "      <th>75%</th>\n",
       "      <td>6400.000000</td>\n",
       "      <td>2008.000000</td>\n",
       "      <td>143.000000</td>\n",
       "      <td>150000.000000</td>\n",
       "      <td>9.000000</td>\n",
       "      <td>0.0</td>\n",
       "      <td>71083.000000</td>\n",
       "      <td>17.000000</td>\n",
       "    </tr>\n",
       "    <tr>\n",
       "      <th>max</th>\n",
       "      <td>20000.000000</td>\n",
       "      <td>9999.000000</td>\n",
       "      <td>20000.000000</td>\n",
       "      <td>150000.000000</td>\n",
       "      <td>12.000000</td>\n",
       "      <td>0.0</td>\n",
       "      <td>99998.000000</td>\n",
       "      <td>1016.000000</td>\n",
       "    </tr>\n",
       "  </tbody>\n",
       "</table>\n",
       "</div>"
      ],
      "text/plain": [
       "               Price  RegistrationYear          Power      Kilometer  \\\n",
       "count  354369.000000     354369.000000  354369.000000  354369.000000   \n",
       "mean     4416.656776       2004.234448     110.094337  128211.172535   \n",
       "std      4514.158514         90.227958     189.850405   37905.341530   \n",
       "min         0.000000       1000.000000       0.000000    5000.000000   \n",
       "25%      1050.000000       1999.000000      69.000000  125000.000000   \n",
       "50%      2700.000000       2003.000000     105.000000  150000.000000   \n",
       "75%      6400.000000       2008.000000     143.000000  150000.000000   \n",
       "max     20000.000000       9999.000000   20000.000000  150000.000000   \n",
       "\n",
       "       RegistrationMonth  NumberOfPictures     PostalCode    time_in_use  \n",
       "count      354369.000000          354369.0  354369.000000  354369.000000  \n",
       "mean            5.714645               0.0   50508.689087      11.765476  \n",
       "std             3.726421               0.0   25783.096248      90.227958  \n",
       "min             0.000000               0.0    1067.000000   -7983.000000  \n",
       "25%             3.000000               0.0   30165.000000       8.000000  \n",
       "50%             6.000000               0.0   49413.000000      13.000000  \n",
       "75%             9.000000               0.0   71083.000000      17.000000  \n",
       "max            12.000000               0.0   99998.000000    1016.000000  "
      ]
     },
     "execution_count": 4,
     "metadata": {},
     "output_type": "execute_result"
    }
   ],
   "source": [
    "data.describe()"
   ]
  },
  {
   "cell_type": "code",
   "execution_count": 5,
   "metadata": {},
   "outputs": [],
   "source": [
    "data = data.drop(data[data['time_in_use']<0].index)"
   ]
  },
  {
   "cell_type": "code",
   "execution_count": 6,
   "metadata": {},
   "outputs": [],
   "source": [
    "data = data.drop(data[data['RegistrationYear'] <1920].index)"
   ]
  },
  {
   "cell_type": "code",
   "execution_count": 7,
   "metadata": {},
   "outputs": [],
   "source": [
    "data = data.drop(data[data['RegistrationYear'] > 2020].index)"
   ]
  },
  {
   "cell_type": "code",
   "execution_count": 8,
   "metadata": {},
   "outputs": [
    {
     "data": {
      "text/plain": [
       "count    339670.000000\n",
       "mean       4472.568290\n",
       "std        4546.110422\n",
       "min           0.000000\n",
       "25%        1100.000000\n",
       "50%        2799.000000\n",
       "75%        6500.000000\n",
       "max       20000.000000\n",
       "Name: Price, dtype: float64"
      ]
     },
     "execution_count": 8,
     "metadata": {},
     "output_type": "execute_result"
    }
   ],
   "source": [
    "data['Price'].describe()"
   ]
  },
  {
   "cell_type": "code",
   "execution_count": 9,
   "metadata": {},
   "outputs": [],
   "source": [
    "data = data.drop(data[data['Price']<200].index)"
   ]
  },
  {
   "cell_type": "code",
   "execution_count": 12,
   "metadata": {},
   "outputs": [
    {
     "name": "stdout",
     "output_type": "stream",
     "text": [
      "<class 'pandas.core.frame.DataFrame'>\n",
      "Int64Index: 323224 entries, 0 to 354368\n",
      "Data columns (total 17 columns):\n",
      " #   Column             Non-Null Count   Dtype \n",
      "---  ------             --------------   ----- \n",
      " 0   DateCrawled        323224 non-null  object\n",
      " 1   Price              323224 non-null  int64 \n",
      " 2   VehicleType        323224 non-null  object\n",
      " 3   RegistrationYear   323224 non-null  int64 \n",
      " 4   Gearbox            323224 non-null  object\n",
      " 5   Power              323224 non-null  int64 \n",
      " 6   Model              323224 non-null  object\n",
      " 7   Kilometer          323224 non-null  int64 \n",
      " 8   RegistrationMonth  323224 non-null  int64 \n",
      " 9   FuelType           323224 non-null  object\n",
      " 10  Brand              323224 non-null  object\n",
      " 11  Repaired           323224 non-null  object\n",
      " 12  DateCreated        323224 non-null  object\n",
      " 13  NumberOfPictures   323224 non-null  int64 \n",
      " 14  PostalCode         323224 non-null  int64 \n",
      " 15  LastSeen           323224 non-null  object\n",
      " 16  time_in_use        323224 non-null  int64 \n",
      "dtypes: int64(8), object(9)\n",
      "memory usage: 44.4+ MB\n"
     ]
    }
   ],
   "source": [
    "data['Repaired'] = data['Repaired'].fillna('no_info' )\n",
    "data['FuelType'] = data['FuelType'].fillna('no_info' )\n",
    "data['VehicleType'] = data['FuelType'].fillna('no_info' )\n",
    "data['Gearbox'] = data['Gearbox'].fillna('no_info' )\n",
    "data['Model'] = data['Model'].fillna('no_info' )\n",
    "features_no_ohe = data[['RegistrationYear','Power','Kilometer','RegistrationMonth','NumberOfPictures','time_in_use','VehicleType','Gearbox','Model','FuelType','Brand','Repaired']]\n",
    "target_no_ohe = data['Price']\n",
    "data.info()"
   ]
  },
  {
   "cell_type": "code",
   "execution_count": 13,
   "metadata": {},
   "outputs": [
    {
     "data": {
      "text/html": [
       "<div>\n",
       "<style scoped>\n",
       "    .dataframe tbody tr th:only-of-type {\n",
       "        vertical-align: middle;\n",
       "    }\n",
       "\n",
       "    .dataframe tbody tr th {\n",
       "        vertical-align: top;\n",
       "    }\n",
       "\n",
       "    .dataframe thead th {\n",
       "        text-align: right;\n",
       "    }\n",
       "</style>\n",
       "<table border=\"1\" class=\"dataframe\">\n",
       "  <thead>\n",
       "    <tr style=\"text-align: right;\">\n",
       "      <th></th>\n",
       "      <th>DateCrawled</th>\n",
       "      <th>Price</th>\n",
       "      <th>VehicleType</th>\n",
       "      <th>RegistrationYear</th>\n",
       "      <th>Gearbox</th>\n",
       "      <th>Power</th>\n",
       "      <th>Model</th>\n",
       "      <th>Kilometer</th>\n",
       "      <th>RegistrationMonth</th>\n",
       "      <th>FuelType</th>\n",
       "      <th>...</th>\n",
       "      <th>Brand_smart</th>\n",
       "      <th>Brand_sonstige_autos</th>\n",
       "      <th>Brand_subaru</th>\n",
       "      <th>Brand_suzuki</th>\n",
       "      <th>Brand_toyota</th>\n",
       "      <th>Brand_trabant</th>\n",
       "      <th>Brand_volkswagen</th>\n",
       "      <th>Brand_volvo</th>\n",
       "      <th>Repaired_no_info</th>\n",
       "      <th>Repaired_yes</th>\n",
       "    </tr>\n",
       "  </thead>\n",
       "  <tbody>\n",
       "    <tr>\n",
       "      <th>0</th>\n",
       "      <td>2016-03-24 11:52:17</td>\n",
       "      <td>480</td>\n",
       "      <td>petrol</td>\n",
       "      <td>1993</td>\n",
       "      <td>manual</td>\n",
       "      <td>0</td>\n",
       "      <td>golf</td>\n",
       "      <td>150000</td>\n",
       "      <td>0</td>\n",
       "      <td>petrol</td>\n",
       "      <td>...</td>\n",
       "      <td>0</td>\n",
       "      <td>0</td>\n",
       "      <td>0</td>\n",
       "      <td>0</td>\n",
       "      <td>0</td>\n",
       "      <td>0</td>\n",
       "      <td>1</td>\n",
       "      <td>0</td>\n",
       "      <td>1</td>\n",
       "      <td>0</td>\n",
       "    </tr>\n",
       "    <tr>\n",
       "      <th>1</th>\n",
       "      <td>2016-03-24 10:58:45</td>\n",
       "      <td>18300</td>\n",
       "      <td>gasoline</td>\n",
       "      <td>2011</td>\n",
       "      <td>manual</td>\n",
       "      <td>190</td>\n",
       "      <td>no_info</td>\n",
       "      <td>125000</td>\n",
       "      <td>5</td>\n",
       "      <td>gasoline</td>\n",
       "      <td>...</td>\n",
       "      <td>0</td>\n",
       "      <td>0</td>\n",
       "      <td>0</td>\n",
       "      <td>0</td>\n",
       "      <td>0</td>\n",
       "      <td>0</td>\n",
       "      <td>0</td>\n",
       "      <td>0</td>\n",
       "      <td>0</td>\n",
       "      <td>1</td>\n",
       "    </tr>\n",
       "    <tr>\n",
       "      <th>2</th>\n",
       "      <td>2016-03-14 12:52:21</td>\n",
       "      <td>9800</td>\n",
       "      <td>gasoline</td>\n",
       "      <td>2004</td>\n",
       "      <td>auto</td>\n",
       "      <td>163</td>\n",
       "      <td>grand</td>\n",
       "      <td>125000</td>\n",
       "      <td>8</td>\n",
       "      <td>gasoline</td>\n",
       "      <td>...</td>\n",
       "      <td>0</td>\n",
       "      <td>0</td>\n",
       "      <td>0</td>\n",
       "      <td>0</td>\n",
       "      <td>0</td>\n",
       "      <td>0</td>\n",
       "      <td>0</td>\n",
       "      <td>0</td>\n",
       "      <td>1</td>\n",
       "      <td>0</td>\n",
       "    </tr>\n",
       "    <tr>\n",
       "      <th>3</th>\n",
       "      <td>2016-03-17 16:54:04</td>\n",
       "      <td>1500</td>\n",
       "      <td>petrol</td>\n",
       "      <td>2001</td>\n",
       "      <td>manual</td>\n",
       "      <td>75</td>\n",
       "      <td>golf</td>\n",
       "      <td>150000</td>\n",
       "      <td>6</td>\n",
       "      <td>petrol</td>\n",
       "      <td>...</td>\n",
       "      <td>0</td>\n",
       "      <td>0</td>\n",
       "      <td>0</td>\n",
       "      <td>0</td>\n",
       "      <td>0</td>\n",
       "      <td>0</td>\n",
       "      <td>1</td>\n",
       "      <td>0</td>\n",
       "      <td>0</td>\n",
       "      <td>0</td>\n",
       "    </tr>\n",
       "    <tr>\n",
       "      <th>4</th>\n",
       "      <td>2016-03-31 17:25:20</td>\n",
       "      <td>3600</td>\n",
       "      <td>gasoline</td>\n",
       "      <td>2008</td>\n",
       "      <td>manual</td>\n",
       "      <td>69</td>\n",
       "      <td>fabia</td>\n",
       "      <td>90000</td>\n",
       "      <td>7</td>\n",
       "      <td>gasoline</td>\n",
       "      <td>...</td>\n",
       "      <td>0</td>\n",
       "      <td>0</td>\n",
       "      <td>0</td>\n",
       "      <td>0</td>\n",
       "      <td>0</td>\n",
       "      <td>0</td>\n",
       "      <td>0</td>\n",
       "      <td>0</td>\n",
       "      <td>0</td>\n",
       "      <td>0</td>\n",
       "    </tr>\n",
       "    <tr>\n",
       "      <th>...</th>\n",
       "      <td>...</td>\n",
       "      <td>...</td>\n",
       "      <td>...</td>\n",
       "      <td>...</td>\n",
       "      <td>...</td>\n",
       "      <td>...</td>\n",
       "      <td>...</td>\n",
       "      <td>...</td>\n",
       "      <td>...</td>\n",
       "      <td>...</td>\n",
       "      <td>...</td>\n",
       "      <td>...</td>\n",
       "      <td>...</td>\n",
       "      <td>...</td>\n",
       "      <td>...</td>\n",
       "      <td>...</td>\n",
       "      <td>...</td>\n",
       "      <td>...</td>\n",
       "      <td>...</td>\n",
       "      <td>...</td>\n",
       "      <td>...</td>\n",
       "    </tr>\n",
       "    <tr>\n",
       "      <th>354363</th>\n",
       "      <td>2016-03-27 20:36:20</td>\n",
       "      <td>1150</td>\n",
       "      <td>petrol</td>\n",
       "      <td>2000</td>\n",
       "      <td>manual</td>\n",
       "      <td>0</td>\n",
       "      <td>zafira</td>\n",
       "      <td>150000</td>\n",
       "      <td>3</td>\n",
       "      <td>petrol</td>\n",
       "      <td>...</td>\n",
       "      <td>0</td>\n",
       "      <td>0</td>\n",
       "      <td>0</td>\n",
       "      <td>0</td>\n",
       "      <td>0</td>\n",
       "      <td>0</td>\n",
       "      <td>0</td>\n",
       "      <td>0</td>\n",
       "      <td>0</td>\n",
       "      <td>0</td>\n",
       "    </tr>\n",
       "    <tr>\n",
       "      <th>354365</th>\n",
       "      <td>2016-03-14 17:48:27</td>\n",
       "      <td>2200</td>\n",
       "      <td>no_info</td>\n",
       "      <td>2005</td>\n",
       "      <td>no_info</td>\n",
       "      <td>0</td>\n",
       "      <td>no_info</td>\n",
       "      <td>20000</td>\n",
       "      <td>1</td>\n",
       "      <td>no_info</td>\n",
       "      <td>...</td>\n",
       "      <td>0</td>\n",
       "      <td>1</td>\n",
       "      <td>0</td>\n",
       "      <td>0</td>\n",
       "      <td>0</td>\n",
       "      <td>0</td>\n",
       "      <td>0</td>\n",
       "      <td>0</td>\n",
       "      <td>1</td>\n",
       "      <td>0</td>\n",
       "    </tr>\n",
       "    <tr>\n",
       "      <th>354366</th>\n",
       "      <td>2016-03-05 19:56:21</td>\n",
       "      <td>1199</td>\n",
       "      <td>petrol</td>\n",
       "      <td>2000</td>\n",
       "      <td>auto</td>\n",
       "      <td>101</td>\n",
       "      <td>fortwo</td>\n",
       "      <td>125000</td>\n",
       "      <td>3</td>\n",
       "      <td>petrol</td>\n",
       "      <td>...</td>\n",
       "      <td>1</td>\n",
       "      <td>0</td>\n",
       "      <td>0</td>\n",
       "      <td>0</td>\n",
       "      <td>0</td>\n",
       "      <td>0</td>\n",
       "      <td>0</td>\n",
       "      <td>0</td>\n",
       "      <td>0</td>\n",
       "      <td>0</td>\n",
       "    </tr>\n",
       "    <tr>\n",
       "      <th>354367</th>\n",
       "      <td>2016-03-19 18:57:12</td>\n",
       "      <td>9200</td>\n",
       "      <td>gasoline</td>\n",
       "      <td>1996</td>\n",
       "      <td>manual</td>\n",
       "      <td>102</td>\n",
       "      <td>transporter</td>\n",
       "      <td>150000</td>\n",
       "      <td>3</td>\n",
       "      <td>gasoline</td>\n",
       "      <td>...</td>\n",
       "      <td>0</td>\n",
       "      <td>0</td>\n",
       "      <td>0</td>\n",
       "      <td>0</td>\n",
       "      <td>0</td>\n",
       "      <td>0</td>\n",
       "      <td>1</td>\n",
       "      <td>0</td>\n",
       "      <td>0</td>\n",
       "      <td>0</td>\n",
       "    </tr>\n",
       "    <tr>\n",
       "      <th>354368</th>\n",
       "      <td>2016-03-20 19:41:08</td>\n",
       "      <td>3400</td>\n",
       "      <td>gasoline</td>\n",
       "      <td>2002</td>\n",
       "      <td>manual</td>\n",
       "      <td>100</td>\n",
       "      <td>golf</td>\n",
       "      <td>150000</td>\n",
       "      <td>6</td>\n",
       "      <td>gasoline</td>\n",
       "      <td>...</td>\n",
       "      <td>0</td>\n",
       "      <td>0</td>\n",
       "      <td>0</td>\n",
       "      <td>0</td>\n",
       "      <td>0</td>\n",
       "      <td>0</td>\n",
       "      <td>1</td>\n",
       "      <td>0</td>\n",
       "      <td>1</td>\n",
       "      <td>0</td>\n",
       "    </tr>\n",
       "  </tbody>\n",
       "</table>\n",
       "<p>323224 rows × 324 columns</p>\n",
       "</div>"
      ],
      "text/plain": [
       "                DateCrawled  Price VehicleType  RegistrationYear  Gearbox  \\\n",
       "0       2016-03-24 11:52:17    480      petrol              1993   manual   \n",
       "1       2016-03-24 10:58:45  18300    gasoline              2011   manual   \n",
       "2       2016-03-14 12:52:21   9800    gasoline              2004     auto   \n",
       "3       2016-03-17 16:54:04   1500      petrol              2001   manual   \n",
       "4       2016-03-31 17:25:20   3600    gasoline              2008   manual   \n",
       "...                     ...    ...         ...               ...      ...   \n",
       "354363  2016-03-27 20:36:20   1150      petrol              2000   manual   \n",
       "354365  2016-03-14 17:48:27   2200     no_info              2005  no_info   \n",
       "354366  2016-03-05 19:56:21   1199      petrol              2000     auto   \n",
       "354367  2016-03-19 18:57:12   9200    gasoline              1996   manual   \n",
       "354368  2016-03-20 19:41:08   3400    gasoline              2002   manual   \n",
       "\n",
       "        Power        Model  Kilometer  RegistrationMonth  FuelType  ...  \\\n",
       "0           0         golf     150000                  0    petrol  ...   \n",
       "1         190      no_info     125000                  5  gasoline  ...   \n",
       "2         163        grand     125000                  8  gasoline  ...   \n",
       "3          75         golf     150000                  6    petrol  ...   \n",
       "4          69        fabia      90000                  7  gasoline  ...   \n",
       "...       ...          ...        ...                ...       ...  ...   \n",
       "354363      0       zafira     150000                  3    petrol  ...   \n",
       "354365      0      no_info      20000                  1   no_info  ...   \n",
       "354366    101       fortwo     125000                  3    petrol  ...   \n",
       "354367    102  transporter     150000                  3  gasoline  ...   \n",
       "354368    100         golf     150000                  6  gasoline  ...   \n",
       "\n",
       "       Brand_smart Brand_sonstige_autos Brand_subaru  Brand_suzuki  \\\n",
       "0                0                    0            0             0   \n",
       "1                0                    0            0             0   \n",
       "2                0                    0            0             0   \n",
       "3                0                    0            0             0   \n",
       "4                0                    0            0             0   \n",
       "...            ...                  ...          ...           ...   \n",
       "354363           0                    0            0             0   \n",
       "354365           0                    1            0             0   \n",
       "354366           1                    0            0             0   \n",
       "354367           0                    0            0             0   \n",
       "354368           0                    0            0             0   \n",
       "\n",
       "        Brand_toyota Brand_trabant  Brand_volkswagen  Brand_volvo  \\\n",
       "0                  0             0                 1            0   \n",
       "1                  0             0                 0            0   \n",
       "2                  0             0                 0            0   \n",
       "3                  0             0                 1            0   \n",
       "4                  0             0                 0            0   \n",
       "...              ...           ...               ...          ...   \n",
       "354363             0             0                 0            0   \n",
       "354365             0             0                 0            0   \n",
       "354366             0             0                 0            0   \n",
       "354367             0             0                 1            0   \n",
       "354368             0             0                 1            0   \n",
       "\n",
       "        Repaired_no_info  Repaired_yes  \n",
       "0                      1             0  \n",
       "1                      0             1  \n",
       "2                      1             0  \n",
       "3                      0             0  \n",
       "4                      0             0  \n",
       "...                  ...           ...  \n",
       "354363                 0             0  \n",
       "354365                 1             0  \n",
       "354366                 0             0  \n",
       "354367                 0             0  \n",
       "354368                 1             0  \n",
       "\n",
       "[323224 rows x 324 columns]"
      ]
     },
     "execution_count": 13,
     "metadata": {},
     "output_type": "execute_result"
    }
   ],
   "source": [
    "features_ohe = pd.get_dummies(data[['VehicleType','Gearbox','Model','FuelType','Brand','Repaired']], drop_first = True)\n",
    "data[features_ohe.columns] = features_ohe\n",
    "data"
   ]
  },
  {
   "cell_type": "code",
   "execution_count": 14,
   "metadata": {},
   "outputs": [
    {
     "data": {
      "text/plain": [
       "['RegistrationYear',\n",
       " 'Power',\n",
       " 'Kilometer',\n",
       " 'RegistrationMonth',\n",
       " 'NumberOfPictures',\n",
       " 'time_in_use',\n",
       " 'VehicleType_electric',\n",
       " 'VehicleType_gasoline',\n",
       " 'VehicleType_hybrid',\n",
       " 'VehicleType_lpg',\n",
       " 'VehicleType_no_info',\n",
       " 'VehicleType_other',\n",
       " 'VehicleType_petrol',\n",
       " 'Gearbox_manual',\n",
       " 'Gearbox_no_info',\n",
       " 'Model_145',\n",
       " 'Model_147',\n",
       " 'Model_156',\n",
       " 'Model_159',\n",
       " 'Model_1_reihe',\n",
       " 'Model_1er',\n",
       " 'Model_200',\n",
       " 'Model_2_reihe',\n",
       " 'Model_300c',\n",
       " 'Model_3_reihe',\n",
       " 'Model_3er',\n",
       " 'Model_4_reihe',\n",
       " 'Model_500',\n",
       " 'Model_5_reihe',\n",
       " 'Model_5er',\n",
       " 'Model_601',\n",
       " 'Model_6_reihe',\n",
       " 'Model_6er',\n",
       " 'Model_7er',\n",
       " 'Model_80',\n",
       " 'Model_850',\n",
       " 'Model_90',\n",
       " 'Model_900',\n",
       " 'Model_9000',\n",
       " 'Model_911',\n",
       " 'Model_a1',\n",
       " 'Model_a2',\n",
       " 'Model_a3',\n",
       " 'Model_a4',\n",
       " 'Model_a5',\n",
       " 'Model_a6',\n",
       " 'Model_a8',\n",
       " 'Model_a_klasse',\n",
       " 'Model_accord',\n",
       " 'Model_agila',\n",
       " 'Model_alhambra',\n",
       " 'Model_almera',\n",
       " 'Model_altea',\n",
       " 'Model_amarok',\n",
       " 'Model_antara',\n",
       " 'Model_arosa',\n",
       " 'Model_astra',\n",
       " 'Model_auris',\n",
       " 'Model_avensis',\n",
       " 'Model_aveo',\n",
       " 'Model_aygo',\n",
       " 'Model_b_klasse',\n",
       " 'Model_b_max',\n",
       " 'Model_beetle',\n",
       " 'Model_berlingo',\n",
       " 'Model_bora',\n",
       " 'Model_boxster',\n",
       " 'Model_bravo',\n",
       " 'Model_c1',\n",
       " 'Model_c2',\n",
       " 'Model_c3',\n",
       " 'Model_c4',\n",
       " 'Model_c5',\n",
       " 'Model_c_klasse',\n",
       " 'Model_c_max',\n",
       " 'Model_c_reihe',\n",
       " 'Model_caddy',\n",
       " 'Model_calibra',\n",
       " 'Model_captiva',\n",
       " 'Model_carisma',\n",
       " 'Model_carnival',\n",
       " 'Model_cayenne',\n",
       " 'Model_cc',\n",
       " 'Model_ceed',\n",
       " 'Model_charade',\n",
       " 'Model_cherokee',\n",
       " 'Model_citigo',\n",
       " 'Model_civic',\n",
       " 'Model_cl',\n",
       " 'Model_clio',\n",
       " 'Model_clk',\n",
       " 'Model_clubman',\n",
       " 'Model_colt',\n",
       " 'Model_combo',\n",
       " 'Model_cooper',\n",
       " 'Model_cordoba',\n",
       " 'Model_corolla',\n",
       " 'Model_corsa',\n",
       " 'Model_cr_reihe',\n",
       " 'Model_croma',\n",
       " 'Model_crossfire',\n",
       " 'Model_cuore',\n",
       " 'Model_cx_reihe',\n",
       " 'Model_defender',\n",
       " 'Model_delta',\n",
       " 'Model_discovery',\n",
       " 'Model_doblo',\n",
       " 'Model_ducato',\n",
       " 'Model_duster',\n",
       " 'Model_e_klasse',\n",
       " 'Model_elefantino',\n",
       " 'Model_eos',\n",
       " 'Model_escort',\n",
       " 'Model_espace',\n",
       " 'Model_exeo',\n",
       " 'Model_fabia',\n",
       " 'Model_fiesta',\n",
       " 'Model_focus',\n",
       " 'Model_forester',\n",
       " 'Model_forfour',\n",
       " 'Model_fortwo',\n",
       " 'Model_fox',\n",
       " 'Model_freelander',\n",
       " 'Model_fusion',\n",
       " 'Model_g_klasse',\n",
       " 'Model_galant',\n",
       " 'Model_galaxy',\n",
       " 'Model_getz',\n",
       " 'Model_gl',\n",
       " 'Model_glk',\n",
       " 'Model_golf',\n",
       " 'Model_grand',\n",
       " 'Model_i3',\n",
       " 'Model_i_reihe',\n",
       " 'Model_ibiza',\n",
       " 'Model_impreza',\n",
       " 'Model_insignia',\n",
       " 'Model_jazz',\n",
       " 'Model_jetta',\n",
       " 'Model_jimny',\n",
       " 'Model_juke',\n",
       " 'Model_justy',\n",
       " 'Model_ka',\n",
       " 'Model_kadett',\n",
       " 'Model_kaefer',\n",
       " 'Model_kalina',\n",
       " 'Model_kalos',\n",
       " 'Model_kangoo',\n",
       " 'Model_kappa',\n",
       " 'Model_kuga',\n",
       " 'Model_laguna',\n",
       " 'Model_lancer',\n",
       " 'Model_lanos',\n",
       " 'Model_legacy',\n",
       " 'Model_leon',\n",
       " 'Model_lodgy',\n",
       " 'Model_logan',\n",
       " 'Model_lupo',\n",
       " 'Model_lybra',\n",
       " 'Model_m_klasse',\n",
       " 'Model_m_reihe',\n",
       " 'Model_materia',\n",
       " 'Model_matiz',\n",
       " 'Model_megane',\n",
       " 'Model_meriva',\n",
       " 'Model_micra',\n",
       " 'Model_mii',\n",
       " 'Model_modus',\n",
       " 'Model_mondeo',\n",
       " 'Model_move',\n",
       " 'Model_musa',\n",
       " 'Model_mustang',\n",
       " 'Model_mx_reihe',\n",
       " 'Model_navara',\n",
       " 'Model_niva',\n",
       " 'Model_no_info',\n",
       " 'Model_note',\n",
       " 'Model_nubira',\n",
       " 'Model_octavia',\n",
       " 'Model_omega',\n",
       " 'Model_one',\n",
       " 'Model_other',\n",
       " 'Model_outlander',\n",
       " 'Model_pajero',\n",
       " 'Model_panda',\n",
       " 'Model_passat',\n",
       " 'Model_phaeton',\n",
       " 'Model_picanto',\n",
       " 'Model_polo',\n",
       " 'Model_primera',\n",
       " 'Model_ptcruiser',\n",
       " 'Model_punto',\n",
       " 'Model_q3',\n",
       " 'Model_q5',\n",
       " 'Model_q7',\n",
       " 'Model_qashqai',\n",
       " 'Model_r19',\n",
       " 'Model_range_rover',\n",
       " 'Model_range_rover_evoque',\n",
       " 'Model_range_rover_sport',\n",
       " 'Model_rangerover',\n",
       " 'Model_rav',\n",
       " 'Model_rio',\n",
       " 'Model_roadster',\n",
       " 'Model_roomster',\n",
       " 'Model_rx_reihe',\n",
       " 'Model_s60',\n",
       " 'Model_s_klasse',\n",
       " 'Model_s_max',\n",
       " 'Model_s_type',\n",
       " 'Model_samara',\n",
       " 'Model_sandero',\n",
       " 'Model_santa',\n",
       " 'Model_scenic',\n",
       " 'Model_scirocco',\n",
       " 'Model_seicento',\n",
       " 'Model_serie_1',\n",
       " 'Model_serie_2',\n",
       " 'Model_serie_3',\n",
       " 'Model_sharan',\n",
       " 'Model_signum',\n",
       " 'Model_sirion',\n",
       " 'Model_sl',\n",
       " 'Model_slk',\n",
       " 'Model_sorento',\n",
       " 'Model_spark',\n",
       " 'Model_spider',\n",
       " 'Model_sportage',\n",
       " 'Model_sprinter',\n",
       " 'Model_stilo',\n",
       " 'Model_superb',\n",
       " 'Model_swift',\n",
       " 'Model_terios',\n",
       " 'Model_tigra',\n",
       " 'Model_tiguan',\n",
       " 'Model_toledo',\n",
       " 'Model_touareg',\n",
       " 'Model_touran',\n",
       " 'Model_transit',\n",
       " 'Model_transporter',\n",
       " 'Model_tt',\n",
       " 'Model_tucson',\n",
       " 'Model_twingo',\n",
       " 'Model_up',\n",
       " 'Model_v40',\n",
       " 'Model_v50',\n",
       " 'Model_v60',\n",
       " 'Model_v70',\n",
       " 'Model_v_klasse',\n",
       " 'Model_vectra',\n",
       " 'Model_verso',\n",
       " 'Model_viano',\n",
       " 'Model_vito',\n",
       " 'Model_vivaro',\n",
       " 'Model_voyager',\n",
       " 'Model_wrangler',\n",
       " 'Model_x_reihe',\n",
       " 'Model_x_trail',\n",
       " 'Model_x_type',\n",
       " 'Model_xc_reihe',\n",
       " 'Model_yaris',\n",
       " 'Model_yeti',\n",
       " 'Model_ypsilon',\n",
       " 'Model_z_reihe',\n",
       " 'Model_zafira',\n",
       " 'FuelType_electric',\n",
       " 'FuelType_gasoline',\n",
       " 'FuelType_hybrid',\n",
       " 'FuelType_lpg',\n",
       " 'FuelType_no_info',\n",
       " 'FuelType_other',\n",
       " 'FuelType_petrol',\n",
       " 'Brand_audi',\n",
       " 'Brand_bmw',\n",
       " 'Brand_chevrolet',\n",
       " 'Brand_chrysler',\n",
       " 'Brand_citroen',\n",
       " 'Brand_dacia',\n",
       " 'Brand_daewoo',\n",
       " 'Brand_daihatsu',\n",
       " 'Brand_fiat',\n",
       " 'Brand_ford',\n",
       " 'Brand_honda',\n",
       " 'Brand_hyundai',\n",
       " 'Brand_jaguar',\n",
       " 'Brand_jeep',\n",
       " 'Brand_kia',\n",
       " 'Brand_lada',\n",
       " 'Brand_lancia',\n",
       " 'Brand_land_rover',\n",
       " 'Brand_mazda',\n",
       " 'Brand_mercedes_benz',\n",
       " 'Brand_mini',\n",
       " 'Brand_mitsubishi',\n",
       " 'Brand_nissan',\n",
       " 'Brand_opel',\n",
       " 'Brand_peugeot',\n",
       " 'Brand_porsche',\n",
       " 'Brand_renault',\n",
       " 'Brand_rover',\n",
       " 'Brand_saab',\n",
       " 'Brand_seat',\n",
       " 'Brand_skoda',\n",
       " 'Brand_smart',\n",
       " 'Brand_sonstige_autos',\n",
       " 'Brand_subaru',\n",
       " 'Brand_suzuki',\n",
       " 'Brand_toyota',\n",
       " 'Brand_trabant',\n",
       " 'Brand_volkswagen',\n",
       " 'Brand_volvo',\n",
       " 'Repaired_no_info',\n",
       " 'Repaired_yes']"
      ]
     },
     "execution_count": 14,
     "metadata": {},
     "output_type": "execute_result"
    }
   ],
   "source": [
    "features_columns = ['RegistrationYear','Power','Kilometer','RegistrationMonth','NumberOfPictures','time_in_use'] + list(features_ohe.columns)\n",
    "features_columns"
   ]
  },
  {
   "cell_type": "code",
   "execution_count": 15,
   "metadata": {},
   "outputs": [
    {
     "name": "stdout",
     "output_type": "stream",
     "text": [
      "<class 'pandas.core.frame.DataFrame'>\n",
      "Int64Index: 323224 entries, 0 to 354368\n",
      "Columns: 324 entries, DateCrawled to Repaired_yes\n",
      "dtypes: int64(8), object(9), uint8(307)\n",
      "memory usage: 139.0+ MB\n"
     ]
    }
   ],
   "source": [
    "data.info()"
   ]
  },
  {
   "cell_type": "code",
   "execution_count": 16,
   "metadata": {},
   "outputs": [],
   "source": [
    "target = data['Price']\n",
    "features = data[features_columns]\n",
    "features_train, features_valid, target_train, target_valid = train_test_split(\n",
    "    features, target, test_size=0.25, random_state=12345)\n",
    "features_train_no_ohe, features_valid_no_ohe, target_train_no_ohe, target_valid_no_ohe = train_test_split(\n",
    "    features_no_ohe, target_no_ohe, test_size=0.25, random_state=12345)"
   ]
  },
  {
   "cell_type": "code",
   "execution_count": 17,
   "metadata": {},
   "outputs": [],
   "source": [
    "def score(model, target = target_train, features = features_train):\n",
    "    start_time = timeit.default_timer()\n",
    "    score = mean_squared_error(target, model.predict(features))**(1/2)\n",
    "    predict_time = timeit.default_timer() - start_time\n",
    "    return score, predict_time\n",
    "def fit(model):\n",
    "    start_time = timeit.default_timer()\n",
    "    model.fit(features_train,target_train)\n",
    "    fit_time = timeit.default_timer() - start_time\n",
    "    return fit_time"
   ]
  },
  {
   "cell_type": "code",
   "execution_count": 19,
   "metadata": {},
   "outputs": [
    {
     "data": {
      "text/plain": [
       "{'iterations': 100, 'learning_rate': 0.5}"
      ]
     },
     "execution_count": 19,
     "metadata": {},
     "output_type": "execute_result"
    }
   ],
   "source": [
    "parametrs = { 'learning_rate': [0.1*i for i in range(5,11)],\n",
    "              'iterations': range(60,110,10),}\n",
    "cats = CatBoostRegressor()\n",
    "grid = GridSearchCV(cats, parametrs)\n",
    "grid.fit(features_valid_no_ohe,target_valid_no_ohe, silent= True, cat_features = ['VehicleType','Gearbox','Model','FuelType','Brand','Repaired'])\n",
    "grid.best_params_"
   ]
  },
  {
   "cell_type": "code",
   "execution_count": 20,
   "metadata": {},
   "outputs": [
    {
     "name": "stdout",
     "output_type": "stream",
     "text": [
      "время обучения: 28.548063792288303\n",
      "RMSE score: 1511.4947942435124\n",
      "время предсказания: 0.6431367322802544\n"
     ]
    }
   ],
   "source": [
    "cat_no_ohe = CatBoostRegressor(iterations = 100, learning_rate = 0.6000000000000001, depth = 10)\n",
    "start_time = timeit.default_timer()\n",
    "cat_no_ohe.fit(features_train_no_ohe,target_train_no_ohe, silent= True, cat_features = ['VehicleType','Gearbox','Model','FuelType','Brand','Repaired'])\n",
    "cat_no_ohe_fit_time = timeit.default_timer() - start_time\n",
    "print('время обучения:', cat_no_ohe_fit_time)\n",
    "Score, time  = score(cat_no_ohe,target_train_no_ohe, features_train_no_ohe)\n",
    "print('RMSE score:', Score)\n",
    "print('время предсказания:', time)"
   ]
  },
  {
   "cell_type": "code",
   "execution_count": 21,
   "metadata": {},
   "outputs": [
    {
     "name": "stdout",
     "output_type": "stream",
     "text": [
      "время обучения: 32.59898601099849\n",
      "RMSE score: 1628.1032129024393\n",
      "время предсказания: 0.5996508188545704\n"
     ]
    }
   ],
   "source": [
    "cat = CatBoostRegressor(iterations = 500)\n",
    "start_time = timeit.default_timer()\n",
    "cat.fit(features_train,target_train, silent= True)\n",
    "cat_fit_time = timeit.default_timer() - start_time\n",
    "print('время обучения:', cat_fit_time)\n",
    "Score, time  = score(cat)\n",
    "print('RMSE score:', Score)\n",
    "print('время предсказания:', time)"
   ]
  },
  {
   "cell_type": "code",
   "execution_count": 22,
   "metadata": {},
   "outputs": [
    {
     "name": "stdout",
     "output_type": "stream",
     "text": [
      "[LightGBM] [Warning] Unknown parameter: iterations\n",
      "время обучения: 250.26234217360616\n",
      "RMSE score: 1610.2658693276849\n",
      "время предсказания: 4.349717408418655\n"
     ]
    }
   ],
   "source": [
    "LGBM = LGBMRegressor(iterations = 5, num_leaves = 60, n_estimators=150 )\n",
    "LGBM_fit_time = fit(LGBM)\n",
    "print('время обучения:', LGBM_fit_time)\n",
    "Score, time  = score(LGBM)\n",
    "print('RMSE score:', Score)\n",
    "print('время предсказания:', time)"
   ]
  },
  {
   "cell_type": "code",
   "execution_count": 23,
   "metadata": {},
   "outputs": [
    {
     "name": "stdout",
     "output_type": "stream",
     "text": [
      "время обучения: 0.0031344424933195114\n",
      "RMSE score: 4860.020907973153\n",
      "время предсказания: 0.0015846751630306244\n"
     ]
    }
   ],
   "source": [
    "dummy_regr = DummyRegressor(strategy=\"median\")\n",
    "dummy_regr_fit_time = fit(dummy_regr)\n",
    "print('время обучения:', dummy_regr_fit_time)\n",
    "Score, time  = score(dummy_regr)\n",
    "print('RMSE score:', Score)\n",
    "print('время предсказания:', time)"
   ]
  },
  {
   "cell_type": "code",
   "execution_count": 24,
   "metadata": {},
   "outputs": [
    {
     "name": "stdout",
     "output_type": "stream",
     "text": [
      "время обучения: 23.790469732135534\n",
      "RMSE score: 2897.3831565346313\n",
      "время предсказания: 0.7961245235055685\n"
     ]
    }
   ],
   "source": [
    "LinearRegr = LinearRegression()\n",
    "LinearRegr_fit_time = fit(LinearRegr)\n",
    "print('время обучения:', LinearRegr_fit_time)\n",
    "Score, time  = score(LinearRegr)\n",
    "print('RMSE score:', Score)\n",
    "print('время предсказания:', time)"
   ]
  },
  {
   "cell_type": "code",
   "execution_count": 25,
   "metadata": {},
   "outputs": [
    {
     "name": "stdout",
     "output_type": "stream",
     "text": [
      "RMSE score: 2883.5557717305765\n",
      "время предсказания: 0.19929595664143562\n"
     ]
    }
   ],
   "source": [
    "LinearRegr_score, LinearRegr_time  = score(LinearRegr,target = target_valid,features = features_valid )\n",
    "print('RMSE score:', LinearRegr_score)\n",
    "print('время предсказания:', LinearRegr_time)"
   ]
  },
  {
   "cell_type": "code",
   "execution_count": 26,
   "metadata": {},
   "outputs": [
    {
     "name": "stdout",
     "output_type": "stream",
     "text": [
      "RMSE score: 1672.8490518554756\n",
      "время предсказания: 1.5249678865075111\n"
     ]
    }
   ],
   "source": [
    "LGBM_score, LGBM_time  = score(LGBM,target = target_valid,features = features_valid )\n",
    "print('RMSE score:', LGBM_score)\n",
    "print('время предсказания:', LGBM_time)"
   ]
  },
  {
   "cell_type": "code",
   "execution_count": 27,
   "metadata": {},
   "outputs": [
    {
     "name": "stdout",
     "output_type": "stream",
     "text": [
      "RMSE score: 1689.1556389610046\n",
      "время предсказания: 0.10315120592713356\n"
     ]
    }
   ],
   "source": [
    "cat_score, cat_time  = score(cat,target = target_valid,features = features_valid )\n",
    "print('RMSE score:', cat_score)\n",
    "print('время предсказания:', cat_time)"
   ]
  },
  {
   "cell_type": "code",
   "execution_count": 28,
   "metadata": {},
   "outputs": [
    {
     "name": "stdout",
     "output_type": "stream",
     "text": [
      "RMSE score: 1691.2924587257369\n",
      "время предсказания: 0.11405490338802338\n"
     ]
    }
   ],
   "source": [
    "cat_no_ohe_score, cat_no_ohe_time  = score(cat_no_ohe,target = target_valid_no_ohe,features = features_valid_no_ohe )\n",
    "print('RMSE score:', cat_no_ohe_score)\n",
    "print('время предсказания:', cat_no_ohe_time)"
   ]
  },
  {
   "cell_type": "code",
   "execution_count": 29,
   "metadata": {},
   "outputs": [
    {
     "data": {
      "text/html": [
       "<div>\n",
       "<style scoped>\n",
       "    .dataframe tbody tr th:only-of-type {\n",
       "        vertical-align: middle;\n",
       "    }\n",
       "\n",
       "    .dataframe tbody tr th {\n",
       "        vertical-align: top;\n",
       "    }\n",
       "\n",
       "    .dataframe thead th {\n",
       "        text-align: right;\n",
       "    }\n",
       "</style>\n",
       "<table border=\"1\" class=\"dataframe\">\n",
       "  <thead>\n",
       "    <tr style=\"text-align: right;\">\n",
       "      <th></th>\n",
       "      <th>RMSE_score</th>\n",
       "      <th>predict_time</th>\n",
       "      <th>fit_time</th>\n",
       "      <th>total_time</th>\n",
       "    </tr>\n",
       "  </thead>\n",
       "  <tbody>\n",
       "    <tr>\n",
       "      <th>LinearRegression</th>\n",
       "      <td>2883.555772</td>\n",
       "      <td>0.199296</td>\n",
       "      <td>23.790470</td>\n",
       "      <td>23.989766</td>\n",
       "    </tr>\n",
       "    <tr>\n",
       "      <th>LGBMRegressor</th>\n",
       "      <td>1672.849052</td>\n",
       "      <td>1.524968</td>\n",
       "      <td>250.262342</td>\n",
       "      <td>251.787310</td>\n",
       "    </tr>\n",
       "    <tr>\n",
       "      <th>CatBoostRegressor</th>\n",
       "      <td>1689.155639</td>\n",
       "      <td>0.103151</td>\n",
       "      <td>32.598986</td>\n",
       "      <td>32.702137</td>\n",
       "    </tr>\n",
       "    <tr>\n",
       "      <th>CatBoostRegressor_no_ohe</th>\n",
       "      <td>1691.292459</td>\n",
       "      <td>0.114055</td>\n",
       "      <td>28.548064</td>\n",
       "      <td>28.662119</td>\n",
       "    </tr>\n",
       "  </tbody>\n",
       "</table>\n",
       "</div>"
      ],
      "text/plain": [
       "                           RMSE_score  predict_time    fit_time  total_time\n",
       "LinearRegression          2883.555772      0.199296   23.790470   23.989766\n",
       "LGBMRegressor             1672.849052      1.524968  250.262342  251.787310\n",
       "CatBoostRegressor         1689.155639      0.103151   32.598986   32.702137\n",
       "CatBoostRegressor_no_ohe  1691.292459      0.114055   28.548064   28.662119"
      ]
     },
     "execution_count": 29,
     "metadata": {},
     "output_type": "execute_result"
    }
   ],
   "source": [
    "columns = ['RMSE_score','predict_time','fit_time', 'total_time']\n",
    "index = ['LinearRegression','LGBMRegressor','CatBoostRegressor','CatBoostRegressor_no_ohe']\n",
    "final_data = [[LinearRegr_score,LinearRegr_time,LinearRegr_fit_time,LinearRegr_time + LinearRegr_fit_time],\n",
    "              [LGBM_score,LGBM_time,LGBM_fit_time,LGBM_time + LGBM_fit_time],\n",
    "             [cat_score,cat_time,cat_fit_time,cat_time + cat_fit_time],\n",
    "              [cat_no_ohe_score,cat_no_ohe_time,cat_no_ohe_fit_time,cat_no_ohe_time + cat_no_ohe_fit_time]]\n",
    "pd.DataFrame(columns = columns, index = index, data = final_data)"
   ]
  },
  {
   "cell_type": "code",
   "execution_count": null,
   "metadata": {},
   "outputs": [],
   "source": []
  },
  {
   "cell_type": "code",
   "execution_count": null,
   "metadata": {},
   "outputs": [],
   "source": []
  },
  {
   "cell_type": "code",
   "execution_count": null,
   "metadata": {},
   "outputs": [],
   "source": []
  },
  {
   "cell_type": "code",
   "execution_count": null,
   "metadata": {},
   "outputs": [],
   "source": []
  },
  {
   "cell_type": "code",
   "execution_count": null,
   "metadata": {},
   "outputs": [],
   "source": []
  },
  {
   "cell_type": "code",
   "execution_count": null,
   "metadata": {},
   "outputs": [],
   "source": []
  },
  {
   "cell_type": "markdown",
   "metadata": {},
   "source": [
    "## Подготовка данных"
   ]
  },
  {
   "cell_type": "code",
   "execution_count": null,
   "metadata": {},
   "outputs": [],
   "source": [
    "import pandas as pd  \n",
    "import numpy as np # Импортируем все)\n",
    "import matplotlib.pyplot as plt\n",
    "import seaborn as sns\n",
    "from sklearn.model_selection import train_test_split\n",
    "from sklearn.linear_model import LogisticRegression\n",
    "from sklearn.metrics import roc_curve\n",
    "from sklearn.metrics import roc_auc_score\n",
    "from sklearn.tree import DecisionTreeClassifier\n",
    "from sklearn.ensemble import RandomForestClassifier\n",
    "from sklearn.linear_model import LogisticRegression\n",
    "from sklearn.metrics import f1_score\n",
    "from sklearn.utils import shuffle"
   ]
  },
  {
   "cell_type": "markdown",
   "metadata": {},
   "source": [
    "<div class=\"alert alert-warning\">\n",
    "<h2> Комментарий ревьюера <a class=\"tocSkip\"> </h2>\n",
    "    \n",
    "<b>Некоторые замечания и рекомендации💡:</b> \n",
    "    \n",
    "Если загружаем несколько функций из одного пакета, то удобнее записать это через запятую.\n",
    "    \n",
    "`from sklearn.metrics import f1_score, roc_auc_score`\n",
    "    \n",
    "А если через запятую будет больше трех позиций, в таком случае здесь было бы идеально привести оформление в соответствие с <a href=\"https://pythonworld.ru/osnovy/pep-8-rukovodstvo-po-napisaniyu-koda-na-python.html\">pep8</a> - не оставлять длинных строк. \n",
    "\n",
    "Такое оформление предпочтительнее:    \n",
    "    \n",
    "`from sklearn.metrics import (\n",
    "    accuracy_score, \n",
    "    confusion_matrix, \n",
    "    f1_score,\n",
    "    roc_auc_score\n",
    ")`\n",
    "    \n",
    "        \n",
    "</div>"
   ]
  },
  {
   "cell_type": "code",
   "execution_count": null,
   "metadata": {},
   "outputs": [],
   "source": [
    "data = pd.read_csv('/datasets/Churn.csv')\n",
    "data.info()\n",
    "print(data.head())"
   ]
  },
  {
   "cell_type": "markdown",
   "metadata": {},
   "source": [
    "<div class=\"alert alert-block alert-danger\">\n",
    "<h2><s> Комментарий ревьюера <a class=\"tocSkip\"></h2>\n",
    "  \n",
    "<b>На доработку🤔:</b>\n",
    " \n",
    "Необходимо предусмотреть возможность загрузки файла и в среде Практикума. \n",
    "    \n",
    "`pd.read_csv('/datasets/Churn.csv')`\n",
    "    \n",
    "Можно реализовать через конструкцию try-except.\n",
    "\n",
    "</div>\n",
    "\n",
    "    "
   ]
  },
  {
   "cell_type": "markdown",
   "metadata": {},
   "source": [
    "<br/>\n",
    "<div class=\"alert alert-info\">\n",
    "В данных в столбце Tenure есть пропуски заменим недостающие значения на 0.\n",
    "</div>\n",
    "Столбцы RowNumber, CustomerId и Surname которые нам не понадобятся в анализе удалим! Также округлим числинные данные в Balance и EstimatedSalary, модели без этого не работают("
   ]
  },
  {
   "cell_type": "code",
   "execution_count": null,
   "metadata": {},
   "outputs": [],
   "source": [
    "data = data.drop(['RowNumber', 'CustomerId', 'Surname'], axis=1)\n",
    "\n",
    "data.info()"
   ]
  },
  {
   "cell_type": "code",
   "execution_count": null,
   "metadata": {},
   "outputs": [],
   "source": [
    "data['Tenure'] = round(data['Tenure'].fillna(data['Tenure'].mean()))  # Заменили недостающие значения средним и округлили значения\n",
    "\n",
    "print(data['Tenure'].unique())"
   ]
  },
  {
   "cell_type": "markdown",
   "metadata": {},
   "source": [
    "<div class=\"alert alert-block alert-danger\">\n",
    "<h2><s> Комментарий ревьюера 2<a class=\"tocSkip\"></h2>\n",
    "  \n",
    "<b>На доработку🤔:</b>\n",
    " \n",
    "Предположение, что пропуски там, где клиент пришел недавно достаточно (если аргументация в этом), неплохое. Но подтвердить его сейчас мы не можем. Поэтому лучше следовать принципу, что следующие данные будут такими же по распределению, как текущие, и лучшей тактикой минимизации ошибки будет значение из области наибольшей плотности распределения, не изменяющую структуры распределения признака. \n",
    "    \n",
    "Доля пропусков не критично велика, возможно и решение с удалением. Однако данных у нас не много, я бы остановился на чем-то вроде медианы.\n",
    "\n",
    "</div>"
   ]
  },
  {
   "cell_type": "markdown",
   "metadata": {},
   "source": [
    "<div class=\"alert alert-warning\">\n",
    "<h2> Комментарий ревьюера  #2 <a class=\"tocSkip\"> </h2>\n",
    "    \n",
    "<b>Некоторые замечания и рекомендации💡:</b> \n",
    "\n",
    "Ты подаешь среднее - это у нас не целое число. Медиана предпочтительнее, так как будет целым.\n",
    "    \n",
    "       \n",
    "</div>\n"
   ]
  },
  {
   "cell_type": "markdown",
   "metadata": {},
   "source": [
    "<div class=\"alert alert-success\">\n",
    "<h2> Комментарий ревьюера <a class=\"tocSkip\"> </h2>\n",
    "\n",
    "👍 Отлично \n",
    "</div> "
   ]
  },
  {
   "cell_type": "code",
   "execution_count": null,
   "metadata": {},
   "outputs": [],
   "source": [
    "data['EstimatedSalary'] = np.round(data['EstimatedSalary']).astype('int64') #округлим значения\n",
    "data['Balance'] = np.round(data['Balance']).astype('int64') \n",
    "#print(data.head())"
   ]
  },
  {
   "cell_type": "code",
   "execution_count": null,
   "metadata": {
    "scrolled": true
   },
   "outputs": [],
   "source": [
    "print(\"Количество оставшихся клиентов:\" ,10000 - data['Exited'].sum())\n",
    "\n",
    "apostates = data[data['Exited'] == 1] # посмотрим на ушедших\n",
    "cut = data[data['Exited'] == 0]"
   ]
  },
  {
   "cell_type": "markdown",
   "metadata": {},
   "source": [
    "В итоге у нас осталось 7963 клиентов! Построим пару графиков, видим что более молодые клиенты уходят чаще!"
   ]
  },
  {
   "cell_type": "code",
   "execution_count": null,
   "metadata": {},
   "outputs": [],
   "source": [
    "cut.groupby('Age')['Exited'].count().plot(figsize=(15,6),kind='bar')\n",
    "plt.show()\n",
    "apostates.groupby('Age')['Exited'].count().plot(figsize=(15,6),kind='bar')\n",
    "plt.show()\n",
    "data.groupby('Tenure')['Exited'].count().plot(figsize=(15,6),kind='bar')\n",
    "plt.show()\n",
    "\n"
   ]
  },
  {
   "cell_type": "markdown",
   "metadata": {},
   "source": [
    "Построим несколько графиков. Видно что более молодые клиенты уходят чаще."
   ]
  },
  {
   "cell_type": "markdown",
   "metadata": {},
   "source": [
    "## Исследование задачи"
   ]
  },
  {
   "cell_type": "markdown",
   "metadata": {},
   "source": [
    "Задаем признаки и делим данные на выборки."
   ]
  },
  {
   "cell_type": "code",
   "execution_count": null,
   "metadata": {},
   "outputs": [],
   "source": [
    "df = pd.get_dummies(data,drop_first=True)\n",
    "#df = np.ones(data, dtype = int)\n",
    "target = df['Exited'] # Целевой признак\n",
    "features = df.drop(['Exited'],axis=1) # Признаки\n",
    "\n",
    "features_train, features_test, target_train, target_test = train_test_split(features, target, \n",
    "    test_size = 0.40, random_state = 12345)\n",
    "\n",
    "features_valid, features_test, target_valid, target_test = train_test_split(features_test, \n",
    "                                                                            target_test, \n",
    "                                                                            test_size=0.5, \n",
    "                                                                            random_state=12345\n",
    "                                                                           ) \n",
    "\n",
    "print(features_valid.shape, target_valid.shape, target_train.shape, \n",
    "      features_train.shape, features_test.shape, target_test.shape)"
   ]
  },
  {
   "cell_type": "markdown",
   "metadata": {},
   "source": [
    "<div class=\"alert alert-success\">\n",
    "<h2> Комментарий ревьюера #2 <a class=\"tocSkip\"> </h2>\n",
    "\n",
    "👍 Теперь все отлично по выборкам..\n",
    "</div>\n",
    " "
   ]
  },
  {
   "cell_type": "markdown",
   "metadata": {},
   "source": [
    "<div class=\"alert alert-success\">\n",
    "<h2> Комментарий ревьюера <a class=\"tocSkip\"> </h2>\n",
    "\n",
    "👍 Согласен. В дамми-ловушку не попались.\n",
    "</div>\n",
    "\n"
   ]
  },
  {
   "cell_type": "markdown",
   "metadata": {},
   "source": [
    "<div class=\"alert alert-warning\">\n",
    "<h2> Комментарий ревьюера <a class=\"tocSkip\"> </h2>\n",
    "    \n",
    "<b>Некоторые замечания и рекомендации💡:</b> \n",
    "\n",
    "В тренажере давался пример использования прямого кодирования с помощью get_dummies, однако это далеко не самый оптимальный вариант. Он подходит для анализа данных, но в машинном обучении может служить причиной ошибок при обучении моделей.\n",
    "    \n",
    "Можно использовать класс <a href=\"https://scikit-learn.org/stable/modules/generated/sklearn.preprocessing.OneHotEncoder.html\">OHE из sklearn</a>. Он точно понадобится в будущих проектах, можно потренироваться сейчас. \n",
    "\n",
    "Практикум подготовил инструкцию, как использовать OHE: https://colab.research.google.com/drive/1_gAMXcQKoCShB_l8FNtYEejMnosm9mvt?usp=sharing \n",
    "\n",
    "А теперь замечания «под звездочкой»:\n",
    "\n",
    "Есть загвоздка, что нам нужно будет одновременно использовать параметры drop='first' и handle_unknown='ignore’.  в OHE, а на платформе такое сочетание может выдавать ошибку (в части случаев). Если ошибка появляется, необходимо загрузить нужную версию сайкит-лерна. Для этого:\n",
    "\n",
    "1. В отдельной строке в самом начале проекта запускаем такую команду:\n",
    " `!pip install scikit-learn==1.1.3`\n",
    "     \n",
    "2. Находим в меню юпитера кнопку `Kernel`, нажимаем и выбираем Restart&Run all \n",
    "\n",
    "\n",
    "И сразу уточню, что OHE мы используем уже после разделения выборок на обучающую, валидационную и тестовую. Обучаем на трейне, применяем ко всем. Кодируем после разбиения по аналогии с масштабированием. Посмотреть поподробнее также <a href=\"https://stackoverflow.com/questions/55525195/do-i-have-to-do-one-hot-encoding-separately-for-train-and-test-dataset\">можно здесь</a> .\n",
    "      \n",
    "</div> "
   ]
  },
  {
   "cell_type": "markdown",
   "metadata": {},
   "source": [
    " <div class=\"alert alert-block alert-danger\">\n",
    "<h2><s> Комментарий ревьюера <a class=\"tocSkip\"></h2>\n",
    "  \n",
    "<b>На доработку🤔:</b>\n",
    "    \n",
    "***\n",
    "    \n",
    "ЗДесь нужно выделить три выборки: тренировочную, валидационную и тестовую.\n",
    "    \n",
    "***\n",
    " \n",
    "Важно обработать пропуски. С ними модели работать не будут.\n",
    "    \n",
    "(вполне возможно изначально пользовались датасетом, в котором нет пропусков, но в том, который дается к проекту, они есть).\n",
    "\n",
    "</div>\n",
    "\n"
   ]
  },
  {
   "cell_type": "markdown",
   "metadata": {},
   "source": [
    "Разделил данные на 3 выборки: тренировочную, валидационную и тестовую. Пропуски обработал заменил пропущенные значения на 0."
   ]
  },
  {
   "cell_type": "markdown",
   "metadata": {},
   "source": [
    "<div class=\"alert alert-warning\">\n",
    "<h2><s> Комментарий ревьюера  #2 <a class=\"tocSkip\"> </h2>\n",
    "    \n",
    "<b>Некоторые замечания и рекомендации💡:</b> \n",
    "\n",
    "Важно текст поместить в текстовые ячейки. Перед отправкой проекта рекомендую его перезапускать.\n",
    "       \n",
    "</div>\n"
   ]
  },
  {
   "cell_type": "markdown",
   "metadata": {},
   "source": [
    "Используем модели случайный лес, дерево решений и логистическую регрессию!"
   ]
  },
  {
   "cell_type": "code",
   "execution_count": null,
   "metadata": {},
   "outputs": [],
   "source": [
    "for depth in range(1, 11, 1):\n",
    "    model_tree = DecisionTreeClassifier(random_state=12345, max_depth = depth) # обучаем модель с заданной глубиной дерева 4\n",
    "    model_tree.fit(features_train, target_train) # обучаем модель\n",
    "    predictions_valid = model_tree.predict(features_valid) # находим предсказания по выборке\n",
    "  \n",
    "    print('max_depth:',depth,'F1:',f1_score(target_valid, predictions_valid))"
   ]
  },
  {
   "cell_type": "markdown",
   "metadata": {},
   "source": [
    "Вывод: лучшее значение модели дерево решений max_depth: 6 F1: 0.5696969696969697"
   ]
  },
  {
   "cell_type": "markdown",
   "metadata": {},
   "source": []
  },
  {
   "cell_type": "code",
   "execution_count": null,
   "metadata": {},
   "outputs": [],
   "source": [
    "for est in range(1, 40, 1):\n",
    "    model_random = RandomForestClassifier(max_depth = depth, random_state = 12345, n_estimators = est) # обучаем модель с заданным количеством деревьев\n",
    "    model_random.fit(features_train, target_train) # обучаем модель на тренировочной выборке\n",
    "    prediction = model_random.predict(features_valid)\n",
    "    print('max_depth:', depth,'F1:',f1_score(target_valid, prediction))"
   ]
  },
  {
   "cell_type": "markdown",
   "metadata": {},
   "source": [
    "<div class=\"alert alert-block alert-danger\">\n",
    "<h2><s> Комментарий ревьюера <a class=\"tocSkip\"></h2>\n",
    "  \n",
    "<b>На доработку🤔:</b>\n",
    " \n",
    "Важно сразу подбирать лучшие гиперпараметры по F1-мере. Здесь же подбираем по accuracy. Не факт, что оптимизация одного параметра будет означать оптимизации остальных. А в случае с нашим дисбалансом - тем более.\n",
    "    \n",
    "По ТЗ проекта нам нужно как раз максимизировать F1.\n",
    "\n",
    "</div>\n",
    "\n"
   ]
  },
  {
   "cell_type": "markdown",
   "metadata": {},
   "source": [
    "Вывод: лучшее значение модели случайный лес ax_depth: 10 F1: 0.5903614457831324"
   ]
  },
  {
   "cell_type": "code",
   "execution_count": null,
   "metadata": {},
   "outputs": [],
   "source": [
    "model_regres = LogisticRegression(random_state=12345, solver='lbfgs', max_iter=1000) \n",
    "model_regres.fit(features_train, target_train) \n",
    "predictions = model_regres.predict(features_valid) \n",
    "\n",
    "print('F1:',f1_score(target_valid, prediction))"
   ]
  },
  {
   "cell_type": "markdown",
   "metadata": {},
   "source": [
    "**Вывод:**\n",
    "И вот наши результаты:\n",
    "Дерево решений - 0.569\n",
    "Случайный лес - 0.59\n",
    "Логистическая регресия - 0.564\n",
    "\n",
    "Лучший результат у модели Случайный лес, далее будем работать только с этой моделью!"
   ]
  },
  {
   "cell_type": "markdown",
   "metadata": {},
   "source": [
    "## Борьба с дисбалансом"
   ]
  },
  {
   "cell_type": "markdown",
   "metadata": {},
   "source": [
    "<br/>\n",
    "<div class=\"alert alert-info\">\n",
    "Используем функции upsample и downsample! Сразу проверяем на модель с лучшим значением полученным ранее, случайный лес!\n",
    "</div>"
   ]
  },
  {
   "cell_type": "code",
   "execution_count": null,
   "metadata": {},
   "outputs": [],
   "source": [
    "def upsample(features, target, repeat):\n",
    "    features_zeros = features[target == 0]\n",
    "    features_ones = features[target == 1]\n",
    "    target_zeros = target[target == 0]\n",
    "    target_ones = target[target == 1]\n",
    "\n",
    "    features_upsampled = pd.concat([features_zeros] + [features_ones] * repeat)\n",
    "    target_upsampled = pd.concat([target_zeros] + [target_ones] * repeat)\n",
    "    \n",
    "    features_upsampled, target_upsampled = shuffle(\n",
    "        features_upsampled, target_upsampled, random_state=12345)\n",
    "    \n",
    "    return features_upsampled, target_upsampled\n",
    "\n",
    "features_upsampled, target_upsampled = upsample(features_train, target_train, 4)"
   ]
  },
  {
   "cell_type": "code",
   "execution_count": null,
   "metadata": {},
   "outputs": [],
   "source": [
    "for est in range(1, 40, 1):\n",
    "    model_random = RandomForestClassifier(max_depth = depth, random_state = 12345, n_estimators = est) # обучаем модель с заданным количеством деревьев\n",
    "    model_random.fit(features_upsampled, target_upsampled) # обучаем модель на тренировочной выборке\n",
    "    prediction = model_random.predict(features_valid)\n",
    "    print('max_depth:', depth,'F1:',f1_score(target_valid, prediction))"
   ]
  },
  {
   "cell_type": "markdown",
   "metadata": {},
   "source": [
    "Лучший результат при использовании параметра upsample max_depth: 10 F1: 0.6203904555314533"
   ]
  },
  {
   "cell_type": "markdown",
   "metadata": {},
   "source": [
    "<div class=\"alert alert-block alert-danger\">\n",
    "<h2><s> Комментарий ревьюера <a class=\"tocSkip\"></h2>\n",
    "  \n",
    "<b>На доработку🤔:</b>\n",
    " \n",
    "Здесь ты дублируешь редкий класс в 10 раз. У нас же, как мы увидели раньше, дисбаланс составляет 1:4. То есть, теперь окажется, что бывший редкий класс будет в 2,5 раза чаще встречаться.\n",
    "    \n",
    "Правильно будет довести баланс классов до 1:1, то есть, умножить на 4 (подав такой коэффициент в функцию).\n",
    "\n",
    "</div> \n",
    "\n"
   ]
  },
  {
   "cell_type": "code",
   "execution_count": null,
   "metadata": {},
   "outputs": [],
   "source": [
    "def downsample(features, target, fraction):\n",
    "    features_zeros = features[target == 0]\n",
    "    features_ones = features[target == 1]\n",
    "    target_zeros = target[target == 0]\n",
    "    target_ones = target[target == 1]\n",
    "\n",
    "    features_downsampled = pd.concat(\n",
    "        [features_zeros.sample(frac=fraction, random_state=12345)] + [features_ones])\n",
    "    target_downsampled = pd.concat(\n",
    "        [target_zeros.sample(frac=fraction, random_state=12345)] + [target_ones])\n",
    "    \n",
    "    features_downsampled, target_downsampled = shuffle(\n",
    "        features_downsampled, target_downsampled, random_state=12345)\n",
    "    \n",
    "    return features_downsampled, target_downsampled\n",
    "\n",
    "features_downsampled, target_downsampled = downsample(features_train, target_train, 0.25)"
   ]
  },
  {
   "cell_type": "code",
   "execution_count": null,
   "metadata": {},
   "outputs": [],
   "source": [
    "for est in range(1, 40, 1):\n",
    "    model_random = RandomForestClassifier(max_depth = depth, random_state = 12345, n_estimators = est) # обучаем модель с заданным количеством деревьев\n",
    "    model_random.fit(features_downsampled, target_downsampled) # обучаем модель на тренировочной выборке\n",
    "    prediction = model_random.predict(features_valid)\n",
    "    print('max_depth:', depth,'F1:',f1_score(target_valid, prediction))"
   ]
  },
  {
   "cell_type": "markdown",
   "metadata": {},
   "source": [
    "Лучший результат при использовании параметра downsample max_depth: 10 F1: 0.5950570342205322"
   ]
  },
  {
   "cell_type": "markdown",
   "metadata": {},
   "source": [
    "<br/>\n",
    "<div class=\"alert alert-info\">\n",
    "Результаты при downsample :\n",
    "Случайный лес - 0.595\n",
    "\n",
    "при upsample:\n",
    "Случайный лес - 0.62\n",
    "\n",
    "Проверяем выбранную модель после балансирования данных с помощью функциий upsample и downsample!\n",
    "    \n",
    "**Вывод:** модель Случайный лес при использовании балансирования данных с помощью функциий upsample показывает наилучший результат - 0.62 \n",
    "</div>"
   ]
  },
  {
   "cell_type": "markdown",
   "metadata": {},
   "source": [
    "<div class=\"alert alert-block alert-danger\">\n",
    "<h2><s> Комментарий ревьюера <a class=\"tocSkip\"></h2>\n",
    "  \n",
    "<b>На доработку🤔:</b>\n",
    " \n",
    "Даунсемплинг также нужно довести до баланса классов 1:1. У нас дисбаланс 1:4, значит, частый класс умножаем на четверть.\n",
    "\n",
    "</div>\n",
    "\n"
   ]
  },
  {
   "cell_type": "markdown",
   "metadata": {},
   "source": [
    "***Исправил замечания указав коффициенты для upsample 4, а для downsample 0.25!*** допустил ошибку в написании коммента("
   ]
  },
  {
   "cell_type": "markdown",
   "metadata": {},
   "source": [
    "<div class=\"alert alert-block alert-danger\" style=\"border-radius: 15px; box-shadow: 4px 4px 4px; border: 1px solid \">\n",
    "<h2> <s>Комментарий ревьюера #2 <a class=\"tocSkip\"></h2>\n",
    "  \n",
    "<b>На доработку🤔:</b>\n",
    " \n",
    "Четверть будет не 0.04, а 0.25. \n",
    "\n",
    "</div>\n"
   ]
  },
  {
   "cell_type": "markdown",
   "metadata": {},
   "source": [
    "<div class=\"alert alert-block alert-danger\">\n",
    "<h2><s> Комментарий ревьюера 2<a class=\"tocSkip\"></h2>\n",
    "  \n",
    "<b>На доработку🤔:</b>\n",
    " \n",
    "Tестирование - это третий шаг в нашем цикле работы с моделями. 1) подготовка+анализ 2) исследование моделей 3) тестирование. На тестировании мы смотрим лучшую модель, которую нашли на втором шаге, не трогаем валидационную выборку, используем тестовую выборку и уже не подбираем гиперпараметры. \n",
    "    \n",
    "Предлагаю перенести подзаголовок с тестированием ниже, к тому месту проекта, где мы действительно делаем тестирование.\n",
    "\n",
    "</div>\n",
    "\n"
   ]
  },
  {
   "cell_type": "markdown",
   "metadata": {},
   "source": [
    "Я к сожалению не особо понял вопрос о переносе ТЕСТИРОВАНИЯ МОДЕЛИ, выше я посомотрел как работают модели после балансировки на валидной выборке!"
   ]
  },
  {
   "cell_type": "markdown",
   "metadata": {},
   "source": [
    "Тестируем все три модели после балансирования данных с помощью функциий upsample и downsample, на тестовой выборке!"
   ]
  },
  {
   "cell_type": "markdown",
   "metadata": {},
   "source": [
    "<div class=\"alert alert-block alert-danger\" style=\"border-radius: 15px; box-shadow: 4px 4px 4px; border: 1px solid \">\n",
    "<h2><s> Комментарий ревьюера #3 <a class=\"tocSkip\"></h2>\n",
    "  \n",
    "<b>На доработку🤔:</b>\n",
    " \n",
    "Гиперпараметры мы должны подбирать на валидационной выборке, на тестовой мы уже не имеем права ничего подбирать.\n",
    "    \n",
    "https://data-scientists.ru/content/otlichie-testovoy-i-validacionnoy-vyborki \n",
    "    \n",
    "Важно найти оптимальные гиперпараметры и метод борьбы с дисбалансом классов на валидационной выборке в исследовательском шаге проекта. А дальше модель с оптимальными гиперпараметрами протестировать на тестовой. Так мы поймем, что и с незнакомыми данными наша модель показывает хорошее качество.\n",
    "    \n",
    "***\n",
    "    \n",
    "Про выборки: модель всегда учится на тренировочной выборке. На ней она подбирает веса и выучивает закономерности, которые видит в датасете. Поэтому эта выборка должна быть большой.\n",
    "\n",
    "У модели есть проблема, она рискует вместо того, чтобы выучить закономерности, выучить сами данные, то есть, каждую строку. То есть вместо «параметры этой строки говорят, что здесь будет класс «1», модель скорее принимает решение так: «я помню эту строку, здесь будет «1». Соответственно, когда модель видит новую для себя строку, то вместо нужного нам «я знаю эту закономерность, здесь будет «1», она выдает «эта строка мне неизвестна, но она похожа на ту, где был «0».\n",
    "\n",
    "Если мы посмотрим качество модели на тех же данных, на которых обучались, то качество будет высоким. Но мы ничего не сможем сказать об обощающей способности модели, то есть о том, насколько хорошо она будет работать на новых данных. Чтобы это узнать, мы вводим валидационную выборку. Мы по ней смотрим качество и подбираем гиперпараметры, выбирая ту модель, которая лучше всего предсказывает результаты на выборке, на которой она не обучалась.\n",
    "\n",
    "Однако таким образом мы руками подбираем лучшую модель для нашей валидационной выборки и поэтому уже не можем говорить «а на неизвеснтых данных качество будет вот таким». Для этого существует тестовая выборка - совершенно незнакомая модели. Модель на ней не обучалась, модель на ней не подбирала гиперпараметры. Тестовая выборка для модели выглядит ровно также, как будут выглядить новые данные после того, как модель внедрят. Ровно то, что нам нужно.\n",
    "\n",
    "\n",
    "</div>\n"
   ]
  },
  {
   "cell_type": "markdown",
   "metadata": {},
   "source": [
    "<div class=\"alert alert-block alert-danger\" style=\"border-radius: 15px; box-shadow: 4px 4px 4px; border: 1px solid \">\n",
    "<h2><s> Комментарий ревьюера #4 <a class=\"tocSkip\"></h2>\n",
    "  \n",
    "<b>На доработку🤔:</b>\n",
    " \n",
    "Важно убрать подбор гиперпараметров с использованием тестовой выборки. Ошибка в ячейке ниже.\n",
    "    \n",
    "***\n",
    "    \n",
    "Мы должны:\n",
    "    \n",
    "- подобрать гиперпараметры на валидационной выборке\n",
    "- Используя их проверить качество на тестовой выборке. Просто берем те гиперпараметры, которые подобрали раньше и подставляем в модель. Делаем предикт на тесте. **На тесте ничего не подбираем**\n",
    "    \n",
    "Аргументацию, почему так делаем, описал выше. Там же оставил ссылку с дополнительным обяснением, зачем используем каждую из выборок.\n",
    "\n",
    "</div>\n",
    "\n"
   ]
  },
  {
   "cell_type": "code",
   "execution_count": null,
   "metadata": {},
   "outputs": [],
   "source": []
  },
  {
   "cell_type": "markdown",
   "metadata": {},
   "source": [
    "## Проверяем модель на тестовой выборке"
   ]
  },
  {
   "cell_type": "code",
   "execution_count": null,
   "metadata": {},
   "outputs": [],
   "source": [
    "\n",
    "    model_random = RandomForestClassifier(max_depth = depth, random_state = 12345, n_estimators = est) # обучаем модель с заданным количеством деревьев\n",
    "    model_random.fit(features_upsampled, target_upsampled) # обучаем модель на тренировочной выборке\n",
    "    prediction_test = model_random.predict(features_test)\n",
    "    print('max_depth:', depth,'F1:',f1_score(target_test, prediction_test))\n",
    "    \n",
    "    "
   ]
  },
  {
   "cell_type": "markdown",
   "metadata": {},
   "source": [
    "<div class=\"alert alert-block alert-danger\" style=\"border-radius: 15px; box-shadow: 4px 4px 4px; border: 1px solid \">\n",
    "<h2><s> Комментарий ревьюера #4 <a class=\"tocSkip\"></h2>\n",
    "  \n",
    "<b>На доработку🤔:</b>\n",
    " \n",
    "↑↑↑ Возможно, ты не заметил, но в ячейке выше ты использовал не валидационную, а тестовую выборку. Речь идет именно об этом моменте. Важно поменять здесь выборку на валидационную.  Тогда будет логично объявить тестирование после этой выборки. Это я и имел ввиду, когда говорил, что подзаголовок тестирования нужно опустить до того момента, где будем делать тестирование. \n",
    "    \n",
    "\n",
    "\n",
    "</div>\n"
   ]
  },
  {
   "cell_type": "markdown",
   "metadata": {},
   "source": [
    "<br/>\n",
    "<div class=\"alert alert-info\">\n",
    "Вывод:\n",
    "Проверяем выбранную модель Случайный лес при при балансировке upsampled, используя тестовую выборку. Получаем результат max_depth: 10 F1: 0.609\n",
    "</div>"
   ]
  },
  {
   "cell_type": "markdown",
   "metadata": {},
   "source": [
    "***Исследуем метрику AUC-ROC для наших модели случайный лес**"
   ]
  },
  {
   "cell_type": "code",
   "execution_count": null,
   "metadata": {},
   "outputs": [],
   "source": [
    "probabilities_test = model_random.predict_proba(features_test)\n",
    "probabilities_one_test = probabilities_test[:, 1]\n",
    "\n",
    "fpr_random,tpr_random,thresholds = roc_curve(target_test, probabilities_one_test)\n",
    "\n",
    "auc_roc_random = roc_auc_score(target_test, probabilities_one_test, average=None)\n",
    "\n",
    "print(auc_roc_random)"
   ]
  },
  {
   "cell_type": "markdown",
   "metadata": {},
   "source": [
    "**Смотрим результат метрики AUC-ROC:**\n",
    "\n",
    "Вывод:  Лучший результат метрики AUC-ROС у модели случайный лес = 0.852."
   ]
  },
  {
   "cell_type": "code",
   "execution_count": null,
   "metadata": {},
   "outputs": [],
   "source": [
    "plt.figure()\n",
    "\n",
    "plt.figure(figsize=(10,7))\n",
    "plt.plot([0, 1], [0, 1], linestyle='--')\n",
    "plt.xlim([0.0, 1.0])\n",
    "plt.ylim([0.0, 1.0])\n",
    "plt.plot(fpr_random,tpr_random)\n",
    "plt.xlabel('False Positive Rate')\n",
    "plt.ylabel('True Positive Rate')\n",
    "plt.title('ROC-кривая')\n",
    "plt.legend(('Случайная модель','Случайный лес','Логистическая регрессия','Дерево решения'),\n",
    "           loc = 'upper left') \n",
    "plt.show()"
   ]
  },
  {
   "cell_type": "markdown",
   "metadata": {},
   "source": [
    "**Общий вывод:**\n",
    "\n",
    "Рассматривая совокупность полученных данных делаем вывод, что лучше всего себя показывает модель Случайный лес - 0.612 при балансировке функцией upsampled и применении тестовой выборки.\n"
   ]
  },
  {
   "cell_type": "markdown",
   "metadata": {},
   "source": [
    "<div class=\"alert alert-block alert-danger\">\n",
    "<h2><s> Комментарий ревьюера <a class=\"tocSkip\"></h2>\n",
    "  \n",
    "<b>На доработку🤔:</b>\n",
    " \n",
    "Важно выбрать лучшую модель в исследовательской части проекта, в комментарии описать ее, метод борьбы с дисбаланосм классов, гиперпараметры. Дальше нужно провести тестирование: сделать предект этой модели на тестовой выборке и оценить получившееся качество.\n",
    "    \n",
    "Затем нужно будет написать общий вывод к проекту.\n",
    "\n",
    "</div>\n"
   ]
  },
  {
   "cell_type": "markdown",
   "metadata": {},
   "source": [
    "<div style=\"border:solid Chocolate 2px; padding: 40px\">\n",
    "\n",
    "**Общий вывод по проекту**\n",
    "    \n",
    "Спасибо за твой проект! Я постарался обозначить все ошибки, которые увидел и дать рекомендации, где можно улучшить работу. Однако более подробно и полно смогу сказать уже после того, как поправим ошибки в коде. Проект должен отрабатывать целиком без падений в среде Практикума. Думаю, что практически все я уже описал сейчас.\n",
    "    \n",
    "    \n",
    "Есть несколько важных моментов, которые необходимо поправить. Их ты найдешь в разноцветных комментариях.\n",
    "    \n",
    "**Отмечу положительные моменты проекта🚀**\n",
    "    \n",
    "* Выбор моделей, порядок исследования.\n",
    "* Есть пояснения к шагам, код с высокой читаемостью. \n",
    "    \n",
    "**На что стоит обратить внимание🤔**\n",
    "    \n",
    "* Важно загрузить датасет, чтобы проект отрабатывал в среде Практикума.\n",
    "* Необходимо выбрать и применить подход к заполнению пропусков.\n",
    "* Нужно масштабировать данные после разбиения на выборки, если используем линейные модели.\n",
    "* Важно разделить датасет на три выборки, включая тестовую.\n",
    "* Апсемпилнг нужно довести до баланса классов (1:1, умножаем редкий класс на 4). Также и даунемплинг.\n",
    "* Необходимо везде оставлять промежуточные выводы и дополнить итоговый вывод.\n",
    "* Необходимо достичь качества модели F1>0.59 при тестировании на тестовой выборке.\n",
    "* Эти и остальные замечания я также написал по ходу проекта.\n",
    "    \n",
    "**Желаю удачи и жду твой проект на повторное ревью!**😉\n",
    "    \n",
    "    \n",
    "</div>\n"
   ]
  },
  {
   "cell_type": "markdown",
   "metadata": {},
   "source": [
    "<div style=\"border:solid Chocolate 2px; padding: 40px\">\n",
    "\n",
    "**Комментарий ко второй проверке**\n",
    "\n",
    "Спасибо за качественную доработку. Практически все верно. Однако еще кое-что осталось.\n",
    "    \n",
    "* Важно изменить подход к заполнению пропусков.\n",
    "* Даунсемплинг важно сделать с нужным нам коэффициентом (0.25)\n",
    "* Лучшую модель и ее гиперпараметры мы подбираем в исследовательской части проекта. В тестировании мы просто проверяем эту модель с ее гипепараметрами на тестовой выборке (подаем тест в предикт). \n",
    "* Необходимо достичь качества модели F1>0.59 при тестировании на тестовой выборке.\n",
    "    \n",
    "**Желаю удачи и жду твой проект на повторное ревью!**😉\n",
    "</div>"
   ]
  },
  {
   "cell_type": "markdown",
   "metadata": {},
   "source": [
    "<div style=\"border:solid Chocolate 2px; padding: 40px\">\n",
    "\n",
    "**Комментарий к третьей проверке**\n",
    "    \n",
    "* Важно лучшую модель подобрать на втором шаге проекта (исследовательском), используя валидационную выборку. На тестовой выборке мы просто проверяем качество этой, ранее найденной модели. В тестировании подбор гиперпараметров будет ошибочным.\n",
    "\n",
    "\n",
    "**Желаю удачи и жду твой проект на повторное ревью!**😉\n",
    "</div>\n"
   ]
  },
  {
   "cell_type": "markdown",
   "metadata": {},
   "source": [
    "\n",
    "<div style=\"border:solid Chocolate 2px; padding: 40px\">\n",
    "\n",
    "**Комментарий к четвертой проверке**\n",
    "\n",
    "Важно убрать подбор гиперпараметров с использованием тестовой выборки. Ошибка в ячейке ниже.\n",
    "    \n",
    "***\n",
    "    \n",
    "Мы должны:\n",
    "    \n",
    "- подобрать гиперпараметры на валидационной выборке\n",
    "- Используя их проверить качество на тестовой выборке. Просто берем те гиперпараметры, которые подобрали раньше и подставляем в модель. Делаем предикт на тесте.\n",
    "    \n",
    "Аргументацию, почему так делаем, описал выше. Там же оставил ссылку с дополнительным обяснением, зачем используем каждую из выборок.\n",
    "\n",
    "Если осталось недопонимание по выборкам, для ускорения процесса доработки предлагаю написать на телеграм @kriill\n",
    "    \n",
    "Также можешь чуть подробнее аргументировать свою точку зрения, почему ты решил подбирать гиперпараметры на тестовой выборке?\n",
    "    \n",
    "    \n",
    "\n",
    "**Желаю удачи и жду твой проект на повторное ревью!**😉\n",
    "</div>\n",
    "\n",
    "\n",
    "\n"
   ]
  },
  {
   "cell_type": "markdown",
   "metadata": {},
   "source": [
    "<div style=\"border:solid Chocolate 2px; padding: 40px\">\n",
    "\n",
    "**Комментарий к финальной проверке**\n",
    "\n",
    "Спасибо за доработку. Критичных комментариев нет. \n",
    "\n",
    "Желаю удачи в дальнейшей учебе!\n",
    "\n",
    "</div>\n"
   ]
  },
  {
   "cell_type": "code",
   "execution_count": null,
   "metadata": {},
   "outputs": [],
   "source": []
  },
  {
   "cell_type": "markdown",
   "metadata": {},
   "source": [
    "## Чек-лист готовности проекта"
   ]
  },
  {
   "cell_type": "markdown",
   "metadata": {},
   "source": [
    "Поставьте 'x' в выполненных пунктах. Далее нажмите Shift+Enter."
   ]
  },
  {
   "cell_type": "markdown",
   "metadata": {},
   "source": [
    "- [x]  Jupyter Notebook открыт\n",
    "- [ ]  Весь код выполняется без ошибок\n",
    "- [ ]  Ячейки с кодом расположены в порядке исполнения\n",
    "- [ ]  Выполнен шаг 1: данные подготовлены\n",
    "- [ ]  Выполнен шаг 2: задача исследована\n",
    "    - [ ]  Исследован баланс классов\n",
    "    - [ ]  Изучены модели без учёта дисбаланса\n",
    "    - [ ]  Написаны выводы по результатам исследования\n",
    "- [ ]  Выполнен шаг 3: учтён дисбаланс\n",
    "    - [ ]  Применено несколько способов борьбы с дисбалансом\n",
    "    - [ ]  Написаны выводы по результатам исследования\n",
    "- [ ]  Выполнен шаг 4: проведено тестирование\n",
    "- [ ]  Удалось достичь *F1*-меры не менее 0.59\n",
    "- [ ]  Исследована метрика *AUC-ROC*"
   ]
  },
  {
   "cell_type": "code",
   "execution_count": null,
   "metadata": {},
   "outputs": [],
   "source": []
  }
 ],
 "metadata": {
  "ExecuteTimeLog": [
   {
    "duration": 2215,
    "start_time": "2023-05-11T06:43:59.708Z"
   },
   {
    "duration": 4,
    "start_time": "2023-05-11T06:44:17.289Z"
   },
   {
    "duration": 43,
    "start_time": "2023-05-11T06:44:27.580Z"
   },
   {
    "duration": 76,
    "start_time": "2023-05-11T06:49:21.228Z"
   },
   {
    "duration": 105,
    "start_time": "2023-05-11T06:49:55.384Z"
   },
   {
    "duration": 34,
    "start_time": "2023-05-11T06:51:10.608Z"
   },
   {
    "duration": 54,
    "start_time": "2023-05-11T06:53:48.668Z"
   },
   {
    "duration": 118,
    "start_time": "2023-05-11T06:56:03.625Z"
   },
   {
    "duration": 164,
    "start_time": "2023-05-11T06:56:10.546Z"
   },
   {
    "duration": 209,
    "start_time": "2023-05-11T06:57:53.626Z"
   },
   {
    "duration": 171,
    "start_time": "2023-05-11T06:58:22.596Z"
   },
   {
    "duration": 12,
    "start_time": "2023-05-11T07:10:58.378Z"
   },
   {
    "duration": 7,
    "start_time": "2023-05-11T07:12:22.598Z"
   },
   {
    "duration": 5,
    "start_time": "2023-05-11T07:16:16.569Z"
   },
   {
    "duration": 9,
    "start_time": "2023-05-11T07:18:00.589Z"
   },
   {
    "duration": 15,
    "start_time": "2023-05-11T08:11:27.076Z"
   },
   {
    "duration": 6455,
    "start_time": "2023-05-11T08:12:24.467Z"
   },
   {
    "duration": 6572,
    "start_time": "2023-05-11T08:12:52.317Z"
   },
   {
    "duration": 61,
    "start_time": "2023-05-11T08:22:36.473Z"
   },
   {
    "duration": 11,
    "start_time": "2023-05-11T08:28:00.396Z"
   },
   {
    "duration": 7,
    "start_time": "2023-05-11T08:29:46.292Z"
   },
   {
    "duration": 6835,
    "start_time": "2023-05-11T08:33:55.464Z"
   },
   {
    "duration": 7046,
    "start_time": "2023-05-11T08:34:29.823Z"
   },
   {
    "duration": 179,
    "start_time": "2023-05-11T08:35:42.694Z"
   },
   {
    "duration": 348,
    "start_time": "2023-05-11T08:36:38.510Z"
   },
   {
    "duration": 1135,
    "start_time": "2023-05-11T08:36:52.821Z"
   },
   {
    "duration": 172535,
    "start_time": "2023-05-11T08:37:36.673Z"
   },
   {
    "duration": 181237,
    "start_time": "2023-05-11T08:40:52.881Z"
   },
   {
    "duration": 1430,
    "start_time": "2023-05-11T08:44:22.909Z"
   },
   {
    "duration": 8,
    "start_time": "2023-05-11T09:34:29.345Z"
   },
   {
    "duration": 8,
    "start_time": "2023-05-11T09:34:35.812Z"
   },
   {
    "duration": 164,
    "start_time": "2023-05-11T09:35:05.233Z"
   },
   {
    "duration": 7,
    "start_time": "2023-05-11T09:35:33.836Z"
   },
   {
    "duration": 24,
    "start_time": "2023-05-11T09:36:00.016Z"
   },
   {
    "duration": 9,
    "start_time": "2023-05-11T09:38:30.885Z"
   },
   {
    "duration": 8,
    "start_time": "2023-05-11T09:39:04.263Z"
   },
   {
    "duration": 47,
    "start_time": "2023-05-11T09:39:52.971Z"
   },
   {
    "duration": 1715,
    "start_time": "2023-05-11T15:15:49.799Z"
   },
   {
    "duration": 9976,
    "start_time": "2023-05-11T15:17:22.694Z"
   },
   {
    "duration": 19513,
    "start_time": "2023-05-11T15:20:02.441Z"
   },
   {
    "duration": 13605,
    "start_time": "2023-05-11T15:20:25.533Z"
   },
   {
    "duration": 10910,
    "start_time": "2023-05-11T15:21:11.729Z"
   },
   {
    "duration": 2220,
    "start_time": "2023-05-11T15:22:17.008Z"
   },
   {
    "duration": 9455,
    "start_time": "2023-05-11T15:22:29.539Z"
   },
   {
    "duration": 9794,
    "start_time": "2023-05-11T15:23:11.189Z"
   },
   {
    "duration": 1672,
    "start_time": "2023-05-11T15:24:30.803Z"
   },
   {
    "duration": 1838,
    "start_time": "2023-05-11T15:27:33.731Z"
   },
   {
    "duration": 324,
    "start_time": "2023-05-11T15:33:56.063Z"
   },
   {
    "duration": 1818,
    "start_time": "2023-05-11T15:34:26.788Z"
   },
   {
    "duration": 459,
    "start_time": "2023-05-11T15:34:53.723Z"
   },
   {
    "duration": 509,
    "start_time": "2023-05-11T15:35:33.701Z"
   },
   {
    "duration": 4366,
    "start_time": "2023-05-11T15:36:54.220Z"
   },
   {
    "duration": 202,
    "start_time": "2023-05-11T15:37:23.972Z"
   },
   {
    "duration": 231,
    "start_time": "2023-05-11T15:37:43.683Z"
   },
   {
    "duration": 8,
    "start_time": "2023-05-11T15:38:16.118Z"
   },
   {
    "duration": 476,
    "start_time": "2023-05-11T15:38:16.128Z"
   },
   {
    "duration": 13,
    "start_time": "2023-05-11T15:38:16.606Z"
   },
   {
    "duration": 87,
    "start_time": "2023-05-11T15:38:16.624Z"
   },
   {
    "duration": 2261,
    "start_time": "2023-05-11T15:38:16.713Z"
   },
   {
    "duration": 163,
    "start_time": "2023-05-11T15:38:18.980Z"
   },
   {
    "duration": 142,
    "start_time": "2023-05-11T15:38:46.272Z"
   },
   {
    "duration": 267,
    "start_time": "2023-05-11T15:38:46.419Z"
   },
   {
    "duration": 8,
    "start_time": "2023-05-11T15:38:46.695Z"
   },
   {
    "duration": 130,
    "start_time": "2023-05-11T15:38:46.705Z"
   },
   {
    "duration": 2203,
    "start_time": "2023-05-11T15:38:46.837Z"
   },
   {
    "duration": 34,
    "start_time": "2023-05-11T15:42:31.680Z"
   },
   {
    "duration": 507,
    "start_time": "2023-05-11T15:42:57.391Z"
   },
   {
    "duration": 235814,
    "start_time": "2023-05-11T15:46:36.023Z"
   },
   {
    "duration": 2995,
    "start_time": "2023-05-11T15:53:20.617Z"
   },
   {
    "duration": 11,
    "start_time": "2023-05-11T15:54:33.823Z"
   },
   {
    "duration": 3186,
    "start_time": "2023-05-11T15:54:42.734Z"
   },
   {
    "duration": 17,
    "start_time": "2023-05-11T16:15:44.448Z"
   },
   {
    "duration": 9,
    "start_time": "2023-05-11T16:16:26.733Z"
   },
   {
    "duration": 27,
    "start_time": "2023-05-11T16:20:11.618Z"
   },
   {
    "duration": 10,
    "start_time": "2023-05-11T16:22:02.507Z"
   },
   {
    "duration": 113,
    "start_time": "2023-05-11T16:22:05.601Z"
   },
   {
    "duration": 70,
    "start_time": "2023-05-11T16:25:45.256Z"
   },
   {
    "duration": 42,
    "start_time": "2023-05-11T16:27:23.940Z"
   },
   {
    "duration": 11,
    "start_time": "2023-05-11T16:28:13.271Z"
   },
   {
    "duration": 723,
    "start_time": "2023-05-11T16:28:13.285Z"
   },
   {
    "duration": 20,
    "start_time": "2023-05-11T16:28:14.010Z"
   },
   {
    "duration": 122,
    "start_time": "2023-05-11T16:28:14.032Z"
   },
   {
    "duration": 3505,
    "start_time": "2023-05-11T16:28:14.157Z"
   },
   {
    "duration": 0,
    "start_time": "2023-05-11T16:28:17.670Z"
   },
   {
    "duration": 0,
    "start_time": "2023-05-11T16:28:17.676Z"
   },
   {
    "duration": 0,
    "start_time": "2023-05-11T16:28:17.681Z"
   },
   {
    "duration": 0,
    "start_time": "2023-05-11T16:28:17.695Z"
   },
   {
    "duration": 0,
    "start_time": "2023-05-11T16:28:17.701Z"
   },
   {
    "duration": 2748,
    "start_time": "2023-05-11T16:28:39.586Z"
   },
   {
    "duration": 9,
    "start_time": "2023-05-11T16:28:52.323Z"
   },
   {
    "duration": 54,
    "start_time": "2023-05-11T16:28:55.648Z"
   },
   {
    "duration": 16,
    "start_time": "2023-05-11T16:33:14.918Z"
   },
   {
    "duration": 5,
    "start_time": "2023-05-11T16:33:25.927Z"
   },
   {
    "duration": 267,
    "start_time": "2023-05-11T16:33:25.935Z"
   },
   {
    "duration": 12,
    "start_time": "2023-05-11T16:33:26.208Z"
   },
   {
    "duration": 36,
    "start_time": "2023-05-11T16:33:26.226Z"
   },
   {
    "duration": 4115,
    "start_time": "2023-05-11T16:33:26.273Z"
   },
   {
    "duration": 5,
    "start_time": "2023-05-11T16:33:30.393Z"
   },
   {
    "duration": 125,
    "start_time": "2023-05-11T16:33:30.404Z"
   },
   {
    "duration": 110,
    "start_time": "2023-05-11T16:33:30.531Z"
   },
   {
    "duration": 0,
    "start_time": "2023-05-11T16:33:30.643Z"
   },
   {
    "duration": 0,
    "start_time": "2023-05-11T16:33:30.644Z"
   },
   {
    "duration": 22,
    "start_time": "2023-05-11T16:34:24.112Z"
   },
   {
    "duration": 27,
    "start_time": "2023-05-11T16:35:26.810Z"
   },
   {
    "duration": 678,
    "start_time": "2023-05-11T16:40:34.152Z"
   },
   {
    "duration": 603,
    "start_time": "2023-05-11T16:42:08.725Z"
   },
   {
    "duration": 37,
    "start_time": "2023-05-11T16:47:29.775Z"
   },
   {
    "duration": 26,
    "start_time": "2023-05-11T16:50:11.136Z"
   },
   {
    "duration": 15,
    "start_time": "2023-05-11T16:58:08.626Z"
   },
   {
    "duration": 4,
    "start_time": "2023-05-11T16:58:26.412Z"
   },
   {
    "duration": 178,
    "start_time": "2023-05-11T16:58:26.418Z"
   },
   {
    "duration": 19,
    "start_time": "2023-05-11T16:58:26.600Z"
   },
   {
    "duration": 1,
    "start_time": "2023-05-11T16:58:26.624Z"
   },
   {
    "duration": 0,
    "start_time": "2023-05-11T16:58:26.627Z"
   },
   {
    "duration": 0,
    "start_time": "2023-05-11T16:58:26.628Z"
   },
   {
    "duration": 0,
    "start_time": "2023-05-11T16:58:26.630Z"
   },
   {
    "duration": 0,
    "start_time": "2023-05-11T16:58:26.631Z"
   },
   {
    "duration": 0,
    "start_time": "2023-05-11T16:58:26.632Z"
   },
   {
    "duration": 0,
    "start_time": "2023-05-11T16:58:26.634Z"
   },
   {
    "duration": 28,
    "start_time": "2023-05-11T16:58:57.360Z"
   },
   {
    "duration": 8,
    "start_time": "2023-05-11T17:03:57.516Z"
   },
   {
    "duration": 169,
    "start_time": "2023-05-11T17:03:57.526Z"
   },
   {
    "duration": 34,
    "start_time": "2023-05-11T17:03:57.697Z"
   },
   {
    "duration": 0,
    "start_time": "2023-05-11T17:03:57.733Z"
   },
   {
    "duration": 0,
    "start_time": "2023-05-11T17:03:57.735Z"
   },
   {
    "duration": 0,
    "start_time": "2023-05-11T17:03:57.737Z"
   },
   {
    "duration": 0,
    "start_time": "2023-05-11T17:03:57.738Z"
   },
   {
    "duration": 0,
    "start_time": "2023-05-11T17:03:57.740Z"
   },
   {
    "duration": 0,
    "start_time": "2023-05-11T17:03:57.742Z"
   },
   {
    "duration": 0,
    "start_time": "2023-05-11T17:03:57.743Z"
   },
   {
    "duration": 57,
    "start_time": "2023-05-11T17:05:17.745Z"
   },
   {
    "duration": 29,
    "start_time": "2023-05-11T17:05:41.579Z"
   },
   {
    "duration": 5,
    "start_time": "2023-05-11T17:07:31.525Z"
   },
   {
    "duration": 233,
    "start_time": "2023-05-11T17:07:31.532Z"
   },
   {
    "duration": 15,
    "start_time": "2023-05-11T17:07:31.772Z"
   },
   {
    "duration": 35,
    "start_time": "2023-05-11T17:07:31.790Z"
   },
   {
    "duration": 2503,
    "start_time": "2023-05-11T17:07:31.827Z"
   },
   {
    "duration": 3,
    "start_time": "2023-05-11T17:07:34.332Z"
   },
   {
    "duration": 19,
    "start_time": "2023-05-11T17:07:34.336Z"
   },
   {
    "duration": 73,
    "start_time": "2023-05-11T17:07:34.357Z"
   },
   {
    "duration": 0,
    "start_time": "2023-05-11T17:07:34.432Z"
   },
   {
    "duration": 0,
    "start_time": "2023-05-11T17:07:34.433Z"
   },
   {
    "duration": 31,
    "start_time": "2023-05-11T17:08:03.647Z"
   },
   {
    "duration": 37,
    "start_time": "2023-05-11T17:08:12.268Z"
   },
   {
    "duration": 16,
    "start_time": "2023-05-11T17:08:17.507Z"
   },
   {
    "duration": 27,
    "start_time": "2023-05-11T17:08:47.666Z"
   },
   {
    "duration": 7,
    "start_time": "2023-05-11T17:09:33.207Z"
   },
   {
    "duration": 123,
    "start_time": "2023-05-11T17:09:33.217Z"
   },
   {
    "duration": 11,
    "start_time": "2023-05-11T17:09:33.341Z"
   },
   {
    "duration": 57,
    "start_time": "2023-05-11T17:09:33.359Z"
   },
   {
    "duration": 2314,
    "start_time": "2023-05-11T17:09:33.418Z"
   },
   {
    "duration": 18,
    "start_time": "2023-05-11T17:09:35.734Z"
   },
   {
    "duration": 68,
    "start_time": "2023-05-11T17:09:35.756Z"
   },
   {
    "duration": 34,
    "start_time": "2023-05-11T17:09:35.826Z"
   },
   {
    "duration": 0,
    "start_time": "2023-05-11T17:09:35.862Z"
   },
   {
    "duration": 0,
    "start_time": "2023-05-11T17:09:35.863Z"
   },
   {
    "duration": 13,
    "start_time": "2023-05-11T17:10:03.174Z"
   },
   {
    "duration": 5,
    "start_time": "2023-05-11T17:10:24.024Z"
   },
   {
    "duration": 6,
    "start_time": "2023-05-11T17:10:34.385Z"
   },
   {
    "duration": 125,
    "start_time": "2023-05-11T17:10:34.394Z"
   },
   {
    "duration": 7,
    "start_time": "2023-05-11T17:10:34.521Z"
   },
   {
    "duration": 7,
    "start_time": "2023-05-11T17:10:34.530Z"
   },
   {
    "duration": 26,
    "start_time": "2023-05-11T17:10:34.538Z"
   },
   {
    "duration": 2267,
    "start_time": "2023-05-11T17:10:34.571Z"
   },
   {
    "duration": 8,
    "start_time": "2023-05-11T17:10:36.841Z"
   },
   {
    "duration": 47,
    "start_time": "2023-05-11T17:10:36.855Z"
   },
   {
    "duration": 21,
    "start_time": "2023-05-11T17:10:36.904Z"
   },
   {
    "duration": 0,
    "start_time": "2023-05-11T17:10:36.927Z"
   },
   {
    "duration": 0,
    "start_time": "2023-05-11T17:10:36.929Z"
   },
   {
    "duration": 7,
    "start_time": "2023-05-11T17:11:24.078Z"
   },
   {
    "duration": 128,
    "start_time": "2023-05-11T17:11:24.096Z"
   },
   {
    "duration": 8,
    "start_time": "2023-05-11T17:11:24.226Z"
   },
   {
    "duration": 58,
    "start_time": "2023-05-11T17:11:24.236Z"
   },
   {
    "duration": 39,
    "start_time": "2023-05-11T17:11:24.297Z"
   },
   {
    "duration": 2258,
    "start_time": "2023-05-11T17:11:24.338Z"
   },
   {
    "duration": 2,
    "start_time": "2023-05-11T17:11:26.600Z"
   },
   {
    "duration": 13,
    "start_time": "2023-05-11T17:11:26.604Z"
   },
   {
    "duration": 18,
    "start_time": "2023-05-11T17:11:26.619Z"
   },
   {
    "duration": 0,
    "start_time": "2023-05-11T17:11:26.639Z"
   },
   {
    "duration": 0,
    "start_time": "2023-05-11T17:11:26.640Z"
   },
   {
    "duration": 24,
    "start_time": "2023-05-11T17:12:12.075Z"
   },
   {
    "duration": 18,
    "start_time": "2023-05-11T17:12:24.711Z"
   },
   {
    "duration": 1494,
    "start_time": "2023-05-12T06:45:09.023Z"
   },
   {
    "duration": 115,
    "start_time": "2023-05-12T06:45:10.519Z"
   },
   {
    "duration": 9,
    "start_time": "2023-05-12T06:45:10.636Z"
   },
   {
    "duration": 6,
    "start_time": "2023-05-12T06:45:10.648Z"
   },
   {
    "duration": 24,
    "start_time": "2023-05-12T06:45:10.655Z"
   },
   {
    "duration": 1646,
    "start_time": "2023-05-12T06:45:10.680Z"
   },
   {
    "duration": 3,
    "start_time": "2023-05-12T06:45:12.328Z"
   },
   {
    "duration": 9,
    "start_time": "2023-05-12T06:45:12.332Z"
   },
   {
    "duration": 156,
    "start_time": "2023-05-12T06:45:12.343Z"
   },
   {
    "duration": 0,
    "start_time": "2023-05-12T06:45:12.506Z"
   },
   {
    "duration": 0,
    "start_time": "2023-05-12T06:45:12.507Z"
   },
   {
    "duration": 17,
    "start_time": "2023-05-12T06:45:29.157Z"
   },
   {
    "duration": 394,
    "start_time": "2023-05-12T06:45:34.827Z"
   },
   {
    "duration": 20,
    "start_time": "2023-05-12T06:47:59.468Z"
   },
   {
    "duration": 10,
    "start_time": "2023-05-12T06:58:25.509Z"
   },
   {
    "duration": 9,
    "start_time": "2023-05-12T06:58:43.214Z"
   },
   {
    "duration": 18,
    "start_time": "2023-05-12T06:58:46.554Z"
   },
   {
    "duration": 17,
    "start_time": "2023-05-12T07:00:35.314Z"
   },
   {
    "duration": 9,
    "start_time": "2023-05-12T07:02:26.863Z"
   },
   {
    "duration": 18,
    "start_time": "2023-05-12T07:02:44.424Z"
   },
   {
    "duration": 17,
    "start_time": "2023-05-12T07:29:54.944Z"
   },
   {
    "duration": 17,
    "start_time": "2023-05-12T07:30:45.209Z"
   },
   {
    "duration": 5,
    "start_time": "2023-05-12T07:30:49.318Z"
   },
   {
    "duration": 126,
    "start_time": "2023-05-12T07:30:49.325Z"
   },
   {
    "duration": 10,
    "start_time": "2023-05-12T07:30:49.453Z"
   },
   {
    "duration": 6,
    "start_time": "2023-05-12T07:30:49.465Z"
   },
   {
    "duration": 11,
    "start_time": "2023-05-12T07:30:49.473Z"
   },
   {
    "duration": 1822,
    "start_time": "2023-05-12T07:30:49.486Z"
   },
   {
    "duration": 2,
    "start_time": "2023-05-12T07:30:51.310Z"
   },
   {
    "duration": 15,
    "start_time": "2023-05-12T07:30:51.314Z"
   },
   {
    "duration": 19,
    "start_time": "2023-05-12T07:30:51.330Z"
   },
   {
    "duration": 0,
    "start_time": "2023-05-12T07:30:51.351Z"
   },
   {
    "duration": 0,
    "start_time": "2023-05-12T07:30:51.352Z"
   },
   {
    "duration": 7,
    "start_time": "2023-05-12T07:45:16.005Z"
   },
   {
    "duration": 16,
    "start_time": "2023-05-12T07:48:05.513Z"
   },
   {
    "duration": 3,
    "start_time": "2023-05-12T07:53:37.951Z"
   },
   {
    "duration": 4,
    "start_time": "2023-05-12T07:53:45.513Z"
   },
   {
    "duration": 138,
    "start_time": "2023-05-12T07:53:45.518Z"
   },
   {
    "duration": 7,
    "start_time": "2023-05-12T07:53:45.657Z"
   },
   {
    "duration": 11,
    "start_time": "2023-05-12T07:53:45.666Z"
   },
   {
    "duration": 9,
    "start_time": "2023-05-12T07:53:45.678Z"
   },
   {
    "duration": 1740,
    "start_time": "2023-05-12T07:53:45.688Z"
   },
   {
    "duration": 2,
    "start_time": "2023-05-12T07:53:47.429Z"
   },
   {
    "duration": 16,
    "start_time": "2023-05-12T07:53:47.432Z"
   },
   {
    "duration": 16,
    "start_time": "2023-05-12T07:53:47.450Z"
   },
   {
    "duration": 0,
    "start_time": "2023-05-12T07:53:47.467Z"
   },
   {
    "duration": 0,
    "start_time": "2023-05-12T07:53:47.469Z"
   },
   {
    "duration": 3,
    "start_time": "2023-05-12T07:54:31.440Z"
   },
   {
    "duration": 103,
    "start_time": "2023-05-12T07:54:31.445Z"
   },
   {
    "duration": 4,
    "start_time": "2023-05-12T07:54:31.550Z"
   },
   {
    "duration": 24,
    "start_time": "2023-05-12T07:54:31.556Z"
   },
   {
    "duration": 44,
    "start_time": "2023-05-12T07:54:31.582Z"
   },
   {
    "duration": 1668,
    "start_time": "2023-05-12T07:54:31.627Z"
   },
   {
    "duration": 2,
    "start_time": "2023-05-12T07:54:33.296Z"
   },
   {
    "duration": 20,
    "start_time": "2023-05-12T07:54:33.305Z"
   },
   {
    "duration": 21,
    "start_time": "2023-05-12T07:54:33.327Z"
   },
   {
    "duration": 0,
    "start_time": "2023-05-12T07:54:33.349Z"
   },
   {
    "duration": 0,
    "start_time": "2023-05-12T07:54:33.350Z"
   },
   {
    "duration": 4,
    "start_time": "2023-05-12T07:54:50.337Z"
   },
   {
    "duration": 80,
    "start_time": "2023-05-12T07:54:50.343Z"
   },
   {
    "duration": 4,
    "start_time": "2023-05-12T07:54:50.425Z"
   },
   {
    "duration": 14,
    "start_time": "2023-05-12T07:54:50.430Z"
   },
   {
    "duration": 25,
    "start_time": "2023-05-12T07:54:50.447Z"
   },
   {
    "duration": 1942,
    "start_time": "2023-05-12T07:54:50.474Z"
   },
   {
    "duration": 3,
    "start_time": "2023-05-12T07:54:52.418Z"
   },
   {
    "duration": 36,
    "start_time": "2023-05-12T07:54:52.422Z"
   },
   {
    "duration": 27,
    "start_time": "2023-05-12T07:54:52.461Z"
   },
   {
    "duration": 0,
    "start_time": "2023-05-12T07:54:52.490Z"
   },
   {
    "duration": 0,
    "start_time": "2023-05-12T07:54:52.492Z"
   },
   {
    "duration": 15,
    "start_time": "2023-05-12T08:14:03.101Z"
   },
   {
    "duration": 21,
    "start_time": "2023-05-12T08:15:44.744Z"
   },
   {
    "duration": 32,
    "start_time": "2023-05-12T08:16:48.397Z"
   },
   {
    "duration": 35,
    "start_time": "2023-05-12T08:17:43.855Z"
   },
   {
    "duration": 22,
    "start_time": "2023-05-12T08:18:56.890Z"
   },
   {
    "duration": 15,
    "start_time": "2023-05-12T08:19:39.102Z"
   },
   {
    "duration": 17,
    "start_time": "2023-05-12T08:19:42.358Z"
   },
   {
    "duration": 30,
    "start_time": "2023-05-12T08:20:35.229Z"
   },
   {
    "duration": 38,
    "start_time": "2023-05-12T08:25:12.959Z"
   },
   {
    "duration": 34,
    "start_time": "2023-05-12T08:27:56.630Z"
   },
   {
    "duration": 21,
    "start_time": "2023-05-12T08:50:37.071Z"
   },
   {
    "duration": 25,
    "start_time": "2023-05-12T08:51:10.682Z"
   },
   {
    "duration": 16,
    "start_time": "2023-05-12T08:52:22.912Z"
   },
   {
    "duration": 23,
    "start_time": "2023-05-12T08:53:31.794Z"
   },
   {
    "duration": 22,
    "start_time": "2023-05-12T08:53:40.825Z"
   },
   {
    "duration": 237,
    "start_time": "2023-05-12T08:54:03.285Z"
   },
   {
    "duration": 533,
    "start_time": "2023-05-12T08:55:54.829Z"
   },
   {
    "duration": 169,
    "start_time": "2023-05-12T08:56:06.886Z"
   },
   {
    "duration": 218,
    "start_time": "2023-05-12T08:56:12.297Z"
   },
   {
    "duration": 2043,
    "start_time": "2023-05-12T08:56:22.202Z"
   },
   {
    "duration": 1149,
    "start_time": "2023-05-12T08:56:28.999Z"
   },
   {
    "duration": 6,
    "start_time": "2023-05-12T09:28:15.000Z"
   },
   {
    "duration": 24,
    "start_time": "2023-05-12T09:29:00.578Z"
   },
   {
    "duration": 27,
    "start_time": "2023-05-12T09:31:35.721Z"
   },
   {
    "duration": 18,
    "start_time": "2023-05-12T09:32:21.668Z"
   },
   {
    "duration": 5,
    "start_time": "2023-05-12T09:38:23.985Z"
   },
   {
    "duration": 129,
    "start_time": "2023-05-12T09:38:23.992Z"
   },
   {
    "duration": 4,
    "start_time": "2023-05-12T09:38:24.123Z"
   },
   {
    "duration": 13,
    "start_time": "2023-05-12T09:38:24.128Z"
   },
   {
    "duration": 6,
    "start_time": "2023-05-12T09:38:24.143Z"
   },
   {
    "duration": 1653,
    "start_time": "2023-05-12T09:38:24.150Z"
   },
   {
    "duration": 3,
    "start_time": "2023-05-12T09:38:25.821Z"
   },
   {
    "duration": 18,
    "start_time": "2023-05-12T09:38:25.825Z"
   },
   {
    "duration": 196,
    "start_time": "2023-05-12T09:38:25.844Z"
   },
   {
    "duration": 1637,
    "start_time": "2023-05-12T09:38:26.042Z"
   },
   {
    "duration": 1638,
    "start_time": "2023-05-12T09:38:27.681Z"
   },
   {
    "duration": 91,
    "start_time": "2023-05-12T09:38:29.325Z"
   },
   {
    "duration": 16,
    "start_time": "2023-05-12T09:38:29.418Z"
   },
   {
    "duration": 16,
    "start_time": "2023-05-12T09:38:36.923Z"
   },
   {
    "duration": 14,
    "start_time": "2023-05-12T09:38:39.622Z"
   },
   {
    "duration": 398,
    "start_time": "2023-05-12T09:53:22.151Z"
   },
   {
    "duration": 903,
    "start_time": "2023-05-12T09:53:30.722Z"
   },
   {
    "duration": 351,
    "start_time": "2023-05-12T09:53:56.847Z"
   },
   {
    "duration": 98,
    "start_time": "2023-05-12T09:55:32.229Z"
   },
   {
    "duration": 3138,
    "start_time": "2023-05-12T09:56:13.329Z"
   },
   {
    "duration": 690,
    "start_time": "2023-05-12T09:56:55.919Z"
   },
   {
    "duration": 2184,
    "start_time": "2023-05-12T09:57:58.456Z"
   },
   {
    "duration": 422,
    "start_time": "2023-05-12T09:58:05.186Z"
   },
   {
    "duration": 17,
    "start_time": "2023-05-12T10:05:49.857Z"
   },
   {
    "duration": 22,
    "start_time": "2023-05-12T10:06:02.252Z"
   },
   {
    "duration": 236,
    "start_time": "2023-05-12T10:43:28.125Z"
   },
   {
    "duration": 1804,
    "start_time": "2023-05-12T10:43:32.851Z"
   },
   {
    "duration": 4,
    "start_time": "2023-05-12T10:58:01.141Z"
   },
   {
    "duration": 182,
    "start_time": "2023-05-12T10:58:01.147Z"
   },
   {
    "duration": 4,
    "start_time": "2023-05-12T10:58:01.331Z"
   },
   {
    "duration": 50,
    "start_time": "2023-05-12T10:58:01.336Z"
   },
   {
    "duration": 39,
    "start_time": "2023-05-12T10:58:01.389Z"
   },
   {
    "duration": 1944,
    "start_time": "2023-05-12T10:58:01.430Z"
   },
   {
    "duration": 2,
    "start_time": "2023-05-12T10:58:03.376Z"
   },
   {
    "duration": 16,
    "start_time": "2023-05-12T10:58:03.380Z"
   },
   {
    "duration": 239,
    "start_time": "2023-05-12T10:58:03.397Z"
   },
   {
    "duration": 1724,
    "start_time": "2023-05-12T10:58:03.638Z"
   },
   {
    "duration": 12,
    "start_time": "2023-05-12T10:58:05.364Z"
   },
   {
    "duration": 0,
    "start_time": "2023-05-12T10:58:05.378Z"
   },
   {
    "duration": 0,
    "start_time": "2023-05-12T10:58:05.379Z"
   },
   {
    "duration": 0,
    "start_time": "2023-05-12T10:58:05.381Z"
   },
   {
    "duration": 0,
    "start_time": "2023-05-12T10:58:05.382Z"
   },
   {
    "duration": 0,
    "start_time": "2023-05-12T10:58:05.383Z"
   },
   {
    "duration": 0,
    "start_time": "2023-05-12T10:58:05.408Z"
   },
   {
    "duration": 0,
    "start_time": "2023-05-12T10:58:05.409Z"
   },
   {
    "duration": 0,
    "start_time": "2023-05-12T10:58:05.410Z"
   },
   {
    "duration": 0,
    "start_time": "2023-05-12T10:58:05.412Z"
   },
   {
    "duration": 1154,
    "start_time": "2023-05-12T10:59:02.768Z"
   },
   {
    "duration": 10,
    "start_time": "2023-05-12T10:59:08.527Z"
   },
   {
    "duration": 10,
    "start_time": "2023-05-12T10:59:11.758Z"
   },
   {
    "duration": 4,
    "start_time": "2023-05-12T10:59:21.150Z"
   },
   {
    "duration": 76,
    "start_time": "2023-05-12T10:59:21.157Z"
   },
   {
    "duration": 5,
    "start_time": "2023-05-12T10:59:21.234Z"
   },
   {
    "duration": 9,
    "start_time": "2023-05-12T10:59:21.241Z"
   },
   {
    "duration": 8,
    "start_time": "2023-05-12T10:59:21.253Z"
   },
   {
    "duration": 2356,
    "start_time": "2023-05-12T10:59:21.264Z"
   },
   {
    "duration": 13,
    "start_time": "2023-05-12T10:59:23.624Z"
   },
   {
    "duration": 16,
    "start_time": "2023-05-12T10:59:23.641Z"
   },
   {
    "duration": 247,
    "start_time": "2023-05-12T10:59:23.659Z"
   },
   {
    "duration": 1908,
    "start_time": "2023-05-12T10:59:23.908Z"
   },
   {
    "duration": 2410,
    "start_time": "2023-05-12T10:59:25.821Z"
   },
   {
    "duration": 176,
    "start_time": "2023-05-12T10:59:28.233Z"
   },
   {
    "duration": 20,
    "start_time": "2023-05-12T10:59:28.411Z"
   },
   {
    "duration": 357,
    "start_time": "2023-05-12T10:59:28.434Z"
   },
   {
    "duration": 203,
    "start_time": "2023-05-12T10:59:28.793Z"
   },
   {
    "duration": 3533,
    "start_time": "2023-05-12T10:59:28.998Z"
   },
   {
    "duration": 757,
    "start_time": "2023-05-12T10:59:32.536Z"
   },
   {
    "duration": 2423,
    "start_time": "2023-05-12T10:59:33.295Z"
   },
   {
    "duration": 0,
    "start_time": "2023-05-12T10:59:35.728Z"
   },
   {
    "duration": 0,
    "start_time": "2023-05-12T10:59:35.812Z"
   },
   {
    "duration": 3416,
    "start_time": "2023-05-12T10:59:57.536Z"
   },
   {
    "duration": 2641,
    "start_time": "2023-05-12T11:00:09.375Z"
   },
   {
    "duration": 199,
    "start_time": "2023-05-12T11:00:16.620Z"
   },
   {
    "duration": 7,
    "start_time": "2023-05-12T11:00:47.456Z"
   },
   {
    "duration": 14,
    "start_time": "2023-05-12T11:05:41.860Z"
   },
   {
    "duration": 21,
    "start_time": "2023-05-12T11:05:44.628Z"
   },
   {
    "duration": 10,
    "start_time": "2023-05-12T11:12:36.058Z"
   },
   {
    "duration": 19,
    "start_time": "2023-05-12T11:12:38.552Z"
   },
   {
    "duration": 18,
    "start_time": "2023-05-12T11:12:41.056Z"
   },
   {
    "duration": 10,
    "start_time": "2023-05-12T11:12:47.216Z"
   },
   {
    "duration": 195,
    "start_time": "2023-05-12T11:16:46.847Z"
   },
   {
    "duration": 13,
    "start_time": "2023-05-12T11:22:04.945Z"
   },
   {
    "duration": 17,
    "start_time": "2023-05-12T11:24:00.004Z"
   },
   {
    "duration": 14,
    "start_time": "2023-05-12T11:24:13.558Z"
   },
   {
    "duration": 23,
    "start_time": "2023-05-12T11:27:00.505Z"
   },
   {
    "duration": 16,
    "start_time": "2023-05-12T11:27:19.901Z"
   },
   {
    "duration": 13,
    "start_time": "2023-05-12T11:28:27.827Z"
   },
   {
    "duration": 23,
    "start_time": "2023-05-12T11:29:47.505Z"
   },
   {
    "duration": 163,
    "start_time": "2023-05-12T11:30:22.245Z"
   },
   {
    "duration": 273,
    "start_time": "2023-05-12T11:31:11.322Z"
   },
   {
    "duration": 2050,
    "start_time": "2023-05-14T11:23:02.506Z"
   },
   {
    "duration": 189,
    "start_time": "2023-05-14T11:23:04.558Z"
   },
   {
    "duration": 0,
    "start_time": "2023-05-14T11:23:04.750Z"
   },
   {
    "duration": 0,
    "start_time": "2023-05-14T11:23:04.751Z"
   },
   {
    "duration": 0,
    "start_time": "2023-05-14T11:23:04.753Z"
   },
   {
    "duration": 0,
    "start_time": "2023-05-14T11:23:04.754Z"
   },
   {
    "duration": 0,
    "start_time": "2023-05-14T11:23:04.755Z"
   },
   {
    "duration": 0,
    "start_time": "2023-05-14T11:23:04.756Z"
   },
   {
    "duration": 0,
    "start_time": "2023-05-14T11:23:04.760Z"
   },
   {
    "duration": 0,
    "start_time": "2023-05-14T11:23:04.761Z"
   },
   {
    "duration": 0,
    "start_time": "2023-05-14T11:23:04.762Z"
   },
   {
    "duration": 0,
    "start_time": "2023-05-14T11:23:04.764Z"
   },
   {
    "duration": 0,
    "start_time": "2023-05-14T11:23:04.765Z"
   },
   {
    "duration": 0,
    "start_time": "2023-05-14T11:23:04.766Z"
   },
   {
    "duration": 0,
    "start_time": "2023-05-14T11:23:04.767Z"
   },
   {
    "duration": 0,
    "start_time": "2023-05-14T11:23:04.769Z"
   },
   {
    "duration": 0,
    "start_time": "2023-05-14T11:23:04.770Z"
   },
   {
    "duration": 0,
    "start_time": "2023-05-14T11:23:04.771Z"
   },
   {
    "duration": 0,
    "start_time": "2023-05-14T11:23:04.772Z"
   },
   {
    "duration": 0,
    "start_time": "2023-05-14T11:23:04.773Z"
   },
   {
    "duration": 0,
    "start_time": "2023-05-14T11:23:04.774Z"
   },
   {
    "duration": 0,
    "start_time": "2023-05-14T11:23:04.775Z"
   },
   {
    "duration": 8,
    "start_time": "2023-05-14T11:34:37.243Z"
   },
   {
    "duration": 0,
    "start_time": "2023-05-14T11:34:37.254Z"
   },
   {
    "duration": 0,
    "start_time": "2023-05-14T11:34:37.255Z"
   },
   {
    "duration": 0,
    "start_time": "2023-05-14T11:34:37.256Z"
   },
   {
    "duration": 0,
    "start_time": "2023-05-14T11:34:37.258Z"
   },
   {
    "duration": 9,
    "start_time": "2023-05-14T11:34:37.272Z"
   },
   {
    "duration": 0,
    "start_time": "2023-05-14T11:34:37.283Z"
   },
   {
    "duration": 0,
    "start_time": "2023-05-14T11:34:37.285Z"
   },
   {
    "duration": 0,
    "start_time": "2023-05-14T11:34:37.286Z"
   },
   {
    "duration": 0,
    "start_time": "2023-05-14T11:34:37.287Z"
   },
   {
    "duration": 10,
    "start_time": "2023-05-14T11:34:37.360Z"
   },
   {
    "duration": 0,
    "start_time": "2023-05-14T11:34:37.372Z"
   },
   {
    "duration": 0,
    "start_time": "2023-05-14T11:34:37.373Z"
   },
   {
    "duration": 0,
    "start_time": "2023-05-14T11:34:37.374Z"
   },
   {
    "duration": 0,
    "start_time": "2023-05-14T11:34:37.376Z"
   },
   {
    "duration": 0,
    "start_time": "2023-05-14T11:34:37.377Z"
   },
   {
    "duration": 0,
    "start_time": "2023-05-14T11:34:37.378Z"
   },
   {
    "duration": 0,
    "start_time": "2023-05-14T11:34:37.379Z"
   },
   {
    "duration": 0,
    "start_time": "2023-05-14T11:34:37.379Z"
   },
   {
    "duration": 0,
    "start_time": "2023-05-14T11:34:37.380Z"
   },
   {
    "duration": 59,
    "start_time": "2023-05-14T11:39:20.864Z"
   },
   {
    "duration": 6,
    "start_time": "2023-05-14T11:39:20.926Z"
   },
   {
    "duration": 43,
    "start_time": "2023-05-14T11:39:20.934Z"
   },
   {
    "duration": 11,
    "start_time": "2023-05-14T11:39:20.978Z"
   },
   {
    "duration": 1780,
    "start_time": "2023-05-14T11:39:20.991Z"
   },
   {
    "duration": 13,
    "start_time": "2023-05-14T11:39:22.773Z"
   },
   {
    "duration": 21,
    "start_time": "2023-05-14T11:39:22.788Z"
   },
   {
    "duration": 0,
    "start_time": "2023-05-14T11:39:22.811Z"
   },
   {
    "duration": 0,
    "start_time": "2023-05-14T11:39:22.824Z"
   },
   {
    "duration": 0,
    "start_time": "2023-05-14T11:39:22.824Z"
   },
   {
    "duration": 0,
    "start_time": "2023-05-14T11:39:22.825Z"
   },
   {
    "duration": 0,
    "start_time": "2023-05-14T11:39:22.825Z"
   },
   {
    "duration": 0,
    "start_time": "2023-05-14T11:39:22.826Z"
   },
   {
    "duration": 0,
    "start_time": "2023-05-14T11:39:22.826Z"
   },
   {
    "duration": 0,
    "start_time": "2023-05-14T11:39:22.827Z"
   },
   {
    "duration": 0,
    "start_time": "2023-05-14T11:39:22.832Z"
   },
   {
    "duration": 0,
    "start_time": "2023-05-14T11:39:22.833Z"
   },
   {
    "duration": 0,
    "start_time": "2023-05-14T11:39:22.834Z"
   },
   {
    "duration": 0,
    "start_time": "2023-05-14T11:39:22.835Z"
   },
   {
    "duration": 0,
    "start_time": "2023-05-14T11:39:22.836Z"
   },
   {
    "duration": 0,
    "start_time": "2023-05-14T11:39:22.837Z"
   },
   {
    "duration": 2169,
    "start_time": "2023-05-15T06:25:57.665Z"
   },
   {
    "duration": 207,
    "start_time": "2023-05-15T06:25:59.837Z"
   },
   {
    "duration": 7,
    "start_time": "2023-05-15T06:26:00.046Z"
   },
   {
    "duration": 27,
    "start_time": "2023-05-15T06:26:00.056Z"
   },
   {
    "duration": 26,
    "start_time": "2023-05-15T06:26:00.087Z"
   },
   {
    "duration": 2354,
    "start_time": "2023-05-15T06:26:00.115Z"
   },
   {
    "duration": 28,
    "start_time": "2023-05-15T06:26:02.470Z"
   },
   {
    "duration": 153,
    "start_time": "2023-05-15T06:26:02.500Z"
   },
   {
    "duration": 0,
    "start_time": "2023-05-15T06:26:02.656Z"
   },
   {
    "duration": 0,
    "start_time": "2023-05-15T06:26:02.657Z"
   },
   {
    "duration": 0,
    "start_time": "2023-05-15T06:26:02.658Z"
   },
   {
    "duration": 0,
    "start_time": "2023-05-15T06:26:02.660Z"
   },
   {
    "duration": 0,
    "start_time": "2023-05-15T06:26:02.661Z"
   },
   {
    "duration": 0,
    "start_time": "2023-05-15T06:26:02.662Z"
   },
   {
    "duration": 0,
    "start_time": "2023-05-15T06:26:02.664Z"
   },
   {
    "duration": 0,
    "start_time": "2023-05-15T06:26:02.665Z"
   },
   {
    "duration": 0,
    "start_time": "2023-05-15T06:26:02.666Z"
   },
   {
    "duration": 0,
    "start_time": "2023-05-15T06:26:02.668Z"
   },
   {
    "duration": 0,
    "start_time": "2023-05-15T06:26:02.669Z"
   },
   {
    "duration": 0,
    "start_time": "2023-05-15T06:26:02.670Z"
   },
   {
    "duration": 0,
    "start_time": "2023-05-15T06:26:02.697Z"
   },
   {
    "duration": 0,
    "start_time": "2023-05-15T06:26:02.699Z"
   },
   {
    "duration": 27,
    "start_time": "2023-05-15T06:31:47.212Z"
   },
   {
    "duration": 5,
    "start_time": "2023-05-15T06:32:00.281Z"
   },
   {
    "duration": 102,
    "start_time": "2023-05-15T06:32:00.289Z"
   },
   {
    "duration": 7,
    "start_time": "2023-05-15T06:32:00.393Z"
   },
   {
    "duration": 10,
    "start_time": "2023-05-15T06:32:00.402Z"
   },
   {
    "duration": 16,
    "start_time": "2023-05-15T06:32:00.415Z"
   },
   {
    "duration": 2057,
    "start_time": "2023-05-15T06:32:00.433Z"
   },
   {
    "duration": 16,
    "start_time": "2023-05-15T06:32:02.497Z"
   },
   {
    "duration": 39,
    "start_time": "2023-05-15T06:32:02.515Z"
   },
   {
    "duration": 0,
    "start_time": "2023-05-15T06:32:02.556Z"
   },
   {
    "duration": 0,
    "start_time": "2023-05-15T06:32:02.557Z"
   },
   {
    "duration": 0,
    "start_time": "2023-05-15T06:32:02.558Z"
   },
   {
    "duration": 0,
    "start_time": "2023-05-15T06:32:02.560Z"
   },
   {
    "duration": 0,
    "start_time": "2023-05-15T06:32:02.561Z"
   },
   {
    "duration": 0,
    "start_time": "2023-05-15T06:32:02.562Z"
   },
   {
    "duration": 0,
    "start_time": "2023-05-15T06:32:02.564Z"
   },
   {
    "duration": 1,
    "start_time": "2023-05-15T06:32:02.565Z"
   },
   {
    "duration": 0,
    "start_time": "2023-05-15T06:32:02.567Z"
   },
   {
    "duration": 0,
    "start_time": "2023-05-15T06:32:02.570Z"
   },
   {
    "duration": 0,
    "start_time": "2023-05-15T06:32:02.572Z"
   },
   {
    "duration": 0,
    "start_time": "2023-05-15T06:32:02.598Z"
   },
   {
    "duration": 0,
    "start_time": "2023-05-15T06:32:02.599Z"
   },
   {
    "duration": 0,
    "start_time": "2023-05-15T06:32:02.600Z"
   },
   {
    "duration": 14,
    "start_time": "2023-05-15T06:32:16.017Z"
   },
   {
    "duration": 5,
    "start_time": "2023-05-15T06:32:24.154Z"
   },
   {
    "duration": 57,
    "start_time": "2023-05-15T06:32:27.904Z"
   },
   {
    "duration": 6,
    "start_time": "2023-05-15T06:32:32.178Z"
   },
   {
    "duration": 6,
    "start_time": "2023-05-15T06:32:42.258Z"
   },
   {
    "duration": 9,
    "start_time": "2023-05-15T06:32:45.179Z"
   },
   {
    "duration": 2207,
    "start_time": "2023-05-15T06:32:49.409Z"
   },
   {
    "duration": 18,
    "start_time": "2023-05-15T06:33:02.194Z"
   },
   {
    "duration": 33,
    "start_time": "2023-05-15T06:45:09.540Z"
   },
   {
    "duration": 21,
    "start_time": "2023-05-15T06:48:20.411Z"
   },
   {
    "duration": 25,
    "start_time": "2023-05-15T06:48:42.725Z"
   },
   {
    "duration": 18,
    "start_time": "2023-05-15T06:49:25.926Z"
   },
   {
    "duration": 4,
    "start_time": "2023-05-15T06:50:12.891Z"
   },
   {
    "duration": 64,
    "start_time": "2023-05-15T06:50:12.900Z"
   },
   {
    "duration": 6,
    "start_time": "2023-05-15T06:50:12.966Z"
   },
   {
    "duration": 10,
    "start_time": "2023-05-15T06:50:12.973Z"
   },
   {
    "duration": 13,
    "start_time": "2023-05-15T06:50:12.985Z"
   },
   {
    "duration": 1901,
    "start_time": "2023-05-15T06:50:13.000Z"
   },
   {
    "duration": 17,
    "start_time": "2023-05-15T06:50:14.903Z"
   },
   {
    "duration": 17,
    "start_time": "2023-05-15T06:50:14.921Z"
   },
   {
    "duration": 0,
    "start_time": "2023-05-15T06:50:14.940Z"
   },
   {
    "duration": 0,
    "start_time": "2023-05-15T06:50:14.941Z"
   },
   {
    "duration": 0,
    "start_time": "2023-05-15T06:50:14.942Z"
   },
   {
    "duration": 0,
    "start_time": "2023-05-15T06:50:14.944Z"
   },
   {
    "duration": 0,
    "start_time": "2023-05-15T06:50:14.946Z"
   },
   {
    "duration": 0,
    "start_time": "2023-05-15T06:50:14.948Z"
   },
   {
    "duration": 0,
    "start_time": "2023-05-15T06:50:14.949Z"
   },
   {
    "duration": 0,
    "start_time": "2023-05-15T06:50:14.950Z"
   },
   {
    "duration": 0,
    "start_time": "2023-05-15T06:50:14.951Z"
   },
   {
    "duration": 0,
    "start_time": "2023-05-15T06:50:14.952Z"
   },
   {
    "duration": 0,
    "start_time": "2023-05-15T06:50:14.954Z"
   },
   {
    "duration": 0,
    "start_time": "2023-05-15T06:50:14.954Z"
   },
   {
    "duration": 0,
    "start_time": "2023-05-15T06:50:14.955Z"
   },
   {
    "duration": 0,
    "start_time": "2023-05-15T06:50:14.998Z"
   },
   {
    "duration": 15,
    "start_time": "2023-05-15T06:53:57.163Z"
   },
   {
    "duration": 4,
    "start_time": "2023-05-15T06:54:12.000Z"
   },
   {
    "duration": 87,
    "start_time": "2023-05-15T06:54:12.007Z"
   },
   {
    "duration": 19,
    "start_time": "2023-05-15T06:54:12.096Z"
   },
   {
    "duration": 17,
    "start_time": "2023-05-15T06:54:12.118Z"
   },
   {
    "duration": 30,
    "start_time": "2023-05-15T06:54:12.138Z"
   },
   {
    "duration": 2153,
    "start_time": "2023-05-15T06:54:12.170Z"
   },
   {
    "duration": 18,
    "start_time": "2023-05-15T06:54:14.324Z"
   },
   {
    "duration": 42,
    "start_time": "2023-05-15T06:54:14.343Z"
   },
   {
    "duration": 0,
    "start_time": "2023-05-15T06:54:14.388Z"
   },
   {
    "duration": 1,
    "start_time": "2023-05-15T06:54:14.389Z"
   },
   {
    "duration": 0,
    "start_time": "2023-05-15T06:54:14.391Z"
   },
   {
    "duration": 0,
    "start_time": "2023-05-15T06:54:14.392Z"
   },
   {
    "duration": 0,
    "start_time": "2023-05-15T06:54:14.397Z"
   },
   {
    "duration": 0,
    "start_time": "2023-05-15T06:54:14.398Z"
   },
   {
    "duration": 0,
    "start_time": "2023-05-15T06:54:14.400Z"
   },
   {
    "duration": 0,
    "start_time": "2023-05-15T06:54:14.400Z"
   },
   {
    "duration": 0,
    "start_time": "2023-05-15T06:54:14.402Z"
   },
   {
    "duration": 0,
    "start_time": "2023-05-15T06:54:14.402Z"
   },
   {
    "duration": 0,
    "start_time": "2023-05-15T06:54:14.403Z"
   },
   {
    "duration": 0,
    "start_time": "2023-05-15T06:54:14.404Z"
   },
   {
    "duration": 0,
    "start_time": "2023-05-15T06:54:14.406Z"
   },
   {
    "duration": 0,
    "start_time": "2023-05-15T06:54:14.407Z"
   },
   {
    "duration": 14,
    "start_time": "2023-05-15T06:54:45.276Z"
   },
   {
    "duration": 4,
    "start_time": "2023-05-15T06:54:55.673Z"
   },
   {
    "duration": 75,
    "start_time": "2023-05-15T06:54:55.679Z"
   },
   {
    "duration": 13,
    "start_time": "2023-05-15T06:54:55.756Z"
   },
   {
    "duration": 5,
    "start_time": "2023-05-15T06:54:55.770Z"
   },
   {
    "duration": 25,
    "start_time": "2023-05-15T06:54:55.777Z"
   },
   {
    "duration": 1921,
    "start_time": "2023-05-15T06:54:55.804Z"
   },
   {
    "duration": 17,
    "start_time": "2023-05-15T06:54:57.727Z"
   },
   {
    "duration": 18,
    "start_time": "2023-05-15T06:54:57.746Z"
   },
   {
    "duration": 0,
    "start_time": "2023-05-15T06:54:57.766Z"
   },
   {
    "duration": 0,
    "start_time": "2023-05-15T06:54:57.767Z"
   },
   {
    "duration": 0,
    "start_time": "2023-05-15T06:54:57.768Z"
   },
   {
    "duration": 0,
    "start_time": "2023-05-15T06:54:57.769Z"
   },
   {
    "duration": 0,
    "start_time": "2023-05-15T06:54:57.770Z"
   },
   {
    "duration": 0,
    "start_time": "2023-05-15T06:54:57.771Z"
   },
   {
    "duration": 0,
    "start_time": "2023-05-15T06:54:57.797Z"
   },
   {
    "duration": 0,
    "start_time": "2023-05-15T06:54:57.798Z"
   },
   {
    "duration": 0,
    "start_time": "2023-05-15T06:54:57.799Z"
   },
   {
    "duration": 0,
    "start_time": "2023-05-15T06:54:57.801Z"
   },
   {
    "duration": 0,
    "start_time": "2023-05-15T06:54:57.802Z"
   },
   {
    "duration": 0,
    "start_time": "2023-05-15T06:54:57.803Z"
   },
   {
    "duration": 0,
    "start_time": "2023-05-15T06:54:57.804Z"
   },
   {
    "duration": 0,
    "start_time": "2023-05-15T06:54:57.805Z"
   },
   {
    "duration": 15,
    "start_time": "2023-05-15T06:55:45.218Z"
   },
   {
    "duration": 6,
    "start_time": "2023-05-15T06:55:51.131Z"
   },
   {
    "duration": 71,
    "start_time": "2023-05-15T06:55:51.145Z"
   },
   {
    "duration": 22,
    "start_time": "2023-05-15T06:55:51.219Z"
   },
   {
    "duration": 7,
    "start_time": "2023-05-15T06:55:51.243Z"
   },
   {
    "duration": 16,
    "start_time": "2023-05-15T06:55:51.253Z"
   },
   {
    "duration": 2349,
    "start_time": "2023-05-15T06:55:51.272Z"
   },
   {
    "duration": 21,
    "start_time": "2023-05-15T06:55:53.623Z"
   },
   {
    "duration": 236,
    "start_time": "2023-05-15T06:55:53.646Z"
   },
   {
    "duration": 1773,
    "start_time": "2023-05-15T06:55:53.885Z"
   },
   {
    "duration": 641,
    "start_time": "2023-05-15T06:55:55.660Z"
   },
   {
    "duration": 103,
    "start_time": "2023-05-15T06:55:56.305Z"
   },
   {
    "duration": 17,
    "start_time": "2023-05-15T06:55:56.410Z"
   },
   {
    "duration": 476,
    "start_time": "2023-05-15T06:55:56.429Z"
   },
   {
    "duration": 274,
    "start_time": "2023-05-15T06:55:56.908Z"
   },
   {
    "duration": 3067,
    "start_time": "2023-05-15T06:55:57.185Z"
   },
   {
    "duration": 723,
    "start_time": "2023-05-15T06:56:00.254Z"
   },
   {
    "duration": 2217,
    "start_time": "2023-05-15T06:56:00.979Z"
   },
   {
    "duration": 1006,
    "start_time": "2023-05-15T06:56:03.204Z"
   },
   {
    "duration": 99,
    "start_time": "2023-05-15T06:56:04.212Z"
   },
   {
    "duration": 23,
    "start_time": "2023-05-15T06:56:04.399Z"
   },
   {
    "duration": 72,
    "start_time": "2023-05-15T06:56:04.425Z"
   },
   {
    "duration": 309,
    "start_time": "2023-05-15T06:56:04.500Z"
   },
   {
    "duration": 31,
    "start_time": "2023-05-15T07:11:09.087Z"
   },
   {
    "duration": 16,
    "start_time": "2023-05-15T07:12:06.864Z"
   },
   {
    "duration": 16,
    "start_time": "2023-05-15T07:12:46.920Z"
   },
   {
    "duration": 14,
    "start_time": "2023-05-15T07:12:59.302Z"
   },
   {
    "duration": 16,
    "start_time": "2023-05-15T07:13:17.981Z"
   },
   {
    "duration": 1686,
    "start_time": "2023-05-15T07:14:56.646Z"
   },
   {
    "duration": 12,
    "start_time": "2023-05-15T07:17:38.444Z"
   },
   {
    "duration": 14,
    "start_time": "2023-05-15T07:17:41.925Z"
   },
   {
    "duration": 252,
    "start_time": "2023-05-15T07:20:10.078Z"
   },
   {
    "duration": 4,
    "start_time": "2023-05-15T07:20:14.848Z"
   },
   {
    "duration": 84,
    "start_time": "2023-05-15T07:20:14.854Z"
   },
   {
    "duration": 13,
    "start_time": "2023-05-15T07:20:14.940Z"
   },
   {
    "duration": 14,
    "start_time": "2023-05-15T07:20:14.954Z"
   },
   {
    "duration": 25,
    "start_time": "2023-05-15T07:20:14.970Z"
   },
   {
    "duration": 2094,
    "start_time": "2023-05-15T07:20:14.997Z"
   },
   {
    "duration": 29,
    "start_time": "2023-05-15T07:20:17.092Z"
   },
   {
    "duration": 233,
    "start_time": "2023-05-15T07:20:17.123Z"
   },
   {
    "duration": 1473,
    "start_time": "2023-05-15T07:20:17.357Z"
   },
   {
    "duration": 1294,
    "start_time": "2023-05-15T07:20:18.833Z"
   },
   {
    "duration": 116,
    "start_time": "2023-05-15T07:20:20.199Z"
   },
   {
    "duration": 27,
    "start_time": "2023-05-15T07:20:20.319Z"
   },
   {
    "duration": 259,
    "start_time": "2023-05-15T07:20:20.348Z"
   },
   {
    "duration": 174,
    "start_time": "2023-05-15T07:20:20.610Z"
   },
   {
    "duration": 2089,
    "start_time": "2023-05-15T07:20:20.786Z"
   },
   {
    "duration": 646,
    "start_time": "2023-05-15T07:20:22.877Z"
   },
   {
    "duration": 2172,
    "start_time": "2023-05-15T07:20:23.524Z"
   },
   {
    "duration": 1116,
    "start_time": "2023-05-15T07:20:25.706Z"
   },
   {
    "duration": 70,
    "start_time": "2023-05-15T07:20:26.840Z"
   },
   {
    "duration": 89,
    "start_time": "2023-05-15T07:20:26.917Z"
   },
   {
    "duration": 34,
    "start_time": "2023-05-15T07:20:27.010Z"
   },
   {
    "duration": 284,
    "start_time": "2023-05-15T07:20:27.101Z"
   },
   {
    "duration": 753,
    "start_time": "2023-05-15T07:29:41.555Z"
   },
   {
    "duration": 47,
    "start_time": "2023-05-15T07:30:09.850Z"
   },
   {
    "duration": 3,
    "start_time": "2023-05-15T07:30:24.803Z"
   },
   {
    "duration": 59,
    "start_time": "2023-05-15T07:30:24.810Z"
   },
   {
    "duration": 14,
    "start_time": "2023-05-15T07:30:24.870Z"
   },
   {
    "duration": 5,
    "start_time": "2023-05-15T07:30:24.886Z"
   },
   {
    "duration": 16,
    "start_time": "2023-05-15T07:30:24.893Z"
   },
   {
    "duration": 2069,
    "start_time": "2023-05-15T07:30:24.911Z"
   },
   {
    "duration": 24,
    "start_time": "2023-05-15T07:30:26.982Z"
   },
   {
    "duration": 215,
    "start_time": "2023-05-15T07:30:27.008Z"
   },
   {
    "duration": 1386,
    "start_time": "2023-05-15T07:30:27.226Z"
   },
   {
    "duration": 588,
    "start_time": "2023-05-15T07:30:28.614Z"
   },
   {
    "duration": 102,
    "start_time": "2023-05-15T07:30:29.206Z"
   },
   {
    "duration": 11,
    "start_time": "2023-05-15T07:30:29.310Z"
   },
   {
    "duration": 262,
    "start_time": "2023-05-15T07:30:29.323Z"
   },
   {
    "duration": 188,
    "start_time": "2023-05-15T07:30:29.587Z"
   },
   {
    "duration": 52,
    "start_time": "2023-05-15T07:30:29.777Z"
   },
   {
    "duration": 0,
    "start_time": "2023-05-15T07:30:29.831Z"
   },
   {
    "duration": 0,
    "start_time": "2023-05-15T07:30:29.832Z"
   },
   {
    "duration": 0,
    "start_time": "2023-05-15T07:30:29.833Z"
   },
   {
    "duration": 0,
    "start_time": "2023-05-15T07:30:29.834Z"
   },
   {
    "duration": 0,
    "start_time": "2023-05-15T07:30:29.835Z"
   },
   {
    "duration": 0,
    "start_time": "2023-05-15T07:30:29.836Z"
   },
   {
    "duration": 0,
    "start_time": "2023-05-15T07:30:29.837Z"
   },
   {
    "duration": 623,
    "start_time": "2023-05-15T07:35:49.489Z"
   },
   {
    "duration": 46,
    "start_time": "2023-05-15T07:35:54.762Z"
   },
   {
    "duration": 1846,
    "start_time": "2023-05-15T07:36:24.136Z"
   },
   {
    "duration": 1196,
    "start_time": "2023-05-15T07:36:36.207Z"
   },
   {
    "duration": 620,
    "start_time": "2023-05-15T07:36:40.182Z"
   },
   {
    "duration": 198,
    "start_time": "2023-05-15T08:00:43.682Z"
   },
   {
    "duration": 202,
    "start_time": "2023-05-15T08:01:25.725Z"
   },
   {
    "duration": 1968,
    "start_time": "2023-05-15T08:01:51.080Z"
   },
   {
    "duration": 250,
    "start_time": "2023-05-15T08:02:25.594Z"
   },
   {
    "duration": 621,
    "start_time": "2023-05-15T08:02:54.760Z"
   },
   {
    "duration": 738,
    "start_time": "2023-05-15T08:03:50.865Z"
   },
   {
    "duration": 862,
    "start_time": "2023-05-15T08:04:08.039Z"
   },
   {
    "duration": 906,
    "start_time": "2023-05-15T08:09:19.494Z"
   },
   {
    "duration": 459,
    "start_time": "2023-05-15T08:09:55.641Z"
   },
   {
    "duration": 10,
    "start_time": "2023-05-15T08:10:29.101Z"
   },
   {
    "duration": 17,
    "start_time": "2023-05-15T08:10:32.423Z"
   },
   {
    "duration": 62,
    "start_time": "2023-05-15T08:10:37.636Z"
   },
   {
    "duration": 8,
    "start_time": "2023-05-15T08:12:43.654Z"
   },
   {
    "duration": 17,
    "start_time": "2023-05-15T08:13:43.582Z"
   },
   {
    "duration": 15,
    "start_time": "2023-05-15T08:14:33.789Z"
   },
   {
    "duration": 192,
    "start_time": "2023-05-15T08:14:45.606Z"
   },
   {
    "duration": 16,
    "start_time": "2023-05-15T08:16:02.396Z"
   },
   {
    "duration": 177,
    "start_time": "2023-05-15T08:16:08.749Z"
   },
   {
    "duration": 536,
    "start_time": "2023-05-15T08:47:10.876Z"
   },
   {
    "duration": 674,
    "start_time": "2023-05-15T08:52:28.425Z"
   },
   {
    "duration": 317,
    "start_time": "2023-05-15T08:52:45.188Z"
   },
   {
    "duration": 800,
    "start_time": "2023-05-15T08:58:46.504Z"
   },
   {
    "duration": 369,
    "start_time": "2023-05-15T08:58:50.431Z"
   },
   {
    "duration": 281,
    "start_time": "2023-05-15T09:23:49.727Z"
   },
   {
    "duration": 333,
    "start_time": "2023-05-15T09:24:02.859Z"
   },
   {
    "duration": 278,
    "start_time": "2023-05-15T09:24:17.991Z"
   },
   {
    "duration": 300,
    "start_time": "2023-05-15T09:24:24.581Z"
   },
   {
    "duration": 957,
    "start_time": "2023-05-15T09:27:59.206Z"
   },
   {
    "duration": 3582,
    "start_time": "2023-05-15T09:28:20.158Z"
   },
   {
    "duration": 5343,
    "start_time": "2023-05-15T09:28:47.095Z"
   },
   {
    "duration": 1455,
    "start_time": "2023-05-15T09:30:50.596Z"
   },
   {
    "duration": 974,
    "start_time": "2023-05-15T09:31:48.452Z"
   },
   {
    "duration": 26,
    "start_time": "2023-05-15T09:41:10.889Z"
   },
   {
    "duration": 15,
    "start_time": "2023-05-15T09:41:16.896Z"
   },
   {
    "duration": 9,
    "start_time": "2023-05-15T09:41:20.575Z"
   },
   {
    "duration": 228,
    "start_time": "2023-05-15T09:46:37.192Z"
   },
   {
    "duration": 155,
    "start_time": "2023-05-15T10:34:00.391Z"
   },
   {
    "duration": 222,
    "start_time": "2023-05-15T11:23:02.629Z"
   },
   {
    "duration": 231,
    "start_time": "2023-05-15T11:23:25.495Z"
   },
   {
    "duration": 372,
    "start_time": "2023-05-15T11:25:54.714Z"
   },
   {
    "duration": 950,
    "start_time": "2023-05-15T11:27:39.550Z"
   },
   {
    "duration": 2224,
    "start_time": "2023-05-15T11:29:24.798Z"
   },
   {
    "duration": 347,
    "start_time": "2023-05-15T11:29:36.077Z"
   },
   {
    "duration": 111,
    "start_time": "2023-05-15T11:32:25.731Z"
   },
   {
    "duration": 214,
    "start_time": "2023-05-15T11:32:30.263Z"
   },
   {
    "duration": 640,
    "start_time": "2023-05-15T11:32:34.983Z"
   },
   {
    "duration": 556,
    "start_time": "2023-05-15T11:32:56.912Z"
   },
   {
    "duration": 177,
    "start_time": "2023-05-15T11:33:12.029Z"
   },
   {
    "duration": 183,
    "start_time": "2023-05-15T11:33:18.896Z"
   },
   {
    "duration": 13,
    "start_time": "2023-05-15T15:05:29.626Z"
   },
   {
    "duration": 4,
    "start_time": "2023-05-15T15:05:36.464Z"
   },
   {
    "duration": 103,
    "start_time": "2023-05-15T15:05:36.472Z"
   },
   {
    "duration": 13,
    "start_time": "2023-05-15T15:05:36.577Z"
   },
   {
    "duration": 49,
    "start_time": "2023-05-15T15:05:36.591Z"
   },
   {
    "duration": 13,
    "start_time": "2023-05-15T15:05:36.643Z"
   },
   {
    "duration": 2304,
    "start_time": "2023-05-15T15:05:36.658Z"
   },
   {
    "duration": 20,
    "start_time": "2023-05-15T15:05:38.964Z"
   },
   {
    "duration": 29,
    "start_time": "2023-05-15T15:05:39.002Z"
   },
   {
    "duration": 0,
    "start_time": "2023-05-15T15:05:39.034Z"
   },
   {
    "duration": 0,
    "start_time": "2023-05-15T15:05:39.036Z"
   },
   {
    "duration": 0,
    "start_time": "2023-05-15T15:05:39.037Z"
   },
   {
    "duration": 0,
    "start_time": "2023-05-15T15:05:39.038Z"
   },
   {
    "duration": 0,
    "start_time": "2023-05-15T15:05:39.039Z"
   },
   {
    "duration": 0,
    "start_time": "2023-05-15T15:05:39.040Z"
   },
   {
    "duration": 0,
    "start_time": "2023-05-15T15:05:39.041Z"
   },
   {
    "duration": 0,
    "start_time": "2023-05-15T15:05:39.042Z"
   },
   {
    "duration": 0,
    "start_time": "2023-05-15T15:05:39.043Z"
   },
   {
    "duration": 0,
    "start_time": "2023-05-15T15:05:39.043Z"
   },
   {
    "duration": 0,
    "start_time": "2023-05-15T15:05:39.044Z"
   },
   {
    "duration": 0,
    "start_time": "2023-05-15T15:05:39.046Z"
   },
   {
    "duration": 0,
    "start_time": "2023-05-15T15:05:39.047Z"
   },
   {
    "duration": 1,
    "start_time": "2023-05-15T15:05:39.047Z"
   },
   {
    "duration": 0,
    "start_time": "2023-05-15T15:05:39.048Z"
   },
   {
    "duration": 0,
    "start_time": "2023-05-15T15:05:39.049Z"
   },
   {
    "duration": 0,
    "start_time": "2023-05-15T15:05:39.050Z"
   },
   {
    "duration": 0,
    "start_time": "2023-05-15T15:05:39.052Z"
   },
   {
    "duration": 0,
    "start_time": "2023-05-15T15:05:39.053Z"
   },
   {
    "duration": 0,
    "start_time": "2023-05-15T15:05:39.055Z"
   },
   {
    "duration": 13,
    "start_time": "2023-05-15T15:07:03.566Z"
   },
   {
    "duration": 4,
    "start_time": "2023-05-15T15:07:23.976Z"
   },
   {
    "duration": 81,
    "start_time": "2023-05-15T15:07:23.982Z"
   },
   {
    "duration": 13,
    "start_time": "2023-05-15T15:07:24.065Z"
   },
   {
    "duration": 29,
    "start_time": "2023-05-15T15:07:24.079Z"
   },
   {
    "duration": 16,
    "start_time": "2023-05-15T15:07:24.111Z"
   },
   {
    "duration": 1875,
    "start_time": "2023-05-15T15:07:24.129Z"
   },
   {
    "duration": 18,
    "start_time": "2023-05-15T15:07:26.008Z"
   },
   {
    "duration": 187,
    "start_time": "2023-05-15T15:07:26.027Z"
   },
   {
    "duration": 4417,
    "start_time": "2023-05-15T15:07:26.216Z"
   },
   {
    "duration": 767,
    "start_time": "2023-05-15T15:07:30.634Z"
   },
   {
    "duration": 22,
    "start_time": "2023-05-15T15:07:31.403Z"
   },
   {
    "duration": 316,
    "start_time": "2023-05-15T15:07:31.429Z"
   },
   {
    "duration": 327,
    "start_time": "2023-05-15T15:07:31.747Z"
   },
   {
    "duration": 1728,
    "start_time": "2023-05-15T15:07:32.076Z"
   },
   {
    "duration": 93,
    "start_time": "2023-05-15T15:07:33.806Z"
   },
   {
    "duration": 211,
    "start_time": "2023-05-15T15:07:33.907Z"
   },
   {
    "duration": 239,
    "start_time": "2023-05-15T15:07:34.119Z"
   },
   {
    "duration": 958,
    "start_time": "2023-05-15T15:07:34.360Z"
   },
   {
    "duration": 406,
    "start_time": "2023-05-15T15:07:35.320Z"
   },
   {
    "duration": 276,
    "start_time": "2023-05-15T15:07:35.727Z"
   },
   {
    "duration": 3108,
    "start_time": "2023-05-15T15:07:36.008Z"
   },
   {
    "duration": 1375,
    "start_time": "2023-05-15T15:07:39.118Z"
   },
   {
    "duration": 1809,
    "start_time": "2023-05-15T15:07:40.505Z"
   },
   {
    "duration": 1189,
    "start_time": "2023-05-15T15:07:42.317Z"
   },
   {
    "duration": 16,
    "start_time": "2023-05-15T15:07:43.596Z"
   },
   {
    "duration": 40,
    "start_time": "2023-05-15T15:07:43.613Z"
   },
   {
    "duration": 48,
    "start_time": "2023-05-15T15:07:43.655Z"
   },
   {
    "duration": 295,
    "start_time": "2023-05-15T15:07:43.705Z"
   },
   {
    "duration": 13,
    "start_time": "2023-05-15T15:09:05.658Z"
   },
   {
    "duration": 4,
    "start_time": "2023-05-15T15:09:15.722Z"
   },
   {
    "duration": 73,
    "start_time": "2023-05-15T15:09:15.729Z"
   },
   {
    "duration": 4222,
    "start_time": "2023-05-15T15:09:15.806Z"
   },
   {
    "duration": 0,
    "start_time": "2023-05-15T15:09:20.031Z"
   },
   {
    "duration": 0,
    "start_time": "2023-05-15T15:09:20.032Z"
   },
   {
    "duration": 0,
    "start_time": "2023-05-15T15:09:20.034Z"
   },
   {
    "duration": 0,
    "start_time": "2023-05-15T15:09:20.035Z"
   },
   {
    "duration": 0,
    "start_time": "2023-05-15T15:09:20.037Z"
   },
   {
    "duration": 0,
    "start_time": "2023-05-15T15:09:20.038Z"
   },
   {
    "duration": 0,
    "start_time": "2023-05-15T15:09:20.038Z"
   },
   {
    "duration": 1,
    "start_time": "2023-05-15T15:09:20.039Z"
   },
   {
    "duration": 0,
    "start_time": "2023-05-15T15:09:20.040Z"
   },
   {
    "duration": 0,
    "start_time": "2023-05-15T15:09:20.041Z"
   },
   {
    "duration": 0,
    "start_time": "2023-05-15T15:09:20.042Z"
   },
   {
    "duration": 0,
    "start_time": "2023-05-15T15:09:20.044Z"
   },
   {
    "duration": 0,
    "start_time": "2023-05-15T15:09:20.045Z"
   },
   {
    "duration": 0,
    "start_time": "2023-05-15T15:09:20.046Z"
   },
   {
    "duration": 0,
    "start_time": "2023-05-15T15:09:20.047Z"
   },
   {
    "duration": 0,
    "start_time": "2023-05-15T15:09:20.048Z"
   },
   {
    "duration": 0,
    "start_time": "2023-05-15T15:09:20.049Z"
   },
   {
    "duration": 0,
    "start_time": "2023-05-15T15:09:20.050Z"
   },
   {
    "duration": 0,
    "start_time": "2023-05-15T15:09:20.051Z"
   },
   {
    "duration": 0,
    "start_time": "2023-05-15T15:09:20.052Z"
   },
   {
    "duration": 0,
    "start_time": "2023-05-15T15:09:20.053Z"
   },
   {
    "duration": 0,
    "start_time": "2023-05-15T15:09:20.054Z"
   },
   {
    "duration": 0,
    "start_time": "2023-05-15T15:09:20.055Z"
   },
   {
    "duration": 0,
    "start_time": "2023-05-15T15:09:20.056Z"
   },
   {
    "duration": 0,
    "start_time": "2023-05-15T15:09:20.057Z"
   },
   {
    "duration": 16,
    "start_time": "2023-05-15T15:10:12.836Z"
   },
   {
    "duration": 4,
    "start_time": "2023-05-15T15:10:17.630Z"
   },
   {
    "duration": 78,
    "start_time": "2023-05-15T15:10:17.638Z"
   },
   {
    "duration": 16,
    "start_time": "2023-05-15T15:10:17.717Z"
   },
   {
    "duration": 5,
    "start_time": "2023-05-15T15:10:17.734Z"
   },
   {
    "duration": 17,
    "start_time": "2023-05-15T15:10:17.740Z"
   },
   {
    "duration": 1905,
    "start_time": "2023-05-15T15:10:17.758Z"
   },
   {
    "duration": 18,
    "start_time": "2023-05-15T15:10:19.665Z"
   },
   {
    "duration": 185,
    "start_time": "2023-05-15T15:10:19.684Z"
   },
   {
    "duration": 4834,
    "start_time": "2023-05-15T15:10:19.871Z"
   },
   {
    "duration": 1601,
    "start_time": "2023-05-15T15:10:24.707Z"
   },
   {
    "duration": 88,
    "start_time": "2023-05-15T15:10:26.318Z"
   },
   {
    "duration": 238,
    "start_time": "2023-05-15T15:10:26.408Z"
   },
   {
    "duration": 407,
    "start_time": "2023-05-15T15:10:26.648Z"
   },
   {
    "duration": 1163,
    "start_time": "2023-05-15T15:10:27.057Z"
   },
   {
    "duration": 86,
    "start_time": "2023-05-15T15:10:28.223Z"
   },
   {
    "duration": 278,
    "start_time": "2023-05-15T15:10:28.312Z"
   },
   {
    "duration": 249,
    "start_time": "2023-05-15T15:10:28.592Z"
   },
   {
    "duration": 1157,
    "start_time": "2023-05-15T15:10:28.843Z"
   },
   {
    "duration": 312,
    "start_time": "2023-05-15T15:10:30.002Z"
   },
   {
    "duration": 286,
    "start_time": "2023-05-15T15:10:30.316Z"
   },
   {
    "duration": 3184,
    "start_time": "2023-05-15T15:10:30.604Z"
   },
   {
    "duration": 1391,
    "start_time": "2023-05-15T15:10:33.790Z"
   },
   {
    "duration": 1526,
    "start_time": "2023-05-15T15:10:35.183Z"
   },
   {
    "duration": 1186,
    "start_time": "2023-05-15T15:10:36.711Z"
   },
   {
    "duration": 99,
    "start_time": "2023-05-15T15:10:37.903Z"
   },
   {
    "duration": 40,
    "start_time": "2023-05-15T15:10:38.005Z"
   },
   {
    "duration": 58,
    "start_time": "2023-05-15T15:10:38.046Z"
   },
   {
    "duration": 297,
    "start_time": "2023-05-15T15:10:38.112Z"
   },
   {
    "duration": 13,
    "start_time": "2023-05-15T15:17:06.513Z"
   },
   {
    "duration": 6,
    "start_time": "2023-05-15T15:17:13.039Z"
   },
   {
    "duration": 92,
    "start_time": "2023-05-15T15:17:13.048Z"
   },
   {
    "duration": 20,
    "start_time": "2023-05-15T15:17:13.142Z"
   },
   {
    "duration": 0,
    "start_time": "2023-05-15T15:17:13.165Z"
   },
   {
    "duration": 0,
    "start_time": "2023-05-15T15:17:13.167Z"
   },
   {
    "duration": 0,
    "start_time": "2023-05-15T15:17:13.169Z"
   },
   {
    "duration": 0,
    "start_time": "2023-05-15T15:17:13.170Z"
   },
   {
    "duration": 0,
    "start_time": "2023-05-15T15:17:13.172Z"
   },
   {
    "duration": 0,
    "start_time": "2023-05-15T15:17:13.173Z"
   },
   {
    "duration": 0,
    "start_time": "2023-05-15T15:17:13.174Z"
   },
   {
    "duration": 0,
    "start_time": "2023-05-15T15:17:13.174Z"
   },
   {
    "duration": 0,
    "start_time": "2023-05-15T15:17:13.321Z"
   },
   {
    "duration": 0,
    "start_time": "2023-05-15T15:17:13.323Z"
   },
   {
    "duration": 0,
    "start_time": "2023-05-15T15:17:13.324Z"
   },
   {
    "duration": 0,
    "start_time": "2023-05-15T15:17:13.325Z"
   },
   {
    "duration": 0,
    "start_time": "2023-05-15T15:17:13.326Z"
   },
   {
    "duration": 0,
    "start_time": "2023-05-15T15:17:13.328Z"
   },
   {
    "duration": 0,
    "start_time": "2023-05-15T15:17:13.328Z"
   },
   {
    "duration": 0,
    "start_time": "2023-05-15T15:17:13.329Z"
   },
   {
    "duration": 0,
    "start_time": "2023-05-15T15:17:13.331Z"
   },
   {
    "duration": 0,
    "start_time": "2023-05-15T15:17:13.332Z"
   },
   {
    "duration": 0,
    "start_time": "2023-05-15T15:17:13.333Z"
   },
   {
    "duration": 0,
    "start_time": "2023-05-15T15:17:13.334Z"
   },
   {
    "duration": 0,
    "start_time": "2023-05-15T15:17:13.335Z"
   },
   {
    "duration": 0,
    "start_time": "2023-05-15T15:17:13.336Z"
   },
   {
    "duration": 0,
    "start_time": "2023-05-15T15:17:13.337Z"
   },
   {
    "duration": 0,
    "start_time": "2023-05-15T15:17:13.339Z"
   },
   {
    "duration": 0,
    "start_time": "2023-05-15T15:17:13.339Z"
   },
   {
    "duration": 5,
    "start_time": "2023-05-15T15:17:58.835Z"
   },
   {
    "duration": 63,
    "start_time": "2023-05-15T15:17:58.843Z"
   },
   {
    "duration": 313,
    "start_time": "2023-05-15T15:17:58.913Z"
   },
   {
    "duration": 0,
    "start_time": "2023-05-15T15:17:59.228Z"
   },
   {
    "duration": 0,
    "start_time": "2023-05-15T15:17:59.230Z"
   },
   {
    "duration": 0,
    "start_time": "2023-05-15T15:17:59.231Z"
   },
   {
    "duration": 0,
    "start_time": "2023-05-15T15:17:59.232Z"
   },
   {
    "duration": 0,
    "start_time": "2023-05-15T15:17:59.233Z"
   },
   {
    "duration": 0,
    "start_time": "2023-05-15T15:17:59.234Z"
   },
   {
    "duration": 0,
    "start_time": "2023-05-15T15:17:59.235Z"
   },
   {
    "duration": 0,
    "start_time": "2023-05-15T15:17:59.237Z"
   },
   {
    "duration": 0,
    "start_time": "2023-05-15T15:17:59.238Z"
   },
   {
    "duration": 0,
    "start_time": "2023-05-15T15:17:59.239Z"
   },
   {
    "duration": 0,
    "start_time": "2023-05-15T15:17:59.240Z"
   },
   {
    "duration": 0,
    "start_time": "2023-05-15T15:17:59.241Z"
   },
   {
    "duration": 0,
    "start_time": "2023-05-15T15:17:59.242Z"
   },
   {
    "duration": 0,
    "start_time": "2023-05-15T15:17:59.243Z"
   },
   {
    "duration": 0,
    "start_time": "2023-05-15T15:17:59.244Z"
   },
   {
    "duration": 0,
    "start_time": "2023-05-15T15:17:59.245Z"
   },
   {
    "duration": 0,
    "start_time": "2023-05-15T15:17:59.246Z"
   },
   {
    "duration": 0,
    "start_time": "2023-05-15T15:17:59.247Z"
   },
   {
    "duration": 0,
    "start_time": "2023-05-15T15:17:59.247Z"
   },
   {
    "duration": 0,
    "start_time": "2023-05-15T15:17:59.248Z"
   },
   {
    "duration": 0,
    "start_time": "2023-05-15T15:17:59.249Z"
   },
   {
    "duration": 0,
    "start_time": "2023-05-15T15:17:59.250Z"
   },
   {
    "duration": 0,
    "start_time": "2023-05-15T15:17:59.251Z"
   },
   {
    "duration": 0,
    "start_time": "2023-05-15T15:17:59.253Z"
   },
   {
    "duration": 0,
    "start_time": "2023-05-15T15:17:59.254Z"
   },
   {
    "duration": 14,
    "start_time": "2023-05-15T15:18:51.462Z"
   },
   {
    "duration": 19,
    "start_time": "2023-05-15T15:19:16.276Z"
   },
   {
    "duration": 5,
    "start_time": "2023-05-15T15:19:22.375Z"
   },
   {
    "duration": 77,
    "start_time": "2023-05-15T15:19:22.382Z"
   },
   {
    "duration": 14,
    "start_time": "2023-05-15T15:19:22.460Z"
   },
   {
    "duration": 6,
    "start_time": "2023-05-15T15:19:22.476Z"
   },
   {
    "duration": 17,
    "start_time": "2023-05-15T15:19:22.484Z"
   },
   {
    "duration": 2131,
    "start_time": "2023-05-15T15:19:22.505Z"
   },
   {
    "duration": 17,
    "start_time": "2023-05-15T15:19:24.638Z"
   },
   {
    "duration": 16,
    "start_time": "2023-05-15T15:19:24.656Z"
   },
   {
    "duration": 0,
    "start_time": "2023-05-15T15:19:24.674Z"
   },
   {
    "duration": 0,
    "start_time": "2023-05-15T15:19:24.675Z"
   },
   {
    "duration": 0,
    "start_time": "2023-05-15T15:19:24.676Z"
   },
   {
    "duration": 0,
    "start_time": "2023-05-15T15:19:24.677Z"
   },
   {
    "duration": 0,
    "start_time": "2023-05-15T15:19:24.678Z"
   },
   {
    "duration": 0,
    "start_time": "2023-05-15T15:19:24.679Z"
   },
   {
    "duration": 0,
    "start_time": "2023-05-15T15:19:24.698Z"
   },
   {
    "duration": 0,
    "start_time": "2023-05-15T15:19:24.701Z"
   },
   {
    "duration": 0,
    "start_time": "2023-05-15T15:19:24.701Z"
   },
   {
    "duration": 0,
    "start_time": "2023-05-15T15:19:24.702Z"
   },
   {
    "duration": 1,
    "start_time": "2023-05-15T15:19:24.707Z"
   },
   {
    "duration": 0,
    "start_time": "2023-05-15T15:19:24.708Z"
   },
   {
    "duration": 0,
    "start_time": "2023-05-15T15:19:24.709Z"
   },
   {
    "duration": 0,
    "start_time": "2023-05-15T15:19:24.709Z"
   },
   {
    "duration": 0,
    "start_time": "2023-05-15T15:19:24.710Z"
   },
   {
    "duration": 0,
    "start_time": "2023-05-15T15:19:24.711Z"
   },
   {
    "duration": 0,
    "start_time": "2023-05-15T15:19:24.711Z"
   },
   {
    "duration": 0,
    "start_time": "2023-05-15T15:19:24.712Z"
   },
   {
    "duration": 0,
    "start_time": "2023-05-15T15:19:24.712Z"
   },
   {
    "duration": 0,
    "start_time": "2023-05-15T15:19:24.713Z"
   },
   {
    "duration": 16,
    "start_time": "2023-05-15T15:20:35.294Z"
   },
   {
    "duration": 4,
    "start_time": "2023-05-15T15:20:43.923Z"
   },
   {
    "duration": 75,
    "start_time": "2023-05-15T15:20:43.929Z"
   },
   {
    "duration": 13,
    "start_time": "2023-05-15T15:20:44.006Z"
   },
   {
    "duration": 18,
    "start_time": "2023-05-15T15:20:44.021Z"
   },
   {
    "duration": 16,
    "start_time": "2023-05-15T15:20:44.041Z"
   },
   {
    "duration": 2099,
    "start_time": "2023-05-15T15:20:44.059Z"
   },
   {
    "duration": 20,
    "start_time": "2023-05-15T15:20:46.160Z"
   },
   {
    "duration": 24,
    "start_time": "2023-05-15T15:20:46.199Z"
   },
   {
    "duration": 0,
    "start_time": "2023-05-15T15:20:46.225Z"
   },
   {
    "duration": 0,
    "start_time": "2023-05-15T15:20:46.227Z"
   },
   {
    "duration": 0,
    "start_time": "2023-05-15T15:20:46.228Z"
   },
   {
    "duration": 0,
    "start_time": "2023-05-15T15:20:46.229Z"
   },
   {
    "duration": 0,
    "start_time": "2023-05-15T15:20:46.231Z"
   },
   {
    "duration": 0,
    "start_time": "2023-05-15T15:20:46.232Z"
   },
   {
    "duration": 0,
    "start_time": "2023-05-15T15:20:46.233Z"
   },
   {
    "duration": 0,
    "start_time": "2023-05-15T15:20:46.234Z"
   },
   {
    "duration": 0,
    "start_time": "2023-05-15T15:20:46.235Z"
   },
   {
    "duration": 0,
    "start_time": "2023-05-15T15:20:46.237Z"
   },
   {
    "duration": 0,
    "start_time": "2023-05-15T15:20:46.237Z"
   },
   {
    "duration": 0,
    "start_time": "2023-05-15T15:20:46.239Z"
   },
   {
    "duration": 0,
    "start_time": "2023-05-15T15:20:46.240Z"
   },
   {
    "duration": 0,
    "start_time": "2023-05-15T15:20:46.241Z"
   },
   {
    "duration": 0,
    "start_time": "2023-05-15T15:20:46.243Z"
   },
   {
    "duration": 1,
    "start_time": "2023-05-15T15:20:46.243Z"
   },
   {
    "duration": 0,
    "start_time": "2023-05-15T15:20:46.245Z"
   },
   {
    "duration": 0,
    "start_time": "2023-05-15T15:20:46.246Z"
   },
   {
    "duration": 0,
    "start_time": "2023-05-15T15:20:46.247Z"
   },
   {
    "duration": 0,
    "start_time": "2023-05-15T15:20:46.248Z"
   },
   {
    "duration": 20,
    "start_time": "2023-05-15T15:21:27.694Z"
   },
   {
    "duration": 9,
    "start_time": "2023-05-15T15:21:44.493Z"
   },
   {
    "duration": 13,
    "start_time": "2023-05-15T15:22:03.757Z"
   },
   {
    "duration": 10,
    "start_time": "2023-05-15T15:26:42.822Z"
   },
   {
    "duration": 5,
    "start_time": "2023-05-15T15:29:02.583Z"
   },
   {
    "duration": 144,
    "start_time": "2023-05-15T15:29:02.591Z"
   },
   {
    "duration": 20,
    "start_time": "2023-05-15T15:29:02.738Z"
   },
   {
    "duration": 7,
    "start_time": "2023-05-15T15:29:02.760Z"
   },
   {
    "duration": 72,
    "start_time": "2023-05-15T15:29:02.770Z"
   },
   {
    "duration": 34,
    "start_time": "2023-05-15T15:29:02.844Z"
   },
   {
    "duration": 2414,
    "start_time": "2023-05-15T15:29:02.880Z"
   },
   {
    "duration": 35,
    "start_time": "2023-05-15T15:29:05.297Z"
   },
   {
    "duration": 295,
    "start_time": "2023-05-15T15:29:05.335Z"
   },
   {
    "duration": 7034,
    "start_time": "2023-05-15T15:29:05.635Z"
   },
   {
    "duration": 768,
    "start_time": "2023-05-15T15:29:12.672Z"
   },
   {
    "duration": 162,
    "start_time": "2023-05-15T15:29:13.444Z"
   },
   {
    "duration": 323,
    "start_time": "2023-05-15T15:29:13.608Z"
   },
   {
    "duration": 460,
    "start_time": "2023-05-15T15:29:13.938Z"
   },
   {
    "duration": 1011,
    "start_time": "2023-05-15T15:29:14.401Z"
   },
   {
    "duration": 113,
    "start_time": "2023-05-15T15:29:15.429Z"
   },
   {
    "duration": 308,
    "start_time": "2023-05-15T15:29:15.545Z"
   },
   {
    "duration": 325,
    "start_time": "2023-05-15T15:29:15.856Z"
   },
   {
    "duration": 647,
    "start_time": "2023-05-15T15:29:16.183Z"
   },
   {
    "duration": 474,
    "start_time": "2023-05-15T15:29:16.834Z"
   },
   {
    "duration": 344,
    "start_time": "2023-05-15T15:29:17.310Z"
   },
   {
    "duration": 3954,
    "start_time": "2023-05-15T15:29:17.656Z"
   },
   {
    "duration": 1509,
    "start_time": "2023-05-15T15:29:21.611Z"
   },
   {
    "duration": 1893,
    "start_time": "2023-05-15T15:29:23.122Z"
   },
   {
    "duration": 996,
    "start_time": "2023-05-15T15:29:25.018Z"
   },
   {
    "duration": 83,
    "start_time": "2023-05-15T15:29:26.017Z"
   },
   {
    "duration": 117,
    "start_time": "2023-05-15T15:29:26.104Z"
   },
   {
    "duration": 75,
    "start_time": "2023-05-15T15:29:26.225Z"
   },
   {
    "duration": 320,
    "start_time": "2023-05-15T15:29:26.310Z"
   },
   {
    "duration": 8,
    "start_time": "2023-05-15T15:31:12.575Z"
   },
   {
    "duration": 8,
    "start_time": "2023-05-15T15:32:55.616Z"
   },
   {
    "duration": 12,
    "start_time": "2023-05-15T15:33:10.800Z"
   },
   {
    "duration": 8,
    "start_time": "2023-05-15T15:33:25.618Z"
   },
   {
    "duration": 8,
    "start_time": "2023-05-15T15:40:28.553Z"
   },
   {
    "duration": 7,
    "start_time": "2023-05-15T15:41:09.176Z"
   },
   {
    "duration": 8,
    "start_time": "2023-05-15T15:41:25.266Z"
   },
   {
    "duration": 7,
    "start_time": "2023-05-15T15:42:39.480Z"
   },
   {
    "duration": 7,
    "start_time": "2023-05-15T15:42:46.570Z"
   },
   {
    "duration": 8,
    "start_time": "2023-05-15T15:58:26.096Z"
   },
   {
    "duration": 80,
    "start_time": "2023-05-15T15:58:26.106Z"
   },
   {
    "duration": 18,
    "start_time": "2023-05-15T15:58:26.187Z"
   },
   {
    "duration": 26,
    "start_time": "2023-05-15T15:58:26.208Z"
   },
   {
    "duration": 6,
    "start_time": "2023-05-15T15:58:26.236Z"
   },
   {
    "duration": 20,
    "start_time": "2023-05-15T15:58:26.243Z"
   },
   {
    "duration": 2090,
    "start_time": "2023-05-15T15:58:26.265Z"
   },
   {
    "duration": 16,
    "start_time": "2023-05-15T15:58:28.356Z"
   },
   {
    "duration": 191,
    "start_time": "2023-05-15T15:58:28.374Z"
   },
   {
    "duration": 4915,
    "start_time": "2023-05-15T15:58:28.566Z"
   },
   {
    "duration": 1838,
    "start_time": "2023-05-15T15:58:33.483Z"
   },
   {
    "duration": 116,
    "start_time": "2023-05-15T15:58:35.322Z"
   },
   {
    "duration": 253,
    "start_time": "2023-05-15T15:58:35.440Z"
   },
   {
    "duration": 373,
    "start_time": "2023-05-15T15:58:35.694Z"
   },
   {
    "duration": 2234,
    "start_time": "2023-05-15T15:58:36.069Z"
   },
   {
    "duration": 92,
    "start_time": "2023-05-15T15:58:38.305Z"
   },
   {
    "duration": 249,
    "start_time": "2023-05-15T15:58:38.400Z"
   },
   {
    "duration": 259,
    "start_time": "2023-05-15T15:58:38.651Z"
   },
   {
    "duration": 1410,
    "start_time": "2023-05-15T15:58:38.912Z"
   },
   {
    "duration": 396,
    "start_time": "2023-05-15T15:58:40.324Z"
   },
   {
    "duration": 281,
    "start_time": "2023-05-15T15:58:40.726Z"
   },
   {
    "duration": 3408,
    "start_time": "2023-05-15T15:58:41.010Z"
   },
   {
    "duration": 1537,
    "start_time": "2023-05-15T15:58:44.419Z"
   },
   {
    "duration": 1746,
    "start_time": "2023-05-15T15:58:45.958Z"
   },
   {
    "duration": 1215,
    "start_time": "2023-05-15T15:58:47.713Z"
   },
   {
    "duration": 103,
    "start_time": "2023-05-15T15:58:49.002Z"
   },
   {
    "duration": 54,
    "start_time": "2023-05-15T15:58:49.111Z"
   },
   {
    "duration": 54,
    "start_time": "2023-05-15T15:58:49.166Z"
   },
   {
    "duration": 318,
    "start_time": "2023-05-15T15:58:49.229Z"
   },
   {
    "duration": 1646,
    "start_time": "2023-05-16T06:24:24.660Z"
   },
   {
    "duration": 137,
    "start_time": "2023-05-16T06:24:26.312Z"
   },
   {
    "duration": 14,
    "start_time": "2023-05-16T06:24:26.451Z"
   },
   {
    "duration": 6,
    "start_time": "2023-05-16T06:24:26.468Z"
   },
   {
    "duration": 5,
    "start_time": "2023-05-16T06:24:26.476Z"
   },
   {
    "duration": 10,
    "start_time": "2023-05-16T06:24:26.483Z"
   },
   {
    "duration": 1969,
    "start_time": "2023-05-16T06:24:26.497Z"
   },
   {
    "duration": 36,
    "start_time": "2023-05-16T06:24:28.468Z"
   },
   {
    "duration": 188,
    "start_time": "2023-05-16T06:24:28.511Z"
   },
   {
    "duration": 4977,
    "start_time": "2023-05-16T06:24:28.706Z"
   },
   {
    "duration": 443,
    "start_time": "2023-05-16T06:24:33.685Z"
   },
   {
    "duration": 37,
    "start_time": "2023-05-16T06:24:34.194Z"
   },
   {
    "duration": 5119,
    "start_time": "2023-05-16T06:24:34.296Z"
   },
   {
    "duration": 439,
    "start_time": "2023-05-16T06:24:39.419Z"
   },
   {
    "duration": 1941,
    "start_time": "2023-05-16T06:24:39.860Z"
   },
   {
    "duration": 103,
    "start_time": "2023-05-16T06:24:41.803Z"
   },
   {
    "duration": 234,
    "start_time": "2023-05-16T06:24:41.909Z"
   },
   {
    "duration": 236,
    "start_time": "2023-05-16T06:24:42.144Z"
   },
   {
    "duration": 618,
    "start_time": "2023-05-16T06:24:42.382Z"
   },
   {
    "duration": 346,
    "start_time": "2023-05-16T06:24:43.002Z"
   },
   {
    "duration": 315,
    "start_time": "2023-05-16T06:24:43.350Z"
   },
   {
    "duration": 3724,
    "start_time": "2023-05-16T06:24:43.667Z"
   },
   {
    "duration": 1539,
    "start_time": "2023-05-16T06:24:47.392Z"
   },
   {
    "duration": 2894,
    "start_time": "2023-05-16T06:24:48.933Z"
   },
   {
    "duration": 680,
    "start_time": "2023-05-16T06:24:51.828Z"
   },
   {
    "duration": 290,
    "start_time": "2023-05-16T06:24:52.510Z"
   },
   {
    "duration": 0,
    "start_time": "2023-05-16T06:24:52.801Z"
   },
   {
    "duration": 0,
    "start_time": "2023-05-16T06:24:52.804Z"
   },
   {
    "duration": 0,
    "start_time": "2023-05-16T06:24:52.805Z"
   },
   {
    "duration": 2779,
    "start_time": "2023-05-16T06:44:22.978Z"
   },
   {
    "duration": 6425,
    "start_time": "2023-05-16T06:48:00.049Z"
   },
   {
    "duration": 2808,
    "start_time": "2023-05-16T06:48:41.265Z"
   },
   {
    "duration": 282,
    "start_time": "2023-05-16T07:02:16.055Z"
   },
   {
    "duration": 3455,
    "start_time": "2023-05-16T07:02:37.556Z"
   },
   {
    "duration": 12,
    "start_time": "2023-05-16T07:04:33.738Z"
   },
   {
    "duration": 26,
    "start_time": "2023-05-16T07:05:04.357Z"
   },
   {
    "duration": 137,
    "start_time": "2023-05-16T07:05:58.279Z"
   },
   {
    "duration": 169,
    "start_time": "2023-05-16T07:06:25.316Z"
   },
   {
    "duration": 6969,
    "start_time": "2023-05-16T07:11:13.419Z"
   },
   {
    "duration": 31,
    "start_time": "2023-05-16T07:11:41.108Z"
   },
   {
    "duration": 237,
    "start_time": "2023-05-16T07:11:44.979Z"
   },
   {
    "duration": 5,
    "start_time": "2023-05-16T07:16:02.382Z"
   },
   {
    "duration": 124,
    "start_time": "2023-05-16T07:16:02.389Z"
   },
   {
    "duration": 17,
    "start_time": "2023-05-16T07:16:02.518Z"
   },
   {
    "duration": 35,
    "start_time": "2023-05-16T07:16:02.537Z"
   },
   {
    "duration": 44,
    "start_time": "2023-05-16T07:16:02.574Z"
   },
   {
    "duration": 20,
    "start_time": "2023-05-16T07:16:02.622Z"
   },
   {
    "duration": 2081,
    "start_time": "2023-05-16T07:16:02.643Z"
   },
   {
    "duration": 20,
    "start_time": "2023-05-16T07:16:04.726Z"
   },
   {
    "duration": 233,
    "start_time": "2023-05-16T07:16:04.749Z"
   },
   {
    "duration": 5199,
    "start_time": "2023-05-16T07:16:04.984Z"
   },
   {
    "duration": 1344,
    "start_time": "2023-05-16T07:16:10.185Z"
   },
   {
    "duration": 86,
    "start_time": "2023-05-16T07:16:11.530Z"
   },
   {
    "duration": 7113,
    "start_time": "2023-05-16T07:16:11.621Z"
   },
   {
    "duration": 13,
    "start_time": "2023-05-16T07:16:18.736Z"
   },
   {
    "duration": 2903,
    "start_time": "2023-05-16T07:16:18.751Z"
   },
   {
    "duration": 6529,
    "start_time": "2023-05-16T07:16:21.656Z"
   },
   {
    "duration": 32,
    "start_time": "2023-05-16T07:16:28.186Z"
   },
   {
    "duration": 184,
    "start_time": "2023-05-16T07:16:28.222Z"
   },
   {
    "duration": 69,
    "start_time": "2023-05-16T09:49:00.262Z"
   },
   {
    "duration": 8,
    "start_time": "2023-05-16T09:50:52.792Z"
   },
   {
    "duration": 1757,
    "start_time": "2023-05-16T09:51:05.494Z"
   },
   {
    "duration": 188,
    "start_time": "2023-05-16T09:51:07.254Z"
   },
   {
    "duration": 16,
    "start_time": "2023-05-16T09:51:07.445Z"
   },
   {
    "duration": 31,
    "start_time": "2023-05-16T09:51:07.463Z"
   },
   {
    "duration": 30,
    "start_time": "2023-05-16T09:51:07.496Z"
   },
   {
    "duration": 38,
    "start_time": "2023-05-16T09:51:07.528Z"
   },
   {
    "duration": 2017,
    "start_time": "2023-05-16T09:51:07.568Z"
   },
   {
    "duration": 18,
    "start_time": "2023-05-16T09:51:09.587Z"
   },
   {
    "duration": 250,
    "start_time": "2023-05-16T09:51:09.607Z"
   },
   {
    "duration": 5612,
    "start_time": "2023-05-16T09:51:09.861Z"
   },
   {
    "duration": 856,
    "start_time": "2023-05-16T09:51:15.475Z"
   },
   {
    "duration": 95,
    "start_time": "2023-05-16T09:51:16.336Z"
   },
   {
    "duration": 7026,
    "start_time": "2023-05-16T09:51:16.433Z"
   },
   {
    "duration": 11,
    "start_time": "2023-05-16T09:51:23.461Z"
   },
   {
    "duration": 2918,
    "start_time": "2023-05-16T09:51:23.474Z"
   },
   {
    "duration": 99,
    "start_time": "2023-05-16T09:51:26.394Z"
   },
   {
    "duration": 0,
    "start_time": "2023-05-16T09:51:26.494Z"
   },
   {
    "duration": 0,
    "start_time": "2023-05-16T09:51:26.496Z"
   },
   {
    "duration": 6957,
    "start_time": "2023-05-16T10:22:35.422Z"
   },
   {
    "duration": 2953,
    "start_time": "2023-05-16T10:24:52.357Z"
   },
   {
    "duration": 7098,
    "start_time": "2023-05-16T10:25:23.994Z"
   },
   {
    "duration": 340,
    "start_time": "2023-05-16T10:48:56.410Z"
   },
   {
    "duration": 304,
    "start_time": "2023-05-16T11:24:42.654Z"
   },
   {
    "duration": 25,
    "start_time": "2023-05-16T11:25:18.489Z"
   },
   {
    "duration": 25,
    "start_time": "2023-05-16T11:25:23.107Z"
   },
   {
    "duration": 24,
    "start_time": "2023-05-16T11:26:54.411Z"
   },
   {
    "duration": 6,
    "start_time": "2023-05-16T11:27:04.164Z"
   },
   {
    "duration": 78,
    "start_time": "2023-05-16T11:27:04.172Z"
   },
   {
    "duration": 14,
    "start_time": "2023-05-16T11:27:04.252Z"
   },
   {
    "duration": 20,
    "start_time": "2023-05-16T11:27:04.268Z"
   },
   {
    "duration": 5,
    "start_time": "2023-05-16T11:27:04.290Z"
   },
   {
    "duration": 16,
    "start_time": "2023-05-16T11:27:04.297Z"
   },
   {
    "duration": 1949,
    "start_time": "2023-05-16T11:27:04.315Z"
   },
   {
    "duration": 19,
    "start_time": "2023-05-16T11:27:06.267Z"
   },
   {
    "duration": 215,
    "start_time": "2023-05-16T11:27:06.288Z"
   },
   {
    "duration": 5052,
    "start_time": "2023-05-16T11:27:06.506Z"
   },
   {
    "duration": 471,
    "start_time": "2023-05-16T11:27:11.559Z"
   },
   {
    "duration": 98,
    "start_time": "2023-05-16T11:27:12.032Z"
   },
   {
    "duration": 6544,
    "start_time": "2023-05-16T11:27:12.132Z"
   },
   {
    "duration": 12,
    "start_time": "2023-05-16T11:27:18.678Z"
   },
   {
    "duration": 3142,
    "start_time": "2023-05-16T11:27:18.692Z"
   },
   {
    "duration": 23,
    "start_time": "2023-05-16T11:27:21.836Z"
   },
   {
    "duration": 25,
    "start_time": "2023-05-16T11:27:21.860Z"
   },
   {
    "duration": 191,
    "start_time": "2023-05-16T11:27:21.887Z"
   },
   {
    "duration": 347,
    "start_time": "2023-05-16T11:28:30.593Z"
   },
   {
    "duration": 26,
    "start_time": "2023-05-16T11:30:12.519Z"
   },
   {
    "duration": 274,
    "start_time": "2023-05-16T11:30:15.896Z"
   },
   {
    "duration": 4919,
    "start_time": "2023-05-16T11:30:53.826Z"
   },
   {
    "duration": 1800,
    "start_time": "2023-07-11T13:35:50.807Z"
   },
   {
    "duration": 1770,
    "start_time": "2023-07-11T13:35:52.609Z"
   },
   {
    "duration": 127,
    "start_time": "2023-07-11T13:35:54.381Z"
   },
   {
    "duration": 293,
    "start_time": "2023-07-11T13:35:54.510Z"
   },
   {
    "duration": 292,
    "start_time": "2023-07-11T13:35:54.805Z"
   },
   {
    "duration": 185,
    "start_time": "2023-07-11T13:35:55.099Z"
   },
   {
    "duration": 189,
    "start_time": "2023-07-11T13:35:55.286Z"
   },
   {
    "duration": 17,
    "start_time": "2023-07-11T13:35:55.478Z"
   },
   {
    "duration": 178,
    "start_time": "2023-07-11T13:35:55.497Z"
   },
   {
    "duration": 1722,
    "start_time": "2023-07-11T13:35:55.678Z"
   },
   {
    "duration": 0,
    "start_time": "2023-07-11T13:35:57.402Z"
   },
   {
    "duration": 0,
    "start_time": "2023-07-11T13:35:57.404Z"
   },
   {
    "duration": 0,
    "start_time": "2023-07-11T13:35:57.405Z"
   },
   {
    "duration": 0,
    "start_time": "2023-07-11T13:35:57.406Z"
   },
   {
    "duration": 0,
    "start_time": "2023-07-11T13:35:57.408Z"
   },
   {
    "duration": 0,
    "start_time": "2023-07-11T13:35:57.409Z"
   },
   {
    "duration": 0,
    "start_time": "2023-07-11T13:35:57.410Z"
   },
   {
    "duration": 0,
    "start_time": "2023-07-11T13:35:57.412Z"
   },
   {
    "duration": 0,
    "start_time": "2023-07-11T13:35:57.413Z"
   },
   {
    "duration": 0,
    "start_time": "2023-07-11T13:35:57.414Z"
   },
   {
    "duration": 0,
    "start_time": "2023-07-11T13:35:57.416Z"
   },
   {
    "duration": 0,
    "start_time": "2023-07-11T13:35:57.417Z"
   },
   {
    "duration": 0,
    "start_time": "2023-07-11T13:35:57.475Z"
   },
   {
    "duration": 0,
    "start_time": "2023-07-11T13:35:57.477Z"
   },
   {
    "duration": 0,
    "start_time": "2023-07-11T13:35:57.478Z"
   },
   {
    "duration": 0,
    "start_time": "2023-07-11T13:35:57.480Z"
   },
   {
    "duration": 0,
    "start_time": "2023-07-11T13:35:57.481Z"
   },
   {
    "duration": 0,
    "start_time": "2023-07-11T13:35:57.482Z"
   },
   {
    "duration": 0,
    "start_time": "2023-07-11T13:35:57.483Z"
   },
   {
    "duration": 0,
    "start_time": "2023-07-11T13:35:57.484Z"
   },
   {
    "duration": 0,
    "start_time": "2023-07-11T13:35:57.486Z"
   },
   {
    "duration": 0,
    "start_time": "2023-07-11T13:35:57.487Z"
   },
   {
    "duration": 0,
    "start_time": "2023-07-11T13:35:57.488Z"
   },
   {
    "duration": 0,
    "start_time": "2023-07-11T13:35:57.489Z"
   },
   {
    "duration": 0,
    "start_time": "2023-07-11T13:35:57.490Z"
   },
   {
    "duration": 0,
    "start_time": "2023-07-11T13:35:57.491Z"
   },
   {
    "duration": 0,
    "start_time": "2023-07-11T13:35:57.492Z"
   },
   {
    "duration": 1,
    "start_time": "2023-07-11T13:35:57.493Z"
   },
   {
    "duration": 0,
    "start_time": "2023-07-11T13:35:57.495Z"
   },
   {
    "duration": 0,
    "start_time": "2023-07-11T13:35:57.497Z"
   },
   {
    "duration": 0,
    "start_time": "2023-07-11T13:35:57.498Z"
   },
   {
    "duration": 0,
    "start_time": "2023-07-11T13:35:57.500Z"
   },
   {
    "duration": 0,
    "start_time": "2023-07-11T13:35:57.576Z"
   },
   {
    "duration": 0,
    "start_time": "2023-07-11T13:35:57.578Z"
   },
   {
    "duration": 1675,
    "start_time": "2023-07-11T13:36:22.824Z"
   },
   {
    "duration": 374,
    "start_time": "2023-07-11T13:36:54.740Z"
   },
   {
    "duration": 3004,
    "start_time": "2023-07-11T13:36:59.797Z"
   },
   {
    "duration": 9,
    "start_time": "2023-07-11T13:37:11.702Z"
   },
   {
    "duration": 19,
    "start_time": "2023-07-11T13:37:18.335Z"
   },
   {
    "duration": 1078,
    "start_time": "2023-07-11T13:37:21.943Z"
   },
   {
    "duration": 8,
    "start_time": "2023-07-11T13:37:26.392Z"
   },
   {
    "duration": 1139,
    "start_time": "2023-07-11T13:37:29.567Z"
   },
   {
    "duration": 652634,
    "start_time": "2023-07-11T13:37:40.457Z"
   },
   {
    "duration": 29248,
    "start_time": "2023-07-11T13:52:11.628Z"
   },
   {
    "duration": 33204,
    "start_time": "2023-07-11T13:52:40.877Z"
   },
   {
    "duration": 254617,
    "start_time": "2023-07-11T14:02:06.520Z"
   },
   {
    "duration": 8,
    "start_time": "2023-07-11T14:06:21.139Z"
   },
   {
    "duration": 24592,
    "start_time": "2023-07-11T14:06:40.487Z"
   },
   {
    "duration": 252,
    "start_time": "2023-07-11T14:08:04.924Z"
   },
   {
    "duration": 1581,
    "start_time": "2023-07-11T14:08:07.896Z"
   },
   {
    "duration": 106,
    "start_time": "2023-07-11T14:08:11.999Z"
   },
   {
    "duration": 118,
    "start_time": "2023-07-11T14:08:15.224Z"
   },
   {
    "duration": 11,
    "start_time": "2023-07-11T14:08:18.534Z"
   }
  ],
  "kernelspec": {
   "display_name": "Python 3 (ipykernel)",
   "language": "python",
   "name": "python3"
  },
  "language_info": {
   "codemirror_mode": {
    "name": "ipython",
    "version": 3
   },
   "file_extension": ".py",
   "mimetype": "text/x-python",
   "name": "python",
   "nbconvert_exporter": "python",
   "pygments_lexer": "ipython3",
   "version": "3.9.5"
  },
  "toc": {
   "base_numbering": 1,
   "nav_menu": {},
   "number_sections": true,
   "sideBar": true,
   "skip_h1_title": true,
   "title_cell": "Содержание",
   "title_sidebar": "Contents",
   "toc_cell": true,
   "toc_position": {
    "height": "calc(100% - 180px)",
    "left": "10px",
    "top": "150px",
    "width": "236.319px"
   },
   "toc_section_display": true,
   "toc_window_display": false
  }
 },
 "nbformat": 4,
 "nbformat_minor": 2
}
