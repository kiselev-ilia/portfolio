{
 "cells": [
  {
   "cell_type": "markdown",
   "metadata": {},
   "source": [
    "<div style=\"border:solid green 2px; padding: 20px\">\n",
    "<b>Привет, Илья!</b>\n",
    "\n",
    "Меня зовут Александр, и я буду проверять твой проект. Предлагаю общаться на «ты» :) Но если это не удобно - дай знать, и мы перейдем на \"вы\". \n",
    "\n",
    "Моя основная цель — не указать на совершенные тобою ошибки, а поделиться своим опытом и помочь тебе стать data science. Ты уже проделал большую работу над проектом, но давай сделаем его еще лучше. Ниже ты найдешь мои комментарии - **пожалуйста, не перемещай, не изменяй и не удаляй их**. Увидев у тебя ошибку, в первый раз я лишь укажу на ее наличие и дам тебе возможность самой найти и исправить ее. На реальной работе твой начальник будет поступать так же, а я пытаюсь подготовить тебя именно к работе аналитиком. Но если ты пока не справишься с такой задачей - при следующей проверке я дам более точную подсказку. Я буду использовать цветовую разметку:\n",
    "\n",
    "<div class=\"alert alert-danger\">\n",
    "<b>Комментарий ревьюера ❌:</b> Так выделены самые важные замечания. Без их отработки проект не будет принят. </div>\n",
    "\n",
    "<div class=\"alert alert-warning\">\n",
    "<b>Комментарий ревьюера ⚠️:</b> Так выделены небольшие замечания. Я надеюсь, что их ты тоже учтешь - твой проект от этого станет только лучше. Но настаивать на их отработке не буду.\n",
    "\n",
    "</div>\n",
    "\n",
    "<div class=\"alert alert-success\">\n",
    "<b>Комментарий ревьюера ✔️:</b> Так я выделяю все остальные комментарии.</div>\n",
    "\n",
    "Давай работать над проектом в диалоге: **если ты что-то меняешь в проекте или отвечаешь на мои комменатри — пиши об этом.** Мне будет легче отследить изменения, если ты выделишь свои комментарии:\n",
    "<div class=\"alert alert-info\"> <b>Комментарий студента:</b> Например, вот так.</div>\n",
    "\n",
    "Всё это поможет выполнить повторную проверку твоего проекта оперативнее. "
   ]
  },
  {
   "cell_type": "markdown",
   "metadata": {
    "toc": true
   },
   "source": [
    "<h1>Содержание<span class=\"tocSkip\"></span></h1>\n",
    "<div class=\"toc\"><ul class=\"toc-item\"><li><span><a href=\"#Загрузка-данных\" data-toc-modified-id=\"Загрузка-данных-1\"><span class=\"toc-item-num\">1&nbsp;&nbsp;</span>Загрузка данных</a></span><ul class=\"toc-item\"><li><span><a href=\"#Создаем-целевой-признак-тестовые-и-тренировочные-выборки.\" data-toc-modified-id=\"Создаем-целевой-признак-тестовые-и-тренировочные-выборки.-1.1\"><span class=\"toc-item-num\">1.1&nbsp;&nbsp;</span>Создаем целевой признак тестовые и тренировочные выборки.</a></span></li></ul></li><li><span><a href=\"#Умножение-матриц\" data-toc-modified-id=\"Умножение-матриц-2\"><span class=\"toc-item-num\">2&nbsp;&nbsp;</span>Умножение матриц</a></span><ul class=\"toc-item\"><li><span><a href=\"#Создаем-модель-по-исходным-данным-вычислим-R2,-MSE.\" data-toc-modified-id=\"Создаем-модель-по-исходным-данным-вычислим-R2,-MSE.-2.1\"><span class=\"toc-item-num\">2.1&nbsp;&nbsp;</span>Создаем модель по исходным данным вычислим R2, MSE.</a></span></li><li><span><a href=\"#Вычислим--R2,-MSE-для-предсказанных-значений-по-неизмененным-данным\" data-toc-modified-id=\"Вычислим--R2,-MSE-для-предсказанных-значений-по-неизмененным-данным-2.2\"><span class=\"toc-item-num\">2.2&nbsp;&nbsp;</span>Вычислим  R2, MSE для предсказанных значений по неизмененным данным</a></span></li><li><span><a href=\"#Создадим-случайную-матрицу-и-проверим-её-обратимость.\" data-toc-modified-id=\"Создадим-случайную-матрицу-и-проверим-её-обратимость.-2.3\"><span class=\"toc-item-num\">2.3&nbsp;&nbsp;</span>Создадим случайную матрицу и проверим её обратимость.</a></span></li><li><span><a href=\"#Проверяем-наши-результаты\" data-toc-modified-id=\"Проверяем-наши-результаты-2.4\"><span class=\"toc-item-num\">2.4&nbsp;&nbsp;</span>Проверяем наши результаты</a></span></li></ul></li><li><span><a href=\"#Алгоритм-преобразования\" data-toc-modified-id=\"Алгоритм-преобразования-3\"><span class=\"toc-item-num\">3&nbsp;&nbsp;</span>Алгоритм преобразования</a></span></li><li><span><a href=\"#Проверка-алгоритма\" data-toc-modified-id=\"Проверка-алгоритма-4\"><span class=\"toc-item-num\">4&nbsp;&nbsp;</span>Проверка алгоритма</a></span><ul class=\"toc-item\"><li><ul class=\"toc-item\"><li><span><a href=\"#Итоговый-ВЫВОД:-Мы-разработали-метод-преобразования-данных-который-усложняет-восстановлене-персональных-данных.-Данные-преобразовывались-методом-умножения-признаков-исходных-данных-на-обратимую-матрицу-Р.-Результатом-такого-преобразования-явилась-новая-(изменённая)-матрица-признаков,-которая-справилась-с-изменениями-данных-и-сохранила-занчения-R2-и-MSE.\" data-toc-modified-id=\"Итоговый-ВЫВОД:-Мы-разработали-метод-преобразования-данных-который-усложняет-восстановлене-персональных-данных.-Данные-преобразовывались-методом-умножения-признаков-исходных-данных-на-обратимую-матрицу-Р.-Результатом-такого-преобразования-явилась-новая-(изменённая)-матрица-признаков,-которая-справилась-с-изменениями-данных-и-сохранила-занчения-R2-и-MSE.-4.0.1\"><span class=\"toc-item-num\">4.0.1&nbsp;&nbsp;</span>Итоговый ВЫВОД: Мы разработали метод преобразования данных который усложняет восстановлене персональных данных. Данные преобразовывались методом умножения признаков исходных данных на обратимую матрицу Р. Результатом такого преобразования явилась новая (изменённая) матрица признаков, которая справилась с изменениями данных и сохранила занчения R2 и MSE.</a></span></li></ul></li></ul></li><li><span><a href=\"#Чек-лист-проверки\" data-toc-modified-id=\"Чек-лист-проверки-5\"><span class=\"toc-item-num\">5&nbsp;&nbsp;</span>Чек-лист проверки</a></span></li></ul></div>"
   ]
  },
  {
   "cell_type": "markdown",
   "metadata": {},
   "source": [
    "# Защита персональных данных клиентов"
   ]
  },
  {
   "cell_type": "markdown",
   "metadata": {},
   "source": [
    "Вам нужно защитить данные клиентов страховой компании «Хоть потоп». Разработайте такой метод преобразования данных, чтобы по ним было сложно восстановить персональную информацию. Обоснуйте корректность его работы.\n",
    "\n",
    "Нужно защитить данные, чтобы при преобразовании качество моделей машинного обучения не ухудшилось. Подбирать наилучшую модель не требуется."
   ]
  },
  {
   "cell_type": "markdown",
   "metadata": {},
   "source": [
    "## Загрузка данных"
   ]
  },
  {
   "cell_type": "code",
   "execution_count": 151,
   "metadata": {},
   "outputs": [],
   "source": [
    "import numpy as np\n",
    "import pandas as pd\n",
    "from scipy.spatial import distance\n",
    "from sklearn.metrics import r2_score\n",
    "from sklearn.metrics import mean_squared_error\n",
    "from sklearn.model_selection import train_test_split\n",
    "from sklearn.linear_model import LinearRegression\n",
    "from sklearn.metrics import accuracy_score"
   ]
  },
  {
   "cell_type": "code",
   "execution_count": 152,
   "metadata": {
    "scrolled": true
   },
   "outputs": [
    {
     "name": "stdout",
     "output_type": "stream",
     "text": [
      "   Пол  Возраст  Зарплата  Члены семьи  Страховые выплаты\n",
      "0    1     41.0   49600.0            1                  0\n",
      "1    0     46.0   38000.0            1                  1\n",
      "2    0     29.0   21000.0            0                  0\n",
      "3    0     21.0   41700.0            2                  0\n",
      "4    1     28.0   26100.0            0                  0\n",
      "5    1     43.0   41000.0            2                  1\n",
      "6    1     39.0   39700.0            2                  0\n",
      "7    1     25.0   38600.0            4                  0\n",
      "8    1     36.0   49700.0            1                  0\n",
      "9    1     32.0   51700.0            1                  0\n",
      "<class 'pandas.core.frame.DataFrame'>\n",
      "RangeIndex: 5000 entries, 0 to 4999\n",
      "Data columns (total 5 columns):\n",
      " #   Column             Non-Null Count  Dtype  \n",
      "---  ------             --------------  -----  \n",
      " 0   Пол                5000 non-null   int64  \n",
      " 1   Возраст            5000 non-null   float64\n",
      " 2   Зарплата           5000 non-null   float64\n",
      " 3   Члены семьи        5000 non-null   int64  \n",
      " 4   Страховые выплаты  5000 non-null   int64  \n",
      "dtypes: float64(2), int64(3)\n",
      "memory usage: 195.4 KB\n"
     ]
    }
   ],
   "source": [
    "data = pd.read_csv('/datasets/insurance.csv')\n",
    "print(data.head(10))\n",
    "data.info()"
   ]
  },
  {
   "cell_type": "markdown",
   "metadata": {},
   "source": [
    "<div class=\"alert alert-success\">\n",
    "<b>Комментарий ревьюера ✔️:</b> Огонь, данные на месте:)</div>"
   ]
  },
  {
   "cell_type": "code",
   "execution_count": 153,
   "metadata": {},
   "outputs": [
    {
     "name": "stdout",
     "output_type": "stream",
     "text": [
      "Пол                  0.0\n",
      "Возраст              0.0\n",
      "Зарплата             0.0\n",
      "Члены семьи          0.0\n",
      "Страховые выплаты    0.0\n",
      "dtype: float64\n"
     ]
    }
   ],
   "source": [
    "print(data.isna().mean()) # Посмотрим пропуски в данных\n"
   ]
  },
  {
   "cell_type": "markdown",
   "metadata": {},
   "source": [
    "### Создаем целевой признак тестовые и тренировочные выборки."
   ]
  },
  {
   "cell_type": "code",
   "execution_count": 154,
   "metadata": {},
   "outputs": [],
   "source": [
    "features = data.drop(['Страховые выплаты'], axis = 1)\n",
    "target = data['Страховые выплаты']\n",
    "\n",
    "train_features, test_features, train_target, test_target = train_test_split(features, target, test_size = 0.25, random_state = 123456)\n",
    "\n"
   ]
  },
  {
   "cell_type": "markdown",
   "metadata": {},
   "source": [
    "## Умножение матриц"
   ]
  },
  {
   "cell_type": "markdown",
   "metadata": {},
   "source": [
    "В этом задании вы можете записывать формулы в *Jupyter Notebook.*\n",
    "\n",
    "Чтобы записать формулу внутри текста, окружите её символами доллара \\\\$; если снаружи —  двойными символами \\\\$\\\\$. Эти формулы записываются на языке вёрстки *LaTeX.* \n",
    "\n",
    "Для примера мы записали формулы линейной регрессии. Можете их скопировать и отредактировать, чтобы решить задачу.\n",
    "\n",
    "Работать в *LaTeX* необязательно."
   ]
  },
  {
   "cell_type": "markdown",
   "metadata": {},
   "source": [
    "Обозначения:\n",
    "\n",
    "- $X$ — матрица признаков (нулевой столбец состоит из единиц)\n",
    "\n",
    "- $y$ — вектор целевого признака\n",
    "\n",
    "- $P$ — матрица, на которую умножаются признаки\n",
    "\n",
    "- $w$ — вектор весов линейной регрессии (нулевой элемент равен сдвигу)"
   ]
  },
  {
   "cell_type": "markdown",
   "metadata": {},
   "source": [
    "Предсказания:\n",
    "\n",
    "$$\n",
    "a = Xw\n",
    "$$\n",
    "\n",
    "Задача обучения:\n",
    "\n",
    "$$\n",
    "w = \\arg\\min_w MSE(Xw, y)\n",
    "$$\n",
    "\n",
    "Формула обучения:\n",
    "\n",
    "$$\n",
    "w = (X^T X)^{-1} X^T y\n",
    "$$"
   ]
  },
  {
   "cell_type": "markdown",
   "metadata": {},
   "source": [
    "### Создаем модель по исходным данным вычислим R2, MSE."
   ]
  },
  {
   "cell_type": "code",
   "execution_count": 155,
   "metadata": {},
   "outputs": [],
   "source": [
    "class LinearRegression:\n",
    "    def fit(self, train_features, train_target):\n",
    "        X = np.concatenate((np.ones((train_features.shape[0], 1)), train_features), axis=1)\n",
    "        y = train_target\n",
    "        w = np.linalg.inv(X.T.dot(X)).dot(X.T).dot(y)# < напишите код здесь >\n",
    "        self.w = w[1:]\n",
    "        self.w0 = w[0]\n",
    "\n",
    "    def predict(self, test_features):\n",
    "        return test_features.dot(self.w) + self.w0"
   ]
  },
  {
   "cell_type": "code",
   "execution_count": 156,
   "metadata": {},
   "outputs": [
    {
     "name": "stdout",
     "output_type": "stream",
     "text": [
      "Вывод R2: 0.419211603704285\n",
      "Вывод MSE: 0.12428908851185663\n"
     ]
    }
   ],
   "source": [
    "model = LinearRegression()\n",
    "model.fit(train_features, train_target)\n",
    "predict = model.predict(test_features)\n",
    "\n",
    "R2_score = r2_score(test_target, predict)\n",
    "MSE = mean_squared_error(predict, test_target)\n",
    "\n",
    "print('Вывод R2:', R2_score)\n",
    "print('Вывод MSE:', MSE)"
   ]
  },
  {
   "cell_type": "markdown",
   "metadata": {},
   "source": [
    "### Вычислим  R2, MSE для предсказанных значений по неизмененным данным"
   ]
  },
  {
   "cell_type": "code",
   "execution_count": 157,
   "metadata": {},
   "outputs": [
    {
     "name": "stdout",
     "output_type": "stream",
     "text": [
      "R2_score линейной регрессии неизменённой матрицы: 0.419211603704285\n",
      "MSE линейной регрессии неизменённой матрицы: 0.12428908851185663\n"
     ]
    }
   ],
   "source": [
    "model_l = LinearRegression()\n",
    "model_l.fit(train_features,train_target)\n",
    "predictions= model_l.predict(test_features)\n",
    "\n",
    "R2_score_l = r2_score(test_target, predictions)\n",
    "MSE_l = mean_squared_error(predictions,test_target)\n",
    "\n",
    "print(\"R2_score линейной регрессии неизменённой матрицы:\", R2_score_l)\n",
    "print(\"MSE линейной регрессии неизменённой матрицы:\", MSE_l)"
   ]
  },
  {
   "cell_type": "markdown",
   "metadata": {},
   "source": [
    "### Создадим случайную матрицу и проверим её обратимость."
   ]
  },
  {
   "cell_type": "code",
   "execution_count": 158,
   "metadata": {},
   "outputs": [
    {
     "name": "stdout",
     "output_type": "stream",
     "text": [
      "[[2.44249461 1.13738808 2.91516409 3.42281907]\n",
      " [2.83304412 2.72719906 4.33349237 3.25445702]\n",
      " [1.5176332  4.28634957 5.27855253 3.15665958]\n",
      " [3.29455296 3.13788956 1.95042547 1.04823106]]\n",
      "\n",
      "[[-0.2455237   0.64602567 -0.44458643  0.13482564]\n",
      " [ 0.52418314 -1.25310531  0.58411882  0.41987792]\n",
      " [-1.08092578  1.74960147 -0.47016837 -0.48656059]\n",
      " [ 1.21378507 -1.53470646  0.52358833  0.17866236]]\n"
     ]
    }
   ],
   "source": [
    "matrix=np.random.normal(3, size=(4,4))\n",
    "print(matrix)\n",
    "print()\n",
    "print(np.linalg.inv(matrix))"
   ]
  },
  {
   "cell_type": "markdown",
   "metadata": {},
   "source": [
    "Умножим признаки на произвольную матрицу"
   ]
  },
  {
   "cell_type": "code",
   "execution_count": 159,
   "metadata": {},
   "outputs": [
    {
     "name": "stdout",
     "output_type": "stream",
     "text": [
      "               Пол        Возраст       Зарплата    Члены семьи\n",
      "3245  61108.543770  172405.936177  212343.299311  127007.377136\n",
      "783   60518.417794  170708.938665  210261.680650  125766.277909\n",
      "1377  70491.839762  198957.527138  245037.508002  146553.620526\n",
      "1109  43944.200338  123955.728681  152678.754440   91325.264017\n",
      "1319  67619.278304  190822.781944  235024.173844  140569.153509\n",
      "...            ...            ...            ...            ...\n",
      "2799  34220.938681   96513.004029  118873.918172   71105.212407\n",
      "171   51083.133030  144108.615860  177498.036625  106167.904608\n",
      "3640  80363.044687  226825.075111  279352.000271  167074.004277\n",
      "3121  46854.052879  132126.338153  162746.040932   97349.832749\n",
      "4594  49436.862368  139415.859618  171723.913719  102719.408497\n",
      "\n",
      "[3750 rows x 4 columns]\n",
      "                Пол        Возраст       Зарплата    Члены семьи\n",
      "4158   55963.146650  157847.573452  194419.306513  116290.838478\n",
      "2117   34360.837357   96931.498620  119390.623917   71412.104627\n",
      "3328  108765.449935  307001.629628  378095.600444  226129.574132\n",
      "4813   48623.365870  137218.867551  169003.265839  101081.618610\n",
      "4176   54445.051938  153560.813193  189143.137054  113136.385121\n",
      "...             ...            ...            ...            ...\n",
      "178    56712.612061  159980.566137  197046.547037  117861.779486\n",
      "961    63803.383002  180087.090933  221792.159852  132649.094308\n",
      "2888   73248.089916  206696.416716  254564.038220  152252.818528\n",
      "4114   77644.156575  219120.870691  269875.620992  161412.870127\n",
      "4081   69569.537115  196373.218790  241851.624189  144646.775311\n",
      "\n",
      "[1250 rows x 4 columns]\n"
     ]
    }
   ],
   "source": [
    "train_matrix=train_features.dot(matrix)\n",
    "train_matrix.columns = train_features.columns\n",
    "print(train_matrix)\n",
    "\n",
    "test_matrix = test_features.dot(matrix)\n",
    "test_matrix.columns = test_features.columns\n",
    "print(test_matrix)"
   ]
  },
  {
   "cell_type": "markdown",
   "metadata": {},
   "source": [
    "### Проверяем наши результаты"
   ]
  },
  {
   "cell_type": "code",
   "execution_count": 160,
   "metadata": {},
   "outputs": [
    {
     "name": "stdout",
     "output_type": "stream",
     "text": [
      "R2_score Линейной регрессии изменённой матрицы: 0.41921192118212747\n",
      "MSE Линейной регрессии изменённой матрицы: 0.12428902057139514\n"
     ]
    }
   ],
   "source": [
    "model_t = LinearRegression()\n",
    "model_t.fit(train_matrix,train_target)\n",
    "predictions_t= model_t.predict(test_matrix)\n",
    "print(\"R2_score Линейной регрессии изменённой матрицы:\", r2_score(test_target,predictions_t))\n",
    "print(\"MSE Линейной регрессии изменённой матрицы:\", mean_squared_error(predictions_t,test_target))"
   ]
  },
  {
   "cell_type": "markdown",
   "metadata": {},
   "source": [
    "<div class=\"alert alert-success\">\n",
    "<b>Комментарий ревьюера ✔️:</b> Да, все верно проверил\n",
    "</div>"
   ]
  },
  {
   "cell_type": "markdown",
   "metadata": {},
   "source": [
    "**Ответ:** Качетво модели не меняется при пермножении признаков исходных данных на обратимую матрицу.\n",
    "\n",
    "**Обоснование:** Предсказание модели ленейная регрессия остаются одинаковыми, из-за того что параметры в исходной задаче и в преобразованной связаны между собой алгоритмом преобразования признаков, по результату работы которого предсказание вычисляется методом умножения признаков исходных данных на вектор по длине равный ширине таблицы признаков, который в свою очередь умножается на целевые признаки. По результату скалярного умножения создаётся число, на которое умножается тестовая выборка, и если эта выборка была преобразована умножением на ту же матрицу, то качество предсказания не изменится."
   ]
  },
  {
   "cell_type": "markdown",
   "metadata": {},
   "source": [
    "## Алгоритм преобразования"
   ]
  },
  {
   "cell_type": "markdown",
   "metadata": {},
   "source": [
    "Заменим матрицу Х на матрицу Z:\n",
    "\n",
    "$$\n",
    "a = Zw\n",
    "$$\n",
    "$$\n",
    "w = (Z^T Z)^{-1} Z^T y\n",
    "$$\n",
    "\n",
    "Подставим первое уравнение во воторое, после заменим все Z на ХР\n",
    "\n",
    "$$\n",
    "а = Z(Z^T Z)^{-1} Z^T y\n",
    "$$\n",
    "$$\n",
    "а = ХР(ХР^T ХР)^{-1} ХР^T y\n",
    "$$\n",
    "\n",
    "Используем следующее свойство обратной матрицы:\n",
    "\n",
    "$$\n",
    "(AB)^{-1} = B^{-1} A^{-1}\n",
    "$$\n",
    "\n",
    "Применим его:\n",
    "$$\n",
    "а = ХР((ХР)^T (ХР))^{-1} (ХР)^T y = ХР(ХР)^{-1}((ХР)^T)^{-1}(ХР)^Tу = ХРР^{-1}Х^{-1}((ХР)^T)^{-1}(ХР)^Tу\n",
    "$$\n",
    "\n",
    "\n",
    "\n",
    "$$\n",
    "(AB)^{Т} = B^{Т} A^{Т}\n",
    "$$\n",
    "\n",
    "\n",
    "Раскроем \n",
    "$$\n",
    "((ХР)^T)^{-1}(ХР)^T\n",
    "$$\n",
    "\n",
    "\n",
    "$$\n",
    "а = ХЕХ^{-1}(ХР^T)^{-1}(ХР)^Tу = ХХ^{-1}(Р^T Х^T)^{-1} Р^T Х^Tу = ХХ^{-1}(Х^T)^{-1}(Р^T)^{-1}Р^T Х^Tу\n",
    "$$\n",
    "\n",
    "Умножение приведет к $$ (Р^T)^{-1} Р^T = Е $$\n",
    "\n",
    "$$\n",
    "а = ХХ^{-1}(Х^T)^{-1}ЕХ^Tу = Х(Х^T Х)^{-1} Х^Tу\n",
    "$$\n",
    "\n",
    "Значение предсказания \"а\" не меняется, если умножать матрицу признаков на обратимую матрицу.\n"
   ]
  },
  {
   "attachments": {
    "image.png": {
     "image/png": "[encoded data removed]"
    }
   },
   "cell_type": "markdown",
   "metadata": {},
   "source": [
    "<div class=\"alert alert-danger\">\n",
    "<b>Комментарий ревьюера ❌:</b> \n",
    "    \n",
    "$ (X^T)^{-1}$ и $ X^{-1} y $ - некорректно, так как для неквадратных матриц ($X$ и $X^T$) обратных матриц не существует.\n",
    "    \n",
    "![image.png](attachment:image.png)\n",
    "    \n",
    "Не надо раскрывать вот так $(XP)^{-1}(P^TX^T)^{-1}$ данную матрицу  - ($((XP)^T(XP))^{-1}$), так как она является квадратной и имеет обратную.\n",
    "    \n",
    "Размер $X = mxn$, тогда $X^T = nxm$. $P = nxn$ -> $(XP)^T = (mxn * nxn)^T = (mxn)^T = nxm$. $(XP) = mxn * nxn = mxn$ -> $(XP)^T(XP) = nxm * mxn = nxn$ Получается по итогу квадратная матрица. Если мы будем делить Их на $(XP)^{-1}((XP)^T)^{-1}$ то мы уже не сможем взять обратную, так как матрицы( $(XP)^{-1}$ и $((XP)^T)^{-1}$) будут неквадратные.\n",
    "    \n",
    "    \n",
    "+  У нас есть ряд свойств:\n",
    "    $$\n",
    "(AB)^T=B^T A^T \\tag 1\n",
    "$$\n",
    "$$\n",
    "(AB)^{-1} = B^{-1} A^{-1} \\tag 2\n",
    "$$\n",
    "$$\n",
    "A A^{-1} = A^{-1} A = E \\tag 3\n",
    "$$\n",
    "$$\n",
    "AE = EA = A \\tag 4\n",
    "$$\n",
    "$$\n",
    "A(BC) = (AB)C \\tag 5\n",
    "$$\n",
    "  \n",
    "Воспользуемся первым свойством:    \n",
    "+  Для начала раскроем $(XP)^T$ в примере $((XP)^T X P)^{-1}$, и получим $(P^T X^T X P)^{-1}$ (по аналогии закончи до конца)\n",
    "    \n",
    "Воспользуемся свойством 2:\n",
    "    \n",
    "+  $(P^T(X^TX)P)^{-1}$, пусть тут $A=P^T$, $B=(X^TX)P)^{-1}$, тогда $(P^T(X^TX)P)^{-1} = ((X^TX)P)^{-1} P^{T^{-1}}$ Далее продолжи аналогично\n",
    "</div>\n",
    "\n",
    "\n",
    "\n"
   ]
  },
  {
   "cell_type": "markdown",
   "metadata": {},
   "source": [
    "<div class=\"alert alert-info\"> \n",
    "\n",
    "Заменим матрицу Х на матрицу Z:\n",
    "\n",
    "$$\n",
    "a = Zw\n",
    "$$\n",
    "$$\n",
    "w = (Z^T Z)^{-1} Z^T y\n",
    "$$\n",
    "\n",
    "Подставим первое уравнение во воторое, после заменим все Z на ХР\n",
    "\n",
    "$$\n",
    "а = Z(Z^T Z)^{-1} Z^T y\n",
    "$$\n",
    "$$\n",
    "а = ХР(ХР^T ХР)^{-1} ХР^T y\n",
    "$$\n",
    "\n",
    "Используем следующее свойство обратной матрицы:\n",
    "\n",
    "$$\n",
    "(AB)^{-1} = B^{-1} A^{-1}\n",
    "$$\n",
    "\n",
    "Применим его:\n",
    "$$\n",
    "а = ХР((ХР)^T (ХР))^{-1} (ХР)^T y = ХР(Р^T Х^T ХР)^{-1}Х^T Р^Ty = ХР(XP)^{-1}(Р^T Х^T)^{-1}Х^T Р^Ty\n",
    "$$\n",
    "\n",
    "\n",
    "\n",
    "$$\n",
    "(AB)^{Т} = B^{Т} A^{Т}\n",
    "$$\n",
    "\n",
    "\n",
    "Раскроем \n",
    "$$\n",
    "((ХР)^T)^{-1}(ХР)^T\n",
    "$$\n",
    "\n",
    "\n",
    "$$\n",
    "а = XPX^{-1}P^{-1}(X^T)^{-1}(P^T)^{-1}P^TX^Ty = XPX^{-1}P^{-1}(X^T)^{-1}X^Ty = XPP^{-1}(X^TX)^{-1}X^Ty\n",
    "$$\n",
    "\n",
    "\n",
    "Сократим $$ P(P)^{-1} $$\n",
    "\n",
    "\n",
    "$$\n",
    "а = X(X^TX)^{-1}X^Ty\n",
    "$$\n",
    "Получили формулу полность совпадающую с предыдущей \n",
    "\n",
    "Значение предсказания \"а\" не меняется, если умножать матрицу признаков на обратимую матрицу.\n",
    "\n",
    "\n",
    "\n",
    "</div>"
   ]
  },
  {
   "attachments": {
    "image-2.png": {
     "image/png": "[encoded data removed]"
    },
    "image.png": {
     "image/png": "[encoded data removed]"
    }
   },
   "cell_type": "markdown",
   "metadata": {},
   "source": [
    "<div class=\"alert alert-danger\">\n",
    "<b>Комментарий ревьюера V2❌:</b> Ошибка остается:\n",
    "    \n",
    "    \n",
    "$ (X^T)^{-1}$ и $ X^{-1} y $ - некорректно, так как для неквадратных матриц ($X$ и $X^T$) обратных матриц не существует.\n",
    "    \n",
    "![image.png](attachment:image.png)\n",
    "    \n",
    "Не надо раскрывать вот так $(XP)^{-1}(P^TX^T)^{-1}$ данную матрицу  - ($((XP)^T(XP))^{-1}$), так как она является квадратной и имеет обратную.\n",
    "    \n",
    "Размер $X = mxn$, тогда $X^T = nxm$. $P = nxn$ -> $(XP)^T = (mxn * nxn)^T = (mxn)^T = nxm$. $(XP) = mxn * nxn = mxn$ -> $(XP)^T(XP) = nxm * mxn = nxn$ Получается по итогу квадратная матрица. Если мы будем делить Их на $(XP)^{-1}((XP)^T)^{-1}$ то мы уже не сможем взять обратную, так как матрицы( $(XP)^{-1}$ и $((XP)^T)^{-1}$) будут неквадратные.\n",
    "    \n",
    "-----------\n",
    "    \n",
    "![image-2.png](attachment:image-2.png)\n",
    "    \n",
    "Некорректно раскрыл: $(XP)^T \\neq X^T P^T$ \n",
    "    \n",
    "------------------\n",
    "    \n",
    "    \n",
    "    \n",
    "**$(X^T X)^{-1}$ не нужно расскрывать, иначе она перестанет быть квадратной.** - пожалуйста, давай данное выражение оставим как есть:)\n",
    "    \n",
    "\n",
    "$$\n",
    "w' = ((XP)^T XP)^{-1} (XP)^T y\n",
    "$$\n",
    "    \n",
    "Для начала раскроем $(XP)^T$ используя свойство  $(AB)^T = B^T A^T$ \n",
    "    \n",
    "$$\n",
    "w' = (P^T X^T XP)^{-1} P^T X^T y\n",
    "$$    \n",
    "   \n",
    "Далее раскроем   $(P^T(X^TX)P)^{-1}$, пусть тут $A=P^T$, $B=(X^TX)P)^{-1}$, тогда $(P^T(X^TX)P)^{-1} = ((X^TX)P)^{-1} P^{T^{-1}}$\n",
    "    \n",
    "$$\n",
    "w' = (X^T XP)^{-1} P^{T^{-1}} P^T X^T y\n",
    "$$  \n",
    "    \n",
    "$P^{T^{-1}} P^T$ - сократим\n",
    "    \n",
    "$$\n",
    "w' = (X^T XP)^{-1} X^T y\n",
    "$$\n",
    "    \n",
    "Далее раскроем $(X^T XP)^{-1}$, пусть тут $A=(X^TX)$, $B=P$. Далее продолжи, пожалуйста:\n",
    "</div>\n",
    "\n",
    "\n",
    "\n"
   ]
  },
  {
   "cell_type": "markdown",
   "metadata": {},
   "source": [
    "$$\n",
    "w' = ((XP)^T XP)^{-1} (XP)^T y\n",
    "$$\n",
    "    \n",
    "Для начала раскроем $(XP)^T$ используя свойство  $(AB)^T = B^T A^T$ \n",
    "    \n",
    "$$\n",
    "w' = (P^T X^T XP)^{-1} P^T X^T y\n",
    "$$    \n",
    "   \n",
    "Далее раскроем   $(P^T(X^TX)P)^{-1}$, пусть тут $A=P^T$, $B=(X^TX)P)^{-1}$, тогда $(P^T(X^TX)P)^{-1} = ((X^TX)P)^{-1} P^{T^{-1}}$\n",
    "    \n",
    "$$\n",
    "w' = (X^T XP)^{-1} P^{T^{-1}} P^T X^T y\n",
    "$$  \n",
    "    \n",
    "$P^{T^{-1}} P^T$ - сократим\n",
    "    \n",
    "$$\n",
    "w' = (X^T XP)^{-1} X^T y\n",
    "$$\n",
    "    \n",
    "Далее раскроем $(X^T XP)^{-1}$, пусть тут $A=(X^TX)$, $B=P$. Далее продолжи, пожалуйста:\n",
    "\n",
    "\n",
    "$$\n",
    "w' = P^{-1} (X^T X)^{-1} X^T y\n",
    "$$\n",
    "\n",
    "<div class=\"alert alert-info\"> \n",
    "\n",
    "\n",
    "\n",
    "Раскрыл скобки!!!\n",
    "\n",
    "\n",
    "И если Формула обучения:\n",
    "\n",
    "$$\n",
    "w = (X^T X)^{-1} X^T y\n",
    "$$\n",
    "\n",
    "\n",
    "\n",
    "то получается\n",
    "$$\n",
    "w' = P^{-1}w\n",
    "$$\n"
   ]
  },
  {
   "cell_type": "markdown",
   "metadata": {},
   "source": [
    "<div class=\"alert alert-success\">\n",
    "<b>Комментарий ревьюера V3✔️:</b>Да, вот тут теперь все корректно;)</div>"
   ]
  },
  {
   "cell_type": "markdown",
   "metadata": {},
   "source": [
    "<div class=\"alert alert-info\"> \n",
    "\n",
    "Заменим матрицу Х на матрицу Z:\n",
    "\n",
    "$$\n",
    "a = Zw\n",
    "$$\n",
    "$$\n",
    "w = (Z^T Z)^{-1} Z^T y\n",
    "$$\n",
    "\n",
    "Подставим первое уравнение во воторое, после заменим все Z на ХР\n",
    "\n",
    "$$\n",
    "а = Z(Z^T Z)^{-1} Z^T y\n",
    "$$\n",
    "$$\n",
    "а = ХР(ХР^T ХР)^{-1} ХР^T y\n",
    "$$\n",
    "\n",
    "Используем следующее свойство обратной матрицы:\n",
    "\n",
    "$$\n",
    "(AB)^{-1} = B^{-1} A^{-1}\n",
    "$$\n",
    "\n",
    "Применим его:\n",
    "$$\n",
    "а = ХР((ХР)^T (ХР))^{-1} (ХР)^T y = ХР(Р^T Х^T ХР)^{-1}(ХР)^T y = ХР(XP)^{-1}(Р^T Х^T)^{-1}(ХР)^T y\n",
    "$$\n",
    "\n",
    "\n",
    "\n",
    "$$\n",
    "(AB)^{Т} = B^{Т} A^{Т}\n",
    "$$\n",
    "\n",
    "\n",
    "Раскроем \n",
    "$$\n",
    "((ХР)^T)^{-1}(ХР)^T\n",
    "$$\n",
    "\n",
    "\n",
    "$$\n",
    "а = XPX^{-1}P^{-1}(X^T)^{-1}(P^T)^{-1}(ХР)^T y = XPX^{-1}P^{-1}(X^T)^{-1}X^Ty = XPP^{-1}(X^TX)^{-1}X^Ty\n",
    "$$\n",
    "\n",
    "\n",
    "Сократим $$ P(P)^{-1} $$\n",
    "\n",
    "\n",
    "$$\n",
    "а = X(X^TX)^{-1}X^Ty\n",
    "$$\n",
    "Получили формулу полность совпадающую с предыдущей \n",
    "\n",
    "Значение предсказания \"а\" не меняется, если умножать матрицу признаков на обратимую матрицу.\n",
    "\n",
    "\n",
    "\n",
    "</div>"
   ]
  },
  {
   "cell_type": "markdown",
   "metadata": {},
   "source": [
    "**Алгоритм**\n",
    "\n",
    "Для защиты информации на этапе поиска коэффициентов регрессии и предсказаний регрессии будем умножать матрицу признаков на обратимую матрицу Y, которая будет генерироваться случайным образом.\n",
    "\n",
    "Этапы алгоритма:\n",
    "\n",
    "Составление матрицы Y.\n",
    "\n",
    "Проверка матрицы на обратимость. Вычисление детерминанта матрицы Y.\n",
    "\n",
    "Получение матрицы преобразованных признаков Z = XY.\n",
    "\n",
    "Применение алгоритма на преобразованных признаках Z.\n"
   ]
  },
  {
   "cell_type": "markdown",
   "metadata": {},
   "source": [
    "**Обоснование**\n",
    "\n",
    "Матрица Y должна иметь необходимую размерность (nxn), где n - количество признаков для регрессии. Таким образом матрица Z будет иметь туже размерность, что и матрица X. Обратная матрица Y существует только для квадратных невырожденных матриц (определитель которых не равен нулю). После этого добавим нулевой столбец и вводим данные в линейную регрессию."
   ]
  },
  {
   "cell_type": "markdown",
   "metadata": {},
   "source": [
    "## Проверка алгоритма"
   ]
  },
  {
   "cell_type": "markdown",
   "metadata": {},
   "source": [
    "Создаем матрицу проверяем ее обратимость!"
   ]
  },
  {
   "cell_type": "code",
   "execution_count": 161,
   "metadata": {},
   "outputs": [
    {
     "name": "stdout",
     "output_type": "stream",
     "text": [
      "[[2.07925735 3.94430475 3.31147345 3.62586681]\n",
      " [3.50315328 4.31105663 4.22463685 3.55387107]\n",
      " [1.58343866 1.70618202 1.43359445 3.48777065]\n",
      " [2.59757132 2.37135231 2.36807582 1.41148986]]\n",
      "\n",
      "[[-0.04612151 -0.81752619  0.35050329  1.31076963]\n",
      " [ 2.0242001  -2.78165533 -0.1757999   2.23828326]\n",
      " [-1.85253732  3.50985764 -0.44468321 -2.97952893]\n",
      " [-0.20782216  0.28923933  0.39636825 -0.4653419 ]]\n"
     ]
    }
   ],
   "source": [
    "P = np.random.normal(3, size=(4,4))\n",
    "print(P)\n",
    "print()\n",
    "print(np.linalg.inv(P))"
   ]
  },
  {
   "cell_type": "markdown",
   "metadata": {},
   "source": [
    "<div class=\"alert alert-success\">\n",
    "<b>Комментарий ревьюера ✔️:</b> На обратимость можно вот еще так проверить: Если определитель квадратной матрицы $P$ не равен нулю, значит у нее есть обратная</div>"
   ]
  },
  {
   "cell_type": "markdown",
   "metadata": {},
   "source": [
    "Умножим признаки на новую матрицу М"
   ]
  },
  {
   "cell_type": "code",
   "execution_count": 162,
   "metadata": {},
   "outputs": [
    {
     "name": "stdout",
     "output_type": "stream",
     "text": [
      "               Пол       Возраст      Зарплата    Члены семьи\n",
      "3245  63773.609574  68735.157996  57773.733047  140328.552918\n",
      "783   63163.582507  68080.857984  57228.412811  138956.838270\n",
      "1377  73562.635968  79278.933166  66628.623214  161924.958886\n",
      "1109  45865.048075  49437.625304  41556.705657  100903.259961\n",
      "1319  70566.691225  76054.064804  63920.779136  155312.482128\n",
      "...            ...           ...           ...            ...\n",
      "2799  35715.216852  38496.936745  32361.089483   78563.027544\n",
      "171   53315.639996  57465.669659  48303.962027  117302.817771\n",
      "3640  83860.182423  90373.858996  75951.723315  184598.291102\n",
      "3121  48905.628229  52716.597698  44317.613453  107559.794662\n",
      "4594  51600.977110  55621.418187  46758.948661  113492.558641\n",
      "\n",
      "[3750 rows x 4 columns]\n"
     ]
    }
   ],
   "source": [
    "M = train_features.dot(P)\n",
    "M.columns = train_features.columns\n",
    "print(M)"
   ]
  },
  {
   "cell_type": "markdown",
   "metadata": {},
   "source": [
    "Проверяем все на тестовой выборке"
   ]
  },
  {
   "cell_type": "code",
   "execution_count": 163,
   "metadata": {},
   "outputs": [
    {
     "name": "stdout",
     "output_type": "stream",
     "text": [
      "                Пол        Возраст       Зарплата    Члены семьи\n",
      "4158   58408.857781   62956.061165   52921.548252  128487.830062\n",
      "2117   35862.783165   38654.556881   32492.176666   78901.801892\n",
      "3328  113498.510655  122313.951209  102793.736696  249848.033257\n",
      "4813   50742.179552   54687.990054   45962.826732  111683.364142\n",
      "4176   56826.324700   61251.818851   51489.810359  125002.201792\n",
      "...             ...            ...            ...            ...\n",
      "178    59189.549339   63797.791958   53626.614966  130223.268152\n",
      "961    66580.587654   71752.548351   60302.052509  146562.410153\n",
      "2888   76437.228460   82376.790437   69235.464082  168222.807503\n",
      "4114   81027.895863   87327.799301   73395.176442  178342.430042\n",
      "4081   72597.136261   78237.612976   65750.654831  159818.153006\n",
      "\n",
      "[1250 rows x 4 columns]\n"
     ]
    }
   ],
   "source": [
    "test_M = test_features.dot(P)\n",
    "test_M.columns = test_features.columns\n",
    "print(test_M)"
   ]
  },
  {
   "cell_type": "markdown",
   "metadata": {},
   "source": [
    "Вносим в таблицу М столбец со значением 1"
   ]
  },
  {
   "cell_type": "code",
   "execution_count": 164,
   "metadata": {},
   "outputs": [
    {
     "name": "stdout",
     "output_type": "stream",
     "text": [
      "        0             1             2             3              4\n",
      "0     1.0  63773.609574  68735.157996  57773.733047  140328.552918\n",
      "1     1.0  63163.582507  68080.857984  57228.412811  138956.838270\n",
      "2     1.0  73562.635968  79278.933166  66628.623214  161924.958886\n",
      "3     1.0  45865.048075  49437.625304  41556.705657  100903.259961\n",
      "4     1.0  70566.691225  76054.064804  63920.779136  155312.482128\n",
      "...   ...           ...           ...           ...            ...\n",
      "3745  1.0  35715.216852  38496.936745  32361.089483   78563.027544\n",
      "3746  1.0  53315.639996  57465.669659  48303.962027  117302.817771\n",
      "3747  1.0  83860.182423  90373.858996  75951.723315  184598.291102\n",
      "3748  1.0  48905.628229  52716.597698  44317.613453  107559.794662\n",
      "3749  1.0  51600.977110  55621.418187  46758.948661  113492.558641\n",
      "\n",
      "[3750 rows x 5 columns]\n"
     ]
    }
   ],
   "source": [
    "X = np.concatenate((np.ones((M.shape[0], 1)), M), axis=1)\n",
    "print(pd.DataFrame(X))"
   ]
  },
  {
   "cell_type": "code",
   "execution_count": 165,
   "metadata": {},
   "outputs": [],
   "source": [
    "y = train_target\n",
    "w = (np.linalg.inv(X.T.dot(X)).dot(X.T)).dot(y)"
   ]
  },
  {
   "cell_type": "code",
   "execution_count": 166,
   "metadata": {},
   "outputs": [],
   "source": [
    "a = test_M.dot(w[1:]) + w[0]\n"
   ]
  },
  {
   "cell_type": "code",
   "execution_count": 167,
   "metadata": {},
   "outputs": [
    {
     "name": "stdout",
     "output_type": "stream",
     "text": [
      "R2_score: 0.419211452214853\n",
      "MSE: 0.12428912093069203\n"
     ]
    }
   ],
   "source": [
    "R2_score_m = r2_score(test_target, a)\n",
    "MSE_m = mean_squared_error(a, test_target)\n",
    "print(\"R2_score:\",R2_score_m)\n",
    "print(\"MSE:\", MSE_m)"
   ]
  },
  {
   "cell_type": "markdown",
   "metadata": {},
   "source": [
    "Вывод: R2 и MSE изменённой/неизменённой матрицы признаков совпадают."
   ]
  },
  {
   "cell_type": "markdown",
   "metadata": {},
   "source": [
    "<div class=\"alert alert-success\">\n",
    "<b>Комментарий ревьюера ✔️:</b> Да, хорошо;)\n",
    "\n",
    "\n",
    "Оставлю немного полезного материала:\n",
    "\n",
    "+  https://academy.yandex.ru/handbook/ml\n",
    "+  https://habr.com/ru/post/595281/\n",
    "</div>"
   ]
  },
  {
   "cell_type": "markdown",
   "metadata": {},
   "source": [
    "#### Итоговый ВЫВОД: Мы разработали метод преобразования данных который усложняет восстановлене персональных данных. Данные преобразовывались методом умножения признаков исходных данных на обратимую матрицу Р. Результатом такого преобразования явилась новая (изменённая) матрица признаков, которая справилась с изменениями данных и сохранила занчения R2 и MSE."
   ]
  },
  {
   "cell_type": "markdown",
   "metadata": {},
   "source": [
    "## Чек-лист проверки"
   ]
  },
  {
   "cell_type": "markdown",
   "metadata": {},
   "source": [
    "Поставьте 'x' в выполненных пунктах. Далее нажмите Shift+Enter."
   ]
  },
  {
   "cell_type": "markdown",
   "metadata": {},
   "source": [
    "- [x]  Jupyter Notebook открыт\n",
    "- [ ]  Весь код выполняется без ошибок\n",
    "- [ ]  Ячейки с кодом расположены в порядке исполнения\n",
    "- [ ]  Выполнен шаг 1: данные загружены\n",
    "- [ ]  Выполнен шаг 2: получен ответ на вопрос об умножении матриц\n",
    "    - [ ]  Указан правильный вариант ответа\n",
    "    - [ ]  Вариант обоснован\n",
    "- [ ]  Выполнен шаг 3: предложен алгоритм преобразования\n",
    "    - [ ]  Алгоритм описан\n",
    "    - [ ]  Алгоритм обоснован\n",
    "- [ ]  Выполнен шаг 4: алгоритм проверен\n",
    "    - [ ]  Алгоритм реализован\n",
    "    - [ ]  Проведено сравнение качества моделей до и после преобразования"
   ]
  },
  {
   "cell_type": "markdown",
   "metadata": {},
   "source": [
    "<font color='blue'><b>Итоговый комментарий ревьюера</b></font>\n",
    "<div class=\"alert alert-success\">\n",
    "<b>Комментарий ревьюера ✔️:</b>Илья, получился хороший проект! \n",
    "    \n",
    "Если есть  если есть какие либо вопросы я с удовольствием на них отвечу:) <br> Исправь, пожалуйста, замечания и жду проект на следующую проверку:) </div>\n"
   ]
  },
  {
   "cell_type": "markdown",
   "metadata": {},
   "source": [
    "<div class=\"alert alert-success\">\n",
    "<b>Комментарий ревьюера V3✔️:</b>\n",
    "\n",
    "Оставлю хороший учебник по ML:\n",
    "+  https://academy.yandex.ru/handbook/ml\n",
    "    \n",
    "Немного новостей с мира DL(вдруг заинтересует):\n",
    "+  https://habr.com/ru/company/ods/blog/686962/\n",
    "    \n",
    "Вот тут проходят всякие соревнования, можешь себя попробовать:\n",
    "+  https://hacks-ai.ru/championships#competitions\n",
    "    \n",
    "\n",
    "Возможно, что нить пригодится:  \n",
    "+  https://drive.google.com/file/d/1r8CJHH_hwDM16l1Pnpb4KJzoJFrJ5XRi/view\n",
    "+  https://arxiv.org/ftp/arxiv/papers/2201/2201.00650.pdf\n",
    "+  https://github.com/slgero/testovoe\n",
    "    \n",
    "    \n",
    "Курс от МФТИ математика для DS:\n",
    "    \n",
    "+  https://www.youtube.com/watch?v=xccjt6lOoow&list=PLk4h7dmY2eYHHTyfLyrl7HmP-H3mMAW08&index=1\n",
    "    \n",
    "    \n",
    "Тут много соревнований/лекций:\n",
    "    \n",
    "+  https://ods.ai/\n",
    "    \n",
    "stepic NLP/CV:\n",
    "    \n",
    "+  https://stepik.org/course/54098/syllabus\n",
    "+  https://stepik.org/course/50352/syllabus\n",
    "    \n",
    "Еще есть от ВШЭ:\n",
    "    \n",
    "+  https://www.youtube.com/watch?v=mwjQaNt8qxk&list=PLEwK9wdS5g0og-DcF1apxutSM0GDLHz_3&ab_channel=%D0%A4%D0%9A%D0%9D%D0%92%D0%A8%D0%AD%E2%80%94%D0%B4%D0%B8%D1%81%D1%82%D0%B0%D0%BD%D1%86%D0%B8%D0%BE%D0%BD%D0%BD%D1%8B%D0%B5%D0%B7%D0%B0%D0%BD%D1%8F%D1%82%D0%B8%D1%8F\n",
    "+  https://github.com/hse-ds/iad-deep-learning\n",
    "    \n",
    "    \n",
    "    \n",
    "    \n",
    "Удачи в следующих проектах!!!\n",
    "    \n",
    " \n",
    "\n",
    "\n",
    "</div>"
   ]
  }
 ],
 "metadata": {
  "ExecuteTimeLog": [
   {
    "duration": 142,
    "start_time": "2023-06-22T07:20:31.915Z"
   },
   {
    "duration": 1381,
    "start_time": "2023-06-22T07:20:36.366Z"
   },
   {
    "duration": 122,
    "start_time": "2023-06-22T07:20:48.214Z"
   },
   {
    "duration": 44,
    "start_time": "2023-06-22T07:21:45.123Z"
   },
   {
    "duration": 145,
    "start_time": "2023-06-22T07:28:33.092Z"
   },
   {
    "duration": 13,
    "start_time": "2023-06-22T07:28:38.440Z"
   },
   {
    "duration": 8,
    "start_time": "2023-06-22T07:29:16.120Z"
   },
   {
    "duration": 7,
    "start_time": "2023-06-22T07:29:48.223Z"
   },
   {
    "duration": 9,
    "start_time": "2023-06-22T07:32:02.684Z"
   },
   {
    "duration": 20,
    "start_time": "2023-06-22T07:36:33.009Z"
   },
   {
    "duration": 13,
    "start_time": "2023-06-22T07:36:42.629Z"
   },
   {
    "duration": 18,
    "start_time": "2023-06-22T07:37:23.943Z"
   },
   {
    "duration": 18,
    "start_time": "2023-06-22T07:37:34.534Z"
   },
   {
    "duration": 25,
    "start_time": "2023-06-22T07:37:44.958Z"
   },
   {
    "duration": 17,
    "start_time": "2023-06-22T07:38:07.246Z"
   },
   {
    "duration": 19,
    "start_time": "2023-06-22T07:38:31.110Z"
   },
   {
    "duration": 40,
    "start_time": "2023-06-22T07:39:01.322Z"
   },
   {
    "duration": 26,
    "start_time": "2023-06-22T07:39:51.110Z"
   },
   {
    "duration": 17,
    "start_time": "2023-06-22T07:39:57.324Z"
   },
   {
    "duration": 14,
    "start_time": "2023-06-22T07:40:09.512Z"
   },
   {
    "duration": 6,
    "start_time": "2023-06-22T07:40:21.867Z"
   },
   {
    "duration": 50,
    "start_time": "2023-06-22T07:40:21.884Z"
   },
   {
    "duration": 14,
    "start_time": "2023-06-22T07:40:21.937Z"
   },
   {
    "duration": 5,
    "start_time": "2023-06-22T07:41:22.618Z"
   },
   {
    "duration": 4,
    "start_time": "2023-06-22T07:41:37.314Z"
   },
   {
    "duration": 46,
    "start_time": "2023-06-22T07:41:37.320Z"
   },
   {
    "duration": 12,
    "start_time": "2023-06-22T07:41:37.374Z"
   },
   {
    "duration": 7,
    "start_time": "2023-06-22T07:43:19.851Z"
   },
   {
    "duration": 4,
    "start_time": "2023-06-22T07:43:44.026Z"
   },
   {
    "duration": 93,
    "start_time": "2023-06-22T07:43:44.032Z"
   },
   {
    "duration": 6,
    "start_time": "2023-06-22T07:43:44.127Z"
   },
   {
    "duration": 6,
    "start_time": "2023-06-22T07:47:05.717Z"
   },
   {
    "duration": 9,
    "start_time": "2023-06-22T07:51:05.489Z"
   },
   {
    "duration": 12,
    "start_time": "2023-06-22T08:00:13.552Z"
   },
   {
    "duration": 5,
    "start_time": "2023-06-22T08:00:53.706Z"
   },
   {
    "duration": 50,
    "start_time": "2023-06-22T08:00:53.713Z"
   },
   {
    "duration": 10,
    "start_time": "2023-06-22T08:00:53.765Z"
   },
   {
    "duration": 20,
    "start_time": "2023-06-22T08:00:53.778Z"
   },
   {
    "duration": 14,
    "start_time": "2023-06-22T08:01:01.144Z"
   },
   {
    "duration": 15,
    "start_time": "2023-06-22T08:01:14.541Z"
   },
   {
    "duration": 4,
    "start_time": "2023-06-22T08:02:38.513Z"
   },
   {
    "duration": 54,
    "start_time": "2023-06-22T08:02:38.519Z"
   },
   {
    "duration": 12,
    "start_time": "2023-06-22T08:02:38.575Z"
   },
   {
    "duration": 25,
    "start_time": "2023-06-22T08:02:38.592Z"
   },
   {
    "duration": 19,
    "start_time": "2023-06-22T08:03:12.639Z"
   },
   {
    "duration": 16,
    "start_time": "2023-06-22T08:03:22.455Z"
   },
   {
    "duration": 13,
    "start_time": "2023-06-22T08:06:47.414Z"
   },
   {
    "duration": 32,
    "start_time": "2023-06-22T08:07:31.542Z"
   },
   {
    "duration": 14,
    "start_time": "2023-06-22T08:08:51.238Z"
   },
   {
    "duration": 14,
    "start_time": "2023-06-22T08:09:05.832Z"
   },
   {
    "duration": 7,
    "start_time": "2023-06-22T08:14:57.430Z"
   },
   {
    "duration": 10,
    "start_time": "2023-06-22T08:15:01.254Z"
   },
   {
    "duration": 4,
    "start_time": "2023-06-22T08:15:32.726Z"
   },
   {
    "duration": 112,
    "start_time": "2023-06-22T08:15:35.558Z"
   },
   {
    "duration": 6,
    "start_time": "2023-06-22T08:16:38.005Z"
   },
   {
    "duration": 121,
    "start_time": "2023-06-22T08:16:38.014Z"
   },
   {
    "duration": 7,
    "start_time": "2023-06-22T08:16:38.137Z"
   },
   {
    "duration": 12,
    "start_time": "2023-06-22T08:16:38.146Z"
   },
   {
    "duration": 27,
    "start_time": "2023-06-22T08:16:38.160Z"
   },
   {
    "duration": 51,
    "start_time": "2023-06-22T08:16:38.192Z"
   },
   {
    "duration": 9,
    "start_time": "2023-06-22T08:17:29.910Z"
   },
   {
    "duration": 6,
    "start_time": "2023-06-22T08:18:31.751Z"
   },
   {
    "duration": 8,
    "start_time": "2023-06-22T08:18:34.612Z"
   },
   {
    "duration": 44,
    "start_time": "2023-06-25T11:53:02.918Z"
   },
   {
    "duration": 1204,
    "start_time": "2023-06-25T11:53:08.193Z"
   },
   {
    "duration": 105,
    "start_time": "2023-06-25T11:53:09.399Z"
   },
   {
    "duration": 5,
    "start_time": "2023-06-25T11:53:09.505Z"
   },
   {
    "duration": 12,
    "start_time": "2023-06-25T11:53:09.512Z"
   },
   {
    "duration": 6,
    "start_time": "2023-06-25T11:53:09.526Z"
   },
   {
    "duration": 16,
    "start_time": "2023-06-25T11:53:09.534Z"
   },
   {
    "duration": 7,
    "start_time": "2023-06-25T11:53:09.576Z"
   },
   {
    "duration": 96,
    "start_time": "2023-06-25T11:53:09.585Z"
   },
   {
    "duration": 105,
    "start_time": "2023-06-25T11:53:09.683Z"
   },
   {
    "duration": 3,
    "start_time": "2023-06-25T11:54:14.160Z"
   },
   {
    "duration": 4,
    "start_time": "2023-06-25T11:55:18.513Z"
   },
   {
    "duration": 5,
    "start_time": "2023-06-25T11:55:28.039Z"
   },
   {
    "duration": 7,
    "start_time": "2023-06-25T12:07:36.407Z"
   },
   {
    "duration": 54,
    "start_time": "2023-06-25T12:08:41.413Z"
   },
   {
    "duration": 4,
    "start_time": "2023-06-25T12:13:04.805Z"
   },
   {
    "duration": 110,
    "start_time": "2023-06-25T12:23:25.090Z"
   },
   {
    "duration": 8,
    "start_time": "2023-06-25T12:23:32.138Z"
   },
   {
    "duration": 8,
    "start_time": "2023-06-25T12:24:01.961Z"
   },
   {
    "duration": 9,
    "start_time": "2023-06-25T12:24:16.659Z"
   },
   {
    "duration": 8,
    "start_time": "2023-06-25T12:24:53.907Z"
   },
   {
    "duration": 3,
    "start_time": "2023-06-25T12:30:21.824Z"
   },
   {
    "duration": 53,
    "start_time": "2023-06-25T12:30:21.829Z"
   },
   {
    "duration": 5,
    "start_time": "2023-06-25T12:30:21.884Z"
   },
   {
    "duration": 9,
    "start_time": "2023-06-25T12:30:21.890Z"
   },
   {
    "duration": 5,
    "start_time": "2023-06-25T12:30:21.900Z"
   },
   {
    "duration": 9,
    "start_time": "2023-06-25T12:30:21.906Z"
   },
   {
    "duration": 62,
    "start_time": "2023-06-25T12:30:21.917Z"
   },
   {
    "duration": 94,
    "start_time": "2023-06-25T12:30:21.981Z"
   },
   {
    "duration": 5,
    "start_time": "2023-06-25T12:30:22.077Z"
   },
   {
    "duration": 98,
    "start_time": "2023-06-25T12:30:22.084Z"
   },
   {
    "duration": 8,
    "start_time": "2023-06-25T12:30:22.185Z"
   },
   {
    "duration": 3,
    "start_time": "2023-06-25T12:31:30.353Z"
   },
   {
    "duration": 12,
    "start_time": "2023-06-25T12:38:32.249Z"
   },
   {
    "duration": 3,
    "start_time": "2023-06-25T12:38:48.174Z"
   },
   {
    "duration": 20,
    "start_time": "2023-06-25T12:41:25.494Z"
   },
   {
    "duration": 21,
    "start_time": "2023-06-25T12:42:40.581Z"
   },
   {
    "duration": 3,
    "start_time": "2023-06-25T13:04:24.111Z"
   },
   {
    "duration": 10,
    "start_time": "2023-06-25T13:11:52.973Z"
   },
   {
    "duration": 10,
    "start_time": "2023-06-25T13:17:04.133Z"
   },
   {
    "duration": 3,
    "start_time": "2023-06-25T13:17:08.641Z"
   },
   {
    "duration": 48,
    "start_time": "2023-06-25T13:17:08.646Z"
   },
   {
    "duration": 4,
    "start_time": "2023-06-25T13:17:08.696Z"
   },
   {
    "duration": 12,
    "start_time": "2023-06-25T13:17:08.702Z"
   },
   {
    "duration": 32,
    "start_time": "2023-06-25T13:17:08.716Z"
   },
   {
    "duration": 29,
    "start_time": "2023-06-25T13:17:08.749Z"
   },
   {
    "duration": 96,
    "start_time": "2023-06-25T13:17:08.780Z"
   },
   {
    "duration": 9,
    "start_time": "2023-06-25T13:17:08.878Z"
   },
   {
    "duration": 92,
    "start_time": "2023-06-25T13:17:08.889Z"
   },
   {
    "duration": 92,
    "start_time": "2023-06-25T13:17:08.983Z"
   },
   {
    "duration": 100,
    "start_time": "2023-06-25T13:17:09.078Z"
   },
   {
    "duration": 10,
    "start_time": "2023-06-25T13:17:09.180Z"
   },
   {
    "duration": 15,
    "start_time": "2023-06-25T13:18:19.764Z"
   },
   {
    "duration": 3,
    "start_time": "2023-06-25T13:22:06.196Z"
   },
   {
    "duration": 48,
    "start_time": "2023-06-25T13:22:06.201Z"
   },
   {
    "duration": 5,
    "start_time": "2023-06-25T13:22:06.251Z"
   },
   {
    "duration": 37,
    "start_time": "2023-06-25T13:22:06.257Z"
   },
   {
    "duration": 27,
    "start_time": "2023-06-25T13:22:06.297Z"
   },
   {
    "duration": 43,
    "start_time": "2023-06-25T13:22:06.325Z"
   },
   {
    "duration": 26,
    "start_time": "2023-06-25T13:22:06.371Z"
   },
   {
    "duration": 88,
    "start_time": "2023-06-25T13:22:06.399Z"
   },
   {
    "duration": 97,
    "start_time": "2023-06-25T13:22:06.489Z"
   },
   {
    "duration": 89,
    "start_time": "2023-06-25T13:22:06.588Z"
   },
   {
    "duration": 109,
    "start_time": "2023-06-25T13:22:06.680Z"
   },
   {
    "duration": 86,
    "start_time": "2023-06-25T13:22:06.791Z"
   },
   {
    "duration": 9,
    "start_time": "2023-06-25T13:31:33.367Z"
   },
   {
    "duration": 4,
    "start_time": "2023-06-25T13:32:24.993Z"
   },
   {
    "duration": 58,
    "start_time": "2023-06-25T13:32:24.998Z"
   },
   {
    "duration": 5,
    "start_time": "2023-06-25T13:32:25.058Z"
   },
   {
    "duration": 14,
    "start_time": "2023-06-25T13:32:25.064Z"
   },
   {
    "duration": 19,
    "start_time": "2023-06-25T13:32:25.079Z"
   },
   {
    "duration": 23,
    "start_time": "2023-06-25T13:32:25.100Z"
   },
   {
    "duration": 51,
    "start_time": "2023-06-25T13:32:25.125Z"
   },
   {
    "duration": 106,
    "start_time": "2023-06-25T13:32:25.178Z"
   },
   {
    "duration": 90,
    "start_time": "2023-06-25T13:32:25.287Z"
   },
   {
    "duration": 103,
    "start_time": "2023-06-25T13:32:25.379Z"
   },
   {
    "duration": 0,
    "start_time": "2023-06-25T13:32:25.484Z"
   },
   {
    "duration": 0,
    "start_time": "2023-06-25T13:32:25.485Z"
   },
   {
    "duration": 3,
    "start_time": "2023-06-25T13:33:15.897Z"
   },
   {
    "duration": 13,
    "start_time": "2023-06-25T13:33:23.284Z"
   },
   {
    "duration": 13,
    "start_time": "2023-06-25T13:35:08.688Z"
   },
   {
    "duration": 16,
    "start_time": "2023-06-25T13:40:21.120Z"
   },
   {
    "duration": 5,
    "start_time": "2023-06-25T13:56:44.082Z"
   },
   {
    "duration": 15,
    "start_time": "2023-06-25T13:56:55.684Z"
   },
   {
    "duration": 7,
    "start_time": "2023-06-25T13:57:20.113Z"
   },
   {
    "duration": 10,
    "start_time": "2023-06-25T13:58:39.201Z"
   },
   {
    "duration": 7,
    "start_time": "2023-06-25T13:58:59.241Z"
   },
   {
    "duration": 3,
    "start_time": "2023-06-25T14:00:09.143Z"
   },
   {
    "duration": 6,
    "start_time": "2023-06-25T14:00:35.264Z"
   },
   {
    "duration": 3,
    "start_time": "2023-06-25T14:01:01.304Z"
   },
   {
    "duration": 3,
    "start_time": "2023-06-25T14:01:11.778Z"
   },
   {
    "duration": 5,
    "start_time": "2023-06-25T14:01:18.713Z"
   },
   {
    "duration": 101,
    "start_time": "2023-06-25T14:01:47.744Z"
   },
   {
    "duration": 5,
    "start_time": "2023-06-25T14:01:57.272Z"
   },
   {
    "duration": 3,
    "start_time": "2023-06-25T14:49:40.564Z"
   },
   {
    "duration": 63,
    "start_time": "2023-06-25T14:49:40.569Z"
   },
   {
    "duration": 5,
    "start_time": "2023-06-25T14:49:40.634Z"
   },
   {
    "duration": 29,
    "start_time": "2023-06-25T14:49:40.641Z"
   },
   {
    "duration": 26,
    "start_time": "2023-06-25T14:49:40.672Z"
   },
   {
    "duration": 34,
    "start_time": "2023-06-25T14:49:40.699Z"
   },
   {
    "duration": 43,
    "start_time": "2023-06-25T14:49:40.735Z"
   },
   {
    "duration": 100,
    "start_time": "2023-06-25T14:49:40.781Z"
   },
   {
    "duration": 94,
    "start_time": "2023-06-25T14:49:40.884Z"
   },
   {
    "duration": 96,
    "start_time": "2023-06-25T14:49:40.980Z"
   },
   {
    "duration": 95,
    "start_time": "2023-06-25T14:49:41.080Z"
   },
   {
    "duration": 27,
    "start_time": "2023-06-25T14:49:41.177Z"
   },
   {
    "duration": 22,
    "start_time": "2023-06-25T14:49:41.205Z"
   },
   {
    "duration": 53,
    "start_time": "2023-06-25T14:49:41.228Z"
   },
   {
    "duration": 92,
    "start_time": "2023-06-25T14:49:41.283Z"
   },
   {
    "duration": 3,
    "start_time": "2023-06-25T14:59:57.113Z"
   },
   {
    "duration": 45,
    "start_time": "2023-06-25T14:59:57.119Z"
   },
   {
    "duration": 5,
    "start_time": "2023-06-25T14:59:57.165Z"
   },
   {
    "duration": 15,
    "start_time": "2023-06-25T14:59:57.171Z"
   },
   {
    "duration": 11,
    "start_time": "2023-06-25T14:59:57.188Z"
   },
   {
    "duration": 16,
    "start_time": "2023-06-25T14:59:57.200Z"
   },
   {
    "duration": 160,
    "start_time": "2023-06-25T14:59:57.220Z"
   },
   {
    "duration": 96,
    "start_time": "2023-06-25T14:59:57.382Z"
   },
   {
    "duration": 102,
    "start_time": "2023-06-25T14:59:57.481Z"
   },
   {
    "duration": 10,
    "start_time": "2023-06-25T14:59:57.585Z"
   },
   {
    "duration": 9,
    "start_time": "2023-06-25T14:59:57.677Z"
   },
   {
    "duration": 11,
    "start_time": "2023-06-25T14:59:57.688Z"
   },
   {
    "duration": 75,
    "start_time": "2023-06-25T14:59:57.701Z"
   },
   {
    "duration": 7,
    "start_time": "2023-06-25T14:59:57.778Z"
   },
   {
    "duration": 4,
    "start_time": "2023-06-25T15:05:50.799Z"
   },
   {
    "duration": 4,
    "start_time": "2023-06-25T15:06:39.184Z"
   },
   {
    "duration": 6,
    "start_time": "2023-06-25T15:06:51.918Z"
   },
   {
    "duration": 8,
    "start_time": "2023-06-25T15:10:24.424Z"
   },
   {
    "duration": 11,
    "start_time": "2023-06-25T15:10:51.646Z"
   },
   {
    "duration": 6,
    "start_time": "2023-06-25T15:13:54.415Z"
   },
   {
    "duration": 3,
    "start_time": "2023-06-25T15:14:04.238Z"
   },
   {
    "duration": 68,
    "start_time": "2023-06-25T15:14:04.243Z"
   },
   {
    "duration": 5,
    "start_time": "2023-06-25T15:14:04.313Z"
   },
   {
    "duration": 13,
    "start_time": "2023-06-25T15:14:04.319Z"
   },
   {
    "duration": 7,
    "start_time": "2023-06-25T15:14:04.334Z"
   },
   {
    "duration": 23,
    "start_time": "2023-06-25T15:14:04.342Z"
   },
   {
    "duration": 113,
    "start_time": "2023-06-25T15:14:04.367Z"
   },
   {
    "duration": 96,
    "start_time": "2023-06-25T15:14:04.482Z"
   },
   {
    "duration": 101,
    "start_time": "2023-06-25T15:14:04.581Z"
   },
   {
    "duration": 96,
    "start_time": "2023-06-25T15:14:04.684Z"
   },
   {
    "duration": 93,
    "start_time": "2023-06-25T15:14:04.782Z"
   },
   {
    "duration": 25,
    "start_time": "2023-06-25T15:14:04.877Z"
   },
   {
    "duration": 12,
    "start_time": "2023-06-25T15:14:04.974Z"
   },
   {
    "duration": 13,
    "start_time": "2023-06-25T15:14:04.987Z"
   },
   {
    "duration": 6,
    "start_time": "2023-06-25T15:14:05.001Z"
   },
   {
    "duration": 68,
    "start_time": "2023-06-25T15:14:05.009Z"
   },
   {
    "duration": 97,
    "start_time": "2023-06-25T15:14:05.079Z"
   },
   {
    "duration": 5,
    "start_time": "2023-06-25T15:26:23.961Z"
   },
   {
    "duration": 7,
    "start_time": "2023-06-25T15:26:27.401Z"
   },
   {
    "duration": 5,
    "start_time": "2023-06-25T15:35:59.231Z"
   },
   {
    "duration": 4,
    "start_time": "2023-06-25T15:36:12.936Z"
   },
   {
    "duration": 99,
    "start_time": "2023-06-25T16:08:41.048Z"
   },
   {
    "duration": 102,
    "start_time": "2023-06-25T16:08:54.927Z"
   },
   {
    "duration": 4,
    "start_time": "2023-06-25T17:04:47.096Z"
   },
   {
    "duration": 41,
    "start_time": "2023-06-25T17:04:47.101Z"
   },
   {
    "duration": 5,
    "start_time": "2023-06-25T17:04:47.144Z"
   },
   {
    "duration": 13,
    "start_time": "2023-06-25T17:04:47.151Z"
   },
   {
    "duration": 11,
    "start_time": "2023-06-25T17:04:47.165Z"
   },
   {
    "duration": 10,
    "start_time": "2023-06-25T17:04:47.178Z"
   },
   {
    "duration": 90,
    "start_time": "2023-06-25T17:04:47.190Z"
   },
   {
    "duration": 103,
    "start_time": "2023-06-25T17:04:47.282Z"
   },
   {
    "duration": 98,
    "start_time": "2023-06-25T17:04:47.389Z"
   },
   {
    "duration": 92,
    "start_time": "2023-06-25T17:04:47.489Z"
   },
   {
    "duration": 96,
    "start_time": "2023-06-25T17:04:47.584Z"
   },
   {
    "duration": 105,
    "start_time": "2023-06-25T17:04:47.683Z"
   },
   {
    "duration": 87,
    "start_time": "2023-06-25T17:04:47.791Z"
   },
   {
    "duration": 21,
    "start_time": "2023-06-25T17:04:47.880Z"
   },
   {
    "duration": 12,
    "start_time": "2023-06-25T17:04:47.902Z"
   },
   {
    "duration": 68,
    "start_time": "2023-06-25T17:04:47.917Z"
   },
   {
    "duration": 91,
    "start_time": "2023-06-25T17:04:47.988Z"
   }
  ],
  "kernelspec": {
   "display_name": "Python 3 (ipykernel)",
   "language": "python",
   "name": "python3"
  },
  "language_info": {
   "codemirror_mode": {
    "name": "ipython",
    "version": 3
   },
   "file_extension": ".py",
   "mimetype": "text/x-python",
   "name": "python",
   "nbconvert_exporter": "python",
   "pygments_lexer": "ipython3",
   "version": "3.9.5"
  },
  "toc": {
   "base_numbering": 1,
   "nav_menu": {},
   "number_sections": true,
   "sideBar": true,
   "skip_h1_title": true,
   "title_cell": "Содержание",
   "title_sidebar": "Contents",
   "toc_cell": true,
   "toc_position": {
    "height": "calc(100% - 180px)",
    "left": "10px",
    "top": "150px",
    "width": "165px"
   },
   "toc_section_display": true,
   "toc_window_display": true
  }
 },
 "nbformat": 4,
 "nbformat_minor": 2
}
