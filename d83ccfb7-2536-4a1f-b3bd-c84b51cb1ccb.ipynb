{
 "cells": [
  {
   "cell_type": "markdown",
   "metadata": {},
   "source": [
    "<div class=\"alert alert-success\">\n",
    "  <b> ✔️Комментарий ревьюера ✔️</b>\n",
    "\n",
    "Привет, Илья! Меня зовут Михаил Майоров, я буду проверять твой проект. Предлагаю общаться на 'ты' :)\n",
    "Однако, если это неудобно - сообщи, и мы перейдем на 'Вы'. Моя главная цель —  поделиться с тобой своим опытом и помочь тебе стать аналитиком данных, а не только указать на совершенные тобой ошибки.\n",
    "\n",
    "Видно, что к проету приложен большой труд. \n",
    "Есть несколько аспектов, которые **требуют** твоего **внимания**. Комментарии по ним помечены красным цветом и символами ❌. После их доработки проект будет принят, осталось совсем немного :) \n",
    "    \n",
    "\n",
    "Давай работать над проектом в диалоге: если **ты что-то меняешь** в проекте по моим рекомендациям — **пиши об этом**. Мне будет легче отследить изменения, если ты будешь использовать синюю форму, которую я прикреплю ниже. Пожалуйста, **не перемещай, не изменяй и не удаляй мои комментарии**. Всё это поможет выполнить повторную проверку твоего проекта оперативнее. \n",
    "\n",
    "\n",
    "\n",
    "Жду проект на повторное ревью. Успехов в изучении!\n",
    "\n",
    "\n",
    "\n",
    "</div>\n",
    "<div class=\"alert alert-block alert-danger\"> <b>❌ Комментарий ревьюера ❌</b> \n",
    "    Так я выделяю моменты, которые требуют особого внимания. Нужно будет учесть их и внести корректировки в свою работу. </div>\n",
    "<div class=\"alert alert-block alert-warning\"> <b>⚠️ Комментарий ревьюера ⚠️</b> \n",
    "    Желтым я отмечу рекомендации, которые, могут быть полезными при твоей работе. Они носят рекомендационный характер, но будет классно, если ты будешь учитывать их при работе.</div>\n",
    "<div class=\"alert alert-block alert-success\"> <b>✔️ Комментарий ревьюера ✔️</b>\n",
    "    Так я выделяю удачные и элегантные решения, на которые можно опираться в будущих проектах.</div>\n",
    "<div class=\"alert alert-block alert-info\">\n",
    "    \n",
    "А в таком блоке ты можешь оставить комментарии для меня \n",
    "    \n",
    "</div>"
   ]
  },
  {
   "cell_type": "markdown",
   "metadata": {},
   "source": [
    "# Исследование объявлений о продаже квартир\n",
    "\n",
    "В вашем распоряжении данные сервиса Яндекс.Недвижимость — архив объявлений о продаже квартир в Санкт-Петербурге и соседних населённых пунктов за несколько лет. Нужно научиться определять рыночную стоимость объектов недвижимости. Ваша задача — установить параметры. Это позволит построить автоматизированную систему: она отследит аномалии и мошенническую деятельность. \n",
    "\n",
    "По каждой квартире на продажу доступны два вида данных. Первые вписаны пользователем, вторые — получены автоматически на основе картографических данных. Например, расстояние до центра, аэропорта, ближайшего парка и водоёма. "
   ]
  },
  {
   "cell_type": "markdown",
   "metadata": {},
   "source": [
    "<div class=\"alert alert-success\">\n",
    "\n",
    "**✔️ Комментарий ревьюера ✔️**\n",
    "   \n",
    "   Хорошее введение в проект - пригодится в будущем, когда соберешь большое портфолио и откроешь проект вновь👍\n",
    "\n",
    "</div>\n"
   ]
  },
  {
   "cell_type": "markdown",
   "metadata": {},
   "source": [
    "### Откройте файл с данными и изучите общую информацию. "
   ]
  },
  {
   "cell_type": "code",
   "execution_count": 1,
   "metadata": {},
   "outputs": [
    {
     "name": "stdout",
     "output_type": "stream",
     "text": [
      "   total_images  last_price  total_area first_day_exposition  rooms  \\\n",
      "0            20  13000000.0       108.0  2019-03-07T00:00:00      3   \n",
      "1             7   3350000.0        40.4  2018-12-04T00:00:00      1   \n",
      "2            10   5196000.0        56.0  2015-08-20T00:00:00      2   \n",
      "3             0  64900000.0       159.0  2015-07-24T00:00:00      3   \n",
      "4             2  10000000.0       100.0  2018-06-19T00:00:00      2   \n",
      "\n",
      "   ceiling_height  floors_total  living_area  floor is_apartment  ...  \\\n",
      "0            2.70          16.0         51.0      8          NaN  ...   \n",
      "1             NaN          11.0         18.6      1          NaN  ...   \n",
      "2             NaN           5.0         34.3      4          NaN  ...   \n",
      "3             NaN          14.0          NaN      9          NaN  ...   \n",
      "4            3.03          14.0         32.0     13          NaN  ...   \n",
      "\n",
      "   kitchen_area  balcony    locality_name  airports_nearest  \\\n",
      "0          25.0      NaN  Санкт-Петербург           18863.0   \n",
      "1          11.0      2.0   посёлок Шушары           12817.0   \n",
      "2           8.3      0.0  Санкт-Петербург           21741.0   \n",
      "3           NaN      0.0  Санкт-Петербург           28098.0   \n",
      "4          41.0      NaN  Санкт-Петербург           31856.0   \n",
      "\n",
      "  cityCenters_nearest  parks_around3000  parks_nearest  ponds_around3000  \\\n",
      "0             16028.0               1.0          482.0               2.0   \n",
      "1             18603.0               0.0            NaN               0.0   \n",
      "2             13933.0               1.0           90.0               2.0   \n",
      "3              6800.0               2.0           84.0               3.0   \n",
      "4              8098.0               2.0          112.0               1.0   \n",
      "\n",
      "   ponds_nearest  days_exposition  \n",
      "0          755.0              NaN  \n",
      "1            NaN             81.0  \n",
      "2          574.0            558.0  \n",
      "3          234.0            424.0  \n",
      "4           48.0            121.0  \n",
      "\n",
      "[5 rows x 22 columns]\n",
      "<class 'pandas.core.frame.DataFrame'>\n",
      "RangeIndex: 23699 entries, 0 to 23698\n",
      "Data columns (total 22 columns):\n",
      " #   Column                Non-Null Count  Dtype  \n",
      "---  ------                --------------  -----  \n",
      " 0   total_images          23699 non-null  int64  \n",
      " 1   last_price            23699 non-null  float64\n",
      " 2   total_area            23699 non-null  float64\n",
      " 3   first_day_exposition  23699 non-null  object \n",
      " 4   rooms                 23699 non-null  int64  \n",
      " 5   ceiling_height        14504 non-null  float64\n",
      " 6   floors_total          23613 non-null  float64\n",
      " 7   living_area           21796 non-null  float64\n",
      " 8   floor                 23699 non-null  int64  \n",
      " 9   is_apartment          2775 non-null   object \n",
      " 10  studio                23699 non-null  bool   \n",
      " 11  open_plan             23699 non-null  bool   \n",
      " 12  kitchen_area          21421 non-null  float64\n",
      " 13  balcony               12180 non-null  float64\n",
      " 14  locality_name         23650 non-null  object \n",
      " 15  airports_nearest      18157 non-null  float64\n",
      " 16  cityCenters_nearest   18180 non-null  float64\n",
      " 17  parks_around3000      18181 non-null  float64\n",
      " 18  parks_nearest         8079 non-null   float64\n",
      " 19  ponds_around3000      18181 non-null  float64\n",
      " 20  ponds_nearest         9110 non-null   float64\n",
      " 21  days_exposition       20518 non-null  float64\n",
      "dtypes: bool(2), float64(14), int64(3), object(3)\n",
      "memory usage: 3.7+ MB\n"
     ]
    },
    {
     "data": {
      "text/plain": [
       "array([[<AxesSubplot:title={'center':'total_images'}>,\n",
       "        <AxesSubplot:title={'center':'last_price'}>,\n",
       "        <AxesSubplot:title={'center':'total_area'}>,\n",
       "        <AxesSubplot:title={'center':'rooms'}>],\n",
       "       [<AxesSubplot:title={'center':'ceiling_height'}>,\n",
       "        <AxesSubplot:title={'center':'floors_total'}>,\n",
       "        <AxesSubplot:title={'center':'living_area'}>,\n",
       "        <AxesSubplot:title={'center':'floor'}>],\n",
       "       [<AxesSubplot:title={'center':'kitchen_area'}>,\n",
       "        <AxesSubplot:title={'center':'balcony'}>,\n",
       "        <AxesSubplot:title={'center':'airports_nearest'}>,\n",
       "        <AxesSubplot:title={'center':'cityCenters_nearest'}>],\n",
       "       [<AxesSubplot:title={'center':'parks_around3000'}>,\n",
       "        <AxesSubplot:title={'center':'parks_nearest'}>,\n",
       "        <AxesSubplot:title={'center':'ponds_around3000'}>,\n",
       "        <AxesSubplot:title={'center':'ponds_nearest'}>],\n",
       "       [<AxesSubplot:title={'center':'days_exposition'}>, <AxesSubplot:>,\n",
       "        <AxesSubplot:>, <AxesSubplot:>]], dtype=object)"
      ]
     },
     "execution_count": 1,
     "metadata": {},
     "output_type": "execute_result"
    },
    {
     "data": {
      "image/png": "[encoded data removed]",
      "text/plain": [
       "<Figure size 1080x1440 with 20 Axes>"
      ]
     },
     "metadata": {
      "needs_background": "light"
     },
     "output_type": "display_data"
    }
   ],
   "source": [
    "import pandas as pd\n",
    "data = pd.read_csv('/datasets/real_estate_data.csv', sep = '\\t')\n",
    "print(data.head(5))\n",
    "data.info()\n",
    "data.hist(figsize=(15, 20))"
   ]
  },
  {
   "cell_type": "markdown",
   "metadata": {},
   "source": [
    "<div class=\"alert alert-success\">\n",
    "\n",
    "**✔️ Комментарий ревьюера ✔️**\n",
    "   \n",
    "   Гистограммы построены👍 Приступаем к предобработке\n",
    "\n",
    "</div>\n"
   ]
  },
  {
   "cell_type": "markdown",
   "metadata": {},
   "source": [
    "### Предобработка данных"
   ]
  },
  {
   "cell_type": "markdown",
   "metadata": {},
   "source": [
    "<div class=\"alert alert-warning\">\n",
    "\n",
    "**⚠️ Комментарий ревьюера v2⚠️**\n",
    "   \n",
    "   Посмотрим на все возможные значения в столбце ceiling_height, до обработки\n",
    "\n",
    "</div>"
   ]
  },
  {
   "cell_type": "code",
   "execution_count": 2,
   "metadata": {},
   "outputs": [
    {
     "data": {
      "text/plain": [
       "array([  2.7 ,    nan,   3.03,   2.5 ,   2.67,   2.56,   3.05,   2.75,\n",
       "         2.6 ,   2.9 ,   2.8 ,   2.55,   3.  ,   2.65,   3.2 ,   2.61,\n",
       "         3.25,   3.45,   2.77,   2.85,   2.64,   2.57,   4.15,   3.5 ,\n",
       "         3.3 ,   2.71,   4.  ,   2.47,   2.73,   2.84,   3.1 ,   2.34,\n",
       "         3.4 ,   3.06,   2.72,   2.54,   2.51,   2.78,   2.76,  25.  ,\n",
       "         2.58,   3.7 ,   2.52,   5.2 ,   2.87,   2.66,   2.59,   2.  ,\n",
       "         2.45,   3.6 ,   2.92,   3.11,   3.13,   3.8 ,   3.15,   3.55,\n",
       "         3.16,   3.62,   3.12,   2.53,   2.74,   2.96,   2.46,   5.3 ,\n",
       "         5.  ,   2.79,   2.95,   4.06,   2.94,   3.82,   3.54,   3.53,\n",
       "         2.83,   4.7 ,   2.4 ,   3.38,   3.01,   5.6 ,   3.65,   3.9 ,\n",
       "         3.18,   3.35,   2.3 ,   3.57,   2.48,   2.62,   2.82,   3.98,\n",
       "         2.63,   3.83,   3.52,   3.95,   3.75,   2.88,   3.67,   3.87,\n",
       "         3.66,   3.85,   3.86,   4.19,   3.24,   4.8 ,   4.5 ,   4.2 ,\n",
       "         3.36,  32.  ,   3.08,   3.68,   3.07,   3.37,   3.09,   8.  ,\n",
       "         3.26,   3.34,   2.81,   3.44,   2.97,   3.14,   4.37,   2.68,\n",
       "         3.22,   3.27,  27.  ,   4.1 ,   2.93,   3.46,  24.  ,   3.47,\n",
       "         3.33,   3.63,   3.32,  26.  ,   1.2 ,   8.3 ,   2.98,   2.86,\n",
       "         3.17,   4.4 ,   3.28,   3.04,   4.45,   5.5 ,   3.84,   3.23,\n",
       "         3.02,   3.21,   3.43,   3.78,   4.3 ,   3.39,   2.69,   3.31,\n",
       "         4.65,   3.56,   2.2 ,   3.51,   3.93,   3.42,   2.99,   3.49,\n",
       "        14.  ,   4.14,   2.91,   3.88,   1.75,   4.25,   3.29,  20.  ,\n",
       "         2.25,   3.76,   3.69,   6.  ,  22.6 ,   2.89,   3.58,   5.8 ,\n",
       "        27.5 ,   2.49,   4.9 ,   3.48,  10.3 ,   1.  , 100.  ,   3.59])"
      ]
     },
     "execution_count": 2,
     "metadata": {},
     "output_type": "execute_result"
    }
   ],
   "source": [
    "# Код ревьюера\n",
    "data['ceiling_height'].unique()"
   ]
  },
  {
   "cell_type": "markdown",
   "metadata": {},
   "source": [
    "<div class=\"alert alert-warning\">\n",
    "\n",
    "**⚠️ Комментарий ревьюера ⚠️**\n",
    "   \n",
    "   Видим, что есть значения  24. 26. 27. Вероятнее всего, продавец имел ввиду 2.4 2.6 2.7 Исправим это, воспользовавшись методом update\n",
    "\n",
    "</div>\n",
    "\n",
    "\n"
   ]
  },
  {
   "cell_type": "code",
   "execution_count": 3,
   "metadata": {},
   "outputs": [
    {
     "data": {
      "text/plain": [
       "array([  2.7 ,    nan,   3.03,   2.5 ,   2.67,   2.56,   3.05,   2.75,\n",
       "         2.6 ,   2.9 ,   2.8 ,   2.55,   3.  ,   2.65,   3.2 ,   2.61,\n",
       "         3.25,   3.45,   2.77,   2.85,   2.64,   2.57,   4.15,   3.5 ,\n",
       "         3.3 ,   2.71,   4.  ,   2.47,   2.73,   2.84,   3.1 ,   2.34,\n",
       "         3.4 ,   3.06,   2.72,   2.54,   2.51,   2.78,   2.76,   2.58,\n",
       "         3.7 ,   2.52,   5.2 ,   2.87,   2.66,   2.59,   2.  ,   2.45,\n",
       "         3.6 ,   2.92,   3.11,   3.13,   3.8 ,   3.15,   3.55,   3.16,\n",
       "         3.62,   3.12,   2.53,   2.74,   2.96,   2.46,   5.3 ,   5.  ,\n",
       "         2.79,   2.95,   4.06,   2.94,   3.82,   3.54,   3.53,   2.83,\n",
       "         4.7 ,   2.4 ,   3.38,   3.01,   5.6 ,   3.65,   3.9 ,   3.18,\n",
       "         3.35,   2.3 ,   3.57,   2.48,   2.62,   2.82,   3.98,   2.63,\n",
       "         3.83,   3.52,   3.95,   3.75,   2.88,   3.67,   3.87,   3.66,\n",
       "         3.85,   3.86,   4.19,   3.24,   4.8 ,   4.5 ,   4.2 ,   3.36,\n",
       "         3.08,   3.68,   3.07,   3.37,   3.09,   8.  ,   3.26,   3.34,\n",
       "         2.81,   3.44,   2.97,   3.14,   4.37,   2.68,   3.22,   3.27,\n",
       "         4.1 ,   2.93,   3.46,   3.47,   3.33,   3.63,   3.32,   1.2 ,\n",
       "         8.3 ,   2.98,   2.86,   3.17,   4.4 ,   3.28,   3.04,   4.45,\n",
       "         5.5 ,   3.84,   3.23,   3.02,   3.21,   3.43,   3.78,   4.3 ,\n",
       "         3.39,   2.69,   3.31,   4.65,   3.56,   2.2 ,   3.51,   3.93,\n",
       "         3.42,   2.99,   3.49,  14.  ,   4.14,   2.91,   3.88,   1.75,\n",
       "         4.25,   3.29,   2.25,   3.76,   3.69,   6.  ,   2.26,   2.89,\n",
       "         3.58,   5.8 ,   2.49,   4.9 ,   3.48,  10.3 ,   1.  , 100.  ,\n",
       "         3.59])"
      ]
     },
     "execution_count": 3,
     "metadata": {},
     "output_type": "execute_result"
    }
   ],
   "source": [
    "# Код ревьюера\n",
    "data.update(data[(data['ceiling_height'] >= 20) & (data['ceiling_height'] <= 36)]['ceiling_height']/10)\n",
    "data['ceiling_height'].unique()"
   ]
  },
  {
   "cell_type": "code",
   "execution_count": 4,
   "metadata": {},
   "outputs": [
    {
     "name": "stdout",
     "output_type": "stream",
     "text": [
      "1.7333333333333334\n",
      "5.714285714285714\n",
      "total_images                0\n",
      "last_price                  0\n",
      "total_area                  0\n",
      "first_day_exposition        0\n",
      "rooms                       0\n",
      "ceiling_height              0\n",
      "floors_total               86\n",
      "living_area                 0\n",
      "floor                       0\n",
      "is_apartment                0\n",
      "studio                      0\n",
      "open_plan                   0\n",
      "kitchen_area                0\n",
      "balcony                     0\n",
      "locality_name              49\n",
      "airports_nearest         5301\n",
      "city_centers_nearest     5280\n",
      "parks_around3000         5279\n",
      "parks_nearest           14442\n",
      "ponds_around3000         5279\n",
      "ponds_nearest           13610\n",
      "days_exposition          3065\n",
      "dtype: int64\n",
      "1139\n"
     ]
    },
    {
     "data": {
      "text/html": [
       "<div>\n",
       "<style scoped>\n",
       "    .dataframe tbody tr th:only-of-type {\n",
       "        vertical-align: middle;\n",
       "    }\n",
       "\n",
       "    .dataframe tbody tr th {\n",
       "        vertical-align: top;\n",
       "    }\n",
       "\n",
       "    .dataframe thead th {\n",
       "        text-align: right;\n",
       "    }\n",
       "</style>\n",
       "<table border=\"1\" class=\"dataframe\">\n",
       "  <thead>\n",
       "    <tr style=\"text-align: right;\">\n",
       "      <th></th>\n",
       "      <th>total_images</th>\n",
       "      <th>last_price</th>\n",
       "      <th>total_area</th>\n",
       "      <th>rooms</th>\n",
       "      <th>ceiling_height</th>\n",
       "      <th>floors_total</th>\n",
       "      <th>living_area</th>\n",
       "      <th>floor</th>\n",
       "      <th>kitchen_area</th>\n",
       "      <th>balcony</th>\n",
       "      <th>airports_nearest</th>\n",
       "      <th>city_centers_nearest</th>\n",
       "      <th>parks_around3000</th>\n",
       "      <th>parks_nearest</th>\n",
       "      <th>ponds_around3000</th>\n",
       "      <th>ponds_nearest</th>\n",
       "      <th>days_exposition</th>\n",
       "    </tr>\n",
       "  </thead>\n",
       "  <tbody>\n",
       "    <tr>\n",
       "      <th>count</th>\n",
       "      <td>22098.000000</td>\n",
       "      <td>2.209800e+04</td>\n",
       "      <td>22098.000000</td>\n",
       "      <td>22098.000000</td>\n",
       "      <td>22098.000000</td>\n",
       "      <td>22014.000000</td>\n",
       "      <td>22098.000000</td>\n",
       "      <td>22098.000000</td>\n",
       "      <td>22098.000000</td>\n",
       "      <td>22098.000000</td>\n",
       "      <td>16808.000000</td>\n",
       "      <td>16829.000000</td>\n",
       "      <td>16830.000000</td>\n",
       "      <td>7686.000000</td>\n",
       "      <td>16830.000000</td>\n",
       "      <td>8546.000000</td>\n",
       "      <td>19058.000000</td>\n",
       "    </tr>\n",
       "    <tr>\n",
       "      <th>mean</th>\n",
       "      <td>9.878405</td>\n",
       "      <td>6.548490e+06</td>\n",
       "      <td>60.674149</td>\n",
       "      <td>2.099149</td>\n",
       "      <td>2.726192</td>\n",
       "      <td>9.723767</td>\n",
       "      <td>35.055680</td>\n",
       "      <td>5.425287</td>\n",
       "      <td>10.422994</td>\n",
       "      <td>0.577337</td>\n",
       "      <td>28453.250238</td>\n",
       "      <td>14106.562957</td>\n",
       "      <td>0.629947</td>\n",
       "      <td>488.685922</td>\n",
       "      <td>0.784551</td>\n",
       "      <td>518.996256</td>\n",
       "      <td>182.050320</td>\n",
       "    </tr>\n",
       "    <tr>\n",
       "      <th>std</th>\n",
       "      <td>5.661525</td>\n",
       "      <td>1.084798e+07</td>\n",
       "      <td>35.701426</td>\n",
       "      <td>1.082675</td>\n",
       "      <td>0.223806</td>\n",
       "      <td>5.559249</td>\n",
       "      <td>22.489145</td>\n",
       "      <td>4.271795</td>\n",
       "      <td>6.077569</td>\n",
       "      <td>0.947801</td>\n",
       "      <td>12331.325870</td>\n",
       "      <td>8817.322484</td>\n",
       "      <td>0.808965</td>\n",
       "      <td>338.690829</td>\n",
       "      <td>0.944939</td>\n",
       "      <td>275.502703</td>\n",
       "      <td>221.341691</td>\n",
       "    </tr>\n",
       "    <tr>\n",
       "      <th>min</th>\n",
       "      <td>0.000000</td>\n",
       "      <td>4.300000e+05</td>\n",
       "      <td>14.000000</td>\n",
       "      <td>0.000000</td>\n",
       "      <td>1.000000</td>\n",
       "      <td>1.000000</td>\n",
       "      <td>10.080000</td>\n",
       "      <td>1.000000</td>\n",
       "      <td>1.300000</td>\n",
       "      <td>0.000000</td>\n",
       "      <td>6450.000000</td>\n",
       "      <td>181.000000</td>\n",
       "      <td>0.000000</td>\n",
       "      <td>21.000000</td>\n",
       "      <td>0.000000</td>\n",
       "      <td>31.000000</td>\n",
       "      <td>2.000000</td>\n",
       "    </tr>\n",
       "    <tr>\n",
       "      <th>25%</th>\n",
       "      <td>6.000000</td>\n",
       "      <td>3.400000e+06</td>\n",
       "      <td>40.400000</td>\n",
       "      <td>1.000000</td>\n",
       "      <td>2.600000</td>\n",
       "      <td>5.000000</td>\n",
       "      <td>19.165385</td>\n",
       "      <td>2.000000</td>\n",
       "      <td>7.000000</td>\n",
       "      <td>0.000000</td>\n",
       "      <td>18590.000000</td>\n",
       "      <td>8801.000000</td>\n",
       "      <td>0.000000</td>\n",
       "      <td>288.000000</td>\n",
       "      <td>0.000000</td>\n",
       "      <td>295.000000</td>\n",
       "      <td>45.000000</td>\n",
       "    </tr>\n",
       "    <tr>\n",
       "      <th>50%</th>\n",
       "      <td>9.000000</td>\n",
       "      <td>4.600000e+06</td>\n",
       "      <td>52.000000</td>\n",
       "      <td>2.000000</td>\n",
       "      <td>2.726332</td>\n",
       "      <td>9.000000</td>\n",
       "      <td>30.200000</td>\n",
       "      <td>4.000000</td>\n",
       "      <td>9.000000</td>\n",
       "      <td>0.000000</td>\n",
       "      <td>26319.000000</td>\n",
       "      <td>12915.000000</td>\n",
       "      <td>0.000000</td>\n",
       "      <td>451.000000</td>\n",
       "      <td>1.000000</td>\n",
       "      <td>502.000000</td>\n",
       "      <td>96.000000</td>\n",
       "    </tr>\n",
       "    <tr>\n",
       "      <th>75%</th>\n",
       "      <td>14.000000</td>\n",
       "      <td>6.750000e+06</td>\n",
       "      <td>70.000000</td>\n",
       "      <td>3.000000</td>\n",
       "      <td>2.726332</td>\n",
       "      <td>13.000000</td>\n",
       "      <td>42.600000</td>\n",
       "      <td>7.000000</td>\n",
       "      <td>11.800000</td>\n",
       "      <td>1.000000</td>\n",
       "      <td>36756.250000</td>\n",
       "      <td>16156.000000</td>\n",
       "      <td>1.000000</td>\n",
       "      <td>608.000000</td>\n",
       "      <td>1.000000</td>\n",
       "      <td>728.000000</td>\n",
       "      <td>233.000000</td>\n",
       "    </tr>\n",
       "    <tr>\n",
       "      <th>max</th>\n",
       "      <td>50.000000</td>\n",
       "      <td>7.630000e+08</td>\n",
       "      <td>631.200000</td>\n",
       "      <td>19.000000</td>\n",
       "      <td>6.000000</td>\n",
       "      <td>24.000000</td>\n",
       "      <td>409.000000</td>\n",
       "      <td>24.000000</td>\n",
       "      <td>107.000000</td>\n",
       "      <td>5.000000</td>\n",
       "      <td>84869.000000</td>\n",
       "      <td>65968.000000</td>\n",
       "      <td>3.000000</td>\n",
       "      <td>3190.000000</td>\n",
       "      <td>3.000000</td>\n",
       "      <td>1344.000000</td>\n",
       "      <td>1580.000000</td>\n",
       "    </tr>\n",
       "  </tbody>\n",
       "</table>\n",
       "</div>"
      ],
      "text/plain": [
       "       total_images    last_price    total_area         rooms  ceiling_height  \\\n",
       "count  22098.000000  2.209800e+04  22098.000000  22098.000000    22098.000000   \n",
       "mean       9.878405  6.548490e+06     60.674149      2.099149        2.726192   \n",
       "std        5.661525  1.084798e+07     35.701426      1.082675        0.223806   \n",
       "min        0.000000  4.300000e+05     14.000000      0.000000        1.000000   \n",
       "25%        6.000000  3.400000e+06     40.400000      1.000000        2.600000   \n",
       "50%        9.000000  4.600000e+06     52.000000      2.000000        2.726332   \n",
       "75%       14.000000  6.750000e+06     70.000000      3.000000        2.726332   \n",
       "max       50.000000  7.630000e+08    631.200000     19.000000        6.000000   \n",
       "\n",
       "       floors_total   living_area         floor  kitchen_area       balcony  \\\n",
       "count  22014.000000  22098.000000  22098.000000  22098.000000  22098.000000   \n",
       "mean       9.723767     35.055680      5.425287     10.422994      0.577337   \n",
       "std        5.559249     22.489145      4.271795      6.077569      0.947801   \n",
       "min        1.000000     10.080000      1.000000      1.300000      0.000000   \n",
       "25%        5.000000     19.165385      2.000000      7.000000      0.000000   \n",
       "50%        9.000000     30.200000      4.000000      9.000000      0.000000   \n",
       "75%       13.000000     42.600000      7.000000     11.800000      1.000000   \n",
       "max       24.000000    409.000000     24.000000    107.000000      5.000000   \n",
       "\n",
       "       airports_nearest  city_centers_nearest  parks_around3000  \\\n",
       "count      16808.000000          16829.000000      16830.000000   \n",
       "mean       28453.250238          14106.562957          0.629947   \n",
       "std        12331.325870           8817.322484          0.808965   \n",
       "min         6450.000000            181.000000          0.000000   \n",
       "25%        18590.000000           8801.000000          0.000000   \n",
       "50%        26319.000000          12915.000000          0.000000   \n",
       "75%        36756.250000          16156.000000          1.000000   \n",
       "max        84869.000000          65968.000000          3.000000   \n",
       "\n",
       "       parks_nearest  ponds_around3000  ponds_nearest  days_exposition  \n",
       "count    7686.000000      16830.000000    8546.000000     19058.000000  \n",
       "mean      488.685922          0.784551     518.996256       182.050320  \n",
       "std       338.690829          0.944939     275.502703       221.341691  \n",
       "min        21.000000          0.000000      31.000000         2.000000  \n",
       "25%       288.000000          0.000000     295.000000        45.000000  \n",
       "50%       451.000000          1.000000     502.000000        96.000000  \n",
       "75%       608.000000          1.000000     728.000000       233.000000  \n",
       "max      3190.000000          3.000000    1344.000000      1580.000000  "
      ]
     },
     "execution_count": 4,
     "metadata": {},
     "output_type": "execute_result"
    }
   ],
   "source": [
    "#print(data.isna().sum())\n",
    "values = {'is_apartment': 0, 'balcony': 0}\n",
    "\n",
    "data = data.fillna(value=values)\n",
    "data = data.rename(columns={'cityCenters_nearest': 'city_centers_nearest'})\n",
    "#print(data.isna().sum())\n",
    "#print()\n",
    "#print(data.duplicated().sum())\n",
    "#print(data.locality_name.unique()) # смотрим уникальные названия населённых пунктов\n",
    "\n",
    "data['locality_name'] = data['locality_name'].str.replace('ё', 'е')\n",
    "data['locality_name'] = data['locality_name'].str.replace('городской поселок', 'поселок городского типа')\n",
    "data.locality_name.unique()\n",
    "\n",
    "data['first_day_exposition'] = pd.to_datetime(data['first_day_exposition'], format='%Y-%m-%dT%H:%M:%S')\n",
    "#data.info()\n",
    "\n",
    "\n",
    "#print(data.query('last_price < 100000')['last_price'].count())\n",
    "#print(data.query('last_price > 100000000')['last_price'].count()) # считаем квартиры больше 100 млн.\n",
    "#print(data.query('ceiling_height > 6.0')['ceiling_height'].count()) # сморим потолки больше 6м.\n",
    "\n",
    "#print(data.query('ceiling_height > 10.0')['ceiling_height'].count()) # сморим потолки больше 10м.)\n",
    "\n",
    "data.drop(data[data.ceiling_height > 6.0].index, inplace=True) # удаляем потолки больше 6м.\n",
    "data['ceiling_height'] = data['ceiling_height'].fillna(data['ceiling_height'].mean()) # Средняя высота потолка 2.72 (заменяем)\n",
    "relationship_liv = data['total_area'].median()/data['living_area'].median() # Создаем переменную с коффициентом для подсчёта\n",
    "print(relationship_liv) # коффициент как мне кажетсяся великоват 1.74\n",
    "data['living_area'] = data['living_area'].fillna(data['total_area'] / relationship_liv)\n",
    "\n",
    "relationship_kit = data['total_area'].median()/data['kitchen_area'].median() # Создаем переменную с коффициентом для подсчёта\n",
    "print(relationship_kit) # коффициент как мне кажетсяся великоват 1.74\n",
    "data['kitchen_area'] = data['kitchen_area'].fillna(data['total_area'] / relationship_kit)\n",
    "\n",
    "\n",
    "data.query('floors_total <= 0')['floors_total'].count()\n",
    "data.drop(data[data.floors_total <= 0].index, inplace=True)\n",
    "data.drop(data[data.floors_total >= 25].index, inplace=True)\n",
    "\n",
    "\n",
    "print(data.isna().sum())\n",
    "\n",
    "\n",
    "#print(data.query('living_area <= 10')['living_area'].count()) #  считаем квартиры меньше 10м2 (их 54).\n",
    "data.drop(data[data.living_area <= 10].index, inplace=True)\n",
    "\n",
    "#print(data.query('airports_nearest <= 1000')['airports_nearest'].count()) #  считаем квартиры ближе 1000м от аэродрома (их 1).\n",
    "data.drop(data[data.airports_nearest <= 1000].index, inplace=True)\n",
    "\n",
    "#print(data.query('parks_nearest <= 20')['parks_nearest'].count()) #считаем квартиры ближе 20м (ширина дороги) от парка (их 7740)\n",
    "data.drop(data[data.parks_nearest <= 20].index, inplace=True)\n",
    "\n",
    "#print(data.query('ponds_nearest\t <= 30')['ponds_nearest'].count()) #считаем квартиры ближе 30м (ширина дороги) от водоема\n",
    "data.drop(data[data.ponds_nearest <= 30].index, inplace=True)\n",
    "\n",
    "print(data.query('days_exposition >= 600')['days_exposition'].count())\n",
    "\n",
    "\n",
    "data.describe()"
   ]
  },
  {
   "cell_type": "markdown",
   "metadata": {},
   "source": [
    "В нашем ДатаФрейме есть ряд пропусков данных:\n",
    "1) ceiling_height, floors_total, living_area, is_apartment, kitchen_areа, balcony - данные пропуски как мне кажется допущенны людьми заполнявшими обьявления. Возможно какуюто информацию они сами не захотели заполнять а какуюто могли не знать о своей недвижимости.\n",
    "2) airports_nearest - и все оставшиесе графы это картографические как я понимаю эти графы должны заполнятся автоматически, но по какойто причине не заполнились возможно в допустимой близости нет данных обьектов.\n",
    "3) locality_name -пока не трогал но вопросики есть\n",
    "\n",
    "Перевел столбец first_day_exposition из формата object в формат datetime, теперь если что мы сможем применять эти данные правельно.\n",
    "\n",
    "Ищем выбросы и аномальные значеия:\n",
    "1- last_price- имеем минимальцую цену в 12 тысяч максимальную 763 милиона (довольно дорого).(Так и у нас 37 квартир дороже 100 милионов что дорого но для спб норм.)\n",
    "2- total_area- центр ломится от 12м2 квартир (расселёные коммуналки), 900м2 тоже может иметь место.\n",
    "3- rooms - с количеством комнат тоже не вижу ничего странного 19 комнат для дома в 900м2 обычное дело, а квартиры с 0 комнатами видимо студии.\n",
    "\n",
    "4- ceiling_height(я сначала заменил все NAN на 0 и средняя высота получилась 1.6) - тут максимум 100 м. почти Исаакиевский собор! удалим все строки выше 6 метров.\n",
    "***4.1 - ceiling_height - так как пропусков в данных 8388 заполним отсутствующие данные средним.\n",
    "\n",
    "5- floors_total -  думаю стоит посмотреть и удалить строки с значением этажей 0 и больше 25 этажей.\n",
    "\n",
    "6- living_area - исходя из имеющихся данных (12м2 общая мин площадь квартиры) можно предположить что минимальная жилая площадь будет 10м2! Полагаю что стоит отказатся от данных меньше 10м2! \n",
    "***6.1 - Гениальный и простой выход из ситуации) Следуя комментарию ревьюэра выполняем математические операции.\n",
    "\n",
    "\n",
    "7- floor - Данные по этажам считаю адекватными.\n",
    "8- kitchen_area - значение мин 1.3 хотя насколько я понимаю в студиях кухни считаются желой зоной( \n",
    "***8.1 - Гениальный и простой выход из ситуации) Следуя комментарию ревьюэра выполняем математические операции.\n",
    "\n",
    "9 - balcony - тут все норм) человек котырый может позволить кухню в 107 метровБ может и на 5 балконах тусоватся!\n",
    "10 - city_centers_nearest - тут я тоже все пропуски в данных заменил на ноль( это искажает картину (люди не живут в аэропорту, парке и тд.) Допустим что есть стандарт который запрещает строить жилые дома вблизи аэродромов (1000 м2)!\n",
    "11 - city_centers_nearest - тут сданными все норм оставляем как есть.\n",
    "12 - parks_around3000 - вроде как все норм оставляем как есть!\n",
    "13 - parks_nearest - в данных слишком много пропусков 14402, а если мы уберем значения меньше 20 то работать мы будем по 7731.\n",
    "14 - ponds_around3000 - тут такаяже ситуация как и в parks_around3000.\n",
    "15 - ponds_nearest - также как и в parks_nearest убираем данные меньше 30 м. \n"
   ]
  },
  {
   "cell_type": "markdown",
   "metadata": {},
   "source": [
    "<div class=\"alert alert-danger\">\n",
    "\n",
    "**❌ Комментарий ревьюера ❌**\n",
    "   \n",
    "   \n",
    "   По столбцу `ceiling_height` - рекомендую рассмотреть значения, большие, чем 10м - может быть, продавцы ошиблись на порядок, заполняя данные? Это можно исправить. После этого рекомендую заполнить пропуски в столбце медианным значением - оно будет уже не так сильно подвержено выбросам\n",
    "</div> \n",
    "\n",
    "\n",
    "\n"
   ]
  },
  {
   "cell_type": "markdown",
   "metadata": {},
   "source": [
    "<div class=\"alert alert-danger\">\n",
    "\n",
    "**❌ Комментарий ревьюера ❌**\n",
    "   \n",
    "   \n",
    "   По столбцу `living_area` - иногда продавцы могут не указывать данное значение, однако, мы можем попробовать его вычислить. Нужно найти **соотношение медианной общей площади к медианной жилой**. А затем, заполнить пропуски в столбце `living_area` **отношением общей площади к найденному соотношению**.  (ВАУ!)\n",
    "\n",
    "  Со столбцом `kitchen_area` можно поступить так же, как со столбцом `living_area`.\n",
    "\n",
    "\n",
    "</div>\n",
    "<div class=\"alert alert-warning\">\n",
    "\n",
    "**⚠️ Комментарий ревьюера v2⚠️**\n",
    "   \n",
    "   Посмотри внимательно, ты считаешь среднее - mean. А медианное - это median. В коде поправил\n",
    "\n",
    "</div>\n",
    "\n",
    "\n"
   ]
  },
  {
   "cell_type": "markdown",
   "metadata": {},
   "source": [
    "<div class=\"alert alert-success\">\n",
    "✔️ Комментарий ревьюера ✔️ \n",
    "    \n",
    "В целом, работа по предобработке проведена очень качественно. Можно еще сэкономить память, изменяя типы данных. Например, дополнительно изменить их у площадей квартир с float64 на float32.\n",
    "Также рекомендую хорошую статью по предобработке, в ней есть интересные способы обработки неявных дубликатов: https://proglib.io/p/moem-dataset-rukovodstvo-po-ochistke-dannyh-v-python-2020-03-27 \n",
    "    \n",
    "</div>    "
   ]
  },
  {
   "cell_type": "markdown",
   "metadata": {},
   "source": [
    "<div class=\"alert alert-warning\">\n",
    "\n",
    "**⚠️ Комментарий ревьюера ⚠️**\n",
    "   \n",
    "   После проработки замечаний, рекомендую посмотреть, какая доля от начального датасета у нас осталась\n",
    "\n",
    "</div>\n",
    "\n",
    "\n"
   ]
  },
  {
   "cell_type": "markdown",
   "metadata": {},
   "source": [
    "3 Посчитайте и добавьте в таблицу новые столбцы"
   ]
  },
  {
   "cell_type": "code",
   "execution_count": 5,
   "metadata": {},
   "outputs": [
    {
     "name": "stdout",
     "output_type": "stream",
     "text": [
      "       total_images  last_price  total_area first_day_exposition  rooms  \\\n",
      "0                20  13000000.0      108.00           2019-03-07      3   \n",
      "1                 7   3350000.0       40.40           2018-12-04      1   \n",
      "2                10   5196000.0       56.00           2015-08-20      2   \n",
      "3                 0  64900000.0      159.00           2015-07-24      3   \n",
      "4                 2  10000000.0      100.00           2018-06-19      2   \n",
      "...             ...         ...         ...                  ...    ...   \n",
      "23694             9   9700000.0      133.81           2017-03-21      3   \n",
      "23695            14   3100000.0       59.00           2018-01-15      3   \n",
      "23696            18   2500000.0       56.70           2018-02-11      2   \n",
      "23697            13  11475000.0       76.75           2017-03-28      2   \n",
      "23698             4   1350000.0       32.30           2017-07-21      1   \n",
      "\n",
      "       ceiling_height  floors_total  living_area  floor is_apartment  ...  \\\n",
      "0            2.700000          16.0    51.000000      8            0  ...   \n",
      "1            2.726332          11.0    18.600000      1            0  ...   \n",
      "2            2.726332           5.0    34.300000      4            0  ...   \n",
      "3            2.726332          14.0    91.730769      9            0  ...   \n",
      "4            3.030000          14.0    32.000000     13            0  ...   \n",
      "...               ...           ...          ...    ...          ...  ...   \n",
      "23694        3.700000           5.0    73.300000      3            0  ...   \n",
      "23695        2.726332           5.0    38.000000      4            0  ...   \n",
      "23696        2.726332           3.0    29.700000      1            0  ...   \n",
      "23697        3.000000          17.0    44.278846     12            0  ...   \n",
      "23698        2.500000           5.0    12.300000      1            0  ...   \n",
      "\n",
      "       parks_nearest  ponds_around3000  ponds_nearest  days_exposition  \\\n",
      "0              482.0               2.0          755.0              NaN   \n",
      "1                NaN               0.0            NaN             81.0   \n",
      "2               90.0               2.0          574.0            558.0   \n",
      "3               84.0               3.0          234.0            424.0   \n",
      "4              112.0               1.0           48.0            121.0   \n",
      "...              ...               ...            ...              ...   \n",
      "23694          796.0               3.0          381.0              NaN   \n",
      "23695            NaN               NaN            NaN             45.0   \n",
      "23696            NaN               NaN            NaN              NaN   \n",
      "23697          173.0               3.0          196.0            602.0   \n",
      "23698            NaN               NaN            NaN              NaN   \n",
      "\n",
      "      price_meter  day_public  month_public  year_public  cat_floor  \\\n",
      "0        120370.0           3             3         2019     другой   \n",
      "1         82921.0           1            12         2018     первый   \n",
      "2         92786.0           3             8         2015     другой   \n",
      "3        408176.0           4             7         2015     другой   \n",
      "4        100000.0           1             6         2018     другой   \n",
      "...           ...         ...           ...          ...        ...   \n",
      "23694     72491.0           1             3         2017     другой   \n",
      "23695     52542.0           0             1         2018     другой   \n",
      "23696     44092.0           6             2         2018     первый   \n",
      "23697    149511.0           1             3         2017     другой   \n",
      "23698     41796.0           4             7         2017     первый   \n",
      "\n",
      "       city_distance  \n",
      "0             16.028  \n",
      "1             18.603  \n",
      "2             13.933  \n",
      "3              6.800  \n",
      "4              8.098  \n",
      "...              ...  \n",
      "23694          4.232  \n",
      "23695            NaN  \n",
      "23696            NaN  \n",
      "23697         10.364  \n",
      "23698            NaN  \n",
      "\n",
      "[22098 rows x 28 columns]\n"
     ]
    },
    {
     "data": {
      "image/png": "[encoded data removed]",
      "text/plain": [
       "<Figure size 432x288 with 1 Axes>"
      ]
     },
     "metadata": {
      "needs_background": "light"
     },
     "output_type": "display_data"
    },
    {
     "data": {
      "image/png": "[encoded data removed]",
      "text/plain": [
       "<Figure size 432x288 with 1 Axes>"
      ]
     },
     "metadata": {
      "needs_background": "light"
     },
     "output_type": "display_data"
    },
    {
     "data": {
      "image/png": "[encoded data removed]",
      "text/plain": [
       "<Figure size 432x288 with 1 Axes>"
      ]
     },
     "metadata": {
      "needs_background": "light"
     },
     "output_type": "display_data"
    },
    {
     "data": {
      "image/png": "[encoded data removed]",
      "text/plain": [
       "<Figure size 432x288 with 1 Axes>"
      ]
     },
     "metadata": {
      "needs_background": "light"
     },
     "output_type": "display_data"
    },
    {
     "data": {
      "image/png": "[encoded data removed]",
      "text/plain": [
       "<Figure size 432x288 with 1 Axes>"
      ]
     },
     "metadata": {
      "needs_background": "light"
     },
     "output_type": "display_data"
    },
    {
     "data": {
      "image/png": "[encoded data removed]",
      "text/plain": [
       "<Figure size 432x288 with 1 Axes>"
      ]
     },
     "metadata": {
      "needs_background": "light"
     },
     "output_type": "display_data"
    },
    {
     "data": {
      "image/png": "[encoded data removed]",
      "text/plain": [
       "<Figure size 432x288 with 1 Axes>"
      ]
     },
     "metadata": {
      "needs_background": "light"
     },
     "output_type": "display_data"
    },
    {
     "data": {
      "image/png": "[encoded data removed]",
      "text/plain": [
       "<Figure size 432x288 with 1 Axes>"
      ]
     },
     "metadata": {
      "needs_background": "light"
     },
     "output_type": "display_data"
    },
    {
     "data": {
      "image/png": "[encoded data removed]",
      "text/plain": [
       "<Figure size 432x288 with 1 Axes>"
      ]
     },
     "metadata": {
      "needs_background": "light"
     },
     "output_type": "display_data"
    },
    {
     "data": {
      "image/png": "[encoded data removed]",
      "text/plain": [
       "<Figure size 432x288 with 1 Axes>"
      ]
     },
     "metadata": {
      "needs_background": "light"
     },
     "output_type": "display_data"
    },
    {
     "data": {
      "image/png": "[encoded data removed]",
      "text/plain": [
       "<Figure size 432x288 with 1 Axes>"
      ]
     },
     "metadata": {
      "needs_background": "light"
     },
     "output_type": "display_data"
    },
    {
     "data": {
      "image/png": "[encoded data removed]",
      "text/plain": [
       "<Figure size 432x288 with 1 Axes>"
      ]
     },
     "metadata": {
      "needs_background": "light"
     },
     "output_type": "display_data"
    },
    {
     "data": {
      "image/png": "[encoded data removed]",
      "text/plain": [
       "<Figure size 432x288 with 1 Axes>"
      ]
     },
     "metadata": {
      "needs_background": "light"
     },
     "output_type": "display_data"
    }
   ],
   "source": [
    "data['price_meter'] = round(data['last_price']/data['total_area']) # добавляем столбец с ценой за квадрат и округляем данные\n",
    "data['day_public'] = data['first_day_exposition'].dt.weekday # добавляем столбец с днями недели\n",
    "data['month_public'] = data['first_day_exposition'].dt.month\n",
    "data['year_public'] = data['first_day_exposition'].dt.year\n",
    "\n",
    "def categorize_floor(flo):\n",
    "    if flo['floor'] == 1:\n",
    "        return 'первый'\n",
    "    elif flo['floor'] == flo['floors_total']:\n",
    "            return 'последний'\n",
    "    elif flo['floor'] != flo['floors_total']:\n",
    "            return 'другой'\n",
    "        \n",
    "data['cat_floor'] = data.apply(categorize_floor, axis = 1) # выводим цикл, добавляем столбец с данными\n",
    "\n",
    "data['city_distance'] = data['city_centers_nearest']/1000 # расстояние до центра в км\n",
    "\n",
    "data.hist('total_area', bins = 200) # гистограмма общей площади\n",
    "data.hist('living_area', bins = 200)\n",
    "data.hist('kitchen_area', bins = 100)\n",
    "data.hist('last_price', bins = 100, range = (0,15e+07))\n",
    "data.hist('rooms', bins = 20)\n",
    "data.hist('ceiling_height', bins = 80)\n",
    "data.hist('floor', bins = 30)\n",
    "#data.hist('cat_floor', bins = data['floors_total'].max())\n",
    "data.hist('floors_total', bins = 30)\n",
    "data.hist('city_centers_nearest', bins = 100)\n",
    "data.hist('airports_nearest', bins = 100)\n",
    "data.hist('parks_nearest', bins = 100)\n",
    "data.hist('day_public', bins = 7)\n",
    "data.hist('month_public', bins = 12)\n",
    "\n",
    "print(data)\n",
    "\n"
   ]
  },
  {
   "cell_type": "markdown",
   "metadata": {},
   "source": [
    "<div class=\"alert alert-success\">\n",
    "✔️ Комментарий ревьюера ✔️ \n",
    "\n",
    "Хороший результат. Хочу добавить, что обычно размеры двухкомнатных квартир составляют от 50 до 100 квадратных метров, что и соответствует проведенному анализу.\n",
    "    \n",
    "Могу посоветовать на будущее хорошую статью по оформлению графиков:\n",
    "    https://devpractice.ru/matplotlib-lesson-3-3-text-elements/    \n",
    "        \n",
    "    \n",
    "    \n",
    "</div>"
   ]
  },
  {
   "cell_type": "markdown",
   "metadata": {},
   "source": [
    "4 Проведите исследовательский анализ данных"
   ]
  },
  {
   "cell_type": "code",
   "execution_count": 6,
   "metadata": {},
   "outputs": [
    {
     "name": "stdout",
     "output_type": "stream",
     "text": [
      "Среднее время продажи: 182.05032007555883\n",
      "Медианное время продажи: 96.0\n"
     ]
    },
    {
     "data": {
      "text/html": [
       "<div>\n",
       "<style scoped>\n",
       "    .dataframe tbody tr th:only-of-type {\n",
       "        vertical-align: middle;\n",
       "    }\n",
       "\n",
       "    .dataframe tbody tr th {\n",
       "        vertical-align: top;\n",
       "    }\n",
       "\n",
       "    .dataframe thead th {\n",
       "        text-align: right;\n",
       "    }\n",
       "</style>\n",
       "<table border=\"1\" class=\"dataframe\">\n",
       "  <thead>\n",
       "    <tr style=\"text-align: right;\">\n",
       "      <th></th>\n",
       "      <th>all_ad</th>\n",
       "      <th>median_price_meter</th>\n",
       "      <th>mean_price_meter</th>\n",
       "    </tr>\n",
       "    <tr>\n",
       "      <th>locality_name</th>\n",
       "      <th></th>\n",
       "      <th></th>\n",
       "      <th></th>\n",
       "    </tr>\n",
       "  </thead>\n",
       "  <tbody>\n",
       "    <tr>\n",
       "      <th>Санкт-Петербург</th>\n",
       "      <td>14659</td>\n",
       "      <td>103797.0</td>\n",
       "      <td>114437.921277</td>\n",
       "    </tr>\n",
       "    <tr>\n",
       "      <th>Зеленогорск</th>\n",
       "      <td>23</td>\n",
       "      <td>100000.0</td>\n",
       "      <td>113248.739130</td>\n",
       "    </tr>\n",
       "    <tr>\n",
       "      <th>поселок Репино</th>\n",
       "      <td>4</td>\n",
       "      <td>86542.0</td>\n",
       "      <td>104238.500000</td>\n",
       "    </tr>\n",
       "    <tr>\n",
       "      <th>Пушкин</th>\n",
       "      <td>363</td>\n",
       "      <td>100000.0</td>\n",
       "      <td>103348.942149</td>\n",
       "    </tr>\n",
       "    <tr>\n",
       "      <th>Сестрорецк</th>\n",
       "      <td>181</td>\n",
       "      <td>99678.0</td>\n",
       "      <td>101741.425414</td>\n",
       "    </tr>\n",
       "    <tr>\n",
       "      <th>...</th>\n",
       "      <td>...</td>\n",
       "      <td>...</td>\n",
       "      <td>...</td>\n",
       "    </tr>\n",
       "    <tr>\n",
       "      <th>поселок Совхозный</th>\n",
       "      <td>2</td>\n",
       "      <td>12629.5</td>\n",
       "      <td>12629.500000</td>\n",
       "    </tr>\n",
       "    <tr>\n",
       "      <th>деревня Выскатка</th>\n",
       "      <td>2</td>\n",
       "      <td>12335.5</td>\n",
       "      <td>12335.500000</td>\n",
       "    </tr>\n",
       "    <tr>\n",
       "      <th>деревня Вахнова Кара</th>\n",
       "      <td>1</td>\n",
       "      <td>11688.0</td>\n",
       "      <td>11688.000000</td>\n",
       "    </tr>\n",
       "    <tr>\n",
       "      <th>поселок станции Свирь</th>\n",
       "      <td>2</td>\n",
       "      <td>11481.5</td>\n",
       "      <td>11481.500000</td>\n",
       "    </tr>\n",
       "    <tr>\n",
       "      <th>деревня Старополье</th>\n",
       "      <td>3</td>\n",
       "      <td>11000.0</td>\n",
       "      <td>11206.333333</td>\n",
       "    </tr>\n",
       "  </tbody>\n",
       "</table>\n",
       "<p>323 rows × 3 columns</p>\n",
       "</div>"
      ],
      "text/plain": [
       "                       all_ad  median_price_meter  mean_price_meter\n",
       "locality_name                                                      \n",
       "Санкт-Петербург         14659            103797.0     114437.921277\n",
       "Зеленогорск                23            100000.0     113248.739130\n",
       "поселок Репино              4             86542.0     104238.500000\n",
       "Пушкин                    363            100000.0     103348.942149\n",
       "Сестрорецк                181             99678.0     101741.425414\n",
       "...                       ...                 ...               ...\n",
       "поселок Совхозный           2             12629.5      12629.500000\n",
       "деревня Выскатка            2             12335.5      12335.500000\n",
       "деревня Вахнова Кара        1             11688.0      11688.000000\n",
       "поселок станции Свирь       2             11481.5      11481.500000\n",
       "деревня Старополье          3             11000.0      11206.333333\n",
       "\n",
       "[323 rows x 3 columns]"
      ]
     },
     "execution_count": 6,
     "metadata": {},
     "output_type": "execute_result"
    },
    {
     "data": {
      "image/png": "[encoded data removed]",
      "text/plain": [
       "<Figure size 432x288 with 1 Axes>"
      ]
     },
     "metadata": {
      "needs_background": "light"
     },
     "output_type": "display_data"
    },
    {
     "data": {
      "image/png": "[encoded data removed]",
      "text/plain": [
       "<Figure size 432x288 with 1 Axes>"
      ]
     },
     "metadata": {
      "needs_background": "light"
     },
     "output_type": "display_data"
    },
    {
     "data": {
      "image/png": "[encoded data removed]",
      "text/plain": [
       "<Figure size 432x288 with 1 Axes>"
      ]
     },
     "metadata": {
      "needs_background": "light"
     },
     "output_type": "display_data"
    },
    {
     "data": {
      "image/png": "[encoded data removed]",
      "text/plain": [
       "<Figure size 432x288 with 1 Axes>"
      ]
     },
     "metadata": {
      "needs_background": "light"
     },
     "output_type": "display_data"
    },
    {
     "data": {
      "image/png": "[encoded data removed]",
      "text/plain": [
       "<Figure size 432x288 with 1 Axes>"
      ]
     },
     "metadata": {
      "needs_background": "light"
     },
     "output_type": "display_data"
    },
    {
     "data": {
      "image/png": "[encoded data removed]",
      "text/plain": [
       "<Figure size 432x288 with 1 Axes>"
      ]
     },
     "metadata": {
      "needs_background": "light"
     },
     "output_type": "display_data"
    },
    {
     "data": {
      "image/png": "[encoded data removed]",
      "text/plain": [
       "<Figure size 432x288 with 1 Axes>"
      ]
     },
     "metadata": {
      "needs_background": "light"
     },
     "output_type": "display_data"
    },
    {
     "data": {
      "image/png": "[encoded data removed]",
      "text/plain": [
       "<Figure size 432x288 with 1 Axes>"
      ]
     },
     "metadata": {
      "needs_background": "light"
     },
     "output_type": "display_data"
    },
    {
     "data": {
      "image/png": "[encoded data removed]",
      "text/plain": [
       "<Figure size 432x288 with 1 Axes>"
      ]
     },
     "metadata": {
      "needs_background": "light"
     },
     "output_type": "display_data"
    },
    {
     "data": {
      "image/png": "[encoded data removed]",
      "text/plain": [
       "<Figure size 432x288 with 1 Axes>"
      ]
     },
     "metadata": {
      "needs_background": "light"
     },
     "output_type": "display_data"
    }
   ],
   "source": [
    "\n",
    "\n",
    "data.hist('days_exposition', bins = 100, range = (0,100))\n",
    "\n",
    "print('Среднее время продажи:', data['days_exposition'].mean())\n",
    "print('Медианное время продажи:', data['days_exposition'].median())\n",
    "\n",
    "data.plot(x='last_price', y='total_area', style='o', alpha=0.2, grid=True) # зависимость цены от общей площади\n",
    "data.plot(x='last_price', y='living_area', style='o', alpha=0.2, grid=True)\n",
    "data.plot(x='last_price', y='kitchen_area', style='o', alpha=0.2, grid=True)\n",
    "data.plot(x='last_price', y='rooms', style='o', alpha=0.2, grid=True)\n",
    "data.plot(x='last_price', y='cat_floor', style='o', alpha=0.2, kind='scatter', grid=True)\n",
    "data.plot(x='last_price', y='first_day_exposition', style='o', alpha=0.2, kind='scatter', grid=True)\n",
    "\n",
    "data.plot(x='last_price', y='day_public', style='o', alpha=0.2, kind='scatter', grid=True)\n",
    "data.plot(x='last_price', y='month_public', style='o', alpha=0.2, kind='scatter', grid=True)\n",
    "data.plot(x='last_price', y='year_public', style='o', alpha=0.2, kind='scatter', grid=True)\n",
    "\n",
    "\n",
    "data_top = data.pivot_table(index='locality_name', values='price_meter' , aggfunc=['count', 'median', 'mean'])\n",
    "#Собираем новый датафрейм считаем \n",
    "data_top.columns = ['all_ad', 'median_price_meter', 'mean_price_meter']\n",
    "data_top = data_top.sort_values('all_ad', ascending=False)\n",
    "data_top = data_top.sort_values('mean_price_meter', ascending=False) # Выводим таблицу \n",
    "data_top\n"
   ]
  },
  {
   "cell_type": "markdown",
   "metadata": {
    "scrolled": true
   },
   "source": [
    "5 Общий вывод\n",
    "Считаю что быстрыми продажами можно считать то что было продано до 3 месяцев (медианное значение), а долгими все что больше полугода (среднее значение). \n",
    "***5.1 Возможно это зависшие обьявления, может эти квартиры никто не хотел покупать из-за завышенной цены например?\n",
    "\n",
    "  - общей площади - цена квартиры в среднем растет при увеличении метража до 130м, а потом снижается. Видимо более 130м это загородная недвижимость;\n",
    "  - жилой площади - цена квартиры в среднем растет при увеличении метража жилой площади, а потом снижается. Видимо это загородная недвижимость;\n",
    "  - площади кухни - цена квартиры в среднем растет при увеличении метража кухни до 20м, а потом снижается;\n",
    "  - количество комнат - цена квартир ростет с ростом комнат до 5, а потом снижается. Видимо более 5 квартир это загородная недвижимость;\n",
    "  - типа этажа, на котором расположена квартира (первый, последний, другой) - цены на квартиры на первом этаже стоят дешевле, последний и другой пратически не отличимы;\n",
    "  - даты размещения (день недели, месяц, год) - из графика мы видим постепенный рост цен на недвижимость, также заметен обвал цен в 16 году;\n",
    "  \n",
    "***- день размещения - мы видим что по воскресеньям размещают самую бюджетную недвижимость, а по четвергам и пятницам самую дорогую.\n",
    "месяц размещения - в январе (после НГ видимо мало покупают и поэтому рынок проседает), мае (из-за майских праздников спрос снижается) и  октябре цены на недвижимость ниже (видимо все пытаются закрыть квартирный вопрос за летний отпуск поэтому в ноябре спрос как и цена снижаются) \n",
    " год размещения -  тут очень явно прослеживается скачек цен на недвижимость после 14 года (Интересно чтоже случилось???)\n",
    " \n",
    " \n",
    " *** - Добавил в таблицу 'data_top' средние значения. Самое высокое значение в Спб - 114446, а самое низкое в Выборге - 58094 (деревня Старополье - 11206  тут самое низкое). \n",
    "  \n",
    "  "
   ]
  },
  {
   "cell_type": "markdown",
   "metadata": {},
   "source": [
    "<div class=\"alert alert-danger\">\n",
    "\n",
    "**❌ Комментарий ревьюера ❌**\n",
    "   \n",
    "   Касательно быстрых и долгих продаж - на гистограмме заметны выбросы. Как думаешь, с чем они могут быть связаны? Скорректируй выводы о скорости продаж с учетом выбросов\n",
    "\n",
    "</div>\n",
    "<div class=\"alert alert-warning\">\n",
    "\n",
    "**⚠️ Комментарий ревьюера v2⚠️**\n",
    "   \n",
    "    Эти выбросы указывают на автоматическое снятие объявления агрегатором - поэтому их не стоит учитывать как фактические продажи. https://yandex.ru/support/realty/owner/home/add-ads-housing.html\n",
    "   \n",
    "\n",
    "</div>\n",
    "\n",
    "\n"
   ]
  },
  {
   "cell_type": "markdown",
   "metadata": {},
   "source": [
    "<div class=\"alert alert-danger\">\n",
    "\n",
    "**❌ Комментарий ревьюера ❌**\n",
    "   \n",
    "   Касательно зависимости от даты - здесь важно построить графики зависимостей как указано в задании - то есть отдельно, от дня недели, от месяца и от года.\n",
    "\n",
    "\n",
    "</div>\n"
   ]
  },
  {
   "cell_type": "markdown",
   "metadata": {},
   "source": [
    "<div class=\"alert alert-success\">\n",
    "\n",
    "**✔️ Комментарий ревьюера ✔️**\n",
    "   \n",
    "   В целом - хорошие результаты. Отмечу, что скорее всего, низкую цену на квартиры на первых этажах можно аргументировать плохими условиями - шум от улиц и  охлаждаемость помещения зимой. \n",
    "\n",
    "</div>"
   ]
  },
  {
   "cell_type": "markdown",
   "metadata": {},
   "source": [
    "<div class=\"alert alert-danger\">\n",
    "\n",
    "**❌ Комментарий ревьюера ❌**\n",
    "   \n",
    "   Не увидел задания шаг 4 пункт 4. Посчитайте среднюю цену одного квадратного метра в 10 населённых пунктах с наибольшим числом объявлений. Выделите населённые пункты с самой высокой и низкой стоимостью квадратного метра. Эти данные можно найти по имени в столбце locality_name.\n",
    "\n",
    "</div>\n",
    "\n",
    "<div class=\"alert alert-success\">\n",
    "\n",
    "**✔️ Комментарий ревьюера v2✔️**\n",
    "   \n",
    "   Исправлено\n",
    "\n",
    "</div>\n",
    "\n"
   ]
  },
  {
   "cell_type": "code",
   "execution_count": 7,
   "metadata": {
    "scrolled": true
   },
   "outputs": [
    {
     "name": "stdout",
     "output_type": "stream",
     "text": [
      "       total_images  last_price  total_area first_day_exposition  rooms  \\\n",
      "0                20  13000000.0      108.00           2019-03-07      3   \n",
      "2                10   5196000.0       56.00           2015-08-20      2   \n",
      "3                 0  64900000.0      159.00           2015-07-24      3   \n",
      "4                 2  10000000.0      100.00           2018-06-19      2   \n",
      "7                 5   7915000.0       71.60           2019-04-18      2   \n",
      "...             ...         ...         ...                  ...    ...   \n",
      "23688            19   9200000.0      101.00           2019-04-01      3   \n",
      "23689            13   3550000.0       35.30           2018-02-28      1   \n",
      "23690             3   5500000.0       52.00           2018-07-19      2   \n",
      "23694             9   9700000.0      133.81           2017-03-21      3   \n",
      "23697            13  11475000.0       76.75           2017-03-28      2   \n",
      "\n",
      "       ceiling_height  floors_total  living_area  floor is_apartment  ...  \\\n",
      "0            2.700000          16.0    51.000000      8            0  ...   \n",
      "2            2.726332           5.0    34.300000      4            0  ...   \n",
      "3            2.726332          14.0    91.730769      9            0  ...   \n",
      "4            3.030000          14.0    32.000000     13            0  ...   \n",
      "7            2.726332          24.0    41.307692     22            0  ...   \n",
      "...               ...           ...          ...    ...          ...  ...   \n",
      "23688        3.050000          15.0    63.000000     12            0  ...   \n",
      "23689        2.860000          15.0    16.300000      4            0  ...   \n",
      "23690        2.726332           5.0    31.000000      2            0  ...   \n",
      "23694        3.700000           5.0    73.300000      3            0  ...   \n",
      "23697        3.000000          17.0    44.278846     12            0  ...   \n",
      "\n",
      "       parks_nearest  ponds_around3000  ponds_nearest  days_exposition  \\\n",
      "0              482.0               2.0          755.0              NaN   \n",
      "2               90.0               2.0          574.0            558.0   \n",
      "3               84.0               3.0          234.0            424.0   \n",
      "4              112.0               1.0           48.0            121.0   \n",
      "7                NaN               0.0            NaN              NaN   \n",
      "...              ...               ...            ...              ...   \n",
      "23688            NaN               0.0            NaN             23.0   \n",
      "23689          353.0               2.0          652.0             29.0   \n",
      "23690          300.0               0.0            NaN             15.0   \n",
      "23694          796.0               3.0          381.0              NaN   \n",
      "23697          173.0               3.0          196.0            602.0   \n",
      "\n",
      "      price_meter  day_public  month_public  year_public  cat_floor  \\\n",
      "0        120370.0           3             3         2019     другой   \n",
      "2         92786.0           3             8         2015     другой   \n",
      "3        408176.0           4             7         2015     другой   \n",
      "4        100000.0           1             6         2018     другой   \n",
      "7        110545.0           3             4         2019     другой   \n",
      "...           ...         ...           ...          ...        ...   \n",
      "23688     91089.0           0             4         2019     другой   \n",
      "23689    100567.0           2             2         2018     другой   \n",
      "23690    105769.0           3             7         2018     другой   \n",
      "23694     72491.0           1             3         2017     другой   \n",
      "23697    149511.0           1             3         2017     другой   \n",
      "\n",
      "       city_distance  \n",
      "0               16.0  \n",
      "2               14.0  \n",
      "3                7.0  \n",
      "4                8.0  \n",
      "7               12.0  \n",
      "...              ...  \n",
      "23688           14.0  \n",
      "23689           16.0  \n",
      "23690            6.0  \n",
      "23694            4.0  \n",
      "23697           10.0  \n",
      "\n",
      "[14659 rows x 28 columns]\n"
     ]
    },
    {
     "name": "stderr",
     "output_type": "stream",
     "text": [
      "/tmp/ipykernel_138/234975610.py:2: SettingWithCopyWarning: \n",
      "A value is trying to be set on a copy of a slice from a DataFrame.\n",
      "Try using .loc[row_indexer,col_indexer] = value instead\n",
      "\n",
      "See the caveats in the documentation: https://pandas.pydata.org/pandas-docs/stable/user_guide/indexing.html#returning-a-view-versus-a-copy\n",
      "  saint_p['city_distance']=saint_p['city_distance'].round(0) # Округляем данные\n"
     ]
    },
    {
     "data": {
      "text/plain": [
       "<AxesSubplot:xlabel='city_distance'>"
      ]
     },
     "execution_count": 7,
     "metadata": {},
     "output_type": "execute_result"
    },
    {
     "data": {
      "image/png": "[encoded data removed]",
      "text/plain": [
       "<Figure size 864x432 with 1 Axes>"
      ]
     },
     "metadata": {
      "needs_background": "light"
     },
     "output_type": "display_data"
    }
   ],
   "source": [
    "saint_p = data.query('locality_name == \"Санкт-Петербург\"') # Собираем таблицу с СПБ\n",
    "saint_p['city_distance']=saint_p['city_distance'].round(0) # Округляем данные\n",
    "\n",
    "print(saint_p)\n",
    "\n",
    "no_refund=saint_p.groupby('city_distance').agg({'price_meter':['count','mean']}).reset_index() \n",
    "no_refund.columns = ['city_distance','count','mean']\n",
    "#print(no_refund)\n",
    "\n",
    "\n",
    "\n",
    "no_refund.plot(x = 'city_distance', y = 'mean', grid=True, figsize=(12, 6))"
   ]
  },
  {
   "cell_type": "markdown",
   "metadata": {},
   "source": [
    "Самая дорогая недвижимость в центре Спб, дальше идет всплеск с 4 до 7 км. можно предположить что это новые кварталы в сером промышленном поясе! далее цены опять идут на спад, после видим ещё один всплеск в районе 26 км. думаю что это обьявления о продаже недвижимости в элитном поселке!\n",
    "\n"
   ]
  },
  {
   "cell_type": "markdown",
   "metadata": {},
   "source": [
    "<div class=\"alert alert-success\">\n",
    "✔️ Комментарий ревьюера ✔️\n",
    "\n",
    "Верно. На графике после 7 км заметно, что цена меняется. \n",
    "    \n",
    "Если интересно, то самый дорогой по стоимости жилья район в Санкт-Петербурге риелторы назвали \"Золотой треугольник\". Дома \"Золотого треугольника\" находятся в пределах Невского проспекта, набережной реки Фонтанки и Дворцовой набережной.\n",
    "Для географической справки: https://zen.yandex.ru/media/id/5cb4ebcc0a51a300b5b1f60d/zolotoi-treugolnik-sanktpeterburga-chto-eto-i-gde-nahoditsia-5edf942db1204610073e88b2 \n",
    "\n",
    "</div>"
   ]
  },
  {
   "cell_type": "markdown",
   "metadata": {},
   "source": [
    "\n",
    "Общий вывод.\n",
    "\n",
    "    В полученных данных было довольно много пропусков люди не заполняли графу о высоте потолков (видимо не знали), также было много пропусков в данных которые заполнялись автоматически (думаю по этому поводу требуется задать вопрос коллегам).\n",
    "    Далее мы отчистили данные от аномалий и явных ошибок, удалили строки с квартирами где потолки выше 6 метров, а пропущенные значения в графе балконы заменили на ноль. Также удалили некоторые автоматизированные данные ограничив дальность до парков \"Условной шириной дороги - 30м.\".\n",
    "    \n",
    "    Определили быстрые продажами. Считаем что те квартиры которые были проданы до 3 месяцев (медианное значение) это быстрые продажи, а долгими все что больше полугода (среднее значение).\n",
    "    \n",
    "    Анализируя факторы больше всего влияющие на общую стоимость недвижимости делаем следующие выводы:\n",
    "    \n",
    "  - общая площадь - цена квартиры в среднем растет при увеличении метража до 130м, а потом снижается. Видимо более 130м это загородная недвижимость;\n",
    "  - жилая площадь - цена квартиры в среднем растет при увеличении метража жилой площади, а потом снижается. Видимо это загородная недвижимость;\n",
    "  - площадь кухни - цена квартиры в среднем растет при увеличении метража кухни до 20м, а потом снижается;\n",
    "  - количество комнат - цена квартир ростет с ростом комнат до 5, а потом снижается. Видимо более 5 квартир это загородная недвижимость;\n",
    "  - типа этажа, на котором расположена квартира (первый, последний, другой) - цены на квартиры на первом этаже стоят дешевле, последний и другой пратически не отличимы;\n",
    "  - дата размещения (день недели, месяц, год) - из графика мы видим постепенный рост цен на недвижимость, также заметен обвал цен в 16 году (чекнул новости за 16 год и да действительно в 16 году был обвал цен);\n",
    "  \n",
    "    Далее мы анализировали зависимость средней цены квадратного метра от удаления от центра Санкт-Петербурга и определили топ-10 населённых пунктов с самой высокой стоимостью м2 жилья (такими городами стали Спб, Пушкин, Кудрово, Мурино).  А общая зависимость говорит нам о том что чем дальше от центра Спб на ходится недвижимость тем дешевле она стоит.\n",
    "    \n",
    "    Вообщем довольно интересная задача, былобы больше времени можно былобы еще исследовать и исследовать!\n",
    "    \n"
   ]
  },
  {
   "cell_type": "markdown",
   "metadata": {},
   "source": [
    "<div class=\"alert alert-success\">\n",
    "\n",
    "**✔️ Комментарий ревьюера ✔️**\n",
    "   \n",
    "   Илья, проведен основательный и подробный анализ. Все наглядно - графики и гистограммы подтверждают обоснованные выводы. Учти мои замечания. Возможно, придется немного подправить выводы. Жду твой проект на повторное ревью. Успехов!\n",
    "\n",
    "</div>\n"
   ]
  },
  {
   "cell_type": "markdown",
   "metadata": {},
   "source": [
    "<div class=\"alert alert-success\">\n",
    "\n",
    "**✔️ Комментарий ревьюера v2✔️**\n",
    "   \n",
    "   Илья, замечания устранены 👍. Уверен, мои советы пригодятся тебе в новых проектах. Успехов в обучении! 😉 \n",
    "\n",
    "</div>"
   ]
  },
  {
   "cell_type": "markdown",
   "metadata": {},
   "source": [
    "**Чек-лист готовности проекта**\n",
    "\n",
    "Поставьте 'x' в выполненных пунктах. Далее нажмите Shift+Enter."
   ]
  },
  {
   "cell_type": "markdown",
   "metadata": {},
   "source": [
    "- [x]  открыт файл\n",
    "- [x]  файлы изучены (выведены первые строки, метод `info()`, гистограммы и т.д.)\n",
    "- [x]  определены пропущенные значения\n",
    "- [x]  заполнены пропущенные значения там, где это возможно\n",
    "- [x]  есть пояснение, какие пропущенные значения обнаружены\n",
    "- [0]  изменены типы данных\n",
    "- [0]  есть пояснение, в каких столбцах изменены типы и почему\n",
    "- [0]  устранены неявные дубликаты в названиях населённых пунктов\n",
    "- [0]  устранены редкие и выбивающиеся значения (аномалии) во всех столбцах\n",
    "- [х]  посчитано и добавлено в таблицу: цена одного квадратного метра\n",
    "- [х]  посчитано и добавлено в таблицу: день публикации объявления (0 - понедельник, 1 - вторник и т.д.)\n",
    "- [х]  посчитано и добавлено в таблицу: месяц публикации объявления\n",
    "- [х]  посчитано и добавлено в таблицу: год публикации объявления\n",
    "- [x]  посчитано и добавлено в таблицу: тип этажа квартиры (значения — «первый», «последний», «другой»)\n",
    "- [o]  посчитано и добавлено в таблицу: расстояние в км до центра города\n",
    "- [ ]  изучены и описаны следующие параметры:\n",
    "        - общая площадь;\n",
    "        - жилая площадь;\n",
    "        - площадь кухни;\n",
    "        - цена объекта;\n",
    "        - количество комнат;\n",
    "        - высота потолков;\n",
    "        - этаж квартиры;\n",
    "        - тип этажа квартиры («первый», «последний», «другой»);\n",
    "        - общее количество этажей в доме;\n",
    "        - расстояние до центра города в метрах;\n",
    "        - расстояние до ближайшего аэропорта;\n",
    "        - расстояние до ближайшего парка;\n",
    "        - день и месяц публикации объявления\n",
    "- [0]  построены гистограммы для каждого параметра\n",
    "- [0]  выполнено задание: \"Изучите, как быстро продавались квартиры (столбец days_exposition). Этот параметр показывает, сколько дней «висело» каждое объявление.\n",
    "    - Постройте гистограмму.\n",
    "    - Посчитайте среднее и медиану.\n",
    "    - В ячейке типа markdown опишите, сколько обычно занимает продажа. Какие продажи можно считать быстрыми, а какие — необычно долгими?\"\n",
    "- [0]  выполнено задание: \"Какие факторы больше всего влияют на общую (полную) стоимость объекта? Постройте графики, которые покажут зависимость цены от указанных ниже параметров. Для подготовки данных перед визуализацией вы можете использовать сводные таблицы.\"\n",
    "        - общей площади;\n",
    "        - жилой площади;\n",
    "        - площади кухни;\n",
    "        - количество комнат;\n",
    "        - типа этажа, на котором расположена квартира (первый, последний, другой);\n",
    "        - даты размещения (день недели, месяц, год);\n",
    "- [x]  выполнено задание: \"Посчитайте среднюю цену одного квадратного метра в 10 населённых пунктах с наибольшим числом объявлений. Выделите населённые пункты с самой высокой и низкой стоимостью квадратного метра. Эти данные можно найти по имени в столбце `locality_name`.\"\n",
    "- [х]  выполнено задание: \"Ранее вы посчитали расстояние до центра в километрах. Теперь выделите квартиры в Санкт-Петербурге с помощью столбца `locality_name` и вычислите среднюю цену каждого километра. Опишите, как стоимость объектов зависит от расстояния до центра города.\"\n",
    "- [ ]  в каждом этапе есть промежуточные выводы\n",
    "- [ ]  есть общий вывод"
   ]
  }
 ],
 "metadata": {
  "ExecuteTimeLog": [
   {
    "duration": 510,
    "start_time": "2023-02-13T05:53:21.128Z"
   },
   {
    "duration": 319,
    "start_time": "2023-02-13T05:55:14.041Z"
   },
   {
    "duration": 99,
    "start_time": "2023-02-13T05:55:37.601Z"
   },
   {
    "duration": 103,
    "start_time": "2023-02-13T05:56:12.394Z"
   },
   {
    "duration": 122,
    "start_time": "2023-02-13T05:57:04.049Z"
   },
   {
    "duration": 130,
    "start_time": "2023-02-13T05:58:57.832Z"
   },
   {
    "duration": 2552,
    "start_time": "2023-02-13T06:01:48.568Z"
   },
   {
    "duration": 2136,
    "start_time": "2023-02-13T06:02:02.597Z"
   },
   {
    "duration": 8,
    "start_time": "2023-02-13T06:08:31.109Z"
   },
   {
    "duration": 2157,
    "start_time": "2023-02-13T06:48:34.150Z"
   },
   {
    "duration": 2050,
    "start_time": "2023-02-13T06:48:43.861Z"
   },
   {
    "duration": 2294,
    "start_time": "2023-02-13T06:48:51.800Z"
   },
   {
    "duration": 2313,
    "start_time": "2023-02-13T06:49:12.328Z"
   },
   {
    "duration": 97,
    "start_time": "2023-02-13T07:32:34.453Z"
   },
   {
    "duration": 15,
    "start_time": "2023-02-13T07:34:14.264Z"
   },
   {
    "duration": 15,
    "start_time": "2023-02-13T07:39:54.251Z"
   },
   {
    "duration": 14,
    "start_time": "2023-02-13T07:40:30.509Z"
   },
   {
    "duration": 9,
    "start_time": "2023-02-13T07:41:47.382Z"
   },
   {
    "duration": 11,
    "start_time": "2023-02-13T07:42:47.021Z"
   },
   {
    "duration": 13,
    "start_time": "2023-02-13T07:43:19.704Z"
   },
   {
    "duration": 4,
    "start_time": "2023-02-13T07:46:20.475Z"
   },
   {
    "duration": 2251,
    "start_time": "2023-02-13T07:46:54.770Z"
   },
   {
    "duration": 9,
    "start_time": "2023-02-13T07:47:01.323Z"
   },
   {
    "duration": 56,
    "start_time": "2023-02-13T08:01:53.257Z"
   },
   {
    "duration": 12,
    "start_time": "2023-02-13T08:02:44.596Z"
   },
   {
    "duration": 20,
    "start_time": "2023-02-13T08:03:05.403Z"
   },
   {
    "duration": 27,
    "start_time": "2023-02-13T08:03:22.207Z"
   },
   {
    "duration": 28,
    "start_time": "2023-02-13T08:04:48.953Z"
   },
   {
    "duration": 20,
    "start_time": "2023-02-13T08:05:16.503Z"
   },
   {
    "duration": 25,
    "start_time": "2023-02-13T08:11:53.934Z"
   },
   {
    "duration": 22,
    "start_time": "2023-02-13T08:14:12.710Z"
   },
   {
    "duration": 38,
    "start_time": "2023-02-13T08:19:29.397Z"
   },
   {
    "duration": 26,
    "start_time": "2023-02-13T08:19:40.755Z"
   },
   {
    "duration": 30,
    "start_time": "2023-02-13T08:19:52.371Z"
   },
   {
    "duration": 22,
    "start_time": "2023-02-13T08:20:01.668Z"
   },
   {
    "duration": 35,
    "start_time": "2023-02-13T08:24:50.755Z"
   },
   {
    "duration": 25,
    "start_time": "2023-02-13T08:26:29.425Z"
   },
   {
    "duration": 24,
    "start_time": "2023-02-13T08:26:42.369Z"
   },
   {
    "duration": 2415,
    "start_time": "2023-02-13T08:28:18.960Z"
   },
   {
    "duration": 39,
    "start_time": "2023-02-13T08:28:21.378Z"
   },
   {
    "duration": 49,
    "start_time": "2023-02-13T08:48:42.785Z"
   },
   {
    "duration": 37,
    "start_time": "2023-02-13T08:49:23.811Z"
   },
   {
    "duration": 34,
    "start_time": "2023-02-13T08:53:21.976Z"
   },
   {
    "duration": 35,
    "start_time": "2023-02-13T08:53:39.231Z"
   },
   {
    "duration": 32,
    "start_time": "2023-02-13T08:57:06.623Z"
   },
   {
    "duration": 33,
    "start_time": "2023-02-13T09:02:26.057Z"
   },
   {
    "duration": 51,
    "start_time": "2023-02-13T09:03:42.629Z"
   },
   {
    "duration": 51,
    "start_time": "2023-02-13T09:04:13.557Z"
   },
   {
    "duration": 51,
    "start_time": "2023-02-13T09:04:35.252Z"
   },
   {
    "duration": 47,
    "start_time": "2023-02-13T09:13:30.194Z"
   },
   {
    "duration": 49,
    "start_time": "2023-02-13T09:13:38.226Z"
   },
   {
    "duration": 55,
    "start_time": "2023-02-13T09:13:58.706Z"
   },
   {
    "duration": 59,
    "start_time": "2023-02-13T12:05:39.166Z"
   },
   {
    "duration": 82,
    "start_time": "2023-02-13T12:07:48.037Z"
   },
   {
    "duration": 155,
    "start_time": "2023-02-13T12:15:10.780Z"
   },
   {
    "duration": 70,
    "start_time": "2023-02-13T12:15:19.540Z"
   },
   {
    "duration": 79,
    "start_time": "2023-02-13T12:16:26.195Z"
   },
   {
    "duration": 56,
    "start_time": "2023-02-13T12:16:51.086Z"
   },
   {
    "duration": 51,
    "start_time": "2023-02-13T12:17:14.211Z"
   },
   {
    "duration": 65,
    "start_time": "2023-02-13T12:17:29.291Z"
   },
   {
    "duration": 66,
    "start_time": "2023-02-13T12:21:08.099Z"
   },
   {
    "duration": 73,
    "start_time": "2023-02-13T12:25:43.050Z"
   },
   {
    "duration": 33,
    "start_time": "2023-02-13T12:26:13.585Z"
   },
   {
    "duration": 61,
    "start_time": "2023-02-13T12:27:27.434Z"
   },
   {
    "duration": 2588,
    "start_time": "2023-02-13T12:34:43.014Z"
   },
   {
    "duration": 49,
    "start_time": "2023-02-13T12:48:58.010Z"
   },
   {
    "duration": 226,
    "start_time": "2023-02-13T13:21:31.802Z"
   },
   {
    "duration": 179,
    "start_time": "2023-02-13T13:21:43.817Z"
   },
   {
    "duration": 196,
    "start_time": "2023-02-13T13:24:21.305Z"
   },
   {
    "duration": 281,
    "start_time": "2023-02-13T13:33:52.391Z"
   },
   {
    "duration": 197,
    "start_time": "2023-02-13T13:34:32.743Z"
   },
   {
    "duration": 163,
    "start_time": "2023-02-13T13:34:47.788Z"
   },
   {
    "duration": 445,
    "start_time": "2023-02-13T13:37:35.447Z"
   },
   {
    "duration": 189,
    "start_time": "2023-02-13T13:37:44.573Z"
   },
   {
    "duration": 121,
    "start_time": "2023-02-13T13:43:53.699Z"
   },
   {
    "duration": 234,
    "start_time": "2023-02-13T14:11:00.519Z"
   },
   {
    "duration": 250,
    "start_time": "2023-02-13T14:11:05.152Z"
   },
   {
    "duration": 241,
    "start_time": "2023-02-13T14:12:38.981Z"
   },
   {
    "duration": 115,
    "start_time": "2023-02-13T14:16:25.404Z"
   },
   {
    "duration": 97,
    "start_time": "2023-02-13T14:16:43.276Z"
   },
   {
    "duration": 103,
    "start_time": "2023-02-13T14:16:52.914Z"
   },
   {
    "duration": 104,
    "start_time": "2023-02-13T14:17:09.002Z"
   },
   {
    "duration": 120,
    "start_time": "2023-02-13T14:17:44.140Z"
   },
   {
    "duration": 108,
    "start_time": "2023-02-13T14:37:41.592Z"
   },
   {
    "duration": 113,
    "start_time": "2023-02-13T14:38:21.389Z"
   },
   {
    "duration": 117,
    "start_time": "2023-02-13T14:38:36.661Z"
   },
   {
    "duration": 105,
    "start_time": "2023-02-13T14:38:58.805Z"
   },
   {
    "duration": 105,
    "start_time": "2023-02-13T14:39:04.236Z"
   },
   {
    "duration": 127,
    "start_time": "2023-02-13T14:41:12.309Z"
   },
   {
    "duration": 116,
    "start_time": "2023-02-13T14:53:40.215Z"
   },
   {
    "duration": 109,
    "start_time": "2023-02-13T14:54:03.110Z"
   },
   {
    "duration": 126,
    "start_time": "2023-02-13T14:54:56.189Z"
   },
   {
    "duration": 123,
    "start_time": "2023-02-13T14:55:21.414Z"
   },
   {
    "duration": 2464,
    "start_time": "2023-02-13T14:55:28.545Z"
   },
   {
    "duration": 134,
    "start_time": "2023-02-13T14:55:31.011Z"
   },
   {
    "duration": 113,
    "start_time": "2023-02-13T15:15:52.794Z"
   },
   {
    "duration": 7,
    "start_time": "2023-02-13T15:15:58.536Z"
   },
   {
    "duration": 104,
    "start_time": "2023-02-13T15:16:03.399Z"
   },
   {
    "duration": 106,
    "start_time": "2023-02-13T15:19:25.670Z"
   },
   {
    "duration": 112,
    "start_time": "2023-02-13T15:19:43.958Z"
   },
   {
    "duration": 104,
    "start_time": "2023-02-13T15:22:18.743Z"
   },
   {
    "duration": 162,
    "start_time": "2023-02-13T15:24:49.717Z"
   },
   {
    "duration": 109,
    "start_time": "2023-02-13T15:25:23.118Z"
   },
   {
    "duration": 64,
    "start_time": "2023-02-13T15:26:11.604Z"
   },
   {
    "duration": 61,
    "start_time": "2023-02-13T15:26:37.853Z"
   },
   {
    "duration": 71,
    "start_time": "2023-02-13T15:30:18.038Z"
   },
   {
    "duration": 92,
    "start_time": "2023-02-13T15:32:29.389Z"
   },
   {
    "duration": 2486,
    "start_time": "2023-02-13T15:33:05.464Z"
   },
   {
    "duration": 104,
    "start_time": "2023-02-13T15:33:07.953Z"
   },
   {
    "duration": 69,
    "start_time": "2023-02-13T15:34:13.627Z"
   },
   {
    "duration": 67,
    "start_time": "2023-02-13T15:35:24.399Z"
   },
   {
    "duration": 63,
    "start_time": "2023-02-13T15:38:24.370Z"
   },
   {
    "duration": 62,
    "start_time": "2023-02-13T15:38:35.249Z"
   },
   {
    "duration": 2074,
    "start_time": "2023-02-13T15:38:39.879Z"
   },
   {
    "duration": 108,
    "start_time": "2023-02-13T15:38:41.956Z"
   },
   {
    "duration": 66,
    "start_time": "2023-02-13T15:39:39.667Z"
   },
   {
    "duration": 2090,
    "start_time": "2023-02-13T15:39:44.268Z"
   },
   {
    "duration": 124,
    "start_time": "2023-02-13T15:39:46.360Z"
   },
   {
    "duration": 119,
    "start_time": "2023-02-13T15:42:04.481Z"
   },
   {
    "duration": 117,
    "start_time": "2023-02-13T15:45:00.265Z"
   },
   {
    "duration": 73,
    "start_time": "2023-02-13T15:55:18.135Z"
   },
   {
    "duration": 64,
    "start_time": "2023-02-13T15:55:34.484Z"
   },
   {
    "duration": 73,
    "start_time": "2023-02-13T15:55:49.252Z"
   },
   {
    "duration": 60,
    "start_time": "2023-02-13T15:57:59.891Z"
   },
   {
    "duration": 57,
    "start_time": "2023-02-13T16:02:44.967Z"
   },
   {
    "duration": 135,
    "start_time": "2023-02-13T16:02:48.969Z"
   },
   {
    "duration": 125,
    "start_time": "2023-02-13T16:09:52.631Z"
   },
   {
    "duration": 48,
    "start_time": "2023-02-14T07:31:55.416Z"
   },
   {
    "duration": 2987,
    "start_time": "2023-02-14T07:32:02.221Z"
   },
   {
    "duration": 124,
    "start_time": "2023-02-14T07:32:05.210Z"
   },
   {
    "duration": 124,
    "start_time": "2023-02-14T07:32:34.354Z"
   },
   {
    "duration": 1916,
    "start_time": "2023-02-14T07:32:38.461Z"
   },
   {
    "duration": 129,
    "start_time": "2023-02-14T07:32:40.379Z"
   },
   {
    "duration": 110,
    "start_time": "2023-02-14T07:43:20.063Z"
   },
   {
    "duration": 107,
    "start_time": "2023-02-14T07:43:27.304Z"
   },
   {
    "duration": 118,
    "start_time": "2023-02-14T07:44:29.160Z"
   },
   {
    "duration": 302,
    "start_time": "2023-02-14T07:45:36.805Z"
   },
   {
    "duration": 130,
    "start_time": "2023-02-14T07:48:27.981Z"
   },
   {
    "duration": 118,
    "start_time": "2023-02-14T07:49:54.394Z"
   },
   {
    "duration": 2182,
    "start_time": "2023-02-14T07:49:59.419Z"
   },
   {
    "duration": 142,
    "start_time": "2023-02-14T07:50:01.603Z"
   },
   {
    "duration": 1967,
    "start_time": "2023-02-14T07:57:59.082Z"
   },
   {
    "duration": 178,
    "start_time": "2023-02-14T07:58:01.051Z"
   },
   {
    "duration": 2324,
    "start_time": "2023-02-14T08:02:32.732Z"
   },
   {
    "duration": 227,
    "start_time": "2023-02-14T08:02:35.058Z"
   },
   {
    "duration": 143,
    "start_time": "2023-02-14T08:03:31.315Z"
   },
   {
    "duration": 2297,
    "start_time": "2023-02-14T08:03:38.605Z"
   },
   {
    "duration": 187,
    "start_time": "2023-02-14T08:03:40.904Z"
   },
   {
    "duration": 181,
    "start_time": "2023-02-14T08:04:22.534Z"
   },
   {
    "duration": 157,
    "start_time": "2023-02-14T08:04:44.626Z"
   },
   {
    "duration": 133,
    "start_time": "2023-02-14T08:09:35.905Z"
   },
   {
    "duration": 152,
    "start_time": "2023-02-14T08:09:49.601Z"
   },
   {
    "duration": 140,
    "start_time": "2023-02-14T08:11:35.585Z"
   },
   {
    "duration": 170,
    "start_time": "2023-02-14T08:31:26.333Z"
   },
   {
    "duration": 2373,
    "start_time": "2023-02-14T08:31:43.248Z"
   },
   {
    "duration": 150,
    "start_time": "2023-02-14T08:31:45.623Z"
   },
   {
    "duration": 174,
    "start_time": "2023-02-14T08:33:04.925Z"
   },
   {
    "duration": 1996,
    "start_time": "2023-02-14T08:39:01.726Z"
   },
   {
    "duration": 167,
    "start_time": "2023-02-14T08:39:03.724Z"
   },
   {
    "duration": 148,
    "start_time": "2023-02-14T08:50:27.775Z"
   },
   {
    "duration": 367,
    "start_time": "2023-02-14T08:51:11.151Z"
   },
   {
    "duration": 2080,
    "start_time": "2023-02-14T08:51:27.506Z"
   },
   {
    "duration": 148,
    "start_time": "2023-02-14T08:51:29.589Z"
   },
   {
    "duration": 178,
    "start_time": "2023-02-14T08:55:48.711Z"
   },
   {
    "duration": 2040,
    "start_time": "2023-02-14T08:55:56.673Z"
   },
   {
    "duration": 166,
    "start_time": "2023-02-14T08:55:58.716Z"
   },
   {
    "duration": 2257,
    "start_time": "2023-02-14T08:57:12.041Z"
   },
   {
    "duration": 149,
    "start_time": "2023-02-14T08:57:14.300Z"
   },
   {
    "duration": 2191,
    "start_time": "2023-02-14T09:04:54.247Z"
   },
   {
    "duration": 169,
    "start_time": "2023-02-14T09:04:56.441Z"
   },
   {
    "duration": 154,
    "start_time": "2023-02-14T09:05:21.393Z"
   },
   {
    "duration": 54,
    "start_time": "2023-02-14T09:43:45.127Z"
   },
   {
    "duration": 9,
    "start_time": "2023-02-14T09:45:55.912Z"
   },
   {
    "duration": 10,
    "start_time": "2023-02-14T09:47:43.076Z"
   },
   {
    "duration": 41,
    "start_time": "2023-02-14T09:48:02.749Z"
   },
   {
    "duration": 59,
    "start_time": "2023-02-14T09:48:17.919Z"
   },
   {
    "duration": 47,
    "start_time": "2023-02-14T09:48:32.886Z"
   },
   {
    "duration": 45,
    "start_time": "2023-02-14T09:48:46.000Z"
   },
   {
    "duration": 58,
    "start_time": "2023-02-14T11:28:36.069Z"
   },
   {
    "duration": 13,
    "start_time": "2023-02-14T11:32:59.784Z"
   },
   {
    "duration": 13,
    "start_time": "2023-02-14T11:33:23.424Z"
   },
   {
    "duration": 40,
    "start_time": "2023-02-14T11:35:47.878Z"
   },
   {
    "duration": 896,
    "start_time": "2023-02-14T11:37:27.344Z"
   },
   {
    "duration": 45,
    "start_time": "2023-02-14T11:37:40.789Z"
   },
   {
    "duration": 63,
    "start_time": "2023-02-14T11:38:34.165Z"
   },
   {
    "duration": 54,
    "start_time": "2023-02-14T15:09:57.497Z"
   },
   {
    "duration": 7,
    "start_time": "2023-02-14T15:10:44.716Z"
   },
   {
    "duration": 9,
    "start_time": "2023-02-14T15:10:56.731Z"
   },
   {
    "duration": 10,
    "start_time": "2023-02-14T15:11:06.401Z"
   },
   {
    "duration": 14,
    "start_time": "2023-02-14T15:11:44.697Z"
   },
   {
    "duration": 0,
    "start_time": "2023-02-14T15:13:06.850Z"
   },
   {
    "duration": 14,
    "start_time": "2023-02-14T15:13:06.857Z"
   },
   {
    "duration": 14,
    "start_time": "2023-02-14T15:13:06.877Z"
   },
   {
    "duration": 9,
    "start_time": "2023-02-14T15:13:35.578Z"
   },
   {
    "duration": 7,
    "start_time": "2023-02-14T15:13:49.249Z"
   },
   {
    "duration": 3200,
    "start_time": "2023-02-14T15:17:55.920Z"
   },
   {
    "duration": 157,
    "start_time": "2023-02-14T15:17:59.123Z"
   },
   {
    "duration": 15,
    "start_time": "2023-02-14T15:17:59.281Z"
   },
   {
    "duration": 15,
    "start_time": "2023-02-14T15:19:05.640Z"
   },
   {
    "duration": 14,
    "start_time": "2023-02-14T15:19:21.958Z"
   },
   {
    "duration": 20,
    "start_time": "2023-02-14T15:19:37.495Z"
   },
   {
    "duration": 59,
    "start_time": "2023-02-14T15:34:14.328Z"
   },
   {
    "duration": 13,
    "start_time": "2023-02-14T15:34:37.332Z"
   },
   {
    "duration": 49,
    "start_time": "2023-02-14T15:34:45.533Z"
   },
   {
    "duration": 48,
    "start_time": "2023-02-14T15:35:33.136Z"
   },
   {
    "duration": 51,
    "start_time": "2023-02-14T15:37:10.045Z"
   },
   {
    "duration": 66,
    "start_time": "2023-02-14T15:38:00.483Z"
   },
   {
    "duration": 73,
    "start_time": "2023-02-14T15:39:43.950Z"
   },
   {
    "duration": 945,
    "start_time": "2023-02-14T15:40:34.989Z"
   },
   {
    "duration": 810,
    "start_time": "2023-02-14T15:41:26.228Z"
   },
   {
    "duration": 902,
    "start_time": "2023-02-14T15:42:57.229Z"
   },
   {
    "duration": 276,
    "start_time": "2023-02-14T15:43:18.626Z"
   },
   {
    "duration": 536,
    "start_time": "2023-02-14T15:45:57.866Z"
   },
   {
    "duration": 1215,
    "start_time": "2023-02-14T15:48:03.131Z"
   },
   {
    "duration": 949,
    "start_time": "2023-02-14T15:48:40.330Z"
   },
   {
    "duration": 968,
    "start_time": "2023-02-14T15:49:24.329Z"
   },
   {
    "duration": 19,
    "start_time": "2023-02-14T15:50:04.665Z"
   },
   {
    "duration": 376,
    "start_time": "2023-02-14T15:50:50.025Z"
   },
   {
    "duration": 78,
    "start_time": "2023-02-14T15:56:25.688Z"
   },
   {
    "duration": 280,
    "start_time": "2023-02-14T16:08:13.262Z"
   },
   {
    "duration": 236,
    "start_time": "2023-02-14T16:08:22.232Z"
   },
   {
    "duration": 314,
    "start_time": "2023-02-14T16:09:17.732Z"
   },
   {
    "duration": 24,
    "start_time": "2023-02-14T16:14:44.650Z"
   },
   {
    "duration": 28,
    "start_time": "2023-02-14T16:15:00.528Z"
   },
   {
    "duration": 69,
    "start_time": "2023-02-15T05:36:29.686Z"
   },
   {
    "duration": 3099,
    "start_time": "2023-02-15T05:36:49.393Z"
   },
   {
    "duration": 150,
    "start_time": "2023-02-15T05:36:52.494Z"
   },
   {
    "duration": 61,
    "start_time": "2023-02-15T05:36:52.645Z"
   },
   {
    "duration": 48,
    "start_time": "2023-02-15T05:39:46.364Z"
   },
   {
    "duration": 870,
    "start_time": "2023-02-15T05:40:02.525Z"
   },
   {
    "duration": 4,
    "start_time": "2023-02-15T05:46:28.507Z"
   },
   {
    "duration": 4,
    "start_time": "2023-02-15T05:46:57.912Z"
   },
   {
    "duration": 199,
    "start_time": "2023-02-15T05:47:09.850Z"
   },
   {
    "duration": 602,
    "start_time": "2023-02-15T05:47:34.161Z"
   },
   {
    "duration": 389,
    "start_time": "2023-02-15T05:48:14.051Z"
   },
   {
    "duration": 477,
    "start_time": "2023-02-15T06:08:11.997Z"
   },
   {
    "duration": 531,
    "start_time": "2023-02-15T06:18:43.147Z"
   },
   {
    "duration": 547,
    "start_time": "2023-02-15T06:19:08.713Z"
   },
   {
    "duration": 704,
    "start_time": "2023-02-15T06:19:17.991Z"
   },
   {
    "duration": 865,
    "start_time": "2023-02-15T06:21:58.072Z"
   },
   {
    "duration": 932,
    "start_time": "2023-02-15T06:22:41.978Z"
   },
   {
    "duration": 1931,
    "start_time": "2023-02-15T06:22:56.044Z"
   },
   {
    "duration": 1120,
    "start_time": "2023-02-15T06:23:11.905Z"
   },
   {
    "duration": 1105,
    "start_time": "2023-02-15T06:23:27.930Z"
   },
   {
    "duration": 1159,
    "start_time": "2023-02-15T06:24:22.393Z"
   },
   {
    "duration": 1123,
    "start_time": "2023-02-15T06:24:47.183Z"
   },
   {
    "duration": 1349,
    "start_time": "2023-02-15T06:27:37.359Z"
   },
   {
    "duration": 1886,
    "start_time": "2023-02-15T06:28:45.482Z"
   },
   {
    "duration": 2665,
    "start_time": "2023-02-15T06:29:17.369Z"
   },
   {
    "duration": 1956,
    "start_time": "2023-02-15T06:30:05.321Z"
   },
   {
    "duration": 1822,
    "start_time": "2023-02-15T06:30:25.123Z"
   },
   {
    "duration": 42,
    "start_time": "2023-02-15T06:32:21.040Z"
   },
   {
    "duration": 1666,
    "start_time": "2023-02-15T06:32:30.951Z"
   },
   {
    "duration": 1664,
    "start_time": "2023-02-15T06:32:51.928Z"
   },
   {
    "duration": 1668,
    "start_time": "2023-02-15T06:33:01.648Z"
   },
   {
    "duration": 1800,
    "start_time": "2023-02-15T06:33:42.999Z"
   },
   {
    "duration": 61,
    "start_time": "2023-02-15T06:34:21.751Z"
   },
   {
    "duration": 1740,
    "start_time": "2023-02-15T06:34:46.206Z"
   },
   {
    "duration": 1778,
    "start_time": "2023-02-15T06:35:07.839Z"
   },
   {
    "duration": 2116,
    "start_time": "2023-02-15T06:36:43.408Z"
   },
   {
    "duration": 2016,
    "start_time": "2023-02-15T06:36:56.413Z"
   },
   {
    "duration": 2130,
    "start_time": "2023-02-15T06:37:39.141Z"
   },
   {
    "duration": 2265,
    "start_time": "2023-02-15T06:38:15.309Z"
   },
   {
    "duration": 2583,
    "start_time": "2023-02-15T06:39:09.420Z"
   },
   {
    "duration": 2158,
    "start_time": "2023-02-15T06:39:31.965Z"
   },
   {
    "duration": 2130,
    "start_time": "2023-02-15T06:39:53.324Z"
   },
   {
    "duration": 2394,
    "start_time": "2023-02-15T06:40:06.036Z"
   },
   {
    "duration": 2439,
    "start_time": "2023-02-15T06:40:57.471Z"
   },
   {
    "duration": 2599,
    "start_time": "2023-02-15T06:41:24.045Z"
   },
   {
    "duration": 2675,
    "start_time": "2023-02-15T06:41:43.837Z"
   },
   {
    "duration": 2595,
    "start_time": "2023-02-15T06:43:51.525Z"
   },
   {
    "duration": 2855,
    "start_time": "2023-02-15T06:45:54.108Z"
   },
   {
    "duration": 2789,
    "start_time": "2023-02-15T06:46:44.258Z"
   },
   {
    "duration": 2407,
    "start_time": "2023-02-15T06:59:24.840Z"
   },
   {
    "duration": 2449,
    "start_time": "2023-02-15T07:00:33.112Z"
   },
   {
    "duration": 2590,
    "start_time": "2023-02-15T07:00:47.735Z"
   },
   {
    "duration": 2954,
    "start_time": "2023-02-15T07:03:14.696Z"
   },
   {
    "duration": 3035,
    "start_time": "2023-02-15T07:04:31.352Z"
   },
   {
    "duration": 3354,
    "start_time": "2023-02-15T07:06:23.655Z"
   },
   {
    "duration": 3333,
    "start_time": "2023-02-15T07:07:15.499Z"
   },
   {
    "duration": 3410,
    "start_time": "2023-02-15T07:07:43.007Z"
   },
   {
    "duration": 3268,
    "start_time": "2023-02-15T07:07:59.661Z"
   },
   {
    "duration": 237,
    "start_time": "2023-02-15T07:17:50.760Z"
   },
   {
    "duration": 166,
    "start_time": "2023-02-15T07:19:53.385Z"
   },
   {
    "duration": 156,
    "start_time": "2023-02-15T07:20:04.906Z"
   },
   {
    "duration": 151,
    "start_time": "2023-02-15T07:20:17.168Z"
   },
   {
    "duration": 147,
    "start_time": "2023-02-15T07:20:22.418Z"
   },
   {
    "duration": 156,
    "start_time": "2023-02-15T07:20:30.497Z"
   },
   {
    "duration": 145,
    "start_time": "2023-02-15T07:20:35.224Z"
   },
   {
    "duration": 172,
    "start_time": "2023-02-15T07:20:44.896Z"
   },
   {
    "duration": 165,
    "start_time": "2023-02-15T07:21:03.751Z"
   },
   {
    "duration": 143,
    "start_time": "2023-02-15T07:23:28.343Z"
   },
   {
    "duration": 150,
    "start_time": "2023-02-15T07:23:41.950Z"
   },
   {
    "duration": 167,
    "start_time": "2023-02-15T07:23:49.761Z"
   },
   {
    "duration": 340,
    "start_time": "2023-02-15T07:25:02.726Z"
   },
   {
    "duration": 168,
    "start_time": "2023-02-15T07:25:45.661Z"
   },
   {
    "duration": 52,
    "start_time": "2023-02-15T07:26:18.207Z"
   },
   {
    "duration": 167,
    "start_time": "2023-02-15T07:26:31.550Z"
   },
   {
    "duration": 159,
    "start_time": "2023-02-15T07:30:33.063Z"
   },
   {
    "duration": 157,
    "start_time": "2023-02-15T07:30:47.062Z"
   },
   {
    "duration": 170,
    "start_time": "2023-02-15T07:31:22.859Z"
   },
   {
    "duration": 798,
    "start_time": "2023-02-15T07:31:44.672Z"
   },
   {
    "duration": 443,
    "start_time": "2023-02-15T07:32:07.891Z"
   },
   {
    "duration": 234,
    "start_time": "2023-02-15T07:32:25.644Z"
   },
   {
    "duration": 25299,
    "start_time": "2023-02-15T07:57:11.097Z"
   },
   {
    "duration": 0,
    "start_time": "2023-02-15T08:19:28.321Z"
   },
   {
    "duration": 0,
    "start_time": "2023-02-15T08:19:28.324Z"
   },
   {
    "duration": 0,
    "start_time": "2023-02-15T08:19:28.327Z"
   },
   {
    "duration": 0,
    "start_time": "2023-02-15T08:19:28.330Z"
   },
   {
    "duration": 2854,
    "start_time": "2023-02-15T08:19:44.630Z"
   },
   {
    "duration": 150,
    "start_time": "2023-02-15T08:19:47.486Z"
   },
   {
    "duration": 3571,
    "start_time": "2023-02-15T08:19:47.638Z"
   },
   {
    "duration": 262,
    "start_time": "2023-02-15T08:19:51.211Z"
   },
   {
    "duration": 445,
    "start_time": "2023-02-15T08:22:07.127Z"
   },
   {
    "duration": 472,
    "start_time": "2023-02-15T08:22:59.624Z"
   },
   {
    "duration": 426,
    "start_time": "2023-02-15T08:23:08.920Z"
   },
   {
    "duration": 641,
    "start_time": "2023-02-15T08:24:36.330Z"
   },
   {
    "duration": 421,
    "start_time": "2023-02-15T08:24:48.326Z"
   },
   {
    "duration": 431,
    "start_time": "2023-02-15T08:25:07.703Z"
   },
   {
    "duration": 413,
    "start_time": "2023-02-15T08:25:19.481Z"
   },
   {
    "duration": 530,
    "start_time": "2023-02-15T08:26:39.261Z"
   },
   {
    "duration": 605,
    "start_time": "2023-02-15T08:27:39.992Z"
   },
   {
    "duration": 805,
    "start_time": "2023-02-15T08:28:23.479Z"
   },
   {
    "duration": 1103,
    "start_time": "2023-02-15T08:29:55.013Z"
   },
   {
    "duration": 1073,
    "start_time": "2023-02-15T08:31:27.003Z"
   },
   {
    "duration": 52,
    "start_time": "2023-02-15T08:34:18.394Z"
   },
   {
    "duration": 1135,
    "start_time": "2023-02-15T08:34:24.924Z"
   },
   {
    "duration": 1257,
    "start_time": "2023-02-15T08:34:51.620Z"
   },
   {
    "duration": 1446,
    "start_time": "2023-02-15T08:38:11.939Z"
   },
   {
    "duration": 1467,
    "start_time": "2023-02-15T08:39:50.483Z"
   },
   {
    "duration": 1313,
    "start_time": "2023-02-15T08:40:00.474Z"
   },
   {
    "duration": 1467,
    "start_time": "2023-02-15T08:40:09.194Z"
   },
   {
    "duration": 1412,
    "start_time": "2023-02-15T08:40:19.682Z"
   },
   {
    "duration": 1060,
    "start_time": "2023-02-15T08:53:47.088Z"
   },
   {
    "duration": 1658,
    "start_time": "2023-02-15T08:54:16.103Z"
   },
   {
    "duration": 3412,
    "start_time": "2023-02-15T14:25:40.936Z"
   },
   {
    "duration": 167,
    "start_time": "2023-02-15T14:25:44.351Z"
   },
   {
    "duration": 3750,
    "start_time": "2023-02-15T14:25:44.519Z"
   },
   {
    "duration": 1732,
    "start_time": "2023-02-15T14:25:48.272Z"
   },
   {
    "duration": 2397,
    "start_time": "2023-02-15T15:38:30.832Z"
   },
   {
    "duration": 177,
    "start_time": "2023-02-15T15:38:33.239Z"
   },
   {
    "duration": 3519,
    "start_time": "2023-02-15T15:38:33.418Z"
   },
   {
    "duration": 1600,
    "start_time": "2023-02-15T15:38:36.940Z"
   },
   {
    "duration": 1910,
    "start_time": "2023-02-15T15:59:18.392Z"
   },
   {
    "duration": 1792,
    "start_time": "2023-02-15T16:02:18.894Z"
   },
   {
    "duration": 1656,
    "start_time": "2023-02-15T16:02:48.828Z"
   },
   {
    "duration": 1667,
    "start_time": "2023-02-15T16:03:04.939Z"
   },
   {
    "duration": 1738,
    "start_time": "2023-02-15T16:05:53.834Z"
   },
   {
    "duration": 61,
    "start_time": "2023-02-15T16:07:24.640Z"
   },
   {
    "duration": 1522,
    "start_time": "2023-02-15T16:07:49.122Z"
   },
   {
    "duration": 1827,
    "start_time": "2023-02-15T16:08:12.987Z"
   },
   {
    "duration": 1656,
    "start_time": "2023-02-15T16:08:36.695Z"
   },
   {
    "duration": 1694,
    "start_time": "2023-02-15T16:08:44.607Z"
   },
   {
    "duration": 1671,
    "start_time": "2023-02-15T16:09:26.959Z"
   },
   {
    "duration": 1626,
    "start_time": "2023-02-15T16:09:40.637Z"
   },
   {
    "duration": 1987,
    "start_time": "2023-02-15T16:10:51.751Z"
   },
   {
    "duration": 1660,
    "start_time": "2023-02-15T16:11:19.085Z"
   },
   {
    "duration": 1772,
    "start_time": "2023-02-15T16:19:26.248Z"
   },
   {
    "duration": 1484,
    "start_time": "2023-02-15T16:22:06.207Z"
   },
   {
    "duration": 1712,
    "start_time": "2023-02-15T16:22:19.039Z"
   },
   {
    "duration": 1535,
    "start_time": "2023-02-15T16:25:54.979Z"
   },
   {
    "duration": 1806,
    "start_time": "2023-02-15T16:26:36.920Z"
   },
   {
    "duration": 1581,
    "start_time": "2023-02-15T16:26:43.618Z"
   },
   {
    "duration": 202,
    "start_time": "2023-02-15T16:28:10.062Z"
   },
   {
    "duration": 200,
    "start_time": "2023-02-15T16:28:24.745Z"
   },
   {
    "duration": 32,
    "start_time": "2023-02-15T16:29:01.980Z"
   },
   {
    "duration": 332,
    "start_time": "2023-02-15T16:29:46.741Z"
   },
   {
    "duration": 1960,
    "start_time": "2023-02-15T16:35:06.660Z"
   },
   {
    "duration": 2220,
    "start_time": "2023-02-15T16:55:13.604Z"
   },
   {
    "duration": 182,
    "start_time": "2023-02-15T16:55:15.826Z"
   },
   {
    "duration": 3846,
    "start_time": "2023-02-15T16:55:16.010Z"
   },
   {
    "duration": 1826,
    "start_time": "2023-02-15T16:55:44.149Z"
   },
   {
    "duration": 1632,
    "start_time": "2023-02-15T16:57:52.859Z"
   },
   {
    "duration": 1766,
    "start_time": "2023-02-15T16:59:49.901Z"
   },
   {
    "duration": 1554,
    "start_time": "2023-02-15T17:00:28.818Z"
   },
   {
    "duration": 3171,
    "start_time": "2023-02-17T09:45:23.632Z"
   },
   {
    "duration": 180,
    "start_time": "2023-02-17T09:45:26.805Z"
   },
   {
    "duration": 3467,
    "start_time": "2023-02-17T09:45:26.987Z"
   },
   {
    "duration": 1591,
    "start_time": "2023-02-17T09:45:30.456Z"
   },
   {
    "duration": 1804,
    "start_time": "2023-02-17T09:47:53.808Z"
   },
   {
    "duration": 1553,
    "start_time": "2023-02-17T09:48:06.865Z"
   },
   {
    "duration": 1657,
    "start_time": "2023-02-17T09:49:29.814Z"
   },
   {
    "duration": 1534,
    "start_time": "2023-02-17T09:49:43.826Z"
   },
   {
    "duration": 1591,
    "start_time": "2023-02-17T09:51:02.026Z"
   },
   {
    "duration": 1557,
    "start_time": "2023-02-17T09:53:00.346Z"
   },
   {
    "duration": 1640,
    "start_time": "2023-02-17T09:53:11.256Z"
   },
   {
    "duration": 1453,
    "start_time": "2023-02-17T09:53:43.427Z"
   },
   {
    "duration": 1512,
    "start_time": "2023-02-17T09:54:04.261Z"
   },
   {
    "duration": 57,
    "start_time": "2023-02-17T09:55:08.220Z"
   },
   {
    "duration": 1690,
    "start_time": "2023-02-17T09:55:19.628Z"
   },
   {
    "duration": 1544,
    "start_time": "2023-02-17T09:56:13.903Z"
   },
   {
    "duration": 1767,
    "start_time": "2023-02-17T09:57:05.766Z"
   },
   {
    "duration": 1661,
    "start_time": "2023-02-17T09:59:16.726Z"
   },
   {
    "duration": 1636,
    "start_time": "2023-02-17T10:03:11.308Z"
   },
   {
    "duration": 1595,
    "start_time": "2023-02-17T10:04:28.133Z"
   },
   {
    "duration": 1736,
    "start_time": "2023-02-17T10:05:04.789Z"
   },
   {
    "duration": 1534,
    "start_time": "2023-02-17T10:23:10.873Z"
   },
   {
    "duration": 43,
    "start_time": "2023-02-17T10:23:41.905Z"
   },
   {
    "duration": 1576,
    "start_time": "2023-02-17T10:26:13.263Z"
   },
   {
    "duration": 1448,
    "start_time": "2023-02-17T10:26:19.800Z"
   },
   {
    "duration": 1527,
    "start_time": "2023-02-17T10:27:10.276Z"
   },
   {
    "duration": 1566,
    "start_time": "2023-02-17T10:27:13.719Z"
   },
   {
    "duration": 1500,
    "start_time": "2023-02-17T10:27:35.619Z"
   },
   {
    "duration": 1627,
    "start_time": "2023-02-17T10:30:31.005Z"
   },
   {
    "duration": 1435,
    "start_time": "2023-02-17T10:30:44.205Z"
   },
   {
    "duration": 1606,
    "start_time": "2023-02-17T10:31:44.252Z"
   },
   {
    "duration": 51,
    "start_time": "2023-02-17T10:32:02.652Z"
   },
   {
    "duration": 58,
    "start_time": "2023-02-17T10:33:05.981Z"
   },
   {
    "duration": 1416,
    "start_time": "2023-02-17T10:34:06.605Z"
   },
   {
    "duration": 1656,
    "start_time": "2023-02-17T10:34:29.285Z"
   },
   {
    "duration": 1438,
    "start_time": "2023-02-17T10:36:27.401Z"
   },
   {
    "duration": 1755,
    "start_time": "2023-02-17T10:41:26.628Z"
   },
   {
    "duration": 1682,
    "start_time": "2023-02-17T11:10:57.805Z"
   },
   {
    "duration": 50,
    "start_time": "2023-02-17T11:11:48.507Z"
   },
   {
    "duration": 72,
    "start_time": "2023-02-17T11:12:58.148Z"
   },
   {
    "duration": 1599,
    "start_time": "2023-02-17T11:13:04.124Z"
   },
   {
    "duration": 47,
    "start_time": "2023-02-17T11:13:32.739Z"
   },
   {
    "duration": 0,
    "start_time": "2023-02-17T11:20:16.243Z"
   },
   {
    "duration": 0,
    "start_time": "2023-02-17T11:20:16.245Z"
   },
   {
    "duration": 0,
    "start_time": "2023-02-17T11:20:16.247Z"
   },
   {
    "duration": 0,
    "start_time": "2023-02-17T11:20:16.250Z"
   },
   {
    "duration": 2596,
    "start_time": "2023-02-17T11:23:34.808Z"
   },
   {
    "duration": 155,
    "start_time": "2023-02-17T11:23:37.406Z"
   },
   {
    "duration": 3253,
    "start_time": "2023-02-17T11:23:37.562Z"
   },
   {
    "duration": 1441,
    "start_time": "2023-02-17T11:23:40.817Z"
   },
   {
    "duration": 0,
    "start_time": "2023-02-17T11:30:10.208Z"
   },
   {
    "duration": 2722,
    "start_time": "2023-02-17T11:32:37.690Z"
   },
   {
    "duration": 150,
    "start_time": "2023-02-17T11:32:40.414Z"
   },
   {
    "duration": 3503,
    "start_time": "2023-02-17T11:32:40.566Z"
   },
   {
    "duration": 1679,
    "start_time": "2023-02-17T11:32:44.071Z"
   },
   {
    "duration": 63,
    "start_time": "2023-02-17T11:32:45.752Z"
   },
   {
    "duration": 11,
    "start_time": "2023-02-17T11:36:40.411Z"
   },
   {
    "duration": 11,
    "start_time": "2023-02-17T11:36:47.501Z"
   },
   {
    "duration": 1906,
    "start_time": "2023-02-17T11:37:09.324Z"
   },
   {
    "duration": 2792,
    "start_time": "2023-02-17T11:40:15.212Z"
   },
   {
    "duration": 148,
    "start_time": "2023-02-17T11:40:18.006Z"
   },
   {
    "duration": 3484,
    "start_time": "2023-02-17T11:40:18.156Z"
   },
   {
    "duration": 1610,
    "start_time": "2023-02-17T11:40:21.643Z"
   },
   {
    "duration": 65,
    "start_time": "2023-02-17T11:40:23.255Z"
   },
   {
    "duration": 0,
    "start_time": "2023-02-17T11:40:23.321Z"
   },
   {
    "duration": 11,
    "start_time": "2023-02-17T11:40:40.155Z"
   },
   {
    "duration": 380,
    "start_time": "2023-02-17T11:41:35.954Z"
   },
   {
    "duration": 2801,
    "start_time": "2023-02-17T11:43:39.771Z"
   },
   {
    "duration": 170,
    "start_time": "2023-02-17T11:43:42.574Z"
   },
   {
    "duration": 3762,
    "start_time": "2023-02-17T11:43:42.746Z"
   },
   {
    "duration": 1628,
    "start_time": "2023-02-17T11:43:46.511Z"
   },
   {
    "duration": 77,
    "start_time": "2023-02-17T11:43:48.140Z"
   },
   {
    "duration": 0,
    "start_time": "2023-02-17T11:43:48.219Z"
   },
   {
    "duration": 195118,
    "start_time": "2023-02-17T11:47:11.463Z"
   },
   {
    "duration": 169,
    "start_time": "2023-02-17T12:02:07.349Z"
   },
   {
    "duration": 201,
    "start_time": "2023-02-17T12:42:49.373Z"
   },
   {
    "duration": 195,
    "start_time": "2023-02-17T12:46:28.835Z"
   },
   {
    "duration": 460,
    "start_time": "2023-02-17T12:48:08.841Z"
   },
   {
    "duration": 3043,
    "start_time": "2023-02-17T12:50:24.381Z"
   },
   {
    "duration": 150,
    "start_time": "2023-02-17T12:50:27.426Z"
   },
   {
    "duration": 3655,
    "start_time": "2023-02-17T12:50:27.578Z"
   },
   {
    "duration": 1620,
    "start_time": "2023-02-17T12:50:31.235Z"
   },
   {
    "duration": 68,
    "start_time": "2023-02-17T12:50:32.857Z"
   },
   {
    "duration": 0,
    "start_time": "2023-02-17T12:50:32.926Z"
   },
   {
    "duration": 2518,
    "start_time": "2023-02-17T13:42:09.398Z"
   },
   {
    "duration": 141,
    "start_time": "2023-02-17T13:42:11.919Z"
   },
   {
    "duration": 3232,
    "start_time": "2023-02-17T13:42:12.062Z"
   },
   {
    "duration": 1514,
    "start_time": "2023-02-17T13:42:15.296Z"
   },
   {
    "duration": 58,
    "start_time": "2023-02-17T13:42:16.812Z"
   },
   {
    "duration": 0,
    "start_time": "2023-02-17T13:42:16.871Z"
   },
   {
    "duration": 970,
    "start_time": "2023-02-17T13:53:48.240Z"
   },
   {
    "duration": 62,
    "start_time": "2023-02-17T13:54:38.864Z"
   },
   {
    "duration": 597,
    "start_time": "2023-02-17T14:08:01.228Z"
   },
   {
    "duration": 16,
    "start_time": "2023-02-17T14:08:14.076Z"
   },
   {
    "duration": 234,
    "start_time": "2023-02-17T14:08:26.725Z"
   },
   {
    "duration": 246,
    "start_time": "2023-02-17T14:09:26.479Z"
   },
   {
    "duration": 436,
    "start_time": "2023-02-17T14:09:43.491Z"
   },
   {
    "duration": 15,
    "start_time": "2023-02-17T14:43:48.338Z"
   },
   {
    "duration": 192,
    "start_time": "2023-02-17T14:44:06.906Z"
   },
   {
    "duration": 217,
    "start_time": "2023-02-17T14:45:34.065Z"
   },
   {
    "duration": 247,
    "start_time": "2023-02-17T14:46:06.906Z"
   },
   {
    "duration": 196,
    "start_time": "2023-02-17T14:47:11.905Z"
   },
   {
    "duration": 207,
    "start_time": "2023-02-17T14:51:13.384Z"
   },
   {
    "duration": 201,
    "start_time": "2023-02-17T14:51:26.705Z"
   },
   {
    "duration": 18,
    "start_time": "2023-02-17T14:51:50.223Z"
   },
   {
    "duration": 211,
    "start_time": "2023-02-17T14:51:56.048Z"
   },
   {
    "duration": 205,
    "start_time": "2023-02-17T14:52:08.151Z"
   },
   {
    "duration": 201,
    "start_time": "2023-02-17T14:55:20.846Z"
   },
   {
    "duration": 753,
    "start_time": "2023-02-17T14:56:52.293Z"
   },
   {
    "duration": 802,
    "start_time": "2023-02-17T14:58:32.248Z"
   },
   {
    "duration": 1773,
    "start_time": "2023-02-17T15:02:58.895Z"
   },
   {
    "duration": 958,
    "start_time": "2023-02-17T15:03:17.647Z"
   },
   {
    "duration": 181,
    "start_time": "2023-02-17T15:03:53.519Z"
   },
   {
    "duration": 800,
    "start_time": "2023-02-17T15:04:16.886Z"
   },
   {
    "duration": 253,
    "start_time": "2023-02-17T15:06:48.395Z"
   },
   {
    "duration": 197,
    "start_time": "2023-02-17T15:07:25.278Z"
   },
   {
    "duration": 170,
    "start_time": "2023-02-17T15:07:41.628Z"
   },
   {
    "duration": 264,
    "start_time": "2023-02-17T15:07:53.577Z"
   },
   {
    "duration": 187,
    "start_time": "2023-02-17T15:08:26.365Z"
   },
   {
    "duration": 2743,
    "start_time": "2023-02-20T07:36:23.977Z"
   },
   {
    "duration": 137,
    "start_time": "2023-02-20T07:36:26.722Z"
   },
   {
    "duration": 3162,
    "start_time": "2023-02-20T07:36:26.860Z"
   },
   {
    "duration": 1497,
    "start_time": "2023-02-20T07:36:30.024Z"
   },
   {
    "duration": 76,
    "start_time": "2023-02-20T07:36:31.523Z"
   },
   {
    "duration": 0,
    "start_time": "2023-02-20T07:36:31.601Z"
   },
   {
    "duration": 170,
    "start_time": "2023-02-20T07:37:02.159Z"
   },
   {
    "duration": 403,
    "start_time": "2023-02-20T08:29:36.037Z"
   },
   {
    "duration": 95,
    "start_time": "2023-02-21T06:03:24.833Z"
   },
   {
    "duration": 73,
    "start_time": "2023-02-21T06:03:43.298Z"
   },
   {
    "duration": 3076,
    "start_time": "2023-02-21T06:03:54.778Z"
   },
   {
    "duration": 78,
    "start_time": "2023-02-21T06:03:57.857Z"
   },
   {
    "duration": 0,
    "start_time": "2023-02-21T06:03:57.936Z"
   },
   {
    "duration": 0,
    "start_time": "2023-02-21T06:03:57.937Z"
   },
   {
    "duration": 0,
    "start_time": "2023-02-21T06:03:57.938Z"
   },
   {
    "duration": 93,
    "start_time": "2023-02-21T06:05:23.995Z"
   },
   {
    "duration": 2002,
    "start_time": "2023-02-21T06:05:43.428Z"
   },
   {
    "duration": 74,
    "start_time": "2023-02-21T06:05:45.432Z"
   },
   {
    "duration": 0,
    "start_time": "2023-02-21T06:05:45.507Z"
   },
   {
    "duration": 0,
    "start_time": "2023-02-21T06:05:45.509Z"
   },
   {
    "duration": 0,
    "start_time": "2023-02-21T06:05:45.510Z"
   },
   {
    "duration": 90,
    "start_time": "2023-02-21T06:06:11.650Z"
   },
   {
    "duration": 2085,
    "start_time": "2023-02-21T06:07:03.475Z"
   },
   {
    "duration": 98,
    "start_time": "2023-02-21T06:07:05.562Z"
   },
   {
    "duration": 0,
    "start_time": "2023-02-21T06:07:05.661Z"
   },
   {
    "duration": 0,
    "start_time": "2023-02-21T06:07:05.663Z"
   },
   {
    "duration": 0,
    "start_time": "2023-02-21T06:07:05.664Z"
   },
   {
    "duration": 152,
    "start_time": "2023-02-21T06:08:02.170Z"
   },
   {
    "duration": 151,
    "start_time": "2023-02-21T06:08:28.548Z"
   },
   {
    "duration": 142,
    "start_time": "2023-02-21T06:08:50.323Z"
   },
   {
    "duration": 179,
    "start_time": "2023-02-21T06:09:43.428Z"
   },
   {
    "duration": 169,
    "start_time": "2023-02-21T06:11:33.443Z"
   },
   {
    "duration": 162,
    "start_time": "2023-02-21T06:24:16.474Z"
   },
   {
    "duration": 162,
    "start_time": "2023-02-21T06:28:42.376Z"
   },
   {
    "duration": 152,
    "start_time": "2023-02-21T06:30:39.287Z"
   },
   {
    "duration": 277,
    "start_time": "2023-02-21T06:31:04.054Z"
   },
   {
    "duration": 1950,
    "start_time": "2023-02-21T07:03:14.958Z"
   },
   {
    "duration": 161,
    "start_time": "2023-02-21T07:03:16.909Z"
   },
   {
    "duration": 3418,
    "start_time": "2023-02-21T07:03:17.072Z"
   },
   {
    "duration": 1509,
    "start_time": "2023-02-21T07:03:20.492Z"
   },
   {
    "duration": 199,
    "start_time": "2023-02-21T07:03:22.003Z"
   },
   {
    "duration": 476,
    "start_time": "2023-02-21T07:17:16.478Z"
   },
   {
    "duration": 185,
    "start_time": "2023-02-21T07:17:30.419Z"
   },
   {
    "duration": 152,
    "start_time": "2023-02-21T07:20:04.070Z"
   },
   {
    "duration": 156,
    "start_time": "2023-02-21T07:20:13.979Z"
   },
   {
    "duration": 171,
    "start_time": "2023-02-21T07:20:56.826Z"
   },
   {
    "duration": 191,
    "start_time": "2023-02-21T07:34:01.031Z"
   },
   {
    "duration": 151,
    "start_time": "2023-02-21T07:34:42.923Z"
   },
   {
    "duration": 2124,
    "start_time": "2023-02-21T07:35:01.003Z"
   },
   {
    "duration": 148,
    "start_time": "2023-02-21T07:35:03.129Z"
   },
   {
    "duration": 3444,
    "start_time": "2023-02-21T07:35:03.279Z"
   },
   {
    "duration": 1585,
    "start_time": "2023-02-21T07:35:06.725Z"
   },
   {
    "duration": 488,
    "start_time": "2023-02-21T07:35:08.311Z"
   },
   {
    "duration": 159,
    "start_time": "2023-02-21T07:36:10.109Z"
   },
   {
    "duration": 156,
    "start_time": "2023-02-21T07:39:48.391Z"
   },
   {
    "duration": 164,
    "start_time": "2023-02-21T07:41:11.570Z"
   },
   {
    "duration": 77,
    "start_time": "2023-02-21T07:58:50.893Z"
   },
   {
    "duration": 248,
    "start_time": "2023-02-21T07:59:03.710Z"
   },
   {
    "duration": 306,
    "start_time": "2023-02-21T08:00:09.447Z"
   },
   {
    "duration": 260,
    "start_time": "2023-02-21T08:00:36.927Z"
   },
   {
    "duration": 242,
    "start_time": "2023-02-21T08:01:20.552Z"
   },
   {
    "duration": 239,
    "start_time": "2023-02-21T08:01:28.510Z"
   },
   {
    "duration": 1648,
    "start_time": "2023-02-21T08:18:30.123Z"
   },
   {
    "duration": 1462,
    "start_time": "2023-02-21T08:21:26.707Z"
   },
   {
    "duration": 23,
    "start_time": "2023-02-21T08:21:55.048Z"
   },
   {
    "duration": 14,
    "start_time": "2023-02-21T08:22:28.337Z"
   },
   {
    "duration": 1838,
    "start_time": "2023-02-21T08:22:33.487Z"
   },
   {
    "duration": 374,
    "start_time": "2023-02-21T08:22:35.327Z"
   },
   {
    "duration": 3469,
    "start_time": "2023-02-21T08:22:35.702Z"
   },
   {
    "duration": 1427,
    "start_time": "2023-02-21T08:22:39.173Z"
   },
   {
    "duration": 191,
    "start_time": "2023-02-21T08:22:40.601Z"
   },
   {
    "duration": 2054,
    "start_time": "2023-02-21T08:29:46.280Z"
   },
   {
    "duration": 2977,
    "start_time": "2023-02-21T09:02:57.410Z"
   },
   {
    "duration": 2410,
    "start_time": "2023-02-21T09:03:25.330Z"
   },
   {
    "duration": 2274,
    "start_time": "2023-02-21T09:12:08.444Z"
   },
   {
    "duration": 2251,
    "start_time": "2023-02-21T09:13:08.933Z"
   },
   {
    "duration": 1943,
    "start_time": "2023-02-21T09:14:33.287Z"
   },
   {
    "duration": 2185,
    "start_time": "2023-02-21T09:14:48.086Z"
   },
   {
    "duration": 2568,
    "start_time": "2023-02-21T09:14:56.503Z"
   },
   {
    "duration": 3478,
    "start_time": "2023-02-21T19:43:52.811Z"
   },
   {
    "duration": 167,
    "start_time": "2023-02-21T19:43:56.291Z"
   },
   {
    "duration": 7,
    "start_time": "2023-02-21T19:44:30.405Z"
   },
   {
    "duration": 57,
    "start_time": "2023-02-21T19:45:10.846Z"
   },
   {
    "duration": 2137,
    "start_time": "2023-02-21T19:45:28.269Z"
   },
   {
    "duration": 5,
    "start_time": "2023-02-21T19:45:30.701Z"
   },
   {
    "duration": 15,
    "start_time": "2023-02-21T19:46:48.782Z"
   },
   {
    "duration": 153,
    "start_time": "2023-02-21T19:46:53.385Z"
   },
   {
    "duration": 49,
    "start_time": "2023-02-23T07:51:17.269Z"
   },
   {
    "duration": 2912,
    "start_time": "2023-02-23T07:51:31.564Z"
   },
   {
    "duration": 6,
    "start_time": "2023-02-23T07:51:34.478Z"
   },
   {
    "duration": 23,
    "start_time": "2023-02-23T07:51:34.485Z"
   },
   {
    "duration": 144,
    "start_time": "2023-02-23T07:51:34.509Z"
   },
   {
    "duration": 3303,
    "start_time": "2023-02-23T07:51:34.654Z"
   },
   {
    "duration": 2030,
    "start_time": "2023-02-23T07:51:37.959Z"
   },
   {
    "duration": 364,
    "start_time": "2023-02-23T07:51:39.991Z"
   },
   {
    "duration": 6222,
    "start_time": "2023-08-03T10:52:14.462Z"
   },
   {
    "duration": 22,
    "start_time": "2023-08-03T10:52:20.688Z"
   },
   {
    "duration": 51,
    "start_time": "2023-08-03T10:52:20.713Z"
   },
   {
    "duration": 218,
    "start_time": "2023-08-03T10:52:20.766Z"
   },
   {
    "duration": 3862,
    "start_time": "2023-08-03T10:52:20.986Z"
   },
   {
    "duration": 2508,
    "start_time": "2023-08-03T10:52:24.851Z"
   },
   {
    "duration": 255,
    "start_time": "2023-08-03T10:52:27.361Z"
   }
  ],
  "kernelspec": {
   "display_name": "Python 3 (ipykernel)",
   "language": "python",
   "name": "python3"
  },
  "language_info": {
   "codemirror_mode": {
    "name": "ipython",
    "version": 3
   },
   "file_extension": ".py",
   "mimetype": "text/x-python",
   "name": "python",
   "nbconvert_exporter": "python",
   "pygments_lexer": "ipython3",
   "version": "3.9.5"
  },
  "toc": {
   "base_numbering": 1,
   "nav_menu": {},
   "number_sections": true,
   "sideBar": true,
   "skip_h1_title": true,
   "title_cell": "Table of Contents",
   "title_sidebar": "Contents",
   "toc_cell": false,
   "toc_position": {},
   "toc_section_display": true,
   "toc_window_display": false
  }
 },
 "nbformat": 4,
 "nbformat_minor": 2
}
