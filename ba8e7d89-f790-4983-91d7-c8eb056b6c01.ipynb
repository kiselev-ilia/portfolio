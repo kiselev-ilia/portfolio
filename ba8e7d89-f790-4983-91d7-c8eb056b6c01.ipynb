{
 "cells": [
  {
   "cell_type": "markdown",
   "metadata": {},
   "source": [
    "Привет, меня зовут Артем. Сегодня я проверю твой проект.\n",
    "<br> Дальнейшее общение будет происходить на \"ты\" если это не вызывает никаких проблем.\n",
    "<br> Желательно реагировать на каждый мой комментарий ('исправил', 'не понятно как исправить ошибку', ...)\n",
    "<br> Пожалуйста, не удаляй комментарии ревьюера, так как они повышают качество повторного ревью.\n",
    "\n",
    "Комментарии будут в <font color='green'>зеленой</font>, <font color='blue'>синей</font> или <font color='red'>красной</font> рамках:\n",
    "\n",
    "<div class=\"alert alert-block alert-success\">\n",
    "<b>Успех:</b> Если все сделано отлично\n",
    "</div>\n",
    "\n",
    "<div class=\"alert alert-block alert-info\">\n",
    "<b>Совет: </b> Если можно немного улучшить\n",
    "</div>\n",
    "\n",
    "<div class=\"alert alert-block alert-danger\">\n",
    "<b>Ошибка:</b> Если требуются исправления. Работа не может быть принята с красными комментариями.\n",
    "</div>\n",
    "\n",
    "-------------------\n",
    "\n",
    "Будет очень хорошо, если ты будешь помечать свои действия следующим образом:\n",
    "<div class=\"alert alert-block alert-warning\">\n",
    "<b>Комментарий студента:</b> ...\n",
    "</div>\n",
    "\n",
    "<div class=\"alert alert-block alert-warning\">\n",
    "<b>Изменения:</b> Были внесены следующие изменения ...\n",
    "</div>\n",
    "\n",
    "<font color='green'><b>Полезные (и просто интересные) материалы:</b></font> \\\n",
    "Для работы с текстами используют и другие подходы. Например, сейчас активно используются RNN (LSTM) и трансформеры (BERT и другие с улицы Сезам, например, ELMO). НО! Они не являются панацеей, не всегда они нужны, так как и TF-IDF или Word2Vec + модели из классического ML тоже могут справляться. \\\n",
    "BERT тяжелый, существует много его вариаций для разных задач, есть готовые модели, есть надстройки над библиотекой transformers. Если, обучать BERT на GPU (можно в Google Colab или Kaggle), то должно быть побыстрее.\\\n",
    "https://huggingface.co/transformers/model_doc/bert.html \\\n",
    "https://t.me/renat_alimbekov \\\n",
    "https://colah.github.io/posts/2015-08-Understanding-LSTMs/ - Про LSTM \\\n",
    "https://web.stanford.edu/~jurafsky/slp3/10.pdf - про энкодер-декодер модели, этеншены\\\n",
    "https://pytorch.org/tutorials/beginner/transformer_tutorial.html - официальный гайд\n",
    "по трансформеру от создателей pytorch\\\n",
    "https://transformer.huggingface.co/ - поболтать с трансформером \\\n",
    "Библиотеки: allennlp, fairseq, transformers, tensorflow-text — множествореализованных\n",
    "методов для трансформеров методов NLP \\\n",
    "Word2Vec https://radimrehurek.com/gensim/models/word2vec.html \n",
    "\n",
    "<font color='green'>Пример BERT с GPU:\n",
    "```python\n",
    "%%time\n",
    "from tqdm import notebook\n",
    "batch_size = 2 # для примера возьмем такой батч, где будет всего две строки датасета\n",
    "embeddings = [] \n",
    "for i in notebook.tqdm(range(input_ids.shape[0] // batch_size)):\n",
    "        batch = torch.LongTensor(input_ids[batch_size*i:batch_size*(i+1)]).cuda() # закидываем тензор на GPU\n",
    "        attention_mask_batch = torch.LongTensor(attention_mask[batch_size*i:batch_size*(i+1)]).cuda()\n",
    "        \n",
    "        with torch.no_grad():\n",
    "            model.cuda()\n",
    "            batch_embeddings = model(batch, attention_mask=attention_mask_batch)\n",
    "        \n",
    "        embeddings.append(batch_embeddings[0][:,0,:].cpu().numpy()) # перевод обратно на проц, чтобы в нумпай кинуть\n",
    "        del batch\n",
    "        del attention_mask_batch\n",
    "        del batch_embeddings\n",
    "        \n",
    "features = np.concatenate(embeddings) \n",
    "```\n",
    "Можно сделать предварительную проверку на наличие GPU.\\\n",
    "Например, так: ```device = torch.device(\"cuda:0\") if torch.cuda.is_available() else torch.device(\"cpu\")```\\\n",
    "Тогда вместо .cuda() нужно писать .to(device)\n",
    "\n",
    "Если понравилась работа с текстами, то можешь посмотреть очень интересный (но очень-очень сложный) курс лекций: https://github.com/yandexdataschool/nlp_course .\n",
    "</font>\n",
    "\n",
    "### <font color='orange'>Общее впечатление</font>\n",
    "* Большое спасибо за проделанную работу. Видно, что приложено много усилий.\n",
    "* Радует, что ноутбук хорошо структурирован. Приятно проверять такие работы.\n",
    "* Отлично, что стоп-слова были исключены при векторизации!\n",
    "* Над этим проектом нужно будет еще немного поработать. Однако, изменения не должны занять много времени.\n",
    "* С радостью отвечу на твои вопросы, если они есть. Лучше всего их собрать в следующей ячейке. Жду новую версию проекта."
   ]
  },
  {
   "cell_type": "markdown",
   "metadata": {},
   "source": [
    "### <font color='orange'>Общее впечатление (ревью 2)</font>\n",
    "* Для удобства все новые комментарии обозначены фразой \"ревью 2\".\n",
    "* Удачи в доработке!"
   ]
  },
  {
   "cell_type": "markdown",
   "metadata": {},
   "source": [
    "### <font color='orange'>Общее впечатление (ревью 3)</font>\n",
    "* После исправлений проект улучшился и теперь он может быть зачтен.\n",
    "* Удачи в дальнейшем обучении и следующих работах!"
   ]
  },
  {
   "cell_type": "markdown",
   "metadata": {
    "toc": true
   },
   "source": [
    "<h1>Содержание<span class=\"tocSkip\"></span></h1>\n",
    "<div class=\"toc\"><ul class=\"toc-item\"><li><ul class=\"toc-item\"><li><span><a href=\"#Общее-впечатление\" data-toc-modified-id=\"Общее-впечатление-0.1\"><span class=\"toc-item-num\">0.1&nbsp;&nbsp;</span><font color=\"orange\">Общее впечатление</font></a></span></li><li><span><a href=\"#Общее-впечатление-(ревью-2)\" data-toc-modified-id=\"Общее-впечатление-(ревью-2)-0.2\"><span class=\"toc-item-num\">0.2&nbsp;&nbsp;</span><font color=\"orange\">Общее впечатление (ревью 2)</font></a></span></li><li><span><a href=\"#Общее-впечатление-(ревью-3)\" data-toc-modified-id=\"Общее-впечатление-(ревью-3)-0.3\"><span class=\"toc-item-num\">0.3&nbsp;&nbsp;</span><font color=\"orange\">Общее впечатление (ревью 3)</font></a></span></li></ul></li><li><span><a href=\"#Подготовка\" data-toc-modified-id=\"Подготовка-1\"><span class=\"toc-item-num\">1&nbsp;&nbsp;</span>Подготовка</a></span></li><li><span><a href=\"#Обучение\" data-toc-modified-id=\"Обучение-2\"><span class=\"toc-item-num\">2&nbsp;&nbsp;</span>Обучение</a></span></li><li><span><a href=\"#Выводы\" data-toc-modified-id=\"Выводы-3\"><span class=\"toc-item-num\">3&nbsp;&nbsp;</span>Выводы</a></span></li><li><span><a href=\"#Чек-лист-проверки\" data-toc-modified-id=\"Чек-лист-проверки-4\"><span class=\"toc-item-num\">4&nbsp;&nbsp;</span>Чек-лист проверки</a></span></li></ul></div>"
   ]
  },
  {
   "cell_type": "markdown",
   "metadata": {},
   "source": [
    "# Проект для «Викишоп»"
   ]
  },
  {
   "cell_type": "markdown",
   "metadata": {},
   "source": [
    "Интернет-магазин «Викишоп» запускает новый сервис. Теперь пользователи могут редактировать и дополнять описания товаров, как в вики-сообществах. То есть клиенты предлагают свои правки и комментируют изменения других. Магазину нужен инструмент, который будет искать токсичные комментарии и отправлять их на модерацию. \n",
    "\n",
    "Обучите модель классифицировать комментарии на позитивные и негативные. В вашем распоряжении набор данных с разметкой о токсичности правок.\n",
    "\n",
    "Постройте модель со значением метрики качества *F1* не меньше 0.75. \n",
    "\n",
    "**Инструкция по выполнению проекта**\n",
    "\n",
    "1. Загрузите и подготовьте данные.\n",
    "2. Обучите разные модели. \n",
    "3. Сделайте выводы.\n",
    "\n",
    "Для выполнения проекта применять *BERT* необязательно, но вы можете попробовать.\n",
    "\n",
    "**Описание данных**\n",
    "\n",
    "Данные находятся в файле `toxic_comments.csv`. Столбец *text* в нём содержит текст комментария, а *toxic* — целевой признак."
   ]
  },
  {
   "cell_type": "markdown",
   "metadata": {},
   "source": [
    "## Подготовка"
   ]
  },
  {
   "cell_type": "code",
   "execution_count": 1,
   "metadata": {},
   "outputs": [],
   "source": [
    "import numpy as np\n",
    "import pandas as pd\n",
    "import re\n",
    "import nltk\n",
    "from nltk.stem import WordNetLemmatizer\n",
    "from nltk.corpus import stopwords as nltk_stopwords\n",
    "from sklearn.feature_extraction.text import TfidfVectorizer\n",
    "from sklearn.model_selection import train_test_split, cross_val_score, GridSearchCV\n",
    "from sklearn.linear_model import LogisticRegression, SGDClassifier\n",
    "from sklearn.tree import DecisionTreeClassifier\n",
    "from catboost import CatBoostClassifier\n",
    "from sklearn.metrics import f1_score, precision_score, recall_score, accuracy_score, roc_auc_score, roc_curve\n",
    "from sklearn.utils import shuffle\n",
    "import matplotlib.pyplot as plt\n",
    "import warnings\n",
    "warnings.filterwarnings('ignore')"
   ]
  },
  {
   "cell_type": "markdown",
   "metadata": {},
   "source": [
    "<div class=\"alert alert-block alert-success\">\n",
    "<b>Успех:</b> Отлично, что все импорты собраны в первой ячейке ноутбука! Если у того, кто будет запускать твой ноутбук будут отсутствовать некоторые библиотеки, то он это увидит сразу, а не в процессе!\n",
    "</div>"
   ]
  },
  {
   "cell_type": "code",
   "execution_count": 2,
   "metadata": {},
   "outputs": [
    {
     "name": "stdout",
     "output_type": "stream",
     "text": [
      "<class 'pandas.core.frame.DataFrame'>\n",
      "RangeIndex: 159292 entries, 0 to 159291\n",
      "Data columns (total 3 columns):\n",
      " #   Column      Non-Null Count   Dtype \n",
      "---  ------      --------------   ----- \n",
      " 0   Unnamed: 0  159292 non-null  int64 \n",
      " 1   text        159292 non-null  object\n",
      " 2   toxic       159292 non-null  int64 \n",
      "dtypes: int64(2), object(1)\n",
      "memory usage: 3.6+ MB\n"
     ]
    }
   ],
   "source": [
    "toxic_comments = pd.read_csv('/datasets/toxic_comments.csv')\n",
    "toxic_comments.info()"
   ]
  },
  {
   "cell_type": "code",
   "execution_count": 3,
   "metadata": {},
   "outputs": [
    {
     "data": {
      "text/html": [
       "<div>\n",
       "<style scoped>\n",
       "    .dataframe tbody tr th:only-of-type {\n",
       "        vertical-align: middle;\n",
       "    }\n",
       "\n",
       "    .dataframe tbody tr th {\n",
       "        vertical-align: top;\n",
       "    }\n",
       "\n",
       "    .dataframe thead th {\n",
       "        text-align: right;\n",
       "    }\n",
       "</style>\n",
       "<table border=\"1\" class=\"dataframe\">\n",
       "  <thead>\n",
       "    <tr style=\"text-align: right;\">\n",
       "      <th></th>\n",
       "      <th>Unnamed: 0</th>\n",
       "      <th>text</th>\n",
       "      <th>toxic</th>\n",
       "    </tr>\n",
       "  </thead>\n",
       "  <tbody>\n",
       "    <tr>\n",
       "      <th>0</th>\n",
       "      <td>0</td>\n",
       "      <td>Explanation\\nWhy the edits made under my usern...</td>\n",
       "      <td>0</td>\n",
       "    </tr>\n",
       "    <tr>\n",
       "      <th>1</th>\n",
       "      <td>1</td>\n",
       "      <td>D'aww! He matches this background colour I'm s...</td>\n",
       "      <td>0</td>\n",
       "    </tr>\n",
       "    <tr>\n",
       "      <th>2</th>\n",
       "      <td>2</td>\n",
       "      <td>Hey man, I'm really not trying to edit war. It...</td>\n",
       "      <td>0</td>\n",
       "    </tr>\n",
       "    <tr>\n",
       "      <th>3</th>\n",
       "      <td>3</td>\n",
       "      <td>\"\\nMore\\nI can't make any real suggestions on ...</td>\n",
       "      <td>0</td>\n",
       "    </tr>\n",
       "    <tr>\n",
       "      <th>4</th>\n",
       "      <td>4</td>\n",
       "      <td>You, sir, are my hero. Any chance you remember...</td>\n",
       "      <td>0</td>\n",
       "    </tr>\n",
       "  </tbody>\n",
       "</table>\n",
       "</div>"
      ],
      "text/plain": [
       "   Unnamed: 0                                               text  toxic\n",
       "0           0  Explanation\\nWhy the edits made under my usern...      0\n",
       "1           1  D'aww! He matches this background colour I'm s...      0\n",
       "2           2  Hey man, I'm really not trying to edit war. It...      0\n",
       "3           3  \"\\nMore\\nI can't make any real suggestions on ...      0\n",
       "4           4  You, sir, are my hero. Any chance you remember...      0"
      ]
     },
     "execution_count": 3,
     "metadata": {},
     "output_type": "execute_result"
    }
   ],
   "source": [
    "toxic_comments.head()"
   ]
  },
  {
   "cell_type": "code",
   "execution_count": 4,
   "metadata": {},
   "outputs": [
    {
     "data": {
      "text/plain": [
       "0    143106\n",
       "1     16186\n",
       "Name: toxic, dtype: int64"
      ]
     },
     "metadata": {},
     "output_type": "display_data"
    },
    {
     "data": {
      "text/plain": [
       "8.841344371679229"
      ]
     },
     "execution_count": 4,
     "metadata": {},
     "output_type": "execute_result"
    }
   ],
   "source": [
    "display(toxic_comments['toxic'].value_counts()) # Посмотрим сколько у нас токсичных/нектоксичных комментов\n",
    "class_ratio = toxic_comments['toxic'].value_counts()[0] / toxic_comments['toxic'].value_counts()[1] # Выведем соотношение\n",
    "class_ratio"
   ]
  },
  {
   "cell_type": "markdown",
   "metadata": {},
   "source": [
    "<div class=\"alert alert-block alert-success\">\n",
    "<b>Успех:</b> Данные загружены корреткно. Радует, что баланс классов был изучен.\n",
    "</div>"
   ]
  },
  {
   "cell_type": "markdown",
   "metadata": {},
   "source": [
    "Сбалансируем классы, применим несколько способов балансировки!"
   ]
  },
  {
   "cell_type": "code",
   "execution_count": 5,
   "metadata": {},
   "outputs": [],
   "source": [
    "from nltk.corpus import wordnet\n",
    "#import nltk\n",
    "#nltk.download('averaged_perceptron_tagger')\n",
    "from nltk.corpus import stopwords\n",
    "\n",
    "def get_wordnet_pos(word):\n",
    "    tag = nltk.pos_tag([word])[0][1][0].upper()\n",
    "    tag_dict = {\"J\": wordnet.ADJ,\n",
    "                \"N\": wordnet.NOUN,\n",
    "                \"V\": wordnet.VERB,\n",
    "                \"R\": wordnet.ADV}\n",
    "    return tag_dict.get(tag, wordnet.NOUN)\n",
    "\n",
    "lemmatizer = WordNetLemmatizer()\n",
    "\n",
    "\n",
    "stop_words = set(stopwords.words('english'))\n",
    "\n",
    "def clear_text(text):\n",
    "    text = text.lower()\n",
    "    text = re.sub(r'[^a-zA-Z]', ' ', text)\n",
    "    token = nltk.word_tokenize(text)\n",
    "    text = [word for word in token if word not in stop_words]\n",
    "    text = [lemmatizer.lemmatize(word, get_wordnet_pos(word)) for word in text]\n",
    "    text = ' '.join(text)\n",
    "    return text\n",
    "\n",
    "toxic_comments['lemm_text'] = toxic_comments['text'].apply(clear_text)\n",
    "\n",
    "toxic_comments = toxic_comments.drop(['text'], axis=1)"
   ]
  },
  {
   "cell_type": "markdown",
   "metadata": {},
   "source": [
    "<div class=\"alert alert-block alert-success\">\n",
    "<b>Успех:</b> Очистка была сделана верно.\n",
    "</div>\n",
    "\n",
    "<div class=\"alert alert-block alert-danger\">\n",
    "\n",
    "<b>Ошибка:</b> WordNetLemmatizer лемматизатор нужно применять с соответствующим POS-тегом. Этот процесс подробно описан в абзаце \"Wordnet Lemmatizer с соответствующим POS-тегом\" в статье: https://webdevblog.ru/podhody-lemmatizacii-s-primerami-v-python/\n",
    "</div>"
   ]
  },
  {
   "cell_type": "markdown",
   "metadata": {},
   "source": [
    "<div class=\"alert alert-block alert-danger\">\n",
    "\n",
    "<b>Ошибка (ревью 2):</b> Ошибка не исправлена, так как ты не использовал `get_wordnet_pos`.\n",
    "</div>"
   ]
  },
  {
   "cell_type": "markdown",
   "metadata": {},
   "source": [
    "<div class=\"alert alert-block alert-success\">\n",
    "<b>Успех (ревью 3):</b> ОК.\n",
    "</div>"
   ]
  },
  {
   "cell_type": "markdown",
   "metadata": {},
   "source": [
    "Создадим признаки, разобьём на выборки"
   ]
  },
  {
   "cell_type": "code",
   "execution_count": 6,
   "metadata": {},
   "outputs": [],
   "source": [
    "target = toxic_comments['toxic']\n",
    "features = toxic_comments.drop(['toxic'], axis=1)\n",
    "\n",
    "features_train, features_valid, target_train, target_valid = train_test_split(features, \n",
    "                                                                              target, \n",
    "                                                                              test_size=0.5, \n",
    "                                                                              random_state=1515)\n",
    "features_valid, features_test, target_valid, target_test = train_test_split(features_valid, \n",
    "                                                                            target_valid, \n",
    "                                                                            test_size=0.5,\n",
    "                                                                            random_state=1515)"
   ]
  },
  {
   "cell_type": "markdown",
   "metadata": {},
   "source": [
    "Уменьшим количество кроссвалидаций до 3 из-за размера выборки."
   ]
  },
  {
   "cell_type": "code",
   "execution_count": 7,
   "metadata": {},
   "outputs": [
    {
     "name": "stderr",
     "output_type": "stream",
     "text": [
      "[nltk_data] Downloading package stopwords to /home/jovyan/nltk_data...\n",
      "[nltk_data]   Package stopwords is already up-to-date!\n"
     ]
    },
    {
     "name": "stdout",
     "output_type": "stream",
     "text": [
      "(79646, 99708)\n",
      "(39823, 99708)\n",
      "(39823, 99708)\n"
     ]
    }
   ],
   "source": [
    "nltk.download('stopwords')\n",
    "stopwords = set(nltk_stopwords.words('english'))\n",
    "\n",
    "count_tf_idf = TfidfVectorizer(stop_words=stopwords)\n",
    "\n",
    "features_train = count_tf_idf.fit_transform(features_train['lemm_text'])\n",
    "features_valid = count_tf_idf.transform(features_valid['lemm_text'])\n",
    "features_test = count_tf_idf.transform(features_test['lemm_text'])\n",
    "print(features_train.shape)\n",
    "print(features_valid.shape)\n",
    "print(features_test.shape)\n",
    "cv_counts = 2"
   ]
  },
  {
   "cell_type": "markdown",
   "metadata": {},
   "source": [
    "<div class=\"alert alert-block alert-success\">\n",
    "<b>Успех:</b> Разбиение было сделано верно. Отлично, что векторизатор был обучен только на тренировочной части данных.\n",
    "</div>\n",
    "\n",
    "<div class=\"alert alert-block alert-danger\">\n",
    "<b>Ошибка:</b> Приводить тексты к юникоду не имеет смысла, так как они все на английском. Это может привести к падению ядра из-за увеличения объема занимаемой памяти.\n",
    "</div>"
   ]
  },
  {
   "cell_type": "markdown",
   "metadata": {},
   "source": [
    "<div class=\"alert alert-block alert-success\">\n",
    "<b>Успех (ревью 2):</b> Тут все ОК.\n",
    "</div>"
   ]
  },
  {
   "cell_type": "code",
   "execution_count": 8,
   "metadata": {},
   "outputs": [
    {
     "name": "stdout",
     "output_type": "stream",
     "text": [
      "F1 на CV 0.6511601460560219\n"
     ]
    }
   ],
   "source": [
    "classificator = LogisticRegression()\n",
    "train_f1 = cross_val_score(classificator, \n",
    "                      features_train, \n",
    "                      target_train, \n",
    "                      cv=cv_counts, \n",
    "                      scoring='f1').mean()\n",
    "print('F1 на CV', train_f1)"
   ]
  },
  {
   "cell_type": "markdown",
   "metadata": {},
   "source": [
    "<div class=\"alert alert-block alert-info\">\n",
    "<b>Совет: </b> Напомню, что внутри кросс-валидации происходит разбиение выборки на треин и валидацию. Однако, в таком случае векторизатор обучен на всей выборке, а это не совсем корректно. Для избежания такого эффекта можно использовать <a href=\"https://scikit-learn.org/stable/modules/generated/sklearn.pipeline.Pipeline.html\">пайплайн</a> из векторизатора и модели. <a href=\"https://medium.com/analytics-vidhya/ml-pipelines-using-scikit-learn-and-gridsearchcv-fe605a7f9e05\">Тут</a> есть пример.\n",
    "</div>"
   ]
  },
  {
   "cell_type": "markdown",
   "metadata": {},
   "source": [
    "Уменьшаем размер всеса классов"
   ]
  },
  {
   "cell_type": "code",
   "execution_count": 9,
   "metadata": {},
   "outputs": [
    {
     "name": "stdout",
     "output_type": "stream",
     "text": [
      "F1 на CV с балансированными классами 0.7451238853877972\n"
     ]
    }
   ],
   "source": [
    "dict_classes={0:1, 1:class_ratio}\n",
    "classificator = LogisticRegression(class_weight=dict_classes)\n",
    "train_f1_ballanced = cross_val_score(classificator, \n",
    "                                    features_train, \n",
    "                                    target_train, \n",
    "                                    cv=cv_counts, \n",
    "                                    scoring='f1').mean()\n",
    "print('F1 на CV с балансированными классами', train_f1_ballanced)"
   ]
  },
  {
   "cell_type": "code",
   "execution_count": 10,
   "metadata": {},
   "outputs": [
    {
     "name": "stdout",
     "output_type": "stream",
     "text": [
      "F1 на CV с балансированными классами 0.7451238853877972\n"
     ]
    }
   ],
   "source": [
    "classificator = LogisticRegression(class_weight='balanced')\n",
    "train_f1_balanced = cross_val_score(classificator, \n",
    "                                    features_train, \n",
    "                                    target_train, \n",
    "                                    cv=cv_counts, \n",
    "                                    scoring='f1').mean()\n",
    "print('F1 на CV с балансированными классами', train_f1_ballanced)"
   ]
  },
  {
   "cell_type": "markdown",
   "metadata": {},
   "source": [
    "Ресемплинг с уменьшением класса 0"
   ]
  },
  {
   "cell_type": "code",
   "execution_count": 11,
   "metadata": {},
   "outputs": [],
   "source": [
    "toxic_comments_train = toxic_comments.iloc[target_train.index]\n",
    "\n",
    "target_train_class_zero = toxic_comments_train[toxic_comments_train['toxic'] == 0]['toxic']\n",
    "target_train_class_one = toxic_comments_train[toxic_comments_train['toxic'] == 1]['toxic']"
   ]
  },
  {
   "cell_type": "code",
   "execution_count": 12,
   "metadata": {},
   "outputs": [],
   "source": [
    "target_train_class_zero_downsample = target_train_class_zero.sample(target_train_class_one.shape[0],\n",
    "                                                                    random_state = 12345)\n",
    "target_train_downsample = pd.concat([target_train_class_zero_downsample, target_train_class_one])\n",
    "\n",
    "features_train_downsample = toxic_comments.iloc[target_train_downsample.index]\n",
    "features_train_downsample, target_train_downsample = shuffle(features_train_downsample,\n",
    "                                                             target_train_downsample,\n",
    "                                                             random_state = 12345)\n",
    "features_train_downsample = count_tf_idf.transform(features_train_downsample['lemm_text']\n",
    "                                                   .values.astype('U'))"
   ]
  },
  {
   "cell_type": "code",
   "execution_count": 13,
   "metadata": {},
   "outputs": [],
   "source": [
    "#classificator = LogisticRegression()\n",
    "#train_f1_downsampled = cross_val_score(classificator,\n",
    "                     # features_train_downsample, \n",
    "                     # target_train_downsample, \n",
    "                      #cv=cv_counts, \n",
    "                     # scoring='f1').mean()\n",
    "#print('F1 на CV с уменьшением классов', train_f1_downsampled)\n",
    "\n"
   ]
  },
  {
   "cell_type": "markdown",
   "metadata": {},
   "source": [
    "<div class=\"alert alert-block alert-danger\">\n",
    "<b>Ошибка:</b> Проводить кросс-валидацию на upsampled/downsampled данных – некорректно, так как баланс классов нарушен. Напомню, что внутри кросс-валидации происходит разбиение переданной в нее выборки на треин и валидацию. \n",
    "    \n",
    "В случае upsampling получается так, что в треин и в валидацию (внутри кросс-валидации) вообще попадают одни и те же объекты. \n",
    "\n",
    "* Можно попробовать реализовать подход из статьи: https://kiwidamien.github.io/how-to-do-cross-validation-when-upsampling-data.html .\n",
    "* Можно использовать параметр class_weights.\n",
    "* Можно отдельно выделить валидационную выборку и изменить баланс только на треине.\n",
    "* Можно вообще ничего не делать, то есть не бороться с дисбалансом. \n",
    "* Каждый их способов выше может как улучшить, так и ухудшить качество. Это поле для экспериментов.\n",
    "</div>"
   ]
  },
  {
   "cell_type": "markdown",
   "metadata": {},
   "source": [
    "<div class=\"alert alert-block alert-warning\">\n",
    "<b>Комментарий студента:</b> Можно вообще ничего не делать, то есть не бороться с дисбалансом.  Выбрал этот вариант))\n",
    "</div>\n"
   ]
  },
  {
   "cell_type": "markdown",
   "metadata": {},
   "source": [
    "<div class=\"alert alert-block alert-success\">\n",
    "<b>Успех (ревью 2):</b> ОК.\n",
    "</div>"
   ]
  },
  {
   "cell_type": "markdown",
   "metadata": {},
   "source": [
    "Построим ROC-AUC графики балансировки"
   ]
  },
  {
   "cell_type": "code",
   "execution_count": 14,
   "metadata": {},
   "outputs": [
    {
     "data": {
      "image/png": "[encoded data removed]",
      "text/plain": [
       "<Figure size 864x648 with 1 Axes>"
      ]
     },
     "metadata": {
      "needs_background": "light"
     },
     "output_type": "display_data"
    }
   ],
   "source": [
    "plt.figure(figsize=[12,9])\n",
    "\n",
    "plt.plot([0, 1], [0, 1], linestyle='--', label='RandomModel')\n",
    "\n",
    "\n",
    "classificator = LogisticRegression()\n",
    "classificator.fit(features_train, target_train)\n",
    "probabilities_valid = classificator.predict_proba(features_valid)\n",
    "probabilities_one_valid = probabilities_valid[:, 1]\n",
    "fpr, tpr, thresholds = roc_curve(target_valid, probabilities_one_valid)\n",
    "auc_roc = roc_auc_score(target_valid, probabilities_one_valid)\n",
    "valid_f1 = f1_score(target_valid, classificator.predict(features_valid))\n",
    "plt.plot(fpr, tpr, label='LR')\n",
    "\n",
    "classificator = LogisticRegression(class_weight=dict_classes)\n",
    "classificator.fit(features_train, target_train)\n",
    "probabilities_valid = classificator.predict_proba(features_valid)\n",
    "probabilities_one_valid = probabilities_valid[:, 1]\n",
    "fpr, tpr, thresholds = roc_curve(target_valid, probabilities_one_valid)\n",
    "auc_roc_balanced = roc_auc_score(target_valid, probabilities_one_valid)\n",
    "valid_f1_balanced = f1_score(target_valid, classificator.predict(features_valid))\n",
    "plt.plot(fpr, tpr, label='LR по весу')\n",
    "\n",
    "classificator = LogisticRegression()\n",
    "classificator.fit(features_train_downsample,target_train_downsample)\n",
    "probabilities_valid = classificator.predict_proba(features_valid)\n",
    "probabilities_one_valid = probabilities_valid[:, 1]\n",
    "fpr, tpr, thresholds = roc_curve(target_valid, probabilities_one_valid)\n",
    "auc_roc_downsampled = roc_auc_score(target_valid, probabilities_one_valid)\n",
    "valid_f1_downsampled = f1_score(target_valid, classificator.predict(features_valid))\n",
    "plt.plot(fpr, tpr, label='LR downsampled classes')\n",
    "\n",
    "plt.xlim([0,1])\n",
    "plt.ylim([0,1])\n",
    "\n",
    "plt.xlabel(\"False Positive Rate\")\n",
    "plt.ylabel(\"True Positive Rate\")\n",
    "\n",
    "plt.legend(loc='lower right', fontsize='x-large')\n",
    "\n",
    "plt.title(\"ROC-кривая\")\n",
    "plt.show()"
   ]
  },
  {
   "cell_type": "markdown",
   "metadata": {},
   "source": [
    "Построим таблицу результатов баллансировки"
   ]
  },
  {
   "cell_type": "code",
   "execution_count": 15,
   "metadata": {},
   "outputs": [
    {
     "data": {
      "text/html": [
       "<div>\n",
       "<style scoped>\n",
       "    .dataframe tbody tr th:only-of-type {\n",
       "        vertical-align: middle;\n",
       "    }\n",
       "\n",
       "    .dataframe tbody tr th {\n",
       "        vertical-align: top;\n",
       "    }\n",
       "\n",
       "    .dataframe thead th {\n",
       "        text-align: right;\n",
       "    }\n",
       "</style>\n",
       "<table border=\"1\" class=\"dataframe\">\n",
       "  <thead>\n",
       "    <tr style=\"text-align: right;\">\n",
       "      <th></th>\n",
       "      <th>F1 на CV</th>\n",
       "      <th>F1 на валидации</th>\n",
       "      <th>AUC-ROC</th>\n",
       "    </tr>\n",
       "  </thead>\n",
       "  <tbody>\n",
       "    <tr>\n",
       "      <th>LogisticRegression</th>\n",
       "      <td>0.651160</td>\n",
       "      <td>0.711239</td>\n",
       "      <td>0.964572</td>\n",
       "    </tr>\n",
       "    <tr>\n",
       "      <th>LR по весу</th>\n",
       "      <td>0.737321</td>\n",
       "      <td>0.742144</td>\n",
       "      <td>0.965498</td>\n",
       "    </tr>\n",
       "  </tbody>\n",
       "</table>\n",
       "</div>"
      ],
      "text/plain": [
       "                    F1 на CV  F1 на валидации   AUC-ROC\n",
       "LogisticRegression  0.651160         0.711239  0.964572\n",
       "LR по весу          0.737321         0.742144  0.965498"
      ]
     },
     "execution_count": 15,
     "metadata": {},
     "output_type": "execute_result"
    }
   ],
   "source": [
    "index = ['LogisticRegression',\n",
    "         'LR по весу']\n",
    "data = {'F1 на CV':[train_f1,\n",
    "                    train_f1_balanced],\n",
    "                    \n",
    "        'F1 на валидации':[valid_f1,\n",
    "                           valid_f1_balanced],\n",
    "        'AUC-ROC':[auc_roc,\n",
    "                   auc_roc_balanced]}\n",
    "\n",
    "scores_data = pd.DataFrame(data=data, index=index)\n",
    "scores_data"
   ]
  },
  {
   "cell_type": "markdown",
   "metadata": {},
   "source": [
    "ВЫВОДЫ\n",
    "\n",
    "Подготовили данные, получили признаки для обучения, получили выборки данных. Выполнили балансировку данных и построили ROC-AUC графики балансировки."
   ]
  },
  {
   "cell_type": "markdown",
   "metadata": {},
   "source": [
    "## Обучение"
   ]
  },
  {
   "cell_type": "markdown",
   "metadata": {},
   "source": [
    "LogisticRegression"
   ]
  },
  {
   "cell_type": "code",
   "execution_count": 16,
   "metadata": {},
   "outputs": [
    {
     "name": "stdout",
     "output_type": "stream",
     "text": [
      "# Tuning hyper-parameters for f1_score\n",
      "\n",
      "Best parameters set found on development set:\n",
      "\n",
      "{'C': 10, 'class_weight': {0: 1, 1: 8.841344371679229}, 'solver': 'newton-cg'}\n",
      "\n",
      "Grid scores on development set:\n",
      "\n",
      "0.704153 for {'C': 0.1, 'class_weight': {0: 1, 1: 8.841344371679229}, 'solver': 'newton-cg'}\n",
      "0.704191 for {'C': 0.1, 'class_weight': {0: 1, 1: 8.841344371679229}, 'solver': 'lbfgs'}\n",
      "0.703848 for {'C': 0.1, 'class_weight': {0: 1, 1: 8.841344371679229}, 'solver': 'liblinear'}\n",
      "0.745124 for {'C': 1, 'class_weight': {0: 1, 1: 8.841344371679229}, 'solver': 'newton-cg'}\n",
      "0.745124 for {'C': 1, 'class_weight': {0: 1, 1: 8.841344371679229}, 'solver': 'lbfgs'}\n",
      "0.745197 for {'C': 1, 'class_weight': {0: 1, 1: 8.841344371679229}, 'solver': 'liblinear'}\n",
      "0.750353 for {'C': 10, 'class_weight': {0: 1, 1: 8.841344371679229}, 'solver': 'newton-cg'}\n",
      "0.750275 for {'C': 10, 'class_weight': {0: 1, 1: 8.841344371679229}, 'solver': 'lbfgs'}\n",
      "0.750353 for {'C': 10, 'class_weight': {0: 1, 1: 8.841344371679229}, 'solver': 'liblinear'}\n",
      "\n"
     ]
    }
   ],
   "source": [
    "classificator = LogisticRegression()\n",
    "hyperparams = [{'solver':['newton-cg', 'lbfgs', 'liblinear'],\n",
    "                'C':[0.1, 1, 10],\n",
    "                'class_weight':[dict_classes]}]\n",
    "\n",
    "\n",
    "print('# Tuning hyper-parameters for f1_score')\n",
    "print()\n",
    "clf = GridSearchCV(classificator, hyperparams, scoring='f1',cv=cv_counts)\n",
    "clf.fit(features_train, target_train)\n",
    "print(\"Best parameters set found on development set:\")\n",
    "print()\n",
    "LR_best_params = clf.best_params_\n",
    "print(LR_best_params)\n",
    "print()\n",
    "print(\"Grid scores on development set:\")\n",
    "print()\n",
    "means = clf.cv_results_['mean_test_score']\n",
    "stds = clf.cv_results_['std_test_score']\n",
    "for mean, std, params in zip(means, stds, clf.cv_results_['params']):\n",
    "    print(\"%0.6f for %r\"% (mean, params))\n",
    "print()\n",
    "\n",
    "cv_f1_LR = max(means)"
   ]
  },
  {
   "cell_type": "code",
   "execution_count": 17,
   "metadata": {},
   "outputs": [
    {
     "name": "stdout",
     "output_type": "stream",
     "text": [
      "F1 на cv 0.7503526213519474\n",
      "F1 на валидации 0.751132272674486\n"
     ]
    }
   ],
   "source": [
    "classificator = LogisticRegression()\n",
    "classificator.set_params(**LR_best_params)\n",
    "classificator.fit(features_train, target_train)\n",
    "target_predict = classificator.predict(features_valid)\n",
    "valid_f1_LR = f1_score(target_valid, target_predict)\n",
    "print('F1 на cv', cv_f1_LR)\n",
    "print('F1 на валидации', valid_f1_LR)"
   ]
  },
  {
   "cell_type": "markdown",
   "metadata": {},
   "source": [
    "DecisionTreeClassifier"
   ]
  },
  {
   "cell_type": "code",
   "execution_count": 18,
   "metadata": {},
   "outputs": [
    {
     "name": "stdout",
     "output_type": "stream",
     "text": [
      "# Tuning hyper-parameters for f1_score\n",
      "\n",
      "Best parameters set found on development set:\n",
      "\n",
      "{'class_weight': {0: 1, 1: 8.841344371679229}, 'max_depth': 98, 'random_state': 1515}\n",
      "\n",
      "Grid scores on development set:\n",
      "\n",
      "0.621542 for {'class_weight': {0: 1, 1: 8.841344371679229}, 'max_depth': 50, 'random_state': 1515}\n",
      "0.617188 for {'class_weight': {0: 1, 1: 8.841344371679229}, 'max_depth': 52, 'random_state': 1515}\n",
      "0.618709 for {'class_weight': {0: 1, 1: 8.841344371679229}, 'max_depth': 54, 'random_state': 1515}\n",
      "0.622495 for {'class_weight': {0: 1, 1: 8.841344371679229}, 'max_depth': 56, 'random_state': 1515}\n",
      "0.625899 for {'class_weight': {0: 1, 1: 8.841344371679229}, 'max_depth': 58, 'random_state': 1515}\n",
      "0.627355 for {'class_weight': {0: 1, 1: 8.841344371679229}, 'max_depth': 60, 'random_state': 1515}\n",
      "0.630897 for {'class_weight': {0: 1, 1: 8.841344371679229}, 'max_depth': 62, 'random_state': 1515}\n",
      "0.629074 for {'class_weight': {0: 1, 1: 8.841344371679229}, 'max_depth': 64, 'random_state': 1515}\n",
      "0.631278 for {'class_weight': {0: 1, 1: 8.841344371679229}, 'max_depth': 66, 'random_state': 1515}\n",
      "0.632132 for {'class_weight': {0: 1, 1: 8.841344371679229}, 'max_depth': 68, 'random_state': 1515}\n",
      "0.636226 for {'class_weight': {0: 1, 1: 8.841344371679229}, 'max_depth': 70, 'random_state': 1515}\n",
      "0.638740 for {'class_weight': {0: 1, 1: 8.841344371679229}, 'max_depth': 72, 'random_state': 1515}\n",
      "0.638298 for {'class_weight': {0: 1, 1: 8.841344371679229}, 'max_depth': 74, 'random_state': 1515}\n",
      "0.638987 for {'class_weight': {0: 1, 1: 8.841344371679229}, 'max_depth': 76, 'random_state': 1515}\n",
      "0.635674 for {'class_weight': {0: 1, 1: 8.841344371679229}, 'max_depth': 78, 'random_state': 1515}\n",
      "0.638295 for {'class_weight': {0: 1, 1: 8.841344371679229}, 'max_depth': 80, 'random_state': 1515}\n",
      "0.638439 for {'class_weight': {0: 1, 1: 8.841344371679229}, 'max_depth': 82, 'random_state': 1515}\n",
      "0.639820 for {'class_weight': {0: 1, 1: 8.841344371679229}, 'max_depth': 84, 'random_state': 1515}\n",
      "0.642650 for {'class_weight': {0: 1, 1: 8.841344371679229}, 'max_depth': 86, 'random_state': 1515}\n",
      "0.639979 for {'class_weight': {0: 1, 1: 8.841344371679229}, 'max_depth': 88, 'random_state': 1515}\n",
      "0.640283 for {'class_weight': {0: 1, 1: 8.841344371679229}, 'max_depth': 90, 'random_state': 1515}\n",
      "0.640344 for {'class_weight': {0: 1, 1: 8.841344371679229}, 'max_depth': 92, 'random_state': 1515}\n",
      "0.642595 for {'class_weight': {0: 1, 1: 8.841344371679229}, 'max_depth': 94, 'random_state': 1515}\n",
      "0.642147 for {'class_weight': {0: 1, 1: 8.841344371679229}, 'max_depth': 96, 'random_state': 1515}\n",
      "0.644483 for {'class_weight': {0: 1, 1: 8.841344371679229}, 'max_depth': 98, 'random_state': 1515}\n",
      "\n"
     ]
    }
   ],
   "source": [
    "classificator = DecisionTreeClassifier()\n",
    "hyperparams = [{'max_depth':[x for x in range(50,100,2)],\n",
    "                'random_state':[1515],\n",
    "                'class_weight':[dict_classes]}]\n",
    "\n",
    "\n",
    "print('# Tuning hyper-parameters for f1_score')\n",
    "print()\n",
    "clf = GridSearchCV(classificator, hyperparams, scoring='f1',cv=cv_counts)\n",
    "clf.fit(features_train, target_train)\n",
    "print(\"Best parameters set found on development set:\")\n",
    "print()\n",
    "DTC_best_params = clf.best_params_\n",
    "print(DTC_best_params)\n",
    "print()\n",
    "print(\"Grid scores on development set:\")\n",
    "print()\n",
    "means = clf.cv_results_['mean_test_score']\n",
    "stds = clf.cv_results_['std_test_score']\n",
    "for mean, std, params in zip(means, stds, clf.cv_results_['params']):\n",
    "    print(\"%0.6f for %r\"% (mean, params))\n",
    "print()\n",
    "\n",
    "cv_f1_DTC = max(means)"
   ]
  },
  {
   "cell_type": "code",
   "execution_count": 19,
   "metadata": {},
   "outputs": [
    {
     "name": "stdout",
     "output_type": "stream",
     "text": [
      "F1 на cv 0.6444828282010056\n",
      "F1 на валидации 0.6196571428571428\n"
     ]
    }
   ],
   "source": [
    "classificator = DecisionTreeClassifier()\n",
    "classificator.set_params(**DTC_best_params)\n",
    "classificator.fit(features_train, target_train)\n",
    "target_predict = classificator.predict(features_valid)\n",
    "valid_f1_DTC = f1_score(target_valid, target_predict)\n",
    "print('F1 на cv', cv_f1_DTC)\n",
    "print('F1 на валидации', valid_f1_DTC)"
   ]
  },
  {
   "cell_type": "markdown",
   "metadata": {},
   "source": [
    "CatBoostClassifier"
   ]
  },
  {
   "cell_type": "code",
   "execution_count": 20,
   "metadata": {},
   "outputs": [
    {
     "name": "stdout",
     "output_type": "stream",
     "text": [
      "F1 на cv 0.7160808091379429\n",
      "F1 на валидации 0.7318281136198105\n"
     ]
    }
   ],
   "source": [
    "classificator = CatBoostClassifier(verbose=False, iterations=250)\n",
    "classificator.fit(features_train, target_train)\n",
    "target_predict = classificator.predict(features_valid)\n",
    "cv_f1_CBC = cross_val_score(classificator,\n",
    "                                         features_train, \n",
    "                                         target_train, \n",
    "                                         cv=cv_counts, \n",
    "                                         scoring='f1').mean()\n",
    "valid_f1_CBC = f1_score(target_valid, target_predict)\n",
    "print('F1 на cv', cv_f1_CBC)\n",
    "print('F1 на валидации', valid_f1_CBC)"
   ]
  },
  {
   "cell_type": "markdown",
   "metadata": {},
   "source": [
    "Построим таблицу"
   ]
  },
  {
   "cell_type": "code",
   "execution_count": 21,
   "metadata": {},
   "outputs": [
    {
     "data": {
      "text/html": [
       "<div>\n",
       "<style scoped>\n",
       "    .dataframe tbody tr th:only-of-type {\n",
       "        vertical-align: middle;\n",
       "    }\n",
       "\n",
       "    .dataframe tbody tr th {\n",
       "        vertical-align: top;\n",
       "    }\n",
       "\n",
       "    .dataframe thead th {\n",
       "        text-align: right;\n",
       "    }\n",
       "</style>\n",
       "<table border=\"1\" class=\"dataframe\">\n",
       "  <thead>\n",
       "    <tr style=\"text-align: right;\">\n",
       "      <th></th>\n",
       "      <th>F1 на CV</th>\n",
       "      <th>F1 на валидации</th>\n",
       "    </tr>\n",
       "  </thead>\n",
       "  <tbody>\n",
       "    <tr>\n",
       "      <th>LogisticRegression</th>\n",
       "      <td>0.750353</td>\n",
       "      <td>0.751132</td>\n",
       "    </tr>\n",
       "    <tr>\n",
       "      <th>DecisionTreeClassifier</th>\n",
       "      <td>0.644483</td>\n",
       "      <td>0.619657</td>\n",
       "    </tr>\n",
       "    <tr>\n",
       "      <th>CatBoostClassifier</th>\n",
       "      <td>0.716081</td>\n",
       "      <td>0.731828</td>\n",
       "    </tr>\n",
       "  </tbody>\n",
       "</table>\n",
       "</div>"
      ],
      "text/plain": [
       "                        F1 на CV  F1 на валидации\n",
       "LogisticRegression      0.750353         0.751132\n",
       "DecisionTreeClassifier  0.644483         0.619657\n",
       "CatBoostClassifier      0.716081         0.731828"
      ]
     },
     "execution_count": 21,
     "metadata": {},
     "output_type": "execute_result"
    }
   ],
   "source": [
    "index = ['LogisticRegression',\n",
    "         'DecisionTreeClassifier',\n",
    "         'CatBoostClassifier']\n",
    "data = {'F1 на CV':[cv_f1_LR,\n",
    "                    cv_f1_DTC,\n",
    "                    cv_f1_CBC],\n",
    "        'F1 на валидации':[valid_f1_LR,\n",
    "                           valid_f1_DTC,\n",
    "                           valid_f1_CBC]}\n",
    "\n",
    "scores_data = pd.DataFrame(data=data, index=index)\n",
    "scores_data"
   ]
  },
  {
   "cell_type": "markdown",
   "metadata": {},
   "source": [
    "Вывод:\n",
    "Метрика качества F1 больше 0.75 у модели LogisticRegression, далее работаем с ней. "
   ]
  },
  {
   "cell_type": "markdown",
   "metadata": {},
   "source": [
    "<div class=\"alert alert-block alert-success\">\n",
    "<b>Успех:</b> Молодец, что попробовал разные модели в этом шаге!\n",
    "</div>"
   ]
  },
  {
   "cell_type": "markdown",
   "metadata": {},
   "source": [
    "## Выводы"
   ]
  },
  {
   "cell_type": "code",
   "execution_count": 22,
   "metadata": {},
   "outputs": [
    {
     "name": "stdout",
     "output_type": "stream",
     "text": [
      "Метрики LogisticRegression\n",
      "ROC AUC: 0.9625578690342098\n",
      "F1: 0.7545262167881495\n",
      "Precision: 0.7190230786466503\n",
      "Recall: 0.7937175364828098\n",
      "Accuracy: 0.9475679883484418\n",
      "\n"
     ]
    },
    {
     "data": {
      "image/png": "[encoded data removed]",
      "text/plain": [
       "<Figure size 864x648 with 1 Axes>"
      ]
     },
     "metadata": {
      "needs_background": "light"
     },
     "output_type": "display_data"
    }
   ],
   "source": [
    "plt.figure(figsize=[12,9])\n",
    "\n",
    "plt.plot([0, 1], [0, 1], linestyle='--', label='RandomModel')\n",
    "\n",
    "\n",
    "classificator = LogisticRegression()\n",
    "classificator.set_params(**LR_best_params)\n",
    "classificator.fit(features_train, target_train)\n",
    "probabilities_test = classificator.predict_proba(features_test)\n",
    "probabilities_one_test = probabilities_test[:, 1]\n",
    "fpr, tpr, thresholds = roc_curve(target_test, probabilities_one_test)\n",
    "predict_test = classificator.predict(features_test)\n",
    "plt.plot(fpr, tpr, label='LogisticRegression')\n",
    "print('Метрики LogisticRegression')\n",
    "print('ROC AUC:', roc_auc_score(target_test, probabilities_one_test))\n",
    "print('F1:', f1_score(target_test, predict_test))\n",
    "print('Precision:', precision_score(target_test, predict_test))\n",
    "print('Recall:', recall_score(target_test, predict_test))\n",
    "print('Accuracy:', accuracy_score(target_test, predict_test))\n",
    "print()\n",
    "\n",
    "plt.xlim([0,1])\n",
    "plt.ylim([0,1])\n",
    "\n",
    "plt.xlabel(\"False Positive Rate\")\n",
    "plt.ylabel(\"True Positive Rate\")\n",
    "\n",
    "plt.legend(loc='lower right', fontsize='x-large')\n",
    "\n",
    "plt.title(\"ROC-кривая\")\n",
    "plt.show()"
   ]
  },
  {
   "cell_type": "markdown",
   "metadata": {},
   "source": [
    "Вывод:\n",
    "\n",
    "Лучшей моделью стала LogisticRegression, которая на тестировании показала F1 = 0.76. По условиям задачи требовалось найти модель классификации комментариев на позитивные и негативные со значением метрики качества F1 больше 0.75, этому условию удвлетворяет только модель LogisticRegression."
   ]
  },
  {
   "cell_type": "markdown",
   "metadata": {},
   "source": [
    "<div class=\"alert alert-block alert-success\">\n",
    "<b>Успех:</b> Тестирование было сделано корректно.\n",
    "</div>"
   ]
  },
  {
   "cell_type": "markdown",
   "metadata": {},
   "source": [
    "## Чек-лист проверки"
   ]
  },
  {
   "cell_type": "markdown",
   "metadata": {},
   "source": [
    "- [x]  Jupyter Notebook открыт\n",
    "- [ ]  Весь код выполняется без ошибок\n",
    "- [ ]  Ячейки с кодом расположены в порядке исполнения\n",
    "- [ ]  Данные загружены и подготовлены\n",
    "- [ ]  Модели обучены\n",
    "- [ ]  Значение метрики *F1* не меньше 0.75\n",
    "- [ ]  Выводы написаны"
   ]
  }
 ],
 "metadata": {
  "ExecuteTimeLog": [
   {
    "duration": 3950,
    "start_time": "2023-07-31T15:27:58.678Z"
   },
   {
    "duration": 2354,
    "start_time": "2023-07-31T15:28:02.630Z"
   },
   {
    "duration": 35,
    "start_time": "2023-07-31T15:28:04.985Z"
   },
   {
    "duration": 11,
    "start_time": "2023-07-31T15:28:05.022Z"
   },
   {
    "duration": 21,
    "start_time": "2023-07-31T15:28:05.035Z"
   },
   {
    "duration": 3672,
    "start_time": "2023-07-31T15:28:05.058Z"
   },
   {
    "duration": 77235,
    "start_time": "2023-07-31T15:28:08.731Z"
   },
   {
    "duration": 13,
    "start_time": "2023-07-31T15:29:25.968Z"
   },
   {
    "duration": 44,
    "start_time": "2023-07-31T15:29:25.983Z"
   },
   {
    "duration": 4,
    "start_time": "2023-07-31T15:29:26.031Z"
   },
   {
    "duration": 42,
    "start_time": "2023-07-31T15:29:26.036Z"
   },
   {
    "duration": 5053,
    "start_time": "2023-07-31T15:29:26.080Z"
   },
   {
    "duration": 1191,
    "start_time": "2023-07-31T15:29:31.135Z"
   },
   {
    "duration": 175693,
    "start_time": "2023-07-31T15:29:32.328Z"
   },
   {
    "duration": 52,
    "start_time": "2023-07-31T15:33:44.449Z"
   },
   {
    "duration": 3130,
    "start_time": "2023-07-31T15:33:53.981Z"
   },
   {
    "duration": 2375,
    "start_time": "2023-07-31T15:33:57.113Z"
   },
   {
    "duration": 31,
    "start_time": "2023-07-31T15:33:59.489Z"
   },
   {
    "duration": 7,
    "start_time": "2023-07-31T15:33:59.521Z"
   },
   {
    "duration": 3,
    "start_time": "2023-07-31T15:33:59.531Z"
   },
   {
    "duration": 3576,
    "start_time": "2023-07-31T15:33:59.535Z"
   },
   {
    "duration": 76006,
    "start_time": "2023-07-31T15:34:03.113Z"
   },
   {
    "duration": 11,
    "start_time": "2023-07-31T15:35:19.121Z"
   },
   {
    "duration": 45,
    "start_time": "2023-07-31T15:35:19.134Z"
   },
   {
    "duration": 38,
    "start_time": "2023-07-31T15:35:19.180Z"
   },
   {
    "duration": 19,
    "start_time": "2023-07-31T15:35:19.220Z"
   },
   {
    "duration": 4808,
    "start_time": "2023-07-31T15:35:19.241Z"
   },
   {
    "duration": 1187,
    "start_time": "2023-07-31T15:35:24.051Z"
   },
   {
    "duration": 171982,
    "start_time": "2023-07-31T15:35:25.241Z"
   },
   {
    "duration": 2152,
    "start_time": "2023-07-31T16:34:08.976Z"
   },
   {
    "duration": 2234,
    "start_time": "2023-07-31T16:34:11.130Z"
   },
   {
    "duration": 291,
    "start_time": "2023-07-31T16:34:13.365Z"
   },
   {
    "duration": 10,
    "start_time": "2023-07-31T16:34:13.659Z"
   },
   {
    "duration": 11,
    "start_time": "2023-07-31T16:34:13.670Z"
   },
   {
    "duration": 4102,
    "start_time": "2023-07-31T16:34:13.683Z"
   },
   {
    "duration": 7,
    "start_time": "2023-07-31T16:34:17.787Z"
   },
   {
    "duration": 8,
    "start_time": "2023-07-31T16:34:17.799Z"
   },
   {
    "duration": 828,
    "start_time": "2023-07-31T16:34:17.808Z"
   },
   {
    "duration": 0,
    "start_time": "2023-07-31T16:34:18.638Z"
   },
   {
    "duration": 0,
    "start_time": "2023-07-31T16:34:18.639Z"
   },
   {
    "duration": 0,
    "start_time": "2023-07-31T16:34:18.640Z"
   },
   {
    "duration": 0,
    "start_time": "2023-07-31T16:34:18.641Z"
   },
   {
    "duration": 0,
    "start_time": "2023-07-31T16:34:18.643Z"
   },
   {
    "duration": 0,
    "start_time": "2023-07-31T16:34:18.644Z"
   },
   {
    "duration": 0,
    "start_time": "2023-07-31T16:34:18.645Z"
   },
   {
    "duration": 0,
    "start_time": "2023-07-31T16:34:18.646Z"
   },
   {
    "duration": 0,
    "start_time": "2023-07-31T16:34:18.647Z"
   },
   {
    "duration": 0,
    "start_time": "2023-07-31T16:34:18.649Z"
   },
   {
    "duration": 0,
    "start_time": "2023-07-31T16:34:18.650Z"
   },
   {
    "duration": 0,
    "start_time": "2023-07-31T16:34:18.651Z"
   },
   {
    "duration": 0,
    "start_time": "2023-07-31T16:34:18.652Z"
   },
   {
    "duration": 0,
    "start_time": "2023-07-31T16:34:18.652Z"
   },
   {
    "duration": 0,
    "start_time": "2023-07-31T16:34:18.654Z"
   },
   {
    "duration": 0,
    "start_time": "2023-07-31T16:34:18.655Z"
   },
   {
    "duration": 0,
    "start_time": "2023-07-31T16:34:18.656Z"
   },
   {
    "duration": 4,
    "start_time": "2023-07-31T16:35:00.979Z"
   },
   {
    "duration": 784,
    "start_time": "2023-07-31T16:35:00.985Z"
   },
   {
    "duration": 271,
    "start_time": "2023-07-31T16:35:01.771Z"
   },
   {
    "duration": 9,
    "start_time": "2023-07-31T16:35:02.043Z"
   },
   {
    "duration": 72,
    "start_time": "2023-07-31T16:35:02.054Z"
   },
   {
    "duration": 3750,
    "start_time": "2023-07-31T16:35:02.127Z"
   },
   {
    "duration": 6,
    "start_time": "2023-07-31T16:35:05.878Z"
   },
   {
    "duration": 22,
    "start_time": "2023-07-31T16:35:05.885Z"
   },
   {
    "duration": 1145,
    "start_time": "2023-07-31T16:35:05.909Z"
   },
   {
    "duration": 0,
    "start_time": "2023-07-31T16:35:07.056Z"
   },
   {
    "duration": 0,
    "start_time": "2023-07-31T16:35:07.057Z"
   },
   {
    "duration": 0,
    "start_time": "2023-07-31T16:35:07.058Z"
   },
   {
    "duration": 0,
    "start_time": "2023-07-31T16:35:07.059Z"
   },
   {
    "duration": 0,
    "start_time": "2023-07-31T16:35:07.060Z"
   },
   {
    "duration": 0,
    "start_time": "2023-07-31T16:35:07.061Z"
   },
   {
    "duration": 0,
    "start_time": "2023-07-31T16:35:07.062Z"
   },
   {
    "duration": 0,
    "start_time": "2023-07-31T16:35:07.063Z"
   },
   {
    "duration": 0,
    "start_time": "2023-07-31T16:35:07.065Z"
   },
   {
    "duration": 0,
    "start_time": "2023-07-31T16:35:07.066Z"
   },
   {
    "duration": 0,
    "start_time": "2023-07-31T16:35:07.067Z"
   },
   {
    "duration": 0,
    "start_time": "2023-07-31T16:35:07.067Z"
   },
   {
    "duration": 0,
    "start_time": "2023-07-31T16:35:07.068Z"
   },
   {
    "duration": 0,
    "start_time": "2023-07-31T16:35:07.069Z"
   },
   {
    "duration": 0,
    "start_time": "2023-07-31T16:35:07.070Z"
   },
   {
    "duration": 0,
    "start_time": "2023-07-31T16:35:07.071Z"
   },
   {
    "duration": 0,
    "start_time": "2023-07-31T16:35:07.072Z"
   },
   {
    "duration": 201,
    "start_time": "2023-07-31T16:53:16.382Z"
   },
   {
    "duration": 835,
    "start_time": "2023-07-31T16:53:16.584Z"
   },
   {
    "duration": 77,
    "start_time": "2023-07-31T16:53:17.422Z"
   },
   {
    "duration": 13,
    "start_time": "2023-07-31T16:53:17.502Z"
   },
   {
    "duration": 6399,
    "start_time": "2023-07-31T16:53:17.516Z"
   },
   {
    "duration": 1484,
    "start_time": "2023-07-31T16:53:33.253Z"
   },
   {
    "duration": 884,
    "start_time": "2023-07-31T16:53:34.739Z"
   },
   {
    "duration": 12,
    "start_time": "2023-07-31T16:53:35.624Z"
   },
   {
    "duration": 18,
    "start_time": "2023-07-31T16:53:35.637Z"
   },
   {
    "duration": 6357,
    "start_time": "2023-07-31T16:53:35.657Z"
   },
   {
    "duration": 10088,
    "start_time": "2023-07-31T16:53:42.016Z"
   },
   {
    "duration": 52910,
    "start_time": "2023-07-31T16:53:52.106Z"
   },
   {
    "duration": 48180,
    "start_time": "2023-07-31T16:54:45.021Z"
   },
   {
    "duration": 36101,
    "start_time": "2023-07-31T16:55:33.205Z"
   },
   {
    "duration": 15,
    "start_time": "2023-07-31T16:56:09.309Z"
   },
   {
    "duration": 939,
    "start_time": "2023-07-31T16:56:09.326Z"
   },
   {
    "duration": 30449,
    "start_time": "2023-07-31T16:56:10.266Z"
   },
   {
    "duration": 78282,
    "start_time": "2023-07-31T16:56:40.800Z"
   },
   {
    "duration": 9,
    "start_time": "2023-07-31T16:57:59.083Z"
   },
   {
    "duration": 228737,
    "start_time": "2023-07-31T16:57:59.094Z"
   },
   {
    "duration": 24212,
    "start_time": "2023-07-31T17:01:47.832Z"
   },
   {
    "duration": 645315,
    "start_time": "2023-07-31T17:02:12.046Z"
   },
   {
    "duration": 27440,
    "start_time": "2023-07-31T17:12:57.363Z"
   },
   {
    "duration": 841513,
    "start_time": "2023-07-31T17:13:24.804Z"
   },
   {
    "duration": 8,
    "start_time": "2023-07-31T17:27:26.319Z"
   },
   {
    "duration": 23877,
    "start_time": "2023-07-31T17:27:26.328Z"
   },
   {
    "duration": 1800,
    "start_time": "2023-08-02T13:49:08.002Z"
   },
   {
    "duration": 2254,
    "start_time": "2023-08-02T13:49:09.804Z"
   },
   {
    "duration": 10,
    "start_time": "2023-08-02T13:49:12.059Z"
   },
   {
    "duration": 10,
    "start_time": "2023-08-02T13:49:12.072Z"
   },
   {
    "duration": 6582,
    "start_time": "2023-08-02T13:49:12.083Z"
   },
   {
    "duration": 10121,
    "start_time": "2023-08-02T13:49:18.667Z"
   },
   {
    "duration": 40342,
    "start_time": "2023-08-02T13:49:28.790Z"
   },
   {
    "duration": 34695,
    "start_time": "2023-08-02T13:50:09.134Z"
   },
   {
    "duration": 26994,
    "start_time": "2023-08-02T13:50:43.831Z"
   },
   {
    "duration": 15,
    "start_time": "2023-08-02T13:51:10.827Z"
   },
   {
    "duration": 913,
    "start_time": "2023-08-02T13:51:10.843Z"
   },
   {
    "duration": 19064,
    "start_time": "2023-08-02T13:51:11.758Z"
   },
   {
    "duration": 60181,
    "start_time": "2023-08-02T13:51:30.824Z"
   },
   {
    "duration": 14,
    "start_time": "2023-08-02T13:52:31.007Z"
   },
   {
    "duration": 229929,
    "start_time": "2023-08-02T13:52:31.023Z"
   },
   {
    "duration": 23909,
    "start_time": "2023-08-02T13:56:20.953Z"
   },
   {
    "duration": 687834,
    "start_time": "2023-08-02T13:56:44.863Z"
   },
   {
    "duration": 28318,
    "start_time": "2023-08-02T14:08:12.698Z"
   },
   {
    "duration": 847690,
    "start_time": "2023-08-02T14:08:41.018Z"
   },
   {
    "duration": 15,
    "start_time": "2023-08-02T14:22:48.710Z"
   },
   {
    "duration": 24710,
    "start_time": "2023-08-02T14:22:48.727Z"
   },
   {
    "duration": 27,
    "start_time": "2023-08-02T14:23:13.439Z"
   },
   {
    "duration": 5,
    "start_time": "2023-08-02T14:43:46.496Z"
   },
   {
    "duration": 3,
    "start_time": "2023-08-02T14:43:51.278Z"
   },
   {
    "duration": 9,
    "start_time": "2023-08-02T14:44:06.774Z"
   },
   {
    "duration": 1433,
    "start_time": "2023-08-02T14:55:26.588Z"
   },
   {
    "duration": 798,
    "start_time": "2023-08-02T14:55:28.023Z"
   },
   {
    "duration": 9,
    "start_time": "2023-08-02T14:55:28.822Z"
   },
   {
    "duration": 10,
    "start_time": "2023-08-02T14:55:28.832Z"
   },
   {
    "duration": 5966,
    "start_time": "2023-08-02T14:55:28.843Z"
   },
   {
    "duration": 32,
    "start_time": "2023-08-02T14:55:34.810Z"
   },
   {
    "duration": 8932,
    "start_time": "2023-08-02T14:55:34.843Z"
   },
   {
    "duration": 38969,
    "start_time": "2023-08-02T14:55:43.776Z"
   },
   {
    "duration": 42282,
    "start_time": "2023-08-02T14:56:22.747Z"
   },
   {
    "duration": 34907,
    "start_time": "2023-08-02T14:57:05.033Z"
   },
   {
    "duration": 92,
    "start_time": "2023-08-02T14:57:39.942Z"
   },
   {
    "duration": 854,
    "start_time": "2023-08-02T14:57:40.036Z"
   },
   {
    "duration": 15630,
    "start_time": "2023-08-02T14:57:40.891Z"
   },
   {
    "duration": 67080,
    "start_time": "2023-08-02T14:57:56.523Z"
   },
   {
    "duration": 9,
    "start_time": "2023-08-02T14:59:03.605Z"
   },
   {
    "duration": 219530,
    "start_time": "2023-08-02T14:59:03.620Z"
   },
   {
    "duration": 23501,
    "start_time": "2023-08-02T15:02:43.151Z"
   },
   {
    "duration": 1393,
    "start_time": "2023-08-02T15:08:26.256Z"
   },
   {
    "duration": 794,
    "start_time": "2023-08-02T15:08:27.650Z"
   },
   {
    "duration": 8,
    "start_time": "2023-08-02T15:08:28.446Z"
   },
   {
    "duration": 15,
    "start_time": "2023-08-02T15:08:28.456Z"
   },
   {
    "duration": 5957,
    "start_time": "2023-08-02T15:08:28.473Z"
   },
   {
    "duration": 29,
    "start_time": "2023-08-02T15:08:34.432Z"
   },
   {
    "duration": 9087,
    "start_time": "2023-08-02T15:08:34.463Z"
   },
   {
    "duration": 36383,
    "start_time": "2023-08-02T15:08:43.552Z"
   },
   {
    "duration": 45303,
    "start_time": "2023-08-02T15:09:20.021Z"
   },
   {
    "duration": 38811,
    "start_time": "2023-08-02T15:10:05.328Z"
   },
   {
    "duration": 102,
    "start_time": "2023-08-02T15:10:44.140Z"
   },
   {
    "duration": 986,
    "start_time": "2023-08-02T15:10:44.244Z"
   },
   {
    "duration": 24090,
    "start_time": "2023-08-02T15:10:45.231Z"
   },
   {
    "duration": 90664,
    "start_time": "2023-08-02T15:11:09.323Z"
   },
   {
    "duration": 9,
    "start_time": "2023-08-02T15:12:39.988Z"
   },
   {
    "duration": 293760,
    "start_time": "2023-08-02T15:12:39.999Z"
   },
   {
    "duration": 26812,
    "start_time": "2023-08-02T15:17:33.760Z"
   },
   {
    "duration": 657290,
    "start_time": "2023-08-02T15:18:00.574Z"
   },
   {
    "duration": 26522,
    "start_time": "2023-08-02T15:28:57.866Z"
   },
   {
    "duration": 857110,
    "start_time": "2023-08-02T15:29:24.390Z"
   },
   {
    "duration": 8,
    "start_time": "2023-08-02T15:43:41.501Z"
   },
   {
    "duration": 23209,
    "start_time": "2023-08-02T15:43:41.520Z"
   },
   {
    "duration": 3547,
    "start_time": "2023-08-03T09:10:53.837Z"
   },
   {
    "duration": 2789,
    "start_time": "2023-08-03T09:10:57.386Z"
   },
   {
    "duration": 12,
    "start_time": "2023-08-03T09:11:00.177Z"
   },
   {
    "duration": 50,
    "start_time": "2023-08-03T09:11:00.192Z"
   },
   {
    "duration": 7709,
    "start_time": "2023-08-03T09:11:00.244Z"
   },
   {
    "duration": 96,
    "start_time": "2023-08-03T09:11:07.956Z"
   },
   {
    "duration": 12758,
    "start_time": "2023-08-03T09:11:08.054Z"
   },
   {
    "duration": 56906,
    "start_time": "2023-08-03T09:11:20.814Z"
   },
   {
    "duration": 50302,
    "start_time": "2023-08-03T09:12:17.727Z"
   },
   {
    "duration": 39502,
    "start_time": "2023-08-03T09:13:08.110Z"
   },
   {
    "duration": 91,
    "start_time": "2023-08-03T09:13:47.621Z"
   },
   {
    "duration": 1294,
    "start_time": "2023-08-03T09:13:47.719Z"
   },
   {
    "duration": 27898,
    "start_time": "2023-08-03T09:13:49.020Z"
   },
   {
    "duration": 99586,
    "start_time": "2023-08-03T09:14:16.928Z"
   },
   {
    "duration": 17,
    "start_time": "2023-08-03T09:15:56.517Z"
   },
   {
    "duration": 0,
    "start_time": "2023-08-03T09:55:08.854Z"
   },
   {
    "duration": 0,
    "start_time": "2023-08-03T09:55:08.857Z"
   },
   {
    "duration": 0,
    "start_time": "2023-08-03T09:55:08.861Z"
   },
   {
    "duration": 0,
    "start_time": "2023-08-03T09:55:08.863Z"
   },
   {
    "duration": 0,
    "start_time": "2023-08-03T09:55:08.866Z"
   },
   {
    "duration": 0,
    "start_time": "2023-08-03T09:55:08.870Z"
   },
   {
    "duration": 0,
    "start_time": "2023-08-03T09:55:08.872Z"
   },
   {
    "duration": 0,
    "start_time": "2023-08-03T09:55:08.911Z"
   },
   {
    "duration": 0,
    "start_time": "2023-08-03T09:55:08.913Z"
   },
   {
    "duration": 0,
    "start_time": "2023-08-03T09:55:08.916Z"
   },
   {
    "duration": 0,
    "start_time": "2023-08-03T09:55:08.918Z"
   },
   {
    "duration": 0,
    "start_time": "2023-08-03T09:55:08.919Z"
   },
   {
    "duration": 0,
    "start_time": "2023-08-03T09:55:08.930Z"
   },
   {
    "duration": 0,
    "start_time": "2023-08-03T09:55:08.933Z"
   },
   {
    "duration": 0,
    "start_time": "2023-08-03T09:55:08.936Z"
   },
   {
    "duration": 0,
    "start_time": "2023-08-03T09:55:08.940Z"
   },
   {
    "duration": 0,
    "start_time": "2023-08-03T09:55:08.943Z"
   },
   {
    "duration": 0,
    "start_time": "2023-08-03T09:55:08.944Z"
   },
   {
    "duration": 0,
    "start_time": "2023-08-03T09:55:08.948Z"
   },
   {
    "duration": 0,
    "start_time": "2023-08-03T09:55:08.951Z"
   },
   {
    "duration": 0,
    "start_time": "2023-08-03T09:55:08.954Z"
   },
   {
    "duration": 0,
    "start_time": "2023-08-03T09:55:08.956Z"
   },
   {
    "duration": 5,
    "start_time": "2023-08-03T09:57:01.188Z"
   },
   {
    "duration": 955,
    "start_time": "2023-08-03T09:57:01.195Z"
   },
   {
    "duration": 10,
    "start_time": "2023-08-03T09:57:02.152Z"
   },
   {
    "duration": 37,
    "start_time": "2023-08-03T09:57:02.163Z"
   },
   {
    "duration": 6130,
    "start_time": "2023-08-03T09:57:02.203Z"
   },
   {
    "duration": 93,
    "start_time": "2023-08-03T09:57:08.336Z"
   },
   {
    "duration": 7544,
    "start_time": "2023-08-03T09:57:08.431Z"
   },
   {
    "duration": 57334,
    "start_time": "2023-08-03T09:57:15.978Z"
   },
   {
    "duration": 49193,
    "start_time": "2023-08-03T09:58:13.316Z"
   },
   {
    "duration": 38016,
    "start_time": "2023-08-03T09:59:02.514Z"
   },
   {
    "duration": 60,
    "start_time": "2023-08-03T09:59:40.533Z"
   },
   {
    "duration": 1253,
    "start_time": "2023-08-03T09:59:40.595Z"
   },
   {
    "duration": 24261,
    "start_time": "2023-08-03T09:59:41.850Z"
   },
   {
    "duration": 99706,
    "start_time": "2023-08-03T10:00:06.114Z"
   },
   {
    "duration": 17,
    "start_time": "2023-08-03T10:01:45.828Z"
   },
   {
    "duration": 332160,
    "start_time": "2023-08-03T10:01:45.857Z"
   },
   {
    "duration": 29143,
    "start_time": "2023-08-03T10:07:18.023Z"
   },
   {
    "duration": 842407,
    "start_time": "2023-08-03T10:07:47.168Z"
   },
   {
    "duration": 36776,
    "start_time": "2023-08-03T10:21:49.577Z"
   },
   {
    "duration": 1919,
    "start_time": "2023-08-03T10:29:01.299Z"
   },
   {
    "duration": 992,
    "start_time": "2023-08-03T10:29:03.221Z"
   },
   {
    "duration": 16,
    "start_time": "2023-08-03T10:29:04.217Z"
   },
   {
    "duration": 148,
    "start_time": "2023-08-03T10:29:04.236Z"
   },
   {
    "duration": 7693,
    "start_time": "2023-08-03T10:29:04.387Z"
   },
   {
    "duration": 82,
    "start_time": "2023-08-03T10:29:12.082Z"
   },
   {
    "duration": 7959,
    "start_time": "2023-08-03T10:29:12.166Z"
   },
   {
    "duration": 57815,
    "start_time": "2023-08-03T10:29:20.126Z"
   },
   {
    "duration": 48979,
    "start_time": "2023-08-03T10:30:17.947Z"
   },
   {
    "duration": 38701,
    "start_time": "2023-08-03T10:31:06.928Z"
   },
   {
    "duration": 30,
    "start_time": "2023-08-03T10:31:45.631Z"
   },
   {
    "duration": 1209,
    "start_time": "2023-08-03T10:31:45.663Z"
   },
   {
    "duration": 27384,
    "start_time": "2023-08-03T10:31:46.874Z"
   },
   {
    "duration": 0,
    "start_time": "2023-08-03T10:32:14.259Z"
   },
   {
    "duration": 0,
    "start_time": "2023-08-03T10:32:14.261Z"
   },
   {
    "duration": 0,
    "start_time": "2023-08-03T10:32:14.262Z"
   },
   {
    "duration": 0,
    "start_time": "2023-08-03T10:32:14.263Z"
   },
   {
    "duration": 0,
    "start_time": "2023-08-03T10:32:14.264Z"
   },
   {
    "duration": 0,
    "start_time": "2023-08-03T10:32:14.266Z"
   },
   {
    "duration": 0,
    "start_time": "2023-08-03T10:32:14.267Z"
   },
   {
    "duration": 0,
    "start_time": "2023-08-03T10:32:14.268Z"
   },
   {
    "duration": 0,
    "start_time": "2023-08-03T10:32:14.270Z"
   },
   {
    "duration": 25004,
    "start_time": "2023-08-03T14:26:04.431Z"
   },
   {
    "duration": 20,
    "start_time": "2023-08-03T14:46:50.290Z"
   },
   {
    "duration": 176116,
    "start_time": "2023-08-03T14:48:05.700Z"
   },
   {
    "duration": 52,
    "start_time": "2023-08-03T15:03:43.295Z"
   },
   {
    "duration": 6,
    "start_time": "2023-08-03T15:20:39.826Z"
   },
   {
    "duration": 1011,
    "start_time": "2023-08-03T15:20:39.835Z"
   },
   {
    "duration": 8,
    "start_time": "2023-08-03T15:20:40.849Z"
   },
   {
    "duration": 34,
    "start_time": "2023-08-03T15:20:40.858Z"
   },
   {
    "duration": 6424,
    "start_time": "2023-08-03T15:20:40.895Z"
   },
   {
    "duration": 87,
    "start_time": "2023-08-03T15:20:47.321Z"
   },
   {
    "duration": 8220,
    "start_time": "2023-08-03T15:20:47.410Z"
   },
   {
    "duration": 50576,
    "start_time": "2023-08-03T15:20:55.632Z"
   },
   {
    "duration": 43140,
    "start_time": "2023-08-03T15:21:46.211Z"
   },
   {
    "duration": 31578,
    "start_time": "2023-08-03T15:22:29.354Z"
   },
   {
    "duration": 41,
    "start_time": "2023-08-03T15:23:00.936Z"
   },
   {
    "duration": 1367,
    "start_time": "2023-08-03T15:23:00.979Z"
   },
   {
    "duration": 3,
    "start_time": "2023-08-03T15:23:02.348Z"
   },
   {
    "duration": 84464,
    "start_time": "2023-08-03T15:23:02.352Z"
   },
   {
    "duration": 14,
    "start_time": "2023-08-03T15:24:26.818Z"
   },
   {
    "duration": 278436,
    "start_time": "2023-08-03T15:24:26.835Z"
   },
   {
    "duration": 27422,
    "start_time": "2023-08-03T15:29:05.273Z"
   },
   {
    "duration": 830393,
    "start_time": "2023-08-03T15:29:32.696Z"
   },
   {
    "duration": 42273,
    "start_time": "2023-08-03T15:43:23.092Z"
   },
   {
    "duration": 1151622,
    "start_time": "2023-08-03T15:44:05.368Z"
   },
   {
    "duration": 10,
    "start_time": "2023-08-03T16:03:16.992Z"
   },
   {
    "duration": 28307,
    "start_time": "2023-08-03T16:03:17.011Z"
   },
   {
    "duration": 6,
    "start_time": "2023-08-04T07:07:40.431Z"
   },
   {
    "duration": 2475,
    "start_time": "2023-08-04T07:07:40.443Z"
   },
   {
    "duration": 10,
    "start_time": "2023-08-04T07:07:42.921Z"
   },
   {
    "duration": 29,
    "start_time": "2023-08-04T07:07:42.934Z"
   },
   {
    "duration": 532,
    "start_time": "2023-08-04T07:07:42.968Z"
   },
   {
    "duration": 0,
    "start_time": "2023-08-04T07:07:43.503Z"
   },
   {
    "duration": 0,
    "start_time": "2023-08-04T07:07:43.505Z"
   },
   {
    "duration": 0,
    "start_time": "2023-08-04T07:07:43.507Z"
   },
   {
    "duration": 0,
    "start_time": "2023-08-04T07:07:43.509Z"
   },
   {
    "duration": 0,
    "start_time": "2023-08-04T07:07:43.510Z"
   },
   {
    "duration": 0,
    "start_time": "2023-08-04T07:07:43.512Z"
   },
   {
    "duration": 0,
    "start_time": "2023-08-04T07:07:43.514Z"
   },
   {
    "duration": 0,
    "start_time": "2023-08-04T07:07:43.515Z"
   },
   {
    "duration": 0,
    "start_time": "2023-08-04T07:07:43.516Z"
   },
   {
    "duration": 0,
    "start_time": "2023-08-04T07:07:43.518Z"
   },
   {
    "duration": 0,
    "start_time": "2023-08-04T07:07:43.520Z"
   },
   {
    "duration": 0,
    "start_time": "2023-08-04T07:07:43.521Z"
   },
   {
    "duration": 0,
    "start_time": "2023-08-04T07:07:43.523Z"
   },
   {
    "duration": 0,
    "start_time": "2023-08-04T07:07:43.525Z"
   },
   {
    "duration": 0,
    "start_time": "2023-08-04T07:07:43.527Z"
   },
   {
    "duration": 0,
    "start_time": "2023-08-04T07:07:43.529Z"
   },
   {
    "duration": 0,
    "start_time": "2023-08-04T07:07:43.531Z"
   },
   {
    "duration": 985,
    "start_time": "2023-08-04T07:08:55.869Z"
   },
   {
    "duration": 721,
    "start_time": "2023-08-04T07:10:15.588Z"
   },
   {
    "duration": 659,
    "start_time": "2023-08-04T07:10:53.454Z"
   },
   {
    "duration": 5489,
    "start_time": "2023-08-04T07:13:21.661Z"
   },
   {
    "duration": 5,
    "start_time": "2023-08-04T07:15:48.735Z"
   },
   {
    "duration": 892,
    "start_time": "2023-08-04T07:15:48.750Z"
   },
   {
    "duration": 10,
    "start_time": "2023-08-04T07:15:49.646Z"
   },
   {
    "duration": 40,
    "start_time": "2023-08-04T07:15:49.658Z"
   },
   {
    "duration": 5539,
    "start_time": "2023-08-04T07:15:49.702Z"
   },
   {
    "duration": 107,
    "start_time": "2023-08-04T07:15:55.243Z"
   },
   {
    "duration": 7471,
    "start_time": "2023-08-04T07:15:55.352Z"
   },
   {
    "duration": 49906,
    "start_time": "2023-08-04T07:16:02.825Z"
   },
   {
    "duration": 41386,
    "start_time": "2023-08-04T07:16:52.733Z"
   },
   {
    "duration": 35902,
    "start_time": "2023-08-04T07:17:34.121Z"
   },
   {
    "duration": 42,
    "start_time": "2023-08-04T07:18:10.026Z"
   },
   {
    "duration": 1158,
    "start_time": "2023-08-04T07:18:10.069Z"
   },
   {
    "duration": 3,
    "start_time": "2023-08-04T07:18:11.230Z"
   },
   {
    "duration": 84915,
    "start_time": "2023-08-04T07:18:11.235Z"
   },
   {
    "duration": 11,
    "start_time": "2023-08-04T07:19:36.152Z"
   },
   {
    "duration": 286475,
    "start_time": "2023-08-04T07:19:36.164Z"
   },
   {
    "duration": 31314,
    "start_time": "2023-08-04T07:24:22.641Z"
   },
   {
    "duration": 747121,
    "start_time": "2023-08-04T07:24:53.957Z"
   },
   {
    "duration": 32786,
    "start_time": "2023-08-04T07:37:21.079Z"
   },
   {
    "duration": 1016199,
    "start_time": "2023-08-04T07:37:53.867Z"
   },
   {
    "duration": 9,
    "start_time": "2023-08-04T07:54:50.068Z"
   },
   {
    "duration": 32270,
    "start_time": "2023-08-04T07:54:50.078Z"
   },
   {
    "duration": 3400,
    "start_time": "2023-08-04T08:17:40.988Z"
   },
   {
    "duration": 2723,
    "start_time": "2023-08-04T08:20:28.815Z"
   },
   {
    "duration": 1945,
    "start_time": "2023-08-04T08:22:44.723Z"
   },
   {
    "duration": 938,
    "start_time": "2023-08-04T08:22:46.670Z"
   },
   {
    "duration": 11,
    "start_time": "2023-08-04T08:22:47.610Z"
   },
   {
    "duration": 13,
    "start_time": "2023-08-04T08:22:47.623Z"
   },
   {
    "duration": 6664,
    "start_time": "2023-08-04T08:22:47.638Z"
   },
   {
    "duration": 68,
    "start_time": "2023-08-04T08:22:54.304Z"
   },
   {
    "duration": 7041,
    "start_time": "2023-08-04T08:22:54.374Z"
   },
   {
    "duration": 48406,
    "start_time": "2023-08-04T08:23:01.417Z"
   },
   {
    "duration": 41389,
    "start_time": "2023-08-04T08:23:49.825Z"
   },
   {
    "duration": 29904,
    "start_time": "2023-08-04T08:24:31.216Z"
   },
   {
    "duration": 33,
    "start_time": "2023-08-04T08:25:01.122Z"
   },
   {
    "duration": 1152,
    "start_time": "2023-08-04T08:25:01.157Z"
   },
   {
    "duration": 2,
    "start_time": "2023-08-04T08:25:02.311Z"
   },
   {
    "duration": 82605,
    "start_time": "2023-08-04T08:25:02.315Z"
   },
   {
    "duration": 133,
    "start_time": "2023-08-04T08:26:24.922Z"
   },
   {
    "duration": 0,
    "start_time": "2023-08-04T08:26:25.056Z"
   },
   {
    "duration": 0,
    "start_time": "2023-08-04T08:26:25.058Z"
   },
   {
    "duration": 0,
    "start_time": "2023-08-04T08:26:25.059Z"
   },
   {
    "duration": 0,
    "start_time": "2023-08-04T08:26:25.060Z"
   },
   {
    "duration": 0,
    "start_time": "2023-08-04T08:26:25.061Z"
   },
   {
    "duration": 0,
    "start_time": "2023-08-04T08:26:25.062Z"
   },
   {
    "duration": 0,
    "start_time": "2023-08-04T08:26:25.063Z"
   },
   {
    "duration": 5,
    "start_time": "2023-08-04T10:19:18.069Z"
   },
   {
    "duration": 795,
    "start_time": "2023-08-04T10:19:18.075Z"
   },
   {
    "duration": 7,
    "start_time": "2023-08-04T10:19:18.872Z"
   },
   {
    "duration": 13,
    "start_time": "2023-08-04T10:19:18.881Z"
   },
   {
    "duration": 6,
    "start_time": "2023-08-04T10:19:18.910Z"
   },
   {
    "duration": 0,
    "start_time": "2023-08-04T10:19:18.917Z"
   },
   {
    "duration": 0,
    "start_time": "2023-08-04T10:19:18.918Z"
   },
   {
    "duration": 0,
    "start_time": "2023-08-04T10:19:18.920Z"
   },
   {
    "duration": 0,
    "start_time": "2023-08-04T10:19:18.921Z"
   },
   {
    "duration": 0,
    "start_time": "2023-08-04T10:19:18.922Z"
   },
   {
    "duration": 0,
    "start_time": "2023-08-04T10:19:18.923Z"
   },
   {
    "duration": 0,
    "start_time": "2023-08-04T10:19:18.924Z"
   },
   {
    "duration": 0,
    "start_time": "2023-08-04T10:19:18.925Z"
   },
   {
    "duration": 0,
    "start_time": "2023-08-04T10:19:18.926Z"
   },
   {
    "duration": 0,
    "start_time": "2023-08-04T10:19:18.927Z"
   },
   {
    "duration": 0,
    "start_time": "2023-08-04T10:19:18.928Z"
   },
   {
    "duration": 0,
    "start_time": "2023-08-04T10:19:18.929Z"
   },
   {
    "duration": 0,
    "start_time": "2023-08-04T10:19:18.930Z"
   },
   {
    "duration": 0,
    "start_time": "2023-08-04T10:19:18.931Z"
   },
   {
    "duration": 0,
    "start_time": "2023-08-04T10:19:18.932Z"
   },
   {
    "duration": 0,
    "start_time": "2023-08-04T10:19:18.933Z"
   },
   {
    "duration": 0,
    "start_time": "2023-08-04T10:19:18.934Z"
   },
   {
    "duration": 794,
    "start_time": "2023-08-04T11:35:29.179Z"
   },
   {
    "duration": 5,
    "start_time": "2023-08-04T11:39:40.792Z"
   },
   {
    "duration": 881,
    "start_time": "2023-08-04T11:39:40.799Z"
   },
   {
    "duration": 7,
    "start_time": "2023-08-04T11:39:41.682Z"
   },
   {
    "duration": 26,
    "start_time": "2023-08-04T11:39:41.691Z"
   },
   {
    "duration": 629,
    "start_time": "2023-08-04T11:39:41.719Z"
   },
   {
    "duration": 0,
    "start_time": "2023-08-04T11:39:42.351Z"
   },
   {
    "duration": 0,
    "start_time": "2023-08-04T11:39:42.352Z"
   },
   {
    "duration": 0,
    "start_time": "2023-08-04T11:39:42.353Z"
   },
   {
    "duration": 0,
    "start_time": "2023-08-04T11:39:42.354Z"
   },
   {
    "duration": 0,
    "start_time": "2023-08-04T11:39:42.355Z"
   },
   {
    "duration": 0,
    "start_time": "2023-08-04T11:39:42.356Z"
   },
   {
    "duration": 0,
    "start_time": "2023-08-04T11:39:42.357Z"
   },
   {
    "duration": 0,
    "start_time": "2023-08-04T11:39:42.358Z"
   },
   {
    "duration": 0,
    "start_time": "2023-08-04T11:39:42.359Z"
   },
   {
    "duration": 0,
    "start_time": "2023-08-04T11:39:42.360Z"
   },
   {
    "duration": 0,
    "start_time": "2023-08-04T11:39:42.361Z"
   },
   {
    "duration": 0,
    "start_time": "2023-08-04T11:39:42.362Z"
   },
   {
    "duration": 0,
    "start_time": "2023-08-04T11:39:42.366Z"
   },
   {
    "duration": 0,
    "start_time": "2023-08-04T11:39:42.367Z"
   },
   {
    "duration": 0,
    "start_time": "2023-08-04T11:39:42.368Z"
   },
   {
    "duration": 0,
    "start_time": "2023-08-04T11:39:42.369Z"
   },
   {
    "duration": 0,
    "start_time": "2023-08-04T11:39:42.370Z"
   },
   {
    "duration": 26,
    "start_time": "2023-08-04T11:44:38.490Z"
   },
   {
    "duration": 5371,
    "start_time": "2023-08-04T11:45:50.860Z"
   },
   {
    "duration": 4104,
    "start_time": "2023-08-04T11:49:15.979Z"
   },
   {
    "duration": 4572,
    "start_time": "2023-08-04T11:50:32.195Z"
   },
   {
    "duration": 3259,
    "start_time": "2023-08-04T11:51:41.203Z"
   },
   {
    "duration": 2084,
    "start_time": "2023-08-04T11:52:53.283Z"
   },
   {
    "duration": 2125,
    "start_time": "2023-08-04T11:53:13.251Z"
   },
   {
    "duration": 7,
    "start_time": "2023-08-04T11:55:12.762Z"
   },
   {
    "duration": 6,
    "start_time": "2023-08-04T11:59:11.745Z"
   },
   {
    "duration": 6,
    "start_time": "2023-08-04T12:00:32.105Z"
   },
   {
    "duration": 6,
    "start_time": "2023-08-04T12:01:53.208Z"
   },
   {
    "duration": 7,
    "start_time": "2023-08-04T12:24:07.565Z"
   },
   {
    "duration": 6,
    "start_time": "2023-08-04T12:24:40.798Z"
   },
   {
    "duration": 5,
    "start_time": "2023-08-04T12:26:35.628Z"
   },
   {
    "duration": 890,
    "start_time": "2023-08-04T12:26:35.636Z"
   },
   {
    "duration": 7,
    "start_time": "2023-08-04T12:26:36.528Z"
   },
   {
    "duration": 14,
    "start_time": "2023-08-04T12:26:36.537Z"
   },
   {
    "duration": 7,
    "start_time": "2023-08-04T12:26:36.553Z"
   },
   {
    "duration": 0,
    "start_time": "2023-08-04T12:26:36.561Z"
   },
   {
    "duration": 0,
    "start_time": "2023-08-04T12:26:36.563Z"
   },
   {
    "duration": 0,
    "start_time": "2023-08-04T12:26:36.563Z"
   },
   {
    "duration": 0,
    "start_time": "2023-08-04T12:26:36.565Z"
   },
   {
    "duration": 0,
    "start_time": "2023-08-04T12:26:36.566Z"
   },
   {
    "duration": 0,
    "start_time": "2023-08-04T12:26:36.568Z"
   },
   {
    "duration": 0,
    "start_time": "2023-08-04T12:26:36.569Z"
   },
   {
    "duration": 0,
    "start_time": "2023-08-04T12:26:36.570Z"
   },
   {
    "duration": 0,
    "start_time": "2023-08-04T12:26:36.571Z"
   },
   {
    "duration": 0,
    "start_time": "2023-08-04T12:26:36.572Z"
   },
   {
    "duration": 0,
    "start_time": "2023-08-04T12:26:36.609Z"
   },
   {
    "duration": 0,
    "start_time": "2023-08-04T12:26:36.610Z"
   },
   {
    "duration": 0,
    "start_time": "2023-08-04T12:26:36.611Z"
   },
   {
    "duration": 0,
    "start_time": "2023-08-04T12:26:36.613Z"
   },
   {
    "duration": 0,
    "start_time": "2023-08-04T12:26:36.614Z"
   },
   {
    "duration": 0,
    "start_time": "2023-08-04T12:26:36.615Z"
   },
   {
    "duration": 0,
    "start_time": "2023-08-04T12:26:36.616Z"
   },
   {
    "duration": 1707,
    "start_time": "2023-08-04T12:26:43.071Z"
   },
   {
    "duration": 949,
    "start_time": "2023-08-04T12:26:44.780Z"
   },
   {
    "duration": 13,
    "start_time": "2023-08-04T12:26:45.730Z"
   },
   {
    "duration": 43,
    "start_time": "2023-08-04T12:26:45.745Z"
   },
   {
    "duration": 6,
    "start_time": "2023-08-04T12:26:45.790Z"
   },
   {
    "duration": 0,
    "start_time": "2023-08-04T12:26:45.798Z"
   },
   {
    "duration": 0,
    "start_time": "2023-08-04T12:26:45.799Z"
   },
   {
    "duration": 0,
    "start_time": "2023-08-04T12:26:45.800Z"
   },
   {
    "duration": 0,
    "start_time": "2023-08-04T12:26:45.801Z"
   },
   {
    "duration": 0,
    "start_time": "2023-08-04T12:26:45.817Z"
   },
   {
    "duration": 0,
    "start_time": "2023-08-04T12:26:45.819Z"
   },
   {
    "duration": 0,
    "start_time": "2023-08-04T12:26:45.820Z"
   },
   {
    "duration": 0,
    "start_time": "2023-08-04T12:26:45.821Z"
   },
   {
    "duration": 0,
    "start_time": "2023-08-04T12:26:45.823Z"
   },
   {
    "duration": 0,
    "start_time": "2023-08-04T12:26:45.825Z"
   },
   {
    "duration": 0,
    "start_time": "2023-08-04T12:26:45.826Z"
   },
   {
    "duration": 0,
    "start_time": "2023-08-04T12:26:45.827Z"
   },
   {
    "duration": 0,
    "start_time": "2023-08-04T12:26:45.829Z"
   },
   {
    "duration": 0,
    "start_time": "2023-08-04T12:26:45.830Z"
   },
   {
    "duration": 0,
    "start_time": "2023-08-04T12:26:45.832Z"
   },
   {
    "duration": 0,
    "start_time": "2023-08-04T12:26:45.833Z"
   },
   {
    "duration": 0,
    "start_time": "2023-08-04T12:26:45.834Z"
   },
   {
    "duration": 6,
    "start_time": "2023-08-04T12:29:01.462Z"
   },
   {
    "duration": 6,
    "start_time": "2023-08-04T12:30:28.565Z"
   },
   {
    "duration": 6,
    "start_time": "2023-08-04T12:30:38.088Z"
   },
   {
    "duration": 129,
    "start_time": "2023-08-04T12:31:10.895Z"
   },
   {
    "duration": 14,
    "start_time": "2023-08-04T12:33:27.452Z"
   },
   {
    "duration": 1968,
    "start_time": "2023-08-04T12:34:49.479Z"
   },
   {
    "duration": 17,
    "start_time": "2023-08-04T12:35:49.109Z"
   },
   {
    "duration": 18,
    "start_time": "2023-08-04T12:37:03.347Z"
   },
   {
    "duration": 13,
    "start_time": "2023-08-04T12:51:52.222Z"
   },
   {
    "duration": 5,
    "start_time": "2023-08-04T12:52:35.378Z"
   },
   {
    "duration": 921,
    "start_time": "2023-08-04T12:52:35.386Z"
   },
   {
    "duration": 9,
    "start_time": "2023-08-04T12:52:36.311Z"
   },
   {
    "duration": 40,
    "start_time": "2023-08-04T12:52:36.323Z"
   },
   {
    "duration": 60,
    "start_time": "2023-08-04T12:52:36.365Z"
   },
   {
    "duration": 0,
    "start_time": "2023-08-04T12:52:36.428Z"
   },
   {
    "duration": 0,
    "start_time": "2023-08-04T12:52:36.430Z"
   },
   {
    "duration": 0,
    "start_time": "2023-08-04T12:52:36.431Z"
   },
   {
    "duration": 0,
    "start_time": "2023-08-04T12:52:36.433Z"
   },
   {
    "duration": 0,
    "start_time": "2023-08-04T12:52:36.434Z"
   },
   {
    "duration": 0,
    "start_time": "2023-08-04T12:52:36.436Z"
   },
   {
    "duration": 0,
    "start_time": "2023-08-04T12:52:36.437Z"
   },
   {
    "duration": 1,
    "start_time": "2023-08-04T12:52:36.438Z"
   },
   {
    "duration": 0,
    "start_time": "2023-08-04T12:52:36.440Z"
   },
   {
    "duration": 0,
    "start_time": "2023-08-04T12:52:36.441Z"
   },
   {
    "duration": 0,
    "start_time": "2023-08-04T12:52:36.443Z"
   },
   {
    "duration": 0,
    "start_time": "2023-08-04T12:52:36.444Z"
   },
   {
    "duration": 0,
    "start_time": "2023-08-04T12:52:36.446Z"
   },
   {
    "duration": 0,
    "start_time": "2023-08-04T12:52:36.447Z"
   },
   {
    "duration": 0,
    "start_time": "2023-08-04T12:52:36.448Z"
   },
   {
    "duration": 0,
    "start_time": "2023-08-04T12:52:36.449Z"
   },
   {
    "duration": 0,
    "start_time": "2023-08-04T12:52:36.450Z"
   },
   {
    "duration": 15,
    "start_time": "2023-08-04T12:54:20.534Z"
   },
   {
    "duration": 19,
    "start_time": "2023-08-04T12:54:55.791Z"
   },
   {
    "duration": 6,
    "start_time": "2023-08-04T12:55:01.488Z"
   },
   {
    "duration": 941,
    "start_time": "2023-08-04T12:55:01.496Z"
   },
   {
    "duration": 9,
    "start_time": "2023-08-04T12:55:02.439Z"
   },
   {
    "duration": 30,
    "start_time": "2023-08-04T12:55:02.450Z"
   },
   {
    "duration": 34,
    "start_time": "2023-08-04T12:55:02.483Z"
   },
   {
    "duration": 0,
    "start_time": "2023-08-04T12:55:02.520Z"
   },
   {
    "duration": 0,
    "start_time": "2023-08-04T12:55:02.521Z"
   },
   {
    "duration": 0,
    "start_time": "2023-08-04T12:55:02.522Z"
   },
   {
    "duration": 0,
    "start_time": "2023-08-04T12:55:02.524Z"
   },
   {
    "duration": 0,
    "start_time": "2023-08-04T12:55:02.526Z"
   },
   {
    "duration": 0,
    "start_time": "2023-08-04T12:55:02.527Z"
   },
   {
    "duration": 0,
    "start_time": "2023-08-04T12:55:02.528Z"
   },
   {
    "duration": 0,
    "start_time": "2023-08-04T12:55:02.530Z"
   },
   {
    "duration": 0,
    "start_time": "2023-08-04T12:55:02.531Z"
   },
   {
    "duration": 0,
    "start_time": "2023-08-04T12:55:02.532Z"
   },
   {
    "duration": 0,
    "start_time": "2023-08-04T12:55:02.533Z"
   },
   {
    "duration": 0,
    "start_time": "2023-08-04T12:55:02.534Z"
   },
   {
    "duration": 0,
    "start_time": "2023-08-04T12:55:02.535Z"
   },
   {
    "duration": 0,
    "start_time": "2023-08-04T12:55:02.536Z"
   },
   {
    "duration": 0,
    "start_time": "2023-08-04T12:55:02.537Z"
   },
   {
    "duration": 0,
    "start_time": "2023-08-04T12:55:02.538Z"
   },
   {
    "duration": 0,
    "start_time": "2023-08-04T12:55:02.539Z"
   },
   {
    "duration": 152,
    "start_time": "2023-08-04T12:58:45.367Z"
   },
   {
    "duration": 16,
    "start_time": "2023-08-04T12:59:09.117Z"
   },
   {
    "duration": 442,
    "start_time": "2023-08-04T13:01:23.805Z"
   },
   {
    "duration": 526,
    "start_time": "2023-08-04T13:03:28.484Z"
   },
   {
    "duration": 5,
    "start_time": "2023-08-04T13:04:30.399Z"
   },
   {
    "duration": 930,
    "start_time": "2023-08-04T13:04:30.405Z"
   },
   {
    "duration": 7,
    "start_time": "2023-08-04T13:04:31.338Z"
   },
   {
    "duration": 36,
    "start_time": "2023-08-04T13:04:31.347Z"
   },
   {
    "duration": 483,
    "start_time": "2023-08-04T13:04:31.386Z"
   },
   {
    "duration": 0,
    "start_time": "2023-08-04T13:04:31.871Z"
   },
   {
    "duration": 0,
    "start_time": "2023-08-04T13:04:31.873Z"
   },
   {
    "duration": 0,
    "start_time": "2023-08-04T13:04:31.874Z"
   },
   {
    "duration": 0,
    "start_time": "2023-08-04T13:04:31.875Z"
   },
   {
    "duration": 0,
    "start_time": "2023-08-04T13:04:31.877Z"
   },
   {
    "duration": 0,
    "start_time": "2023-08-04T13:04:31.878Z"
   },
   {
    "duration": 0,
    "start_time": "2023-08-04T13:04:31.880Z"
   },
   {
    "duration": 0,
    "start_time": "2023-08-04T13:04:31.891Z"
   },
   {
    "duration": 0,
    "start_time": "2023-08-04T13:04:31.892Z"
   },
   {
    "duration": 0,
    "start_time": "2023-08-04T13:04:31.894Z"
   },
   {
    "duration": 0,
    "start_time": "2023-08-04T13:04:31.895Z"
   },
   {
    "duration": 0,
    "start_time": "2023-08-04T13:04:31.897Z"
   },
   {
    "duration": 0,
    "start_time": "2023-08-04T13:04:31.898Z"
   },
   {
    "duration": 0,
    "start_time": "2023-08-04T13:04:31.899Z"
   },
   {
    "duration": 0,
    "start_time": "2023-08-04T13:04:31.900Z"
   },
   {
    "duration": 0,
    "start_time": "2023-08-04T13:04:31.902Z"
   },
   {
    "duration": 0,
    "start_time": "2023-08-04T13:04:31.903Z"
   },
   {
    "duration": 1707,
    "start_time": "2023-08-04T13:16:44.815Z"
   },
   {
    "duration": 969,
    "start_time": "2023-08-04T13:16:46.525Z"
   },
   {
    "duration": 25,
    "start_time": "2023-08-04T13:16:47.496Z"
   },
   {
    "duration": 20,
    "start_time": "2023-08-04T13:16:47.523Z"
   },
   {
    "duration": 786,
    "start_time": "2023-08-04T13:16:47.545Z"
   },
   {
    "duration": 0,
    "start_time": "2023-08-04T13:16:48.334Z"
   },
   {
    "duration": 0,
    "start_time": "2023-08-04T13:16:48.335Z"
   },
   {
    "duration": 0,
    "start_time": "2023-08-04T13:16:48.337Z"
   },
   {
    "duration": 0,
    "start_time": "2023-08-04T13:16:48.338Z"
   },
   {
    "duration": 0,
    "start_time": "2023-08-04T13:16:48.340Z"
   },
   {
    "duration": 0,
    "start_time": "2023-08-04T13:16:48.341Z"
   },
   {
    "duration": 0,
    "start_time": "2023-08-04T13:16:48.342Z"
   },
   {
    "duration": 0,
    "start_time": "2023-08-04T13:16:48.344Z"
   },
   {
    "duration": 0,
    "start_time": "2023-08-04T13:16:48.346Z"
   },
   {
    "duration": 0,
    "start_time": "2023-08-04T13:16:48.347Z"
   },
   {
    "duration": 0,
    "start_time": "2023-08-04T13:16:48.348Z"
   },
   {
    "duration": 0,
    "start_time": "2023-08-04T13:16:48.350Z"
   },
   {
    "duration": 0,
    "start_time": "2023-08-04T13:16:48.351Z"
   },
   {
    "duration": 0,
    "start_time": "2023-08-04T13:16:48.352Z"
   },
   {
    "duration": 0,
    "start_time": "2023-08-04T13:16:48.353Z"
   },
   {
    "duration": 1,
    "start_time": "2023-08-04T13:16:48.354Z"
   },
   {
    "duration": 0,
    "start_time": "2023-08-04T13:16:48.356Z"
   },
   {
    "duration": 529,
    "start_time": "2023-08-04T13:33:22.807Z"
   },
   {
    "duration": 544,
    "start_time": "2023-08-04T13:36:09.544Z"
   },
   {
    "duration": 411,
    "start_time": "2023-08-04T13:37:37.606Z"
   },
   {
    "duration": 5,
    "start_time": "2023-08-04T13:37:50.304Z"
   },
   {
    "duration": 860,
    "start_time": "2023-08-04T13:37:50.311Z"
   },
   {
    "duration": 8,
    "start_time": "2023-08-04T13:37:51.172Z"
   },
   {
    "duration": 28,
    "start_time": "2023-08-04T13:37:51.181Z"
   },
   {
    "duration": 494,
    "start_time": "2023-08-04T13:37:51.212Z"
   },
   {
    "duration": 0,
    "start_time": "2023-08-04T13:37:51.708Z"
   },
   {
    "duration": 0,
    "start_time": "2023-08-04T13:37:51.710Z"
   },
   {
    "duration": 0,
    "start_time": "2023-08-04T13:37:51.711Z"
   },
   {
    "duration": 0,
    "start_time": "2023-08-04T13:37:51.712Z"
   },
   {
    "duration": 0,
    "start_time": "2023-08-04T13:37:51.713Z"
   },
   {
    "duration": 0,
    "start_time": "2023-08-04T13:37:51.715Z"
   },
   {
    "duration": 0,
    "start_time": "2023-08-04T13:37:51.716Z"
   },
   {
    "duration": 0,
    "start_time": "2023-08-04T13:37:51.717Z"
   },
   {
    "duration": 0,
    "start_time": "2023-08-04T13:37:51.719Z"
   },
   {
    "duration": 0,
    "start_time": "2023-08-04T13:37:51.720Z"
   },
   {
    "duration": 0,
    "start_time": "2023-08-04T13:37:51.722Z"
   },
   {
    "duration": 0,
    "start_time": "2023-08-04T13:37:51.723Z"
   },
   {
    "duration": 0,
    "start_time": "2023-08-04T13:37:51.724Z"
   },
   {
    "duration": 0,
    "start_time": "2023-08-04T13:37:51.725Z"
   },
   {
    "duration": 0,
    "start_time": "2023-08-04T13:37:51.726Z"
   },
   {
    "duration": 0,
    "start_time": "2023-08-04T13:37:51.728Z"
   },
   {
    "duration": 0,
    "start_time": "2023-08-04T13:37:51.729Z"
   },
   {
    "duration": 110526,
    "start_time": "2023-08-04T13:42:32.426Z"
   },
   {
    "duration": 24299,
    "start_time": "2023-08-04T13:46:42.006Z"
   },
   {
    "duration": 1651,
    "start_time": "2023-08-04T13:51:31.514Z"
   },
   {
    "duration": 910,
    "start_time": "2023-08-04T13:51:33.167Z"
   },
   {
    "duration": 11,
    "start_time": "2023-08-04T13:51:34.078Z"
   },
   {
    "duration": 37,
    "start_time": "2023-08-04T13:51:34.090Z"
   },
   {
    "duration": 1670,
    "start_time": "2023-08-04T13:53:22.285Z"
   },
   {
    "duration": 948,
    "start_time": "2023-08-04T13:53:23.957Z"
   },
   {
    "duration": 16,
    "start_time": "2023-08-04T13:53:24.909Z"
   },
   {
    "duration": 39,
    "start_time": "2023-08-04T13:53:24.927Z"
   },
   {
    "duration": 130,
    "start_time": "2023-08-04T13:53:24.969Z"
   },
   {
    "duration": 0,
    "start_time": "2023-08-04T13:53:25.101Z"
   },
   {
    "duration": 0,
    "start_time": "2023-08-04T13:53:25.102Z"
   },
   {
    "duration": 0,
    "start_time": "2023-08-04T13:53:25.108Z"
   },
   {
    "duration": 0,
    "start_time": "2023-08-04T13:53:25.109Z"
   },
   {
    "duration": 0,
    "start_time": "2023-08-04T13:53:25.110Z"
   },
   {
    "duration": 0,
    "start_time": "2023-08-04T13:53:25.111Z"
   },
   {
    "duration": 0,
    "start_time": "2023-08-04T13:53:25.111Z"
   },
   {
    "duration": 0,
    "start_time": "2023-08-04T13:53:25.112Z"
   },
   {
    "duration": 0,
    "start_time": "2023-08-04T13:53:25.113Z"
   },
   {
    "duration": 0,
    "start_time": "2023-08-04T13:53:25.114Z"
   },
   {
    "duration": 0,
    "start_time": "2023-08-04T13:53:25.115Z"
   },
   {
    "duration": 0,
    "start_time": "2023-08-04T13:53:25.116Z"
   },
   {
    "duration": 0,
    "start_time": "2023-08-04T13:53:25.118Z"
   },
   {
    "duration": 0,
    "start_time": "2023-08-04T13:53:25.119Z"
   },
   {
    "duration": 0,
    "start_time": "2023-08-04T13:53:25.120Z"
   },
   {
    "duration": 0,
    "start_time": "2023-08-04T13:53:25.121Z"
   },
   {
    "duration": 0,
    "start_time": "2023-08-04T13:53:25.122Z"
   },
   {
    "duration": 565,
    "start_time": "2023-08-04T13:53:45.201Z"
   },
   {
    "duration": 1767,
    "start_time": "2023-08-04T13:55:54.595Z"
   },
   {
    "duration": 949,
    "start_time": "2023-08-04T13:55:56.364Z"
   },
   {
    "duration": 11,
    "start_time": "2023-08-04T13:55:57.314Z"
   },
   {
    "duration": 11,
    "start_time": "2023-08-04T13:55:57.327Z"
   },
   {
    "duration": 754872,
    "start_time": "2023-08-04T13:55:57.339Z"
   },
   {
    "duration": 72,
    "start_time": "2023-08-04T14:08:32.216Z"
   },
   {
    "duration": 5219,
    "start_time": "2023-08-04T14:08:32.290Z"
   },
   {
    "duration": 48026,
    "start_time": "2023-08-04T14:08:37.510Z"
   },
   {
    "duration": 38494,
    "start_time": "2023-08-04T14:09:25.537Z"
   },
   {
    "duration": 30587,
    "start_time": "2023-08-04T14:10:04.035Z"
   },
   {
    "duration": 28,
    "start_time": "2023-08-04T14:10:34.624Z"
   },
   {
    "duration": 955,
    "start_time": "2023-08-04T14:10:34.653Z"
   },
   {
    "duration": 3,
    "start_time": "2023-08-04T14:10:35.610Z"
   },
   {
    "duration": 101288,
    "start_time": "2023-08-04T14:10:35.614Z"
   },
   {
    "duration": 155,
    "start_time": "2023-08-04T14:12:16.904Z"
   },
   {
    "duration": 0,
    "start_time": "2023-08-04T14:12:17.061Z"
   },
   {
    "duration": 0,
    "start_time": "2023-08-04T14:12:17.063Z"
   },
   {
    "duration": 0,
    "start_time": "2023-08-04T14:12:17.065Z"
   },
   {
    "duration": 0,
    "start_time": "2023-08-04T14:12:17.066Z"
   },
   {
    "duration": 0,
    "start_time": "2023-08-04T14:12:17.068Z"
   },
   {
    "duration": 0,
    "start_time": "2023-08-04T14:12:17.069Z"
   },
   {
    "duration": 0,
    "start_time": "2023-08-04T14:12:17.071Z"
   },
   {
    "duration": 12,
    "start_time": "2023-08-04T14:15:12.996Z"
   },
   {
    "duration": 10,
    "start_time": "2023-08-04T14:19:00.283Z"
   },
   {
    "duration": 295724,
    "start_time": "2023-08-04T14:19:09.250Z"
   },
   {
    "duration": 4,
    "start_time": "2023-08-04T14:25:40.670Z"
   },
   {
    "duration": 932,
    "start_time": "2023-08-04T14:25:40.677Z"
   },
   {
    "duration": 17,
    "start_time": "2023-08-04T14:25:41.612Z"
   },
   {
    "duration": 44,
    "start_time": "2023-08-04T14:25:41.631Z"
   },
   {
    "duration": 1657,
    "start_time": "2023-08-04T14:34:13.776Z"
   },
   {
    "duration": 990,
    "start_time": "2023-08-04T14:34:15.435Z"
   },
   {
    "duration": 11,
    "start_time": "2023-08-04T14:34:16.428Z"
   },
   {
    "duration": 48,
    "start_time": "2023-08-04T14:34:16.440Z"
   },
   {
    "duration": 788618,
    "start_time": "2023-08-04T14:34:16.490Z"
   },
   {
    "duration": 104,
    "start_time": "2023-08-04T14:47:25.111Z"
   },
   {
    "duration": 5971,
    "start_time": "2023-08-04T14:47:25.217Z"
   },
   {
    "duration": 63559,
    "start_time": "2023-08-04T14:47:31.190Z"
   },
   {
    "duration": 49577,
    "start_time": "2023-08-04T14:48:34.751Z"
   },
   {
    "duration": 40023,
    "start_time": "2023-08-04T14:49:24.330Z"
   },
   {
    "duration": 85,
    "start_time": "2023-08-04T14:50:04.356Z"
   },
   {
    "duration": 1036,
    "start_time": "2023-08-04T14:50:04.444Z"
   },
   {
    "duration": 3,
    "start_time": "2023-08-04T14:50:05.482Z"
   },
   {
    "duration": 143762,
    "start_time": "2023-08-04T14:50:05.489Z"
   },
   {
    "duration": 14,
    "start_time": "2023-08-04T14:52:29.253Z"
   },
   {
    "duration": 363429,
    "start_time": "2023-08-04T14:52:29.269Z"
   },
   {
    "duration": 33637,
    "start_time": "2023-08-04T14:58:32.700Z"
   },
   {
    "duration": 937430,
    "start_time": "2023-08-04T14:59:06.340Z"
   },
   {
    "duration": 44070,
    "start_time": "2023-08-04T15:14:43.772Z"
   },
   {
    "duration": 1152391,
    "start_time": "2023-08-04T15:15:27.850Z"
   },
   {
    "duration": 13,
    "start_time": "2023-08-04T15:34:40.245Z"
   },
   {
    "duration": 32853,
    "start_time": "2023-08-04T15:34:40.260Z"
   }
  ],
  "kernelspec": {
   "display_name": "Python 3 (ipykernel)",
   "language": "python",
   "name": "python3"
  },
  "language_info": {
   "codemirror_mode": {
    "name": "ipython",
    "version": 3
   },
   "file_extension": ".py",
   "mimetype": "text/x-python",
   "name": "python",
   "nbconvert_exporter": "python",
   "pygments_lexer": "ipython3",
   "version": "3.9.5"
  },
  "toc": {
   "base_numbering": 1,
   "nav_menu": {},
   "number_sections": true,
   "sideBar": true,
   "skip_h1_title": true,
   "title_cell": "Содержание",
   "title_sidebar": "Contents",
   "toc_cell": true,
   "toc_position": {
    "height": "calc(100% - 180px)",
    "left": "10px",
    "top": "150px",
    "width": "302.391px"
   },
   "toc_section_display": true,
   "toc_window_display": false
  }
 },
 "nbformat": 4,
 "nbformat_minor": 2
}
