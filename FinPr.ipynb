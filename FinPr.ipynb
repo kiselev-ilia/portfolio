{
 "cells": [
  {
   "cell_type": "markdown",
   "id": "97b6d6ad",
   "metadata": {},
   "source": [
    "<div class=\"alert alert-info\">\n",
    "Привет, Илья! Меня зовут Светлана и я буду проверять твой проект. Моя основная цель — не указать на совершенные тобою ошибки, а поделиться своим опытом и помочь тебе. Предлагаю общаться на «ты». Но если это не удобно - дай знать, и мы перейдем на «вы».\n",
    "\n",
    "<div class=\"alert alert-success\">\n",
    "<b>👍 Успех:</b> Зелёным цветом отмечены удачные и элегантные решения, на которые можно опираться в будущих проектах.\n",
    "</div>\n",
    "<div class=\"alert alert-warning\">\n",
    "<b>🤔 Рекомендация:</b> Жёлтым цветом выделено то, что в следующий раз можно сделать по-другому. Ты можешь учесть эти комментарии при выполнении будущих заданий или доработать проект сейчас (однако это не обязательно).\n",
    "</div>\n",
    "<div class=\"alert alert-danger\">\n",
    "<b>😔 Необходимо исправить:</b> Красным цветом выделены комментарии, без исправления которых, я не смогу принять проект :(\n",
    "</div>\n",
    "<div class=\"alert alert-info\">\n",
    "<b>👂 Совет:</b> Какие-то дополнительные материалы\n",
    "</div>\n",
    "Давай работать над проектом в диалоге: если ты что-то меняешь в проекте по моим рекомендациям — пиши об этом.\n",
    "Мне будет легче отследить изменения, если ты выделишь свои комментарии:\n",
    "<div class=\"alert alert-info\"> <b>🎓 Комментарий студента:</b> Например, вот так.</div>\n",
    "Пожалуйста, не перемещай, не изменяй и не удаляй мои комментарии. Всё это поможет выполнить повторную проверку твоего проекта быстрее.\n",
    " </div>"
   ]
  },
  {
   "cell_type": "markdown",
   "id": "e3dfb335",
   "metadata": {},
   "source": [
    "<div class=\"alert alert-danger\">\n",
    "<s><b>😔 Необходимо исправить:</b> Нужно добавить описательную часть, в нее нужно добавить название проекта, цели и задачи проекта, как будет определено, что цели достигнуты? Это важная часть проекта и такой навык обязательно пригодится тебе в будущем</s>\n",
    "</div>"
   ]
  },
  {
   "cell_type": "markdown",
   "id": "40541b78",
   "metadata": {},
   "source": [
    "<div class=\"alert alert-info\"> <b>🎓 Комментарий студента:</b> добавил описание, цель и задачу.</div>"
   ]
  },
  {
   "cell_type": "markdown",
   "id": "a583ca29",
   "metadata": {},
   "source": [
    "## Проект телекоммуникации.\n",
    "Оператор связи «Ниединогоразрыва.ком» хочет научиться прогнозировать отток клиентов. Если выяснится, что пользователь планирует уйти, ему будут предложены промокоды и специальные условия. Команда оператора собрала персональные данные о некоторых клиентах, информацию об их тарифах и договорах.\n",
    "\n",
    "Цель проекта:\n",
    "Научится прогнозировать отток клиентов.\n",
    "\n",
    "Задача проекта:\n",
    "1) Подготовить данные.\n",
    "2) Провести исследовательский анализ данных.\n",
    "3) Построить и обучить модель для прогнозирования оттока клиентов.\n",
    "4) Добится минимального порога: AUC-ROC = 0.85"
   ]
  },
  {
   "cell_type": "markdown",
   "id": "d8f921fa",
   "metadata": {},
   "source": [
    "<div class=\"alert alert-success\">\n",
    "<b>👍 Успех:</b> Все верно!\n",
    "</div>"
   ]
  },
  {
   "cell_type": "code",
   "execution_count": 1,
   "id": "4c19d3ad",
   "metadata": {},
   "outputs": [],
   "source": [
    "import pandas as pd \n",
    "import matplotlib.pyplot as plt\n",
    "import seaborn as sns\n",
    "import numpy as np"
   ]
  },
  {
   "cell_type": "code",
   "execution_count": 2,
   "id": "e8ba58df",
   "metadata": {},
   "outputs": [],
   "source": [
    "from sklearn.pipeline import make_pipeline, Pipeline \n",
    "import lightgbm as lgb\n",
    "from lightgbm import LGBMClassifier\n",
    "import matplotlib.pyplot as plt\n",
    "from matplotlib import cm\n",
    "from sklearn.ensemble import RandomForestClassifier\n",
    "from catboost import CatBoostClassifier, Pool , cv\n",
    "from sklearn.metrics import roc_auc_score, roc_curve, accuracy_score, confusion_matrix\n",
    "from sklearn.utils import shuffle\n",
    "from sklearn.preprocessing import StandardScaler, OneHotEncoder\n",
    "from sklearn.model_selection import train_test_split\n",
    "from sklearn.utils.class_weight import compute_class_weight\n",
    "from sklearn.model_selection import GridSearchCV\n",
    "from sklearn.linear_model import LogisticRegression\n",
    "from sklearn.model_selection import StratifiedKFold\n",
    "from sklearn.model_selection import cross_val_score\n",
    "from sklearn.compose import make_column_transformer\n",
    "from sklearn.dummy import DummyClassifier\n",
    "# Доимпортировали"
   ]
  },
  {
   "cell_type": "code",
   "execution_count": 3,
   "id": "0703b307",
   "metadata": {},
   "outputs": [],
   "source": [
    "contract = pd.read_csv(r'/datasets/contract_new.csv')\n",
    "personal = pd.read_csv(r'/datasets/personal_new.csv')\n",
    "internet = pd.read_csv(r'/datasets/internet_new.csv')\n",
    "phone = pd.read_csv(r'/datasets/phone_new.csv')"
   ]
  },
  {
   "cell_type": "code",
   "execution_count": 4,
   "id": "383d363a",
   "metadata": {},
   "outputs": [
    {
     "data": {
      "text/html": [
       "<div>\n",
       "<style scoped>\n",
       "    .dataframe tbody tr th:only-of-type {\n",
       "        vertical-align: middle;\n",
       "    }\n",
       "\n",
       "    .dataframe tbody tr th {\n",
       "        vertical-align: top;\n",
       "    }\n",
       "\n",
       "    .dataframe thead th {\n",
       "        text-align: right;\n",
       "    }\n",
       "</style>\n",
       "<table border=\"1\" class=\"dataframe\">\n",
       "  <thead>\n",
       "    <tr style=\"text-align: right;\">\n",
       "      <th></th>\n",
       "      <th>customerID</th>\n",
       "      <th>BeginDate</th>\n",
       "      <th>EndDate</th>\n",
       "      <th>Type</th>\n",
       "      <th>PaperlessBilling</th>\n",
       "      <th>PaymentMethod</th>\n",
       "      <th>MonthlyCharges</th>\n",
       "      <th>TotalCharges</th>\n",
       "    </tr>\n",
       "  </thead>\n",
       "  <tbody>\n",
       "    <tr>\n",
       "      <th>0</th>\n",
       "      <td>7590-VHVEG</td>\n",
       "      <td>2020-01-01</td>\n",
       "      <td>No</td>\n",
       "      <td>Month-to-month</td>\n",
       "      <td>Yes</td>\n",
       "      <td>Electronic check</td>\n",
       "      <td>29.85</td>\n",
       "      <td>31.04</td>\n",
       "    </tr>\n",
       "    <tr>\n",
       "      <th>1</th>\n",
       "      <td>5575-GNVDE</td>\n",
       "      <td>2017-04-01</td>\n",
       "      <td>No</td>\n",
       "      <td>One year</td>\n",
       "      <td>No</td>\n",
       "      <td>Mailed check</td>\n",
       "      <td>56.95</td>\n",
       "      <td>2071.84</td>\n",
       "    </tr>\n",
       "    <tr>\n",
       "      <th>2</th>\n",
       "      <td>3668-QPYBK</td>\n",
       "      <td>2019-10-01</td>\n",
       "      <td>No</td>\n",
       "      <td>Month-to-month</td>\n",
       "      <td>Yes</td>\n",
       "      <td>Mailed check</td>\n",
       "      <td>53.85</td>\n",
       "      <td>226.17</td>\n",
       "    </tr>\n",
       "    <tr>\n",
       "      <th>3</th>\n",
       "      <td>7795-CFOCW</td>\n",
       "      <td>2016-05-01</td>\n",
       "      <td>No</td>\n",
       "      <td>One year</td>\n",
       "      <td>No</td>\n",
       "      <td>Bank transfer (automatic)</td>\n",
       "      <td>42.30</td>\n",
       "      <td>1960.6</td>\n",
       "    </tr>\n",
       "    <tr>\n",
       "      <th>4</th>\n",
       "      <td>9237-HQITU</td>\n",
       "      <td>2019-09-01</td>\n",
       "      <td>No</td>\n",
       "      <td>Month-to-month</td>\n",
       "      <td>Yes</td>\n",
       "      <td>Electronic check</td>\n",
       "      <td>70.70</td>\n",
       "      <td>353.5</td>\n",
       "    </tr>\n",
       "  </tbody>\n",
       "</table>\n",
       "</div>"
      ],
      "text/plain": [
       "   customerID   BeginDate EndDate            Type PaperlessBilling  \\\n",
       "0  7590-VHVEG  2020-01-01      No  Month-to-month              Yes   \n",
       "1  5575-GNVDE  2017-04-01      No        One year               No   \n",
       "2  3668-QPYBK  2019-10-01      No  Month-to-month              Yes   \n",
       "3  7795-CFOCW  2016-05-01      No        One year               No   \n",
       "4  9237-HQITU  2019-09-01      No  Month-to-month              Yes   \n",
       "\n",
       "               PaymentMethod  MonthlyCharges TotalCharges  \n",
       "0           Electronic check           29.85        31.04  \n",
       "1               Mailed check           56.95      2071.84  \n",
       "2               Mailed check           53.85       226.17  \n",
       "3  Bank transfer (automatic)           42.30       1960.6  \n",
       "4           Electronic check           70.70        353.5  "
      ]
     },
     "execution_count": 4,
     "metadata": {},
     "output_type": "execute_result"
    }
   ],
   "source": [
    "contract.head()"
   ]
  },
  {
   "cell_type": "code",
   "execution_count": 5,
   "id": "db042544",
   "metadata": {},
   "outputs": [
    {
     "name": "stdout",
     "output_type": "stream",
     "text": [
      "<class 'pandas.core.frame.DataFrame'>\n",
      "RangeIndex: 7043 entries, 0 to 7042\n",
      "Data columns (total 8 columns):\n",
      " #   Column            Non-Null Count  Dtype  \n",
      "---  ------            --------------  -----  \n",
      " 0   customerID        7043 non-null   object \n",
      " 1   BeginDate         7043 non-null   object \n",
      " 2   EndDate           7043 non-null   object \n",
      " 3   Type              7043 non-null   object \n",
      " 4   PaperlessBilling  7043 non-null   object \n",
      " 5   PaymentMethod     7043 non-null   object \n",
      " 6   MonthlyCharges    7043 non-null   float64\n",
      " 7   TotalCharges      7043 non-null   object \n",
      "dtypes: float64(1), object(7)\n",
      "memory usage: 440.3+ KB\n"
     ]
    }
   ],
   "source": [
    "contract.info()"
   ]
  },
  {
   "cell_type": "code",
   "execution_count": 6,
   "id": "e71c5278",
   "metadata": {},
   "outputs": [
    {
     "data": {
      "text/html": [
       "<div>\n",
       "<style scoped>\n",
       "    .dataframe tbody tr th:only-of-type {\n",
       "        vertical-align: middle;\n",
       "    }\n",
       "\n",
       "    .dataframe tbody tr th {\n",
       "        vertical-align: top;\n",
       "    }\n",
       "\n",
       "    .dataframe thead th {\n",
       "        text-align: right;\n",
       "    }\n",
       "</style>\n",
       "<table border=\"1\" class=\"dataframe\">\n",
       "  <thead>\n",
       "    <tr style=\"text-align: right;\">\n",
       "      <th></th>\n",
       "      <th>customerID</th>\n",
       "      <th>gender</th>\n",
       "      <th>SeniorCitizen</th>\n",
       "      <th>Partner</th>\n",
       "      <th>Dependents</th>\n",
       "    </tr>\n",
       "  </thead>\n",
       "  <tbody>\n",
       "    <tr>\n",
       "      <th>0</th>\n",
       "      <td>7590-VHVEG</td>\n",
       "      <td>Female</td>\n",
       "      <td>0</td>\n",
       "      <td>Yes</td>\n",
       "      <td>No</td>\n",
       "    </tr>\n",
       "    <tr>\n",
       "      <th>1</th>\n",
       "      <td>5575-GNVDE</td>\n",
       "      <td>Male</td>\n",
       "      <td>0</td>\n",
       "      <td>No</td>\n",
       "      <td>No</td>\n",
       "    </tr>\n",
       "    <tr>\n",
       "      <th>2</th>\n",
       "      <td>3668-QPYBK</td>\n",
       "      <td>Male</td>\n",
       "      <td>0</td>\n",
       "      <td>No</td>\n",
       "      <td>No</td>\n",
       "    </tr>\n",
       "    <tr>\n",
       "      <th>3</th>\n",
       "      <td>7795-CFOCW</td>\n",
       "      <td>Male</td>\n",
       "      <td>0</td>\n",
       "      <td>No</td>\n",
       "      <td>No</td>\n",
       "    </tr>\n",
       "    <tr>\n",
       "      <th>4</th>\n",
       "      <td>9237-HQITU</td>\n",
       "      <td>Female</td>\n",
       "      <td>0</td>\n",
       "      <td>No</td>\n",
       "      <td>No</td>\n",
       "    </tr>\n",
       "  </tbody>\n",
       "</table>\n",
       "</div>"
      ],
      "text/plain": [
       "   customerID  gender  SeniorCitizen Partner Dependents\n",
       "0  7590-VHVEG  Female              0     Yes         No\n",
       "1  5575-GNVDE    Male              0      No         No\n",
       "2  3668-QPYBK    Male              0      No         No\n",
       "3  7795-CFOCW    Male              0      No         No\n",
       "4  9237-HQITU  Female              0      No         No"
      ]
     },
     "execution_count": 6,
     "metadata": {},
     "output_type": "execute_result"
    }
   ],
   "source": [
    "personal.head()"
   ]
  },
  {
   "cell_type": "code",
   "execution_count": 7,
   "id": "b7411b04",
   "metadata": {},
   "outputs": [
    {
     "data": {
      "text/plain": [
       "Text(0.5, 1.0, 'Пол клиента')"
      ]
     },
     "execution_count": 7,
     "metadata": {},
     "output_type": "execute_result"
    },
    {
     "data": {
      "image/png": "[encoded data removed]",
      "text/plain": [
       "<Figure size 432x288 with 1 Axes>"
      ]
     },
     "metadata": {
      "needs_background": "light"
     },
     "output_type": "display_data"
    }
   ],
   "source": [
    "personal['gender'].hist()\n",
    "plt.title('Пол клиента')"
   ]
  },
  {
   "cell_type": "markdown",
   "id": "acfbde33",
   "metadata": {},
   "source": [
    "Пользователей женщин и мужчин примерно равное количество"
   ]
  },
  {
   "cell_type": "code",
   "execution_count": 8,
   "id": "8624cfce",
   "metadata": {},
   "outputs": [
    {
     "data": {
      "text/plain": [
       "Text(0.5, 1.0, 'Пенсионера')"
      ]
     },
     "execution_count": 8,
     "metadata": {},
     "output_type": "execute_result"
    },
    {
     "data": {
      "image/png": "[encoded data removed]",
      "text/plain": [
       "<Figure size 432x288 with 1 Axes>"
      ]
     },
     "metadata": {
      "needs_background": "light"
     },
     "output_type": "display_data"
    }
   ],
   "source": [
    "personal['SeniorCitizen'].hist()\n",
    "plt.title('Пенсионера')"
   ]
  },
  {
   "cell_type": "markdown",
   "id": "8b0949d1",
   "metadata": {},
   "source": [
    "Пользователей имеющих статус пенсионеров подавляющее меньшенство"
   ]
  },
  {
   "cell_type": "code",
   "execution_count": 9,
   "id": "faa95621",
   "metadata": {},
   "outputs": [
    {
     "data": {
      "text/plain": [
       "Text(0.5, 1.0, 'Наличие партнера')"
      ]
     },
     "execution_count": 9,
     "metadata": {},
     "output_type": "execute_result"
    },
    {
     "data": {
      "image/png": "[encoded data removed]",
      "text/plain": [
       "<Figure size 432x288 with 1 Axes>"
      ]
     },
     "metadata": {
      "needs_background": "light"
     },
     "output_type": "display_data"
    }
   ],
   "source": [
    "personal['Partner'].hist()\n",
    "plt.title('Наличие партнера')"
   ]
  },
  {
   "cell_type": "markdown",
   "id": "c6f698ab",
   "metadata": {},
   "source": [
    "Клиентов с партёром и без практически одинаковое количество"
   ]
  },
  {
   "cell_type": "code",
   "execution_count": 10,
   "id": "9108402c",
   "metadata": {},
   "outputs": [
    {
     "data": {
      "text/plain": [
       "Text(0.5, 1.0, 'Наличие иждевенца')"
      ]
     },
     "execution_count": 10,
     "metadata": {},
     "output_type": "execute_result"
    },
    {
     "data": {
      "image/png": "[encoded data removed]",
      "text/plain": [
       "<Figure size 432x288 with 1 Axes>"
      ]
     },
     "metadata": {
      "needs_background": "light"
     },
     "output_type": "display_data"
    }
   ],
   "source": [
    "personal['Dependents'].hist()\n",
    "plt.title('Наличие иждевенца')"
   ]
  },
  {
   "cell_type": "markdown",
   "id": "19b78c9f",
   "metadata": {},
   "source": [
    "Клиентов с детьми почти треть от общего количества"
   ]
  },
  {
   "cell_type": "markdown",
   "id": "cf61b332",
   "metadata": {},
   "source": [
    "<div class=\"alert alert-success\">\n",
    "<b>👍 Успех:</b> Датасет исследован, визуализировано распределение данных\n",
    "</div>"
   ]
  },
  {
   "cell_type": "code",
   "execution_count": 11,
   "id": "5ace08ce",
   "metadata": {},
   "outputs": [
    {
     "name": "stdout",
     "output_type": "stream",
     "text": [
      "<class 'pandas.core.frame.DataFrame'>\n",
      "RangeIndex: 7043 entries, 0 to 7042\n",
      "Data columns (total 5 columns):\n",
      " #   Column         Non-Null Count  Dtype \n",
      "---  ------         --------------  ----- \n",
      " 0   customerID     7043 non-null   object\n",
      " 1   gender         7043 non-null   object\n",
      " 2   SeniorCitizen  7043 non-null   int64 \n",
      " 3   Partner        7043 non-null   object\n",
      " 4   Dependents     7043 non-null   object\n",
      "dtypes: int64(1), object(4)\n",
      "memory usage: 275.2+ KB\n"
     ]
    }
   ],
   "source": [
    "personal.info()"
   ]
  },
  {
   "cell_type": "code",
   "execution_count": 12,
   "id": "56381959",
   "metadata": {},
   "outputs": [
    {
     "data": {
      "text/html": [
       "<div>\n",
       "<style scoped>\n",
       "    .dataframe tbody tr th:only-of-type {\n",
       "        vertical-align: middle;\n",
       "    }\n",
       "\n",
       "    .dataframe tbody tr th {\n",
       "        vertical-align: top;\n",
       "    }\n",
       "\n",
       "    .dataframe thead th {\n",
       "        text-align: right;\n",
       "    }\n",
       "</style>\n",
       "<table border=\"1\" class=\"dataframe\">\n",
       "  <thead>\n",
       "    <tr style=\"text-align: right;\">\n",
       "      <th></th>\n",
       "      <th>customerID</th>\n",
       "      <th>InternetService</th>\n",
       "      <th>OnlineSecurity</th>\n",
       "      <th>OnlineBackup</th>\n",
       "      <th>DeviceProtection</th>\n",
       "      <th>TechSupport</th>\n",
       "      <th>StreamingTV</th>\n",
       "      <th>StreamingMovies</th>\n",
       "    </tr>\n",
       "  </thead>\n",
       "  <tbody>\n",
       "    <tr>\n",
       "      <th>0</th>\n",
       "      <td>7590-VHVEG</td>\n",
       "      <td>DSL</td>\n",
       "      <td>No</td>\n",
       "      <td>Yes</td>\n",
       "      <td>No</td>\n",
       "      <td>No</td>\n",
       "      <td>No</td>\n",
       "      <td>No</td>\n",
       "    </tr>\n",
       "    <tr>\n",
       "      <th>1</th>\n",
       "      <td>5575-GNVDE</td>\n",
       "      <td>DSL</td>\n",
       "      <td>Yes</td>\n",
       "      <td>No</td>\n",
       "      <td>Yes</td>\n",
       "      <td>No</td>\n",
       "      <td>No</td>\n",
       "      <td>No</td>\n",
       "    </tr>\n",
       "    <tr>\n",
       "      <th>2</th>\n",
       "      <td>3668-QPYBK</td>\n",
       "      <td>DSL</td>\n",
       "      <td>Yes</td>\n",
       "      <td>Yes</td>\n",
       "      <td>No</td>\n",
       "      <td>No</td>\n",
       "      <td>No</td>\n",
       "      <td>No</td>\n",
       "    </tr>\n",
       "    <tr>\n",
       "      <th>3</th>\n",
       "      <td>7795-CFOCW</td>\n",
       "      <td>DSL</td>\n",
       "      <td>Yes</td>\n",
       "      <td>No</td>\n",
       "      <td>Yes</td>\n",
       "      <td>Yes</td>\n",
       "      <td>No</td>\n",
       "      <td>No</td>\n",
       "    </tr>\n",
       "    <tr>\n",
       "      <th>4</th>\n",
       "      <td>9237-HQITU</td>\n",
       "      <td>Fiber optic</td>\n",
       "      <td>No</td>\n",
       "      <td>No</td>\n",
       "      <td>No</td>\n",
       "      <td>No</td>\n",
       "      <td>No</td>\n",
       "      <td>No</td>\n",
       "    </tr>\n",
       "  </tbody>\n",
       "</table>\n",
       "</div>"
      ],
      "text/plain": [
       "   customerID InternetService OnlineSecurity OnlineBackup DeviceProtection  \\\n",
       "0  7590-VHVEG             DSL             No          Yes               No   \n",
       "1  5575-GNVDE             DSL            Yes           No              Yes   \n",
       "2  3668-QPYBK             DSL            Yes          Yes               No   \n",
       "3  7795-CFOCW             DSL            Yes           No              Yes   \n",
       "4  9237-HQITU     Fiber optic             No           No               No   \n",
       "\n",
       "  TechSupport StreamingTV StreamingMovies  \n",
       "0          No          No              No  \n",
       "1          No          No              No  \n",
       "2          No          No              No  \n",
       "3         Yes          No              No  \n",
       "4          No          No              No  "
      ]
     },
     "execution_count": 12,
     "metadata": {},
     "output_type": "execute_result"
    }
   ],
   "source": [
    "internet.head()"
   ]
  },
  {
   "cell_type": "code",
   "execution_count": 13,
   "id": "44686a45",
   "metadata": {},
   "outputs": [
    {
     "name": "stdout",
     "output_type": "stream",
     "text": [
      "<class 'pandas.core.frame.DataFrame'>\n",
      "RangeIndex: 5517 entries, 0 to 5516\n",
      "Data columns (total 8 columns):\n",
      " #   Column            Non-Null Count  Dtype \n",
      "---  ------            --------------  ----- \n",
      " 0   customerID        5517 non-null   object\n",
      " 1   InternetService   5517 non-null   object\n",
      " 2   OnlineSecurity    5517 non-null   object\n",
      " 3   OnlineBackup      5517 non-null   object\n",
      " 4   DeviceProtection  5517 non-null   object\n",
      " 5   TechSupport       5517 non-null   object\n",
      " 6   StreamingTV       5517 non-null   object\n",
      " 7   StreamingMovies   5517 non-null   object\n",
      "dtypes: object(8)\n",
      "memory usage: 344.9+ KB\n"
     ]
    }
   ],
   "source": [
    "internet.info()"
   ]
  },
  {
   "cell_type": "code",
   "execution_count": 14,
   "id": "1f267549",
   "metadata": {},
   "outputs": [
    {
     "name": "stdout",
     "output_type": "stream",
     "text": [
      "OnlineSecurity \n",
      " No     3498\n",
      "Yes    2019\n",
      "Name: OnlineSecurity, dtype: int64\n"
     ]
    },
    {
     "data": {
      "image/png": "[encoded data removed]",
      "text/plain": [
       "<Figure size 432x288 with 1 Axes>"
      ]
     },
     "metadata": {
      "needs_background": "light"
     },
     "output_type": "display_data"
    },
    {
     "name": "stdout",
     "output_type": "stream",
     "text": [
      "OnlineBackup \n",
      " No     3088\n",
      "Yes    2429\n",
      "Name: OnlineBackup, dtype: int64\n"
     ]
    },
    {
     "data": {
      "image/png": "[encoded data removed]",
      "text/plain": [
       "<Figure size 432x288 with 1 Axes>"
      ]
     },
     "metadata": {
      "needs_background": "light"
     },
     "output_type": "display_data"
    },
    {
     "name": "stdout",
     "output_type": "stream",
     "text": [
      "DeviceProtection \n",
      " No     3095\n",
      "Yes    2422\n",
      "Name: DeviceProtection, dtype: int64\n"
     ]
    },
    {
     "data": {
      "image/png": "[encoded data removed]",
      "text/plain": [
       "<Figure size 432x288 with 1 Axes>"
      ]
     },
     "metadata": {
      "needs_background": "light"
     },
     "output_type": "display_data"
    },
    {
     "name": "stdout",
     "output_type": "stream",
     "text": [
      "TechSupport \n",
      " No     3473\n",
      "Yes    2044\n",
      "Name: TechSupport, dtype: int64\n"
     ]
    },
    {
     "data": {
      "image/png": "[encoded data removed]",
      "text/plain": [
       "<Figure size 432x288 with 1 Axes>"
      ]
     },
     "metadata": {
      "needs_background": "light"
     },
     "output_type": "display_data"
    },
    {
     "name": "stdout",
     "output_type": "stream",
     "text": [
      "StreamingTV \n",
      " No     2810\n",
      "Yes    2707\n",
      "Name: StreamingTV, dtype: int64\n"
     ]
    },
    {
     "data": {
      "image/png": "[encoded data removed]",
      "text/plain": [
       "<Figure size 432x288 with 1 Axes>"
      ]
     },
     "metadata": {
      "needs_background": "light"
     },
     "output_type": "display_data"
    },
    {
     "name": "stdout",
     "output_type": "stream",
     "text": [
      "StreamingMovies \n",
      " No     2785\n",
      "Yes    2732\n",
      "Name: StreamingMovies, dtype: int64\n"
     ]
    },
    {
     "data": {
      "image/png": "[encoded data removed]",
      "text/plain": [
       "<Figure size 432x288 with 1 Axes>"
      ]
     },
     "metadata": {
      "needs_background": "light"
     },
     "output_type": "display_data"
    }
   ],
   "source": [
    "binary = ['OnlineSecurity','OnlineBackup','DeviceProtection','TechSupport','StreamingTV','StreamingMovies']\n",
    "for i in binary:\n",
    "    print(i,'\\n',internet[i].value_counts())\n",
    "    plt.hist(internet[i])\n",
    "    plt.title(i)\n",
    "    plt.show()"
   ]
  },
  {
   "cell_type": "code",
   "execution_count": 15,
   "id": "b47e3d34",
   "metadata": {},
   "outputs": [
    {
     "data": {
      "text/plain": [
       "Text(0.5, 1.0, 'Тип подключения')"
      ]
     },
     "execution_count": 15,
     "metadata": {},
     "output_type": "execute_result"
    },
    {
     "data": {
      "image/png": "[encoded data removed]",
      "text/plain": [
       "<Figure size 432x288 with 1 Axes>"
      ]
     },
     "metadata": {
      "needs_background": "light"
     },
     "output_type": "display_data"
    }
   ],
   "source": [
    "internet['InternetService'].hist()\n",
    "plt.title('Тип подключения')"
   ]
  },
  {
   "cell_type": "markdown",
   "id": "49888080",
   "metadata": {},
   "source": [
    "Тут для построения графиков применил цикл: \n",
    "1 - пользователей онлайн блокировкой сайтов на треть меньше\n",
    "2 - Пользователей хранилищем почти поровну (удивительно)\n",
    "3 - Пользователей антивирусом на 500 человек меньше\n",
    "4 - выделеной техподдержкой пользуются 2000 тысячи человек\n",
    "5 - пользователей стриминго ТВ поровну от всех клиентов\n",
    "6 - Подключений по DSL немногим меньше чем по оптоволокну"
   ]
  },
  {
   "cell_type": "markdown",
   "id": "522b8768",
   "metadata": {},
   "source": [
    "<div class=\"alert alert-success\">\n",
    "<b>👍 Успех:</b> Все верно!\n",
    "</div>"
   ]
  },
  {
   "cell_type": "code",
   "execution_count": 16,
   "id": "8e4e7f24",
   "metadata": {},
   "outputs": [
    {
     "data": {
      "text/html": [
       "<div>\n",
       "<style scoped>\n",
       "    .dataframe tbody tr th:only-of-type {\n",
       "        vertical-align: middle;\n",
       "    }\n",
       "\n",
       "    .dataframe tbody tr th {\n",
       "        vertical-align: top;\n",
       "    }\n",
       "\n",
       "    .dataframe thead th {\n",
       "        text-align: right;\n",
       "    }\n",
       "</style>\n",
       "<table border=\"1\" class=\"dataframe\">\n",
       "  <thead>\n",
       "    <tr style=\"text-align: right;\">\n",
       "      <th></th>\n",
       "      <th>customerID</th>\n",
       "      <th>MultipleLines</th>\n",
       "    </tr>\n",
       "  </thead>\n",
       "  <tbody>\n",
       "    <tr>\n",
       "      <th>0</th>\n",
       "      <td>5575-GNVDE</td>\n",
       "      <td>No</td>\n",
       "    </tr>\n",
       "    <tr>\n",
       "      <th>1</th>\n",
       "      <td>3668-QPYBK</td>\n",
       "      <td>No</td>\n",
       "    </tr>\n",
       "    <tr>\n",
       "      <th>2</th>\n",
       "      <td>9237-HQITU</td>\n",
       "      <td>No</td>\n",
       "    </tr>\n",
       "    <tr>\n",
       "      <th>3</th>\n",
       "      <td>9305-CDSKC</td>\n",
       "      <td>Yes</td>\n",
       "    </tr>\n",
       "    <tr>\n",
       "      <th>4</th>\n",
       "      <td>1452-KIOVK</td>\n",
       "      <td>Yes</td>\n",
       "    </tr>\n",
       "  </tbody>\n",
       "</table>\n",
       "</div>"
      ],
      "text/plain": [
       "   customerID MultipleLines\n",
       "0  5575-GNVDE            No\n",
       "1  3668-QPYBK            No\n",
       "2  9237-HQITU            No\n",
       "3  9305-CDSKC           Yes\n",
       "4  1452-KIOVK           Yes"
      ]
     },
     "execution_count": 16,
     "metadata": {},
     "output_type": "execute_result"
    }
   ],
   "source": [
    "phone.head()"
   ]
  },
  {
   "cell_type": "code",
   "execution_count": 17,
   "id": "3bffe4fd",
   "metadata": {},
   "outputs": [
    {
     "name": "stdout",
     "output_type": "stream",
     "text": [
      "<class 'pandas.core.frame.DataFrame'>\n",
      "RangeIndex: 6361 entries, 0 to 6360\n",
      "Data columns (total 2 columns):\n",
      " #   Column         Non-Null Count  Dtype \n",
      "---  ------         --------------  ----- \n",
      " 0   customerID     6361 non-null   object\n",
      " 1   MultipleLines  6361 non-null   object\n",
      "dtypes: object(2)\n",
      "memory usage: 99.5+ KB\n"
     ]
    }
   ],
   "source": [
    "phone.info()"
   ]
  },
  {
   "cell_type": "code",
   "execution_count": 18,
   "id": "737f0ed7",
   "metadata": {},
   "outputs": [
    {
     "data": {
      "text/plain": [
       "Text(0.5, 1.0, 'Многоканальный телефон')"
      ]
     },
     "execution_count": 18,
     "metadata": {},
     "output_type": "execute_result"
    },
    {
     "data": {
      "image/png": "[encoded data removed]",
      "text/plain": [
       "<Figure size 432x288 with 1 Axes>"
      ]
     },
     "metadata": {
      "needs_background": "light"
     },
     "output_type": "display_data"
    }
   ],
   "source": [
    "phone['MultipleLines'].hist()\n",
    "plt.title('Многоканальный телефон')"
   ]
  },
  {
   "cell_type": "markdown",
   "id": "ddfb2285",
   "metadata": {},
   "source": [
    "Многоканальным телефоном пользуется чуть меньше людей чем обычным"
   ]
  },
  {
   "cell_type": "markdown",
   "id": "3b63a62d",
   "metadata": {},
   "source": [
    "<div class=\"alert alert-success\">\n",
    "<b>👍 Успех:</b> Все верно!\n",
    "</div>"
   ]
  },
  {
   "cell_type": "code",
   "execution_count": 19,
   "id": "c1a2d63f",
   "metadata": {},
   "outputs": [
    {
     "name": "stdout",
     "output_type": "stream",
     "text": [
      "Month-to-month    3875\n",
      "Two year          1695\n",
      "One year          1473\n",
      "Name: Type, dtype: int64\n"
     ]
    },
    {
     "data": {
      "text/plain": [
       "Text(0.5, 1.0, 'Оплата услуг')"
      ]
     },
     "execution_count": 19,
     "metadata": {},
     "output_type": "execute_result"
    },
    {
     "data": {
      "image/png": "[encoded data removed]",
      "text/plain": [
       "<Figure size 432x288 with 1 Axes>"
      ]
     },
     "metadata": {
      "needs_background": "light"
     },
     "output_type": "display_data"
    }
   ],
   "source": [
    "print(contract['Type'].value_counts())\n",
    "contract['Type'].hist()\n",
    "plt.title('Оплата услуг') # посмотрим на какие сроки клиенты оплачивают услуги"
   ]
  },
  {
   "cell_type": "code",
   "execution_count": 20,
   "id": "ae274ef7",
   "metadata": {},
   "outputs": [
    {
     "name": "stdout",
     "output_type": "stream",
     "text": [
      "Electronic check             2365\n",
      "Mailed check                 1612\n",
      "Bank transfer (automatic)    1544\n",
      "Credit card (automatic)      1522\n",
      "Name: PaymentMethod, dtype: int64\n"
     ]
    },
    {
     "data": {
      "text/plain": [
       "Text(0.5, 1.0, 'Способ оплаты')"
      ]
     },
     "execution_count": 20,
     "metadata": {},
     "output_type": "execute_result"
    },
    {
     "data": {
      "image/png": "[encoded data removed]",
      "text/plain": [
       "<Figure size 432x288 with 1 Axes>"
      ]
     },
     "metadata": {
      "needs_background": "light"
     },
     "output_type": "display_data"
    }
   ],
   "source": [
    "print(contract['PaymentMethod'].value_counts())\n",
    "contract['PaymentMethod'].hist()\n",
    "plt.title('Способ оплаты')# посмотрим какими способами клиенты производят оплату"
   ]
  },
  {
   "cell_type": "code",
   "execution_count": 21,
   "id": "de3b1974",
   "metadata": {},
   "outputs": [],
   "source": [
    "contract['BeginDate'] = pd.to_datetime(contract['BeginDate']) # преобразуем даты"
   ]
  },
  {
   "cell_type": "code",
   "execution_count": 22,
   "id": "0afbc87b",
   "metadata": {},
   "outputs": [],
   "source": [
    "contract['NotClient'] = (contract['EndDate'] != 'No').astype(int) # добавим столбец с целевым признаком "
   ]
  },
  {
   "cell_type": "code",
   "execution_count": null,
   "id": "854ece12",
   "metadata": {},
   "outputs": [],
   "source": []
  },
  {
   "cell_type": "code",
   "execution_count": 23,
   "id": "e78a4b16",
   "metadata": {},
   "outputs": [
    {
     "data": {
      "text/html": [
       "<div>\n",
       "<style scoped>\n",
       "    .dataframe tbody tr th:only-of-type {\n",
       "        vertical-align: middle;\n",
       "    }\n",
       "\n",
       "    .dataframe tbody tr th {\n",
       "        vertical-align: top;\n",
       "    }\n",
       "\n",
       "    .dataframe thead th {\n",
       "        text-align: right;\n",
       "    }\n",
       "</style>\n",
       "<table border=\"1\" class=\"dataframe\">\n",
       "  <thead>\n",
       "    <tr style=\"text-align: right;\">\n",
       "      <th></th>\n",
       "      <th>customerID</th>\n",
       "      <th>BeginDate</th>\n",
       "      <th>EndDate</th>\n",
       "      <th>Type</th>\n",
       "      <th>PaperlessBilling</th>\n",
       "      <th>PaymentMethod</th>\n",
       "      <th>MonthlyCharges</th>\n",
       "      <th>TotalCharges</th>\n",
       "      <th>NotClient</th>\n",
       "    </tr>\n",
       "  </thead>\n",
       "  <tbody>\n",
       "    <tr>\n",
       "      <th>0</th>\n",
       "      <td>7590-VHVEG</td>\n",
       "      <td>2020-01-01</td>\n",
       "      <td>No</td>\n",
       "      <td>Month-to-month</td>\n",
       "      <td>Yes</td>\n",
       "      <td>Electronic check</td>\n",
       "      <td>29.85</td>\n",
       "      <td>31.04</td>\n",
       "      <td>0</td>\n",
       "    </tr>\n",
       "    <tr>\n",
       "      <th>1</th>\n",
       "      <td>5575-GNVDE</td>\n",
       "      <td>2017-04-01</td>\n",
       "      <td>No</td>\n",
       "      <td>One year</td>\n",
       "      <td>No</td>\n",
       "      <td>Mailed check</td>\n",
       "      <td>56.95</td>\n",
       "      <td>2071.84</td>\n",
       "      <td>0</td>\n",
       "    </tr>\n",
       "    <tr>\n",
       "      <th>2</th>\n",
       "      <td>3668-QPYBK</td>\n",
       "      <td>2019-10-01</td>\n",
       "      <td>No</td>\n",
       "      <td>Month-to-month</td>\n",
       "      <td>Yes</td>\n",
       "      <td>Mailed check</td>\n",
       "      <td>53.85</td>\n",
       "      <td>226.17</td>\n",
       "      <td>0</td>\n",
       "    </tr>\n",
       "    <tr>\n",
       "      <th>3</th>\n",
       "      <td>7795-CFOCW</td>\n",
       "      <td>2016-05-01</td>\n",
       "      <td>No</td>\n",
       "      <td>One year</td>\n",
       "      <td>No</td>\n",
       "      <td>Bank transfer (automatic)</td>\n",
       "      <td>42.30</td>\n",
       "      <td>1960.6</td>\n",
       "      <td>0</td>\n",
       "    </tr>\n",
       "    <tr>\n",
       "      <th>4</th>\n",
       "      <td>9237-HQITU</td>\n",
       "      <td>2019-09-01</td>\n",
       "      <td>No</td>\n",
       "      <td>Month-to-month</td>\n",
       "      <td>Yes</td>\n",
       "      <td>Electronic check</td>\n",
       "      <td>70.70</td>\n",
       "      <td>353.5</td>\n",
       "      <td>0</td>\n",
       "    </tr>\n",
       "  </tbody>\n",
       "</table>\n",
       "</div>"
      ],
      "text/plain": [
       "   customerID  BeginDate EndDate            Type PaperlessBilling  \\\n",
       "0  7590-VHVEG 2020-01-01      No  Month-to-month              Yes   \n",
       "1  5575-GNVDE 2017-04-01      No        One year               No   \n",
       "2  3668-QPYBK 2019-10-01      No  Month-to-month              Yes   \n",
       "3  7795-CFOCW 2016-05-01      No        One year               No   \n",
       "4  9237-HQITU 2019-09-01      No  Month-to-month              Yes   \n",
       "\n",
       "               PaymentMethod  MonthlyCharges TotalCharges  NotClient  \n",
       "0           Electronic check           29.85        31.04          0  \n",
       "1               Mailed check           56.95      2071.84          0  \n",
       "2               Mailed check           53.85       226.17          0  \n",
       "3  Bank transfer (automatic)           42.30       1960.6          0  \n",
       "4           Electronic check           70.70        353.5          0  "
      ]
     },
     "execution_count": 23,
     "metadata": {},
     "output_type": "execute_result"
    }
   ],
   "source": [
    "contract.head()"
   ]
  },
  {
   "cell_type": "code",
   "execution_count": 24,
   "id": "5ed33a5d",
   "metadata": {},
   "outputs": [
    {
     "data": {
      "text/plain": [
       "0    5942\n",
       "1    1101\n",
       "Name: NotClient, dtype: int64"
      ]
     },
     "execution_count": 24,
     "metadata": {},
     "output_type": "execute_result"
    }
   ],
   "source": [
    "contract['NotClient'].value_counts()"
   ]
  },
  {
   "cell_type": "markdown",
   "id": "688429bb",
   "metadata": {},
   "source": [
    "<div class=\"alert alert-success\">\n",
    "<b>👍 Успех:</b> Все верно! Целевой признак добавлен\n",
    "</div>"
   ]
  },
  {
   "cell_type": "code",
   "execution_count": 25,
   "id": "4b6c3fac",
   "metadata": {},
   "outputs": [],
   "source": [
    "contract['EndDate'] = pd.to_datetime(contract['EndDate'].replace(['No'], ['2020-02-01']))"
   ]
  },
  {
   "cell_type": "markdown",
   "id": "cb973beb",
   "metadata": {},
   "source": [
    "<div class=\"alert alert-danger\">\n",
    "    <s><b>😔 Необходимо исправить:</b> Почему заменяешь данные на такую дату? </s>\n",
    "</div>"
   ]
  },
  {
   "cell_type": "markdown",
   "id": "b85de56f",
   "metadata": {},
   "source": [
    "<div class=\"alert alert-info\"> <b>🎓 Комментарий студента:</b> Изначально поставил текущую дату, исправил на 2020-02-01 как указано в описании данных.</div>"
   ]
  },
  {
   "cell_type": "markdown",
   "id": "77ab6a76",
   "metadata": {},
   "source": [
    "<div class=\"alert alert-success\">\n",
    "<b>👍 Успех:</b> Все верно!\n",
    "</div>"
   ]
  },
  {
   "cell_type": "code",
   "execution_count": 26,
   "id": "dfcfa8db",
   "metadata": {},
   "outputs": [],
   "source": [
    "contract['Days'] = (contract['EndDate'] - contract['BeginDate']).dt.days #"
   ]
  },
  {
   "cell_type": "code",
   "execution_count": 27,
   "id": "eedae212",
   "metadata": {},
   "outputs": [
    {
     "data": {
      "text/html": [
       "<div>\n",
       "<style scoped>\n",
       "    .dataframe tbody tr th:only-of-type {\n",
       "        vertical-align: middle;\n",
       "    }\n",
       "\n",
       "    .dataframe tbody tr th {\n",
       "        vertical-align: top;\n",
       "    }\n",
       "\n",
       "    .dataframe thead th {\n",
       "        text-align: right;\n",
       "    }\n",
       "</style>\n",
       "<table border=\"1\" class=\"dataframe\">\n",
       "  <thead>\n",
       "    <tr style=\"text-align: right;\">\n",
       "      <th></th>\n",
       "      <th>customerID</th>\n",
       "      <th>BeginDate</th>\n",
       "      <th>EndDate</th>\n",
       "      <th>Type</th>\n",
       "      <th>PaperlessBilling</th>\n",
       "      <th>PaymentMethod</th>\n",
       "      <th>MonthlyCharges</th>\n",
       "      <th>TotalCharges</th>\n",
       "      <th>NotClient</th>\n",
       "      <th>Days</th>\n",
       "    </tr>\n",
       "  </thead>\n",
       "  <tbody>\n",
       "    <tr>\n",
       "      <th>0</th>\n",
       "      <td>7590-VHVEG</td>\n",
       "      <td>2020-01-01</td>\n",
       "      <td>2020-02-01</td>\n",
       "      <td>Month-to-month</td>\n",
       "      <td>Yes</td>\n",
       "      <td>Electronic check</td>\n",
       "      <td>29.85</td>\n",
       "      <td>31.04</td>\n",
       "      <td>0</td>\n",
       "      <td>31</td>\n",
       "    </tr>\n",
       "    <tr>\n",
       "      <th>1</th>\n",
       "      <td>5575-GNVDE</td>\n",
       "      <td>2017-04-01</td>\n",
       "      <td>2020-02-01</td>\n",
       "      <td>One year</td>\n",
       "      <td>No</td>\n",
       "      <td>Mailed check</td>\n",
       "      <td>56.95</td>\n",
       "      <td>2071.84</td>\n",
       "      <td>0</td>\n",
       "      <td>1036</td>\n",
       "    </tr>\n",
       "    <tr>\n",
       "      <th>2</th>\n",
       "      <td>3668-QPYBK</td>\n",
       "      <td>2019-10-01</td>\n",
       "      <td>2020-02-01</td>\n",
       "      <td>Month-to-month</td>\n",
       "      <td>Yes</td>\n",
       "      <td>Mailed check</td>\n",
       "      <td>53.85</td>\n",
       "      <td>226.17</td>\n",
       "      <td>0</td>\n",
       "      <td>123</td>\n",
       "    </tr>\n",
       "    <tr>\n",
       "      <th>3</th>\n",
       "      <td>7795-CFOCW</td>\n",
       "      <td>2016-05-01</td>\n",
       "      <td>2020-02-01</td>\n",
       "      <td>One year</td>\n",
       "      <td>No</td>\n",
       "      <td>Bank transfer (automatic)</td>\n",
       "      <td>42.30</td>\n",
       "      <td>1960.6</td>\n",
       "      <td>0</td>\n",
       "      <td>1371</td>\n",
       "    </tr>\n",
       "    <tr>\n",
       "      <th>4</th>\n",
       "      <td>9237-HQITU</td>\n",
       "      <td>2019-09-01</td>\n",
       "      <td>2020-02-01</td>\n",
       "      <td>Month-to-month</td>\n",
       "      <td>Yes</td>\n",
       "      <td>Electronic check</td>\n",
       "      <td>70.70</td>\n",
       "      <td>353.5</td>\n",
       "      <td>0</td>\n",
       "      <td>153</td>\n",
       "    </tr>\n",
       "  </tbody>\n",
       "</table>\n",
       "</div>"
      ],
      "text/plain": [
       "   customerID  BeginDate    EndDate            Type PaperlessBilling  \\\n",
       "0  7590-VHVEG 2020-01-01 2020-02-01  Month-to-month              Yes   \n",
       "1  5575-GNVDE 2017-04-01 2020-02-01        One year               No   \n",
       "2  3668-QPYBK 2019-10-01 2020-02-01  Month-to-month              Yes   \n",
       "3  7795-CFOCW 2016-05-01 2020-02-01        One year               No   \n",
       "4  9237-HQITU 2019-09-01 2020-02-01  Month-to-month              Yes   \n",
       "\n",
       "               PaymentMethod  MonthlyCharges TotalCharges  NotClient  Days  \n",
       "0           Electronic check           29.85        31.04          0    31  \n",
       "1               Mailed check           56.95      2071.84          0  1036  \n",
       "2               Mailed check           53.85       226.17          0   123  \n",
       "3  Bank transfer (automatic)           42.30       1960.6          0  1371  \n",
       "4           Electronic check           70.70        353.5          0   153  "
      ]
     },
     "execution_count": 27,
     "metadata": {},
     "output_type": "execute_result"
    }
   ],
   "source": [
    "contract.head()"
   ]
  },
  {
   "cell_type": "code",
   "execution_count": 28,
   "id": "b0370869",
   "metadata": {},
   "outputs": [
    {
     "data": {
      "text/plain": [
       "<AxesSubplot:>"
      ]
     },
     "execution_count": 28,
     "metadata": {},
     "output_type": "execute_result"
    },
    {
     "data": {
      "image/png": "[encoded data removed]",
      "text/plain": [
       "<Figure size 864x432 with 1 Axes>"
      ]
     },
     "metadata": {
      "needs_background": "light"
     },
     "output_type": "display_data"
    }
   ],
   "source": [
    "contract['Days'].hist(bins=50, figsize=(12,6))"
   ]
  },
  {
   "cell_type": "code",
   "execution_count": 29,
   "id": "860a87cc",
   "metadata": {},
   "outputs": [
    {
     "data": {
      "text/plain": [
       "<AxesSubplot:>"
      ]
     },
     "execution_count": 29,
     "metadata": {},
     "output_type": "execute_result"
    },
    {
     "data": {
      "image/png": "[encoded data removed]",
      "text/plain": [
       "<Figure size 864x432 with 1 Axes>"
      ]
     },
     "metadata": {
      "needs_background": "light"
     },
     "output_type": "display_data"
    }
   ],
   "source": [
    "contract['BeginDate'].hist(bins=150, figsize=(12,6))"
   ]
  },
  {
   "cell_type": "code",
   "execution_count": 30,
   "id": "df6603c7",
   "metadata": {},
   "outputs": [
    {
     "data": {
      "text/plain": [
       "customerID          0\n",
       "BeginDate           0\n",
       "EndDate             0\n",
       "Type                0\n",
       "PaperlessBilling    0\n",
       "PaymentMethod       0\n",
       "MonthlyCharges      0\n",
       "TotalCharges        0\n",
       "NotClient           0\n",
       "Days                0\n",
       "dtype: int64"
      ]
     },
     "execution_count": 30,
     "metadata": {},
     "output_type": "execute_result"
    }
   ],
   "source": [
    "contract.isnull().sum() # Смотрим пропуски"
   ]
  },
  {
   "cell_type": "code",
   "execution_count": 31,
   "id": "7ae1472e",
   "metadata": {},
   "outputs": [],
   "source": [
    "contract = contract.drop(['BeginDate','EndDate'], axis=1) # удалим столбцы с датами чтобы избежать утечку"
   ]
  },
  {
   "cell_type": "markdown",
   "id": "b07331c6",
   "metadata": {},
   "source": [
    "<div class=\"alert alert-success\">\n",
    "<b>👍 Успех:</b> Все верно! Эти данные нам больше не нужны\n",
    "</div>"
   ]
  },
  {
   "cell_type": "markdown",
   "id": "90dd6412",
   "metadata": {},
   "source": [
    "Вывод:\n",
    "1 contract - Пропусков в данных нет, из последнего графика распределения по количеству дней подключения пользователей мы видим большие пики в районе 1500 и 3500 дней! Видимо были большие рекламные компании и много людей подключилось к Компании.\n",
    "Построив график по датам подключения увидим пики появившихся новых пользователей в 2014 и 2020 г.\n",
    "2 personal - тут стоит отметить что пенсионеров много меньше от общего количества, что закономерно. Наличие иждевенца - пользователей с детьми почти треть от общего количества. \n",
    "3 internet - пользователей онлайн блокировкой сайтов и антивирусом на треть меньше, пользователей хранилищем почти поровну (удивительно).\n",
    "4 phone - пользователей многоканальным телефоном равное количиство"
   ]
  },
  {
   "cell_type": "markdown",
   "id": "fc9d77da",
   "metadata": {},
   "source": [
    "Список уточняющих вопросов - ВОПРОСОВ НЕ ИМЕЮ"
   ]
  },
  {
   "cell_type": "markdown",
   "id": "f9a7aa5b",
   "metadata": {},
   "source": [
    "Примерный план решения задачи:\n",
    "\n",
    "1 - предобработка данных и исследовательский анализ.\n",
    "2 - создание дополнительного признака.\n",
    "3 - сбор данных в одну таблицу, создание выборок.\n",
    "4 - применение моделей обучения CatBoost, LightGBM, LogisticRegression.\n",
    "5 - определить лучшую модель подбирая гиперпараметры и метрику AUC-ROC\n",
    "6 - тестирование лучшей модели, написание итогового вывода."
   ]
  },
  {
   "cell_type": "markdown",
   "id": "3c7d46ac",
   "metadata": {},
   "source": [
    "<div class=\"alert alert-danger\">\n",
    "    <s><b>😔 Необходимо исправить:</b> План должен быть более подробным </s>\n",
    "</div>"
   ]
  },
  {
   "cell_type": "markdown",
   "id": "aea546e0",
   "metadata": {},
   "source": [
    "<div class=\"alert alert-info\"> <b>🎓 Комментарий студента:</b> добавил пункт 5, 4-ый расписал подробнее.</div>"
   ]
  },
  {
   "cell_type": "markdown",
   "id": "f222c587",
   "metadata": {},
   "source": [
    "Цель: Построить модель для прогнозирования оттока клиентов."
   ]
  },
  {
   "cell_type": "markdown",
   "id": "ccaae24e",
   "metadata": {},
   "source": [
    "<div class=\"alert alert-success\">\n",
    "<b>👍 Успех:</b> План принят!\n",
    "</div>"
   ]
  },
  {
   "cell_type": "markdown",
   "id": "90222e54",
   "metadata": {},
   "source": [
    "Собераем финальный дата сет, на котором будем обучать наши модели!"
   ]
  },
  {
   "cell_type": "code",
   "execution_count": 32,
   "id": "d603943e",
   "metadata": {},
   "outputs": [],
   "source": [
    "data = contract.merge(personal, \n",
    "                      how = 'left', on = 'customerID').merge(internet, \n",
    "                      how = 'left', on = 'customerID').merge(phone, how = 'left', on = 'customerID')\n",
    "# обьединим все наши данные в одну таблицу"
   ]
  },
  {
   "cell_type": "code",
   "execution_count": 33,
   "id": "eac5786d",
   "metadata": {},
   "outputs": [
    {
     "data": {
      "text/html": [
       "<div>\n",
       "<style scoped>\n",
       "    .dataframe tbody tr th:only-of-type {\n",
       "        vertical-align: middle;\n",
       "    }\n",
       "\n",
       "    .dataframe tbody tr th {\n",
       "        vertical-align: top;\n",
       "    }\n",
       "\n",
       "    .dataframe thead th {\n",
       "        text-align: right;\n",
       "    }\n",
       "</style>\n",
       "<table border=\"1\" class=\"dataframe\">\n",
       "  <thead>\n",
       "    <tr style=\"text-align: right;\">\n",
       "      <th></th>\n",
       "      <th>customerID</th>\n",
       "      <th>Type</th>\n",
       "      <th>PaperlessBilling</th>\n",
       "      <th>PaymentMethod</th>\n",
       "      <th>MonthlyCharges</th>\n",
       "      <th>TotalCharges</th>\n",
       "      <th>NotClient</th>\n",
       "      <th>Days</th>\n",
       "      <th>gender</th>\n",
       "      <th>SeniorCitizen</th>\n",
       "      <th>Partner</th>\n",
       "      <th>Dependents</th>\n",
       "      <th>InternetService</th>\n",
       "      <th>OnlineSecurity</th>\n",
       "      <th>OnlineBackup</th>\n",
       "      <th>DeviceProtection</th>\n",
       "      <th>TechSupport</th>\n",
       "      <th>StreamingTV</th>\n",
       "      <th>StreamingMovies</th>\n",
       "      <th>MultipleLines</th>\n",
       "    </tr>\n",
       "  </thead>\n",
       "  <tbody>\n",
       "    <tr>\n",
       "      <th>0</th>\n",
       "      <td>7590-VHVEG</td>\n",
       "      <td>Month-to-month</td>\n",
       "      <td>Yes</td>\n",
       "      <td>Electronic check</td>\n",
       "      <td>29.85</td>\n",
       "      <td>31.04</td>\n",
       "      <td>0</td>\n",
       "      <td>31</td>\n",
       "      <td>Female</td>\n",
       "      <td>0</td>\n",
       "      <td>Yes</td>\n",
       "      <td>No</td>\n",
       "      <td>DSL</td>\n",
       "      <td>No</td>\n",
       "      <td>Yes</td>\n",
       "      <td>No</td>\n",
       "      <td>No</td>\n",
       "      <td>No</td>\n",
       "      <td>No</td>\n",
       "      <td>NaN</td>\n",
       "    </tr>\n",
       "    <tr>\n",
       "      <th>1</th>\n",
       "      <td>5575-GNVDE</td>\n",
       "      <td>One year</td>\n",
       "      <td>No</td>\n",
       "      <td>Mailed check</td>\n",
       "      <td>56.95</td>\n",
       "      <td>2071.84</td>\n",
       "      <td>0</td>\n",
       "      <td>1036</td>\n",
       "      <td>Male</td>\n",
       "      <td>0</td>\n",
       "      <td>No</td>\n",
       "      <td>No</td>\n",
       "      <td>DSL</td>\n",
       "      <td>Yes</td>\n",
       "      <td>No</td>\n",
       "      <td>Yes</td>\n",
       "      <td>No</td>\n",
       "      <td>No</td>\n",
       "      <td>No</td>\n",
       "      <td>No</td>\n",
       "    </tr>\n",
       "    <tr>\n",
       "      <th>2</th>\n",
       "      <td>3668-QPYBK</td>\n",
       "      <td>Month-to-month</td>\n",
       "      <td>Yes</td>\n",
       "      <td>Mailed check</td>\n",
       "      <td>53.85</td>\n",
       "      <td>226.17</td>\n",
       "      <td>0</td>\n",
       "      <td>123</td>\n",
       "      <td>Male</td>\n",
       "      <td>0</td>\n",
       "      <td>No</td>\n",
       "      <td>No</td>\n",
       "      <td>DSL</td>\n",
       "      <td>Yes</td>\n",
       "      <td>Yes</td>\n",
       "      <td>No</td>\n",
       "      <td>No</td>\n",
       "      <td>No</td>\n",
       "      <td>No</td>\n",
       "      <td>No</td>\n",
       "    </tr>\n",
       "    <tr>\n",
       "      <th>3</th>\n",
       "      <td>7795-CFOCW</td>\n",
       "      <td>One year</td>\n",
       "      <td>No</td>\n",
       "      <td>Bank transfer (automatic)</td>\n",
       "      <td>42.30</td>\n",
       "      <td>1960.6</td>\n",
       "      <td>0</td>\n",
       "      <td>1371</td>\n",
       "      <td>Male</td>\n",
       "      <td>0</td>\n",
       "      <td>No</td>\n",
       "      <td>No</td>\n",
       "      <td>DSL</td>\n",
       "      <td>Yes</td>\n",
       "      <td>No</td>\n",
       "      <td>Yes</td>\n",
       "      <td>Yes</td>\n",
       "      <td>No</td>\n",
       "      <td>No</td>\n",
       "      <td>NaN</td>\n",
       "    </tr>\n",
       "    <tr>\n",
       "      <th>4</th>\n",
       "      <td>9237-HQITU</td>\n",
       "      <td>Month-to-month</td>\n",
       "      <td>Yes</td>\n",
       "      <td>Electronic check</td>\n",
       "      <td>70.70</td>\n",
       "      <td>353.5</td>\n",
       "      <td>0</td>\n",
       "      <td>153</td>\n",
       "      <td>Female</td>\n",
       "      <td>0</td>\n",
       "      <td>No</td>\n",
       "      <td>No</td>\n",
       "      <td>Fiber optic</td>\n",
       "      <td>No</td>\n",
       "      <td>No</td>\n",
       "      <td>No</td>\n",
       "      <td>No</td>\n",
       "      <td>No</td>\n",
       "      <td>No</td>\n",
       "      <td>No</td>\n",
       "    </tr>\n",
       "  </tbody>\n",
       "</table>\n",
       "</div>"
      ],
      "text/plain": [
       "   customerID            Type PaperlessBilling              PaymentMethod  \\\n",
       "0  7590-VHVEG  Month-to-month              Yes           Electronic check   \n",
       "1  5575-GNVDE        One year               No               Mailed check   \n",
       "2  3668-QPYBK  Month-to-month              Yes               Mailed check   \n",
       "3  7795-CFOCW        One year               No  Bank transfer (automatic)   \n",
       "4  9237-HQITU  Month-to-month              Yes           Electronic check   \n",
       "\n",
       "   MonthlyCharges TotalCharges  NotClient  Days  gender  SeniorCitizen  \\\n",
       "0           29.85        31.04          0    31  Female              0   \n",
       "1           56.95      2071.84          0  1036    Male              0   \n",
       "2           53.85       226.17          0   123    Male              0   \n",
       "3           42.30       1960.6          0  1371    Male              0   \n",
       "4           70.70        353.5          0   153  Female              0   \n",
       "\n",
       "  Partner Dependents InternetService OnlineSecurity OnlineBackup  \\\n",
       "0     Yes         No             DSL             No          Yes   \n",
       "1      No         No             DSL            Yes           No   \n",
       "2      No         No             DSL            Yes          Yes   \n",
       "3      No         No             DSL            Yes           No   \n",
       "4      No         No     Fiber optic             No           No   \n",
       "\n",
       "  DeviceProtection TechSupport StreamingTV StreamingMovies MultipleLines  \n",
       "0               No          No          No              No           NaN  \n",
       "1              Yes          No          No              No            No  \n",
       "2               No          No          No              No            No  \n",
       "3              Yes         Yes          No              No           NaN  \n",
       "4               No          No          No              No            No  "
      ]
     },
     "execution_count": 33,
     "metadata": {},
     "output_type": "execute_result"
    }
   ],
   "source": [
    "data.head()"
   ]
  },
  {
   "cell_type": "code",
   "execution_count": 34,
   "id": "cebe2d45",
   "metadata": {},
   "outputs": [
    {
     "name": "stdout",
     "output_type": "stream",
     "text": [
      "<class 'pandas.core.frame.DataFrame'>\n",
      "Int64Index: 7043 entries, 0 to 7042\n",
      "Data columns (total 20 columns):\n",
      " #   Column            Non-Null Count  Dtype  \n",
      "---  ------            --------------  -----  \n",
      " 0   customerID        7043 non-null   object \n",
      " 1   Type              7043 non-null   object \n",
      " 2   PaperlessBilling  7043 non-null   object \n",
      " 3   PaymentMethod     7043 non-null   object \n",
      " 4   MonthlyCharges    7043 non-null   float64\n",
      " 5   TotalCharges      7043 non-null   object \n",
      " 6   NotClient         7043 non-null   int64  \n",
      " 7   Days              7043 non-null   int64  \n",
      " 8   gender            7043 non-null   object \n",
      " 9   SeniorCitizen     7043 non-null   int64  \n",
      " 10  Partner           7043 non-null   object \n",
      " 11  Dependents        7043 non-null   object \n",
      " 12  InternetService   5517 non-null   object \n",
      " 13  OnlineSecurity    5517 non-null   object \n",
      " 14  OnlineBackup      5517 non-null   object \n",
      " 15  DeviceProtection  5517 non-null   object \n",
      " 16  TechSupport       5517 non-null   object \n",
      " 17  StreamingTV       5517 non-null   object \n",
      " 18  StreamingMovies   5517 non-null   object \n",
      " 19  MultipleLines     6361 non-null   object \n",
      "dtypes: float64(1), int64(3), object(16)\n",
      "memory usage: 1.1+ MB\n"
     ]
    }
   ],
   "source": [
    "data.info()"
   ]
  },
  {
   "cell_type": "markdown",
   "id": "dca9baff",
   "metadata": {},
   "source": [
    "<div class=\"alert alert-success\">\n",
    "<b>👍 Успех:</b> Все верно! Датасеты объединены, все данные на месте\n",
    "</div>"
   ]
  },
  {
   "cell_type": "code",
   "execution_count": 35,
   "id": "ec53fa8f",
   "metadata": {},
   "outputs": [
    {
     "data": {
      "text/plain": [
       "0"
      ]
     },
     "execution_count": 35,
     "metadata": {},
     "output_type": "execute_result"
    }
   ],
   "source": [
    "data.duplicated().sum() #проверим на наличие дубликатов"
   ]
  },
  {
   "cell_type": "code",
   "execution_count": 36,
   "id": "1ca8d269",
   "metadata": {},
   "outputs": [],
   "source": [
    "data = data.fillna('No') # убераем пропуски в столбцах"
   ]
  },
  {
   "cell_type": "code",
   "execution_count": 37,
   "id": "58444e3f",
   "metadata": {},
   "outputs": [
    {
     "name": "stdout",
     "output_type": "stream",
     "text": [
      "<class 'pandas.core.frame.DataFrame'>\n",
      "Int64Index: 7043 entries, 0 to 7042\n",
      "Data columns (total 20 columns):\n",
      " #   Column            Non-Null Count  Dtype  \n",
      "---  ------            --------------  -----  \n",
      " 0   customerID        7043 non-null   object \n",
      " 1   Type              7043 non-null   object \n",
      " 2   PaperlessBilling  7043 non-null   object \n",
      " 3   PaymentMethod     7043 non-null   object \n",
      " 4   MonthlyCharges    7043 non-null   float64\n",
      " 5   TotalCharges      7043 non-null   object \n",
      " 6   NotClient         7043 non-null   int64  \n",
      " 7   Days              7043 non-null   int64  \n",
      " 8   gender            7043 non-null   object \n",
      " 9   SeniorCitizen     7043 non-null   int64  \n",
      " 10  Partner           7043 non-null   object \n",
      " 11  Dependents        7043 non-null   object \n",
      " 12  InternetService   7043 non-null   object \n",
      " 13  OnlineSecurity    7043 non-null   object \n",
      " 14  OnlineBackup      7043 non-null   object \n",
      " 15  DeviceProtection  7043 non-null   object \n",
      " 16  TechSupport       7043 non-null   object \n",
      " 17  StreamingTV       7043 non-null   object \n",
      " 18  StreamingMovies   7043 non-null   object \n",
      " 19  MultipleLines     7043 non-null   object \n",
      "dtypes: float64(1), int64(3), object(16)\n",
      "memory usage: 1.1+ MB\n"
     ]
    }
   ],
   "source": [
    "data.info()"
   ]
  },
  {
   "cell_type": "markdown",
   "id": "eb93b219",
   "metadata": {},
   "source": [
    "<div class=\"alert alert-danger\">\n",
    "<b>😔 Необходимо исправить:</b> Сколько у нас пропусков, откуда они появились и почему принято решение о такой замене?\n",
    "</div>"
   ]
  },
  {
   "cell_type": "markdown",
   "id": "4b7dcccb",
   "metadata": {},
   "source": [
    "<div class=\"alert alert-info\"> <b>🎓 Комментарий студента:</b> Пропуски появились после обьединения данных, в столбцах InternetService, OnlineSecurity, OnlineBackup, DeviceProtection, TechSupport, StreamingTV, StreamingMovies, MultipleLines. Появились потому что люди не пользуются этими услугами, поэтому и заменил на значение \"NO\".</div> "
   ]
  },
  {
   "cell_type": "code",
   "execution_count": 38,
   "id": "01089c31",
   "metadata": {
    "scrolled": true
   },
   "outputs": [
    {
     "data": {
      "text/plain": [
       "customerID          0.0\n",
       "Type                0.0\n",
       "PaperlessBilling    0.0\n",
       "PaymentMethod       0.0\n",
       "MonthlyCharges      0.0\n",
       "TotalCharges        0.0\n",
       "NotClient           0.0\n",
       "Days                0.0\n",
       "gender              0.0\n",
       "SeniorCitizen       0.0\n",
       "Partner             0.0\n",
       "Dependents          0.0\n",
       "InternetService     0.0\n",
       "OnlineSecurity      0.0\n",
       "OnlineBackup        0.0\n",
       "DeviceProtection    0.0\n",
       "TechSupport         0.0\n",
       "StreamingTV         0.0\n",
       "StreamingMovies     0.0\n",
       "MultipleLines       0.0\n",
       "dtype: float64"
      ]
     },
     "execution_count": 38,
     "metadata": {},
     "output_type": "execute_result"
    }
   ],
   "source": [
    "data.isna().mean()"
   ]
  },
  {
   "cell_type": "code",
   "execution_count": 39,
   "id": "730f12b8",
   "metadata": {},
   "outputs": [
    {
     "data": {
      "text/html": [
       "<div>\n",
       "<style scoped>\n",
       "    .dataframe tbody tr th:only-of-type {\n",
       "        vertical-align: middle;\n",
       "    }\n",
       "\n",
       "    .dataframe tbody tr th {\n",
       "        vertical-align: top;\n",
       "    }\n",
       "\n",
       "    .dataframe thead th {\n",
       "        text-align: right;\n",
       "    }\n",
       "</style>\n",
       "<table border=\"1\" class=\"dataframe\">\n",
       "  <thead>\n",
       "    <tr style=\"text-align: right;\">\n",
       "      <th></th>\n",
       "      <th>customerID</th>\n",
       "      <th>Type</th>\n",
       "      <th>PaperlessBilling</th>\n",
       "      <th>PaymentMethod</th>\n",
       "      <th>MonthlyCharges</th>\n",
       "      <th>TotalCharges</th>\n",
       "      <th>NotClient</th>\n",
       "      <th>Days</th>\n",
       "      <th>gender</th>\n",
       "      <th>SeniorCitizen</th>\n",
       "      <th>Partner</th>\n",
       "      <th>Dependents</th>\n",
       "      <th>InternetService</th>\n",
       "      <th>OnlineSecurity</th>\n",
       "      <th>OnlineBackup</th>\n",
       "      <th>DeviceProtection</th>\n",
       "      <th>TechSupport</th>\n",
       "      <th>StreamingTV</th>\n",
       "      <th>StreamingMovies</th>\n",
       "      <th>MultipleLines</th>\n",
       "    </tr>\n",
       "  </thead>\n",
       "  <tbody>\n",
       "    <tr>\n",
       "      <th>0</th>\n",
       "      <td>7590-VHVEG</td>\n",
       "      <td>Month-to-month</td>\n",
       "      <td>Yes</td>\n",
       "      <td>Electronic check</td>\n",
       "      <td>29.85</td>\n",
       "      <td>31.04</td>\n",
       "      <td>0</td>\n",
       "      <td>31</td>\n",
       "      <td>Female</td>\n",
       "      <td>0</td>\n",
       "      <td>Yes</td>\n",
       "      <td>No</td>\n",
       "      <td>DSL</td>\n",
       "      <td>No</td>\n",
       "      <td>Yes</td>\n",
       "      <td>No</td>\n",
       "      <td>No</td>\n",
       "      <td>No</td>\n",
       "      <td>No</td>\n",
       "      <td>No</td>\n",
       "    </tr>\n",
       "    <tr>\n",
       "      <th>1</th>\n",
       "      <td>5575-GNVDE</td>\n",
       "      <td>One year</td>\n",
       "      <td>No</td>\n",
       "      <td>Mailed check</td>\n",
       "      <td>56.95</td>\n",
       "      <td>2071.84</td>\n",
       "      <td>0</td>\n",
       "      <td>1036</td>\n",
       "      <td>Male</td>\n",
       "      <td>0</td>\n",
       "      <td>No</td>\n",
       "      <td>No</td>\n",
       "      <td>DSL</td>\n",
       "      <td>Yes</td>\n",
       "      <td>No</td>\n",
       "      <td>Yes</td>\n",
       "      <td>No</td>\n",
       "      <td>No</td>\n",
       "      <td>No</td>\n",
       "      <td>No</td>\n",
       "    </tr>\n",
       "    <tr>\n",
       "      <th>2</th>\n",
       "      <td>3668-QPYBK</td>\n",
       "      <td>Month-to-month</td>\n",
       "      <td>Yes</td>\n",
       "      <td>Mailed check</td>\n",
       "      <td>53.85</td>\n",
       "      <td>226.17</td>\n",
       "      <td>0</td>\n",
       "      <td>123</td>\n",
       "      <td>Male</td>\n",
       "      <td>0</td>\n",
       "      <td>No</td>\n",
       "      <td>No</td>\n",
       "      <td>DSL</td>\n",
       "      <td>Yes</td>\n",
       "      <td>Yes</td>\n",
       "      <td>No</td>\n",
       "      <td>No</td>\n",
       "      <td>No</td>\n",
       "      <td>No</td>\n",
       "      <td>No</td>\n",
       "    </tr>\n",
       "    <tr>\n",
       "      <th>3</th>\n",
       "      <td>7795-CFOCW</td>\n",
       "      <td>One year</td>\n",
       "      <td>No</td>\n",
       "      <td>Bank transfer (automatic)</td>\n",
       "      <td>42.30</td>\n",
       "      <td>1960.6</td>\n",
       "      <td>0</td>\n",
       "      <td>1371</td>\n",
       "      <td>Male</td>\n",
       "      <td>0</td>\n",
       "      <td>No</td>\n",
       "      <td>No</td>\n",
       "      <td>DSL</td>\n",
       "      <td>Yes</td>\n",
       "      <td>No</td>\n",
       "      <td>Yes</td>\n",
       "      <td>Yes</td>\n",
       "      <td>No</td>\n",
       "      <td>No</td>\n",
       "      <td>No</td>\n",
       "    </tr>\n",
       "    <tr>\n",
       "      <th>4</th>\n",
       "      <td>9237-HQITU</td>\n",
       "      <td>Month-to-month</td>\n",
       "      <td>Yes</td>\n",
       "      <td>Electronic check</td>\n",
       "      <td>70.70</td>\n",
       "      <td>353.5</td>\n",
       "      <td>0</td>\n",
       "      <td>153</td>\n",
       "      <td>Female</td>\n",
       "      <td>0</td>\n",
       "      <td>No</td>\n",
       "      <td>No</td>\n",
       "      <td>Fiber optic</td>\n",
       "      <td>No</td>\n",
       "      <td>No</td>\n",
       "      <td>No</td>\n",
       "      <td>No</td>\n",
       "      <td>No</td>\n",
       "      <td>No</td>\n",
       "      <td>No</td>\n",
       "    </tr>\n",
       "  </tbody>\n",
       "</table>\n",
       "</div>"
      ],
      "text/plain": [
       "   customerID            Type PaperlessBilling              PaymentMethod  \\\n",
       "0  7590-VHVEG  Month-to-month              Yes           Electronic check   \n",
       "1  5575-GNVDE        One year               No               Mailed check   \n",
       "2  3668-QPYBK  Month-to-month              Yes               Mailed check   \n",
       "3  7795-CFOCW        One year               No  Bank transfer (automatic)   \n",
       "4  9237-HQITU  Month-to-month              Yes           Electronic check   \n",
       "\n",
       "   MonthlyCharges TotalCharges  NotClient  Days  gender  SeniorCitizen  \\\n",
       "0           29.85        31.04          0    31  Female              0   \n",
       "1           56.95      2071.84          0  1036    Male              0   \n",
       "2           53.85       226.17          0   123    Male              0   \n",
       "3           42.30       1960.6          0  1371    Male              0   \n",
       "4           70.70        353.5          0   153  Female              0   \n",
       "\n",
       "  Partner Dependents InternetService OnlineSecurity OnlineBackup  \\\n",
       "0     Yes         No             DSL             No          Yes   \n",
       "1      No         No             DSL            Yes           No   \n",
       "2      No         No             DSL            Yes          Yes   \n",
       "3      No         No             DSL            Yes           No   \n",
       "4      No         No     Fiber optic             No           No   \n",
       "\n",
       "  DeviceProtection TechSupport StreamingTV StreamingMovies MultipleLines  \n",
       "0               No          No          No              No            No  \n",
       "1              Yes          No          No              No            No  \n",
       "2               No          No          No              No            No  \n",
       "3              Yes         Yes          No              No            No  \n",
       "4               No          No          No              No            No  "
      ]
     },
     "execution_count": 39,
     "metadata": {},
     "output_type": "execute_result"
    }
   ],
   "source": [
    "data.head()"
   ]
  },
  {
   "cell_type": "code",
   "execution_count": 40,
   "id": "c7e51913",
   "metadata": {},
   "outputs": [],
   "source": [
    "numeric = ['MonthlyCharges', 'TotalCharges', 'Days']"
   ]
  },
  {
   "cell_type": "code",
   "execution_count": 41,
   "id": "9781f71a",
   "metadata": {},
   "outputs": [
    {
     "name": "stdout",
     "output_type": "stream",
     "text": [
      "<class 'pandas.core.frame.DataFrame'>\n",
      "Int64Index: 7043 entries, 0 to 7042\n",
      "Data columns (total 20 columns):\n",
      " #   Column            Non-Null Count  Dtype  \n",
      "---  ------            --------------  -----  \n",
      " 0   customerID        7043 non-null   object \n",
      " 1   Type              7043 non-null   object \n",
      " 2   PaperlessBilling  7043 non-null   object \n",
      " 3   PaymentMethod     7043 non-null   object \n",
      " 4   MonthlyCharges    7043 non-null   float64\n",
      " 5   TotalCharges      7043 non-null   object \n",
      " 6   NotClient         7043 non-null   int64  \n",
      " 7   Days              7043 non-null   int64  \n",
      " 8   gender            7043 non-null   object \n",
      " 9   SeniorCitizen     7043 non-null   int64  \n",
      " 10  Partner           7043 non-null   object \n",
      " 11  Dependents        7043 non-null   object \n",
      " 12  InternetService   7043 non-null   object \n",
      " 13  OnlineSecurity    7043 non-null   object \n",
      " 14  OnlineBackup      7043 non-null   object \n",
      " 15  DeviceProtection  7043 non-null   object \n",
      " 16  TechSupport       7043 non-null   object \n",
      " 17  StreamingTV       7043 non-null   object \n",
      " 18  StreamingMovies   7043 non-null   object \n",
      " 19  MultipleLines     7043 non-null   object \n",
      "dtypes: float64(1), int64(3), object(16)\n",
      "memory usage: 1.1+ MB\n"
     ]
    }
   ],
   "source": [
    "data.info()"
   ]
  },
  {
   "cell_type": "code",
   "execution_count": 42,
   "id": "a51fe187",
   "metadata": {},
   "outputs": [],
   "source": [
    "data['TotalCharges'] = pd.to_numeric(data['TotalCharges'], errors ='coerce')"
   ]
  },
  {
   "cell_type": "code",
   "execution_count": 43,
   "id": "29d03149",
   "metadata": {},
   "outputs": [
    {
     "name": "stdout",
     "output_type": "stream",
     "text": [
      "<class 'pandas.core.frame.DataFrame'>\n",
      "Int64Index: 7043 entries, 0 to 7042\n",
      "Data columns (total 20 columns):\n",
      " #   Column            Non-Null Count  Dtype  \n",
      "---  ------            --------------  -----  \n",
      " 0   customerID        7043 non-null   object \n",
      " 1   Type              7043 non-null   object \n",
      " 2   PaperlessBilling  7043 non-null   object \n",
      " 3   PaymentMethod     7043 non-null   object \n",
      " 4   MonthlyCharges    7043 non-null   float64\n",
      " 5   TotalCharges      7032 non-null   float64\n",
      " 6   NotClient         7043 non-null   int64  \n",
      " 7   Days              7043 non-null   int64  \n",
      " 8   gender            7043 non-null   object \n",
      " 9   SeniorCitizen     7043 non-null   int64  \n",
      " 10  Partner           7043 non-null   object \n",
      " 11  Dependents        7043 non-null   object \n",
      " 12  InternetService   7043 non-null   object \n",
      " 13  OnlineSecurity    7043 non-null   object \n",
      " 14  OnlineBackup      7043 non-null   object \n",
      " 15  DeviceProtection  7043 non-null   object \n",
      " 16  TechSupport       7043 non-null   object \n",
      " 17  StreamingTV       7043 non-null   object \n",
      " 18  StreamingMovies   7043 non-null   object \n",
      " 19  MultipleLines     7043 non-null   object \n",
      "dtypes: float64(2), int64(3), object(15)\n",
      "memory usage: 1.1+ MB\n"
     ]
    }
   ],
   "source": [
    "data.info()"
   ]
  },
  {
   "cell_type": "markdown",
   "id": "8518b341",
   "metadata": {},
   "source": [
    "<div class=\"alert alert-danger\">\n",
    "<b>😔 Необходимо исправить:</b> Что получилось в результате такой замены?\n",
    "</div>"
   ]
  },
  {
   "cell_type": "markdown",
   "id": "8b344b22",
   "metadata": {},
   "source": [
    "<div class=\"alert alert-info\"> <b>🎓 Комментарий студента:</b> Использовал метод to_numeric() с параметром errors='coerce', для преобразованият значений типа object в float64.</div> "
   ]
  },
  {
   "cell_type": "code",
   "execution_count": 44,
   "id": "b54751b0",
   "metadata": {},
   "outputs": [
    {
     "data": {
      "text/html": [
       "<div>\n",
       "<style scoped>\n",
       "    .dataframe tbody tr th:only-of-type {\n",
       "        vertical-align: middle;\n",
       "    }\n",
       "\n",
       "    .dataframe tbody tr th {\n",
       "        vertical-align: top;\n",
       "    }\n",
       "\n",
       "    .dataframe thead th {\n",
       "        text-align: right;\n",
       "    }\n",
       "</style>\n",
       "<table border=\"1\" class=\"dataframe\">\n",
       "  <thead>\n",
       "    <tr style=\"text-align: right;\">\n",
       "      <th></th>\n",
       "      <th>MonthlyCharges</th>\n",
       "      <th>TotalCharges</th>\n",
       "      <th>Days</th>\n",
       "    </tr>\n",
       "  </thead>\n",
       "  <tbody>\n",
       "    <tr>\n",
       "      <th>MonthlyCharges</th>\n",
       "      <td>1.000000</td>\n",
       "      <td>0.630297</td>\n",
       "      <td>0.220054</td>\n",
       "    </tr>\n",
       "    <tr>\n",
       "      <th>TotalCharges</th>\n",
       "      <td>0.630297</td>\n",
       "      <td>1.000000</td>\n",
       "      <td>0.821442</td>\n",
       "    </tr>\n",
       "    <tr>\n",
       "      <th>Days</th>\n",
       "      <td>0.220054</td>\n",
       "      <td>0.821442</td>\n",
       "      <td>1.000000</td>\n",
       "    </tr>\n",
       "  </tbody>\n",
       "</table>\n",
       "</div>"
      ],
      "text/plain": [
       "                MonthlyCharges  TotalCharges      Days\n",
       "MonthlyCharges        1.000000      0.630297  0.220054\n",
       "TotalCharges          0.630297      1.000000  0.821442\n",
       "Days                  0.220054      0.821442  1.000000"
      ]
     },
     "execution_count": 44,
     "metadata": {},
     "output_type": "execute_result"
    }
   ],
   "source": [
    "data[numeric].corr()"
   ]
  },
  {
   "cell_type": "code",
   "execution_count": 45,
   "id": "9cfb3d6e",
   "metadata": {},
   "outputs": [],
   "source": [
    "def coding_for_binary_features(data, binary):\n",
    "    data[binary].fillna(0, inplace = True) # пропуск соответствует значению \"No\"\n",
    "    data[binary] = data[binary].replace(['No'], 0)\n",
    "    data[binary] = data[binary].replace(['Yes'], 1)\n",
    "    return data[binary]"
   ]
  },
  {
   "cell_type": "code",
   "execution_count": 46,
   "id": "d212349e",
   "metadata": {},
   "outputs": [],
   "source": [
    "data['MultipleLines'] = coding_for_binary_features(data, 'MultipleLines')\n",
    "data['InternetService'] = coding_for_binary_features(data, 'InternetService')\n",
    "data['OnlineSecurity'] = coding_for_binary_features(data, 'OnlineSecurity')\n",
    "data['OnlineBackup'] = coding_for_binary_features(data, 'OnlineBackup')\n",
    "data['DeviceProtection'] = coding_for_binary_features(data, 'DeviceProtection')\n",
    "data['TechSupport'] = coding_for_binary_features(data, 'TechSupport')\n",
    "data['StreamingTV'] = coding_for_binary_features(data, 'StreamingTV')\n",
    "data['StreamingMovies'] = coding_for_binary_features(data, 'StreamingMovies')"
   ]
  },
  {
   "cell_type": "code",
   "execution_count": 47,
   "id": "77e4a0d6",
   "metadata": {},
   "outputs": [],
   "source": [
    "data['Partner'] = coding_for_binary_features(data, 'Partner')\n",
    "data['Dependents'] = coding_for_binary_features(data, 'Dependents')"
   ]
  },
  {
   "cell_type": "code",
   "execution_count": 48,
   "id": "2f13ec30",
   "metadata": {},
   "outputs": [],
   "source": [
    "data['gender'] = data['gender'].replace(['Male'], 1).replace(['Female'], 0)\n",
    "data['PaperlessBilling'] = data['PaperlessBilling'].replace(['Yes'], 1).replace(['No'], 0)\n",
    "data['InternetService'] = data['InternetService'].replace(['DSL'], 1).replace(['Fiber optic'], 0)"
   ]
  },
  {
   "cell_type": "code",
   "execution_count": 49,
   "id": "2ebc7db7",
   "metadata": {},
   "outputs": [
    {
     "data": {
      "text/html": [
       "<div>\n",
       "<style scoped>\n",
       "    .dataframe tbody tr th:only-of-type {\n",
       "        vertical-align: middle;\n",
       "    }\n",
       "\n",
       "    .dataframe tbody tr th {\n",
       "        vertical-align: top;\n",
       "    }\n",
       "\n",
       "    .dataframe thead th {\n",
       "        text-align: right;\n",
       "    }\n",
       "</style>\n",
       "<table border=\"1\" class=\"dataframe\">\n",
       "  <thead>\n",
       "    <tr style=\"text-align: right;\">\n",
       "      <th></th>\n",
       "      <th>customerID</th>\n",
       "      <th>Type</th>\n",
       "      <th>PaperlessBilling</th>\n",
       "      <th>PaymentMethod</th>\n",
       "      <th>MonthlyCharges</th>\n",
       "      <th>TotalCharges</th>\n",
       "      <th>NotClient</th>\n",
       "      <th>Days</th>\n",
       "      <th>gender</th>\n",
       "      <th>SeniorCitizen</th>\n",
       "      <th>Partner</th>\n",
       "      <th>Dependents</th>\n",
       "      <th>InternetService</th>\n",
       "      <th>OnlineSecurity</th>\n",
       "      <th>OnlineBackup</th>\n",
       "      <th>DeviceProtection</th>\n",
       "      <th>TechSupport</th>\n",
       "      <th>StreamingTV</th>\n",
       "      <th>StreamingMovies</th>\n",
       "      <th>MultipleLines</th>\n",
       "    </tr>\n",
       "  </thead>\n",
       "  <tbody>\n",
       "    <tr>\n",
       "      <th>0</th>\n",
       "      <td>7590-VHVEG</td>\n",
       "      <td>Month-to-month</td>\n",
       "      <td>1</td>\n",
       "      <td>Electronic check</td>\n",
       "      <td>29.85</td>\n",
       "      <td>31.04</td>\n",
       "      <td>0</td>\n",
       "      <td>31</td>\n",
       "      <td>0</td>\n",
       "      <td>0</td>\n",
       "      <td>1</td>\n",
       "      <td>0</td>\n",
       "      <td>1</td>\n",
       "      <td>0</td>\n",
       "      <td>1</td>\n",
       "      <td>0</td>\n",
       "      <td>0</td>\n",
       "      <td>0</td>\n",
       "      <td>0</td>\n",
       "      <td>0</td>\n",
       "    </tr>\n",
       "    <tr>\n",
       "      <th>1</th>\n",
       "      <td>5575-GNVDE</td>\n",
       "      <td>One year</td>\n",
       "      <td>0</td>\n",
       "      <td>Mailed check</td>\n",
       "      <td>56.95</td>\n",
       "      <td>2071.84</td>\n",
       "      <td>0</td>\n",
       "      <td>1036</td>\n",
       "      <td>1</td>\n",
       "      <td>0</td>\n",
       "      <td>0</td>\n",
       "      <td>0</td>\n",
       "      <td>1</td>\n",
       "      <td>1</td>\n",
       "      <td>0</td>\n",
       "      <td>1</td>\n",
       "      <td>0</td>\n",
       "      <td>0</td>\n",
       "      <td>0</td>\n",
       "      <td>0</td>\n",
       "    </tr>\n",
       "    <tr>\n",
       "      <th>2</th>\n",
       "      <td>3668-QPYBK</td>\n",
       "      <td>Month-to-month</td>\n",
       "      <td>1</td>\n",
       "      <td>Mailed check</td>\n",
       "      <td>53.85</td>\n",
       "      <td>226.17</td>\n",
       "      <td>0</td>\n",
       "      <td>123</td>\n",
       "      <td>1</td>\n",
       "      <td>0</td>\n",
       "      <td>0</td>\n",
       "      <td>0</td>\n",
       "      <td>1</td>\n",
       "      <td>1</td>\n",
       "      <td>1</td>\n",
       "      <td>0</td>\n",
       "      <td>0</td>\n",
       "      <td>0</td>\n",
       "      <td>0</td>\n",
       "      <td>0</td>\n",
       "    </tr>\n",
       "    <tr>\n",
       "      <th>3</th>\n",
       "      <td>7795-CFOCW</td>\n",
       "      <td>One year</td>\n",
       "      <td>0</td>\n",
       "      <td>Bank transfer (automatic)</td>\n",
       "      <td>42.30</td>\n",
       "      <td>1960.60</td>\n",
       "      <td>0</td>\n",
       "      <td>1371</td>\n",
       "      <td>1</td>\n",
       "      <td>0</td>\n",
       "      <td>0</td>\n",
       "      <td>0</td>\n",
       "      <td>1</td>\n",
       "      <td>1</td>\n",
       "      <td>0</td>\n",
       "      <td>1</td>\n",
       "      <td>1</td>\n",
       "      <td>0</td>\n",
       "      <td>0</td>\n",
       "      <td>0</td>\n",
       "    </tr>\n",
       "    <tr>\n",
       "      <th>4</th>\n",
       "      <td>9237-HQITU</td>\n",
       "      <td>Month-to-month</td>\n",
       "      <td>1</td>\n",
       "      <td>Electronic check</td>\n",
       "      <td>70.70</td>\n",
       "      <td>353.50</td>\n",
       "      <td>0</td>\n",
       "      <td>153</td>\n",
       "      <td>0</td>\n",
       "      <td>0</td>\n",
       "      <td>0</td>\n",
       "      <td>0</td>\n",
       "      <td>0</td>\n",
       "      <td>0</td>\n",
       "      <td>0</td>\n",
       "      <td>0</td>\n",
       "      <td>0</td>\n",
       "      <td>0</td>\n",
       "      <td>0</td>\n",
       "      <td>0</td>\n",
       "    </tr>\n",
       "  </tbody>\n",
       "</table>\n",
       "</div>"
      ],
      "text/plain": [
       "   customerID            Type  PaperlessBilling              PaymentMethod  \\\n",
       "0  7590-VHVEG  Month-to-month                 1           Electronic check   \n",
       "1  5575-GNVDE        One year                 0               Mailed check   \n",
       "2  3668-QPYBK  Month-to-month                 1               Mailed check   \n",
       "3  7795-CFOCW        One year                 0  Bank transfer (automatic)   \n",
       "4  9237-HQITU  Month-to-month                 1           Electronic check   \n",
       "\n",
       "   MonthlyCharges  TotalCharges  NotClient  Days  gender  SeniorCitizen  \\\n",
       "0           29.85         31.04          0    31       0              0   \n",
       "1           56.95       2071.84          0  1036       1              0   \n",
       "2           53.85        226.17          0   123       1              0   \n",
       "3           42.30       1960.60          0  1371       1              0   \n",
       "4           70.70        353.50          0   153       0              0   \n",
       "\n",
       "   Partner  Dependents  InternetService  OnlineSecurity  OnlineBackup  \\\n",
       "0        1           0                1               0             1   \n",
       "1        0           0                1               1             0   \n",
       "2        0           0                1               1             1   \n",
       "3        0           0                1               1             0   \n",
       "4        0           0                0               0             0   \n",
       "\n",
       "   DeviceProtection  TechSupport  StreamingTV  StreamingMovies  MultipleLines  \n",
       "0                 0            0            0                0              0  \n",
       "1                 1            0            0                0              0  \n",
       "2                 0            0            0                0              0  \n",
       "3                 1            1            0                0              0  \n",
       "4                 0            0            0                0              0  "
      ]
     },
     "execution_count": 49,
     "metadata": {},
     "output_type": "execute_result"
    }
   ],
   "source": [
    "data.head()"
   ]
  },
  {
   "cell_type": "code",
   "execution_count": 50,
   "id": "12ffaaf6",
   "metadata": {},
   "outputs": [
    {
     "name": "stdout",
     "output_type": "stream",
     "text": [
      "<class 'pandas.core.frame.DataFrame'>\n",
      "Int64Index: 7043 entries, 0 to 7042\n",
      "Data columns (total 20 columns):\n",
      " #   Column            Non-Null Count  Dtype  \n",
      "---  ------            --------------  -----  \n",
      " 0   customerID        7043 non-null   object \n",
      " 1   Type              7043 non-null   object \n",
      " 2   PaperlessBilling  7043 non-null   int64  \n",
      " 3   PaymentMethod     7043 non-null   object \n",
      " 4   MonthlyCharges    7043 non-null   float64\n",
      " 5   TotalCharges      7032 non-null   float64\n",
      " 6   NotClient         7043 non-null   int64  \n",
      " 7   Days              7043 non-null   int64  \n",
      " 8   gender            7043 non-null   int64  \n",
      " 9   SeniorCitizen     7043 non-null   int64  \n",
      " 10  Partner           7043 non-null   int64  \n",
      " 11  Dependents        7043 non-null   int64  \n",
      " 12  InternetService   7043 non-null   int64  \n",
      " 13  OnlineSecurity    7043 non-null   int64  \n",
      " 14  OnlineBackup      7043 non-null   int64  \n",
      " 15  DeviceProtection  7043 non-null   int64  \n",
      " 16  TechSupport       7043 non-null   int64  \n",
      " 17  StreamingTV       7043 non-null   int64  \n",
      " 18  StreamingMovies   7043 non-null   int64  \n",
      " 19  MultipleLines     7043 non-null   int64  \n",
      "dtypes: float64(2), int64(15), object(3)\n",
      "memory usage: 1.1+ MB\n"
     ]
    }
   ],
   "source": [
    "data.info()"
   ]
  },
  {
   "cell_type": "code",
   "execution_count": 51,
   "id": "ee039f95",
   "metadata": {},
   "outputs": [
    {
     "data": {
      "text/html": [
       "<div>\n",
       "<style scoped>\n",
       "    .dataframe tbody tr th:only-of-type {\n",
       "        vertical-align: middle;\n",
       "    }\n",
       "\n",
       "    .dataframe tbody tr th {\n",
       "        vertical-align: top;\n",
       "    }\n",
       "\n",
       "    .dataframe thead th {\n",
       "        text-align: right;\n",
       "    }\n",
       "</style>\n",
       "<table border=\"1\" class=\"dataframe\">\n",
       "  <thead>\n",
       "    <tr style=\"text-align: right;\">\n",
       "      <th></th>\n",
       "      <th>PaperlessBilling</th>\n",
       "      <th>MonthlyCharges</th>\n",
       "      <th>TotalCharges</th>\n",
       "      <th>NotClient</th>\n",
       "      <th>Days</th>\n",
       "      <th>gender</th>\n",
       "      <th>SeniorCitizen</th>\n",
       "      <th>Partner</th>\n",
       "      <th>Dependents</th>\n",
       "      <th>InternetService</th>\n",
       "      <th>OnlineSecurity</th>\n",
       "      <th>OnlineBackup</th>\n",
       "      <th>DeviceProtection</th>\n",
       "      <th>TechSupport</th>\n",
       "      <th>StreamingTV</th>\n",
       "      <th>StreamingMovies</th>\n",
       "      <th>MultipleLines</th>\n",
       "    </tr>\n",
       "  </thead>\n",
       "  <tbody>\n",
       "    <tr>\n",
       "      <th>PaperlessBilling</th>\n",
       "      <td>1.000000</td>\n",
       "      <td>0.352150</td>\n",
       "      <td>0.152820</td>\n",
       "      <td>0.054869</td>\n",
       "      <td>-0.001569</td>\n",
       "      <td>-0.011754</td>\n",
       "      <td>0.156530</td>\n",
       "      <td>-0.014877</td>\n",
       "      <td>-0.111377</td>\n",
       "      <td>-0.063121</td>\n",
       "      <td>-0.003636</td>\n",
       "      <td>0.126735</td>\n",
       "      <td>0.103797</td>\n",
       "      <td>0.037880</td>\n",
       "      <td>0.223841</td>\n",
       "      <td>0.211716</td>\n",
       "      <td>0.163530</td>\n",
       "    </tr>\n",
       "    <tr>\n",
       "      <th>MonthlyCharges</th>\n",
       "      <td>0.352150</td>\n",
       "      <td>1.000000</td>\n",
       "      <td>0.630297</td>\n",
       "      <td>0.154286</td>\n",
       "      <td>0.220054</td>\n",
       "      <td>-0.014569</td>\n",
       "      <td>0.220173</td>\n",
       "      <td>0.096848</td>\n",
       "      <td>-0.113890</td>\n",
       "      <td>-0.160189</td>\n",
       "      <td>0.296594</td>\n",
       "      <td>0.441780</td>\n",
       "      <td>0.482692</td>\n",
       "      <td>0.338304</td>\n",
       "      <td>0.629603</td>\n",
       "      <td>0.627429</td>\n",
       "      <td>0.490434</td>\n",
       "    </tr>\n",
       "    <tr>\n",
       "      <th>TotalCharges</th>\n",
       "      <td>0.152820</td>\n",
       "      <td>0.630297</td>\n",
       "      <td>1.000000</td>\n",
       "      <td>0.051548</td>\n",
       "      <td>0.821442</td>\n",
       "      <td>-0.010354</td>\n",
       "      <td>0.093383</td>\n",
       "      <td>0.290269</td>\n",
       "      <td>0.056297</td>\n",
       "      <td>-0.048627</td>\n",
       "      <td>0.393724</td>\n",
       "      <td>0.479512</td>\n",
       "      <td>0.495828</td>\n",
       "      <td>0.421172</td>\n",
       "      <td>0.498387</td>\n",
       "      <td>0.494521</td>\n",
       "      <td>0.438909</td>\n",
       "    </tr>\n",
       "    <tr>\n",
       "      <th>NotClient</th>\n",
       "      <td>0.054869</td>\n",
       "      <td>0.154286</td>\n",
       "      <td>0.051548</td>\n",
       "      <td>1.000000</td>\n",
       "      <td>0.016578</td>\n",
       "      <td>0.013499</td>\n",
       "      <td>0.056724</td>\n",
       "      <td>0.146447</td>\n",
       "      <td>0.032564</td>\n",
       "      <td>-0.026723</td>\n",
       "      <td>0.085921</td>\n",
       "      <td>0.148288</td>\n",
       "      <td>0.141059</td>\n",
       "      <td>0.067596</td>\n",
       "      <td>0.129261</td>\n",
       "      <td>0.143557</td>\n",
       "      <td>0.169066</td>\n",
       "    </tr>\n",
       "    <tr>\n",
       "      <th>Days</th>\n",
       "      <td>-0.001569</td>\n",
       "      <td>0.220054</td>\n",
       "      <td>0.821442</td>\n",
       "      <td>0.016578</td>\n",
       "      <td>1.000000</td>\n",
       "      <td>-0.003825</td>\n",
       "      <td>0.005283</td>\n",
       "      <td>0.339945</td>\n",
       "      <td>0.148731</td>\n",
       "      <td>0.015373</td>\n",
       "      <td>0.301884</td>\n",
       "      <td>0.318038</td>\n",
       "      <td>0.326907</td>\n",
       "      <td>0.306542</td>\n",
       "      <td>0.256113</td>\n",
       "      <td>0.254143</td>\n",
       "      <td>0.293424</td>\n",
       "    </tr>\n",
       "    <tr>\n",
       "      <th>gender</th>\n",
       "      <td>-0.011754</td>\n",
       "      <td>-0.014569</td>\n",
       "      <td>-0.010354</td>\n",
       "      <td>0.013499</td>\n",
       "      <td>-0.003825</td>\n",
       "      <td>1.000000</td>\n",
       "      <td>-0.001874</td>\n",
       "      <td>-0.001808</td>\n",
       "      <td>0.010517</td>\n",
       "      <td>0.006568</td>\n",
       "      <td>-0.017021</td>\n",
       "      <td>-0.013773</td>\n",
       "      <td>-0.002105</td>\n",
       "      <td>-0.009212</td>\n",
       "      <td>-0.008393</td>\n",
       "      <td>-0.010487</td>\n",
       "      <td>-0.008414</td>\n",
       "    </tr>\n",
       "    <tr>\n",
       "      <th>SeniorCitizen</th>\n",
       "      <td>0.156530</td>\n",
       "      <td>0.220173</td>\n",
       "      <td>0.093383</td>\n",
       "      <td>0.056724</td>\n",
       "      <td>0.005283</td>\n",
       "      <td>-0.001874</td>\n",
       "      <td>1.000000</td>\n",
       "      <td>0.016479</td>\n",
       "      <td>-0.211185</td>\n",
       "      <td>-0.108322</td>\n",
       "      <td>-0.038653</td>\n",
       "      <td>0.066572</td>\n",
       "      <td>0.059428</td>\n",
       "      <td>-0.060625</td>\n",
       "      <td>0.105378</td>\n",
       "      <td>0.120176</td>\n",
       "      <td>0.142948</td>\n",
       "    </tr>\n",
       "    <tr>\n",
       "      <th>Partner</th>\n",
       "      <td>-0.014877</td>\n",
       "      <td>0.096848</td>\n",
       "      <td>0.290269</td>\n",
       "      <td>0.146447</td>\n",
       "      <td>0.339945</td>\n",
       "      <td>-0.001808</td>\n",
       "      <td>0.016479</td>\n",
       "      <td>1.000000</td>\n",
       "      <td>0.452676</td>\n",
       "      <td>-0.000851</td>\n",
       "      <td>0.143106</td>\n",
       "      <td>0.141498</td>\n",
       "      <td>0.153786</td>\n",
       "      <td>0.119999</td>\n",
       "      <td>0.124666</td>\n",
       "      <td>0.117412</td>\n",
       "      <td>0.142057</td>\n",
       "    </tr>\n",
       "    <tr>\n",
       "      <th>Dependents</th>\n",
       "      <td>-0.111377</td>\n",
       "      <td>-0.113890</td>\n",
       "      <td>0.056297</td>\n",
       "      <td>0.032564</td>\n",
       "      <td>0.148731</td>\n",
       "      <td>0.010517</td>\n",
       "      <td>-0.211185</td>\n",
       "      <td>0.452676</td>\n",
       "      <td>1.000000</td>\n",
       "      <td>0.052010</td>\n",
       "      <td>0.080972</td>\n",
       "      <td>0.023671</td>\n",
       "      <td>0.013963</td>\n",
       "      <td>0.063268</td>\n",
       "      <td>-0.016558</td>\n",
       "      <td>-0.039741</td>\n",
       "      <td>-0.024526</td>\n",
       "    </tr>\n",
       "    <tr>\n",
       "      <th>InternetService</th>\n",
       "      <td>-0.063121</td>\n",
       "      <td>-0.160189</td>\n",
       "      <td>-0.048627</td>\n",
       "      <td>-0.026723</td>\n",
       "      <td>0.015373</td>\n",
       "      <td>0.006568</td>\n",
       "      <td>-0.108322</td>\n",
       "      <td>-0.000851</td>\n",
       "      <td>0.052010</td>\n",
       "      <td>1.000000</td>\n",
       "      <td>0.321269</td>\n",
       "      <td>0.157884</td>\n",
       "      <td>0.146291</td>\n",
       "      <td>0.313118</td>\n",
       "      <td>0.016274</td>\n",
       "      <td>0.025698</td>\n",
       "      <td>-0.199920</td>\n",
       "    </tr>\n",
       "    <tr>\n",
       "      <th>OnlineSecurity</th>\n",
       "      <td>-0.003636</td>\n",
       "      <td>0.296594</td>\n",
       "      <td>0.393724</td>\n",
       "      <td>0.085921</td>\n",
       "      <td>0.301884</td>\n",
       "      <td>-0.017021</td>\n",
       "      <td>-0.038653</td>\n",
       "      <td>0.143106</td>\n",
       "      <td>0.080972</td>\n",
       "      <td>0.321269</td>\n",
       "      <td>1.000000</td>\n",
       "      <td>0.283832</td>\n",
       "      <td>0.275438</td>\n",
       "      <td>0.354931</td>\n",
       "      <td>0.176207</td>\n",
       "      <td>0.187398</td>\n",
       "      <td>0.098108</td>\n",
       "    </tr>\n",
       "    <tr>\n",
       "      <th>OnlineBackup</th>\n",
       "      <td>0.126735</td>\n",
       "      <td>0.441780</td>\n",
       "      <td>0.479512</td>\n",
       "      <td>0.148288</td>\n",
       "      <td>0.318038</td>\n",
       "      <td>-0.013773</td>\n",
       "      <td>0.066572</td>\n",
       "      <td>0.141498</td>\n",
       "      <td>0.023671</td>\n",
       "      <td>0.157884</td>\n",
       "      <td>0.283832</td>\n",
       "      <td>1.000000</td>\n",
       "      <td>0.303546</td>\n",
       "      <td>0.294233</td>\n",
       "      <td>0.282106</td>\n",
       "      <td>0.274501</td>\n",
       "      <td>0.202237</td>\n",
       "    </tr>\n",
       "    <tr>\n",
       "      <th>DeviceProtection</th>\n",
       "      <td>0.103797</td>\n",
       "      <td>0.482692</td>\n",
       "      <td>0.495828</td>\n",
       "      <td>0.141059</td>\n",
       "      <td>0.326907</td>\n",
       "      <td>-0.002105</td>\n",
       "      <td>0.059428</td>\n",
       "      <td>0.153786</td>\n",
       "      <td>0.013963</td>\n",
       "      <td>0.146291</td>\n",
       "      <td>0.275438</td>\n",
       "      <td>0.303546</td>\n",
       "      <td>1.000000</td>\n",
       "      <td>0.333313</td>\n",
       "      <td>0.390874</td>\n",
       "      <td>0.402111</td>\n",
       "      <td>0.201137</td>\n",
       "    </tr>\n",
       "    <tr>\n",
       "      <th>TechSupport</th>\n",
       "      <td>0.037880</td>\n",
       "      <td>0.338304</td>\n",
       "      <td>0.421172</td>\n",
       "      <td>0.067596</td>\n",
       "      <td>0.306542</td>\n",
       "      <td>-0.009212</td>\n",
       "      <td>-0.060625</td>\n",
       "      <td>0.119999</td>\n",
       "      <td>0.063268</td>\n",
       "      <td>0.313118</td>\n",
       "      <td>0.354931</td>\n",
       "      <td>0.294233</td>\n",
       "      <td>0.333313</td>\n",
       "      <td>1.000000</td>\n",
       "      <td>0.278070</td>\n",
       "      <td>0.279358</td>\n",
       "      <td>0.100571</td>\n",
       "    </tr>\n",
       "    <tr>\n",
       "      <th>StreamingTV</th>\n",
       "      <td>0.223841</td>\n",
       "      <td>0.629603</td>\n",
       "      <td>0.498387</td>\n",
       "      <td>0.129261</td>\n",
       "      <td>0.256113</td>\n",
       "      <td>-0.008393</td>\n",
       "      <td>0.105378</td>\n",
       "      <td>0.124666</td>\n",
       "      <td>-0.016558</td>\n",
       "      <td>0.016274</td>\n",
       "      <td>0.176207</td>\n",
       "      <td>0.282106</td>\n",
       "      <td>0.390874</td>\n",
       "      <td>0.278070</td>\n",
       "      <td>1.000000</td>\n",
       "      <td>0.533094</td>\n",
       "      <td>0.257152</td>\n",
       "    </tr>\n",
       "    <tr>\n",
       "      <th>StreamingMovies</th>\n",
       "      <td>0.211716</td>\n",
       "      <td>0.627429</td>\n",
       "      <td>0.494521</td>\n",
       "      <td>0.143557</td>\n",
       "      <td>0.254143</td>\n",
       "      <td>-0.010487</td>\n",
       "      <td>0.120176</td>\n",
       "      <td>0.117412</td>\n",
       "      <td>-0.039741</td>\n",
       "      <td>0.025698</td>\n",
       "      <td>0.187398</td>\n",
       "      <td>0.274501</td>\n",
       "      <td>0.402111</td>\n",
       "      <td>0.279358</td>\n",
       "      <td>0.533094</td>\n",
       "      <td>1.000000</td>\n",
       "      <td>0.258751</td>\n",
       "    </tr>\n",
       "    <tr>\n",
       "      <th>MultipleLines</th>\n",
       "      <td>0.163530</td>\n",
       "      <td>0.490434</td>\n",
       "      <td>0.438909</td>\n",
       "      <td>0.169066</td>\n",
       "      <td>0.293424</td>\n",
       "      <td>-0.008414</td>\n",
       "      <td>0.142948</td>\n",
       "      <td>0.142057</td>\n",
       "      <td>-0.024526</td>\n",
       "      <td>-0.199920</td>\n",
       "      <td>0.098108</td>\n",
       "      <td>0.202237</td>\n",
       "      <td>0.201137</td>\n",
       "      <td>0.100571</td>\n",
       "      <td>0.257152</td>\n",
       "      <td>0.258751</td>\n",
       "      <td>1.000000</td>\n",
       "    </tr>\n",
       "  </tbody>\n",
       "</table>\n",
       "</div>"
      ],
      "text/plain": [
       "                  PaperlessBilling  MonthlyCharges  TotalCharges  NotClient  \\\n",
       "PaperlessBilling          1.000000        0.352150      0.152820   0.054869   \n",
       "MonthlyCharges            0.352150        1.000000      0.630297   0.154286   \n",
       "TotalCharges              0.152820        0.630297      1.000000   0.051548   \n",
       "NotClient                 0.054869        0.154286      0.051548   1.000000   \n",
       "Days                     -0.001569        0.220054      0.821442   0.016578   \n",
       "gender                   -0.011754       -0.014569     -0.010354   0.013499   \n",
       "SeniorCitizen             0.156530        0.220173      0.093383   0.056724   \n",
       "Partner                  -0.014877        0.096848      0.290269   0.146447   \n",
       "Dependents               -0.111377       -0.113890      0.056297   0.032564   \n",
       "InternetService          -0.063121       -0.160189     -0.048627  -0.026723   \n",
       "OnlineSecurity           -0.003636        0.296594      0.393724   0.085921   \n",
       "OnlineBackup              0.126735        0.441780      0.479512   0.148288   \n",
       "DeviceProtection          0.103797        0.482692      0.495828   0.141059   \n",
       "TechSupport               0.037880        0.338304      0.421172   0.067596   \n",
       "StreamingTV               0.223841        0.629603      0.498387   0.129261   \n",
       "StreamingMovies           0.211716        0.627429      0.494521   0.143557   \n",
       "MultipleLines             0.163530        0.490434      0.438909   0.169066   \n",
       "\n",
       "                      Days    gender  SeniorCitizen   Partner  Dependents  \\\n",
       "PaperlessBilling -0.001569 -0.011754       0.156530 -0.014877   -0.111377   \n",
       "MonthlyCharges    0.220054 -0.014569       0.220173  0.096848   -0.113890   \n",
       "TotalCharges      0.821442 -0.010354       0.093383  0.290269    0.056297   \n",
       "NotClient         0.016578  0.013499       0.056724  0.146447    0.032564   \n",
       "Days              1.000000 -0.003825       0.005283  0.339945    0.148731   \n",
       "gender           -0.003825  1.000000      -0.001874 -0.001808    0.010517   \n",
       "SeniorCitizen     0.005283 -0.001874       1.000000  0.016479   -0.211185   \n",
       "Partner           0.339945 -0.001808       0.016479  1.000000    0.452676   \n",
       "Dependents        0.148731  0.010517      -0.211185  0.452676    1.000000   \n",
       "InternetService   0.015373  0.006568      -0.108322 -0.000851    0.052010   \n",
       "OnlineSecurity    0.301884 -0.017021      -0.038653  0.143106    0.080972   \n",
       "OnlineBackup      0.318038 -0.013773       0.066572  0.141498    0.023671   \n",
       "DeviceProtection  0.326907 -0.002105       0.059428  0.153786    0.013963   \n",
       "TechSupport       0.306542 -0.009212      -0.060625  0.119999    0.063268   \n",
       "StreamingTV       0.256113 -0.008393       0.105378  0.124666   -0.016558   \n",
       "StreamingMovies   0.254143 -0.010487       0.120176  0.117412   -0.039741   \n",
       "MultipleLines     0.293424 -0.008414       0.142948  0.142057   -0.024526   \n",
       "\n",
       "                  InternetService  OnlineSecurity  OnlineBackup  \\\n",
       "PaperlessBilling        -0.063121       -0.003636      0.126735   \n",
       "MonthlyCharges          -0.160189        0.296594      0.441780   \n",
       "TotalCharges            -0.048627        0.393724      0.479512   \n",
       "NotClient               -0.026723        0.085921      0.148288   \n",
       "Days                     0.015373        0.301884      0.318038   \n",
       "gender                   0.006568       -0.017021     -0.013773   \n",
       "SeniorCitizen           -0.108322       -0.038653      0.066572   \n",
       "Partner                 -0.000851        0.143106      0.141498   \n",
       "Dependents               0.052010        0.080972      0.023671   \n",
       "InternetService          1.000000        0.321269      0.157884   \n",
       "OnlineSecurity           0.321269        1.000000      0.283832   \n",
       "OnlineBackup             0.157884        0.283832      1.000000   \n",
       "DeviceProtection         0.146291        0.275438      0.303546   \n",
       "TechSupport              0.313118        0.354931      0.294233   \n",
       "StreamingTV              0.016274        0.176207      0.282106   \n",
       "StreamingMovies          0.025698        0.187398      0.274501   \n",
       "MultipleLines           -0.199920        0.098108      0.202237   \n",
       "\n",
       "                  DeviceProtection  TechSupport  StreamingTV  StreamingMovies  \\\n",
       "PaperlessBilling          0.103797     0.037880     0.223841         0.211716   \n",
       "MonthlyCharges            0.482692     0.338304     0.629603         0.627429   \n",
       "TotalCharges              0.495828     0.421172     0.498387         0.494521   \n",
       "NotClient                 0.141059     0.067596     0.129261         0.143557   \n",
       "Days                      0.326907     0.306542     0.256113         0.254143   \n",
       "gender                   -0.002105    -0.009212    -0.008393        -0.010487   \n",
       "SeniorCitizen             0.059428    -0.060625     0.105378         0.120176   \n",
       "Partner                   0.153786     0.119999     0.124666         0.117412   \n",
       "Dependents                0.013963     0.063268    -0.016558        -0.039741   \n",
       "InternetService           0.146291     0.313118     0.016274         0.025698   \n",
       "OnlineSecurity            0.275438     0.354931     0.176207         0.187398   \n",
       "OnlineBackup              0.303546     0.294233     0.282106         0.274501   \n",
       "DeviceProtection          1.000000     0.333313     0.390874         0.402111   \n",
       "TechSupport               0.333313     1.000000     0.278070         0.279358   \n",
       "StreamingTV               0.390874     0.278070     1.000000         0.533094   \n",
       "StreamingMovies           0.402111     0.279358     0.533094         1.000000   \n",
       "MultipleLines             0.201137     0.100571     0.257152         0.258751   \n",
       "\n",
       "                  MultipleLines  \n",
       "PaperlessBilling       0.163530  \n",
       "MonthlyCharges         0.490434  \n",
       "TotalCharges           0.438909  \n",
       "NotClient              0.169066  \n",
       "Days                   0.293424  \n",
       "gender                -0.008414  \n",
       "SeniorCitizen          0.142948  \n",
       "Partner                0.142057  \n",
       "Dependents            -0.024526  \n",
       "InternetService       -0.199920  \n",
       "OnlineSecurity         0.098108  \n",
       "OnlineBackup           0.202237  \n",
       "DeviceProtection       0.201137  \n",
       "TechSupport            0.100571  \n",
       "StreamingTV            0.257152  \n",
       "StreamingMovies        0.258751  \n",
       "MultipleLines          1.000000  "
      ]
     },
     "execution_count": 51,
     "metadata": {},
     "output_type": "execute_result"
    }
   ],
   "source": [
    "corr = data.corr()\n",
    "corr"
   ]
  },
  {
   "cell_type": "markdown",
   "id": "70eca313",
   "metadata": {},
   "source": [
    "Между признаками TotalCharges и Days сильная корреляция, 0.82, присутствует проблему мультиколлинеарности. Это объясняется тем, что чем дольше клиент пользуется услугами, тем больше составляют его общие расходы."
   ]
  },
  {
   "cell_type": "code",
   "execution_count": 52,
   "id": "9bbd2ba5",
   "metadata": {},
   "outputs": [
    {
     "data": {
      "image/png": "[encoded data removed]",
      "text/plain": [
       "<Figure size 1080x1080 with 2 Axes>"
      ]
     },
     "metadata": {
      "needs_background": "light"
     },
     "output_type": "display_data"
    }
   ],
   "source": [
    "plt.figure(figsize = (15, 15))\n",
    "sns.heatmap(corr, annot=False);"
   ]
  },
  {
   "cell_type": "markdown",
   "id": "83463654",
   "metadata": {},
   "source": [
    "<div class=\"alert alert-danger\">\n",
    "<b>😔 Необходимо исправить:</b> Все данные нужно исследовать в разрезе ушел/остался, корреляцию нужно посмотреть по всем признакам\n",
    "</div>"
   ]
  },
  {
   "cell_type": "code",
   "execution_count": 53,
   "id": "775e55fc",
   "metadata": {},
   "outputs": [
    {
     "name": "stdout",
     "output_type": "stream",
     "text": [
      "<class 'pandas.core.frame.DataFrame'>\n",
      "Int64Index: 7043 entries, 0 to 7042\n",
      "Data columns (total 20 columns):\n",
      " #   Column            Non-Null Count  Dtype  \n",
      "---  ------            --------------  -----  \n",
      " 0   customerID        7043 non-null   object \n",
      " 1   Type              7043 non-null   object \n",
      " 2   PaperlessBilling  7043 non-null   int64  \n",
      " 3   PaymentMethod     7043 non-null   object \n",
      " 4   MonthlyCharges    7043 non-null   float64\n",
      " 5   TotalCharges      7032 non-null   float64\n",
      " 6   NotClient         7043 non-null   int64  \n",
      " 7   Days              7043 non-null   int64  \n",
      " 8   gender            7043 non-null   int64  \n",
      " 9   SeniorCitizen     7043 non-null   int64  \n",
      " 10  Partner           7043 non-null   int64  \n",
      " 11  Dependents        7043 non-null   int64  \n",
      " 12  InternetService   7043 non-null   int64  \n",
      " 13  OnlineSecurity    7043 non-null   int64  \n",
      " 14  OnlineBackup      7043 non-null   int64  \n",
      " 15  DeviceProtection  7043 non-null   int64  \n",
      " 16  TechSupport       7043 non-null   int64  \n",
      " 17  StreamingTV       7043 non-null   int64  \n",
      " 18  StreamingMovies   7043 non-null   int64  \n",
      " 19  MultipleLines     7043 non-null   int64  \n",
      "dtypes: float64(2), int64(15), object(3)\n",
      "memory usage: 1.1+ MB\n"
     ]
    }
   ],
   "source": [
    "data.info()"
   ]
  },
  {
   "cell_type": "markdown",
   "id": "b4da2562",
   "metadata": {},
   "source": [
    "## Подготовка данных"
   ]
  },
  {
   "cell_type": "markdown",
   "id": "486b027e",
   "metadata": {},
   "source": [
    "Создадим переменные с признаками"
   ]
  },
  {
   "cell_type": "code",
   "execution_count": 54,
   "id": "abbb34ac",
   "metadata": {},
   "outputs": [],
   "source": [
    "#data = data.drop('TotalCharges', axis = 1)"
   ]
  },
  {
   "cell_type": "code",
   "execution_count": 55,
   "id": "ed4b4a69",
   "metadata": {},
   "outputs": [],
   "source": [
    "data = data.drop(['customerID'], axis=1)"
   ]
  },
  {
   "cell_type": "markdown",
   "id": "27395e33",
   "metadata": {},
   "source": [
    "<div class=\"alert alert-danger\">\n",
    "<b>😔 Необходимо исправить:</b> Почему принято решение об удалении этих признаков?\n",
    "</div>"
   ]
  },
  {
   "cell_type": "code",
   "execution_count": 56,
   "id": "dbbd0975",
   "metadata": {},
   "outputs": [],
   "source": [
    "features = data.drop(['NotClient'], axis=1)\n",
    "target = data['NotClient']"
   ]
  },
  {
   "cell_type": "markdown",
   "id": "c6f40f3e",
   "metadata": {},
   "source": [
    "Создадим тренироваочный и тестовые датасеты"
   ]
  },
  {
   "cell_type": "code",
   "execution_count": 57,
   "id": "082d0b84",
   "metadata": {},
   "outputs": [],
   "source": [
    "features_train, features_test, target_train, target_test = train_test_split(\n",
    "    features, target, test_size=0.25, random_state=250923, stratify = target)"
   ]
  },
  {
   "cell_type": "code",
   "execution_count": 58,
   "id": "947c306b",
   "metadata": {},
   "outputs": [
    {
     "data": {
      "text/plain": [
       "((5282, 18), (5282,), (1761, 18), (1761,))"
      ]
     },
     "execution_count": 58,
     "metadata": {},
     "output_type": "execute_result"
    }
   ],
   "source": [
    "features_train.shape, target_train.shape, features_test.shape, target_test.shape"
   ]
  },
  {
   "cell_type": "markdown",
   "id": "04a93857",
   "metadata": {},
   "source": [
    "<div class=\"alert alert-danger\">\n",
    "<b>😔 Необходимо исправить:</b> Нужно проверить, что данные корректно разделились на выборки\n",
    "</div>"
   ]
  },
  {
   "cell_type": "markdown",
   "id": "f76a7f60",
   "metadata": {},
   "source": [
    "<div class=\"alert alert-info\"> <b>🎓 Комментарий студента:</b> Данные азделились корректно.</div> "
   ]
  },
  {
   "cell_type": "markdown",
   "id": "47b3f678",
   "metadata": {},
   "source": [
    "Кодируем и стандартизируем признаки для логистической регрессии и случайного леса."
   ]
  },
  {
   "cell_type": "code",
   "execution_count": 59,
   "id": "d3f89df2",
   "metadata": {},
   "outputs": [],
   "source": [
    "cat_cols = ['Type', 'PaperlessBilling', 'PaymentMethod', 'SeniorCitizen', 'Partner', 'Dependents', 'InternetService',\n",
    "             'OnlineSecurity', 'OnlineBackup', 'DeviceProtection', 'TechSupport', 'StreamingTV', 'StreamingMovies', 'MultipleLines']\n",
    "num_cols = ['MonthlyCharges', 'Days']"
   ]
  },
  {
   "cell_type": "code",
   "execution_count": 60,
   "id": "53360e44",
   "metadata": {},
   "outputs": [],
   "source": [
    "transformer_log = make_column_transformer((OneHotEncoder(drop='first', handle_unknown='error'), cat_cols),\n",
    "    (StandardScaler(), num_cols))"
   ]
  },
  {
   "cell_type": "code",
   "execution_count": null,
   "id": "9264902d",
   "metadata": {},
   "outputs": [],
   "source": []
  },
  {
   "cell_type": "markdown",
   "id": "5344aeaf",
   "metadata": {},
   "source": [
    "## Логистическая регрессия"
   ]
  },
  {
   "cell_type": "code",
   "execution_count": 61,
   "id": "3270b886",
   "metadata": {},
   "outputs": [],
   "source": [
    "model_lr = LogisticRegression(class_weight = 'balanced', random_state = 250923)"
   ]
  },
  {
   "cell_type": "markdown",
   "id": "12d825dc",
   "metadata": {},
   "source": [
    "<div class=\"alert alert-danger\">\n",
    "<b>😔 Необходимо исправить:</b> Проверь еще раз работу моделей, какие предупреждения и ошибки появляются при их работе, какое значение метрики, нет ли утечки. Во всех моделях лучше использовать GridSearchCV.\n",
    "</div>"
   ]
  },
  {
   "cell_type": "code",
   "execution_count": 62,
   "id": "6fc66e32",
   "metadata": {},
   "outputs": [
    {
     "name": "stderr",
     "output_type": "stream",
     "text": [
      "/opt/conda/lib/python3.9/site-packages/sklearn/linear_model/_logistic.py:763: ConvergenceWarning: lbfgs failed to converge (status=1):\n",
      "STOP: TOTAL NO. of ITERATIONS REACHED LIMIT.\n",
      "\n",
      "Increase the number of iterations (max_iter) or scale the data as shown in:\n",
      "    https://scikit-learn.org/stable/modules/preprocessing.html\n",
      "Please also refer to the documentation for alternative solver options:\n",
      "    https://scikit-learn.org/stable/modules/linear_model.html#logistic-regression\n",
      "  n_iter_i = _check_optimize_result(\n",
      "/opt/conda/lib/python3.9/site-packages/sklearn/linear_model/_logistic.py:763: ConvergenceWarning: lbfgs failed to converge (status=1):\n",
      "STOP: TOTAL NO. of ITERATIONS REACHED LIMIT.\n",
      "\n",
      "Increase the number of iterations (max_iter) or scale the data as shown in:\n",
      "    https://scikit-learn.org/stable/modules/preprocessing.html\n",
      "Please also refer to the documentation for alternative solver options:\n",
      "    https://scikit-learn.org/stable/modules/linear_model.html#logistic-regression\n",
      "  n_iter_i = _check_optimize_result(\n",
      "/opt/conda/lib/python3.9/site-packages/sklearn/linear_model/_logistic.py:763: ConvergenceWarning: lbfgs failed to converge (status=1):\n",
      "STOP: TOTAL NO. of ITERATIONS REACHED LIMIT.\n",
      "\n",
      "Increase the number of iterations (max_iter) or scale the data as shown in:\n",
      "    https://scikit-learn.org/stable/modules/preprocessing.html\n",
      "Please also refer to the documentation for alternative solver options:\n",
      "    https://scikit-learn.org/stable/modules/linear_model.html#logistic-regression\n",
      "  n_iter_i = _check_optimize_result(\n",
      "/opt/conda/lib/python3.9/site-packages/sklearn/linear_model/_logistic.py:763: ConvergenceWarning: lbfgs failed to converge (status=1):\n",
      "STOP: TOTAL NO. of ITERATIONS REACHED LIMIT.\n",
      "\n",
      "Increase the number of iterations (max_iter) or scale the data as shown in:\n",
      "    https://scikit-learn.org/stable/modules/preprocessing.html\n",
      "Please also refer to the documentation for alternative solver options:\n",
      "    https://scikit-learn.org/stable/modules/linear_model.html#logistic-regression\n",
      "  n_iter_i = _check_optimize_result(\n",
      "/opt/conda/lib/python3.9/site-packages/sklearn/linear_model/_logistic.py:763: ConvergenceWarning: lbfgs failed to converge (status=1):\n",
      "STOP: TOTAL NO. of ITERATIONS REACHED LIMIT.\n",
      "\n",
      "Increase the number of iterations (max_iter) or scale the data as shown in:\n",
      "    https://scikit-learn.org/stable/modules/preprocessing.html\n",
      "Please also refer to the documentation for alternative solver options:\n",
      "    https://scikit-learn.org/stable/modules/linear_model.html#logistic-regression\n",
      "  n_iter_i = _check_optimize_result(\n",
      "/opt/conda/lib/python3.9/site-packages/sklearn/linear_model/_logistic.py:763: ConvergenceWarning: lbfgs failed to converge (status=1):\n",
      "STOP: TOTAL NO. of ITERATIONS REACHED LIMIT.\n",
      "\n",
      "Increase the number of iterations (max_iter) or scale the data as shown in:\n",
      "    https://scikit-learn.org/stable/modules/preprocessing.html\n",
      "Please also refer to the documentation for alternative solver options:\n",
      "    https://scikit-learn.org/stable/modules/linear_model.html#logistic-regression\n",
      "  n_iter_i = _check_optimize_result(\n",
      "/opt/conda/lib/python3.9/site-packages/sklearn/linear_model/_logistic.py:763: ConvergenceWarning: lbfgs failed to converge (status=1):\n",
      "STOP: TOTAL NO. of ITERATIONS REACHED LIMIT.\n",
      "\n",
      "Increase the number of iterations (max_iter) or scale the data as shown in:\n",
      "    https://scikit-learn.org/stable/modules/preprocessing.html\n",
      "Please also refer to the documentation for alternative solver options:\n",
      "    https://scikit-learn.org/stable/modules/linear_model.html#logistic-regression\n",
      "  n_iter_i = _check_optimize_result(\n",
      "/opt/conda/lib/python3.9/site-packages/sklearn/linear_model/_logistic.py:763: ConvergenceWarning: lbfgs failed to converge (status=1):\n",
      "STOP: TOTAL NO. of ITERATIONS REACHED LIMIT.\n",
      "\n",
      "Increase the number of iterations (max_iter) or scale the data as shown in:\n",
      "    https://scikit-learn.org/stable/modules/preprocessing.html\n",
      "Please also refer to the documentation for alternative solver options:\n",
      "    https://scikit-learn.org/stable/modules/linear_model.html#logistic-regression\n",
      "  n_iter_i = _check_optimize_result(\n",
      "/opt/conda/lib/python3.9/site-packages/sklearn/linear_model/_logistic.py:763: ConvergenceWarning: lbfgs failed to converge (status=1):\n",
      "STOP: TOTAL NO. of ITERATIONS REACHED LIMIT.\n",
      "\n",
      "Increase the number of iterations (max_iter) or scale the data as shown in:\n",
      "    https://scikit-learn.org/stable/modules/preprocessing.html\n",
      "Please also refer to the documentation for alternative solver options:\n",
      "    https://scikit-learn.org/stable/modules/linear_model.html#logistic-regression\n",
      "  n_iter_i = _check_optimize_result(\n",
      "/opt/conda/lib/python3.9/site-packages/sklearn/linear_model/_logistic.py:763: ConvergenceWarning: lbfgs failed to converge (status=1):\n",
      "STOP: TOTAL NO. of ITERATIONS REACHED LIMIT.\n",
      "\n",
      "Increase the number of iterations (max_iter) or scale the data as shown in:\n",
      "    https://scikit-learn.org/stable/modules/preprocessing.html\n",
      "Please also refer to the documentation for alternative solver options:\n",
      "    https://scikit-learn.org/stable/modules/linear_model.html#logistic-regression\n",
      "  n_iter_i = _check_optimize_result(\n",
      "/opt/conda/lib/python3.9/site-packages/sklearn/linear_model/_logistic.py:763: ConvergenceWarning: lbfgs failed to converge (status=1):\n",
      "STOP: TOTAL NO. of ITERATIONS REACHED LIMIT.\n",
      "\n",
      "Increase the number of iterations (max_iter) or scale the data as shown in:\n",
      "    https://scikit-learn.org/stable/modules/preprocessing.html\n",
      "Please also refer to the documentation for alternative solver options:\n",
      "    https://scikit-learn.org/stable/modules/linear_model.html#logistic-regression\n",
      "  n_iter_i = _check_optimize_result(\n",
      "/opt/conda/lib/python3.9/site-packages/sklearn/linear_model/_logistic.py:763: ConvergenceWarning: lbfgs failed to converge (status=1):\n",
      "STOP: TOTAL NO. of ITERATIONS REACHED LIMIT.\n",
      "\n",
      "Increase the number of iterations (max_iter) or scale the data as shown in:\n",
      "    https://scikit-learn.org/stable/modules/preprocessing.html\n",
      "Please also refer to the documentation for alternative solver options:\n",
      "    https://scikit-learn.org/stable/modules/linear_model.html#logistic-regression\n",
      "  n_iter_i = _check_optimize_result(\n",
      "/opt/conda/lib/python3.9/site-packages/sklearn/linear_model/_logistic.py:763: ConvergenceWarning: lbfgs failed to converge (status=1):\n",
      "STOP: TOTAL NO. of ITERATIONS REACHED LIMIT.\n",
      "\n",
      "Increase the number of iterations (max_iter) or scale the data as shown in:\n",
      "    https://scikit-learn.org/stable/modules/preprocessing.html\n",
      "Please also refer to the documentation for alternative solver options:\n",
      "    https://scikit-learn.org/stable/modules/linear_model.html#logistic-regression\n",
      "  n_iter_i = _check_optimize_result(\n",
      "/opt/conda/lib/python3.9/site-packages/sklearn/linear_model/_logistic.py:763: ConvergenceWarning: lbfgs failed to converge (status=1):\n",
      "STOP: TOTAL NO. of ITERATIONS REACHED LIMIT.\n",
      "\n",
      "Increase the number of iterations (max_iter) or scale the data as shown in:\n",
      "    https://scikit-learn.org/stable/modules/preprocessing.html\n",
      "Please also refer to the documentation for alternative solver options:\n",
      "    https://scikit-learn.org/stable/modules/linear_model.html#logistic-regression\n",
      "  n_iter_i = _check_optimize_result(\n",
      "/opt/conda/lib/python3.9/site-packages/sklearn/linear_model/_logistic.py:763: ConvergenceWarning: lbfgs failed to converge (status=1):\n",
      "STOP: TOTAL NO. of ITERATIONS REACHED LIMIT.\n",
      "\n",
      "Increase the number of iterations (max_iter) or scale the data as shown in:\n",
      "    https://scikit-learn.org/stable/modules/preprocessing.html\n",
      "Please also refer to the documentation for alternative solver options:\n",
      "    https://scikit-learn.org/stable/modules/linear_model.html#logistic-regression\n",
      "  n_iter_i = _check_optimize_result(\n",
      "/opt/conda/lib/python3.9/site-packages/sklearn/linear_model/_logistic.py:763: ConvergenceWarning: lbfgs failed to converge (status=1):\n",
      "STOP: TOTAL NO. of ITERATIONS REACHED LIMIT.\n",
      "\n",
      "Increase the number of iterations (max_iter) or scale the data as shown in:\n",
      "    https://scikit-learn.org/stable/modules/preprocessing.html\n",
      "Please also refer to the documentation for alternative solver options:\n",
      "    https://scikit-learn.org/stable/modules/linear_model.html#logistic-regression\n",
      "  n_iter_i = _check_optimize_result(\n",
      "/opt/conda/lib/python3.9/site-packages/sklearn/linear_model/_logistic.py:763: ConvergenceWarning: lbfgs failed to converge (status=1):\n",
      "STOP: TOTAL NO. of ITERATIONS REACHED LIMIT.\n",
      "\n",
      "Increase the number of iterations (max_iter) or scale the data as shown in:\n",
      "    https://scikit-learn.org/stable/modules/preprocessing.html\n",
      "Please also refer to the documentation for alternative solver options:\n",
      "    https://scikit-learn.org/stable/modules/linear_model.html#logistic-regression\n",
      "  n_iter_i = _check_optimize_result(\n",
      "/opt/conda/lib/python3.9/site-packages/sklearn/linear_model/_logistic.py:763: ConvergenceWarning: lbfgs failed to converge (status=1):\n",
      "STOP: TOTAL NO. of ITERATIONS REACHED LIMIT.\n",
      "\n",
      "Increase the number of iterations (max_iter) or scale the data as shown in:\n",
      "    https://scikit-learn.org/stable/modules/preprocessing.html\n",
      "Please also refer to the documentation for alternative solver options:\n",
      "    https://scikit-learn.org/stable/modules/linear_model.html#logistic-regression\n",
      "  n_iter_i = _check_optimize_result(\n",
      "/opt/conda/lib/python3.9/site-packages/sklearn/linear_model/_logistic.py:763: ConvergenceWarning: lbfgs failed to converge (status=1):\n",
      "STOP: TOTAL NO. of ITERATIONS REACHED LIMIT.\n",
      "\n",
      "Increase the number of iterations (max_iter) or scale the data as shown in:\n",
      "    https://scikit-learn.org/stable/modules/preprocessing.html\n",
      "Please also refer to the documentation for alternative solver options:\n",
      "    https://scikit-learn.org/stable/modules/linear_model.html#logistic-regression\n",
      "  n_iter_i = _check_optimize_result(\n",
      "/opt/conda/lib/python3.9/site-packages/sklearn/linear_model/_logistic.py:763: ConvergenceWarning: lbfgs failed to converge (status=1):\n",
      "STOP: TOTAL NO. of ITERATIONS REACHED LIMIT.\n",
      "\n",
      "Increase the number of iterations (max_iter) or scale the data as shown in:\n",
      "    https://scikit-learn.org/stable/modules/preprocessing.html\n",
      "Please also refer to the documentation for alternative solver options:\n",
      "    https://scikit-learn.org/stable/modules/linear_model.html#logistic-regression\n",
      "  n_iter_i = _check_optimize_result(\n",
      "/opt/conda/lib/python3.9/site-packages/sklearn/linear_model/_logistic.py:763: ConvergenceWarning: lbfgs failed to converge (status=1):\n",
      "STOP: TOTAL NO. of ITERATIONS REACHED LIMIT.\n",
      "\n",
      "Increase the number of iterations (max_iter) or scale the data as shown in:\n",
      "    https://scikit-learn.org/stable/modules/preprocessing.html\n",
      "Please also refer to the documentation for alternative solver options:\n",
      "    https://scikit-learn.org/stable/modules/linear_model.html#logistic-regression\n",
      "  n_iter_i = _check_optimize_result(\n",
      "/opt/conda/lib/python3.9/site-packages/sklearn/linear_model/_logistic.py:763: ConvergenceWarning: lbfgs failed to converge (status=1):\n",
      "STOP: TOTAL NO. of ITERATIONS REACHED LIMIT.\n",
      "\n",
      "Increase the number of iterations (max_iter) or scale the data as shown in:\n",
      "    https://scikit-learn.org/stable/modules/preprocessing.html\n",
      "Please also refer to the documentation for alternative solver options:\n",
      "    https://scikit-learn.org/stable/modules/linear_model.html#logistic-regression\n",
      "  n_iter_i = _check_optimize_result(\n",
      "/opt/conda/lib/python3.9/site-packages/sklearn/linear_model/_logistic.py:763: ConvergenceWarning: lbfgs failed to converge (status=1):\n",
      "STOP: TOTAL NO. of ITERATIONS REACHED LIMIT.\n",
      "\n",
      "Increase the number of iterations (max_iter) or scale the data as shown in:\n",
      "    https://scikit-learn.org/stable/modules/preprocessing.html\n",
      "Please also refer to the documentation for alternative solver options:\n",
      "    https://scikit-learn.org/stable/modules/linear_model.html#logistic-regression\n",
      "  n_iter_i = _check_optimize_result(\n",
      "/opt/conda/lib/python3.9/site-packages/sklearn/linear_model/_logistic.py:763: ConvergenceWarning: lbfgs failed to converge (status=1):\n",
      "STOP: TOTAL NO. of ITERATIONS REACHED LIMIT.\n",
      "\n",
      "Increase the number of iterations (max_iter) or scale the data as shown in:\n",
      "    https://scikit-learn.org/stable/modules/preprocessing.html\n",
      "Please also refer to the documentation for alternative solver options:\n",
      "    https://scikit-learn.org/stable/modules/linear_model.html#logistic-regression\n",
      "  n_iter_i = _check_optimize_result(\n",
      "/opt/conda/lib/python3.9/site-packages/sklearn/linear_model/_logistic.py:763: ConvergenceWarning: lbfgs failed to converge (status=1):\n",
      "STOP: TOTAL NO. of ITERATIONS REACHED LIMIT.\n",
      "\n",
      "Increase the number of iterations (max_iter) or scale the data as shown in:\n",
      "    https://scikit-learn.org/stable/modules/preprocessing.html\n",
      "Please also refer to the documentation for alternative solver options:\n",
      "    https://scikit-learn.org/stable/modules/linear_model.html#logistic-regression\n",
      "  n_iter_i = _check_optimize_result(\n",
      "/opt/conda/lib/python3.9/site-packages/sklearn/linear_model/_logistic.py:763: ConvergenceWarning: lbfgs failed to converge (status=1):\n",
      "STOP: TOTAL NO. of ITERATIONS REACHED LIMIT.\n",
      "\n",
      "Increase the number of iterations (max_iter) or scale the data as shown in:\n",
      "    https://scikit-learn.org/stable/modules/preprocessing.html\n",
      "Please also refer to the documentation for alternative solver options:\n",
      "    https://scikit-learn.org/stable/modules/linear_model.html#logistic-regression\n",
      "  n_iter_i = _check_optimize_result(\n",
      "/opt/conda/lib/python3.9/site-packages/sklearn/linear_model/_logistic.py:763: ConvergenceWarning: lbfgs failed to converge (status=1):\n",
      "STOP: TOTAL NO. of ITERATIONS REACHED LIMIT.\n",
      "\n",
      "Increase the number of iterations (max_iter) or scale the data as shown in:\n",
      "    https://scikit-learn.org/stable/modules/preprocessing.html\n",
      "Please also refer to the documentation for alternative solver options:\n",
      "    https://scikit-learn.org/stable/modules/linear_model.html#logistic-regression\n",
      "  n_iter_i = _check_optimize_result(\n",
      "/opt/conda/lib/python3.9/site-packages/sklearn/linear_model/_logistic.py:763: ConvergenceWarning: lbfgs failed to converge (status=1):\n",
      "STOP: TOTAL NO. of ITERATIONS REACHED LIMIT.\n",
      "\n",
      "Increase the number of iterations (max_iter) or scale the data as shown in:\n",
      "    https://scikit-learn.org/stable/modules/preprocessing.html\n",
      "Please also refer to the documentation for alternative solver options:\n",
      "    https://scikit-learn.org/stable/modules/linear_model.html#logistic-regression\n",
      "  n_iter_i = _check_optimize_result(\n",
      "/opt/conda/lib/python3.9/site-packages/sklearn/linear_model/_logistic.py:763: ConvergenceWarning: lbfgs failed to converge (status=1):\n",
      "STOP: TOTAL NO. of ITERATIONS REACHED LIMIT.\n",
      "\n",
      "Increase the number of iterations (max_iter) or scale the data as shown in:\n",
      "    https://scikit-learn.org/stable/modules/preprocessing.html\n",
      "Please also refer to the documentation for alternative solver options:\n",
      "    https://scikit-learn.org/stable/modules/linear_model.html#logistic-regression\n",
      "  n_iter_i = _check_optimize_result(\n",
      "/opt/conda/lib/python3.9/site-packages/sklearn/linear_model/_logistic.py:763: ConvergenceWarning: lbfgs failed to converge (status=1):\n",
      "STOP: TOTAL NO. of ITERATIONS REACHED LIMIT.\n",
      "\n",
      "Increase the number of iterations (max_iter) or scale the data as shown in:\n",
      "    https://scikit-learn.org/stable/modules/preprocessing.html\n",
      "Please also refer to the documentation for alternative solver options:\n",
      "    https://scikit-learn.org/stable/modules/linear_model.html#logistic-regression\n",
      "  n_iter_i = _check_optimize_result(\n",
      "/opt/conda/lib/python3.9/site-packages/sklearn/linear_model/_logistic.py:763: ConvergenceWarning: lbfgs failed to converge (status=1):\n",
      "STOP: TOTAL NO. of ITERATIONS REACHED LIMIT.\n",
      "\n",
      "Increase the number of iterations (max_iter) or scale the data as shown in:\n",
      "    https://scikit-learn.org/stable/modules/preprocessing.html\n",
      "Please also refer to the documentation for alternative solver options:\n",
      "    https://scikit-learn.org/stable/modules/linear_model.html#logistic-regression\n",
      "  n_iter_i = _check_optimize_result(\n",
      "/opt/conda/lib/python3.9/site-packages/sklearn/linear_model/_logistic.py:763: ConvergenceWarning: lbfgs failed to converge (status=1):\n",
      "STOP: TOTAL NO. of ITERATIONS REACHED LIMIT.\n",
      "\n",
      "Increase the number of iterations (max_iter) or scale the data as shown in:\n",
      "    https://scikit-learn.org/stable/modules/preprocessing.html\n",
      "Please also refer to the documentation for alternative solver options:\n",
      "    https://scikit-learn.org/stable/modules/linear_model.html#logistic-regression\n",
      "  n_iter_i = _check_optimize_result(\n",
      "/opt/conda/lib/python3.9/site-packages/sklearn/linear_model/_logistic.py:763: ConvergenceWarning: lbfgs failed to converge (status=1):\n",
      "STOP: TOTAL NO. of ITERATIONS REACHED LIMIT.\n",
      "\n",
      "Increase the number of iterations (max_iter) or scale the data as shown in:\n",
      "    https://scikit-learn.org/stable/modules/preprocessing.html\n",
      "Please also refer to the documentation for alternative solver options:\n",
      "    https://scikit-learn.org/stable/modules/linear_model.html#logistic-regression\n",
      "  n_iter_i = _check_optimize_result(\n",
      "/opt/conda/lib/python3.9/site-packages/sklearn/linear_model/_logistic.py:763: ConvergenceWarning: lbfgs failed to converge (status=1):\n",
      "STOP: TOTAL NO. of ITERATIONS REACHED LIMIT.\n",
      "\n",
      "Increase the number of iterations (max_iter) or scale the data as shown in:\n",
      "    https://scikit-learn.org/stable/modules/preprocessing.html\n",
      "Please also refer to the documentation for alternative solver options:\n",
      "    https://scikit-learn.org/stable/modules/linear_model.html#logistic-regression\n",
      "  n_iter_i = _check_optimize_result(\n",
      "/opt/conda/lib/python3.9/site-packages/sklearn/linear_model/_logistic.py:763: ConvergenceWarning: lbfgs failed to converge (status=1):\n",
      "STOP: TOTAL NO. of ITERATIONS REACHED LIMIT.\n",
      "\n",
      "Increase the number of iterations (max_iter) or scale the data as shown in:\n",
      "    https://scikit-learn.org/stable/modules/preprocessing.html\n",
      "Please also refer to the documentation for alternative solver options:\n",
      "    https://scikit-learn.org/stable/modules/linear_model.html#logistic-regression\n",
      "  n_iter_i = _check_optimize_result(\n",
      "/opt/conda/lib/python3.9/site-packages/sklearn/linear_model/_logistic.py:763: ConvergenceWarning: lbfgs failed to converge (status=1):\n",
      "STOP: TOTAL NO. of ITERATIONS REACHED LIMIT.\n",
      "\n",
      "Increase the number of iterations (max_iter) or scale the data as shown in:\n",
      "    https://scikit-learn.org/stable/modules/preprocessing.html\n",
      "Please also refer to the documentation for alternative solver options:\n",
      "    https://scikit-learn.org/stable/modules/linear_model.html#logistic-regression\n",
      "  n_iter_i = _check_optimize_result(\n",
      "/opt/conda/lib/python3.9/site-packages/sklearn/linear_model/_logistic.py:763: ConvergenceWarning: lbfgs failed to converge (status=1):\n",
      "STOP: TOTAL NO. of ITERATIONS REACHED LIMIT.\n",
      "\n",
      "Increase the number of iterations (max_iter) or scale the data as shown in:\n",
      "    https://scikit-learn.org/stable/modules/preprocessing.html\n",
      "Please also refer to the documentation for alternative solver options:\n",
      "    https://scikit-learn.org/stable/modules/linear_model.html#logistic-regression\n",
      "  n_iter_i = _check_optimize_result(\n",
      "/opt/conda/lib/python3.9/site-packages/sklearn/linear_model/_logistic.py:763: ConvergenceWarning: lbfgs failed to converge (status=1):\n",
      "STOP: TOTAL NO. of ITERATIONS REACHED LIMIT.\n",
      "\n",
      "Increase the number of iterations (max_iter) or scale the data as shown in:\n",
      "    https://scikit-learn.org/stable/modules/preprocessing.html\n",
      "Please also refer to the documentation for alternative solver options:\n",
      "    https://scikit-learn.org/stable/modules/linear_model.html#logistic-regression\n",
      "  n_iter_i = _check_optimize_result(\n",
      "/opt/conda/lib/python3.9/site-packages/sklearn/linear_model/_logistic.py:763: ConvergenceWarning: lbfgs failed to converge (status=1):\n",
      "STOP: TOTAL NO. of ITERATIONS REACHED LIMIT.\n",
      "\n",
      "Increase the number of iterations (max_iter) or scale the data as shown in:\n",
      "    https://scikit-learn.org/stable/modules/preprocessing.html\n",
      "Please also refer to the documentation for alternative solver options:\n",
      "    https://scikit-learn.org/stable/modules/linear_model.html#logistic-regression\n",
      "  n_iter_i = _check_optimize_result(\n",
      "/opt/conda/lib/python3.9/site-packages/sklearn/linear_model/_logistic.py:763: ConvergenceWarning: lbfgs failed to converge (status=1):\n",
      "STOP: TOTAL NO. of ITERATIONS REACHED LIMIT.\n",
      "\n",
      "Increase the number of iterations (max_iter) or scale the data as shown in:\n",
      "    https://scikit-learn.org/stable/modules/preprocessing.html\n",
      "Please also refer to the documentation for alternative solver options:\n",
      "    https://scikit-learn.org/stable/modules/linear_model.html#logistic-regression\n",
      "  n_iter_i = _check_optimize_result(\n",
      "/opt/conda/lib/python3.9/site-packages/sklearn/linear_model/_logistic.py:763: ConvergenceWarning: lbfgs failed to converge (status=1):\n",
      "STOP: TOTAL NO. of ITERATIONS REACHED LIMIT.\n",
      "\n",
      "Increase the number of iterations (max_iter) or scale the data as shown in:\n",
      "    https://scikit-learn.org/stable/modules/preprocessing.html\n",
      "Please also refer to the documentation for alternative solver options:\n",
      "    https://scikit-learn.org/stable/modules/linear_model.html#logistic-regression\n",
      "  n_iter_i = _check_optimize_result(\n",
      "/opt/conda/lib/python3.9/site-packages/sklearn/linear_model/_logistic.py:763: ConvergenceWarning: lbfgs failed to converge (status=1):\n",
      "STOP: TOTAL NO. of ITERATIONS REACHED LIMIT.\n",
      "\n",
      "Increase the number of iterations (max_iter) or scale the data as shown in:\n",
      "    https://scikit-learn.org/stable/modules/preprocessing.html\n",
      "Please also refer to the documentation for alternative solver options:\n",
      "    https://scikit-learn.org/stable/modules/linear_model.html#logistic-regression\n",
      "  n_iter_i = _check_optimize_result(\n",
      "/opt/conda/lib/python3.9/site-packages/sklearn/linear_model/_logistic.py:763: ConvergenceWarning: lbfgs failed to converge (status=1):\n",
      "STOP: TOTAL NO. of ITERATIONS REACHED LIMIT.\n",
      "\n",
      "Increase the number of iterations (max_iter) or scale the data as shown in:\n",
      "    https://scikit-learn.org/stable/modules/preprocessing.html\n",
      "Please also refer to the documentation for alternative solver options:\n",
      "    https://scikit-learn.org/stable/modules/linear_model.html#logistic-regression\n",
      "  n_iter_i = _check_optimize_result(\n",
      "/opt/conda/lib/python3.9/site-packages/sklearn/linear_model/_logistic.py:763: ConvergenceWarning: lbfgs failed to converge (status=1):\n",
      "STOP: TOTAL NO. of ITERATIONS REACHED LIMIT.\n",
      "\n",
      "Increase the number of iterations (max_iter) or scale the data as shown in:\n",
      "    https://scikit-learn.org/stable/modules/preprocessing.html\n",
      "Please also refer to the documentation for alternative solver options:\n",
      "    https://scikit-learn.org/stable/modules/linear_model.html#logistic-regression\n",
      "  n_iter_i = _check_optimize_result(\n",
      "/opt/conda/lib/python3.9/site-packages/sklearn/linear_model/_logistic.py:763: ConvergenceWarning: lbfgs failed to converge (status=1):\n",
      "STOP: TOTAL NO. of ITERATIONS REACHED LIMIT.\n",
      "\n",
      "Increase the number of iterations (max_iter) or scale the data as shown in:\n",
      "    https://scikit-learn.org/stable/modules/preprocessing.html\n",
      "Please also refer to the documentation for alternative solver options:\n",
      "    https://scikit-learn.org/stable/modules/linear_model.html#logistic-regression\n",
      "  n_iter_i = _check_optimize_result(\n",
      "/opt/conda/lib/python3.9/site-packages/sklearn/linear_model/_logistic.py:763: ConvergenceWarning: lbfgs failed to converge (status=1):\n",
      "STOP: TOTAL NO. of ITERATIONS REACHED LIMIT.\n",
      "\n",
      "Increase the number of iterations (max_iter) or scale the data as shown in:\n",
      "    https://scikit-learn.org/stable/modules/preprocessing.html\n",
      "Please also refer to the documentation for alternative solver options:\n",
      "    https://scikit-learn.org/stable/modules/linear_model.html#logistic-regression\n",
      "  n_iter_i = _check_optimize_result(\n",
      "/opt/conda/lib/python3.9/site-packages/sklearn/linear_model/_logistic.py:763: ConvergenceWarning: lbfgs failed to converge (status=1):\n",
      "STOP: TOTAL NO. of ITERATIONS REACHED LIMIT.\n",
      "\n",
      "Increase the number of iterations (max_iter) or scale the data as shown in:\n",
      "    https://scikit-learn.org/stable/modules/preprocessing.html\n",
      "Please also refer to the documentation for alternative solver options:\n",
      "    https://scikit-learn.org/stable/modules/linear_model.html#logistic-regression\n",
      "  n_iter_i = _check_optimize_result(\n",
      "/opt/conda/lib/python3.9/site-packages/sklearn/linear_model/_logistic.py:763: ConvergenceWarning: lbfgs failed to converge (status=1):\n",
      "STOP: TOTAL NO. of ITERATIONS REACHED LIMIT.\n",
      "\n",
      "Increase the number of iterations (max_iter) or scale the data as shown in:\n",
      "    https://scikit-learn.org/stable/modules/preprocessing.html\n",
      "Please also refer to the documentation for alternative solver options:\n",
      "    https://scikit-learn.org/stable/modules/linear_model.html#logistic-regression\n",
      "  n_iter_i = _check_optimize_result(\n",
      "/opt/conda/lib/python3.9/site-packages/sklearn/linear_model/_logistic.py:763: ConvergenceWarning: lbfgs failed to converge (status=1):\n",
      "STOP: TOTAL NO. of ITERATIONS REACHED LIMIT.\n",
      "\n",
      "Increase the number of iterations (max_iter) or scale the data as shown in:\n",
      "    https://scikit-learn.org/stable/modules/preprocessing.html\n",
      "Please also refer to the documentation for alternative solver options:\n",
      "    https://scikit-learn.org/stable/modules/linear_model.html#logistic-regression\n",
      "  n_iter_i = _check_optimize_result(\n",
      "/opt/conda/lib/python3.9/site-packages/sklearn/linear_model/_logistic.py:763: ConvergenceWarning: lbfgs failed to converge (status=1):\n",
      "STOP: TOTAL NO. of ITERATIONS REACHED LIMIT.\n",
      "\n",
      "Increase the number of iterations (max_iter) or scale the data as shown in:\n",
      "    https://scikit-learn.org/stable/modules/preprocessing.html\n",
      "Please also refer to the documentation for alternative solver options:\n",
      "    https://scikit-learn.org/stable/modules/linear_model.html#logistic-regression\n",
      "  n_iter_i = _check_optimize_result(\n",
      "/opt/conda/lib/python3.9/site-packages/sklearn/linear_model/_logistic.py:763: ConvergenceWarning: lbfgs failed to converge (status=1):\n",
      "STOP: TOTAL NO. of ITERATIONS REACHED LIMIT.\n",
      "\n",
      "Increase the number of iterations (max_iter) or scale the data as shown in:\n",
      "    https://scikit-learn.org/stable/modules/preprocessing.html\n",
      "Please also refer to the documentation for alternative solver options:\n",
      "    https://scikit-learn.org/stable/modules/linear_model.html#logistic-regression\n",
      "  n_iter_i = _check_optimize_result(\n",
      "/opt/conda/lib/python3.9/site-packages/sklearn/linear_model/_logistic.py:763: ConvergenceWarning: lbfgs failed to converge (status=1):\n",
      "STOP: TOTAL NO. of ITERATIONS REACHED LIMIT.\n",
      "\n",
      "Increase the number of iterations (max_iter) or scale the data as shown in:\n",
      "    https://scikit-learn.org/stable/modules/preprocessing.html\n",
      "Please also refer to the documentation for alternative solver options:\n",
      "    https://scikit-learn.org/stable/modules/linear_model.html#logistic-regression\n",
      "  n_iter_i = _check_optimize_result(\n",
      "/opt/conda/lib/python3.9/site-packages/sklearn/linear_model/_logistic.py:763: ConvergenceWarning: lbfgs failed to converge (status=1):\n",
      "STOP: TOTAL NO. of ITERATIONS REACHED LIMIT.\n",
      "\n",
      "Increase the number of iterations (max_iter) or scale the data as shown in:\n",
      "    https://scikit-learn.org/stable/modules/preprocessing.html\n",
      "Please also refer to the documentation for alternative solver options:\n",
      "    https://scikit-learn.org/stable/modules/linear_model.html#logistic-regression\n",
      "  n_iter_i = _check_optimize_result(\n",
      "/opt/conda/lib/python3.9/site-packages/sklearn/linear_model/_logistic.py:763: ConvergenceWarning: lbfgs failed to converge (status=1):\n",
      "STOP: TOTAL NO. of ITERATIONS REACHED LIMIT.\n",
      "\n",
      "Increase the number of iterations (max_iter) or scale the data as shown in:\n",
      "    https://scikit-learn.org/stable/modules/preprocessing.html\n",
      "Please also refer to the documentation for alternative solver options:\n",
      "    https://scikit-learn.org/stable/modules/linear_model.html#logistic-regression\n",
      "  n_iter_i = _check_optimize_result(\n",
      "/opt/conda/lib/python3.9/site-packages/sklearn/linear_model/_logistic.py:763: ConvergenceWarning: lbfgs failed to converge (status=1):\n",
      "STOP: TOTAL NO. of ITERATIONS REACHED LIMIT.\n",
      "\n",
      "Increase the number of iterations (max_iter) or scale the data as shown in:\n",
      "    https://scikit-learn.org/stable/modules/preprocessing.html\n",
      "Please also refer to the documentation for alternative solver options:\n",
      "    https://scikit-learn.org/stable/modules/linear_model.html#logistic-regression\n",
      "  n_iter_i = _check_optimize_result(\n",
      "/opt/conda/lib/python3.9/site-packages/sklearn/linear_model/_logistic.py:763: ConvergenceWarning: lbfgs failed to converge (status=1):\n",
      "STOP: TOTAL NO. of ITERATIONS REACHED LIMIT.\n",
      "\n",
      "Increase the number of iterations (max_iter) or scale the data as shown in:\n",
      "    https://scikit-learn.org/stable/modules/preprocessing.html\n",
      "Please also refer to the documentation for alternative solver options:\n",
      "    https://scikit-learn.org/stable/modules/linear_model.html#logistic-regression\n",
      "  n_iter_i = _check_optimize_result(\n",
      "/opt/conda/lib/python3.9/site-packages/sklearn/linear_model/_logistic.py:763: ConvergenceWarning: lbfgs failed to converge (status=1):\n",
      "STOP: TOTAL NO. of ITERATIONS REACHED LIMIT.\n",
      "\n",
      "Increase the number of iterations (max_iter) or scale the data as shown in:\n",
      "    https://scikit-learn.org/stable/modules/preprocessing.html\n",
      "Please also refer to the documentation for alternative solver options:\n",
      "    https://scikit-learn.org/stable/modules/linear_model.html#logistic-regression\n",
      "  n_iter_i = _check_optimize_result(\n",
      "/opt/conda/lib/python3.9/site-packages/sklearn/linear_model/_logistic.py:763: ConvergenceWarning: lbfgs failed to converge (status=1):\n",
      "STOP: TOTAL NO. of ITERATIONS REACHED LIMIT.\n",
      "\n",
      "Increase the number of iterations (max_iter) or scale the data as shown in:\n",
      "    https://scikit-learn.org/stable/modules/preprocessing.html\n",
      "Please also refer to the documentation for alternative solver options:\n",
      "    https://scikit-learn.org/stable/modules/linear_model.html#logistic-regression\n",
      "  n_iter_i = _check_optimize_result(\n",
      "/opt/conda/lib/python3.9/site-packages/sklearn/linear_model/_logistic.py:763: ConvergenceWarning: lbfgs failed to converge (status=1):\n",
      "STOP: TOTAL NO. of ITERATIONS REACHED LIMIT.\n",
      "\n",
      "Increase the number of iterations (max_iter) or scale the data as shown in:\n",
      "    https://scikit-learn.org/stable/modules/preprocessing.html\n",
      "Please also refer to the documentation for alternative solver options:\n",
      "    https://scikit-learn.org/stable/modules/linear_model.html#logistic-regression\n",
      "  n_iter_i = _check_optimize_result(\n",
      "/opt/conda/lib/python3.9/site-packages/sklearn/linear_model/_logistic.py:763: ConvergenceWarning: lbfgs failed to converge (status=1):\n",
      "STOP: TOTAL NO. of ITERATIONS REACHED LIMIT.\n",
      "\n",
      "Increase the number of iterations (max_iter) or scale the data as shown in:\n",
      "    https://scikit-learn.org/stable/modules/preprocessing.html\n",
      "Please also refer to the documentation for alternative solver options:\n",
      "    https://scikit-learn.org/stable/modules/linear_model.html#logistic-regression\n",
      "  n_iter_i = _check_optimize_result(\n",
      "/opt/conda/lib/python3.9/site-packages/sklearn/linear_model/_logistic.py:763: ConvergenceWarning: lbfgs failed to converge (status=1):\n",
      "STOP: TOTAL NO. of ITERATIONS REACHED LIMIT.\n",
      "\n",
      "Increase the number of iterations (max_iter) or scale the data as shown in:\n",
      "    https://scikit-learn.org/stable/modules/preprocessing.html\n",
      "Please also refer to the documentation for alternative solver options:\n",
      "    https://scikit-learn.org/stable/modules/linear_model.html#logistic-regression\n",
      "  n_iter_i = _check_optimize_result(\n",
      "/opt/conda/lib/python3.9/site-packages/sklearn/linear_model/_logistic.py:763: ConvergenceWarning: lbfgs failed to converge (status=1):\n",
      "STOP: TOTAL NO. of ITERATIONS REACHED LIMIT.\n",
      "\n",
      "Increase the number of iterations (max_iter) or scale the data as shown in:\n",
      "    https://scikit-learn.org/stable/modules/preprocessing.html\n",
      "Please also refer to the documentation for alternative solver options:\n",
      "    https://scikit-learn.org/stable/modules/linear_model.html#logistic-regression\n",
      "  n_iter_i = _check_optimize_result(\n",
      "/opt/conda/lib/python3.9/site-packages/sklearn/linear_model/_logistic.py:763: ConvergenceWarning: lbfgs failed to converge (status=1):\n",
      "STOP: TOTAL NO. of ITERATIONS REACHED LIMIT.\n",
      "\n",
      "Increase the number of iterations (max_iter) or scale the data as shown in:\n",
      "    https://scikit-learn.org/stable/modules/preprocessing.html\n",
      "Please also refer to the documentation for alternative solver options:\n",
      "    https://scikit-learn.org/stable/modules/linear_model.html#logistic-regression\n",
      "  n_iter_i = _check_optimize_result(\n",
      "/opt/conda/lib/python3.9/site-packages/sklearn/linear_model/_logistic.py:763: ConvergenceWarning: lbfgs failed to converge (status=1):\n",
      "STOP: TOTAL NO. of ITERATIONS REACHED LIMIT.\n",
      "\n",
      "Increase the number of iterations (max_iter) or scale the data as shown in:\n",
      "    https://scikit-learn.org/stable/modules/preprocessing.html\n",
      "Please also refer to the documentation for alternative solver options:\n",
      "    https://scikit-learn.org/stable/modules/linear_model.html#logistic-regression\n",
      "  n_iter_i = _check_optimize_result(\n",
      "/opt/conda/lib/python3.9/site-packages/sklearn/linear_model/_logistic.py:763: ConvergenceWarning: lbfgs failed to converge (status=1):\n",
      "STOP: TOTAL NO. of ITERATIONS REACHED LIMIT.\n",
      "\n",
      "Increase the number of iterations (max_iter) or scale the data as shown in:\n",
      "    https://scikit-learn.org/stable/modules/preprocessing.html\n",
      "Please also refer to the documentation for alternative solver options:\n",
      "    https://scikit-learn.org/stable/modules/linear_model.html#logistic-regression\n",
      "  n_iter_i = _check_optimize_result(\n",
      "/opt/conda/lib/python3.9/site-packages/sklearn/linear_model/_logistic.py:763: ConvergenceWarning: lbfgs failed to converge (status=1):\n",
      "STOP: TOTAL NO. of ITERATIONS REACHED LIMIT.\n",
      "\n",
      "Increase the number of iterations (max_iter) or scale the data as shown in:\n",
      "    https://scikit-learn.org/stable/modules/preprocessing.html\n",
      "Please also refer to the documentation for alternative solver options:\n",
      "    https://scikit-learn.org/stable/modules/linear_model.html#logistic-regression\n",
      "  n_iter_i = _check_optimize_result(\n",
      "/opt/conda/lib/python3.9/site-packages/sklearn/linear_model/_logistic.py:763: ConvergenceWarning: lbfgs failed to converge (status=1):\n",
      "STOP: TOTAL NO. of ITERATIONS REACHED LIMIT.\n",
      "\n",
      "Increase the number of iterations (max_iter) or scale the data as shown in:\n",
      "    https://scikit-learn.org/stable/modules/preprocessing.html\n",
      "Please also refer to the documentation for alternative solver options:\n",
      "    https://scikit-learn.org/stable/modules/linear_model.html#logistic-regression\n",
      "  n_iter_i = _check_optimize_result(\n",
      "/opt/conda/lib/python3.9/site-packages/sklearn/linear_model/_logistic.py:763: ConvergenceWarning: lbfgs failed to converge (status=1):\n",
      "STOP: TOTAL NO. of ITERATIONS REACHED LIMIT.\n",
      "\n",
      "Increase the number of iterations (max_iter) or scale the data as shown in:\n",
      "    https://scikit-learn.org/stable/modules/preprocessing.html\n",
      "Please also refer to the documentation for alternative solver options:\n",
      "    https://scikit-learn.org/stable/modules/linear_model.html#logistic-regression\n",
      "  n_iter_i = _check_optimize_result(\n",
      "/opt/conda/lib/python3.9/site-packages/sklearn/linear_model/_logistic.py:763: ConvergenceWarning: lbfgs failed to converge (status=1):\n",
      "STOP: TOTAL NO. of ITERATIONS REACHED LIMIT.\n",
      "\n",
      "Increase the number of iterations (max_iter) or scale the data as shown in:\n",
      "    https://scikit-learn.org/stable/modules/preprocessing.html\n",
      "Please also refer to the documentation for alternative solver options:\n",
      "    https://scikit-learn.org/stable/modules/linear_model.html#logistic-regression\n",
      "  n_iter_i = _check_optimize_result(\n",
      "/opt/conda/lib/python3.9/site-packages/sklearn/linear_model/_logistic.py:763: ConvergenceWarning: lbfgs failed to converge (status=1):\n",
      "STOP: TOTAL NO. of ITERATIONS REACHED LIMIT.\n",
      "\n",
      "Increase the number of iterations (max_iter) or scale the data as shown in:\n",
      "    https://scikit-learn.org/stable/modules/preprocessing.html\n",
      "Please also refer to the documentation for alternative solver options:\n",
      "    https://scikit-learn.org/stable/modules/linear_model.html#logistic-regression\n",
      "  n_iter_i = _check_optimize_result(\n",
      "/opt/conda/lib/python3.9/site-packages/sklearn/linear_model/_logistic.py:763: ConvergenceWarning: lbfgs failed to converge (status=1):\n",
      "STOP: TOTAL NO. of ITERATIONS REACHED LIMIT.\n",
      "\n",
      "Increase the number of iterations (max_iter) or scale the data as shown in:\n",
      "    https://scikit-learn.org/stable/modules/preprocessing.html\n",
      "Please also refer to the documentation for alternative solver options:\n",
      "    https://scikit-learn.org/stable/modules/linear_model.html#logistic-regression\n",
      "  n_iter_i = _check_optimize_result(\n",
      "/opt/conda/lib/python3.9/site-packages/sklearn/linear_model/_logistic.py:763: ConvergenceWarning: lbfgs failed to converge (status=1):\n",
      "STOP: TOTAL NO. of ITERATIONS REACHED LIMIT.\n",
      "\n",
      "Increase the number of iterations (max_iter) or scale the data as shown in:\n",
      "    https://scikit-learn.org/stable/modules/preprocessing.html\n",
      "Please also refer to the documentation for alternative solver options:\n",
      "    https://scikit-learn.org/stable/modules/linear_model.html#logistic-regression\n",
      "  n_iter_i = _check_optimize_result(\n",
      "/opt/conda/lib/python3.9/site-packages/sklearn/linear_model/_logistic.py:763: ConvergenceWarning: lbfgs failed to converge (status=1):\n",
      "STOP: TOTAL NO. of ITERATIONS REACHED LIMIT.\n",
      "\n",
      "Increase the number of iterations (max_iter) or scale the data as shown in:\n",
      "    https://scikit-learn.org/stable/modules/preprocessing.html\n",
      "Please also refer to the documentation for alternative solver options:\n",
      "    https://scikit-learn.org/stable/modules/linear_model.html#logistic-regression\n",
      "  n_iter_i = _check_optimize_result(\n",
      "/opt/conda/lib/python3.9/site-packages/sklearn/linear_model/_logistic.py:763: ConvergenceWarning: lbfgs failed to converge (status=1):\n",
      "STOP: TOTAL NO. of ITERATIONS REACHED LIMIT.\n",
      "\n",
      "Increase the number of iterations (max_iter) or scale the data as shown in:\n",
      "    https://scikit-learn.org/stable/modules/preprocessing.html\n",
      "Please also refer to the documentation for alternative solver options:\n",
      "    https://scikit-learn.org/stable/modules/linear_model.html#logistic-regression\n",
      "  n_iter_i = _check_optimize_result(\n",
      "/opt/conda/lib/python3.9/site-packages/sklearn/linear_model/_logistic.py:763: ConvergenceWarning: lbfgs failed to converge (status=1):\n",
      "STOP: TOTAL NO. of ITERATIONS REACHED LIMIT.\n",
      "\n",
      "Increase the number of iterations (max_iter) or scale the data as shown in:\n",
      "    https://scikit-learn.org/stable/modules/preprocessing.html\n",
      "Please also refer to the documentation for alternative solver options:\n",
      "    https://scikit-learn.org/stable/modules/linear_model.html#logistic-regression\n",
      "  n_iter_i = _check_optimize_result(\n",
      "/opt/conda/lib/python3.9/site-packages/sklearn/linear_model/_logistic.py:763: ConvergenceWarning: lbfgs failed to converge (status=1):\n",
      "STOP: TOTAL NO. of ITERATIONS REACHED LIMIT.\n",
      "\n",
      "Increase the number of iterations (max_iter) or scale the data as shown in:\n",
      "    https://scikit-learn.org/stable/modules/preprocessing.html\n",
      "Please also refer to the documentation for alternative solver options:\n",
      "    https://scikit-learn.org/stable/modules/linear_model.html#logistic-regression\n",
      "  n_iter_i = _check_optimize_result(\n",
      "/opt/conda/lib/python3.9/site-packages/sklearn/linear_model/_logistic.py:763: ConvergenceWarning: lbfgs failed to converge (status=1):\n",
      "STOP: TOTAL NO. of ITERATIONS REACHED LIMIT.\n",
      "\n",
      "Increase the number of iterations (max_iter) or scale the data as shown in:\n",
      "    https://scikit-learn.org/stable/modules/preprocessing.html\n",
      "Please also refer to the documentation for alternative solver options:\n",
      "    https://scikit-learn.org/stable/modules/linear_model.html#logistic-regression\n",
      "  n_iter_i = _check_optimize_result(\n",
      "/opt/conda/lib/python3.9/site-packages/sklearn/linear_model/_logistic.py:763: ConvergenceWarning: lbfgs failed to converge (status=1):\n",
      "STOP: TOTAL NO. of ITERATIONS REACHED LIMIT.\n",
      "\n",
      "Increase the number of iterations (max_iter) or scale the data as shown in:\n",
      "    https://scikit-learn.org/stable/modules/preprocessing.html\n",
      "Please also refer to the documentation for alternative solver options:\n",
      "    https://scikit-learn.org/stable/modules/linear_model.html#logistic-regression\n",
      "  n_iter_i = _check_optimize_result(\n",
      "/opt/conda/lib/python3.9/site-packages/sklearn/linear_model/_logistic.py:763: ConvergenceWarning: lbfgs failed to converge (status=1):\n",
      "STOP: TOTAL NO. of ITERATIONS REACHED LIMIT.\n",
      "\n",
      "Increase the number of iterations (max_iter) or scale the data as shown in:\n",
      "    https://scikit-learn.org/stable/modules/preprocessing.html\n",
      "Please also refer to the documentation for alternative solver options:\n",
      "    https://scikit-learn.org/stable/modules/linear_model.html#logistic-regression\n",
      "  n_iter_i = _check_optimize_result(\n",
      "/opt/conda/lib/python3.9/site-packages/sklearn/linear_model/_logistic.py:763: ConvergenceWarning: lbfgs failed to converge (status=1):\n",
      "STOP: TOTAL NO. of ITERATIONS REACHED LIMIT.\n",
      "\n",
      "Increase the number of iterations (max_iter) or scale the data as shown in:\n",
      "    https://scikit-learn.org/stable/modules/preprocessing.html\n",
      "Please also refer to the documentation for alternative solver options:\n",
      "    https://scikit-learn.org/stable/modules/linear_model.html#logistic-regression\n",
      "  n_iter_i = _check_optimize_result(\n",
      "/opt/conda/lib/python3.9/site-packages/sklearn/linear_model/_logistic.py:763: ConvergenceWarning: lbfgs failed to converge (status=1):\n",
      "STOP: TOTAL NO. of ITERATIONS REACHED LIMIT.\n",
      "\n",
      "Increase the number of iterations (max_iter) or scale the data as shown in:\n",
      "    https://scikit-learn.org/stable/modules/preprocessing.html\n",
      "Please also refer to the documentation for alternative solver options:\n",
      "    https://scikit-learn.org/stable/modules/linear_model.html#logistic-regression\n",
      "  n_iter_i = _check_optimize_result(\n",
      "/opt/conda/lib/python3.9/site-packages/sklearn/linear_model/_logistic.py:763: ConvergenceWarning: lbfgs failed to converge (status=1):\n",
      "STOP: TOTAL NO. of ITERATIONS REACHED LIMIT.\n",
      "\n",
      "Increase the number of iterations (max_iter) or scale the data as shown in:\n",
      "    https://scikit-learn.org/stable/modules/preprocessing.html\n",
      "Please also refer to the documentation for alternative solver options:\n",
      "    https://scikit-learn.org/stable/modules/linear_model.html#logistic-regression\n",
      "  n_iter_i = _check_optimize_result(\n",
      "/opt/conda/lib/python3.9/site-packages/sklearn/linear_model/_logistic.py:763: ConvergenceWarning: lbfgs failed to converge (status=1):\n",
      "STOP: TOTAL NO. of ITERATIONS REACHED LIMIT.\n",
      "\n",
      "Increase the number of iterations (max_iter) or scale the data as shown in:\n",
      "    https://scikit-learn.org/stable/modules/preprocessing.html\n",
      "Please also refer to the documentation for alternative solver options:\n",
      "    https://scikit-learn.org/stable/modules/linear_model.html#logistic-regression\n",
      "  n_iter_i = _check_optimize_result(\n",
      "/opt/conda/lib/python3.9/site-packages/sklearn/linear_model/_logistic.py:763: ConvergenceWarning: lbfgs failed to converge (status=1):\n",
      "STOP: TOTAL NO. of ITERATIONS REACHED LIMIT.\n",
      "\n",
      "Increase the number of iterations (max_iter) or scale the data as shown in:\n",
      "    https://scikit-learn.org/stable/modules/preprocessing.html\n",
      "Please also refer to the documentation for alternative solver options:\n",
      "    https://scikit-learn.org/stable/modules/linear_model.html#logistic-regression\n",
      "  n_iter_i = _check_optimize_result(\n",
      "/opt/conda/lib/python3.9/site-packages/sklearn/linear_model/_logistic.py:763: ConvergenceWarning: lbfgs failed to converge (status=1):\n",
      "STOP: TOTAL NO. of ITERATIONS REACHED LIMIT.\n",
      "\n",
      "Increase the number of iterations (max_iter) or scale the data as shown in:\n",
      "    https://scikit-learn.org/stable/modules/preprocessing.html\n",
      "Please also refer to the documentation for alternative solver options:\n",
      "    https://scikit-learn.org/stable/modules/linear_model.html#logistic-regression\n",
      "  n_iter_i = _check_optimize_result(\n",
      "/opt/conda/lib/python3.9/site-packages/sklearn/linear_model/_logistic.py:763: ConvergenceWarning: lbfgs failed to converge (status=1):\n",
      "STOP: TOTAL NO. of ITERATIONS REACHED LIMIT.\n",
      "\n",
      "Increase the number of iterations (max_iter) or scale the data as shown in:\n",
      "    https://scikit-learn.org/stable/modules/preprocessing.html\n",
      "Please also refer to the documentation for alternative solver options:\n",
      "    https://scikit-learn.org/stable/modules/linear_model.html#logistic-regression\n",
      "  n_iter_i = _check_optimize_result(\n",
      "/opt/conda/lib/python3.9/site-packages/sklearn/linear_model/_logistic.py:763: ConvergenceWarning: lbfgs failed to converge (status=1):\n",
      "STOP: TOTAL NO. of ITERATIONS REACHED LIMIT.\n",
      "\n",
      "Increase the number of iterations (max_iter) or scale the data as shown in:\n",
      "    https://scikit-learn.org/stable/modules/preprocessing.html\n",
      "Please also refer to the documentation for alternative solver options:\n",
      "    https://scikit-learn.org/stable/modules/linear_model.html#logistic-regression\n",
      "  n_iter_i = _check_optimize_result(\n",
      "/opt/conda/lib/python3.9/site-packages/sklearn/linear_model/_logistic.py:763: ConvergenceWarning: lbfgs failed to converge (status=1):\n",
      "STOP: TOTAL NO. of ITERATIONS REACHED LIMIT.\n",
      "\n",
      "Increase the number of iterations (max_iter) or scale the data as shown in:\n",
      "    https://scikit-learn.org/stable/modules/preprocessing.html\n",
      "Please also refer to the documentation for alternative solver options:\n",
      "    https://scikit-learn.org/stable/modules/linear_model.html#logistic-regression\n",
      "  n_iter_i = _check_optimize_result(\n",
      "/opt/conda/lib/python3.9/site-packages/sklearn/linear_model/_logistic.py:763: ConvergenceWarning: lbfgs failed to converge (status=1):\n",
      "STOP: TOTAL NO. of ITERATIONS REACHED LIMIT.\n",
      "\n",
      "Increase the number of iterations (max_iter) or scale the data as shown in:\n",
      "    https://scikit-learn.org/stable/modules/preprocessing.html\n",
      "Please also refer to the documentation for alternative solver options:\n",
      "    https://scikit-learn.org/stable/modules/linear_model.html#logistic-regression\n",
      "  n_iter_i = _check_optimize_result(\n",
      "/opt/conda/lib/python3.9/site-packages/sklearn/linear_model/_logistic.py:763: ConvergenceWarning: lbfgs failed to converge (status=1):\n",
      "STOP: TOTAL NO. of ITERATIONS REACHED LIMIT.\n",
      "\n",
      "Increase the number of iterations (max_iter) or scale the data as shown in:\n",
      "    https://scikit-learn.org/stable/modules/preprocessing.html\n",
      "Please also refer to the documentation for alternative solver options:\n",
      "    https://scikit-learn.org/stable/modules/linear_model.html#logistic-regression\n",
      "  n_iter_i = _check_optimize_result(\n",
      "/opt/conda/lib/python3.9/site-packages/sklearn/linear_model/_logistic.py:763: ConvergenceWarning: lbfgs failed to converge (status=1):\n",
      "STOP: TOTAL NO. of ITERATIONS REACHED LIMIT.\n",
      "\n",
      "Increase the number of iterations (max_iter) or scale the data as shown in:\n",
      "    https://scikit-learn.org/stable/modules/preprocessing.html\n",
      "Please also refer to the documentation for alternative solver options:\n",
      "    https://scikit-learn.org/stable/modules/linear_model.html#logistic-regression\n",
      "  n_iter_i = _check_optimize_result(\n",
      "/opt/conda/lib/python3.9/site-packages/sklearn/linear_model/_logistic.py:763: ConvergenceWarning: lbfgs failed to converge (status=1):\n",
      "STOP: TOTAL NO. of ITERATIONS REACHED LIMIT.\n",
      "\n",
      "Increase the number of iterations (max_iter) or scale the data as shown in:\n",
      "    https://scikit-learn.org/stable/modules/preprocessing.html\n",
      "Please also refer to the documentation for alternative solver options:\n",
      "    https://scikit-learn.org/stable/modules/linear_model.html#logistic-regression\n",
      "  n_iter_i = _check_optimize_result(\n",
      "/opt/conda/lib/python3.9/site-packages/sklearn/linear_model/_logistic.py:763: ConvergenceWarning: lbfgs failed to converge (status=1):\n",
      "STOP: TOTAL NO. of ITERATIONS REACHED LIMIT.\n",
      "\n",
      "Increase the number of iterations (max_iter) or scale the data as shown in:\n",
      "    https://scikit-learn.org/stable/modules/preprocessing.html\n",
      "Please also refer to the documentation for alternative solver options:\n",
      "    https://scikit-learn.org/stable/modules/linear_model.html#logistic-regression\n",
      "  n_iter_i = _check_optimize_result(\n",
      "/opt/conda/lib/python3.9/site-packages/sklearn/linear_model/_logistic.py:763: ConvergenceWarning: lbfgs failed to converge (status=1):\n",
      "STOP: TOTAL NO. of ITERATIONS REACHED LIMIT.\n",
      "\n",
      "Increase the number of iterations (max_iter) or scale the data as shown in:\n",
      "    https://scikit-learn.org/stable/modules/preprocessing.html\n",
      "Please also refer to the documentation for alternative solver options:\n",
      "    https://scikit-learn.org/stable/modules/linear_model.html#logistic-regression\n",
      "  n_iter_i = _check_optimize_result(\n",
      "/opt/conda/lib/python3.9/site-packages/sklearn/linear_model/_logistic.py:763: ConvergenceWarning: lbfgs failed to converge (status=1):\n",
      "STOP: TOTAL NO. of ITERATIONS REACHED LIMIT.\n",
      "\n",
      "Increase the number of iterations (max_iter) or scale the data as shown in:\n",
      "    https://scikit-learn.org/stable/modules/preprocessing.html\n",
      "Please also refer to the documentation for alternative solver options:\n",
      "    https://scikit-learn.org/stable/modules/linear_model.html#logistic-regression\n",
      "  n_iter_i = _check_optimize_result(\n",
      "/opt/conda/lib/python3.9/site-packages/sklearn/linear_model/_logistic.py:763: ConvergenceWarning: lbfgs failed to converge (status=1):\n",
      "STOP: TOTAL NO. of ITERATIONS REACHED LIMIT.\n",
      "\n",
      "Increase the number of iterations (max_iter) or scale the data as shown in:\n",
      "    https://scikit-learn.org/stable/modules/preprocessing.html\n",
      "Please also refer to the documentation for alternative solver options:\n",
      "    https://scikit-learn.org/stable/modules/linear_model.html#logistic-regression\n",
      "  n_iter_i = _check_optimize_result(\n",
      "/opt/conda/lib/python3.9/site-packages/sklearn/linear_model/_logistic.py:763: ConvergenceWarning: lbfgs failed to converge (status=1):\n",
      "STOP: TOTAL NO. of ITERATIONS REACHED LIMIT.\n",
      "\n",
      "Increase the number of iterations (max_iter) or scale the data as shown in:\n",
      "    https://scikit-learn.org/stable/modules/preprocessing.html\n",
      "Please also refer to the documentation for alternative solver options:\n",
      "    https://scikit-learn.org/stable/modules/linear_model.html#logistic-regression\n",
      "  n_iter_i = _check_optimize_result(\n",
      "/opt/conda/lib/python3.9/site-packages/sklearn/linear_model/_logistic.py:763: ConvergenceWarning: lbfgs failed to converge (status=1):\n",
      "STOP: TOTAL NO. of ITERATIONS REACHED LIMIT.\n",
      "\n",
      "Increase the number of iterations (max_iter) or scale the data as shown in:\n",
      "    https://scikit-learn.org/stable/modules/preprocessing.html\n",
      "Please also refer to the documentation for alternative solver options:\n",
      "    https://scikit-learn.org/stable/modules/linear_model.html#logistic-regression\n",
      "  n_iter_i = _check_optimize_result(\n",
      "/opt/conda/lib/python3.9/site-packages/sklearn/linear_model/_logistic.py:763: ConvergenceWarning: lbfgs failed to converge (status=1):\n",
      "STOP: TOTAL NO. of ITERATIONS REACHED LIMIT.\n",
      "\n",
      "Increase the number of iterations (max_iter) or scale the data as shown in:\n",
      "    https://scikit-learn.org/stable/modules/preprocessing.html\n",
      "Please also refer to the documentation for alternative solver options:\n",
      "    https://scikit-learn.org/stable/modules/linear_model.html#logistic-regression\n",
      "  n_iter_i = _check_optimize_result(\n"
     ]
    },
    {
     "name": "stdout",
     "output_type": "stream",
     "text": [
      "best_score: 0.7509621186741479\n",
      "best_params: {'logisticregression__C': 0.1, 'logisticregression__max_iter': 12}\n"
     ]
    },
    {
     "name": "stderr",
     "output_type": "stream",
     "text": [
      "/opt/conda/lib/python3.9/site-packages/sklearn/linear_model/_logistic.py:763: ConvergenceWarning: lbfgs failed to converge (status=1):\n",
      "STOP: TOTAL NO. of ITERATIONS REACHED LIMIT.\n",
      "\n",
      "Increase the number of iterations (max_iter) or scale the data as shown in:\n",
      "    https://scikit-learn.org/stable/modules/preprocessing.html\n",
      "Please also refer to the documentation for alternative solver options:\n",
      "    https://scikit-learn.org/stable/modules/linear_model.html#logistic-regression\n",
      "  n_iter_i = _check_optimize_result(\n"
     ]
    }
   ],
   "source": [
    "pipline_lr = make_pipeline(transformer_log, model_lr)\n",
    "parametrs_lr = { 'logisticregression__C': [0.001, 0.01, 0.1, 1, 10, 100, 1000],\n",
    "              'logisticregression__max_iter': range (6,15,2),\n",
    "              }\n",
    "lr = GridSearchCV(pipline_lr, param_grid=parametrs_lr, cv=3, scoring='roc_auc')\n",
    "lr.fit(features_train, target_train)\n",
    "auc_roc_lr = lr.best_score_\n",
    "auc_roc_lr_params=lr.best_params_\n",
    "# лучшее значение auc_roc на кросс-валидации\n",
    "print(f'best_score: {auc_roc_lr}')\n",
    "# лучшие гиперпараметры\n",
    "print(f'best_params: {auc_roc_lr_params}')"
   ]
  },
  {
   "cell_type": "markdown",
   "id": "f32c5bc9",
   "metadata": {},
   "source": [
    "best_score: 0.7521481401436562\n",
    "best_params: {'logisticregression__C': 100, 'logisticregression__max_iter': 14}"
   ]
  },
  {
   "cell_type": "markdown",
   "id": "db704670",
   "metadata": {},
   "source": [
    "### Случайный лес"
   ]
  },
  {
   "cell_type": "code",
   "execution_count": 63,
   "id": "a7808254",
   "metadata": {},
   "outputs": [
    {
     "name": "stdout",
     "output_type": "stream",
     "text": [
      "best_score: 0.820545713632669\n",
      "best_params: {'randomforestclassifier__max_depth': 8, 'randomforestclassifier__n_estimators': 100}\n"
     ]
    }
   ],
   "source": [
    "model_rf = RandomForestClassifier(class_weight='balanced', random_state = 250923)\n",
    "pipline_rf =  make_pipeline(transformer_log, model_rf)\n",
    "grid = {'randomforestclassifier__n_estimators':[10,20,30,40,50,60,70,80,90,100],\n",
    "        'randomforestclassifier__max_depth': [5,6,7,8,9]}\n",
    "rf = lr = GridSearchCV(pipline_rf, param_grid=grid, cv=3, scoring='roc_auc')\n",
    "rf.fit(features_train, target_train)\n",
    "auc_roc_rf = rf.best_score_\n",
    "auc_roc_rf_params=rf.best_params_\n",
    "# лучшее значение auc_roc на кросс-валидации\n",
    "print(f'best_score: {auc_roc_rf}')\n",
    "# лучшие гиперпараметры\n",
    "print(f'best_params: {auc_roc_rf_params}')"
   ]
  },
  {
   "cell_type": "markdown",
   "id": "3abc409e",
   "metadata": {},
   "source": [
    "### Градиентный бустинг CatBoost"
   ]
  },
  {
   "cell_type": "code",
   "execution_count": 64,
   "id": "53dfac20",
   "metadata": {},
   "outputs": [
    {
     "name": "stdout",
     "output_type": "stream",
     "text": [
      "0:\tlearn: 0.6999855\ttest: 0.6821765\tbest: 0.6821765 (0)\ttotal: 49.3ms\tremaining: 4.88s\n",
      "99:\tlearn: 0.8775972\ttest: 0.8261832\tbest: 0.8261832 (99)\ttotal: 292ms\tremaining: 0us\n",
      "\n",
      "bestTest = 0.8261831583\n",
      "bestIteration = 99\n",
      "\n",
      "0:\tloss: 0.8261832\tbest: 0.8261832 (0)\ttotal: 1.13s\tremaining: 4m 46s\n",
      "0:\tlearn: 0.6999855\ttest: 0.6821765\tbest: 0.6821765 (0)\ttotal: 2.68ms\tremaining: 265ms\n",
      "99:\tlearn: 0.9017638\ttest: 0.8377800\tbest: 0.8377800 (99)\ttotal: 253ms\tremaining: 0us\n",
      "\n",
      "bestTest = 0.8377799596\n",
      "bestIteration = 99\n",
      "\n",
      "1:\tloss: 0.8377800\tbest: 0.8377800 (1)\ttotal: 1.38s\tremaining: 2m 55s\n",
      "0:\tlearn: 0.6999855\ttest: 0.6821765\tbest: 0.6821765 (0)\ttotal: 2.29ms\tremaining: 227ms\n",
      "99:\tlearn: 0.9164481\ttest: 0.8537700\tbest: 0.8538269 (98)\ttotal: 255ms\tremaining: 0us\n",
      "\n",
      "bestTest = 0.8538269444\n",
      "bestIteration = 98\n",
      "\n",
      "2:\tloss: 0.8538269\tbest: 0.8538269 (2)\ttotal: 1.64s\tremaining: 2m 18s\n",
      "0:\tlearn: 0.6999855\ttest: 0.6821765\tbest: 0.6821765 (0)\ttotal: 2.33ms\tremaining: 231ms\n",
      "99:\tlearn: 0.9278897\ttest: 0.8580423\tbest: 0.8583554 (96)\ttotal: 273ms\tremaining: 0us\n",
      "\n",
      "bestTest = 0.8583553886\n",
      "bestIteration = 96\n",
      "\n",
      "3:\tloss: 0.8583554\tbest: 0.8583554 (3)\ttotal: 1.91s\tremaining: 2m\n",
      "0:\tlearn: 0.6999855\ttest: 0.6821765\tbest: 0.6821765 (0)\ttotal: 2.46ms\tremaining: 244ms\n",
      "99:\tlearn: 0.8806669\ttest: 0.8323693\tbest: 0.8346175 (92)\ttotal: 253ms\tremaining: 0us\n",
      "\n",
      "bestTest = 0.834617519\n",
      "bestIteration = 92\n",
      "\n",
      "4:\tloss: 0.8346175\tbest: 0.8583554 (3)\ttotal: 2.17s\tremaining: 1m 48s\n",
      "0:\tlearn: 0.6999855\ttest: 0.6821765\tbest: 0.6821765 (0)\ttotal: 2.67ms\tremaining: 265ms\n",
      "99:\tlearn: 0.8969690\ttest: 0.8380183\tbest: 0.8380183 (99)\ttotal: 253ms\tremaining: 0us\n",
      "\n",
      "bestTest = 0.8380182988\n",
      "bestIteration = 99\n",
      "\n",
      "5:\tloss: 0.8380183\tbest: 0.8583554 (3)\ttotal: 2.42s\tremaining: 1m 41s\n",
      "0:\tlearn: 0.6999855\ttest: 0.6821765\tbest: 0.6821765 (0)\ttotal: 2.56ms\tremaining: 253ms\n",
      "99:\tlearn: 0.9126992\ttest: 0.8429523\tbest: 0.8433934 (97)\ttotal: 258ms\tremaining: 0us\n",
      "\n",
      "bestTest = 0.8433933806\n",
      "bestIteration = 97\n",
      "\n",
      "6:\tloss: 0.8433934\tbest: 0.8583554 (3)\ttotal: 2.69s\tremaining: 1m 35s\n",
      "0:\tlearn: 0.6999855\ttest: 0.6821765\tbest: 0.6821765 (0)\ttotal: 2.45ms\tremaining: 242ms\n",
      "99:\tlearn: 0.9318805\ttest: 0.8689348\tbest: 0.8689348 (99)\ttotal: 255ms\tremaining: 0us\n",
      "\n",
      "bestTest = 0.8689348018\n",
      "bestIteration = 99\n",
      "\n",
      "7:\tloss: 0.8689348\tbest: 0.8689348 (7)\ttotal: 2.94s\tremaining: 1m 31s\n",
      "0:\tlearn: 0.6999855\ttest: 0.6821765\tbest: 0.6821765 (0)\ttotal: 2.32ms\tremaining: 230ms\n",
      "99:\tlearn: 0.8697991\ttest: 0.8160377\tbest: 0.8160377 (99)\ttotal: 251ms\tremaining: 0us\n",
      "\n",
      "bestTest = 0.8160377358\n",
      "bestIteration = 99\n",
      "\n",
      "8:\tloss: 0.8160377\tbest: 0.8689348 (7)\ttotal: 3.2s\tremaining: 1m 27s\n",
      "0:\tlearn: 0.6999855\ttest: 0.6821765\tbest: 0.6821765 (0)\ttotal: 2.4ms\tremaining: 238ms\n",
      "99:\tlearn: 0.8985104\ttest: 0.8326717\tbest: 0.8342760 (95)\ttotal: 253ms\tremaining: 0us\n",
      "\n",
      "bestTest = 0.8342760181\n",
      "bestIteration = 95\n",
      "\n",
      "9:\tloss: 0.8342760\tbest: 0.8689348 (7)\ttotal: 3.45s\tremaining: 1m 24s\n",
      "0:\tlearn: 0.6999855\ttest: 0.6821765\tbest: 0.6821765 (0)\ttotal: 2.31ms\tremaining: 228ms\n",
      "99:\tlearn: 0.9177005\ttest: 0.8478187\tbest: 0.8478187 (99)\ttotal: 269ms\tremaining: 0us\n",
      "\n",
      "bestTest = 0.847818663\n",
      "bestIteration = 99\n",
      "\n",
      "10:\tloss: 0.8478187\tbest: 0.8689348 (7)\ttotal: 3.72s\tremaining: 1m 22s\n",
      "0:\tlearn: 0.6999855\ttest: 0.6821765\tbest: 0.6821765 (0)\ttotal: 3.1ms\tremaining: 307ms\n",
      "99:\tlearn: 0.9238670\ttest: 0.8698882\tbest: 0.8698882 (99)\ttotal: 259ms\tremaining: 0us\n",
      "\n",
      "bestTest = 0.8698881585\n",
      "bestIteration = 99\n",
      "\n",
      "11:\tloss: 0.8698882\tbest: 0.8698882 (11)\ttotal: 3.98s\tremaining: 1m 21s\n",
      "0:\tlearn: 0.6999855\ttest: 0.6821765\tbest: 0.6821765 (0)\ttotal: 2.58ms\tremaining: 256ms\n",
      "99:\tlearn: 0.8716105\ttest: 0.8150026\tbest: 0.8182112 (93)\ttotal: 253ms\tremaining: 0us\n",
      "\n",
      "bestTest = 0.8182112468\n",
      "bestIteration = 93\n",
      "\n",
      "12:\tloss: 0.8182112\tbest: 0.8698882 (11)\ttotal: 4.24s\tremaining: 1m 19s\n",
      "0:\tlearn: 0.6999855\ttest: 0.6821765\tbest: 0.6821765 (0)\ttotal: 2.51ms\tremaining: 248ms\n",
      "99:\tlearn: 0.8920171\ttest: 0.8273428\tbest: 0.8279618 (89)\ttotal: 258ms\tremaining: 0us\n",
      "\n",
      "bestTest = 0.8279618088\n",
      "bestIteration = 89\n",
      "\n",
      "13:\tloss: 0.8279618\tbest: 0.8698882 (11)\ttotal: 4.5s\tremaining: 1m 17s\n",
      "0:\tlearn: 0.6999855\ttest: 0.6821765\tbest: 0.6821765 (0)\ttotal: 2.48ms\tremaining: 245ms\n",
      "99:\tlearn: 0.9071463\ttest: 0.8337246\tbest: 0.8340519 (96)\ttotal: 265ms\tremaining: 0us\n",
      "\n",
      "bestTest = 0.8340519081\n",
      "bestIteration = 96\n",
      "\n",
      "14:\tloss: 0.8340519\tbest: 0.8698882 (11)\ttotal: 4.77s\tremaining: 1m 16s\n",
      "0:\tlearn: 0.6999855\ttest: 0.6821765\tbest: 0.6821765 (0)\ttotal: 2.54ms\tremaining: 252ms\n",
      "99:\tlearn: 0.9147155\ttest: 0.8326290\tbest: 0.8329349 (98)\ttotal: 261ms\tremaining: 0us\n",
      "\n",
      "bestTest = 0.8329349156\n",
      "bestIteration = 98\n",
      "\n",
      "15:\tloss: 0.8329349\tbest: 0.8698882 (11)\ttotal: 5.03s\tremaining: 1m 15s\n",
      "0:\tlearn: 0.6999855\ttest: 0.6821765\tbest: 0.6821765 (0)\ttotal: 2.81ms\tremaining: 419ms\n",
      "149:\tlearn: 0.9038019\ttest: 0.8481815\tbest: 0.8490779 (144)\ttotal: 392ms\tremaining: 0us\n",
      "\n",
      "bestTest = 0.8490779476\n",
      "bestIteration = 144\n",
      "\n",
      "16:\tloss: 0.8490779\tbest: 0.8698882 (11)\ttotal: 5.43s\tremaining: 1m 16s\n",
      "0:\tlearn: 0.6999855\ttest: 0.6821765\tbest: 0.6821765 (0)\ttotal: 3.29ms\tremaining: 490ms\n",
      "149:\tlearn: 0.9308456\ttest: 0.8558795\tbest: 0.8558795 (149)\ttotal: 394ms\tremaining: 0us\n",
      "\n",
      "bestTest = 0.8558795071\n",
      "bestIteration = 149\n",
      "\n",
      "17:\tloss: 0.8558795\tbest: 0.8698882 (11)\ttotal: 5.82s\tremaining: 1m 17s\n",
      "0:\tlearn: 0.6999855\ttest: 0.6821765\tbest: 0.6821765 (0)\ttotal: 2.42ms\tremaining: 361ms\n",
      "149:\tlearn: 0.9445868\ttest: 0.8751103\tbest: 0.8751316 (148)\ttotal: 382ms\tremaining: 0us\n",
      "\n",
      "bestTest = 0.8751316201\n",
      "bestIteration = 148\n",
      "\n",
      "18:\tloss: 0.8751316\tbest: 0.8751316 (18)\ttotal: 6.21s\tremaining: 1m 17s\n",
      "0:\tlearn: 0.6999855\ttest: 0.6821765\tbest: 0.6821765 (0)\ttotal: 2.4ms\tremaining: 358ms\n",
      "149:\tlearn: 0.9559408\ttest: 0.8815561\tbest: 0.8815561 (149)\ttotal: 381ms\tremaining: 0us\n",
      "\n",
      "bestTest = 0.8815561058\n",
      "bestIteration = 149\n",
      "\n",
      "19:\tloss: 0.8815561\tbest: 0.8815561 (19)\ttotal: 6.59s\tremaining: 1m 17s\n",
      "0:\tlearn: 0.6999855\ttest: 0.6821765\tbest: 0.6821765 (0)\ttotal: 2.95ms\tremaining: 440ms\n",
      "149:\tlearn: 0.9003516\ttest: 0.8414582\tbest: 0.8414582 (149)\ttotal: 390ms\tremaining: 0us\n",
      "\n",
      "bestTest = 0.8414582088\n",
      "bestIteration = 149\n",
      "\n",
      "20:\tloss: 0.8414582\tbest: 0.8815561 (19)\ttotal: 6.99s\tremaining: 1m 18s\n",
      "0:\tlearn: 0.6999855\ttest: 0.6821765\tbest: 0.6821765 (0)\ttotal: 2.43ms\tremaining: 362ms\n",
      "149:\tlearn: 0.9257829\ttest: 0.8587894\tbest: 0.8587894 (149)\ttotal: 385ms\tremaining: 0us\n",
      "\n",
      "bestTest = 0.8587893793\n",
      "bestIteration = 149\n",
      "\n",
      "21:\tloss: 0.8587894\tbest: 0.8815561 (19)\ttotal: 7.38s\tremaining: 1m 18s\n",
      "0:\tlearn: 0.6999855\ttest: 0.6821765\tbest: 0.6821765 (0)\ttotal: 2.46ms\tremaining: 366ms\n",
      "149:\tlearn: 0.9441728\ttest: 0.8704075\tbest: 0.8704075 (149)\ttotal: 385ms\tremaining: 0us\n",
      "\n",
      "bestTest = 0.8704075244\n",
      "bestIteration = 149\n",
      "\n",
      "22:\tloss: 0.8704075\tbest: 0.8815561 (19)\ttotal: 7.76s\tremaining: 1m 18s\n",
      "0:\tlearn: 0.6999855\ttest: 0.6821765\tbest: 0.6821765 (0)\ttotal: 2.48ms\tremaining: 370ms\n",
      "149:\tlearn: 0.9581178\ttest: 0.8894035\tbest: 0.8919292 (148)\ttotal: 428ms\tremaining: 0us\n",
      "\n",
      "bestTest = 0.8919291955\n",
      "bestIteration = 148\n",
      "\n",
      "23:\tloss: 0.8919292\tbest: 0.8919292 (23)\ttotal: 8.19s\tremaining: 1m 19s\n",
      "0:\tlearn: 0.6999855\ttest: 0.6821765\tbest: 0.6821765 (0)\ttotal: 2.52ms\tremaining: 376ms\n",
      "149:\tlearn: 0.8887736\ttest: 0.8238745\tbest: 0.8257598 (126)\ttotal: 379ms\tremaining: 0us\n",
      "\n",
      "bestTest = 0.8257598395\n",
      "bestIteration = 126\n",
      "\n",
      "24:\tloss: 0.8257598\tbest: 0.8919292 (23)\ttotal: 8.57s\tremaining: 1m 19s\n",
      "0:\tlearn: 0.6999855\ttest: 0.6821765\tbest: 0.6821765 (0)\ttotal: 2.49ms\tremaining: 371ms\n",
      "149:\tlearn: 0.9231450\ttest: 0.8483238\tbest: 0.8485159 (147)\ttotal: 392ms\tremaining: 0us\n",
      "\n",
      "bestTest = 0.848515894\n",
      "bestIteration = 147\n",
      "\n",
      "25:\tloss: 0.8485159\tbest: 0.8919292 (23)\ttotal: 8.97s\tremaining: 1m 19s\n",
      "0:\tlearn: 0.6999855\ttest: 0.6821765\tbest: 0.6821765 (0)\ttotal: 2.45ms\tremaining: 365ms\n",
      "149:\tlearn: 0.9418950\ttest: 0.8652921\tbest: 0.8652921 (148)\ttotal: 395ms\tremaining: 0us\n",
      "\n",
      "bestTest = 0.8652921256\n",
      "bestIteration = 148\n",
      "\n",
      "26:\tloss: 0.8652921\tbest: 0.8919292 (23)\ttotal: 9.37s\tremaining: 1m 19s\n",
      "0:\tlearn: 0.6999855\ttest: 0.6821765\tbest: 0.6821765 (0)\ttotal: 2.35ms\tremaining: 350ms\n",
      "149:\tlearn: 0.9517409\ttest: 0.8903782\tbest: 0.8903782 (149)\ttotal: 403ms\tremaining: 0us\n",
      "\n",
      "bestTest = 0.8903782122\n",
      "bestIteration = 149\n",
      "\n",
      "27:\tloss: 0.8903782\tbest: 0.8919292 (23)\ttotal: 9.77s\tremaining: 1m 19s\n",
      "0:\tlearn: 0.6999855\ttest: 0.6821765\tbest: 0.6821765 (0)\ttotal: 2.48ms\tremaining: 370ms\n",
      "149:\tlearn: 0.8895598\ttest: 0.8304519\tbest: 0.8304519 (149)\ttotal: 395ms\tremaining: 0us\n",
      "\n",
      "bestTest = 0.8304519195\n",
      "bestIteration = 149\n",
      "\n",
      "28:\tloss: 0.8304519\tbest: 0.8919292 (23)\ttotal: 10.2s\tremaining: 1m 19s\n",
      "0:\tlearn: 0.6999855\ttest: 0.6821765\tbest: 0.6821765 (0)\ttotal: 2.52ms\tremaining: 376ms\n",
      "149:\tlearn: 0.9107507\ttest: 0.8410598\tbest: 0.8410598 (149)\ttotal: 382ms\tremaining: 0us\n",
      "\n",
      "bestTest = 0.8410597911\n",
      "bestIteration = 149\n",
      "\n",
      "29:\tloss: 0.8410598\tbest: 0.8919292 (23)\ttotal: 10.6s\tremaining: 1m 19s\n",
      "0:\tlearn: 0.6999855\ttest: 0.6821765\tbest: 0.6821765 (0)\ttotal: 2.5ms\tremaining: 372ms\n",
      "149:\tlearn: 0.9374047\ttest: 0.8600273\tbest: 0.8600273 (149)\ttotal: 385ms\tremaining: 0us\n",
      "\n",
      "bestTest = 0.8600273201\n",
      "bestIteration = 149\n",
      "\n",
      "30:\tloss: 0.8600273\tbest: 0.8919292 (23)\ttotal: 10.9s\tremaining: 1m 19s\n",
      "0:\tlearn: 0.6999855\ttest: 0.6821765\tbest: 0.6821765 (0)\ttotal: 2.52ms\tremaining: 376ms\n",
      "149:\tlearn: 0.9452887\ttest: 0.8684581\tbest: 0.8688139 (148)\ttotal: 395ms\tremaining: 0us\n",
      "\n",
      "bestTest = 0.8688138536\n",
      "bestIteration = 148\n",
      "\n",
      "31:\tloss: 0.8688139\tbest: 0.8919292 (23)\ttotal: 11.3s\tremaining: 1m 19s\n",
      "0:\tlearn: 0.6999855\ttest: 0.6821765\tbest: 0.6821765 (0)\ttotal: 2.61ms\tremaining: 520ms\n",
      "199:\tlearn: 0.9207677\ttest: 0.8583269\tbest: 0.8590740 (185)\ttotal: 553ms\tremaining: 0us\n",
      "\n",
      "bestTest = 0.8590739634\n",
      "bestIteration = 185\n",
      "\n",
      "32:\tloss: 0.8590740\tbest: 0.8919292 (23)\ttotal: 11.9s\tremaining: 1m 20s\n",
      "0:\tlearn: 0.6999855\ttest: 0.6821765\tbest: 0.6821765 (0)\ttotal: 2.67ms\tremaining: 531ms\n",
      "199:\tlearn: 0.9476560\ttest: 0.8772304\tbest: 0.8776288 (195)\ttotal: 562ms\tremaining: 0us\n",
      "\n",
      "bestTest = 0.8776288454\n",
      "bestIteration = 195\n",
      "\n",
      "33:\tloss: 0.8776288\tbest: 0.8919292 (23)\ttotal: 12.5s\tremaining: 1m 21s\n",
      "0:\tlearn: 0.6999855\ttest: 0.6821765\tbest: 0.6821765 (0)\ttotal: 2.44ms\tremaining: 485ms\n",
      "199:\tlearn: 0.9597645\ttest: 0.8857039\tbest: 0.8857110 (198)\ttotal: 559ms\tremaining: 0us\n",
      "\n",
      "bestTest = 0.8857110333\n",
      "bestIteration = 198\n",
      "\n",
      "34:\tloss: 0.8857110\tbest: 0.8919292 (23)\ttotal: 13s\tremaining: 1m 22s\n",
      "0:\tlearn: 0.6999855\ttest: 0.6821765\tbest: 0.6821765 (0)\ttotal: 2.5ms\tremaining: 498ms\n",
      "199:\tlearn: 0.9665896\ttest: 0.8756083\tbest: 0.8817055 (156)\ttotal: 549ms\tremaining: 0us\n",
      "\n",
      "bestTest = 0.8817055124\n",
      "bestIteration = 156\n",
      "\n",
      "35:\tloss: 0.8817055\tbest: 0.8919292 (23)\ttotal: 13.6s\tremaining: 1m 22s\n",
      "0:\tlearn: 0.6999855\ttest: 0.6821765\tbest: 0.6821765 (0)\ttotal: 2.75ms\tremaining: 546ms\n",
      "199:\tlearn: 0.9140385\ttest: 0.8447665\tbest: 0.8447665 (199)\ttotal: 548ms\tremaining: 0us\n",
      "\n",
      "bestTest = 0.8447664988\n",
      "bestIteration = 199\n",
      "\n",
      "36:\tloss: 0.8447665\tbest: 0.8919292 (23)\ttotal: 14.1s\tremaining: 1m 23s\n",
      "0:\tlearn: 0.6999855\ttest: 0.6821765\tbest: 0.6821765 (0)\ttotal: 2.82ms\tremaining: 562ms\n",
      "199:\tlearn: 0.9462332\ttest: 0.8705712\tbest: 0.8705712 (199)\ttotal: 555ms\tremaining: 0us\n",
      "\n",
      "bestTest = 0.8705711602\n",
      "bestIteration = 199\n",
      "\n",
      "37:\tloss: 0.8705712\tbest: 0.8919292 (23)\ttotal: 14.7s\tremaining: 1m 24s\n",
      "0:\tlearn: 0.6999855\ttest: 0.6821765\tbest: 0.6821765 (0)\ttotal: 2.69ms\tremaining: 536ms\n",
      "199:\tlearn: 0.9595352\ttest: 0.8843948\tbest: 0.8843948 (198)\ttotal: 570ms\tremaining: 0us\n",
      "\n",
      "bestTest = 0.884394832\n",
      "bestIteration = 198\n",
      "\n",
      "38:\tloss: 0.8843948\tbest: 0.8919292 (23)\ttotal: 15.3s\tremaining: 1m 24s\n",
      "0:\tlearn: 0.6999855\ttest: 0.6821765\tbest: 0.6821765 (0)\ttotal: 2.59ms\tremaining: 516ms\n",
      "199:\tlearn: 0.9713878\ttest: 0.8838968\tbest: 0.8879023 (188)\ttotal: 578ms\tremaining: 0us\n",
      "\n",
      "bestTest = 0.8879023307\n",
      "bestIteration = 188\n",
      "\n",
      "39:\tloss: 0.8879023\tbest: 0.8919292 (23)\ttotal: 15.8s\tremaining: 1m 25s\n",
      "0:\tlearn: 0.6999855\ttest: 0.6821765\tbest: 0.6821765 (0)\ttotal: 2.96ms\tremaining: 588ms\n",
      "199:\tlearn: 0.9171062\ttest: 0.8536882\tbest: 0.8537522 (198)\ttotal: 579ms\tremaining: 0us\n",
      "\n",
      "bestTest = 0.8537522411\n",
      "bestIteration = 198\n",
      "\n",
      "40:\tloss: 0.8537522\tbest: 0.8919292 (23)\ttotal: 16.4s\tremaining: 1m 26s\n",
      "0:\tlearn: 0.6999855\ttest: 0.6821765\tbest: 0.6821765 (0)\ttotal: 2.77ms\tremaining: 551ms\n",
      "199:\tlearn: 0.9436321\ttest: 0.8657332\tbest: 0.8674194 (183)\ttotal: 566ms\tremaining: 0us\n",
      "\n",
      "bestTest = 0.8674193916\n",
      "bestIteration = 183\n",
      "\n",
      "41:\tloss: 0.8674194\tbest: 0.8919292 (23)\ttotal: 17s\tremaining: 1m 26s\n",
      "0:\tlearn: 0.6999855\ttest: 0.6821765\tbest: 0.6821765 (0)\ttotal: 2.64ms\tremaining: 525ms\n",
      "199:\tlearn: 0.9573728\ttest: 0.8864865\tbest: 0.8864865 (199)\ttotal: 568ms\tremaining: 0us\n",
      "\n",
      "bestTest = 0.8864865249\n",
      "bestIteration = 199\n",
      "\n",
      "42:\tloss: 0.8864865\tbest: 0.8919292 (23)\ttotal: 17.6s\tremaining: 1m 27s\n",
      "0:\tlearn: 0.6999855\ttest: 0.6821765\tbest: 0.6821765 (0)\ttotal: 2.52ms\tremaining: 502ms\n",
      "199:\tlearn: 0.9660909\ttest: 0.8926264\tbest: 0.8930106 (194)\ttotal: 615ms\tremaining: 0us\n",
      "\n",
      "bestTest = 0.893010615\n",
      "bestIteration = 194\n",
      "\n",
      "43:\tloss: 0.8930106\tbest: 0.8930106 (43)\ttotal: 18.2s\tremaining: 1m 27s\n",
      "0:\tlearn: 0.6999855\ttest: 0.6821765\tbest: 0.6821765 (0)\ttotal: 2.82ms\tremaining: 562ms\n",
      "199:\tlearn: 0.9102019\ttest: 0.8432369\tbest: 0.8432795 (196)\ttotal: 554ms\tremaining: 0us\n",
      "\n",
      "bestTest = 0.8432795469\n",
      "bestIteration = 196\n",
      "\n",
      "44:\tloss: 0.8432795\tbest: 0.8930106 (43)\ttotal: 18.7s\tremaining: 1m 27s\n",
      "0:\tlearn: 0.6999855\ttest: 0.6821765\tbest: 0.6821765 (0)\ttotal: 2.61ms\tremaining: 519ms\n",
      "199:\tlearn: 0.9295512\ttest: 0.8554384\tbest: 0.8554384 (199)\ttotal: 555ms\tremaining: 0us\n",
      "\n",
      "bestTest = 0.8554384018\n",
      "bestIteration = 199\n",
      "\n",
      "45:\tloss: 0.8554384\tbest: 0.8930106 (43)\ttotal: 19.3s\tremaining: 1m 28s\n",
      "0:\tlearn: 0.6999855\ttest: 0.6821765\tbest: 0.6821765 (0)\ttotal: 2.65ms\tremaining: 528ms\n",
      "199:\tlearn: 0.9527718\ttest: 0.8680953\tbest: 0.8681522 (197)\ttotal: 555ms\tremaining: 0us\n",
      "\n",
      "bestTest = 0.8681521956\n",
      "bestIteration = 197\n",
      "\n",
      "46:\tloss: 0.8681522\tbest: 0.8930106 (43)\ttotal: 19.9s\tremaining: 1m 28s\n",
      "0:\tlearn: 0.6999855\ttest: 0.6821765\tbest: 0.6821765 (0)\ttotal: 2.82ms\tremaining: 562ms\n",
      "199:\tlearn: 0.9642286\ttest: 0.8833703\tbest: 0.8842525 (183)\ttotal: 561ms\tremaining: 0us\n",
      "\n",
      "bestTest = 0.8842525399\n",
      "bestIteration = 183\n",
      "\n",
      "47:\tloss: 0.8842525\tbest: 0.8930106 (43)\ttotal: 20.4s\tremaining: 1m 28s\n",
      "0:\tlearn: 0.6999855\ttest: 0.6821765\tbest: 0.6821765 (0)\ttotal: 2.51ms\tremaining: 751ms\n",
      "200:\tlearn: 0.9209373\ttest: 0.8583625\tbest: 0.8590740 (185)\ttotal: 540ms\tremaining: 266ms\n",
      "299:\tlearn: 0.9482312\ttest: 0.8762842\tbest: 0.8762842 (299)\ttotal: 831ms\tremaining: 0us\n",
      "\n",
      "bestTest = 0.8762841857\n",
      "bestIteration = 299\n",
      "\n",
      "48:\tloss: 0.8762842\tbest: 0.8930106 (43)\ttotal: 21.3s\tremaining: 1m 29s\n",
      "0:\tlearn: 0.6999855\ttest: 0.6821765\tbest: 0.6821765 (0)\ttotal: 2.56ms\tremaining: 767ms\n",
      "200:\tlearn: 0.9479025\ttest: 0.8775292\tbest: 0.8776288 (195)\ttotal: 576ms\tremaining: 284ms\n",
      "299:\tlearn: 0.9657955\ttest: 0.8904707\tbest: 0.8905063 (296)\ttotal: 848ms\tremaining: 0us\n",
      "\n",
      "bestTest = 0.8905062751\n",
      "bestIteration = 296\n",
      "\n",
      "49:\tloss: 0.8905063\tbest: 0.8930106 (43)\ttotal: 22.1s\tremaining: 1m 31s\n",
      "0:\tlearn: 0.6999855\ttest: 0.6821765\tbest: 0.6821765 (0)\ttotal: 2.54ms\tremaining: 759ms\n",
      "200:\tlearn: 0.9603543\ttest: 0.8860881\tbest: 0.8860881 (200)\ttotal: 553ms\tremaining: 272ms\n",
      "299:\tlearn: 0.9784863\ttest: 0.8946612\tbest: 0.8947750 (293)\ttotal: 827ms\tremaining: 0us\n",
      "\n",
      "bestTest = 0.8947750363\n",
      "bestIteration = 293\n",
      "\n",
      "50:\tloss: 0.8947750\tbest: 0.8947750 (50)\ttotal: 22.9s\tremaining: 1m 32s\n",
      "0:\tlearn: 0.6999855\ttest: 0.6821765\tbest: 0.6821765 (0)\ttotal: 2.7ms\tremaining: 807ms\n",
      "200:\tlearn: 0.9667047\ttest: 0.8755656\tbest: 0.8817055 (156)\ttotal: 570ms\tremaining: 281ms\n",
      "299:\tlearn: 0.9817193\ttest: 0.8913600\tbest: 0.8913956 (298)\ttotal: 842ms\tremaining: 0us\n",
      "\n",
      "bestTest = 0.8913956003\n",
      "bestIteration = 298\n",
      "\n",
      "51:\tloss: 0.8913956\tbest: 0.8947750 (50)\ttotal: 23.8s\tremaining: 1m 33s\n",
      "0:\tlearn: 0.6999855\ttest: 0.6821765\tbest: 0.6821765 (0)\ttotal: 2.69ms\tremaining: 804ms\n",
      "200:\tlearn: 0.9149247\ttest: 0.8448946\tbest: 0.8448946 (200)\ttotal: 551ms\tremaining: 271ms\n",
      "299:\tlearn: 0.9442106\ttest: 0.8659396\tbest: 0.8665799 (296)\ttotal: 825ms\tremaining: 0us\n",
      "\n",
      "bestTest = 0.8665798685\n",
      "bestIteration = 296\n",
      "\n",
      "52:\tloss: 0.8665799\tbest: 0.8947750 (50)\ttotal: 24.6s\tremaining: 1m 34s\n",
      "0:\tlearn: 0.6999855\ttest: 0.6821765\tbest: 0.6821765 (0)\ttotal: 2.78ms\tremaining: 832ms\n",
      "200:\tlearn: 0.9468701\ttest: 0.8712897\tbest: 0.8712897 (200)\ttotal: 563ms\tremaining: 277ms\n",
      "299:\tlearn: 0.9625060\ttest: 0.8819972\tbest: 0.8830502 (285)\ttotal: 840ms\tremaining: 0us\n",
      "\n",
      "bestTest = 0.8830501722\n",
      "bestIteration = 285\n",
      "\n",
      "53:\tloss: 0.8830502\tbest: 0.8947750 (50)\ttotal: 25.5s\tremaining: 1m 35s\n",
      "0:\tlearn: 0.6999855\ttest: 0.6821765\tbest: 0.6821765 (0)\ttotal: 2.69ms\tremaining: 806ms\n",
      "200:\tlearn: 0.9595663\ttest: 0.8846865\tbest: 0.8846865 (200)\ttotal: 551ms\tremaining: 272ms\n",
      "299:\tlearn: 0.9740765\ttest: 0.8836336\tbest: 0.8874399 (216)\ttotal: 846ms\tremaining: 0us\n",
      "\n",
      "bestTest = 0.8874398816\n",
      "bestIteration = 216\n",
      "\n",
      "54:\tloss: 0.8874399\tbest: 0.8947750 (50)\ttotal: 26.3s\tremaining: 1m 36s\n",
      "0:\tlearn: 0.6999855\ttest: 0.6821765\tbest: 0.6821765 (0)\ttotal: 3.06ms\tremaining: 915ms\n",
      "200:\tlearn: 0.9716565\ttest: 0.8848288\tbest: 0.8879023 (188)\ttotal: 566ms\tremaining: 279ms\n",
      "299:\tlearn: 0.9809266\ttest: 0.8824597\tbest: 0.8879023 (188)\ttotal: 849ms\tremaining: 0us\n",
      "\n",
      "bestTest = 0.8879023307\n",
      "bestIteration = 188\n",
      "\n",
      "55:\tloss: 0.8879023\tbest: 0.8947750 (50)\ttotal: 27.2s\tremaining: 1m 37s\n",
      "0:\tlearn: 0.6999855\ttest: 0.6821765\tbest: 0.6821765 (0)\ttotal: 2.66ms\tremaining: 794ms\n",
      "200:\tlearn: 0.9171562\ttest: 0.8539443\tbest: 0.8539443 (200)\ttotal: 556ms\tremaining: 274ms\n",
      "299:\tlearn: 0.9398822\ttest: 0.8695395\tbest: 0.8695609 (298)\ttotal: 885ms\tremaining: 0us\n",
      "\n",
      "bestTest = 0.8695608868\n",
      "bestIteration = 298\n",
      "\n",
      "56:\tloss: 0.8695609\tbest: 0.8947750 (50)\ttotal: 28.1s\tremaining: 1m 37s\n",
      "0:\tlearn: 0.6999855\ttest: 0.6821765\tbest: 0.6821765 (0)\ttotal: 2.7ms\tremaining: 808ms\n",
      "200:\tlearn: 0.9444331\ttest: 0.8676257\tbest: 0.8676257 (200)\ttotal: 550ms\tremaining: 271ms\n",
      "299:\tlearn: 0.9607775\ttest: 0.8824312\tbest: 0.8824312 (299)\ttotal: 821ms\tremaining: 0us\n",
      "\n",
      "bestTest = 0.8824312018\n",
      "bestIteration = 299\n",
      "\n",
      "57:\tloss: 0.8824312\tbest: 0.8947750 (50)\ttotal: 28.9s\tremaining: 1m 38s\n",
      "0:\tlearn: 0.6999855\ttest: 0.6821765\tbest: 0.6821765 (0)\ttotal: 2.56ms\tremaining: 766ms\n",
      "200:\tlearn: 0.9573821\ttest: 0.8864865\tbest: 0.8864865 (199)\ttotal: 549ms\tremaining: 270ms\n",
      "299:\tlearn: 0.9730346\ttest: 0.8882225\tbest: 0.8903142 (239)\ttotal: 831ms\tremaining: 0us\n",
      "\n",
      "bestTest = 0.8903141808\n",
      "bestIteration = 239\n",
      "\n",
      "58:\tloss: 0.8903142\tbest: 0.8947750 (50)\ttotal: 29.7s\tremaining: 1m 39s\n",
      "0:\tlearn: 0.6999855\ttest: 0.6821765\tbest: 0.6821765 (0)\ttotal: 3.41ms\tremaining: 1.02s\n",
      "200:\tlearn: 0.9665086\ttest: 0.8926122\tbest: 0.8930106 (194)\ttotal: 568ms\tremaining: 280ms\n",
      "299:\tlearn: 0.9797708\ttest: 0.8957142\tbest: 0.8985173 (283)\ttotal: 850ms\tremaining: 0us\n",
      "\n",
      "bestTest = 0.8985173169\n",
      "bestIteration = 283\n",
      "\n",
      "59:\tloss: 0.8985173\tbest: 0.8985173 (59)\ttotal: 30.6s\tremaining: 1m 39s\n",
      "0:\tlearn: 0.6999855\ttest: 0.6821765\tbest: 0.6821765 (0)\ttotal: 2.79ms\tremaining: 836ms\n",
      "200:\tlearn: 0.9102838\ttest: 0.8435143\tbest: 0.8435143 (200)\ttotal: 567ms\tremaining: 279ms\n",
      "299:\tlearn: 0.9348095\ttest: 0.8567475\tbest: 0.8569182 (298)\ttotal: 844ms\tremaining: 0us\n",
      "\n",
      "bestTest = 0.856918239\n",
      "bestIteration = 298\n",
      "\n",
      "60:\tloss: 0.8569182\tbest: 0.8985173 (59)\ttotal: 31.4s\tremaining: 1m 40s\n",
      "0:\tlearn: 0.6999855\ttest: 0.6821765\tbest: 0.6821765 (0)\ttotal: 2.79ms\tremaining: 833ms\n",
      "200:\tlearn: 0.9296582\ttest: 0.8552534\tbest: 0.8554384 (199)\ttotal: 575ms\tremaining: 283ms\n",
      "299:\tlearn: 0.9535021\ttest: 0.8687000\tbest: 0.8687641 (298)\ttotal: 853ms\tremaining: 0us\n",
      "\n",
      "bestTest = 0.8687640513\n",
      "bestIteration = 298\n",
      "\n",
      "61:\tloss: 0.8687641\tbest: 0.8985173 (59)\ttotal: 32.3s\tremaining: 1m 41s\n",
      "0:\tlearn: 0.6999855\ttest: 0.6821765\tbest: 0.6821765 (0)\ttotal: 2.77ms\tremaining: 829ms\n",
      "200:\tlearn: 0.9528344\ttest: 0.8663309\tbest: 0.8681522 (197)\ttotal: 560ms\tremaining: 276ms\n",
      "299:\tlearn: 0.9712700\ttest: 0.8841529\tbest: 0.8842170 (295)\ttotal: 842ms\tremaining: 0us\n",
      "\n",
      "bestTest = 0.8842169669\n",
      "bestIteration = 295\n",
      "\n",
      "62:\tloss: 0.8842170\tbest: 0.8985173 (59)\ttotal: 33.1s\tremaining: 1m 41s\n",
      "0:\tlearn: 0.6999855\ttest: 0.6821765\tbest: 0.6821765 (0)\ttotal: 2.66ms\tremaining: 795ms\n",
      "200:\tlearn: 0.9643668\ttest: 0.8830857\tbest: 0.8842525 (183)\ttotal: 568ms\tremaining: 280ms\n",
      "299:\tlearn: 0.9762855\ttest: 0.8808518\tbest: 0.8879877 (210)\ttotal: 845ms\tremaining: 0us\n",
      "\n",
      "bestTest = 0.887987706\n",
      "bestIteration = 210\n",
      "\n",
      "63:\tloss: 0.8879877\tbest: 0.8985173 (59)\ttotal: 34s\tremaining: 1m 41s\n",
      "0:\tlearn: 0.7452388\ttest: 0.7004183\tbest: 0.7004183 (0)\ttotal: 3.1ms\tremaining: 307ms\n",
      "99:\tlearn: 0.9396547\ttest: 0.8381286\tbest: 0.8381286 (99)\ttotal: 307ms\tremaining: 0us\n",
      "\n",
      "bestTest = 0.8381285751\n",
      "bestIteration = 99\n",
      "\n",
      "64:\tloss: 0.8381286\tbest: 0.8985173 (59)\ttotal: 34.3s\tremaining: 1m 40s\n",
      "0:\tlearn: 0.7452388\ttest: 0.7004183\tbest: 0.7004183 (0)\ttotal: 2.88ms\tremaining: 285ms\n",
      "99:\tlearn: 0.9665999\ttest: 0.8661601\tbest: 0.8670067 (93)\ttotal: 318ms\tremaining: 0us\n",
      "\n",
      "bestTest = 0.8670067446\n",
      "bestIteration = 93\n",
      "\n",
      "65:\tloss: 0.8670067\tbest: 0.8985173 (59)\ttotal: 34.6s\tremaining: 1m 39s\n",
      "0:\tlearn: 0.7452388\ttest: 0.7004183\tbest: 0.7004183 (0)\ttotal: 2.9ms\tremaining: 287ms\n",
      "99:\tlearn: 0.9750885\ttest: 0.8808162\tbest: 0.8813711 (90)\ttotal: 315ms\tremaining: 0us\n",
      "\n",
      "bestTest = 0.8813711261\n",
      "bestIteration = 90\n",
      "\n",
      "66:\tloss: 0.8813711\tbest: 0.8985173 (59)\ttotal: 34.9s\tremaining: 1m 38s\n",
      "0:\tlearn: 0.7452388\ttest: 0.7004183\tbest: 0.7004183 (0)\ttotal: 2.99ms\tremaining: 296ms\n",
      "99:\tlearn: 0.9846021\ttest: 0.8799980\tbest: 0.8801830 (96)\ttotal: 312ms\tremaining: 0us\n",
      "\n",
      "bestTest = 0.8801829876\n",
      "bestIteration = 96\n",
      "\n",
      "67:\tloss: 0.8801830\tbest: 0.8985173 (59)\ttotal: 35.2s\tremaining: 1m 37s\n",
      "0:\tlearn: 0.7452388\ttest: 0.7004183\tbest: 0.7004183 (0)\ttotal: 2.91ms\tremaining: 288ms\n",
      "99:\tlearn: 0.9360594\ttest: 0.8591309\tbest: 0.8602763 (94)\ttotal: 317ms\tremaining: 0us\n",
      "\n",
      "bestTest = 0.8602763311\n",
      "bestIteration = 94\n",
      "\n",
      "68:\tloss: 0.8602763\tbest: 0.8985173 (59)\ttotal: 35.6s\tremaining: 1m 36s\n",
      "0:\tlearn: 0.7452388\ttest: 0.7004183\tbest: 0.7004183 (0)\ttotal: 3.49ms\tremaining: 346ms\n",
      "99:\tlearn: 0.9615247\ttest: 0.8818976\tbest: 0.8818976 (99)\ttotal: 316ms\tremaining: 0us\n",
      "\n",
      "bestTest = 0.8818976066\n",
      "bestIteration = 99\n",
      "\n",
      "69:\tloss: 0.8818976\tbest: 0.8985173 (59)\ttotal: 35.9s\tremaining: 1m 35s\n",
      "0:\tlearn: 0.7452388\ttest: 0.7004183\tbest: 0.7004183 (0)\ttotal: 2.97ms\tremaining: 294ms\n",
      "99:\tlearn: 0.9726249\ttest: 0.8820755\tbest: 0.8841245 (96)\ttotal: 318ms\tremaining: 0us\n",
      "\n",
      "bestTest = 0.8841244771\n",
      "bestIteration = 96\n",
      "\n",
      "70:\tloss: 0.8841245\tbest: 0.8985173 (59)\ttotal: 36.2s\tremaining: 1m 34s\n",
      "0:\tlearn: 0.7452388\ttest: 0.7004183\tbest: 0.7004183 (0)\ttotal: 3.14ms\tremaining: 311ms\n",
      "99:\tlearn: 0.9807513\ttest: 0.8777996\tbest: 0.8813640 (74)\ttotal: 326ms\tremaining: 0us\n",
      "\n",
      "bestTest = 0.8813640115\n",
      "bestIteration = 74\n",
      "\n",
      "71:\tloss: 0.8813640\tbest: 0.8985173 (59)\ttotal: 36.5s\tremaining: 1m 33s\n",
      "0:\tlearn: 0.7452388\ttest: 0.7004183\tbest: 0.7004183 (0)\ttotal: 3.2ms\tremaining: 317ms\n",
      "99:\tlearn: 0.9212696\ttest: 0.8320954\tbest: 0.8341017 (98)\ttotal: 325ms\tremaining: 0us\n",
      "\n",
      "bestTest = 0.8341017104\n",
      "bestIteration = 98\n",
      "\n",
      "72:\tloss: 0.8341017\tbest: 0.8985173 (59)\ttotal: 36.9s\tremaining: 1m 32s\n",
      "0:\tlearn: 0.7452388\ttest: 0.7004183\tbest: 0.7004183 (0)\ttotal: 2.95ms\tremaining: 292ms\n",
      "99:\tlearn: 0.9494404\ttest: 0.8505649\tbest: 0.8510558 (98)\ttotal: 316ms\tremaining: 0us\n",
      "\n",
      "bestTest = 0.8510558069\n",
      "bestIteration = 98\n",
      "\n",
      "73:\tloss: 0.8510558\tbest: 0.8985173 (59)\ttotal: 37.2s\tremaining: 1m 31s\n",
      "0:\tlearn: 0.7452388\ttest: 0.7004183\tbest: 0.7004183 (0)\ttotal: 2.87ms\tremaining: 284ms\n",
      "99:\tlearn: 0.9688897\ttest: 0.8726771\tbest: 0.8726771 (99)\ttotal: 325ms\tremaining: 0us\n",
      "\n",
      "bestTest = 0.8726770824\n",
      "bestIteration = 99\n",
      "\n",
      "74:\tloss: 0.8726771\tbest: 0.8985173 (59)\ttotal: 37.5s\tremaining: 1m 30s\n",
      "0:\tlearn: 0.7452388\ttest: 0.7004183\tbest: 0.7004183 (0)\ttotal: 2.95ms\tremaining: 292ms\n",
      "99:\tlearn: 0.9783479\ttest: 0.8807237\tbest: 0.8807237 (99)\ttotal: 332ms\tremaining: 0us\n",
      "\n",
      "bestTest = 0.8807236973\n",
      "bestIteration = 99\n",
      "\n",
      "75:\tloss: 0.8807237\tbest: 0.8985173 (59)\ttotal: 37.8s\tremaining: 1m 29s\n",
      "0:\tlearn: 0.7452388\ttest: 0.7004183\tbest: 0.7004183 (0)\ttotal: 3.62ms\tremaining: 358ms\n",
      "99:\tlearn: 0.9175114\ttest: 0.8266812\tbest: 0.8284385 (81)\ttotal: 333ms\tremaining: 0us\n",
      "\n",
      "bestTest = 0.8284384872\n",
      "bestIteration = 81\n",
      "\n",
      "76:\tloss: 0.8284385\tbest: 0.8985173 (59)\ttotal: 38.2s\tremaining: 1m 28s\n",
      "0:\tlearn: 0.7452388\ttest: 0.7004183\tbest: 0.7004183 (0)\ttotal: 2.92ms\tremaining: 289ms\n",
      "99:\tlearn: 0.9508027\ttest: 0.8712968\tbest: 0.8712968 (99)\ttotal: 314ms\tremaining: 0us\n",
      "\n",
      "bestTest = 0.8712968497\n",
      "bestIteration = 99\n",
      "\n",
      "77:\tloss: 0.8712968\tbest: 0.8985173 (59)\ttotal: 38.5s\tremaining: 1m 27s\n",
      "0:\tlearn: 0.7452388\ttest: 0.7004183\tbest: 0.7004183 (0)\ttotal: 2.91ms\tremaining: 289ms\n",
      "99:\tlearn: 0.9672066\ttest: 0.8667150\tbest: 0.8673269 (98)\ttotal: 312ms\tremaining: 0us\n",
      "\n",
      "bestTest = 0.8673269017\n",
      "bestIteration = 98\n",
      "\n",
      "78:\tloss: 0.8673269\tbest: 0.8985173 (59)\ttotal: 38.8s\tremaining: 1m 26s\n",
      "0:\tlearn: 0.7452388\ttest: 0.7004183\tbest: 0.7004183 (0)\ttotal: 2.91ms\tremaining: 288ms\n",
      "99:\tlearn: 0.9738073\ttest: 0.8758715\tbest: 0.8762771 (97)\ttotal: 322ms\tremaining: 0us\n",
      "\n",
      "bestTest = 0.8762770711\n",
      "bestIteration = 97\n",
      "\n",
      "79:\tloss: 0.8762771\tbest: 0.8985173 (59)\ttotal: 39.1s\tremaining: 1m 26s\n",
      "0:\tlearn: 0.7452388\ttest: 0.7004183\tbest: 0.7004183 (0)\ttotal: 2.87ms\tremaining: 428ms\n",
      "149:\tlearn: 0.9679545\ttest: 0.8611159\tbest: 0.8611159 (149)\ttotal: 475ms\tremaining: 0us\n",
      "\n",
      "bestTest = 0.8611158542\n",
      "bestIteration = 149\n",
      "\n",
      "80:\tloss: 0.8611159\tbest: 0.8985173 (59)\ttotal: 39.6s\tremaining: 1m 25s\n",
      "0:\tlearn: 0.7452388\ttest: 0.7004183\tbest: 0.7004183 (0)\ttotal: 3.04ms\tremaining: 453ms\n",
      "149:\tlearn: 0.9811812\ttest: 0.8683372\tbest: 0.8701941 (108)\ttotal: 470ms\tremaining: 0us\n",
      "\n",
      "bestTest = 0.8701940863\n",
      "bestIteration = 108\n",
      "\n",
      "81:\tloss: 0.8701941\tbest: 0.8985173 (59)\ttotal: 40.1s\tremaining: 1m 25s\n",
      "0:\tlearn: 0.7452388\ttest: 0.7004183\tbest: 0.7004183 (0)\ttotal: 2.96ms\tremaining: 442ms\n",
      "149:\tlearn: 0.9908689\ttest: 0.8883790\tbest: 0.8884146 (147)\ttotal: 468ms\tremaining: 0us\n",
      "\n",
      "bestTest = 0.8884145821\n",
      "bestIteration = 147\n",
      "\n",
      "82:\tloss: 0.8884146\tbest: 0.8985173 (59)\ttotal: 40.6s\tremaining: 1m 24s\n",
      "0:\tlearn: 0.7452388\ttest: 0.7004183\tbest: 0.7004183 (0)\ttotal: 3.12ms\tremaining: 465ms\n",
      "149:\tlearn: 0.9950744\ttest: 0.8906201\tbest: 0.8941418 (145)\ttotal: 472ms\tremaining: 0us\n",
      "\n",
      "bestTest = 0.8941418367\n",
      "bestIteration = 145\n",
      "\n",
      "83:\tloss: 0.8941418\tbest: 0.8985173 (59)\ttotal: 41s\tremaining: 1m 24s\n",
      "0:\tlearn: 0.7452388\ttest: 0.7004183\tbest: 0.7004183 (0)\ttotal: 2.87ms\tremaining: 428ms\n",
      "149:\tlearn: 0.9620230\ttest: 0.8718091\tbest: 0.8722502 (147)\ttotal: 476ms\tremaining: 0us\n",
      "\n",
      "bestTest = 0.8722502063\n",
      "bestIteration = 147\n",
      "\n",
      "84:\tloss: 0.8722502\tbest: 0.8985173 (59)\ttotal: 41.5s\tremaining: 1m 23s\n",
      "0:\tlearn: 0.7452388\ttest: 0.7004183\tbest: 0.7004183 (0)\ttotal: 3.02ms\tremaining: 449ms\n",
      "149:\tlearn: 0.9817797\ttest: 0.8884502\tbest: 0.8904636 (132)\ttotal: 494ms\tremaining: 0us\n",
      "\n",
      "bestTest = 0.8904635875\n",
      "bestIteration = 132\n",
      "\n",
      "85:\tloss: 0.8904636\tbest: 0.8985173 (59)\ttotal: 42s\tremaining: 1m 23s\n",
      "0:\tlearn: 0.7452388\ttest: 0.7004183\tbest: 0.7004183 (0)\ttotal: 2.98ms\tremaining: 445ms\n",
      "149:\tlearn: 0.9864567\ttest: 0.8841529\tbest: 0.8906699 (131)\ttotal: 464ms\tremaining: 0us\n",
      "\n",
      "bestTest = 0.8906699109\n",
      "bestIteration = 131\n",
      "\n",
      "86:\tloss: 0.8906699\tbest: 0.8985173 (59)\ttotal: 42.5s\tremaining: 1m 22s\n",
      "0:\tlearn: 0.7452388\ttest: 0.7004183\tbest: 0.7004183 (0)\ttotal: 3.1ms\tremaining: 461ms\n",
      "149:\tlearn: 0.9914810\ttest: 0.8913031\tbest: 0.8913031 (149)\ttotal: 467ms\tremaining: 0us\n",
      "\n",
      "bestTest = 0.8913031105\n",
      "bestIteration = 149\n",
      "\n",
      "87:\tloss: 0.8913031\tbest: 0.8985173 (59)\ttotal: 43s\tremaining: 1m 21s\n",
      "0:\tlearn: 0.7452388\ttest: 0.7004183\tbest: 0.7004183 (0)\ttotal: 3.17ms\tremaining: 472ms\n",
      "149:\tlearn: 0.9576867\ttest: 0.8649649\tbest: 0.8651641 (148)\ttotal: 467ms\tremaining: 0us\n",
      "\n",
      "bestTest = 0.8651640627\n",
      "bestIteration = 148\n",
      "\n",
      "88:\tloss: 0.8651641\tbest: 0.8985173 (59)\ttotal: 43.4s\tremaining: 1m 21s\n",
      "0:\tlearn: 0.7452388\ttest: 0.7004183\tbest: 0.7004183 (0)\ttotal: 2.94ms\tremaining: 438ms\n",
      "149:\tlearn: 0.9751886\ttest: 0.8682589\tbest: 0.8731395 (126)\ttotal: 466ms\tremaining: 0us\n",
      "\n",
      "bestTest = 0.8731395316\n",
      "bestIteration = 126\n",
      "\n",
      "89:\tloss: 0.8731395\tbest: 0.8985173 (59)\ttotal: 43.9s\tremaining: 1m 20s\n",
      "0:\tlearn: 0.7452388\ttest: 0.7004183\tbest: 0.7004183 (0)\ttotal: 3.05ms\tremaining: 455ms\n",
      "149:\tlearn: 0.9850742\ttest: 0.8805103\tbest: 0.8815205 (138)\ttotal: 469ms\tremaining: 0us\n",
      "\n",
      "bestTest = 0.8815205327\n",
      "bestIteration = 138\n",
      "\n",
      "90:\tloss: 0.8815205\tbest: 0.8985173 (59)\ttotal: 44.4s\tremaining: 1m 20s\n",
      "0:\tlearn: 0.7452388\ttest: 0.7004183\tbest: 0.7004183 (0)\ttotal: 2.87ms\tremaining: 427ms\n",
      "149:\tlearn: 0.9906283\ttest: 0.8826802\tbest: 0.8827442 (148)\ttotal: 474ms\tremaining: 0us\n",
      "\n",
      "bestTest = 0.8827442443\n",
      "bestIteration = 148\n",
      "\n",
      "91:\tloss: 0.8827442\tbest: 0.8985173 (59)\ttotal: 44.8s\tremaining: 1m 19s\n",
      "0:\tlearn: 0.7452388\ttest: 0.7004183\tbest: 0.7004183 (0)\ttotal: 2.91ms\tremaining: 434ms\n",
      "149:\tlearn: 0.9482394\ttest: 0.8481388\tbest: 0.8490353 (148)\ttotal: 476ms\tremaining: 0us\n",
      "\n",
      "bestTest = 0.84903526\n",
      "bestIteration = 148\n",
      "\n",
      "92:\tloss: 0.8490353\tbest: 0.8985173 (59)\ttotal: 45.3s\tremaining: 1m 19s\n",
      "0:\tlearn: 0.7452388\ttest: 0.7004183\tbest: 0.7004183 (0)\ttotal: 3.1ms\tremaining: 462ms\n",
      "149:\tlearn: 0.9725701\ttest: 0.8773016\tbest: 0.8773016 (149)\ttotal: 486ms\tremaining: 0us\n",
      "\n",
      "bestTest = 0.8773015737\n",
      "bestIteration = 149\n",
      "\n",
      "93:\tloss: 0.8773016\tbest: 0.8985173 (59)\ttotal: 45.8s\tremaining: 1m 18s\n",
      "0:\tlearn: 0.7452388\ttest: 0.7004183\tbest: 0.7004183 (0)\ttotal: 2.95ms\tremaining: 439ms\n",
      "149:\tlearn: 0.9833619\ttest: 0.8813782\tbest: 0.8821608 (145)\ttotal: 486ms\tremaining: 0us\n",
      "\n",
      "bestTest = 0.8821608469\n",
      "bestIteration = 145\n",
      "\n",
      "94:\tloss: 0.8821608\tbest: 0.8985173 (59)\ttotal: 46.3s\tremaining: 1m 18s\n",
      "0:\tlearn: 0.7452388\ttest: 0.7004183\tbest: 0.7004183 (0)\ttotal: 2.97ms\tremaining: 442ms\n",
      "149:\tlearn: 0.9889153\ttest: 0.8849213\tbest: 0.8877529 (132)\ttotal: 473ms\tremaining: 0us\n",
      "\n",
      "bestTest = 0.8877529241\n",
      "bestIteration = 132\n",
      "\n",
      "95:\tloss: 0.8877529\tbest: 0.8985173 (59)\ttotal: 46.8s\tremaining: 1m 17s\n",
      "0:\tlearn: 0.7679094\ttest: 0.7222531\tbest: 0.7222531 (0)\ttotal: 3.97ms\tremaining: 790ms\n",
      "199:\tlearn: 0.9776287\ttest: 0.8733459\tbest: 0.8735095 (198)\ttotal: 780ms\tremaining: 0us\n",
      "\n",
      "bestTest = 0.8735094909\n",
      "bestIteration = 198\n",
      "\n",
      "96:\tloss: 0.8735095\tbest: 0.8985173 (59)\ttotal: 47.6s\tremaining: 1m 17s\n",
      "0:\tlearn: 0.7679094\ttest: 0.7222531\tbest: 0.7222531 (0)\ttotal: 3.67ms\tremaining: 731ms\n",
      "199:\tlearn: 0.9899960\ttest: 0.8844446\tbest: 0.8844446 (199)\ttotal: 854ms\tremaining: 0us\n",
      "\n",
      "bestTest = 0.8844446342\n",
      "bestIteration = 199\n",
      "\n",
      "97:\tloss: 0.8844446\tbest: 0.8985173 (59)\ttotal: 48.4s\tremaining: 1m 18s\n",
      "0:\tlearn: 0.7679094\ttest: 0.7222531\tbest: 0.7222531 (0)\ttotal: 3.85ms\tremaining: 766ms\n",
      "199:\tlearn: 0.9962407\ttest: 0.8795854\tbest: 0.8800834 (162)\ttotal: 772ms\tremaining: 0us\n",
      "\n",
      "bestTest = 0.8800833831\n",
      "bestIteration = 162\n",
      "\n",
      "98:\tloss: 0.8800834\tbest: 0.8985173 (59)\ttotal: 49.2s\tremaining: 1m 18s\n",
      "0:\tlearn: 0.7679094\ttest: 0.7222531\tbest: 0.7222531 (0)\ttotal: 3.75ms\tremaining: 747ms\n",
      "199:\tlearn: 0.9980406\ttest: 0.8864865\tbest: 0.8870486 (197)\ttotal: 755ms\tremaining: 0us\n",
      "\n",
      "bestTest = 0.8870485785\n",
      "bestIteration = 197\n",
      "\n",
      "99:\tloss: 0.8870486\tbest: 0.8985173 (59)\ttotal: 50s\tremaining: 1m 17s\n",
      "0:\tlearn: 0.7679094\ttest: 0.7222531\tbest: 0.7222531 (0)\ttotal: 3.75ms\tremaining: 747ms\n",
      "199:\tlearn: 0.9766488\ttest: 0.8746123\tbest: 0.8757079 (191)\ttotal: 780ms\tremaining: 0us\n",
      "\n",
      "bestTest = 0.8757079029\n",
      "bestIteration = 191\n",
      "\n",
      "100:\tloss: 0.8757079\tbest: 0.8985173 (59)\ttotal: 50.7s\tremaining: 1m 17s\n",
      "0:\tlearn: 0.7679094\ttest: 0.7222531\tbest: 0.7222531 (0)\ttotal: 3.73ms\tremaining: 743ms\n",
      "199:\tlearn: 0.9885312\ttest: 0.8767253\tbest: 0.8842810 (145)\ttotal: 773ms\tremaining: 0us\n",
      "\n",
      "bestTest = 0.8842809983\n",
      "bestIteration = 145\n",
      "\n",
      "101:\tloss: 0.8842810\tbest: 0.8985173 (59)\ttotal: 51.5s\tremaining: 1m 17s\n",
      "0:\tlearn: 0.7679094\ttest: 0.7222531\tbest: 0.7222531 (0)\ttotal: 3.86ms\tremaining: 768ms\n",
      "199:\tlearn: 0.9933627\ttest: 0.8763696\tbest: 0.8781055 (119)\ttotal: 790ms\tremaining: 0us\n",
      "\n",
      "bestTest = 0.8781055238\n",
      "bestIteration = 119\n",
      "\n",
      "102:\tloss: 0.8781055\tbest: 0.8985173 (59)\ttotal: 52.3s\tremaining: 1m 17s\n",
      "0:\tlearn: 0.7679094\ttest: 0.7222531\tbest: 0.7222531 (0)\ttotal: 3.88ms\tremaining: 773ms\n",
      "199:\tlearn: 0.9973970\ttest: 0.8901292\tbest: 0.8901861 (198)\ttotal: 770ms\tremaining: 0us\n",
      "\n",
      "bestTest = 0.890186118\n",
      "bestIteration = 198\n",
      "\n",
      "103:\tloss: 0.8901861\tbest: 0.8985173 (59)\ttotal: 53.1s\tremaining: 1m 17s\n",
      "0:\tlearn: 0.7679094\ttest: 0.7222531\tbest: 0.7222531 (0)\ttotal: 4.41ms\tremaining: 878ms\n",
      "199:\tlearn: 0.9711672\ttest: 0.8632218\tbest: 0.8632218 (199)\ttotal: 772ms\tremaining: 0us\n",
      "\n",
      "bestTest = 0.8632217764\n",
      "bestIteration = 199\n",
      "\n",
      "104:\tloss: 0.8632218\tbest: 0.8985173 (59)\ttotal: 53.9s\tremaining: 1m 17s\n",
      "0:\tlearn: 0.7679094\ttest: 0.7222531\tbest: 0.7222531 (0)\ttotal: 3.86ms\tremaining: 768ms\n",
      "199:\tlearn: 0.9866033\ttest: 0.8843735\tbest: 0.8849996 (188)\ttotal: 774ms\tremaining: 0us\n",
      "\n",
      "bestTest = 0.8849995731\n",
      "bestIteration = 188\n",
      "\n",
      "105:\tloss: 0.8849996\tbest: 0.8985173 (59)\ttotal: 54.6s\tremaining: 1m 17s\n",
      "0:\tlearn: 0.7679094\ttest: 0.7222531\tbest: 0.7222531 (0)\ttotal: 3.89ms\tremaining: 775ms\n",
      "199:\tlearn: 0.9937141\ttest: 0.8788810\tbest: 0.8804889 (160)\ttotal: 781ms\tremaining: 0us\n",
      "\n",
      "bestTest = 0.8804889155\n",
      "bestIteration = 160\n",
      "\n",
      "106:\tloss: 0.8804889\tbest: 0.8985173 (59)\ttotal: 55.4s\tremaining: 1m 17s\n",
      "0:\tlearn: 0.7679094\ttest: 0.7222531\tbest: 0.7222531 (0)\ttotal: 4.28ms\tremaining: 853ms\n",
      "199:\tlearn: 0.9951622\ttest: 0.8899727\tbest: 0.8916019 (197)\ttotal: 774ms\tremaining: 0us\n",
      "\n",
      "bestTest = 0.8916019238\n",
      "bestIteration = 197\n",
      "\n",
      "107:\tloss: 0.8916019\tbest: 0.8985173 (59)\ttotal: 56.2s\tremaining: 1m 17s\n",
      "0:\tlearn: 0.7679094\ttest: 0.7222531\tbest: 0.7222531 (0)\ttotal: 3.91ms\tremaining: 779ms\n",
      "199:\tlearn: 0.9673220\ttest: 0.8661672\tbest: 0.8668147 (196)\ttotal: 765ms\tremaining: 0us\n",
      "\n",
      "bestTest = 0.8668146504\n",
      "bestIteration = 196\n",
      "\n",
      "108:\tloss: 0.8668147\tbest: 0.8985173 (59)\ttotal: 57s\tremaining: 1m 16s\n",
      "0:\tlearn: 0.7679094\ttest: 0.7222531\tbest: 0.7222531 (0)\ttotal: 4.61ms\tremaining: 918ms\n",
      "199:\tlearn: 0.9843168\ttest: 0.8868992\tbest: 0.8868992 (199)\ttotal: 868ms\tremaining: 0us\n",
      "\n",
      "bestTest = 0.8868991719\n",
      "bestIteration = 199\n",
      "\n",
      "109:\tloss: 0.8868992\tbest: 0.8985173 (59)\ttotal: 57.8s\tremaining: 1m 16s\n",
      "0:\tlearn: 0.7679094\ttest: 0.7222531\tbest: 0.7222531 (0)\ttotal: 4.65ms\tremaining: 926ms\n",
      "199:\tlearn: 0.9923541\ttest: 0.8768605\tbest: 0.8782976 (195)\ttotal: 865ms\tremaining: 0us\n",
      "\n",
      "bestTest = 0.878297618\n",
      "bestIteration = 195\n",
      "\n",
      "110:\tloss: 0.8782976\tbest: 0.8985173 (59)\ttotal: 58.7s\tremaining: 1m 16s\n",
      "0:\tlearn: 0.7679094\ttest: 0.7222531\tbest: 0.7222531 (0)\ttotal: 4.06ms\tremaining: 808ms\n",
      "199:\tlearn: 0.9948882\ttest: 0.8882154\tbest: 0.8888841 (187)\ttotal: 839ms\tremaining: 0us\n",
      "\n",
      "bestTest = 0.8888841458\n",
      "bestIteration = 187\n",
      "\n",
      "111:\tloss: 0.8888841\tbest: 0.8985173 (59)\ttotal: 59.6s\tremaining: 1m 16s\n",
      "0:\tlearn: 0.7679094\ttest: 0.7222531\tbest: 0.7222531 (0)\ttotal: 3.8ms\tremaining: 1.14s\n",
      "200:\tlearn: 0.9776619\ttest: 0.8732605\tbest: 0.8735095 (198)\ttotal: 826ms\tremaining: 407ms\n",
      "299:\tlearn: 0.9915734\ttest: 0.8846083\tbest: 0.8860241 (291)\ttotal: 1.24s\tremaining: 0us\n",
      "\n",
      "bestTest = 0.8860240758\n",
      "bestIteration = 291\n",
      "\n",
      "112:\tloss: 0.8860241\tbest: 0.8985173 (59)\ttotal: 1m\tremaining: 1m 16s\n",
      "0:\tlearn: 0.7679094\ttest: 0.7222531\tbest: 0.7222531 (0)\ttotal: 4.08ms\tremaining: 1.22s\n",
      "200:\tlearn: 0.9900670\ttest: 0.8841031\tbest: 0.8844446 (199)\ttotal: 844ms\tremaining: 416ms\n",
      "299:\tlearn: 0.9972635\ttest: 0.8930462\tbest: 0.8945189 (236)\ttotal: 1.27s\tremaining: 0us\n",
      "\n",
      "bestTest = 0.8945189106\n",
      "bestIteration = 236\n",
      "\n",
      "113:\tloss: 0.8945189\tbest: 0.8985173 (59)\ttotal: 1m 2s\tremaining: 1m 17s\n",
      "0:\tlearn: 0.7679094\ttest: 0.7222531\tbest: 0.7222531 (0)\ttotal: 3.96ms\tremaining: 1.18s\n",
      "200:\tlearn: 0.9962454\ttest: 0.8796280\tbest: 0.8800834 (162)\ttotal: 839ms\tremaining: 413ms\n",
      "299:\tlearn: 0.9994219\ttest: 0.8837830\tbest: 0.8837830 (299)\ttotal: 1.25s\tremaining: 0us\n",
      "\n",
      "bestTest = 0.8837829762\n",
      "bestIteration = 299\n",
      "\n",
      "114:\tloss: 0.8837830\tbest: 0.8985173 (59)\ttotal: 1m 3s\tremaining: 1m 17s\n",
      "0:\tlearn: 0.7679094\ttest: 0.7222531\tbest: 0.7222531 (0)\ttotal: 3.76ms\tremaining: 1.12s\n",
      "200:\tlearn: 0.9980838\ttest: 0.8860810\tbest: 0.8870486 (197)\ttotal: 832ms\tremaining: 410ms\n",
      "299:\tlearn: 0.9998661\ttest: 0.8929466\tbest: 0.8935656 (294)\ttotal: 1.23s\tremaining: 0us\n",
      "\n",
      "bestTest = 0.8935655539\n",
      "bestIteration = 294\n",
      "\n",
      "115:\tloss: 0.8935656\tbest: 0.8985173 (59)\ttotal: 1m 4s\tremaining: 1m 17s\n",
      "0:\tlearn: 0.7679094\ttest: 0.7222531\tbest: 0.7222531 (0)\ttotal: 3.76ms\tremaining: 1.12s\n",
      "200:\tlearn: 0.9769163\ttest: 0.8754660\tbest: 0.8757079 (191)\ttotal: 783ms\tremaining: 386ms\n",
      "299:\tlearn: 0.9896836\ttest: 0.8840960\tbest: 0.8848217 (290)\ttotal: 1.17s\tremaining: 0us\n",
      "\n",
      "bestTest = 0.8848217081\n",
      "bestIteration = 290\n",
      "\n",
      "116:\tloss: 0.8848217\tbest: 0.8985173 (59)\ttotal: 1m 5s\tremaining: 1m 18s\n",
      "0:\tlearn: 0.7679094\ttest: 0.7222531\tbest: 0.7222531 (0)\ttotal: 3.74ms\tremaining: 1.12s\n",
      "200:\tlearn: 0.9888616\ttest: 0.8787743\tbest: 0.8842810 (145)\ttotal: 770ms\tremaining: 379ms\n",
      "299:\tlearn: 0.9959796\ttest: 0.8882723\tbest: 0.8915165 (275)\ttotal: 1.15s\tremaining: 0us\n",
      "\n",
      "bestTest = 0.8915165486\n",
      "bestIteration = 275\n",
      "\n",
      "117:\tloss: 0.8915165\tbest: 0.8985173 (59)\ttotal: 1m 6s\tremaining: 1m 18s\n",
      "0:\tlearn: 0.7679094\ttest: 0.7222531\tbest: 0.7222531 (0)\ttotal: 3.77ms\tremaining: 1.13s\n",
      "200:\tlearn: 0.9933867\ttest: 0.8763696\tbest: 0.8781055 (119)\ttotal: 786ms\tremaining: 387ms\n",
      "299:\tlearn: 0.9985570\ttest: 0.8858249\tbest: 0.8879094 (286)\ttotal: 1.21s\tremaining: 0us\n",
      "\n",
      "bestTest = 0.8879094453\n",
      "bestIteration = 286\n",
      "\n",
      "118:\tloss: 0.8879094\tbest: 0.8985173 (59)\ttotal: 1m 8s\tremaining: 1m 18s\n",
      "0:\tlearn: 0.7679094\ttest: 0.7222531\tbest: 0.7222531 (0)\ttotal: 3.72ms\tremaining: 1.11s\n",
      "200:\tlearn: 0.9975078\ttest: 0.8893751\tbest: 0.8901861 (198)\ttotal: 769ms\tremaining: 379ms\n",
      "299:\tlearn: 0.9996914\ttest: 0.8970873\tbest: 0.8973932 (297)\ttotal: 1.15s\tremaining: 0us\n",
      "\n",
      "bestTest = 0.8973932098\n",
      "bestIteration = 297\n",
      "\n",
      "119:\tloss: 0.8973932\tbest: 0.8985173 (59)\ttotal: 1m 9s\tremaining: 1m 18s\n",
      "0:\tlearn: 0.7679094\ttest: 0.7222531\tbest: 0.7222531 (0)\ttotal: 3.85ms\tremaining: 1.15s\n",
      "200:\tlearn: 0.9713250\ttest: 0.8642392\tbest: 0.8642392 (200)\ttotal: 766ms\tremaining: 377ms\n",
      "299:\tlearn: 0.9860751\ttest: 0.8783759\tbest: 0.8783759 (299)\ttotal: 1.14s\tremaining: 0us\n",
      "\n",
      "bestTest = 0.8783758787\n",
      "bestIteration = 299\n",
      "\n",
      "120:\tloss: 0.8783759\tbest: 0.8985173 (59)\ttotal: 1m 10s\tremaining: 1m 18s\n",
      "0:\tlearn: 0.7679094\ttest: 0.7222531\tbest: 0.7222531 (0)\ttotal: 3.89ms\tremaining: 1.16s\n",
      "200:\tlearn: 0.9866394\ttest: 0.8843593\tbest: 0.8849996 (188)\ttotal: 764ms\tremaining: 376ms\n",
      "299:\tlearn: 0.9949493\ttest: 0.8905703\tbest: 0.8908691 (272)\ttotal: 1.14s\tremaining: 0us\n",
      "\n",
      "bestTest = 0.8908691198\n",
      "bestIteration = 272\n",
      "\n",
      "121:\tloss: 0.8908691\tbest: 0.8985173 (59)\ttotal: 1m 11s\tremaining: 1m 18s\n",
      "0:\tlearn: 0.7679094\ttest: 0.7222531\tbest: 0.7222531 (0)\ttotal: 3.95ms\tremaining: 1.18s\n",
      "200:\tlearn: 0.9936898\ttest: 0.8789450\tbest: 0.8804889 (160)\ttotal: 785ms\tremaining: 386ms\n",
      "299:\tlearn: 0.9981544\ttest: 0.8833703\tbest: 0.8848786 (250)\ttotal: 1.18s\tremaining: 0us\n",
      "\n",
      "bestTest = 0.8848786249\n",
      "bestIteration = 250\n",
      "\n",
      "122:\tloss: 0.8848786\tbest: 0.8985173 (59)\ttotal: 1m 12s\tremaining: 1m 18s\n",
      "0:\tlearn: 0.7679094\ttest: 0.7222531\tbest: 0.7222531 (0)\ttotal: 3.88ms\tremaining: 1.16s\n",
      "200:\tlearn: 0.9952545\ttest: 0.8900936\tbest: 0.8916019 (197)\ttotal: 771ms\tremaining: 380ms\n",
      "299:\tlearn: 0.9990440\ttest: 0.8958209\tbest: 0.8958209 (299)\ttotal: 1.16s\tremaining: 0us\n",
      "\n",
      "bestTest = 0.8958208828\n",
      "bestIteration = 299\n",
      "\n",
      "123:\tloss: 0.8958209\tbest: 0.8985173 (59)\ttotal: 1m 13s\tremaining: 1m 18s\n",
      "0:\tlearn: 0.7679094\ttest: 0.7222531\tbest: 0.7222531 (0)\ttotal: 4.15ms\tremaining: 1.24s\n",
      "200:\tlearn: 0.9678023\ttest: 0.8670565\tbest: 0.8670565 (200)\ttotal: 764ms\tremaining: 376ms\n",
      "299:\tlearn: 0.9855142\ttest: 0.8838257\tbest: 0.8839110 (297)\ttotal: 1.15s\tremaining: 0us\n",
      "\n",
      "bestTest = 0.883911039\n",
      "bestIteration = 297\n",
      "\n",
      "124:\tloss: 0.8839110\tbest: 0.8985173 (59)\ttotal: 1m 15s\tremaining: 1m 18s\n",
      "0:\tlearn: 0.7679094\ttest: 0.7222531\tbest: 0.7222531 (0)\ttotal: 3.97ms\tremaining: 1.19s\n",
      "200:\tlearn: 0.9844642\ttest: 0.8856257\tbest: 0.8868992 (199)\ttotal: 773ms\tremaining: 381ms\n",
      "299:\tlearn: 0.9938350\ttest: 0.8941347\tbest: 0.8954296 (280)\ttotal: 1.15s\tremaining: 0us\n",
      "\n",
      "bestTest = 0.8954295797\n",
      "bestIteration = 280\n",
      "\n",
      "125:\tloss: 0.8954296\tbest: 0.8985173 (59)\ttotal: 1m 16s\tremaining: 1m 18s\n",
      "0:\tlearn: 0.7679094\ttest: 0.7222531\tbest: 0.7222531 (0)\ttotal: 4.1ms\tremaining: 1.23s\n",
      "200:\tlearn: 0.9924546\ttest: 0.8766755\tbest: 0.8782976 (195)\ttotal: 790ms\tremaining: 389ms\n",
      "299:\tlearn: 0.9977098\ttest: 0.8896596\tbest: 0.8897237 (297)\ttotal: 1.18s\tremaining: 0us\n",
      "\n",
      "bestTest = 0.8897236689\n",
      "bestIteration = 297\n",
      "\n",
      "126:\tloss: 0.8897237\tbest: 0.8985173 (59)\ttotal: 1m 17s\tremaining: 1m 18s\n",
      "0:\tlearn: 0.7679094\ttest: 0.7222531\tbest: 0.7222531 (0)\ttotal: 3.97ms\tremaining: 1.19s\n",
      "200:\tlearn: 0.9950998\ttest: 0.8881585\tbest: 0.8888841 (187)\ttotal: 836ms\tremaining: 412ms\n",
      "299:\tlearn: 0.9987841\ttest: 0.8881371\tbest: 0.8891047 (293)\ttotal: 1.22s\tremaining: 0us\n",
      "\n",
      "bestTest = 0.8891046985\n",
      "bestIteration = 293\n",
      "\n",
      "127:\tloss: 0.8891047\tbest: 0.8985173 (59)\ttotal: 1m 18s\tremaining: 1m 18s\n",
      "0:\tlearn: 0.7849984\ttest: 0.7270341\tbest: 0.7270341 (0)\ttotal: 4.76ms\tremaining: 471ms\n",
      "99:\tlearn: 0.9736621\ttest: 0.8463531\tbest: 0.8472851 (96)\ttotal: 407ms\tremaining: 0us\n",
      "\n",
      "bestTest = 0.8472850679\n",
      "bestIteration = 96\n",
      "\n",
      "128:\tloss: 0.8472851\tbest: 0.8985173 (59)\ttotal: 1m 19s\tremaining: 1m 17s\n",
      "0:\tlearn: 0.7849984\ttest: 0.7270341\tbest: 0.7270341 (0)\ttotal: 4.37ms\tremaining: 432ms\n",
      "99:\tlearn: 0.9906967\ttest: 0.8412448\tbest: 0.8412448 (99)\ttotal: 407ms\tremaining: 0us\n",
      "\n",
      "bestTest = 0.8412447708\n",
      "bestIteration = 99\n",
      "\n",
      "129:\tloss: 0.8412448\tbest: 0.8985173 (59)\ttotal: 1m 19s\tremaining: 1m 17s\n",
      "0:\tlearn: 0.7849984\ttest: 0.7270341\tbest: 0.7270341 (0)\ttotal: 4.35ms\tremaining: 430ms\n",
      "99:\tlearn: 0.9958897\ttest: 0.8489783\tbest: 0.8496471 (97)\ttotal: 404ms\tremaining: 0us\n",
      "\n",
      "bestTest = 0.8496471157\n",
      "bestIteration = 97\n",
      "\n",
      "130:\tloss: 0.8496471\tbest: 0.8985173 (59)\ttotal: 1m 19s\tremaining: 1m 16s\n",
      "0:\tlearn: 0.7849984\ttest: 0.7270341\tbest: 0.7270341 (0)\ttotal: 4.19ms\tremaining: 415ms\n",
      "99:\tlearn: 0.9974138\ttest: 0.8898019\tbest: 0.8898019 (99)\ttotal: 397ms\tremaining: 0us\n",
      "\n",
      "bestTest = 0.8898019295\n",
      "bestIteration = 99\n",
      "\n",
      "131:\tloss: 0.8898019\tbest: 0.8985173 (59)\ttotal: 1m 20s\tremaining: 1m 15s\n",
      "0:\tlearn: 0.7849984\ttest: 0.7270341\tbest: 0.7270341 (0)\ttotal: 4.27ms\tremaining: 423ms\n",
      "99:\tlearn: 0.9704274\ttest: 0.8472922\tbest: 0.8473064 (98)\ttotal: 402ms\tremaining: 0us\n",
      "\n",
      "bestTest = 0.8473064117\n",
      "bestIteration = 98\n",
      "\n",
      "132:\tloss: 0.8473064\tbest: 0.8985173 (59)\ttotal: 1m 20s\tremaining: 1m 14s\n",
      "0:\tlearn: 0.7849984\ttest: 0.7270341\tbest: 0.7270341 (0)\ttotal: 4.3ms\tremaining: 426ms\n",
      "99:\tlearn: 0.9892617\ttest: 0.8620763\tbest: 0.8631151 (95)\ttotal: 412ms\tremaining: 0us\n",
      "\n",
      "bestTest = 0.8631150573\n",
      "bestIteration = 95\n",
      "\n",
      "133:\tloss: 0.8631151\tbest: 0.8985173 (59)\ttotal: 1m 21s\tremaining: 1m 13s\n",
      "0:\tlearn: 0.7849984\ttest: 0.7270341\tbest: 0.7270341 (0)\ttotal: 4.49ms\tremaining: 445ms\n",
      "99:\tlearn: 0.9949075\ttest: 0.8583198\tbest: 0.8584977 (98)\ttotal: 412ms\tremaining: 0us\n",
      "\n",
      "bestTest = 0.8584976806\n",
      "bestIteration = 98\n",
      "\n",
      "134:\tloss: 0.8584977\tbest: 0.8985173 (59)\ttotal: 1m 21s\tremaining: 1m 13s\n",
      "0:\tlearn: 0.7849984\ttest: 0.7270341\tbest: 0.7270341 (0)\ttotal: 4.38ms\tremaining: 434ms\n",
      "99:\tlearn: 0.9966146\ttest: 0.8571246\tbest: 0.8594083 (78)\ttotal: 426ms\tremaining: 0us\n",
      "\n",
      "bestTest = 0.8594083497\n",
      "bestIteration = 78\n",
      "\n",
      "135:\tloss: 0.8594083\tbest: 0.8985173 (59)\ttotal: 1m 21s\tremaining: 1m 12s\n",
      "0:\tlearn: 0.7849909\ttest: 0.7272404\tbest: 0.7272404 (0)\ttotal: 4.29ms\tremaining: 425ms\n",
      "99:\tlearn: 0.9633759\ttest: 0.8548408\tbest: 0.8561143 (94)\ttotal: 405ms\tremaining: 0us\n",
      "\n",
      "bestTest = 0.856114289\n",
      "bestIteration = 94\n",
      "\n",
      "136:\tloss: 0.8561143\tbest: 0.8985173 (59)\ttotal: 1m 22s\tremaining: 1m 11s\n",
      "0:\tlearn: 0.7849909\ttest: 0.7272404\tbest: 0.7272404 (0)\ttotal: 4.26ms\tremaining: 422ms\n",
      "99:\tlearn: 0.9850562\ttest: 0.8724494\tbest: 0.8724494 (99)\ttotal: 405ms\tremaining: 0us\n",
      "\n",
      "bestTest = 0.8724494152\n",
      "bestIteration = 99\n",
      "\n",
      "137:\tloss: 0.8724494\tbest: 0.8985173 (59)\ttotal: 1m 22s\tremaining: 1m 10s\n",
      "0:\tlearn: 0.7849909\ttest: 0.7272404\tbest: 0.7272404 (0)\ttotal: 4.29ms\tremaining: 425ms\n",
      "99:\tlearn: 0.9919577\ttest: 0.8537878\tbest: 0.8537878 (99)\ttotal: 402ms\tremaining: 0us\n",
      "\n",
      "bestTest = 0.8537878141\n",
      "bestIteration = 99\n",
      "\n",
      "138:\tloss: 0.8537878\tbest: 0.8985173 (59)\ttotal: 1m 23s\tremaining: 1m 9s\n",
      "0:\tlearn: 0.7849909\ttest: 0.7272404\tbest: 0.7272404 (0)\ttotal: 4.22ms\tremaining: 418ms\n",
      "99:\tlearn: 0.9955982\ttest: 0.8660961\tbest: 0.8687925 (87)\ttotal: 414ms\tremaining: 0us\n",
      "\n",
      "bestTest = 0.8687925097\n",
      "bestIteration = 87\n",
      "\n",
      "139:\tloss: 0.8687925\tbest: 0.8985173 (59)\ttotal: 1m 23s\tremaining: 1m 9s\n",
      "0:\tlearn: 0.7849548\ttest: 0.7271621\tbest: 0.7271621 (0)\ttotal: 4.2ms\tremaining: 416ms\n",
      "99:\tlearn: 0.9518492\ttest: 0.8400851\tbest: 0.8406116 (94)\ttotal: 401ms\tremaining: 0us\n",
      "\n",
      "bestTest = 0.8406115712\n",
      "bestIteration = 94\n",
      "\n",
      "140:\tloss: 0.8406116\tbest: 0.8985173 (59)\ttotal: 1m 23s\tremaining: 1m 8s\n",
      "0:\tlearn: 0.7849548\ttest: 0.7271621\tbest: 0.7271621 (0)\ttotal: 4.29ms\tremaining: 424ms\n",
      "99:\tlearn: 0.9798027\ttest: 0.8570463\tbest: 0.8573593 (96)\ttotal: 414ms\tremaining: 0us\n",
      "\n",
      "bestTest = 0.8573593443\n",
      "bestIteration = 96\n",
      "\n",
      "141:\tloss: 0.8573593\tbest: 0.8985173 (59)\ttotal: 1m 24s\tremaining: 1m 7s\n",
      "0:\tlearn: 0.7849548\ttest: 0.7271621\tbest: 0.7271621 (0)\ttotal: 4.37ms\tremaining: 433ms\n",
      "99:\tlearn: 0.9912822\ttest: 0.8621688\tbest: 0.8621688 (99)\ttotal: 412ms\tremaining: 0us\n",
      "\n",
      "bestTest = 0.8621688153\n",
      "bestIteration = 99\n",
      "\n",
      "142:\tloss: 0.8621688\tbest: 0.8985173 (59)\ttotal: 1m 24s\tremaining: 1m 7s\n",
      "0:\tlearn: 0.7849548\ttest: 0.7271621\tbest: 0.7271621 (0)\ttotal: 4.34ms\tremaining: 430ms\n",
      "99:\tlearn: 0.9956567\ttest: 0.8677965\tbest: 0.8694613 (81)\ttotal: 407ms\tremaining: 0us\n",
      "\n",
      "bestTest = 0.8694612823\n",
      "bestIteration = 81\n",
      "\n",
      "143:\tloss: 0.8694613\tbest: 0.8985173 (59)\ttotal: 1m 25s\tremaining: 1m 6s\n",
      "0:\tlearn: 0.7849984\ttest: 0.7270341\tbest: 0.7270341 (0)\ttotal: 4.45ms\tremaining: 663ms\n",
      "149:\tlearn: 0.9925608\ttest: 0.8664518\tbest: 0.8664518 (149)\ttotal: 606ms\tremaining: 0us\n",
      "\n",
      "bestTest = 0.8664518057\n",
      "bestIteration = 149\n",
      "\n",
      "144:\tloss: 0.8664518\tbest: 0.8985173 (59)\ttotal: 1m 25s\tremaining: 1m 5s\n",
      "0:\tlearn: 0.7849984\ttest: 0.7270341\tbest: 0.7270341 (0)\ttotal: 4.26ms\tremaining: 634ms\n",
      "149:\tlearn: 0.9976111\ttest: 0.8532613\tbest: 0.8556732 (126)\ttotal: 629ms\tremaining: 0us\n",
      "\n",
      "bestTest = 0.8556731836\n",
      "bestIteration = 126\n",
      "\n",
      "145:\tloss: 0.8556732\tbest: 0.8985173 (59)\ttotal: 1m 26s\tremaining: 1m 5s\n",
      "0:\tlearn: 0.7849984\ttest: 0.7270341\tbest: 0.7270341 (0)\ttotal: 4.52ms\tremaining: 673ms\n",
      "149:\tlearn: 0.9995205\ttest: 0.8602550\tbest: 0.8622969 (144)\ttotal: 603ms\tremaining: 0us\n",
      "\n",
      "bestTest = 0.8622968781\n",
      "bestIteration = 144\n",
      "\n",
      "146:\tloss: 0.8622969\tbest: 0.8985173 (59)\ttotal: 1m 27s\tremaining: 1m 4s\n",
      "0:\tlearn: 0.7849984\ttest: 0.7270341\tbest: 0.7270341 (0)\ttotal: 4.13ms\tremaining: 615ms\n",
      "149:\tlearn: 0.9996524\ttest: 0.8889126\tbest: 0.8902146 (100)\ttotal: 597ms\tremaining: 0us\n",
      "\n",
      "bestTest = 0.8902145764\n",
      "bestIteration = 100\n",
      "\n",
      "147:\tloss: 0.8902146\tbest: 0.8985173 (59)\ttotal: 1m 27s\tremaining: 1m 3s\n",
      "0:\tlearn: 0.7849984\ttest: 0.7270341\tbest: 0.7270341 (0)\ttotal: 4.28ms\tremaining: 638ms\n",
      "149:\tlearn: 0.9905559\ttest: 0.8769672\tbest: 0.8769672 (149)\ttotal: 656ms\tremaining: 0us\n",
      "\n",
      "bestTest = 0.8769671875\n",
      "bestIteration = 149\n",
      "\n",
      "148:\tloss: 0.8769672\tbest: 0.8985173 (59)\ttotal: 1m 28s\tremaining: 1m 3s\n",
      "0:\tlearn: 0.7849984\ttest: 0.7270341\tbest: 0.7270341 (0)\ttotal: 4.2ms\tremaining: 626ms\n",
      "149:\tlearn: 0.9975137\ttest: 0.8695751\tbest: 0.8696178 (148)\ttotal: 604ms\tremaining: 0us\n",
      "\n",
      "bestTest = 0.8696178036\n",
      "bestIteration = 148\n",
      "\n",
      "149:\tloss: 0.8696178\tbest: 0.8985173 (59)\ttotal: 1m 28s\tremaining: 1m 2s\n",
      "0:\tlearn: 0.7849984\ttest: 0.7270341\tbest: 0.7270341 (0)\ttotal: 4.49ms\tremaining: 669ms\n",
      "149:\tlearn: 0.9988564\ttest: 0.8665941\tbest: 0.8665941 (149)\ttotal: 614ms\tremaining: 0us\n",
      "\n",
      "bestTest = 0.8665940977\n",
      "bestIteration = 149\n",
      "\n",
      "150:\tloss: 0.8665941\tbest: 0.8985173 (59)\ttotal: 1m 29s\tremaining: 1m 2s\n",
      "0:\tlearn: 0.7849984\ttest: 0.7270341\tbest: 0.7270341 (0)\ttotal: 4.21ms\tremaining: 627ms\n",
      "149:\tlearn: 0.9997195\ttest: 0.8703435\tbest: 0.8715601 (133)\ttotal: 608ms\tremaining: 0us\n",
      "\n",
      "bestTest = 0.8715600899\n",
      "bestIteration = 133\n",
      "\n",
      "151:\tloss: 0.8715601\tbest: 0.8985173 (59)\ttotal: 1m 30s\tremaining: 1m 1s\n",
      "0:\tlearn: 0.7849909\ttest: 0.7272404\tbest: 0.7272404 (0)\ttotal: 4.13ms\tremaining: 616ms\n",
      "149:\tlearn: 0.9854122\ttest: 0.8731964\tbest: 0.8750462 (146)\ttotal: 610ms\tremaining: 0us\n",
      "\n",
      "bestTest = 0.8750462449\n",
      "bestIteration = 146\n",
      "\n",
      "152:\tloss: 0.8750462\tbest: 0.8985173 (59)\ttotal: 1m 30s\tremaining: 1m 1s\n",
      "0:\tlearn: 0.7849909\ttest: 0.7272404\tbest: 0.7272404 (0)\ttotal: 4.35ms\tremaining: 648ms\n",
      "149:\tlearn: 0.9960113\ttest: 0.8740502\tbest: 0.8772233 (132)\ttotal: 616ms\tremaining: 0us\n",
      "\n",
      "bestTest = 0.8772233131\n",
      "bestIteration = 132\n",
      "\n",
      "153:\tloss: 0.8772233\tbest: 0.8985173 (59)\ttotal: 1m 31s\tremaining: 1m\n",
      "0:\tlearn: 0.7849909\ttest: 0.7272404\tbest: 0.7272404 (0)\ttotal: 4.2ms\tremaining: 626ms\n",
      "149:\tlearn: 0.9986834\ttest: 0.8614147\tbest: 0.8658115 (140)\ttotal: 627ms\tremaining: 0us\n",
      "\n",
      "bestTest = 0.8658114915\n",
      "bestIteration = 140\n",
      "\n",
      "154:\tloss: 0.8658115\tbest: 0.8985173 (59)\ttotal: 1m 32s\tremaining: 60s\n",
      "0:\tlearn: 0.7849909\ttest: 0.7272404\tbest: 0.7272404 (0)\ttotal: 4.52ms\tremaining: 673ms\n",
      "149:\tlearn: 0.9994143\ttest: 0.8652423\tbest: 0.8704218 (110)\ttotal: 668ms\tremaining: 0us\n",
      "\n",
      "bestTest = 0.8704217536\n",
      "bestIteration = 110\n",
      "\n",
      "155:\tloss: 0.8704218\tbest: 0.8985173 (59)\ttotal: 1m 32s\tremaining: 59.4s\n",
      "0:\tlearn: 0.7849548\ttest: 0.7271621\tbest: 0.7271621 (0)\ttotal: 5.01ms\tremaining: 747ms\n",
      "149:\tlearn: 0.9821815\ttest: 0.8627807\tbest: 0.8631720 (148)\ttotal: 653ms\tremaining: 0us\n",
      "\n",
      "bestTest = 0.8631719742\n",
      "bestIteration = 148\n",
      "\n",
      "156:\tloss: 0.8631720\tbest: 0.8985173 (59)\ttotal: 1m 33s\tremaining: 58.9s\n",
      "0:\tlearn: 0.7849548\ttest: 0.7271621\tbest: 0.7271621 (0)\ttotal: 4.39ms\tremaining: 654ms\n",
      "149:\tlearn: 0.9936843\ttest: 0.8743775\tbest: 0.8743775 (149)\ttotal: 609ms\tremaining: 0us\n",
      "\n",
      "bestTest = 0.8743774723\n",
      "bestIteration = 149\n",
      "\n",
      "157:\tloss: 0.8743775\tbest: 0.8985173 (59)\ttotal: 1m 33s\tremaining: 58.3s\n",
      "0:\tlearn: 0.7849548\ttest: 0.7271621\tbest: 0.7271621 (0)\ttotal: 4.55ms\tremaining: 679ms\n",
      "149:\tlearn: 0.9977967\ttest: 0.8753166\tbest: 0.8761775 (145)\ttotal: 615ms\tremaining: 0us\n",
      "\n",
      "bestTest = 0.8761774666\n",
      "bestIteration = 145\n",
      "\n",
      "158:\tloss: 0.8761775\tbest: 0.8985173 (59)\ttotal: 1m 34s\tremaining: 57.7s\n",
      "0:\tlearn: 0.7849548\ttest: 0.7271621\tbest: 0.7271621 (0)\ttotal: 4.41ms\tremaining: 657ms\n",
      "149:\tlearn: 0.9990067\ttest: 0.8688992\tbest: 0.8715387 (116)\ttotal: 610ms\tremaining: 0us\n",
      "\n",
      "bestTest = 0.8715387461\n",
      "bestIteration = 116\n",
      "\n",
      "159:\tloss: 0.8715387\tbest: 0.8985173 (59)\ttotal: 1m 35s\tremaining: 57.1s\n",
      "0:\tlearn: 0.8155627\ttest: 0.7605759\tbest: 0.7605759 (0)\ttotal: 5.64ms\tremaining: 1.12s\n",
      "199:\tlearn: 0.9972248\ttest: 0.8733032\tbest: 0.8753166 (197)\ttotal: 1.1s\tremaining: 0us\n",
      "\n",
      "bestTest = 0.8753165998\n",
      "bestIteration = 197\n",
      "\n",
      "160:\tloss: 0.8753166\tbest: 0.8985173 (59)\ttotal: 1m 36s\tremaining: 56.8s\n",
      "0:\tlearn: 0.8155627\ttest: 0.7605759\tbest: 0.7605759 (0)\ttotal: 5.66ms\tremaining: 1.13s\n",
      "199:\tlearn: 0.9997846\ttest: 0.8697957\tbest: 0.8704075 (198)\ttotal: 1.13s\tremaining: 0us\n",
      "\n",
      "bestTest = 0.8704075244\n",
      "bestIteration = 198\n",
      "\n",
      "161:\tloss: 0.8704075\tbest: 0.8985173 (59)\ttotal: 1m 37s\tremaining: 56.5s\n",
      "0:\tlearn: 0.8155627\ttest: 0.7605759\tbest: 0.7605759 (0)\ttotal: 5.63ms\tremaining: 1.12s\n",
      "199:\tlearn: 0.9999282\ttest: 0.8721150\tbest: 0.8757790 (149)\ttotal: 1.15s\tremaining: 0us\n",
      "\n",
      "bestTest = 0.8757790489\n",
      "bestIteration = 149\n",
      "\n",
      "162:\tloss: 0.8757790\tbest: 0.8985173 (59)\ttotal: 1m 38s\tremaining: 56.3s\n",
      "0:\tlearn: 0.8155627\ttest: 0.7605759\tbest: 0.7605759 (0)\ttotal: 5.83ms\tremaining: 1.16s\n",
      "199:\tlearn: 0.9999979\ttest: 0.8804035\tbest: 0.8805103 (192)\ttotal: 1.11s\tremaining: 0us\n",
      "\n",
      "bestTest = 0.8805102593\n",
      "bestIteration = 192\n",
      "\n",
      "163:\tloss: 0.8805103\tbest: 0.8985173 (59)\ttotal: 1m 39s\tremaining: 55.9s\n",
      "0:\tlearn: 0.8153364\ttest: 0.7601348\tbest: 0.7601348 (0)\ttotal: 5.76ms\tremaining: 1.15s\n",
      "199:\tlearn: 0.9954304\ttest: 0.8645736\tbest: 0.8645736 (199)\ttotal: 1.06s\tremaining: 0us\n",
      "\n",
      "bestTest = 0.8645735508\n",
      "bestIteration = 199\n",
      "\n",
      "164:\tloss: 0.8645736\tbest: 0.8985173 (59)\ttotal: 1m 40s\tremaining: 55.6s\n",
      "0:\tlearn: 0.8153364\ttest: 0.7601348\tbest: 0.7601348 (0)\ttotal: 5.65ms\tremaining: 1.13s\n",
      "199:\tlearn: 0.9987384\ttest: 0.8678534\tbest: 0.8678534 (199)\ttotal: 1.14s\tremaining: 0us\n",
      "\n",
      "bestTest = 0.8678533823\n",
      "bestIteration = 199\n",
      "\n",
      "165:\tloss: 0.8678534\tbest: 0.8985173 (59)\ttotal: 1m 41s\tremaining: 55.3s\n",
      "0:\tlearn: 0.8153364\ttest: 0.7601348\tbest: 0.7601348 (0)\ttotal: 5.92ms\tremaining: 1.18s\n",
      "199:\tlearn: 0.9997892\ttest: 0.8617562\tbest: 0.8619910 (184)\ttotal: 1.11s\tremaining: 0us\n",
      "\n",
      "bestTest = 0.8619909502\n",
      "bestIteration = 184\n",
      "\n",
      "166:\tloss: 0.8619910\tbest: 0.8985173 (59)\ttotal: 1m 43s\tremaining: 54.9s\n",
      "0:\tlearn: 0.8153364\ttest: 0.7601348\tbest: 0.7601348 (0)\ttotal: 5.78ms\tremaining: 1.15s\n",
      "199:\tlearn: 0.9999966\ttest: 0.8692194\tbest: 0.8719514 (179)\ttotal: 1.12s\tremaining: 0us\n",
      "\n",
      "bestTest = 0.871951393\n",
      "bestIteration = 179\n",
      "\n",
      "167:\tloss: 0.8719514\tbest: 0.8985173 (59)\ttotal: 1m 44s\tremaining: 54.6s\n",
      "0:\tlearn: 0.8151748\ttest: 0.7600067\tbest: 0.7600067 (0)\ttotal: 5.93ms\tremaining: 1.18s\n",
      "199:\tlearn: 0.9936730\ttest: 0.8634139\tbest: 0.8634850 (198)\ttotal: 1.09s\tremaining: 0us\n",
      "\n",
      "bestTest = 0.8634850166\n",
      "bestIteration = 198\n",
      "\n",
      "168:\tloss: 0.8634850\tbest: 0.8985173 (59)\ttotal: 1m 45s\tremaining: 54.2s\n",
      "0:\tlearn: 0.8151748\ttest: 0.7600209\tbest: 0.7600209 (0)\ttotal: 5.73ms\tremaining: 1.14s\n",
      "199:\tlearn: 0.9982925\ttest: 0.8694969\tbest: 0.8721435 (184)\ttotal: 1.09s\tremaining: 0us\n",
      "\n",
      "bestTest = 0.8721434873\n",
      "bestIteration = 184\n",
      "\n",
      "169:\tloss: 0.8721435\tbest: 0.8985173 (59)\ttotal: 1m 46s\tremaining: 53.8s\n",
      "0:\tlearn: 0.8151748\ttest: 0.7600067\tbest: 0.7600067 (0)\ttotal: 5.93ms\tremaining: 1.18s\n",
      "199:\tlearn: 0.9994945\ttest: 0.8775292\tbest: 0.8782905 (195)\ttotal: 1.09s\tremaining: 0us\n",
      "\n",
      "bestTest = 0.8782905034\n",
      "bestIteration = 195\n",
      "\n",
      "170:\tloss: 0.8782905\tbest: 0.8985173 (59)\ttotal: 1m 47s\tremaining: 53.4s\n",
      "0:\tlearn: 0.8151748\ttest: 0.7600209\tbest: 0.7600209 (0)\ttotal: 5.9ms\tremaining: 1.17s\n",
      "199:\tlearn: 0.9998854\ttest: 0.8550542\tbest: 0.8602621 (173)\ttotal: 1.17s\tremaining: 0us\n",
      "\n",
      "bestTest = 0.8602621019\n",
      "bestIteration = 173\n",
      "\n",
      "171:\tloss: 0.8602621\tbest: 0.8985173 (59)\ttotal: 1m 48s\tremaining: 53s\n",
      "0:\tlearn: 0.8150753\ttest: 0.7597506\tbest: 0.7597506 (0)\ttotal: 6.22ms\tremaining: 1.24s\n",
      "199:\tlearn: 0.9917405\ttest: 0.8738581\tbest: 0.8755443 (178)\ttotal: 1.1s\tremaining: 0us\n",
      "\n",
      "bestTest = 0.8755442671\n",
      "bestIteration = 178\n",
      "\n",
      "172:\tloss: 0.8755443\tbest: 0.8985173 (59)\ttotal: 1m 49s\tremaining: 52.6s\n",
      "0:\tlearn: 0.8150753\ttest: 0.7597506\tbest: 0.7597506 (0)\ttotal: 5.95ms\tremaining: 1.18s\n",
      "199:\tlearn: 0.9982073\ttest: 0.8665016\tbest: 0.8670850 (197)\ttotal: 1.09s\tremaining: 0us\n",
      "\n",
      "bestTest = 0.8670850053\n",
      "bestIteration = 197\n",
      "\n",
      "173:\tloss: 0.8670850\tbest: 0.8985173 (59)\ttotal: 1m 50s\tremaining: 52.2s\n",
      "0:\tlearn: 0.8150753\ttest: 0.7597506\tbest: 0.7597506 (0)\ttotal: 5.82ms\tremaining: 1.16s\n",
      "199:\tlearn: 0.9992132\ttest: 0.8729617\tbest: 0.8744771 (196)\ttotal: 1.12s\tremaining: 0us\n",
      "\n",
      "bestTest = 0.8744770768\n",
      "bestIteration = 196\n",
      "\n",
      "174:\tloss: 0.8744771\tbest: 0.8985173 (59)\ttotal: 1m 51s\tremaining: 51.8s\n",
      "0:\tlearn: 0.8150753\ttest: 0.7597506\tbest: 0.7597506 (0)\ttotal: 5.8ms\tremaining: 1.16s\n",
      "199:\tlearn: 0.9997162\ttest: 0.8704004\tbest: 0.8765119 (136)\ttotal: 1.11s\tremaining: 0us\n",
      "\n",
      "bestTest = 0.8765118529\n",
      "bestIteration = 136\n",
      "\n",
      "175:\tloss: 0.8765119\tbest: 0.8985173 (59)\ttotal: 1m 53s\tremaining: 51.4s\n",
      "0:\tlearn: 0.8155627\ttest: 0.7605759\tbest: 0.7605759 (0)\ttotal: 5.65ms\tremaining: 1.69s\n",
      "200:\tlearn: 0.9973403\ttest: 0.8736802\tbest: 0.8753166 (197)\ttotal: 1.07s\tremaining: 526ms\n",
      "299:\tlearn: 0.9995478\ttest: 0.8810937\tbest: 0.8812786 (288)\ttotal: 1.61s\tremaining: 0us\n",
      "\n",
      "bestTest = 0.8812786363\n",
      "bestIteration = 288\n",
      "\n",
      "176:\tloss: 0.8812786\tbest: 0.8985173 (59)\ttotal: 1m 54s\tremaining: 51.2s\n",
      "0:\tlearn: 0.8155627\ttest: 0.7605759\tbest: 0.7605759 (0)\ttotal: 5.68ms\tremaining: 1.7s\n",
      "200:\tlearn: 0.9997947\ttest: 0.8693546\tbest: 0.8704075 (198)\ttotal: 1.14s\tremaining: 559ms\n",
      "299:\tlearn: 1.0000000\ttest: 0.8669498\tbest: 0.8711261 (227)\ttotal: 1.69s\tremaining: 0us\n",
      "\n",
      "bestTest = 0.8711260992\n",
      "bestIteration = 227\n",
      "\n",
      "177:\tloss: 0.8711261\tbest: 0.8985173 (59)\ttotal: 1m 56s\tremaining: 51s\n",
      "0:\tlearn: 0.8155627\ttest: 0.7605759\tbest: 0.7605759 (0)\ttotal: 5.96ms\tremaining: 1.78s\n",
      "200:\tlearn: 0.9999278\ttest: 0.8729759\tbest: 0.8757790 (149)\ttotal: 1.1s\tremaining: 542ms\n",
      "299:\tlearn: 1.0000000\ttest: 0.8776431\tbest: 0.8786107 (263)\ttotal: 1.71s\tremaining: 0us\n",
      "\n",
      "bestTest = 0.8786106605\n",
      "bestIteration = 263\n",
      "\n",
      "178:\tloss: 0.8786107\tbest: 0.8985173 (59)\ttotal: 1m 58s\tremaining: 50.8s\n",
      "0:\tlearn: 0.8155627\ttest: 0.7605759\tbest: 0.7605759 (0)\ttotal: 5.81ms\tremaining: 1.74s\n",
      "200:\tlearn: 0.9999975\ttest: 0.8808446\tbest: 0.8808446 (200)\ttotal: 1.34s\tremaining: 661ms\n",
      "299:\tlearn: 1.0000000\ttest: 0.8793150\tbest: 0.8810367 (201)\ttotal: 1.88s\tremaining: 0us\n",
      "\n",
      "bestTest = 0.8810367398\n",
      "bestIteration = 201\n",
      "\n",
      "179:\tloss: 0.8810367\tbest: 0.8985173 (59)\ttotal: 1m 59s\tremaining: 50.7s\n",
      "0:\tlearn: 0.8153364\ttest: 0.7601348\tbest: 0.7601348 (0)\ttotal: 5.93ms\tremaining: 1.77s\n",
      "200:\tlearn: 0.9954943\ttest: 0.8657830\tbest: 0.8657830 (200)\ttotal: 1.09s\tremaining: 537ms\n",
      "299:\tlearn: 0.9991255\ttest: 0.8729474\tbest: 0.8735379 (298)\ttotal: 1.66s\tremaining: 0us\n",
      "\n",
      "bestTest = 0.8735379493\n",
      "bestIteration = 298\n",
      "\n",
      "180:\tloss: 0.8735379\tbest: 0.8985173 (59)\ttotal: 2m 1s\tremaining: 50.4s\n",
      "0:\tlearn: 0.8153364\ttest: 0.7601348\tbest: 0.7601348 (0)\ttotal: 9.97ms\tremaining: 2.98s\n",
      "200:\tlearn: 0.9987732\ttest: 0.8684154\tbest: 0.8684154 (200)\ttotal: 1.11s\tremaining: 550ms\n",
      "299:\tlearn: 0.9999668\ttest: 0.8726131\tbest: 0.8726131 (299)\ttotal: 1.67s\tremaining: 0us\n",
      "\n",
      "bestTest = 0.872613051\n",
      "bestIteration = 299\n",
      "\n",
      "181:\tloss: 0.8726131\tbest: 0.8985173 (59)\ttotal: 2m 3s\tremaining: 50.1s\n",
      "0:\tlearn: 0.8153364\ttest: 0.7601348\tbest: 0.7601348 (0)\ttotal: 5.73ms\tremaining: 1.71s\n",
      "200:\tlearn: 0.9998044\ttest: 0.8615641\tbest: 0.8619910 (184)\ttotal: 1.1s\tremaining: 543ms\n",
      "299:\tlearn: 0.9999987\ttest: 0.8673696\tbest: 0.8679174 (293)\ttotal: 1.65s\tremaining: 0us\n",
      "\n",
      "bestTest = 0.8679174137\n",
      "bestIteration = 293\n",
      "\n",
      "182:\tloss: 0.8679174\tbest: 0.8985173 (59)\ttotal: 2m 4s\tremaining: 49.9s\n",
      "0:\tlearn: 0.8153364\ttest: 0.7601348\tbest: 0.7601348 (0)\ttotal: 6.17ms\tremaining: 1.84s\n",
      "200:\tlearn: 0.9999971\ttest: 0.8689633\tbest: 0.8719514 (179)\ttotal: 1.13s\tremaining: 555ms\n",
      "299:\tlearn: 1.0000000\ttest: 0.8684866\tbest: 0.8719514 (179)\ttotal: 1.68s\tremaining: 0us\n",
      "\n",
      "bestTest = 0.871951393\n",
      "bestIteration = 179\n",
      "\n",
      "183:\tloss: 0.8719514\tbest: 0.8985173 (59)\ttotal: 2m 6s\tremaining: 49.6s\n",
      "0:\tlearn: 0.8151748\ttest: 0.7600067\tbest: 0.7600067 (0)\ttotal: 5.77ms\tremaining: 1.73s\n",
      "200:\tlearn: 0.9937255\ttest: 0.8635775\tbest: 0.8635775 (200)\ttotal: 1.13s\tremaining: 556ms\n",
      "299:\tlearn: 0.9989160\ttest: 0.8651071\tbest: 0.8661672 (283)\ttotal: 1.69s\tremaining: 0us\n",
      "\n",
      "bestTest = 0.8661672216\n",
      "bestIteration = 283\n",
      "\n",
      "184:\tloss: 0.8661672\tbest: 0.8985173 (59)\ttotal: 2m 8s\tremaining: 49.3s\n",
      "0:\tlearn: 0.8151748\ttest: 0.7600209\tbest: 0.7600209 (0)\ttotal: 5.95ms\tremaining: 1.78s\n",
      "200:\tlearn: 0.9983148\ttest: 0.8688637\tbest: 0.8721435 (184)\ttotal: 1.09s\tremaining: 539ms\n",
      "299:\tlearn: 0.9999387\ttest: 0.8803253\tbest: 0.8808375 (280)\ttotal: 1.64s\tremaining: 0us\n",
      "\n",
      "bestTest = 0.8808375309\n",
      "bestIteration = 280\n",
      "\n",
      "185:\tloss: 0.8808375\tbest: 0.8985173 (59)\ttotal: 2m 10s\tremaining: 48.9s\n",
      "0:\tlearn: 0.8151748\ttest: 0.7600067\tbest: 0.7600067 (0)\ttotal: 5.87ms\tremaining: 1.76s\n",
      "200:\tlearn: 0.9994895\ttest: 0.8772873\tbest: 0.8782905 (195)\ttotal: 1.09s\tremaining: 535ms\n",
      "299:\tlearn: 0.9999929\ttest: 0.8803466\tbest: 0.8842383 (238)\ttotal: 1.65s\tremaining: 0us\n",
      "\n",
      "bestTest = 0.8842383107\n",
      "bestIteration = 238\n",
      "\n",
      "186:\tloss: 0.8842383\tbest: 0.8985173 (59)\ttotal: 2m 11s\tremaining: 48.6s\n",
      "0:\tlearn: 0.8151748\ttest: 0.7600209\tbest: 0.7600209 (0)\ttotal: 7.51ms\tremaining: 2.25s\n",
      "200:\tlearn: 0.9998879\ttest: 0.8548621\tbest: 0.8602621 (173)\ttotal: 1.12s\tremaining: 550ms\n",
      "299:\tlearn: 1.0000000\ttest: 0.8693973\tbest: 0.8693973 (299)\ttotal: 1.66s\tremaining: 0us\n",
      "\n",
      "bestTest = 0.8693972509\n",
      "bestIteration = 299\n",
      "\n",
      "187:\tloss: 0.8693973\tbest: 0.8985173 (59)\ttotal: 2m 13s\tremaining: 48.2s\n",
      "0:\tlearn: 0.8150753\ttest: 0.7597506\tbest: 0.7597506 (0)\ttotal: 5.59ms\tremaining: 1.67s\n",
      "200:\tlearn: 0.9917665\ttest: 0.8737656\tbest: 0.8755443 (178)\ttotal: 1.07s\tremaining: 525ms\n",
      "299:\tlearn: 0.9977643\ttest: 0.8854976\tbest: 0.8867355 (268)\ttotal: 1.61s\tremaining: 0us\n",
      "\n",
      "bestTest = 0.886735536\n",
      "bestIteration = 268\n",
      "\n",
      "188:\tloss: 0.8867355\tbest: 0.8985173 (59)\ttotal: 2m 14s\tremaining: 47.8s\n",
      "0:\tlearn: 0.8150753\ttest: 0.7597506\tbest: 0.7597506 (0)\ttotal: 5.77ms\tremaining: 1.73s\n",
      "200:\tlearn: 0.9982073\ttest: 0.8665016\tbest: 0.8670850 (197)\ttotal: 1.11s\tremaining: 545ms\n",
      "299:\tlearn: 0.9998522\ttest: 0.8757648\tbest: 0.8768036 (291)\ttotal: 1.67s\tremaining: 0us\n",
      "\n",
      "bestTest = 0.8768035516\n",
      "bestIteration = 291\n",
      "\n",
      "189:\tloss: 0.8768036\tbest: 0.8985173 (59)\ttotal: 2m 16s\tremaining: 47.5s\n",
      "0:\tlearn: 0.8150753\ttest: 0.7597506\tbest: 0.7597506 (0)\ttotal: 5.88ms\tremaining: 1.76s\n",
      "200:\tlearn: 0.9992787\ttest: 0.8719443\tbest: 0.8744771 (196)\ttotal: 1.18s\tremaining: 580ms\n",
      "299:\tlearn: 0.9999891\ttest: 0.8791229\tbest: 0.8793150 (292)\ttotal: 1.75s\tremaining: 0us\n",
      "\n",
      "bestTest = 0.8793150061\n",
      "bestIteration = 292\n",
      "\n",
      "190:\tloss: 0.8793150\tbest: 0.8985173 (59)\ttotal: 2m 18s\tremaining: 47.1s\n",
      "0:\tlearn: 0.8150753\ttest: 0.7597506\tbest: 0.7597506 (0)\ttotal: 6.55ms\tremaining: 1.96s\n",
      "200:\tlearn: 0.9997682\ttest: 0.8703079\tbest: 0.8765119 (136)\ttotal: 1.12s\tremaining: 552ms\n",
      "299:\tlearn: 0.9999996\ttest: 0.8785751\tbest: 0.8788099 (292)\ttotal: 1.67s\tremaining: 0us\n",
      "\n",
      "bestTest = 0.8788098694\n",
      "bestIteration = 292\n",
      "\n",
      "191:\tloss: 0.8788099\tbest: 0.8985173 (59)\ttotal: 2m 20s\tremaining: 46.7s\n",
      "0:\tlearn: 0.7951229\ttest: 0.7281866\tbest: 0.7281866 (0)\ttotal: 9.45ms\tremaining: 936ms\n",
      "99:\tlearn: 0.9945775\ttest: 0.8372464\tbest: 0.8375594 (92)\ttotal: 673ms\tremaining: 0us\n",
      "\n",
      "bestTest = 0.8375594069\n",
      "bestIteration = 92\n",
      "\n",
      "192:\tloss: 0.8375594\tbest: 0.8985173 (59)\ttotal: 2m 20s\tremaining: 45.9s\n",
      "0:\tlearn: 0.7951229\ttest: 0.7281866\tbest: 0.7281866 (0)\ttotal: 8.06ms\tremaining: 798ms\n",
      "99:\tlearn: 0.9986626\ttest: 0.8337246\tbest: 0.8337246 (99)\ttotal: 716ms\tremaining: 0us\n",
      "\n",
      "bestTest = 0.8337246364\n",
      "bestIteration = 99\n",
      "\n",
      "193:\tloss: 0.8337246\tbest: 0.8985173 (59)\ttotal: 2m 21s\tremaining: 45.2s\n",
      "0:\tlearn: 0.7951229\ttest: 0.7281866\tbest: 0.7281866 (0)\ttotal: 7.85ms\tremaining: 777ms\n",
      "99:\tlearn: 0.9998612\ttest: 0.8328495\tbest: 0.8444819 (63)\ttotal: 735ms\tremaining: 0us\n",
      "\n",
      "bestTest = 0.8444819147\n",
      "bestIteration = 63\n",
      "\n",
      "194:\tloss: 0.8444819\tbest: 0.8985173 (59)\ttotal: 2m 22s\tremaining: 44.5s\n",
      "0:\tlearn: 0.7951229\ttest: 0.7281866\tbest: 0.7281866 (0)\ttotal: 7.61ms\tremaining: 753ms\n",
      "99:\tlearn: 0.9999962\ttest: 0.8431444\tbest: 0.8487791 (41)\ttotal: 722ms\tremaining: 0us\n",
      "\n",
      "bestTest = 0.8487791343\n",
      "bestIteration = 41\n",
      "\n",
      "195:\tloss: 0.8487791\tbest: 0.8985173 (59)\ttotal: 2m 22s\tremaining: 43.8s\n",
      "0:\tlearn: 0.7950931\ttest: 0.7281013\tbest: 0.7281013 (0)\ttotal: 7.95ms\tremaining: 787ms\n",
      "99:\tlearn: 0.9907694\ttest: 0.8359159\tbest: 0.8385839 (95)\ttotal: 685ms\tremaining: 0us\n",
      "\n",
      "bestTest = 0.8385839096\n",
      "bestIteration = 95\n",
      "\n",
      "196:\tloss: 0.8385839\tbest: 0.8985173 (59)\ttotal: 2m 23s\tremaining: 43s\n",
      "0:\tlearn: 0.7950931\ttest: 0.7281013\tbest: 0.7281013 (0)\ttotal: 7.47ms\tremaining: 739ms\n",
      "99:\tlearn: 0.9967137\ttest: 0.8395657\tbest: 0.8406187 (93)\ttotal: 679ms\tremaining: 0us\n",
      "\n",
      "bestTest = 0.8406186858\n",
      "bestIteration = 93\n",
      "\n",
      "197:\tloss: 0.8406187\tbest: 0.8985173 (59)\ttotal: 2m 24s\tremaining: 42.3s\n",
      "0:\tlearn: 0.7950931\ttest: 0.7281013\tbest: 0.7281013 (0)\ttotal: 7.57ms\tremaining: 749ms\n",
      "99:\tlearn: 0.9994315\ttest: 0.8455420\tbest: 0.8455420 (99)\ttotal: 714ms\tremaining: 0us\n",
      "\n",
      "bestTest = 0.8455419904\n",
      "bestIteration = 99\n",
      "\n",
      "198:\tloss: 0.8455420\tbest: 0.8985173 (59)\ttotal: 2m 25s\tremaining: 41.5s\n",
      "0:\tlearn: 0.7950931\ttest: 0.7281013\tbest: 0.7281013 (0)\ttotal: 7.38ms\tremaining: 731ms\n",
      "99:\tlearn: 0.9998377\ttest: 0.8537665\tbest: 0.8537665 (99)\ttotal: 719ms\tremaining: 0us\n",
      "\n",
      "bestTest = 0.8537664703\n",
      "bestIteration = 99\n",
      "\n",
      "199:\tloss: 0.8537665\tbest: 0.8985173 (59)\ttotal: 2m 25s\tremaining: 40.8s\n",
      "0:\tlearn: 0.7949970\ttest: 0.7284428\tbest: 0.7284428 (0)\ttotal: 8.05ms\tremaining: 797ms\n",
      "99:\tlearn: 0.9880914\ttest: 0.8550115\tbest: 0.8553388 (98)\ttotal: 689ms\tremaining: 0us\n",
      "\n",
      "bestTest = 0.8553387973\n",
      "bestIteration = 98\n",
      "\n",
      "200:\tloss: 0.8553388\tbest: 0.8985173 (59)\ttotal: 2m 26s\tremaining: 40.1s\n",
      "0:\tlearn: 0.7949970\ttest: 0.7284428\tbest: 0.7284428 (0)\ttotal: 7.72ms\tremaining: 764ms\n",
      "99:\tlearn: 0.9963356\ttest: 0.8361009\tbest: 0.8387049 (93)\ttotal: 707ms\tremaining: 0us\n",
      "\n",
      "bestTest = 0.8387048579\n",
      "bestIteration = 93\n",
      "\n",
      "201:\tloss: 0.8387049\tbest: 0.8985173 (59)\ttotal: 2m 27s\tremaining: 39.3s\n",
      "0:\tlearn: 0.7949970\ttest: 0.7284428\tbest: 0.7284428 (0)\ttotal: 7.8ms\tremaining: 772ms\n",
      "99:\tlearn: 0.9991446\ttest: 0.8557230\tbest: 0.8573238 (97)\ttotal: 754ms\tremaining: 0us\n",
      "\n",
      "bestTest = 0.8573237713\n",
      "bestIteration = 97\n",
      "\n",
      "202:\tloss: 0.8573238\tbest: 0.8985173 (59)\ttotal: 2m 27s\tremaining: 38.6s\n",
      "0:\tlearn: 0.7949970\ttest: 0.7284428\tbest: 0.7284428 (0)\ttotal: 11.5ms\tremaining: 1.14s\n",
      "99:\tlearn: 0.9995004\ttest: 0.8524076\tbest: 0.8548408 (98)\ttotal: 707ms\tremaining: 0us\n",
      "\n",
      "bestTest = 0.8548407752\n",
      "bestIteration = 98\n",
      "\n",
      "203:\tloss: 0.8548408\tbest: 0.8985173 (59)\ttotal: 2m 28s\tremaining: 37.9s\n",
      "0:\tlearn: 0.7947816\ttest: 0.7279874\tbest: 0.7279874 (0)\ttotal: 7.4ms\tremaining: 733ms\n",
      "99:\tlearn: 0.9837446\ttest: 0.8430661\tbest: 0.8430661 (99)\ttotal: 648ms\tremaining: 0us\n",
      "\n",
      "bestTest = 0.8430661089\n",
      "bestIteration = 99\n",
      "\n",
      "204:\tloss: 0.8430661\tbest: 0.8985173 (59)\ttotal: 2m 29s\tremaining: 37.1s\n",
      "0:\tlearn: 0.7947816\ttest: 0.7279874\tbest: 0.7279874 (0)\ttotal: 7.38ms\tremaining: 731ms\n",
      "99:\tlearn: 0.9959857\ttest: 0.8351191\tbest: 0.8373104 (89)\ttotal: 714ms\tremaining: 0us\n",
      "\n",
      "bestTest = 0.8373103959\n",
      "bestIteration = 89\n",
      "\n",
      "205:\tloss: 0.8373104\tbest: 0.8985173 (59)\ttotal: 2m 29s\tremaining: 36.4s\n",
      "0:\tlearn: 0.7947816\ttest: 0.7279874\tbest: 0.7279874 (0)\ttotal: 7.7ms\tremaining: 762ms\n",
      "99:\tlearn: 0.9979921\ttest: 0.8403128\tbest: 0.8403128 (99)\ttotal: 700ms\tremaining: 0us\n",
      "\n",
      "bestTest = 0.8403127579\n",
      "bestIteration = 99\n",
      "\n",
      "206:\tloss: 0.8403128\tbest: 0.8985173 (59)\ttotal: 2m 30s\tremaining: 35.7s\n",
      "0:\tlearn: 0.7947816\ttest: 0.7279874\tbest: 0.7279874 (0)\ttotal: 7.46ms\tremaining: 739ms\n",
      "99:\tlearn: 0.9988408\ttest: 0.8310709\tbest: 0.8329065 (98)\ttotal: 710ms\tremaining: 0us\n",
      "\n",
      "bestTest = 0.8329064572\n",
      "bestIteration = 98\n",
      "\n",
      "207:\tloss: 0.8329065\tbest: 0.8985173 (59)\ttotal: 2m 31s\tremaining: 34.9s\n",
      "0:\tlearn: 0.7951229\ttest: 0.7281866\tbest: 0.7281866 (0)\ttotal: 7.48ms\tremaining: 1.11s\n",
      "149:\tlearn: 0.9991968\ttest: 0.8522226\tbest: 0.8532827 (144)\ttotal: 1.06s\tremaining: 0us\n",
      "\n",
      "bestTest = 0.8532826774\n",
      "bestIteration = 144\n",
      "\n",
      "208:\tloss: 0.8532827\tbest: 0.8985173 (59)\ttotal: 2m 32s\tremaining: 34.3s\n",
      "0:\tlearn: 0.7951229\ttest: 0.7281866\tbest: 0.7281866 (0)\ttotal: 7.83ms\tremaining: 1.17s\n",
      "149:\tlearn: 0.9999484\ttest: 0.8441048\tbest: 0.8441048 (149)\ttotal: 1.1s\tremaining: 0us\n",
      "\n",
      "bestTest = 0.8441048408\n",
      "bestIteration = 149\n",
      "\n",
      "209:\tloss: 0.8441048\tbest: 0.8985173 (59)\ttotal: 2m 33s\tremaining: 33.6s\n",
      "0:\tlearn: 0.7951229\ttest: 0.7281866\tbest: 0.7281866 (0)\ttotal: 7.84ms\tremaining: 1.17s\n",
      "149:\tlearn: 1.0000000\ttest: 0.8434503\tbest: 0.8444819 (63)\ttotal: 1.09s\tremaining: 0us\n",
      "\n",
      "bestTest = 0.8444819147\n",
      "bestIteration = 63\n",
      "\n",
      "210:\tloss: 0.8444819\tbest: 0.8985173 (59)\ttotal: 2m 34s\tremaining: 33s\n",
      "0:\tlearn: 0.7951229\ttest: 0.7281866\tbest: 0.7281866 (0)\ttotal: 7.8ms\tremaining: 1.16s\n",
      "149:\tlearn: 1.0000000\ttest: 0.8466590\tbest: 0.8488859 (145)\ttotal: 1.13s\tremaining: 0us\n",
      "\n",
      "bestTest = 0.8488858533\n",
      "bestIteration = 145\n",
      "\n",
      "211:\tloss: 0.8488859\tbest: 0.8985173 (59)\ttotal: 2m 35s\tremaining: 32.3s\n",
      "0:\tlearn: 0.7950931\ttest: 0.7281013\tbest: 0.7281013 (0)\ttotal: 7.72ms\tremaining: 1.15s\n",
      "149:\tlearn: 0.9982171\ttest: 0.8487222\tbest: 0.8490424 (147)\ttotal: 1.06s\tremaining: 0us\n",
      "\n",
      "bestTest = 0.8490423746\n",
      "bestIteration = 147\n",
      "\n",
      "212:\tloss: 0.8490424\tbest: 0.8985173 (59)\ttotal: 2m 36s\tremaining: 31.7s\n",
      "0:\tlearn: 0.7950931\ttest: 0.7281013\tbest: 0.7281013 (0)\ttotal: 11.4ms\tremaining: 1.7s\n",
      "149:\tlearn: 0.9993881\ttest: 0.8524218\tbest: 0.8524218 (149)\ttotal: 1.13s\tremaining: 0us\n",
      "\n",
      "bestTest = 0.8524218105\n",
      "bestIteration = 149\n",
      "\n",
      "213:\tloss: 0.8524218\tbest: 0.8985173 (59)\ttotal: 2m 38s\tremaining: 31s\n",
      "0:\tlearn: 0.7950931\ttest: 0.7281013\tbest: 0.7281013 (0)\ttotal: 8.23ms\tremaining: 1.23s\n",
      "149:\tlearn: 0.9999572\ttest: 0.8518242\tbest: 0.8518242 (149)\ttotal: 1.12s\tremaining: 0us\n",
      "\n",
      "bestTest = 0.851824184\n",
      "bestIteration = 149\n",
      "\n",
      "214:\tloss: 0.8518242\tbest: 0.8985173 (59)\ttotal: 2m 39s\tremaining: 30.3s\n",
      "0:\tlearn: 0.7950931\ttest: 0.7281013\tbest: 0.7281013 (0)\ttotal: 7.57ms\tremaining: 1.13s\n",
      "149:\tlearn: 0.9999998\ttest: 0.8605253\tbest: 0.8611087 (146)\ttotal: 1.11s\tremaining: 0us\n",
      "\n",
      "bestTest = 0.8611087396\n",
      "bestIteration = 146\n",
      "\n",
      "215:\tloss: 0.8611087\tbest: 0.8985173 (59)\ttotal: 2m 40s\tremaining: 29.7s\n",
      "0:\tlearn: 0.7949970\ttest: 0.7284428\tbest: 0.7284428 (0)\ttotal: 8.11ms\tremaining: 1.21s\n",
      "149:\tlearn: 0.9964328\ttest: 0.8604827\tbest: 0.8652850 (134)\ttotal: 1.06s\tremaining: 0us\n",
      "\n",
      "bestTest = 0.865285011\n",
      "bestIteration = 134\n",
      "\n",
      "216:\tloss: 0.8652850\tbest: 0.8985173 (59)\ttotal: 2m 41s\tremaining: 29s\n",
      "0:\tlearn: 0.7949970\ttest: 0.7284428\tbest: 0.7284428 (0)\ttotal: 7.54ms\tremaining: 1.12s\n",
      "149:\tlearn: 0.9995159\ttest: 0.8427104\tbest: 0.8436210 (146)\ttotal: 1.11s\tremaining: 0us\n",
      "\n",
      "bestTest = 0.8436210478\n",
      "bestIteration = 146\n",
      "\n",
      "217:\tloss: 0.8436210\tbest: 0.8985173 (59)\ttotal: 2m 42s\tremaining: 28.3s\n",
      "0:\tlearn: 0.7949970\ttest: 0.7284428\tbest: 0.7284428 (0)\ttotal: 7.48ms\tremaining: 1.11s\n",
      "149:\tlearn: 0.9999941\ttest: 0.8618629\tbest: 0.8624676 (126)\ttotal: 1.08s\tremaining: 0us\n",
      "\n",
      "bestTest = 0.8624676286\n",
      "bestIteration = 126\n",
      "\n",
      "218:\tloss: 0.8624676\tbest: 0.8985173 (59)\ttotal: 2m 43s\tremaining: 27.6s\n",
      "0:\tlearn: 0.7949970\ttest: 0.7284428\tbest: 0.7284428 (0)\ttotal: 7.49ms\tremaining: 1.12s\n",
      "149:\tlearn: 0.9999945\ttest: 0.8544566\tbest: 0.8573807 (103)\ttotal: 1.09s\tremaining: 0us\n",
      "\n",
      "bestTest = 0.8573806881\n",
      "bestIteration = 103\n",
      "\n",
      "219:\tloss: 0.8573807\tbest: 0.8985173 (59)\ttotal: 2m 44s\tremaining: 26.9s\n",
      "0:\tlearn: 0.7947816\ttest: 0.7279874\tbest: 0.7279874 (0)\ttotal: 7.23ms\tremaining: 1.08s\n",
      "149:\tlearn: 0.9941573\ttest: 0.8527989\tbest: 0.8527989 (149)\ttotal: 1.05s\tremaining: 0us\n",
      "\n",
      "bestTest = 0.8527988844\n",
      "bestIteration = 149\n",
      "\n",
      "220:\tloss: 0.8527989\tbest: 0.8985173 (59)\ttotal: 2m 45s\tremaining: 26.2s\n",
      "0:\tlearn: 0.7947816\ttest: 0.7279874\tbest: 0.7279874 (0)\ttotal: 7.73ms\tremaining: 1.15s\n",
      "149:\tlearn: 0.9994416\ttest: 0.8483309\tbest: 0.8507143 (146)\ttotal: 1.1s\tremaining: 0us\n",
      "\n",
      "bestTest = 0.850714306\n",
      "bestIteration = 146\n",
      "\n",
      "221:\tloss: 0.8507143\tbest: 0.8985173 (59)\ttotal: 2m 46s\tremaining: 25.5s\n",
      "0:\tlearn: 0.7947816\ttest: 0.7279874\tbest: 0.7279874 (0)\ttotal: 7.75ms\tremaining: 1.16s\n",
      "149:\tlearn: 0.9997945\ttest: 0.8555095\tbest: 0.8558084 (148)\ttotal: 1.19s\tremaining: 0us\n",
      "\n",
      "bestTest = 0.8558083611\n",
      "bestIteration = 148\n",
      "\n",
      "222:\tloss: 0.8558084\tbest: 0.8985173 (59)\ttotal: 2m 47s\tremaining: 24.9s\n",
      "0:\tlearn: 0.7947816\ttest: 0.7279874\tbest: 0.7279874 (0)\ttotal: 7.43ms\tremaining: 1.11s\n",
      "149:\tlearn: 0.9998182\ttest: 0.8381926\tbest: 0.8381926 (149)\ttotal: 1.09s\tremaining: 0us\n",
      "\n",
      "bestTest = 0.8381926065\n",
      "bestIteration = 149\n",
      "\n",
      "223:\tloss: 0.8381926\tbest: 0.8985173 (59)\ttotal: 2m 49s\tremaining: 24.2s\n",
      "0:\tlearn: 0.8190459\ttest: 0.7527889\tbest: 0.7527889 (0)\ttotal: 11.3ms\tremaining: 2.25s\n",
      "199:\tlearn: 0.9999314\ttest: 0.8558510\tbest: 0.8572811 (188)\ttotal: 1.93s\tremaining: 0us\n",
      "\n",
      "bestTest = 0.8572810837\n",
      "bestIteration = 188\n",
      "\n",
      "224:\tloss: 0.8572811\tbest: 0.8985173 (59)\ttotal: 2m 51s\tremaining: 23.6s\n",
      "0:\tlearn: 0.8190459\ttest: 0.7527889\tbest: 0.7527889 (0)\ttotal: 9.99ms\tremaining: 1.99s\n",
      "199:\tlearn: 1.0000000\ttest: 0.8594083\tbest: 0.8615783 (191)\ttotal: 1.98s\tremaining: 0us\n",
      "\n",
      "bestTest = 0.8615783033\n",
      "bestIteration = 191\n",
      "\n",
      "225:\tloss: 0.8615783\tbest: 0.8985173 (59)\ttotal: 2m 52s\tremaining: 23s\n",
      "0:\tlearn: 0.8190459\ttest: 0.7527889\tbest: 0.7527889 (0)\ttotal: 10.4ms\tremaining: 2.06s\n",
      "199:\tlearn: 1.0000000\ttest: 0.8430092\tbest: 0.8432226 (183)\ttotal: 1.99s\tremaining: 0us\n",
      "\n",
      "bestTest = 0.8432226301\n",
      "bestIteration = 183\n",
      "\n",
      "226:\tloss: 0.8432226\tbest: 0.8985173 (59)\ttotal: 2m 54s\tremaining: 22.4s\n",
      "0:\tlearn: 0.8190459\ttest: 0.7527889\tbest: 0.7527889 (0)\ttotal: 10.1ms\tremaining: 2.01s\n",
      "199:\tlearn: 1.0000000\ttest: 0.8270511\tbest: 0.8270511 (199)\ttotal: 1.99s\tremaining: 0us\n",
      "\n",
      "bestTest = 0.8270511398\n",
      "bestIteration = 199\n",
      "\n",
      "227:\tloss: 0.8270511\tbest: 0.8985173 (59)\ttotal: 2m 56s\tremaining: 21.7s\n",
      "0:\tlearn: 0.8187092\ttest: 0.7531945\tbest: 0.7531945 (0)\ttotal: 10.3ms\tremaining: 2.05s\n",
      "199:\tlearn: 0.9998354\ttest: 0.8497111\tbest: 0.8500882 (197)\ttotal: 2.02s\tremaining: 0us\n",
      "\n",
      "bestTest = 0.8500882211\n",
      "bestIteration = 197\n",
      "\n",
      "228:\tloss: 0.8500882\tbest: 0.8985173 (59)\ttotal: 2m 59s\tremaining: 21.1s\n",
      "0:\tlearn: 0.8187092\ttest: 0.7531945\tbest: 0.7531945 (0)\ttotal: 10.3ms\tremaining: 2.05s\n",
      "199:\tlearn: 0.9999975\ttest: 0.8541649\tbest: 0.8580779 (183)\ttotal: 1.99s\tremaining: 0us\n",
      "\n",
      "bestTest = 0.8580779191\n",
      "bestIteration = 183\n",
      "\n",
      "229:\tloss: 0.8580779\tbest: 0.8985173 (59)\ttotal: 3m 1s\tremaining: 20.5s\n",
      "0:\tlearn: 0.8187092\ttest: 0.7531945\tbest: 0.7531945 (0)\ttotal: 9.9ms\tremaining: 1.97s\n",
      "199:\tlearn: 1.0000000\ttest: 0.8394590\tbest: 0.8401918 (191)\ttotal: 1.96s\tremaining: 0us\n",
      "\n",
      "bestTest = 0.8401918097\n",
      "bestIteration = 191\n",
      "\n",
      "230:\tloss: 0.8401918\tbest: 0.8985173 (59)\ttotal: 3m 2s\tremaining: 19.8s\n",
      "0:\tlearn: 0.8187092\ttest: 0.7531945\tbest: 0.7531945 (0)\ttotal: 10.1ms\tremaining: 2.01s\n",
      "199:\tlearn: 1.0000000\ttest: 0.8561499\tbest: 0.8563420 (194)\ttotal: 1.98s\tremaining: 0us\n",
      "\n",
      "bestTest = 0.8563419562\n",
      "bestIteration = 194\n",
      "\n",
      "231:\tloss: 0.8563420\tbest: 0.8985173 (59)\ttotal: 3m 4s\tremaining: 19.1s\n",
      "0:\tlearn: 0.8183964\ttest: 0.7548806\tbest: 0.7548806 (0)\ttotal: 9.97ms\tremaining: 1.99s\n",
      "199:\tlearn: 0.9994949\ttest: 0.8499602\tbest: 0.8501736 (196)\ttotal: 1.98s\tremaining: 0us\n",
      "\n",
      "bestTest = 0.8501735963\n",
      "bestIteration = 196\n",
      "\n",
      "232:\tloss: 0.8501736\tbest: 0.8985173 (59)\ttotal: 3m 6s\tremaining: 18.5s\n",
      "0:\tlearn: 0.8183964\ttest: 0.7548806\tbest: 0.7548806 (0)\ttotal: 9.98ms\tremaining: 1.99s\n",
      "199:\tlearn: 0.9999840\ttest: 0.8543356\tbest: 0.8554455 (183)\ttotal: 1.98s\tremaining: 0us\n",
      "\n",
      "bestTest = 0.8554455164\n",
      "bestIteration = 183\n",
      "\n",
      "233:\tloss: 0.8554455\tbest: 0.8985173 (59)\ttotal: 3m 8s\tremaining: 17.8s\n",
      "0:\tlearn: 0.8183964\ttest: 0.7548806\tbest: 0.7548806 (0)\ttotal: 10ms\tremaining: 2s\n",
      "199:\tlearn: 1.0000000\ttest: 0.8544495\tbest: 0.8544495 (199)\ttotal: 1.94s\tremaining: 0us\n",
      "\n",
      "bestTest = 0.8544494721\n",
      "bestIteration = 199\n",
      "\n",
      "234:\tloss: 0.8544495\tbest: 0.8985173 (59)\ttotal: 3m 10s\tremaining: 17.1s\n",
      "0:\tlearn: 0.8183964\ttest: 0.7548806\tbest: 0.7548806 (0)\ttotal: 12.3ms\tremaining: 2.44s\n",
      "199:\tlearn: 1.0000000\ttest: 0.8403199\tbest: 0.8405760 (198)\ttotal: 1.96s\tremaining: 0us\n",
      "\n",
      "bestTest = 0.8405759982\n",
      "bestIteration = 198\n",
      "\n",
      "235:\tloss: 0.8405760\tbest: 0.8985173 (59)\ttotal: 3m 12s\tremaining: 16.3s\n",
      "0:\tlearn: 0.8180148\ttest: 0.7538277\tbest: 0.7538277 (0)\ttotal: 12.4ms\tremaining: 2.46s\n",
      "199:\tlearn: 0.9988967\ttest: 0.8550115\tbest: 0.8567119 (181)\ttotal: 1.86s\tremaining: 0us\n",
      "\n",
      "bestTest = 0.8567119155\n",
      "bestIteration = 181\n",
      "\n",
      "236:\tloss: 0.8567119\tbest: 0.8985173 (59)\ttotal: 3m 14s\tremaining: 15.6s\n",
      "0:\tlearn: 0.8180148\ttest: 0.7538277\tbest: 0.7538277 (0)\ttotal: 10.2ms\tremaining: 2.02s\n",
      "199:\tlearn: 0.9998946\ttest: 0.8553032\tbest: 0.8553032 (199)\ttotal: 1.92s\tremaining: 0us\n",
      "\n",
      "bestTest = 0.8553032243\n",
      "bestIteration = 199\n",
      "\n",
      "237:\tloss: 0.8553032\tbest: 0.8985173 (59)\ttotal: 3m 16s\tremaining: 14.9s\n",
      "0:\tlearn: 0.8180148\ttest: 0.7538277\tbest: 0.7538277 (0)\ttotal: 10.1ms\tremaining: 2.01s\n",
      "199:\tlearn: 0.9999983\ttest: 0.8667293\tbest: 0.8668787 (172)\ttotal: 2.03s\tremaining: 0us\n",
      "\n",
      "bestTest = 0.8668786818\n",
      "bestIteration = 172\n",
      "\n",
      "238:\tloss: 0.8668787\tbest: 0.8985173 (59)\ttotal: 3m 18s\tremaining: 14.1s\n",
      "0:\tlearn: 0.8180148\ttest: 0.7538277\tbest: 0.7538277 (0)\ttotal: 9.85ms\tremaining: 1.96s\n",
      "199:\tlearn: 1.0000000\ttest: 0.8586471\tbest: 0.8586471 (199)\ttotal: 2s\tremaining: 0us\n",
      "\n",
      "bestTest = 0.8586470873\n",
      "bestIteration = 199\n",
      "\n",
      "239:\tloss: 0.8586471\tbest: 0.8985173 (59)\ttotal: 3m 20s\tremaining: 13.4s\n",
      "0:\tlearn: 0.8190459\ttest: 0.7527889\tbest: 0.7527889 (0)\ttotal: 10ms\tremaining: 2.99s\n",
      "200:\tlearn: 0.9999335\ttest: 0.8557016\tbest: 0.8572811 (188)\ttotal: 1.95s\tremaining: 961ms\n",
      "299:\tlearn: 1.0000000\ttest: 0.8634992\tbest: 0.8661388 (235)\ttotal: 2.95s\tremaining: 0us\n",
      "\n",
      "bestTest = 0.8661387632\n",
      "bestIteration = 235\n",
      "\n",
      "240:\tloss: 0.8661388\tbest: 0.8985173 (59)\ttotal: 3m 23s\tremaining: 12.7s\n",
      "0:\tlearn: 0.8190459\ttest: 0.7527889\tbest: 0.7527889 (0)\ttotal: 10.3ms\tremaining: 3.09s\n",
      "200:\tlearn: 1.0000000\ttest: 0.8592874\tbest: 0.8615783 (191)\ttotal: 1.97s\tremaining: 971ms\n",
      "299:\tlearn: 1.0000000\ttest: 0.8610589\tbest: 0.8615783 (191)\ttotal: 2.98s\tremaining: 0us\n",
      "\n",
      "bestTest = 0.8615783033\n",
      "bestIteration = 191\n",
      "\n",
      "241:\tloss: 0.8615783\tbest: 0.8985173 (59)\ttotal: 3m 26s\tremaining: 12s\n",
      "0:\tlearn: 0.8190459\ttest: 0.7527889\tbest: 0.7527889 (0)\ttotal: 10.8ms\tremaining: 3.22s\n",
      "200:\tlearn: 1.0000000\ttest: 0.8435499\tbest: 0.8435499 (200)\ttotal: 2.03s\tremaining: 1s\n",
      "299:\tlearn: 1.0000000\ttest: 0.8461752\tbest: 0.8466661 (223)\ttotal: 3.05s\tremaining: 0us\n",
      "\n",
      "bestTest = 0.8466660975\n",
      "bestIteration = 223\n",
      "\n",
      "242:\tloss: 0.8466661\tbest: 0.8985173 (59)\ttotal: 3m 29s\tremaining: 11.2s\n",
      "0:\tlearn: 0.8190459\ttest: 0.7527889\tbest: 0.7527889 (0)\ttotal: 11.1ms\tremaining: 3.32s\n",
      "200:\tlearn: 1.0000000\ttest: 0.8270654\tbest: 0.8270654 (200)\ttotal: 2.02s\tremaining: 996ms\n",
      "299:\tlearn: 1.0000000\ttest: 0.8347705\tbest: 0.8360938 (280)\ttotal: 2.99s\tremaining: 0us\n",
      "\n",
      "bestTest = 0.8360937989\n",
      "bestIteration = 280\n",
      "\n",
      "243:\tloss: 0.8360938\tbest: 0.8985173 (59)\ttotal: 3m 32s\tremaining: 10.5s\n",
      "0:\tlearn: 0.8187092\ttest: 0.7531945\tbest: 0.7531945 (0)\ttotal: 10.2ms\tremaining: 3.05s\n",
      "200:\tlearn: 0.9998438\ttest: 0.8493127\tbest: 0.8500882 (197)\ttotal: 1.91s\tremaining: 941ms\n",
      "299:\tlearn: 0.9999996\ttest: 0.8551680\tbest: 0.8551680 (299)\ttotal: 2.91s\tremaining: 0us\n",
      "\n",
      "bestTest = 0.8551680469\n",
      "bestIteration = 299\n",
      "\n",
      "244:\tloss: 0.8551680\tbest: 0.8985173 (59)\ttotal: 3m 35s\tremaining: 9.68s\n",
      "0:\tlearn: 0.8187092\ttest: 0.7531945\tbest: 0.7531945 (0)\ttotal: 10.2ms\tremaining: 3.04s\n",
      "200:\tlearn: 0.9999975\ttest: 0.8546629\tbest: 0.8580779 (183)\ttotal: 1.97s\tremaining: 969ms\n",
      "299:\tlearn: 1.0000000\ttest: 0.8628874\tbest: 0.8638194 (276)\ttotal: 3.02s\tremaining: 0us\n",
      "\n",
      "bestTest = 0.8638194029\n",
      "bestIteration = 276\n",
      "\n",
      "245:\tloss: 0.8638194\tbest: 0.8985173 (59)\ttotal: 3m 38s\tremaining: 8.89s\n",
      "0:\tlearn: 0.8187092\ttest: 0.7531945\tbest: 0.7531945 (0)\ttotal: 10.2ms\tremaining: 3.05s\n",
      "200:\tlearn: 1.0000000\ttest: 0.8394163\tbest: 0.8401918 (191)\ttotal: 1.96s\tremaining: 965ms\n",
      "299:\tlearn: 1.0000000\ttest: 0.8465025\tbest: 0.8465025 (299)\ttotal: 2.93s\tremaining: 0us\n",
      "\n",
      "bestTest = 0.8465024617\n",
      "bestIteration = 299\n",
      "\n",
      "246:\tloss: 0.8465025\tbest: 0.8985173 (59)\ttotal: 3m 41s\tremaining: 8.07s\n",
      "0:\tlearn: 0.8187092\ttest: 0.7531945\tbest: 0.7531945 (0)\ttotal: 14ms\tremaining: 4.18s\n",
      "200:\tlearn: 1.0000000\ttest: 0.8563633\tbest: 0.8563633 (200)\ttotal: 2.07s\tremaining: 1.02s\n",
      "299:\tlearn: 1.0000000\ttest: 0.8557728\tbest: 0.8576084 (208)\ttotal: 3.08s\tremaining: 0us\n",
      "\n",
      "bestTest = 0.8576083554\n",
      "bestIteration = 208\n",
      "\n",
      "247:\tloss: 0.8576084\tbest: 0.8985173 (59)\ttotal: 3m 44s\tremaining: 7.25s\n",
      "0:\tlearn: 0.8183964\ttest: 0.7548806\tbest: 0.7548806 (0)\ttotal: 12.6ms\tremaining: 3.76s\n",
      "200:\tlearn: 0.9994945\ttest: 0.8504866\tbest: 0.8504866 (200)\ttotal: 2.03s\tremaining: 999ms\n",
      "299:\tlearn: 0.9999924\ttest: 0.8588605\tbest: 0.8590668 (298)\ttotal: 3.09s\tremaining: 0us\n",
      "\n",
      "bestTest = 0.8590668488\n",
      "bestIteration = 298\n",
      "\n",
      "248:\tloss: 0.8590668\tbest: 0.8985173 (59)\ttotal: 3m 47s\tremaining: 6.4s\n",
      "0:\tlearn: 0.8183964\ttest: 0.7548806\tbest: 0.7548806 (0)\ttotal: 14.8ms\tremaining: 4.43s\n",
      "200:\tlearn: 0.9999840\ttest: 0.8546700\tbest: 0.8554455 (183)\ttotal: 2.03s\tremaining: 998ms\n",
      "299:\tlearn: 1.0000000\ttest: 0.8593870\tbest: 0.8593870 (299)\ttotal: 3.07s\tremaining: 0us\n",
      "\n",
      "bestTest = 0.8593870059\n",
      "bestIteration = 299\n",
      "\n",
      "249:\tloss: 0.8593870\tbest: 0.8985173 (59)\ttotal: 3m 50s\tremaining: 5.54s\n",
      "0:\tlearn: 0.8183964\ttest: 0.7548806\tbest: 0.7548806 (0)\ttotal: 13.5ms\tremaining: 4.03s\n",
      "200:\tlearn: 1.0000000\ttest: 0.8542930\tbest: 0.8544495 (199)\ttotal: 2.09s\tremaining: 1.03s\n",
      "299:\tlearn: 1.0000000\ttest: 0.8584835\tbest: 0.8591024 (279)\ttotal: 3.03s\tremaining: 0us\n",
      "\n",
      "bestTest = 0.8591024218\n",
      "bestIteration = 279\n",
      "\n",
      "250:\tloss: 0.8591024\tbest: 0.8985173 (59)\ttotal: 3m 53s\tremaining: 4.66s\n",
      "0:\tlearn: 0.8183964\ttest: 0.7548806\tbest: 0.7548806 (0)\ttotal: 10.1ms\tremaining: 3.02s\n",
      "200:\tlearn: 1.0000000\ttest: 0.8403981\tbest: 0.8405760 (198)\ttotal: 1.97s\tremaining: 971ms\n",
      "299:\tlearn: 1.0000000\ttest: 0.8445033\tbest: 0.8445033 (299)\ttotal: 2.99s\tremaining: 0us\n",
      "\n",
      "bestTest = 0.8445032585\n",
      "bestIteration = 299\n",
      "\n",
      "251:\tloss: 0.8445033\tbest: 0.8985173 (59)\ttotal: 3m 56s\tremaining: 3.76s\n",
      "0:\tlearn: 0.8180148\ttest: 0.7538277\tbest: 0.7538277 (0)\ttotal: 10.5ms\tremaining: 3.13s\n",
      "200:\tlearn: 0.9989147\ttest: 0.8552463\tbest: 0.8567119 (181)\ttotal: 2.22s\tremaining: 1.09s\n",
      "299:\tlearn: 0.9999072\ttest: 0.8624178\tbest: 0.8627878 (287)\ttotal: 3.24s\tremaining: 0us\n",
      "\n",
      "bestTest = 0.8627877857\n",
      "bestIteration = 287\n",
      "\n",
      "252:\tloss: 0.8627878\tbest: 0.8985173 (59)\ttotal: 4m\tremaining: 2.85s\n",
      "0:\tlearn: 0.8180148\ttest: 0.7538277\tbest: 0.7538277 (0)\ttotal: 10.1ms\tremaining: 3.03s\n",
      "200:\tlearn: 0.9998908\ttest: 0.8555594\tbest: 0.8555594 (200)\ttotal: 1.97s\tremaining: 968ms\n",
      "299:\tlearn: 1.0000000\ttest: 0.8616281\tbest: 0.8617491 (290)\ttotal: 2.99s\tremaining: 0us\n",
      "\n",
      "bestTest = 0.8617490538\n",
      "bestIteration = 290\n",
      "\n",
      "253:\tloss: 0.8617491\tbest: 0.8985173 (59)\ttotal: 4m 3s\tremaining: 1.91s\n",
      "0:\tlearn: 0.8180148\ttest: 0.7538277\tbest: 0.7538277 (0)\ttotal: 10.2ms\tremaining: 3.04s\n",
      "200:\tlearn: 0.9999987\ttest: 0.8665230\tbest: 0.8668787 (172)\ttotal: 2s\tremaining: 983ms\n",
      "299:\tlearn: 1.0000000\ttest: 0.8682518\tbest: 0.8686929 (285)\ttotal: 2.98s\tremaining: 0us\n",
      "\n",
      "bestTest = 0.8686929053\n",
      "bestIteration = 285\n",
      "\n",
      "254:\tloss: 0.8686929\tbest: 0.8985173 (59)\ttotal: 4m 6s\tremaining: 965ms\n",
      "0:\tlearn: 0.8180148\ttest: 0.7538277\tbest: 0.7538277 (0)\ttotal: 10.2ms\tremaining: 3.06s\n",
      "200:\tlearn: 1.0000000\ttest: 0.8591451\tbest: 0.8591451 (200)\ttotal: 2.06s\tremaining: 1.01s\n",
      "299:\tlearn: 1.0000000\ttest: 0.8610945\tbest: 0.8616708 (291)\ttotal: 3.06s\tremaining: 0us\n",
      "\n",
      "bestTest = 0.8616707931\n",
      "bestIteration = 291\n",
      "\n",
      "255:\tloss: 0.8616708\tbest: 0.8985173 (59)\ttotal: 4m 9s\tremaining: 0us\n",
      "Estimating final quality...\n",
      "Training on fold [0/5]\n",
      "0:\tlearn: 0.6934156\ttest: 0.6866659\tbest: 0.6866659 (0)\ttotal: 3.16ms\tremaining: 944ms\n",
      "200:\tlearn: 0.9588382\ttest: 0.8933087\tbest: 0.8935383 (199)\ttotal: 584ms\tremaining: 288ms\n",
      "299:\tlearn: 0.9748767\ttest: 0.9003120\tbest: 0.9017235 (291)\ttotal: 869ms\tremaining: 0us\n",
      "\n",
      "bestTest = 0.9017234859\n",
      "bestIteration = 291\n",
      "\n",
      "Training on fold [1/5]\n",
      "0:\tlearn: 0.6790351\ttest: 0.6448424\tbest: 0.6448424 (0)\ttotal: 2.81ms\tremaining: 840ms\n",
      "200:\tlearn: 0.9655613\ttest: 0.8867360\tbest: 0.8867360 (200)\ttotal: 562ms\tremaining: 277ms\n",
      "299:\tlearn: 0.9797701\ttest: 0.8999558\tbest: 0.8999558 (299)\ttotal: 839ms\tremaining: 0us\n",
      "\n",
      "bestTest = 0.8999557868\n",
      "bestIteration = 299\n",
      "\n",
      "Training on fold [2/5]\n",
      "0:\tlearn: 0.6917177\ttest: 0.7241472\tbest: 0.7241472 (0)\ttotal: 2.9ms\tremaining: 869ms\n",
      "200:\tlearn: 0.9618543\ttest: 0.9191579\tbest: 0.9191579 (200)\ttotal: 611ms\tremaining: 301ms\n",
      "299:\tlearn: 0.9776254\ttest: 0.9309866\tbest: 0.9309866 (298)\ttotal: 891ms\tremaining: 0us\n",
      "\n",
      "bestTest = 0.930986634\n",
      "bestIteration = 298\n",
      "\n",
      "Training on fold [3/5]\n",
      "0:\tlearn: 0.6790067\ttest: 0.6867428\tbest: 0.6867428 (0)\ttotal: 2.65ms\tremaining: 793ms\n",
      "200:\tlearn: 0.9633124\ttest: 0.9232255\tbest: 0.9275584 (182)\ttotal: 577ms\tremaining: 284ms\n",
      "299:\tlearn: 0.9777654\ttest: 0.9294358\tbest: 0.9294358 (298)\ttotal: 888ms\tremaining: 0us\n",
      "\n",
      "bestTest = 0.9294357719\n",
      "bestIteration = 298\n",
      "\n",
      "Training on fold [4/5]\n",
      "0:\tlearn: 0.6826144\ttest: 0.6677584\tbest: 0.6677584 (0)\ttotal: 2.68ms\tremaining: 803ms\n",
      "200:\tlearn: 0.9689972\ttest: 0.8998265\tbest: 0.8998265 (200)\ttotal: 570ms\tremaining: 281ms\n",
      "299:\tlearn: 0.9795354\ttest: 0.8966772\tbest: 0.9003231 (215)\ttotal: 851ms\tremaining: 0us\n",
      "\n",
      "bestTest = 0.9003230963\n",
      "bestIteration = 215\n",
      "\n",
      "{'learn': {'Logloss': 0.2410728591103628, 'AUC': 0.9750912609056647}}\n"
     ]
    }
   ],
   "source": [
    "train_dataset = Pool(features_train, target_train, cat_features=cat_cols) \n",
    "test_dataset = Pool(features_test, target_test, cat_features=cat_cols)\n",
    "model_cat = CatBoostClassifier(random_state=250923, verbose=200, \n",
    "                               eval_metric='AUC:hints=skip_train~false', auto_class_weights = 'Balanced')\n",
    "grid_cat = {'iterations': [100, 150, 200, 300],\n",
    "        'learning_rate': [0.2, 0.3, 0.4, 0.5],\n",
    "        'depth': [2, 4, 6, 8],\n",
    "         'l2_leaf_reg': [3,5,7,9] }\n",
    "model_cat.grid_search(grid_cat, train_dataset, cv=5)\n",
    "\n",
    "model_cat_auc = model_cat.get_best_score()\n",
    "print(model_cat_auc)\n"
   ]
  },
  {
   "cell_type": "code",
   "execution_count": 65,
   "id": "8f7df1f6",
   "metadata": {},
   "outputs": [
    {
     "name": "stdout",
     "output_type": "stream",
     "text": [
      "{'learn': {'Logloss': 0.2410728591103628, 'AUC': 0.9750912609056647}}\n",
      "{'verbose': 200, 'auto_class_weights': 'Balanced', 'eval_metric': 'AUC:hints=skip_train~false', 'random_state': 250923, 'depth': 2, 'l2_leaf_reg': 7, 'iterations': 300, 'learning_rate': 0.5}\n"
     ]
    }
   ],
   "source": [
    "model_cat_auc = model_cat.get_best_score()\n",
    "model_cat_best = model_cat.get_params()\n",
    "print(model_cat_auc)\n",
    "print(model_cat_best)"
   ]
  },
  {
   "cell_type": "code",
   "execution_count": 66,
   "id": "ef20af20",
   "metadata": {},
   "outputs": [
    {
     "name": "stdout",
     "output_type": "stream",
     "text": [
      "0.9750912609056647\n"
     ]
    }
   ],
   "source": [
    "model_cat_auc = model_cat_auc['learn']['AUC']\n",
    "print(model_cat_auc)"
   ]
  },
  {
   "cell_type": "markdown",
   "id": "52cc9549",
   "metadata": {},
   "source": [
    "### LightGBM"
   ]
  },
  {
   "cell_type": "code",
   "execution_count": 67,
   "id": "c5c2694b",
   "metadata": {},
   "outputs": [
    {
     "name": "stdout",
     "output_type": "stream",
     "text": [
      "Fitting 3 folds for each of 4 candidates, totalling 12 fits\n",
      "[CV 1/3; 1/4] START learning_rate=0.3, num_leaves=11............................\n"
     ]
    },
    {
     "name": "stderr",
     "output_type": "stream",
     "text": [
      "/tmp/ipykernel_78/2054220640.py:2: SettingWithCopyWarning: \n",
      "A value is trying to be set on a copy of a slice from a DataFrame.\n",
      "Try using .loc[row_indexer,col_indexer] = value instead\n",
      "\n",
      "See the caveats in the documentation: https://pandas.pydata.org/pandas-docs/stable/user_guide/indexing.html#returning-a-view-versus-a-copy\n",
      "  features_train[i] = features_train[i].astype('category')\n",
      "/opt/conda/lib/python3.9/site-packages/lightgbm/basic.py:2065: UserWarning: Using categorical_feature in Dataset.\n",
      "  _log_warning('Using categorical_feature in Dataset.')\n"
     ]
    },
    {
     "name": "stdout",
     "output_type": "stream",
     "text": [
      "[CV 1/3; 1/4] END ..........learning_rate=0.3, num_leaves=11; total time=  17.2s\n",
      "[CV 2/3; 1/4] START learning_rate=0.3, num_leaves=11............................\n"
     ]
    },
    {
     "name": "stderr",
     "output_type": "stream",
     "text": [
      "/opt/conda/lib/python3.9/site-packages/lightgbm/basic.py:2065: UserWarning: Using categorical_feature in Dataset.\n",
      "  _log_warning('Using categorical_feature in Dataset.')\n"
     ]
    },
    {
     "name": "stdout",
     "output_type": "stream",
     "text": [
      "[CV 2/3; 1/4] END ..........learning_rate=0.3, num_leaves=11; total time=   5.7s\n",
      "[CV 3/3; 1/4] START learning_rate=0.3, num_leaves=11............................\n"
     ]
    },
    {
     "name": "stderr",
     "output_type": "stream",
     "text": [
      "/opt/conda/lib/python3.9/site-packages/lightgbm/basic.py:2065: UserWarning: Using categorical_feature in Dataset.\n",
      "  _log_warning('Using categorical_feature in Dataset.')\n"
     ]
    },
    {
     "name": "stdout",
     "output_type": "stream",
     "text": [
      "[CV 3/3; 1/4] END ..........learning_rate=0.3, num_leaves=11; total time=   4.6s\n",
      "[CV 1/3; 2/4] START learning_rate=0.3, num_leaves=50............................\n"
     ]
    },
    {
     "name": "stderr",
     "output_type": "stream",
     "text": [
      "/opt/conda/lib/python3.9/site-packages/lightgbm/basic.py:2065: UserWarning: Using categorical_feature in Dataset.\n",
      "  _log_warning('Using categorical_feature in Dataset.')\n"
     ]
    },
    {
     "name": "stdout",
     "output_type": "stream",
     "text": [
      "[CV 1/3; 2/4] END ..........learning_rate=0.3, num_leaves=50; total time=  10.8s\n",
      "[CV 2/3; 2/4] START learning_rate=0.3, num_leaves=50............................\n"
     ]
    },
    {
     "name": "stderr",
     "output_type": "stream",
     "text": [
      "/opt/conda/lib/python3.9/site-packages/lightgbm/basic.py:2065: UserWarning: Using categorical_feature in Dataset.\n",
      "  _log_warning('Using categorical_feature in Dataset.')\n"
     ]
    },
    {
     "name": "stdout",
     "output_type": "stream",
     "text": [
      "[CV 2/3; 2/4] END ..........learning_rate=0.3, num_leaves=50; total time=  14.2s\n",
      "[CV 3/3; 2/4] START learning_rate=0.3, num_leaves=50............................\n"
     ]
    },
    {
     "name": "stderr",
     "output_type": "stream",
     "text": [
      "/opt/conda/lib/python3.9/site-packages/lightgbm/basic.py:2065: UserWarning: Using categorical_feature in Dataset.\n",
      "  _log_warning('Using categorical_feature in Dataset.')\n"
     ]
    },
    {
     "name": "stdout",
     "output_type": "stream",
     "text": [
      "[CV 3/3; 2/4] END ..........learning_rate=0.3, num_leaves=50; total time=  10.4s\n",
      "[CV 1/3; 3/4] START learning_rate=0.4, num_leaves=11............................\n"
     ]
    },
    {
     "name": "stderr",
     "output_type": "stream",
     "text": [
      "/opt/conda/lib/python3.9/site-packages/lightgbm/basic.py:2065: UserWarning: Using categorical_feature in Dataset.\n",
      "  _log_warning('Using categorical_feature in Dataset.')\n"
     ]
    },
    {
     "name": "stdout",
     "output_type": "stream",
     "text": [
      "[CV 1/3; 3/4] END ..........learning_rate=0.4, num_leaves=11; total time=   5.9s\n",
      "[CV 2/3; 3/4] START learning_rate=0.4, num_leaves=11............................\n"
     ]
    },
    {
     "name": "stderr",
     "output_type": "stream",
     "text": [
      "/opt/conda/lib/python3.9/site-packages/lightgbm/basic.py:2065: UserWarning: Using categorical_feature in Dataset.\n",
      "  _log_warning('Using categorical_feature in Dataset.')\n"
     ]
    },
    {
     "name": "stdout",
     "output_type": "stream",
     "text": [
      "[CV 2/3; 3/4] END ..........learning_rate=0.4, num_leaves=11; total time=   5.5s\n",
      "[CV 3/3; 3/4] START learning_rate=0.4, num_leaves=11............................\n"
     ]
    },
    {
     "name": "stderr",
     "output_type": "stream",
     "text": [
      "/opt/conda/lib/python3.9/site-packages/lightgbm/basic.py:2065: UserWarning: Using categorical_feature in Dataset.\n",
      "  _log_warning('Using categorical_feature in Dataset.')\n"
     ]
    },
    {
     "name": "stdout",
     "output_type": "stream",
     "text": [
      "[CV 3/3; 3/4] END ..........learning_rate=0.4, num_leaves=11; total time=   4.4s\n",
      "[CV 1/3; 4/4] START learning_rate=0.4, num_leaves=50............................\n"
     ]
    },
    {
     "name": "stderr",
     "output_type": "stream",
     "text": [
      "/opt/conda/lib/python3.9/site-packages/lightgbm/basic.py:2065: UserWarning: Using categorical_feature in Dataset.\n",
      "  _log_warning('Using categorical_feature in Dataset.')\n"
     ]
    },
    {
     "name": "stdout",
     "output_type": "stream",
     "text": [
      "[CV 1/3; 4/4] END ..........learning_rate=0.4, num_leaves=50; total time=   9.2s\n",
      "[CV 2/3; 4/4] START learning_rate=0.4, num_leaves=50............................\n"
     ]
    },
    {
     "name": "stderr",
     "output_type": "stream",
     "text": [
      "/opt/conda/lib/python3.9/site-packages/lightgbm/basic.py:2065: UserWarning: Using categorical_feature in Dataset.\n",
      "  _log_warning('Using categorical_feature in Dataset.')\n"
     ]
    },
    {
     "name": "stdout",
     "output_type": "stream",
     "text": [
      "[CV 2/3; 4/4] END ..........learning_rate=0.4, num_leaves=50; total time=   9.3s\n",
      "[CV 3/3; 4/4] START learning_rate=0.4, num_leaves=50............................\n"
     ]
    },
    {
     "name": "stderr",
     "output_type": "stream",
     "text": [
      "/opt/conda/lib/python3.9/site-packages/lightgbm/basic.py:2065: UserWarning: Using categorical_feature in Dataset.\n",
      "  _log_warning('Using categorical_feature in Dataset.')\n"
     ]
    },
    {
     "name": "stdout",
     "output_type": "stream",
     "text": [
      "[CV 3/3; 4/4] END ..........learning_rate=0.4, num_leaves=50; total time=  10.5s\n"
     ]
    },
    {
     "name": "stderr",
     "output_type": "stream",
     "text": [
      "/opt/conda/lib/python3.9/site-packages/lightgbm/basic.py:2065: UserWarning: Using categorical_feature in Dataset.\n",
      "  _log_warning('Using categorical_feature in Dataset.')\n"
     ]
    },
    {
     "name": "stdout",
     "output_type": "stream",
     "text": [
      "best_score: 0.8778245613505072\n",
      "best_params: {'learning_rate': 0.3, 'num_leaves': 11}\n"
     ]
    }
   ],
   "source": [
    "for i in cat_cols:\n",
    "    features_train[i] = features_train[i].astype('category')\n",
    "model_lgbm = lgb.LGBMClassifier(n_estimators=1000, class_weight='balanced', random_state=250923) \n",
    "grid_lgbm = {'num_leaves':[11, 50],\n",
    "        'learning_rate': [0.3, 0.4]}\n",
    "model_lgbm = GridSearchCV(model_lgbm, grid_lgbm, scoring='roc_auc', verbose=10, cv=3)\n",
    "model_lgbm.fit(features_train, target_train, categorical_feature=cat_cols)\n",
    "auc_roc_lgbm = model_lgbm.best_score_\n",
    "auc_roc_lgbm_params=model_lgbm.best_params_\n",
    "# лучшее значение auc_roc на кросс-валидации\n",
    "print(f'best_score: {auc_roc_lgbm}')\n",
    "# лучшие гиперпараметры\n",
    "print(f'best_params: {auc_roc_lgbm_params}')"
   ]
  },
  {
   "cell_type": "markdown",
   "id": "8b0aa0c4",
   "metadata": {},
   "source": [
    "### Итоговая таблица "
   ]
  },
  {
   "cell_type": "code",
   "execution_count": 68,
   "id": "4c76b2eb",
   "metadata": {},
   "outputs": [],
   "source": [
    "columns=['roc_auc модели', 'парамтеры лучшей модели']\n",
    "index = ['LinearRegression', 'RandomForestRegressor', 'CatBoostRegressor', 'LightGBM']\n",
    "data = [[auc_roc_lr, auc_roc_lr_params], [auc_roc_rf, auc_roc_rf_params], \n",
    "        [model_cat_auc, model_cat_best], [auc_roc_lgbm, auc_roc_lgbm_params]]\n",
    "\n",
    "final_tabl = pd.DataFrame(data = data, columns = columns, index=index)"
   ]
  },
  {
   "cell_type": "code",
   "execution_count": 69,
   "id": "47e47f8a",
   "metadata": {},
   "outputs": [
    {
     "data": {
      "text/html": [
       "<div>\n",
       "<style scoped>\n",
       "    .dataframe tbody tr th:only-of-type {\n",
       "        vertical-align: middle;\n",
       "    }\n",
       "\n",
       "    .dataframe tbody tr th {\n",
       "        vertical-align: top;\n",
       "    }\n",
       "\n",
       "    .dataframe thead th {\n",
       "        text-align: right;\n",
       "    }\n",
       "</style>\n",
       "<table border=\"1\" class=\"dataframe\">\n",
       "  <thead>\n",
       "    <tr style=\"text-align: right;\">\n",
       "      <th></th>\n",
       "      <th>roc_auc модели</th>\n",
       "      <th>парамтеры лучшей модели</th>\n",
       "    </tr>\n",
       "  </thead>\n",
       "  <tbody>\n",
       "    <tr>\n",
       "      <th>LinearRegression</th>\n",
       "      <td>0.750962</td>\n",
       "      <td>{'logisticregression__C': 0.1, 'logisticregres...</td>\n",
       "    </tr>\n",
       "    <tr>\n",
       "      <th>RandomForestRegressor</th>\n",
       "      <td>0.820546</td>\n",
       "      <td>{'randomforestclassifier__max_depth': 8, 'rand...</td>\n",
       "    </tr>\n",
       "    <tr>\n",
       "      <th>CatBoostRegressor</th>\n",
       "      <td>0.975091</td>\n",
       "      <td>{'verbose': 200, 'auto_class_weights': 'Balanc...</td>\n",
       "    </tr>\n",
       "    <tr>\n",
       "      <th>LightGBM</th>\n",
       "      <td>0.877825</td>\n",
       "      <td>{'learning_rate': 0.3, 'num_leaves': 11}</td>\n",
       "    </tr>\n",
       "  </tbody>\n",
       "</table>\n",
       "</div>"
      ],
      "text/plain": [
       "                       roc_auc модели  \\\n",
       "LinearRegression             0.750962   \n",
       "RandomForestRegressor        0.820546   \n",
       "CatBoostRegressor            0.975091   \n",
       "LightGBM                     0.877825   \n",
       "\n",
       "                                                 парамтеры лучшей модели  \n",
       "LinearRegression       {'logisticregression__C': 0.1, 'logisticregres...  \n",
       "RandomForestRegressor  {'randomforestclassifier__max_depth': 8, 'rand...  \n",
       "CatBoostRegressor      {'verbose': 200, 'auto_class_weights': 'Balanc...  \n",
       "LightGBM                        {'learning_rate': 0.3, 'num_leaves': 11}  "
      ]
     },
     "execution_count": 69,
     "metadata": {},
     "output_type": "execute_result"
    }
   ],
   "source": [
    "final_tabl"
   ]
  },
  {
   "cell_type": "markdown",
   "id": "09a6a744",
   "metadata": {},
   "source": [
    "## Тестируем лучшую модель CatBoostRegressor\t"
   ]
  },
  {
   "cell_type": "code",
   "execution_count": 70,
   "id": "0a18ba10",
   "metadata": {},
   "outputs": [
    {
     "name": "stdout",
     "output_type": "stream",
     "text": [
      "0:\tlearn: 0.6390335\ttotal: 3.42ms\tremaining: 680ms\n",
      "199:\tlearn: 0.9521684\ttotal: 626ms\tremaining: 0us\n"
     ]
    }
   ],
   "source": [
    "model_cat_best=CatBoostClassifier(random_state=250923, verbose=200, eval_metric='AUC:hints=skip_train~false', \n",
    "                                  depth=2, iterations=200, learning_rate=0.4, l2_leaf_reg=3)\n",
    "model_cat_best.fit(features_train,target_train, cat_features=cat_cols)\n",
    "predict=model_cat_best.predict(features_test)\n",
    "probabilities_valid = model_cat_best.predict_proba(features_test)\n",
    "probabilities_one_valid = probabilities_valid[:, 1]\n",
    "roc_auc = roc_auc_score(target_test, probabilities_one_valid)"
   ]
  },
  {
   "cell_type": "code",
   "execution_count": 71,
   "id": "879ff041",
   "metadata": {},
   "outputs": [
    {
     "name": "stdout",
     "output_type": "stream",
     "text": [
      "0.9118047228679799\n"
     ]
    }
   ],
   "source": [
    "print(roc_auc)"
   ]
  },
  {
   "cell_type": "code",
   "execution_count": null,
   "id": "932d2b7b",
   "metadata": {},
   "outputs": [],
   "source": []
  },
  {
   "cell_type": "code",
   "execution_count": 72,
   "id": "4382cbbe",
   "metadata": {},
   "outputs": [
    {
     "data": {
      "image/png": "[encoded data removed]",
      "text/plain": [
       "<Figure size 720x432 with 1 Axes>"
      ]
     },
     "metadata": {
      "needs_background": "light"
     },
     "output_type": "display_data"
    }
   ],
   "source": [
    "plt.figure(figsize=(10,6))\n",
    "target_test.plot(kind='kde', linewidth=2)\n",
    "pd.Series(predict).plot(kind='kde',linewidth=2)\n",
    "plt.title('График распределения плотности предсказанных и истинных значений', y=1.01)\n",
    "plt.legend(['Истинные значения','Предсказанные значения'])\n",
    "plt.text(0.5,2,'roc_auc= {:.2f}'.format(roc_auc))\n",
    "plt.xlabel('')\n",
    "plt.ylabel('Плотность')\n",
    "plt.show()"
   ]
  },
  {
   "cell_type": "code",
   "execution_count": null,
   "id": "7ece359f",
   "metadata": {},
   "outputs": [],
   "source": []
  },
  {
   "cell_type": "code",
   "execution_count": 73,
   "id": "9dd4ac75",
   "metadata": {},
   "outputs": [
    {
     "data": {
      "image/png": "[encoded data removed]",
      "text/plain": [
       "<Figure size 432x288 with 1 Axes>"
      ]
     },
     "metadata": {
      "needs_background": "light"
     },
     "output_type": "display_data"
    }
   ],
   "source": [
    "fpr, tpr, thresholds = roc_curve(target_test, probabilities_valid[:, 1])\n",
    "plt.figure()\n",
    "plt.plot(fpr, tpr)\n",
    "plt.title(\"ROC-кривая\")\n",
    "plt.xlabel('False Positive Rate')\n",
    "plt.ylabel('True Positive Rate')\n",
    "plt.ylim([0.0, 1.0])\n",
    "plt.xlim([0.0, 1.0])\n",
    "plt.plot([0, 1], [0, 1], linestyle='--')\n",
    "plt.show()"
   ]
  },
  {
   "cell_type": "code",
   "execution_count": null,
   "id": "b5bcae98",
   "metadata": {},
   "outputs": [],
   "source": []
  },
  {
   "cell_type": "code",
   "execution_count": 74,
   "id": "0732b91c",
   "metadata": {},
   "outputs": [
    {
     "data": {
      "image/png": "[encoded data removed]",
      "text/plain": [
       "<Figure size 1152x1008 with 1 Axes>"
      ]
     },
     "metadata": {
      "needs_background": "light"
     },
     "output_type": "display_data"
    }
   ],
   "source": [
    "cat_important = pd.Series(model_cat_best.get_feature_importance(),\n",
    "                        features_test.columns)\n",
    "fig, ax = plt.subplots(figsize=(16,14))\n",
    "cat_important.plot.bar(ax=ax)\n",
    "ax.set_title(\"Важность признаков\")\n",
    "ax.set_ylabel('Важность, %')\n",
    "fig.tight_layout()"
   ]
  },
  {
   "cell_type": "markdown",
   "id": "8a0345ff",
   "metadata": {},
   "source": [
    "Самым важным признаком является количество дней!"
   ]
  },
  {
   "cell_type": "markdown",
   "id": "aff670ef",
   "metadata": {},
   "source": [
    "<div class=\"alert alert-danger\">\n",
    "<b>😔 Необходимо исправить:</b> Нужно добавить матрицу ошибок и итоговый вывод, отчет будет в следующей части\n",
    "</div>"
   ]
  },
  {
   "cell_type": "code",
   "execution_count": 75,
   "id": "2eeb2b93",
   "metadata": {},
   "outputs": [
    {
     "ename": "NameError",
     "evalue": "name 'predictions_test' is not defined",
     "output_type": "error",
     "traceback": [
      "\u001b[0;31m---------------------------------------------------------------------------\u001b[0m",
      "\u001b[0;31mNameError\u001b[0m                                 Traceback (most recent call last)",
      "\u001b[0;32m/tmp/ipykernel_78/1067867851.py\u001b[0m in \u001b[0;36m<module>\u001b[0;34m\u001b[0m\n\u001b[0;32m----> 1\u001b[0;31m \u001b[0mcmatrix\u001b[0m \u001b[0;34m=\u001b[0m \u001b[0mconfusion_matrix\u001b[0m\u001b[0;34m(\u001b[0m\u001b[0mtarget_test\u001b[0m\u001b[0;34m,\u001b[0m \u001b[0mpredictions_test\u001b[0m\u001b[0;34m)\u001b[0m\u001b[0;34m\u001b[0m\u001b[0;34m\u001b[0m\u001b[0m\n\u001b[0m\u001b[1;32m      2\u001b[0m \u001b[0mplt\u001b[0m\u001b[0;34m.\u001b[0m\u001b[0mfigure\u001b[0m\u001b[0;34m(\u001b[0m\u001b[0mfigsize\u001b[0m\u001b[0;34m=\u001b[0m\u001b[0;34m(\u001b[0m\u001b[0;36m8\u001b[0m\u001b[0;34m,\u001b[0m \u001b[0;36m8\u001b[0m\u001b[0;34m)\u001b[0m\u001b[0;34m)\u001b[0m\u001b[0;34m\u001b[0m\u001b[0;34m\u001b[0m\u001b[0m\n\u001b[1;32m      3\u001b[0m sns.heatmap(cmatrix, annot=True, cmap='Blues', \n\u001b[1;32m      4\u001b[0m             fmt='d').set(title='Матрица ошибок', xlabel='Предсказания', ylabel='Правильные ответы')\n\u001b[1;32m      5\u001b[0m \u001b[0mplt\u001b[0m\u001b[0;34m.\u001b[0m\u001b[0mshow\u001b[0m\u001b[0;34m(\u001b[0m\u001b[0;34m)\u001b[0m\u001b[0;34m;\u001b[0m\u001b[0;34m\u001b[0m\u001b[0;34m\u001b[0m\u001b[0m\n",
      "\u001b[0;31mNameError\u001b[0m: name 'predictions_test' is not defined"
     ]
    }
   ],
   "source": [
    "cmatrix = confusion_matrix(target_test, predictions_test)\n",
    "plt.figure(figsize=(8, 8))\n",
    "sns.heatmap(cmatrix, annot=True, cmap='Blues', \n",
    "            fmt='d').set(title='Матрица ошибок', xlabel='Предсказания', ylabel='Правильные ответы')\n",
    "plt.show();"
   ]
  },
  {
   "cell_type": "markdown",
   "id": "ca86efc7",
   "metadata": {},
   "source": [
    "Насколько понимаю отчёт и комментарии нужно в третей часте!"
   ]
  }
 ],
 "metadata": {
  "ExecuteTimeLog": [
   {
    "duration": 1289,
    "start_time": "2023-09-27T08:09:21.291Z"
   },
   {
    "duration": 197,
    "start_time": "2023-09-27T08:09:24.531Z"
   },
   {
    "duration": 263,
    "start_time": "2023-09-27T08:10:07.548Z"
   },
   {
    "duration": 156,
    "start_time": "2023-09-27T08:11:57.229Z"
   },
   {
    "duration": 144,
    "start_time": "2023-09-27T08:12:03.335Z"
   },
   {
    "duration": 8,
    "start_time": "2023-09-27T08:12:05.525Z"
   },
   {
    "duration": 132,
    "start_time": "2023-09-27T08:12:31.880Z"
   },
   {
    "duration": 14,
    "start_time": "2023-09-27T08:12:35.118Z"
   },
   {
    "duration": 17,
    "start_time": "2023-09-27T08:12:56.431Z"
   },
   {
    "duration": 3,
    "start_time": "2023-09-27T08:20:26.613Z"
   },
   {
    "duration": 154,
    "start_time": "2023-09-27T08:20:26.618Z"
   },
   {
    "duration": 13,
    "start_time": "2023-09-27T08:20:26.774Z"
   },
   {
    "duration": 71,
    "start_time": "2023-09-27T08:20:26.789Z"
   },
   {
    "duration": 10,
    "start_time": "2023-09-27T08:20:26.863Z"
   },
   {
    "duration": 71,
    "start_time": "2023-09-27T08:20:26.875Z"
   },
   {
    "duration": 10,
    "start_time": "2023-09-27T08:20:26.948Z"
   },
   {
    "duration": 13,
    "start_time": "2023-09-27T08:20:26.959Z"
   },
   {
    "duration": 10,
    "start_time": "2023-09-27T08:20:26.974Z"
   },
   {
    "duration": 11,
    "start_time": "2023-09-27T08:20:27.046Z"
   },
   {
    "duration": 11,
    "start_time": "2023-09-27T08:53:08.739Z"
   },
   {
    "duration": 5,
    "start_time": "2023-09-27T08:56:38.069Z"
   },
   {
    "duration": 10,
    "start_time": "2023-09-27T08:59:16.240Z"
   },
   {
    "duration": 5,
    "start_time": "2023-09-27T08:59:34.777Z"
   },
   {
    "duration": 8,
    "start_time": "2023-09-27T09:00:14.608Z"
   },
   {
    "duration": 5,
    "start_time": "2023-09-27T09:00:37.793Z"
   },
   {
    "duration": 13,
    "start_time": "2023-09-27T09:00:40.112Z"
   },
   {
    "duration": 6,
    "start_time": "2023-09-27T09:02:36.468Z"
   },
   {
    "duration": 6,
    "start_time": "2023-09-27T09:03:34.964Z"
   },
   {
    "duration": 7,
    "start_time": "2023-09-27T09:10:44.644Z"
   },
   {
    "duration": 12,
    "start_time": "2023-09-27T09:10:47.947Z"
   },
   {
    "duration": 11,
    "start_time": "2023-09-27T09:11:09.796Z"
   },
   {
    "duration": 11,
    "start_time": "2023-09-27T09:11:13.148Z"
   },
   {
    "duration": 11,
    "start_time": "2023-09-27T09:11:15.404Z"
   },
   {
    "duration": 2,
    "start_time": "2023-09-27T09:11:21.531Z"
   },
   {
    "duration": 101,
    "start_time": "2023-09-27T09:11:21.535Z"
   },
   {
    "duration": 10,
    "start_time": "2023-09-27T09:11:21.637Z"
   },
   {
    "duration": 22,
    "start_time": "2023-09-27T09:11:21.649Z"
   },
   {
    "duration": 23,
    "start_time": "2023-09-27T09:11:21.673Z"
   },
   {
    "duration": 14,
    "start_time": "2023-09-27T09:11:21.697Z"
   },
   {
    "duration": 14,
    "start_time": "2023-09-27T09:11:21.712Z"
   },
   {
    "duration": 13,
    "start_time": "2023-09-27T09:11:21.727Z"
   },
   {
    "duration": 15,
    "start_time": "2023-09-27T09:11:21.742Z"
   },
   {
    "duration": 12,
    "start_time": "2023-09-27T09:11:21.758Z"
   },
   {
    "duration": 5,
    "start_time": "2023-09-27T09:11:21.771Z"
   },
   {
    "duration": 6,
    "start_time": "2023-09-27T09:11:21.778Z"
   },
   {
    "duration": 9,
    "start_time": "2023-09-27T09:11:21.785Z"
   },
   {
    "duration": 7,
    "start_time": "2023-09-27T09:11:21.796Z"
   },
   {
    "duration": 14,
    "start_time": "2023-09-27T09:11:21.804Z"
   },
   {
    "duration": 8,
    "start_time": "2023-09-27T09:11:21.819Z"
   },
   {
    "duration": 22,
    "start_time": "2023-09-27T09:11:21.828Z"
   },
   {
    "duration": 5,
    "start_time": "2023-09-27T09:11:21.851Z"
   },
   {
    "duration": 12,
    "start_time": "2023-09-27T09:11:21.857Z"
   },
   {
    "duration": 18,
    "start_time": "2023-09-27T09:19:59.109Z"
   },
   {
    "duration": 6,
    "start_time": "2023-09-27T09:20:23.501Z"
   },
   {
    "duration": 3,
    "start_time": "2023-09-27T09:20:37.212Z"
   },
   {
    "duration": 97,
    "start_time": "2023-09-27T09:20:37.217Z"
   },
   {
    "duration": 10,
    "start_time": "2023-09-27T09:20:37.316Z"
   },
   {
    "duration": 28,
    "start_time": "2023-09-27T09:20:37.327Z"
   },
   {
    "duration": 8,
    "start_time": "2023-09-27T09:20:37.357Z"
   },
   {
    "duration": 11,
    "start_time": "2023-09-27T09:20:37.366Z"
   },
   {
    "duration": 23,
    "start_time": "2023-09-27T09:20:37.379Z"
   },
   {
    "duration": 21,
    "start_time": "2023-09-27T09:20:37.404Z"
   },
   {
    "duration": 8,
    "start_time": "2023-09-27T09:20:37.426Z"
   },
   {
    "duration": 11,
    "start_time": "2023-09-27T09:20:37.443Z"
   },
   {
    "duration": 8,
    "start_time": "2023-09-27T09:20:37.455Z"
   },
   {
    "duration": 8,
    "start_time": "2023-09-27T09:20:37.464Z"
   },
   {
    "duration": 13,
    "start_time": "2023-09-27T09:20:37.473Z"
   },
   {
    "duration": 6,
    "start_time": "2023-09-27T09:20:37.488Z"
   },
   {
    "duration": 13,
    "start_time": "2023-09-27T09:20:37.495Z"
   },
   {
    "duration": 21,
    "start_time": "2023-09-27T09:20:37.509Z"
   },
   {
    "duration": 30,
    "start_time": "2023-09-27T09:20:37.531Z"
   },
   {
    "duration": 0,
    "start_time": "2023-09-27T09:20:37.563Z"
   },
   {
    "duration": 11,
    "start_time": "2023-09-27T09:22:43.744Z"
   },
   {
    "duration": 9,
    "start_time": "2023-09-27T09:24:32.705Z"
   },
   {
    "duration": 9,
    "start_time": "2023-09-27T09:24:37.330Z"
   },
   {
    "duration": 5,
    "start_time": "2023-09-27T09:24:42.761Z"
   },
   {
    "duration": 12,
    "start_time": "2023-09-27T09:24:46.057Z"
   },
   {
    "duration": 183,
    "start_time": "2023-09-27T09:25:55.899Z"
   },
   {
    "duration": 10,
    "start_time": "2023-09-27T09:30:12.607Z"
   },
   {
    "duration": 4,
    "start_time": "2023-09-27T09:30:16.332Z"
   },
   {
    "duration": 123,
    "start_time": "2023-09-27T09:30:16.337Z"
   },
   {
    "duration": 10,
    "start_time": "2023-09-27T09:30:16.462Z"
   },
   {
    "duration": 12,
    "start_time": "2023-09-27T09:30:16.475Z"
   },
   {
    "duration": 15,
    "start_time": "2023-09-27T09:30:16.489Z"
   },
   {
    "duration": 15,
    "start_time": "2023-09-27T09:30:16.506Z"
   },
   {
    "duration": 11,
    "start_time": "2023-09-27T09:30:16.523Z"
   },
   {
    "duration": 20,
    "start_time": "2023-09-27T09:30:16.536Z"
   },
   {
    "duration": 6,
    "start_time": "2023-09-27T09:30:16.559Z"
   },
   {
    "duration": 10,
    "start_time": "2023-09-27T09:30:16.567Z"
   },
   {
    "duration": 16,
    "start_time": "2023-09-27T09:30:16.578Z"
   },
   {
    "duration": 36,
    "start_time": "2023-09-27T09:30:16.595Z"
   },
   {
    "duration": 41,
    "start_time": "2023-09-27T09:30:16.632Z"
   },
   {
    "duration": 8,
    "start_time": "2023-09-27T09:30:16.675Z"
   },
   {
    "duration": 13,
    "start_time": "2023-09-27T09:30:16.685Z"
   },
   {
    "duration": 9,
    "start_time": "2023-09-27T09:30:16.699Z"
   },
   {
    "duration": 10,
    "start_time": "2023-09-27T09:30:16.709Z"
   },
   {
    "duration": 13,
    "start_time": "2023-09-27T09:30:16.720Z"
   },
   {
    "duration": 19,
    "start_time": "2023-09-27T09:30:16.735Z"
   },
   {
    "duration": 178,
    "start_time": "2023-09-27T09:30:16.755Z"
   },
   {
    "duration": 10,
    "start_time": "2023-09-27T09:30:42.366Z"
   },
   {
    "duration": 5,
    "start_time": "2023-09-27T09:30:44.638Z"
   },
   {
    "duration": 12,
    "start_time": "2023-09-27T09:30:46.968Z"
   },
   {
    "duration": 183,
    "start_time": "2023-09-27T09:30:49.718Z"
   },
   {
    "duration": 284,
    "start_time": "2023-09-27T09:31:47.176Z"
   },
   {
    "duration": 4,
    "start_time": "2023-09-27T09:32:19.136Z"
   },
   {
    "duration": 116,
    "start_time": "2023-09-27T09:32:19.142Z"
   },
   {
    "duration": 10,
    "start_time": "2023-09-27T09:32:19.260Z"
   },
   {
    "duration": 19,
    "start_time": "2023-09-27T09:32:19.272Z"
   },
   {
    "duration": 18,
    "start_time": "2023-09-27T09:32:19.292Z"
   },
   {
    "duration": 22,
    "start_time": "2023-09-27T09:32:19.311Z"
   },
   {
    "duration": 25,
    "start_time": "2023-09-27T09:32:19.334Z"
   },
   {
    "duration": 11,
    "start_time": "2023-09-27T09:32:19.360Z"
   },
   {
    "duration": 9,
    "start_time": "2023-09-27T09:32:19.373Z"
   },
   {
    "duration": 22,
    "start_time": "2023-09-27T09:32:19.383Z"
   },
   {
    "duration": 186,
    "start_time": "2023-09-27T09:32:19.407Z"
   },
   {
    "duration": 182,
    "start_time": "2023-09-27T09:32:19.595Z"
   },
   {
    "duration": 6,
    "start_time": "2023-09-27T09:32:19.779Z"
   },
   {
    "duration": 5,
    "start_time": "2023-09-27T09:32:19.788Z"
   },
   {
    "duration": 19,
    "start_time": "2023-09-27T09:32:19.795Z"
   },
   {
    "duration": 12,
    "start_time": "2023-09-27T09:32:19.815Z"
   },
   {
    "duration": 7,
    "start_time": "2023-09-27T09:32:19.829Z"
   },
   {
    "duration": 12,
    "start_time": "2023-09-27T09:32:19.846Z"
   },
   {
    "duration": 10,
    "start_time": "2023-09-27T09:32:19.860Z"
   },
   {
    "duration": 195,
    "start_time": "2023-09-27T09:32:19.872Z"
   },
   {
    "duration": 121,
    "start_time": "2023-09-27T09:33:23.809Z"
   },
   {
    "duration": 116,
    "start_time": "2023-09-27T09:33:35.481Z"
   },
   {
    "duration": 1969,
    "start_time": "2023-09-27T09:34:40.019Z"
   },
   {
    "duration": 129,
    "start_time": "2023-09-27T09:35:08.731Z"
   },
   {
    "duration": 115,
    "start_time": "2023-09-27T09:35:45.284Z"
   },
   {
    "duration": 6,
    "start_time": "2023-09-27T09:40:19.728Z"
   },
   {
    "duration": 5,
    "start_time": "2023-09-27T09:40:23.071Z"
   },
   {
    "duration": 3,
    "start_time": "2023-09-27T09:40:25.859Z"
   },
   {
    "duration": 11,
    "start_time": "2023-09-27T09:42:12.890Z"
   },
   {
    "duration": 181,
    "start_time": "2023-09-27T09:42:59.962Z"
   },
   {
    "duration": 3,
    "start_time": "2023-09-27T09:44:17.339Z"
   },
   {
    "duration": 106,
    "start_time": "2023-09-27T09:44:17.343Z"
   },
   {
    "duration": 12,
    "start_time": "2023-09-27T09:44:17.450Z"
   },
   {
    "duration": 16,
    "start_time": "2023-09-27T09:44:17.463Z"
   },
   {
    "duration": 16,
    "start_time": "2023-09-27T09:44:17.482Z"
   },
   {
    "duration": 13,
    "start_time": "2023-09-27T09:44:17.500Z"
   },
   {
    "duration": 31,
    "start_time": "2023-09-27T09:44:17.515Z"
   },
   {
    "duration": 104,
    "start_time": "2023-09-27T09:44:17.548Z"
   },
   {
    "duration": 9,
    "start_time": "2023-09-27T09:44:17.654Z"
   },
   {
    "duration": 12,
    "start_time": "2023-09-27T09:44:17.664Z"
   },
   {
    "duration": 135,
    "start_time": "2023-09-27T09:44:17.678Z"
   },
   {
    "duration": 131,
    "start_time": "2023-09-27T09:44:17.815Z"
   },
   {
    "duration": 7,
    "start_time": "2023-09-27T09:44:17.948Z"
   },
   {
    "duration": 7,
    "start_time": "2023-09-27T09:44:17.957Z"
   },
   {
    "duration": 19,
    "start_time": "2023-09-27T09:44:17.965Z"
   },
   {
    "duration": 20,
    "start_time": "2023-09-27T09:44:17.985Z"
   },
   {
    "duration": 11,
    "start_time": "2023-09-27T09:44:18.007Z"
   },
   {
    "duration": 5,
    "start_time": "2023-09-27T09:44:18.020Z"
   },
   {
    "duration": 17,
    "start_time": "2023-09-27T09:44:18.026Z"
   },
   {
    "duration": 2011,
    "start_time": "2023-09-27T09:44:18.045Z"
   },
   {
    "duration": 0,
    "start_time": "2023-09-27T09:44:20.057Z"
   },
   {
    "duration": 0,
    "start_time": "2023-09-27T09:44:20.059Z"
   },
   {
    "duration": 0,
    "start_time": "2023-09-27T09:44:20.059Z"
   },
   {
    "duration": 174,
    "start_time": "2023-09-27T09:44:31.612Z"
   },
   {
    "duration": 6,
    "start_time": "2023-09-27T09:45:07.148Z"
   },
   {
    "duration": 4,
    "start_time": "2023-09-27T09:45:41.725Z"
   },
   {
    "duration": 8,
    "start_time": "2023-09-27T09:46:55.246Z"
   },
   {
    "duration": 2019,
    "start_time": "2023-09-27T09:56:59.464Z"
   },
   {
    "duration": 322,
    "start_time": "2023-09-27T09:58:33.858Z"
   },
   {
    "duration": 181,
    "start_time": "2023-09-27T09:58:45.257Z"
   },
   {
    "duration": 175,
    "start_time": "2023-09-27T09:58:52.937Z"
   },
   {
    "duration": 255,
    "start_time": "2023-09-27T09:59:14.930Z"
   },
   {
    "duration": 369,
    "start_time": "2023-09-27T09:59:43.594Z"
   },
   {
    "duration": 146,
    "start_time": "2023-09-27T10:04:07.783Z"
   },
   {
    "duration": 110,
    "start_time": "2023-09-27T10:24:12.458Z"
   },
   {
    "duration": 123,
    "start_time": "2023-09-27T10:24:47.875Z"
   },
   {
    "duration": 147,
    "start_time": "2023-09-27T10:24:54.148Z"
   },
   {
    "duration": 94,
    "start_time": "2023-09-27T10:24:57.126Z"
   },
   {
    "duration": 134,
    "start_time": "2023-09-27T10:27:00.158Z"
   },
   {
    "duration": 613,
    "start_time": "2023-09-27T10:36:44.656Z"
   },
   {
    "duration": 110,
    "start_time": "2023-09-27T10:38:25.085Z"
   },
   {
    "duration": 229,
    "start_time": "2023-09-27T10:49:23.561Z"
   },
   {
    "duration": 1455,
    "start_time": "2023-09-28T00:33:30.567Z"
   },
   {
    "duration": 318,
    "start_time": "2023-09-28T00:33:32.024Z"
   },
   {
    "duration": 17,
    "start_time": "2023-09-28T00:33:32.345Z"
   },
   {
    "duration": 34,
    "start_time": "2023-09-28T00:33:32.364Z"
   },
   {
    "duration": 32,
    "start_time": "2023-09-28T00:33:32.400Z"
   },
   {
    "duration": 149,
    "start_time": "2023-09-28T00:33:32.433Z"
   },
   {
    "duration": 146,
    "start_time": "2023-09-28T00:33:32.584Z"
   },
   {
    "duration": 127,
    "start_time": "2023-09-28T00:33:32.732Z"
   },
   {
    "duration": 111,
    "start_time": "2023-09-28T00:33:32.860Z"
   },
   {
    "duration": 11,
    "start_time": "2023-09-28T00:33:32.982Z"
   },
   {
    "duration": 13,
    "start_time": "2023-09-28T00:33:32.994Z"
   },
   {
    "duration": 13,
    "start_time": "2023-09-28T00:33:33.009Z"
   },
   {
    "duration": 711,
    "start_time": "2023-09-28T00:33:33.024Z"
   },
   {
    "duration": 115,
    "start_time": "2023-09-28T00:33:33.737Z"
   },
   {
    "duration": 7,
    "start_time": "2023-09-28T00:33:33.854Z"
   },
   {
    "duration": 27,
    "start_time": "2023-09-28T00:33:33.863Z"
   },
   {
    "duration": 126,
    "start_time": "2023-09-28T00:33:33.891Z"
   },
   {
    "duration": 139,
    "start_time": "2023-09-28T00:33:34.019Z"
   },
   {
    "duration": 139,
    "start_time": "2023-09-28T00:33:34.159Z"
   },
   {
    "duration": 6,
    "start_time": "2023-09-28T00:33:34.300Z"
   },
   {
    "duration": 6,
    "start_time": "2023-09-28T00:33:34.308Z"
   },
   {
    "duration": 14,
    "start_time": "2023-09-28T00:33:34.315Z"
   },
   {
    "duration": 26,
    "start_time": "2023-09-28T00:33:34.330Z"
   },
   {
    "duration": 13,
    "start_time": "2023-09-28T00:33:34.358Z"
   },
   {
    "duration": 9,
    "start_time": "2023-09-28T00:33:34.373Z"
   },
   {
    "duration": 16,
    "start_time": "2023-09-28T00:33:34.384Z"
   },
   {
    "duration": 213,
    "start_time": "2023-09-28T00:33:34.402Z"
   },
   {
    "duration": 398,
    "start_time": "2023-09-28T00:33:34.619Z"
   },
   {
    "duration": 8,
    "start_time": "2023-09-28T00:33:35.019Z"
   },
   {
    "duration": 5,
    "start_time": "2023-09-28T00:33:35.029Z"
   },
   {
    "duration": 46,
    "start_time": "2023-09-28T06:12:25.099Z"
   },
   {
    "duration": 1405,
    "start_time": "2023-09-28T06:12:30.257Z"
   },
   {
    "duration": 307,
    "start_time": "2023-09-28T06:12:31.664Z"
   },
   {
    "duration": 15,
    "start_time": "2023-09-28T06:12:31.973Z"
   },
   {
    "duration": 72,
    "start_time": "2023-09-28T06:12:31.990Z"
   },
   {
    "duration": 33,
    "start_time": "2023-09-28T06:12:32.065Z"
   },
   {
    "duration": 181,
    "start_time": "2023-09-28T06:12:32.100Z"
   },
   {
    "duration": 185,
    "start_time": "2023-09-28T06:12:32.283Z"
   },
   {
    "duration": 125,
    "start_time": "2023-09-28T06:12:32.470Z"
   },
   {
    "duration": 114,
    "start_time": "2023-09-28T06:12:32.597Z"
   },
   {
    "duration": 13,
    "start_time": "2023-09-28T06:12:32.724Z"
   },
   {
    "duration": 64,
    "start_time": "2023-09-28T06:12:32.739Z"
   },
   {
    "duration": 39,
    "start_time": "2023-09-28T06:12:32.805Z"
   },
   {
    "duration": 745,
    "start_time": "2023-09-28T06:12:32.846Z"
   },
   {
    "duration": 109,
    "start_time": "2023-09-28T06:12:33.593Z"
   },
   {
    "duration": 6,
    "start_time": "2023-09-28T06:12:33.704Z"
   },
   {
    "duration": 10,
    "start_time": "2023-09-28T06:12:33.724Z"
   },
   {
    "duration": 128,
    "start_time": "2023-09-28T06:12:33.736Z"
   },
   {
    "duration": 135,
    "start_time": "2023-09-28T06:12:33.865Z"
   },
   {
    "duration": 128,
    "start_time": "2023-09-28T06:12:34.001Z"
   },
   {
    "duration": 6,
    "start_time": "2023-09-28T06:12:34.131Z"
   },
   {
    "duration": 10,
    "start_time": "2023-09-28T06:12:34.138Z"
   },
   {
    "duration": 21,
    "start_time": "2023-09-28T06:12:34.150Z"
   },
   {
    "duration": 28,
    "start_time": "2023-09-28T06:12:34.172Z"
   },
   {
    "duration": 5,
    "start_time": "2023-09-28T06:12:34.202Z"
   },
   {
    "duration": 11,
    "start_time": "2023-09-28T06:12:34.209Z"
   },
   {
    "duration": 11,
    "start_time": "2023-09-28T06:12:34.222Z"
   },
   {
    "duration": 20,
    "start_time": "2023-09-28T06:12:34.235Z"
   },
   {
    "duration": 231,
    "start_time": "2023-09-28T06:12:34.257Z"
   },
   {
    "duration": 519,
    "start_time": "2023-09-28T06:12:34.491Z"
   },
   {
    "duration": 17,
    "start_time": "2023-09-28T06:12:35.011Z"
   },
   {
    "duration": 21,
    "start_time": "2023-09-28T06:12:35.030Z"
   },
   {
    "duration": 2264,
    "start_time": "2023-09-28T06:14:07.419Z"
   },
   {
    "duration": 3,
    "start_time": "2023-09-28T06:36:30.155Z"
   },
   {
    "duration": 123,
    "start_time": "2023-09-28T06:36:30.160Z"
   },
   {
    "duration": 14,
    "start_time": "2023-09-28T06:36:30.285Z"
   },
   {
    "duration": 58,
    "start_time": "2023-09-28T06:36:30.301Z"
   },
   {
    "duration": 57,
    "start_time": "2023-09-28T06:36:30.361Z"
   },
   {
    "duration": 198,
    "start_time": "2023-09-28T06:36:30.420Z"
   },
   {
    "duration": 162,
    "start_time": "2023-09-28T06:36:30.623Z"
   },
   {
    "duration": 153,
    "start_time": "2023-09-28T06:36:30.787Z"
   },
   {
    "duration": 141,
    "start_time": "2023-09-28T06:36:30.943Z"
   },
   {
    "duration": 12,
    "start_time": "2023-09-28T06:36:31.086Z"
   },
   {
    "duration": 122,
    "start_time": "2023-09-28T06:36:31.100Z"
   },
   {
    "duration": 76,
    "start_time": "2023-09-28T06:36:31.225Z"
   },
   {
    "duration": 693,
    "start_time": "2023-09-28T06:36:31.303Z"
   },
   {
    "duration": 137,
    "start_time": "2023-09-28T06:36:31.999Z"
   },
   {
    "duration": 7,
    "start_time": "2023-09-28T06:36:32.140Z"
   },
   {
    "duration": 28,
    "start_time": "2023-09-28T06:36:32.149Z"
   },
   {
    "duration": 165,
    "start_time": "2023-09-28T06:36:32.179Z"
   },
   {
    "duration": 286,
    "start_time": "2023-09-28T06:36:32.347Z"
   },
   {
    "duration": 132,
    "start_time": "2023-09-28T06:36:32.635Z"
   },
   {
    "duration": 7,
    "start_time": "2023-09-28T06:36:32.769Z"
   },
   {
    "duration": 190,
    "start_time": "2023-09-28T06:36:32.777Z"
   },
   {
    "duration": 188,
    "start_time": "2023-09-28T06:36:32.969Z"
   },
   {
    "duration": 94,
    "start_time": "2023-09-28T06:36:33.158Z"
   },
   {
    "duration": 63,
    "start_time": "2023-09-28T06:36:33.254Z"
   },
   {
    "duration": 29,
    "start_time": "2023-09-28T06:36:33.319Z"
   },
   {
    "duration": 63,
    "start_time": "2023-09-28T06:36:33.350Z"
   },
   {
    "duration": 264,
    "start_time": "2023-09-28T06:36:33.415Z"
   },
   {
    "duration": 342,
    "start_time": "2023-09-28T06:36:33.681Z"
   },
   {
    "duration": 11,
    "start_time": "2023-09-28T06:36:34.032Z"
   },
   {
    "duration": 20,
    "start_time": "2023-09-28T06:36:34.045Z"
   },
   {
    "duration": 1499,
    "start_time": "2023-09-29T06:16:18.226Z"
   },
   {
    "duration": 317,
    "start_time": "2023-09-29T06:16:19.727Z"
   },
   {
    "duration": 25,
    "start_time": "2023-09-29T06:16:20.047Z"
   },
   {
    "duration": 98,
    "start_time": "2023-09-29T06:16:20.074Z"
   },
   {
    "duration": 93,
    "start_time": "2023-09-29T06:16:20.175Z"
   },
   {
    "duration": 175,
    "start_time": "2023-09-29T06:16:20.270Z"
   },
   {
    "duration": 163,
    "start_time": "2023-09-29T06:16:20.447Z"
   },
   {
    "duration": 140,
    "start_time": "2023-09-29T06:16:20.612Z"
   },
   {
    "duration": 128,
    "start_time": "2023-09-29T06:16:20.754Z"
   },
   {
    "duration": 22,
    "start_time": "2023-09-29T06:16:20.884Z"
   },
   {
    "duration": 32,
    "start_time": "2023-09-29T06:16:20.908Z"
   },
   {
    "duration": 41,
    "start_time": "2023-09-29T06:16:20.942Z"
   },
   {
    "duration": 901,
    "start_time": "2023-09-29T06:16:20.985Z"
   },
   {
    "duration": 125,
    "start_time": "2023-09-29T06:16:21.901Z"
   },
   {
    "duration": 12,
    "start_time": "2023-09-29T06:16:22.028Z"
   },
   {
    "duration": 50,
    "start_time": "2023-09-29T06:16:22.042Z"
   },
   {
    "duration": 139,
    "start_time": "2023-09-29T06:16:22.094Z"
   },
   {
    "duration": 152,
    "start_time": "2023-09-29T06:16:22.235Z"
   },
   {
    "duration": 142,
    "start_time": "2023-09-29T06:16:22.390Z"
   },
   {
    "duration": 7,
    "start_time": "2023-09-29T06:16:22.533Z"
   },
   {
    "duration": 41,
    "start_time": "2023-09-29T06:16:22.542Z"
   },
   {
    "duration": 47,
    "start_time": "2023-09-29T06:16:22.585Z"
   },
   {
    "duration": 50,
    "start_time": "2023-09-29T06:16:22.634Z"
   },
   {
    "duration": 44,
    "start_time": "2023-09-29T06:16:22.686Z"
   },
   {
    "duration": 9,
    "start_time": "2023-09-29T06:16:22.732Z"
   },
   {
    "duration": 80,
    "start_time": "2023-09-29T06:16:22.743Z"
   },
   {
    "duration": 210,
    "start_time": "2023-09-29T06:16:22.825Z"
   },
   {
    "duration": 430,
    "start_time": "2023-09-29T06:16:23.038Z"
   },
   {
    "duration": 14,
    "start_time": "2023-09-29T06:16:23.470Z"
   },
   {
    "duration": 26,
    "start_time": "2023-09-29T06:16:23.486Z"
   },
   {
    "duration": 14,
    "start_time": "2023-09-29T06:16:23.515Z"
   },
   {
    "duration": 26,
    "start_time": "2023-09-29T06:23:56.680Z"
   },
   {
    "duration": 29,
    "start_time": "2023-09-29T06:24:29.215Z"
   },
   {
    "duration": 10,
    "start_time": "2023-09-29T06:25:06.521Z"
   },
   {
    "duration": 22,
    "start_time": "2023-09-29T06:25:14.562Z"
   },
   {
    "duration": 16,
    "start_time": "2023-09-29T06:26:11.394Z"
   },
   {
    "duration": 19,
    "start_time": "2023-09-29T06:28:55.317Z"
   },
   {
    "duration": 13,
    "start_time": "2023-09-29T06:32:16.632Z"
   },
   {
    "duration": 9,
    "start_time": "2023-09-29T07:06:42.664Z"
   },
   {
    "duration": 105,
    "start_time": "2023-09-29T07:11:58.388Z"
   },
   {
    "duration": 9,
    "start_time": "2023-09-29T07:12:11.340Z"
   },
   {
    "duration": 13,
    "start_time": "2023-09-29T07:12:32.821Z"
   },
   {
    "duration": 4,
    "start_time": "2023-09-29T07:14:33.616Z"
   },
   {
    "duration": 639,
    "start_time": "2023-09-29T07:14:33.623Z"
   },
   {
    "duration": 104,
    "start_time": "2023-09-29T07:14:34.263Z"
   },
   {
    "duration": 12,
    "start_time": "2023-09-29T07:14:34.369Z"
   },
   {
    "duration": 181,
    "start_time": "2023-09-29T07:14:34.384Z"
   },
   {
    "duration": 323,
    "start_time": "2023-09-29T07:14:34.567Z"
   },
   {
    "duration": 174,
    "start_time": "2023-09-29T07:14:34.891Z"
   },
   {
    "duration": 152,
    "start_time": "2023-09-29T07:14:35.066Z"
   },
   {
    "duration": 140,
    "start_time": "2023-09-29T07:14:35.220Z"
   },
   {
    "duration": 121,
    "start_time": "2023-09-29T07:14:35.362Z"
   },
   {
    "duration": 22,
    "start_time": "2023-09-29T07:14:35.485Z"
   },
   {
    "duration": 67,
    "start_time": "2023-09-29T07:14:35.510Z"
   },
   {
    "duration": 40,
    "start_time": "2023-09-29T07:14:35.578Z"
   },
   {
    "duration": 902,
    "start_time": "2023-09-29T07:14:35.621Z"
   },
   {
    "duration": 152,
    "start_time": "2023-09-29T07:14:36.525Z"
   },
   {
    "duration": 360,
    "start_time": "2023-09-29T07:14:36.679Z"
   },
   {
    "duration": 141,
    "start_time": "2023-09-29T07:14:37.041Z"
   },
   {
    "duration": 176,
    "start_time": "2023-09-29T07:14:37.184Z"
   },
   {
    "duration": 161,
    "start_time": "2023-09-29T07:14:37.362Z"
   },
   {
    "duration": 153,
    "start_time": "2023-09-29T07:14:37.524Z"
   },
   {
    "duration": 6,
    "start_time": "2023-09-29T07:14:37.679Z"
   },
   {
    "duration": 109,
    "start_time": "2023-09-29T07:14:37.687Z"
   },
   {
    "duration": 45,
    "start_time": "2023-09-29T07:14:37.798Z"
   },
   {
    "duration": 61,
    "start_time": "2023-09-29T07:14:37.844Z"
   },
   {
    "duration": 40,
    "start_time": "2023-09-29T07:14:37.908Z"
   },
   {
    "duration": 30,
    "start_time": "2023-09-29T07:14:37.951Z"
   },
   {
    "duration": 44,
    "start_time": "2023-09-29T07:14:37.983Z"
   },
   {
    "duration": 221,
    "start_time": "2023-09-29T07:14:38.030Z"
   },
   {
    "duration": 378,
    "start_time": "2023-09-29T07:14:38.253Z"
   },
   {
    "duration": 10,
    "start_time": "2023-09-29T07:14:38.633Z"
   },
   {
    "duration": 21,
    "start_time": "2023-09-29T07:14:38.644Z"
   },
   {
    "duration": 79,
    "start_time": "2023-09-29T07:14:38.667Z"
   },
   {
    "duration": 59,
    "start_time": "2023-09-29T07:14:38.748Z"
   },
   {
    "duration": 42,
    "start_time": "2023-09-29T07:14:38.810Z"
   },
   {
    "duration": 53,
    "start_time": "2023-09-29T07:14:38.854Z"
   },
   {
    "duration": 36,
    "start_time": "2023-09-29T07:14:38.909Z"
   },
   {
    "duration": 61,
    "start_time": "2023-09-29T07:14:38.947Z"
   },
   {
    "duration": 48,
    "start_time": "2023-09-29T07:14:39.010Z"
   },
   {
    "duration": 962,
    "start_time": "2023-09-29T07:18:04.542Z"
   },
   {
    "duration": 24,
    "start_time": "2023-09-29T07:18:28.935Z"
   },
   {
    "duration": 9,
    "start_time": "2023-09-29T07:19:06.152Z"
   },
   {
    "duration": 902,
    "start_time": "2023-09-29T07:19:08.753Z"
   },
   {
    "duration": 21,
    "start_time": "2023-09-29T07:19:11.791Z"
   },
   {
    "duration": 206,
    "start_time": "2023-09-29T07:20:55.305Z"
   },
   {
    "duration": 392,
    "start_time": "2023-09-29T07:22:07.722Z"
   },
   {
    "duration": 385,
    "start_time": "2023-09-29T07:22:25.427Z"
   },
   {
    "duration": 4,
    "start_time": "2023-09-29T07:37:47.916Z"
   },
   {
    "duration": 18,
    "start_time": "2023-09-29T07:37:47.923Z"
   },
   {
    "duration": 127,
    "start_time": "2023-09-29T07:37:47.943Z"
   },
   {
    "duration": 17,
    "start_time": "2023-09-29T07:37:48.073Z"
   },
   {
    "duration": 34,
    "start_time": "2023-09-29T07:37:48.093Z"
   },
   {
    "duration": 13,
    "start_time": "2023-09-29T07:37:48.130Z"
   },
   {
    "duration": 173,
    "start_time": "2023-09-29T07:37:48.145Z"
   },
   {
    "duration": 229,
    "start_time": "2023-09-29T07:37:48.320Z"
   },
   {
    "duration": 170,
    "start_time": "2023-09-29T07:37:48.551Z"
   },
   {
    "duration": 134,
    "start_time": "2023-09-29T07:37:48.725Z"
   },
   {
    "duration": 14,
    "start_time": "2023-09-29T07:37:48.861Z"
   },
   {
    "duration": 32,
    "start_time": "2023-09-29T07:37:48.877Z"
   },
   {
    "duration": 21,
    "start_time": "2023-09-29T07:37:48.911Z"
   },
   {
    "duration": 1050,
    "start_time": "2023-09-29T07:37:48.934Z"
   },
   {
    "duration": 151,
    "start_time": "2023-09-29T07:37:49.987Z"
   },
   {
    "duration": 8,
    "start_time": "2023-09-29T07:37:50.141Z"
   },
   {
    "duration": 61,
    "start_time": "2023-09-29T07:37:50.151Z"
   },
   {
    "duration": 148,
    "start_time": "2023-09-29T07:37:50.214Z"
   },
   {
    "duration": 158,
    "start_time": "2023-09-29T07:37:50.364Z"
   },
   {
    "duration": 162,
    "start_time": "2023-09-29T07:37:50.524Z"
   },
   {
    "duration": 15,
    "start_time": "2023-09-29T07:37:50.689Z"
   },
   {
    "duration": 29,
    "start_time": "2023-09-29T07:37:50.706Z"
   },
   {
    "duration": 62,
    "start_time": "2023-09-29T07:37:50.737Z"
   },
   {
    "duration": 67,
    "start_time": "2023-09-29T07:37:50.801Z"
   },
   {
    "duration": 60,
    "start_time": "2023-09-29T07:37:50.870Z"
   },
   {
    "duration": 21,
    "start_time": "2023-09-29T07:37:50.932Z"
   },
   {
    "duration": 59,
    "start_time": "2023-09-29T07:37:50.955Z"
   },
   {
    "duration": 265,
    "start_time": "2023-09-29T07:37:51.021Z"
   },
   {
    "duration": 370,
    "start_time": "2023-09-29T07:37:51.289Z"
   },
   {
    "duration": 10,
    "start_time": "2023-09-29T07:37:51.662Z"
   },
   {
    "duration": 48,
    "start_time": "2023-09-29T07:37:51.674Z"
   },
   {
    "duration": 61,
    "start_time": "2023-09-29T07:37:51.725Z"
   },
   {
    "duration": 50,
    "start_time": "2023-09-29T07:37:51.789Z"
   },
   {
    "duration": 100,
    "start_time": "2023-09-29T07:37:51.841Z"
   },
   {
    "duration": 45,
    "start_time": "2023-09-29T07:37:51.943Z"
   },
   {
    "duration": 31,
    "start_time": "2023-09-29T07:37:51.991Z"
   },
   {
    "duration": 65,
    "start_time": "2023-09-29T07:37:52.024Z"
   },
   {
    "duration": 63,
    "start_time": "2023-09-29T07:37:52.091Z"
   },
   {
    "duration": 967,
    "start_time": "2023-09-29T07:37:52.156Z"
   },
   {
    "duration": 125,
    "start_time": "2023-09-29T07:37:53.125Z"
   },
   {
    "duration": 475,
    "start_time": "2023-09-29T07:37:53.252Z"
   },
   {
    "duration": 16,
    "start_time": "2023-09-29T07:37:53.730Z"
   },
   {
    "duration": 0,
    "start_time": "2023-09-29T07:37:53.749Z"
   },
   {
    "duration": 0,
    "start_time": "2023-09-29T07:37:53.751Z"
   },
   {
    "duration": 0,
    "start_time": "2023-09-29T07:37:53.753Z"
   },
   {
    "duration": 0,
    "start_time": "2023-09-29T07:37:53.754Z"
   },
   {
    "duration": 0,
    "start_time": "2023-09-29T07:37:53.756Z"
   },
   {
    "duration": 24730,
    "start_time": "2023-09-29T07:59:08.639Z"
   },
   {
    "duration": 2597,
    "start_time": "2023-09-29T07:59:57.584Z"
   },
   {
    "duration": 13,
    "start_time": "2023-09-29T08:00:23.951Z"
   },
   {
    "duration": 1276,
    "start_time": "2023-09-29T08:07:44.658Z"
   },
   {
    "duration": 306,
    "start_time": "2023-09-29T08:07:45.936Z"
   },
   {
    "duration": 97,
    "start_time": "2023-09-29T08:07:46.244Z"
   },
   {
    "duration": 16,
    "start_time": "2023-09-29T08:07:46.344Z"
   },
   {
    "duration": 32,
    "start_time": "2023-09-29T08:07:46.361Z"
   },
   {
    "duration": 24,
    "start_time": "2023-09-29T08:07:46.395Z"
   },
   {
    "duration": 151,
    "start_time": "2023-09-29T08:07:46.420Z"
   },
   {
    "duration": 145,
    "start_time": "2023-09-29T08:07:46.573Z"
   },
   {
    "duration": 132,
    "start_time": "2023-09-29T08:07:46.719Z"
   },
   {
    "duration": 197,
    "start_time": "2023-09-29T08:07:46.855Z"
   },
   {
    "duration": 13,
    "start_time": "2023-09-29T08:07:47.055Z"
   },
   {
    "duration": 30,
    "start_time": "2023-09-29T08:07:47.070Z"
   },
   {
    "duration": 21,
    "start_time": "2023-09-29T08:07:47.102Z"
   },
   {
    "duration": 653,
    "start_time": "2023-09-29T08:07:47.124Z"
   },
   {
    "duration": 142,
    "start_time": "2023-09-29T08:07:47.779Z"
   },
   {
    "duration": 8,
    "start_time": "2023-09-29T08:07:47.922Z"
   },
   {
    "duration": 38,
    "start_time": "2023-09-29T08:07:47.932Z"
   },
   {
    "duration": 136,
    "start_time": "2023-09-29T08:07:47.972Z"
   },
   {
    "duration": 143,
    "start_time": "2023-09-29T08:07:48.110Z"
   },
   {
    "duration": 135,
    "start_time": "2023-09-29T08:07:48.255Z"
   },
   {
    "duration": 7,
    "start_time": "2023-09-29T08:07:48.401Z"
   },
   {
    "duration": 52,
    "start_time": "2023-09-29T08:07:48.409Z"
   },
   {
    "duration": 25,
    "start_time": "2023-09-29T08:07:48.463Z"
   },
   {
    "duration": 20,
    "start_time": "2023-09-29T08:07:48.490Z"
   },
   {
    "duration": 18,
    "start_time": "2023-09-29T08:07:48.512Z"
   },
   {
    "duration": 29,
    "start_time": "2023-09-29T08:07:48.532Z"
   },
   {
    "duration": 22,
    "start_time": "2023-09-29T08:07:48.562Z"
   },
   {
    "duration": 208,
    "start_time": "2023-09-29T08:07:48.588Z"
   },
   {
    "duration": 511,
    "start_time": "2023-09-29T08:07:48.800Z"
   },
   {
    "duration": 8,
    "start_time": "2023-09-29T08:07:49.313Z"
   },
   {
    "duration": 21,
    "start_time": "2023-09-29T08:07:49.323Z"
   },
   {
    "duration": 35,
    "start_time": "2023-09-29T08:07:49.346Z"
   },
   {
    "duration": 19,
    "start_time": "2023-09-29T08:07:49.382Z"
   },
   {
    "duration": 35,
    "start_time": "2023-09-29T08:07:49.403Z"
   },
   {
    "duration": 23,
    "start_time": "2023-09-29T08:07:49.439Z"
   },
   {
    "duration": 35,
    "start_time": "2023-09-29T08:07:49.463Z"
   },
   {
    "duration": 8,
    "start_time": "2023-09-29T08:07:49.500Z"
   },
   {
    "duration": 24,
    "start_time": "2023-09-29T08:07:49.510Z"
   },
   {
    "duration": 908,
    "start_time": "2023-09-29T08:07:49.536Z"
   },
   {
    "duration": 121,
    "start_time": "2023-09-29T08:07:50.446Z"
   },
   {
    "duration": 0,
    "start_time": "2023-09-29T08:07:50.568Z"
   },
   {
    "duration": 0,
    "start_time": "2023-09-29T08:07:50.571Z"
   },
   {
    "duration": 0,
    "start_time": "2023-09-29T08:07:50.571Z"
   },
   {
    "duration": 0,
    "start_time": "2023-09-29T08:07:50.573Z"
   },
   {
    "duration": 0,
    "start_time": "2023-09-29T08:07:50.574Z"
   },
   {
    "duration": 0,
    "start_time": "2023-09-29T08:07:50.576Z"
   },
   {
    "duration": 0,
    "start_time": "2023-09-29T08:07:50.577Z"
   },
   {
    "duration": 3,
    "start_time": "2023-09-29T08:08:19.490Z"
   },
   {
    "duration": 31,
    "start_time": "2023-09-29T08:08:19.495Z"
   },
   {
    "duration": 118,
    "start_time": "2023-09-29T08:08:19.528Z"
   },
   {
    "duration": 11,
    "start_time": "2023-09-29T08:08:19.648Z"
   },
   {
    "duration": 36,
    "start_time": "2023-09-29T08:08:19.662Z"
   },
   {
    "duration": 35,
    "start_time": "2023-09-29T08:08:19.700Z"
   },
   {
    "duration": 146,
    "start_time": "2023-09-29T08:08:19.736Z"
   },
   {
    "duration": 157,
    "start_time": "2023-09-29T08:08:19.884Z"
   },
   {
    "duration": 135,
    "start_time": "2023-09-29T08:08:20.043Z"
   },
   {
    "duration": 125,
    "start_time": "2023-09-29T08:08:20.182Z"
   },
   {
    "duration": 13,
    "start_time": "2023-09-29T08:08:20.309Z"
   },
   {
    "duration": 29,
    "start_time": "2023-09-29T08:08:20.324Z"
   },
   {
    "duration": 54,
    "start_time": "2023-09-29T08:08:20.355Z"
   },
   {
    "duration": 855,
    "start_time": "2023-09-29T08:08:20.411Z"
   },
   {
    "duration": 125,
    "start_time": "2023-09-29T08:08:21.268Z"
   },
   {
    "duration": 11,
    "start_time": "2023-09-29T08:08:21.402Z"
   },
   {
    "duration": 82,
    "start_time": "2023-09-29T08:08:21.415Z"
   },
   {
    "duration": 137,
    "start_time": "2023-09-29T08:08:21.499Z"
   },
   {
    "duration": 143,
    "start_time": "2023-09-29T08:08:21.638Z"
   },
   {
    "duration": 144,
    "start_time": "2023-09-29T08:08:21.783Z"
   },
   {
    "duration": 7,
    "start_time": "2023-09-29T08:08:21.929Z"
   },
   {
    "duration": 22,
    "start_time": "2023-09-29T08:08:21.938Z"
   },
   {
    "duration": 29,
    "start_time": "2023-09-29T08:08:21.962Z"
   },
   {
    "duration": 67,
    "start_time": "2023-09-29T08:08:21.993Z"
   },
   {
    "duration": 60,
    "start_time": "2023-09-29T08:08:22.062Z"
   },
   {
    "duration": 6,
    "start_time": "2023-09-29T08:08:22.124Z"
   },
   {
    "duration": 26,
    "start_time": "2023-09-29T08:08:22.133Z"
   },
   {
    "duration": 206,
    "start_time": "2023-09-29T08:08:22.164Z"
   },
   {
    "duration": 348,
    "start_time": "2023-09-29T08:08:22.372Z"
   },
   {
    "duration": 9,
    "start_time": "2023-09-29T08:08:22.722Z"
   },
   {
    "duration": 12,
    "start_time": "2023-09-29T08:08:22.732Z"
   },
   {
    "duration": 40,
    "start_time": "2023-09-29T08:08:22.746Z"
   },
   {
    "duration": 131,
    "start_time": "2023-09-29T08:08:22.788Z"
   },
   {
    "duration": 196,
    "start_time": "2023-09-29T08:08:22.921Z"
   },
   {
    "duration": 85,
    "start_time": "2023-09-29T08:08:23.119Z"
   },
   {
    "duration": 27,
    "start_time": "2023-09-29T08:08:23.206Z"
   },
   {
    "duration": 45,
    "start_time": "2023-09-29T08:08:23.234Z"
   },
   {
    "duration": 37,
    "start_time": "2023-09-29T08:08:23.281Z"
   },
   {
    "duration": 921,
    "start_time": "2023-09-29T08:08:23.320Z"
   },
   {
    "duration": 216,
    "start_time": "2023-09-29T08:08:24.244Z"
   },
   {
    "duration": 407,
    "start_time": "2023-09-29T08:08:24.462Z"
   },
   {
    "duration": 22140,
    "start_time": "2023-09-29T08:08:24.871Z"
   },
   {
    "duration": 0,
    "start_time": "2023-09-29T08:08:47.014Z"
   },
   {
    "duration": 0,
    "start_time": "2023-09-29T08:08:47.015Z"
   },
   {
    "duration": 0,
    "start_time": "2023-09-29T08:08:47.016Z"
   },
   {
    "duration": 0,
    "start_time": "2023-09-29T08:08:47.018Z"
   },
   {
    "duration": 0,
    "start_time": "2023-09-29T08:08:47.019Z"
   },
   {
    "duration": 11,
    "start_time": "2023-09-29T08:13:42.007Z"
   },
   {
    "duration": 2816,
    "start_time": "2023-09-29T08:14:44.128Z"
   },
   {
    "duration": 10,
    "start_time": "2023-09-29T08:15:41.933Z"
   },
   {
    "duration": 4,
    "start_time": "2023-09-29T08:17:04.228Z"
   },
   {
    "duration": 13,
    "start_time": "2023-09-29T08:17:06.764Z"
   },
   {
    "duration": 3,
    "start_time": "2023-09-29T08:18:33.166Z"
   },
   {
    "duration": 13,
    "start_time": "2023-09-29T08:18:35.992Z"
   },
   {
    "duration": 3,
    "start_time": "2023-09-29T08:20:05.400Z"
   },
   {
    "duration": 11,
    "start_time": "2023-09-29T08:20:08.814Z"
   },
   {
    "duration": 3,
    "start_time": "2023-09-29T08:21:10.522Z"
   },
   {
    "duration": 45,
    "start_time": "2023-09-29T08:21:10.528Z"
   },
   {
    "duration": 106,
    "start_time": "2023-09-29T08:21:10.576Z"
   },
   {
    "duration": 19,
    "start_time": "2023-09-29T08:21:10.684Z"
   },
   {
    "duration": 61,
    "start_time": "2023-09-29T08:21:10.706Z"
   },
   {
    "duration": 49,
    "start_time": "2023-09-29T08:21:10.768Z"
   },
   {
    "duration": 222,
    "start_time": "2023-09-29T08:21:10.820Z"
   },
   {
    "duration": 147,
    "start_time": "2023-09-29T08:21:11.043Z"
   },
   {
    "duration": 158,
    "start_time": "2023-09-29T08:21:11.192Z"
   },
   {
    "duration": 256,
    "start_time": "2023-09-29T08:21:11.352Z"
   },
   {
    "duration": 222,
    "start_time": "2023-09-29T08:21:11.611Z"
   },
   {
    "duration": 202,
    "start_time": "2023-09-29T08:21:11.835Z"
   },
   {
    "duration": 29,
    "start_time": "2023-09-29T08:21:12.039Z"
   },
   {
    "duration": 686,
    "start_time": "2023-09-29T08:21:12.071Z"
   },
   {
    "duration": 130,
    "start_time": "2023-09-29T08:21:12.759Z"
   },
   {
    "duration": 8,
    "start_time": "2023-09-29T08:21:12.901Z"
   },
   {
    "duration": 55,
    "start_time": "2023-09-29T08:21:12.911Z"
   },
   {
    "duration": 173,
    "start_time": "2023-09-29T08:21:12.968Z"
   },
   {
    "duration": 146,
    "start_time": "2023-09-29T08:21:13.143Z"
   },
   {
    "duration": 144,
    "start_time": "2023-09-29T08:21:13.290Z"
   },
   {
    "duration": 7,
    "start_time": "2023-09-29T08:21:13.436Z"
   },
   {
    "duration": 24,
    "start_time": "2023-09-29T08:21:13.445Z"
   },
   {
    "duration": 48,
    "start_time": "2023-09-29T08:21:13.470Z"
   },
   {
    "duration": 8,
    "start_time": "2023-09-29T08:21:13.520Z"
   },
   {
    "duration": 19,
    "start_time": "2023-09-29T08:21:13.530Z"
   },
   {
    "duration": 31,
    "start_time": "2023-09-29T08:21:13.551Z"
   },
   {
    "duration": 30,
    "start_time": "2023-09-29T08:21:13.584Z"
   },
   {
    "duration": 197,
    "start_time": "2023-09-29T08:21:13.615Z"
   },
   {
    "duration": 364,
    "start_time": "2023-09-29T08:21:13.814Z"
   },
   {
    "duration": 9,
    "start_time": "2023-09-29T08:21:14.180Z"
   },
   {
    "duration": 44,
    "start_time": "2023-09-29T08:21:14.202Z"
   },
   {
    "duration": 63,
    "start_time": "2023-09-29T08:21:14.248Z"
   },
   {
    "duration": 26,
    "start_time": "2023-09-29T08:21:14.313Z"
   },
   {
    "duration": 53,
    "start_time": "2023-09-29T08:21:14.341Z"
   },
   {
    "duration": 82,
    "start_time": "2023-09-29T08:21:14.396Z"
   },
   {
    "duration": 54,
    "start_time": "2023-09-29T08:21:14.480Z"
   },
   {
    "duration": 36,
    "start_time": "2023-09-29T08:21:14.536Z"
   },
   {
    "duration": 58,
    "start_time": "2023-09-29T08:21:14.575Z"
   },
   {
    "duration": 34,
    "start_time": "2023-09-29T08:21:14.635Z"
   },
   {
    "duration": 49,
    "start_time": "2023-09-29T08:21:14.672Z"
   },
   {
    "duration": 961,
    "start_time": "2023-09-29T08:21:14.727Z"
   },
   {
    "duration": 205,
    "start_time": "2023-09-29T08:21:15.690Z"
   },
   {
    "duration": 417,
    "start_time": "2023-09-29T08:21:15.901Z"
   },
   {
    "duration": 26788,
    "start_time": "2023-09-29T08:21:16.320Z"
   },
   {
    "duration": 0,
    "start_time": "2023-09-29T08:21:43.110Z"
   },
   {
    "duration": 0,
    "start_time": "2023-09-29T08:21:43.111Z"
   },
   {
    "duration": 0,
    "start_time": "2023-09-29T08:21:43.113Z"
   },
   {
    "duration": 0,
    "start_time": "2023-09-29T08:21:43.114Z"
   },
   {
    "duration": 0,
    "start_time": "2023-09-29T08:21:43.115Z"
   },
   {
    "duration": 3,
    "start_time": "2023-09-29T08:22:01.946Z"
   },
   {
    "duration": 9,
    "start_time": "2023-09-29T08:22:04.497Z"
   },
   {
    "duration": 3,
    "start_time": "2023-09-29T08:22:23.306Z"
   },
   {
    "duration": 11,
    "start_time": "2023-09-29T08:22:26.754Z"
   },
   {
    "duration": 4,
    "start_time": "2023-09-29T08:23:04.622Z"
   },
   {
    "duration": 52,
    "start_time": "2023-09-29T08:23:04.629Z"
   },
   {
    "duration": 174,
    "start_time": "2023-09-29T08:23:04.684Z"
   },
   {
    "duration": 12,
    "start_time": "2023-09-29T08:23:04.861Z"
   },
   {
    "duration": 45,
    "start_time": "2023-09-29T08:23:04.875Z"
   },
   {
    "duration": 78,
    "start_time": "2023-09-29T08:23:04.922Z"
   },
   {
    "duration": 217,
    "start_time": "2023-09-29T08:23:05.002Z"
   },
   {
    "duration": 484,
    "start_time": "2023-09-29T08:23:05.221Z"
   },
   {
    "duration": 606,
    "start_time": "2023-09-29T08:23:05.707Z"
   },
   {
    "duration": 156,
    "start_time": "2023-09-29T08:23:06.316Z"
   },
   {
    "duration": 58,
    "start_time": "2023-09-29T08:23:06.474Z"
   },
   {
    "duration": 63,
    "start_time": "2023-09-29T08:23:06.534Z"
   },
   {
    "duration": 37,
    "start_time": "2023-09-29T08:23:06.599Z"
   },
   {
    "duration": 716,
    "start_time": "2023-09-29T08:23:06.639Z"
   },
   {
    "duration": 124,
    "start_time": "2023-09-29T08:23:07.356Z"
   },
   {
    "duration": 302,
    "start_time": "2023-09-29T08:23:07.482Z"
   },
   {
    "duration": 71,
    "start_time": "2023-09-29T08:23:07.785Z"
   },
   {
    "duration": 153,
    "start_time": "2023-09-29T08:23:07.858Z"
   },
   {
    "duration": 156,
    "start_time": "2023-09-29T08:23:08.013Z"
   },
   {
    "duration": 152,
    "start_time": "2023-09-29T08:23:08.171Z"
   },
   {
    "duration": 7,
    "start_time": "2023-09-29T08:23:08.325Z"
   },
   {
    "duration": 478,
    "start_time": "2023-09-29T08:23:08.333Z"
   },
   {
    "duration": 408,
    "start_time": "2023-09-29T08:23:08.813Z"
   },
   {
    "duration": 58,
    "start_time": "2023-09-29T08:23:09.223Z"
   },
   {
    "duration": 57,
    "start_time": "2023-09-29T08:23:09.282Z"
   },
   {
    "duration": 71,
    "start_time": "2023-09-29T08:23:09.341Z"
   },
   {
    "duration": 156,
    "start_time": "2023-09-29T08:23:09.414Z"
   },
   {
    "duration": 523,
    "start_time": "2023-09-29T08:23:09.574Z"
   },
   {
    "duration": 338,
    "start_time": "2023-09-29T08:23:10.099Z"
   },
   {
    "duration": 10,
    "start_time": "2023-09-29T08:23:10.439Z"
   },
   {
    "duration": 161,
    "start_time": "2023-09-29T08:23:10.451Z"
   },
   {
    "duration": 89,
    "start_time": "2023-09-29T08:23:10.614Z"
   },
   {
    "duration": 18,
    "start_time": "2023-09-29T08:23:10.705Z"
   },
   {
    "duration": 38,
    "start_time": "2023-09-29T08:23:10.725Z"
   },
   {
    "duration": 17,
    "start_time": "2023-09-29T08:23:10.765Z"
   },
   {
    "duration": 29,
    "start_time": "2023-09-29T08:23:10.784Z"
   },
   {
    "duration": 16,
    "start_time": "2023-09-29T08:23:10.815Z"
   },
   {
    "duration": 64,
    "start_time": "2023-09-29T08:23:10.833Z"
   },
   {
    "duration": 50,
    "start_time": "2023-09-29T08:23:10.899Z"
   },
   {
    "duration": 45,
    "start_time": "2023-09-29T08:23:10.951Z"
   },
   {
    "duration": 966,
    "start_time": "2023-09-29T08:23:10.999Z"
   },
   {
    "duration": 210,
    "start_time": "2023-09-29T08:23:11.967Z"
   },
   {
    "duration": 384,
    "start_time": "2023-09-29T08:23:12.179Z"
   },
   {
    "duration": 24077,
    "start_time": "2023-09-29T08:23:12.565Z"
   },
   {
    "duration": 0,
    "start_time": "2023-09-29T08:23:36.644Z"
   },
   {
    "duration": 0,
    "start_time": "2023-09-29T08:23:36.646Z"
   },
   {
    "duration": 0,
    "start_time": "2023-09-29T08:23:36.648Z"
   },
   {
    "duration": 0,
    "start_time": "2023-09-29T08:23:36.649Z"
   },
   {
    "duration": 0,
    "start_time": "2023-09-29T08:23:36.650Z"
   },
   {
    "duration": 3,
    "start_time": "2023-09-29T08:26:14.006Z"
   },
   {
    "duration": 10,
    "start_time": "2023-09-29T08:26:17.781Z"
   },
   {
    "duration": 19,
    "start_time": "2023-09-29T08:26:44.430Z"
   },
   {
    "duration": 3,
    "start_time": "2023-09-29T08:27:25.080Z"
   },
   {
    "duration": 12,
    "start_time": "2023-09-29T08:27:29.646Z"
   },
   {
    "duration": 1290,
    "start_time": "2023-09-29T08:27:44.365Z"
   },
   {
    "duration": 365,
    "start_time": "2023-09-29T08:27:45.657Z"
   },
   {
    "duration": 98,
    "start_time": "2023-09-29T08:27:46.024Z"
   },
   {
    "duration": 18,
    "start_time": "2023-09-29T08:27:46.124Z"
   },
   {
    "duration": 60,
    "start_time": "2023-09-29T08:27:46.144Z"
   },
   {
    "duration": 49,
    "start_time": "2023-09-29T08:27:46.206Z"
   },
   {
    "duration": 156,
    "start_time": "2023-09-29T08:27:46.257Z"
   },
   {
    "duration": 161,
    "start_time": "2023-09-29T08:27:46.415Z"
   },
   {
    "duration": 160,
    "start_time": "2023-09-29T08:27:46.578Z"
   },
   {
    "duration": 230,
    "start_time": "2023-09-29T08:27:46.741Z"
   },
   {
    "duration": 18,
    "start_time": "2023-09-29T08:27:46.973Z"
   },
   {
    "duration": 16,
    "start_time": "2023-09-29T08:27:47.002Z"
   },
   {
    "duration": 59,
    "start_time": "2023-09-29T08:27:47.019Z"
   },
   {
    "duration": 732,
    "start_time": "2023-09-29T08:27:47.080Z"
   },
   {
    "duration": 145,
    "start_time": "2023-09-29T08:27:47.814Z"
   },
   {
    "duration": 10,
    "start_time": "2023-09-29T08:27:47.961Z"
   },
   {
    "duration": 30,
    "start_time": "2023-09-29T08:27:47.973Z"
   },
   {
    "duration": 185,
    "start_time": "2023-09-29T08:27:48.005Z"
   },
   {
    "duration": 186,
    "start_time": "2023-09-29T08:27:48.193Z"
   },
   {
    "duration": 159,
    "start_time": "2023-09-29T08:27:48.381Z"
   },
   {
    "duration": 7,
    "start_time": "2023-09-29T08:27:48.543Z"
   },
   {
    "duration": 39,
    "start_time": "2023-09-29T08:27:48.554Z"
   },
   {
    "duration": 59,
    "start_time": "2023-09-29T08:27:48.595Z"
   },
   {
    "duration": 13,
    "start_time": "2023-09-29T08:27:48.657Z"
   },
   {
    "duration": 15,
    "start_time": "2023-09-29T08:27:48.672Z"
   },
   {
    "duration": 22,
    "start_time": "2023-09-29T08:27:48.689Z"
   },
   {
    "duration": 35,
    "start_time": "2023-09-29T08:27:48.713Z"
   },
   {
    "duration": 196,
    "start_time": "2023-09-29T08:27:48.752Z"
   },
   {
    "duration": 532,
    "start_time": "2023-09-29T08:27:48.950Z"
   },
   {
    "duration": 19,
    "start_time": "2023-09-29T08:27:49.483Z"
   },
   {
    "duration": 12,
    "start_time": "2023-09-29T08:27:49.504Z"
   },
   {
    "duration": 72,
    "start_time": "2023-09-29T08:27:49.518Z"
   },
   {
    "duration": 22,
    "start_time": "2023-09-29T08:27:49.592Z"
   },
   {
    "duration": 33,
    "start_time": "2023-09-29T08:27:49.615Z"
   },
   {
    "duration": 24,
    "start_time": "2023-09-29T08:27:49.650Z"
   },
   {
    "duration": 6,
    "start_time": "2023-09-29T08:27:49.677Z"
   },
   {
    "duration": 30,
    "start_time": "2023-09-29T08:27:49.685Z"
   },
   {
    "duration": 22,
    "start_time": "2023-09-29T08:27:49.716Z"
   },
   {
    "duration": 54,
    "start_time": "2023-09-29T08:27:49.741Z"
   },
   {
    "duration": 37,
    "start_time": "2023-09-29T08:27:49.797Z"
   },
   {
    "duration": 18,
    "start_time": "2023-09-29T08:27:49.836Z"
   },
   {
    "duration": 949,
    "start_time": "2023-09-29T08:27:49.856Z"
   },
   {
    "duration": 207,
    "start_time": "2023-09-29T08:27:50.806Z"
   },
   {
    "duration": 415,
    "start_time": "2023-09-29T08:27:51.015Z"
   },
   {
    "duration": 26542,
    "start_time": "2023-09-29T08:27:51.432Z"
   },
   {
    "duration": 0,
    "start_time": "2023-09-29T08:28:17.976Z"
   },
   {
    "duration": 0,
    "start_time": "2023-09-29T08:28:17.977Z"
   },
   {
    "duration": 0,
    "start_time": "2023-09-29T08:28:17.978Z"
   },
   {
    "duration": 1,
    "start_time": "2023-09-29T08:28:17.978Z"
   },
   {
    "duration": 0,
    "start_time": "2023-09-29T08:28:17.980Z"
   },
   {
    "duration": 12,
    "start_time": "2023-09-29T08:45:10.290Z"
   },
   {
    "duration": 25,
    "start_time": "2023-09-29T08:45:14.559Z"
   },
   {
    "duration": 3,
    "start_time": "2023-09-29T08:45:18.418Z"
   },
   {
    "duration": 11,
    "start_time": "2023-09-29T08:45:21.136Z"
   },
   {
    "duration": 2030,
    "start_time": "2023-09-29T08:47:21.575Z"
   },
   {
    "duration": 2007,
    "start_time": "2023-09-29T08:47:37.177Z"
   },
   {
    "duration": 10,
    "start_time": "2023-09-29T08:53:17.965Z"
   },
   {
    "duration": 13,
    "start_time": "2023-09-29T08:54:14.437Z"
   },
   {
    "duration": 1974,
    "start_time": "2023-09-29T08:54:53.086Z"
   },
   {
    "duration": 9,
    "start_time": "2023-09-29T08:55:11.582Z"
   },
   {
    "duration": 3,
    "start_time": "2023-09-29T08:55:48.190Z"
   },
   {
    "duration": 5,
    "start_time": "2023-09-29T08:56:11.159Z"
   },
   {
    "duration": 2081,
    "start_time": "2023-09-29T08:56:56.775Z"
   },
   {
    "duration": 2681,
    "start_time": "2023-09-29T08:57:09.416Z"
   },
   {
    "duration": 1896,
    "start_time": "2023-09-29T08:57:45.416Z"
   },
   {
    "duration": 2,
    "start_time": "2023-09-29T08:59:07.882Z"
   },
   {
    "duration": 5,
    "start_time": "2023-09-29T08:59:11.515Z"
   },
   {
    "duration": 9,
    "start_time": "2023-09-29T08:59:54.905Z"
   },
   {
    "duration": 3,
    "start_time": "2023-09-29T09:00:04.011Z"
   },
   {
    "duration": 4,
    "start_time": "2023-09-29T09:00:45.227Z"
   },
   {
    "duration": 6,
    "start_time": "2023-09-29T09:00:51.771Z"
   },
   {
    "duration": 8,
    "start_time": "2023-09-29T09:01:03.942Z"
   },
   {
    "duration": 2,
    "start_time": "2023-09-29T09:22:48.146Z"
   },
   {
    "duration": 4,
    "start_time": "2023-09-29T09:22:57.490Z"
   },
   {
    "duration": 14,
    "start_time": "2023-09-29T09:23:02.738Z"
   },
   {
    "duration": 3,
    "start_time": "2023-09-29T09:23:27.570Z"
   },
   {
    "duration": 4,
    "start_time": "2023-09-29T09:23:29.931Z"
   },
   {
    "duration": 12,
    "start_time": "2023-09-29T09:23:32.835Z"
   },
   {
    "duration": 7,
    "start_time": "2023-09-29T09:25:39.604Z"
   },
   {
    "duration": 11,
    "start_time": "2023-09-29T09:25:47.973Z"
   },
   {
    "duration": 21,
    "start_time": "2023-09-29T09:26:10.062Z"
   },
   {
    "duration": 4,
    "start_time": "2023-09-29T09:26:29.661Z"
   },
   {
    "duration": 5,
    "start_time": "2023-09-29T09:27:05.295Z"
   },
   {
    "duration": 9,
    "start_time": "2023-09-29T09:27:13.167Z"
   },
   {
    "duration": 4,
    "start_time": "2023-09-29T09:29:03.273Z"
   },
   {
    "duration": 3,
    "start_time": "2023-09-29T09:29:47.290Z"
   },
   {
    "duration": 319,
    "start_time": "2023-09-29T09:31:53.124Z"
   },
   {
    "duration": 22,
    "start_time": "2023-09-29T09:32:35.654Z"
   },
   {
    "duration": 25,
    "start_time": "2023-09-29T09:35:34.593Z"
   },
   {
    "duration": 17,
    "start_time": "2023-09-29T09:35:37.280Z"
   },
   {
    "duration": 5,
    "start_time": "2023-09-29T09:37:53.626Z"
   },
   {
    "duration": 4,
    "start_time": "2023-09-29T09:38:31.371Z"
   },
   {
    "duration": 1270,
    "start_time": "2023-09-29T09:56:51.676Z"
   },
   {
    "duration": 330,
    "start_time": "2023-09-29T09:56:52.948Z"
   },
   {
    "duration": 101,
    "start_time": "2023-09-29T09:56:53.280Z"
   },
   {
    "duration": 22,
    "start_time": "2023-09-29T09:56:53.385Z"
   },
   {
    "duration": 36,
    "start_time": "2023-09-29T09:56:53.408Z"
   },
   {
    "duration": 66,
    "start_time": "2023-09-29T09:56:53.446Z"
   },
   {
    "duration": 220,
    "start_time": "2023-09-29T09:56:53.514Z"
   },
   {
    "duration": 151,
    "start_time": "2023-09-29T09:56:53.736Z"
   },
   {
    "duration": 130,
    "start_time": "2023-09-29T09:56:53.888Z"
   },
   {
    "duration": 208,
    "start_time": "2023-09-29T09:56:54.021Z"
   },
   {
    "duration": 15,
    "start_time": "2023-09-29T09:56:54.231Z"
   },
   {
    "duration": 36,
    "start_time": "2023-09-29T09:56:54.248Z"
   },
   {
    "duration": 36,
    "start_time": "2023-09-29T09:56:54.287Z"
   },
   {
    "duration": 769,
    "start_time": "2023-09-29T09:56:54.325Z"
   },
   {
    "duration": 132,
    "start_time": "2023-09-29T09:56:55.101Z"
   },
   {
    "duration": 8,
    "start_time": "2023-09-29T09:56:55.235Z"
   },
   {
    "duration": 100,
    "start_time": "2023-09-29T09:56:55.245Z"
   },
   {
    "duration": 181,
    "start_time": "2023-09-29T09:56:55.347Z"
   },
   {
    "duration": 157,
    "start_time": "2023-09-29T09:56:55.530Z"
   },
   {
    "duration": 158,
    "start_time": "2023-09-29T09:56:55.689Z"
   },
   {
    "duration": 8,
    "start_time": "2023-09-29T09:56:55.849Z"
   },
   {
    "duration": 40,
    "start_time": "2023-09-29T09:56:55.859Z"
   },
   {
    "duration": 66,
    "start_time": "2023-09-29T09:56:55.902Z"
   },
   {
    "duration": 20,
    "start_time": "2023-09-29T09:56:55.970Z"
   },
   {
    "duration": 26,
    "start_time": "2023-09-29T09:56:55.992Z"
   },
   {
    "duration": 26,
    "start_time": "2023-09-29T09:56:56.019Z"
   },
   {
    "duration": 64,
    "start_time": "2023-09-29T09:56:56.047Z"
   },
   {
    "duration": 264,
    "start_time": "2023-09-29T09:56:56.115Z"
   },
   {
    "duration": 643,
    "start_time": "2023-09-29T09:56:56.381Z"
   },
   {
    "duration": 10,
    "start_time": "2023-09-29T09:56:57.025Z"
   },
   {
    "duration": 25,
    "start_time": "2023-09-29T09:56:57.038Z"
   },
   {
    "duration": 57,
    "start_time": "2023-09-29T09:56:57.065Z"
   },
   {
    "duration": 32,
    "start_time": "2023-09-29T09:56:57.124Z"
   },
   {
    "duration": 53,
    "start_time": "2023-09-29T09:56:57.159Z"
   },
   {
    "duration": 37,
    "start_time": "2023-09-29T09:56:57.214Z"
   },
   {
    "duration": 28,
    "start_time": "2023-09-29T09:56:57.253Z"
   },
   {
    "duration": 32,
    "start_time": "2023-09-29T09:56:57.283Z"
   },
   {
    "duration": 35,
    "start_time": "2023-09-29T09:56:57.318Z"
   },
   {
    "duration": 64,
    "start_time": "2023-09-29T09:56:57.355Z"
   },
   {
    "duration": 16,
    "start_time": "2023-09-29T09:56:57.422Z"
   },
   {
    "duration": 34,
    "start_time": "2023-09-29T09:56:57.440Z"
   },
   {
    "duration": 18,
    "start_time": "2023-09-29T09:56:57.476Z"
   },
   {
    "duration": 531,
    "start_time": "2023-09-29T09:56:57.496Z"
   },
   {
    "duration": 114,
    "start_time": "2023-09-29T09:56:58.029Z"
   },
   {
    "duration": 225,
    "start_time": "2023-09-29T09:56:58.145Z"
   },
   {
    "duration": 21984,
    "start_time": "2023-09-29T09:56:58.372Z"
   },
   {
    "duration": 0,
    "start_time": "2023-09-29T09:57:20.358Z"
   },
   {
    "duration": 0,
    "start_time": "2023-09-29T09:57:20.359Z"
   },
   {
    "duration": 0,
    "start_time": "2023-09-29T09:57:20.361Z"
   },
   {
    "duration": 0,
    "start_time": "2023-09-29T09:57:20.362Z"
   },
   {
    "duration": 0,
    "start_time": "2023-09-29T09:57:20.363Z"
   },
   {
    "duration": 10,
    "start_time": "2023-09-29T09:57:36.247Z"
   },
   {
    "duration": 6,
    "start_time": "2023-09-29T09:58:43.352Z"
   },
   {
    "duration": 5,
    "start_time": "2023-09-29T09:58:46.625Z"
   },
   {
    "duration": 9,
    "start_time": "2023-09-29T09:58:49.376Z"
   },
   {
    "duration": 481,
    "start_time": "2023-09-29T09:58:53.304Z"
   },
   {
    "duration": 114,
    "start_time": "2023-09-29T09:58:57.280Z"
   },
   {
    "duration": 231,
    "start_time": "2023-09-29T09:59:04.281Z"
   },
   {
    "duration": 23908,
    "start_time": "2023-09-29T09:59:08.844Z"
   },
   {
    "duration": 13,
    "start_time": "2023-09-29T10:18:04.637Z"
   },
   {
    "duration": 1205,
    "start_time": "2023-09-29T10:19:06.550Z"
   },
   {
    "duration": 367,
    "start_time": "2023-09-29T10:19:07.757Z"
   },
   {
    "duration": 103,
    "start_time": "2023-09-29T10:19:08.126Z"
   },
   {
    "duration": 159,
    "start_time": "2023-09-29T10:19:08.231Z"
   },
   {
    "duration": 46,
    "start_time": "2023-09-29T10:19:08.392Z"
   },
   {
    "duration": 25,
    "start_time": "2023-09-29T10:19:08.440Z"
   },
   {
    "duration": 200,
    "start_time": "2023-09-29T10:19:08.467Z"
   },
   {
    "duration": 175,
    "start_time": "2023-09-29T10:19:08.669Z"
   },
   {
    "duration": 135,
    "start_time": "2023-09-29T10:19:08.845Z"
   },
   {
    "duration": 197,
    "start_time": "2023-09-29T10:19:08.983Z"
   },
   {
    "duration": 22,
    "start_time": "2023-09-29T10:19:09.182Z"
   },
   {
    "duration": 70,
    "start_time": "2023-09-29T10:19:09.206Z"
   },
   {
    "duration": 48,
    "start_time": "2023-09-29T10:19:09.278Z"
   },
   {
    "duration": 726,
    "start_time": "2023-09-29T10:19:09.328Z"
   },
   {
    "duration": 126,
    "start_time": "2023-09-29T10:19:10.055Z"
   },
   {
    "duration": 20,
    "start_time": "2023-09-29T10:19:10.183Z"
   },
   {
    "duration": 40,
    "start_time": "2023-09-29T10:19:10.205Z"
   },
   {
    "duration": 133,
    "start_time": "2023-09-29T10:19:10.246Z"
   },
   {
    "duration": 175,
    "start_time": "2023-09-29T10:19:10.381Z"
   },
   {
    "duration": 154,
    "start_time": "2023-09-29T10:19:10.558Z"
   },
   {
    "duration": 7,
    "start_time": "2023-09-29T10:19:10.713Z"
   },
   {
    "duration": 30,
    "start_time": "2023-09-29T10:19:10.723Z"
   },
   {
    "duration": 34,
    "start_time": "2023-09-29T10:19:10.755Z"
   },
   {
    "duration": 31,
    "start_time": "2023-09-29T10:19:10.791Z"
   },
   {
    "duration": 12,
    "start_time": "2023-09-29T10:19:10.825Z"
   },
   {
    "duration": 34,
    "start_time": "2023-09-29T10:19:10.839Z"
   },
   {
    "duration": 31,
    "start_time": "2023-09-29T10:19:10.875Z"
   },
   {
    "duration": 206,
    "start_time": "2023-09-29T10:19:10.910Z"
   },
   {
    "duration": 538,
    "start_time": "2023-09-29T10:19:11.118Z"
   },
   {
    "duration": 9,
    "start_time": "2023-09-29T10:19:11.658Z"
   },
   {
    "duration": 25,
    "start_time": "2023-09-29T10:19:11.669Z"
   },
   {
    "duration": 61,
    "start_time": "2023-09-29T10:19:11.696Z"
   },
   {
    "duration": 19,
    "start_time": "2023-09-29T10:19:11.759Z"
   },
   {
    "duration": 119,
    "start_time": "2023-09-29T10:19:11.780Z"
   },
   {
    "duration": 32,
    "start_time": "2023-09-29T10:19:11.901Z"
   },
   {
    "duration": 33,
    "start_time": "2023-09-29T10:19:11.935Z"
   },
   {
    "duration": 45,
    "start_time": "2023-09-29T10:19:11.969Z"
   },
   {
    "duration": 47,
    "start_time": "2023-09-29T10:19:12.016Z"
   },
   {
    "duration": 51,
    "start_time": "2023-09-29T10:19:12.064Z"
   },
   {
    "duration": 17,
    "start_time": "2023-09-29T10:19:12.116Z"
   },
   {
    "duration": 51,
    "start_time": "2023-09-29T10:19:12.134Z"
   },
   {
    "duration": 32,
    "start_time": "2023-09-29T10:19:12.187Z"
   },
   {
    "duration": 57,
    "start_time": "2023-09-29T10:19:12.221Z"
   },
   {
    "duration": 153,
    "start_time": "2023-09-29T10:19:12.280Z"
   },
   {
    "duration": 0,
    "start_time": "2023-09-29T10:19:12.435Z"
   },
   {
    "duration": 0,
    "start_time": "2023-09-29T10:19:12.436Z"
   },
   {
    "duration": 0,
    "start_time": "2023-09-29T10:19:12.437Z"
   },
   {
    "duration": 0,
    "start_time": "2023-09-29T10:19:12.439Z"
   },
   {
    "duration": 0,
    "start_time": "2023-09-29T10:19:12.440Z"
   },
   {
    "duration": 0,
    "start_time": "2023-09-29T10:19:12.441Z"
   },
   {
    "duration": 0,
    "start_time": "2023-09-29T10:19:12.442Z"
   },
   {
    "duration": 0,
    "start_time": "2023-09-29T10:19:12.443Z"
   },
   {
    "duration": 0,
    "start_time": "2023-09-29T10:19:12.444Z"
   },
   {
    "duration": 0,
    "start_time": "2023-09-29T10:19:12.445Z"
   },
   {
    "duration": 0,
    "start_time": "2023-09-29T10:19:12.447Z"
   },
   {
    "duration": 1350,
    "start_time": "2023-09-29T10:22:22.209Z"
   },
   {
    "duration": 440,
    "start_time": "2023-09-29T10:22:23.563Z"
   },
   {
    "duration": 101,
    "start_time": "2023-09-29T10:22:24.005Z"
   },
   {
    "duration": 17,
    "start_time": "2023-09-29T10:22:24.109Z"
   },
   {
    "duration": 136,
    "start_time": "2023-09-29T10:22:24.128Z"
   },
   {
    "duration": 40,
    "start_time": "2023-09-29T10:22:24.266Z"
   },
   {
    "duration": 226,
    "start_time": "2023-09-29T10:22:24.308Z"
   },
   {
    "duration": 220,
    "start_time": "2023-09-29T10:22:24.537Z"
   },
   {
    "duration": 145,
    "start_time": "2023-09-29T10:22:24.759Z"
   },
   {
    "duration": 213,
    "start_time": "2023-09-29T10:22:24.907Z"
   },
   {
    "duration": 13,
    "start_time": "2023-09-29T10:22:25.122Z"
   },
   {
    "duration": 47,
    "start_time": "2023-09-29T10:22:25.137Z"
   },
   {
    "duration": 65,
    "start_time": "2023-09-29T10:22:25.186Z"
   },
   {
    "duration": 788,
    "start_time": "2023-09-29T10:22:25.253Z"
   },
   {
    "duration": 136,
    "start_time": "2023-09-29T10:22:26.042Z"
   },
   {
    "duration": 129,
    "start_time": "2023-09-29T10:22:26.180Z"
   },
   {
    "duration": 99,
    "start_time": "2023-09-29T10:22:26.310Z"
   },
   {
    "duration": 191,
    "start_time": "2023-09-29T10:22:26.410Z"
   },
   {
    "duration": 171,
    "start_time": "2023-09-29T10:22:26.603Z"
   },
   {
    "duration": 156,
    "start_time": "2023-09-29T10:22:26.775Z"
   },
   {
    "duration": 7,
    "start_time": "2023-09-29T10:22:26.933Z"
   },
   {
    "duration": 66,
    "start_time": "2023-09-29T10:22:26.942Z"
   },
   {
    "duration": 95,
    "start_time": "2023-09-29T10:22:27.010Z"
   },
   {
    "duration": 89,
    "start_time": "2023-09-29T10:22:27.106Z"
   },
   {
    "duration": 44,
    "start_time": "2023-09-29T10:22:27.197Z"
   },
   {
    "duration": 20,
    "start_time": "2023-09-29T10:22:27.243Z"
   },
   {
    "duration": 131,
    "start_time": "2023-09-29T10:22:27.264Z"
   },
   {
    "duration": 284,
    "start_time": "2023-09-29T10:22:27.399Z"
   },
   {
    "duration": 595,
    "start_time": "2023-09-29T10:22:27.685Z"
   },
   {
    "duration": 20,
    "start_time": "2023-09-29T10:22:28.282Z"
   },
   {
    "duration": 41,
    "start_time": "2023-09-29T10:22:28.304Z"
   },
   {
    "duration": 59,
    "start_time": "2023-09-29T10:22:28.347Z"
   },
   {
    "duration": 84,
    "start_time": "2023-09-29T10:22:28.408Z"
   },
   {
    "duration": 46,
    "start_time": "2023-09-29T10:22:28.494Z"
   },
   {
    "duration": 59,
    "start_time": "2023-09-29T10:22:28.542Z"
   },
   {
    "duration": 17,
    "start_time": "2023-09-29T10:22:28.604Z"
   },
   {
    "duration": 80,
    "start_time": "2023-09-29T10:22:28.623Z"
   },
   {
    "duration": 20,
    "start_time": "2023-09-29T10:22:28.705Z"
   },
   {
    "duration": 66,
    "start_time": "2023-09-29T10:22:28.728Z"
   },
   {
    "duration": 16,
    "start_time": "2023-09-29T10:22:28.797Z"
   },
   {
    "duration": 48,
    "start_time": "2023-09-29T10:22:28.815Z"
   },
   {
    "duration": 18,
    "start_time": "2023-09-29T10:22:28.865Z"
   },
   {
    "duration": 66,
    "start_time": "2023-09-29T10:22:28.885Z"
   },
   {
    "duration": 159,
    "start_time": "2023-09-29T10:22:28.952Z"
   },
   {
    "duration": 0,
    "start_time": "2023-09-29T10:22:29.113Z"
   },
   {
    "duration": 0,
    "start_time": "2023-09-29T10:22:29.114Z"
   },
   {
    "duration": 0,
    "start_time": "2023-09-29T10:22:29.116Z"
   },
   {
    "duration": 0,
    "start_time": "2023-09-29T10:22:29.117Z"
   },
   {
    "duration": 0,
    "start_time": "2023-09-29T10:22:29.118Z"
   },
   {
    "duration": 0,
    "start_time": "2023-09-29T10:22:29.120Z"
   },
   {
    "duration": 0,
    "start_time": "2023-09-29T10:22:29.121Z"
   },
   {
    "duration": 0,
    "start_time": "2023-09-29T10:22:29.122Z"
   },
   {
    "duration": 0,
    "start_time": "2023-09-29T10:22:29.124Z"
   },
   {
    "duration": 0,
    "start_time": "2023-09-29T10:22:29.125Z"
   },
   {
    "duration": 0,
    "start_time": "2023-09-29T10:22:29.126Z"
   },
   {
    "duration": 23,
    "start_time": "2023-09-29T10:23:59.683Z"
   },
   {
    "duration": 3,
    "start_time": "2023-09-29T10:26:22.308Z"
   },
   {
    "duration": 2,
    "start_time": "2023-09-29T10:26:44.941Z"
   },
   {
    "duration": 3,
    "start_time": "2023-09-29T10:28:26.857Z"
   },
   {
    "duration": 61,
    "start_time": "2023-09-29T10:28:26.862Z"
   },
   {
    "duration": 162,
    "start_time": "2023-09-29T10:28:26.925Z"
   },
   {
    "duration": 12,
    "start_time": "2023-09-29T10:28:27.090Z"
   },
   {
    "duration": 108,
    "start_time": "2023-09-29T10:28:27.105Z"
   },
   {
    "duration": 60,
    "start_time": "2023-09-29T10:28:27.215Z"
   },
   {
    "duration": 163,
    "start_time": "2023-09-29T10:28:27.277Z"
   },
   {
    "duration": 158,
    "start_time": "2023-09-29T10:28:27.443Z"
   },
   {
    "duration": 137,
    "start_time": "2023-09-29T10:28:27.603Z"
   },
   {
    "duration": 130,
    "start_time": "2023-09-29T10:28:27.742Z"
   },
   {
    "duration": 13,
    "start_time": "2023-09-29T10:28:27.874Z"
   },
   {
    "duration": 33,
    "start_time": "2023-09-29T10:28:27.889Z"
   },
   {
    "duration": 44,
    "start_time": "2023-09-29T10:28:27.924Z"
   },
   {
    "duration": 844,
    "start_time": "2023-09-29T10:28:27.970Z"
   },
   {
    "duration": 130,
    "start_time": "2023-09-29T10:28:28.816Z"
   },
   {
    "duration": 8,
    "start_time": "2023-09-29T10:28:28.947Z"
   },
   {
    "duration": 37,
    "start_time": "2023-09-29T10:28:28.957Z"
   },
   {
    "duration": 141,
    "start_time": "2023-09-29T10:28:28.996Z"
   },
   {
    "duration": 155,
    "start_time": "2023-09-29T10:28:29.139Z"
   },
   {
    "duration": 139,
    "start_time": "2023-09-29T10:28:29.301Z"
   },
   {
    "duration": 6,
    "start_time": "2023-09-29T10:28:29.442Z"
   },
   {
    "duration": 36,
    "start_time": "2023-09-29T10:28:29.450Z"
   },
   {
    "duration": 37,
    "start_time": "2023-09-29T10:28:29.487Z"
   },
   {
    "duration": 60,
    "start_time": "2023-09-29T10:28:29.526Z"
   },
   {
    "duration": 48,
    "start_time": "2023-09-29T10:28:29.588Z"
   },
   {
    "duration": 63,
    "start_time": "2023-09-29T10:28:29.638Z"
   },
   {
    "duration": 48,
    "start_time": "2023-09-29T10:28:29.703Z"
   },
   {
    "duration": 232,
    "start_time": "2023-09-29T10:28:29.755Z"
   },
   {
    "duration": 369,
    "start_time": "2023-09-29T10:28:29.990Z"
   },
   {
    "duration": 9,
    "start_time": "2023-09-29T10:28:30.360Z"
   },
   {
    "duration": 137,
    "start_time": "2023-09-29T10:28:30.371Z"
   },
   {
    "duration": 78,
    "start_time": "2023-09-29T10:28:30.510Z"
   },
   {
    "duration": 63,
    "start_time": "2023-09-29T10:28:30.591Z"
   },
   {
    "duration": 112,
    "start_time": "2023-09-29T10:28:30.656Z"
   },
   {
    "duration": 464,
    "start_time": "2023-09-29T10:28:30.770Z"
   },
   {
    "duration": 1058,
    "start_time": "2023-09-29T10:28:31.236Z"
   },
   {
    "duration": 156,
    "start_time": "2023-09-29T10:28:32.296Z"
   },
   {
    "duration": 99,
    "start_time": "2023-09-29T10:28:32.453Z"
   },
   {
    "duration": 363,
    "start_time": "2023-09-29T10:28:32.555Z"
   },
   {
    "duration": 367,
    "start_time": "2023-09-29T10:28:32.920Z"
   },
   {
    "duration": 319,
    "start_time": "2023-09-29T10:28:33.289Z"
   },
   {
    "duration": 26,
    "start_time": "2023-09-29T10:28:33.610Z"
   },
   {
    "duration": 30,
    "start_time": "2023-09-29T10:28:33.638Z"
   },
   {
    "duration": 42,
    "start_time": "2023-09-29T10:28:33.670Z"
   },
   {
    "duration": 34,
    "start_time": "2023-09-29T10:28:33.714Z"
   },
   {
    "duration": 604,
    "start_time": "2023-09-29T10:28:33.750Z"
   },
   {
    "duration": 114,
    "start_time": "2023-09-29T10:28:34.356Z"
   },
   {
    "duration": 263,
    "start_time": "2023-09-29T10:28:34.471Z"
   },
   {
    "duration": 10,
    "start_time": "2023-09-29T10:28:34.736Z"
   },
   {
    "duration": 331,
    "start_time": "2023-09-29T10:28:34.748Z"
   },
   {
    "duration": 140,
    "start_time": "2023-09-29T10:28:35.081Z"
   },
   {
    "duration": 3,
    "start_time": "2023-09-29T10:30:39.100Z"
   },
   {
    "duration": 326,
    "start_time": "2023-09-29T10:30:39.105Z"
   },
   {
    "duration": 248,
    "start_time": "2023-09-29T10:30:39.433Z"
   },
   {
    "duration": 13,
    "start_time": "2023-09-29T10:30:39.684Z"
   },
   {
    "duration": 75,
    "start_time": "2023-09-29T10:30:39.698Z"
   },
   {
    "duration": 49,
    "start_time": "2023-09-29T10:30:39.775Z"
   },
   {
    "duration": 139,
    "start_time": "2023-09-29T10:30:39.826Z"
   },
   {
    "duration": 163,
    "start_time": "2023-09-29T10:30:39.967Z"
   },
   {
    "duration": 261,
    "start_time": "2023-09-29T10:30:40.132Z"
   },
   {
    "duration": 128,
    "start_time": "2023-09-29T10:30:40.404Z"
   },
   {
    "duration": 21,
    "start_time": "2023-09-29T10:30:40.535Z"
   },
   {
    "duration": 364,
    "start_time": "2023-09-29T10:30:40.558Z"
   },
   {
    "duration": 47,
    "start_time": "2023-09-29T10:30:40.924Z"
   },
   {
    "duration": 786,
    "start_time": "2023-09-29T10:30:40.973Z"
   },
   {
    "duration": 149,
    "start_time": "2023-09-29T10:30:41.760Z"
   },
   {
    "duration": 8,
    "start_time": "2023-09-29T10:30:41.911Z"
   },
   {
    "duration": 37,
    "start_time": "2023-09-29T10:30:41.921Z"
   },
   {
    "duration": 154,
    "start_time": "2023-09-29T10:30:41.960Z"
   },
   {
    "duration": 169,
    "start_time": "2023-09-29T10:30:42.116Z"
   },
   {
    "duration": 156,
    "start_time": "2023-09-29T10:30:42.288Z"
   },
   {
    "duration": 6,
    "start_time": "2023-09-29T10:30:42.446Z"
   },
   {
    "duration": 98,
    "start_time": "2023-09-29T10:30:42.454Z"
   },
   {
    "duration": 53,
    "start_time": "2023-09-29T10:30:42.554Z"
   },
   {
    "duration": 49,
    "start_time": "2023-09-29T10:30:42.609Z"
   },
   {
    "duration": 22,
    "start_time": "2023-09-29T10:30:42.660Z"
   },
   {
    "duration": 23,
    "start_time": "2023-09-29T10:30:42.684Z"
   },
   {
    "duration": 22,
    "start_time": "2023-09-29T10:30:42.710Z"
   },
   {
    "duration": 224,
    "start_time": "2023-09-29T10:30:42.736Z"
   },
   {
    "duration": 377,
    "start_time": "2023-09-29T10:30:42.962Z"
   },
   {
    "duration": 9,
    "start_time": "2023-09-29T10:30:43.341Z"
   },
   {
    "duration": 176,
    "start_time": "2023-09-29T10:30:43.351Z"
   },
   {
    "duration": 27,
    "start_time": "2023-09-29T10:30:43.530Z"
   },
   {
    "duration": 20,
    "start_time": "2023-09-29T10:30:43.558Z"
   },
   {
    "duration": 39,
    "start_time": "2023-09-29T10:30:43.579Z"
   },
   {
    "duration": 16,
    "start_time": "2023-09-29T10:30:43.620Z"
   },
   {
    "duration": 75,
    "start_time": "2023-09-29T10:30:43.638Z"
   },
   {
    "duration": 19,
    "start_time": "2023-09-29T10:30:43.715Z"
   },
   {
    "duration": 35,
    "start_time": "2023-09-29T10:30:43.736Z"
   },
   {
    "duration": 57,
    "start_time": "2023-09-29T10:30:43.773Z"
   },
   {
    "duration": 15,
    "start_time": "2023-09-29T10:30:43.832Z"
   },
   {
    "duration": 59,
    "start_time": "2023-09-29T10:30:43.849Z"
   },
   {
    "duration": 5,
    "start_time": "2023-09-29T10:30:43.910Z"
   },
   {
    "duration": 23,
    "start_time": "2023-09-29T10:30:43.916Z"
   },
   {
    "duration": 23,
    "start_time": "2023-09-29T10:30:43.942Z"
   },
   {
    "duration": 21,
    "start_time": "2023-09-29T10:30:43.967Z"
   },
   {
    "duration": 517,
    "start_time": "2023-09-29T10:30:43.990Z"
   },
   {
    "duration": 124,
    "start_time": "2023-09-29T10:30:44.508Z"
   },
   {
    "duration": 249,
    "start_time": "2023-09-29T10:30:44.635Z"
   },
   {
    "duration": 16,
    "start_time": "2023-09-29T10:30:44.886Z"
   },
   {
    "duration": 33,
    "start_time": "2023-09-29T10:30:44.904Z"
   },
   {
    "duration": 149,
    "start_time": "2023-09-29T10:30:44.939Z"
   },
   {
    "duration": 22,
    "start_time": "2023-09-29T10:30:45.090Z"
   },
   {
    "duration": 0,
    "start_time": "2023-09-29T10:30:45.114Z"
   },
   {
    "duration": 0,
    "start_time": "2023-09-29T10:30:45.115Z"
   },
   {
    "duration": 0,
    "start_time": "2023-09-29T10:30:45.117Z"
   },
   {
    "duration": 0,
    "start_time": "2023-09-29T10:30:45.119Z"
   },
   {
    "duration": 0,
    "start_time": "2023-09-29T10:30:45.120Z"
   },
   {
    "duration": 0,
    "start_time": "2023-09-29T10:30:45.122Z"
   },
   {
    "duration": 0,
    "start_time": "2023-09-29T10:30:45.124Z"
   },
   {
    "duration": 11,
    "start_time": "2023-09-29T10:42:31.651Z"
   },
   {
    "duration": 13,
    "start_time": "2023-09-29T10:43:45.682Z"
   },
   {
    "duration": 6,
    "start_time": "2023-09-29T10:43:54.616Z"
   },
   {
    "duration": 22,
    "start_time": "2023-09-29T10:43:57.051Z"
   },
   {
    "duration": 18,
    "start_time": "2023-09-29T10:50:52.026Z"
   },
   {
    "duration": 15,
    "start_time": "2023-09-29T10:52:14.051Z"
   },
   {
    "duration": 104,
    "start_time": "2023-09-29T10:52:39.843Z"
   },
   {
    "duration": 4,
    "start_time": "2023-09-29T10:53:09.092Z"
   },
   {
    "duration": 4,
    "start_time": "2023-09-29T10:53:30.100Z"
   },
   {
    "duration": 741,
    "start_time": "2023-09-29T10:54:16.677Z"
   },
   {
    "duration": 602,
    "start_time": "2023-09-29T10:54:19.292Z"
   },
   {
    "duration": 17,
    "start_time": "2023-09-29T10:54:29.971Z"
   },
   {
    "duration": 1863,
    "start_time": "2023-09-29T10:57:06.495Z"
   },
   {
    "duration": 134,
    "start_time": "2023-09-29T10:57:50.296Z"
   },
   {
    "duration": 4,
    "start_time": "2023-09-29T10:59:02.883Z"
   },
   {
    "duration": 12,
    "start_time": "2023-09-29T10:59:11.379Z"
   },
   {
    "duration": 3,
    "start_time": "2023-09-29T10:59:51.517Z"
   },
   {
    "duration": 197,
    "start_time": "2023-09-29T10:59:51.522Z"
   },
   {
    "duration": 283,
    "start_time": "2023-09-29T10:59:51.721Z"
   },
   {
    "duration": 44,
    "start_time": "2023-09-29T10:59:52.006Z"
   },
   {
    "duration": 110,
    "start_time": "2023-09-29T10:59:52.053Z"
   },
   {
    "duration": 207,
    "start_time": "2023-09-29T10:59:52.165Z"
   },
   {
    "duration": 203,
    "start_time": "2023-09-29T10:59:52.374Z"
   },
   {
    "duration": 182,
    "start_time": "2023-09-29T10:59:52.578Z"
   },
   {
    "duration": 145,
    "start_time": "2023-09-29T10:59:52.761Z"
   },
   {
    "duration": 350,
    "start_time": "2023-09-29T10:59:52.911Z"
   },
   {
    "duration": 40,
    "start_time": "2023-09-29T10:59:53.263Z"
   },
   {
    "duration": 78,
    "start_time": "2023-09-29T10:59:53.305Z"
   },
   {
    "duration": 74,
    "start_time": "2023-09-29T10:59:53.385Z"
   },
   {
    "duration": 794,
    "start_time": "2023-09-29T10:59:53.462Z"
   },
   {
    "duration": 145,
    "start_time": "2023-09-29T10:59:54.259Z"
   },
   {
    "duration": 14,
    "start_time": "2023-09-29T10:59:54.407Z"
   },
   {
    "duration": 84,
    "start_time": "2023-09-29T10:59:54.423Z"
   },
   {
    "duration": 215,
    "start_time": "2023-09-29T10:59:54.510Z"
   },
   {
    "duration": 207,
    "start_time": "2023-09-29T10:59:54.728Z"
   },
   {
    "duration": 153,
    "start_time": "2023-09-29T10:59:54.937Z"
   },
   {
    "duration": 13,
    "start_time": "2023-09-29T10:59:55.092Z"
   },
   {
    "duration": 53,
    "start_time": "2023-09-29T10:59:55.107Z"
   },
   {
    "duration": 82,
    "start_time": "2023-09-29T10:59:55.162Z"
   },
   {
    "duration": 24,
    "start_time": "2023-09-29T10:59:55.246Z"
   },
   {
    "duration": 90,
    "start_time": "2023-09-29T10:59:55.272Z"
   },
   {
    "duration": 51,
    "start_time": "2023-09-29T10:59:55.363Z"
   },
   {
    "duration": 60,
    "start_time": "2023-09-29T10:59:55.416Z"
   },
   {
    "duration": 273,
    "start_time": "2023-09-29T10:59:55.479Z"
   },
   {
    "duration": 414,
    "start_time": "2023-09-29T10:59:55.754Z"
   },
   {
    "duration": 11,
    "start_time": "2023-09-29T10:59:56.170Z"
   },
   {
    "duration": 49,
    "start_time": "2023-09-29T10:59:56.184Z"
   },
   {
    "duration": 68,
    "start_time": "2023-09-29T10:59:56.235Z"
   },
   {
    "duration": 70,
    "start_time": "2023-09-29T10:59:56.305Z"
   },
   {
    "duration": 65,
    "start_time": "2023-09-29T10:59:56.377Z"
   },
   {
    "duration": 59,
    "start_time": "2023-09-29T10:59:56.444Z"
   },
   {
    "duration": 27,
    "start_time": "2023-09-29T10:59:56.505Z"
   },
   {
    "duration": 46,
    "start_time": "2023-09-29T10:59:56.534Z"
   },
   {
    "duration": 26,
    "start_time": "2023-09-29T10:59:56.582Z"
   },
   {
    "duration": 48,
    "start_time": "2023-09-29T10:59:56.611Z"
   },
   {
    "duration": 16,
    "start_time": "2023-09-29T10:59:56.661Z"
   },
   {
    "duration": 10,
    "start_time": "2023-09-29T10:59:56.682Z"
   },
   {
    "duration": 4,
    "start_time": "2023-09-29T10:59:56.694Z"
   },
   {
    "duration": 32,
    "start_time": "2023-09-29T10:59:56.699Z"
   },
   {
    "duration": 26,
    "start_time": "2023-09-29T10:59:56.733Z"
   },
   {
    "duration": 24,
    "start_time": "2023-09-29T10:59:56.761Z"
   },
   {
    "duration": 698,
    "start_time": "2023-09-29T10:59:56.788Z"
   },
   {
    "duration": 655,
    "start_time": "2023-09-29T10:59:57.489Z"
   },
   {
    "duration": 132,
    "start_time": "2023-09-29T10:59:58.146Z"
   },
   {
    "duration": 54,
    "start_time": "2023-09-29T10:59:58.280Z"
   },
   {
    "duration": 67,
    "start_time": "2023-09-29T10:59:58.336Z"
   },
   {
    "duration": 16,
    "start_time": "2023-09-29T11:02:30.549Z"
   },
   {
    "duration": 4,
    "start_time": "2023-09-29T11:04:04.529Z"
   },
   {
    "duration": 54,
    "start_time": "2023-09-29T11:04:04.535Z"
   },
   {
    "duration": 125,
    "start_time": "2023-09-29T11:04:04.591Z"
   },
   {
    "duration": 17,
    "start_time": "2023-09-29T11:04:04.719Z"
   },
   {
    "duration": 66,
    "start_time": "2023-09-29T11:04:04.739Z"
   },
   {
    "duration": 37,
    "start_time": "2023-09-29T11:04:04.807Z"
   },
   {
    "duration": 199,
    "start_time": "2023-09-29T11:04:04.846Z"
   },
   {
    "duration": 163,
    "start_time": "2023-09-29T11:04:05.047Z"
   },
   {
    "duration": 321,
    "start_time": "2023-09-29T11:04:05.212Z"
   },
   {
    "duration": 120,
    "start_time": "2023-09-29T11:04:05.537Z"
   },
   {
    "duration": 13,
    "start_time": "2023-09-29T11:04:05.659Z"
   },
   {
    "duration": 36,
    "start_time": "2023-09-29T11:04:05.673Z"
   },
   {
    "duration": 47,
    "start_time": "2023-09-29T11:04:05.710Z"
   },
   {
    "duration": 750,
    "start_time": "2023-09-29T11:04:05.759Z"
   },
   {
    "duration": 139,
    "start_time": "2023-09-29T11:04:06.511Z"
   },
   {
    "duration": 45,
    "start_time": "2023-09-29T11:04:06.653Z"
   },
   {
    "duration": 158,
    "start_time": "2023-09-29T11:04:06.701Z"
   },
   {
    "duration": 162,
    "start_time": "2023-09-29T11:04:06.861Z"
   },
   {
    "duration": 152,
    "start_time": "2023-09-29T11:04:07.024Z"
   },
   {
    "duration": 259,
    "start_time": "2023-09-29T11:04:07.178Z"
   },
   {
    "duration": 298,
    "start_time": "2023-09-29T11:04:07.438Z"
   },
   {
    "duration": 184,
    "start_time": "2023-09-29T11:04:07.738Z"
   },
   {
    "duration": 76,
    "start_time": "2023-09-29T11:04:07.924Z"
   },
   {
    "duration": 40,
    "start_time": "2023-09-29T11:04:08.001Z"
   },
   {
    "duration": 47,
    "start_time": "2023-09-29T11:04:08.043Z"
   },
   {
    "duration": 36,
    "start_time": "2023-09-29T11:04:08.091Z"
   },
   {
    "duration": 49,
    "start_time": "2023-09-29T11:04:08.129Z"
   },
   {
    "duration": 266,
    "start_time": "2023-09-29T11:04:08.183Z"
   },
   {
    "duration": 372,
    "start_time": "2023-09-29T11:04:08.451Z"
   },
   {
    "duration": 9,
    "start_time": "2023-09-29T11:04:08.825Z"
   },
   {
    "duration": 39,
    "start_time": "2023-09-29T11:04:08.835Z"
   },
   {
    "duration": 108,
    "start_time": "2023-09-29T11:04:08.876Z"
   },
   {
    "duration": 379,
    "start_time": "2023-09-29T11:04:08.986Z"
   },
   {
    "duration": 998,
    "start_time": "2023-09-29T11:04:09.367Z"
   },
   {
    "duration": 101,
    "start_time": "2023-09-29T11:04:10.367Z"
   },
   {
    "duration": 30,
    "start_time": "2023-09-29T11:04:10.470Z"
   },
   {
    "duration": 84,
    "start_time": "2023-09-29T11:04:10.502Z"
   },
   {
    "duration": 273,
    "start_time": "2023-09-29T11:04:10.587Z"
   },
   {
    "duration": 69,
    "start_time": "2023-09-29T11:04:10.862Z"
   },
   {
    "duration": 46,
    "start_time": "2023-09-29T11:04:10.933Z"
   },
   {
    "duration": 63,
    "start_time": "2023-09-29T11:04:10.981Z"
   },
   {
    "duration": 85,
    "start_time": "2023-09-29T11:04:11.046Z"
   },
   {
    "duration": 145,
    "start_time": "2023-09-29T11:04:11.134Z"
   },
   {
    "duration": 44,
    "start_time": "2023-09-29T11:04:11.281Z"
   },
   {
    "duration": 43,
    "start_time": "2023-09-29T11:04:11.326Z"
   },
   {
    "duration": 725,
    "start_time": "2023-09-29T11:04:11.371Z"
   },
   {
    "duration": 618,
    "start_time": "2023-09-29T11:04:12.100Z"
   },
   {
    "duration": 134,
    "start_time": "2023-09-29T11:04:12.720Z"
   },
   {
    "duration": 4,
    "start_time": "2023-09-29T11:04:12.856Z"
   },
   {
    "duration": 52,
    "start_time": "2023-09-29T11:04:12.862Z"
   },
   {
    "duration": 3,
    "start_time": "2023-09-29T11:05:03.187Z"
   },
   {
    "duration": 858,
    "start_time": "2023-09-29T11:05:03.192Z"
   },
   {
    "duration": 425,
    "start_time": "2023-09-29T11:05:04.052Z"
   },
   {
    "duration": 90,
    "start_time": "2023-09-29T11:05:04.479Z"
   },
   {
    "duration": 214,
    "start_time": "2023-09-29T11:05:04.571Z"
   },
   {
    "duration": 60,
    "start_time": "2023-09-29T11:05:04.787Z"
   },
   {
    "duration": 173,
    "start_time": "2023-09-29T11:05:04.849Z"
   },
   {
    "duration": 179,
    "start_time": "2023-09-29T11:05:05.024Z"
   },
   {
    "duration": 319,
    "start_time": "2023-09-29T11:05:05.206Z"
   },
   {
    "duration": 140,
    "start_time": "2023-09-29T11:05:05.529Z"
   },
   {
    "duration": 146,
    "start_time": "2023-09-29T11:05:05.671Z"
   },
   {
    "duration": 603,
    "start_time": "2023-09-29T11:05:05.819Z"
   },
   {
    "duration": 81,
    "start_time": "2023-09-29T11:05:06.423Z"
   },
   {
    "duration": 1051,
    "start_time": "2023-09-29T11:05:06.506Z"
   },
   {
    "duration": 125,
    "start_time": "2023-09-29T11:05:07.558Z"
   },
   {
    "duration": 17,
    "start_time": "2023-09-29T11:05:07.685Z"
   },
   {
    "duration": 74,
    "start_time": "2023-09-29T11:05:07.704Z"
   },
   {
    "duration": 183,
    "start_time": "2023-09-29T11:05:07.780Z"
   },
   {
    "duration": 164,
    "start_time": "2023-09-29T11:05:07.964Z"
   },
   {
    "duration": 309,
    "start_time": "2023-09-29T11:05:08.130Z"
   },
   {
    "duration": 8,
    "start_time": "2023-09-29T11:05:08.442Z"
   },
   {
    "duration": 43,
    "start_time": "2023-09-29T11:05:08.452Z"
   },
   {
    "duration": 34,
    "start_time": "2023-09-29T11:05:08.497Z"
   },
   {
    "duration": 74,
    "start_time": "2023-09-29T11:05:08.532Z"
   },
   {
    "duration": 577,
    "start_time": "2023-09-29T11:05:08.608Z"
   },
   {
    "duration": 124,
    "start_time": "2023-09-29T11:05:09.187Z"
   },
   {
    "duration": 39,
    "start_time": "2023-09-29T11:05:09.312Z"
   },
   {
    "duration": 311,
    "start_time": "2023-09-29T11:05:09.355Z"
   },
   {
    "duration": 393,
    "start_time": "2023-09-29T11:05:09.668Z"
   },
   {
    "duration": 10,
    "start_time": "2023-09-29T11:05:10.063Z"
   },
   {
    "duration": 97,
    "start_time": "2023-09-29T11:05:10.074Z"
   },
   {
    "duration": 138,
    "start_time": "2023-09-29T11:05:10.173Z"
   },
   {
    "duration": 26,
    "start_time": "2023-09-29T11:05:10.313Z"
   },
   {
    "duration": 33,
    "start_time": "2023-09-29T11:05:10.342Z"
   },
   {
    "duration": 66,
    "start_time": "2023-09-29T11:05:10.378Z"
   },
   {
    "duration": 71,
    "start_time": "2023-09-29T11:05:10.446Z"
   },
   {
    "duration": 200,
    "start_time": "2023-09-29T11:05:10.519Z"
   },
   {
    "duration": 16,
    "start_time": "2023-09-29T11:05:10.721Z"
   },
   {
    "duration": 39,
    "start_time": "2023-09-29T11:05:10.738Z"
   },
   {
    "duration": 31,
    "start_time": "2023-09-29T11:05:10.779Z"
   },
   {
    "duration": 51,
    "start_time": "2023-09-29T11:05:10.812Z"
   },
   {
    "duration": 114,
    "start_time": "2023-09-29T11:05:10.865Z"
   },
   {
    "duration": 789,
    "start_time": "2023-09-29T11:05:10.981Z"
   },
   {
    "duration": 366,
    "start_time": "2023-09-29T11:05:11.771Z"
   },
   {
    "duration": 24,
    "start_time": "2023-09-29T11:05:12.139Z"
   },
   {
    "duration": 611,
    "start_time": "2023-09-29T11:05:12.165Z"
   },
   {
    "duration": 617,
    "start_time": "2023-09-29T11:05:12.778Z"
   },
   {
    "duration": 132,
    "start_time": "2023-09-29T11:05:13.397Z"
   },
   {
    "duration": 4,
    "start_time": "2023-09-29T11:05:13.530Z"
   },
   {
    "duration": 1292,
    "start_time": "2023-09-29T11:10:06.782Z"
   },
   {
    "duration": 643,
    "start_time": "2023-09-29T11:10:08.076Z"
   },
   {
    "duration": 96,
    "start_time": "2023-09-29T11:10:08.721Z"
   },
   {
    "duration": 27,
    "start_time": "2023-09-29T11:10:08.820Z"
   },
   {
    "duration": 45,
    "start_time": "2023-09-29T11:10:08.849Z"
   },
   {
    "duration": 21,
    "start_time": "2023-09-29T11:10:08.896Z"
   },
   {
    "duration": 144,
    "start_time": "2023-09-29T11:10:08.919Z"
   },
   {
    "duration": 150,
    "start_time": "2023-09-29T11:10:09.065Z"
   },
   {
    "duration": 126,
    "start_time": "2023-09-29T11:10:09.216Z"
   },
   {
    "duration": 214,
    "start_time": "2023-09-29T11:10:09.345Z"
   },
   {
    "duration": 12,
    "start_time": "2023-09-29T11:10:09.561Z"
   },
   {
    "duration": 87,
    "start_time": "2023-09-29T11:10:09.575Z"
   },
   {
    "duration": 58,
    "start_time": "2023-09-29T11:10:09.664Z"
   },
   {
    "duration": 779,
    "start_time": "2023-09-29T11:10:09.724Z"
   },
   {
    "duration": 131,
    "start_time": "2023-09-29T11:10:10.505Z"
   },
   {
    "duration": 7,
    "start_time": "2023-09-29T11:10:10.638Z"
   },
   {
    "duration": 27,
    "start_time": "2023-09-29T11:10:10.647Z"
   },
   {
    "duration": 140,
    "start_time": "2023-09-29T11:10:10.675Z"
   },
   {
    "duration": 141,
    "start_time": "2023-09-29T11:10:10.817Z"
   },
   {
    "duration": 141,
    "start_time": "2023-09-29T11:10:10.960Z"
   },
   {
    "duration": 6,
    "start_time": "2023-09-29T11:10:11.103Z"
   },
   {
    "duration": 16,
    "start_time": "2023-09-29T11:10:11.110Z"
   },
   {
    "duration": 41,
    "start_time": "2023-09-29T11:10:11.128Z"
   },
   {
    "duration": 39,
    "start_time": "2023-09-29T11:10:11.171Z"
   },
   {
    "duration": 44,
    "start_time": "2023-09-29T11:10:11.212Z"
   },
   {
    "duration": 39,
    "start_time": "2023-09-29T11:10:11.257Z"
   },
   {
    "duration": 18,
    "start_time": "2023-09-29T11:10:11.298Z"
   },
   {
    "duration": 251,
    "start_time": "2023-09-29T11:10:11.319Z"
   },
   {
    "duration": 552,
    "start_time": "2023-09-29T11:10:11.571Z"
   },
   {
    "duration": 9,
    "start_time": "2023-09-29T11:10:12.125Z"
   },
   {
    "duration": 389,
    "start_time": "2023-09-29T11:10:12.136Z"
   },
   {
    "duration": 68,
    "start_time": "2023-09-29T11:10:12.526Z"
   },
   {
    "duration": 19,
    "start_time": "2023-09-29T11:10:12.596Z"
   },
   {
    "duration": 39,
    "start_time": "2023-09-29T11:10:12.616Z"
   },
   {
    "duration": 41,
    "start_time": "2023-09-29T11:10:12.657Z"
   },
   {
    "duration": 54,
    "start_time": "2023-09-29T11:10:12.699Z"
   },
   {
    "duration": 36,
    "start_time": "2023-09-29T11:10:12.754Z"
   },
   {
    "duration": 39,
    "start_time": "2023-09-29T11:10:12.792Z"
   },
   {
    "duration": 25,
    "start_time": "2023-09-29T11:10:12.833Z"
   },
   {
    "duration": 24,
    "start_time": "2023-09-29T11:10:12.860Z"
   },
   {
    "duration": 46,
    "start_time": "2023-09-29T11:10:12.886Z"
   },
   {
    "duration": 19,
    "start_time": "2023-09-29T11:10:12.934Z"
   },
   {
    "duration": 30,
    "start_time": "2023-09-29T11:10:12.954Z"
   },
   {
    "duration": 40,
    "start_time": "2023-09-29T11:10:12.986Z"
   },
   {
    "duration": 16,
    "start_time": "2023-09-29T11:10:13.028Z"
   },
   {
    "duration": 658,
    "start_time": "2023-09-29T11:10:13.046Z"
   },
   {
    "duration": 631,
    "start_time": "2023-09-29T11:10:13.705Z"
   },
   {
    "duration": 130,
    "start_time": "2023-09-29T11:10:14.339Z"
   },
   {
    "duration": 4,
    "start_time": "2023-09-29T11:10:14.470Z"
   },
   {
    "duration": 231286,
    "start_time": "2023-09-29T11:10:14.476Z"
   },
   {
    "duration": 4,
    "start_time": "2023-09-29T11:17:46.200Z"
   },
   {
    "duration": 8,
    "start_time": "2023-09-29T11:17:46.206Z"
   },
   {
    "duration": 112,
    "start_time": "2023-09-29T11:17:46.216Z"
   },
   {
    "duration": 13,
    "start_time": "2023-09-29T11:17:46.330Z"
   },
   {
    "duration": 31,
    "start_time": "2023-09-29T11:17:46.346Z"
   },
   {
    "duration": 64,
    "start_time": "2023-09-29T11:17:46.379Z"
   },
   {
    "duration": 166,
    "start_time": "2023-09-29T11:17:46.445Z"
   },
   {
    "duration": 163,
    "start_time": "2023-09-29T11:17:46.613Z"
   },
   {
    "duration": 135,
    "start_time": "2023-09-29T11:17:46.778Z"
   },
   {
    "duration": 197,
    "start_time": "2023-09-29T11:17:46.915Z"
   },
   {
    "duration": 12,
    "start_time": "2023-09-29T11:17:47.114Z"
   },
   {
    "duration": 110,
    "start_time": "2023-09-29T11:17:47.128Z"
   },
   {
    "duration": 64,
    "start_time": "2023-09-29T11:17:47.240Z"
   },
   {
    "duration": 734,
    "start_time": "2023-09-29T11:17:47.307Z"
   },
   {
    "duration": 137,
    "start_time": "2023-09-29T11:17:48.043Z"
   },
   {
    "duration": 44,
    "start_time": "2023-09-29T11:17:48.182Z"
   },
   {
    "duration": 112,
    "start_time": "2023-09-29T11:17:48.228Z"
   },
   {
    "duration": 298,
    "start_time": "2023-09-29T11:17:48.342Z"
   },
   {
    "duration": 160,
    "start_time": "2023-09-29T11:17:48.642Z"
   },
   {
    "duration": 138,
    "start_time": "2023-09-29T11:17:48.804Z"
   },
   {
    "duration": 7,
    "start_time": "2023-09-29T11:17:48.944Z"
   },
   {
    "duration": 73,
    "start_time": "2023-09-29T11:17:48.953Z"
   },
   {
    "duration": 26,
    "start_time": "2023-09-29T11:17:49.028Z"
   },
   {
    "duration": 58,
    "start_time": "2023-09-29T11:17:49.056Z"
   },
   {
    "duration": 21,
    "start_time": "2023-09-29T11:17:49.116Z"
   },
   {
    "duration": 40,
    "start_time": "2023-09-29T11:17:49.139Z"
   },
   {
    "duration": 23,
    "start_time": "2023-09-29T11:17:49.181Z"
   },
   {
    "duration": 236,
    "start_time": "2023-09-29T11:17:49.206Z"
   },
   {
    "duration": 370,
    "start_time": "2023-09-29T11:17:49.444Z"
   },
   {
    "duration": 12,
    "start_time": "2023-09-29T11:17:49.816Z"
   },
   {
    "duration": 36,
    "start_time": "2023-09-29T11:17:49.829Z"
   },
   {
    "duration": 124,
    "start_time": "2023-09-29T11:17:49.867Z"
   },
   {
    "duration": 43,
    "start_time": "2023-09-29T11:17:49.993Z"
   },
   {
    "duration": 109,
    "start_time": "2023-09-29T11:17:50.037Z"
   },
   {
    "duration": 120,
    "start_time": "2023-09-29T11:17:50.148Z"
   },
   {
    "duration": 67,
    "start_time": "2023-09-29T11:17:50.270Z"
   },
   {
    "duration": 49,
    "start_time": "2023-09-29T11:17:50.339Z"
   },
   {
    "duration": 116,
    "start_time": "2023-09-29T11:17:50.390Z"
   },
   {
    "duration": 155,
    "start_time": "2023-09-29T11:17:50.508Z"
   },
   {
    "duration": 22,
    "start_time": "2023-09-29T11:17:50.665Z"
   },
   {
    "duration": 66,
    "start_time": "2023-09-29T11:17:50.693Z"
   },
   {
    "duration": 21,
    "start_time": "2023-09-29T11:17:50.762Z"
   },
   {
    "duration": 41,
    "start_time": "2023-09-29T11:17:50.784Z"
   },
   {
    "duration": 59,
    "start_time": "2023-09-29T11:17:50.827Z"
   },
   {
    "duration": 81,
    "start_time": "2023-09-29T11:17:50.888Z"
   },
   {
    "duration": 708,
    "start_time": "2023-09-29T11:17:50.971Z"
   },
   {
    "duration": 670,
    "start_time": "2023-09-29T11:17:51.681Z"
   },
   {
    "duration": 137,
    "start_time": "2023-09-29T11:17:52.353Z"
   },
   {
    "duration": 3,
    "start_time": "2023-09-29T11:17:52.492Z"
   },
   {
    "duration": 237734,
    "start_time": "2023-09-29T11:17:52.500Z"
   },
   {
    "duration": 126,
    "start_time": "2023-09-29T11:30:10.521Z"
   },
   {
    "duration": 162,
    "start_time": "2023-09-29T11:30:37.762Z"
   },
   {
    "duration": 17,
    "start_time": "2023-09-29T11:30:58.794Z"
   },
   {
    "duration": 4,
    "start_time": "2023-09-29T11:34:37.944Z"
   },
   {
    "duration": 15,
    "start_time": "2023-09-29T11:34:37.950Z"
   },
   {
    "duration": 145,
    "start_time": "2023-09-29T11:34:37.967Z"
   },
   {
    "duration": 12,
    "start_time": "2023-09-29T11:34:38.114Z"
   },
   {
    "duration": 48,
    "start_time": "2023-09-29T11:34:38.128Z"
   },
   {
    "duration": 19,
    "start_time": "2023-09-29T11:34:38.178Z"
   },
   {
    "duration": 162,
    "start_time": "2023-09-29T11:34:38.198Z"
   },
   {
    "duration": 165,
    "start_time": "2023-09-29T11:34:38.362Z"
   },
   {
    "duration": 151,
    "start_time": "2023-09-29T11:34:38.529Z"
   },
   {
    "duration": 134,
    "start_time": "2023-09-29T11:34:38.683Z"
   },
   {
    "duration": 14,
    "start_time": "2023-09-29T11:34:38.819Z"
   },
   {
    "duration": 41,
    "start_time": "2023-09-29T11:34:38.835Z"
   },
   {
    "duration": 61,
    "start_time": "2023-09-29T11:34:38.878Z"
   },
   {
    "duration": 777,
    "start_time": "2023-09-29T11:34:38.941Z"
   },
   {
    "duration": 138,
    "start_time": "2023-09-29T11:34:39.719Z"
   },
   {
    "duration": 8,
    "start_time": "2023-09-29T11:34:39.859Z"
   },
   {
    "duration": 22,
    "start_time": "2023-09-29T11:34:39.869Z"
   },
   {
    "duration": 138,
    "start_time": "2023-09-29T11:34:39.901Z"
   },
   {
    "duration": 164,
    "start_time": "2023-09-29T11:34:40.041Z"
   },
   {
    "duration": 211,
    "start_time": "2023-09-29T11:34:40.207Z"
   },
   {
    "duration": 7,
    "start_time": "2023-09-29T11:34:40.419Z"
   },
   {
    "duration": 197,
    "start_time": "2023-09-29T11:34:40.428Z"
   },
   {
    "duration": 49,
    "start_time": "2023-09-29T11:34:40.627Z"
   },
   {
    "duration": 104,
    "start_time": "2023-09-29T11:34:40.678Z"
   },
   {
    "duration": 38,
    "start_time": "2023-09-29T11:34:40.784Z"
   },
   {
    "duration": 64,
    "start_time": "2023-09-29T11:34:40.823Z"
   },
   {
    "duration": 28,
    "start_time": "2023-09-29T11:34:40.888Z"
   },
   {
    "duration": 233,
    "start_time": "2023-09-29T11:34:40.920Z"
   },
   {
    "duration": 364,
    "start_time": "2023-09-29T11:34:41.154Z"
   },
   {
    "duration": 11,
    "start_time": "2023-09-29T11:34:41.520Z"
   },
   {
    "duration": 33,
    "start_time": "2023-09-29T11:34:41.533Z"
   },
   {
    "duration": 60,
    "start_time": "2023-09-29T11:34:41.569Z"
   },
   {
    "duration": 20,
    "start_time": "2023-09-29T11:34:41.631Z"
   },
   {
    "duration": 25,
    "start_time": "2023-09-29T11:34:41.653Z"
   },
   {
    "duration": 34,
    "start_time": "2023-09-29T11:34:41.680Z"
   },
   {
    "duration": 13,
    "start_time": "2023-09-29T11:34:41.716Z"
   },
   {
    "duration": 102,
    "start_time": "2023-09-29T11:34:41.731Z"
   },
   {
    "duration": 73,
    "start_time": "2023-09-29T11:34:41.835Z"
   },
   {
    "duration": 39,
    "start_time": "2023-09-29T11:34:41.910Z"
   },
   {
    "duration": 6,
    "start_time": "2023-09-29T11:34:41.951Z"
   },
   {
    "duration": 20,
    "start_time": "2023-09-29T11:34:41.959Z"
   },
   {
    "duration": 22,
    "start_time": "2023-09-29T11:34:41.981Z"
   },
   {
    "duration": 11,
    "start_time": "2023-09-29T11:34:42.004Z"
   },
   {
    "duration": 53,
    "start_time": "2023-09-29T11:34:42.016Z"
   },
   {
    "duration": 684,
    "start_time": "2023-09-29T11:34:42.071Z"
   },
   {
    "duration": 624,
    "start_time": "2023-09-29T11:34:42.757Z"
   },
   {
    "duration": 130,
    "start_time": "2023-09-29T11:34:43.383Z"
   },
   {
    "duration": 2,
    "start_time": "2023-09-29T11:34:43.515Z"
   },
   {
    "duration": 13,
    "start_time": "2023-09-29T11:34:43.519Z"
   },
   {
    "duration": 193,
    "start_time": "2023-09-29T11:34:43.534Z"
   },
   {
    "duration": 14,
    "start_time": "2023-09-29T11:34:43.729Z"
   },
   {
    "duration": 4,
    "start_time": "2023-09-29T11:35:54.938Z"
   },
   {
    "duration": 9,
    "start_time": "2023-09-29T11:35:54.948Z"
   },
   {
    "duration": 120,
    "start_time": "2023-09-29T11:35:54.960Z"
   },
   {
    "duration": 12,
    "start_time": "2023-09-29T11:35:55.082Z"
   },
   {
    "duration": 26,
    "start_time": "2023-09-29T11:35:55.096Z"
   },
   {
    "duration": 20,
    "start_time": "2023-09-29T11:35:55.124Z"
   },
   {
    "duration": 160,
    "start_time": "2023-09-29T11:35:55.147Z"
   },
   {
    "duration": 171,
    "start_time": "2023-09-29T11:35:55.309Z"
   },
   {
    "duration": 151,
    "start_time": "2023-09-29T11:35:55.483Z"
   },
   {
    "duration": 178,
    "start_time": "2023-09-29T11:35:55.636Z"
   },
   {
    "duration": 14,
    "start_time": "2023-09-29T11:35:55.816Z"
   },
   {
    "duration": 60,
    "start_time": "2023-09-29T11:35:55.833Z"
   },
   {
    "duration": 36,
    "start_time": "2023-09-29T11:35:55.895Z"
   },
   {
    "duration": 723,
    "start_time": "2023-09-29T11:35:55.934Z"
   },
   {
    "duration": 142,
    "start_time": "2023-09-29T11:35:56.661Z"
   },
   {
    "duration": 8,
    "start_time": "2023-09-29T11:35:56.805Z"
   },
   {
    "duration": 21,
    "start_time": "2023-09-29T11:35:56.815Z"
   },
   {
    "duration": 146,
    "start_time": "2023-09-29T11:35:56.838Z"
   },
   {
    "duration": 152,
    "start_time": "2023-09-29T11:35:56.986Z"
   },
   {
    "duration": 147,
    "start_time": "2023-09-29T11:35:57.140Z"
   },
   {
    "duration": 12,
    "start_time": "2023-09-29T11:35:57.289Z"
   },
   {
    "duration": 58,
    "start_time": "2023-09-29T11:35:57.303Z"
   },
   {
    "duration": 74,
    "start_time": "2023-09-29T11:35:57.363Z"
   },
   {
    "duration": 38,
    "start_time": "2023-09-29T11:35:57.439Z"
   },
   {
    "duration": 49,
    "start_time": "2023-09-29T11:35:57.478Z"
   },
   {
    "duration": 30,
    "start_time": "2023-09-29T11:35:57.530Z"
   },
   {
    "duration": 45,
    "start_time": "2023-09-29T11:35:57.562Z"
   },
   {
    "duration": 215,
    "start_time": "2023-09-29T11:35:57.610Z"
   },
   {
    "duration": 357,
    "start_time": "2023-09-29T11:35:57.826Z"
   },
   {
    "duration": 18,
    "start_time": "2023-09-29T11:35:58.185Z"
   },
   {
    "duration": 7,
    "start_time": "2023-09-29T11:35:58.205Z"
   },
   {
    "duration": 28,
    "start_time": "2023-09-29T11:35:58.214Z"
   },
   {
    "duration": 49,
    "start_time": "2023-09-29T11:35:58.244Z"
   },
   {
    "duration": 25,
    "start_time": "2023-09-29T11:35:58.294Z"
   },
   {
    "duration": 20,
    "start_time": "2023-09-29T11:35:58.321Z"
   },
   {
    "duration": 14,
    "start_time": "2023-09-29T11:35:58.343Z"
   },
   {
    "duration": 31,
    "start_time": "2023-09-29T11:35:58.359Z"
   },
   {
    "duration": 6,
    "start_time": "2023-09-29T11:35:58.402Z"
   },
   {
    "duration": 40,
    "start_time": "2023-09-29T11:35:58.409Z"
   },
   {
    "duration": 6,
    "start_time": "2023-09-29T11:35:58.451Z"
   },
   {
    "duration": 64,
    "start_time": "2023-09-29T11:35:58.459Z"
   },
   {
    "duration": 51,
    "start_time": "2023-09-29T11:35:58.528Z"
   },
   {
    "duration": 35,
    "start_time": "2023-09-29T11:35:58.581Z"
   },
   {
    "duration": 50,
    "start_time": "2023-09-29T11:35:58.618Z"
   },
   {
    "duration": 624,
    "start_time": "2023-09-29T11:35:58.669Z"
   },
   {
    "duration": 621,
    "start_time": "2023-09-29T11:35:59.295Z"
   },
   {
    "duration": 127,
    "start_time": "2023-09-29T11:35:59.918Z"
   },
   {
    "duration": 3,
    "start_time": "2023-09-29T11:36:00.047Z"
   },
   {
    "duration": 104,
    "start_time": "2023-09-29T11:36:00.052Z"
   },
   {
    "duration": 225,
    "start_time": "2023-09-29T11:36:00.159Z"
   },
   {
    "duration": 34,
    "start_time": "2023-09-29T11:36:00.385Z"
   },
   {
    "duration": 12,
    "start_time": "2023-09-29T11:36:34.318Z"
   },
   {
    "duration": 240,
    "start_time": "2023-09-29T11:36:48.951Z"
   },
   {
    "duration": 16,
    "start_time": "2023-09-29T11:40:14.234Z"
   },
   {
    "duration": 13,
    "start_time": "2023-09-29T11:43:47.517Z"
   },
   {
    "duration": 15,
    "start_time": "2023-09-29T11:43:51.613Z"
   },
   {
    "duration": 3,
    "start_time": "2023-09-29T11:44:07.035Z"
   },
   {
    "duration": 67,
    "start_time": "2023-09-29T11:44:07.040Z"
   },
   {
    "duration": 340,
    "start_time": "2023-09-29T11:44:07.109Z"
   },
   {
    "duration": 189,
    "start_time": "2023-09-29T11:44:07.450Z"
   },
   {
    "duration": 40,
    "start_time": "2023-09-29T11:44:07.641Z"
   },
   {
    "duration": 54,
    "start_time": "2023-09-29T11:44:07.682Z"
   },
   {
    "duration": 138,
    "start_time": "2023-09-29T11:44:07.737Z"
   },
   {
    "duration": 151,
    "start_time": "2023-09-29T11:44:07.877Z"
   },
   {
    "duration": 130,
    "start_time": "2023-09-29T11:44:08.030Z"
   },
   {
    "duration": 131,
    "start_time": "2023-09-29T11:44:08.162Z"
   },
   {
    "duration": 17,
    "start_time": "2023-09-29T11:44:08.295Z"
   },
   {
    "duration": 90,
    "start_time": "2023-09-29T11:44:08.314Z"
   },
   {
    "duration": 144,
    "start_time": "2023-09-29T11:44:08.406Z"
   },
   {
    "duration": 726,
    "start_time": "2023-09-29T11:44:08.554Z"
   },
   {
    "duration": 132,
    "start_time": "2023-09-29T11:44:09.282Z"
   },
   {
    "duration": 7,
    "start_time": "2023-09-29T11:44:09.416Z"
   },
   {
    "duration": 373,
    "start_time": "2023-09-29T11:44:09.425Z"
   },
   {
    "duration": 226,
    "start_time": "2023-09-29T11:44:09.800Z"
   },
   {
    "duration": 176,
    "start_time": "2023-09-29T11:44:10.028Z"
   },
   {
    "duration": 143,
    "start_time": "2023-09-29T11:44:10.206Z"
   },
   {
    "duration": 8,
    "start_time": "2023-09-29T11:44:10.351Z"
   },
   {
    "duration": 42,
    "start_time": "2023-09-29T11:44:10.361Z"
   },
   {
    "duration": 41,
    "start_time": "2023-09-29T11:44:10.406Z"
   },
   {
    "duration": 39,
    "start_time": "2023-09-29T11:44:10.450Z"
   },
   {
    "duration": 34,
    "start_time": "2023-09-29T11:44:10.491Z"
   },
   {
    "duration": 26,
    "start_time": "2023-09-29T11:44:10.526Z"
   },
   {
    "duration": 48,
    "start_time": "2023-09-29T11:44:10.554Z"
   },
   {
    "duration": 229,
    "start_time": "2023-09-29T11:44:10.604Z"
   },
   {
    "duration": 341,
    "start_time": "2023-09-29T11:44:10.835Z"
   },
   {
    "duration": 10,
    "start_time": "2023-09-29T11:44:11.178Z"
   },
   {
    "duration": 46,
    "start_time": "2023-09-29T11:44:11.189Z"
   },
   {
    "duration": 31,
    "start_time": "2023-09-29T11:44:11.237Z"
   },
   {
    "duration": 19,
    "start_time": "2023-09-29T11:44:11.271Z"
   },
   {
    "duration": 32,
    "start_time": "2023-09-29T11:44:11.292Z"
   },
   {
    "duration": 19,
    "start_time": "2023-09-29T11:44:11.326Z"
   },
   {
    "duration": 12,
    "start_time": "2023-09-29T11:44:11.346Z"
   },
   {
    "duration": 31,
    "start_time": "2023-09-29T11:44:11.360Z"
   },
   {
    "duration": 42,
    "start_time": "2023-09-29T11:44:11.393Z"
   },
   {
    "duration": 67,
    "start_time": "2023-09-29T11:44:11.437Z"
   },
   {
    "duration": 37,
    "start_time": "2023-09-29T11:44:11.506Z"
   },
   {
    "duration": 6,
    "start_time": "2023-09-29T11:44:11.547Z"
   },
   {
    "duration": 30,
    "start_time": "2023-09-29T11:44:11.555Z"
   },
   {
    "duration": 22,
    "start_time": "2023-09-29T11:44:11.587Z"
   },
   {
    "duration": 29,
    "start_time": "2023-09-29T11:44:11.611Z"
   },
   {
    "duration": 23,
    "start_time": "2023-09-29T11:44:11.642Z"
   },
   {
    "duration": 647,
    "start_time": "2023-09-29T11:44:11.667Z"
   },
   {
    "duration": 621,
    "start_time": "2023-09-29T11:44:12.316Z"
   },
   {
    "duration": 134,
    "start_time": "2023-09-29T11:44:12.939Z"
   },
   {
    "duration": 2,
    "start_time": "2023-09-29T11:44:13.075Z"
   },
   {
    "duration": 105,
    "start_time": "2023-09-29T11:44:13.079Z"
   },
   {
    "duration": 171,
    "start_time": "2023-09-29T11:44:13.186Z"
   },
   {
    "duration": 25,
    "start_time": "2023-09-29T11:44:13.360Z"
   },
   {
    "duration": 235,
    "start_time": "2023-09-29T11:44:13.387Z"
   },
   {
    "duration": 23,
    "start_time": "2023-09-29T11:45:26.983Z"
   },
   {
    "duration": 249,
    "start_time": "2023-09-29T11:45:31.630Z"
   },
   {
    "duration": 19,
    "start_time": "2023-09-29T11:59:54.084Z"
   },
   {
    "duration": 6,
    "start_time": "2023-09-29T12:02:30.615Z"
   },
   {
    "duration": 5,
    "start_time": "2023-09-29T12:02:55.671Z"
   },
   {
    "duration": 5,
    "start_time": "2023-09-29T12:02:58.577Z"
   },
   {
    "duration": 18,
    "start_time": "2023-09-29T12:03:07.911Z"
   },
   {
    "duration": 27,
    "start_time": "2023-09-29T12:03:39.248Z"
   },
   {
    "duration": 23,
    "start_time": "2023-09-29T12:03:49.607Z"
   },
   {
    "duration": 16,
    "start_time": "2023-09-29T12:03:59.456Z"
   },
   {
    "duration": 14,
    "start_time": "2023-09-29T12:06:08.074Z"
   },
   {
    "duration": 13,
    "start_time": "2023-09-29T12:06:42.665Z"
   },
   {
    "duration": 16,
    "start_time": "2023-09-29T12:07:42.396Z"
   },
   {
    "duration": 40,
    "start_time": "2023-09-29T12:08:00.475Z"
   },
   {
    "duration": 16,
    "start_time": "2023-09-29T12:08:36.181Z"
   },
   {
    "duration": 1876,
    "start_time": "2023-09-29T12:13:06.802Z"
   },
   {
    "duration": 6,
    "start_time": "2023-09-29T12:22:12.307Z"
   },
   {
    "duration": 3,
    "start_time": "2023-09-29T12:23:53.513Z"
   },
   {
    "duration": 293,
    "start_time": "2023-09-29T12:23:53.519Z"
   },
   {
    "duration": 266,
    "start_time": "2023-09-29T12:23:53.813Z"
   },
   {
    "duration": 11,
    "start_time": "2023-09-29T12:23:54.082Z"
   },
   {
    "duration": 16,
    "start_time": "2023-09-29T12:23:54.095Z"
   },
   {
    "duration": 14,
    "start_time": "2023-09-29T12:23:54.113Z"
   },
   {
    "duration": 140,
    "start_time": "2023-09-29T12:23:54.129Z"
   },
   {
    "duration": 160,
    "start_time": "2023-09-29T12:23:54.271Z"
   },
   {
    "duration": 137,
    "start_time": "2023-09-29T12:23:54.433Z"
   },
   {
    "duration": 162,
    "start_time": "2023-09-29T12:23:54.572Z"
   },
   {
    "duration": 15,
    "start_time": "2023-09-29T12:23:54.737Z"
   },
   {
    "duration": 27,
    "start_time": "2023-09-29T12:23:54.755Z"
   },
   {
    "duration": 25,
    "start_time": "2023-09-29T12:23:54.784Z"
   },
   {
    "duration": 675,
    "start_time": "2023-09-29T12:23:54.812Z"
   },
   {
    "duration": 132,
    "start_time": "2023-09-29T12:23:55.488Z"
   },
   {
    "duration": 7,
    "start_time": "2023-09-29T12:23:55.622Z"
   },
   {
    "duration": 18,
    "start_time": "2023-09-29T12:23:55.631Z"
   },
   {
    "duration": 150,
    "start_time": "2023-09-29T12:23:55.651Z"
   },
   {
    "duration": 154,
    "start_time": "2023-09-29T12:23:55.803Z"
   },
   {
    "duration": 143,
    "start_time": "2023-09-29T12:23:55.959Z"
   },
   {
    "duration": 7,
    "start_time": "2023-09-29T12:23:56.105Z"
   },
   {
    "duration": 59,
    "start_time": "2023-09-29T12:23:56.114Z"
   },
   {
    "duration": 43,
    "start_time": "2023-09-29T12:23:56.175Z"
   },
   {
    "duration": 24,
    "start_time": "2023-09-29T12:23:56.220Z"
   },
   {
    "duration": 38,
    "start_time": "2023-09-29T12:23:56.246Z"
   },
   {
    "duration": 41,
    "start_time": "2023-09-29T12:23:56.286Z"
   },
   {
    "duration": 42,
    "start_time": "2023-09-29T12:23:56.329Z"
   },
   {
    "duration": 235,
    "start_time": "2023-09-29T12:23:56.373Z"
   },
   {
    "duration": 351,
    "start_time": "2023-09-29T12:23:56.610Z"
   },
   {
    "duration": 11,
    "start_time": "2023-09-29T12:23:56.963Z"
   },
   {
    "duration": 21,
    "start_time": "2023-09-29T12:23:56.975Z"
   },
   {
    "duration": 41,
    "start_time": "2023-09-29T12:23:56.998Z"
   },
   {
    "duration": 18,
    "start_time": "2023-09-29T12:23:57.041Z"
   },
   {
    "duration": 25,
    "start_time": "2023-09-29T12:23:57.061Z"
   },
   {
    "duration": 31,
    "start_time": "2023-09-29T12:23:57.088Z"
   },
   {
    "duration": 15,
    "start_time": "2023-09-29T12:23:57.121Z"
   },
   {
    "duration": 17,
    "start_time": "2023-09-29T12:23:57.137Z"
   },
   {
    "duration": 47,
    "start_time": "2023-09-29T12:23:57.155Z"
   },
   {
    "duration": 29,
    "start_time": "2023-09-29T12:23:57.204Z"
   },
   {
    "duration": 36,
    "start_time": "2023-09-29T12:23:57.235Z"
   },
   {
    "duration": 26,
    "start_time": "2023-09-29T12:23:57.275Z"
   },
   {
    "duration": 43,
    "start_time": "2023-09-29T12:23:57.303Z"
   },
   {
    "duration": 22,
    "start_time": "2023-09-29T12:23:57.348Z"
   },
   {
    "duration": 49,
    "start_time": "2023-09-29T12:23:57.372Z"
   },
   {
    "duration": 9,
    "start_time": "2023-09-29T12:23:57.422Z"
   },
   {
    "duration": 9,
    "start_time": "2023-09-29T12:24:19.589Z"
   },
   {
    "duration": 5,
    "start_time": "2023-09-29T12:29:24.411Z"
   },
   {
    "duration": 11,
    "start_time": "2023-09-29T12:30:11.539Z"
   },
   {
    "duration": 7,
    "start_time": "2023-09-29T12:30:48.804Z"
   },
   {
    "duration": 97,
    "start_time": "2023-09-29T12:30:52.116Z"
   },
   {
    "duration": 4,
    "start_time": "2023-09-29T12:31:03.213Z"
   },
   {
    "duration": 129,
    "start_time": "2023-09-29T12:31:03.220Z"
   },
   {
    "duration": 350,
    "start_time": "2023-09-29T12:31:03.350Z"
   },
   {
    "duration": 13,
    "start_time": "2023-09-29T12:31:03.702Z"
   },
   {
    "duration": 250,
    "start_time": "2023-09-29T12:31:03.716Z"
   },
   {
    "duration": 73,
    "start_time": "2023-09-29T12:31:03.968Z"
   },
   {
    "duration": 204,
    "start_time": "2023-09-29T12:31:04.042Z"
   },
   {
    "duration": 163,
    "start_time": "2023-09-29T12:31:04.247Z"
   },
   {
    "duration": 146,
    "start_time": "2023-09-29T12:31:04.411Z"
   },
   {
    "duration": 168,
    "start_time": "2023-09-29T12:31:04.560Z"
   },
   {
    "duration": 17,
    "start_time": "2023-09-29T12:31:04.730Z"
   },
   {
    "duration": 48,
    "start_time": "2023-09-29T12:31:04.749Z"
   },
   {
    "duration": 54,
    "start_time": "2023-09-29T12:31:04.799Z"
   },
   {
    "duration": 719,
    "start_time": "2023-09-29T12:31:04.854Z"
   },
   {
    "duration": 134,
    "start_time": "2023-09-29T12:31:05.575Z"
   },
   {
    "duration": 7,
    "start_time": "2023-09-29T12:31:05.711Z"
   },
   {
    "duration": 55,
    "start_time": "2023-09-29T12:31:05.720Z"
   },
   {
    "duration": 156,
    "start_time": "2023-09-29T12:31:05.776Z"
   },
   {
    "duration": 1556,
    "start_time": "2023-09-29T12:31:05.934Z"
   },
   {
    "duration": 144,
    "start_time": "2023-09-29T12:31:07.491Z"
   },
   {
    "duration": 6,
    "start_time": "2023-09-29T12:31:07.636Z"
   },
   {
    "duration": 59,
    "start_time": "2023-09-29T12:31:07.644Z"
   },
   {
    "duration": 79,
    "start_time": "2023-09-29T12:31:07.705Z"
   },
   {
    "duration": 104,
    "start_time": "2023-09-29T12:31:07.786Z"
   },
   {
    "duration": 82,
    "start_time": "2023-09-29T12:31:07.892Z"
   },
   {
    "duration": 142,
    "start_time": "2023-09-29T12:31:07.975Z"
   },
   {
    "duration": 90,
    "start_time": "2023-09-29T12:31:08.118Z"
   },
   {
    "duration": 242,
    "start_time": "2023-09-29T12:31:08.211Z"
   },
   {
    "duration": 417,
    "start_time": "2023-09-29T12:31:08.454Z"
   },
   {
    "duration": 15,
    "start_time": "2023-09-29T12:31:08.873Z"
   },
   {
    "duration": 469,
    "start_time": "2023-09-29T12:31:08.890Z"
   },
   {
    "duration": 415,
    "start_time": "2023-09-29T12:31:09.361Z"
   },
   {
    "duration": 38,
    "start_time": "2023-09-29T12:31:09.778Z"
   },
   {
    "duration": 35,
    "start_time": "2023-09-29T12:31:09.818Z"
   },
   {
    "duration": 40,
    "start_time": "2023-09-29T12:31:09.854Z"
   },
   {
    "duration": 18,
    "start_time": "2023-09-29T12:31:09.896Z"
   },
   {
    "duration": 47,
    "start_time": "2023-09-29T12:31:09.916Z"
   },
   {
    "duration": 24,
    "start_time": "2023-09-29T12:31:09.965Z"
   },
   {
    "duration": 41,
    "start_time": "2023-09-29T12:31:09.991Z"
   },
   {
    "duration": 53,
    "start_time": "2023-09-29T12:31:10.034Z"
   },
   {
    "duration": 18,
    "start_time": "2023-09-29T12:31:10.089Z"
   },
   {
    "duration": 25,
    "start_time": "2023-09-29T12:31:10.109Z"
   },
   {
    "duration": 23,
    "start_time": "2023-09-29T12:31:10.136Z"
   },
   {
    "duration": 19,
    "start_time": "2023-09-29T12:31:10.161Z"
   },
   {
    "duration": 23,
    "start_time": "2023-09-29T12:31:10.181Z"
   },
   {
    "duration": 15,
    "start_time": "2023-09-29T12:31:10.206Z"
   },
   {
    "duration": 120,
    "start_time": "2023-09-29T12:31:10.223Z"
   },
   {
    "duration": 0,
    "start_time": "2023-09-29T12:31:10.345Z"
   },
   {
    "duration": 0,
    "start_time": "2023-09-29T12:31:10.346Z"
   },
   {
    "duration": 3,
    "start_time": "2023-09-29T12:38:09.596Z"
   },
   {
    "duration": 10,
    "start_time": "2023-09-29T12:38:12.947Z"
   },
   {
    "duration": 3,
    "start_time": "2023-09-29T12:39:20.929Z"
   },
   {
    "duration": 111,
    "start_time": "2023-09-29T12:39:20.934Z"
   },
   {
    "duration": 211,
    "start_time": "2023-09-29T12:39:21.047Z"
   },
   {
    "duration": 13,
    "start_time": "2023-09-29T12:39:21.260Z"
   },
   {
    "duration": 48,
    "start_time": "2023-09-29T12:39:21.276Z"
   },
   {
    "duration": 33,
    "start_time": "2023-09-29T12:39:21.326Z"
   },
   {
    "duration": 197,
    "start_time": "2023-09-29T12:39:21.361Z"
   },
   {
    "duration": 173,
    "start_time": "2023-09-29T12:39:21.560Z"
   },
   {
    "duration": 146,
    "start_time": "2023-09-29T12:39:21.735Z"
   },
   {
    "duration": 136,
    "start_time": "2023-09-29T12:39:21.882Z"
   },
   {
    "duration": 16,
    "start_time": "2023-09-29T12:39:22.019Z"
   },
   {
    "duration": 61,
    "start_time": "2023-09-29T12:39:22.037Z"
   },
   {
    "duration": 48,
    "start_time": "2023-09-29T12:39:22.100Z"
   },
   {
    "duration": 782,
    "start_time": "2023-09-29T12:39:22.152Z"
   },
   {
    "duration": 140,
    "start_time": "2023-09-29T12:39:22.935Z"
   },
   {
    "duration": 7,
    "start_time": "2023-09-29T12:39:23.077Z"
   },
   {
    "duration": 64,
    "start_time": "2023-09-29T12:39:23.086Z"
   },
   {
    "duration": 182,
    "start_time": "2023-09-29T12:39:23.152Z"
   },
   {
    "duration": 156,
    "start_time": "2023-09-29T12:39:23.336Z"
   },
   {
    "duration": 412,
    "start_time": "2023-09-29T12:39:23.504Z"
   },
   {
    "duration": 6,
    "start_time": "2023-09-29T12:39:23.918Z"
   },
   {
    "duration": 42,
    "start_time": "2023-09-29T12:39:23.926Z"
   },
   {
    "duration": 44,
    "start_time": "2023-09-29T12:39:23.970Z"
   },
   {
    "duration": 47,
    "start_time": "2023-09-29T12:39:24.016Z"
   },
   {
    "duration": 69,
    "start_time": "2023-09-29T12:39:24.065Z"
   },
   {
    "duration": 55,
    "start_time": "2023-09-29T12:39:24.136Z"
   },
   {
    "duration": 52,
    "start_time": "2023-09-29T12:39:24.193Z"
   },
   {
    "duration": 243,
    "start_time": "2023-09-29T12:39:24.247Z"
   },
   {
    "duration": 459,
    "start_time": "2023-09-29T12:39:24.492Z"
   },
   {
    "duration": 14,
    "start_time": "2023-09-29T12:39:24.953Z"
   },
   {
    "duration": 35,
    "start_time": "2023-09-29T12:39:24.969Z"
   },
   {
    "duration": 165,
    "start_time": "2023-09-29T12:39:25.006Z"
   },
   {
    "duration": 19,
    "start_time": "2023-09-29T12:39:25.173Z"
   },
   {
    "duration": 37,
    "start_time": "2023-09-29T12:39:25.194Z"
   },
   {
    "duration": 28,
    "start_time": "2023-09-29T12:39:25.233Z"
   },
   {
    "duration": 18,
    "start_time": "2023-09-29T12:39:25.264Z"
   },
   {
    "duration": 19,
    "start_time": "2023-09-29T12:39:25.284Z"
   },
   {
    "duration": 21,
    "start_time": "2023-09-29T12:39:25.314Z"
   },
   {
    "duration": 37,
    "start_time": "2023-09-29T12:39:25.337Z"
   },
   {
    "duration": 39,
    "start_time": "2023-09-29T12:39:25.376Z"
   },
   {
    "duration": 6,
    "start_time": "2023-09-29T12:39:25.419Z"
   },
   {
    "duration": 32,
    "start_time": "2023-09-29T12:39:25.427Z"
   },
   {
    "duration": 18,
    "start_time": "2023-09-29T12:39:25.461Z"
   },
   {
    "duration": 17,
    "start_time": "2023-09-29T12:39:25.480Z"
   },
   {
    "duration": 16,
    "start_time": "2023-09-29T12:39:25.499Z"
   },
   {
    "duration": 13,
    "start_time": "2023-09-29T12:39:25.519Z"
   },
   {
    "duration": 152,
    "start_time": "2023-09-29T12:39:25.534Z"
   },
   {
    "duration": 0,
    "start_time": "2023-09-29T12:39:25.689Z"
   },
   {
    "duration": 3,
    "start_time": "2023-09-29T12:39:54.869Z"
   },
   {
    "duration": 3,
    "start_time": "2023-09-29T12:40:47.959Z"
   },
   {
    "duration": 56167,
    "start_time": "2023-09-29T12:41:00.134Z"
   },
   {
    "duration": 33032,
    "start_time": "2023-09-29T12:43:49.162Z"
   },
   {
    "duration": 12,
    "start_time": "2023-09-29T12:47:03.973Z"
   },
   {
    "duration": 3,
    "start_time": "2023-09-29T12:48:18.970Z"
   },
   {
    "duration": 23,
    "start_time": "2023-09-29T12:48:18.977Z"
   },
   {
    "duration": 118,
    "start_time": "2023-09-29T12:48:19.002Z"
   },
   {
    "duration": 12,
    "start_time": "2023-09-29T12:48:19.122Z"
   },
   {
    "duration": 41,
    "start_time": "2023-09-29T12:48:19.136Z"
   },
   {
    "duration": 17,
    "start_time": "2023-09-29T12:48:19.179Z"
   },
   {
    "duration": 140,
    "start_time": "2023-09-29T12:48:19.198Z"
   },
   {
    "duration": 168,
    "start_time": "2023-09-29T12:48:19.341Z"
   },
   {
    "duration": 423,
    "start_time": "2023-09-29T12:48:19.515Z"
   },
   {
    "duration": 136,
    "start_time": "2023-09-29T12:48:19.941Z"
   },
   {
    "duration": 26,
    "start_time": "2023-09-29T12:48:20.079Z"
   },
   {
    "duration": 56,
    "start_time": "2023-09-29T12:48:20.107Z"
   },
   {
    "duration": 51,
    "start_time": "2023-09-29T12:48:20.165Z"
   },
   {
    "duration": 815,
    "start_time": "2023-09-29T12:48:20.218Z"
   },
   {
    "duration": 138,
    "start_time": "2023-09-29T12:48:21.034Z"
   },
   {
    "duration": 8,
    "start_time": "2023-09-29T12:48:21.174Z"
   },
   {
    "duration": 45,
    "start_time": "2023-09-29T12:48:21.185Z"
   },
   {
    "duration": 182,
    "start_time": "2023-09-29T12:48:21.232Z"
   },
   {
    "duration": 156,
    "start_time": "2023-09-29T12:48:21.416Z"
   },
   {
    "duration": 155,
    "start_time": "2023-09-29T12:48:21.574Z"
   },
   {
    "duration": 7,
    "start_time": "2023-09-29T12:48:21.731Z"
   },
   {
    "duration": 37,
    "start_time": "2023-09-29T12:48:21.740Z"
   },
   {
    "duration": 46,
    "start_time": "2023-09-29T12:48:21.779Z"
   },
   {
    "duration": 29,
    "start_time": "2023-09-29T12:48:21.828Z"
   },
   {
    "duration": 32,
    "start_time": "2023-09-29T12:48:21.859Z"
   },
   {
    "duration": 40,
    "start_time": "2023-09-29T12:48:21.893Z"
   },
   {
    "duration": 25,
    "start_time": "2023-09-29T12:48:21.935Z"
   },
   {
    "duration": 259,
    "start_time": "2023-09-29T12:48:21.964Z"
   },
   {
    "duration": 421,
    "start_time": "2023-09-29T12:48:22.225Z"
   },
   {
    "duration": 10,
    "start_time": "2023-09-29T12:48:22.648Z"
   },
   {
    "duration": 119,
    "start_time": "2023-09-29T12:48:22.660Z"
   },
   {
    "duration": 89,
    "start_time": "2023-09-29T12:48:22.781Z"
   },
   {
    "duration": 25,
    "start_time": "2023-09-29T12:48:22.872Z"
   },
   {
    "duration": 55,
    "start_time": "2023-09-29T12:48:22.898Z"
   },
   {
    "duration": 69,
    "start_time": "2023-09-29T12:48:22.955Z"
   },
   {
    "duration": 71,
    "start_time": "2023-09-29T12:48:23.026Z"
   },
   {
    "duration": 47,
    "start_time": "2023-09-29T12:48:23.099Z"
   },
   {
    "duration": 65,
    "start_time": "2023-09-29T12:48:23.148Z"
   },
   {
    "duration": 50,
    "start_time": "2023-09-29T12:48:23.215Z"
   },
   {
    "duration": 60,
    "start_time": "2023-09-29T12:48:23.267Z"
   },
   {
    "duration": 7,
    "start_time": "2023-09-29T12:48:23.329Z"
   },
   {
    "duration": 44,
    "start_time": "2023-09-29T12:48:23.338Z"
   },
   {
    "duration": 34,
    "start_time": "2023-09-29T12:48:23.384Z"
   },
   {
    "duration": 42,
    "start_time": "2023-09-29T12:48:23.420Z"
   },
   {
    "duration": 28,
    "start_time": "2023-09-29T12:48:23.464Z"
   },
   {
    "duration": 46,
    "start_time": "2023-09-29T12:48:23.494Z"
   },
   {
    "duration": 23,
    "start_time": "2023-09-29T12:48:23.542Z"
   },
   {
    "duration": 51,
    "start_time": "2023-09-29T12:48:23.567Z"
   },
   {
    "duration": 36,
    "start_time": "2023-09-29T12:48:23.620Z"
   },
   {
    "duration": 53664,
    "start_time": "2023-09-29T12:48:23.658Z"
   },
   {
    "duration": 33008,
    "start_time": "2023-09-29T12:49:17.324Z"
   },
   {
    "duration": 348000,
    "start_time": "2023-09-29T12:49:50.334Z"
   },
   {
    "duration": 6,
    "start_time": "2023-09-29T13:00:41.299Z"
   },
   {
    "duration": 5,
    "start_time": "2023-09-29T13:00:44.788Z"
   },
   {
    "duration": 1489527,
    "start_time": "2023-09-29T13:01:22.587Z"
   },
   {
    "duration": 5,
    "start_time": "2023-09-29T13:42:28.275Z"
   },
   {
    "duration": 9,
    "start_time": "2023-09-29T13:42:39.576Z"
   },
   {
    "duration": 2095,
    "start_time": "2023-09-29T13:43:07.513Z"
   },
   {
    "duration": 3,
    "start_time": "2023-09-29T13:43:22.057Z"
   },
   {
    "duration": 260,
    "start_time": "2023-09-29T13:44:14.115Z"
   },
   {
    "duration": 157,
    "start_time": "2023-09-29T13:44:24.851Z"
   },
   {
    "duration": 427,
    "start_time": "2023-09-29T13:44:29.739Z"
   },
   {
    "duration": 19,
    "start_time": "2023-09-29T13:45:05.658Z"
   },
   {
    "duration": 5,
    "start_time": "2023-09-29T13:47:25.246Z"
   },
   {
    "duration": 7,
    "start_time": "2023-09-29T13:47:30.638Z"
   },
   {
    "duration": 1254,
    "start_time": "2023-09-29T13:49:11.668Z"
   },
   {
    "duration": 353,
    "start_time": "2023-09-29T13:49:12.924Z"
   },
   {
    "duration": 103,
    "start_time": "2023-09-29T13:49:13.279Z"
   },
   {
    "duration": 27,
    "start_time": "2023-09-29T13:49:13.384Z"
   },
   {
    "duration": 15,
    "start_time": "2023-09-29T13:49:13.416Z"
   },
   {
    "duration": 15,
    "start_time": "2023-09-29T13:49:13.433Z"
   },
   {
    "duration": 170,
    "start_time": "2023-09-29T13:49:13.450Z"
   },
   {
    "duration": 149,
    "start_time": "2023-09-29T13:49:13.622Z"
   },
   {
    "duration": 135,
    "start_time": "2023-09-29T13:49:13.773Z"
   },
   {
    "duration": 201,
    "start_time": "2023-09-29T13:49:13.916Z"
   },
   {
    "duration": 12,
    "start_time": "2023-09-29T13:49:14.118Z"
   },
   {
    "duration": 29,
    "start_time": "2023-09-29T13:49:14.132Z"
   },
   {
    "duration": 26,
    "start_time": "2023-09-29T13:49:14.162Z"
   },
   {
    "duration": 804,
    "start_time": "2023-09-29T13:49:14.190Z"
   },
   {
    "duration": 135,
    "start_time": "2023-09-29T13:49:15.001Z"
   },
   {
    "duration": 7,
    "start_time": "2023-09-29T13:49:15.138Z"
   },
   {
    "duration": 76,
    "start_time": "2023-09-29T13:49:15.147Z"
   },
   {
    "duration": 207,
    "start_time": "2023-09-29T13:49:15.224Z"
   },
   {
    "duration": 141,
    "start_time": "2023-09-29T13:49:15.433Z"
   },
   {
    "duration": 151,
    "start_time": "2023-09-29T13:49:15.576Z"
   },
   {
    "duration": 6,
    "start_time": "2023-09-29T13:49:15.729Z"
   },
   {
    "duration": 26,
    "start_time": "2023-09-29T13:49:15.737Z"
   },
   {
    "duration": 56,
    "start_time": "2023-09-29T13:49:15.765Z"
   },
   {
    "duration": 14,
    "start_time": "2023-09-29T13:49:15.823Z"
   },
   {
    "duration": 71,
    "start_time": "2023-09-29T13:49:15.839Z"
   },
   {
    "duration": 136,
    "start_time": "2023-09-29T13:49:15.912Z"
   },
   {
    "duration": 36,
    "start_time": "2023-09-29T13:49:16.050Z"
   },
   {
    "duration": 222,
    "start_time": "2023-09-29T13:49:16.091Z"
   },
   {
    "duration": 539,
    "start_time": "2023-09-29T13:49:16.315Z"
   },
   {
    "duration": 9,
    "start_time": "2023-09-29T13:49:16.855Z"
   },
   {
    "duration": 252,
    "start_time": "2023-09-29T13:49:16.866Z"
   },
   {
    "duration": 69,
    "start_time": "2023-09-29T13:49:17.120Z"
   },
   {
    "duration": 24,
    "start_time": "2023-09-29T13:49:17.191Z"
   },
   {
    "duration": 35,
    "start_time": "2023-09-29T13:49:17.216Z"
   },
   {
    "duration": 16,
    "start_time": "2023-09-29T13:49:17.253Z"
   },
   {
    "duration": 16,
    "start_time": "2023-09-29T13:49:17.270Z"
   },
   {
    "duration": 38,
    "start_time": "2023-09-29T13:49:17.288Z"
   },
   {
    "duration": 23,
    "start_time": "2023-09-29T13:49:17.327Z"
   },
   {
    "duration": 28,
    "start_time": "2023-09-29T13:49:17.352Z"
   },
   {
    "duration": 56,
    "start_time": "2023-09-29T13:49:17.382Z"
   },
   {
    "duration": 57,
    "start_time": "2023-09-29T13:49:17.439Z"
   },
   {
    "duration": 42,
    "start_time": "2023-09-29T13:49:17.498Z"
   },
   {
    "duration": 12,
    "start_time": "2023-09-29T13:49:17.541Z"
   },
   {
    "duration": 28,
    "start_time": "2023-09-29T13:49:17.554Z"
   },
   {
    "duration": 25,
    "start_time": "2023-09-29T13:49:17.584Z"
   },
   {
    "duration": 34,
    "start_time": "2023-09-29T13:49:17.612Z"
   },
   {
    "duration": 4,
    "start_time": "2023-09-29T13:49:17.648Z"
   },
   {
    "duration": 24,
    "start_time": "2023-09-29T13:49:17.654Z"
   },
   {
    "duration": 23,
    "start_time": "2023-09-29T13:49:17.680Z"
   },
   {
    "duration": 47790,
    "start_time": "2023-09-29T13:49:17.714Z"
   },
   {
    "duration": 30230,
    "start_time": "2023-09-29T13:50:05.510Z"
   },
   {
    "duration": 1306,
    "start_time": "2023-10-02T06:07:33.215Z"
   },
   {
    "duration": 448,
    "start_time": "2023-10-02T06:07:34.523Z"
   },
   {
    "duration": 336,
    "start_time": "2023-10-02T06:07:34.973Z"
   },
   {
    "duration": 14,
    "start_time": "2023-10-02T06:07:35.312Z"
   },
   {
    "duration": 21,
    "start_time": "2023-10-02T06:07:35.327Z"
   },
   {
    "duration": 32,
    "start_time": "2023-10-02T06:07:35.350Z"
   },
   {
    "duration": 126,
    "start_time": "2023-10-02T06:07:35.384Z"
   },
   {
    "duration": 132,
    "start_time": "2023-10-02T06:07:35.511Z"
   },
   {
    "duration": 118,
    "start_time": "2023-10-02T06:07:35.649Z"
   },
   {
    "duration": 210,
    "start_time": "2023-10-02T06:07:35.769Z"
   },
   {
    "duration": 16,
    "start_time": "2023-10-02T06:07:35.982Z"
   },
   {
    "duration": 17,
    "start_time": "2023-10-02T06:07:36.000Z"
   },
   {
    "duration": 33,
    "start_time": "2023-10-02T06:07:36.019Z"
   },
   {
    "duration": 642,
    "start_time": "2023-10-02T06:07:36.054Z"
   },
   {
    "duration": 126,
    "start_time": "2023-10-02T06:07:36.698Z"
   },
   {
    "duration": 11,
    "start_time": "2023-10-02T06:07:36.825Z"
   },
   {
    "duration": 30,
    "start_time": "2023-10-02T06:07:36.849Z"
   },
   {
    "duration": 153,
    "start_time": "2023-10-02T06:07:36.881Z"
   },
   {
    "duration": 143,
    "start_time": "2023-10-02T06:07:37.038Z"
   },
   {
    "duration": 131,
    "start_time": "2023-10-02T06:07:37.183Z"
   },
   {
    "duration": 7,
    "start_time": "2023-10-02T06:07:37.316Z"
   },
   {
    "duration": 18,
    "start_time": "2023-10-02T06:07:37.324Z"
   },
   {
    "duration": 13,
    "start_time": "2023-10-02T06:07:37.344Z"
   },
   {
    "duration": 12,
    "start_time": "2023-10-02T06:07:37.359Z"
   },
   {
    "duration": 28,
    "start_time": "2023-10-02T06:07:37.373Z"
   },
   {
    "duration": 12,
    "start_time": "2023-10-02T06:07:37.402Z"
   },
   {
    "duration": 24,
    "start_time": "2023-10-02T06:07:37.415Z"
   },
   {
    "duration": 211,
    "start_time": "2023-10-02T06:07:37.442Z"
   },
   {
    "duration": 485,
    "start_time": "2023-10-02T06:07:37.654Z"
   },
   {
    "duration": 11,
    "start_time": "2023-10-02T06:07:38.141Z"
   },
   {
    "duration": 22,
    "start_time": "2023-10-02T06:07:38.154Z"
   },
   {
    "duration": 41,
    "start_time": "2023-10-02T06:07:38.178Z"
   },
   {
    "duration": 17,
    "start_time": "2023-10-02T06:07:38.221Z"
   },
   {
    "duration": 27,
    "start_time": "2023-10-02T06:07:38.239Z"
   },
   {
    "duration": 14,
    "start_time": "2023-10-02T06:07:38.268Z"
   },
   {
    "duration": 13,
    "start_time": "2023-10-02T06:07:38.284Z"
   },
   {
    "duration": 20,
    "start_time": "2023-10-02T06:07:38.299Z"
   },
   {
    "duration": 44,
    "start_time": "2023-10-02T06:07:38.321Z"
   },
   {
    "duration": 8,
    "start_time": "2023-10-02T06:07:38.367Z"
   },
   {
    "duration": 23,
    "start_time": "2023-10-02T06:07:38.377Z"
   },
   {
    "duration": 6,
    "start_time": "2023-10-02T06:07:38.403Z"
   },
   {
    "duration": 30,
    "start_time": "2023-10-02T06:07:38.411Z"
   },
   {
    "duration": 34,
    "start_time": "2023-10-02T06:07:38.443Z"
   },
   {
    "duration": 10,
    "start_time": "2023-10-02T06:07:38.479Z"
   },
   {
    "duration": 22,
    "start_time": "2023-10-02T06:07:38.490Z"
   },
   {
    "duration": 11,
    "start_time": "2023-10-02T06:07:38.513Z"
   },
   {
    "duration": 3,
    "start_time": "2023-10-02T06:07:38.525Z"
   },
   {
    "duration": 8,
    "start_time": "2023-10-02T06:07:38.530Z"
   },
   {
    "duration": 6,
    "start_time": "2023-10-02T06:07:38.539Z"
   },
   {
    "duration": 43412,
    "start_time": "2023-10-02T06:07:38.547Z"
   },
   {
    "duration": 25412,
    "start_time": "2023-10-02T06:08:21.961Z"
   },
   {
    "duration": 257424,
    "start_time": "2023-10-02T06:08:47.374Z"
   },
   {
    "duration": 3,
    "start_time": "2023-10-02T06:13:04.799Z"
   },
   {
    "duration": 46,
    "start_time": "2023-10-02T06:13:04.804Z"
   },
   {
    "duration": 1070,
    "start_time": "2023-10-02T07:34:12.264Z"
   },
   {
    "duration": 332,
    "start_time": "2023-10-02T07:34:13.336Z"
   },
   {
    "duration": 96,
    "start_time": "2023-10-02T07:34:13.670Z"
   },
   {
    "duration": 15,
    "start_time": "2023-10-02T07:34:13.769Z"
   },
   {
    "duration": 12,
    "start_time": "2023-10-02T07:34:13.786Z"
   },
   {
    "duration": 12,
    "start_time": "2023-10-02T07:34:13.800Z"
   },
   {
    "duration": 123,
    "start_time": "2023-10-02T07:34:13.813Z"
   },
   {
    "duration": 144,
    "start_time": "2023-10-02T07:34:13.938Z"
   },
   {
    "duration": 124,
    "start_time": "2023-10-02T07:34:14.084Z"
   },
   {
    "duration": 208,
    "start_time": "2023-10-02T07:34:14.211Z"
   },
   {
    "duration": 13,
    "start_time": "2023-10-02T07:34:14.421Z"
   },
   {
    "duration": 36,
    "start_time": "2023-10-02T07:34:14.436Z"
   },
   {
    "duration": 17,
    "start_time": "2023-10-02T07:34:14.475Z"
   },
   {
    "duration": 670,
    "start_time": "2023-10-02T07:34:14.494Z"
   },
   {
    "duration": 108,
    "start_time": "2023-10-02T07:34:15.165Z"
   },
   {
    "duration": 6,
    "start_time": "2023-10-02T07:34:15.275Z"
   },
   {
    "duration": 20,
    "start_time": "2023-10-02T07:34:15.283Z"
   },
   {
    "duration": 123,
    "start_time": "2023-10-02T07:34:15.304Z"
   },
   {
    "duration": 139,
    "start_time": "2023-10-02T07:34:15.430Z"
   },
   {
    "duration": 138,
    "start_time": "2023-10-02T07:34:15.571Z"
   },
   {
    "duration": 6,
    "start_time": "2023-10-02T07:34:15.711Z"
   },
   {
    "duration": 16,
    "start_time": "2023-10-02T07:34:15.718Z"
   },
   {
    "duration": 28,
    "start_time": "2023-10-02T07:34:15.736Z"
   },
   {
    "duration": 19,
    "start_time": "2023-10-02T07:34:15.766Z"
   },
   {
    "duration": 20,
    "start_time": "2023-10-02T07:34:15.786Z"
   },
   {
    "duration": 30,
    "start_time": "2023-10-02T07:34:15.808Z"
   },
   {
    "duration": 37,
    "start_time": "2023-10-02T07:34:15.839Z"
   },
   {
    "duration": 263,
    "start_time": "2023-10-02T07:34:15.880Z"
   },
   {
    "duration": 538,
    "start_time": "2023-10-02T07:34:16.149Z"
   },
   {
    "duration": 9,
    "start_time": "2023-10-02T07:34:16.689Z"
   },
   {
    "duration": 7,
    "start_time": "2023-10-02T07:34:16.699Z"
   },
   {
    "duration": 123,
    "start_time": "2023-10-02T07:34:16.707Z"
   },
   {
    "duration": 0,
    "start_time": "2023-10-02T07:34:16.832Z"
   },
   {
    "duration": 0,
    "start_time": "2023-10-02T07:34:16.833Z"
   },
   {
    "duration": 0,
    "start_time": "2023-10-02T07:34:16.835Z"
   },
   {
    "duration": 0,
    "start_time": "2023-10-02T07:34:16.837Z"
   },
   {
    "duration": 0,
    "start_time": "2023-10-02T07:34:16.838Z"
   },
   {
    "duration": 0,
    "start_time": "2023-10-02T07:34:16.840Z"
   },
   {
    "duration": 0,
    "start_time": "2023-10-02T07:34:16.841Z"
   },
   {
    "duration": 0,
    "start_time": "2023-10-02T07:34:16.842Z"
   },
   {
    "duration": 0,
    "start_time": "2023-10-02T07:34:16.844Z"
   },
   {
    "duration": 0,
    "start_time": "2023-10-02T07:34:16.845Z"
   },
   {
    "duration": 0,
    "start_time": "2023-10-02T07:34:16.846Z"
   },
   {
    "duration": 0,
    "start_time": "2023-10-02T07:34:16.848Z"
   },
   {
    "duration": 0,
    "start_time": "2023-10-02T07:34:16.849Z"
   },
   {
    "duration": 0,
    "start_time": "2023-10-02T07:34:16.851Z"
   },
   {
    "duration": 0,
    "start_time": "2023-10-02T07:34:16.852Z"
   },
   {
    "duration": 0,
    "start_time": "2023-10-02T07:34:16.854Z"
   },
   {
    "duration": 0,
    "start_time": "2023-10-02T07:34:16.857Z"
   },
   {
    "duration": 0,
    "start_time": "2023-10-02T07:34:16.858Z"
   },
   {
    "duration": 0,
    "start_time": "2023-10-02T07:34:16.860Z"
   },
   {
    "duration": 0,
    "start_time": "2023-10-02T07:34:16.861Z"
   },
   {
    "duration": 0,
    "start_time": "2023-10-02T07:34:16.863Z"
   },
   {
    "duration": 0,
    "start_time": "2023-10-02T07:34:16.864Z"
   },
   {
    "duration": 0,
    "start_time": "2023-10-02T07:34:16.866Z"
   },
   {
    "duration": 0,
    "start_time": "2023-10-02T07:34:16.867Z"
   },
   {
    "duration": 0,
    "start_time": "2023-10-02T07:34:16.869Z"
   },
   {
    "duration": 0,
    "start_time": "2023-10-02T07:34:16.870Z"
   },
   {
    "duration": 0,
    "start_time": "2023-10-02T07:34:16.872Z"
   },
   {
    "duration": 0,
    "start_time": "2023-10-02T07:34:16.873Z"
   },
   {
    "duration": 0,
    "start_time": "2023-10-02T07:34:16.875Z"
   },
   {
    "duration": 0,
    "start_time": "2023-10-02T07:34:16.876Z"
   },
   {
    "duration": 0,
    "start_time": "2023-10-02T07:34:16.877Z"
   },
   {
    "duration": 0,
    "start_time": "2023-10-02T07:34:16.878Z"
   },
   {
    "duration": 0,
    "start_time": "2023-10-02T07:34:16.879Z"
   },
   {
    "duration": 0,
    "start_time": "2023-10-02T07:34:16.880Z"
   },
   {
    "duration": 2,
    "start_time": "2023-10-02T07:37:17.849Z"
   },
   {
    "duration": 27,
    "start_time": "2023-10-02T07:37:17.853Z"
   },
   {
    "duration": 120,
    "start_time": "2023-10-02T07:37:17.881Z"
   },
   {
    "duration": 10,
    "start_time": "2023-10-02T07:37:18.003Z"
   },
   {
    "duration": 22,
    "start_time": "2023-10-02T07:37:18.015Z"
   },
   {
    "duration": 22,
    "start_time": "2023-10-02T07:37:18.038Z"
   },
   {
    "duration": 133,
    "start_time": "2023-10-02T07:37:18.061Z"
   },
   {
    "duration": 129,
    "start_time": "2023-10-02T07:37:18.196Z"
   },
   {
    "duration": 110,
    "start_time": "2023-10-02T07:37:18.327Z"
   },
   {
    "duration": 100,
    "start_time": "2023-10-02T07:37:18.439Z"
   },
   {
    "duration": 11,
    "start_time": "2023-10-02T07:37:18.549Z"
   },
   {
    "duration": 32,
    "start_time": "2023-10-02T07:37:18.561Z"
   },
   {
    "duration": 52,
    "start_time": "2023-10-02T07:37:18.595Z"
   },
   {
    "duration": 682,
    "start_time": "2023-10-02T07:37:18.650Z"
   },
   {
    "duration": 116,
    "start_time": "2023-10-02T07:37:19.334Z"
   },
   {
    "duration": 8,
    "start_time": "2023-10-02T07:37:19.452Z"
   },
   {
    "duration": 46,
    "start_time": "2023-10-02T07:37:19.462Z"
   },
   {
    "duration": 115,
    "start_time": "2023-10-02T07:37:19.509Z"
   },
   {
    "duration": 130,
    "start_time": "2023-10-02T07:37:19.626Z"
   },
   {
    "duration": 121,
    "start_time": "2023-10-02T07:37:19.757Z"
   },
   {
    "duration": 5,
    "start_time": "2023-10-02T07:37:19.880Z"
   },
   {
    "duration": 29,
    "start_time": "2023-10-02T07:37:19.887Z"
   },
   {
    "duration": 36,
    "start_time": "2023-10-02T07:37:19.917Z"
   },
   {
    "duration": 22,
    "start_time": "2023-10-02T07:37:19.955Z"
   },
   {
    "duration": 34,
    "start_time": "2023-10-02T07:37:19.979Z"
   },
   {
    "duration": 36,
    "start_time": "2023-10-02T07:37:20.014Z"
   },
   {
    "duration": 48,
    "start_time": "2023-10-02T07:37:20.052Z"
   },
   {
    "duration": 194,
    "start_time": "2023-10-02T07:37:20.102Z"
   },
   {
    "duration": 301,
    "start_time": "2023-10-02T07:37:20.298Z"
   },
   {
    "duration": 7,
    "start_time": "2023-10-02T07:37:20.601Z"
   },
   {
    "duration": 29,
    "start_time": "2023-10-02T07:37:20.610Z"
   },
   {
    "duration": 53,
    "start_time": "2023-10-02T07:37:20.641Z"
   },
   {
    "duration": 23,
    "start_time": "2023-10-02T07:37:20.695Z"
   },
   {
    "duration": 51,
    "start_time": "2023-10-02T07:37:20.720Z"
   },
   {
    "duration": 98,
    "start_time": "2023-10-02T07:37:20.772Z"
   },
   {
    "duration": 74,
    "start_time": "2023-10-02T07:37:20.872Z"
   },
   {
    "duration": 44,
    "start_time": "2023-10-02T07:37:20.947Z"
   },
   {
    "duration": 47,
    "start_time": "2023-10-02T07:37:20.993Z"
   },
   {
    "duration": 25,
    "start_time": "2023-10-02T07:37:21.042Z"
   },
   {
    "duration": 142,
    "start_time": "2023-10-02T07:37:21.068Z"
   },
   {
    "duration": 50,
    "start_time": "2023-10-02T07:37:21.214Z"
   },
   {
    "duration": 42,
    "start_time": "2023-10-02T07:37:21.266Z"
   },
   {
    "duration": 26,
    "start_time": "2023-10-02T07:37:21.309Z"
   },
   {
    "duration": 31,
    "start_time": "2023-10-02T07:37:21.336Z"
   },
   {
    "duration": 35,
    "start_time": "2023-10-02T07:37:21.369Z"
   },
   {
    "duration": 75,
    "start_time": "2023-10-02T07:37:21.405Z"
   },
   {
    "duration": 0,
    "start_time": "2023-10-02T07:37:21.481Z"
   },
   {
    "duration": 0,
    "start_time": "2023-10-02T07:37:21.482Z"
   },
   {
    "duration": 0,
    "start_time": "2023-10-02T07:37:21.483Z"
   },
   {
    "duration": 0,
    "start_time": "2023-10-02T07:37:21.484Z"
   },
   {
    "duration": 0,
    "start_time": "2023-10-02T07:37:21.484Z"
   },
   {
    "duration": 0,
    "start_time": "2023-10-02T07:37:21.485Z"
   },
   {
    "duration": 0,
    "start_time": "2023-10-02T07:37:21.486Z"
   },
   {
    "duration": 0,
    "start_time": "2023-10-02T07:37:21.487Z"
   },
   {
    "duration": 0,
    "start_time": "2023-10-02T07:37:21.488Z"
   },
   {
    "duration": 0,
    "start_time": "2023-10-02T07:37:21.489Z"
   },
   {
    "duration": 0,
    "start_time": "2023-10-02T07:37:21.489Z"
   },
   {
    "duration": 0,
    "start_time": "2023-10-02T07:37:21.490Z"
   },
   {
    "duration": 0,
    "start_time": "2023-10-02T07:37:21.491Z"
   },
   {
    "duration": 0,
    "start_time": "2023-10-02T07:37:21.492Z"
   },
   {
    "duration": 0,
    "start_time": "2023-10-02T07:37:21.493Z"
   },
   {
    "duration": 0,
    "start_time": "2023-10-02T07:37:21.494Z"
   },
   {
    "duration": 0,
    "start_time": "2023-10-02T07:37:21.495Z"
   },
   {
    "duration": 0,
    "start_time": "2023-10-02T07:37:21.496Z"
   },
   {
    "duration": 0,
    "start_time": "2023-10-02T07:37:21.497Z"
   },
   {
    "duration": 4,
    "start_time": "2023-10-02T07:49:49.948Z"
   },
   {
    "duration": 17,
    "start_time": "2023-10-02T07:49:49.954Z"
   },
   {
    "duration": 128,
    "start_time": "2023-10-02T07:49:49.974Z"
   },
   {
    "duration": 12,
    "start_time": "2023-10-02T07:49:50.104Z"
   },
   {
    "duration": 26,
    "start_time": "2023-10-02T07:49:50.118Z"
   },
   {
    "duration": 28,
    "start_time": "2023-10-02T07:49:50.146Z"
   },
   {
    "duration": 144,
    "start_time": "2023-10-02T07:49:50.176Z"
   },
   {
    "duration": 152,
    "start_time": "2023-10-02T07:49:50.322Z"
   },
   {
    "duration": 142,
    "start_time": "2023-10-02T07:49:50.476Z"
   },
   {
    "duration": 234,
    "start_time": "2023-10-02T07:49:50.620Z"
   },
   {
    "duration": 12,
    "start_time": "2023-10-02T07:49:50.858Z"
   },
   {
    "duration": 63,
    "start_time": "2023-10-02T07:49:50.872Z"
   },
   {
    "duration": 50,
    "start_time": "2023-10-02T07:49:50.937Z"
   },
   {
    "duration": 643,
    "start_time": "2023-10-02T07:49:50.990Z"
   },
   {
    "duration": 120,
    "start_time": "2023-10-02T07:49:51.635Z"
   },
   {
    "duration": 8,
    "start_time": "2023-10-02T07:49:51.756Z"
   },
   {
    "duration": 43,
    "start_time": "2023-10-02T07:49:51.766Z"
   },
   {
    "duration": 133,
    "start_time": "2023-10-02T07:49:51.810Z"
   },
   {
    "duration": 133,
    "start_time": "2023-10-02T07:49:51.950Z"
   },
   {
    "duration": 128,
    "start_time": "2023-10-02T07:49:52.085Z"
   },
   {
    "duration": 6,
    "start_time": "2023-10-02T07:49:52.215Z"
   },
   {
    "duration": 13,
    "start_time": "2023-10-02T07:49:52.223Z"
   },
   {
    "duration": 44,
    "start_time": "2023-10-02T07:49:52.238Z"
   },
   {
    "duration": 37,
    "start_time": "2023-10-02T07:49:52.284Z"
   },
   {
    "duration": 29,
    "start_time": "2023-10-02T07:49:52.323Z"
   },
   {
    "duration": 21,
    "start_time": "2023-10-02T07:49:52.354Z"
   },
   {
    "duration": 41,
    "start_time": "2023-10-02T07:49:52.376Z"
   },
   {
    "duration": 257,
    "start_time": "2023-10-02T07:49:52.420Z"
   },
   {
    "duration": 324,
    "start_time": "2023-10-02T07:49:52.678Z"
   },
   {
    "duration": 8,
    "start_time": "2023-10-02T07:49:53.004Z"
   },
   {
    "duration": 19,
    "start_time": "2023-10-02T07:49:53.014Z"
   },
   {
    "duration": 56,
    "start_time": "2023-10-02T07:49:53.035Z"
   },
   {
    "duration": 29,
    "start_time": "2023-10-02T07:49:53.093Z"
   },
   {
    "duration": 50,
    "start_time": "2023-10-02T07:49:53.124Z"
   },
   {
    "duration": 23,
    "start_time": "2023-10-02T07:49:53.175Z"
   },
   {
    "duration": 17,
    "start_time": "2023-10-02T07:49:53.200Z"
   },
   {
    "duration": 15,
    "start_time": "2023-10-02T07:49:53.218Z"
   },
   {
    "duration": 34,
    "start_time": "2023-10-02T07:49:53.234Z"
   },
   {
    "duration": 25,
    "start_time": "2023-10-02T07:49:53.271Z"
   },
   {
    "duration": 41,
    "start_time": "2023-10-02T07:49:53.298Z"
   },
   {
    "duration": 33,
    "start_time": "2023-10-02T07:49:53.343Z"
   },
   {
    "duration": 44,
    "start_time": "2023-10-02T07:49:53.378Z"
   },
   {
    "duration": 26,
    "start_time": "2023-10-02T07:49:53.425Z"
   },
   {
    "duration": 33,
    "start_time": "2023-10-02T07:49:53.453Z"
   },
   {
    "duration": 23,
    "start_time": "2023-10-02T07:49:53.488Z"
   },
   {
    "duration": 24,
    "start_time": "2023-10-02T07:49:53.512Z"
   },
   {
    "duration": 180,
    "start_time": "2023-10-02T07:49:53.538Z"
   },
   {
    "duration": 0,
    "start_time": "2023-10-02T07:49:53.720Z"
   },
   {
    "duration": 0,
    "start_time": "2023-10-02T07:49:53.721Z"
   },
   {
    "duration": 0,
    "start_time": "2023-10-02T07:49:53.722Z"
   },
   {
    "duration": 0,
    "start_time": "2023-10-02T07:49:53.724Z"
   },
   {
    "duration": 0,
    "start_time": "2023-10-02T07:49:53.725Z"
   },
   {
    "duration": 0,
    "start_time": "2023-10-02T07:49:53.726Z"
   },
   {
    "duration": 0,
    "start_time": "2023-10-02T07:49:53.727Z"
   },
   {
    "duration": 0,
    "start_time": "2023-10-02T07:49:53.729Z"
   },
   {
    "duration": 0,
    "start_time": "2023-10-02T07:49:53.730Z"
   },
   {
    "duration": 0,
    "start_time": "2023-10-02T07:49:53.731Z"
   },
   {
    "duration": 0,
    "start_time": "2023-10-02T07:49:53.732Z"
   },
   {
    "duration": 0,
    "start_time": "2023-10-02T07:49:53.734Z"
   },
   {
    "duration": 0,
    "start_time": "2023-10-02T07:49:53.735Z"
   },
   {
    "duration": 0,
    "start_time": "2023-10-02T07:49:53.736Z"
   },
   {
    "duration": 0,
    "start_time": "2023-10-02T07:49:53.738Z"
   },
   {
    "duration": 0,
    "start_time": "2023-10-02T07:49:53.739Z"
   },
   {
    "duration": 0,
    "start_time": "2023-10-02T07:49:53.740Z"
   },
   {
    "duration": 1214,
    "start_time": "2023-10-02T07:50:23.913Z"
   },
   {
    "duration": 329,
    "start_time": "2023-10-02T07:50:25.129Z"
   },
   {
    "duration": 97,
    "start_time": "2023-10-02T07:50:25.459Z"
   },
   {
    "duration": 14,
    "start_time": "2023-10-02T07:50:25.557Z"
   },
   {
    "duration": 16,
    "start_time": "2023-10-02T07:50:25.573Z"
   },
   {
    "duration": 14,
    "start_time": "2023-10-02T07:50:25.591Z"
   },
   {
    "duration": 134,
    "start_time": "2023-10-02T07:50:25.607Z"
   },
   {
    "duration": 138,
    "start_time": "2023-10-02T07:50:25.743Z"
   },
   {
    "duration": 162,
    "start_time": "2023-10-02T07:50:25.883Z"
   },
   {
    "duration": 254,
    "start_time": "2023-10-02T07:50:26.046Z"
   },
   {
    "duration": 17,
    "start_time": "2023-10-02T07:50:26.301Z"
   },
   {
    "duration": 30,
    "start_time": "2023-10-02T07:50:26.319Z"
   },
   {
    "duration": 17,
    "start_time": "2023-10-02T07:50:26.351Z"
   },
   {
    "duration": 655,
    "start_time": "2023-10-02T07:50:26.371Z"
   },
   {
    "duration": 161,
    "start_time": "2023-10-02T07:50:27.027Z"
   },
   {
    "duration": 8,
    "start_time": "2023-10-02T07:50:27.191Z"
   },
   {
    "duration": 19,
    "start_time": "2023-10-02T07:50:27.201Z"
   },
   {
    "duration": 128,
    "start_time": "2023-10-02T07:50:27.221Z"
   },
   {
    "duration": 138,
    "start_time": "2023-10-02T07:50:27.351Z"
   },
   {
    "duration": 133,
    "start_time": "2023-10-02T07:50:27.491Z"
   },
   {
    "duration": 6,
    "start_time": "2023-10-02T07:50:27.626Z"
   },
   {
    "duration": 43,
    "start_time": "2023-10-02T07:50:27.634Z"
   },
   {
    "duration": 15,
    "start_time": "2023-10-02T07:50:27.679Z"
   },
   {
    "duration": 17,
    "start_time": "2023-10-02T07:50:27.695Z"
   },
   {
    "duration": 15,
    "start_time": "2023-10-02T07:50:27.714Z"
   },
   {
    "duration": 12,
    "start_time": "2023-10-02T07:50:27.730Z"
   },
   {
    "duration": 35,
    "start_time": "2023-10-02T07:50:27.743Z"
   },
   {
    "duration": 172,
    "start_time": "2023-10-02T07:50:27.780Z"
   },
   {
    "duration": 488,
    "start_time": "2023-10-02T07:50:27.954Z"
   },
   {
    "duration": 12,
    "start_time": "2023-10-02T07:50:28.444Z"
   },
   {
    "duration": 12,
    "start_time": "2023-10-02T07:50:28.458Z"
   },
   {
    "duration": 33,
    "start_time": "2023-10-02T07:50:28.471Z"
   },
   {
    "duration": 17,
    "start_time": "2023-10-02T07:50:28.506Z"
   },
   {
    "duration": 32,
    "start_time": "2023-10-02T07:50:28.524Z"
   },
   {
    "duration": 27,
    "start_time": "2023-10-02T07:50:28.558Z"
   },
   {
    "duration": 13,
    "start_time": "2023-10-02T07:50:28.587Z"
   },
   {
    "duration": 18,
    "start_time": "2023-10-02T07:50:28.602Z"
   },
   {
    "duration": 38,
    "start_time": "2023-10-02T07:50:28.622Z"
   },
   {
    "duration": 34,
    "start_time": "2023-10-02T07:50:28.662Z"
   },
   {
    "duration": 53,
    "start_time": "2023-10-02T07:50:28.697Z"
   },
   {
    "duration": 11,
    "start_time": "2023-10-02T07:50:28.755Z"
   },
   {
    "duration": 29,
    "start_time": "2023-10-02T07:50:28.767Z"
   },
   {
    "duration": 5,
    "start_time": "2023-10-02T07:50:28.798Z"
   },
   {
    "duration": 8,
    "start_time": "2023-10-02T07:50:28.805Z"
   },
   {
    "duration": 13,
    "start_time": "2023-10-02T07:50:28.814Z"
   },
   {
    "duration": 14,
    "start_time": "2023-10-02T07:50:28.829Z"
   },
   {
    "duration": 19,
    "start_time": "2023-10-02T07:50:28.845Z"
   },
   {
    "duration": 5,
    "start_time": "2023-10-02T07:50:28.865Z"
   },
   {
    "duration": 9,
    "start_time": "2023-10-02T07:50:28.872Z"
   },
   {
    "duration": 50575,
    "start_time": "2023-10-02T07:50:28.883Z"
   },
   {
    "duration": 303,
    "start_time": "2023-10-02T07:51:19.463Z"
   },
   {
    "duration": 0,
    "start_time": "2023-10-02T07:51:19.768Z"
   },
   {
    "duration": 0,
    "start_time": "2023-10-02T07:51:19.769Z"
   },
   {
    "duration": 0,
    "start_time": "2023-10-02T07:51:19.770Z"
   },
   {
    "duration": 0,
    "start_time": "2023-10-02T07:51:19.771Z"
   },
   {
    "duration": 1,
    "start_time": "2023-10-02T07:51:19.772Z"
   },
   {
    "duration": 0,
    "start_time": "2023-10-02T07:51:19.774Z"
   },
   {
    "duration": 0,
    "start_time": "2023-10-02T07:51:19.775Z"
   },
   {
    "duration": 0,
    "start_time": "2023-10-02T07:51:19.776Z"
   },
   {
    "duration": 0,
    "start_time": "2023-10-02T07:51:19.777Z"
   },
   {
    "duration": 0,
    "start_time": "2023-10-02T07:51:19.779Z"
   },
   {
    "duration": 0,
    "start_time": "2023-10-02T07:51:19.780Z"
   },
   {
    "duration": 0,
    "start_time": "2023-10-02T07:51:19.781Z"
   },
   {
    "duration": 1189,
    "start_time": "2023-10-02T07:54:54.089Z"
   },
   {
    "duration": 444,
    "start_time": "2023-10-02T07:54:55.280Z"
   },
   {
    "duration": 105,
    "start_time": "2023-10-02T07:54:55.725Z"
   },
   {
    "duration": 14,
    "start_time": "2023-10-02T07:54:55.832Z"
   },
   {
    "duration": 42,
    "start_time": "2023-10-02T07:54:55.848Z"
   },
   {
    "duration": 35,
    "start_time": "2023-10-02T07:54:55.892Z"
   },
   {
    "duration": 207,
    "start_time": "2023-10-02T07:54:55.929Z"
   },
   {
    "duration": 188,
    "start_time": "2023-10-02T07:54:56.138Z"
   },
   {
    "duration": 160,
    "start_time": "2023-10-02T07:54:56.327Z"
   },
   {
    "duration": 244,
    "start_time": "2023-10-02T07:54:56.490Z"
   },
   {
    "duration": 10,
    "start_time": "2023-10-02T07:54:56.736Z"
   },
   {
    "duration": 41,
    "start_time": "2023-10-02T07:54:56.748Z"
   },
   {
    "duration": 29,
    "start_time": "2023-10-02T07:54:56.790Z"
   },
   {
    "duration": 746,
    "start_time": "2023-10-02T07:54:56.821Z"
   },
   {
    "duration": 125,
    "start_time": "2023-10-02T07:54:57.569Z"
   },
   {
    "duration": 7,
    "start_time": "2023-10-02T07:54:57.696Z"
   },
   {
    "duration": 12,
    "start_time": "2023-10-02T07:54:57.704Z"
   },
   {
    "duration": 145,
    "start_time": "2023-10-02T07:54:57.717Z"
   },
   {
    "duration": 136,
    "start_time": "2023-10-02T07:54:57.863Z"
   },
   {
    "duration": 129,
    "start_time": "2023-10-02T07:54:58.001Z"
   },
   {
    "duration": 5,
    "start_time": "2023-10-02T07:54:58.132Z"
   },
   {
    "duration": 20,
    "start_time": "2023-10-02T07:54:58.139Z"
   },
   {
    "duration": 16,
    "start_time": "2023-10-02T07:54:58.161Z"
   },
   {
    "duration": 21,
    "start_time": "2023-10-02T07:54:58.179Z"
   },
   {
    "duration": 27,
    "start_time": "2023-10-02T07:54:58.202Z"
   },
   {
    "duration": 11,
    "start_time": "2023-10-02T07:54:58.230Z"
   },
   {
    "duration": 18,
    "start_time": "2023-10-02T07:54:58.242Z"
   },
   {
    "duration": 192,
    "start_time": "2023-10-02T07:54:58.268Z"
   },
   {
    "duration": 516,
    "start_time": "2023-10-02T07:54:58.462Z"
   },
   {
    "duration": 15,
    "start_time": "2023-10-02T07:54:58.980Z"
   },
   {
    "duration": 12,
    "start_time": "2023-10-02T07:54:58.997Z"
   },
   {
    "duration": 48,
    "start_time": "2023-10-02T07:54:59.010Z"
   },
   {
    "duration": 23,
    "start_time": "2023-10-02T07:54:59.060Z"
   },
   {
    "duration": 24,
    "start_time": "2023-10-02T07:54:59.085Z"
   },
   {
    "duration": 17,
    "start_time": "2023-10-02T07:54:59.110Z"
   },
   {
    "duration": 33,
    "start_time": "2023-10-02T07:54:59.129Z"
   },
   {
    "duration": 17,
    "start_time": "2023-10-02T07:54:59.169Z"
   },
   {
    "duration": 18,
    "start_time": "2023-10-02T07:54:59.188Z"
   },
   {
    "duration": 3,
    "start_time": "2023-10-02T07:54:59.210Z"
   },
   {
    "duration": 21,
    "start_time": "2023-10-02T07:54:59.214Z"
   },
   {
    "duration": 10,
    "start_time": "2023-10-02T07:54:59.249Z"
   },
   {
    "duration": 21,
    "start_time": "2023-10-02T07:54:59.260Z"
   },
   {
    "duration": 4,
    "start_time": "2023-10-02T07:54:59.283Z"
   },
   {
    "duration": 13,
    "start_time": "2023-10-02T07:54:59.289Z"
   },
   {
    "duration": 7,
    "start_time": "2023-10-02T07:54:59.303Z"
   },
   {
    "duration": 22,
    "start_time": "2023-10-02T07:54:59.312Z"
   },
   {
    "duration": 20,
    "start_time": "2023-10-02T07:54:59.336Z"
   },
   {
    "duration": 11,
    "start_time": "2023-10-02T07:54:59.358Z"
   },
   {
    "duration": 17,
    "start_time": "2023-10-02T07:54:59.372Z"
   },
   {
    "duration": 45680,
    "start_time": "2023-10-02T07:54:59.391Z"
   },
   {
    "duration": 28830,
    "start_time": "2023-10-02T07:55:45.158Z"
   },
   {
    "duration": 290317,
    "start_time": "2023-10-02T07:56:13.990Z"
   },
   {
    "duration": 4,
    "start_time": "2023-10-02T08:01:04.309Z"
   },
   {
    "duration": 53,
    "start_time": "2023-10-02T08:01:04.314Z"
   },
   {
    "duration": 4440988,
    "start_time": "2023-10-02T08:01:04.368Z"
   },
   {
    "duration": 4,
    "start_time": "2023-10-02T09:15:05.357Z"
   },
   {
    "duration": 11,
    "start_time": "2023-10-02T09:15:05.363Z"
   },
   {
    "duration": 3271,
    "start_time": "2023-10-02T09:15:05.376Z"
   },
   {
    "duration": 3,
    "start_time": "2023-10-02T09:15:08.648Z"
   },
   {
    "duration": 221,
    "start_time": "2023-10-02T09:15:08.652Z"
   },
   {
    "duration": 112,
    "start_time": "2023-10-02T09:15:08.874Z"
   },
   {
    "duration": 396,
    "start_time": "2023-10-02T09:15:08.987Z"
   },
   {
    "duration": 7,
    "start_time": "2023-10-02T09:15:09.385Z"
   },
   {
    "duration": 1233,
    "start_time": "2023-10-03T01:13:12.342Z"
   },
   {
    "duration": 2622,
    "start_time": "2023-10-03T01:13:13.576Z"
   },
   {
    "duration": 103,
    "start_time": "2023-10-03T01:13:16.200Z"
   },
   {
    "duration": 16,
    "start_time": "2023-10-03T01:13:16.305Z"
   },
   {
    "duration": 22,
    "start_time": "2023-10-03T01:13:16.323Z"
   },
   {
    "duration": 39,
    "start_time": "2023-10-03T01:13:16.347Z"
   },
   {
    "duration": 156,
    "start_time": "2023-10-03T01:13:16.388Z"
   },
   {
    "duration": 159,
    "start_time": "2023-10-03T01:13:16.546Z"
   },
   {
    "duration": 140,
    "start_time": "2023-10-03T01:13:16.710Z"
   },
   {
    "duration": 209,
    "start_time": "2023-10-03T01:13:16.853Z"
   },
   {
    "duration": 12,
    "start_time": "2023-10-03T01:13:17.063Z"
   },
   {
    "duration": 13,
    "start_time": "2023-10-03T01:13:17.077Z"
   },
   {
    "duration": 27,
    "start_time": "2023-10-03T01:13:17.092Z"
   },
   {
    "duration": 678,
    "start_time": "2023-10-03T01:13:17.121Z"
   },
   {
    "duration": 130,
    "start_time": "2023-10-03T01:13:17.809Z"
   },
   {
    "duration": 8,
    "start_time": "2023-10-03T01:13:17.941Z"
   },
   {
    "duration": 12,
    "start_time": "2023-10-03T01:13:17.950Z"
   },
   {
    "duration": 147,
    "start_time": "2023-10-03T01:13:17.964Z"
   },
   {
    "duration": 165,
    "start_time": "2023-10-03T01:13:18.113Z"
   },
   {
    "duration": 141,
    "start_time": "2023-10-03T01:13:18.279Z"
   },
   {
    "duration": 6,
    "start_time": "2023-10-03T01:13:18.422Z"
   },
   {
    "duration": 15,
    "start_time": "2023-10-03T01:13:18.430Z"
   },
   {
    "duration": 21,
    "start_time": "2023-10-03T01:13:18.447Z"
   },
   {
    "duration": 12,
    "start_time": "2023-10-03T01:13:18.470Z"
   },
   {
    "duration": 8,
    "start_time": "2023-10-03T01:13:18.483Z"
   },
   {
    "duration": 5,
    "start_time": "2023-10-03T01:13:18.509Z"
   },
   {
    "duration": 13,
    "start_time": "2023-10-03T01:13:18.516Z"
   },
   {
    "duration": 221,
    "start_time": "2023-10-03T01:13:18.533Z"
   },
   {
    "duration": 532,
    "start_time": "2023-10-03T01:13:18.755Z"
   },
   {
    "duration": 21,
    "start_time": "2023-10-03T01:13:19.289Z"
   },
   {
    "duration": 14,
    "start_time": "2023-10-03T01:13:19.312Z"
   },
   {
    "duration": 26,
    "start_time": "2023-10-03T01:13:19.328Z"
   },
   {
    "duration": 18,
    "start_time": "2023-10-03T01:13:19.356Z"
   },
   {
    "duration": 42,
    "start_time": "2023-10-03T01:13:19.375Z"
   },
   {
    "duration": 16,
    "start_time": "2023-10-03T01:13:19.419Z"
   },
   {
    "duration": 12,
    "start_time": "2023-10-03T01:13:19.436Z"
   },
   {
    "duration": 15,
    "start_time": "2023-10-03T01:13:19.450Z"
   },
   {
    "duration": 49,
    "start_time": "2023-10-03T01:13:19.467Z"
   },
   {
    "duration": 11,
    "start_time": "2023-10-03T01:13:19.517Z"
   },
   {
    "duration": 20,
    "start_time": "2023-10-03T01:13:19.530Z"
   },
   {
    "duration": 6,
    "start_time": "2023-10-03T01:13:19.552Z"
   },
   {
    "duration": 21,
    "start_time": "2023-10-03T01:13:19.560Z"
   },
   {
    "duration": 28,
    "start_time": "2023-10-03T01:13:19.583Z"
   },
   {
    "duration": 6,
    "start_time": "2023-10-03T01:13:19.614Z"
   },
   {
    "duration": 50,
    "start_time": "2023-10-03T01:13:19.622Z"
   },
   {
    "duration": 15,
    "start_time": "2023-10-03T01:13:19.674Z"
   },
   {
    "duration": 11,
    "start_time": "2023-10-03T01:13:19.691Z"
   },
   {
    "duration": 7,
    "start_time": "2023-10-03T01:13:19.703Z"
   },
   {
    "duration": 5,
    "start_time": "2023-10-03T01:13:19.711Z"
   },
   {
    "duration": 49001,
    "start_time": "2023-10-03T01:13:19.718Z"
   },
   {
    "duration": 29629,
    "start_time": "2023-10-03T01:14:08.810Z"
   },
   {
    "duration": 154,
    "start_time": "2023-10-03T01:14:38.441Z"
   },
   {
    "duration": 0,
    "start_time": "2023-10-03T01:14:38.597Z"
   },
   {
    "duration": 0,
    "start_time": "2023-10-03T01:14:38.599Z"
   },
   {
    "duration": 0,
    "start_time": "2023-10-03T01:14:38.609Z"
   },
   {
    "duration": 0,
    "start_time": "2023-10-03T01:14:38.610Z"
   },
   {
    "duration": 0,
    "start_time": "2023-10-03T01:14:38.611Z"
   },
   {
    "duration": 0,
    "start_time": "2023-10-03T01:14:38.613Z"
   },
   {
    "duration": 0,
    "start_time": "2023-10-03T01:14:38.614Z"
   },
   {
    "duration": 0,
    "start_time": "2023-10-03T01:14:38.615Z"
   },
   {
    "duration": 0,
    "start_time": "2023-10-03T01:14:38.616Z"
   },
   {
    "duration": 0,
    "start_time": "2023-10-03T01:14:38.617Z"
   },
   {
    "duration": 51,
    "start_time": "2023-10-03T01:20:18.622Z"
   },
   {
    "duration": 312339,
    "start_time": "2023-10-03T01:20:31.855Z"
   },
   {
    "duration": 4,
    "start_time": "2023-10-03T01:25:44.196Z"
   },
   {
    "duration": 10,
    "start_time": "2023-10-03T01:25:44.202Z"
   },
   {
    "duration": 22,
    "start_time": "2023-10-03T01:26:53.008Z"
   },
   {
    "duration": 5,
    "start_time": "2023-10-03T01:26:59.863Z"
   },
   {
    "duration": 16,
    "start_time": "2023-10-03T01:27:54.925Z"
   },
   {
    "duration": 5,
    "start_time": "2023-10-03T01:28:13.895Z"
   },
   {
    "duration": 22,
    "start_time": "2023-10-03T01:28:37.952Z"
   },
   {
    "duration": 17,
    "start_time": "2023-10-03T01:29:00.978Z"
   },
   {
    "duration": 9,
    "start_time": "2023-10-03T01:29:21.783Z"
   },
   {
    "duration": 4,
    "start_time": "2023-10-03T01:29:33.843Z"
   },
   {
    "duration": 71169,
    "start_time": "2023-10-03T01:39:15.746Z"
   },
   {
    "duration": 2531576,
    "start_time": "2023-10-03T01:54:17.788Z"
   },
   {
    "duration": 4,
    "start_time": "2023-10-03T02:36:29.366Z"
   },
   {
    "duration": 45,
    "start_time": "2023-10-10T13:17:26.491Z"
   },
   {
    "duration": 1464,
    "start_time": "2023-10-10T13:17:32.492Z"
   },
   {
    "duration": 492,
    "start_time": "2023-10-10T13:17:33.969Z"
   },
   {
    "duration": 400,
    "start_time": "2023-10-10T13:17:34.462Z"
   },
   {
    "duration": 19,
    "start_time": "2023-10-10T13:17:34.864Z"
   },
   {
    "duration": 20,
    "start_time": "2023-10-10T13:17:34.886Z"
   },
   {
    "duration": 13,
    "start_time": "2023-10-10T13:17:34.908Z"
   },
   {
    "duration": 148,
    "start_time": "2023-10-10T13:17:34.922Z"
   },
   {
    "duration": 144,
    "start_time": "2023-10-10T13:17:35.072Z"
   },
   {
    "duration": 150,
    "start_time": "2023-10-10T13:17:35.218Z"
   },
   {
    "duration": 166,
    "start_time": "2023-10-10T13:17:35.370Z"
   },
   {
    "duration": 15,
    "start_time": "2023-10-10T13:17:35.539Z"
   },
   {
    "duration": 31,
    "start_time": "2023-10-10T13:17:35.565Z"
   },
   {
    "duration": 21,
    "start_time": "2023-10-10T13:17:35.597Z"
   },
   {
    "duration": 674,
    "start_time": "2023-10-10T13:17:35.621Z"
   },
   {
    "duration": 187,
    "start_time": "2023-10-10T13:17:36.297Z"
   },
   {
    "duration": 7,
    "start_time": "2023-10-10T13:17:36.485Z"
   },
   {
    "duration": 16,
    "start_time": "2023-10-10T13:17:36.493Z"
   },
   {
    "duration": 151,
    "start_time": "2023-10-10T13:17:36.511Z"
   },
   {
    "duration": 148,
    "start_time": "2023-10-10T13:17:36.664Z"
   },
   {
    "duration": 155,
    "start_time": "2023-10-10T13:17:36.814Z"
   },
   {
    "duration": 6,
    "start_time": "2023-10-10T13:17:36.970Z"
   },
   {
    "duration": 38,
    "start_time": "2023-10-10T13:17:36.978Z"
   },
   {
    "duration": 16,
    "start_time": "2023-10-10T13:17:37.017Z"
   },
   {
    "duration": 34,
    "start_time": "2023-10-10T13:17:37.035Z"
   },
   {
    "duration": 7,
    "start_time": "2023-10-10T13:17:37.077Z"
   },
   {
    "duration": 19,
    "start_time": "2023-10-10T13:17:37.086Z"
   },
   {
    "duration": 22,
    "start_time": "2023-10-10T13:17:37.107Z"
   },
   {
    "duration": 212,
    "start_time": "2023-10-10T13:17:37.131Z"
   },
   {
    "duration": 458,
    "start_time": "2023-10-10T13:17:37.347Z"
   },
   {
    "duration": 8,
    "start_time": "2023-10-10T13:17:37.806Z"
   },
   {
    "duration": 12,
    "start_time": "2023-10-10T13:17:37.815Z"
   },
   {
    "duration": 37,
    "start_time": "2023-10-10T13:17:37.829Z"
   },
   {
    "duration": 16,
    "start_time": "2023-10-10T13:17:37.867Z"
   },
   {
    "duration": 26,
    "start_time": "2023-10-10T13:17:37.885Z"
   },
   {
    "duration": 43,
    "start_time": "2023-10-10T13:17:37.912Z"
   },
   {
    "duration": 16,
    "start_time": "2023-10-10T13:17:37.956Z"
   },
   {
    "duration": 27,
    "start_time": "2023-10-10T13:17:37.974Z"
   },
   {
    "duration": 21,
    "start_time": "2023-10-10T13:17:38.002Z"
   },
   {
    "duration": 33,
    "start_time": "2023-10-10T13:17:38.045Z"
   },
   {
    "duration": 3,
    "start_time": "2023-10-10T13:17:38.079Z"
   },
   {
    "duration": 18,
    "start_time": "2023-10-10T13:17:38.086Z"
   },
   {
    "duration": 49,
    "start_time": "2023-10-10T13:17:38.106Z"
   },
   {
    "duration": 31,
    "start_time": "2023-10-10T13:17:38.162Z"
   },
   {
    "duration": 11,
    "start_time": "2023-10-10T13:17:38.195Z"
   },
   {
    "duration": 15,
    "start_time": "2023-10-10T13:17:38.208Z"
   },
   {
    "duration": 11,
    "start_time": "2023-10-10T13:17:38.225Z"
   },
   {
    "duration": 99,
    "start_time": "2023-10-10T13:17:38.237Z"
   },
   {
    "duration": 145,
    "start_time": "2023-10-10T13:17:38.337Z"
   },
   {
    "duration": 27,
    "start_time": "2023-10-10T13:17:38.484Z"
   },
   {
    "duration": 14,
    "start_time": "2023-10-10T13:17:38.512Z"
   },
   {
    "duration": 43712,
    "start_time": "2023-10-10T13:17:38.529Z"
   },
   {
    "duration": 30168,
    "start_time": "2023-10-10T13:18:22.243Z"
   },
   {
    "duration": 330131,
    "start_time": "2023-10-10T13:18:52.413Z"
   },
   {
    "duration": 17,
    "start_time": "2023-10-10T13:24:22.545Z"
   },
   {
    "duration": 7,
    "start_time": "2023-10-10T13:24:22.567Z"
   },
   {
    "duration": 1138,
    "start_time": "2023-10-10T13:53:07.745Z"
   },
   {
    "duration": 346,
    "start_time": "2023-10-10T13:53:08.885Z"
   },
   {
    "duration": 101,
    "start_time": "2023-10-10T13:53:09.232Z"
   },
   {
    "duration": 35,
    "start_time": "2023-10-10T13:53:09.334Z"
   },
   {
    "duration": 17,
    "start_time": "2023-10-10T13:53:09.371Z"
   },
   {
    "duration": 27,
    "start_time": "2023-10-10T13:53:09.389Z"
   },
   {
    "duration": 132,
    "start_time": "2023-10-10T13:53:09.417Z"
   },
   {
    "duration": 148,
    "start_time": "2023-10-10T13:53:09.551Z"
   },
   {
    "duration": 129,
    "start_time": "2023-10-10T13:53:09.700Z"
   },
   {
    "duration": 179,
    "start_time": "2023-10-10T13:53:09.831Z"
   },
   {
    "duration": 12,
    "start_time": "2023-10-10T13:53:10.012Z"
   },
   {
    "duration": 42,
    "start_time": "2023-10-10T13:53:10.026Z"
   },
   {
    "duration": 22,
    "start_time": "2023-10-10T13:53:10.069Z"
   },
   {
    "duration": 656,
    "start_time": "2023-10-10T13:53:10.095Z"
   },
   {
    "duration": 131,
    "start_time": "2023-10-10T13:53:10.753Z"
   },
   {
    "duration": 7,
    "start_time": "2023-10-10T13:53:10.886Z"
   },
   {
    "duration": 21,
    "start_time": "2023-10-10T13:53:10.895Z"
   },
   {
    "duration": 176,
    "start_time": "2023-10-10T13:53:10.918Z"
   },
   {
    "duration": 157,
    "start_time": "2023-10-10T13:53:11.095Z"
   },
   {
    "duration": 135,
    "start_time": "2023-10-10T13:53:11.253Z"
   },
   {
    "duration": 6,
    "start_time": "2023-10-10T13:53:11.390Z"
   },
   {
    "duration": 5,
    "start_time": "2023-10-10T13:53:11.398Z"
   },
   {
    "duration": 13,
    "start_time": "2023-10-10T13:53:11.404Z"
   },
   {
    "duration": 44,
    "start_time": "2023-10-10T13:53:11.419Z"
   },
   {
    "duration": 7,
    "start_time": "2023-10-10T13:53:11.473Z"
   },
   {
    "duration": 8,
    "start_time": "2023-10-10T13:53:11.482Z"
   },
   {
    "duration": 35,
    "start_time": "2023-10-10T13:53:11.492Z"
   },
   {
    "duration": 277,
    "start_time": "2023-10-10T13:53:11.528Z"
   },
   {
    "duration": 512,
    "start_time": "2023-10-10T13:53:11.806Z"
   },
   {
    "duration": 9,
    "start_time": "2023-10-10T13:53:12.319Z"
   },
   {
    "duration": 20,
    "start_time": "2023-10-10T13:53:12.340Z"
   },
   {
    "duration": 39,
    "start_time": "2023-10-10T13:53:12.361Z"
   },
   {
    "duration": 27,
    "start_time": "2023-10-10T13:53:12.402Z"
   },
   {
    "duration": 29,
    "start_time": "2023-10-10T13:53:12.431Z"
   },
   {
    "duration": 41,
    "start_time": "2023-10-10T13:53:12.462Z"
   },
   {
    "duration": 13,
    "start_time": "2023-10-10T13:53:12.506Z"
   },
   {
    "duration": 31,
    "start_time": "2023-10-10T13:53:12.521Z"
   },
   {
    "duration": 32,
    "start_time": "2023-10-10T13:53:12.557Z"
   },
   {
    "duration": 19,
    "start_time": "2023-10-10T13:53:12.592Z"
   },
   {
    "duration": 4,
    "start_time": "2023-10-10T13:53:12.612Z"
   },
   {
    "duration": 47,
    "start_time": "2023-10-10T13:53:12.621Z"
   },
   {
    "duration": 9,
    "start_time": "2023-10-10T13:53:12.670Z"
   },
   {
    "duration": 31,
    "start_time": "2023-10-10T13:53:12.681Z"
   },
   {
    "duration": 19,
    "start_time": "2023-10-10T13:53:12.714Z"
   },
   {
    "duration": 20,
    "start_time": "2023-10-10T13:53:12.739Z"
   },
   {
    "duration": 12,
    "start_time": "2023-10-10T13:53:12.768Z"
   },
   {
    "duration": 19,
    "start_time": "2023-10-10T13:53:12.783Z"
   },
   {
    "duration": 12,
    "start_time": "2023-10-10T13:53:12.805Z"
   },
   {
    "duration": 4,
    "start_time": "2023-10-10T13:53:12.819Z"
   },
   {
    "duration": 148,
    "start_time": "2023-10-10T13:53:12.825Z"
   },
   {
    "duration": 153,
    "start_time": "2023-10-10T13:53:12.975Z"
   },
   {
    "duration": 49556,
    "start_time": "2023-10-10T13:53:13.130Z"
   },
   {
    "duration": 31285,
    "start_time": "2023-10-10T13:54:02.708Z"
   },
   {
    "duration": 1118,
    "start_time": "2023-10-10T13:58:59.118Z"
   },
   {
    "duration": 332,
    "start_time": "2023-10-10T13:59:00.238Z"
   },
   {
    "duration": 106,
    "start_time": "2023-10-10T13:59:00.572Z"
   },
   {
    "duration": 15,
    "start_time": "2023-10-10T13:59:00.679Z"
   },
   {
    "duration": 63,
    "start_time": "2023-10-10T13:59:00.696Z"
   },
   {
    "duration": 34,
    "start_time": "2023-10-10T13:59:00.761Z"
   },
   {
    "duration": 163,
    "start_time": "2023-10-10T13:59:00.797Z"
   },
   {
    "duration": 144,
    "start_time": "2023-10-10T13:59:00.962Z"
   },
   {
    "duration": 124,
    "start_time": "2023-10-10T13:59:01.108Z"
   },
   {
    "duration": 169,
    "start_time": "2023-10-10T13:59:01.234Z"
   },
   {
    "duration": 11,
    "start_time": "2023-10-10T13:59:01.405Z"
   },
   {
    "duration": 41,
    "start_time": "2023-10-10T13:59:01.418Z"
   },
   {
    "duration": 42,
    "start_time": "2023-10-10T13:59:01.462Z"
   },
   {
    "duration": 679,
    "start_time": "2023-10-10T13:59:01.507Z"
   },
   {
    "duration": 121,
    "start_time": "2023-10-10T13:59:02.188Z"
   },
   {
    "duration": 7,
    "start_time": "2023-10-10T13:59:02.311Z"
   },
   {
    "duration": 44,
    "start_time": "2023-10-10T13:59:02.319Z"
   },
   {
    "duration": 142,
    "start_time": "2023-10-10T13:59:02.365Z"
   },
   {
    "duration": 153,
    "start_time": "2023-10-10T13:59:02.510Z"
   },
   {
    "duration": 165,
    "start_time": "2023-10-10T13:59:02.667Z"
   },
   {
    "duration": 14,
    "start_time": "2023-10-10T13:59:02.834Z"
   },
   {
    "duration": 35,
    "start_time": "2023-10-10T13:59:02.850Z"
   },
   {
    "duration": 71,
    "start_time": "2023-10-10T13:59:02.887Z"
   },
   {
    "duration": 112,
    "start_time": "2023-10-10T13:59:02.960Z"
   },
   {
    "duration": 12,
    "start_time": "2023-10-10T13:59:03.074Z"
   },
   {
    "duration": 6,
    "start_time": "2023-10-10T13:59:03.088Z"
   },
   {
    "duration": 15,
    "start_time": "2023-10-10T13:59:03.095Z"
   },
   {
    "duration": 185,
    "start_time": "2023-10-10T13:59:03.112Z"
   },
   {
    "duration": 466,
    "start_time": "2023-10-10T13:59:03.298Z"
   },
   {
    "duration": 8,
    "start_time": "2023-10-10T13:59:03.766Z"
   },
   {
    "duration": 20,
    "start_time": "2023-10-10T13:59:03.775Z"
   },
   {
    "duration": 26,
    "start_time": "2023-10-10T13:59:03.796Z"
   },
   {
    "duration": 32,
    "start_time": "2023-10-10T13:59:03.824Z"
   },
   {
    "duration": 22,
    "start_time": "2023-10-10T13:59:03.858Z"
   },
   {
    "duration": 21,
    "start_time": "2023-10-10T13:59:03.882Z"
   },
   {
    "duration": 14,
    "start_time": "2023-10-10T13:59:03.905Z"
   },
   {
    "duration": 43,
    "start_time": "2023-10-10T13:59:03.921Z"
   },
   {
    "duration": 18,
    "start_time": "2023-10-10T13:59:03.966Z"
   },
   {
    "duration": 21,
    "start_time": "2023-10-10T13:59:03.985Z"
   },
   {
    "duration": 10,
    "start_time": "2023-10-10T13:59:04.008Z"
   },
   {
    "duration": 48,
    "start_time": "2023-10-10T13:59:04.022Z"
   },
   {
    "duration": 7,
    "start_time": "2023-10-10T13:59:04.072Z"
   },
   {
    "duration": 20,
    "start_time": "2023-10-10T13:59:04.081Z"
   },
   {
    "duration": 23,
    "start_time": "2023-10-10T13:59:04.102Z"
   },
   {
    "duration": 18,
    "start_time": "2023-10-10T13:59:04.126Z"
   },
   {
    "duration": 15,
    "start_time": "2023-10-10T13:59:04.145Z"
   },
   {
    "duration": 9,
    "start_time": "2023-10-10T13:59:04.162Z"
   },
   {
    "duration": 18,
    "start_time": "2023-10-10T13:59:04.173Z"
   },
   {
    "duration": 7,
    "start_time": "2023-10-10T13:59:04.192Z"
   },
   {
    "duration": 5,
    "start_time": "2023-10-10T13:59:04.201Z"
   },
   {
    "duration": 10,
    "start_time": "2023-10-10T13:59:04.208Z"
   },
   {
    "duration": 45036,
    "start_time": "2023-10-10T13:59:04.220Z"
   },
   {
    "duration": 1108,
    "start_time": "2023-10-10T14:00:28.292Z"
   },
   {
    "duration": 356,
    "start_time": "2023-10-10T14:00:29.401Z"
   },
   {
    "duration": 108,
    "start_time": "2023-10-10T14:00:29.758Z"
   },
   {
    "duration": 15,
    "start_time": "2023-10-10T14:00:29.867Z"
   },
   {
    "duration": 25,
    "start_time": "2023-10-10T14:00:29.885Z"
   },
   {
    "duration": 14,
    "start_time": "2023-10-10T14:00:29.912Z"
   },
   {
    "duration": 176,
    "start_time": "2023-10-10T14:00:29.927Z"
   },
   {
    "duration": 155,
    "start_time": "2023-10-10T14:00:30.104Z"
   },
   {
    "duration": 115,
    "start_time": "2023-10-10T14:00:30.260Z"
   },
   {
    "duration": 193,
    "start_time": "2023-10-10T14:00:30.377Z"
   },
   {
    "duration": 15,
    "start_time": "2023-10-10T14:00:30.573Z"
   },
   {
    "duration": 40,
    "start_time": "2023-10-10T14:00:30.590Z"
   },
   {
    "duration": 84,
    "start_time": "2023-10-10T14:00:30.632Z"
   },
   {
    "duration": 780,
    "start_time": "2023-10-10T14:00:30.721Z"
   },
   {
    "duration": 119,
    "start_time": "2023-10-10T14:00:31.503Z"
   },
   {
    "duration": 20,
    "start_time": "2023-10-10T14:00:31.624Z"
   },
   {
    "duration": 24,
    "start_time": "2023-10-10T14:00:31.645Z"
   },
   {
    "duration": 128,
    "start_time": "2023-10-10T14:00:31.672Z"
   },
   {
    "duration": 165,
    "start_time": "2023-10-10T14:00:31.802Z"
   },
   {
    "duration": 141,
    "start_time": "2023-10-10T14:00:31.970Z"
   },
   {
    "duration": 5,
    "start_time": "2023-10-10T14:00:32.113Z"
   },
   {
    "duration": 55,
    "start_time": "2023-10-10T14:00:32.120Z"
   },
   {
    "duration": 21,
    "start_time": "2023-10-10T14:00:32.177Z"
   },
   {
    "duration": 21,
    "start_time": "2023-10-10T14:00:32.200Z"
   },
   {
    "duration": 10,
    "start_time": "2023-10-10T14:00:32.222Z"
   },
   {
    "duration": 24,
    "start_time": "2023-10-10T14:00:32.233Z"
   },
   {
    "duration": 20,
    "start_time": "2023-10-10T14:00:32.259Z"
   },
   {
    "duration": 197,
    "start_time": "2023-10-10T14:00:32.281Z"
   },
   {
    "duration": 548,
    "start_time": "2023-10-10T14:00:32.479Z"
   },
   {
    "duration": 23,
    "start_time": "2023-10-10T14:00:33.029Z"
   },
   {
    "duration": 7,
    "start_time": "2023-10-10T14:00:33.053Z"
   },
   {
    "duration": 56,
    "start_time": "2023-10-10T14:00:33.061Z"
   },
   {
    "duration": 36,
    "start_time": "2023-10-10T14:00:33.119Z"
   },
   {
    "duration": 26,
    "start_time": "2023-10-10T14:00:33.157Z"
   },
   {
    "duration": 28,
    "start_time": "2023-10-10T14:00:33.185Z"
   },
   {
    "duration": 16,
    "start_time": "2023-10-10T14:00:33.215Z"
   },
   {
    "duration": 29,
    "start_time": "2023-10-10T14:00:33.233Z"
   },
   {
    "duration": 13,
    "start_time": "2023-10-10T14:00:33.264Z"
   },
   {
    "duration": 28,
    "start_time": "2023-10-10T14:00:33.279Z"
   },
   {
    "duration": 5,
    "start_time": "2023-10-10T14:00:33.309Z"
   },
   {
    "duration": 41,
    "start_time": "2023-10-10T14:00:33.318Z"
   },
   {
    "duration": 6,
    "start_time": "2023-10-10T14:00:33.360Z"
   },
   {
    "duration": 19,
    "start_time": "2023-10-10T14:00:33.367Z"
   },
   {
    "duration": 1870,
    "start_time": "2023-10-10T14:00:33.388Z"
   },
   {
    "duration": 0,
    "start_time": "2023-10-10T14:00:35.260Z"
   },
   {
    "duration": 0,
    "start_time": "2023-10-10T14:00:35.261Z"
   },
   {
    "duration": 0,
    "start_time": "2023-10-10T14:00:35.263Z"
   },
   {
    "duration": 0,
    "start_time": "2023-10-10T14:00:35.264Z"
   },
   {
    "duration": 0,
    "start_time": "2023-10-10T14:00:35.268Z"
   },
   {
    "duration": 0,
    "start_time": "2023-10-10T14:00:35.269Z"
   },
   {
    "duration": 0,
    "start_time": "2023-10-10T14:00:35.270Z"
   },
   {
    "duration": 0,
    "start_time": "2023-10-10T14:00:35.270Z"
   },
   {
    "duration": 0,
    "start_time": "2023-10-10T14:00:35.272Z"
   },
   {
    "duration": 0,
    "start_time": "2023-10-10T14:00:35.273Z"
   },
   {
    "duration": 0,
    "start_time": "2023-10-10T14:00:35.274Z"
   },
   {
    "duration": 0,
    "start_time": "2023-10-10T14:00:35.276Z"
   },
   {
    "duration": 0,
    "start_time": "2023-10-10T14:00:35.277Z"
   },
   {
    "duration": 0,
    "start_time": "2023-10-10T14:00:35.280Z"
   },
   {
    "duration": 0,
    "start_time": "2023-10-10T14:00:35.281Z"
   },
   {
    "duration": 0,
    "start_time": "2023-10-10T14:00:35.282Z"
   },
   {
    "duration": 0,
    "start_time": "2023-10-10T14:00:35.284Z"
   },
   {
    "duration": 0,
    "start_time": "2023-10-10T14:00:35.285Z"
   },
   {
    "duration": 0,
    "start_time": "2023-10-10T14:00:35.287Z"
   },
   {
    "duration": 0,
    "start_time": "2023-10-10T14:00:35.289Z"
   },
   {
    "duration": 0,
    "start_time": "2023-10-10T14:00:35.290Z"
   },
   {
    "duration": 15,
    "start_time": "2023-10-10T14:01:40.564Z"
   },
   {
    "duration": 14,
    "start_time": "2023-10-10T14:01:43.957Z"
   },
   {
    "duration": 1145,
    "start_time": "2023-10-10T14:17:46.791Z"
   },
   {
    "duration": 338,
    "start_time": "2023-10-10T14:17:47.938Z"
   },
   {
    "duration": 103,
    "start_time": "2023-10-10T14:17:48.279Z"
   },
   {
    "duration": 18,
    "start_time": "2023-10-10T14:17:48.384Z"
   },
   {
    "duration": 18,
    "start_time": "2023-10-10T14:17:48.404Z"
   },
   {
    "duration": 11,
    "start_time": "2023-10-10T14:17:48.424Z"
   },
   {
    "duration": 144,
    "start_time": "2023-10-10T14:17:48.437Z"
   },
   {
    "duration": 164,
    "start_time": "2023-10-10T14:17:48.583Z"
   },
   {
    "duration": 121,
    "start_time": "2023-10-10T14:17:48.749Z"
   },
   {
    "duration": 154,
    "start_time": "2023-10-10T14:17:48.875Z"
   },
   {
    "duration": 29,
    "start_time": "2023-10-10T14:17:49.031Z"
   },
   {
    "duration": 13,
    "start_time": "2023-10-10T14:17:49.063Z"
   },
   {
    "duration": 12,
    "start_time": "2023-10-10T14:17:49.077Z"
   },
   {
    "duration": 689,
    "start_time": "2023-10-10T14:17:49.091Z"
   },
   {
    "duration": 109,
    "start_time": "2023-10-10T14:17:49.782Z"
   },
   {
    "duration": 8,
    "start_time": "2023-10-10T14:17:49.894Z"
   },
   {
    "duration": 24,
    "start_time": "2023-10-10T14:17:49.904Z"
   },
   {
    "duration": 164,
    "start_time": "2023-10-10T14:17:49.930Z"
   },
   {
    "duration": 140,
    "start_time": "2023-10-10T14:17:50.096Z"
   },
   {
    "duration": 133,
    "start_time": "2023-10-10T14:17:50.237Z"
   },
   {
    "duration": 8,
    "start_time": "2023-10-10T14:17:50.372Z"
   },
   {
    "duration": 10,
    "start_time": "2023-10-10T14:17:50.382Z"
   },
   {
    "duration": 11,
    "start_time": "2023-10-10T14:17:50.394Z"
   },
   {
    "duration": 5,
    "start_time": "2023-10-10T14:17:50.408Z"
   },
   {
    "duration": 48,
    "start_time": "2023-10-10T14:17:50.415Z"
   },
   {
    "duration": 6,
    "start_time": "2023-10-10T14:17:50.466Z"
   },
   {
    "duration": 15,
    "start_time": "2023-10-10T14:17:50.474Z"
   },
   {
    "duration": 270,
    "start_time": "2023-10-10T14:17:50.494Z"
   },
   {
    "duration": 461,
    "start_time": "2023-10-10T14:17:50.766Z"
   },
   {
    "duration": 11,
    "start_time": "2023-10-10T14:17:51.228Z"
   },
   {
    "duration": 9,
    "start_time": "2023-10-10T14:17:51.240Z"
   },
   {
    "duration": 28,
    "start_time": "2023-10-10T14:17:51.250Z"
   },
   {
    "duration": 18,
    "start_time": "2023-10-10T14:17:51.280Z"
   },
   {
    "duration": 36,
    "start_time": "2023-10-10T14:17:51.299Z"
   },
   {
    "duration": 24,
    "start_time": "2023-10-10T14:17:51.336Z"
   },
   {
    "duration": 18,
    "start_time": "2023-10-10T14:17:51.362Z"
   },
   {
    "duration": 24,
    "start_time": "2023-10-10T14:17:51.382Z"
   },
   {
    "duration": 53,
    "start_time": "2023-10-10T14:17:51.407Z"
   },
   {
    "duration": 31,
    "start_time": "2023-10-10T14:17:51.462Z"
   },
   {
    "duration": 9,
    "start_time": "2023-10-10T14:17:51.495Z"
   },
   {
    "duration": 30,
    "start_time": "2023-10-10T14:17:51.506Z"
   },
   {
    "duration": 36,
    "start_time": "2023-10-10T14:17:51.538Z"
   },
   {
    "duration": 37,
    "start_time": "2023-10-10T14:17:51.576Z"
   },
   {
    "duration": 36,
    "start_time": "2023-10-10T14:17:51.615Z"
   },
   {
    "duration": 5,
    "start_time": "2023-10-10T14:17:51.653Z"
   },
   {
    "duration": 32,
    "start_time": "2023-10-10T14:17:51.660Z"
   },
   {
    "duration": 5,
    "start_time": "2023-10-10T14:17:51.694Z"
   },
   {
    "duration": 16,
    "start_time": "2023-10-10T14:17:51.701Z"
   },
   {
    "duration": 24,
    "start_time": "2023-10-10T14:17:51.719Z"
   },
   {
    "duration": 27,
    "start_time": "2023-10-10T14:17:51.745Z"
   },
   {
    "duration": 3,
    "start_time": "2023-10-10T14:17:51.774Z"
   },
   {
    "duration": 21,
    "start_time": "2023-10-10T14:17:51.779Z"
   },
   {
    "duration": 19,
    "start_time": "2023-10-10T14:17:51.803Z"
   },
   {
    "duration": 44158,
    "start_time": "2023-10-10T14:17:51.824Z"
   },
   {
    "duration": 29977,
    "start_time": "2023-10-10T14:18:35.983Z"
   },
   {
    "duration": 1312,
    "start_time": "2023-10-10T14:23:51.144Z"
   },
   {
    "duration": 449,
    "start_time": "2023-10-10T14:23:52.458Z"
   },
   {
    "duration": 112,
    "start_time": "2023-10-10T14:23:52.909Z"
   },
   {
    "duration": 17,
    "start_time": "2023-10-10T14:23:53.022Z"
   },
   {
    "duration": 65,
    "start_time": "2023-10-10T14:23:53.043Z"
   },
   {
    "duration": 12,
    "start_time": "2023-10-10T14:23:53.110Z"
   },
   {
    "duration": 178,
    "start_time": "2023-10-10T14:23:53.123Z"
   },
   {
    "duration": 178,
    "start_time": "2023-10-10T14:23:53.302Z"
   },
   {
    "duration": 122,
    "start_time": "2023-10-10T14:23:53.481Z"
   },
   {
    "duration": 214,
    "start_time": "2023-10-10T14:23:53.605Z"
   },
   {
    "duration": 11,
    "start_time": "2023-10-10T14:23:53.820Z"
   },
   {
    "duration": 26,
    "start_time": "2023-10-10T14:23:53.832Z"
   },
   {
    "duration": 14,
    "start_time": "2023-10-10T14:23:53.860Z"
   },
   {
    "duration": 612,
    "start_time": "2023-10-10T14:23:53.878Z"
   },
   {
    "duration": 142,
    "start_time": "2023-10-10T14:23:54.492Z"
   },
   {
    "duration": 11,
    "start_time": "2023-10-10T14:23:54.636Z"
   },
   {
    "duration": 17,
    "start_time": "2023-10-10T14:23:54.649Z"
   },
   {
    "duration": 142,
    "start_time": "2023-10-10T14:23:54.668Z"
   },
   {
    "duration": 166,
    "start_time": "2023-10-10T14:23:54.813Z"
   },
   {
    "duration": 119,
    "start_time": "2023-10-10T14:23:54.981Z"
   },
   {
    "duration": 6,
    "start_time": "2023-10-10T14:23:55.102Z"
   },
   {
    "duration": 7,
    "start_time": "2023-10-10T14:23:55.110Z"
   },
   {
    "duration": 48,
    "start_time": "2023-10-10T14:23:55.119Z"
   },
   {
    "duration": 6,
    "start_time": "2023-10-10T14:23:55.169Z"
   },
   {
    "duration": 8,
    "start_time": "2023-10-10T14:23:55.177Z"
   },
   {
    "duration": 5,
    "start_time": "2023-10-10T14:23:55.187Z"
   },
   {
    "duration": 20,
    "start_time": "2023-10-10T14:23:55.193Z"
   },
   {
    "duration": 249,
    "start_time": "2023-10-10T14:23:55.215Z"
   },
   {
    "duration": 484,
    "start_time": "2023-10-10T14:23:55.466Z"
   },
   {
    "duration": 8,
    "start_time": "2023-10-10T14:23:55.952Z"
   },
   {
    "duration": 14,
    "start_time": "2023-10-10T14:23:55.962Z"
   },
   {
    "duration": 38,
    "start_time": "2023-10-10T14:23:55.977Z"
   },
   {
    "duration": 15,
    "start_time": "2023-10-10T14:23:56.016Z"
   },
   {
    "duration": 38,
    "start_time": "2023-10-10T14:23:56.032Z"
   },
   {
    "duration": 14,
    "start_time": "2023-10-10T14:23:56.077Z"
   },
   {
    "duration": 9,
    "start_time": "2023-10-10T14:23:56.093Z"
   },
   {
    "duration": 15,
    "start_time": "2023-10-10T14:23:56.104Z"
   },
   {
    "duration": 33,
    "start_time": "2023-10-10T14:23:56.120Z"
   },
   {
    "duration": 27,
    "start_time": "2023-10-10T14:23:56.155Z"
   },
   {
    "duration": 7,
    "start_time": "2023-10-10T14:23:56.184Z"
   },
   {
    "duration": 21,
    "start_time": "2023-10-10T14:23:56.197Z"
   },
   {
    "duration": 5,
    "start_time": "2023-10-10T14:23:56.220Z"
   },
   {
    "duration": 43,
    "start_time": "2023-10-10T14:23:56.226Z"
   },
   {
    "duration": 14,
    "start_time": "2023-10-10T14:23:56.271Z"
   },
   {
    "duration": 4,
    "start_time": "2023-10-10T14:23:56.288Z"
   },
   {
    "duration": 29,
    "start_time": "2023-10-10T14:23:56.294Z"
   },
   {
    "duration": 4,
    "start_time": "2023-10-10T14:23:56.326Z"
   },
   {
    "duration": 17,
    "start_time": "2023-10-10T14:23:56.332Z"
   },
   {
    "duration": 5,
    "start_time": "2023-10-10T14:23:56.357Z"
   },
   {
    "duration": 14,
    "start_time": "2023-10-10T14:23:56.364Z"
   },
   {
    "duration": 12,
    "start_time": "2023-10-10T14:23:56.380Z"
   },
   {
    "duration": 20,
    "start_time": "2023-10-10T14:23:56.394Z"
   },
   {
    "duration": 13,
    "start_time": "2023-10-10T14:23:56.416Z"
   },
   {
    "duration": 45242,
    "start_time": "2023-10-10T14:23:56.431Z"
   },
   {
    "duration": 31247,
    "start_time": "2023-10-10T14:24:41.682Z"
   },
   {
    "duration": 1264,
    "start_time": "2023-10-10T14:25:34.173Z"
   },
   {
    "duration": 420,
    "start_time": "2023-10-10T14:25:35.439Z"
   },
   {
    "duration": 99,
    "start_time": "2023-10-10T14:25:35.860Z"
   },
   {
    "duration": 20,
    "start_time": "2023-10-10T14:25:35.961Z"
   },
   {
    "duration": 20,
    "start_time": "2023-10-10T14:25:35.983Z"
   },
   {
    "duration": 11,
    "start_time": "2023-10-10T14:25:36.006Z"
   },
   {
    "duration": 160,
    "start_time": "2023-10-10T14:25:36.018Z"
   },
   {
    "duration": 144,
    "start_time": "2023-10-10T14:25:36.179Z"
   },
   {
    "duration": 161,
    "start_time": "2023-10-10T14:25:36.325Z"
   },
   {
    "duration": 241,
    "start_time": "2023-10-10T14:25:36.490Z"
   },
   {
    "duration": 23,
    "start_time": "2023-10-10T14:25:36.733Z"
   },
   {
    "duration": 18,
    "start_time": "2023-10-10T14:25:36.758Z"
   },
   {
    "duration": 15,
    "start_time": "2023-10-10T14:25:36.778Z"
   },
   {
    "duration": 727,
    "start_time": "2023-10-10T14:25:36.796Z"
   },
   {
    "duration": 155,
    "start_time": "2023-10-10T14:25:37.525Z"
   },
   {
    "duration": 6,
    "start_time": "2023-10-10T14:25:37.682Z"
   },
   {
    "duration": 11,
    "start_time": "2023-10-10T14:25:37.690Z"
   },
   {
    "duration": 147,
    "start_time": "2023-10-10T14:25:37.702Z"
   },
   {
    "duration": 157,
    "start_time": "2023-10-10T14:25:37.850Z"
   },
   {
    "duration": 149,
    "start_time": "2023-10-10T14:25:38.013Z"
   },
   {
    "duration": 9,
    "start_time": "2023-10-10T14:25:38.164Z"
   },
   {
    "duration": 5,
    "start_time": "2023-10-10T14:25:38.175Z"
   },
   {
    "duration": 27,
    "start_time": "2023-10-10T14:25:38.182Z"
   },
   {
    "duration": 11,
    "start_time": "2023-10-10T14:25:38.211Z"
   },
   {
    "duration": 9,
    "start_time": "2023-10-10T14:25:38.224Z"
   },
   {
    "duration": 11,
    "start_time": "2023-10-10T14:25:38.234Z"
   },
   {
    "duration": 14,
    "start_time": "2023-10-10T14:25:38.247Z"
   },
   {
    "duration": 198,
    "start_time": "2023-10-10T14:25:38.267Z"
   },
   {
    "duration": 510,
    "start_time": "2023-10-10T14:25:38.466Z"
   },
   {
    "duration": 8,
    "start_time": "2023-10-10T14:25:38.978Z"
   },
   {
    "duration": 5,
    "start_time": "2023-10-10T14:25:38.988Z"
   },
   {
    "duration": 34,
    "start_time": "2023-10-10T14:25:38.994Z"
   },
   {
    "duration": 43,
    "start_time": "2023-10-10T14:25:39.029Z"
   },
   {
    "duration": 16,
    "start_time": "2023-10-10T14:25:39.074Z"
   },
   {
    "duration": 22,
    "start_time": "2023-10-10T14:25:39.093Z"
   },
   {
    "duration": 39,
    "start_time": "2023-10-10T14:25:39.117Z"
   },
   {
    "duration": 17,
    "start_time": "2023-10-10T14:25:39.158Z"
   },
   {
    "duration": 20,
    "start_time": "2023-10-10T14:25:39.177Z"
   },
   {
    "duration": 37,
    "start_time": "2023-10-10T14:25:39.199Z"
   },
   {
    "duration": 38,
    "start_time": "2023-10-10T14:25:39.238Z"
   },
   {
    "duration": 31,
    "start_time": "2023-10-10T14:25:39.278Z"
   },
   {
    "duration": 5,
    "start_time": "2023-10-10T14:25:39.310Z"
   },
   {
    "duration": 37,
    "start_time": "2023-10-10T14:25:39.317Z"
   },
   {
    "duration": 14,
    "start_time": "2023-10-10T14:25:39.365Z"
   },
   {
    "duration": 4,
    "start_time": "2023-10-10T14:25:39.380Z"
   },
   {
    "duration": 17,
    "start_time": "2023-10-10T14:25:39.386Z"
   },
   {
    "duration": 10,
    "start_time": "2023-10-10T14:25:39.405Z"
   },
   {
    "duration": 5,
    "start_time": "2023-10-10T14:25:39.418Z"
   },
   {
    "duration": 19,
    "start_time": "2023-10-10T14:25:39.425Z"
   },
   {
    "duration": 8,
    "start_time": "2023-10-10T14:25:39.446Z"
   },
   {
    "duration": 29,
    "start_time": "2023-10-10T14:25:39.455Z"
   },
   {
    "duration": 4,
    "start_time": "2023-10-10T14:25:39.485Z"
   },
   {
    "duration": 4,
    "start_time": "2023-10-10T14:25:39.491Z"
   },
   {
    "duration": 129,
    "start_time": "2023-10-10T14:25:39.497Z"
   },
   {
    "duration": 0,
    "start_time": "2023-10-10T14:25:39.628Z"
   },
   {
    "duration": 0,
    "start_time": "2023-10-10T14:25:39.633Z"
   },
   {
    "duration": 0,
    "start_time": "2023-10-10T14:25:39.634Z"
   },
   {
    "duration": 0,
    "start_time": "2023-10-10T14:25:39.635Z"
   },
   {
    "duration": 0,
    "start_time": "2023-10-10T14:25:39.640Z"
   },
   {
    "duration": 0,
    "start_time": "2023-10-10T14:25:39.641Z"
   },
   {
    "duration": 0,
    "start_time": "2023-10-10T14:25:39.642Z"
   },
   {
    "duration": 0,
    "start_time": "2023-10-10T14:25:39.648Z"
   },
   {
    "duration": 0,
    "start_time": "2023-10-10T14:25:39.649Z"
   },
   {
    "duration": 0,
    "start_time": "2023-10-10T14:25:39.649Z"
   },
   {
    "duration": 0,
    "start_time": "2023-10-10T14:25:39.650Z"
   },
   {
    "duration": 0,
    "start_time": "2023-10-10T14:25:39.651Z"
   },
   {
    "duration": 0,
    "start_time": "2023-10-10T14:25:39.652Z"
   },
   {
    "duration": 0,
    "start_time": "2023-10-10T14:25:39.653Z"
   },
   {
    "duration": 21,
    "start_time": "2023-10-10T14:26:28.345Z"
   },
   {
    "duration": 30,
    "start_time": "2023-10-10T14:29:04.835Z"
   },
   {
    "duration": 15,
    "start_time": "2023-10-10T14:29:16.974Z"
   },
   {
    "duration": 31,
    "start_time": "2023-10-10T14:29:48.476Z"
   },
   {
    "duration": 12,
    "start_time": "2023-10-10T14:29:53.109Z"
   },
   {
    "duration": 28,
    "start_time": "2023-10-10T14:30:06.190Z"
   },
   {
    "duration": 29,
    "start_time": "2023-10-10T14:35:47.157Z"
   },
   {
    "duration": 8,
    "start_time": "2023-10-10T14:36:24.709Z"
   },
   {
    "duration": 23,
    "start_time": "2023-10-10T14:36:35.875Z"
   },
   {
    "duration": 537,
    "start_time": "2023-10-10T14:36:53.973Z"
   },
   {
    "duration": 23,
    "start_time": "2023-10-10T14:38:38.742Z"
   },
   {
    "duration": 3,
    "start_time": "2023-10-10T14:40:03.917Z"
   },
   {
    "duration": 5,
    "start_time": "2023-10-10T14:40:03.932Z"
   },
   {
    "duration": 123,
    "start_time": "2023-10-10T14:40:03.938Z"
   },
   {
    "duration": 11,
    "start_time": "2023-10-10T14:40:04.062Z"
   },
   {
    "duration": 16,
    "start_time": "2023-10-10T14:40:04.075Z"
   },
   {
    "duration": 10,
    "start_time": "2023-10-10T14:40:04.094Z"
   },
   {
    "duration": 183,
    "start_time": "2023-10-10T14:40:04.105Z"
   },
   {
    "duration": 162,
    "start_time": "2023-10-10T14:40:04.290Z"
   },
   {
    "duration": 124,
    "start_time": "2023-10-10T14:40:04.453Z"
   },
   {
    "duration": 110,
    "start_time": "2023-10-10T14:40:04.579Z"
   },
   {
    "duration": 12,
    "start_time": "2023-10-10T14:40:04.690Z"
   },
   {
    "duration": 92,
    "start_time": "2023-10-10T14:40:04.704Z"
   },
   {
    "duration": 39,
    "start_time": "2023-10-10T14:40:04.798Z"
   },
   {
    "duration": 823,
    "start_time": "2023-10-10T14:40:04.841Z"
   },
   {
    "duration": 112,
    "start_time": "2023-10-10T14:40:05.666Z"
   },
   {
    "duration": 9,
    "start_time": "2023-10-10T14:40:05.780Z"
   },
   {
    "duration": 14,
    "start_time": "2023-10-10T14:40:05.791Z"
   },
   {
    "duration": 175,
    "start_time": "2023-10-10T14:40:05.807Z"
   },
   {
    "duration": 162,
    "start_time": "2023-10-10T14:40:05.985Z"
   },
   {
    "duration": 149,
    "start_time": "2023-10-10T14:40:06.149Z"
   },
   {
    "duration": 9,
    "start_time": "2023-10-10T14:40:06.300Z"
   },
   {
    "duration": 26,
    "start_time": "2023-10-10T14:40:06.311Z"
   },
   {
    "duration": 36,
    "start_time": "2023-10-10T14:40:06.339Z"
   },
   {
    "duration": 17,
    "start_time": "2023-10-10T14:40:06.378Z"
   },
   {
    "duration": 10,
    "start_time": "2023-10-10T14:40:06.400Z"
   },
   {
    "duration": 14,
    "start_time": "2023-10-10T14:40:06.412Z"
   },
   {
    "duration": 35,
    "start_time": "2023-10-10T14:40:06.428Z"
   },
   {
    "duration": 224,
    "start_time": "2023-10-10T14:40:06.465Z"
   },
   {
    "duration": 300,
    "start_time": "2023-10-10T14:40:06.691Z"
   },
   {
    "duration": 7,
    "start_time": "2023-10-10T14:40:06.993Z"
   },
   {
    "duration": 58,
    "start_time": "2023-10-10T14:40:07.002Z"
   },
   {
    "duration": 111,
    "start_time": "2023-10-10T14:40:07.063Z"
   },
   {
    "duration": 24,
    "start_time": "2023-10-10T14:40:07.176Z"
   },
   {
    "duration": 31,
    "start_time": "2023-10-10T14:40:07.202Z"
   },
   {
    "duration": 25,
    "start_time": "2023-10-10T14:40:07.235Z"
   },
   {
    "duration": 18,
    "start_time": "2023-10-10T14:40:07.262Z"
   },
   {
    "duration": 26,
    "start_time": "2023-10-10T14:40:07.282Z"
   },
   {
    "duration": 47,
    "start_time": "2023-10-10T14:40:07.313Z"
   },
   {
    "duration": 25,
    "start_time": "2023-10-10T14:40:07.362Z"
   },
   {
    "duration": 3,
    "start_time": "2023-10-10T14:40:07.389Z"
   },
   {
    "duration": 25,
    "start_time": "2023-10-10T14:40:07.395Z"
   },
   {
    "duration": 33,
    "start_time": "2023-10-10T14:40:07.422Z"
   },
   {
    "duration": 27,
    "start_time": "2023-10-10T14:40:07.465Z"
   },
   {
    "duration": 22,
    "start_time": "2023-10-10T14:40:07.494Z"
   },
   {
    "duration": 4,
    "start_time": "2023-10-10T14:40:07.518Z"
   },
   {
    "duration": 74,
    "start_time": "2023-10-10T14:40:07.524Z"
   },
   {
    "duration": 21,
    "start_time": "2023-10-10T14:40:07.602Z"
   },
   {
    "duration": 25,
    "start_time": "2023-10-10T14:40:07.626Z"
   },
   {
    "duration": 22,
    "start_time": "2023-10-10T14:40:07.661Z"
   },
   {
    "duration": 497,
    "start_time": "2023-10-10T14:40:07.685Z"
   },
   {
    "duration": 5,
    "start_time": "2023-10-10T14:40:08.184Z"
   },
   {
    "duration": 23,
    "start_time": "2023-10-10T14:40:08.191Z"
   },
   {
    "duration": 9,
    "start_time": "2023-10-10T14:40:08.216Z"
   },
   {
    "duration": 11,
    "start_time": "2023-10-10T14:40:08.226Z"
   },
   {
    "duration": 8,
    "start_time": "2023-10-10T14:40:08.245Z"
   },
   {
    "duration": 6,
    "start_time": "2023-10-10T14:40:08.260Z"
   },
   {
    "duration": 19,
    "start_time": "2023-10-10T14:40:08.268Z"
   },
   {
    "duration": 0,
    "start_time": "2023-10-10T14:40:08.289Z"
   },
   {
    "duration": 0,
    "start_time": "2023-10-10T14:40:08.290Z"
   },
   {
    "duration": 0,
    "start_time": "2023-10-10T14:40:08.292Z"
   },
   {
    "duration": 0,
    "start_time": "2023-10-10T14:40:08.293Z"
   },
   {
    "duration": 0,
    "start_time": "2023-10-10T14:40:08.294Z"
   },
   {
    "duration": 0,
    "start_time": "2023-10-10T14:40:08.295Z"
   },
   {
    "duration": 0,
    "start_time": "2023-10-10T14:40:08.296Z"
   },
   {
    "duration": 0,
    "start_time": "2023-10-10T14:40:08.297Z"
   },
   {
    "duration": 0,
    "start_time": "2023-10-10T14:40:08.298Z"
   },
   {
    "duration": 0,
    "start_time": "2023-10-10T14:40:08.299Z"
   },
   {
    "duration": 0,
    "start_time": "2023-10-10T14:40:08.301Z"
   },
   {
    "duration": 0,
    "start_time": "2023-10-10T14:40:08.302Z"
   },
   {
    "duration": 0,
    "start_time": "2023-10-10T14:40:08.303Z"
   },
   {
    "duration": 0,
    "start_time": "2023-10-10T14:40:08.304Z"
   },
   {
    "duration": 1120,
    "start_time": "2023-10-10T14:48:20.793Z"
   },
   {
    "duration": 388,
    "start_time": "2023-10-10T14:48:21.915Z"
   },
   {
    "duration": 107,
    "start_time": "2023-10-10T14:48:22.305Z"
   },
   {
    "duration": 20,
    "start_time": "2023-10-10T14:48:22.414Z"
   },
   {
    "duration": 41,
    "start_time": "2023-10-10T14:48:22.437Z"
   },
   {
    "duration": 20,
    "start_time": "2023-10-10T14:48:22.480Z"
   },
   {
    "duration": 192,
    "start_time": "2023-10-10T14:48:22.502Z"
   },
   {
    "duration": 137,
    "start_time": "2023-10-10T14:48:22.696Z"
   },
   {
    "duration": 135,
    "start_time": "2023-10-10T14:48:22.835Z"
   },
   {
    "duration": 159,
    "start_time": "2023-10-10T14:48:22.971Z"
   },
   {
    "duration": 24,
    "start_time": "2023-10-10T14:48:23.132Z"
   },
   {
    "duration": 15,
    "start_time": "2023-10-10T14:48:23.161Z"
   },
   {
    "duration": 190,
    "start_time": "2023-10-10T14:48:23.178Z"
   },
   {
    "duration": 707,
    "start_time": "2023-10-10T14:48:23.372Z"
   },
   {
    "duration": 110,
    "start_time": "2023-10-10T14:48:24.081Z"
   },
   {
    "duration": 9,
    "start_time": "2023-10-10T14:48:24.193Z"
   },
   {
    "duration": 13,
    "start_time": "2023-10-10T14:48:24.204Z"
   },
   {
    "duration": 172,
    "start_time": "2023-10-10T14:48:24.219Z"
   },
   {
    "duration": 135,
    "start_time": "2023-10-10T14:48:24.393Z"
   },
   {
    "duration": 157,
    "start_time": "2023-10-10T14:48:24.529Z"
   },
   {
    "duration": 6,
    "start_time": "2023-10-10T14:48:24.687Z"
   },
   {
    "duration": 21,
    "start_time": "2023-10-10T14:48:24.694Z"
   },
   {
    "duration": 15,
    "start_time": "2023-10-10T14:48:24.717Z"
   },
   {
    "duration": 28,
    "start_time": "2023-10-10T14:48:24.733Z"
   },
   {
    "duration": 8,
    "start_time": "2023-10-10T14:48:24.763Z"
   },
   {
    "duration": 8,
    "start_time": "2023-10-10T14:48:24.773Z"
   },
   {
    "duration": 13,
    "start_time": "2023-10-10T14:48:24.782Z"
   },
   {
    "duration": 175,
    "start_time": "2023-10-10T14:48:24.796Z"
   },
   {
    "duration": 469,
    "start_time": "2023-10-10T14:48:24.972Z"
   },
   {
    "duration": 14,
    "start_time": "2023-10-10T14:48:25.451Z"
   },
   {
    "duration": 4,
    "start_time": "2023-10-10T14:48:25.467Z"
   },
   {
    "duration": 24,
    "start_time": "2023-10-10T14:48:25.472Z"
   },
   {
    "duration": 15,
    "start_time": "2023-10-10T14:48:25.498Z"
   },
   {
    "duration": 57,
    "start_time": "2023-10-10T14:48:25.515Z"
   },
   {
    "duration": 23,
    "start_time": "2023-10-10T14:48:25.574Z"
   },
   {
    "duration": 14,
    "start_time": "2023-10-10T14:48:25.599Z"
   },
   {
    "duration": 37,
    "start_time": "2023-10-10T14:48:25.615Z"
   },
   {
    "duration": 20,
    "start_time": "2023-10-10T14:48:25.661Z"
   },
   {
    "duration": 16,
    "start_time": "2023-10-10T14:48:25.683Z"
   },
   {
    "duration": 15,
    "start_time": "2023-10-10T14:48:25.701Z"
   },
   {
    "duration": 39,
    "start_time": "2023-10-10T14:48:25.722Z"
   },
   {
    "duration": 8,
    "start_time": "2023-10-10T14:48:25.762Z"
   },
   {
    "duration": 23,
    "start_time": "2023-10-10T14:48:25.772Z"
   },
   {
    "duration": 11,
    "start_time": "2023-10-10T14:48:25.796Z"
   },
   {
    "duration": 3,
    "start_time": "2023-10-10T14:48:25.808Z"
   },
   {
    "duration": 62,
    "start_time": "2023-10-10T14:48:25.813Z"
   },
   {
    "duration": 15,
    "start_time": "2023-10-10T14:48:25.877Z"
   },
   {
    "duration": 14,
    "start_time": "2023-10-10T14:48:25.893Z"
   },
   {
    "duration": 42,
    "start_time": "2023-10-10T14:48:25.909Z"
   },
   {
    "duration": 479,
    "start_time": "2023-10-10T14:48:25.953Z"
   },
   {
    "duration": 8,
    "start_time": "2023-10-10T14:48:26.433Z"
   },
   {
    "duration": 10,
    "start_time": "2023-10-10T14:48:26.443Z"
   },
   {
    "duration": 9,
    "start_time": "2023-10-10T14:48:26.455Z"
   },
   {
    "duration": 11,
    "start_time": "2023-10-10T14:48:26.465Z"
   },
   {
    "duration": 3,
    "start_time": "2023-10-10T14:48:26.477Z"
   },
   {
    "duration": 5,
    "start_time": "2023-10-10T14:48:26.481Z"
   },
   {
    "duration": 4,
    "start_time": "2023-10-10T14:48:26.487Z"
   },
   {
    "duration": 933,
    "start_time": "2023-10-10T14:48:26.493Z"
   },
   {
    "duration": 0,
    "start_time": "2023-10-10T14:48:27.428Z"
   },
   {
    "duration": 0,
    "start_time": "2023-10-10T14:48:27.430Z"
   },
   {
    "duration": 0,
    "start_time": "2023-10-10T14:48:27.431Z"
   },
   {
    "duration": 0,
    "start_time": "2023-10-10T14:48:27.439Z"
   },
   {
    "duration": 0,
    "start_time": "2023-10-10T14:48:27.439Z"
   },
   {
    "duration": 0,
    "start_time": "2023-10-10T14:48:27.440Z"
   },
   {
    "duration": 0,
    "start_time": "2023-10-10T14:48:27.441Z"
   },
   {
    "duration": 0,
    "start_time": "2023-10-10T14:48:27.444Z"
   },
   {
    "duration": 0,
    "start_time": "2023-10-10T14:48:27.445Z"
   },
   {
    "duration": 0,
    "start_time": "2023-10-10T14:48:27.445Z"
   },
   {
    "duration": 0,
    "start_time": "2023-10-10T14:48:27.446Z"
   },
   {
    "duration": 1,
    "start_time": "2023-10-10T14:48:27.446Z"
   },
   {
    "duration": 1200,
    "start_time": "2023-10-10T14:50:26.858Z"
   },
   {
    "duration": 1241,
    "start_time": "2023-10-13T07:47:04.070Z"
   },
   {
    "duration": 515,
    "start_time": "2023-10-13T07:47:05.313Z"
   },
   {
    "duration": 406,
    "start_time": "2023-10-13T07:47:05.830Z"
   },
   {
    "duration": 12,
    "start_time": "2023-10-13T07:47:06.238Z"
   },
   {
    "duration": 21,
    "start_time": "2023-10-13T07:47:06.252Z"
   },
   {
    "duration": 8,
    "start_time": "2023-10-13T07:47:06.275Z"
   },
   {
    "duration": 135,
    "start_time": "2023-10-13T07:47:06.285Z"
   },
   {
    "duration": 128,
    "start_time": "2023-10-13T07:47:06.422Z"
   },
   {
    "duration": 108,
    "start_time": "2023-10-13T07:47:06.552Z"
   },
   {
    "duration": 148,
    "start_time": "2023-10-13T07:47:06.661Z"
   },
   {
    "duration": 9,
    "start_time": "2023-10-13T07:47:06.811Z"
   },
   {
    "duration": 24,
    "start_time": "2023-10-13T07:47:06.821Z"
   },
   {
    "duration": 12,
    "start_time": "2023-10-13T07:47:06.846Z"
   },
   {
    "duration": 544,
    "start_time": "2023-10-13T07:47:06.860Z"
   },
   {
    "duration": 103,
    "start_time": "2023-10-13T07:47:07.405Z"
   },
   {
    "duration": 6,
    "start_time": "2023-10-13T07:47:07.509Z"
   },
   {
    "duration": 11,
    "start_time": "2023-10-13T07:47:07.516Z"
   },
   {
    "duration": 112,
    "start_time": "2023-10-13T07:47:07.529Z"
   },
   {
    "duration": 119,
    "start_time": "2023-10-13T07:47:07.642Z"
   },
   {
    "duration": 113,
    "start_time": "2023-10-13T07:47:07.762Z"
   },
   {
    "duration": 5,
    "start_time": "2023-10-13T07:47:07.877Z"
   },
   {
    "duration": 31,
    "start_time": "2023-10-13T07:47:07.883Z"
   },
   {
    "duration": 31,
    "start_time": "2023-10-13T07:47:07.916Z"
   },
   {
    "duration": 5,
    "start_time": "2023-10-13T07:47:07.948Z"
   },
   {
    "duration": 7,
    "start_time": "2023-10-13T07:47:07.954Z"
   },
   {
    "duration": 13,
    "start_time": "2023-10-13T07:47:07.962Z"
   },
   {
    "duration": 11,
    "start_time": "2023-10-13T07:47:07.976Z"
   },
   {
    "duration": 171,
    "start_time": "2023-10-13T07:47:07.989Z"
   },
   {
    "duration": 417,
    "start_time": "2023-10-13T07:47:08.162Z"
   },
   {
    "duration": 8,
    "start_time": "2023-10-13T07:47:08.581Z"
   },
   {
    "duration": 4,
    "start_time": "2023-10-13T07:47:08.590Z"
   },
   {
    "duration": 38,
    "start_time": "2023-10-13T07:47:08.595Z"
   },
   {
    "duration": 15,
    "start_time": "2023-10-13T07:47:08.635Z"
   },
   {
    "duration": 15,
    "start_time": "2023-10-13T07:47:08.651Z"
   },
   {
    "duration": 18,
    "start_time": "2023-10-13T07:47:08.667Z"
   },
   {
    "duration": 9,
    "start_time": "2023-10-13T07:47:08.687Z"
   },
   {
    "duration": 26,
    "start_time": "2023-10-13T07:47:08.697Z"
   },
   {
    "duration": 30,
    "start_time": "2023-10-13T07:47:08.725Z"
   },
   {
    "duration": 22,
    "start_time": "2023-10-13T07:47:08.756Z"
   },
   {
    "duration": 3,
    "start_time": "2023-10-13T07:47:08.779Z"
   },
   {
    "duration": 26,
    "start_time": "2023-10-13T07:47:08.786Z"
   },
   {
    "duration": 32,
    "start_time": "2023-10-13T07:47:08.813Z"
   },
   {
    "duration": 46,
    "start_time": "2023-10-13T07:47:08.847Z"
   },
   {
    "duration": 15,
    "start_time": "2023-10-13T07:47:08.894Z"
   },
   {
    "duration": 4,
    "start_time": "2023-10-13T07:47:08.910Z"
   },
   {
    "duration": 40,
    "start_time": "2023-10-13T07:47:08.916Z"
   },
   {
    "duration": 113,
    "start_time": "2023-10-13T07:47:08.958Z"
   },
   {
    "duration": 0,
    "start_time": "2023-10-13T07:47:09.074Z"
   },
   {
    "duration": 0,
    "start_time": "2023-10-13T07:47:09.075Z"
   },
   {
    "duration": 0,
    "start_time": "2023-10-13T07:47:09.076Z"
   },
   {
    "duration": 0,
    "start_time": "2023-10-13T07:47:09.077Z"
   },
   {
    "duration": 0,
    "start_time": "2023-10-13T07:47:09.078Z"
   },
   {
    "duration": 0,
    "start_time": "2023-10-13T07:47:09.079Z"
   },
   {
    "duration": 0,
    "start_time": "2023-10-13T07:47:09.081Z"
   },
   {
    "duration": 0,
    "start_time": "2023-10-13T07:47:09.082Z"
   },
   {
    "duration": 0,
    "start_time": "2023-10-13T07:47:09.083Z"
   },
   {
    "duration": 0,
    "start_time": "2023-10-13T07:47:09.085Z"
   },
   {
    "duration": 0,
    "start_time": "2023-10-13T07:47:09.085Z"
   },
   {
    "duration": 0,
    "start_time": "2023-10-13T07:47:09.087Z"
   },
   {
    "duration": 0,
    "start_time": "2023-10-13T07:47:09.088Z"
   },
   {
    "duration": 0,
    "start_time": "2023-10-13T07:47:09.089Z"
   },
   {
    "duration": 0,
    "start_time": "2023-10-13T07:47:09.090Z"
   },
   {
    "duration": 0,
    "start_time": "2023-10-13T07:47:09.092Z"
   },
   {
    "duration": 0,
    "start_time": "2023-10-13T07:47:09.093Z"
   },
   {
    "duration": 0,
    "start_time": "2023-10-13T07:47:09.095Z"
   },
   {
    "duration": 0,
    "start_time": "2023-10-13T07:47:09.096Z"
   },
   {
    "duration": 0,
    "start_time": "2023-10-13T07:47:09.097Z"
   },
   {
    "duration": 0,
    "start_time": "2023-10-13T07:47:09.098Z"
   },
   {
    "duration": 0,
    "start_time": "2023-10-13T07:47:09.140Z"
   },
   {
    "duration": 0,
    "start_time": "2023-10-13T07:47:09.141Z"
   },
   {
    "duration": 0,
    "start_time": "2023-10-13T07:47:09.142Z"
   },
   {
    "duration": 0,
    "start_time": "2023-10-13T07:47:09.143Z"
   },
   {
    "duration": 12,
    "start_time": "2023-10-13T07:47:50.995Z"
   },
   {
    "duration": 2,
    "start_time": "2023-10-13T07:47:55.421Z"
   },
   {
    "duration": 4,
    "start_time": "2023-10-13T07:47:55.486Z"
   },
   {
    "duration": 107,
    "start_time": "2023-10-13T07:47:55.542Z"
   },
   {
    "duration": 9,
    "start_time": "2023-10-13T07:47:55.651Z"
   },
   {
    "duration": 11,
    "start_time": "2023-10-13T07:47:55.662Z"
   },
   {
    "duration": 7,
    "start_time": "2023-10-13T07:47:55.696Z"
   },
   {
    "duration": 98,
    "start_time": "2023-10-13T07:47:55.704Z"
   },
   {
    "duration": 121,
    "start_time": "2023-10-13T07:47:55.803Z"
   },
   {
    "duration": 115,
    "start_time": "2023-10-13T07:47:55.926Z"
   },
   {
    "duration": 101,
    "start_time": "2023-10-13T07:47:56.042Z"
   },
   {
    "duration": 10,
    "start_time": "2023-10-13T07:47:56.145Z"
   },
   {
    "duration": 11,
    "start_time": "2023-10-13T07:47:56.156Z"
   },
   {
    "duration": 35,
    "start_time": "2023-10-13T07:47:56.169Z"
   },
   {
    "duration": 572,
    "start_time": "2023-10-13T07:47:56.207Z"
   },
   {
    "duration": 106,
    "start_time": "2023-10-13T07:47:56.780Z"
   },
   {
    "duration": 7,
    "start_time": "2023-10-13T07:47:56.887Z"
   },
   {
    "duration": 22,
    "start_time": "2023-10-13T07:47:56.895Z"
   },
   {
    "duration": 176,
    "start_time": "2023-10-13T07:47:56.919Z"
   },
   {
    "duration": 118,
    "start_time": "2023-10-13T07:47:57.097Z"
   },
   {
    "duration": 113,
    "start_time": "2023-10-13T07:47:57.216Z"
   },
   {
    "duration": 12,
    "start_time": "2023-10-13T07:47:57.330Z"
   },
   {
    "duration": 4,
    "start_time": "2023-10-13T07:47:57.343Z"
   },
   {
    "duration": 13,
    "start_time": "2023-10-13T07:47:57.349Z"
   },
   {
    "duration": 6,
    "start_time": "2023-10-13T07:47:57.363Z"
   },
   {
    "duration": 6,
    "start_time": "2023-10-13T07:47:57.370Z"
   },
   {
    "duration": 20,
    "start_time": "2023-10-13T07:47:57.377Z"
   },
   {
    "duration": 25,
    "start_time": "2023-10-13T07:47:57.398Z"
   },
   {
    "duration": 151,
    "start_time": "2023-10-13T07:47:57.424Z"
   },
   {
    "duration": 290,
    "start_time": "2023-10-13T07:47:57.578Z"
   },
   {
    "duration": 8,
    "start_time": "2023-10-13T07:47:57.869Z"
   },
   {
    "duration": 4,
    "start_time": "2023-10-13T07:47:57.878Z"
   },
   {
    "duration": 28,
    "start_time": "2023-10-13T07:47:57.884Z"
   },
   {
    "duration": 31,
    "start_time": "2023-10-13T07:47:57.913Z"
   },
   {
    "duration": 16,
    "start_time": "2023-10-13T07:47:57.946Z"
   },
   {
    "duration": 13,
    "start_time": "2023-10-13T07:47:57.963Z"
   },
   {
    "duration": 9,
    "start_time": "2023-10-13T07:47:57.978Z"
   },
   {
    "duration": 14,
    "start_time": "2023-10-13T07:47:57.989Z"
   },
   {
    "duration": 38,
    "start_time": "2023-10-13T07:47:58.004Z"
   },
   {
    "duration": 14,
    "start_time": "2023-10-13T07:47:58.044Z"
   },
   {
    "duration": 3,
    "start_time": "2023-10-13T07:47:58.059Z"
   },
   {
    "duration": 14,
    "start_time": "2023-10-13T07:47:58.063Z"
   },
   {
    "duration": 5,
    "start_time": "2023-10-13T07:47:58.078Z"
   },
   {
    "duration": 15,
    "start_time": "2023-10-13T07:47:58.084Z"
   },
   {
    "duration": 14,
    "start_time": "2023-10-13T07:47:58.100Z"
   },
   {
    "duration": 24,
    "start_time": "2023-10-13T07:47:58.116Z"
   },
   {
    "duration": 43,
    "start_time": "2023-10-13T07:47:58.142Z"
   },
   {
    "duration": 11,
    "start_time": "2023-10-13T07:47:58.186Z"
   },
   {
    "duration": 13,
    "start_time": "2023-10-13T07:47:58.198Z"
   },
   {
    "duration": 11,
    "start_time": "2023-10-13T07:47:58.212Z"
   },
   {
    "duration": 36,
    "start_time": "2023-10-13T07:47:58.224Z"
   },
   {
    "duration": 495,
    "start_time": "2023-10-13T07:47:58.261Z"
   },
   {
    "duration": 8,
    "start_time": "2023-10-13T07:47:58.757Z"
   },
   {
    "duration": 0,
    "start_time": "2023-10-13T07:47:58.766Z"
   },
   {
    "duration": 0,
    "start_time": "2023-10-13T07:47:58.767Z"
   },
   {
    "duration": 0,
    "start_time": "2023-10-13T07:47:58.767Z"
   },
   {
    "duration": 0,
    "start_time": "2023-10-13T07:47:58.768Z"
   },
   {
    "duration": 0,
    "start_time": "2023-10-13T07:47:58.769Z"
   },
   {
    "duration": 0,
    "start_time": "2023-10-13T07:47:58.770Z"
   },
   {
    "duration": 0,
    "start_time": "2023-10-13T07:47:58.771Z"
   },
   {
    "duration": 0,
    "start_time": "2023-10-13T07:47:58.772Z"
   },
   {
    "duration": 0,
    "start_time": "2023-10-13T07:47:58.772Z"
   },
   {
    "duration": 0,
    "start_time": "2023-10-13T07:47:58.774Z"
   },
   {
    "duration": 0,
    "start_time": "2023-10-13T07:47:58.775Z"
   },
   {
    "duration": 0,
    "start_time": "2023-10-13T07:47:58.776Z"
   },
   {
    "duration": 0,
    "start_time": "2023-10-13T07:47:58.777Z"
   },
   {
    "duration": 0,
    "start_time": "2023-10-13T07:47:58.779Z"
   },
   {
    "duration": 0,
    "start_time": "2023-10-13T07:47:58.780Z"
   },
   {
    "duration": 0,
    "start_time": "2023-10-13T07:47:58.781Z"
   },
   {
    "duration": 0,
    "start_time": "2023-10-13T07:47:58.782Z"
   },
   {
    "duration": 0,
    "start_time": "2023-10-13T07:47:58.783Z"
   },
   {
    "duration": 0,
    "start_time": "2023-10-13T07:47:58.785Z"
   },
   {
    "duration": 0,
    "start_time": "2023-10-13T07:47:58.786Z"
   },
   {
    "duration": 3,
    "start_time": "2023-10-13T08:01:43.525Z"
   },
   {
    "duration": 4,
    "start_time": "2023-10-13T08:01:43.529Z"
   },
   {
    "duration": 111,
    "start_time": "2023-10-13T08:01:43.535Z"
   },
   {
    "duration": 10,
    "start_time": "2023-10-13T08:01:43.647Z"
   },
   {
    "duration": 14,
    "start_time": "2023-10-13T08:01:43.658Z"
   },
   {
    "duration": 6,
    "start_time": "2023-10-13T08:01:43.674Z"
   },
   {
    "duration": 113,
    "start_time": "2023-10-13T08:01:43.681Z"
   },
   {
    "duration": 130,
    "start_time": "2023-10-13T08:01:43.795Z"
   },
   {
    "duration": 113,
    "start_time": "2023-10-13T08:01:43.927Z"
   },
   {
    "duration": 99,
    "start_time": "2023-10-13T08:01:44.042Z"
   },
   {
    "duration": 10,
    "start_time": "2023-10-13T08:01:44.142Z"
   },
   {
    "duration": 16,
    "start_time": "2023-10-13T08:01:44.154Z"
   },
   {
    "duration": 14,
    "start_time": "2023-10-13T08:01:44.171Z"
   },
   {
    "duration": 618,
    "start_time": "2023-10-13T08:01:44.186Z"
   },
   {
    "duration": 102,
    "start_time": "2023-10-13T08:01:44.806Z"
   },
   {
    "duration": 6,
    "start_time": "2023-10-13T08:01:44.910Z"
   },
   {
    "duration": 43,
    "start_time": "2023-10-13T08:01:44.917Z"
   },
   {
    "duration": 99,
    "start_time": "2023-10-13T08:01:44.962Z"
   },
   {
    "duration": 121,
    "start_time": "2023-10-13T08:01:45.062Z"
   },
   {
    "duration": 120,
    "start_time": "2023-10-13T08:01:45.185Z"
   },
   {
    "duration": 6,
    "start_time": "2023-10-13T08:01:45.307Z"
   },
   {
    "duration": 15,
    "start_time": "2023-10-13T08:01:45.314Z"
   },
   {
    "duration": 25,
    "start_time": "2023-10-13T08:01:45.331Z"
   },
   {
    "duration": 19,
    "start_time": "2023-10-13T08:01:45.358Z"
   },
   {
    "duration": 35,
    "start_time": "2023-10-13T08:01:45.378Z"
   },
   {
    "duration": 25,
    "start_time": "2023-10-13T08:01:45.414Z"
   },
   {
    "duration": 17,
    "start_time": "2023-10-13T08:01:45.441Z"
   },
   {
    "duration": 170,
    "start_time": "2023-10-13T08:01:45.459Z"
   },
   {
    "duration": 277,
    "start_time": "2023-10-13T08:01:45.631Z"
   },
   {
    "duration": 6,
    "start_time": "2023-10-13T08:01:45.910Z"
   },
   {
    "duration": 8,
    "start_time": "2023-10-13T08:01:45.918Z"
   },
   {
    "duration": 32,
    "start_time": "2023-10-13T08:01:45.927Z"
   },
   {
    "duration": 13,
    "start_time": "2023-10-13T08:01:45.963Z"
   },
   {
    "duration": 28,
    "start_time": "2023-10-13T08:01:45.978Z"
   },
   {
    "duration": 21,
    "start_time": "2023-10-13T08:01:46.007Z"
   },
   {
    "duration": 38,
    "start_time": "2023-10-13T08:01:46.030Z"
   },
   {
    "duration": 16,
    "start_time": "2023-10-13T08:01:46.070Z"
   },
   {
    "duration": 12,
    "start_time": "2023-10-13T08:01:46.088Z"
   },
   {
    "duration": 15,
    "start_time": "2023-10-13T08:01:46.102Z"
   },
   {
    "duration": 2,
    "start_time": "2023-10-13T08:01:46.119Z"
   },
   {
    "duration": 15,
    "start_time": "2023-10-13T08:01:46.123Z"
   },
   {
    "duration": 14,
    "start_time": "2023-10-13T08:01:46.139Z"
   },
   {
    "duration": 23,
    "start_time": "2023-10-13T08:01:46.154Z"
   },
   {
    "duration": 9,
    "start_time": "2023-10-13T08:01:46.178Z"
   },
   {
    "duration": 8,
    "start_time": "2023-10-13T08:01:46.188Z"
   },
   {
    "duration": 57,
    "start_time": "2023-10-13T08:01:46.198Z"
   },
   {
    "duration": 12,
    "start_time": "2023-10-13T08:01:46.257Z"
   },
   {
    "duration": 12,
    "start_time": "2023-10-13T08:01:46.271Z"
   },
   {
    "duration": 0,
    "start_time": "2023-10-13T08:01:46.284Z"
   },
   {
    "duration": 0,
    "start_time": "2023-10-13T08:01:46.286Z"
   },
   {
    "duration": 0,
    "start_time": "2023-10-13T08:01:46.287Z"
   },
   {
    "duration": 0,
    "start_time": "2023-10-13T08:01:46.288Z"
   },
   {
    "duration": 0,
    "start_time": "2023-10-13T08:01:46.289Z"
   },
   {
    "duration": 0,
    "start_time": "2023-10-13T08:01:46.290Z"
   },
   {
    "duration": 0,
    "start_time": "2023-10-13T08:01:46.291Z"
   },
   {
    "duration": 0,
    "start_time": "2023-10-13T08:01:46.292Z"
   },
   {
    "duration": 0,
    "start_time": "2023-10-13T08:01:46.293Z"
   },
   {
    "duration": 0,
    "start_time": "2023-10-13T08:01:46.294Z"
   },
   {
    "duration": 0,
    "start_time": "2023-10-13T08:01:46.294Z"
   },
   {
    "duration": 0,
    "start_time": "2023-10-13T08:01:46.295Z"
   },
   {
    "duration": 0,
    "start_time": "2023-10-13T08:01:46.296Z"
   },
   {
    "duration": 0,
    "start_time": "2023-10-13T08:01:46.297Z"
   },
   {
    "duration": 0,
    "start_time": "2023-10-13T08:01:46.297Z"
   },
   {
    "duration": 0,
    "start_time": "2023-10-13T08:01:46.298Z"
   },
   {
    "duration": 0,
    "start_time": "2023-10-13T08:01:46.299Z"
   },
   {
    "duration": 0,
    "start_time": "2023-10-13T08:01:46.299Z"
   },
   {
    "duration": 0,
    "start_time": "2023-10-13T08:01:46.300Z"
   },
   {
    "duration": 0,
    "start_time": "2023-10-13T08:01:46.301Z"
   },
   {
    "duration": 0,
    "start_time": "2023-10-13T08:01:46.302Z"
   },
   {
    "duration": 0,
    "start_time": "2023-10-13T08:01:46.340Z"
   },
   {
    "duration": 0,
    "start_time": "2023-10-13T08:01:46.341Z"
   },
   {
    "duration": 0,
    "start_time": "2023-10-13T08:01:46.342Z"
   },
   {
    "duration": 0,
    "start_time": "2023-10-13T08:01:46.343Z"
   },
   {
    "duration": 12,
    "start_time": "2023-10-13T08:03:33.111Z"
   },
   {
    "duration": 13,
    "start_time": "2023-10-13T08:03:36.179Z"
   },
   {
    "duration": 12,
    "start_time": "2023-10-13T08:03:42.067Z"
   },
   {
    "duration": 26,
    "start_time": "2023-10-13T08:03:51.220Z"
   },
   {
    "duration": 505,
    "start_time": "2023-10-13T08:03:58.118Z"
   },
   {
    "duration": 7,
    "start_time": "2023-10-13T08:09:34.003Z"
   },
   {
    "duration": 5,
    "start_time": "2023-10-13T08:12:20.195Z"
   },
   {
    "duration": 11,
    "start_time": "2023-10-13T08:12:25.475Z"
   },
   {
    "duration": 24,
    "start_time": "2023-10-13T08:12:28.804Z"
   },
   {
    "duration": 4,
    "start_time": "2023-10-13T08:16:43.400Z"
   },
   {
    "duration": 12,
    "start_time": "2023-10-13T08:23:33.730Z"
   },
   {
    "duration": 3,
    "start_time": "2023-10-13T08:36:13.976Z"
   },
   {
    "duration": 76,
    "start_time": "2023-10-13T08:36:13.980Z"
   },
   {
    "duration": 131,
    "start_time": "2023-10-13T08:36:14.057Z"
   },
   {
    "duration": 10,
    "start_time": "2023-10-13T08:36:14.189Z"
   },
   {
    "duration": 52,
    "start_time": "2023-10-13T08:36:14.201Z"
   },
   {
    "duration": 26,
    "start_time": "2023-10-13T08:36:14.254Z"
   },
   {
    "duration": 113,
    "start_time": "2023-10-13T08:36:14.281Z"
   },
   {
    "duration": 120,
    "start_time": "2023-10-13T08:36:14.396Z"
   },
   {
    "duration": 224,
    "start_time": "2023-10-13T08:36:14.517Z"
   },
   {
    "duration": 86,
    "start_time": "2023-10-13T08:36:14.742Z"
   },
   {
    "duration": 17,
    "start_time": "2023-10-13T08:36:14.829Z"
   },
   {
    "duration": 9,
    "start_time": "2023-10-13T08:36:14.847Z"
   },
   {
    "duration": 29,
    "start_time": "2023-10-13T08:36:14.858Z"
   },
   {
    "duration": 553,
    "start_time": "2023-10-13T08:36:14.889Z"
   },
   {
    "duration": 102,
    "start_time": "2023-10-13T08:36:15.444Z"
   },
   {
    "duration": 7,
    "start_time": "2023-10-13T08:36:15.548Z"
   },
   {
    "duration": 26,
    "start_time": "2023-10-13T08:36:15.556Z"
   },
   {
    "duration": 115,
    "start_time": "2023-10-13T08:36:15.583Z"
   },
   {
    "duration": 113,
    "start_time": "2023-10-13T08:36:15.699Z"
   },
   {
    "duration": 109,
    "start_time": "2023-10-13T08:36:15.814Z"
   },
   {
    "duration": 16,
    "start_time": "2023-10-13T08:36:15.924Z"
   },
   {
    "duration": 26,
    "start_time": "2023-10-13T08:36:15.941Z"
   },
   {
    "duration": 24,
    "start_time": "2023-10-13T08:36:15.969Z"
   },
   {
    "duration": 14,
    "start_time": "2023-10-13T08:36:15.994Z"
   },
   {
    "duration": 45,
    "start_time": "2023-10-13T08:36:16.009Z"
   },
   {
    "duration": 24,
    "start_time": "2023-10-13T08:36:16.055Z"
   },
   {
    "duration": 40,
    "start_time": "2023-10-13T08:36:16.080Z"
   },
   {
    "duration": 187,
    "start_time": "2023-10-13T08:36:16.122Z"
   },
   {
    "duration": 290,
    "start_time": "2023-10-13T08:36:16.311Z"
   },
   {
    "duration": 8,
    "start_time": "2023-10-13T08:36:16.602Z"
   },
   {
    "duration": 5,
    "start_time": "2023-10-13T08:36:16.611Z"
   },
   {
    "duration": 40,
    "start_time": "2023-10-13T08:36:16.617Z"
   },
   {
    "duration": 15,
    "start_time": "2023-10-13T08:36:16.659Z"
   },
   {
    "duration": 14,
    "start_time": "2023-10-13T08:36:16.675Z"
   },
   {
    "duration": 18,
    "start_time": "2023-10-13T08:36:16.690Z"
   },
   {
    "duration": 33,
    "start_time": "2023-10-13T08:36:16.710Z"
   },
   {
    "duration": 15,
    "start_time": "2023-10-13T08:36:16.744Z"
   },
   {
    "duration": 11,
    "start_time": "2023-10-13T08:36:16.761Z"
   },
   {
    "duration": 15,
    "start_time": "2023-10-13T08:36:16.773Z"
   },
   {
    "duration": 2,
    "start_time": "2023-10-13T08:36:16.789Z"
   },
   {
    "duration": 46,
    "start_time": "2023-10-13T08:36:16.796Z"
   },
   {
    "duration": 5,
    "start_time": "2023-10-13T08:36:16.844Z"
   },
   {
    "duration": 27,
    "start_time": "2023-10-13T08:36:16.851Z"
   },
   {
    "duration": 9,
    "start_time": "2023-10-13T08:36:16.880Z"
   },
   {
    "duration": 4,
    "start_time": "2023-10-13T08:36:16.891Z"
   },
   {
    "duration": 45,
    "start_time": "2023-10-13T08:36:16.896Z"
   },
   {
    "duration": 11,
    "start_time": "2023-10-13T08:36:16.943Z"
   },
   {
    "duration": 26,
    "start_time": "2023-10-13T08:36:16.956Z"
   },
   {
    "duration": 13,
    "start_time": "2023-10-13T08:36:16.984Z"
   },
   {
    "duration": 21,
    "start_time": "2023-10-13T08:36:16.999Z"
   },
   {
    "duration": 33,
    "start_time": "2023-10-13T08:36:17.022Z"
   },
   {
    "duration": 490,
    "start_time": "2023-10-13T08:36:17.057Z"
   },
   {
    "duration": 12,
    "start_time": "2023-10-13T08:36:17.549Z"
   },
   {
    "duration": 8,
    "start_time": "2023-10-13T08:36:17.563Z"
   },
   {
    "duration": 10,
    "start_time": "2023-10-13T08:36:17.572Z"
   },
   {
    "duration": 11,
    "start_time": "2023-10-13T08:36:17.584Z"
   },
   {
    "duration": 16,
    "start_time": "2023-10-13T08:36:17.596Z"
   },
   {
    "duration": 8,
    "start_time": "2023-10-13T08:36:17.614Z"
   },
   {
    "duration": 24,
    "start_time": "2023-10-13T08:36:17.624Z"
   },
   {
    "duration": 21,
    "start_time": "2023-10-13T08:36:17.649Z"
   },
   {
    "duration": 32376,
    "start_time": "2023-10-13T08:36:17.672Z"
   },
   {
    "duration": 25074,
    "start_time": "2023-10-13T08:36:50.050Z"
   },
   {
    "duration": 258715,
    "start_time": "2023-10-13T08:37:15.125Z"
   },
   {
    "duration": 3,
    "start_time": "2023-10-13T08:41:33.842Z"
   },
   {
    "duration": 5,
    "start_time": "2023-10-13T08:41:33.846Z"
   },
   {
    "duration": 115502,
    "start_time": "2023-10-13T08:41:33.852Z"
   },
   {
    "duration": 84,
    "start_time": "2023-10-13T08:43:29.356Z"
   },
   {
    "duration": 27,
    "start_time": "2023-10-13T08:43:29.442Z"
   },
   {
    "duration": 1413,
    "start_time": "2023-10-13T08:43:29.470Z"
   },
   {
    "duration": 3,
    "start_time": "2023-10-13T08:43:30.884Z"
   },
   {
    "duration": 221,
    "start_time": "2023-10-13T08:43:30.888Z"
   },
   {
    "duration": 228,
    "start_time": "2023-10-13T08:43:31.111Z"
   },
   {
    "duration": 399,
    "start_time": "2023-10-13T08:43:31.340Z"
   },
   {
    "duration": 4,
    "start_time": "2023-10-13T08:51:24.606Z"
   },
   {
    "duration": 99,
    "start_time": "2023-10-13T09:05:13.640Z"
   },
   {
    "duration": 9,
    "start_time": "2023-10-13T09:06:16.545Z"
   },
   {
    "duration": 1272,
    "start_time": "2023-10-13T09:07:40.144Z"
   },
   {
    "duration": 339,
    "start_time": "2023-10-13T09:07:41.418Z"
   },
   {
    "duration": 108,
    "start_time": "2023-10-13T09:07:41.759Z"
   },
   {
    "duration": 14,
    "start_time": "2023-10-13T09:07:41.869Z"
   },
   {
    "duration": 47,
    "start_time": "2023-10-13T09:07:41.886Z"
   },
   {
    "duration": 8,
    "start_time": "2023-10-13T09:07:41.934Z"
   },
   {
    "duration": 116,
    "start_time": "2023-10-13T09:07:41.943Z"
   },
   {
    "duration": 129,
    "start_time": "2023-10-13T09:07:42.060Z"
   },
   {
    "duration": 110,
    "start_time": "2023-10-13T09:07:42.191Z"
   },
   {
    "duration": 186,
    "start_time": "2023-10-13T09:07:42.302Z"
   },
   {
    "duration": 14,
    "start_time": "2023-10-13T09:07:42.489Z"
   },
   {
    "duration": 19,
    "start_time": "2023-10-13T09:07:42.505Z"
   },
   {
    "duration": 13,
    "start_time": "2023-10-13T09:07:42.541Z"
   },
   {
    "duration": 561,
    "start_time": "2023-10-13T09:07:42.558Z"
   },
   {
    "duration": 104,
    "start_time": "2023-10-13T09:07:43.120Z"
   },
   {
    "duration": 14,
    "start_time": "2023-10-13T09:07:43.226Z"
   },
   {
    "duration": 8,
    "start_time": "2023-10-13T09:07:43.242Z"
   },
   {
    "duration": 113,
    "start_time": "2023-10-13T09:07:43.252Z"
   },
   {
    "duration": 133,
    "start_time": "2023-10-13T09:07:43.367Z"
   },
   {
    "duration": 110,
    "start_time": "2023-10-13T09:07:43.501Z"
   },
   {
    "duration": 6,
    "start_time": "2023-10-13T09:07:43.613Z"
   },
   {
    "duration": 20,
    "start_time": "2023-10-13T09:07:43.620Z"
   },
   {
    "duration": 20,
    "start_time": "2023-10-13T09:07:43.641Z"
   },
   {
    "duration": 4,
    "start_time": "2023-10-13T09:07:43.663Z"
   },
   {
    "duration": 48,
    "start_time": "2023-10-13T09:07:43.668Z"
   },
   {
    "duration": 21,
    "start_time": "2023-10-13T09:07:43.718Z"
   },
   {
    "duration": 12,
    "start_time": "2023-10-13T09:07:43.740Z"
   },
   {
    "duration": 174,
    "start_time": "2023-10-13T09:07:43.753Z"
   },
   {
    "duration": 446,
    "start_time": "2023-10-13T09:07:43.928Z"
   },
   {
    "duration": 8,
    "start_time": "2023-10-13T09:07:44.375Z"
   },
   {
    "duration": 14,
    "start_time": "2023-10-13T09:07:44.384Z"
   },
   {
    "duration": 25,
    "start_time": "2023-10-13T09:07:44.400Z"
   },
   {
    "duration": 23,
    "start_time": "2023-10-13T09:07:44.426Z"
   },
   {
    "duration": 23,
    "start_time": "2023-10-13T09:07:44.450Z"
   },
   {
    "duration": 26,
    "start_time": "2023-10-13T09:07:44.474Z"
   },
   {
    "duration": 10,
    "start_time": "2023-10-13T09:07:44.502Z"
   },
   {
    "duration": 17,
    "start_time": "2023-10-13T09:07:44.514Z"
   },
   {
    "duration": 13,
    "start_time": "2023-10-13T09:07:44.539Z"
   },
   {
    "duration": 47,
    "start_time": "2023-10-13T09:07:44.553Z"
   },
   {
    "duration": 10,
    "start_time": "2023-10-13T09:07:44.601Z"
   },
   {
    "duration": 27,
    "start_time": "2023-10-13T09:07:44.615Z"
   },
   {
    "duration": 12,
    "start_time": "2023-10-13T09:07:44.643Z"
   },
   {
    "duration": 29,
    "start_time": "2023-10-13T09:07:44.656Z"
   },
   {
    "duration": 9,
    "start_time": "2023-10-13T09:07:44.687Z"
   },
   {
    "duration": 4,
    "start_time": "2023-10-13T09:07:44.697Z"
   },
   {
    "duration": 33,
    "start_time": "2023-10-13T09:07:44.702Z"
   },
   {
    "duration": 11,
    "start_time": "2023-10-13T09:07:44.737Z"
   },
   {
    "duration": 32,
    "start_time": "2023-10-13T09:07:44.749Z"
   },
   {
    "duration": 16,
    "start_time": "2023-10-13T09:07:44.783Z"
   },
   {
    "duration": 47,
    "start_time": "2023-10-13T09:07:44.800Z"
   },
   {
    "duration": 33,
    "start_time": "2023-10-13T09:07:44.849Z"
   },
   {
    "duration": 532,
    "start_time": "2023-10-13T09:07:44.883Z"
   },
   {
    "duration": 11,
    "start_time": "2023-10-13T09:07:45.416Z"
   },
   {
    "duration": 11,
    "start_time": "2023-10-13T09:07:45.428Z"
   },
   {
    "duration": 14,
    "start_time": "2023-10-13T09:07:45.441Z"
   },
   {
    "duration": 21,
    "start_time": "2023-10-13T09:07:45.457Z"
   },
   {
    "duration": 24,
    "start_time": "2023-10-13T09:07:45.479Z"
   },
   {
    "duration": 5,
    "start_time": "2023-10-13T09:07:45.505Z"
   },
   {
    "duration": 32,
    "start_time": "2023-10-13T09:07:45.511Z"
   },
   {
    "duration": 19,
    "start_time": "2023-10-13T09:07:45.544Z"
   },
   {
    "duration": 14,
    "start_time": "2023-10-13T09:07:45.564Z"
   },
   {
    "duration": 32564,
    "start_time": "2023-10-13T09:07:45.579Z"
   },
   {
    "duration": 26401,
    "start_time": "2023-10-13T09:08:18.145Z"
   },
   {
    "duration": 256578,
    "start_time": "2023-10-13T09:08:44.547Z"
   },
   {
    "duration": 3,
    "start_time": "2023-10-13T09:13:01.127Z"
   },
   {
    "duration": 42,
    "start_time": "2023-10-13T09:13:01.132Z"
   },
   {
    "duration": 113465,
    "start_time": "2023-10-13T09:13:01.175Z"
   },
   {
    "duration": 4,
    "start_time": "2023-10-13T09:14:54.642Z"
   },
   {
    "duration": 10,
    "start_time": "2023-10-13T09:14:54.647Z"
   },
   {
    "duration": 1320,
    "start_time": "2023-10-13T09:14:54.659Z"
   },
   {
    "duration": 3,
    "start_time": "2023-10-13T09:14:55.980Z"
   },
   {
    "duration": 239,
    "start_time": "2023-10-13T09:14:55.984Z"
   },
   {
    "duration": 112,
    "start_time": "2023-10-13T09:14:56.225Z"
   },
   {
    "duration": 395,
    "start_time": "2023-10-13T09:14:56.339Z"
   },
   {
    "duration": 115,
    "start_time": "2023-10-13T09:14:56.739Z"
   }
  ],
  "kernelspec": {
   "display_name": "Python 3 (ipykernel)",
   "language": "python",
   "name": "python3"
  },
  "language_info": {
   "codemirror_mode": {
    "name": "ipython",
    "version": 3
   },
   "file_extension": ".py",
   "mimetype": "text/x-python",
   "name": "python",
   "nbconvert_exporter": "python",
   "pygments_lexer": "ipython3",
   "version": "3.9.5"
  },
  "toc": {
   "base_numbering": 1,
   "nav_menu": {},
   "number_sections": true,
   "sideBar": true,
   "skip_h1_title": true,
   "title_cell": "Table of Contents",
   "title_sidebar": "Contents",
   "toc_cell": false,
   "toc_position": {},
   "toc_section_display": true,
   "toc_window_display": false
  }
 },
 "nbformat": 4,
 "nbformat_minor": 5
}
